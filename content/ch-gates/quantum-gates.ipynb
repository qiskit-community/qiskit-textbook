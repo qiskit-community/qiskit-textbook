{
 "cells": [
  {
   "cell_type": "markdown",
   "metadata": {},
   "source": [
    "# Quantum Gates"
   ]
  },
  {
   "cell_type": "code",
   "execution_count": 1,
   "metadata": {},
   "outputs": [],
   "source": [
    "from qiskit import *"
   ]
  },
  {
   "cell_type": "markdown",
   "metadata": {},
   "source": [
    "To manipulate an input state we need to apply the basic operations of quantum computing. These are known as quantum gates. Here we'll give an introduction to some of the most fundamental gates in quantum computing. Most of those we'll be looking at act only on a single qubit. This means that their actions can be understood in terms of the Bloch sphere.\n",
    "\n",
    "\n",
    "### The Pauli operators\n",
    "\n",
    "The simplest quantum gates are the Paulis: $X$, $Y$ and $Z$. Their action is to perform a half rotation of the Bloch sphere around the x, y and z axes. They therefore have effects similar to the classical NOT gate or bit-flip. Specifically, the action of the $X$ gate on the states $|0\\rangle$ and $|1\\rangle$ is\n",
    "\n",
    "$$\n",
    "X |0\\rangle = |1\\rangle,\\\\\\\\ X |1\\rangle = |0\\rangle.\n",
    "$$\n",
    "\n",
    "The $Z$ gate has a similar effect on the states $|+\\rangle$ and $|-\\rangle$:\n",
    "\n",
    "$$\n",
    "Z |+\\rangle = |-\\rangle, \\\\\\\\ Z |-\\rangle = |+\\rangle.\n",
    "$$\n",
    "\n",
    "These gates are implemented in Qiskit as follows (assuming a circuit named `qc`).\n",
    "\n",
    "```python\n",
    "qc.x(0) # x on qubit 0\n",
    "qc.y(0) # y on qubit 0\n",
    "qc.z(0) # z on qubit 0\n",
    "```\n",
    "\n",
    "The matrix representations of these gates have already been shown in a previous section.\n",
    "\n",
    "$$\n",
    "X= \\begin{pmatrix} 0&1 \\\\\\\\ 1&0 \\end{pmatrix}\\\\\\\\\n",
    "Y= \\begin{pmatrix} 0&-i \\\\\\\\ i&0 \\end{pmatrix}\\\\\\\\\n",
    "Z= \\begin{pmatrix} 1&0 \\\\\\\\ 0&-1 \\end{pmatrix}\n",
    "$$\n",
    "\n",
    "There, their job was to help us make calculations regarding measurements. But since these matrices are unitary, and therefore define a reversible quantum operation, this additional interpretation of them as gates is also possible.\n",
    "\n",
    "Note that here we referred to these gates as $X$, $Y$ and $Z$ and `x`, `y` and `z`, depending on whether we were talking about their matrix representation or the way they are written in Qiskit. Typically we will use the style of $X$, $Y$ and $Z$ when referring to gates in text or equations, and `x`, `y` and `z` when writing Qiskit code."
   ]
  },
  {
   "cell_type": "markdown",
   "metadata": {},
   "source": [
    "### Hadamard and S\n",
    "\n",
    "The Hadamard gate is one that we've already used. It's a key component in performing an x measurement:\n",
    "\n",
    "```python\n",
    "measure_x = QuantumCircuit(1,1)\n",
    "measure_x.h(0);\n",
    "measure_x.measure(0,0);\n",
    "```\n",
    "\n",
    "Like the Paulis, the Hadamard is also a half rotation of the Bloch sphere. The difference is that it rotates around an axis located halfway between x and z. This gives it the effect of rotating states that point along the z axis to those pointing along x, and vice versa.\n",
    "\n",
    "$$\n",
    "H |0\\rangle = |+\\rangle, \\, \\, \\, \\, H |1\\rangle = |-\\rangle,\\\\\\\\\n",
    "H |+\\rangle = |0\\rangle, \\, \\, \\, \\, H |-\\rangle = |1\\rangle.\n",
    "$$\n",
    "\n",
    "This effect makes it an essential part of making x measurements, since the hardware behind quantum computing typically only allows the z measurement to be performed directly. By moving x basis information to the z basis, it allows an indirect measurement of x.\n",
    "\n",
    "The property that $H |0\\rangle = |+\\rangle $ also makes the Hadamard our primary means of generating superposition states. Its matrix form is\n",
    "\n",
    "$$\n",
    "H = \\frac{1}{\\sqrt{2}} \\begin{pmatrix} 1&1 \\\\\\\\ 1&-1 \\end{pmatrix}.\n",
    "$$\n",
    "\n",
    "The $S$ and $S^\\dagger$ gates have a similar role to play in quantum computation.\n",
    "\n",
    "```python\n",
    "qc.s(0) # s gate on qubit 0\n",
    "qc.sdg(0) # s† on qubit 0\n",
    "```\n",
    "\n",
    "They are quarter turns of the Bloch sphere around the z axis, and so can be regarded as the two possible square roots of the $Z$ gate,\n",
    "\n",
    "$$\n",
    "S = \\begin{pmatrix} 1&0 \\\\\\\\ 0&i \\end{pmatrix}, \\, \\, \\, \\, S^\\dagger = \\begin{pmatrix} 1&0 \\\\\\\\ 0&-i \\end{pmatrix}.\n",
    "$$\n",
    "\n",
    "The effect of these gates is to rotate between the states of the x and y bases.\n",
    "\n",
    "$$\n",
    "S |+\\rangle = |\\circlearrowright\\rangle, \\, \\, \\, \\, S |-\\rangle = |\\circlearrowleft\\rangle,\\\\\\\\\n",
    "S^\\dagger |\\circlearrowright\\rangle = |+\\rangle, \\, \\, \\, \\, S^\\dagger |\\circlearrowleft\\rangle = |-\\rangle.\n",
    "$$\n",
    "\n",
    "They are therefore used as part of y measurements.\n",
    "\n",
    "```python\n",
    "measure_y = QuantumCircuit(1,1)\n",
    "measure_y.sdg(0)\n",
    "measure_y.h(0)\n",
    "measure_y.measure(0,0);\n",
    "```\n",
    "\n",
    "The $H$, $S$ and $S^\\dagger$ gates, along with the Paulis, form the so-called 'Clifford group' for a single qubit, which will be discussed more in later sections. These gates are extremely useful for many tasks in making and manipulating superpositions, as well as facilitating different kinds of measurements. But to unlock the full potential of qubits, we need the next set of gates.\n"
   ]
  },
  {
   "cell_type": "markdown",
   "metadata": {},
   "source": [
    "### Other single-qubit gates\n",
    "\n",
    "We've already seen the $X$, $Y$ and $Z$ gates, which are rotations around the x , y and z axes by a specific angle. More generally we can extend this concept to rotations by an arbitrary angle $\\theta$. This gives us the gates $R_x(\\theta)$, $R_y(\\theta)$ and $R_z(\\theta)$. The angle is expressed in radians, so the Pauli gates correspond to $\\theta=\\pi$ . Their square roots require half this angle, $\\theta=\\pm \\pi/2$, and so on.\n",
    "\n",
    "In Qasm, these rotations can be implemented with `rx`, `ry`, and `rz` as follows.\n",
    "\n",
    "```python\n",
    "qc.rx(theta,0) # rx rotation on qubit 0\n",
    "qc.ry(theta,0) # ry rotation on qubit 0\n",
    "qc.rz(theta,0) # rz rotation on qubit 0\n",
    "```\n",
    "\n",
    "Two specific examples of $R_z(\\theta)$ have their own names: those for $\\theta=\\pm \\pi/4$. These are the square roots of $S$, and are known as $T$ and $T^\\dagger$.\n",
    "\n",
    "```python\n",
    "qc.t(0) # t gate on qubit 0\n",
    "qc.tdg(0) # t† on qubit 1\n",
    "```\n",
    "\n",
    "Their matrix form is\n",
    "\n",
    "$$\n",
    "T = \\begin{pmatrix} 1&0 \\\\\\\\ 0&e^{i\\pi/4}\\end{pmatrix}, \\, \\, \\, \\, T^\\dagger = \\begin{pmatrix} 1&0 \\\\\\\\ 0&e^{-i\\pi/4} \\end{pmatrix}.\n",
    "$$\n",
    "\n",
    "\n",
    "All single-qubit operations are compiled down to gates known as $U_1$ , $U_2$ and $U_3$ before running on real IBM quantum hardware. For that reason they are sometimes called the _physical gates_. Let's have a more detailed look at them. The most general is\n",
    "\n",
    "$$\n",
    "U_3(\\theta,\\phi,\\lambda) = \\begin{pmatrix} \\cos(\\theta/2) & -e^{i\\lambda}\\sin(\\theta/2) \\\\\\\\ e^{i\\phi}\\sin(\\theta/2) \n",
    "& e^{i\\lambda+i\\phi}\\cos(\\theta/2) \\end{pmatrix}.\n",
    "$$\n",
    "\n",
    "This has the effect of rotating a qubit in the initial $|0\\rangle$ state to one with an arbitrary superposition and relative phase:\n",
    "\n",
    "$$\n",
    "U_3|0\\rangle = \\cos(\\theta/2)|0\\rangle + \\sin(\\theta/2)e^{i\\phi}|1\\rangle.\n",
    "$$\n",
    "\n",
    "The $U_1$ gate is known as the phase gate and is essentially the same as $R_z(\\lambda)$. Its relationship with $U_3$ and its matrix form are,\n",
    "\n",
    "$$\n",
    "U_1(\\lambda) = U_3(0,0,\\lambda) = \\begin{pmatrix} 1 & 0 \\\\\\\\ 0 & e^{i\\lambda} \\end{pmatrix}.\n",
    "$$\n",
    "\n",
    "In IBM Q hardware, this gate is implemented as a frame change and takes zero time.\n",
    "\n",
    "The second gate is $U_2$, and has the form\n",
    "\n",
    "$$\n",
    "U_2(\\phi,\\lambda) = U_3(\\pi/2,\\phi,\\lambda) = \\frac{1}{\\sqrt{2}}\\begin{pmatrix} 1 & -e^{i\\lambda} \\\\\\\\ e^{i\\phi} & e^{i\\lambda+i\\phi} \\end{pmatrix}.\n",
    "$$\n",
    "\n",
    "From this gate, the Hadamard is done by $H= U_2(0,\\pi)$. In IBM Q hardware, this is implemented by a pre- and post-frame change and an $X_{\\pi/2}$ pulse."
   ]
  },
  {
   "cell_type": "markdown",
   "metadata": {},
   "source": [
    "### Multiqubit gates\n",
    "\n",
    "To create quantum algorithms that beat their classical counterparts, we need more than isolated qubits. We need ways for them to interact. This is done by multiqubit gates.\n",
    "\n",
    "The most prominent multiqubit gates are the two-qubit CNOT and the three-qubit Toffoli. These have already been introduced in 'The atoms of computation'. They essentially perform reversible versions of the classical XOR and AND gates, respectively.\n",
    "\n",
    "```python\n",
    "qc.cx(0,1) # CNOT controlled on qubit 0 with qubit 1 as target\n",
    "qc.ccx(0,1,2) # Toffoli controlled on qubits 0 and 1 with qubit 2 as target\n",
    "```\n",
    "Note that the CNOT is referred to as ```cx``` in Qiskit.\n",
    "\n",
    "We can also interpret the CNOT as performing an $X$ on its target qubit, but only when its control qubit is in state $|1\\rangle$, and doing nothing when the control is in state $|0\\rangle$. With this interpretation in mind, we can similarly define gates that work in the same way, but instead perform a $Y$ or $Z$ on the target qubit depending on the $|0\\rangle$ and $|1\\rangle$ states of the control.\n",
    "\n",
    "```python\n",
    "qc.cy(0,1) # controlled-Y, controlled on qubit 0 with qubit 1 as target\n",
    "qc.cz(0,1) # controlled-Z, controlled on qubit 0 with qubit 1 as target\n",
    "```\n",
    "\n",
    "The Toffoli gate can be interpreted in a similar manner, except that it has a pair of control qubits. Only if both are in state $|1\\rangle$ is the $X$ applied to the target."
   ]
  },
  {
   "cell_type": "markdown",
   "metadata": {},
   "source": [
    "### Composite gates\n",
    "\n",
    "When we combine gates, we make new gates. If we want to see the matrix representation of these, we can use the 'unitary simulator' of Qiskit.\n",
    "\n",
    "For example, let's try something simple: a two qubit circuit with an `x` applied to one and a `z` to the other. Using tensor products, we can expect the result to be,\n",
    "\n",
    "$$\n",
    "Z \\otimes X=  \\begin{pmatrix} 1&0 \\\\\\\\ 0&-1 \\end{pmatrix} \\otimes \\begin{pmatrix} 0&1 \\\\\\\\ 1&0 \\end{pmatrix} = \\begin{pmatrix} 0&1&0&0 \\\\\\\\ 1&0&0&0\\\\\\\\0&0&0&-1\\\\\\\\0&0&-1&0 \\end{pmatrix}.\n",
    "$$\n",
    "\n",
    "This is exactly what we find when we analyze the circuit with this tool."
   ]
  },
  {
   "cell_type": "code",
   "execution_count": 2,
   "metadata": {},
   "outputs": [
    {
     "data": {
      "text/markdown": [
       "\\begin{pmatrix}0j&(1+0j)&0j&0j\\\\(1+0j)&0j&0j&0j\\\\0j&0j&0j&(-1+0j)\\\\0j&0j&(-1+0j)&0j\\end{pmatrix}"
      ],
      "text/plain": [
       "<IPython.core.display.Markdown object>"
      ]
     },
     "metadata": {},
     "output_type": "display_data"
    }
   ],
   "source": [
    "# set up circuit (no measurements required)\n",
    "qc = QuantumCircuit(2)\n",
    "qc.x(0) # qubits numbered from the right, so qubit 0 is the qubit on the right\n",
    "qc.z(1) # and qubit 1 is on the left\n",
    "\n",
    "# set up simulator that returns unitary matrix\n",
    "backend = Aer.get_backend('unitary_simulator')\n",
    "\n",
    "# run the circuit to get the matrix\n",
    "gate = execute(qc,backend).result().get_unitary()\n",
    "\n",
    "# now we use some fanciness to display it in latex\n",
    "from IPython.display import display, Markdown, Latex\n",
    "gate_latex = '\\\\begin{pmatrix}'\n",
    "for line in gate:\n",
    "    for element in line:\n",
    "        gate_latex += str(element) + '&'\n",
    "    gate_latex  = gate_latex[0:-1]\n",
    "    gate_latex +=  '\\\\\\\\'\n",
    "gate_latex  = gate_latex[0:-2]\n",
    "gate_latex += '\\end{pmatrix}'\n",
    "display(Markdown(gate_latex))"
   ]
  },
  {
   "cell_type": "code",
   "execution_count": 3,
   "metadata": {},
   "outputs": [
    {
     "data": {
      "text/plain": [
       "{'qiskit-terra': '0.14.2',\n",
       " 'qiskit-aer': '0.5.2',\n",
       " 'qiskit-ignis': '0.3.3',\n",
       " 'qiskit-ibmq-provider': '0.7.2',\n",
       " 'qiskit-aqua': '0.7.3',\n",
       " 'qiskit': '0.19.6'}"
      ]
     },
     "execution_count": 3,
     "metadata": {},
     "output_type": "execute_result"
    }
   ],
   "source": [
    "import qiskit\n",
    "qiskit.__qiskit_version__"
   ]
  }
 ],
 "metadata": {
  "kernelspec": {
   "display_name": "Python 3",
   "language": "python",
   "name": "python3"
  },
  "language_info": {
   "codemirror_mode": {
    "name": "ipython",
    "version": 3
   },
   "file_extension": ".py",
   "mimetype": "text/x-python",
   "name": "python",
   "nbconvert_exporter": "python",
   "pygments_lexer": "ipython3",
   "version": "3.7.6"
  }
 },
 "nbformat": 4,
 "nbformat_minor": 2
}
