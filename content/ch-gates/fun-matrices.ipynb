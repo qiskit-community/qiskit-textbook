{
 "cells": [
  {
   "cell_type": "markdown",
   "metadata": {},
   "source": [
    "# Fun with Matrices"
   ]
  },
  {
   "cell_type": "markdown",
   "metadata": {},
   "source": [
    "Manipulating matrices is the heart of how we analyze quantum programs. In this section we'll look at some of the most common tools that can be used for this."
   ]
  },
  {
   "cell_type": "markdown",
   "metadata": {},
   "source": [
    "### Unitary and Hermitian matrices"
   ]
  },
  {
   "cell_type": "markdown",
   "metadata": {},
   "source": [
    "Studying universality is inherently an endeavour that needs math -- so we'll need to get ourselves some mathematical tools.\n",
    "\n",
    "Firstly, we need the concept of the Hermitian conjugate. For this we take a matrix $M$ , then we replace every element with its complex conjugate, and finally we transpose them \\(replace the top left element with the bottom right, and so on\\). This gives us a new matrix that we call $M^\\dagger$.\n",
    "\n",
    "Two families of matrices that are very important to quantum computing are defined by their relationship with the Hermitian conjugate. One is the family of unitary matrices, for which\n",
    "\n",
    "$$\n",
    "U U^\\dagger = U^\\dagger U = 1.\n",
    "$$\n",
    "\n",
    "This means that the Hermitian conjugate of a unitary is its inverse. This is another unitary $U^\\dagger$ with the power to undo the effects of $U$. All gates in quantum computing, with the exception of measurement, can be represented by unitary matrices.\n",
    "\n",
    "The other important family of matrices are the Hermitian matrices. These are the matrices that are unaffected by the Hermitian conjugate\n",
    "\n",
    "$$\n",
    "H = H^\\dagger.\n",
    "$$\n",
    "\n",
    "The matrices $X$, $Y$, $Z$ and $H$ are examples of Hermitian matrices that you've already seen \\(coincidentally, they are also all unitary since they are their own inverses\\)."
   ]
  },
  {
   "cell_type": "markdown",
   "metadata": {},
   "source": [
    "### Matrices as outer products"
   ]
  },
  {
   "cell_type": "markdown",
   "metadata": {},
   "source": [
    "In a previous section, we calculated many inner products, such as $\\langle0|0\\rangle =1$. These combine a bra and a ket to give us a single number. We can also combine them in a way that gives us a matrix, simply by putting them in the opposite order. This is called an outer product, and works by standard matrix multiplication. For example\n",
    "\n",
    "$$\n",
    "|0\\rangle\\langle0|= \\begin{pmatrix} 1 \\\\\\\\ 0 \\end{pmatrix} \\begin{pmatrix} 1 & 0 \\end{pmatrix} = \\begin{pmatrix} 1&0 \\\\\\\\ 0&0 \\end{pmatrix},\\\\\\\\\n",
    "|0\\rangle\\langle1| = \\begin{pmatrix} 1 \\\\\\\\ 0 \\end{pmatrix} \\begin{pmatrix} 0 & 1 \\end{pmatrix} = \\begin{pmatrix} 0&1 \\\\\\\\ 0&0 \\end{pmatrix},\\\\\\\\\n",
    "|1\\rangle\\langle0| = \\begin{pmatrix} 0 \\\\\\\\ 1 \\end{pmatrix} \\begin{pmatrix} 1 & 0 \\end{pmatrix} = \\begin{pmatrix} 0&0 \\\\\\\\ 1&0 \\end{pmatrix},\\\\\\\\\n",
    "|1\\rangle\\langle1| = \\begin{pmatrix} 0 \\\\\\\\ 1 \\end{pmatrix} \\begin{pmatrix} 0 & 1 \\end{pmatrix} = \\begin{pmatrix} 0&0 \\\\\\\\ 0&1 \\end{pmatrix}.\\\\\\\\\n",
    "$$\n",
    "\n",
    "This also means that we can write any matrix purely in terms of outer products. In the examples above, we constructed the four matrices that cover each of the single elements in a single-qubit matrix, so we can write any other single-qubit matrix in terms of them.\n",
    "\n",
    "$$\n",
    "M= \\begin{pmatrix} m_{0,0}&m_{0,1} \\\\\\\\ m_{1,0}&m_{1,1} \\end{pmatrix} = m_{0,0} |0\\rangle\\langle0|+ m_{0,1} |0\\rangle\\langle1|+ m_{1,0} |1\\rangle\\langle0|+ m_{1,1} |1\\rangle\\langle1|\n",
    "$$\n",
    "\n",
    "This property also extends to matrices for any number of qubits, $n$. We simply use the outer products of the corresponding $n$-bit strings."
   ]
  },
  {
   "cell_type": "markdown",
   "metadata": {},
   "source": [
    "### Spectral form"
   ]
  },
  {
   "cell_type": "markdown",
   "metadata": {},
   "source": [
    "Outer products provide a very useful way of writing matrices. They are especially useful for unitaries, since we can simply capture the way that states are transformed.\n",
    "\n",
    "To do this, we first pick a set of orthogonal states that describe our qubits. For example, for two qubits we could simply choose $\\{|00\\rangle,|01\\rangle,|10\\rangle,|11\\rangle\\}$. Then we determine the state to which the unitary rotates each of these states. Let's call these $\\{|u_{00}\\rangle,|u_{01}\\rangle,|u_{10}\\rangle,|u_{11}\\rangle\\}$. The unitary that performs this can then be written\n",
    "\n",
    "$$\n",
    "U = |u_{00}\\rangle\\langle00| + |u_{01}\\rangle\\langle01| + |u_{10}\\rangle\\langle10| +|u_{11}\\rangle\\langle11|\n",
    "$$\n",
    "\n",
    "In a form like this, we can directly read out the effect of the unitary on the basis states we have chosen.\n",
    "\n",
    "This way of writing a unitary is not unique for each unitary. You can do it for every possible set of orthogonal input states. However, for at least one possible set of states it will take an especially simple form. These are the eigenstates of the matrix, for which\n",
    "\n",
    "$$\n",
    "U = \\sum_j e^{ih_j} |h_j\\rangle\\langle h_j|\n",
    "$$\n",
    "\n",
    "Here the unitary takes each state of this basis, which we've called $|h_j\\rangle$, and replaces it with $e^{ih_j}|h_j\\rangle$. Since the $e^{ih_j} |h_j\\rangle$ must themselves be valid quantum states, the $e^{ih_j}$ must be complex numbers of magnitude 1. In fact, this is exactly why we wrote them as a complex exponential; to ensure that they have magnitude 1, we simply need to ensure that the $h_j$ are real numbers.\n",
    "\n",
    "For these states, the unitary simply induces a global phase. The non-trivial effects of this unitary will come for superpositions of these states, for which a relative phase may be induced.\n",
    "\n",
    "Hermitian matrices also have well-defined eigenstates and eigenvalues, and can be written in the same form as the unitary matrix above.\n",
    "\n",
    "$$\n",
    "H = \\sum_j h_j |h_j\\rangle\\langle h_j| .\n",
    "$$\n",
    "\n",
    "In order to satisfy the constraint that $H = H^\\dagger$, we must determine what properties are required for the eigenstates and eigenvalues.\n",
    "\n",
    "For the eigenstates, we can see what happens when we take the outer product of a state with itself. For this we use the fact that the Hermitian conjugate of a product can be evaluated by taking the Hermitian conjugate of each factor, and then reversing the order of the factors. If we also note that the Hermitian conjugate of a ket is the corresponding bra, and vice versa, we find\n",
    "\n",
    "$$\n",
    "(|h_j\\rangle\\langle h_j|)^\\dagger = \\langle (h_j|^\\dagger) ~(|h_j\\rangle^\\dagger) = |h_j\\rangle\\langle h_j| .\n",
    "$$\n",
    "\n",
    "The outer product of a state with itself is therefore inherently Hermitian. To ensure that $H$ is Hermitian as a whole, we only need to require the eigenvalues $h_j$ to be real.\n",
    "\n",
    "If you were wondering about the coincidence of notation used above for $U$ and $H$ in spectral form, this should hopefully begin to explain it. Essentially, these two types of matrices differ only in that one must have real numbers for eigenvalues, and the other must have complex exponentials of real numbers. This means that, for every unitary, we can define a corresponding Hermitian matrix. For this we simply reuse the same eigenstates, and use the $h_j$ from each $e^{ih_j}$ as the corresponding eigenvalue.\n",
    "\n",
    "Similarly, for each Hermitian matrix there exists a unitary. We simply reuse the same eigenstates, and exponentiate the $h_j$ to create the eigenvalues $e^{ih_j}$. This can be expressed as\n",
    "\n",
    "$$\n",
    "U = e^{iH}\n",
    "$$\n",
    "\n",
    "Here we have used the standard definition of how to exponentiate a matrix. This has exactly the properties we require: preserving the eigenstates and exponentiating the eigenvalues.\n",
    "\n",
    "We can also build a whole family of unitaries for each given Hermitian, using\n",
    "\n",
    "$$\n",
    "U(\\theta) = e^{i \\theta H},\n",
    "$$\n",
    "\n",
    "where $\\theta$ is an arbitrary real number. This allows us to interpolate between $\\theta=0$, which will be the identity matrix, to $\\theta=1$, which is $U$. It also allows us to define a notion of a gate that is the square root of $U$: one that must be done twice to get the full effect of $U$. This would simply have $\\theta=1/2$."
   ]
  },
  {
   "cell_type": "markdown",
   "metadata": {},
   "source": [
    "### Pauli decomposition"
   ]
  },
  {
   "cell_type": "markdown",
   "metadata": {},
   "source": [
    "As we saw above, it is possible to write matrices entirely in terms of outer products.\n",
    "\n",
    "$$\n",
    "M= \\begin{pmatrix} m_{0,0}&m_{0,1} \\\\\\\\ m_{1,0}&m_{1,1} \\end{pmatrix} = m_{0,0} |0\\rangle\\langle0|+ m_{0,1} |0\\rangle\\langle1|+ m_{1,0} |1\\rangle\\langle0|+ m_{1,1} |1\\rangle\\langle1|\n",
    "$$\n",
    "\n",
    "Now we will see that it is also possible to write them completely in terms of Pauli operators. For this, the key thing to note is that\n",
    "\n",
    "$$\n",
    "\\frac{1+Z}{2} = \\frac{1}{2}\\left[ \\begin{pmatrix} 1&0 \\\\\\\\0&1 \\end{pmatrix}+\\begin{pmatrix} 1&0 \\\\\\\\0&-1 \\end{pmatrix}\\right] = |0\\rangle\\langle0|,\\\\\\\\\\frac{1-Z}{2} = \\frac{1}{2}\\left[ \\begin{pmatrix} 1&0 \\\\\\\\0&1 \\end{pmatrix}-\\begin{pmatrix} 1&0 \\\\\\\\0&-1 \\end{pmatrix}\\right] = |1\\rangle\\langle1|\n",
    "$$\n",
    "\n",
    "This shows that $|0\\rangle\\langle0|$ and $|1\\rangle\\langle1|$ can be expressed using the identity matrix and $Z$. Now, using the property that $X|0\\rangle = |1\\rangle$, we can also produce\n",
    "\n",
    "$$\n",
    "|0\\rangle\\langle1| = |0\\rangle\\langle0|X = \\frac{1}{2}(1+Z)~X = \\frac{X+iY}{2},\\\\\\\\\n",
    "|1\\rangle\\langle0| = X|0\\rangle\\langle0| = X~\\frac{1}{2}(1+Z) = \\frac{X-iY}{2}.\n",
    "$$\n",
    "\n",
    "Since we have all the outer products, we can now use this to write the matrix in terms of Pauli matrices:\n",
    "\n",
    "$$\n",
    "M = \\frac{m_{0,0}+m_{1,1}}{2}~1~+~\\frac{m_{0,1}+m_{1,0}}{2}~X~+~i\\frac{m_{0,1}-m_{1,0}}{2}~Y~+~\\frac{m_{0,0}-m_{1,1}}{2}~Z.\n",
    "$$\n",
    "\n",
    "This example was for a general single-qubit matrix, but the corresponding result is true also for matrices for any number of qubits. We simply start from the observation that\n",
    "\n",
    "$$\n",
    "\\left(\\frac{1+Z}{2}\\right)\\otimes\\left(\\frac{1+Z}{2}\\right)\\otimes\\ldots\\otimes\\left(\\frac{1+Z}{2}\\right) = |00\\ldots0\\rangle\\langle00\\ldots0|,\n",
    "$$\n",
    "\n",
    "and can then proceed in the same manner as above. In the end it can be shown that any matrix can be expressed in terms of tensor products of Pauli matrices:\n",
    "\n",
    "$$\n",
    "M = \\sum_{P_{n-1},\\ldots,P_0 \\in \\{1,X,Y,Z\\}} C_{P_{n-1}\\ldots,P_0}~~P_{n-1} \\otimes P_{n-2}\\otimes\\ldots\\otimes P_0.\n",
    "$$\n",
    "\n",
    "For Hermitian matrices, note that the coefficients $C_{P_{n-1}\\ldots,P_0}$ here will all be real.\n",
    "\n",
    "\n",
    "\n",
    "Now we have some powerful tools to analyze quantum operations, let's look at the operations we will need to analyze for our study of universality."
   ]
  },
  {
   "cell_type": "code",
   "execution_count": 1,
   "metadata": {},
   "outputs": [
    {
     "data": {
      "text/plain": [
       "{'qiskit-terra': '0.14.2',\n",
       " 'qiskit-aer': '0.5.2',\n",
       " 'qiskit-ignis': '0.3.3',\n",
       " 'qiskit-ibmq-provider': '0.7.2',\n",
       " 'qiskit-aqua': '0.7.3',\n",
       " 'qiskit': '0.19.6'}"
      ]
     },
     "execution_count": 1,
     "metadata": {},
     "output_type": "execute_result"
    }
   ],
   "source": [
    "import qiskit\n",
    "qiskit.__qiskit_version__"
   ]
  },
  {
   "cell_type": "code",
   "execution_count": null,
   "metadata": {},
   "outputs": [],
   "source": []
  }
 ],
 "metadata": {
  "kernelspec": {
   "display_name": "Python 3",
   "language": "python",
   "name": "python3"
  },
  "language_info": {
   "codemirror_mode": {
    "name": "ipython",
    "version": 3
   },
   "file_extension": ".py",
   "mimetype": "text/x-python",
   "name": "python",
   "nbconvert_exporter": "python",
   "pygments_lexer": "ipython3",
   "version": "3.7.6"
  }
 },
 "nbformat": 4,
 "nbformat_minor": 2
}
