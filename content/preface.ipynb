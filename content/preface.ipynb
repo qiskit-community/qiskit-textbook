{
 "cells": [
  {
   "cell_type": "markdown",
   "metadata": {
    "tags": [
     "preface-cell",
     "preface-title"
    ]
   },
   "source": [
    "<title>Learn Quantum Computation using Qiskit</title>\n",
    "<div class=\"preface-top\">\n",
    "    <div class=\"preface-checker-pattern\"></div>\n",
    "<div class=\"preface-summary\">\n",
    "  <aside class=\"preface-summary-image\"><img src=\"images/preface_illustration_2.svg\"></aside>\n",
    "  <div class=\"preface-summary-text\">\n",
    "     <p>\n",
    "      Greetings from the Qiskit Community team! This textbook is a university quantum algorithms/computation course supplement based on Qiskit to help learn:</p>\n",
    "      <ol>\n",
    "          <li>The mathematics behind quantum algorithms</li>\n",
    "          <li>Details about today's non-fault-tolerant quantum devices</li>\n",
    "          <li>Writing code in Qiskit to implement quantum algorithms on IBM's cloud quantum systems</li>\n",
    "      </ol>\n",
    "</div>\n",
    "    <a href=\"https://qiskit.org/textbook/ch-states/introduction.html\"><button class=\"preface-button read-textbook\">Read the textbook <span class=\"rangle\"><img src=\"/textbook/assets/images/rightarrow.svg\"></span></button></a>\n",
    "</div>"
   ]
  },
  {
   "cell_type": "markdown",
   "metadata": {
    "tags": [
     "preface-cell"
    ]
   },
   "source": [
    "# About the Textbook\n",
    "\n",
    "<p>This is a free digital textbook that will teach you the concepts of quantum computing while you learn to use the Qiskit SDK.</p>\n",
    "\n",
    "## Run the Code Inline\n",
    "\n",
    "<p>This textbook is built on a jupyter notebook framework that allows for easy reading, but it also allows readers to edit and run the code right in the textbook. The chapters can also be opened as Jupyter notebooks in the <a href=\"https://quantum-computing.ibm.com/jupyter\">IBM Quantum Experience</a>, no installs required!</p>"
   ]
  },
  {
   "cell_type": "code",
   "execution_count": null,
   "metadata": {
    "tags": [
     "preface-code-cell"
    ]
   },
   "outputs": [],
   "source": [
    "# Click 'try', then 'run' to see the output,\n",
    "# you can change the code and run it again.\n",
    "print(\"This code works!\")\n",
    "from qiskit import QuantumCircuit\n",
    "qc = QuantumCircuit(2) # Create circuit with 2 qubits\n",
    "qc.h(0)    # Do H-gate on q0\n",
    "qc.cx(0,1) # Do CNOT on q1 controlled by q0\n",
    "qc.measure_all()\n",
    "qc.draw()"
   ]
  },
  {
   "cell_type": "markdown",
   "metadata": {
    "tags": [
     "preface-cell"
    ]
   },
   "source": [
    "<a href=\"https://qiskit.org/textbook/widgets-index.html\"><button class=\"preface-button\">Interactivity Tour<span class=\"rangle\"><img src=\"/textbook/assets/images/rightarrow.svg\"></span></button></a>\n",
    "\n",
    "## Learn with Real Quantum Systems\n",
    "\n",
    "<p>The best way to learn is by doing. Qiskit allows users to run experiments on state-of-the-art quantum devices from the comfort of their homes. The textbook teaches not only theoretical quantum computing but the experimental quantum physics that realises it.</p>\n",
    "\n",
    "<img src=\"images/preface-hw-example.png\" class=\"preface-image\">\n",
    "\n",
    "<a href=\"https://qiskit.org/textbook/ch-quantum-hardware/accessing_higher_energy_states.html\"><button class=\"preface-button\">See Example: Accessing Higher Level States<span class=\"rangle\"><img src=\"/textbook/assets/images/rightarrow.svg\"></span></button></a>\n",
    "\n",
    "# Using the Textbook\n",
    "\n",
    "<p>If you're reading the textbook independently, you don't have to read it all in order, but we recommend you read chapters 1-3 first.</p>\n",
    "\n",
    "## Curriculum Integration\n",
    "\n",
    "<p>The textbook can be followed as an independent course, however, it has been designed to accompany a traditional university course. The textbook shows students how to use Qiskit to experiment with quantum algorithms and hardware, and uses this to reinforce their understanding.\n",
    "</p>\n",
    "\n",
    "<img src=\"images/curriculum.svg\" class=\"preface-image\">\n",
    "\n",
    "## Use the Textbook in Your Course\n",
    "\n",
    "If you are using the Qiskit Textbook in your course, you can join the IBM Quantum Educators Program. The Program provides:\n",
    "\n",
    "<ul class=\"preface-list\">\n",
    "<li> The ability to reserve time for priority access to our open systems for in-class demonstrations </li>\n",
    "<li> Access to additional premium systems beyond our open systems</li>\n",
    "<li> Access to a 5-qubit system with full microwave control using Qiskit Pulse</li>\n",
    "</ul>\n",
    "    \n",
    "<a href=\"https://quantum-computing.ibm.com/programs/educators\"><button class=\"preface-button\">Sign Up for the IBM Quantum Educators Program<span class=\"rangle\"><img src=\"/textbook/assets/images/rightarrow.svg\"></span></button></a>\n",
    "\n",
    "#  Contact\n",
    "\n",
    "<p> If you have any questions or suggestions about the textbook or would like to incorporate it into your curriculum, please contact Frank Harkins <a href=\"mailto:Francis.Harkins@ibm.com\">(Francis.Harkins@ibm.com)</a>. In the true spirit of open-source, any chapter contributions are welcome in this GitHub repository.</p>\n",
    "    \n",
    "# Contributors\n",
    "\n",
    "<p> Learn Quantum Computation using Qiskit is the work of several individuals. If you use it in your work, cite it using <a href=\"https://github.com/qiskit-community/qiskit-textbook/blob/master/content/qiskit-textbook.bib\">this bib file</a> or directly as:</p>\n",
    "<p><i>\n",
    "Abraham Asfaw, Luciano Bello, Yael Ben-Haim, Sergey Bravyi, Nicholas Bronn, Lauren Capelluto, Almudena Carrera Vazquez, Jack Ceroni, Richard Chen, Albert Frisch, Jay Gambetta, Shelly Garion, Leron Gil, Salvador De La Puente Gonzalez, Francis Harkins, Takashi Imamichi, David McKay, Antonio Mezzacapo, Zlatko Minev, Ramis Movassagh, Giacomo Nannicni, Paul Nation, Anna Phan, Marco Pistoia, Arthur Rattew, Joachim Schaefer, Javad Shabani, John Smolin, John Stenger, Kristan Temme, Madeleine Tod, Stephen Wood, James Wootton.</i></p>"
   ]
  }
 ],
 "metadata": {
  "kernelspec": {
   "display_name": "Python 3",
   "language": "python",
   "name": "python3"
  },
  "language_info": {
   "codemirror_mode": {
    "name": "ipython",
    "version": 3
   },
   "file_extension": ".py",
   "mimetype": "text/x-python",
   "name": "python",
   "nbconvert_exporter": "python",
   "pygments_lexer": "ipython3",
   "version": "3.7.6"
  }
 },
 "nbformat": 4,
 "nbformat_minor": 4
}
