{
 "cells": [
  {
   "cell_type": "markdown",
   "metadata": {},
   "source": [
    "# Travelling Salesman Problem using Quantum Phase Estimation\n"
   ]
  },
  {
   "cell_type": "markdown",
   "metadata": {},
   "source": [
    "### Table of Contents\n",
    "\n",
    "\n",
    "1. [Introduction](#introduction)<br>\n",
    "   1.1 [What is Travelling Salesman Problem](#tsp_definition)<br>\n",
    "   1.2 [Time Complexity](#time_complexity)<br>\n",
    "   1.3 [Brute Force Idea](#bf_idea)<br>\n",
    "   1.4 [Importantness](#important)<br>\n",
    "   1.5 [Quantum Computer Approach](#q_approach)<br>\n",
    "2. [Approach](#approach)<br>\n",
    "3. [General Strategy](#general_strategy)<br>\n",
    "   3.1 [Unitary Matrix](#unitary_matrix)<br>\n",
    "   3.2 [Eigenstates](#eigenstates)<br>\n",
    "4. [Building the components](#components)<br>\n",
    "   4.1 [Unitaries](#unitaries)<br>\n",
    "5. [Circuit](#circuit)<br>\n",
    "   5.1 [QASM Simulator](#qasm_simulator)<br>\n",
    "6. [Conclusion](#conclusion)<br>\n",
    "7. [References](#references)<br>\n",
    "8. [Version Information](#version_information)"
   ]
  },
  {
   "cell_type": "markdown",
   "metadata": {},
   "source": [
    "### Introduction <a id=\"introduction\"></a>\n",
    "\n",
    "\n",
    "\n",
    "#### What is Travelling Salesman Problem ?  <a id=\"tsp_definition\"></a>\n",
    "\n",
    " Travelling Salesman Problem belongs to class of NP-Hard problem in combinatorial optimization problem under Hamiltonian cycle. The problem states as follows:-\n",
    " > \"Given a list of cities and the distances between each pair of cities, what is the shortest possible route that visits each city exactly        once and returns to the origin city?\"\n",
    "\n",
    " And the Hamiltonian cycle says:-\n",
    " > \"The cycle of visiting each vertex once in a graph, and returning to the starting vertex is known as a Hamiltonian cycle.\"\n",
    "\n",
    " **NOTE**: Finding all the Hamiltonian cycle in a graph is a NP-Hard problem. Hamiltonian cycle can be converted to Travelling Salesman Problem.\n",
    "\n",
    " This looks a lot similar to the TSP. Actually, Hamiltonian cycle is the heart of TSP. Thats why these 2 problem is interconnected and solving   one will solve the other.\n",
    "\n",
    "#### What is the time complexity of it ? <a id=\"time_complexity\"></a>\n",
    "\n",
    " Multiple techniques used to solve this problem till now-\n",
    "  1. Normal Brute Force Method: Finding all the possible combination of all the vertex.\n",
    "$$\n",
    "                                    O(n\\ !)\\ \\text{where n = Number of vertex/nodes of the graph} \n",
    "$$\n",
    "\n",
    "  2. Dynamic Programming: Break the problem into smaller problem, compute those smaller problem and whenever needed use the result of those small problem, instead of computing same chunk over and over.\n",
    "$$\n",
    "                                    O(n^22^n)\\ \\text{where n = Number of vertex/nodes of the graph}\n",
    "$$\n",
    "\n",
    "  3. Branch and Bound:  Branch and Bound refers to all the state space search methods in which we generate the childern of all the expanded nodes, before making any live node as an expanded one. In this method, we find the most promising node and expand it. The term promising node means, choosing a node that can expand and give us an optimal solution. We start from the root and expand the tree untill unless we approach an optilmal (minimum cost in case of this problem) solution.\n",
    "$$\n",
    "                                    O(n^22^n)\\ \\text{where n = Number of vertex/nodes of the graph}\n",
    "$$\n",
    "\n",
    "  4. Heuristic Approach: Heuristics approach is based on providing a set of rules on optimal selection of next city to travel. But this does not give optimal solution in every case as heuristics result in approximations.\n",
    "\n",
    "\n",
    "#### Why brute force is not a good idea ? <a id=\"bf_idea\"></a>\n",
    "\n",
    " The time complexity of TSP using brute force technique is $O(n\\ !)\\ \\text{where n = number of nodes}$. Now imagine using $n\\ =\\ 10$, then we will get $10\\ !\\ =\\ 36,28,00$, which has $6$ digits. Now imagine $20\\ !\\ =\\ 24,32,90,20,08,17,66,40,000$, which has $19$ digits. Now imagine $100\\ !\\ =\\ ....$, it has 158 digits so on. So, as the no. of nodes increases, the time complexity increases exponentially. So, using brute force is not an optimal way to solve TSP. \n",
    "\n",
    "\n",
    "#### Why is it important ? <a id=\"important\"></a>\n",
    "\n",
    " Travelling salesman problem is very important in theoretical computer science and operational research. Every scientist trying to find an algorithm which can solve it in polynomial time. The reason of this importance is not specifically TSP, but instead the class to which TSP belongs to. Its the NP class. If we can find an algorithm for TSP, it will open an wide range of possibilitis for the thousands of other problems which belongs to the same class.\n",
    "The travelling purchaser problem and the vehicle routing problem are both generalizations of TSP.\n",
    "\n",
    "#### Why Quantum Computer is used to approach this problem instead of classical computer ? <a id=\"q_approach\"></a>\n",
    "\n",
    " So, now-a-days quantum computer is being is used to approach this kinds of problem using various technique, even though we have supercomputers all over the world. Its beacuse of the fact of what a quantum computer can do over classical computer, using the wierdness of quantum mechanics and all the different property which only a quantum computer can possess/provide and using algorithm developed for quantum computer over the years. Even though after using quantum computer, it doesn't guarantee it will solve the problem. But it's a new way to aproach these kinds of class problems.\n",
    "  Some of these techniques involves-\n",
    "Quantum Heuristic Algorithm, Generalizing Grover Search, Bounded-degree Graph, QAOA etc.\n",
    "\n"
   ]
  },
  {
   "cell_type": "markdown",
   "metadata": {},
   "source": [
    "### Approach <a id=\"approach\"></a>\n",
    "\n",
    "\n",
    "Lets consider the whole problem in terms of graphs. The city are represented as a vertex and cost/path as edge of the graph.\n",
    "\n",
    "* We approach the problem by encoding the given distances/cost between the cities as phases.\n",
    "* Each city is connected to other cities with a specific cost associated to each connection.\n",
    "* We construct unitary operators whose eigenvectors are the computational basis states and eigenvalues are various combinations of these phases.\n",
    "* Then we apply phase estimation algorithm to certain eigenstates which give us all the total distances possible for all the routes.\n",
    "* After obtaining the distances we can search through this information using the quantum search algorithm for\n",
    "finding the minimum to find the least possible distance as well the route taken.\n",
    "* This provides us a quadratic speedup over the classical brute force method for a large number of cities."
   ]
  },
  {
   "cell_type": "markdown",
   "metadata": {
    "tags": []
   },
   "source": [
    "### General Strategy <a id=\"general_strategy\"></a>\n",
    "\n",
    "\n",
    "\n",
    "So, now that we have gone through the general approach, we got an idea what to do. So, lets explain step by step-\n",
    "\n",
    "* Lets consider the travelling salesman problem as an undirected complete graph, whose vertex represent city and the edge represent cost/distance. \n",
    "\n",
    "* Before going any further, lets consider the number of cities/nodes $n\\ =\\ 4$.\n",
    "\n",
    "$\\text{Graph Image Source}^{[3]}$\n",
    "\n",
    "<img src=\"https://graphonline.ru/tmp/saved/dP/dPpQHbuVQbkanMVi.png\">\n",
    "\n",
    "* We encode the given distance/cost as phases($\\phi$).\n",
    "$$\n",
    "             \\phi_{i\\to j}\\ \\text{means cost encoded as phase from city 'i' to city 'j', where i,j $\\in$ [1,n]}\n",
    "$$\n",
    "Example: $\\phi_{1\\to 2}$ means from city/node '1' to city/node '2'. $\\phi_{2\\to 3}$ means from city/node '2' to city/node '3' so on.\n",
    "\n",
    "**NOTE**: In case of self-loop i.e $\\phi_{i\\to i}$ the cost is 0.\n",
    " \n",
    "* The classical brute force method uses $n\\ x\\ n$ matrix to store the distances/cost between each pair of nodes.\n",
    "$$\n",
    "                               A\\ =\\ \\begin{bmatrix}\n",
    "                                \\phi_{1\\to 1}&\\phi_{1\\to 2}&\\phi_{1\\to 3}&\\phi_{1\\to 4}\\\\\n",
    "                                \\phi_{2\\to 1}&\\phi_{2\\to 2}&\\phi_{2\\to 3}&\\phi_{2\\to 4}\\\\\n",
    "                                \\phi_{3\\to 1}&\\phi_{3\\to 2}&\\phi_{3\\to 3}&\\phi_{3\\to 4}\\\\\n",
    "                                \\phi_{4\\to 1}&\\phi_{4\\to 2}&\\phi_{4\\to 3}&\\phi_{4\\to 4}\\\\\n",
    "                                \\end{bmatrix}\n",
    "$$\n",
    "\n",
    "**NOTE**: All the diagonal elements in this matrix $\\text{A}$ is '0'.\n",
    "\n",
    "\n",
    "But on representing this matrix as only phases-\n",
    "\n",
    " **First**, the matrix made of the given distances using the above procedure is not unitary in general which implies that the implementation and manipulation of the operator is not possible on a quantum computer. \n",
    "\n",
    " **Second**, the phases will get added when we multiply them or take tensor products of states with these phases as coefficients, that is the distances will get added as phases which is required for the search.\n",
    "\n",
    "So, we represent the matrix as-\n",
    "$$\n",
    "                                B\\ =\\ \\begin{bmatrix}\n",
    "                                e^{i\\phi_{1\\to 1}} & e^{i\\phi_{1\\to 2}} & e^{i\\phi_{1\\to 3}} & e^{i\\phi_{1\\to 4}}\\\\\n",
    "                                e^{i\\phi_{2\\to 1}} & e^{i\\phi_{2\\to 2}} & e^{i\\phi_{2\\to 3}} & e^{i\\phi_{2\\to 4}}\\\\\n",
    "                                e^{i\\phi_{3\\to 1}} & e^{i\\phi_{3\\to 2}} & e^{i\\phi_{3\\to 3}} & e^{i\\phi_{3\\to 4}}\\\\\n",
    "                                e^{i\\phi_{4\\to 1}} & e^{i\\phi_{4\\to 2}} & e^{i\\phi_{4\\to 3}} & e^{i\\phi_{4\\to 4}}\\\\\n",
    "                                \\end{bmatrix}\n",
    "$$\n",
    "**NOTE**: All the diagonal elements of this matrix $\\text{B}$ is '1'.\n",
    "\n",
    "#### $\\rm{I}$. For Unitary Matrix: <a id=\"unitary_matrix\"></a>\n",
    "\n",
    "* Now we will construct unitary matrix($U$) from the matrix $B$ for each city/node for the phase estimation as-\n",
    "$$\n",
    "                           U_{j}\\ =\\ (\\sum_{i=1}^{n}B[j][i]\\ \\times\\ \\text{outer product of all possible\\ basis\\ vectors})\\ \\text{where j, i ≥ 0 and j, i $\\in$ [1, n]}. \n",
    "$$\n",
    "The rest of the elements in the matrix $U_{j}$ are initialized to zero. Basically, $U_{j}$ is diagonal unitary matrix constructed from each of the columns of matrix $B$.\n",
    "\n",
    "Lets construct the unitaries-\n",
    "    \n",
    "   For j = 1, 2, 3, 4 :\n",
    "\n",
    "1. $U_{1}$:  $e^{i\\phi_{1\\to 1}}|00\\rangle\\langle00| + e^{i\\phi_{2\\to 1}}|01\\rangle\\langle01| + e^{i\\phi_{3\\to 1}}|10\\rangle\\langle10| + e^{i\\phi_{4\\to 1}}|11\\rangle\\langle11|$\n",
    "\n",
    " **NOTE**: In quantum computing, we can write our matrices in terms of basis vectors. For more info refer to [Qiskit Textbook Single Qubit Gates](https://qiskit.org/textbook/ch-states/single-qubit-gates.html)\n",
    "\n",
    "$U_{j}$ are diagonal unitary matrices. It will be $n\\times n\\ (\\text{here},\\ 4\\times4)$ matrices. And these matrics are expressed in terms of basis vectors with the phases as coefficients.\n",
    "\n",
    "Now, lets break down $U_{1}$ part by part to see what's happening. Ultimately we have to make sure $U_{j}$ is diagonal unitary matrix:\n",
    "\n",
    "$|aa\\rangle\\langle aa|$, gives the position of the coefficient in the $4\\times4$ matrix in the diagonal elements.\n",
    "$$\n",
    "|00\\rangle\\langle00|\\ =\\ (\\begin{bmatrix}1\\\\0\\end{bmatrix}\\otimes\\begin{bmatrix}1\\\\0\\end{bmatrix})\\ \\otimes\\ \n",
    "                         (\\begin{bmatrix}1&0\\end{bmatrix}\\otimes\\begin{bmatrix}1&0\\end{bmatrix})\n",
    "                      =\\ (\\begin{bmatrix}1\\\\0\\\\0\\\\0\\end{bmatrix}\\otimes\\begin{bmatrix}1&0&0&0\\end{bmatrix})\n",
    "                      =\\ \\begin{bmatrix}\n",
    "                          1 & 0 & 0 & 0\\\\ \n",
    "                          0 & 0 & 0 & 0\\\\ \n",
    "                          0 & 0 & 0 & 0\\\\\n",
    "                          0 & 0 & 0 & 0\n",
    "                          \\end{bmatrix}\n",
    "$$\n",
    "\n",
    "<details>\n",
    "    <summary>Similarly, we can find for $|01\\rangle\\langle01|$, $|10\\rangle\\langle10|$, $|11\\rangle\\langle11|$</summary>\n",
    "$$\n",
    "|01\\rangle\\langle01|\\ =\\ (\\begin{bmatrix}1\\\\0\\end{bmatrix}\\otimes\\begin{bmatrix}0\\\\1\\end{bmatrix})\\ \\otimes\\ \n",
    "                         (\\begin{bmatrix}1&0\\end{bmatrix}\\otimes\\begin{bmatrix}0&1\\end{bmatrix})\n",
    "                      =\\ (\\begin{bmatrix}0\\\\1\\\\0\\\\0\\end{bmatrix}\\otimes\\begin{bmatrix}0&1&0&0\\end{bmatrix})\n",
    "                      =\\ \\begin{bmatrix}\n",
    "                          0 & 0 & 0 & 0\\\\ \n",
    "                          0 & 1 & 0 & 0\\\\ \n",
    "                          0 & 0 & 0 & 0\\\\\n",
    "                          0 & 0 & 0 & 0\n",
    "                          \\end{bmatrix}\n",
    "$$\n",
    "$$\n",
    "|10\\rangle\\langle10|\\ =\\ (\\begin{bmatrix}0\\\\1\\end{bmatrix}\\otimes\\begin{bmatrix}1\\\\0\\end{bmatrix})\\ \\otimes\\ \n",
    "                         (\\begin{bmatrix}0&1\\end{bmatrix}\\otimes\\begin{bmatrix}1&0\\end{bmatrix})\n",
    "                      =\\ (\\begin{bmatrix}0\\\\0\\\\1\\\\0\\end{bmatrix}\\otimes\\begin{bmatrix}0&0&1&0\\end{bmatrix})\n",
    "                      =\\ \\begin{bmatrix}\n",
    "                          0 & 0 & 0 & 0\\\\ \n",
    "                          0 & 0 & 0 & 0\\\\ \n",
    "                          0 & 0 & 1 & 0\\\\\n",
    "                          0 & 0 & 0 & 0\n",
    "                          \\end{bmatrix}\n",
    "$$\n",
    "$$\n",
    "|11\\rangle\\langle11|\\ =\\ (\\begin{bmatrix}0\\\\1\\end{bmatrix}\\otimes\\begin{bmatrix}0\\\\1\\end{bmatrix})\\ \\otimes\\ \n",
    "                         (\\begin{bmatrix}1&1\\end{bmatrix}\\otimes\\begin{bmatrix}0&1\\end{bmatrix})\n",
    "                      =\\ (\\begin{bmatrix}0\\\\0\\\\0\\\\1\\end{bmatrix}\\otimes\\begin{bmatrix}0&0&0&1\\end{bmatrix})\n",
    "                      =\\ \\begin{bmatrix}\n",
    "                          0 & 0 & 0 & 0\\\\ \n",
    "                          0 & 0 & 0 & 0\\\\ \n",
    "                          0 & 0 & 0 & 0\\\\\n",
    "                          0 & 0 & 0 & 1\n",
    "                          \\end{bmatrix}\n",
    "$$\n",
    "</details>\n",
    "\n",
    " **NOTE**: For more info refer to [Qiskit Textbook Density Matrix](https://qiskit.org/textbook/ch-quantum-hardware/density-matrix.html)\n",
    "\n",
    "Now, multiply these matrices with phases as coefficients:\n",
    "$$\n",
    "e^{i\\phi_{1\\to1}}|00\\rangle\\langle00|\\ =\\ \\begin{bmatrix}\n",
    "                                              e^{i\\phi_{1\\to1}} & 0 & 0 & 0\\\\ \n",
    "                                              0 & 0 & 0 & 0\\\\ \n",
    "                                              0 & 0 & 0 & 0\\\\\n",
    "                                              0 & 0 & 0 & 0\n",
    "                                              \\end{bmatrix}\n",
    "$$\n",
    "\n",
    "<details>\n",
    "    <summary>Same operation will be done for $e^{i\\phi_{2\\to1}}|01\\rangle\\langle01|$, $e^{i\\phi_{3\\to1}}|10\\rangle\\langle10|$, $e^{i\\phi_{4\\to1}}|11\\rangle\\langle11|$</summary>\n",
    "$$\n",
    "e^{i\\phi_{2\\to1}}|01\\rangle\\langle01|\\ =\\ \\begin{bmatrix}\n",
    "                                              0 & 0 & 0 & 0\\\\ \n",
    "                                              0 & e^{i\\phi_{2\\to1}} & 0 & 0\\\\ \n",
    "                                              0 & 0 & 0 & 0\\\\\n",
    "                                              0 & 0 & 0 & 0\n",
    "                                              \\end{bmatrix}\n",
    "$$\n",
    "$$\n",
    "e^{i\\phi_{3\\to1}}|10\\rangle\\langle10|\\ =\\ \\begin{bmatrix}\n",
    "                                              0 & 0 & 0 & 0\\\\ \n",
    "                                              0 & 0 & 0 & 0\\\\ \n",
    "                                              0 & 0 & e^{i\\phi_{3\\to1}} & 0\\\\\n",
    "                                              0 & 0 & 0 & 0\n",
    "                                              \\end{bmatrix}\n",
    "$$\n",
    "$$\n",
    "e^{i\\phi_{4\\to1}}|11\\rangle\\langle11|\\ =\\ \\begin{bmatrix}\n",
    "                                              0 & 0 & 0 & 0\\\\ \n",
    "                                              0 & 0 & 0 & 0\\\\ \n",
    "                                              0 & 0 & 0 & 0\\\\\n",
    "                                              0 & 0 & 0 & e^{i\\phi_{4\\to1}}\n",
    "                                              \\end{bmatrix}\n",
    "$$\n",
    "</details>\n",
    "    \n",
    "Now adding them all up:\n",
    "$$\n",
    "U_{1}\\ =\\ e^{i\\phi_{1\\to1}}|00\\rangle\\langle00|\\ +\\ e^{i\\phi_{2\\to1}}|01\\rangle\\langle01|\\ +\\ e^{i\\phi_{3\\to1}}|10\\rangle\\langle10|\\ +\\ e^{i\\phi_{4\\to1}}|11\\rangle\\langle11|\\ =\\ \\begin{bmatrix}\n",
    "                                              e^{i\\phi_{1\\to1}} & 0 & 0 & 0\\\\ \n",
    "                                              0 & 0 & 0 & 0\\\\ \n",
    "                                              0 & 0 & 0 & 0\\\\\n",
    "                                              0 & 0 & 0 & 0\n",
    "                                              \\end{bmatrix}\\ +\\ \n",
    "                                              \\begin{bmatrix}\n",
    "                                              0 & 0 & 0 & 0\\\\ \n",
    "                                              0 & e^{i\\phi_{2\\to1}} & 0 & 0\\\\ \n",
    "                                              0 & 0 & 0 & 0\\\\\n",
    "                                              0 & 0 & 0 & 0\n",
    "                                              \\end{bmatrix}\\ +\\ \n",
    "                                              \\begin{bmatrix}\n",
    "                                              0 & 0 & 0 & 0\\\\ \n",
    "                                              0 & 0 & 0 & 0\\\\ \n",
    "                                              0 & 0 & e^{i\\phi_{3\\to1}} & 0\\\\\n",
    "                                              0 & 0 & 0 & 0\n",
    "                                              \\end{bmatrix}\\ +\\ \n",
    "                                              \\begin{bmatrix}\n",
    "                                              0 & 0 & 0 & 0\\\\ \n",
    "                                              0 & 0 & 0 & 0\\\\ \n",
    "                                              0 & 0 & 0 & 0\\\\\n",
    "                                              0 & 0 & 0 & e^{i\\phi_{4\\to1}}\n",
    "                                              \\end{bmatrix}\\ =\\ \n",
    "                                              \\begin{bmatrix}\n",
    "                                              e^{i\\phi_{1\\to1}} & 0 & 0 & 0\\\\ \n",
    "                                              0 & e^{i\\phi_{2\\to1}} & 0 & 0\\\\ \n",
    "                                              0 & 0 & e^{i\\phi_{3\\to1}} & 0\\\\\n",
    "                                              0 & 0 & 0 & e^{i\\phi_{4\\to1}}\n",
    "                                              \\end{bmatrix}\n",
    "$$\n",
    "\n",
    "<details>\n",
    "    <summary>In similar way, we have to find $U_{2},\\ U_{3},\\ U_{4}$</summary>\n",
    "\n",
    "2. $U_{2}$: $e^{i\\phi_{1\\to 2}}|00\\rangle\\langle00| + e^{i\\phi_{2\\to 2}}|01\\rangle\\langle01| + e^{i\\phi_{3\\to 2}}|10\\rangle\\langle10| + e^{i\\phi_{4\\to 2}}|11\\rangle\\langle11|$\n",
    "$$\n",
    "                            \\begin{bmatrix}\n",
    "                                              e^{i\\phi_{1\\to2}} & 0 & 0 & 0\\\\ \n",
    "                                              0 & 0 & 0 & 0\\\\ \n",
    "                                              0 & 0 & 0 & 0\\\\\n",
    "                                              0 & 0 & 0 & 0\n",
    "                                              \\end{bmatrix}\\ +\\ \n",
    "                                              \\begin{bmatrix}\n",
    "                                              0 & 0 & 0 & 0\\\\ \n",
    "                                              0 & e^{i\\phi_{2\\to2}} & 0 & 0\\\\ \n",
    "                                              0 & 0 & 0 & 0\\\\\n",
    "                                              0 & 0 & 0 & 0\n",
    "                                              \\end{bmatrix}\\ +\\ \n",
    "                                              \\begin{bmatrix}\n",
    "                                              0 & 0 & 0 & 0\\\\ \n",
    "                                              0 & 0 & 0 & 0\\\\ \n",
    "                                              0 & 0 & e^{i\\phi_{3\\to2}} & 0\\\\\n",
    "                                              0 & 0 & 0 & 0\n",
    "                                              \\end{bmatrix}\\ +\\ \n",
    "                                              \\begin{bmatrix}\n",
    "                                              0 & 0 & 0 & 0\\\\ \n",
    "                                              0 & 0 & 0 & 0\\\\ \n",
    "                                              0 & 0 & 0 & 0\\\\\n",
    "                                              0 & 0 & 0 & e^{i\\phi_{4\\to2}}\n",
    "                                              \\end{bmatrix}\\ =\\ \n",
    "                                              \\begin{bmatrix}\n",
    "                                              e^{i\\phi_{1\\to2}} & 0 & 0 & 0\\\\ \n",
    "                                              0 & e^{i\\phi_{2\\to2}} & 0 & 0\\\\ \n",
    "                                              0 & 0 & e^{i\\phi_{3\\to2}} & 0\\\\\n",
    "                                              0 & 0 & 0 & e^{i\\phi_{4\\to2}}\n",
    "                                              \\end{bmatrix}\n",
    "$$\n",
    "\n",
    "3. $U_{3}$: $e^{i\\phi_{1\\to 3}}|00\\rangle\\langle00| + e^{i\\phi_{2\\to 3}}|01\\rangle\\langle01| + e^{i\\phi_{3\\to 3}}|10\\rangle\\langle10| + e^{i\\phi_{4\\to 3}}|11\\rangle\\langle11|$\n",
    "$$\n",
    "                            \\begin{bmatrix}\n",
    "                                              e^{i\\phi_{1\\to3}} & 0 & 0 & 0\\\\ \n",
    "                                              0 & 0 & 0 & 0\\\\ \n",
    "                                              0 & 0 & 0 & 0\\\\\n",
    "                                              0 & 0 & 0 & 0\n",
    "                                              \\end{bmatrix}\\ +\\ \n",
    "                                              \\begin{bmatrix}\n",
    "                                              0 & 0 & 0 & 0\\\\ \n",
    "                                              0 & e^{i\\phi_{2\\to3}} & 0 & 0\\\\ \n",
    "                                              0 & 0 & 0 & 0\\\\\n",
    "                                              0 & 0 & 0 & 0\n",
    "                                              \\end{bmatrix}\\ +\\ \n",
    "                                              \\begin{bmatrix}\n",
    "                                              0 & 0 & 0 & 0\\\\ \n",
    "                                              0 & 0 & 0 & 0\\\\ \n",
    "                                              0 & 0 & e^{i\\phi_{3\\to3}} & 0\\\\\n",
    "                                              0 & 0 & 0 & 0\n",
    "                                              \\end{bmatrix}\\ +\\ \n",
    "                                              \\begin{bmatrix}\n",
    "                                              0 & 0 & 0 & 0\\\\ \n",
    "                                              0 & 0 & 0 & 0\\\\ \n",
    "                                              0 & 0 & 0 & 0\\\\\n",
    "                                              0 & 0 & 0 & e^{i\\phi_{4\\to3}}\n",
    "                                              \\end{bmatrix}\\ =\\ \n",
    "                                              \\begin{bmatrix}\n",
    "                                              e^{i\\phi_{1\\to3}} & 0 & 0 & 0\\\\ \n",
    "                                              0 & e^{i\\phi_{2\\to3}} & 0 & 0\\\\ \n",
    "                                              0 & 0 & e^{i\\phi_{3\\to3}} & 0\\\\\n",
    "                                              0 & 0 & 0 & e^{i\\phi_{4\\to3}}\n",
    "                                              \\end{bmatrix}\n",
    "$$\n",
    "\n",
    "4. $U_{4}$: $e^{i\\phi_{1\\to 4}}|00\\rangle\\langle00| + e^{i\\phi_{2\\to 4}}|01\\rangle\\langle01| + e^{i\\phi_{3\\to 4}}|10\\rangle\\langle10| + e^{i\\phi_{4\\to 4}}|11\\rangle\\langle11|$\n",
    "$$\n",
    "                            \\begin{bmatrix}\n",
    "                                              e^{i\\phi_{1\\to4}} & 0 & 0 & 0\\\\ \n",
    "                                              0 & 0 & 0 & 0\\\\ \n",
    "                                              0 & 0 & 0 & 0\\\\\n",
    "                                              0 & 0 & 0 & 0\n",
    "                                              \\end{bmatrix}\\ +\\ \n",
    "                                              \\begin{bmatrix}\n",
    "                                              0 & 0 & 0 & 0\\\\ \n",
    "                                              0 & e^{i\\phi_{2\\to4}} & 0 & 0\\\\ \n",
    "                                              0 & 0 & 0 & 0\\\\\n",
    "                                              0 & 0 & 0 & 0\n",
    "                                              \\end{bmatrix}\\ +\\ \n",
    "                                              \\begin{bmatrix}\n",
    "                                              0 & 0 & 0 & 0\\\\ \n",
    "                                              0 & 0 & 0 & 0\\\\ \n",
    "                                              0 & 0 & e^{i\\phi_{3\\to4}} & 0\\\\\n",
    "                                              0 & 0 & 0 & 0\n",
    "                                              \\end{bmatrix}\\ +\\ \n",
    "                                              \\begin{bmatrix}\n",
    "                                              0 & 0 & 0 & 0\\\\ \n",
    "                                              0 & 0 & 0 & 0\\\\ \n",
    "                                              0 & 0 & 0 & 0\\\\\n",
    "                                              0 & 0 & 0 & e^{i\\phi_{4\\to4}}\n",
    "                                              \\end{bmatrix}\\ =\\ \n",
    "                                              \\begin{bmatrix}\n",
    "                                              e^{i\\phi_{1\\to4}} & 0 & 0 & 0\\\\ \n",
    "                                              0 & e^{i\\phi_{2\\to4}} & 0 & 0\\\\ \n",
    "                                              0 & 0 & e^{i\\phi_{3\\to4}} & 0\\\\\n",
    "                                              0 & 0 & 0 & e^{i\\phi_{4\\to4}}\n",
    "                                              \\end{bmatrix}\n",
    "$$\n",
    "</details>\n",
    "\n",
    "* Now we see all the unitaries are of same form. So, lets generalize it-\n",
    "$$\n",
    "        U_{j}\\ =\\ \\begin{bmatrix}\n",
    "                    e^{ia} & 0 & 0 & 0\\\\ \n",
    "                    0 & e^{ib} & 0 & 0\\\\ \n",
    "                    0 & 0 & e^{ic} & 0\\\\\n",
    "                    0 & 0 & 0 & e^{id}\n",
    "                    \\end{bmatrix}   \n",
    "$$\n",
    "So putting $a,\\ b,\\ c,\\ d$ different phases, will give $U_{1},\\ U_{2},\\ U_{3},\\ U_{4}$.\n",
    "\n",
    "* The quantum phase estimation algorithm uses phase kickback to write the phase of $U$(in the Fourier basis) to the $t$ qubits. When we use a qubit to control the $U$ gate, the qubit will turn (due to kickback) proportionally to the phase $e^{2iπθ}$. We need to introduce the controlled unitary $C−U$ that applies the unitary operator $U$ on the target register only if its corresponding control bit is $|1\\rangle$.\n",
    "For quantum phase estimation, we need controlled unitaries, so, we need to decompose these unitaries as controlled unitaries. We need to convert $U_{1},\\ U_{2},\\ U_{3},\\ U_{4}$ to $CU_{1},\\ CU_{2},\\ CU_{3},\\ CU_{4}$ respectively.\n",
    "$$\n",
    "         U_{j}\\ =\\ \\begin{bmatrix}\n",
    "                    e^{ia} & 0 & 0 & 0\\\\ \n",
    "                    0 & e^{ib} & 0 & 0\\\\ \n",
    "                    0 & 0 & e^{ic} & 0\\\\\n",
    "                    0 & 0 & 0 & e^{id}\n",
    "                    \\end{bmatrix}\\ =\\ \n",
    "                    \\left(\\begin{bmatrix}\n",
    "                    1 & 0\\\\\n",
    "                    0 & e^{i(c-a)}\n",
    "                    \\end{bmatrix}\\ \\otimes\\ \n",
    "                    \\begin{bmatrix}\n",
    "                    e^{ia} & 0\\\\\n",
    "                    0 & e^{ib}\n",
    "                    \\end{bmatrix}\\right)\\ .\\ \n",
    "                    \\begin{bmatrix}\n",
    "                    1 & 0 & 0 & 0\\\\ \n",
    "                    0 & 1 & 0 & 0\\\\ \n",
    "                    0 & 0 & 1 & 0\\\\\n",
    "                    0 & 0 & 0 & e^{i(d-c+a-b)}\n",
    "                    \\end{bmatrix}\\ =\\ \n",
    "                    \\begin{bmatrix}\n",
    "                    e^{ia} & 0 & 0 & 0\\\\ \n",
    "                    0 & e^{ib} & 0 & 0\\\\ \n",
    "                    0 & 0 & e^{ic} & 0\\\\\n",
    "                    0 & 0 & 0 & e^{id}\n",
    "                    \\end{bmatrix} \n",
    "$$\n",
    "\n",
    "* Now we need to find the tensor products of all the unitaries to find the overall unitary.\n",
    "\n",
    "$$\n",
    "                    U\\ =\\ U_{1}\\ \\otimes\\ U_{2}\\ \\otimes\\ U_{3}\\ \\otimes\\ U_{4}.\n",
    "$$\n",
    "\n",
    "But as we discussed earlier, we need $\\text{controlled}-U$ for the phase estimation.\n",
    "$$\n",
    "CU\\ \\equiv\\ C\\ (U_{1}\\ \\otimes\\ U_{2}\\ \\otimes\\ U_{3}\\ \\otimes\\ U_{4})\\ \\equiv\\ CU_{1}\\ \\otimes\\ CU_{2}\\ \\otimes\\ CU_{3}\\ \\otimes\\ CU_{4}.\n",
    "$$\n",
    "The eigenvalues of this unitary matrix $U$, are estimated using the quantum phase estimation algorithm. The phases can be easily normalized to be bound within $\\text{0}$ and $\\text{2π}$ once we know the range of distances between the cities which is given to us in the problem. Here, $U$ is a diagonal matrix since it is a tensor product of $n$ diagonal matrices. This means that the eigenstates of this matrix $U$ are computational basis states with eigenvalues as the corresponding diagonal elements.\n",
    "\n",
    " **NOTE**: The quantum phase estimation algorithm (also referred to as quantum eigenvalue estimation) can be used\n",
    "to estimate the eigenvalue (or phase) of an eigenvector of a unitary operator. For more information on quantum phase estimation, check the [Quantum Phase Estimation](https://qiskit.org/textbook/ch-algorithms/quantum-phase-estimation.html) qiskit textbook page.\n",
    "\n",
    "\n",
    "\n",
    "#### $\\rm{II}$. For Eigenstates: <a id=\"eigenstates\"></a>\n",
    "\n",
    "Now that we have developed the unitary matrix, lets analyze it-\n",
    "\n",
    "* $U$ is diagonal matrix, since $U$ is a tensor product of diagonal matrix. So, out of $n^n$ elements in $U$, only the $(n-1)\\! $ contain length of all distinct possible Hamiltonian cycles in TSP. Each eigenvector is represented as distinct Hamiltonian cycle. So, $(n-1)\\ !$ number of eigenstate is possible of $U$ with eigenvalues being the total cost of\n",
    "the corresponding Hamiltonian cycle as phase. We estimate the phase corresponding to the route going through cities in some order and coming to the starting state.\n",
    "The eigenstates are represented in binary form to convert the city to computational basis vectors using a function-\n",
    "$$\n",
    "                 |\\psi\\rangle\\ =\\ \\otimes_{j}|i(j)−1\\rangle\\ where\\ j\\ \\in\\ [1..n]\n",
    "$$\n",
    "where the function $i(j)$ says- From which city we travelled to city $j$ ?\n",
    "\n",
    "Lets analyze these concepts with our 4 city model-\n",
    "\n",
    "* Our $U_{1},\\ U_{2},\\ U_{3},\\ U_{4}$ is a $4\\times4$ matrices. So, taking the tensor product of all ($=U$) will give total elements in $U$ as $4^4\\ =\\ 256$. Out of these $256$ elements, only the diagonals elements are non-zero.\n",
    "\n",
    "* The number of distinct Hamiltonian cycle in our 4 city model = $(n-1)\\ !$ = $(4-1)\\ !$ = $3\\ !$ = 6. And so, the no. of eigenstates is 6.\n",
    "\n",
    "* Lets see how the eigenstates are calculated-\n",
    "\n",
    "With 4 city taken, the total combination of all possible Hamiltonian cycle is $n\\!\\ =\\ 4\\ !\\ =\\ 4\\times3\\times2\\times1\\ =\\ 24$. Out of this $24$, $6$ are distinct Hamiltonian cycle.\n",
    "\n",
    "Now, what do we mean by distinct ? \n",
    "\n",
    "Well lets take the following paths, $1-2-3-4 \\to 2-3-4-1 \\to 3-4-1-2 \\to 4-1-2-3$. If we can observe carefully we can see- $2-3-4-1$ is just the left rotation of $1-2-3-4$, that is if we rotate $1-2-3-4$ by 1, it wll become $2-3-4-1$ and similarly if we rotate $2-3-4-1$ by 1 we get $3-4-1-2$, and again rotate by 1 we get $4-1-2-3$. \n",
    "So $2-3-4-1$, $3-4-1-2$, $4-1-2-3$ are just the circular permutation version of $1-2-3-4$. And most importantly the reason we are neglecting is because all 3 will provide the same cost on adding as that of $1-2-3-4$.\n",
    "\n",
    "Out of all possible combination, pick the one which on circular permutation will give other combination.\n",
    "\n",
    "We are taking the first $6$ state, since these state on different circular permutation will give all the state-\n",
    "\n",
    "<table>\n",
    "    <tr>\n",
    "        <th>Possible States</th>\n",
    "    </tr>\n",
    "    <tr>\n",
    "        <td>$1-2-3-4$</td>\n",
    "    </tr>\n",
    "    <tr>\n",
    "        <td>$1-2-4-3$</td>\n",
    "    </tr>\n",
    "    <tr>\n",
    "        <td>$1-4-2-3$</td>\n",
    "    </tr>\n",
    "    <tr>\n",
    "        <td>$1-4-3-2$</td>\n",
    "    </tr>\n",
    "    <tr>\n",
    "        <td>$1-3-2-4$</td>\n",
    "    </tr>\n",
    "    <tr>\n",
    "        <td>$1-3-4-2$</td>\n",
    "    </tr>\n",
    "</table>\n",
    "\n",
    "These $6$ distinct Hamiltonian cycle are not unique. We can also take one of the results of circular permutation inplace of that. So, in place of $1-2-3-4$ we can also take $2-3-4-1$, as we saw above it is one of the circular permuatation result of $1-2-3-4$.\n",
    "\n",
    "If the cost of travelling from city $i$ to city $j$ is same cost as travelling from city $j$ to city $i$, then the number of distinct Hamiltonian cycle is $\\frac{(n-1)\\ !}{2}$. So, in $1-2-3-4$ and $1-2-4-3$, the cost of travelling from city $3$ to city $4$ is same as travelling from city $4$ to city $3$. So, $1-2-3-4$ and $1-2-4-3$ will produce the same total cost.\n",
    "\n",
    "If the cost of travelling from city $i$ to city $j$ is not same cost as travelling from city $j$ to city $i$, then the number of distinct Hamiltonian cycle is $(n-1)\\ !$. In our city model, it will be $3$.\n",
    "\n",
    "* Now, lets see how the eigenstates are calculated from sequence of paths. Lets recall our function $i(j)$, which states from which city we travelled to city $j$, to convert into binary form-\n",
    "$$\n",
    "            |\\psi\\rangle\\ =\\ \\otimes_{j}|i(j)−1\\rangle\\ \\text{where j in [1..n]}\n",
    "$$\n",
    "\n",
    "So, lets take an example say $1-2-3-4$:\n",
    "$$\n",
    "i(1)\\ =\\ 4\n",
    "$$\n",
    "means from city 4 we travelled to city 1. So, we need to convert it to binary form for the computational basis states.\n",
    "According to the formula-\n",
    "$$\n",
    "|i(1)-1\\rangle\\ =\\ |4-1\\rangle\\ =\\ |3_{10}\\rangle\\ =\\ |11_{2}\\rangle\n",
    "$$\n",
    "\n",
    "Similarly, we have to do for all the city in the sequence:\n",
    "$$\n",
    "|i(2)-1\\rangle\\ =\\ |1-1\\rangle\\ =\\ |0_{10}\\rangle\\ =\\ |00_{2}\\rangle\n",
    "$$\n",
    "$$\n",
    "|i(3)-1\\rangle\\ =\\ |2-1\\rangle\\ =\\ |1_{10}\\rangle\\ =\\ |01_{2}\\rangle\n",
    "$$\n",
    "$$\n",
    "|i(4)-1\\rangle\\ =\\ |3-1\\rangle\\ =\\ |2_{10}\\rangle\\ =\\ |10_{2}\\rangle\n",
    "$$\n",
    "\n",
    "Finally taking tensor product of all:\n",
    "$$\n",
    "|11\\rangle\\ \\otimes\\ |00\\rangle\\ \\otimes\\ |01\\rangle\\ \\otimes\\ |10\\rangle\\ =\\ |11000110\\rangle\n",
    "$$\n",
    "We found the eigenstates in binary form. \n",
    "\n",
    "For $1-2-4-3$:\n",
    "$$\n",
    "|i(1)-1\\rangle\\ =\\ |3-1\\rangle\\ =\\ |2_{10}\\rangle\\ =\\ |10_{2}\\rangle\n",
    "$$\n",
    "$$\n",
    "|i(2)-1\\rangle\\ =\\ |1-1\\rangle\\ =\\ |0_{10}\\rangle\\ =\\ |00_{2}\\rangle\n",
    "$$\n",
    "$$\n",
    "|i(4)-1\\rangle\\ =\\ |2-1\\rangle\\ =\\ |1_{10}\\rangle\\ =\\ |01_{2}\\rangle\n",
    "$$\n",
    "$$\n",
    "|i(3)-1\\rangle\\ =\\ |4-1\\rangle\\ =\\ |3_{10}\\rangle\\ =\\ |11_{2}\\rangle\n",
    "$$\n",
    "$$\n",
    "|10\\rangle\\ \\otimes\\ |00\\rangle\\ \\otimes\\ |01\\rangle\\ \\otimes\\ |11\\rangle\\ =\\ |10000111\\rangle\n",
    "$$\n",
    "\n",
    "Lets see all of them:\n",
    "\n",
    "\n",
    "<table>\n",
    "    <tr>\n",
    "        <th>Sequence path</th>\n",
    "        <th>Eigenstates</th>\n",
    "    </tr>\n",
    "    <tr>\n",
    "        <td>$1-2-3-4$</td>\n",
    "        <td>$|11000110\\ \\rangle$</td>\n",
    "    </tr>\n",
    "    <tr>\n",
    "        <td>$1-2-4-3$</td>\n",
    "        <td>$|10000111\\ \\rangle$</td>\n",
    "    </tr>\n",
    "    <tr>\n",
    "        <td>$1-4-2-3$</td>\n",
    "        <td>$|10001101\\ \\rangle$</td>\n",
    "    </tr>\n",
    "    <tr>\n",
    "        <td>$1-4-3-2$</td>\n",
    "        <td>$|01001110\\ \\rangle$</td>\n",
    "    </tr>\n",
    "    <tr>\n",
    "        <td>$1-3-2-4$</td>\n",
    "        <td>$|11001001\\ \\rangle$</td>\n",
    "    </tr>\n",
    "    <tr>\n",
    "        <td>$1-3-4-2$</td>\n",
    "        <td>$|01001011\\ \\rangle$</td>\n",
    "    </tr>\n",
    "</table>\n",
    "\n",
    "\n",
    "If we consider the cost is same from going and returning, there will be $3$ sequence path out of $6$. For example we can take any one of $1-2-3-4$ or $1-2-4-3$, since cost from $3-4$ will be same as $4-3$.\n",
    "So these $6$ will reduce to:\n",
    "\n",
    "\n",
    "<table>\n",
    "    <tr>\n",
    "        <th>Sequence path</th>\n",
    "        <th>Eigenstates</th>\n",
    "    </tr>\n",
    "    <tr>\n",
    "        <td>$1-2-3-4$</td>\n",
    "        <td>$|11000110\\ \\rangle$</td>\n",
    "    </tr>\n",
    "    <tr>\n",
    "        <td>$1-4-2-3$</td>\n",
    "        <td>$|10001101\\ \\rangle$</td>\n",
    "    </tr>\n",
    "    <tr>\n",
    "        <td>$1-3-2-4$</td>\n",
    "        <td>$|11001001\\ \\rangle$</td>\n",
    "    </tr>\n",
    "</table>\n",
    "\n"
   ]
  },
  {
   "cell_type": "markdown",
   "metadata": {},
   "source": [
    "### Building the Components <a id=\"components\"></a>\n",
    "\n",
    "\n",
    "Now we have gone through all the theory part, lets build it part by part-\n",
    "\n",
    "#### For the Unitaries: <a id=\"unitaries\"></a>\n",
    "\n",
    "Building the unitary $U$ is the crucial part of quantum phase estimation. Building the $U$, means building $CU_{1},\\ CU_{2},\\ CU_{3},\\ CU_{4}$.\n",
    "Now if we remember we generalize $U_{j}$ and decomposing that in terms of controlled-unitaries.\n",
    "$$\n",
    "         U_{j}\\ =\\ \\begin{bmatrix}\n",
    "                    e^{ia} & 0 & 0 & 0\\\\ \n",
    "                    0 & e^{ib} & 0 & 0\\\\ \n",
    "                    0 & 0 & e^{ic} & 0\\\\\n",
    "                    0 & 0 & 0 & e^{id}\n",
    "                    \\end{bmatrix}\\ =\\ \n",
    "                    \\left(\\begin{bmatrix}\n",
    "                    1 & 0\\\\\n",
    "                    0 & e^{i(c-a)}\n",
    "                    \\end{bmatrix}\\ \\otimes\\ \n",
    "                    \\begin{bmatrix}\n",
    "                    e^{ia} & 0\\\\\n",
    "                    0 & e^{ib}\n",
    "                    \\end{bmatrix}\\right)\\ .\\ \n",
    "                    \\begin{bmatrix}\n",
    "                    1 & 0 & 0 & 0\\\\ \n",
    "                    0 & 1 & 0 & 0\\\\ \n",
    "                    0 & 0 & 1 & 0\\\\\n",
    "                    0 & 0 & 0 & e^{i(d-c+a-b)}\n",
    "                    \\end{bmatrix}\n",
    "$$\n",
    "In this matrix, $\\begin{bmatrix}1 & 0\\\\0 & e^{i(c-a)}\\end{bmatrix}$ means an unitary gate $U1(c-a)$. Similarly, $\\begin{bmatrix}e^{ia} & 0\\\\0 & e^{ib}\\end{bmatrix}$ means an unitary gate $U1(b-a)$ ehen we factor out the global phase $e^{ia}$ from it and make it a unitary $U(a)$.\n",
    "The matrix $\\begin{bmatrix}1 & 0 & 0 & 0\\\\ 0 & 1 & 0 & 0\\\\ 0 & 0 & 1 & 0\\\\0 & 0 & 0 & e^{i(d-c+a-b)}\\end{bmatrix}$ is a controlled unitary $CU1(d-c+a-b)$.\n",
    "\n",
    "NOTE: $U1(\\lambda)\\ =\\ P(\\lambda)\\ =\\ \\begin{bmatrix}1&0\\\\0&e^{i\\lambda}\\end{bmatrix}$. For more info see [Phase Gate in Qiskit Textbook](https://qiskit.org/textbook/ch-states/single-qubit-gates.html#5.-The-P-gate--)\n",
    "\n",
    "But we need to make $C-U_{j}$. For that the matrix $U$ will change from a $4\\times4$ matrix to $8\\times8$ matrix.\n",
    "$$\n",
    "U_{j}\\ \\to\\ CU_{j}\\ =\\ \\begin{bmatrix}\n",
    "                    e^{ia} & 0 & 0 & 0\\\\ \n",
    "                    0 & e^{ib} & 0 & 0\\\\ \n",
    "                    0 & 0 & e^{ic} & 0\\\\\n",
    "                    0 & 0 & 0 & e^{id}\n",
    "                    \\end{bmatrix}\\ \\to\\ \n",
    "                    \\begin{bmatrix}\n",
    "                    1 & 0 & 0 & 0 & 0 & 0 & 0 & 0\\\\\n",
    "                    0 & 1 & 0 & 0 & 0 & 0 & 0 & 0\\\\\n",
    "                    0 & 0 & 1 & 0 & 0 & 0 & 0 & 0\\\\\n",
    "                    0 & 0 & 0 & 1 & 0 & 0 & 0 & 0\\\\\n",
    "                    0 & 0 & 0 & 0 & e^{ia} & 0 & 0 & 0\\\\\n",
    "                    0 & 0 & 0 & 0 & 0 & e^{ib} & 0 & 0\\\\\n",
    "                    0 & 0 & 0 & 0 & 0 & 0 & e^{ic} & 0\\\\\n",
    "                    0 & 0 & 0 & 0 & 0 & 0 & 0 & e^{id}\n",
    "                    \\end{bmatrix}\n",
    "$$\n",
    "So, when we are converting $U_{j}$ to $C-U_{j}$, we have to do controlled everything in $U_{j}$. So $U1(c-a)$ will become $CU1(c-a)$, $U1(b-a)$ to $CU1(b-a)$, $U1(a)$ act as global phase, will be on the control qubit. And most importantly, $CU1(d-c+a-b)$ will become $\\text{controlled controlled}\\ U1(d-c+a-b)$, i.e. $CCU1(d-c+a-b)$.\n",
    "\n",
    "So, we can decompose any controlled controlled unitary by a series of unitary gates. By $\\text{lemma}\\ 6.1^{[2]}$:\n",
    "<img src=\"https://ars.els-cdn.com/content/image/3-s2.0-B9780123838742000011-f01-11-9780123838742.gif\">\n",
    "where $V$ is unitary.\n",
    "\n",
    "Similarly, using this we can decompose $\\text{controlled controlled}\\ U1(d-c+a-b)$. The $U$ in the image will be $U1(d-c+a-b)$, the $V$ will be $U1(d-c+a-b)$ and $V^{\\dagger}$ will be $U1(-(d-c+a-b))$.\n"
   ]
  },
  {
   "cell_type": "markdown",
   "metadata": {},
   "source": [
    "Lets analyze this $CCU1(d-c+a-b)$ using a test circuit"
   ]
  },
  {
   "cell_type": "code",
   "execution_count": 21,
   "metadata": {
    "tags": []
   },
   "outputs": [],
   "source": [
    "# Lets import all the necessary libraries\n",
    "from qiskit import QuantumCircuit, Aer, QuantumRegister, ClassicalRegister, execute\n",
    "from qiskit.visualization import plot_histogram, array_to_latex\n",
    "from qiskit.circuit.library import QFT\n",
    "from numpy import pi"
   ]
  },
  {
   "cell_type": "code",
   "execution_count": 65,
   "metadata": {
    "scrolled": true
   },
   "outputs": [
    {
     "data": {
      "image/png": "[encoded data removed]",
      "text/plain": [
       "<Figure size 877.277x204.68 with 1 Axes>"
      ]
     },
     "execution_count": 65,
     "metadata": {},
     "output_type": "execute_result"
    }
   ],
   "source": [
    "at = 0\n",
    "bt = pi/2\n",
    "ct = pi/8\n",
    "dt = pi/4\n",
    "\n",
    "qt = QuantumRegister(3, 'qt')\n",
    "qct = QuantumCircuit(qt)\n",
    "\n",
    "qct.cp(ct - at, qt[0], qt[1])\n",
    "qct.p(at, qt[0])\n",
    "qct.cp(bt - at, qt[0], qt[2])\n",
    "\n",
    "qct.cp((dt - ct + at - bt)/2, qt[1], qt[2])\n",
    "qct.cx(qt[0], qt[1])\n",
    "qct.cp(-(dt - ct + at - bt)/2, qt[1], qt[2])\n",
    "qct.cx(qt[0], qt[1])\n",
    "qct.cp((dt - ct + at - bt)/2, qt[0], qt[2])\n",
    "\n",
    "qct.draw()"
   ]
  },
  {
   "cell_type": "markdown",
   "metadata": {},
   "source": [
    "#### Unitary Simulator"
   ]
  },
  {
   "cell_type": "code",
   "execution_count": 66,
   "metadata": {},
   "outputs": [
    {
     "data": {
      "text/latex": [
       "$$\n",
       "\\text{Circuit = }\n",
       "\n",
       "\\begin{bmatrix}\n",
       "1 & 0 & 0 & 0 & 0 & 0 & 0 & 0  \\\\\n",
       " 0 & 1 & 0 & 0 & 0 & 0 & 0 & 0  \\\\\n",
       " 0 & 0 & 1 & 0 & 0 & 0 & 0 & 0  \\\\\n",
       " 0 & 0 & 0 & 0.92388 + 0.38268i & 0 & 0 & 0 & 0  \\\\\n",
       " 0 & 0 & 0 & 0 & 1 & 0 & 0 & 0  \\\\\n",
       " 0 & 0 & 0 & 0 & 0 & i & 0 & 0  \\\\\n",
       " 0 & 0 & 0 & 0 & 0 & 0 & 1 & 0  \\\\\n",
       " 0 & 0 & 0 & 0 & 0 & 0 & 0 & \\tfrac{1}{\\sqrt{2}}(1 + i)  \\\\\n",
       " \\end{bmatrix}\n",
       "$$"
      ],
      "text/plain": [
       "<IPython.core.display.Latex object>"
      ]
     },
     "execution_count": 66,
     "metadata": {},
     "output_type": "execute_result"
    }
   ],
   "source": [
    "backend_unitary_t = Aer.get_backend('unitary_simulator')\n",
    "job_unitary_t = execute(qct, backend_unitary_t, shots=8192)\n",
    "count_unitary_t = job_unitary_t.result().get_unitary()\n",
    "array_to_latex(count_unitary_t, prefix=\"\\\\text{Circuit = }\\n\")"
   ]
  },
  {
   "cell_type": "markdown",
   "metadata": {},
   "source": [
    "See the unitary matrix we are getting above is not exactly like\n",
    "$$\n",
    "\\begin{bmatrix}\n",
    "                    1 & 0 & 0 & 0 & 0 & 0 & 0 & 0\\\\\n",
    "                    0 & 1 & 0 & 0 & 0 & 0 & 0 & 0\\\\\n",
    "                    0 & 0 & 1 & 0 & 0 & 0 & 0 & 0\\\\\n",
    "                    0 & 0 & 0 & 1 & 0 & 0 & 0 & 0\\\\\n",
    "                    0 & 0 & 0 & 0 & e^{ia} & 0 & 0 & 0\\\\\n",
    "                    0 & 0 & 0 & 0 & 0 & e^{ib} & 0 & 0\\\\\n",
    "                    0 & 0 & 0 & 0 & 0 & 0 & e^{ic} & 0\\\\\n",
    "                    0 & 0 & 0 & 0 & 0 & 0 & 0 & e^{id}\n",
    "                    \\end{bmatrix}\n",
    "$$\n",
    "but kind of rearranged version of this. Though the matrix we are getting and the $CU_{j}$ matrix is mathematically same. This is because Qiskit interpret the tensor product from bottom qubit to top qubit. So to get exactly same form as the $CU_{j}$, we have to make the circuit inverted."
   ]
  },
  {
   "cell_type": "markdown",
   "metadata": {},
   "source": [
    "Lets see the inverted circuit"
   ]
  },
  {
   "cell_type": "code",
   "execution_count": 67,
   "metadata": {},
   "outputs": [
    {
     "data": {
      "image/png": "[encoded data removed]",
      "text/plain": [
       "<Figure size 875.11x204.68 with 1 Axes>"
      ]
     },
     "execution_count": 67,
     "metadata": {},
     "output_type": "execute_result"
    }
   ],
   "source": [
    "ai = 0\n",
    "bi = pi/2\n",
    "ci = pi/8\n",
    "di = pi/4\n",
    "\n",
    "qi = QuantumRegister(3, 'qi')\n",
    "qci = QuantumCircuit(qi)\n",
    "\n",
    "\n",
    "qci.cp(ci - ai, qi[2], qi[1])\n",
    "qci.p(ai, qi[2])\n",
    "qci.cp(bi - ai, qi[2], qi[0])\n",
    "\n",
    "qci.cp((di - ci + ai - bi)/2, qi[1], qi[0])\n",
    "qci.cx(qi[2], qi[1])\n",
    "qci.cp(-(di - ci + ai - bi)/2, qi[1], qi[0])\n",
    "qci.cx(qi[2], qi[1])\n",
    "qci.cp((di - ci + ai - bi)/2, qi[2], qi[0])\n",
    "\n",
    "qci.draw()"
   ]
  },
  {
   "cell_type": "markdown",
   "metadata": {},
   "source": [
    "#### Unitary Simulator"
   ]
  },
  {
   "cell_type": "code",
   "execution_count": 68,
   "metadata": {},
   "outputs": [
    {
     "data": {
      "text/latex": [
       "$$\n",
       "\\text{Circuit = }\n",
       "\n",
       "\\begin{bmatrix}\n",
       "1 & 0 & 0 & 0 & 0 & 0 & 0 & 0  \\\\\n",
       " 0 & 1 & 0 & 0 & 0 & 0 & 0 & 0  \\\\\n",
       " 0 & 0 & 1 & 0 & 0 & 0 & 0 & 0  \\\\\n",
       " 0 & 0 & 0 & 1 & 0 & 0 & 0 & 0  \\\\\n",
       " 0 & 0 & 0 & 0 & 1 & 0 & 0 & 0  \\\\\n",
       " 0 & 0 & 0 & 0 & 0 & i & 0 & 0  \\\\\n",
       " 0 & 0 & 0 & 0 & 0 & 0 & 0.92388 + 0.38268i & 0  \\\\\n",
       " 0 & 0 & 0 & 0 & 0 & 0 & 0 & \\tfrac{1}{\\sqrt{2}}(1 + i)  \\\\\n",
       " \\end{bmatrix}\n",
       "$$"
      ],
      "text/plain": [
       "<IPython.core.display.Latex object>"
      ]
     },
     "execution_count": 68,
     "metadata": {},
     "output_type": "execute_result"
    }
   ],
   "source": [
    "backend_unitary_i = Aer.get_backend('unitary_simulator')\n",
    "job_unitary_i = execute(qci, backend_unitary_i, shots=8192)\n",
    "count_unitary_i = job_unitary_i.result().get_unitary()\n",
    "array_to_latex(count_unitary_i, prefix=\"\\\\text{Circuit = }\\n\")"
   ]
  },
  {
   "cell_type": "markdown",
   "metadata": {},
   "source": [
    "Now this looks a lot like $U_{j}$ matrix. So both the version, we just have to pay attention to $\\text{QFT}$ part, depending on which version we used. For more info about $\\text{QFT}$ and $\\text{IQFT}$, refer to [Qiskit Textbook QFT Page](https://qiskit.org/textbook/ch-algorithms/quantum-fourier-transform.html)"
   ]
  },
  {
   "cell_type": "markdown",
   "metadata": {},
   "source": [
    "### Circuit <a id=\"circuit\"></a>\n",
    "\n",
    "\n",
    "Now lets build the whole circuit part by part by unitaries and by eigenstates."
   ]
  },
  {
   "cell_type": "markdown",
   "metadata": {},
   "source": [
    "Creating a function to create $CU_{j}$"
   ]
  },
  {
   "cell_type": "code",
   "execution_count": 8,
   "metadata": {},
   "outputs": [],
   "source": [
    "def controlled_unitary(qc, qubits: list, phases: list): # x,y,z = Specific Qubit; a,b,c,d = Phases\n",
    "    qc.cp(phases[2]-phases[0], qubits[0], qubits[1]) # controlled-U1(c-a)\n",
    "    qc.p(phases[0], qubits[0]) # U1(a)\n",
    "    qc.cp(phases[1]-phases[0], qubits[0], qubits[2]) # controlled-U1(b-a)\n",
    "    \n",
    "    # controlled controlled U1(d-c+a-b)\n",
    "    qc.cp((phases[3]-phases[2]+phases[0]-phases[1])/2, qubits[1], qubits[2])\n",
    "    qc.cx(qubits[0], qubits[1])\n",
    "    qc.cp(-(phases[3]-phases[2]+phases[0]-phases[1])/2, qubits[1], qubits[2])\n",
    "    qc.cx(qubits[0], qubits[1])\n",
    "    qc.cp((phases[3]-phases[2]+phases[0]-phases[1])/2, qubits[0], qubits[2])"
   ]
  },
  {
   "cell_type": "markdown",
   "metadata": {},
   "source": [
    "Now lets make the $U\\ =\\ U_{1}\\ \\otimes\\ U_{2}\\ \\otimes\\ U_{3}\\ \\otimes\\ U_{4}$"
   ]
  },
  {
   "cell_type": "code",
   "execution_count": 9,
   "metadata": {},
   "outputs": [],
   "source": [
    "def U(times, qc, unit, eigen, phases: list): # a,b,c = phases for U1; d,e,f = phases for U2; g,h,i = phases for U3; j,k,l = phases for U4; m_list=[m, n, o, p, q, r, s, t, u, a, b, c, d, e, f, g, h, i, j, k, l]\n",
    "    controlled_unitary(qc, [unit[0]]+eigen[0:2], [0]+phases[0:3])\n",
    "    controlled_unitary(qc, [unit[0]]+eigen[2:4], [phases[3]]+[0]+phases[4:6])\n",
    "    controlled_unitary(qc, [unit[0]]+eigen[4:6], phases[6:8]+[0]+[phases[8]])\n",
    "    controlled_unitary(qc, [unit[0]]+eigen[6:8], phases[9:12]+[0])"
   ]
  },
  {
   "cell_type": "markdown",
   "metadata": {},
   "source": [
    "Now lets make final $CU$, $CU^{2}$, $CU^{4}$, $CU^{8}$, $CU^{16}$, $CU^{32}$"
   ]
  },
  {
   "cell_type": "code",
   "execution_count": 19,
   "metadata": {},
   "outputs": [],
   "source": [
    "def final_U(times, eigen, phases: list):\n",
    "    unit = QuantumRegister(1, 'unit')\n",
    "    qc = QuantumCircuit(unit, eigen)\n",
    "    for _ in range(2**times):\n",
    "        U(times, qc, unit, eigen, phases)\n",
    "    return qc.to_gate(label='U'+'_'+(str(2**times)))"
   ]
  },
  {
   "cell_type": "markdown",
   "metadata": {},
   "source": [
    "Lets consider all the phases:\n",
    "\n",
    "The phases are normalized to be bound within $[0,\\ 2π]$ once we know the range of distances between the cities.\n",
    "\n",
    "<table>\n",
    "    <tr>\n",
    "        <th>Phases</th>\n",
    "        <th>Encoded as</th>\n",
    "        <th>Phase value</th>\n",
    "    </tr>\n",
    "    <tr>\n",
    "        <td>$\\phi_{1\\to1}$</td>\n",
    "        <td></td>\n",
    "        <td>$\\text{0}$</td>\n",
    "    </tr>\n",
    "    <tr>\n",
    "        <td>$\\phi_{2\\to1}$</td>\n",
    "        <td>$\\text{a}$</td>\n",
    "        <td>$\\frac{\\pi}{2}$</td>\n",
    "    </tr>\n",
    "    <tr>\n",
    "        <td>$\\phi_{3\\to1}$</td>\n",
    "        <td>$\\text{b}$</td>\n",
    "        <td>$\\frac{\\pi}{8}$</td>\n",
    "    </tr>\n",
    "    <tr>\n",
    "        <td>$\\phi_{4\\to1}$</td>\n",
    "        <td>$\\text{c}$</td>\n",
    "        <td>$\\frac{\\pi}{4}$</td>\n",
    "    </tr>\n",
    "    <tr>\n",
    "        <td>--</td>\n",
    "        <td>--</td>\n",
    "        <td>--</td>\n",
    "    </tr>\n",
    "    <tr>\n",
    "        <td>$\\phi_{1\\to2}$</td>\n",
    "        <td>$\\text{d}$</td>\n",
    "        <td>$\\frac{\\pi}{2}$</td>\n",
    "    </tr>\n",
    "    <tr>\n",
    "        <td>$\\phi_{2\\to2}$</td>\n",
    "        <td></td>\n",
    "        <td>$\\text{0}$</td>\n",
    "    </tr>\n",
    "    <tr>\n",
    "        <td>$\\phi_{3\\to2}$</td>\n",
    "        <td>$\\text{e}$</td>\n",
    "        <td>$\\frac{\\pi}{4}$</td>\n",
    "    </tr>\n",
    "    <tr>\n",
    "        <td>$\\phi_{4\\to2}$</td>\n",
    "        <td>$\\text{f}$</td>\n",
    "        <td>$\\frac{\\pi}{4}$</td>\n",
    "    </tr>\n",
    "    <tr>\n",
    "        <td>--</td>\n",
    "        <td>--</td>\n",
    "        <td>--</td>\n",
    "    </tr>\n",
    "    <tr>\n",
    "        <td>$\\phi_{1\\to3}$</td>\n",
    "        <td>$\\text{g}$</td>\n",
    "        <td>$\\frac{\\pi}{8}$</td>\n",
    "    </tr>\n",
    "    <tr>\n",
    "        <td>$\\phi_{2\\to3}$</td>\n",
    "        <td>$\\text{h}$</td>\n",
    "        <td>$\\frac{\\pi}{4}$</td>\n",
    "    </tr>\n",
    "    <tr>\n",
    "        <td>$\\phi_{3\\to3}$</td>\n",
    "        <td></td>\n",
    "        <td>$\\text{0}$</td>\n",
    "    </tr>\n",
    "    <tr>\n",
    "        <td>$\\phi_{4\\to3}$</td>\n",
    "        <td>$\\text{i}$</td>\n",
    "        <td>$\\frac{\\pi}{8}$</td>\n",
    "    </tr>\n",
    "    <tr>\n",
    "        <td>--</td>\n",
    "        <td>--</td>\n",
    "        <td>--</td>\n",
    "    </tr>\n",
    "    <tr>\n",
    "        <td>$\\phi_{1\\to4}$</td>\n",
    "        <td>$\\text{j}$</td>\n",
    "        <td>$\\frac{\\pi}{4}$</td>\n",
    "    </tr>\n",
    "    <tr>\n",
    "        <td>$\\phi_{2\\to4}$</td>\n",
    "        <td>$\\text{k}$</td>\n",
    "        <td>$\\frac{\\pi}{4}$</td>\n",
    "    </tr>\n",
    "    <tr>\n",
    "        <td>$\\phi_{3\\to4}$</td>\n",
    "        <td>$\\text{l}$</td>\n",
    "        <td>$\\frac{\\pi}{8}$</td>\n",
    "    </tr>\n",
    "    <tr>\n",
    "        <td>$\\phi_{4\\to4}$</td>\n",
    "        <td></td>\n",
    "        <td>$\\text{0}$</td>\n",
    "    </tr>\n",
    "</table>\n"
   ]
  },
  {
   "cell_type": "markdown",
   "metadata": {},
   "source": [
    "Building the eigenstates"
   ]
  },
  {
   "cell_type": "code",
   "execution_count": 11,
   "metadata": {},
   "outputs": [],
   "source": [
    "# Storing the eigenvalues in a list\n",
    "eigen_values = [\"11000110\", \"10001101\", \"11001001\"]\n",
    "\n",
    "# Function to place appropriate corresponding gate according to eigenstates\n",
    "def eigenstates(qc, eigen, index):\n",
    "    for i in range(0, len(eigen)):\n",
    "        if eigen_values[index][i] == '1':\n",
    "            qc.x(eigen[i])\n",
    "        if eigen_values[index][i] == '0':\n",
    "            pass\n",
    "    qc.barrier()\n",
    "    return qc"
   ]
  },
  {
   "cell_type": "markdown",
   "metadata": {},
   "source": [
    "Building the circuit"
   ]
  },
  {
   "cell_type": "code",
   "execution_count": 27,
   "metadata": {
    "scrolled": false,
    "tags": []
   },
   "outputs": [
    {
     "data": {
      "image/png": "[encoded data removed]",
      "text/plain": [
       "<Figure size 1583.4x927.08 with 1 Axes>"
      ]
     },
     "execution_count": 27,
     "metadata": {},
     "output_type": "execute_result"
    }
   ],
   "source": [
    "# Initialization\n",
    "unit = QuantumRegister(6, 'unit')\n",
    "eigen = QuantumRegister(8, 'eigen')\n",
    "unit_classical = ClassicalRegister(6, 'unit_classical')\n",
    "qc = QuantumCircuit(unit, eigen, unit_classical)\n",
    "#\n",
    "\n",
    "# Setting one eigenstate \n",
    "# Playing with the first eigenstate here i.e. 11000110 from eigen_values list.\n",
    "# (Try to play with other eigenstates from the eigen_values list)\n",
    "eigenstates(qc, eigen, 0)\n",
    "#\n",
    "\n",
    "# Hadamard on the 'unit' qubits\n",
    "qc.h(unit[:])\n",
    "qc.barrier()\n",
    "#\n",
    "\n",
    "# Controlled Unitary  \n",
    "phases = [pi / 2, pi / 8, pi / 4, pi / 2, pi / 4, pi / 4, pi / 8, pi / 4, pi / 8, pi / 4, pi / 4, pi / 8] # a, b, c, d, e, f, g, h, i, j, k, l\n",
    "for i in range(0, 6):\n",
    "    qc.append(final_U(i, eigen, phases), [unit[5-i]] + eigen[:])\n",
    "#\n",
    "\n",
    "# Inverse QFT \n",
    "qc.barrier()\n",
    "qft = QFT(num_qubits=len(unit), inverse=True, insert_barriers=True, do_swaps=False, name='Inverse QFT')\n",
    "qc.append(qft, qc.qubits[:len(unit)])\n",
    "qc.barrier()\n",
    "#\n",
    "\n",
    "# Measure\n",
    "qc.measure(unit, unit_classical)\n",
    "#\n",
    "\n",
    "# Draw\n",
    "qc.draw()"
   ]
  },
  {
   "cell_type": "markdown",
   "metadata": {},
   "source": [
    "#### QASM Simulator <a id=\"qasm_simulator\"></a>"
   ]
  },
  {
   "cell_type": "code",
   "execution_count": 28,
   "metadata": {
    "scrolled": false
   },
   "outputs": [
    {
     "name": "stdout",
     "output_type": "stream",
     "text": [
      "{'100100': 8192}\n"
     ]
    },
    {
     "data": {
      "image/png": "[encoded data removed]",
      "text/plain": [
       "<Figure size 504x360 with 1 Axes>"
      ]
     },
     "execution_count": 28,
     "metadata": {},
     "output_type": "execute_result"
    }
   ],
   "source": [
    "backend = Aer.get_backend('qasm_simulator')\n",
    "job = execute(qc, backend, shots=8192)\n",
    "count = job.result().get_counts()\n",
    "print(count)\n",
    "plot_histogram(count)"
   ]
  },
  {
   "cell_type": "markdown",
   "metadata": {},
   "source": [
    "### Conclusion <a id=\"conclusion\"></a>\n",
    "\n",
    "\n",
    "**Firstly**, this process is not complete yet. We only used the first eigenstates $|11000110\\rangle$ here, this process has to be done for all the eigenstates to find the total distance for all the route. After that, use quantum search algorithm to find the minimum of those distances. This means, the time required scales with the number of eigenstates.\n",
    "\n",
    "**Secondly**, the $\\text{paper}^{[1]}$ we took the reference for this has many mistakes for the circuit. We fixed it and used the improved version.\n",
    "\n",
    "**Thirdly**, Now that we have went theough the theory, concept and build the circuit, lets discuss-\n",
    "Does using this process of quantum phase estimation to solve a problem of $\\text{NP-Hard}$ gives a algorithm/way to solve these kind of problems more efficiently and optimally or in other word Is this a perfect solution ?\n",
    "The answer is No. This process of using phase estimation, which encode the cost as phases is one of the many ways to solve these category of problems. But these approach is also not perfect. Perfect in the sense, it does not give any efficient algorithm to solve these (NP-Hard) problems in polynomial time.\n",
    "In this process, we find all the possible Hamiltonian cycle in the graph and based on those cycle we calculated the total cost. But, keep in mind, Finding all Hamiltonian cycle of a graph is itself a NP-Complete problem. So we gave precomputed Hamiltonian cycle in the beginning to get the eigenstates. We used $\\text{4}$ nodes/city, but for large number of cities say 10,000, finding all possible Hamiltonian cycle is tedious job."
   ]
  },
  {
   "cell_type": "markdown",
   "metadata": {},
   "source": [
    "### References <a id=\"references\"></a>\n",
    "\n",
    "\n",
    "This notebook/writing is based on:\n",
    "\n",
    "* [1]. Karthik Srinivasan, Saipriya Satyajit, Bikash K Behera, and Prasanta K Panigrahi. [Efficient quantum algorithm for solving travelling salesman problem: An IBM quantum experience](https://arxiv.org/abs/1805.10928). *arXiv:1805.10928v1, 2018*.\n",
    "\n",
    "* [2]. Adriano Barenco, Charles H. Bennett, Richard Cleve, David P. DiVincenzo, Norman Margolus, Peter Shor, Tycho Sleator, John Smolin, Harald Weinfurter. [Elementary gates for quantum computation](https://arxiv.org/abs/quant-ph/9503016). *arXiv:9503016v1, 1995*.\n",
    "\n",
    "* [3]. [Graphonline](https://graphonline.ru/) for the [Graph](https://graphonline.ru/tmp/saved/dP/dPpQHbuVQbkanMVi.png) creation.\n"
   ]
  },
  {
   "cell_type": "markdown",
   "metadata": {},
   "source": [
    "### Version Information <a id=\"version_information\"></a>"
   ]
  },
  {
   "cell_type": "code",
   "execution_count": 77,
   "metadata": {},
   "outputs": [
    {
     "data": {
      "text/html": [
       "<h3>Version Information</h3><table><tr><th>Qiskit Software</th><th>Version</th></tr><tr><td><code>qiskit-terra</code></td><td>0.18.1</td></tr><tr><td><code>qiskit-aer</code></td><td>0.8.2</td></tr><tr><td><code>qiskit-ignis</code></td><td>0.6.0</td></tr><tr><td><code>qiskit-ibmq-provider</code></td><td>0.16.0</td></tr><tr><td><code>qiskit-aqua</code></td><td>0.9.4</td></tr><tr><td><code>qiskit</code></td><td>0.29.0</td></tr><tr><td><code>qiskit-nature</code></td><td>0.1.5</td></tr><tr><td><code>qiskit-finance</code></td><td>0.2.0</td></tr><tr><td><code>qiskit-optimization</code></td><td>0.2.1</td></tr><tr><td><code>qiskit-machine-learning</code></td><td>0.2.0</td></tr><tr><th>System information</th></tr><tr><td>Python</td><td>3.8.10 | packaged by conda-forge | (default, May 11 2021, 07:01:05) \n",
       "[GCC 9.3.0]</td></tr><tr><td>OS</td><td>Linux</td></tr><tr><td>CPUs</td><td>8</td></tr><tr><td>Memory (Gb)</td><td>31.408958435058594</td></tr><tr><td colspan='2'>Wed Sep 15 17:12:03 2021 UTC</td></tr></table>"
      ],
      "text/plain": [
       "<IPython.core.display.HTML object>"
      ]
     },
     "metadata": {},
     "output_type": "display_data"
    }
   ],
   "source": [
    "import qiskit.tools.jupyter\n",
    "%qiskit_version_table"
   ]
  }
 ],
 "metadata": {
  "kernelspec": {
   "display_name": "Python 3",
   "language": "python",
   "name": "python3"
  },
  "language_info": {
   "codemirror_mode": {
    "name": "ipython",
    "version": 3
   },
   "file_extension": ".py",
   "mimetype": "text/x-python",
   "name": "python",
   "nbconvert_exporter": "python",
   "pygments_lexer": "ipython3",
   "version": "3.7.7"
  },
  "widgets": {
   "application/vnd.jupyter.widget-state+json": {
    "state": {
     "03c2f16637844e739bec8d51fa197d7b": {
      "model_module": "@jupyter-widgets/controls",
      "model_module_version": "1.5.0",
      "model_name": "ButtonStyleModel",
      "state": {}
     },
     "069d5148b8804dc39f84d00a5258e789": {
      "model_module": "@jupyter-widgets/controls",
      "model_module_version": "1.5.0",
      "model_name": "HTMLModel",
      "state": {
       "layout": "IPY_MODEL_e621820308624f278ba98cd3b4aa7b4c",
       "style": "IPY_MODEL_b8c845bb47004488a0a2b76d615bbe4a",
       "value": "<h5>Queue</h5>"
      }
     },
     "1178d5f1e0d347488c841076eb46b66c": {
      "model_module": "@jupyter-widgets/controls",
      "model_module_version": "1.5.0",
      "model_name": "DescriptionStyleModel",
      "state": {
       "description_width": ""
      }
     },
     "1a0fb78c8b0c4cb9aee65e48f0cf65ca": {
      "model_module": "@jupyter-widgets/controls",
      "model_module_version": "1.5.0",
      "model_name": "HTMLModel",
      "state": {
       "layout": "IPY_MODEL_7a3fa49c9a2f45009a3d0c7c23c90298",
       "style": "IPY_MODEL_daf5776c97584a3eac7de6902bf182a9",
       "value": "<p style='font-family: IBM Plex Sans, Arial, Helvetica, sans-serif; font-size: 20px; font-weight: medium;'>Circuit Properties</p>"
      }
     },
     "56434eb8f56848219e54e4f18c2d21d9": {
      "model_module": "@jupyter-widgets/controls",
      "model_module_version": "1.5.0",
      "model_name": "HTMLModel",
      "state": {
       "layout": "IPY_MODEL_e4786c2954d948939cc7e1496bbe3075",
       "style": "IPY_MODEL_7e6fd5ebb43445e8a8f72a3ab1e94254",
       "value": "<h5>Backend</h5>"
      }
     },
     "6cbaeef7c56f48a7b394d55dc41b44d5": {
      "model_module": "@jupyter-widgets/controls",
      "model_module_version": "1.5.0",
      "model_name": "HTMLModel",
      "state": {
       "layout": "IPY_MODEL_78676374082b4b61acd4a7b9d744055a",
       "style": "IPY_MODEL_1178d5f1e0d347488c841076eb46b66c",
       "value": "<h5>Job ID</h5>"
      }
     },
     "78676374082b4b61acd4a7b9d744055a": {
      "model_module": "@jupyter-widgets/base",
      "model_module_version": "1.2.0",
      "model_name": "LayoutModel",
      "state": {
       "width": "190px"
      }
     },
     "7a3fa49c9a2f45009a3d0c7c23c90298": {
      "model_module": "@jupyter-widgets/base",
      "model_module_version": "1.2.0",
      "model_name": "LayoutModel",
      "state": {
       "margin": "0px 0px 10px 0px"
      }
     },
     "7e6fd5ebb43445e8a8f72a3ab1e94254": {
      "model_module": "@jupyter-widgets/controls",
      "model_module_version": "1.5.0",
      "model_name": "DescriptionStyleModel",
      "state": {
       "description_width": ""
      }
     },
     "818ef92ee08345bea70178616746f5a4": {
      "model_module": "@jupyter-widgets/base",
      "model_module_version": "1.2.0",
      "model_name": "LayoutModel",
      "state": {
       "grid_area": "right",
       "padding": "0px 0px 0px 0px",
       "width": "70px"
      }
     },
     "87c2f0e2fecf44e093cad7a408ef4d35": {
      "model_module": "@jupyter-widgets/controls",
      "model_module_version": "1.5.0",
      "model_name": "HTMLModel",
      "state": {
       "layout": "IPY_MODEL_de546c776b3546ba9bd8229b10b92ad1",
       "style": "IPY_MODEL_b139befe56214e7a91d56e22dcb054a9",
       "value": "<h5>Status</h5>"
      }
     },
     "90787034aff84ff7af3c615f7f653a0f": {
      "model_module": "@jupyter-widgets/controls",
      "model_module_version": "1.5.0",
      "model_name": "DescriptionStyleModel",
      "state": {
       "description_width": ""
      }
     },
     "b139befe56214e7a91d56e22dcb054a9": {
      "model_module": "@jupyter-widgets/controls",
      "model_module_version": "1.5.0",
      "model_name": "DescriptionStyleModel",
      "state": {
       "description_width": ""
      }
     },
     "b8c845bb47004488a0a2b76d615bbe4a": {
      "model_module": "@jupyter-widgets/controls",
      "model_module_version": "1.5.0",
      "model_name": "DescriptionStyleModel",
      "state": {
       "description_width": ""
      }
     },
     "c8bc28e2a8574fdcad908b644b1251be": {
      "model_module": "@jupyter-widgets/base",
      "model_module_version": "1.2.0",
      "model_name": "LayoutModel",
      "state": {
       "grid_template_areas": "\n                                       \". . . . right \"\n                                        ",
       "grid_template_columns": "20% 20% 20% 20% 20%",
       "width": "100%"
      }
     },
     "d67ae8fc4c7740cfa6e878167172dab8": {
      "model_module": "@jupyter-widgets/controls",
      "model_module_version": "1.5.0",
      "model_name": "ButtonModel",
      "state": {
       "button_style": "primary",
       "description": "Clear",
       "layout": "IPY_MODEL_818ef92ee08345bea70178616746f5a4",
       "style": "IPY_MODEL_03c2f16637844e739bec8d51fa197d7b"
      }
     },
     "d9842b23365247b7946aaf69d393cdc9": {
      "model_module": "@jupyter-widgets/base",
      "model_module_version": "1.2.0",
      "model_name": "LayoutModel",
      "state": {}
     },
     "daf5776c97584a3eac7de6902bf182a9": {
      "model_module": "@jupyter-widgets/controls",
      "model_module_version": "1.5.0",
      "model_name": "DescriptionStyleModel",
      "state": {
       "description_width": ""
      }
     },
     "de546c776b3546ba9bd8229b10b92ad1": {
      "model_module": "@jupyter-widgets/base",
      "model_module_version": "1.2.0",
      "model_name": "LayoutModel",
      "state": {
       "width": "95px"
      }
     },
     "e01a2cd4f3064acdb6d8b0518b56328e": {
      "model_module": "@jupyter-widgets/controls",
      "model_module_version": "1.5.0",
      "model_name": "GridBoxModel",
      "state": {
       "children": [
        "IPY_MODEL_d67ae8fc4c7740cfa6e878167172dab8"
       ],
       "layout": "IPY_MODEL_c8bc28e2a8574fdcad908b644b1251be"
      }
     },
     "e4786c2954d948939cc7e1496bbe3075": {
      "model_module": "@jupyter-widgets/base",
      "model_module_version": "1.2.0",
      "model_name": "LayoutModel",
      "state": {
       "width": "145px"
      }
     },
     "e621820308624f278ba98cd3b4aa7b4c": {
      "model_module": "@jupyter-widgets/base",
      "model_module_version": "1.2.0",
      "model_name": "LayoutModel",
      "state": {
       "width": "70px"
      }
     },
     "ef28d4367bb845599212e4d4e752daaa": {
      "model_module": "@jupyter-widgets/controls",
      "model_module_version": "1.5.0",
      "model_name": "HTMLModel",
      "state": {
       "layout": "IPY_MODEL_d9842b23365247b7946aaf69d393cdc9",
       "style": "IPY_MODEL_90787034aff84ff7af3c615f7f653a0f",
       "value": "<h5>Message</h5>"
      }
     },
     "f975fe9b2fec43efa23b684697198573": {
      "model_module": "@jupyter-widgets/controls",
      "model_module_version": "1.5.0",
      "model_name": "HBoxModel",
      "state": {
       "children": [
        "IPY_MODEL_6cbaeef7c56f48a7b394d55dc41b44d5",
        "IPY_MODEL_56434eb8f56848219e54e4f18c2d21d9",
        "IPY_MODEL_87c2f0e2fecf44e093cad7a408ef4d35",
        "IPY_MODEL_069d5148b8804dc39f84d00a5258e789",
        "IPY_MODEL_ef28d4367bb845599212e4d4e752daaa"
       ],
       "layout": "IPY_MODEL_fe5323d91d96453d80e12251405820dc"
      }
     },
     "fe5323d91d96453d80e12251405820dc": {
      "model_module": "@jupyter-widgets/base",
      "model_module_version": "1.2.0",
      "model_name": "LayoutModel",
      "state": {
       "margin": "0px 0px 0px 37px",
       "width": "600px"
      }
     }
    },
    "version_major": 2,
    "version_minor": 0
   }
  }
 },
 "nbformat": 4,
 "nbformat_minor": 5
}
