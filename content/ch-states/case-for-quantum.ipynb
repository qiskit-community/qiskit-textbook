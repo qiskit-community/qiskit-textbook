{
 "cells": [
  {
   "cell_type": "markdown",
   "metadata": {
    "tags": [
     "remove_cell"
    ]
   },
   "source": [
    "# The Case for Quantum Computers"
   ]
  },
  {
   "cell_type": "markdown",
   "metadata": {
    "tags": [
     "contents"
    ]
   },
   "source": [
    "## Contents\n",
    "\n",
    "1. [The Complexity of Adding](#adding)    \n",
    "2. [Big O Notation](#big-o)    \n",
    "3. [Complexity Theory](#complexity)    \n",
    "4. [Beyond Digital Computation](#beyond)       \n",
    "5. [When to Use a Quantum Computer](#when)\n",
    "6. [References](#references) "
   ]
  },
  {
   "cell_type": "markdown",
   "metadata": {},
   "source": [
    "## 1. The Complexity of Adding <a id=\"adding\"></a>\n",
    "\n",
    "The case for quantum computers, simply put, is that they can solve certain problems that no classical computer ever could. To understand why this is, we first need to consider how much computational effort is required to solve certain problems.\n",
    "\n",
    "To begin, we can revisit the algorithm considered in the first section: adding two numbers.\n",
    "\n",
    "```\n",
    "   9213\n",
    "+  1854\n",
    "=  ????\n",
    "```\n",
    "\n",
    "Adding two $n$-digit numbers can be done with a set of simple operations, each of which consists of just adding two single-digit numbers. To analyze the complexity of the procedure, we can think about how many of these basic additions are required and how this number depends on $n$. We'll refer to this number as $c(n)$.\n",
    "\n",
    "In the easiest case, where we don't need to carry a 1 at any point, only $n$ basic additions are required. In the worst case, we will need to perform $n$ carry operations, each of which will require an extra basic addition. From these considerations, we can conclude that $n \\leq c(n) \\leq 2n$.\n",
    "\n",
    "\n",
    "## 2. Big O Notation <a id=\"big-o\"></a>\n",
    "\n",
    "We can summarize this result by saying that $c(n)$ grows linearly with $n$. More generally, we can say that a linear function of $n$ can be found which acts as an upper bound for $c(n)$ when $n$ is large. Since this is a long and wordy sentence, we won't actually want to say this very often. Instead, we can express it more compactly using 'big O notation'.\n",
    "\n",
    "<p>\n",
    " <details>\n",
    "  <summary>Definition: Big O notation (Click to expand)</summary>\n",
    "For some example functions $f(x)$ and $g(x)$ and parameter $x$, the statement $f(x) = O(g(x))$  means that there exists a finite numbers $M>0$ and $x_0$ such that\n",
    "$$\n",
    "g(x) \\leq M f(x) \\forall x>x_0.\n",
    "$$ \n",
    " </details>\n",
    "</p>\n",
    "\n",
    "Big O notation is useful as it allows us to compare how the resources/runtime required by an algorithm scale with input size, independent of the specific platform and algorithm implementation under consideration. Below are examples of common scaling factors of a runtime $N$ as a function of input size $n$; it is clear that for a sufficiently large problem size the runtime of a $O(a^n)$ algorithm will exceed that of a $O(n^b)$ algorithm, where $a$ and $b$ are constants.\n",
    "\n",
    "<figure>\n",
    "  <img src=\"images/1920px-Comparison_computational_complexity.png\" alt=\"Drawing\" style=\"max-width: 400px;\"/>\n",
    "  <figcaption>Comparisons of different time complexities. n is the number of input bits, and N is the number of operations required. [5]</figcaption>\n",
    "</figure>\n",
    "\n",
    "With this notation, the property described above is expressed simply as $c(n) = O(n)$. This captures the linear behavior without needing to dwell on the specifics. Therefore, independent of whether $c(n) = n$, $c(n) = 2n$, or something else, we can simply say that $c(n) = O(n)$.\n",
    "\n",
    "There is a hidden assumption in what we have considered so far. By talking about the number of digits, we have assumed the use of a specific number system. However, the number of digits will depend on which number system we are using, be it decimal, binary, or something else. For example, the number of bits $n_2$ required to express a number is related to the number of decimal digits $n_{10}$ required to express the same number by\n",
    "\n",
    "$n_2 = \\left\\lceil \\frac{\\log 10}{ \\log 2} \\, n_{10} \\right\\rceil \\approx 3.3 \\, n_{10}.$\n",
    "\n",
    "Since this too is a linear relationship, it does not change how we express the complexity using big O notation. We can equally say that $c(n_2) = O(n_2)$, $c(n_{10}) = O(n_{10})$, or even $c(n_{10}) = O(n_{2})$. It is for this reason that we can often simply speak of the number of digits, $n$, without needing to specify what number system is used.\n",
    "\n",
    "\n",
    "## 3. Complexity Theory <a id=\"complexity\"></a>\n",
    "\n",
    "Complexity theory is the study of the computational effort required to run any algorithm. By considering the best possible algorithm to solve a given problem, we can also study the computational effort inherent in solving this problem. For addition we already know the optimal algorithm, and so know that it is a problem with $O(n)$ complexity.\n",
    "\n",
    "Multiplication is not quite so simple. Algorithms you learned at school for multiplying two $n$-digit numbers will have required $O(n^2)$ basic operations, such as single-digit additions and multiplications. Though algorithms with lower asymptotic complexity have been found, it is widely regarded as impossible to perform multiplication with $O(n)$ complexity.\n",
    "\n",
    "Even so, multiplication is far from being the most complex problem. An example of a problem with far greater complexity is factorization: taking an $n$-digit number and finding its prime factors. The best known algorithm in this case has a complexity that is worse than $O\\left(e^{n^{1/3}}\\right)$. The exponential here means that the complexity grows very quickly and makes factorization a very hard problem to solve.\n",
    "\n",
    "To demonstrate this point using actual computation time, we can take a recent example.$^{1}$ Consider the following 829-digit number."
   ]
  },
  {
   "cell_type": "code",
   "execution_count": 1,
   "metadata": {},
   "outputs": [],
   "source": [
    "rsa_250 = 2140324650240744961264423072839333563008614715144755017797754920881418023447140136643345519095804679610992851872470914587687396261921557363047454770520805119056493106687691590019759405693457452230589325976697471681738069364894699871578494975937497937"
   ]
  },
  {
   "cell_type": "markdown",
   "metadata": {},
   "source": [
    "If you try using your computer to add or multiply numbers of this size, you'll find that it can solve such problems very quickly. If you multiply the number of processors your computer has with the number of seconds it takes to get the number of core-seconds, you are sure to find that very much less than 1 core-second is required.\n",
    "\n",
    "However, performing factorization on this number requires a supercomputer and around 2700 core-years, which eventually yields the following two factors."
   ]
  },
  {
   "cell_type": "code",
   "execution_count": 2,
   "metadata": {},
   "outputs": [
    {
     "data": {
      "text/plain": [
       "2140324650240744961264423072839333563008614715144755017797754920881418023447140136643345519095804679610992851872470914587687396261921557363047454770520805119056493106687691590019759405693457452230589325976697471681738069364894699871578494975937497937"
      ]
     },
     "execution_count": 2,
     "metadata": {},
     "output_type": "execute_result"
    }
   ],
   "source": [
    "p = 64135289477071580278790190170577389084825014742943447208116859632024532344630238623598752668347708737661925585694639798853367\n",
    "q = 33372027594978156556226010605355114227940760344767554666784520987023841729210037080257448673296881877565718986258036932062711\n",
    "p*q"
   ]
  },
  {
   "cell_type": "markdown",
   "metadata": {},
   "source": [
    "For the factorization of larger numbers, we easily get to a point where a planet-sized supercomputer would need to run for the age of the universe. Clearly, any such problem is practically impossible.\n",
    "\n",
    "So far we have considered only mathematical operations on $n$-digit numbers, with the complexity expressed as the number of simple single-digit operations required. However, complexity theory can be used to analyze any computational method for any kind of problem, be it searching databases, rendering graphics, simulating dynamics, or traversing a dungeon in *Legend of Zelda*. In each case, we are able to find a parameter or set of parameters that serve as our input size and express the complexity in terms of this input size using big O notation. For searching a database of $N$ entries, for example, the complexity is $O(N)$.\n",
    "\n",
    "Formally, defining the complexity of an algorithm depends on the exact theoretical model for computation we are using. Each model has a set of basic operations, known as primitive operations, with which any algorithm can be expressed. For Boolean circuits, as we considered in the first section, the primitive operations are the logic gates. For Turing machines, a hypothetical form of computer proposed by Alan Turing, we imagine a device stepping through and manipulating information stored on a tape. The RAM model has a more complex set of primitive operations and acts as an idealized form of the computers we use every day. All these are models of digital computation, based on discretized manipulations of discrete values. Different as they many seem from each other, it turns out that it is very easy for each of them to simulate the others. This means that in most cases the computational complexity does not significantly depend on which of these models is used. Rather than stating complexity specifically for the RAM model or Turing machines, we can therefore simply speak of the complexity for digital computers."
   ]
  },
  {
   "cell_type": "markdown",
   "metadata": {},
   "source": [
    "## 4. Beyond Digital Computation <a id=\"beyond\"></a>\n",
    "\n",
    "Though digital computers are dominant now, they are not the only form of computation. Analog computers were also widely studied and used in the past. Unlike the discrete values of digital computers, these are based on precise manipulations of continuously varying parameters. It has sometimes been claimed that such devices could quickly solve problems that are intractable for digital computers. However, such claims have never been realized. A major stumbling block for analog computers is the inability to build devices with arbitrarily high precision. In digital computers, the discretization means that errors must be relatively large in order to be noticeable, and methods for detecting and correcting such errors can then be implemented. In analog computers, however, errors can be arbitrarily small and impossible to detect, but still their effects can build up to ruin a computation.\n",
    "\n",
    "If one were to propose an ideal model of computation, it might seek to combine the robustness of a digital computer with the subtle manipulations of an analog computer. To achieve this we can look to quantum mechanics. We have already seen that qubits are a system with discrete outputs `0` and `1`, and yet can exist in states that can only be described by continuous parameters. This is a particular instance of the well-known notion of 'wave-particle' duality that is typical of quantum systems. They cannot be fully described as either discrete or continuous, but rather a combination of the two. As Einstein said,$^{2}$\n",
    "\n",
    "> 'It seems as though we must use sometimes the one theory and sometimes the other, while at times we may use either. We are faced with a new kind of difficulty. We have two contradictory pictures of reality; separately neither of them fully explains the phenomena...but together they do.'\n",
    "\n",
    "A quantum computer, whose primitive operations are gates applied to qubits, is therefore neither analog nor digital, but something unique. In further chapters we will explore the consequences of this unique nature. We will see that quantum computers can solve problems with a radically different complexity to digital computers. In fact, quantum computing is the only known technology that can be exponentially faster than classical computers for certain tasks, potentially reducing calculation times from years to minutes. We will also explore how quantum error correction can remove the effects of any imperfections."
   ]
  },
  {
   "cell_type": "markdown",
   "metadata": {},
   "source": [
    "## 5. When to Use a Quantum Computer <a id=\"when\"></a>\n",
    "\n",
    "With qubits and quantum gates, we can design novel algorithms that are fundamentally different from digital and analog classical ones. In this way, we hope to find solutions to problems that are intractable for classical computers.\n",
    "\n",
    "One way in which this can be done is when we have some function for which we want to determine a global property. For example, if we want to find the value of some parameter $x$ for which some function $f(x)$ is a minimum, or the period of the function if $f(x)$ is periodic. An algorithm on a digital computer might use a process in which $f(x)$ is computed for a variety of different inputs in order to get sufficient information about the global property. With a quantum computer, however, the fact that we can create superposition states means that the function can be applied to many possible inputs simultaneously. This does not mean that we can access all possible outputs since measurement of such a state simply gives us a single result. However, we can instead seek to induce a quantum interference effect, which will reveal the global property we require.\n",
    "\n",
    "This general description illustrates the workings of many of the quantum algorithms that have already been discovered. One prominent example is Grover's algorithm, which reduces the complexity of searching through $N$ items from $O(N)$ to $O(N^{1/2})$. This quadratic speedup could be useful in many applications with tasks that can be expressed as an unstructered search, such as optimization problems and machine learning."
   ]
  },
  {
   "cell_type": "code",
   "execution_count": 3,
   "metadata": {
    "tags": [
     "remove_input"
    ]
   },
   "outputs": [
    {
     "data": {
      "text/html": [
       "<figure>\n",
       "\n",
       "\n",
       "\n",
       "<!DOCTYPE html>\n",
       "<html lang=\"en\">\n",
       "  \n",
       "  <head>\n",
       "    \n",
       "      <meta charset=\"utf-8\">\n",
       "      <title>Bokeh Application</title>\n",
       "      \n",
       "      \n",
       "        \n",
       "          \n",
       "        \n",
       "        \n",
       "          \n",
       "        <script type=\"text/javascript\" src=\"https://cdn.bokeh.org/bokeh/release/bokeh-2.0.1.min.js\" integrity=\"sha384-JpP8FXbgAZLkfur7LiK3j9AGBhHNIvF742meBJrjO2ShJDhCG2I1uVvW+0DUtrmc\" crossorigin=\"anonymous\"></script>\n",
       "        <script type=\"text/javascript\" src=\"https://cdn.bokeh.org/bokeh/release/bokeh-widgets-2.0.1.min.js\" integrity=\"sha384-xZlADit0Q04ISQEdKg2k3L4W9AwQBAuDs9nJL9fM/WwzL1tEU9VPNezOFX0nLEAz\" crossorigin=\"anonymous\"></script>\n",
       "        <script type=\"text/javascript\">\n",
       "            Bokeh.set_log_level(\"info\");\n",
       "        </script>\n",
       "        \n",
       "      \n",
       "      \n",
       "    \n",
       "  </head>\n",
       "  \n",
       "  \n",
       "  <body>\n",
       "    \n",
       "      \n",
       "        \n",
       "          \n",
       "          \n",
       "            \n",
       "              <div class=\"bk-root\" id=\"532bcf6a-aa8d-4f20-a52a-54313974e967\" data-root-id=\"1384\"></div>\n",
       "            \n",
       "          \n",
       "        \n",
       "      \n",
       "      \n",
       "        <script type=\"application/json\" id=\"1495\">\n",
       "          {\"a6c96c2d-1671-40ff-a5e3-171d0dc69a4a\":{\"roots\":{\"references\":[{\"attributes\":{\"text\":\"\"},\"id\":\"1360\",\"type\":\"Title\"},{\"attributes\":{\"data_source\":{\"id\":\"1331\"},\"glyph\":{\"id\":\"1356\"},\"hover_glyph\":null,\"muted_glyph\":null,\"nonselection_glyph\":{\"id\":\"1357\"},\"selection_glyph\":null,\"view\":{\"id\":\"1359\"}},\"id\":\"1358\",\"type\":\"GlyphRenderer\"},{\"attributes\":{\"data\":{\"x\":[0,1,2,3,4,5,6,7,8,9,10,11,12,13,14,15,16,17,18,19,20,21,22,23,24,25,26,27,28,29,30,31,32,33,34,35,36,37,38,39,40,41,42,43,44,45,46,47,48,49,50,51,52,53,54,55,56,57,58,59,60,61,62,63,64,65,66,67,68,69,70,71,72,73,74,75,76,77,78,79,80,81,82,83,84,85,86,87,88,89,90,91,92,93,94,95,96,97,98,99,100,101,102,103,104,105,106,107,108,109,110,111,112,113,114,115,116,117,118,119,120,121,122,123,124,125,126,127,128,129,130,131,132,133,134,135,136,137,138,139,140,141,142,143,144,145,146,147,148,149,150,151,152,153,154,155,156,157,158,159,160,161,162,163,164,165,166,167,168,169,170,171,172,173,174,175,176,177,178,179,180,181,182,183,184,185,186,187,188,189,190,191,192,193,194,195,196,197,198,199,200,201,202,203,204,205,206,207,208,209,210,211,212,213,214,215,216,217,218,219,220,221,222,223,224,225,226,227,228,229,230,231,232,233,234,235,236,237,238,239,240,241,242,243,244,245,246,247,248,249,250,251,252,253,254,255,256,257,258,259,260,261,262,263,264,265,266,267,268,269,270,271,272,273,274,275,276,277,278,279,280,281,282,283,284,285,286,287,288,289,290,291,292,293,294,295,296,297,298,299,300,301,302,303,304,305,306,307,308,309,310,311,312,313,314,315,316,317,318,319,320,321,322,323,324,325,326,327,328,329,330,331,332,333,334,335,336,337,338,339,340,341,342,343,344,345,346,347,348,349,350,351,352,353,354,355,356,357,358,359,360,361,362,363,364,365,366,367,368,369,370,371,372,373,374,375,376,377,378,379,380,381,382,383,384,385,386,387,388,389,390,391,392,393,394,395,396,397,398,399,400,401,402,403,404,405,406,407,408,409,410,411,412,413,414,415,416,417,418,419,420,421,422,423,424,425,426,427,428,429,430,431,432,433,434,435,436,437,438,439,440,441,442,443,444,445,446,447,448,449,450,451,452,453,454,455,456,457,458,459,460,461,462,463,464,465,466,467,468,469,470,471,472,473,474,475,476,477,478,479,480,481,482,483,484,485,486,487,488,489,490,491,492,493,494,495,496,497,498,499],\"y\":[0,1,2,3,4,5,6,7,8,9,10,11,12,13,14,15,16,17,18,19,20,21,22,23,24,25,26,27,28,29,30,31,32,33,34,35,36,37,38,39,40,41,42,43,44,45,46,47,48,49,50,51,52,53,54,55,56,57,58,59,60,61,62,63,64,65,66,67,68,69,70,71,72,73,74,75,76,77,78,79,80,81,82,83,84,85,86,87,88,89,90,91,92,93,94,95,96,97,98,99,100,101,102,103,104,105,106,107,108,109,110,111,112,113,114,115,116,117,118,119,120,121,122,123,124,125,126,127,128,129,130,131,132,133,134,135,136,137,138,139,140,141,142,143,144,145,146,147,148,149,150,151,152,153,154,155,156,157,158,159,160,161,162,163,164,165,166,167,168,169,170,171,172,173,174,175,176,177,178,179,180,181,182,183,184,185,186,187,188,189,190,191,192,193,194,195,196,197,198,199,200,201,202,203,204,205,206,207,208,209,210,211,212,213,214,215,216,217,218,219,220,221,222,223,224,225,226,227,228,229,230,231,232,233,234,235,236,237,238,239,240,241,242,243,244,245,246,247,248,249,250,251,252,253,254,255,256,257,258,259,260,261,262,263,264,265,266,267,268,269,270,271,272,273,274,275,276,277,278,279,280,281,282,283,284,285,286,287,288,289,290,291,292,293,294,295,296,297,298,299,300,301,302,303,304,305,306,307,308,309,310,311,312,313,314,315,316,317,318,319,320,321,322,323,324,325,326,327,328,329,330,331,332,333,334,335,336,337,338,339,340,341,342,343,344,345,346,347,348,349,350,351,352,353,354,355,356,357,358,359,360,361,362,363,364,365,366,367,368,369,370,371,372,373,374,375,376,377,378,379,380,381,382,383,384,385,386,387,388,389,390,391,392,393,394,395,396,397,398,399,400,401,402,403,404,405,406,407,408,409,410,411,412,413,414,415,416,417,418,419,420,421,422,423,424,425,426,427,428,429,430,431,432,433,434,435,436,437,438,439,440,441,442,443,444,445,446,447,448,449,450,451,452,453,454,455,456,457,458,459,460,461,462,463,464,465,466,467,468,469,470,471,472,473,474,475,476,477,478,479,480,481,482,483,484,485,486,487,488,489,490,491,492,493,494,495,496,497,498,499]},\"selected\":{\"id\":\"1379\"},\"selection_policy\":{\"id\":\"1380\"}},\"id\":\"1331\",\"type\":\"ColumnDataSource\"},{\"attributes\":{},\"id\":\"1380\",\"type\":\"UnionRenderers\"},{\"attributes\":{\"below\":[{\"id\":\"1342\"}],\"center\":[{\"id\":\"1345\"},{\"id\":\"1349\"},{\"id\":\"1366\"}],\"left\":[{\"id\":\"1346\"}],\"plot_height\":400,\"plot_width\":800,\"renderers\":[{\"id\":\"1358\"},{\"id\":\"1371\"}],\"sizing_mode\":\"scale_width\",\"title\":{\"id\":\"1360\"},\"toolbar\":{\"id\":\"1352\"},\"x_range\":{\"id\":\"1334\"},\"x_scale\":{\"id\":\"1338\"},\"y_range\":{\"id\":\"1336\"},\"y_scale\":{\"id\":\"1340\"}},\"id\":\"1333\",\"subtype\":\"Figure\",\"type\":\"Plot\"},{\"attributes\":{\"line_alpha\":0.1,\"line_color\":\"red\",\"line_width\":3,\"x\":{\"field\":\"x\"},\"y\":{\"field\":\"y\"}},\"id\":\"1370\",\"type\":\"Line\"},{\"attributes\":{},\"id\":\"1379\",\"type\":\"Selection\"},{\"attributes\":{\"end\":500},\"id\":\"1334\",\"type\":\"Range1d\"},{\"attributes\":{},\"id\":\"1340\",\"type\":\"LinearScale\"},{\"attributes\":{\"data\":{\"x\":[0,1,2,3,4,5,6,7,8,9,10,11,12,13,14,15,16,17,18,19,20,21,22,23,24,25,26,27,28,29,30,31,32,33,34,35,36,37,38,39,40,41,42,43,44,45,46,47,48,49,50,51,52,53,54,55,56,57,58,59,60,61,62,63,64,65,66,67,68,69,70,71,72,73,74,75,76,77,78,79,80,81,82,83,84,85,86,87,88,89,90,91,92,93,94,95,96,97,98,99,100,101,102,103,104,105,106,107,108,109,110,111,112,113,114,115,116,117,118,119,120,121,122,123,124,125,126,127,128,129,130,131,132,133,134,135,136,137,138,139,140,141,142,143,144,145,146,147,148,149,150,151,152,153,154,155,156,157,158,159,160,161,162,163,164,165,166,167,168,169,170,171,172,173,174,175,176,177,178,179,180,181,182,183,184,185,186,187,188,189,190,191,192,193,194,195,196,197,198,199,200,201,202,203,204,205,206,207,208,209,210,211,212,213,214,215,216,217,218,219,220,221,222,223,224,225,226,227,228,229,230,231,232,233,234,235,236,237,238,239,240,241,242,243,244,245,246,247,248,249,250,251,252,253,254,255,256,257,258,259,260,261,262,263,264,265,266,267,268,269,270,271,272,273,274,275,276,277,278,279,280,281,282,283,284,285,286,287,288,289,290,291,292,293,294,295,296,297,298,299,300,301,302,303,304,305,306,307,308,309,310,311,312,313,314,315,316,317,318,319,320,321,322,323,324,325,326,327,328,329,330,331,332,333,334,335,336,337,338,339,340,341,342,343,344,345,346,347,348,349,350,351,352,353,354,355,356,357,358,359,360,361,362,363,364,365,366,367,368,369,370,371,372,373,374,375,376,377,378,379,380,381,382,383,384,385,386,387,388,389,390,391,392,393,394,395,396,397,398,399,400,401,402,403,404,405,406,407,408,409,410,411,412,413,414,415,416,417,418,419,420,421,422,423,424,425,426,427,428,429,430,431,432,433,434,435,436,437,438,439,440,441,442,443,444,445,446,447,448,449,450,451,452,453,454,455,456,457,458,459,460,461,462,463,464,465,466,467,468,469,470,471,472,473,474,475,476,477,478,479,480,481,482,483,484,485,486,487,488,489,490,491,492,493,494,495,496,497,498,499],\"y\":{\"__ndarray__\":\"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\",\"dtype\":\"float64\",\"shape\":[500]}},\"selected\":{\"id\":\"1393\"},\"selection_policy\":{\"id\":\"1394\"}},\"id\":\"1332\",\"type\":\"ColumnDataSource\"},{\"attributes\":{},\"id\":\"1351\",\"type\":\"SaveTool\"},{\"attributes\":{\"source\":{\"id\":\"1331\"}},\"id\":\"1359\",\"type\":\"CDSView\"},{\"attributes\":{},\"id\":\"1393\",\"type\":\"Selection\"},{\"attributes\":{\"axis_label\":\"Size of Problem\",\"formatter\":{\"id\":\"1363\"},\"ticker\":{\"id\":\"1343\"}},\"id\":\"1342\",\"type\":\"LinearAxis\"},{\"attributes\":{\"args\":{\"source\":{\"id\":\"1332\"}},\"code\":\"\\n        var data = source.data;\\n        var f = (10-cb_obj.value)*2 + 3\\n        var x = data['x']\\n        var y = data['y']\\n        for (var i = 0; i &lt; x.length; i++) {\\n            y[i] = f*Math.sqrt(x[i])\\n        }\\n        source.change.emit();\\n    \"},\"id\":\"1382\",\"type\":\"CustomJS\"},{\"attributes\":{},\"id\":\"1394\",\"type\":\"UnionRenderers\"},{\"attributes\":{\"line_alpha\":0.1,\"line_color\":\"blue\",\"line_width\":3,\"x\":{\"field\":\"x\"},\"y\":{\"field\":\"y\"}},\"id\":\"1357\",\"type\":\"Line\"},{\"attributes\":{},\"id\":\"1338\",\"type\":\"LinearScale\"},{\"attributes\":{\"items\":[{\"id\":\"1367\"},{\"id\":\"1381\"}],\"location\":\"top_left\"},\"id\":\"1366\",\"type\":\"Legend\"},{\"attributes\":{\"source\":{\"id\":\"1332\"}},\"id\":\"1372\",\"type\":\"CDSView\"},{\"attributes\":{\"end\":500},\"id\":\"1336\",\"type\":\"Range1d\"},{\"attributes\":{\"active_drag\":\"auto\",\"active_inspect\":\"auto\",\"active_multi\":null,\"active_scroll\":\"auto\",\"active_tap\":\"auto\",\"tools\":[{\"id\":\"1350\"},{\"id\":\"1351\"}]},\"id\":\"1352\",\"type\":\"Toolbar\"},{\"attributes\":{\"line_alpha\":0.6,\"line_color\":\"red\",\"line_width\":3,\"x\":{\"field\":\"x\"},\"y\":{\"field\":\"y\"}},\"id\":\"1369\",\"type\":\"Line\"},{\"attributes\":{},\"id\":\"1343\",\"type\":\"BasicTicker\"},{\"attributes\":{\"label\":{\"value\":\"Classical Search O(N)\"},\"renderers\":[{\"id\":\"1358\"}]},\"id\":\"1367\",\"type\":\"LegendItem\"},{\"attributes\":{\"axis\":{\"id\":\"1346\"},\"dimension\":1,\"ticker\":null},\"id\":\"1349\",\"type\":\"Grid\"},{\"attributes\":{},\"id\":\"1365\",\"type\":\"BasicTickFormatter\"},{\"attributes\":{\"axis\":{\"id\":\"1342\"},\"ticker\":null},\"id\":\"1345\",\"type\":\"Grid\"},{\"attributes\":{},\"id\":\"1347\",\"type\":\"BasicTicker\"},{\"attributes\":{\"axis_label\":\"Time Taken to Find Solution\",\"formatter\":{\"id\":\"1365\"},\"ticker\":{\"id\":\"1347\"}},\"id\":\"1346\",\"type\":\"LinearAxis\"},{\"attributes\":{\"end\":10.0,\"format\":\"0[.]00\",\"js_property_callbacks\":{\"change:value\":[{\"id\":\"1382\"}]},\"show_value\":false,\"start\":1.0,\"step\":0.1,\"title\":\"Relative Speed of Quantum Computer\",\"value\":7.5},\"id\":\"1383\",\"type\":\"Slider\"},{\"attributes\":{\"data_source\":{\"id\":\"1332\"},\"glyph\":{\"id\":\"1369\"},\"hover_glyph\":null,\"muted_glyph\":null,\"nonselection_glyph\":{\"id\":\"1370\"},\"selection_glyph\":null,\"view\":{\"id\":\"1372\"}},\"id\":\"1371\",\"type\":\"GlyphRenderer\"},{\"attributes\":{\"label\":{\"value\":\"Quantum Search O(\\u221aN)\"},\"renderers\":[{\"id\":\"1371\"}]},\"id\":\"1381\",\"type\":\"LegendItem\"},{\"attributes\":{\"children\":[{\"id\":\"1333\"},{\"id\":\"1383\"}]},\"id\":\"1384\",\"type\":\"Column\"},{\"attributes\":{},\"id\":\"1363\",\"type\":\"BasicTickFormatter\"},{\"attributes\":{},\"id\":\"1350\",\"type\":\"ResetTool\"},{\"attributes\":{\"line_alpha\":0.6,\"line_color\":\"blue\",\"line_width\":3,\"x\":{\"field\":\"x\"},\"y\":{\"field\":\"y\"}},\"id\":\"1356\",\"type\":\"Line\"}],\"root_ids\":[\"1384\"]},\"title\":\"Bokeh Application\",\"version\":\"2.0.1\"}}\n",
       "        </script>\n",
       "        <script type=\"text/javascript\">\n",
       "          (function() {\n",
       "            var fn = function() {\n",
       "              Bokeh.safely(function() {\n",
       "                (function(root) {\n",
       "                  function embed_document(root) {\n",
       "                    \n",
       "                  var docs_json = document.getElementById('1495').textContent;\n",
       "                  var render_items = [{\"docid\":\"a6c96c2d-1671-40ff-a5e3-171d0dc69a4a\",\"root_ids\":[\"1384\"],\"roots\":{\"1384\":\"532bcf6a-aa8d-4f20-a52a-54313974e967\"}}];\n",
       "                  root.Bokeh.embed.embed_items(docs_json, render_items);\n",
       "                \n",
       "                  }\n",
       "                  if (root.Bokeh !== undefined) {\n",
       "                    embed_document(root);\n",
       "                  } else {\n",
       "                    var attempts = 0;\n",
       "                    var timer = setInterval(function(root) {\n",
       "                      if (root.Bokeh !== undefined) {\n",
       "                        clearInterval(timer);\n",
       "                        embed_document(root);\n",
       "                      } else {\n",
       "                        attempts++;\n",
       "                        if (attempts > 100) {\n",
       "                          clearInterval(timer);\n",
       "                          console.log(\"Bokeh: ERROR: Unable to run BokehJS code because BokehJS library is missing\");\n",
       "                        }\n",
       "                      }\n",
       "                    }, 10, root)\n",
       "                  }\n",
       "                })(window);\n",
       "              });\n",
       "            };\n",
       "            if (document.readyState != \"loading\") fn();\n",
       "            else document.addEventListener(\"DOMContentLoaded\", fn);\n",
       "          })();\n",
       "        </script>\n",
       "    \n",
       "  </body>\n",
       "  \n",
       "</html><figcaption>\n",
       "Comparing performance of algorithms across different platforms is difficult. What we can tell (through big-O-notation) is \n",
       "despite the difference in speeds between our classical and quantum computers, for a large enough problem, the quantum search \n",
       "algorithm will always out-perform the classical search algorithm.</figcaption></figure>"
      ],
      "text/plain": [
       "<IPython.core.display.HTML object>"
      ]
     },
     "execution_count": 3,
     "metadata": {},
     "output_type": "execute_result"
    }
   ],
   "source": [
    "# This code is to create the interactive figure\n",
    "from bokeh.layouts import column\n",
    "from bokeh.models import ColumnDataSource, CustomJS, Slider\n",
    "from bokeh.plotting import figure, show\n",
    "from bokeh.embed import file_html\n",
    "from bokeh.resources import CDN\n",
    "import numpy as np\n",
    "import IPython\n",
    "\n",
    "x = np.arange(0,500)\n",
    "y_linear = x\n",
    "y_sqrt = 7.5*np.sqrt(x)\n",
    "\n",
    "linear_source = ColumnDataSource(data=dict(x=x, y=y_linear))\n",
    "sqrt_source = ColumnDataSource(data=dict(x=x, y=y_sqrt))\n",
    "\n",
    "plot = figure(\n",
    "              plot_height=400, \n",
    "              plot_width=800,\n",
    "              sizing_mode=\"scale_width\",\n",
    "              tools=\"reset,save\",\n",
    "              x_range=[0, 500], y_range=[0, 500], \n",
    "              x_axis_label=\"Size of Problem\",\n",
    "              y_axis_label=\"Time Taken to Find Solution\")\n",
    "plot.line('x', 'y', source=linear_source, line_width=3, line_alpha=0.6, color=\"blue\", legend_label=\"Classical Search O(N)\")\n",
    "plot.line('x', 'y', source=sqrt_source, line_width=3, line_alpha=0.6, color=\"red\", legend_label=\"Quantum Search O(√N)\")\n",
    "plot.legend.location = \"top_left\"\n",
    "\n",
    "callback = CustomJS(args=dict(source=sqrt_source), code=\"\"\"\n",
    "        var data = source.data;\n",
    "        var f = (10-cb_obj.value)*2 + 3\n",
    "        var x = data['x']\n",
    "        var y = data['y']\n",
    "        for (var i = 0; i < x.length; i++) {\n",
    "            y[i] = f*Math.sqrt(x[i])\n",
    "        }\n",
    "        source.change.emit();\n",
    "    \"\"\")\n",
    "\n",
    "speed_slider = Slider(title=\"Relative Speed of Quantum Computer\", value=7.5, start=1.0, end=10.0, step=0.1, show_value=False)\n",
    "speed_slider.js_on_change('value', callback)\n",
    "\n",
    "layout = column(plot, speed_slider)\n",
    "\n",
    "caption = \"\"\"\n",
    "Comparing performance of algorithms across different platforms is difficult. What we can tell (through big-O-notation) is \n",
    "despite the difference in speeds between our classical and quantum computers, for a large enough problem, the quantum search \n",
    "algorithm will always out-perform the classical search algorithm.\"\"\"\n",
    "\n",
    "html_repr = file_html(layout, CDN)\n",
    "html_fig = \"<figure>{0}<figcaption>{1}</figcaption></figure>\".format(html_repr, caption)\n",
    "IPython.display.HTML(html_fig)"
   ]
  },
  {
   "cell_type": "markdown",
   "metadata": {},
   "source": [
    "An even more impressive speedup is obtained with Shor's algorithm, which analyses periodic functions at the heart of the factorization problem. This allows a quantum solution for factoring $n$-digit numbers with complexity $O(n^3)$. This is a superpolynomial speedup compared with the complexity for digital computers, which is worse than $O\\left(e^{n^{1/3}}\\right)$.\n",
    "\n",
    "Another approach towards quantum algorithms is to use quantum computers to solve quantum problems. As we will see in the next chapter, expressing a quantum state requires an amount of information that scales exponentially with the number of qubits. Just writing down the state of $n$ qubits therefore becomes an intractable task for digital computers as $n$ increases. However, for a quantum computer we just need $n$ qubits to do the same job. This natural capability to express and manipulate quantum states allows us to study and better understand quantum systems of interest, such as molecules and fundamental particles.\n",
    "\n",
    "Applying and adapting quantum algorithms in different industries therefore has the promise of enabling disruptive use cases in business and science. These include breakthroughs in drug discovery, machine learning, materials discovery, option pricing, protein folding, and supply chain.$^{3}$ Particularly promising are those problems for which classical algorithms face inherent scaling limits and which do not require a large classical dataset to be loaded. For quantum advantage, a given problem's answers need to strongly depend on exponentially many entangled degrees of freedom with structure such that quantum mechanics evolves to a solution without having to go through all paths. Note, however, that the precise relationship between problems that are 'easy' for quantum computers (solvable in polynomial time) and other complexity-theoretic classes is still an open question.$^{4}$\n",
    "\n",
    "This is just a taste of how quantum algorithms can peform computation in a unique way. More details on these approaches can be found in later chapters. But first we need to look beyond the single qubit and invest some time into understanding the full set of quantum gates that we will need. This is the focus of the next chapter."
   ]
  },
  {
   "cell_type": "markdown",
   "metadata": {},
   "source": [
    "## 6. References <a id='references'></a>\n",
    "\n",
    "1. https://lists.gforge.inria.fr/pipermail/cado-nfs-discuss/2020-February/001166.html\n",
    "2. Albert Einstein, Leopold Infeld (1938). The Evolution of Physics: The Growth of Ideas from Early Concepts to Relativity and Quanta. Cambridge University Press.\n",
    "3. https://www.ibm.com/thought-leadership/institute-business-value/report/quantumstrategy\n",
    "4. https://www.cs.virginia.edu/~robins/The_Limits_of_Quantum_Computers.pdf\n",
    "5. Image: Cmglee / CC BY-SA (https://creativecommons.org/licenses/by-sa/4.0)"
   ]
  }
 ],
 "metadata": {
  "kernelspec": {
   "display_name": "Python 3",
   "language": "python",
   "name": "python3"
  },
  "language_info": {
   "codemirror_mode": {
    "name": "ipython",
    "version": 3
   },
   "file_extension": ".py",
   "mimetype": "text/x-python",
   "name": "python",
   "nbconvert_exporter": "python",
   "pygments_lexer": "ipython3",
   "version": "3.7.6"
  },
  "widgets": {
   "application/vnd.jupyter.widget-state+json": {
    "state": {},
    "version_major": 2,
    "version_minor": 0
   }
  }
 },
 "nbformat": 4,
 "nbformat_minor": 4
}
