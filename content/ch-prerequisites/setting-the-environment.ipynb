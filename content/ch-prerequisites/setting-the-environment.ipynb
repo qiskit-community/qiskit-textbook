{
 "cells": [
  {
   "cell_type": "markdown",
   "metadata": {
    "tags": [
     "remove_cell"
    ]
   },
   "source": [
    "## Environment Setup Guide to work with Qiskit Textbook"
   ]
  },
  {
   "cell_type": "markdown",
   "metadata": {},
   "source": [
    "This is a comprehensive guide for setting up your environment on your personal computer for working with Qiskit Textbook. This will help you reproduce the results as you see them on the textbook website. The Qiskit Textbook is written in [Jupyter notebooks](https://jupyter.org/install). Notebooks and [the website](https://qiskit.org/textbook/preface.html) are the only media in which the Textbook is fully supported."
   ]
  },
  {
   "cell_type": "markdown",
   "metadata": {},
   "source": [
    "## Installing the qiskit_textbook Package\n",
    "\n",
    "The Qiskit Textbook provides some tools and widgets specific to the Textbook. This is not part of Qiskit and is available through the `qiskit_textbook` package. The quickest way to install this with [Pip](http://pypi.org/project/pip/) and [Git](http://git-scm.com/) is through the command:\n",
    "\n",
    "```\n",
    "pip install git+https://github.com/qiskit-community/qiskit-textbook.git#subdirectory=qiskit-textbook-src\n",
    "```\n",
    "Alternatively, you can download the folder [qiskit-textbook-src](https://github.com/qiskit-community/qiskit-textbook) from the Github and run:\n",
    "\n",
    "```\n",
    "pip install ./qiskit-textbook-src\n",
    "```\n",
    "\n",
    "from the directory that contains this folder.\n"
   ]
  },
  {
   "cell_type": "markdown",
   "metadata": {},
   "source": [
    "## Steps to reproduce exact prerendered output as given in qiskit textbook (Optional)"
   ]
  },
  {
   "cell_type": "markdown",
   "metadata": {},
   "source": [
    "### 1. Setting up default drawer to Matplotlib\n",
    "\n",
    "The default backend for `QuantumCircuit.draw()` or `qiskit.visualization.circuit_drawer()` is the text backend. However, depending on your local environment you may want to change these defaults to something better suited for your use case. This is done with the user config file. By default the user config file should be located in `~/.qiskit/` and is the `settings.conf` file.\n",
    "\n",
    "Qiskit Textbook uses default circuit drawer as Matplotlib. To reproduce visualizations as given in qiskit textbook create a `settings.conf` file (usually found in `~/.qiskit/`) with contents:"
   ]
  },
  {
   "cell_type": "markdown",
   "metadata": {},
   "source": [
    "    [default]\n",
    "    circuit_drawer = mpl"
   ]
  },
  {
   "cell_type": "markdown",
   "metadata": {},
   "source": [
    "### 2. Setting up default image type to svg\n",
    "\n",
    "Optionally, you can add the following line of code to the `ipython_kernel_config.py` file (usually found in `~/.ipython/profile_default/`) to set the default image format from PNG to the more scaleable SVG format:"
   ]
  },
  {
   "cell_type": "markdown",
   "metadata": {},
   "source": [
    "    c.InlineBackend.figure_format = 'svg'"
   ]
  },
  {
   "cell_type": "markdown",
   "metadata": {},
   "source": [
    "### 3. Syncing with the Qiskit versions used in the Textbook\n",
    "\n",
    "You will find a code snippet at the end of the most tutorials which will contain the information on which versions of qiskit packages are used in the tutorial. If you find inconsistency in syntax and/or outputs, try to use the same version.\n",
    "\n",
    "To check the version installed in your computer, run the following in Python shell or Jupyter Notebook:"
   ]
  },
  {
   "cell_type": "markdown",
   "metadata": {},
   "source": [
    "    import qiskit\n",
    "    qiskit.__qiskit_version__"
   ]
  }
 ],
 "metadata": {
  "kernelspec": {
   "display_name": "Python 3",
   "language": "python",
   "name": "python3"
  },
  "language_info": {
   "codemirror_mode": {
    "name": "ipython",
    "version": 3
   },
   "file_extension": ".py",
   "mimetype": "text/x-python",
   "name": "python",
   "nbconvert_exporter": "python",
   "pygments_lexer": "ipython3",
   "version": "3.7.6"
  }
 },
 "nbformat": 4,
 "nbformat_minor": 2
}
