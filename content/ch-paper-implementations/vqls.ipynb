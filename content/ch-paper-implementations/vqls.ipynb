{
 "cells": [
  {
   "cell_type": "markdown",
   "metadata": {
    "tags": [
     "remove_cell"
    ]
   },
   "source": [
    "<h1>The Variational Quantum Linear Solver</h1>"
   ]
  },
  {
   "cell_type": "code",
   "execution_count": 1,
   "metadata": {},
   "outputs": [],
   "source": [
    "import qiskit\n",
    "from qiskit import QuantumCircuit, QuantumRegister, ClassicalRegister\n",
    "from qiskit import Aer, execute\n",
    "import math\n",
    "import random\n",
    "import numpy as np\n",
    "from scipy.optimize import minimize\n",
    "%config InlineBackend.figure_format = 'svg' # Makes the images look nice"
   ]
  },
  {
   "cell_type": "markdown",
   "metadata": {},
   "source": [
    "**Introduction**\n",
    "\n",
    "The Variational Quantum Linear Solver, or the VQLS is a variational quantum algorithm that utilizes VQE in order to solve systems of linear equations more efficiently than classical computational algortihms. Specifically, if we are given some matrix $\\textbf{A}$, such that $\\textbf{A} |\\textbf{x}\\rangle \\ = \\ |\\textbf{b}\\rangle$, where $|\\textbf{b}\\rangle$ is some known vector, the VQLS algorithm is theoretically able to find a normalized $|x\\rangle$ that is proportional to $|\\textbf{x}\\rangle$, which makes the above relationship true.\n",
    "\n",
    "The output of this algorithm is identical to that of the HHL Quantum Linear-Solving Algorithm, except, while HHL provides a much more favourable computation speedup over VQLS, the variational nature of our algorithm allows for it to be performed on NISQ quantum computers, while HHL would require much more robust quantum hardware, and many more qubits.\n"
   ]
  },
  {
   "cell_type": "markdown",
   "metadata": {},
   "source": [
    "**The Algorithm**\n",
    "\n",
    "To begin, the inputs into this algorithm are evidently the matrix $\\textbf{A}$, which we have to decompose into a linear combination of unitaries with complex coefficients:\n",
    "\n",
    "\n",
    "\n",
    "$$A \\ = \\ \\displaystyle\\sum_{n} c_n \\ A_n$$\n",
    "\n",
    "\n",
    "\n",
    "Where each $A_n$ is some unitary, and some unitary $U$ that prepares state $|\\textbf{b}\\rangle$ from $|0\\rangle$. Now, recall the general structure of a variational quantum algorithm. We have to construct a quantum cost function, which can be evaluated with a low-depth parametrized quantum circuit, then output to the classical optimizer. This allows us to search a parameter space for some set of parameters $\\alpha$, such that $|\\psi(\\alpha)\\rangle \\ = \\ \\frac{|\\textbf{x}\\rangle}{|| \\textbf{x} ||}$, where $|\\psi(k)\\rangle$ is the output of out quantum circuit corresponding to some parameter set $k$.\n",
    "\n",
    "Before we actually begin constructing the cost function, let's take a look at a \"high level\" overview of the sub-routines within this algorithm, as illustrated in this image from the original paper:\n",
    "\n",
    "![alt text](images/bro.png)"
   ]
  },
  {
   "cell_type": "markdown",
   "metadata": {},
   "source": [
    "So essentially, we start off with a qubit register, with each qubit initialized to $|0\\rangle$. Our algorithm takes its inputs, then prepares and evaluates the cost function, starting with the creation of some ansatz $V(\\alpha)$. If the computed cost is greater than some parameter $\\gamma$, the algorithm is run again with updated parameters, and if not, the algorithm terminates, and the ansatz is calculated with the optimal parameters (determined at termination). This gives us the state vector that minimizes our cost function, and therefore the normalized form of $|\\textbf{x}\\rangle$.\n",
    "\n",
    "Let's start off by considering the ansatz $V(\\alpha)$, which is just a circuit that prepares some arbitrary state $|\\psi(k)\\rangle$. This allows us to \"search\" the state space by varying some set of parameters, $k$. Anyways, the ansatz that we will use for this implementation is given as follows:"
   ]
  },
  {
   "cell_type": "code",
   "execution_count": 2,
   "metadata": {},
   "outputs": [
    {
     "data": {
      "image/svg+xml": [
       "<?xml version=\"1.0\" encoding=\"utf-8\" standalone=\"no\"?>\n",
       "<!DOCTYPE svg PUBLIC \"-//W3C//DTD SVG 1.1//EN\"\n",
       "  \"http://www.w3.org/Graphics/SVG/1.1/DTD/svg11.dtd\">\n",
       "<!-- Created with matplotlib (https://matplotlib.org/) -->\n",
       "<svg height=\"168.9334pt\" version=\"1.1\" viewBox=\"0 0 467.09196 168.9334\" width=\"467.09196pt\" xmlns=\"http://www.w3.org/2000/svg\" xmlns:xlink=\"http://www.w3.org/1999/xlink\">\n",
       " <defs>\n",
       "  <style type=\"text/css\">\n",
       "*{stroke-linecap:butt;stroke-linejoin:round;}\n",
       "  </style>\n",
       " </defs>\n",
       " <g id=\"figure_1\">\n",
       "  <g id=\"patch_1\">\n",
       "   <path d=\"M 0 168.9334 \n",
       "L 467.09196 168.9334 \n",
       "L 467.09196 0 \n",
       "L 0 0 \n",
       "z\n",
       "\" style=\"fill:#ffffff;\"/>\n",
       "  </g>\n",
       "  <g id=\"axes_1\">\n",
       "   <g id=\"line2d_1\">\n",
       "    <path clip-path=\"url(#pb1d080eaff)\" d=\"M 100.82906 43.5608 \n",
       "L 455.34686 43.5608 \n",
       "\" style=\"fill:none;stroke:#000000;stroke-linecap:square;stroke-width:2;\"/>\n",
       "   </g>\n",
       "   <g id=\"line2d_2\">\n",
       "    <path clip-path=\"url(#pb1d080eaff)\" d=\"M 100.82906 89.0118 \n",
       "L 455.34686 89.0118 \n",
       "\" style=\"fill:none;stroke:#000000;stroke-linecap:square;stroke-width:2;\"/>\n",
       "   </g>\n",
       "   <g id=\"line2d_3\">\n",
       "    <path clip-path=\"url(#pb1d080eaff)\" d=\"M 100.82906 134.4628 \n",
       "L 455.34686 134.4628 \n",
       "\" style=\"fill:none;stroke:#000000;stroke-linecap:square;stroke-width:2;\"/>\n",
       "   </g>\n",
       "   <g id=\"line2d_4\">\n",
       "    <path clip-path=\"url(#pb1d080eaff)\" d=\"M 182.64086 89.0118 \n",
       "L 182.64086 43.5608 \n",
       "\" style=\"fill:none;stroke:#6fa4ff;stroke-linecap:square;stroke-width:2;\"/>\n",
       "   </g>\n",
       "   <g id=\"line2d_5\">\n",
       "    <path clip-path=\"url(#pb1d080eaff)\" d=\"M 228.09186 134.4628 \n",
       "L 228.09186 43.5608 \n",
       "\" style=\"fill:none;stroke:#6fa4ff;stroke-linecap:square;stroke-width:2;\"/>\n",
       "   </g>\n",
       "   <g id=\"line2d_6\">\n",
       "    <path clip-path=\"url(#pb1d080eaff)\" d=\"M 318.99386 134.4628 \n",
       "L 318.99386 89.0118 \n",
       "\" style=\"fill:none;stroke:#6fa4ff;stroke-linecap:square;stroke-width:2;\"/>\n",
       "   </g>\n",
       "   <g id=\"line2d_7\">\n",
       "    <path clip-path=\"url(#pb1d080eaff)\" d=\"M 364.44486 134.4628 \n",
       "L 364.44486 43.5608 \n",
       "\" style=\"fill:none;stroke:#6fa4ff;stroke-linecap:square;stroke-width:2;\"/>\n",
       "   </g>\n",
       "   <g id=\"patch_2\">\n",
       "    <path clip-path=\"url(#pb1d080eaff)\" d=\"M 122.418285 58.332375 \n",
       "L 151.961435 58.332375 \n",
       "L 151.961435 28.789225 \n",
       "L 122.418285 28.789225 \n",
       "z\n",
       "\" style=\"fill:#bb8bff;\"/>\n",
       "   </g>\n",
       "   <g id=\"patch_3\">\n",
       "    <path clip-path=\"url(#pb1d080eaff)\" d=\"M 122.418285 103.783375 \n",
       "L 151.961435 103.783375 \n",
       "L 151.961435 74.240225 \n",
       "L 122.418285 74.240225 \n",
       "z\n",
       "\" style=\"fill:#bb8bff;\"/>\n",
       "   </g>\n",
       "   <g id=\"patch_4\">\n",
       "    <path clip-path=\"url(#pb1d080eaff)\" d=\"M 122.418285 149.234375 \n",
       "L 151.961435 149.234375 \n",
       "L 151.961435 119.691225 \n",
       "L 122.418285 119.691225 \n",
       "z\n",
       "\" style=\"fill:#bb8bff;\"/>\n",
       "   </g>\n",
       "   <g id=\"patch_5\">\n",
       "    <path clip-path=\"url(#pb1d080eaff)\" d=\"M 182.64086 47.992272 \n",
       "C 183.8161 47.992272 184.943364 47.525345 185.774384 46.694324 \n",
       "C 186.605405 45.863304 187.072332 44.73604 187.072332 43.5608 \n",
       "C 187.072332 42.38556 186.605405 41.258296 185.774384 40.427276 \n",
       "C 184.943364 39.596255 183.8161 39.129327 182.64086 39.129327 \n",
       "C 181.46562 39.129327 180.338356 39.596255 179.507336 40.427276 \n",
       "C 178.676315 41.258296 178.209387 42.38556 178.209387 43.5608 \n",
       "C 178.209387 44.73604 178.676315 45.863304 179.507336 46.694324 \n",
       "C 180.338356 47.525345 181.46562 47.992272 182.64086 47.992272 \n",
       "z\n",
       "\" style=\"fill:#6fa4ff;stroke:#6fa4ff;stroke-linejoin:miter;stroke-width:1.5;\"/>\n",
       "   </g>\n",
       "   <g id=\"patch_6\">\n",
       "    <path clip-path=\"url(#pb1d080eaff)\" d=\"M 182.64086 93.443272 \n",
       "C 183.8161 93.443272 184.943364 92.976345 185.774384 92.145324 \n",
       "C 186.605405 91.314304 187.072332 90.18704 187.072332 89.0118 \n",
       "C 187.072332 87.83656 186.605405 86.709296 185.774384 85.878276 \n",
       "C 184.943364 85.047255 183.8161 84.580327 182.64086 84.580327 \n",
       "C 181.46562 84.580327 180.338356 85.047255 179.507336 85.878276 \n",
       "C 178.676315 86.709296 178.209387 87.83656 178.209387 89.0118 \n",
       "C 178.209387 90.18704 178.676315 91.314304 179.507336 92.145324 \n",
       "C 180.338356 92.976345 181.46562 93.443272 182.64086 93.443272 \n",
       "z\n",
       "\" style=\"fill:#6fa4ff;stroke:#6fa4ff;stroke-linejoin:miter;stroke-width:1.5;\"/>\n",
       "   </g>\n",
       "   <g id=\"patch_7\">\n",
       "    <path clip-path=\"url(#pb1d080eaff)\" d=\"M 228.09186 138.894272 \n",
       "C 229.2671 138.894272 230.394364 138.427345 231.225384 137.596324 \n",
       "C 232.056405 136.765304 232.523332 135.63804 232.523332 134.4628 \n",
       "C 232.523332 133.28756 232.056405 132.160296 231.225384 131.329276 \n",
       "C 230.394364 130.498255 229.2671 130.031327 228.09186 130.031327 \n",
       "C 226.91662 130.031327 225.789356 130.498255 224.958336 131.329276 \n",
       "C 224.127315 132.160296 223.660387 133.28756 223.660387 134.4628 \n",
       "C 223.660387 135.63804 224.127315 136.765304 224.958336 137.596324 \n",
       "C 225.789356 138.427345 226.91662 138.894272 228.09186 138.894272 \n",
       "z\n",
       "\" style=\"fill:#6fa4ff;stroke:#6fa4ff;stroke-linejoin:miter;stroke-width:1.5;\"/>\n",
       "   </g>\n",
       "   <g id=\"patch_8\">\n",
       "    <path clip-path=\"url(#pb1d080eaff)\" d=\"M 228.09186 47.992272 \n",
       "C 229.2671 47.992272 230.394364 47.525345 231.225384 46.694324 \n",
       "C 232.056405 45.863304 232.523332 44.73604 232.523332 43.5608 \n",
       "C 232.523332 42.38556 232.056405 41.258296 231.225384 40.427276 \n",
       "C 230.394364 39.596255 229.2671 39.129327 228.09186 39.129327 \n",
       "C 226.91662 39.129327 225.789356 39.596255 224.958336 40.427276 \n",
       "C 224.127315 41.258296 223.660387 42.38556 223.660387 43.5608 \n",
       "C 223.660387 44.73604 224.127315 45.863304 224.958336 46.694324 \n",
       "C 225.789356 47.525345 226.91662 47.992272 228.09186 47.992272 \n",
       "z\n",
       "\" style=\"fill:#6fa4ff;stroke:#6fa4ff;stroke-linejoin:miter;stroke-width:1.5;\"/>\n",
       "   </g>\n",
       "   <g id=\"patch_9\">\n",
       "    <path clip-path=\"url(#pb1d080eaff)\" d=\"M 258.771285 103.783375 \n",
       "L 288.314435 103.783375 \n",
       "L 288.314435 74.240225 \n",
       "L 258.771285 74.240225 \n",
       "z\n",
       "\" style=\"fill:#bb8bff;\"/>\n",
       "   </g>\n",
       "   <g id=\"patch_10\">\n",
       "    <path clip-path=\"url(#pb1d080eaff)\" d=\"M 258.771285 58.332375 \n",
       "L 288.314435 58.332375 \n",
       "L 288.314435 28.789225 \n",
       "L 258.771285 28.789225 \n",
       "z\n",
       "\" style=\"fill:#bb8bff;\"/>\n",
       "   </g>\n",
       "   <g id=\"patch_11\">\n",
       "    <path clip-path=\"url(#pb1d080eaff)\" d=\"M 258.771285 149.234375 \n",
       "L 288.314435 149.234375 \n",
       "L 288.314435 119.691225 \n",
       "L 258.771285 119.691225 \n",
       "z\n",
       "\" style=\"fill:#bb8bff;\"/>\n",
       "   </g>\n",
       "   <g id=\"patch_12\">\n",
       "    <path clip-path=\"url(#pb1d080eaff)\" d=\"M 318.99386 93.443272 \n",
       "C 320.1691 93.443272 321.296364 92.976345 322.127384 92.145324 \n",
       "C 322.958405 91.314304 323.425332 90.18704 323.425332 89.0118 \n",
       "C 323.425332 87.83656 322.958405 86.709296 322.127384 85.878276 \n",
       "C 321.296364 85.047255 320.1691 84.580327 318.99386 84.580327 \n",
       "C 317.81862 84.580327 316.691356 85.047255 315.860336 85.878276 \n",
       "C 315.029315 86.709296 314.562387 87.83656 314.562387 89.0118 \n",
       "C 314.562387 90.18704 315.029315 91.314304 315.860336 92.145324 \n",
       "C 316.691356 92.976345 317.81862 93.443272 318.99386 93.443272 \n",
       "z\n",
       "\" style=\"fill:#6fa4ff;stroke:#6fa4ff;stroke-linejoin:miter;stroke-width:1.5;\"/>\n",
       "   </g>\n",
       "   <g id=\"patch_13\">\n",
       "    <path clip-path=\"url(#pb1d080eaff)\" d=\"M 318.99386 138.894272 \n",
       "C 320.1691 138.894272 321.296364 138.427345 322.127384 137.596324 \n",
       "C 322.958405 136.765304 323.425332 135.63804 323.425332 134.4628 \n",
       "C 323.425332 133.28756 322.958405 132.160296 322.127384 131.329276 \n",
       "C 321.296364 130.498255 320.1691 130.031327 318.99386 130.031327 \n",
       "C 317.81862 130.031327 316.691356 130.498255 315.860336 131.329276 \n",
       "C 315.029315 132.160296 314.562387 133.28756 314.562387 134.4628 \n",
       "C 314.562387 135.63804 315.029315 136.765304 315.860336 137.596324 \n",
       "C 316.691356 138.427345 317.81862 138.894272 318.99386 138.894272 \n",
       "z\n",
       "\" style=\"fill:#6fa4ff;stroke:#6fa4ff;stroke-linejoin:miter;stroke-width:1.5;\"/>\n",
       "   </g>\n",
       "   <g id=\"patch_14\">\n",
       "    <path clip-path=\"url(#pb1d080eaff)\" d=\"M 364.44486 138.894272 \n",
       "C 365.6201 138.894272 366.747364 138.427345 367.578384 137.596324 \n",
       "C 368.409405 136.765304 368.876332 135.63804 368.876332 134.4628 \n",
       "C 368.876332 133.28756 368.409405 132.160296 367.578384 131.329276 \n",
       "C 366.747364 130.498255 365.6201 130.031327 364.44486 130.031327 \n",
       "C 363.26962 130.031327 362.142356 130.498255 361.311336 131.329276 \n",
       "C 360.480315 132.160296 360.013387 133.28756 360.013387 134.4628 \n",
       "C 360.013387 135.63804 360.480315 136.765304 361.311336 137.596324 \n",
       "C 362.142356 138.427345 363.26962 138.894272 364.44486 138.894272 \n",
       "z\n",
       "\" style=\"fill:#6fa4ff;stroke:#6fa4ff;stroke-linejoin:miter;stroke-width:1.5;\"/>\n",
       "   </g>\n",
       "   <g id=\"patch_15\">\n",
       "    <path clip-path=\"url(#pb1d080eaff)\" d=\"M 364.44486 47.992272 \n",
       "C 365.6201 47.992272 366.747364 47.525345 367.578384 46.694324 \n",
       "C 368.409405 45.863304 368.876332 44.73604 368.876332 43.5608 \n",
       "C 368.876332 42.38556 368.409405 41.258296 367.578384 40.427276 \n",
       "C 366.747364 39.596255 365.6201 39.129327 364.44486 39.129327 \n",
       "C 363.26962 39.129327 362.142356 39.596255 361.311336 40.427276 \n",
       "C 360.480315 41.258296 360.013387 42.38556 360.013387 43.5608 \n",
       "C 360.013387 44.73604 360.480315 45.863304 361.311336 46.694324 \n",
       "C 362.142356 47.525345 363.26962 47.992272 364.44486 47.992272 \n",
       "z\n",
       "\" style=\"fill:#6fa4ff;stroke:#6fa4ff;stroke-linejoin:miter;stroke-width:1.5;\"/>\n",
       "   </g>\n",
       "   <g id=\"patch_16\">\n",
       "    <path clip-path=\"url(#pb1d080eaff)\" d=\"M 395.124285 103.783375 \n",
       "L 424.667435 103.783375 \n",
       "L 424.667435 74.240225 \n",
       "L 395.124285 74.240225 \n",
       "z\n",
       "\" style=\"fill:#bb8bff;\"/>\n",
       "   </g>\n",
       "   <g id=\"patch_17\">\n",
       "    <path clip-path=\"url(#pb1d080eaff)\" d=\"M 395.124285 58.332375 \n",
       "L 424.667435 58.332375 \n",
       "L 424.667435 28.789225 \n",
       "L 395.124285 28.789225 \n",
       "z\n",
       "\" style=\"fill:#bb8bff;\"/>\n",
       "   </g>\n",
       "   <g id=\"patch_18\">\n",
       "    <path clip-path=\"url(#pb1d080eaff)\" d=\"M 395.124285 149.234375 \n",
       "L 424.667435 149.234375 \n",
       "L 424.667435 119.691225 \n",
       "L 395.124285 119.691225 \n",
       "z\n",
       "\" style=\"fill:#bb8bff;\"/>\n",
       "   </g>\n",
       "   <g id=\"text_1\">\n",
       "    <g clip-path=\"url(#pb1d080eaff)\">\n",
       "     <!-- $R_y$ -->\n",
       "     <defs>\n",
       "      <path d=\"M 25.203125 64.796875 \n",
       "L 20.21875 38.921875 \n",
       "L 32.90625 38.921875 \n",
       "Q 40.375 38.921875 44.984375 43.046875 \n",
       "Q 49.609375 47.171875 49.609375 53.8125 \n",
       "Q 49.609375 59.125 46.5 61.953125 \n",
       "Q 43.40625 64.796875 37.59375 64.796875 \n",
       "z\n",
       "M 43.3125 35.015625 \n",
       "Q 46.4375 34.28125 48.515625 31.390625 \n",
       "Q 50.59375 28.515625 53.328125 19.921875 \n",
       "L 59.515625 0 \n",
       "L 49.125 0 \n",
       "L 43.40625 18.703125 \n",
       "Q 41.21875 25.921875 38.328125 28.359375 \n",
       "Q 35.453125 30.8125 29.5 30.8125 \n",
       "L 18.609375 30.8125 \n",
       "L 12.59375 0 \n",
       "L 2.6875 0 \n",
       "L 16.890625 72.90625 \n",
       "L 39.109375 72.90625 \n",
       "Q 49.21875 72.90625 54.609375 68.328125 \n",
       "Q 60.015625 63.765625 60.015625 55.171875 \n",
       "Q 60.015625 47.5625 55.421875 41.984375 \n",
       "Q 50.828125 36.421875 43.3125 35.015625 \n",
       "z\n",
       "\" id=\"DejaVuSans-Oblique-82\"/>\n",
       "      <path d=\"M 24.8125 -5.078125 \n",
       "Q 18.5625 -15.578125 14.625 -18.1875 \n",
       "Q 10.6875 -20.796875 4.59375 -20.796875 \n",
       "L -2.484375 -20.796875 \n",
       "L -0.984375 -13.28125 \n",
       "L 4.203125 -13.28125 \n",
       "Q 7.953125 -13.28125 10.59375 -11.234375 \n",
       "Q 13.234375 -9.1875 16.5 -3.21875 \n",
       "L 19.28125 2 \n",
       "L 7.171875 54.6875 \n",
       "L 16.703125 54.6875 \n",
       "L 25.78125 12.796875 \n",
       "L 50.875 54.6875 \n",
       "L 60.296875 54.6875 \n",
       "z\n",
       "\" id=\"DejaVuSans-Oblique-121\"/>\n",
       "     </defs>\n",
       "     <g transform=\"translate(129.77986 41.859327)scale(0.13 -0.13)\">\n",
       "      <use transform=\"translate(0 0.09375)\" xlink:href=\"#DejaVuSans-Oblique-82\"/>\n",
       "      <use transform=\"translate(69.482422 -16.3125)scale(0.7)\" xlink:href=\"#DejaVuSans-Oblique-121\"/>\n",
       "     </g>\n",
       "    </g>\n",
       "   </g>\n",
       "   <g id=\"text_2\">\n",
       "    <g clip-path=\"url(#pb1d080eaff)\">\n",
       "     <!-- 1 -->\n",
       "     <defs>\n",
       "      <path d=\"M 12.40625 8.296875 \n",
       "L 28.515625 8.296875 \n",
       "L 28.515625 63.921875 \n",
       "L 10.984375 60.40625 \n",
       "L 10.984375 69.390625 \n",
       "L 28.421875 72.90625 \n",
       "L 38.28125 72.90625 \n",
       "L 38.28125 8.296875 \n",
       "L 54.390625 8.296875 \n",
       "L 54.390625 0 \n",
       "L 12.40625 0 \n",
       "z\n",
       "\" id=\"DejaVuSans-49\"/>\n",
       "     </defs>\n",
       "     <g transform=\"translate(134.64486 54.631245)scale(0.08 -0.08)\">\n",
       "      <use xlink:href=\"#DejaVuSans-49\"/>\n",
       "     </g>\n",
       "    </g>\n",
       "   </g>\n",
       "   <g id=\"text_3\">\n",
       "    <g clip-path=\"url(#pb1d080eaff)\">\n",
       "     <!-- $R_y$ -->\n",
       "     <g transform=\"translate(129.77986 87.310327)scale(0.13 -0.13)\">\n",
       "      <use transform=\"translate(0 0.09375)\" xlink:href=\"#DejaVuSans-Oblique-82\"/>\n",
       "      <use transform=\"translate(69.482422 -16.3125)scale(0.7)\" xlink:href=\"#DejaVuSans-Oblique-121\"/>\n",
       "     </g>\n",
       "    </g>\n",
       "   </g>\n",
       "   <g id=\"text_4\">\n",
       "    <g clip-path=\"url(#pb1d080eaff)\">\n",
       "     <!-- 1 -->\n",
       "     <g transform=\"translate(134.64486 100.082245)scale(0.08 -0.08)\">\n",
       "      <use xlink:href=\"#DejaVuSans-49\"/>\n",
       "     </g>\n",
       "    </g>\n",
       "   </g>\n",
       "   <g id=\"text_5\">\n",
       "    <g clip-path=\"url(#pb1d080eaff)\">\n",
       "     <!-- $R_y$ -->\n",
       "     <g transform=\"translate(129.77986 132.761327)scale(0.13 -0.13)\">\n",
       "      <use transform=\"translate(0 0.09375)\" xlink:href=\"#DejaVuSans-Oblique-82\"/>\n",
       "      <use transform=\"translate(69.482422 -16.3125)scale(0.7)\" xlink:href=\"#DejaVuSans-Oblique-121\"/>\n",
       "     </g>\n",
       "    </g>\n",
       "   </g>\n",
       "   <g id=\"text_6\">\n",
       "    <g clip-path=\"url(#pb1d080eaff)\">\n",
       "     <!-- 1 -->\n",
       "     <g transform=\"translate(134.64486 145.533245)scale(0.08 -0.08)\">\n",
       "      <use xlink:href=\"#DejaVuSans-49\"/>\n",
       "     </g>\n",
       "    </g>\n",
       "   </g>\n",
       "   <g id=\"text_7\">\n",
       "    <g clip-path=\"url(#pb1d080eaff)\">\n",
       "     <!-- $R_y$ -->\n",
       "     <g transform=\"translate(266.13286 87.310327)scale(0.13 -0.13)\">\n",
       "      <use transform=\"translate(0 0.09375)\" xlink:href=\"#DejaVuSans-Oblique-82\"/>\n",
       "      <use transform=\"translate(69.482422 -16.3125)scale(0.7)\" xlink:href=\"#DejaVuSans-Oblique-121\"/>\n",
       "     </g>\n",
       "    </g>\n",
       "   </g>\n",
       "   <g id=\"text_8\">\n",
       "    <g clip-path=\"url(#pb1d080eaff)\">\n",
       "     <!-- 1 -->\n",
       "     <g transform=\"translate(270.99786 100.082245)scale(0.08 -0.08)\">\n",
       "      <use xlink:href=\"#DejaVuSans-49\"/>\n",
       "     </g>\n",
       "    </g>\n",
       "   </g>\n",
       "   <g id=\"text_9\">\n",
       "    <g clip-path=\"url(#pb1d080eaff)\">\n",
       "     <!-- $R_y$ -->\n",
       "     <g transform=\"translate(266.13286 41.859327)scale(0.13 -0.13)\">\n",
       "      <use transform=\"translate(0 0.09375)\" xlink:href=\"#DejaVuSans-Oblique-82\"/>\n",
       "      <use transform=\"translate(69.482422 -16.3125)scale(0.7)\" xlink:href=\"#DejaVuSans-Oblique-121\"/>\n",
       "     </g>\n",
       "    </g>\n",
       "   </g>\n",
       "   <g id=\"text_10\">\n",
       "    <g clip-path=\"url(#pb1d080eaff)\">\n",
       "     <!-- 1 -->\n",
       "     <g transform=\"translate(270.99786 54.631245)scale(0.08 -0.08)\">\n",
       "      <use xlink:href=\"#DejaVuSans-49\"/>\n",
       "     </g>\n",
       "    </g>\n",
       "   </g>\n",
       "   <g id=\"text_11\">\n",
       "    <g clip-path=\"url(#pb1d080eaff)\">\n",
       "     <!-- $R_y$ -->\n",
       "     <g transform=\"translate(266.13286 132.761327)scale(0.13 -0.13)\">\n",
       "      <use transform=\"translate(0 0.09375)\" xlink:href=\"#DejaVuSans-Oblique-82\"/>\n",
       "      <use transform=\"translate(69.482422 -16.3125)scale(0.7)\" xlink:href=\"#DejaVuSans-Oblique-121\"/>\n",
       "     </g>\n",
       "    </g>\n",
       "   </g>\n",
       "   <g id=\"text_12\">\n",
       "    <g clip-path=\"url(#pb1d080eaff)\">\n",
       "     <!-- 1 -->\n",
       "     <g transform=\"translate(270.99786 145.533245)scale(0.08 -0.08)\">\n",
       "      <use xlink:href=\"#DejaVuSans-49\"/>\n",
       "     </g>\n",
       "    </g>\n",
       "   </g>\n",
       "   <g id=\"text_13\">\n",
       "    <g clip-path=\"url(#pb1d080eaff)\">\n",
       "     <!-- $R_y$ -->\n",
       "     <g transform=\"translate(402.48586 87.310327)scale(0.13 -0.13)\">\n",
       "      <use transform=\"translate(0 0.09375)\" xlink:href=\"#DejaVuSans-Oblique-82\"/>\n",
       "      <use transform=\"translate(69.482422 -16.3125)scale(0.7)\" xlink:href=\"#DejaVuSans-Oblique-121\"/>\n",
       "     </g>\n",
       "    </g>\n",
       "   </g>\n",
       "   <g id=\"text_14\">\n",
       "    <g clip-path=\"url(#pb1d080eaff)\">\n",
       "     <!-- 1 -->\n",
       "     <g transform=\"translate(407.35086 100.082245)scale(0.08 -0.08)\">\n",
       "      <use xlink:href=\"#DejaVuSans-49\"/>\n",
       "     </g>\n",
       "    </g>\n",
       "   </g>\n",
       "   <g id=\"text_15\">\n",
       "    <g clip-path=\"url(#pb1d080eaff)\">\n",
       "     <!-- $R_y$ -->\n",
       "     <g transform=\"translate(402.48586 41.859327)scale(0.13 -0.13)\">\n",
       "      <use transform=\"translate(0 0.09375)\" xlink:href=\"#DejaVuSans-Oblique-82\"/>\n",
       "      <use transform=\"translate(69.482422 -16.3125)scale(0.7)\" xlink:href=\"#DejaVuSans-Oblique-121\"/>\n",
       "     </g>\n",
       "    </g>\n",
       "   </g>\n",
       "   <g id=\"text_16\">\n",
       "    <g clip-path=\"url(#pb1d080eaff)\">\n",
       "     <!-- 1 -->\n",
       "     <g transform=\"translate(407.35086 54.631245)scale(0.08 -0.08)\">\n",
       "      <use xlink:href=\"#DejaVuSans-49\"/>\n",
       "     </g>\n",
       "    </g>\n",
       "   </g>\n",
       "   <g id=\"text_17\">\n",
       "    <g clip-path=\"url(#pb1d080eaff)\">\n",
       "     <!-- $R_y$ -->\n",
       "     <g transform=\"translate(402.48586 132.761327)scale(0.13 -0.13)\">\n",
       "      <use transform=\"translate(0 0.09375)\" xlink:href=\"#DejaVuSans-Oblique-82\"/>\n",
       "      <use transform=\"translate(69.482422 -16.3125)scale(0.7)\" xlink:href=\"#DejaVuSans-Oblique-121\"/>\n",
       "     </g>\n",
       "    </g>\n",
       "   </g>\n",
       "   <g id=\"text_18\">\n",
       "    <g clip-path=\"url(#pb1d080eaff)\">\n",
       "     <!-- 1 -->\n",
       "     <g transform=\"translate(407.35086 145.533245)scale(0.08 -0.08)\">\n",
       "      <use xlink:href=\"#DejaVuSans-49\"/>\n",
       "     </g>\n",
       "    </g>\n",
       "   </g>\n",
       "   <g id=\"text_19\">\n",
       "    <g clip-path=\"url(#pb1d080eaff)\">\n",
       "     <!-- ${q}_{0}$ -->\n",
       "     <defs>\n",
       "      <path d=\"M 41.703125 8.203125 \n",
       "Q 38.09375 3.46875 33.171875 1.015625 \n",
       "Q 28.265625 -1.421875 22.3125 -1.421875 \n",
       "Q 14.015625 -1.421875 9.296875 4.171875 \n",
       "Q 4.59375 9.765625 4.59375 19.578125 \n",
       "Q 4.59375 27.484375 7.5 34.859375 \n",
       "Q 10.40625 42.234375 15.828125 48.09375 \n",
       "Q 19.34375 51.90625 23.90625 53.953125 \n",
       "Q 28.46875 56 33.5 56 \n",
       "Q 39.546875 56 43.453125 53.609375 \n",
       "Q 47.359375 51.21875 49.125 46.390625 \n",
       "L 50.6875 54.59375 \n",
       "L 59.71875 54.59375 \n",
       "L 45.125 -20.609375 \n",
       "L 36.078125 -20.609375 \n",
       "z\n",
       "M 13.921875 20.90625 \n",
       "Q 13.921875 13.671875 16.9375 9.890625 \n",
       "Q 19.96875 6.109375 25.6875 6.109375 \n",
       "Q 34.1875 6.109375 40.1875 14.234375 \n",
       "Q 46.1875 22.359375 46.1875 33.984375 \n",
       "Q 46.1875 41.015625 43.078125 44.75 \n",
       "Q 39.984375 48.484375 34.1875 48.484375 \n",
       "Q 29.9375 48.484375 26.3125 46.5 \n",
       "Q 22.703125 44.53125 20.015625 40.71875 \n",
       "Q 17.1875 36.71875 15.546875 31.34375 \n",
       "Q 13.921875 25.984375 13.921875 20.90625 \n",
       "z\n",
       "\" id=\"DejaVuSans-Oblique-113\"/>\n",
       "      <path d=\"M 31.78125 66.40625 \n",
       "Q 24.171875 66.40625 20.328125 58.90625 \n",
       "Q 16.5 51.421875 16.5 36.375 \n",
       "Q 16.5 21.390625 20.328125 13.890625 \n",
       "Q 24.171875 6.390625 31.78125 6.390625 \n",
       "Q 39.453125 6.390625 43.28125 13.890625 \n",
       "Q 47.125 21.390625 47.125 36.375 \n",
       "Q 47.125 51.421875 43.28125 58.90625 \n",
       "Q 39.453125 66.40625 31.78125 66.40625 \n",
       "z\n",
       "M 31.78125 74.21875 \n",
       "Q 44.046875 74.21875 50.515625 64.515625 \n",
       "Q 56.984375 54.828125 56.984375 36.375 \n",
       "Q 56.984375 17.96875 50.515625 8.265625 \n",
       "Q 44.046875 -1.421875 31.78125 -1.421875 \n",
       "Q 19.53125 -1.421875 13.0625 8.265625 \n",
       "Q 6.59375 17.96875 6.59375 36.375 \n",
       "Q 6.59375 54.828125 13.0625 64.515625 \n",
       "Q 19.53125 74.21875 31.78125 74.21875 \n",
       "z\n",
       "\" id=\"DejaVuSans-48\"/>\n",
       "     </defs>\n",
       "     <g transform=\"translate(64.61116 48.011777)scale(0.1625 -0.1625)\">\n",
       "      <use xlink:href=\"#DejaVuSans-Oblique-113\"/>\n",
       "      <use transform=\"translate(63.476562 -16.40625)scale(0.7)\" xlink:href=\"#DejaVuSans-48\"/>\n",
       "     </g>\n",
       "    </g>\n",
       "   </g>\n",
       "   <g id=\"text_20\">\n",
       "    <g clip-path=\"url(#pb1d080eaff)\">\n",
       "     <!-- ${q}_{1}$ -->\n",
       "     <g transform=\"translate(64.61116 93.462777)scale(0.1625 -0.1625)\">\n",
       "      <use xlink:href=\"#DejaVuSans-Oblique-113\"/>\n",
       "      <use transform=\"translate(63.476562 -16.40625)scale(0.7)\" xlink:href=\"#DejaVuSans-49\"/>\n",
       "     </g>\n",
       "    </g>\n",
       "   </g>\n",
       "   <g id=\"text_21\">\n",
       "    <g clip-path=\"url(#pb1d080eaff)\">\n",
       "     <!-- ${q}_{2}$ -->\n",
       "     <defs>\n",
       "      <path d=\"M 19.1875 8.296875 \n",
       "L 53.609375 8.296875 \n",
       "L 53.609375 0 \n",
       "L 7.328125 0 \n",
       "L 7.328125 8.296875 \n",
       "Q 12.9375 14.109375 22.625 23.890625 \n",
       "Q 32.328125 33.6875 34.8125 36.53125 \n",
       "Q 39.546875 41.84375 41.421875 45.53125 \n",
       "Q 43.3125 49.21875 43.3125 52.78125 \n",
       "Q 43.3125 58.59375 39.234375 62.25 \n",
       "Q 35.15625 65.921875 28.609375 65.921875 \n",
       "Q 23.96875 65.921875 18.8125 64.3125 \n",
       "Q 13.671875 62.703125 7.8125 59.421875 \n",
       "L 7.8125 69.390625 \n",
       "Q 13.765625 71.78125 18.9375 73 \n",
       "Q 24.125 74.21875 28.421875 74.21875 \n",
       "Q 39.75 74.21875 46.484375 68.546875 \n",
       "Q 53.21875 62.890625 53.21875 53.421875 \n",
       "Q 53.21875 48.921875 51.53125 44.890625 \n",
       "Q 49.859375 40.875 45.40625 35.40625 \n",
       "Q 44.1875 33.984375 37.640625 27.21875 \n",
       "Q 31.109375 20.453125 19.1875 8.296875 \n",
       "z\n",
       "\" id=\"DejaVuSans-50\"/>\n",
       "     </defs>\n",
       "     <g transform=\"translate(64.61116 138.913777)scale(0.1625 -0.1625)\">\n",
       "      <use xlink:href=\"#DejaVuSans-Oblique-113\"/>\n",
       "      <use transform=\"translate(63.476562 -16.40625)scale(0.7)\" xlink:href=\"#DejaVuSans-50\"/>\n",
       "     </g>\n",
       "    </g>\n",
       "   </g>\n",
       "  </g>\n",
       " </g>\n",
       " <defs>\n",
       "  <clipPath id=\"pb1d080eaff\">\n",
       "   <rect height=\"154.5334\" width=\"452.69196\" x=\"7.2\" y=\"7.2\"/>\n",
       "  </clipPath>\n",
       " </defs>\n",
       "</svg>\n"
      ],
      "text/plain": [
       "<Figure size 599.592x204.68 with 1 Axes>"
      ]
     },
     "execution_count": 2,
     "metadata": {},
     "output_type": "execute_result"
    }
   ],
   "source": [
    "def apply_fixed_ansatz(qubits, parameters):\n",
    "\n",
    "    for iz in range (0, len(qubits)):\n",
    "        circ.ry(parameters[0][iz], qubits[iz])\n",
    "\n",
    "    circ.cz(qubits[0], qubits[1])\n",
    "    circ.cz(qubits[2], qubits[0])\n",
    "\n",
    "    for iz in range (0, len(qubits)):\n",
    "        circ.ry(parameters[1][iz], qubits[iz])\n",
    "\n",
    "    circ.cz(qubits[1], qubits[2])\n",
    "    circ.cz(qubits[2], qubits[0])\n",
    "\n",
    "    for iz in range (0, len(qubits)):\n",
    "        circ.ry(parameters[2][iz], qubits[iz])\n",
    "\n",
    "circ = QuantumCircuit(3)\n",
    "apply_fixed_ansatz([0, 1, 2], [[1, 1, 1], [1, 1, 1], [1, 1, 1]])\n",
    "circ.draw(output='mpl')"
   ]
  },
  {
   "cell_type": "markdown",
   "metadata": {},
   "source": [
    "This is called a **fixed hardware ansatz**: the configuration of quantum gates remains the same for each run of the circuit, all that changes are the parameters. Unlike the QAOA ansatz, it is not composed solely of Trotterized Hamiltonians. The applications of $Ry$ gates allows us to search the state space, while the $CZ$ gates create \"interference\" between the different qubit states. \n",
    "\n",
    "Now, it makes sense for us to consider the actual **cost function**. The goal of our algorithm will be to minimize cost, so when $|\\Phi\\rangle \\ = \\ \\textbf{A} |\\psi(k)\\rangle$ is very close to $|\\textbf{b}\\rangle$, we want our cost function's output to be very small, and when the vectors are close to being ortohognal, we want the cost function to be very large. Thus, we introduce the \"projection\" Hamiltonian:\n",
    "\n",
    "\n",
    "\n",
    "$$H_P \\ = \\ \\mathbb{I} \\ - \\ |b\\rangle \\langle b|$$\n",
    "\n",
    "\n",
    "\n",
    "Where we have:\n",
    "\n",
    "\n",
    "\n",
    "$$C_P \\ = \\ \\langle \\Phi | H_P | \\Phi \\rangle \\ = \\ \\langle \\Phi | (\\mathbb{I} \\ - \\ |b\\rangle \\langle b|) |\\Phi \\rangle \\ = \\ \\langle \\Phi | \\Phi \\rangle \\ - \\ \\langle \\Phi |b\\rangle \\langle b | \\Phi \\rangle$$\n",
    "\n",
    "\n",
    "\n",
    "Notice how the second term tells us \"how much\" of $|\\Phi\\rangle$ lies along $|b\\rangle$. We then subtract this from another number to get the desired low number when the inner product of $|\\Phi\\rangle$ and $|b\\rangle$ is greater (they agree more), and the opposite for when they are close to being orthogonal. This is looking good so far! However, there is still one more thing we can do to increase the accuracy of the algorithm: normalizing the cost function. This is due to the fact that if $|\\Phi\\rangle$ has a small norm, then the cost function will still be low, even if it does not agree with $|\\textbf{b}\\rangle$. Thus, we replace $|\\Phi\\rangle$ with $\\frac{|\\Phi\\rangle}{\\sqrt{\\langle \\Phi | \\Phi \\rangle}}$:\n",
    "\n",
    "\n",
    "\n",
    "$$\\hat{C}_P \\ = \\ \\frac{\\langle \\Phi | \\Phi \\rangle}{\\langle \\Phi | \\Phi \\rangle} \\ - \\ \\frac{\\langle \\Phi |b\\rangle \\langle b | \\Phi \\rangle}{\\langle \\Phi | \\Phi \\rangle} \\ = \\ 1 \\ - \\ \\frac{\\langle \\Phi |b\\rangle \\langle b | \\Phi \\rangle}{\\langle \\Phi | \\Phi \\rangle} \\ = \\ 1 \\ - \\ \\frac{|\\langle b | \\Phi \\rangle|^2}{\\langle \\Phi | \\Phi \\rangle}$$\n",
    "\n",
    "\n",
    "\n",
    "Ok, so, we have prepared our state $|\\psi(k)\\rangle$ with the ansatz. Now, we have two values to calculate in order to evaluate the cost function, namely $|\\langle b | \\Phi \\rangle|^2$ and $\\langle \\Phi | \\Phi \\rangle$. Luckily, a nifty little quantum subroutine called the **Hadamard Test** allows us to do this! Essentially, if we have some unitary $U$ and some state $|\\phi\\rangle$, and we want to find the expectation value of $U$ with respect to the state, $\\langle \\phi | U | \\phi \\rangle$, then we can evaluate the following circuit:\n",
    "\n",
    "<br><br>\n",
    "\n",
    "![image1](images/h.png)\n",
    "\n",
    "<br><br>\n",
    "\n",
    "Then, the probability of measuring the first qubit to be $0$ is equal to $\\frac{1}{2} (1 \\ + \\ \\text{Re}\\langle U \\rangle)$ and the probability of measuring $1$ is $\\frac{1}{2} (1 \\ - \\ \\text{Re}\\langle U \\rangle)$, so subtracting the two probabilities gives us $\\text{Re} \\langle U \\rangle$. Luckily, the matrices we will be dealing with when we test this algorithm are completely real, so $\\text{Re} \\langle U \\rangle \\ = \\ \\langle U \\rangle$, for this specific implementation. Here is how the Hadamard test works. By the circuit diagram, we have as our general state vector:\n",
    "\n",
    "<br>\n",
    "\n",
    "\n",
    "\n",
    "$$\\frac{|0\\rangle \\ + \\ |1\\rangle}{\\sqrt{2}} \\ \\otimes \\ |\\psi\\rangle \\ = \\ \\frac{|0\\rangle \\ \\otimes \\ |\\psi\\rangle \\ + \\ |1\\rangle \\ \\otimes \\ |\\psi\\rangle}{\\sqrt{2}}$$\n",
    "\n",
    "\n",
    "\n",
    "<br>\n",
    "\n",
    "Applying our controlled unitay:\n",
    "\n",
    "<br>\n",
    "\n",
    "\n",
    "\n",
    "$$\\frac{|0\\rangle \\ \\otimes \\ |\\psi\\rangle \\ + \\ |1\\rangle \\ \\otimes \\ |\\psi\\rangle}{\\sqrt{2}} \\ \\rightarrow \\ \\frac{|0\\rangle \\ \\otimes \\ |\\psi\\rangle \\ + \\ |1\\rangle \\ \\otimes \\ U|\\psi\\rangle}{\\sqrt{2}}$$\n",
    "\n",
    "\n",
    "\n",
    "<br>\n",
    "\n",
    "Then applying the Hadamard gate to the first qubit:\n",
    "\n",
    "<br>\n",
    "\n",
    "\n",
    "\n",
    "$$\\frac{|0\\rangle \\ \\otimes \\ |\\psi\\rangle \\ + \\ |1\\rangle \\ \\otimes \\ U|\\psi\\rangle}{\\sqrt{2}} \\ \\rightarrow \\ \\frac{1}{2} \\ \\big[ |0\\rangle \\ \\otimes \\ |\\psi\\rangle \\ + \\ |1\\rangle \\ \\otimes \\ |\\psi\\rangle \\ + \\ |0\\rangle \\ \\otimes \\ U|\\psi\\rangle \\ - \\ |1\\rangle \\ \\otimes \\ U|\\psi\\rangle \\big]$$\n",
    "\n",
    "\n",
    "\n",
    "<br>\n",
    "\n",
    "\n",
    "\n",
    "$$\\Rightarrow \\ |0\\rangle \\ \\otimes \\ (\\mathbb{I} \\ + \\ U)|\\psi\\rangle \\ + \\ |1\\rangle \\ \\otimes \\ (\\mathbb{I} \\ - \\ U)|\\psi\\rangle$$\n",
    "\n",
    "\n",
    "\n",
    "<br>\n",
    "\n",
    "When we take a measurement of the first qubit, remember that in order to find the probability of measuring $0$, we must take the inner product of the state vector with $|0\\rangle$, then multiply by its complex conjugate (see the quantum mechanics section if you are not familiar with this). The same follows for the probability of measuring $1$. Thus, we have:\n",
    "\n",
    "<br>\n",
    "\n",
    "\n",
    "\n",
    "$$P(0) \\ = \\ \\frac{1}{4} \\ \\langle \\psi | (\\mathbb{I} \\ + \\ U) (\\mathbb{I} \\ + \\ U^{\\dagger}) |\\psi\\rangle \\ = \\ \\frac{1}{4} \\ \\langle \\psi | (\\mathbb{I}^2 \\ + U \\ + \\ U^{\\dagger} \\ + \\ U^{\\dagger} U) |\\psi\\rangle \\ = \\ \\frac{1}{4} \\ \\langle \\psi | (2\\mathbb{I} \\ + U \\ + \\ U^{\\dagger}) |\\psi\\rangle$$\n",
    "\n",
    "\n",
    "\n",
    "<br>\n",
    "\n",
    "\n",
    "\n",
    "$$\\Rightarrow \\ \\frac{1}{4} \\Big[ 2 \\ + \\ \\langle \\psi | U^{\\dagger} | \\psi \\rangle \\ + \\ \\langle \\psi | U | \\psi \\rangle \\Big] \\ = \\ \\frac{1}{4} \\Big[ 2 \\ + \\ (\\langle \\psi | U | \\psi \\rangle)^{*} \\ + \\ \\langle \\psi | U | \\psi \\rangle \\Big] \\ = \\ \\frac{1}{2} (1 \\ + \\ \\text{Re} \\ \\langle \\psi | U | \\psi \\rangle)$$\n",
    "\n",
    "\n",
    "\n",
    "<br>\n",
    "\n",
    "By a similar procedure, we get:\n",
    "\n",
    "<br>\n",
    "\n",
    "\n",
    "\n",
    "$$P(1) \\ = \\ \\frac{1}{2} \\ (1 \\ - \\ \\text{Re} \\ \\langle \\psi | U | \\psi \\rangle)$$\n",
    "\n",
    "\n",
    "\n",
    "<br>\n",
    "\n",
    "And so, by taking the difference:\n",
    "\n",
    "<br>\n",
    "\n",
    "\n",
    "\n",
    "$$P(0) \\ - \\ P(1) \\ = \\ \\text{Re} \\ \\langle \\psi | U | \\psi \\rangle$$\n",
    "\n",
    "\n",
    "\n",
    "<br>\n",
    "\n",
    "Cool! Now, we can actually implement this for the two values we have to compute. Starting with $\\langle \\Phi | \\Phi \\rangle$, we have:\n",
    "\n",
    "<br>\n",
    "\n",
    "\n",
    "\n",
    "$$\\langle \\Phi | \\Phi \\rangle \\ = \\ \\langle \\psi(k) | A^{\\dagger} A |\\psi(k) \\rangle \\ = \\ \\langle 0 | V(k)^{\\dagger} A^{\\dagger} A V(k) |0\\rangle \\ = \\ \\langle 0 | V(k)^{\\dagger} \\Big( \\displaystyle\\sum_{n} c_n \\ A_n \\Big)^{\\dagger} \\Big( \\displaystyle\\sum_{n} c_n \\ A_n \\Big) V(k) |0\\rangle$$\n",
    "\n",
    "\n",
    "\n",
    "<br>\n",
    "\n",
    "\n",
    "\n",
    "$$\\Rightarrow \\ \\langle \\Phi | \\Phi \\rangle \\ = \\ \\displaystyle\\sum_{m} \\displaystyle\\sum_{n} c_m^{*} c_n \\langle 0 | V(k)^{\\dagger} A_m^{\\dagger} A_n V(k) |0\\rangle$$\n",
    "\n",
    "\n",
    "\n",
    "<br>\n",
    "\n",
    "and so our task becomes computing every possible term $\\langle 0 | V(k)^{\\dagger} A_m^{\\dagger} A_n V(k) |0\\rangle$ using the Hadamard test. This requires us prepare the state $V(k) |0\\rangle$, and then perform controlled operations with some control-ancilla qubit for the unitary matrices $A_m^{\\dagger}$ and $A_n$. We can implement this in code:\n"
   ]
  },
  {
   "cell_type": "code",
   "execution_count": 3,
   "metadata": {},
   "outputs": [
    {
     "data": {
      "image/svg+xml": [
       "<?xml version=\"1.0\" encoding=\"utf-8\" standalone=\"no\"?>\n",
       "<!DOCTYPE svg PUBLIC \"-//W3C//DTD SVG 1.1//EN\"\n",
       "  \"http://www.w3.org/Graphics/SVG/1.1/DTD/svg11.dtd\">\n",
       "<!-- Created with matplotlib (https://matplotlib.org/) -->\n",
       "<svg height=\"214.3844pt\" version=\"1.1\" viewBox=\"0 0 557.99396 214.3844\" width=\"557.99396pt\" xmlns=\"http://www.w3.org/2000/svg\" xmlns:xlink=\"http://www.w3.org/1999/xlink\">\n",
       " <defs>\n",
       "  <style type=\"text/css\">\n",
       "*{stroke-linecap:butt;stroke-linejoin:round;}\n",
       "  </style>\n",
       " </defs>\n",
       " <g id=\"figure_1\">\n",
       "  <g id=\"patch_1\">\n",
       "   <path d=\"M 0 214.3844 \n",
       "L 557.99396 214.3844 \n",
       "L 557.99396 0 \n",
       "L 0 0 \n",
       "z\n",
       "\" style=\"fill:#ffffff;\"/>\n",
       "  </g>\n",
       "  <g id=\"axes_1\">\n",
       "   <g id=\"line2d_1\">\n",
       "    <path clip-path=\"url(#pc1786c8251)\" d=\"M 100.82906 43.5608 \n",
       "L 546.24886 43.5608 \n",
       "\" style=\"fill:none;stroke:#000000;stroke-linecap:square;stroke-width:2;\"/>\n",
       "   </g>\n",
       "   <g id=\"line2d_2\">\n",
       "    <path clip-path=\"url(#pc1786c8251)\" d=\"M 100.82906 89.0118 \n",
       "L 546.24886 89.0118 \n",
       "\" style=\"fill:none;stroke:#000000;stroke-linecap:square;stroke-width:2;\"/>\n",
       "   </g>\n",
       "   <g id=\"line2d_3\">\n",
       "    <path clip-path=\"url(#pc1786c8251)\" d=\"M 100.82906 134.4628 \n",
       "L 546.24886 134.4628 \n",
       "\" style=\"fill:none;stroke:#000000;stroke-linecap:square;stroke-width:2;\"/>\n",
       "   </g>\n",
       "   <g id=\"line2d_4\">\n",
       "    <path clip-path=\"url(#pc1786c8251)\" d=\"M 100.82906 179.9138 \n",
       "L 546.24886 179.9138 \n",
       "\" style=\"fill:none;stroke:#000000;stroke-linecap:square;stroke-width:2;\"/>\n",
       "   </g>\n",
       "   <g id=\"line2d_5\">\n",
       "    <path clip-path=\"url(#pc1786c8251)\" d=\"M 182.64086 134.4628 \n",
       "L 182.64086 89.0118 \n",
       "\" style=\"fill:none;stroke:#6fa4ff;stroke-linecap:square;stroke-width:2;\"/>\n",
       "   </g>\n",
       "   <g id=\"line2d_6\">\n",
       "    <path clip-path=\"url(#pc1786c8251)\" d=\"M 228.09186 179.9138 \n",
       "L 228.09186 89.0118 \n",
       "\" style=\"fill:none;stroke:#6fa4ff;stroke-linecap:square;stroke-width:2;\"/>\n",
       "   </g>\n",
       "   <g id=\"line2d_7\">\n",
       "    <path clip-path=\"url(#pc1786c8251)\" d=\"M 318.99386 179.9138 \n",
       "L 318.99386 134.4628 \n",
       "\" style=\"fill:none;stroke:#6fa4ff;stroke-linecap:square;stroke-width:2;\"/>\n",
       "   </g>\n",
       "   <g id=\"line2d_8\">\n",
       "    <path clip-path=\"url(#pc1786c8251)\" d=\"M 364.44486 179.9138 \n",
       "L 364.44486 89.0118 \n",
       "\" style=\"fill:none;stroke:#6fa4ff;stroke-linecap:square;stroke-width:2;\"/>\n",
       "   </g>\n",
       "   <g id=\"line2d_9\">\n",
       "    <path clip-path=\"url(#pc1786c8251)\" d=\"M 455.34686 179.9138 \n",
       "L 455.34686 43.5608 \n",
       "\" style=\"fill:none;stroke:#6fa4ff;stroke-linecap:square;stroke-width:2;\"/>\n",
       "   </g>\n",
       "   <g id=\"patch_2\">\n",
       "    <path clip-path=\"url(#pc1786c8251)\" d=\"M 122.418285 58.332375 \n",
       "L 151.961435 58.332375 \n",
       "L 151.961435 28.789225 \n",
       "L 122.418285 28.789225 \n",
       "z\n",
       "\" style=\"fill:#6fa4ff;\"/>\n",
       "   </g>\n",
       "   <g id=\"patch_3\">\n",
       "    <path clip-path=\"url(#pc1786c8251)\" d=\"M 122.418285 103.783375 \n",
       "L 151.961435 103.783375 \n",
       "L 151.961435 74.240225 \n",
       "L 122.418285 74.240225 \n",
       "z\n",
       "\" style=\"fill:#bb8bff;\"/>\n",
       "   </g>\n",
       "   <g id=\"patch_4\">\n",
       "    <path clip-path=\"url(#pc1786c8251)\" d=\"M 122.418285 149.234375 \n",
       "L 151.961435 149.234375 \n",
       "L 151.961435 119.691225 \n",
       "L 122.418285 119.691225 \n",
       "z\n",
       "\" style=\"fill:#bb8bff;\"/>\n",
       "   </g>\n",
       "   <g id=\"patch_5\">\n",
       "    <path clip-path=\"url(#pc1786c8251)\" d=\"M 122.418285 194.685375 \n",
       "L 151.961435 194.685375 \n",
       "L 151.961435 165.142225 \n",
       "L 122.418285 165.142225 \n",
       "z\n",
       "\" style=\"fill:#bb8bff;\"/>\n",
       "   </g>\n",
       "   <g id=\"patch_6\">\n",
       "    <path clip-path=\"url(#pc1786c8251)\" d=\"M 182.64086 93.443273 \n",
       "C 183.8161 93.443273 184.943364 92.976345 185.774384 92.145324 \n",
       "C 186.605405 91.314304 187.072332 90.18704 187.072332 89.0118 \n",
       "C 187.072332 87.83656 186.605405 86.709296 185.774384 85.878276 \n",
       "C 184.943364 85.047255 183.8161 84.580328 182.64086 84.580328 \n",
       "C 181.46562 84.580328 180.338356 85.047255 179.507336 85.878276 \n",
       "C 178.676315 86.709296 178.209387 87.83656 178.209387 89.0118 \n",
       "C 178.209387 90.18704 178.676315 91.314304 179.507336 92.145324 \n",
       "C 180.338356 92.976345 181.46562 93.443273 182.64086 93.443273 \n",
       "z\n",
       "\" style=\"fill:#6fa4ff;stroke:#6fa4ff;stroke-linejoin:miter;stroke-width:1.5;\"/>\n",
       "   </g>\n",
       "   <g id=\"patch_7\">\n",
       "    <path clip-path=\"url(#pc1786c8251)\" d=\"M 182.64086 138.894273 \n",
       "C 183.8161 138.894273 184.943364 138.427345 185.774384 137.596324 \n",
       "C 186.605405 136.765304 187.072332 135.63804 187.072332 134.4628 \n",
       "C 187.072332 133.28756 186.605405 132.160296 185.774384 131.329276 \n",
       "C 184.943364 130.498255 183.8161 130.031328 182.64086 130.031328 \n",
       "C 181.46562 130.031328 180.338356 130.498255 179.507336 131.329276 \n",
       "C 178.676315 132.160296 178.209387 133.28756 178.209387 134.4628 \n",
       "C 178.209387 135.63804 178.676315 136.765304 179.507336 137.596324 \n",
       "C 180.338356 138.427345 181.46562 138.894273 182.64086 138.894273 \n",
       "z\n",
       "\" style=\"fill:#6fa4ff;stroke:#6fa4ff;stroke-linejoin:miter;stroke-width:1.5;\"/>\n",
       "   </g>\n",
       "   <g id=\"patch_8\">\n",
       "    <path clip-path=\"url(#pc1786c8251)\" d=\"M 228.09186 184.345272 \n",
       "C 229.2671 184.345272 230.394364 183.878345 231.225384 183.047324 \n",
       "C 232.056405 182.216304 232.523332 181.08904 232.523332 179.9138 \n",
       "C 232.523332 178.73856 232.056405 177.611296 231.225384 176.780276 \n",
       "C 230.394364 175.949255 229.2671 175.482327 228.09186 175.482327 \n",
       "C 226.91662 175.482327 225.789356 175.949255 224.958336 176.780276 \n",
       "C 224.127315 177.611296 223.660387 178.73856 223.660387 179.9138 \n",
       "C 223.660387 181.08904 224.127315 182.216304 224.958336 183.047324 \n",
       "C 225.789356 183.878345 226.91662 184.345272 228.09186 184.345272 \n",
       "z\n",
       "\" style=\"fill:#6fa4ff;stroke:#6fa4ff;stroke-linejoin:miter;stroke-width:1.5;\"/>\n",
       "   </g>\n",
       "   <g id=\"patch_9\">\n",
       "    <path clip-path=\"url(#pc1786c8251)\" d=\"M 228.09186 93.443273 \n",
       "C 229.2671 93.443273 230.394364 92.976345 231.225384 92.145324 \n",
       "C 232.056405 91.314304 232.523332 90.18704 232.523332 89.0118 \n",
       "C 232.523332 87.83656 232.056405 86.709296 231.225384 85.878276 \n",
       "C 230.394364 85.047255 229.2671 84.580328 228.09186 84.580328 \n",
       "C 226.91662 84.580328 225.789356 85.047255 224.958336 85.878276 \n",
       "C 224.127315 86.709296 223.660387 87.83656 223.660387 89.0118 \n",
       "C 223.660387 90.18704 224.127315 91.314304 224.958336 92.145324 \n",
       "C 225.789356 92.976345 226.91662 93.443273 228.09186 93.443273 \n",
       "z\n",
       "\" style=\"fill:#6fa4ff;stroke:#6fa4ff;stroke-linejoin:miter;stroke-width:1.5;\"/>\n",
       "   </g>\n",
       "   <g id=\"patch_10\">\n",
       "    <path clip-path=\"url(#pc1786c8251)\" d=\"M 258.771285 149.234375 \n",
       "L 288.314435 149.234375 \n",
       "L 288.314435 119.691225 \n",
       "L 258.771285 119.691225 \n",
       "z\n",
       "\" style=\"fill:#bb8bff;\"/>\n",
       "   </g>\n",
       "   <g id=\"patch_11\">\n",
       "    <path clip-path=\"url(#pc1786c8251)\" d=\"M 258.771285 103.783375 \n",
       "L 288.314435 103.783375 \n",
       "L 288.314435 74.240225 \n",
       "L 258.771285 74.240225 \n",
       "z\n",
       "\" style=\"fill:#bb8bff;\"/>\n",
       "   </g>\n",
       "   <g id=\"patch_12\">\n",
       "    <path clip-path=\"url(#pc1786c8251)\" d=\"M 258.771285 194.685375 \n",
       "L 288.314435 194.685375 \n",
       "L 288.314435 165.142225 \n",
       "L 258.771285 165.142225 \n",
       "z\n",
       "\" style=\"fill:#bb8bff;\"/>\n",
       "   </g>\n",
       "   <g id=\"patch_13\">\n",
       "    <path clip-path=\"url(#pc1786c8251)\" d=\"M 318.99386 138.894273 \n",
       "C 320.1691 138.894273 321.296364 138.427345 322.127384 137.596324 \n",
       "C 322.958405 136.765304 323.425332 135.63804 323.425332 134.4628 \n",
       "C 323.425332 133.28756 322.958405 132.160296 322.127384 131.329276 \n",
       "C 321.296364 130.498255 320.1691 130.031328 318.99386 130.031328 \n",
       "C 317.81862 130.031328 316.691356 130.498255 315.860336 131.329276 \n",
       "C 315.029315 132.160296 314.562387 133.28756 314.562387 134.4628 \n",
       "C 314.562387 135.63804 315.029315 136.765304 315.860336 137.596324 \n",
       "C 316.691356 138.427345 317.81862 138.894273 318.99386 138.894273 \n",
       "z\n",
       "\" style=\"fill:#6fa4ff;stroke:#6fa4ff;stroke-linejoin:miter;stroke-width:1.5;\"/>\n",
       "   </g>\n",
       "   <g id=\"patch_14\">\n",
       "    <path clip-path=\"url(#pc1786c8251)\" d=\"M 318.99386 184.345272 \n",
       "C 320.1691 184.345272 321.296364 183.878345 322.127384 183.047324 \n",
       "C 322.958405 182.216304 323.425332 181.08904 323.425332 179.9138 \n",
       "C 323.425332 178.73856 322.958405 177.611296 322.127384 176.780276 \n",
       "C 321.296364 175.949255 320.1691 175.482327 318.99386 175.482327 \n",
       "C 317.81862 175.482327 316.691356 175.949255 315.860336 176.780276 \n",
       "C 315.029315 177.611296 314.562387 178.73856 314.562387 179.9138 \n",
       "C 314.562387 181.08904 315.029315 182.216304 315.860336 183.047324 \n",
       "C 316.691356 183.878345 317.81862 184.345272 318.99386 184.345272 \n",
       "z\n",
       "\" style=\"fill:#6fa4ff;stroke:#6fa4ff;stroke-linejoin:miter;stroke-width:1.5;\"/>\n",
       "   </g>\n",
       "   <g id=\"patch_15\">\n",
       "    <path clip-path=\"url(#pc1786c8251)\" d=\"M 364.44486 184.345272 \n",
       "C 365.6201 184.345272 366.747364 183.878345 367.578384 183.047324 \n",
       "C 368.409405 182.216304 368.876332 181.08904 368.876332 179.9138 \n",
       "C 368.876332 178.73856 368.409405 177.611296 367.578384 176.780276 \n",
       "C 366.747364 175.949255 365.6201 175.482327 364.44486 175.482327 \n",
       "C 363.26962 175.482327 362.142356 175.949255 361.311336 176.780276 \n",
       "C 360.480315 177.611296 360.013387 178.73856 360.013387 179.9138 \n",
       "C 360.013387 181.08904 360.480315 182.216304 361.311336 183.047324 \n",
       "C 362.142356 183.878345 363.26962 184.345272 364.44486 184.345272 \n",
       "z\n",
       "\" style=\"fill:#6fa4ff;stroke:#6fa4ff;stroke-linejoin:miter;stroke-width:1.5;\"/>\n",
       "   </g>\n",
       "   <g id=\"patch_16\">\n",
       "    <path clip-path=\"url(#pc1786c8251)\" d=\"M 364.44486 93.443273 \n",
       "C 365.6201 93.443273 366.747364 92.976345 367.578384 92.145324 \n",
       "C 368.409405 91.314304 368.876332 90.18704 368.876332 89.0118 \n",
       "C 368.876332 87.83656 368.409405 86.709296 367.578384 85.878276 \n",
       "C 366.747364 85.047255 365.6201 84.580328 364.44486 84.580328 \n",
       "C 363.26962 84.580328 362.142356 85.047255 361.311336 85.878276 \n",
       "C 360.480315 86.709296 360.013387 87.83656 360.013387 89.0118 \n",
       "C 360.013387 90.18704 360.480315 91.314304 361.311336 92.145324 \n",
       "C 362.142356 92.976345 363.26962 93.443273 364.44486 93.443273 \n",
       "z\n",
       "\" style=\"fill:#6fa4ff;stroke:#6fa4ff;stroke-linejoin:miter;stroke-width:1.5;\"/>\n",
       "   </g>\n",
       "   <g id=\"patch_17\">\n",
       "    <path clip-path=\"url(#pc1786c8251)\" d=\"M 395.124285 149.234375 \n",
       "L 424.667435 149.234375 \n",
       "L 424.667435 119.691225 \n",
       "L 395.124285 119.691225 \n",
       "z\n",
       "\" style=\"fill:#bb8bff;\"/>\n",
       "   </g>\n",
       "   <g id=\"patch_18\">\n",
       "    <path clip-path=\"url(#pc1786c8251)\" d=\"M 395.124285 103.783375 \n",
       "L 424.667435 103.783375 \n",
       "L 424.667435 74.240225 \n",
       "L 395.124285 74.240225 \n",
       "z\n",
       "\" style=\"fill:#bb8bff;\"/>\n",
       "   </g>\n",
       "   <g id=\"patch_19\">\n",
       "    <path clip-path=\"url(#pc1786c8251)\" d=\"M 395.124285 194.685375 \n",
       "L 424.667435 194.685375 \n",
       "L 424.667435 165.142225 \n",
       "L 395.124285 165.142225 \n",
       "z\n",
       "\" style=\"fill:#bb8bff;\"/>\n",
       "   </g>\n",
       "   <g id=\"patch_20\">\n",
       "    <path clip-path=\"url(#pc1786c8251)\" d=\"M 455.34686 47.992273 \n",
       "C 456.5221 47.992273 457.649364 47.525345 458.480384 46.694324 \n",
       "C 459.311405 45.863304 459.778332 44.73604 459.778332 43.5608 \n",
       "C 459.778332 42.38556 459.311405 41.258296 458.480384 40.427276 \n",
       "C 457.649364 39.596255 456.5221 39.129328 455.34686 39.129328 \n",
       "C 454.17162 39.129328 453.044356 39.596255 452.213336 40.427276 \n",
       "C 451.382315 41.258296 450.915387 42.38556 450.915387 43.5608 \n",
       "C 450.915387 44.73604 451.382315 45.863304 452.213336 46.694324 \n",
       "C 453.044356 47.525345 454.17162 47.992273 455.34686 47.992273 \n",
       "z\n",
       "\" style=\"fill:#6fa4ff;stroke:#6fa4ff;stroke-linejoin:miter;stroke-width:1.5;\"/>\n",
       "   </g>\n",
       "   <g id=\"patch_21\">\n",
       "    <path clip-path=\"url(#pc1786c8251)\" d=\"M 455.34686 184.345272 \n",
       "C 456.5221 184.345272 457.649364 183.878345 458.480384 183.047324 \n",
       "C 459.311405 182.216304 459.778332 181.08904 459.778332 179.9138 \n",
       "C 459.778332 178.73856 459.311405 177.611296 458.480384 176.780276 \n",
       "C 457.649364 175.949255 456.5221 175.482327 455.34686 175.482327 \n",
       "C 454.17162 175.482327 453.044356 175.949255 452.213336 176.780276 \n",
       "C 451.382315 177.611296 450.915387 178.73856 450.915387 179.9138 \n",
       "C 450.915387 181.08904 451.382315 182.216304 452.213336 183.047324 \n",
       "C 453.044356 183.878345 454.17162 184.345272 455.34686 184.345272 \n",
       "z\n",
       "\" style=\"fill:#6fa4ff;stroke:#6fa4ff;stroke-linejoin:miter;stroke-width:1.5;\"/>\n",
       "   </g>\n",
       "   <g id=\"patch_22\">\n",
       "    <path clip-path=\"url(#pc1786c8251)\" d=\"M 486.026285 58.332375 \n",
       "L 515.569435 58.332375 \n",
       "L 515.569435 28.789225 \n",
       "L 486.026285 28.789225 \n",
       "z\n",
       "\" style=\"fill:#6fa4ff;\"/>\n",
       "   </g>\n",
       "   <g id=\"text_1\">\n",
       "    <g clip-path=\"url(#pc1786c8251)\">\n",
       "     <!-- $H$ -->\n",
       "     <defs>\n",
       "      <path d=\"M 16.890625 72.90625 \n",
       "L 26.8125 72.90625 \n",
       "L 21 43.015625 \n",
       "L 56.78125 43.015625 \n",
       "L 62.59375 72.90625 \n",
       "L 72.515625 72.90625 \n",
       "L 58.296875 0 \n",
       "L 48.390625 0 \n",
       "L 55.171875 34.71875 \n",
       "L 19.390625 34.71875 \n",
       "L 12.59375 0 \n",
       "L 2.6875 0 \n",
       "z\n",
       "\" id=\"DejaVuSans-Oblique-72\"/>\n",
       "     </defs>\n",
       "     <g transform=\"translate(132.24986 47.147988)scale(0.13 -0.13)\">\n",
       "      <use transform=\"translate(0 0.09375)\" xlink:href=\"#DejaVuSans-Oblique-72\"/>\n",
       "     </g>\n",
       "    </g>\n",
       "   </g>\n",
       "   <g id=\"text_2\">\n",
       "    <g clip-path=\"url(#pc1786c8251)\">\n",
       "     <!-- $R_y$ -->\n",
       "     <defs>\n",
       "      <path d=\"M 25.203125 64.796875 \n",
       "L 20.21875 38.921875 \n",
       "L 32.90625 38.921875 \n",
       "Q 40.375 38.921875 44.984375 43.046875 \n",
       "Q 49.609375 47.171875 49.609375 53.8125 \n",
       "Q 49.609375 59.125 46.5 61.953125 \n",
       "Q 43.40625 64.796875 37.59375 64.796875 \n",
       "z\n",
       "M 43.3125 35.015625 \n",
       "Q 46.4375 34.28125 48.515625 31.390625 \n",
       "Q 50.59375 28.515625 53.328125 19.921875 \n",
       "L 59.515625 0 \n",
       "L 49.125 0 \n",
       "L 43.40625 18.703125 \n",
       "Q 41.21875 25.921875 38.328125 28.359375 \n",
       "Q 35.453125 30.8125 29.5 30.8125 \n",
       "L 18.609375 30.8125 \n",
       "L 12.59375 0 \n",
       "L 2.6875 0 \n",
       "L 16.890625 72.90625 \n",
       "L 39.109375 72.90625 \n",
       "Q 49.21875 72.90625 54.609375 68.328125 \n",
       "Q 60.015625 63.765625 60.015625 55.171875 \n",
       "Q 60.015625 47.5625 55.421875 41.984375 \n",
       "Q 50.828125 36.421875 43.3125 35.015625 \n",
       "z\n",
       "\" id=\"DejaVuSans-Oblique-82\"/>\n",
       "      <path d=\"M 24.8125 -5.078125 \n",
       "Q 18.5625 -15.578125 14.625 -18.1875 \n",
       "Q 10.6875 -20.796875 4.59375 -20.796875 \n",
       "L -2.484375 -20.796875 \n",
       "L -0.984375 -13.28125 \n",
       "L 4.203125 -13.28125 \n",
       "Q 7.953125 -13.28125 10.59375 -11.234375 \n",
       "Q 13.234375 -9.1875 16.5 -3.21875 \n",
       "L 19.28125 2 \n",
       "L 7.171875 54.6875 \n",
       "L 16.703125 54.6875 \n",
       "L 25.78125 12.796875 \n",
       "L 50.875 54.6875 \n",
       "L 60.296875 54.6875 \n",
       "z\n",
       "\" id=\"DejaVuSans-Oblique-121\"/>\n",
       "     </defs>\n",
       "     <g transform=\"translate(129.77986 87.310328)scale(0.13 -0.13)\">\n",
       "      <use transform=\"translate(0 0.09375)\" xlink:href=\"#DejaVuSans-Oblique-82\"/>\n",
       "      <use transform=\"translate(69.482422 -16.3125)scale(0.7)\" xlink:href=\"#DejaVuSans-Oblique-121\"/>\n",
       "     </g>\n",
       "    </g>\n",
       "   </g>\n",
       "   <g id=\"text_3\">\n",
       "    <g clip-path=\"url(#pc1786c8251)\">\n",
       "     <!-- 1 -->\n",
       "     <defs>\n",
       "      <path d=\"M 12.40625 8.296875 \n",
       "L 28.515625 8.296875 \n",
       "L 28.515625 63.921875 \n",
       "L 10.984375 60.40625 \n",
       "L 10.984375 69.390625 \n",
       "L 28.421875 72.90625 \n",
       "L 38.28125 72.90625 \n",
       "L 38.28125 8.296875 \n",
       "L 54.390625 8.296875 \n",
       "L 54.390625 0 \n",
       "L 12.40625 0 \n",
       "z\n",
       "\" id=\"DejaVuSans-49\"/>\n",
       "     </defs>\n",
       "     <g transform=\"translate(134.64486 100.082245)scale(0.08 -0.08)\">\n",
       "      <use xlink:href=\"#DejaVuSans-49\"/>\n",
       "     </g>\n",
       "    </g>\n",
       "   </g>\n",
       "   <g id=\"text_4\">\n",
       "    <g clip-path=\"url(#pc1786c8251)\">\n",
       "     <!-- $R_y$ -->\n",
       "     <g transform=\"translate(129.77986 132.761327)scale(0.13 -0.13)\">\n",
       "      <use transform=\"translate(0 0.09375)\" xlink:href=\"#DejaVuSans-Oblique-82\"/>\n",
       "      <use transform=\"translate(69.482422 -16.3125)scale(0.7)\" xlink:href=\"#DejaVuSans-Oblique-121\"/>\n",
       "     </g>\n",
       "    </g>\n",
       "   </g>\n",
       "   <g id=\"text_5\">\n",
       "    <g clip-path=\"url(#pc1786c8251)\">\n",
       "     <!-- 1 -->\n",
       "     <g transform=\"translate(134.64486 145.533245)scale(0.08 -0.08)\">\n",
       "      <use xlink:href=\"#DejaVuSans-49\"/>\n",
       "     </g>\n",
       "    </g>\n",
       "   </g>\n",
       "   <g id=\"text_6\">\n",
       "    <g clip-path=\"url(#pc1786c8251)\">\n",
       "     <!-- $R_y$ -->\n",
       "     <g transform=\"translate(129.77986 178.212327)scale(0.13 -0.13)\">\n",
       "      <use transform=\"translate(0 0.09375)\" xlink:href=\"#DejaVuSans-Oblique-82\"/>\n",
       "      <use transform=\"translate(69.482422 -16.3125)scale(0.7)\" xlink:href=\"#DejaVuSans-Oblique-121\"/>\n",
       "     </g>\n",
       "    </g>\n",
       "   </g>\n",
       "   <g id=\"text_7\">\n",
       "    <g clip-path=\"url(#pc1786c8251)\">\n",
       "     <!-- 1 -->\n",
       "     <g transform=\"translate(134.64486 190.984245)scale(0.08 -0.08)\">\n",
       "      <use xlink:href=\"#DejaVuSans-49\"/>\n",
       "     </g>\n",
       "    </g>\n",
       "   </g>\n",
       "   <g id=\"text_8\">\n",
       "    <g clip-path=\"url(#pc1786c8251)\">\n",
       "     <!-- $R_y$ -->\n",
       "     <g transform=\"translate(266.13286 132.761327)scale(0.13 -0.13)\">\n",
       "      <use transform=\"translate(0 0.09375)\" xlink:href=\"#DejaVuSans-Oblique-82\"/>\n",
       "      <use transform=\"translate(69.482422 -16.3125)scale(0.7)\" xlink:href=\"#DejaVuSans-Oblique-121\"/>\n",
       "     </g>\n",
       "    </g>\n",
       "   </g>\n",
       "   <g id=\"text_9\">\n",
       "    <g clip-path=\"url(#pc1786c8251)\">\n",
       "     <!-- 1 -->\n",
       "     <g transform=\"translate(270.99786 145.533245)scale(0.08 -0.08)\">\n",
       "      <use xlink:href=\"#DejaVuSans-49\"/>\n",
       "     </g>\n",
       "    </g>\n",
       "   </g>\n",
       "   <g id=\"text_10\">\n",
       "    <g clip-path=\"url(#pc1786c8251)\">\n",
       "     <!-- $R_y$ -->\n",
       "     <g transform=\"translate(266.13286 87.310328)scale(0.13 -0.13)\">\n",
       "      <use transform=\"translate(0 0.09375)\" xlink:href=\"#DejaVuSans-Oblique-82\"/>\n",
       "      <use transform=\"translate(69.482422 -16.3125)scale(0.7)\" xlink:href=\"#DejaVuSans-Oblique-121\"/>\n",
       "     </g>\n",
       "    </g>\n",
       "   </g>\n",
       "   <g id=\"text_11\">\n",
       "    <g clip-path=\"url(#pc1786c8251)\">\n",
       "     <!-- 1 -->\n",
       "     <g transform=\"translate(270.99786 100.082245)scale(0.08 -0.08)\">\n",
       "      <use xlink:href=\"#DejaVuSans-49\"/>\n",
       "     </g>\n",
       "    </g>\n",
       "   </g>\n",
       "   <g id=\"text_12\">\n",
       "    <g clip-path=\"url(#pc1786c8251)\">\n",
       "     <!-- $R_y$ -->\n",
       "     <g transform=\"translate(266.13286 178.212327)scale(0.13 -0.13)\">\n",
       "      <use transform=\"translate(0 0.09375)\" xlink:href=\"#DejaVuSans-Oblique-82\"/>\n",
       "      <use transform=\"translate(69.482422 -16.3125)scale(0.7)\" xlink:href=\"#DejaVuSans-Oblique-121\"/>\n",
       "     </g>\n",
       "    </g>\n",
       "   </g>\n",
       "   <g id=\"text_13\">\n",
       "    <g clip-path=\"url(#pc1786c8251)\">\n",
       "     <!-- 1 -->\n",
       "     <g transform=\"translate(270.99786 190.984245)scale(0.08 -0.08)\">\n",
       "      <use xlink:href=\"#DejaVuSans-49\"/>\n",
       "     </g>\n",
       "    </g>\n",
       "   </g>\n",
       "   <g id=\"text_14\">\n",
       "    <g clip-path=\"url(#pc1786c8251)\">\n",
       "     <!-- $R_y$ -->\n",
       "     <g transform=\"translate(402.48586 132.761327)scale(0.13 -0.13)\">\n",
       "      <use transform=\"translate(0 0.09375)\" xlink:href=\"#DejaVuSans-Oblique-82\"/>\n",
       "      <use transform=\"translate(69.482422 -16.3125)scale(0.7)\" xlink:href=\"#DejaVuSans-Oblique-121\"/>\n",
       "     </g>\n",
       "    </g>\n",
       "   </g>\n",
       "   <g id=\"text_15\">\n",
       "    <g clip-path=\"url(#pc1786c8251)\">\n",
       "     <!-- 1 -->\n",
       "     <g transform=\"translate(407.35086 145.533245)scale(0.08 -0.08)\">\n",
       "      <use xlink:href=\"#DejaVuSans-49\"/>\n",
       "     </g>\n",
       "    </g>\n",
       "   </g>\n",
       "   <g id=\"text_16\">\n",
       "    <g clip-path=\"url(#pc1786c8251)\">\n",
       "     <!-- $R_y$ -->\n",
       "     <g transform=\"translate(402.48586 87.310328)scale(0.13 -0.13)\">\n",
       "      <use transform=\"translate(0 0.09375)\" xlink:href=\"#DejaVuSans-Oblique-82\"/>\n",
       "      <use transform=\"translate(69.482422 -16.3125)scale(0.7)\" xlink:href=\"#DejaVuSans-Oblique-121\"/>\n",
       "     </g>\n",
       "    </g>\n",
       "   </g>\n",
       "   <g id=\"text_17\">\n",
       "    <g clip-path=\"url(#pc1786c8251)\">\n",
       "     <!-- 1 -->\n",
       "     <g transform=\"translate(407.35086 100.082245)scale(0.08 -0.08)\">\n",
       "      <use xlink:href=\"#DejaVuSans-49\"/>\n",
       "     </g>\n",
       "    </g>\n",
       "   </g>\n",
       "   <g id=\"text_18\">\n",
       "    <g clip-path=\"url(#pc1786c8251)\">\n",
       "     <!-- $R_y$ -->\n",
       "     <g transform=\"translate(402.48586 178.212327)scale(0.13 -0.13)\">\n",
       "      <use transform=\"translate(0 0.09375)\" xlink:href=\"#DejaVuSans-Oblique-82\"/>\n",
       "      <use transform=\"translate(69.482422 -16.3125)scale(0.7)\" xlink:href=\"#DejaVuSans-Oblique-121\"/>\n",
       "     </g>\n",
       "    </g>\n",
       "   </g>\n",
       "   <g id=\"text_19\">\n",
       "    <g clip-path=\"url(#pc1786c8251)\">\n",
       "     <!-- 1 -->\n",
       "     <g transform=\"translate(407.35086 190.984245)scale(0.08 -0.08)\">\n",
       "      <use xlink:href=\"#DejaVuSans-49\"/>\n",
       "     </g>\n",
       "    </g>\n",
       "   </g>\n",
       "   <g id=\"text_20\">\n",
       "    <g clip-path=\"url(#pc1786c8251)\">\n",
       "     <!-- $H$ -->\n",
       "     <g transform=\"translate(495.85786 47.147988)scale(0.13 -0.13)\">\n",
       "      <use transform=\"translate(0 0.09375)\" xlink:href=\"#DejaVuSans-Oblique-72\"/>\n",
       "     </g>\n",
       "    </g>\n",
       "   </g>\n",
       "   <g id=\"text_21\">\n",
       "    <g clip-path=\"url(#pc1786c8251)\">\n",
       "     <!-- ${q}_{0}$ -->\n",
       "     <defs>\n",
       "      <path d=\"M 41.703125 8.203125 \n",
       "Q 38.09375 3.46875 33.171875 1.015625 \n",
       "Q 28.265625 -1.421875 22.3125 -1.421875 \n",
       "Q 14.015625 -1.421875 9.296875 4.171875 \n",
       "Q 4.59375 9.765625 4.59375 19.578125 \n",
       "Q 4.59375 27.484375 7.5 34.859375 \n",
       "Q 10.40625 42.234375 15.828125 48.09375 \n",
       "Q 19.34375 51.90625 23.90625 53.953125 \n",
       "Q 28.46875 56 33.5 56 \n",
       "Q 39.546875 56 43.453125 53.609375 \n",
       "Q 47.359375 51.21875 49.125 46.390625 \n",
       "L 50.6875 54.59375 \n",
       "L 59.71875 54.59375 \n",
       "L 45.125 -20.609375 \n",
       "L 36.078125 -20.609375 \n",
       "z\n",
       "M 13.921875 20.90625 \n",
       "Q 13.921875 13.671875 16.9375 9.890625 \n",
       "Q 19.96875 6.109375 25.6875 6.109375 \n",
       "Q 34.1875 6.109375 40.1875 14.234375 \n",
       "Q 46.1875 22.359375 46.1875 33.984375 \n",
       "Q 46.1875 41.015625 43.078125 44.75 \n",
       "Q 39.984375 48.484375 34.1875 48.484375 \n",
       "Q 29.9375 48.484375 26.3125 46.5 \n",
       "Q 22.703125 44.53125 20.015625 40.71875 \n",
       "Q 17.1875 36.71875 15.546875 31.34375 \n",
       "Q 13.921875 25.984375 13.921875 20.90625 \n",
       "z\n",
       "\" id=\"DejaVuSans-Oblique-113\"/>\n",
       "      <path d=\"M 31.78125 66.40625 \n",
       "Q 24.171875 66.40625 20.328125 58.90625 \n",
       "Q 16.5 51.421875 16.5 36.375 \n",
       "Q 16.5 21.390625 20.328125 13.890625 \n",
       "Q 24.171875 6.390625 31.78125 6.390625 \n",
       "Q 39.453125 6.390625 43.28125 13.890625 \n",
       "Q 47.125 21.390625 47.125 36.375 \n",
       "Q 47.125 51.421875 43.28125 58.90625 \n",
       "Q 39.453125 66.40625 31.78125 66.40625 \n",
       "z\n",
       "M 31.78125 74.21875 \n",
       "Q 44.046875 74.21875 50.515625 64.515625 \n",
       "Q 56.984375 54.828125 56.984375 36.375 \n",
       "Q 56.984375 17.96875 50.515625 8.265625 \n",
       "Q 44.046875 -1.421875 31.78125 -1.421875 \n",
       "Q 19.53125 -1.421875 13.0625 8.265625 \n",
       "Q 6.59375 17.96875 6.59375 36.375 \n",
       "Q 6.59375 54.828125 13.0625 64.515625 \n",
       "Q 19.53125 74.21875 31.78125 74.21875 \n",
       "z\n",
       "\" id=\"DejaVuSans-48\"/>\n",
       "     </defs>\n",
       "     <g transform=\"translate(64.61116 48.011777)scale(0.1625 -0.1625)\">\n",
       "      <use xlink:href=\"#DejaVuSans-Oblique-113\"/>\n",
       "      <use transform=\"translate(63.476562 -16.40625)scale(0.7)\" xlink:href=\"#DejaVuSans-48\"/>\n",
       "     </g>\n",
       "    </g>\n",
       "   </g>\n",
       "   <g id=\"text_22\">\n",
       "    <g clip-path=\"url(#pc1786c8251)\">\n",
       "     <!-- ${q}_{1}$ -->\n",
       "     <g transform=\"translate(64.61116 93.462777)scale(0.1625 -0.1625)\">\n",
       "      <use xlink:href=\"#DejaVuSans-Oblique-113\"/>\n",
       "      <use transform=\"translate(63.476562 -16.40625)scale(0.7)\" xlink:href=\"#DejaVuSans-49\"/>\n",
       "     </g>\n",
       "    </g>\n",
       "   </g>\n",
       "   <g id=\"text_23\">\n",
       "    <g clip-path=\"url(#pc1786c8251)\">\n",
       "     <!-- ${q}_{2}$ -->\n",
       "     <defs>\n",
       "      <path d=\"M 19.1875 8.296875 \n",
       "L 53.609375 8.296875 \n",
       "L 53.609375 0 \n",
       "L 7.328125 0 \n",
       "L 7.328125 8.296875 \n",
       "Q 12.9375 14.109375 22.625 23.890625 \n",
       "Q 32.328125 33.6875 34.8125 36.53125 \n",
       "Q 39.546875 41.84375 41.421875 45.53125 \n",
       "Q 43.3125 49.21875 43.3125 52.78125 \n",
       "Q 43.3125 58.59375 39.234375 62.25 \n",
       "Q 35.15625 65.921875 28.609375 65.921875 \n",
       "Q 23.96875 65.921875 18.8125 64.3125 \n",
       "Q 13.671875 62.703125 7.8125 59.421875 \n",
       "L 7.8125 69.390625 \n",
       "Q 13.765625 71.78125 18.9375 73 \n",
       "Q 24.125 74.21875 28.421875 74.21875 \n",
       "Q 39.75 74.21875 46.484375 68.546875 \n",
       "Q 53.21875 62.890625 53.21875 53.421875 \n",
       "Q 53.21875 48.921875 51.53125 44.890625 \n",
       "Q 49.859375 40.875 45.40625 35.40625 \n",
       "Q 44.1875 33.984375 37.640625 27.21875 \n",
       "Q 31.109375 20.453125 19.1875 8.296875 \n",
       "z\n",
       "\" id=\"DejaVuSans-50\"/>\n",
       "     </defs>\n",
       "     <g transform=\"translate(64.61116 138.913777)scale(0.1625 -0.1625)\">\n",
       "      <use xlink:href=\"#DejaVuSans-Oblique-113\"/>\n",
       "      <use transform=\"translate(63.476562 -16.40625)scale(0.7)\" xlink:href=\"#DejaVuSans-50\"/>\n",
       "     </g>\n",
       "    </g>\n",
       "   </g>\n",
       "   <g id=\"text_24\">\n",
       "    <g clip-path=\"url(#pc1786c8251)\">\n",
       "     <!-- ${q}_{3}$ -->\n",
       "     <defs>\n",
       "      <path d=\"M 40.578125 39.3125 \n",
       "Q 47.65625 37.796875 51.625 33 \n",
       "Q 55.609375 28.21875 55.609375 21.1875 \n",
       "Q 55.609375 10.40625 48.1875 4.484375 \n",
       "Q 40.765625 -1.421875 27.09375 -1.421875 \n",
       "Q 22.515625 -1.421875 17.65625 -0.515625 \n",
       "Q 12.796875 0.390625 7.625 2.203125 \n",
       "L 7.625 11.71875 \n",
       "Q 11.71875 9.328125 16.59375 8.109375 \n",
       "Q 21.484375 6.890625 26.8125 6.890625 \n",
       "Q 36.078125 6.890625 40.9375 10.546875 \n",
       "Q 45.796875 14.203125 45.796875 21.1875 \n",
       "Q 45.796875 27.640625 41.28125 31.265625 \n",
       "Q 36.765625 34.90625 28.71875 34.90625 \n",
       "L 20.21875 34.90625 \n",
       "L 20.21875 43.015625 \n",
       "L 29.109375 43.015625 \n",
       "Q 36.375 43.015625 40.234375 45.921875 \n",
       "Q 44.09375 48.828125 44.09375 54.296875 \n",
       "Q 44.09375 59.90625 40.109375 62.90625 \n",
       "Q 36.140625 65.921875 28.71875 65.921875 \n",
       "Q 24.65625 65.921875 20.015625 65.03125 \n",
       "Q 15.375 64.15625 9.8125 62.3125 \n",
       "L 9.8125 71.09375 \n",
       "Q 15.4375 72.65625 20.34375 73.4375 \n",
       "Q 25.25 74.21875 29.59375 74.21875 \n",
       "Q 40.828125 74.21875 47.359375 69.109375 \n",
       "Q 53.90625 64.015625 53.90625 55.328125 \n",
       "Q 53.90625 49.265625 50.4375 45.09375 \n",
       "Q 46.96875 40.921875 40.578125 39.3125 \n",
       "z\n",
       "\" id=\"DejaVuSans-51\"/>\n",
       "     </defs>\n",
       "     <g transform=\"translate(64.61116 184.364777)scale(0.1625 -0.1625)\">\n",
       "      <use xlink:href=\"#DejaVuSans-Oblique-113\"/>\n",
       "      <use transform=\"translate(63.476562 -16.40625)scale(0.7)\" xlink:href=\"#DejaVuSans-51\"/>\n",
       "     </g>\n",
       "    </g>\n",
       "   </g>\n",
       "  </g>\n",
       " </g>\n",
       " <defs>\n",
       "  <clipPath id=\"pc1786c8251\">\n",
       "   <rect height=\"199.9844\" width=\"543.59396\" x=\"7.2\" y=\"7.2\"/>\n",
       "  </clipPath>\n",
       " </defs>\n",
       "</svg>\n"
      ],
      "text/plain": [
       "<Figure size 719.992x264.88 with 1 Axes>"
      ]
     },
     "execution_count": 3,
     "metadata": {},
     "output_type": "execute_result"
    }
   ],
   "source": [
    "#Creates the Hadamard test\n",
    "\n",
    "def had_test(gate_type, qubits, ancilla_index, parameters):\n",
    "\n",
    "    circ.h(ancilla_index)\n",
    "\n",
    "    apply_fixed_ansatz(qubits, parameters)\n",
    "\n",
    "    for ie in range (0, len(gate_type[0])):\n",
    "        if (gate_type[0][ie] == 1):\n",
    "            circ.cz(ancilla_index, qubits[ie])\n",
    "\n",
    "    for ie in range (0, len(gate_type[1])):\n",
    "        if (gate_type[1][ie] == 1):\n",
    "            circ.cz(ancilla_index, qubits[ie])\n",
    "    \n",
    "    circ.h(ancilla_index)\n",
    "    \n",
    "circ = QuantumCircuit(4)\n",
    "had_test([[0, 0, 0], [0, 0, 1]], [1, 2, 3], 0, [[1, 1, 1], [1, 1, 1], [1, 1, 1]])\n",
    "circ.draw(output='mpl')"
   ]
  },
  {
   "cell_type": "markdown",
   "metadata": {},
   "source": [
    "The reason why we are applying two different \"gate_types\" is because this represents the pairs of gates shown in the expanded form of $\\langle \\Phi | \\Phi \\rangle$.\n",
    "\n",
    "It is also important to note that for the purposes of this implementation (the systems of equations we will actually be sovling, we are only concerned with the gates $Z$ and $\\mathbb{I}$, so I only include support for these gates (The code includes number \"identifiers\" that signify the application of different gates, $0$ for $\\mathbb{I}$ and $1$ for $Z$).\n",
    "\n",
    "Now, we can move on to the second value we must calculate, which is $|\\langle b | \\Phi \\rangle|^2$. We get:\n",
    "\n",
    "<br>\n",
    "\n",
    "\n",
    "\n",
    "$$|\\langle b | \\Phi \\rangle|^2 \\ = \\ |\\langle b | A V(k) | 0 \\rangle|^2 \\ = \\ |\\langle 0 | U^{\\dagger} A V(k) | 0 \\rangle|^2 \\ = \\ \\langle 0 | U^{\\dagger} A V(k) | 0 \\rangle \\langle 0 | V(k)^{\\dagger} A^{\\dagger} U |0\\rangle$$\n",
    "\n",
    "\n",
    "\n",
    "<br>\n",
    "\n",
    "All we have to do now is the same expansion as before for the product $\\langle 0 | U^{\\dagger} A V(k) | 0 \\rangle \\langle 0 | V(k)^{\\dagger} A^{\\dagger} U |0\\rangle$:\n",
    "\n",
    "<br>\n",
    "\n",
    "\n",
    "\n",
    "$$\\langle 0 | U^{\\dagger} A V(k) | 0 \\rangle^2 \\ = \\ \\displaystyle\\sum_{m} \\displaystyle\\sum_{n} c_m^{*} c_n \\langle 0 | U^{\\dagger} A_n V(k) | 0 \\rangle \\langle 0 | V(k)^{\\dagger} A_m^{\\dagger} U |0\\rangle$$\n",
    "\n",
    "\n",
    "\n",
    "<br>\n",
    "\n",
    "Now, again, for the purposes of this demonstration, we will soon see that all the outputs/expectation values of our implementation will be real, so we have:\n",
    "<br>\n",
    "\n",
    "\n",
    "\n",
    "$$\\Rightarrow \\ \\langle 0 | U^{\\dagger} A V(k) | 0 \\rangle \\ = \\ (\\langle 0 | U^{\\dagger} A V(k) | 0 \\rangle)^{*} \\ = \\ \\langle 0 | V(k)^{\\dagger} A^{\\dagger} U |0\\rangle$$\n",
    "\n",
    "\n",
    "\n",
    "<br>\n",
    "\n",
    "Thus, in this particular implementation:\n",
    "\n",
    "<br>\n",
    "\n",
    "\n",
    "\n",
    "$$|\\langle b | \\Phi \\rangle|^2 \\ = \\ \\displaystyle\\sum_{m} \\displaystyle\\sum_{n} c_m c_n \\langle 0 | U^{\\dagger} A_n V(k) | 0 \\rangle \\langle 0 | U^{\\dagger} A_m V(k) | 0 \\rangle$$\n",
    "\n",
    "\n",
    "\n",
    "<br>\n",
    "\n",
    "There is a sophisticated way of solving for this value, using a newly-proposed subroutine called the **Hadamard Overlap Test** (see cited paper), but for this tutorial, we will just be using a standard Hadamard Test, where we control each matrix. This unfortauntely requires the use of an extra ancilla qubit. We essentially just place a control on each of the gates involved in the ancilla, the $|b\\rangle$ preparation unitary, and the $A_n$ unitaries. We get something like this for the controlled-ansatz:\n"
   ]
  },
  {
   "cell_type": "code",
   "execution_count": 4,
   "metadata": {},
   "outputs": [
    {
     "data": {
      "image/svg+xml": [
       "<?xml version=\"1.0\" encoding=\"utf-8\" standalone=\"no\"?>\n",
       "<!DOCTYPE svg PUBLIC \"-//W3C//DTD SVG 1.1//EN\"\n",
       "  \"http://www.w3.org/Graphics/SVG/1.1/DTD/svg11.dtd\">\n",
       "<!-- Created with matplotlib (https://matplotlib.org/) -->\n",
       "<svg height=\"259.8354pt\" version=\"1.1\" viewBox=\"0 0 1111.58714 259.8354\" width=\"1111.58714pt\" xmlns=\"http://www.w3.org/2000/svg\" xmlns:xlink=\"http://www.w3.org/1999/xlink\">\n",
       " <defs>\n",
       "  <style type=\"text/css\">\n",
       "*{stroke-linecap:butt;stroke-linejoin:round;}\n",
       "  </style>\n",
       " </defs>\n",
       " <g id=\"figure_1\">\n",
       "  <g id=\"patch_1\">\n",
       "   <path d=\"M 0 259.8354 \n",
       "L 1111.58714 259.8354 \n",
       "L 1111.58714 0 \n",
       "L 0 0 \n",
       "z\n",
       "\" style=\"fill:#ffffff;\"/>\n",
       "  </g>\n",
       "  <g id=\"axes_1\">\n",
       "   <g id=\"line2d_1\">\n",
       "    <path clip-path=\"url(#p11932fa1ea)\" d=\"M 109.01024 43.5608 \n",
       "L 1099.84204 43.5608 \n",
       "\" style=\"fill:none;stroke:#000000;stroke-linecap:square;stroke-width:2;\"/>\n",
       "   </g>\n",
       "   <g id=\"line2d_2\">\n",
       "    <path clip-path=\"url(#p11932fa1ea)\" d=\"M 109.01024 89.0118 \n",
       "L 1099.84204 89.0118 \n",
       "\" style=\"fill:none;stroke:#000000;stroke-linecap:square;stroke-width:2;\"/>\n",
       "   </g>\n",
       "   <g id=\"line2d_3\">\n",
       "    <path clip-path=\"url(#p11932fa1ea)\" d=\"M 109.01024 134.4628 \n",
       "L 1099.84204 134.4628 \n",
       "\" style=\"fill:none;stroke:#000000;stroke-linecap:square;stroke-width:2;\"/>\n",
       "   </g>\n",
       "   <g id=\"line2d_4\">\n",
       "    <path clip-path=\"url(#p11932fa1ea)\" d=\"M 109.01024 179.9138 \n",
       "L 1099.84204 179.9138 \n",
       "\" style=\"fill:none;stroke:#000000;stroke-linecap:square;stroke-width:2;\"/>\n",
       "   </g>\n",
       "   <g id=\"line2d_5\">\n",
       "    <path clip-path=\"url(#p11932fa1ea)\" d=\"M 109.01024 225.3648 \n",
       "L 1099.84204 225.3648 \n",
       "\" style=\"fill:none;stroke:#000000;stroke-linecap:square;stroke-width:2;\"/>\n",
       "   </g>\n",
       "   <g id=\"line2d_6\">\n",
       "    <path clip-path=\"url(#p11932fa1ea)\" d=\"M 145.37104 89.0118 \n",
       "L 145.37104 43.5608 \n",
       "\" style=\"fill:none;stroke:#bb8bff;stroke-linecap:square;stroke-width:2;\"/>\n",
       "   </g>\n",
       "   <g id=\"line2d_7\">\n",
       "    <path clip-path=\"url(#p11932fa1ea)\" d=\"M 190.82204 134.4628 \n",
       "L 190.82204 43.5608 \n",
       "\" style=\"fill:none;stroke:#bb8bff;stroke-linecap:square;stroke-width:2;\"/>\n",
       "   </g>\n",
       "   <g id=\"line2d_8\">\n",
       "    <path clip-path=\"url(#p11932fa1ea)\" d=\"M 236.27304 179.9138 \n",
       "L 236.27304 43.5608 \n",
       "\" style=\"fill:none;stroke:#bb8bff;stroke-linecap:square;stroke-width:2;\"/>\n",
       "   </g>\n",
       "   <g id=\"line2d_9\">\n",
       "    <path clip-path=\"url(#p11932fa1ea)\" d=\"M 281.72404 225.3648 \n",
       "L 281.72404 43.5608 \n",
       "\" style=\"fill:none;stroke:#bb8bff;stroke-linecap:square;stroke-width:2;\"/>\n",
       "   </g>\n",
       "   <g id=\"line2d_10\">\n",
       "    <path clip-path=\"url(#p11932fa1ea)\" d=\"M 327.17504 225.3648 \n",
       "L 327.17504 89.0118 \n",
       "\" style=\"fill:none;stroke:#6fa4ff;stroke-linecap:square;stroke-width:2;\"/>\n",
       "   </g>\n",
       "   <g id=\"line2d_11\">\n",
       "    <path clip-path=\"url(#p11932fa1ea)\" d=\"M 372.62604 225.3648 \n",
       "L 372.62604 43.5608 \n",
       "\" style=\"fill:none;stroke:#bb8bff;stroke-linecap:square;stroke-width:2;\"/>\n",
       "   </g>\n",
       "   <g id=\"line2d_12\">\n",
       "    <path clip-path=\"url(#p11932fa1ea)\" d=\"M 418.07704 225.3648 \n",
       "L 418.07704 43.5608 \n",
       "\" style=\"fill:none;stroke:#bb8bff;stroke-linecap:square;stroke-width:2;\"/>\n",
       "   </g>\n",
       "   <g id=\"line2d_13\">\n",
       "    <path clip-path=\"url(#p11932fa1ea)\" d=\"M 463.52804 225.3648 \n",
       "L 463.52804 179.9138 \n",
       "\" style=\"fill:none;stroke:#6fa4ff;stroke-linecap:square;stroke-width:2;\"/>\n",
       "   </g>\n",
       "   <g id=\"line2d_14\">\n",
       "    <path clip-path=\"url(#p11932fa1ea)\" d=\"M 508.97904 225.3648 \n",
       "L 508.97904 43.5608 \n",
       "\" style=\"fill:none;stroke:#bb8bff;stroke-linecap:square;stroke-width:2;\"/>\n",
       "   </g>\n",
       "   <g id=\"line2d_15\">\n",
       "    <path clip-path=\"url(#p11932fa1ea)\" d=\"M 554.43004 89.0118 \n",
       "L 554.43004 43.5608 \n",
       "\" style=\"fill:none;stroke:#bb8bff;stroke-linecap:square;stroke-width:2;\"/>\n",
       "   </g>\n",
       "   <g id=\"line2d_16\">\n",
       "    <path clip-path=\"url(#p11932fa1ea)\" d=\"M 599.88104 134.4628 \n",
       "L 599.88104 43.5608 \n",
       "\" style=\"fill:none;stroke:#bb8bff;stroke-linecap:square;stroke-width:2;\"/>\n",
       "   </g>\n",
       "   <g id=\"line2d_17\">\n",
       "    <path clip-path=\"url(#p11932fa1ea)\" d=\"M 645.33204 179.9138 \n",
       "L 645.33204 43.5608 \n",
       "\" style=\"fill:none;stroke:#bb8bff;stroke-linecap:square;stroke-width:2;\"/>\n",
       "   </g>\n",
       "   <g id=\"line2d_18\">\n",
       "    <path clip-path=\"url(#p11932fa1ea)\" d=\"M 690.78304 225.3648 \n",
       "L 690.78304 43.5608 \n",
       "\" style=\"fill:none;stroke:#bb8bff;stroke-linecap:square;stroke-width:2;\"/>\n",
       "   </g>\n",
       "   <g id=\"line2d_19\">\n",
       "    <path clip-path=\"url(#p11932fa1ea)\" d=\"M 736.23404 225.3648 \n",
       "L 736.23404 134.4628 \n",
       "\" style=\"fill:none;stroke:#6fa4ff;stroke-linecap:square;stroke-width:2;\"/>\n",
       "   </g>\n",
       "   <g id=\"line2d_20\">\n",
       "    <path clip-path=\"url(#p11932fa1ea)\" d=\"M 781.68504 225.3648 \n",
       "L 781.68504 43.5608 \n",
       "\" style=\"fill:none;stroke:#bb8bff;stroke-linecap:square;stroke-width:2;\"/>\n",
       "   </g>\n",
       "   <g id=\"line2d_21\">\n",
       "    <path clip-path=\"url(#p11932fa1ea)\" d=\"M 827.13604 225.3648 \n",
       "L 827.13604 43.5608 \n",
       "\" style=\"fill:none;stroke:#bb8bff;stroke-linecap:square;stroke-width:2;\"/>\n",
       "   </g>\n",
       "   <g id=\"line2d_22\">\n",
       "    <path clip-path=\"url(#p11932fa1ea)\" d=\"M 872.58704 225.3648 \n",
       "L 872.58704 179.9138 \n",
       "\" style=\"fill:none;stroke:#6fa4ff;stroke-linecap:square;stroke-width:2;\"/>\n",
       "   </g>\n",
       "   <g id=\"line2d_23\">\n",
       "    <path clip-path=\"url(#p11932fa1ea)\" d=\"M 918.03804 225.3648 \n",
       "L 918.03804 43.5608 \n",
       "\" style=\"fill:none;stroke:#bb8bff;stroke-linecap:square;stroke-width:2;\"/>\n",
       "   </g>\n",
       "   <g id=\"line2d_24\">\n",
       "    <path clip-path=\"url(#p11932fa1ea)\" d=\"M 963.48904 89.0118 \n",
       "L 963.48904 43.5608 \n",
       "\" style=\"fill:none;stroke:#bb8bff;stroke-linecap:square;stroke-width:2;\"/>\n",
       "   </g>\n",
       "   <g id=\"line2d_25\">\n",
       "    <path clip-path=\"url(#p11932fa1ea)\" d=\"M 1008.94004 134.4628 \n",
       "L 1008.94004 43.5608 \n",
       "\" style=\"fill:none;stroke:#bb8bff;stroke-linecap:square;stroke-width:2;\"/>\n",
       "   </g>\n",
       "   <g id=\"line2d_26\">\n",
       "    <path clip-path=\"url(#p11932fa1ea)\" d=\"M 1054.39104 179.9138 \n",
       "L 1054.39104 43.5608 \n",
       "\" style=\"fill:none;stroke:#bb8bff;stroke-linecap:square;stroke-width:2;\"/>\n",
       "   </g>\n",
       "   <g id=\"patch_2\">\n",
       "    <path clip-path=\"url(#p11932fa1ea)\" d=\"M 145.37104 47.992272 \n",
       "C 146.54628 47.992272 147.673544 47.525345 148.504564 46.694324 \n",
       "C 149.335585 45.863304 149.802513 44.73604 149.802513 43.5608 \n",
       "C 149.802513 42.38556 149.335585 41.258296 148.504564 40.427276 \n",
       "C 147.673544 39.596255 146.54628 39.129328 145.37104 39.129328 \n",
       "C 144.1958 39.129328 143.068536 39.596255 142.237516 40.427276 \n",
       "C 141.406495 41.258296 140.939568 42.38556 140.939568 43.5608 \n",
       "C 140.939568 44.73604 141.406495 45.863304 142.237516 46.694324 \n",
       "C 143.068536 47.525345 144.1958 47.992272 145.37104 47.992272 \n",
       "z\n",
       "\" style=\"fill:#bb8bff;stroke:#bb8bff;stroke-linejoin:miter;stroke-width:1.5;\"/>\n",
       "   </g>\n",
       "   <g id=\"patch_3\">\n",
       "    <path clip-path=\"url(#p11932fa1ea)\" d=\"M 130.599465 103.783375 \n",
       "L 160.142615 103.783375 \n",
       "L 160.142615 74.240225 \n",
       "L 130.599465 74.240225 \n",
       "z\n",
       "\" style=\"fill:#bb8bff;\"/>\n",
       "   </g>\n",
       "   <g id=\"patch_4\">\n",
       "    <path clip-path=\"url(#p11932fa1ea)\" d=\"M 190.82204 47.992272 \n",
       "C 191.99728 47.992272 193.124544 47.525345 193.955564 46.694324 \n",
       "C 194.786585 45.863304 195.253513 44.73604 195.253513 43.5608 \n",
       "C 195.253513 42.38556 194.786585 41.258296 193.955564 40.427276 \n",
       "C 193.124544 39.596255 191.99728 39.129328 190.82204 39.129328 \n",
       "C 189.6468 39.129328 188.519536 39.596255 187.688516 40.427276 \n",
       "C 186.857495 41.258296 186.390568 42.38556 186.390568 43.5608 \n",
       "C 186.390568 44.73604 186.857495 45.863304 187.688516 46.694324 \n",
       "C 188.519536 47.525345 189.6468 47.992272 190.82204 47.992272 \n",
       "z\n",
       "\" style=\"fill:#bb8bff;stroke:#bb8bff;stroke-linejoin:miter;stroke-width:1.5;\"/>\n",
       "   </g>\n",
       "   <g id=\"patch_5\">\n",
       "    <path clip-path=\"url(#p11932fa1ea)\" d=\"M 176.050465 149.234375 \n",
       "L 205.593615 149.234375 \n",
       "L 205.593615 119.691225 \n",
       "L 176.050465 119.691225 \n",
       "z\n",
       "\" style=\"fill:#bb8bff;\"/>\n",
       "   </g>\n",
       "   <g id=\"patch_6\">\n",
       "    <path clip-path=\"url(#p11932fa1ea)\" d=\"M 236.27304 47.992272 \n",
       "C 237.44828 47.992272 238.575544 47.525345 239.406564 46.694324 \n",
       "C 240.237585 45.863304 240.704513 44.73604 240.704513 43.5608 \n",
       "C 240.704513 42.38556 240.237585 41.258296 239.406564 40.427276 \n",
       "C 238.575544 39.596255 237.44828 39.129328 236.27304 39.129328 \n",
       "C 235.0978 39.129328 233.970536 39.596255 233.139516 40.427276 \n",
       "C 232.308495 41.258296 231.841568 42.38556 231.841568 43.5608 \n",
       "C 231.841568 44.73604 232.308495 45.863304 233.139516 46.694324 \n",
       "C 233.970536 47.525345 235.0978 47.992272 236.27304 47.992272 \n",
       "z\n",
       "\" style=\"fill:#bb8bff;stroke:#bb8bff;stroke-linejoin:miter;stroke-width:1.5;\"/>\n",
       "   </g>\n",
       "   <g id=\"patch_7\">\n",
       "    <path clip-path=\"url(#p11932fa1ea)\" d=\"M 221.501465 194.685375 \n",
       "L 251.044615 194.685375 \n",
       "L 251.044615 165.142225 \n",
       "L 221.501465 165.142225 \n",
       "z\n",
       "\" style=\"fill:#bb8bff;\"/>\n",
       "   </g>\n",
       "   <g id=\"patch_8\">\n",
       "    <path clip-path=\"url(#p11932fa1ea)\" d=\"M 281.72404 47.992272 \n",
       "C 282.89928 47.992272 284.026544 47.525345 284.857564 46.694324 \n",
       "C 285.688585 45.863304 286.155513 44.73604 286.155513 43.5608 \n",
       "C 286.155513 42.38556 285.688585 41.258296 284.857564 40.427276 \n",
       "C 284.026544 39.596255 282.89928 39.129328 281.72404 39.129328 \n",
       "C 280.5488 39.129328 279.421536 39.596255 278.590516 40.427276 \n",
       "C 277.759495 41.258296 277.292568 42.38556 277.292568 43.5608 \n",
       "C 277.292568 44.73604 277.759495 45.863304 278.590516 46.694324 \n",
       "C 279.421536 47.525345 280.5488 47.992272 281.72404 47.992272 \n",
       "z\n",
       "\" style=\"fill:#bb8bff;stroke:#bb8bff;stroke-linejoin:miter;stroke-width:1.5;\"/>\n",
       "   </g>\n",
       "   <g id=\"patch_9\">\n",
       "    <path clip-path=\"url(#p11932fa1ea)\" d=\"M 281.72404 138.894273 \n",
       "C 282.89928 138.894273 284.026544 138.427345 284.857564 137.596324 \n",
       "C 285.688585 136.765304 286.155513 135.63804 286.155513 134.4628 \n",
       "C 286.155513 133.28756 285.688585 132.160296 284.857564 131.329276 \n",
       "C 284.026544 130.498255 282.89928 130.031328 281.72404 130.031328 \n",
       "C 280.5488 130.031328 279.421536 130.498255 278.590516 131.329276 \n",
       "C 277.759495 132.160296 277.292568 133.28756 277.292568 134.4628 \n",
       "C 277.292568 135.63804 277.759495 136.765304 278.590516 137.596324 \n",
       "C 279.421536 138.427345 280.5488 138.894273 281.72404 138.894273 \n",
       "z\n",
       "\" style=\"fill:#bb8bff;stroke:#bb8bff;stroke-linejoin:miter;stroke-width:1.5;\"/>\n",
       "   </g>\n",
       "   <g id=\"patch_10\">\n",
       "    <path clip-path=\"url(#p11932fa1ea)\" d=\"M 281.72404 235.704903 \n",
       "C 284.466267 235.704903 287.096549 234.615404 289.035597 232.676357 \n",
       "C 290.974644 230.737309 292.064143 228.107027 292.064143 225.3648 \n",
       "C 292.064143 222.622573 290.974644 219.992291 289.035597 218.053243 \n",
       "C 287.096549 216.114196 284.466267 215.024698 281.72404 215.024698 \n",
       "C 278.981813 215.024698 276.351531 216.114196 274.412483 218.053243 \n",
       "C 272.473436 219.992291 271.383938 222.622573 271.383938 225.3648 \n",
       "C 271.383938 228.107027 272.473436 230.737309 274.412483 232.676357 \n",
       "C 276.351531 234.615404 278.981813 235.704903 281.72404 235.704903 \n",
       "z\n",
       "\" style=\"fill:#bb8bff;stroke:#bb8bff;stroke-linejoin:miter;stroke-width:2;\"/>\n",
       "   </g>\n",
       "   <g id=\"patch_11\">\n",
       "    <path clip-path=\"url(#p11932fa1ea)\" d=\"M 327.17504 93.443272 \n",
       "C 328.35028 93.443272 329.477544 92.976345 330.308564 92.145324 \n",
       "C 331.139585 91.314304 331.606513 90.18704 331.606513 89.0118 \n",
       "C 331.606513 87.83656 331.139585 86.709296 330.308564 85.878276 \n",
       "C 329.477544 85.047255 328.35028 84.580327 327.17504 84.580327 \n",
       "C 325.9998 84.580327 324.872536 85.047255 324.041516 85.878276 \n",
       "C 323.210495 86.709296 322.743568 87.83656 322.743568 89.0118 \n",
       "C 322.743568 90.18704 323.210495 91.314304 324.041516 92.145324 \n",
       "C 324.872536 92.976345 325.9998 93.443272 327.17504 93.443272 \n",
       "z\n",
       "\" style=\"fill:#6fa4ff;stroke:#6fa4ff;stroke-linejoin:miter;stroke-width:1.5;\"/>\n",
       "   </g>\n",
       "   <g id=\"patch_12\">\n",
       "    <path clip-path=\"url(#p11932fa1ea)\" d=\"M 327.17504 229.796273 \n",
       "C 328.35028 229.796273 329.477544 229.329345 330.308564 228.498324 \n",
       "C 331.139585 227.667304 331.606513 226.54004 331.606513 225.3648 \n",
       "C 331.606513 224.18956 331.139585 223.062296 330.308564 222.231276 \n",
       "C 329.477544 221.400255 328.35028 220.933328 327.17504 220.933328 \n",
       "C 325.9998 220.933328 324.872536 221.400255 324.041516 222.231276 \n",
       "C 323.210495 223.062296 322.743568 224.18956 322.743568 225.3648 \n",
       "C 322.743568 226.54004 323.210495 227.667304 324.041516 228.498324 \n",
       "C 324.872536 229.329345 325.9998 229.796273 327.17504 229.796273 \n",
       "z\n",
       "\" style=\"fill:#6fa4ff;stroke:#6fa4ff;stroke-linejoin:miter;stroke-width:1.5;\"/>\n",
       "   </g>\n",
       "   <g id=\"patch_13\">\n",
       "    <path clip-path=\"url(#p11932fa1ea)\" d=\"M 372.62604 47.992272 \n",
       "C 373.80128 47.992272 374.928544 47.525345 375.759564 46.694324 \n",
       "C 376.590585 45.863304 377.057513 44.73604 377.057513 43.5608 \n",
       "C 377.057513 42.38556 376.590585 41.258296 375.759564 40.427276 \n",
       "C 374.928544 39.596255 373.80128 39.129328 372.62604 39.129328 \n",
       "C 371.4508 39.129328 370.323536 39.596255 369.492516 40.427276 \n",
       "C 368.661495 41.258296 368.194568 42.38556 368.194568 43.5608 \n",
       "C 368.194568 44.73604 368.661495 45.863304 369.492516 46.694324 \n",
       "C 370.323536 47.525345 371.4508 47.992272 372.62604 47.992272 \n",
       "z\n",
       "\" style=\"fill:#bb8bff;stroke:#bb8bff;stroke-linejoin:miter;stroke-width:1.5;\"/>\n",
       "   </g>\n",
       "   <g id=\"patch_14\">\n",
       "    <path clip-path=\"url(#p11932fa1ea)\" d=\"M 372.62604 138.894273 \n",
       "C 373.80128 138.894273 374.928544 138.427345 375.759564 137.596324 \n",
       "C 376.590585 136.765304 377.057513 135.63804 377.057513 134.4628 \n",
       "C 377.057513 133.28756 376.590585 132.160296 375.759564 131.329276 \n",
       "C 374.928544 130.498255 373.80128 130.031328 372.62604 130.031328 \n",
       "C 371.4508 130.031328 370.323536 130.498255 369.492516 131.329276 \n",
       "C 368.661495 132.160296 368.194568 133.28756 368.194568 134.4628 \n",
       "C 368.194568 135.63804 368.661495 136.765304 369.492516 137.596324 \n",
       "C 370.323536 138.427345 371.4508 138.894273 372.62604 138.894273 \n",
       "z\n",
       "\" style=\"fill:#bb8bff;stroke:#bb8bff;stroke-linejoin:miter;stroke-width:1.5;\"/>\n",
       "   </g>\n",
       "   <g id=\"patch_15\">\n",
       "    <path clip-path=\"url(#p11932fa1ea)\" d=\"M 372.62604 235.704903 \n",
       "C 375.368267 235.704903 377.998549 234.615404 379.937597 232.676357 \n",
       "C 381.876644 230.737309 382.966143 228.107027 382.966143 225.3648 \n",
       "C 382.966143 222.622573 381.876644 219.992291 379.937597 218.053243 \n",
       "C 377.998549 216.114196 375.368267 215.024698 372.62604 215.024698 \n",
       "C 369.883813 215.024698 367.253531 216.114196 365.314483 218.053243 \n",
       "C 363.375436 219.992291 362.285938 222.622573 362.285938 225.3648 \n",
       "C 362.285938 228.107027 363.375436 230.737309 365.314483 232.676357 \n",
       "C 367.253531 234.615404 369.883813 235.704903 372.62604 235.704903 \n",
       "z\n",
       "\" style=\"fill:#bb8bff;stroke:#bb8bff;stroke-linejoin:miter;stroke-width:2;\"/>\n",
       "   </g>\n",
       "   <g id=\"patch_16\">\n",
       "    <path clip-path=\"url(#p11932fa1ea)\" d=\"M 418.07704 47.992272 \n",
       "C 419.25228 47.992272 420.379544 47.525345 421.210564 46.694324 \n",
       "C 422.041585 45.863304 422.508513 44.73604 422.508513 43.5608 \n",
       "C 422.508513 42.38556 422.041585 41.258296 421.210564 40.427276 \n",
       "C 420.379544 39.596255 419.25228 39.129328 418.07704 39.129328 \n",
       "C 416.9018 39.129328 415.774536 39.596255 414.943516 40.427276 \n",
       "C 414.112495 41.258296 413.645568 42.38556 413.645568 43.5608 \n",
       "C 413.645568 44.73604 414.112495 45.863304 414.943516 46.694324 \n",
       "C 415.774536 47.525345 416.9018 47.992272 418.07704 47.992272 \n",
       "z\n",
       "\" style=\"fill:#bb8bff;stroke:#bb8bff;stroke-linejoin:miter;stroke-width:1.5;\"/>\n",
       "   </g>\n",
       "   <g id=\"patch_17\">\n",
       "    <path clip-path=\"url(#p11932fa1ea)\" d=\"M 418.07704 93.443272 \n",
       "C 419.25228 93.443272 420.379544 92.976345 421.210564 92.145324 \n",
       "C 422.041585 91.314304 422.508513 90.18704 422.508513 89.0118 \n",
       "C 422.508513 87.83656 422.041585 86.709296 421.210564 85.878276 \n",
       "C 420.379544 85.047255 419.25228 84.580327 418.07704 84.580327 \n",
       "C 416.9018 84.580327 415.774536 85.047255 414.943516 85.878276 \n",
       "C 414.112495 86.709296 413.645568 87.83656 413.645568 89.0118 \n",
       "C 413.645568 90.18704 414.112495 91.314304 414.943516 92.145324 \n",
       "C 415.774536 92.976345 416.9018 93.443272 418.07704 93.443272 \n",
       "z\n",
       "\" style=\"fill:#bb8bff;stroke:#bb8bff;stroke-linejoin:miter;stroke-width:1.5;\"/>\n",
       "   </g>\n",
       "   <g id=\"patch_18\">\n",
       "    <path clip-path=\"url(#p11932fa1ea)\" d=\"M 418.07704 235.704903 \n",
       "C 420.819267 235.704903 423.449549 234.615404 425.388597 232.676357 \n",
       "C 427.327644 230.737309 428.417143 228.107027 428.417143 225.3648 \n",
       "C 428.417143 222.622573 427.327644 219.992291 425.388597 218.053243 \n",
       "C 423.449549 216.114196 420.819267 215.024698 418.07704 215.024698 \n",
       "C 415.334813 215.024698 412.704531 216.114196 410.765483 218.053243 \n",
       "C 408.826436 219.992291 407.736938 222.622573 407.736938 225.3648 \n",
       "C 407.736938 228.107027 408.826436 230.737309 410.765483 232.676357 \n",
       "C 412.704531 234.615404 415.334813 235.704903 418.07704 235.704903 \n",
       "z\n",
       "\" style=\"fill:#bb8bff;stroke:#bb8bff;stroke-linejoin:miter;stroke-width:2;\"/>\n",
       "   </g>\n",
       "   <g id=\"patch_19\">\n",
       "    <path clip-path=\"url(#p11932fa1ea)\" d=\"M 463.52804 184.345273 \n",
       "C 464.70328 184.345273 465.830544 183.878345 466.661564 183.047324 \n",
       "C 467.492585 182.216304 467.959513 181.08904 467.959513 179.9138 \n",
       "C 467.959513 178.73856 467.492585 177.611296 466.661564 176.780276 \n",
       "C 465.830544 175.949255 464.70328 175.482327 463.52804 175.482327 \n",
       "C 462.3528 175.482327 461.225536 175.949255 460.394516 176.780276 \n",
       "C 459.563495 177.611296 459.096568 178.73856 459.096568 179.9138 \n",
       "C 459.096568 181.08904 459.563495 182.216304 460.394516 183.047324 \n",
       "C 461.225536 183.878345 462.3528 184.345273 463.52804 184.345273 \n",
       "z\n",
       "\" style=\"fill:#6fa4ff;stroke:#6fa4ff;stroke-linejoin:miter;stroke-width:1.5;\"/>\n",
       "   </g>\n",
       "   <g id=\"patch_20\">\n",
       "    <path clip-path=\"url(#p11932fa1ea)\" d=\"M 463.52804 229.796273 \n",
       "C 464.70328 229.796273 465.830544 229.329345 466.661564 228.498324 \n",
       "C 467.492585 227.667304 467.959513 226.54004 467.959513 225.3648 \n",
       "C 467.959513 224.18956 467.492585 223.062296 466.661564 222.231276 \n",
       "C 465.830544 221.400255 464.70328 220.933328 463.52804 220.933328 \n",
       "C 462.3528 220.933328 461.225536 221.400255 460.394516 222.231276 \n",
       "C 459.563495 223.062296 459.096568 224.18956 459.096568 225.3648 \n",
       "C 459.096568 226.54004 459.563495 227.667304 460.394516 228.498324 \n",
       "C 461.225536 229.329345 462.3528 229.796273 463.52804 229.796273 \n",
       "z\n",
       "\" style=\"fill:#6fa4ff;stroke:#6fa4ff;stroke-linejoin:miter;stroke-width:1.5;\"/>\n",
       "   </g>\n",
       "   <g id=\"patch_21\">\n",
       "    <path clip-path=\"url(#p11932fa1ea)\" d=\"M 508.97904 47.992272 \n",
       "C 510.15428 47.992272 511.281544 47.525345 512.112564 46.694324 \n",
       "C 512.943585 45.863304 513.410513 44.73604 513.410513 43.5608 \n",
       "C 513.410513 42.38556 512.943585 41.258296 512.112564 40.427276 \n",
       "C 511.281544 39.596255 510.15428 39.129328 508.97904 39.129328 \n",
       "C 507.8038 39.129328 506.676536 39.596255 505.845516 40.427276 \n",
       "C 505.014495 41.258296 504.547568 42.38556 504.547568 43.5608 \n",
       "C 504.547568 44.73604 505.014495 45.863304 505.845516 46.694324 \n",
       "C 506.676536 47.525345 507.8038 47.992272 508.97904 47.992272 \n",
       "z\n",
       "\" style=\"fill:#bb8bff;stroke:#bb8bff;stroke-linejoin:miter;stroke-width:1.5;\"/>\n",
       "   </g>\n",
       "   <g id=\"patch_22\">\n",
       "    <path clip-path=\"url(#p11932fa1ea)\" d=\"M 508.97904 93.443272 \n",
       "C 510.15428 93.443272 511.281544 92.976345 512.112564 92.145324 \n",
       "C 512.943585 91.314304 513.410513 90.18704 513.410513 89.0118 \n",
       "C 513.410513 87.83656 512.943585 86.709296 512.112564 85.878276 \n",
       "C 511.281544 85.047255 510.15428 84.580327 508.97904 84.580327 \n",
       "C 507.8038 84.580327 506.676536 85.047255 505.845516 85.878276 \n",
       "C 505.014495 86.709296 504.547568 87.83656 504.547568 89.0118 \n",
       "C 504.547568 90.18704 505.014495 91.314304 505.845516 92.145324 \n",
       "C 506.676536 92.976345 507.8038 93.443272 508.97904 93.443272 \n",
       "z\n",
       "\" style=\"fill:#bb8bff;stroke:#bb8bff;stroke-linejoin:miter;stroke-width:1.5;\"/>\n",
       "   </g>\n",
       "   <g id=\"patch_23\">\n",
       "    <path clip-path=\"url(#p11932fa1ea)\" d=\"M 508.97904 235.704903 \n",
       "C 511.721267 235.704903 514.351549 234.615404 516.290597 232.676357 \n",
       "C 518.229644 230.737309 519.319142 228.107027 519.319142 225.3648 \n",
       "C 519.319142 222.622573 518.229644 219.992291 516.290597 218.053243 \n",
       "C 514.351549 216.114196 511.721267 215.024698 508.97904 215.024698 \n",
       "C 506.236813 215.024698 503.606531 216.114196 501.667483 218.053243 \n",
       "C 499.728436 219.992291 498.638938 222.622573 498.638938 225.3648 \n",
       "C 498.638938 228.107027 499.728436 230.737309 501.667483 232.676357 \n",
       "C 503.606531 234.615404 506.236813 235.704903 508.97904 235.704903 \n",
       "z\n",
       "\" style=\"fill:#bb8bff;stroke:#bb8bff;stroke-linejoin:miter;stroke-width:2;\"/>\n",
       "   </g>\n",
       "   <g id=\"patch_24\">\n",
       "    <path clip-path=\"url(#p11932fa1ea)\" d=\"M 554.43004 47.992272 \n",
       "C 555.60528 47.992272 556.732544 47.525345 557.563564 46.694324 \n",
       "C 558.394585 45.863304 558.861513 44.73604 558.861513 43.5608 \n",
       "C 558.861513 42.38556 558.394585 41.258296 557.563564 40.427276 \n",
       "C 556.732544 39.596255 555.60528 39.129328 554.43004 39.129328 \n",
       "C 553.2548 39.129328 552.127536 39.596255 551.296516 40.427276 \n",
       "C 550.465495 41.258296 549.998568 42.38556 549.998568 43.5608 \n",
       "C 549.998568 44.73604 550.465495 45.863304 551.296516 46.694324 \n",
       "C 552.127536 47.525345 553.2548 47.992272 554.43004 47.992272 \n",
       "z\n",
       "\" style=\"fill:#bb8bff;stroke:#bb8bff;stroke-linejoin:miter;stroke-width:1.5;\"/>\n",
       "   </g>\n",
       "   <g id=\"patch_25\">\n",
       "    <path clip-path=\"url(#p11932fa1ea)\" d=\"M 539.658465 103.783375 \n",
       "L 569.201615 103.783375 \n",
       "L 569.201615 74.240225 \n",
       "L 539.658465 74.240225 \n",
       "z\n",
       "\" style=\"fill:#bb8bff;\"/>\n",
       "   </g>\n",
       "   <g id=\"patch_26\">\n",
       "    <path clip-path=\"url(#p11932fa1ea)\" d=\"M 599.88104 47.992272 \n",
       "C 601.05628 47.992272 602.183544 47.525345 603.014564 46.694324 \n",
       "C 603.845585 45.863304 604.312513 44.73604 604.312513 43.5608 \n",
       "C 604.312513 42.38556 603.845585 41.258296 603.014564 40.427276 \n",
       "C 602.183544 39.596255 601.05628 39.129328 599.88104 39.129328 \n",
       "C 598.7058 39.129328 597.578536 39.596255 596.747516 40.427276 \n",
       "C 595.916495 41.258296 595.449568 42.38556 595.449568 43.5608 \n",
       "C 595.449568 44.73604 595.916495 45.863304 596.747516 46.694324 \n",
       "C 597.578536 47.525345 598.7058 47.992272 599.88104 47.992272 \n",
       "z\n",
       "\" style=\"fill:#bb8bff;stroke:#bb8bff;stroke-linejoin:miter;stroke-width:1.5;\"/>\n",
       "   </g>\n",
       "   <g id=\"patch_27\">\n",
       "    <path clip-path=\"url(#p11932fa1ea)\" d=\"M 585.109465 149.234375 \n",
       "L 614.652615 149.234375 \n",
       "L 614.652615 119.691225 \n",
       "L 585.109465 119.691225 \n",
       "z\n",
       "\" style=\"fill:#bb8bff;\"/>\n",
       "   </g>\n",
       "   <g id=\"patch_28\">\n",
       "    <path clip-path=\"url(#p11932fa1ea)\" d=\"M 645.33204 47.992272 \n",
       "C 646.50728 47.992272 647.634544 47.525345 648.465564 46.694324 \n",
       "C 649.296585 45.863304 649.763513 44.73604 649.763513 43.5608 \n",
       "C 649.763513 42.38556 649.296585 41.258296 648.465564 40.427276 \n",
       "C 647.634544 39.596255 646.50728 39.129328 645.33204 39.129328 \n",
       "C 644.1568 39.129328 643.029536 39.596255 642.198516 40.427276 \n",
       "C 641.367495 41.258296 640.900567 42.38556 640.900567 43.5608 \n",
       "C 640.900567 44.73604 641.367495 45.863304 642.198516 46.694324 \n",
       "C 643.029536 47.525345 644.1568 47.992272 645.33204 47.992272 \n",
       "z\n",
       "\" style=\"fill:#bb8bff;stroke:#bb8bff;stroke-linejoin:miter;stroke-width:1.5;\"/>\n",
       "   </g>\n",
       "   <g id=\"patch_29\">\n",
       "    <path clip-path=\"url(#p11932fa1ea)\" d=\"M 630.560465 194.685375 \n",
       "L 660.103615 194.685375 \n",
       "L 660.103615 165.142225 \n",
       "L 630.560465 165.142225 \n",
       "z\n",
       "\" style=\"fill:#bb8bff;\"/>\n",
       "   </g>\n",
       "   <g id=\"patch_30\">\n",
       "    <path clip-path=\"url(#p11932fa1ea)\" d=\"M 690.78304 47.992272 \n",
       "C 691.95828 47.992272 693.085544 47.525345 693.916564 46.694324 \n",
       "C 694.747585 45.863304 695.214513 44.73604 695.214513 43.5608 \n",
       "C 695.214513 42.38556 694.747585 41.258296 693.916564 40.427276 \n",
       "C 693.085544 39.596255 691.95828 39.129328 690.78304 39.129328 \n",
       "C 689.6078 39.129328 688.480536 39.596255 687.649516 40.427276 \n",
       "C 686.818495 41.258296 686.351567 42.38556 686.351567 43.5608 \n",
       "C 686.351567 44.73604 686.818495 45.863304 687.649516 46.694324 \n",
       "C 688.480536 47.525345 689.6078 47.992272 690.78304 47.992272 \n",
       "z\n",
       "\" style=\"fill:#bb8bff;stroke:#bb8bff;stroke-linejoin:miter;stroke-width:1.5;\"/>\n",
       "   </g>\n",
       "   <g id=\"patch_31\">\n",
       "    <path clip-path=\"url(#p11932fa1ea)\" d=\"M 690.78304 184.345273 \n",
       "C 691.95828 184.345273 693.085544 183.878345 693.916564 183.047324 \n",
       "C 694.747585 182.216304 695.214513 181.08904 695.214513 179.9138 \n",
       "C 695.214513 178.73856 694.747585 177.611296 693.916564 176.780276 \n",
       "C 693.085544 175.949255 691.95828 175.482327 690.78304 175.482327 \n",
       "C 689.6078 175.482327 688.480536 175.949255 687.649516 176.780276 \n",
       "C 686.818495 177.611296 686.351567 178.73856 686.351567 179.9138 \n",
       "C 686.351567 181.08904 686.818495 182.216304 687.649516 183.047324 \n",
       "C 688.480536 183.878345 689.6078 184.345273 690.78304 184.345273 \n",
       "z\n",
       "\" style=\"fill:#bb8bff;stroke:#bb8bff;stroke-linejoin:miter;stroke-width:1.5;\"/>\n",
       "   </g>\n",
       "   <g id=\"patch_32\">\n",
       "    <path clip-path=\"url(#p11932fa1ea)\" d=\"M 690.78304 235.704903 \n",
       "C 693.525267 235.704903 696.155549 234.615404 698.094597 232.676357 \n",
       "C 700.033644 230.737309 701.123143 228.107027 701.123143 225.3648 \n",
       "C 701.123143 222.622573 700.033644 219.992291 698.094597 218.053243 \n",
       "C 696.155549 216.114196 693.525267 215.024698 690.78304 215.024698 \n",
       "C 688.040813 215.024698 685.410531 216.114196 683.471483 218.053243 \n",
       "C 681.532436 219.992291 680.442937 222.622573 680.442937 225.3648 \n",
       "C 680.442937 228.107027 681.532436 230.737309 683.471483 232.676357 \n",
       "C 685.410531 234.615404 688.040813 235.704903 690.78304 235.704903 \n",
       "z\n",
       "\" style=\"fill:#bb8bff;stroke:#bb8bff;stroke-linejoin:miter;stroke-width:2;\"/>\n",
       "   </g>\n",
       "   <g id=\"patch_33\">\n",
       "    <path clip-path=\"url(#p11932fa1ea)\" d=\"M 736.23404 138.894273 \n",
       "C 737.40928 138.894273 738.536544 138.427345 739.367564 137.596324 \n",
       "C 740.198585 136.765304 740.665513 135.63804 740.665513 134.4628 \n",
       "C 740.665513 133.28756 740.198585 132.160296 739.367564 131.329276 \n",
       "C 738.536544 130.498255 737.40928 130.031328 736.23404 130.031328 \n",
       "C 735.0588 130.031328 733.931536 130.498255 733.100516 131.329276 \n",
       "C 732.269495 132.160296 731.802568 133.28756 731.802568 134.4628 \n",
       "C 731.802568 135.63804 732.269495 136.765304 733.100516 137.596324 \n",
       "C 733.931536 138.427345 735.0588 138.894273 736.23404 138.894273 \n",
       "z\n",
       "\" style=\"fill:#6fa4ff;stroke:#6fa4ff;stroke-linejoin:miter;stroke-width:1.5;\"/>\n",
       "   </g>\n",
       "   <g id=\"patch_34\">\n",
       "    <path clip-path=\"url(#p11932fa1ea)\" d=\"M 736.23404 229.796273 \n",
       "C 737.40928 229.796273 738.536544 229.329345 739.367564 228.498324 \n",
       "C 740.198585 227.667304 740.665513 226.54004 740.665513 225.3648 \n",
       "C 740.665513 224.18956 740.198585 223.062296 739.367564 222.231276 \n",
       "C 738.536544 221.400255 737.40928 220.933328 736.23404 220.933328 \n",
       "C 735.0588 220.933328 733.931536 221.400255 733.100516 222.231276 \n",
       "C 732.269495 223.062296 731.802568 224.18956 731.802568 225.3648 \n",
       "C 731.802568 226.54004 732.269495 227.667304 733.100516 228.498324 \n",
       "C 733.931536 229.329345 735.0588 229.796273 736.23404 229.796273 \n",
       "z\n",
       "\" style=\"fill:#6fa4ff;stroke:#6fa4ff;stroke-linejoin:miter;stroke-width:1.5;\"/>\n",
       "   </g>\n",
       "   <g id=\"patch_35\">\n",
       "    <path clip-path=\"url(#p11932fa1ea)\" d=\"M 781.68504 47.992272 \n",
       "C 782.86028 47.992272 783.987544 47.525345 784.818564 46.694324 \n",
       "C 785.649585 45.863304 786.116513 44.73604 786.116513 43.5608 \n",
       "C 786.116513 42.38556 785.649585 41.258296 784.818564 40.427276 \n",
       "C 783.987544 39.596255 782.86028 39.129328 781.68504 39.129328 \n",
       "C 780.5098 39.129328 779.382536 39.596255 778.551516 40.427276 \n",
       "C 777.720495 41.258296 777.253568 42.38556 777.253568 43.5608 \n",
       "C 777.253568 44.73604 777.720495 45.863304 778.551516 46.694324 \n",
       "C 779.382536 47.525345 780.5098 47.992272 781.68504 47.992272 \n",
       "z\n",
       "\" style=\"fill:#bb8bff;stroke:#bb8bff;stroke-linejoin:miter;stroke-width:1.5;\"/>\n",
       "   </g>\n",
       "   <g id=\"patch_36\">\n",
       "    <path clip-path=\"url(#p11932fa1ea)\" d=\"M 781.68504 184.345273 \n",
       "C 782.86028 184.345273 783.987544 183.878345 784.818564 183.047324 \n",
       "C 785.649585 182.216304 786.116513 181.08904 786.116513 179.9138 \n",
       "C 786.116513 178.73856 785.649585 177.611296 784.818564 176.780276 \n",
       "C 783.987544 175.949255 782.86028 175.482327 781.68504 175.482327 \n",
       "C 780.5098 175.482327 779.382536 175.949255 778.551516 176.780276 \n",
       "C 777.720495 177.611296 777.253568 178.73856 777.253568 179.9138 \n",
       "C 777.253568 181.08904 777.720495 182.216304 778.551516 183.047324 \n",
       "C 779.382536 183.878345 780.5098 184.345273 781.68504 184.345273 \n",
       "z\n",
       "\" style=\"fill:#bb8bff;stroke:#bb8bff;stroke-linejoin:miter;stroke-width:1.5;\"/>\n",
       "   </g>\n",
       "   <g id=\"patch_37\">\n",
       "    <path clip-path=\"url(#p11932fa1ea)\" d=\"M 781.68504 235.704903 \n",
       "C 784.427267 235.704903 787.057549 234.615404 788.996597 232.676357 \n",
       "C 790.935644 230.737309 792.025143 228.107027 792.025143 225.3648 \n",
       "C 792.025143 222.622573 790.935644 219.992291 788.996597 218.053243 \n",
       "C 787.057549 216.114196 784.427267 215.024698 781.68504 215.024698 \n",
       "C 778.942813 215.024698 776.312531 216.114196 774.373483 218.053243 \n",
       "C 772.434436 219.992291 771.344938 222.622573 771.344938 225.3648 \n",
       "C 771.344938 228.107027 772.434436 230.737309 774.373483 232.676357 \n",
       "C 776.312531 234.615404 778.942813 235.704903 781.68504 235.704903 \n",
       "z\n",
       "\" style=\"fill:#bb8bff;stroke:#bb8bff;stroke-linejoin:miter;stroke-width:2;\"/>\n",
       "   </g>\n",
       "   <g id=\"patch_38\">\n",
       "    <path clip-path=\"url(#p11932fa1ea)\" d=\"M 827.13604 47.992272 \n",
       "C 828.31128 47.992272 829.438544 47.525345 830.269564 46.694324 \n",
       "C 831.100585 45.863304 831.567513 44.73604 831.567513 43.5608 \n",
       "C 831.567513 42.38556 831.100585 41.258296 830.269564 40.427276 \n",
       "C 829.438544 39.596255 828.31128 39.129328 827.13604 39.129328 \n",
       "C 825.9608 39.129328 824.833536 39.596255 824.002516 40.427276 \n",
       "C 823.171495 41.258296 822.704568 42.38556 822.704568 43.5608 \n",
       "C 822.704568 44.73604 823.171495 45.863304 824.002516 46.694324 \n",
       "C 824.833536 47.525345 825.9608 47.992272 827.13604 47.992272 \n",
       "z\n",
       "\" style=\"fill:#bb8bff;stroke:#bb8bff;stroke-linejoin:miter;stroke-width:1.5;\"/>\n",
       "   </g>\n",
       "   <g id=\"patch_39\">\n",
       "    <path clip-path=\"url(#p11932fa1ea)\" d=\"M 827.13604 93.443272 \n",
       "C 828.31128 93.443272 829.438544 92.976345 830.269564 92.145324 \n",
       "C 831.100585 91.314304 831.567513 90.18704 831.567513 89.0118 \n",
       "C 831.567513 87.83656 831.100585 86.709296 830.269564 85.878276 \n",
       "C 829.438544 85.047255 828.31128 84.580327 827.13604 84.580327 \n",
       "C 825.9608 84.580327 824.833536 85.047255 824.002516 85.878276 \n",
       "C 823.171495 86.709296 822.704568 87.83656 822.704568 89.0118 \n",
       "C 822.704568 90.18704 823.171495 91.314304 824.002516 92.145324 \n",
       "C 824.833536 92.976345 825.9608 93.443272 827.13604 93.443272 \n",
       "z\n",
       "\" style=\"fill:#bb8bff;stroke:#bb8bff;stroke-linejoin:miter;stroke-width:1.5;\"/>\n",
       "   </g>\n",
       "   <g id=\"patch_40\">\n",
       "    <path clip-path=\"url(#p11932fa1ea)\" d=\"M 827.13604 235.704903 \n",
       "C 829.878267 235.704903 832.508549 234.615404 834.447597 232.676357 \n",
       "C 836.386644 230.737309 837.476143 228.107027 837.476143 225.3648 \n",
       "C 837.476143 222.622573 836.386644 219.992291 834.447597 218.053243 \n",
       "C 832.508549 216.114196 829.878267 215.024698 827.13604 215.024698 \n",
       "C 824.393813 215.024698 821.763531 216.114196 819.824483 218.053243 \n",
       "C 817.885436 219.992291 816.795938 222.622573 816.795938 225.3648 \n",
       "C 816.795938 228.107027 817.885436 230.737309 819.824483 232.676357 \n",
       "C 821.763531 234.615404 824.393813 235.704903 827.13604 235.704903 \n",
       "z\n",
       "\" style=\"fill:#bb8bff;stroke:#bb8bff;stroke-linejoin:miter;stroke-width:2;\"/>\n",
       "   </g>\n",
       "   <g id=\"patch_41\">\n",
       "    <path clip-path=\"url(#p11932fa1ea)\" d=\"M 872.58704 184.345273 \n",
       "C 873.76228 184.345273 874.889544 183.878345 875.720564 183.047324 \n",
       "C 876.551585 182.216304 877.018513 181.08904 877.018513 179.9138 \n",
       "C 877.018513 178.73856 876.551585 177.611296 875.720564 176.780276 \n",
       "C 874.889544 175.949255 873.76228 175.482327 872.58704 175.482327 \n",
       "C 871.4118 175.482327 870.284536 175.949255 869.453516 176.780276 \n",
       "C 868.622495 177.611296 868.155568 178.73856 868.155568 179.9138 \n",
       "C 868.155568 181.08904 868.622495 182.216304 869.453516 183.047324 \n",
       "C 870.284536 183.878345 871.4118 184.345273 872.58704 184.345273 \n",
       "z\n",
       "\" style=\"fill:#6fa4ff;stroke:#6fa4ff;stroke-linejoin:miter;stroke-width:1.5;\"/>\n",
       "   </g>\n",
       "   <g id=\"patch_42\">\n",
       "    <path clip-path=\"url(#p11932fa1ea)\" d=\"M 872.58704 229.796273 \n",
       "C 873.76228 229.796273 874.889544 229.329345 875.720564 228.498324 \n",
       "C 876.551585 227.667304 877.018513 226.54004 877.018513 225.3648 \n",
       "C 877.018513 224.18956 876.551585 223.062296 875.720564 222.231276 \n",
       "C 874.889544 221.400255 873.76228 220.933328 872.58704 220.933328 \n",
       "C 871.4118 220.933328 870.284536 221.400255 869.453516 222.231276 \n",
       "C 868.622495 223.062296 868.155568 224.18956 868.155568 225.3648 \n",
       "C 868.155568 226.54004 868.622495 227.667304 869.453516 228.498324 \n",
       "C 870.284536 229.329345 871.4118 229.796273 872.58704 229.796273 \n",
       "z\n",
       "\" style=\"fill:#6fa4ff;stroke:#6fa4ff;stroke-linejoin:miter;stroke-width:1.5;\"/>\n",
       "   </g>\n",
       "   <g id=\"patch_43\">\n",
       "    <path clip-path=\"url(#p11932fa1ea)\" d=\"M 918.03804 47.992272 \n",
       "C 919.21328 47.992272 920.340544 47.525345 921.171564 46.694324 \n",
       "C 922.002585 45.863304 922.469513 44.73604 922.469513 43.5608 \n",
       "C 922.469513 42.38556 922.002585 41.258296 921.171564 40.427276 \n",
       "C 920.340544 39.596255 919.21328 39.129328 918.03804 39.129328 \n",
       "C 916.8628 39.129328 915.735536 39.596255 914.904516 40.427276 \n",
       "C 914.073495 41.258296 913.606568 42.38556 913.606568 43.5608 \n",
       "C 913.606568 44.73604 914.073495 45.863304 914.904516 46.694324 \n",
       "C 915.735536 47.525345 916.8628 47.992272 918.03804 47.992272 \n",
       "z\n",
       "\" style=\"fill:#bb8bff;stroke:#bb8bff;stroke-linejoin:miter;stroke-width:1.5;\"/>\n",
       "   </g>\n",
       "   <g id=\"patch_44\">\n",
       "    <path clip-path=\"url(#p11932fa1ea)\" d=\"M 918.03804 93.443272 \n",
       "C 919.21328 93.443272 920.340544 92.976345 921.171564 92.145324 \n",
       "C 922.002585 91.314304 922.469513 90.18704 922.469513 89.0118 \n",
       "C 922.469513 87.83656 922.002585 86.709296 921.171564 85.878276 \n",
       "C 920.340544 85.047255 919.21328 84.580327 918.03804 84.580327 \n",
       "C 916.8628 84.580327 915.735536 85.047255 914.904516 85.878276 \n",
       "C 914.073495 86.709296 913.606568 87.83656 913.606568 89.0118 \n",
       "C 913.606568 90.18704 914.073495 91.314304 914.904516 92.145324 \n",
       "C 915.735536 92.976345 916.8628 93.443272 918.03804 93.443272 \n",
       "z\n",
       "\" style=\"fill:#bb8bff;stroke:#bb8bff;stroke-linejoin:miter;stroke-width:1.5;\"/>\n",
       "   </g>\n",
       "   <g id=\"patch_45\">\n",
       "    <path clip-path=\"url(#p11932fa1ea)\" d=\"M 918.03804 235.704903 \n",
       "C 920.780267 235.704903 923.410549 234.615404 925.349597 232.676357 \n",
       "C 927.288644 230.737309 928.378143 228.107027 928.378143 225.3648 \n",
       "C 928.378143 222.622573 927.288644 219.992291 925.349597 218.053243 \n",
       "C 923.410549 216.114196 920.780267 215.024698 918.03804 215.024698 \n",
       "C 915.295813 215.024698 912.665531 216.114196 910.726483 218.053243 \n",
       "C 908.787436 219.992291 907.697938 222.622573 907.697938 225.3648 \n",
       "C 907.697938 228.107027 908.787436 230.737309 910.726483 232.676357 \n",
       "C 912.665531 234.615404 915.295813 235.704903 918.03804 235.704903 \n",
       "z\n",
       "\" style=\"fill:#bb8bff;stroke:#bb8bff;stroke-linejoin:miter;stroke-width:2;\"/>\n",
       "   </g>\n",
       "   <g id=\"patch_46\">\n",
       "    <path clip-path=\"url(#p11932fa1ea)\" d=\"M 963.48904 47.992272 \n",
       "C 964.66428 47.992272 965.791544 47.525345 966.622564 46.694324 \n",
       "C 967.453585 45.863304 967.920513 44.73604 967.920513 43.5608 \n",
       "C 967.920513 42.38556 967.453585 41.258296 966.622564 40.427276 \n",
       "C 965.791544 39.596255 964.66428 39.129328 963.48904 39.129328 \n",
       "C 962.3138 39.129328 961.186536 39.596255 960.355516 40.427276 \n",
       "C 959.524495 41.258296 959.057568 42.38556 959.057568 43.5608 \n",
       "C 959.057568 44.73604 959.524495 45.863304 960.355516 46.694324 \n",
       "C 961.186536 47.525345 962.3138 47.992272 963.48904 47.992272 \n",
       "z\n",
       "\" style=\"fill:#bb8bff;stroke:#bb8bff;stroke-linejoin:miter;stroke-width:1.5;\"/>\n",
       "   </g>\n",
       "   <g id=\"patch_47\">\n",
       "    <path clip-path=\"url(#p11932fa1ea)\" d=\"M 948.717465 103.783375 \n",
       "L 978.260615 103.783375 \n",
       "L 978.260615 74.240225 \n",
       "L 948.717465 74.240225 \n",
       "z\n",
       "\" style=\"fill:#bb8bff;\"/>\n",
       "   </g>\n",
       "   <g id=\"patch_48\">\n",
       "    <path clip-path=\"url(#p11932fa1ea)\" d=\"M 1008.94004 47.992272 \n",
       "C 1010.11528 47.992272 1011.242544 47.525345 1012.073564 46.694324 \n",
       "C 1012.904585 45.863304 1013.371513 44.73604 1013.371513 43.5608 \n",
       "C 1013.371513 42.38556 1012.904585 41.258296 1012.073564 40.427276 \n",
       "C 1011.242544 39.596255 1010.11528 39.129328 1008.94004 39.129328 \n",
       "C 1007.7648 39.129328 1006.637536 39.596255 1005.806516 40.427276 \n",
       "C 1004.975495 41.258296 1004.508568 42.38556 1004.508568 43.5608 \n",
       "C 1004.508568 44.73604 1004.975495 45.863304 1005.806516 46.694324 \n",
       "C 1006.637536 47.525345 1007.7648 47.992272 1008.94004 47.992272 \n",
       "z\n",
       "\" style=\"fill:#bb8bff;stroke:#bb8bff;stroke-linejoin:miter;stroke-width:1.5;\"/>\n",
       "   </g>\n",
       "   <g id=\"patch_49\">\n",
       "    <path clip-path=\"url(#p11932fa1ea)\" d=\"M 994.168465 149.234375 \n",
       "L 1023.711615 149.234375 \n",
       "L 1023.711615 119.691225 \n",
       "L 994.168465 119.691225 \n",
       "z\n",
       "\" style=\"fill:#bb8bff;\"/>\n",
       "   </g>\n",
       "   <g id=\"patch_50\">\n",
       "    <path clip-path=\"url(#p11932fa1ea)\" d=\"M 1054.39104 47.992272 \n",
       "C 1055.56628 47.992272 1056.693544 47.525345 1057.524564 46.694324 \n",
       "C 1058.355585 45.863304 1058.822513 44.73604 1058.822513 43.5608 \n",
       "C 1058.822513 42.38556 1058.355585 41.258296 1057.524564 40.427276 \n",
       "C 1056.693544 39.596255 1055.56628 39.129328 1054.39104 39.129328 \n",
       "C 1053.2158 39.129328 1052.088536 39.596255 1051.257516 40.427276 \n",
       "C 1050.426495 41.258296 1049.959568 42.38556 1049.959568 43.5608 \n",
       "C 1049.959568 44.73604 1050.426495 45.863304 1051.257516 46.694324 \n",
       "C 1052.088536 47.525345 1053.2158 47.992272 1054.39104 47.992272 \n",
       "z\n",
       "\" style=\"fill:#bb8bff;stroke:#bb8bff;stroke-linejoin:miter;stroke-width:1.5;\"/>\n",
       "   </g>\n",
       "   <g id=\"patch_51\">\n",
       "    <path clip-path=\"url(#p11932fa1ea)\" d=\"M 1039.619465 194.685375 \n",
       "L 1069.162615 194.685375 \n",
       "L 1069.162615 165.142225 \n",
       "L 1039.619465 165.142225 \n",
       "z\n",
       "\" style=\"fill:#bb8bff;\"/>\n",
       "   </g>\n",
       "   <g id=\"line2d_27\">\n",
       "    <path clip-path=\"url(#p11932fa1ea)\" d=\"M 281.72404 231.27343 \n",
       "L 281.72404 219.45617 \n",
       "\" style=\"fill:none;stroke:#ffffff;stroke-linecap:square;stroke-width:2;\"/>\n",
       "   </g>\n",
       "   <g id=\"line2d_28\">\n",
       "    <path clip-path=\"url(#p11932fa1ea)\" d=\"M 275.81541 225.3648 \n",
       "L 287.63267 225.3648 \n",
       "\" style=\"fill:none;stroke:#ffffff;stroke-linecap:square;stroke-width:2;\"/>\n",
       "   </g>\n",
       "   <g id=\"line2d_29\">\n",
       "    <path clip-path=\"url(#p11932fa1ea)\" d=\"M 372.62604 231.27343 \n",
       "L 372.62604 219.45617 \n",
       "\" style=\"fill:none;stroke:#ffffff;stroke-linecap:square;stroke-width:2;\"/>\n",
       "   </g>\n",
       "   <g id=\"line2d_30\">\n",
       "    <path clip-path=\"url(#p11932fa1ea)\" d=\"M 366.71741 225.3648 \n",
       "L 378.53467 225.3648 \n",
       "\" style=\"fill:none;stroke:#ffffff;stroke-linecap:square;stroke-width:2;\"/>\n",
       "   </g>\n",
       "   <g id=\"line2d_31\">\n",
       "    <path clip-path=\"url(#p11932fa1ea)\" d=\"M 418.07704 231.27343 \n",
       "L 418.07704 219.45617 \n",
       "\" style=\"fill:none;stroke:#ffffff;stroke-linecap:square;stroke-width:2;\"/>\n",
       "   </g>\n",
       "   <g id=\"line2d_32\">\n",
       "    <path clip-path=\"url(#p11932fa1ea)\" d=\"M 412.16841 225.3648 \n",
       "L 423.98567 225.3648 \n",
       "\" style=\"fill:none;stroke:#ffffff;stroke-linecap:square;stroke-width:2;\"/>\n",
       "   </g>\n",
       "   <g id=\"line2d_33\">\n",
       "    <path clip-path=\"url(#p11932fa1ea)\" d=\"M 508.97904 231.27343 \n",
       "L 508.97904 219.45617 \n",
       "\" style=\"fill:none;stroke:#ffffff;stroke-linecap:square;stroke-width:2;\"/>\n",
       "   </g>\n",
       "   <g id=\"line2d_34\">\n",
       "    <path clip-path=\"url(#p11932fa1ea)\" d=\"M 503.07041 225.3648 \n",
       "L 514.88767 225.3648 \n",
       "\" style=\"fill:none;stroke:#ffffff;stroke-linecap:square;stroke-width:2;\"/>\n",
       "   </g>\n",
       "   <g id=\"line2d_35\">\n",
       "    <path clip-path=\"url(#p11932fa1ea)\" d=\"M 690.78304 231.27343 \n",
       "L 690.78304 219.45617 \n",
       "\" style=\"fill:none;stroke:#ffffff;stroke-linecap:square;stroke-width:2;\"/>\n",
       "   </g>\n",
       "   <g id=\"line2d_36\">\n",
       "    <path clip-path=\"url(#p11932fa1ea)\" d=\"M 684.87441 225.3648 \n",
       "L 696.69167 225.3648 \n",
       "\" style=\"fill:none;stroke:#ffffff;stroke-linecap:square;stroke-width:2;\"/>\n",
       "   </g>\n",
       "   <g id=\"line2d_37\">\n",
       "    <path clip-path=\"url(#p11932fa1ea)\" d=\"M 781.68504 231.27343 \n",
       "L 781.68504 219.45617 \n",
       "\" style=\"fill:none;stroke:#ffffff;stroke-linecap:square;stroke-width:2;\"/>\n",
       "   </g>\n",
       "   <g id=\"line2d_38\">\n",
       "    <path clip-path=\"url(#p11932fa1ea)\" d=\"M 775.77641 225.3648 \n",
       "L 787.59367 225.3648 \n",
       "\" style=\"fill:none;stroke:#ffffff;stroke-linecap:square;stroke-width:2;\"/>\n",
       "   </g>\n",
       "   <g id=\"line2d_39\">\n",
       "    <path clip-path=\"url(#p11932fa1ea)\" d=\"M 827.13604 231.27343 \n",
       "L 827.13604 219.45617 \n",
       "\" style=\"fill:none;stroke:#ffffff;stroke-linecap:square;stroke-width:2;\"/>\n",
       "   </g>\n",
       "   <g id=\"line2d_40\">\n",
       "    <path clip-path=\"url(#p11932fa1ea)\" d=\"M 821.22741 225.3648 \n",
       "L 833.04467 225.3648 \n",
       "\" style=\"fill:none;stroke:#ffffff;stroke-linecap:square;stroke-width:2;\"/>\n",
       "   </g>\n",
       "   <g id=\"line2d_41\">\n",
       "    <path clip-path=\"url(#p11932fa1ea)\" d=\"M 918.03804 231.27343 \n",
       "L 918.03804 219.45617 \n",
       "\" style=\"fill:none;stroke:#ffffff;stroke-linecap:square;stroke-width:2;\"/>\n",
       "   </g>\n",
       "   <g id=\"line2d_42\">\n",
       "    <path clip-path=\"url(#p11932fa1ea)\" d=\"M 912.12941 225.3648 \n",
       "L 923.94667 225.3648 \n",
       "\" style=\"fill:none;stroke:#ffffff;stroke-linecap:square;stroke-width:2;\"/>\n",
       "   </g>\n",
       "   <g id=\"text_1\">\n",
       "    <g clip-path=\"url(#p11932fa1ea)\">\n",
       "     <!-- $R_y$ -->\n",
       "     <defs>\n",
       "      <path d=\"M 25.203125 64.796875 \n",
       "L 20.21875 38.921875 \n",
       "L 32.90625 38.921875 \n",
       "Q 40.375 38.921875 44.984375 43.046875 \n",
       "Q 49.609375 47.171875 49.609375 53.8125 \n",
       "Q 49.609375 59.125 46.5 61.953125 \n",
       "Q 43.40625 64.796875 37.59375 64.796875 \n",
       "z\n",
       "M 43.3125 35.015625 \n",
       "Q 46.4375 34.28125 48.515625 31.390625 \n",
       "Q 50.59375 28.515625 53.328125 19.921875 \n",
       "L 59.515625 0 \n",
       "L 49.125 0 \n",
       "L 43.40625 18.703125 \n",
       "Q 41.21875 25.921875 38.328125 28.359375 \n",
       "Q 35.453125 30.8125 29.5 30.8125 \n",
       "L 18.609375 30.8125 \n",
       "L 12.59375 0 \n",
       "L 2.6875 0 \n",
       "L 16.890625 72.90625 \n",
       "L 39.109375 72.90625 \n",
       "Q 49.21875 72.90625 54.609375 68.328125 \n",
       "Q 60.015625 63.765625 60.015625 55.171875 \n",
       "Q 60.015625 47.5625 55.421875 41.984375 \n",
       "Q 50.828125 36.421875 43.3125 35.015625 \n",
       "z\n",
       "\" id=\"DejaVuSans-Oblique-82\"/>\n",
       "      <path d=\"M 24.8125 -5.078125 \n",
       "Q 18.5625 -15.578125 14.625 -18.1875 \n",
       "Q 10.6875 -20.796875 4.59375 -20.796875 \n",
       "L -2.484375 -20.796875 \n",
       "L -0.984375 -13.28125 \n",
       "L 4.203125 -13.28125 \n",
       "Q 7.953125 -13.28125 10.59375 -11.234375 \n",
       "Q 13.234375 -9.1875 16.5 -3.21875 \n",
       "L 19.28125 2 \n",
       "L 7.171875 54.6875 \n",
       "L 16.703125 54.6875 \n",
       "L 25.78125 12.796875 \n",
       "L 50.875 54.6875 \n",
       "L 60.296875 54.6875 \n",
       "z\n",
       "\" id=\"DejaVuSans-Oblique-121\"/>\n",
       "     </defs>\n",
       "     <g transform=\"translate(137.96104 87.310327)scale(0.13 -0.13)\">\n",
       "      <use transform=\"translate(0 0.09375)\" xlink:href=\"#DejaVuSans-Oblique-82\"/>\n",
       "      <use transform=\"translate(69.482422 -16.3125)scale(0.7)\" xlink:href=\"#DejaVuSans-Oblique-121\"/>\n",
       "     </g>\n",
       "    </g>\n",
       "   </g>\n",
       "   <g id=\"text_2\">\n",
       "    <g clip-path=\"url(#p11932fa1ea)\">\n",
       "     <!-- 1 -->\n",
       "     <defs>\n",
       "      <path d=\"M 12.40625 8.296875 \n",
       "L 28.515625 8.296875 \n",
       "L 28.515625 63.921875 \n",
       "L 10.984375 60.40625 \n",
       "L 10.984375 69.390625 \n",
       "L 28.421875 72.90625 \n",
       "L 38.28125 72.90625 \n",
       "L 38.28125 8.296875 \n",
       "L 54.390625 8.296875 \n",
       "L 54.390625 0 \n",
       "L 12.40625 0 \n",
       "z\n",
       "\" id=\"DejaVuSans-49\"/>\n",
       "     </defs>\n",
       "     <g transform=\"translate(142.82604 100.082245)scale(0.08 -0.08)\">\n",
       "      <use xlink:href=\"#DejaVuSans-49\"/>\n",
       "     </g>\n",
       "    </g>\n",
       "   </g>\n",
       "   <g id=\"text_3\">\n",
       "    <g clip-path=\"url(#p11932fa1ea)\">\n",
       "     <!-- $R_y$ -->\n",
       "     <g transform=\"translate(183.41204 132.761328)scale(0.13 -0.13)\">\n",
       "      <use transform=\"translate(0 0.09375)\" xlink:href=\"#DejaVuSans-Oblique-82\"/>\n",
       "      <use transform=\"translate(69.482422 -16.3125)scale(0.7)\" xlink:href=\"#DejaVuSans-Oblique-121\"/>\n",
       "     </g>\n",
       "    </g>\n",
       "   </g>\n",
       "   <g id=\"text_4\">\n",
       "    <g clip-path=\"url(#p11932fa1ea)\">\n",
       "     <!-- 1 -->\n",
       "     <g transform=\"translate(188.27704 145.533245)scale(0.08 -0.08)\">\n",
       "      <use xlink:href=\"#DejaVuSans-49\"/>\n",
       "     </g>\n",
       "    </g>\n",
       "   </g>\n",
       "   <g id=\"text_5\">\n",
       "    <g clip-path=\"url(#p11932fa1ea)\">\n",
       "     <!-- $R_y$ -->\n",
       "     <g transform=\"translate(228.86304 178.212328)scale(0.13 -0.13)\">\n",
       "      <use transform=\"translate(0 0.09375)\" xlink:href=\"#DejaVuSans-Oblique-82\"/>\n",
       "      <use transform=\"translate(69.482422 -16.3125)scale(0.7)\" xlink:href=\"#DejaVuSans-Oblique-121\"/>\n",
       "     </g>\n",
       "    </g>\n",
       "   </g>\n",
       "   <g id=\"text_6\">\n",
       "    <g clip-path=\"url(#p11932fa1ea)\">\n",
       "     <!-- 1 -->\n",
       "     <g transform=\"translate(233.72804 190.984245)scale(0.08 -0.08)\">\n",
       "      <use xlink:href=\"#DejaVuSans-49\"/>\n",
       "     </g>\n",
       "    </g>\n",
       "   </g>\n",
       "   <g id=\"text_7\">\n",
       "    <g clip-path=\"url(#p11932fa1ea)\">\n",
       "     <!-- $R_y$ -->\n",
       "     <g transform=\"translate(547.02004 87.310327)scale(0.13 -0.13)\">\n",
       "      <use transform=\"translate(0 0.09375)\" xlink:href=\"#DejaVuSans-Oblique-82\"/>\n",
       "      <use transform=\"translate(69.482422 -16.3125)scale(0.7)\" xlink:href=\"#DejaVuSans-Oblique-121\"/>\n",
       "     </g>\n",
       "    </g>\n",
       "   </g>\n",
       "   <g id=\"text_8\">\n",
       "    <g clip-path=\"url(#p11932fa1ea)\">\n",
       "     <!-- 1 -->\n",
       "     <g transform=\"translate(551.88504 100.082245)scale(0.08 -0.08)\">\n",
       "      <use xlink:href=\"#DejaVuSans-49\"/>\n",
       "     </g>\n",
       "    </g>\n",
       "   </g>\n",
       "   <g id=\"text_9\">\n",
       "    <g clip-path=\"url(#p11932fa1ea)\">\n",
       "     <!-- $R_y$ -->\n",
       "     <g transform=\"translate(592.47104 132.761328)scale(0.13 -0.13)\">\n",
       "      <use transform=\"translate(0 0.09375)\" xlink:href=\"#DejaVuSans-Oblique-82\"/>\n",
       "      <use transform=\"translate(69.482422 -16.3125)scale(0.7)\" xlink:href=\"#DejaVuSans-Oblique-121\"/>\n",
       "     </g>\n",
       "    </g>\n",
       "   </g>\n",
       "   <g id=\"text_10\">\n",
       "    <g clip-path=\"url(#p11932fa1ea)\">\n",
       "     <!-- 1 -->\n",
       "     <g transform=\"translate(597.33604 145.533245)scale(0.08 -0.08)\">\n",
       "      <use xlink:href=\"#DejaVuSans-49\"/>\n",
       "     </g>\n",
       "    </g>\n",
       "   </g>\n",
       "   <g id=\"text_11\">\n",
       "    <g clip-path=\"url(#p11932fa1ea)\">\n",
       "     <!-- $R_y$ -->\n",
       "     <g transform=\"translate(637.92204 178.212328)scale(0.13 -0.13)\">\n",
       "      <use transform=\"translate(0 0.09375)\" xlink:href=\"#DejaVuSans-Oblique-82\"/>\n",
       "      <use transform=\"translate(69.482422 -16.3125)scale(0.7)\" xlink:href=\"#DejaVuSans-Oblique-121\"/>\n",
       "     </g>\n",
       "    </g>\n",
       "   </g>\n",
       "   <g id=\"text_12\">\n",
       "    <g clip-path=\"url(#p11932fa1ea)\">\n",
       "     <!-- 1 -->\n",
       "     <g transform=\"translate(642.78704 190.984245)scale(0.08 -0.08)\">\n",
       "      <use xlink:href=\"#DejaVuSans-49\"/>\n",
       "     </g>\n",
       "    </g>\n",
       "   </g>\n",
       "   <g id=\"text_13\">\n",
       "    <g clip-path=\"url(#p11932fa1ea)\">\n",
       "     <!-- $R_y$ -->\n",
       "     <g transform=\"translate(956.07904 87.310327)scale(0.13 -0.13)\">\n",
       "      <use transform=\"translate(0 0.09375)\" xlink:href=\"#DejaVuSans-Oblique-82\"/>\n",
       "      <use transform=\"translate(69.482422 -16.3125)scale(0.7)\" xlink:href=\"#DejaVuSans-Oblique-121\"/>\n",
       "     </g>\n",
       "    </g>\n",
       "   </g>\n",
       "   <g id=\"text_14\">\n",
       "    <g clip-path=\"url(#p11932fa1ea)\">\n",
       "     <!-- 1 -->\n",
       "     <g transform=\"translate(960.94404 100.082245)scale(0.08 -0.08)\">\n",
       "      <use xlink:href=\"#DejaVuSans-49\"/>\n",
       "     </g>\n",
       "    </g>\n",
       "   </g>\n",
       "   <g id=\"text_15\">\n",
       "    <g clip-path=\"url(#p11932fa1ea)\">\n",
       "     <!-- $R_y$ -->\n",
       "     <g transform=\"translate(1001.53004 132.761328)scale(0.13 -0.13)\">\n",
       "      <use transform=\"translate(0 0.09375)\" xlink:href=\"#DejaVuSans-Oblique-82\"/>\n",
       "      <use transform=\"translate(69.482422 -16.3125)scale(0.7)\" xlink:href=\"#DejaVuSans-Oblique-121\"/>\n",
       "     </g>\n",
       "    </g>\n",
       "   </g>\n",
       "   <g id=\"text_16\">\n",
       "    <g clip-path=\"url(#p11932fa1ea)\">\n",
       "     <!-- 1 -->\n",
       "     <g transform=\"translate(1006.39504 145.533245)scale(0.08 -0.08)\">\n",
       "      <use xlink:href=\"#DejaVuSans-49\"/>\n",
       "     </g>\n",
       "    </g>\n",
       "   </g>\n",
       "   <g id=\"text_17\">\n",
       "    <g clip-path=\"url(#p11932fa1ea)\">\n",
       "     <!-- $R_y$ -->\n",
       "     <g transform=\"translate(1046.98104 178.212328)scale(0.13 -0.13)\">\n",
       "      <use transform=\"translate(0 0.09375)\" xlink:href=\"#DejaVuSans-Oblique-82\"/>\n",
       "      <use transform=\"translate(69.482422 -16.3125)scale(0.7)\" xlink:href=\"#DejaVuSans-Oblique-121\"/>\n",
       "     </g>\n",
       "    </g>\n",
       "   </g>\n",
       "   <g id=\"text_18\">\n",
       "    <g clip-path=\"url(#p11932fa1ea)\">\n",
       "     <!-- 1 -->\n",
       "     <g transform=\"translate(1051.84604 190.984245)scale(0.08 -0.08)\">\n",
       "      <use xlink:href=\"#DejaVuSans-49\"/>\n",
       "     </g>\n",
       "    </g>\n",
       "   </g>\n",
       "   <g id=\"text_19\">\n",
       "    <g clip-path=\"url(#p11932fa1ea)\">\n",
       "     <!-- ${q0}_{0}$ -->\n",
       "     <defs>\n",
       "      <path d=\"M 41.703125 8.203125 \n",
       "Q 38.09375 3.46875 33.171875 1.015625 \n",
       "Q 28.265625 -1.421875 22.3125 -1.421875 \n",
       "Q 14.015625 -1.421875 9.296875 4.171875 \n",
       "Q 4.59375 9.765625 4.59375 19.578125 \n",
       "Q 4.59375 27.484375 7.5 34.859375 \n",
       "Q 10.40625 42.234375 15.828125 48.09375 \n",
       "Q 19.34375 51.90625 23.90625 53.953125 \n",
       "Q 28.46875 56 33.5 56 \n",
       "Q 39.546875 56 43.453125 53.609375 \n",
       "Q 47.359375 51.21875 49.125 46.390625 \n",
       "L 50.6875 54.59375 \n",
       "L 59.71875 54.59375 \n",
       "L 45.125 -20.609375 \n",
       "L 36.078125 -20.609375 \n",
       "z\n",
       "M 13.921875 20.90625 \n",
       "Q 13.921875 13.671875 16.9375 9.890625 \n",
       "Q 19.96875 6.109375 25.6875 6.109375 \n",
       "Q 34.1875 6.109375 40.1875 14.234375 \n",
       "Q 46.1875 22.359375 46.1875 33.984375 \n",
       "Q 46.1875 41.015625 43.078125 44.75 \n",
       "Q 39.984375 48.484375 34.1875 48.484375 \n",
       "Q 29.9375 48.484375 26.3125 46.5 \n",
       "Q 22.703125 44.53125 20.015625 40.71875 \n",
       "Q 17.1875 36.71875 15.546875 31.34375 \n",
       "Q 13.921875 25.984375 13.921875 20.90625 \n",
       "z\n",
       "\" id=\"DejaVuSans-Oblique-113\"/>\n",
       "      <path d=\"M 31.78125 66.40625 \n",
       "Q 24.171875 66.40625 20.328125 58.90625 \n",
       "Q 16.5 51.421875 16.5 36.375 \n",
       "Q 16.5 21.390625 20.328125 13.890625 \n",
       "Q 24.171875 6.390625 31.78125 6.390625 \n",
       "Q 39.453125 6.390625 43.28125 13.890625 \n",
       "Q 47.125 21.390625 47.125 36.375 \n",
       "Q 47.125 51.421875 43.28125 58.90625 \n",
       "Q 39.453125 66.40625 31.78125 66.40625 \n",
       "z\n",
       "M 31.78125 74.21875 \n",
       "Q 44.046875 74.21875 50.515625 64.515625 \n",
       "Q 56.984375 54.828125 56.984375 36.375 \n",
       "Q 56.984375 17.96875 50.515625 8.265625 \n",
       "Q 44.046875 -1.421875 31.78125 -1.421875 \n",
       "Q 19.53125 -1.421875 13.0625 8.265625 \n",
       "Q 6.59375 17.96875 6.59375 36.375 \n",
       "Q 6.59375 54.828125 13.0625 64.515625 \n",
       "Q 19.53125 74.21875 31.78125 74.21875 \n",
       "z\n",
       "\" id=\"DejaVuSans-48\"/>\n",
       "     </defs>\n",
       "     <g transform=\"translate(62.22984 48.011777)scale(0.1625 -0.1625)\">\n",
       "      <use transform=\"translate(0 0.78125)\" xlink:href=\"#DejaVuSans-Oblique-113\"/>\n",
       "      <use transform=\"translate(63.476562 0.78125)\" xlink:href=\"#DejaVuSans-48\"/>\n",
       "      <use transform=\"translate(128.056641 -15.625)scale(0.7)\" xlink:href=\"#DejaVuSans-48\"/>\n",
       "     </g>\n",
       "    </g>\n",
       "   </g>\n",
       "   <g id=\"text_20\">\n",
       "    <g clip-path=\"url(#p11932fa1ea)\">\n",
       "     <!-- ${q0}_{1}$ -->\n",
       "     <g transform=\"translate(62.22984 93.462777)scale(0.1625 -0.1625)\">\n",
       "      <use transform=\"translate(0 0.78125)\" xlink:href=\"#DejaVuSans-Oblique-113\"/>\n",
       "      <use transform=\"translate(63.476562 0.78125)\" xlink:href=\"#DejaVuSans-48\"/>\n",
       "      <use transform=\"translate(128.056641 -15.625)scale(0.7)\" xlink:href=\"#DejaVuSans-49\"/>\n",
       "     </g>\n",
       "    </g>\n",
       "   </g>\n",
       "   <g id=\"text_21\">\n",
       "    <g clip-path=\"url(#p11932fa1ea)\">\n",
       "     <!-- ${q0}_{2}$ -->\n",
       "     <defs>\n",
       "      <path d=\"M 19.1875 8.296875 \n",
       "L 53.609375 8.296875 \n",
       "L 53.609375 0 \n",
       "L 7.328125 0 \n",
       "L 7.328125 8.296875 \n",
       "Q 12.9375 14.109375 22.625 23.890625 \n",
       "Q 32.328125 33.6875 34.8125 36.53125 \n",
       "Q 39.546875 41.84375 41.421875 45.53125 \n",
       "Q 43.3125 49.21875 43.3125 52.78125 \n",
       "Q 43.3125 58.59375 39.234375 62.25 \n",
       "Q 35.15625 65.921875 28.609375 65.921875 \n",
       "Q 23.96875 65.921875 18.8125 64.3125 \n",
       "Q 13.671875 62.703125 7.8125 59.421875 \n",
       "L 7.8125 69.390625 \n",
       "Q 13.765625 71.78125 18.9375 73 \n",
       "Q 24.125 74.21875 28.421875 74.21875 \n",
       "Q 39.75 74.21875 46.484375 68.546875 \n",
       "Q 53.21875 62.890625 53.21875 53.421875 \n",
       "Q 53.21875 48.921875 51.53125 44.890625 \n",
       "Q 49.859375 40.875 45.40625 35.40625 \n",
       "Q 44.1875 33.984375 37.640625 27.21875 \n",
       "Q 31.109375 20.453125 19.1875 8.296875 \n",
       "z\n",
       "\" id=\"DejaVuSans-50\"/>\n",
       "     </defs>\n",
       "     <g transform=\"translate(62.22984 138.913777)scale(0.1625 -0.1625)\">\n",
       "      <use transform=\"translate(0 0.78125)\" xlink:href=\"#DejaVuSans-Oblique-113\"/>\n",
       "      <use transform=\"translate(63.476562 0.78125)\" xlink:href=\"#DejaVuSans-48\"/>\n",
       "      <use transform=\"translate(128.056641 -15.625)scale(0.7)\" xlink:href=\"#DejaVuSans-50\"/>\n",
       "     </g>\n",
       "    </g>\n",
       "   </g>\n",
       "   <g id=\"text_22\">\n",
       "    <g clip-path=\"url(#p11932fa1ea)\">\n",
       "     <!-- ${q0}_{3}$ -->\n",
       "     <defs>\n",
       "      <path d=\"M 40.578125 39.3125 \n",
       "Q 47.65625 37.796875 51.625 33 \n",
       "Q 55.609375 28.21875 55.609375 21.1875 \n",
       "Q 55.609375 10.40625 48.1875 4.484375 \n",
       "Q 40.765625 -1.421875 27.09375 -1.421875 \n",
       "Q 22.515625 -1.421875 17.65625 -0.515625 \n",
       "Q 12.796875 0.390625 7.625 2.203125 \n",
       "L 7.625 11.71875 \n",
       "Q 11.71875 9.328125 16.59375 8.109375 \n",
       "Q 21.484375 6.890625 26.8125 6.890625 \n",
       "Q 36.078125 6.890625 40.9375 10.546875 \n",
       "Q 45.796875 14.203125 45.796875 21.1875 \n",
       "Q 45.796875 27.640625 41.28125 31.265625 \n",
       "Q 36.765625 34.90625 28.71875 34.90625 \n",
       "L 20.21875 34.90625 \n",
       "L 20.21875 43.015625 \n",
       "L 29.109375 43.015625 \n",
       "Q 36.375 43.015625 40.234375 45.921875 \n",
       "Q 44.09375 48.828125 44.09375 54.296875 \n",
       "Q 44.09375 59.90625 40.109375 62.90625 \n",
       "Q 36.140625 65.921875 28.71875 65.921875 \n",
       "Q 24.65625 65.921875 20.015625 65.03125 \n",
       "Q 15.375 64.15625 9.8125 62.3125 \n",
       "L 9.8125 71.09375 \n",
       "Q 15.4375 72.65625 20.34375 73.4375 \n",
       "Q 25.25 74.21875 29.59375 74.21875 \n",
       "Q 40.828125 74.21875 47.359375 69.109375 \n",
       "Q 53.90625 64.015625 53.90625 55.328125 \n",
       "Q 53.90625 49.265625 50.4375 45.09375 \n",
       "Q 46.96875 40.921875 40.578125 39.3125 \n",
       "z\n",
       "\" id=\"DejaVuSans-51\"/>\n",
       "     </defs>\n",
       "     <g transform=\"translate(62.22984 184.364777)scale(0.1625 -0.1625)\">\n",
       "      <use transform=\"translate(0 0.78125)\" xlink:href=\"#DejaVuSans-Oblique-113\"/>\n",
       "      <use transform=\"translate(63.476562 0.78125)\" xlink:href=\"#DejaVuSans-48\"/>\n",
       "      <use transform=\"translate(128.056641 -15.625)scale(0.7)\" xlink:href=\"#DejaVuSans-51\"/>\n",
       "     </g>\n",
       "    </g>\n",
       "   </g>\n",
       "   <g id=\"text_23\">\n",
       "    <g clip-path=\"url(#p11932fa1ea)\">\n",
       "     <!-- ${q0}_{4}$ -->\n",
       "     <defs>\n",
       "      <path d=\"M 37.796875 64.3125 \n",
       "L 12.890625 25.390625 \n",
       "L 37.796875 25.390625 \n",
       "z\n",
       "M 35.203125 72.90625 \n",
       "L 47.609375 72.90625 \n",
       "L 47.609375 25.390625 \n",
       "L 58.015625 25.390625 \n",
       "L 58.015625 17.1875 \n",
       "L 47.609375 17.1875 \n",
       "L 47.609375 0 \n",
       "L 37.796875 0 \n",
       "L 37.796875 17.1875 \n",
       "L 4.890625 17.1875 \n",
       "L 4.890625 26.703125 \n",
       "z\n",
       "\" id=\"DejaVuSans-52\"/>\n",
       "     </defs>\n",
       "     <g transform=\"translate(62.22984 229.815777)scale(0.1625 -0.1625)\">\n",
       "      <use transform=\"translate(0 0.78125)\" xlink:href=\"#DejaVuSans-Oblique-113\"/>\n",
       "      <use transform=\"translate(63.476562 0.78125)\" xlink:href=\"#DejaVuSans-48\"/>\n",
       "      <use transform=\"translate(128.056641 -15.625)scale(0.7)\" xlink:href=\"#DejaVuSans-52\"/>\n",
       "     </g>\n",
       "    </g>\n",
       "   </g>\n",
       "  </g>\n",
       " </g>\n",
       " <defs>\n",
       "  <clipPath id=\"p11932fa1ea\">\n",
       "   <rect height=\"245.4354\" width=\"1097.18714\" x=\"7.2\" y=\"7.2\"/>\n",
       "  </clipPath>\n",
       " </defs>\n",
       "</svg>\n"
      ],
      "text/plain": [
       "<Figure size 1453.23x325.08 with 1 Axes>"
      ]
     },
     "execution_count": 4,
     "metadata": {},
     "output_type": "execute_result"
    }
   ],
   "source": [
    "#Creates controlled anstaz for calculating |<b|psi>|^2 with a Hadamard test\n",
    "\n",
    "def control_fixed_ansatz(qubits, parameters, ancilla, reg):\n",
    "\n",
    "    for i in range (0, len(qubits)):\n",
    "        circ.cry(parameters[0][i], qiskit.circuit.Qubit(reg, ancilla), qiskit.circuit.Qubit(reg, qubits[i]))\n",
    "\n",
    "    circ.ccx(ancilla, qubits[1], 4)\n",
    "    circ.cz(qubits[0], 4)\n",
    "    circ.ccx(ancilla, qubits[1], 4)\n",
    "\n",
    "    circ.ccx(ancilla, qubits[0], 4)\n",
    "    circ.cz(qubits[2], 4)\n",
    "    circ.ccx(ancilla, qubits[0], 4)\n",
    "\n",
    "    for i in range (0, len(qubits)):\n",
    "        circ.cry(parameters[1][i], qiskit.circuit.Qubit(reg, ancilla), qiskit.circuit.Qubit(reg, qubits[i]))\n",
    "\n",
    "    circ.ccx(ancilla, qubits[2], 4)\n",
    "    circ.cz(qubits[1], 4)\n",
    "    circ.ccx(ancilla, qubits[2], 4)\n",
    "\n",
    "    circ.ccx(ancilla, qubits[0], 4)\n",
    "    circ.cz(qubits[2], 4)\n",
    "    circ.ccx(ancilla, qubits[0], 4)\n",
    "\n",
    "    for i in range (0, len(qubits)):\n",
    "        circ.cry(parameters[2][i], qiskit.circuit.Qubit(reg, ancilla), qiskit.circuit.Qubit(reg, qubits[i]))\n",
    "\n",
    "q_reg = QuantumRegister(5)\n",
    "circ = QuantumCircuit(q_reg)\n",
    "control_fixed_ansatz([1, 2, 3], [[1, 1, 1], [1, 1, 1], [1, 1, 1]], 0, q_reg)\n",
    "circ.draw(output='mpl')"
   ]
  },
  {
   "cell_type": "markdown",
   "metadata": {},
   "source": [
    "Notice the extra qubit, `q0_4`. This is an ancilla, and allows us to create a $CCZ$ gate, as is shown in the circuit. Now, we also have to create the circuit for $U$. In our implementation, we will pick $U$ as:\n",
    "\n",
    "<br>\n",
    "\n",
    "\n",
    "\n",
    "$$U \\ = \\ H_1 H_2 H_3$$\n",
    "\n",
    "\n",
    "\n",
    "<br>\n",
    "\n",
    "Thus, we have:"
   ]
  },
  {
   "cell_type": "code",
   "execution_count": 5,
   "metadata": {},
   "outputs": [
    {
     "data": {
      "image/svg+xml": [
       "<?xml version=\"1.0\" encoding=\"utf-8\" standalone=\"no\"?>\n",
       "<!DOCTYPE svg PUBLIC \"-//W3C//DTD SVG 1.1//EN\"\n",
       "  \"http://www.w3.org/Graphics/SVG/1.1/DTD/svg11.dtd\">\n",
       "<!-- Created with matplotlib (https://matplotlib.org/) -->\n",
       "<svg height=\"214.3844pt\" version=\"1.1\" viewBox=\"0 0 285.28796 214.3844\" width=\"285.28796pt\" xmlns=\"http://www.w3.org/2000/svg\" xmlns:xlink=\"http://www.w3.org/1999/xlink\">\n",
       " <defs>\n",
       "  <style type=\"text/css\">\n",
       "*{stroke-linecap:butt;stroke-linejoin:round;}\n",
       "  </style>\n",
       " </defs>\n",
       " <g id=\"figure_1\">\n",
       "  <g id=\"patch_1\">\n",
       "   <path d=\"M 0 214.3844 \n",
       "L 285.28796 214.3844 \n",
       "L 285.28796 0 \n",
       "L 0 0 \n",
       "z\n",
       "\" style=\"fill:#ffffff;\"/>\n",
       "  </g>\n",
       "  <g id=\"axes_1\">\n",
       "   <g id=\"line2d_1\">\n",
       "    <path clip-path=\"url(#pce3ee3989f)\" d=\"M 100.82906 43.5608 \n",
       "L 273.54286 43.5608 \n",
       "\" style=\"fill:none;stroke:#000000;stroke-linecap:square;stroke-width:2;\"/>\n",
       "   </g>\n",
       "   <g id=\"line2d_2\">\n",
       "    <path clip-path=\"url(#pce3ee3989f)\" d=\"M 100.82906 89.0118 \n",
       "L 273.54286 89.0118 \n",
       "\" style=\"fill:none;stroke:#000000;stroke-linecap:square;stroke-width:2;\"/>\n",
       "   </g>\n",
       "   <g id=\"line2d_3\">\n",
       "    <path clip-path=\"url(#pce3ee3989f)\" d=\"M 100.82906 134.4628 \n",
       "L 273.54286 134.4628 \n",
       "\" style=\"fill:none;stroke:#000000;stroke-linecap:square;stroke-width:2;\"/>\n",
       "   </g>\n",
       "   <g id=\"line2d_4\">\n",
       "    <path clip-path=\"url(#pce3ee3989f)\" d=\"M 100.82906 179.9138 \n",
       "L 273.54286 179.9138 \n",
       "\" style=\"fill:none;stroke:#000000;stroke-linecap:square;stroke-width:2;\"/>\n",
       "   </g>\n",
       "   <g id=\"line2d_5\">\n",
       "    <path clip-path=\"url(#pce3ee3989f)\" d=\"M 137.18986 89.0118 \n",
       "L 137.18986 43.5608 \n",
       "\" style=\"fill:none;stroke:#bb8bff;stroke-linecap:square;stroke-width:2;\"/>\n",
       "   </g>\n",
       "   <g id=\"line2d_6\">\n",
       "    <path clip-path=\"url(#pce3ee3989f)\" d=\"M 182.64086 134.4628 \n",
       "L 182.64086 43.5608 \n",
       "\" style=\"fill:none;stroke:#bb8bff;stroke-linecap:square;stroke-width:2;\"/>\n",
       "   </g>\n",
       "   <g id=\"line2d_7\">\n",
       "    <path clip-path=\"url(#pce3ee3989f)\" d=\"M 228.09186 179.9138 \n",
       "L 228.09186 43.5608 \n",
       "\" style=\"fill:none;stroke:#bb8bff;stroke-linecap:square;stroke-width:2;\"/>\n",
       "   </g>\n",
       "   <g id=\"patch_2\">\n",
       "    <path clip-path=\"url(#pce3ee3989f)\" d=\"M 137.18986 47.992272 \n",
       "C 138.3651 47.992272 139.492364 47.525345 140.323384 46.694324 \n",
       "C 141.154405 45.863304 141.621333 44.73604 141.621333 43.5608 \n",
       "C 141.621333 42.38556 141.154405 41.258296 140.323384 40.427276 \n",
       "C 139.492364 39.596255 138.3651 39.129328 137.18986 39.129328 \n",
       "C 136.01462 39.129328 134.887356 39.596255 134.056336 40.427276 \n",
       "C 133.225315 41.258296 132.758387 42.38556 132.758387 43.5608 \n",
       "C 132.758387 44.73604 133.225315 45.863304 134.056336 46.694324 \n",
       "C 134.887356 47.525345 136.01462 47.992272 137.18986 47.992272 \n",
       "z\n",
       "\" style=\"fill:#bb8bff;stroke:#bb8bff;stroke-linejoin:miter;stroke-width:1.5;\"/>\n",
       "   </g>\n",
       "   <g id=\"patch_3\">\n",
       "    <path clip-path=\"url(#pce3ee3989f)\" d=\"M 122.418285 103.783375 \n",
       "L 151.961435 103.783375 \n",
       "L 151.961435 74.240225 \n",
       "L 122.418285 74.240225 \n",
       "z\n",
       "\" style=\"fill:#bb8bff;\"/>\n",
       "   </g>\n",
       "   <g id=\"patch_4\">\n",
       "    <path clip-path=\"url(#pce3ee3989f)\" d=\"M 182.64086 47.992272 \n",
       "C 183.8161 47.992272 184.943364 47.525345 185.774384 46.694324 \n",
       "C 186.605405 45.863304 187.072333 44.73604 187.072333 43.5608 \n",
       "C 187.072333 42.38556 186.605405 41.258296 185.774384 40.427276 \n",
       "C 184.943364 39.596255 183.8161 39.129328 182.64086 39.129328 \n",
       "C 181.46562 39.129328 180.338356 39.596255 179.507336 40.427276 \n",
       "C 178.676315 41.258296 178.209388 42.38556 178.209388 43.5608 \n",
       "C 178.209388 44.73604 178.676315 45.863304 179.507336 46.694324 \n",
       "C 180.338356 47.525345 181.46562 47.992272 182.64086 47.992272 \n",
       "z\n",
       "\" style=\"fill:#bb8bff;stroke:#bb8bff;stroke-linejoin:miter;stroke-width:1.5;\"/>\n",
       "   </g>\n",
       "   <g id=\"patch_5\">\n",
       "    <path clip-path=\"url(#pce3ee3989f)\" d=\"M 167.869285 149.234375 \n",
       "L 197.412435 149.234375 \n",
       "L 197.412435 119.691225 \n",
       "L 167.869285 119.691225 \n",
       "z\n",
       "\" style=\"fill:#bb8bff;\"/>\n",
       "   </g>\n",
       "   <g id=\"patch_6\">\n",
       "    <path clip-path=\"url(#pce3ee3989f)\" d=\"M 228.09186 47.992272 \n",
       "C 229.2671 47.992272 230.394364 47.525345 231.225384 46.694324 \n",
       "C 232.056405 45.863304 232.523333 44.73604 232.523333 43.5608 \n",
       "C 232.523333 42.38556 232.056405 41.258296 231.225384 40.427276 \n",
       "C 230.394364 39.596255 229.2671 39.129328 228.09186 39.129328 \n",
       "C 226.91662 39.129328 225.789356 39.596255 224.958336 40.427276 \n",
       "C 224.127315 41.258296 223.660388 42.38556 223.660388 43.5608 \n",
       "C 223.660388 44.73604 224.127315 45.863304 224.958336 46.694324 \n",
       "C 225.789356 47.525345 226.91662 47.992272 228.09186 47.992272 \n",
       "z\n",
       "\" style=\"fill:#bb8bff;stroke:#bb8bff;stroke-linejoin:miter;stroke-width:1.5;\"/>\n",
       "   </g>\n",
       "   <g id=\"patch_7\">\n",
       "    <path clip-path=\"url(#pce3ee3989f)\" d=\"M 213.320285 194.685375 \n",
       "L 242.863435 194.685375 \n",
       "L 242.863435 165.142225 \n",
       "L 213.320285 165.142225 \n",
       "z\n",
       "\" style=\"fill:#bb8bff;\"/>\n",
       "   </g>\n",
       "   <g id=\"text_1\">\n",
       "    <g clip-path=\"url(#pce3ee3989f)\">\n",
       "     <!-- $H$ -->\n",
       "     <defs>\n",
       "      <path d=\"M 16.890625 72.90625 \n",
       "L 26.8125 72.90625 \n",
       "L 21 43.015625 \n",
       "L 56.78125 43.015625 \n",
       "L 62.59375 72.90625 \n",
       "L 72.515625 72.90625 \n",
       "L 58.296875 0 \n",
       "L 48.390625 0 \n",
       "L 55.171875 34.71875 \n",
       "L 19.390625 34.71875 \n",
       "L 12.59375 0 \n",
       "L 2.6875 0 \n",
       "z\n",
       "\" id=\"DejaVuSans-Oblique-72\"/>\n",
       "     </defs>\n",
       "     <g transform=\"translate(132.24986 92.598987)scale(0.13 -0.13)\">\n",
       "      <use transform=\"translate(0 0.09375)\" xlink:href=\"#DejaVuSans-Oblique-72\"/>\n",
       "     </g>\n",
       "    </g>\n",
       "   </g>\n",
       "   <g id=\"text_2\">\n",
       "    <g clip-path=\"url(#pce3ee3989f)\">\n",
       "     <!-- $H$ -->\n",
       "     <g transform=\"translate(177.70086 138.049987)scale(0.13 -0.13)\">\n",
       "      <use transform=\"translate(0 0.09375)\" xlink:href=\"#DejaVuSans-Oblique-72\"/>\n",
       "     </g>\n",
       "    </g>\n",
       "   </g>\n",
       "   <g id=\"text_3\">\n",
       "    <g clip-path=\"url(#pce3ee3989f)\">\n",
       "     <!-- $H$ -->\n",
       "     <g transform=\"translate(223.15186 183.500988)scale(0.13 -0.13)\">\n",
       "      <use transform=\"translate(0 0.09375)\" xlink:href=\"#DejaVuSans-Oblique-72\"/>\n",
       "     </g>\n",
       "    </g>\n",
       "   </g>\n",
       "   <g id=\"text_4\">\n",
       "    <g clip-path=\"url(#pce3ee3989f)\">\n",
       "     <!-- ${q}_{0}$ -->\n",
       "     <defs>\n",
       "      <path d=\"M 41.703125 8.203125 \n",
       "Q 38.09375 3.46875 33.171875 1.015625 \n",
       "Q 28.265625 -1.421875 22.3125 -1.421875 \n",
       "Q 14.015625 -1.421875 9.296875 4.171875 \n",
       "Q 4.59375 9.765625 4.59375 19.578125 \n",
       "Q 4.59375 27.484375 7.5 34.859375 \n",
       "Q 10.40625 42.234375 15.828125 48.09375 \n",
       "Q 19.34375 51.90625 23.90625 53.953125 \n",
       "Q 28.46875 56 33.5 56 \n",
       "Q 39.546875 56 43.453125 53.609375 \n",
       "Q 47.359375 51.21875 49.125 46.390625 \n",
       "L 50.6875 54.59375 \n",
       "L 59.71875 54.59375 \n",
       "L 45.125 -20.609375 \n",
       "L 36.078125 -20.609375 \n",
       "z\n",
       "M 13.921875 20.90625 \n",
       "Q 13.921875 13.671875 16.9375 9.890625 \n",
       "Q 19.96875 6.109375 25.6875 6.109375 \n",
       "Q 34.1875 6.109375 40.1875 14.234375 \n",
       "Q 46.1875 22.359375 46.1875 33.984375 \n",
       "Q 46.1875 41.015625 43.078125 44.75 \n",
       "Q 39.984375 48.484375 34.1875 48.484375 \n",
       "Q 29.9375 48.484375 26.3125 46.5 \n",
       "Q 22.703125 44.53125 20.015625 40.71875 \n",
       "Q 17.1875 36.71875 15.546875 31.34375 \n",
       "Q 13.921875 25.984375 13.921875 20.90625 \n",
       "z\n",
       "\" id=\"DejaVuSans-Oblique-113\"/>\n",
       "      <path d=\"M 31.78125 66.40625 \n",
       "Q 24.171875 66.40625 20.328125 58.90625 \n",
       "Q 16.5 51.421875 16.5 36.375 \n",
       "Q 16.5 21.390625 20.328125 13.890625 \n",
       "Q 24.171875 6.390625 31.78125 6.390625 \n",
       "Q 39.453125 6.390625 43.28125 13.890625 \n",
       "Q 47.125 21.390625 47.125 36.375 \n",
       "Q 47.125 51.421875 43.28125 58.90625 \n",
       "Q 39.453125 66.40625 31.78125 66.40625 \n",
       "z\n",
       "M 31.78125 74.21875 \n",
       "Q 44.046875 74.21875 50.515625 64.515625 \n",
       "Q 56.984375 54.828125 56.984375 36.375 \n",
       "Q 56.984375 17.96875 50.515625 8.265625 \n",
       "Q 44.046875 -1.421875 31.78125 -1.421875 \n",
       "Q 19.53125 -1.421875 13.0625 8.265625 \n",
       "Q 6.59375 17.96875 6.59375 36.375 \n",
       "Q 6.59375 54.828125 13.0625 64.515625 \n",
       "Q 19.53125 74.21875 31.78125 74.21875 \n",
       "z\n",
       "\" id=\"DejaVuSans-48\"/>\n",
       "     </defs>\n",
       "     <g transform=\"translate(64.61116 48.011777)scale(0.1625 -0.1625)\">\n",
       "      <use xlink:href=\"#DejaVuSans-Oblique-113\"/>\n",
       "      <use transform=\"translate(63.476562 -16.40625)scale(0.7)\" xlink:href=\"#DejaVuSans-48\"/>\n",
       "     </g>\n",
       "    </g>\n",
       "   </g>\n",
       "   <g id=\"text_5\">\n",
       "    <g clip-path=\"url(#pce3ee3989f)\">\n",
       "     <!-- ${q}_{1}$ -->\n",
       "     <defs>\n",
       "      <path d=\"M 12.40625 8.296875 \n",
       "L 28.515625 8.296875 \n",
       "L 28.515625 63.921875 \n",
       "L 10.984375 60.40625 \n",
       "L 10.984375 69.390625 \n",
       "L 28.421875 72.90625 \n",
       "L 38.28125 72.90625 \n",
       "L 38.28125 8.296875 \n",
       "L 54.390625 8.296875 \n",
       "L 54.390625 0 \n",
       "L 12.40625 0 \n",
       "z\n",
       "\" id=\"DejaVuSans-49\"/>\n",
       "     </defs>\n",
       "     <g transform=\"translate(64.61116 93.462777)scale(0.1625 -0.1625)\">\n",
       "      <use xlink:href=\"#DejaVuSans-Oblique-113\"/>\n",
       "      <use transform=\"translate(63.476562 -16.40625)scale(0.7)\" xlink:href=\"#DejaVuSans-49\"/>\n",
       "     </g>\n",
       "    </g>\n",
       "   </g>\n",
       "   <g id=\"text_6\">\n",
       "    <g clip-path=\"url(#pce3ee3989f)\">\n",
       "     <!-- ${q}_{2}$ -->\n",
       "     <defs>\n",
       "      <path d=\"M 19.1875 8.296875 \n",
       "L 53.609375 8.296875 \n",
       "L 53.609375 0 \n",
       "L 7.328125 0 \n",
       "L 7.328125 8.296875 \n",
       "Q 12.9375 14.109375 22.625 23.890625 \n",
       "Q 32.328125 33.6875 34.8125 36.53125 \n",
       "Q 39.546875 41.84375 41.421875 45.53125 \n",
       "Q 43.3125 49.21875 43.3125 52.78125 \n",
       "Q 43.3125 58.59375 39.234375 62.25 \n",
       "Q 35.15625 65.921875 28.609375 65.921875 \n",
       "Q 23.96875 65.921875 18.8125 64.3125 \n",
       "Q 13.671875 62.703125 7.8125 59.421875 \n",
       "L 7.8125 69.390625 \n",
       "Q 13.765625 71.78125 18.9375 73 \n",
       "Q 24.125 74.21875 28.421875 74.21875 \n",
       "Q 39.75 74.21875 46.484375 68.546875 \n",
       "Q 53.21875 62.890625 53.21875 53.421875 \n",
       "Q 53.21875 48.921875 51.53125 44.890625 \n",
       "Q 49.859375 40.875 45.40625 35.40625 \n",
       "Q 44.1875 33.984375 37.640625 27.21875 \n",
       "Q 31.109375 20.453125 19.1875 8.296875 \n",
       "z\n",
       "\" id=\"DejaVuSans-50\"/>\n",
       "     </defs>\n",
       "     <g transform=\"translate(64.61116 138.913777)scale(0.1625 -0.1625)\">\n",
       "      <use xlink:href=\"#DejaVuSans-Oblique-113\"/>\n",
       "      <use transform=\"translate(63.476562 -16.40625)scale(0.7)\" xlink:href=\"#DejaVuSans-50\"/>\n",
       "     </g>\n",
       "    </g>\n",
       "   </g>\n",
       "   <g id=\"text_7\">\n",
       "    <g clip-path=\"url(#pce3ee3989f)\">\n",
       "     <!-- ${q}_{3}$ -->\n",
       "     <defs>\n",
       "      <path d=\"M 40.578125 39.3125 \n",
       "Q 47.65625 37.796875 51.625 33 \n",
       "Q 55.609375 28.21875 55.609375 21.1875 \n",
       "Q 55.609375 10.40625 48.1875 4.484375 \n",
       "Q 40.765625 -1.421875 27.09375 -1.421875 \n",
       "Q 22.515625 -1.421875 17.65625 -0.515625 \n",
       "Q 12.796875 0.390625 7.625 2.203125 \n",
       "L 7.625 11.71875 \n",
       "Q 11.71875 9.328125 16.59375 8.109375 \n",
       "Q 21.484375 6.890625 26.8125 6.890625 \n",
       "Q 36.078125 6.890625 40.9375 10.546875 \n",
       "Q 45.796875 14.203125 45.796875 21.1875 \n",
       "Q 45.796875 27.640625 41.28125 31.265625 \n",
       "Q 36.765625 34.90625 28.71875 34.90625 \n",
       "L 20.21875 34.90625 \n",
       "L 20.21875 43.015625 \n",
       "L 29.109375 43.015625 \n",
       "Q 36.375 43.015625 40.234375 45.921875 \n",
       "Q 44.09375 48.828125 44.09375 54.296875 \n",
       "Q 44.09375 59.90625 40.109375 62.90625 \n",
       "Q 36.140625 65.921875 28.71875 65.921875 \n",
       "Q 24.65625 65.921875 20.015625 65.03125 \n",
       "Q 15.375 64.15625 9.8125 62.3125 \n",
       "L 9.8125 71.09375 \n",
       "Q 15.4375 72.65625 20.34375 73.4375 \n",
       "Q 25.25 74.21875 29.59375 74.21875 \n",
       "Q 40.828125 74.21875 47.359375 69.109375 \n",
       "Q 53.90625 64.015625 53.90625 55.328125 \n",
       "Q 53.90625 49.265625 50.4375 45.09375 \n",
       "Q 46.96875 40.921875 40.578125 39.3125 \n",
       "z\n",
       "\" id=\"DejaVuSans-51\"/>\n",
       "     </defs>\n",
       "     <g transform=\"translate(64.61116 184.364777)scale(0.1625 -0.1625)\">\n",
       "      <use xlink:href=\"#DejaVuSans-Oblique-113\"/>\n",
       "      <use transform=\"translate(63.476562 -16.40625)scale(0.7)\" xlink:href=\"#DejaVuSans-51\"/>\n",
       "     </g>\n",
       "    </g>\n",
       "   </g>\n",
       "  </g>\n",
       " </g>\n",
       " <defs>\n",
       "  <clipPath id=\"pce3ee3989f\">\n",
       "   <rect height=\"199.9844\" width=\"270.88796\" x=\"7.2\" y=\"7.2\"/>\n",
       "  </clipPath>\n",
       " </defs>\n",
       "</svg>\n"
      ],
      "text/plain": [
       "<Figure size 358.792x264.88 with 1 Axes>"
      ]
     },
     "execution_count": 5,
     "metadata": {},
     "output_type": "execute_result"
    }
   ],
   "source": [
    "def control_b(ancilla, qubits):\n",
    "\n",
    "    for ia in qubits:\n",
    "        circ.ch(ancilla, ia)\n",
    "\n",
    "circ = QuantumCircuit(4)\n",
    "control_b(0, [1, 2, 3])\n",
    "circ.draw(output='mpl')"
   ]
  },
  {
   "cell_type": "markdown",
   "metadata": {},
   "source": [
    "Finally, we construct our new Hadamard test:"
   ]
  },
  {
   "cell_type": "code",
   "execution_count": 6,
   "metadata": {},
   "outputs": [
    {
     "name": "stdout",
     "output_type": "stream",
     "text": [
      "      ┌───┐                                                              »\n",
      "q1_0: ┤ H ├────■────────■────────■──────■───────■────■───────■──────■────»\n",
      "      └───┘┌───┴───┐    │        │      │       │    │       │  ┌───┴───┐»\n",
      "q1_1: ─────┤ RY(1) ├────┼────────┼──────┼───■───┼────■───────■──┤ RY(1) ├»\n",
      "           └───────┘┌───┴───┐    │      │   │   │    │       │  └───────┘»\n",
      "q1_2: ──────────────┤ RY(1) ├────┼──────■───┼───■────┼───────┼───────────»\n",
      "                    └───────┘┌───┴───┐  │   │   │    │       │           »\n",
      "q1_3: ───────────────────────┤ RY(1) ├──┼───┼───┼────┼───■───┼───────────»\n",
      "                             └───────┘┌─┴─┐ │ ┌─┴─┐┌─┴─┐ │ ┌─┴─┐         »\n",
      "q1_4: ────────────────────────────────┤ X ├─■─┤ X ├┤ X ├─■─┤ X ├─────────»\n",
      "                                      └───┘   └───┘└───┘   └───┘         »\n",
      "«                                                                             »\n",
      "«q1_0: ────■────────■──────■───────■────■───────■──────■────────■────────■────»\n",
      "«          │        │      │       │    │       │  ┌───┴───┐    │        │    »\n",
      "«q1_1: ────┼────────┼──────┼───────┼────■───────■──┤ RY(1) ├────┼────────┼────»\n",
      "«      ┌───┴───┐    │      │       │    │       │  └───────┘┌───┴───┐    │    »\n",
      "«q1_2: ┤ RY(1) ├────┼──────┼───■───┼────┼───────┼───────────┤ RY(1) ├────┼────»\n",
      "«      └───────┘┌───┴───┐  │   │   │    │       │           └───────┘┌───┴───┐»\n",
      "«q1_3: ─────────┤ RY(1) ├──■───┼───■────┼───■───┼────────────────────┤ RY(1) ├»\n",
      "«               └───────┘┌─┴─┐ │ ┌─┴─┐┌─┴─┐ │ ┌─┴─┐                  └───────┘»\n",
      "«q1_4: ──────────────────┤ X ├─■─┤ X ├┤ X ├─■─┤ X ├───────────────────────────»\n",
      "«                        └───┘   └───┘└───┘   └───┘                           »\n",
      "«                     ┌───┐\n",
      "«q1_0: ──■────■────■──┤ H ├\n",
      "«      ┌─┴─┐  │    │  └───┘\n",
      "«q1_1: ┤ H ├──┼────┼───────\n",
      "«      └───┘┌─┴─┐  │       \n",
      "«q1_2: ─────┤ H ├──┼───────\n",
      "«           └───┘┌─┴─┐     \n",
      "«q1_3: ──────────┤ H ├─────\n",
      "«                └───┘     \n",
      "«q1_4: ────────────────────\n",
      "«                          \n"
     ]
    }
   ],
   "source": [
    "#Create the controlled Hadamard test, for calculating <psi|psi>\n",
    "\n",
    "def special_had_test(gate_type, qubits, ancilla_index, parameters, reg):\n",
    "\n",
    "    circ.h(ancilla_index)\n",
    "\n",
    "    control_fixed_ansatz(qubits, parameters, ancilla_index, reg)\n",
    "\n",
    "    for ty in range (0, len(gate_type)):\n",
    "        if (gate_type[ty] == 1):\n",
    "            circ.cz(ancilla_index, qubits[ty])\n",
    "\n",
    "\n",
    "    control_b(ancilla_index, qubits)\n",
    "    \n",
    "    circ.h(ancilla_index)\n",
    "\n",
    "q_reg = QuantumRegister(5)\n",
    "circ = QuantumCircuit(q_reg)\n",
    "special_had_test([[0, 0, 0], [0, 0, 1]], [1, 2, 3], 0, [[1, 1, 1], [1, 1, 1], [1, 1, 1]], q_reg)\n",
    "print(circ)"
   ]
  },
  {
   "cell_type": "markdown",
   "metadata": {},
   "source": [
    "This is for the specific implementation when all of our parameters are set to $1$, and the set of gates $A_n$ is simply `[0, 0, 0]`, and `[0, 0, 1]`, which corresponds to the identity matrix on all qubits, as well as the $Z$ matrix on the third qubit (with my \"code notation\").\n",
    "\n",
    "Now, we are ready to calculate the final cost function. This simply involves us taking the products of all combinations of the expectation outputs from the different circuits, multiplying by their respective coefficients, and arranging into the cost function that we discussed previously!"
   ]
  },
  {
   "cell_type": "code",
   "execution_count": 7,
   "metadata": {},
   "outputs": [],
   "source": [
    "#Implements the entire cost function on the quantum circuit\n",
    "\n",
    "def calculate_cost_function(parameters):\n",
    "    \n",
    "    global opt\n",
    "\n",
    "    overall_sum_1 = 0\n",
    "    \n",
    "    parameters = [parameters[0:3], parameters[3:6], parameters[6:9]]\n",
    "\n",
    "    for i in range(0, len(gate_set)):\n",
    "        for j in range(0, len(gate_set)):\n",
    "\n",
    "            global circ\n",
    "\n",
    "            qctl = QuantumRegister(5)\n",
    "            qc = ClassicalRegister(5)\n",
    "            circ = QuantumCircuit(qctl, qc)\n",
    "\n",
    "            backend = Aer.get_backend('statevector_simulator')\n",
    "            \n",
    "            multiply = coefficient_set[i]*coefficient_set[j]\n",
    "\n",
    "            had_test([gate_set[i], gate_set[j]], [1, 2, 3], 0, parameters)\n",
    "\n",
    "            job = execute(circ, backend)\n",
    "\n",
    "            result = job.result()\n",
    "            outputstate = np.real(result.get_statevector(circ, decimals=100))\n",
    "            o = outputstate\n",
    "\n",
    "            m_sum = 0\n",
    "            for l in range (0, len(o)):\n",
    "                if (l%2 == 1):\n",
    "                    n = o[l]**2\n",
    "                    m_sum+=n\n",
    "\n",
    "            overall_sum_1+=multiply*(1-(2*m_sum))\n",
    "\n",
    "    overall_sum_2 = 0\n",
    "\n",
    "    for i in range(0, len(gate_set)):\n",
    "        for j in range(0, len(gate_set)):\n",
    "\n",
    "            multiply = coefficient_set[i]*coefficient_set[j]\n",
    "            mult = 1\n",
    "\n",
    "            for extra in range(0, 2):\n",
    "\n",
    "                qctl = QuantumRegister(5)\n",
    "                qc = ClassicalRegister(5)\n",
    "                circ = QuantumCircuit(qctl, qc)\n",
    "\n",
    "                backend = Aer.get_backend('statevector_simulator')\n",
    "\n",
    "                if (extra == 0):\n",
    "                    special_had_test(gate_set[i], [1, 2, 3], 0, parameters, qctl)\n",
    "                if (extra == 1):\n",
    "                    special_had_test(gate_set[j], [1, 2, 3], 0, parameters, qctl)\n",
    "\n",
    "                job = execute(circ, backend)\n",
    "\n",
    "                result = job.result()\n",
    "                outputstate = np.real(result.get_statevector(circ, decimals=100))\n",
    "                o = outputstate\n",
    "\n",
    "                m_sum = 0\n",
    "                for l in range (0, len(o)):\n",
    "                    if (l%2 == 1):\n",
    "                        n = o[l]**2\n",
    "                        m_sum+=n\n",
    "                mult = mult*(1-(2*m_sum))\n",
    "\n",
    "            overall_sum_2+=multiply*mult\n",
    "            \n",
    "    print(1-float(overall_sum_2/overall_sum_1))\n",
    "\n",
    "    return 1-float(overall_sum_2/overall_sum_1)"
   ]
  },
  {
   "cell_type": "markdown",
   "metadata": {},
   "source": [
    "This code may look long and daunting, but it isn't! In this simulation, I'm taking a **numerical** approach, where I'm calculating the amplitude squared of each state corresponding to a measurement of the ancilla Hadamard test qubit in the $1$ state, then calculating $P(0) \\ - \\ P(1) \\ = \\ 1 \\ - \\ 2P(1)$ with that information. This is very exact, but is not realistic, as a real quantum device would have to sample the circuit many times to generate these probabilities (I'll discuss sampling later). In addition, this code is not completely optimized (it completes more evaluations of the quantum circuit than it has to), but this is the simplest way in which the code can be implemented, and I will be optimizing it in an update to thiss tutorial in the near future.\n",
    "\n",
    "The final step is to actually use this code to solve a real linear system. We will first be looking at the example:\n",
    "\n",
    "<br>\n",
    "\n",
    "\n",
    "\n",
    "$$A \\ = \\ 0.45 Z_3 \\ + \\ 0.55 \\mathbb{I}$$\n",
    "\n",
    "\n",
    "\n",
    "<br>\n",
    "\n",
    "In order to minimize the cost function, we use the COBYLA optimizer method, which we repeatedly applying. Our search space for parameters is determined by $\\frac{k}{1000} \\ k \\ \\in \\ \\{0, \\ 3000\\}$, which is initially chosen randomly. We will run the optimizer for $200$ steps, then terminate and apply the ansatz for our optimal parameters, to get our optimized state vector! In addition, we will compute some post-processing, to see if our algorithm actually works! In order to do this, we will apply $A$ to our optimal vector $|\\psi\\rangle_o$, normalize it, then calculate the inner product squared of this vector and the solution vector, $|b\\rangle$! We can put this all into code as:"
   ]
  },
  {
   "cell_type": "code",
   "execution_count": 8,
   "metadata": {
    "scrolled": true
   },
   "outputs": [
    {
     "name": "stdout",
     "output_type": "stream",
     "text": [
      "0.9990166421919021\n"
     ]
    },
    {
     "name": "stdout",
     "output_type": "stream",
     "text": [
      "0.9965015509934368\n",
      "0.9996701108316924\n"
     ]
    },
    {
     "name": "stdout",
     "output_type": "stream",
     "text": [
      "0.932635899472483\n",
      "0.8986099119362956\n",
      "0.8547724987487759\n"
     ]
    },
    {
     "name": "stdout",
     "output_type": "stream",
     "text": [
      "0.9485136185532054\n",
      "0.7215808207746438\n",
      "0.6187178699390441\n"
     ]
    },
    {
     "name": "stdout",
     "output_type": "stream",
     "text": [
      "0.7002619764543646\n",
      "0.6489930488234331\n"
     ]
    },
    {
     "name": "stdout",
     "output_type": "stream",
     "text": [
      "0.580163456950062\n",
      "0.8622222279075311\n",
      "0.6500488351655952\n"
     ]
    },
    {
     "name": "stdout",
     "output_type": "stream",
     "text": [
      "0.6408513868750509\n",
      "0.6253862008756934\n"
     ]
    },
    {
     "name": "stdout",
     "output_type": "stream",
     "text": [
      "0.6325369259963356\n",
      "0.6050081581801691\n",
      "0.6059226364152923\n"
     ]
    },
    {
     "name": "stdout",
     "output_type": "stream",
     "text": [
      "0.6033733257963421\n",
      "0.6020389124199282\n"
     ]
    },
    {
     "name": "stdout",
     "output_type": "stream",
     "text": [
      "0.5963082448739252\n",
      "0.5957485983403037\n"
     ]
    },
    {
     "name": "stdout",
     "output_type": "stream",
     "text": [
      "0.5899748623885064\n",
      "0.5595421539265689\n"
     ]
    },
    {
     "name": "stdout",
     "output_type": "stream",
     "text": [
      "0.5798051399056289\n",
      "0.5681996915621081\n",
      "0.5526208696137846\n"
     ]
    },
    {
     "name": "stdout",
     "output_type": "stream",
     "text": [
      "0.570123494832132\n",
      "0.5453736321948266\n"
     ]
    },
    {
     "name": "stdout",
     "output_type": "stream",
     "text": [
      "0.5404948717802773\n",
      "0.5332539514554788\n",
      "0.5394817992096225\n"
     ]
    },
    {
     "name": "stdout",
     "output_type": "stream",
     "text": [
      "0.5245830788266286\n",
      "0.5255306931035408\n"
     ]
    },
    {
     "name": "stdout",
     "output_type": "stream",
     "text": [
      "0.5230500482693646\n",
      "0.5444806681155077\n"
     ]
    },
    {
     "name": "stdout",
     "output_type": "stream",
     "text": [
      "0.5192241875315974\n",
      "0.5219249290016961\n",
      "0.5172467799307318\n"
     ]
    },
    {
     "name": "stdout",
     "output_type": "stream",
     "text": [
      "0.515078616509562\n",
      "0.5196103598870632\n",
      "0.5135685208753196\n"
     ]
    },
    {
     "name": "stdout",
     "output_type": "stream",
     "text": [
      "0.5063454328028314\n",
      "0.4962588965782516\n"
     ]
    },
    {
     "name": "stdout",
     "output_type": "stream",
     "text": [
      "0.4877499820098051\n",
      "0.4802030197851429\n",
      "0.4779777707868992\n"
     ]
    },
    {
     "name": "stdout",
     "output_type": "stream",
     "text": [
      "0.4784696550974131\n",
      "0.47427349998035306\n"
     ]
    },
    {
     "name": "stdout",
     "output_type": "stream",
     "text": [
      "0.47169274852237086\n",
      "0.4686028562654747\n"
     ]
    },
    {
     "name": "stdout",
     "output_type": "stream",
     "text": [
      "0.47139454492076427\n",
      "0.47932010823296123\n",
      "0.45196685442119156\n"
     ]
    },
    {
     "name": "stdout",
     "output_type": "stream",
     "text": [
      "0.4450226837974759\n",
      "0.4451819288949177\n"
     ]
    },
    {
     "name": "stdout",
     "output_type": "stream",
     "text": [
      "0.44149638982649464\n",
      "0.43023017666266405\n",
      "0.424683026177316\n"
     ]
    },
    {
     "name": "stdout",
     "output_type": "stream",
     "text": [
      "0.4227553498174904\n",
      "0.4199722326410815\n",
      "0.4208185383115033\n"
     ]
    },
    {
     "name": "stdout",
     "output_type": "stream",
     "text": [
      "0.42476919974633376\n",
      "0.4053856692578276\n"
     ]
    },
    {
     "name": "stdout",
     "output_type": "stream",
     "text": [
      "0.4028082689681275\n",
      "0.3956670090708947\n",
      "0.37954010015924633\n"
     ]
    },
    {
     "name": "stdout",
     "output_type": "stream",
     "text": [
      "0.37637769770554097\n",
      "0.38801262776762213\n"
     ]
    },
    {
     "name": "stdout",
     "output_type": "stream",
     "text": [
      "0.3752054230854176\n",
      "0.38456666868910505\n"
     ]
    },
    {
     "name": "stdout",
     "output_type": "stream",
     "text": [
      "0.37704386982614746\n",
      "0.36819495258754975\n"
     ]
    },
    {
     "name": "stdout",
     "output_type": "stream",
     "text": [
      "0.35634526187344395\n",
      "0.3442712087387819\n",
      "0.3429257070378259\n"
     ]
    },
    {
     "name": "stdout",
     "output_type": "stream",
     "text": [
      "0.36089642652829457\n",
      "0.3225626497915801\n"
     ]
    },
    {
     "name": "stdout",
     "output_type": "stream",
     "text": [
      "0.31212791431310294\n",
      "0.3203665826348163\n",
      "0.3071735384208484\n"
     ]
    },
    {
     "name": "stdout",
     "output_type": "stream",
     "text": [
      "0.3033351374826364\n",
      "0.32249944727575663\n"
     ]
    },
    {
     "name": "stdout",
     "output_type": "stream",
     "text": [
      "0.2789552878595737\n",
      "0.3175452989372679\n",
      "0.2711151403266393\n"
     ]
    },
    {
     "name": "stdout",
     "output_type": "stream",
     "text": [
      "0.2446115304197961\n",
      "0.2952405095343127\n",
      "0.24596964641877128\n"
     ]
    },
    {
     "name": "stdout",
     "output_type": "stream",
     "text": [
      "0.25995490047292935\n",
      "0.24642622582231222\n",
      "0.21857744786941313\n"
     ]
    },
    {
     "name": "stdout",
     "output_type": "stream",
     "text": [
      "0.3005936049587423\n",
      "0.2421749367551823\n"
     ]
    },
    {
     "name": "stdout",
     "output_type": "stream",
     "text": [
      "0.21598082848307976\n",
      "0.22038648076217482\n",
      "0.2587125927513536\n"
     ]
    },
    {
     "name": "stdout",
     "output_type": "stream",
     "text": [
      "0.24300783049595942\n",
      "0.21506604951027775\n"
     ]
    },
    {
     "name": "stdout",
     "output_type": "stream",
     "text": [
      "0.19871909591955494\n",
      "0.20722064348700964\n",
      "0.19488968518587957\n"
     ]
    },
    {
     "name": "stdout",
     "output_type": "stream",
     "text": [
      "0.17717229382557642\n",
      "0.18182098044720085\n"
     ]
    },
    {
     "name": "stdout",
     "output_type": "stream",
     "text": [
      "0.17606931080548516\n",
      "0.16666060027223817\n",
      "0.15840073997079185\n"
     ]
    },
    {
     "name": "stdout",
     "output_type": "stream",
     "text": [
      "0.15819833977438824\n",
      "0.1559446860935566\n"
     ]
    },
    {
     "name": "stdout",
     "output_type": "stream",
     "text": [
      "0.1797802864098229\n",
      "0.15062929423329707\n",
      "0.15875902665278885\n"
     ]
    },
    {
     "name": "stdout",
     "output_type": "stream",
     "text": [
      "0.15376585773328444\n",
      "0.15084584955147062\n",
      "0.14891137928515008\n"
     ]
    },
    {
     "name": "stdout",
     "output_type": "stream",
     "text": [
      "0.15016017830509798\n",
      "0.15636220569312287\n",
      "0.15969112031380828\n"
     ]
    },
    {
     "name": "stdout",
     "output_type": "stream",
     "text": [
      "0.14850246878113438\n",
      "0.15653186006636677\n"
     ]
    },
    {
     "name": "stdout",
     "output_type": "stream",
     "text": [
      "0.13505644720293208\n",
      "0.13874933443527226\n",
      "0.13546250477462396\n"
     ]
    },
    {
     "name": "stdout",
     "output_type": "stream",
     "text": [
      "0.13065235903016392\n",
      "0.12982725840012965\n"
     ]
    },
    {
     "name": "stdout",
     "output_type": "stream",
     "text": [
      "0.12840079361948664\n",
      "0.1263189293812369\n",
      "0.1270248773502095\n"
     ]
    },
    {
     "name": "stdout",
     "output_type": "stream",
     "text": [
      "0.12171196946577123\n",
      "0.12493753492330895\n"
     ]
    },
    {
     "name": "stdout",
     "output_type": "stream",
     "text": [
      "0.1319159246553312\n",
      "0.11111722095153498\n",
      "0.10709422191657791\n"
     ]
    },
    {
     "name": "stdout",
     "output_type": "stream",
     "text": [
      "0.10825799969177075\n",
      "0.1067771015667186\n"
     ]
    },
    {
     "name": "stdout",
     "output_type": "stream",
     "text": [
      "0.11655300526528323\n",
      "0.10668530873599769\n",
      "0.10695180352675104\n"
     ]
    },
    {
     "name": "stdout",
     "output_type": "stream",
     "text": [
      "0.11066570299269862\n",
      "0.09804082405677506\n",
      "0.09526951828256902\n"
     ]
    },
    {
     "name": "stdout",
     "output_type": "stream",
     "text": [
      "0.09936287305245028\n",
      "0.0873241233193014\n"
     ]
    },
    {
     "name": "stdout",
     "output_type": "stream",
     "text": [
      "0.08334036258445865\n",
      "0.08975120802043113\n"
     ]
    },
    {
     "name": "stdout",
     "output_type": "stream",
     "text": [
      "0.08284536724369873\n",
      "0.08192710492896471\n",
      "0.08408229387809896\n",
      "0.08251197021571344\n"
     ]
    },
    {
     "name": "stdout",
     "output_type": "stream",
     "text": [
      "0.08165334639975275\n",
      "0.08404429426274251\n"
     ]
    },
    {
     "name": "stdout",
     "output_type": "stream",
     "text": [
      "0.07932149231434604\n",
      "0.07443373117694652\n"
     ]
    },
    {
     "name": "stdout",
     "output_type": "stream",
     "text": [
      "0.07102156561688966\n",
      "0.07439748489968656\n"
     ]
    },
    {
     "name": "stdout",
     "output_type": "stream",
     "text": [
      "0.07001699872707601\n",
      "0.06333211155335527\n"
     ]
    },
    {
     "name": "stdout",
     "output_type": "stream",
     "text": [
      "0.06404959846678748\n",
      "0.0634849958932805\n"
     ]
    },
    {
     "name": "stdout",
     "output_type": "stream",
     "text": [
      "0.06434150517697068\n",
      "0.06367014384946268\n",
      "0.08071527586982419\n"
     ]
    },
    {
     "name": "stdout",
     "output_type": "stream",
     "text": [
      "0.0639526118916709\n",
      "0.06552519675340174\n",
      "0.06316934966324783\n"
     ]
    },
    {
     "name": "stdout",
     "output_type": "stream",
     "text": [
      "0.060596710121962216\n",
      "0.05934471860013357\n"
     ]
    },
    {
     "name": "stdout",
     "output_type": "stream",
     "text": [
      "0.057293986454527435\n",
      "0.05669513349726374\n",
      "0.05802787476685245\n"
     ]
    },
    {
     "name": "stdout",
     "output_type": "stream",
     "text": [
      "0.057133102920663315\n",
      "0.05471859176227356\n"
     ]
    },
    {
     "name": "stdout",
     "output_type": "stream",
     "text": [
      "0.051442713871287515\n",
      "0.05091382625039664\n",
      "0.05077890638045668\n"
     ]
    },
    {
     "name": "stdout",
     "output_type": "stream",
     "text": [
      "0.04936866044478139\n",
      "0.045689362169563874\n",
      "0.04730663454317385\n"
     ]
    },
    {
     "name": "stdout",
     "output_type": "stream",
     "text": [
      "0.044826838391975654\n",
      "0.04333435801719321\n"
     ]
    },
    {
     "name": "stdout",
     "output_type": "stream",
     "text": [
      "0.04371599755380018\n",
      "0.04340225676561449\n"
     ]
    },
    {
     "name": "stdout",
     "output_type": "stream",
     "text": [
      "0.0430548976077868\n",
      "0.04294663381309205\n",
      "0.04263609528937273\n"
     ]
    },
    {
     "name": "stdout",
     "output_type": "stream",
     "text": [
      "0.04611749573661428\n",
      "0.04540539877732919\n"
     ]
    },
    {
     "name": "stdout",
     "output_type": "stream",
     "text": [
      "0.04070303743352388\n",
      "0.04335754154501903\n",
      "0.04106491328615214\n"
     ]
    },
    {
     "name": "stdout",
     "output_type": "stream",
     "text": [
      "0.042630781959786423\n",
      "0.03897049084480031\n"
     ]
    },
    {
     "name": "stdout",
     "output_type": "stream",
     "text": [
      "0.0392903580192403\n",
      "0.039052531594178985\n",
      "0.03935326069779077\n"
     ]
    },
    {
     "name": "stdout",
     "output_type": "stream",
     "text": [
      "0.03860312244955377\n",
      "0.037819979553680994\n"
     ]
    },
    {
     "name": "stdout",
     "output_type": "stream",
     "text": [
      "0.03907631935755662\n",
      "0.03804224610525431\n",
      "     fun: 0.037819979553680994\n",
      "   maxcv: 0.0\n",
      " message: 'Maximum number of function evaluations has been exceeded.'\n",
      "    nfev: 200\n",
      "  status: 2\n",
      " success: False\n",
      "       x: array([3.05732286, 2.01792135, 0.78063908, 1.84582464, 1.96232883,\n",
      "       0.76304985, 2.57688678, 2.08336564, 2.91921872])\n",
      "(0.9621800204661771-0j)\n"
     ]
    }
   ],
   "source": [
    "coefficient_set = [0.55, 0.45]\n",
    "gate_set = [[0, 0, 0], [0, 0, 1]]\n",
    "\n",
    "out = minimize(calculate_cost_function, x0=[float(random.randint(0,3000))/1000 for i in range(0, 9)], method=\"COBYLA\", options={'maxiter':200})\n",
    "print(out)\n",
    "\n",
    "out_f = [out['x'][0:3], out['x'][3:6], out['x'][6:9]]\n",
    "\n",
    "circ = QuantumCircuit(3, 3)\n",
    "apply_fixed_ansatz([0, 1, 2], out_f)\n",
    "\n",
    "backend = Aer.get_backend('statevector_simulator')\n",
    "\n",
    "job = execute(circ, backend)\n",
    "\n",
    "result = job.result()\n",
    "o = result.get_statevector(circ, decimals=10)\n",
    "\n",
    "a1 = coefficient_set[1]*np.array([[1,0,0,0,0,0,0,0], [0,1,0,0,0,0,0,0], [0,0,1,0,0,0,0,0], [0,0,0,1,0,0,0,0], [0,0,0,0,-1,0,0,0], [0,0,0,0,0,-1,0,0], [0,0,0,0,0,0,-1,0], [0,0,0,0,0,0,0,-1]])\n",
    "a2 = coefficient_set[0]*np.array([[1,0,0,0,0,0,0,0], [0,1,0,0,0,0,0,0], [0,0,1,0,0,0,0,0], [0,0,0,1,0,0,0,0], [0,0,0,0,1,0,0,0], [0,0,0,0,0,1,0,0], [0,0,0,0,0,0,1,0], [0,0,0,0,0,0,0,1]])\n",
    "a3 = np.add(a1, a2)\n",
    "\n",
    "b = np.array([float(1/np.sqrt(8)),float(1/np.sqrt(8)),float(1/np.sqrt(8)),float(1/np.sqrt(8)),float(1/np.sqrt(8)),float(1/np.sqrt(8)),float(1/np.sqrt(8)),float(1/np.sqrt(8))])\n",
    "\n",
    "print((b.dot(a3.dot(o)/(np.linalg.norm(a3.dot(o)))))**2)"
   ]
  },
  {
   "cell_type": "markdown",
   "metadata": {},
   "source": [
    "As you can see, our cost function has acheived a fairly low value of `0.03273673575407443`, and when we calculate our classical cost function, we get `0.96776862579723`, which agrees perfectly with what we measured, the vectors $|\\psi\\rangle_o$ and $|b\\rangle$ are very similar!\n",
    "\n",
    "Let's do another test! This time, we will keep $|b\\rangle$ the same, but we will have:\n",
    "\n",
    "<br>\n",
    "\n",
    "\n",
    "\n",
    "$$A \\ = \\ 0.55 \\mathbb{I} \\ + \\ 0.225 Z_2 \\ + \\ 0.225 Z_3$$\n",
    "\n",
    "\n",
    "\n",
    "Again, we run our optimization code:"
   ]
  },
  {
   "cell_type": "code",
   "execution_count": 9,
   "metadata": {
    "scrolled": true
   },
   "outputs": [
    {
     "name": "stdout",
     "output_type": "stream",
     "text": [
      "0.9912299202760407\n"
     ]
    },
    {
     "name": "stdout",
     "output_type": "stream",
     "text": [
      "0.9841844766392391\n"
     ]
    },
    {
     "name": "stdout",
     "output_type": "stream",
     "text": [
      "0.9785652761797516\n"
     ]
    },
    {
     "name": "stdout",
     "output_type": "stream",
     "text": [
      "0.9973148332332217\n"
     ]
    },
    {
     "name": "stdout",
     "output_type": "stream",
     "text": [
      "0.9725785537227908\n"
     ]
    },
    {
     "name": "stdout",
     "output_type": "stream",
     "text": [
      "0.9874527714124233\n"
     ]
    },
    {
     "name": "stdout",
     "output_type": "stream",
     "text": [
      "0.993903302660773\n"
     ]
    },
    {
     "name": "stdout",
     "output_type": "stream",
     "text": [
      "0.7825051314898656\n"
     ]
    },
    {
     "name": "stdout",
     "output_type": "stream",
     "text": [
      "0.7414838450202113\n"
     ]
    },
    {
     "name": "stdout",
     "output_type": "stream",
     "text": [
      "0.9971927692902305\n"
     ]
    },
    {
     "name": "stdout",
     "output_type": "stream",
     "text": [
      "0.3251991403052451\n"
     ]
    },
    {
     "name": "stdout",
     "output_type": "stream",
     "text": [
      "0.3967684857508711\n"
     ]
    },
    {
     "name": "stdout",
     "output_type": "stream",
     "text": [
      "0.44123976373784657\n"
     ]
    },
    {
     "name": "stdout",
     "output_type": "stream",
     "text": [
      "0.5080427124849466\n"
     ]
    },
    {
     "name": "stdout",
     "output_type": "stream",
     "text": [
      "0.4429611123206587\n"
     ]
    },
    {
     "name": "stdout",
     "output_type": "stream",
     "text": [
      "0.28884856222169397\n"
     ]
    },
    {
     "name": "stdout",
     "output_type": "stream",
     "text": [
      "0.4379631458632136\n"
     ]
    },
    {
     "name": "stdout",
     "output_type": "stream",
     "text": [
      "0.45635951752648096\n"
     ]
    },
    {
     "name": "stdout",
     "output_type": "stream",
     "text": [
      "0.3882564588492131\n"
     ]
    },
    {
     "name": "stdout",
     "output_type": "stream",
     "text": [
      "0.4663041380152708\n"
     ]
    },
    {
     "name": "stdout",
     "output_type": "stream",
     "text": [
      "0.3245054744241972\n"
     ]
    },
    {
     "name": "stdout",
     "output_type": "stream",
     "text": [
      "0.4663814943184055\n"
     ]
    },
    {
     "name": "stdout",
     "output_type": "stream",
     "text": [
      "0.4188455870764036\n"
     ]
    },
    {
     "name": "stdout",
     "output_type": "stream",
     "text": [
      "0.29645710676891956\n"
     ]
    },
    {
     "name": "stdout",
     "output_type": "stream",
     "text": [
      "0.208565821611294\n"
     ]
    },
    {
     "name": "stdout",
     "output_type": "stream",
     "text": [
      "0.22526862436398065\n"
     ]
    },
    {
     "name": "stdout",
     "output_type": "stream",
     "text": [
      "0.2925441798754512\n"
     ]
    },
    {
     "name": "stdout",
     "output_type": "stream",
     "text": [
      "0.2376320143650571\n"
     ]
    },
    {
     "name": "stdout",
     "output_type": "stream",
     "text": [
      "0.4253585381998438\n"
     ]
    },
    {
     "name": "stdout",
     "output_type": "stream",
     "text": [
      "0.19677026058830283\n"
     ]
    },
    {
     "name": "stdout",
     "output_type": "stream",
     "text": [
      "0.2958312200139843\n"
     ]
    },
    {
     "name": "stdout",
     "output_type": "stream",
     "text": [
      "0.2346586463925553\n"
     ]
    },
    {
     "name": "stdout",
     "output_type": "stream",
     "text": [
      "0.24997445805554042\n"
     ]
    },
    {
     "name": "stdout",
     "output_type": "stream",
     "text": [
      "0.25828979339919245\n"
     ]
    },
    {
     "name": "stdout",
     "output_type": "stream",
     "text": [
      "0.19659693839556747\n"
     ]
    },
    {
     "name": "stdout",
     "output_type": "stream",
     "text": [
      "0.22169838396745745\n"
     ]
    },
    {
     "name": "stdout",
     "output_type": "stream",
     "text": [
      "0.2005648920829447\n"
     ]
    },
    {
     "name": "stdout",
     "output_type": "stream",
     "text": [
      "0.23583674354131967\n"
     ]
    },
    {
     "name": "stdout",
     "output_type": "stream",
     "text": [
      "0.20553073552782652\n"
     ]
    },
    {
     "name": "stdout",
     "output_type": "stream",
     "text": [
      "0.19544435340837285\n"
     ]
    },
    {
     "name": "stdout",
     "output_type": "stream",
     "text": [
      "0.18539290586007562\n"
     ]
    },
    {
     "name": "stdout",
     "output_type": "stream",
     "text": [
      "0.18703099843542992\n"
     ]
    },
    {
     "name": "stdout",
     "output_type": "stream",
     "text": [
      "0.1961182521974979\n"
     ]
    },
    {
     "name": "stdout",
     "output_type": "stream",
     "text": [
      "0.2032135566070259\n"
     ]
    },
    {
     "name": "stdout",
     "output_type": "stream",
     "text": [
      "0.15867221047291058\n"
     ]
    },
    {
     "name": "stdout",
     "output_type": "stream",
     "text": [
      "0.16275987251880797\n"
     ]
    },
    {
     "name": "stdout",
     "output_type": "stream",
     "text": [
      "0.15804798662283503\n"
     ]
    },
    {
     "name": "stdout",
     "output_type": "stream",
     "text": [
      "0.1588111208014179\n"
     ]
    },
    {
     "name": "stdout",
     "output_type": "stream",
     "text": [
      "0.15758633980610814\n"
     ]
    },
    {
     "name": "stdout",
     "output_type": "stream",
     "text": [
      "0.15596584924846835\n"
     ]
    },
    {
     "name": "stdout",
     "output_type": "stream",
     "text": [
      "0.15360734793345543\n"
     ]
    },
    {
     "name": "stdout",
     "output_type": "stream",
     "text": [
      "0.15096280763021264\n"
     ]
    },
    {
     "name": "stdout",
     "output_type": "stream",
     "text": [
      "0.15428847132992785\n"
     ]
    },
    {
     "name": "stdout",
     "output_type": "stream",
     "text": [
      "0.14839044605963725\n"
     ]
    },
    {
     "name": "stdout",
     "output_type": "stream",
     "text": [
      "0.14472968699783972\n"
     ]
    },
    {
     "name": "stdout",
     "output_type": "stream",
     "text": [
      "0.14582555096736172\n"
     ]
    },
    {
     "name": "stdout",
     "output_type": "stream",
     "text": [
      "0.1493529745629032\n"
     ]
    },
    {
     "name": "stdout",
     "output_type": "stream",
     "text": [
      "0.1365532670469758\n"
     ]
    },
    {
     "name": "stdout",
     "output_type": "stream",
     "text": [
      "0.13640480998271098\n"
     ]
    },
    {
     "name": "stdout",
     "output_type": "stream",
     "text": [
      "0.13750603106190262\n"
     ]
    },
    {
     "name": "stdout",
     "output_type": "stream",
     "text": [
      "0.1477556892309302\n"
     ]
    },
    {
     "name": "stdout",
     "output_type": "stream",
     "text": [
      "0.1380108466726463\n"
     ]
    },
    {
     "name": "stdout",
     "output_type": "stream",
     "text": [
      "0.1325583717889418\n"
     ]
    },
    {
     "name": "stdout",
     "output_type": "stream",
     "text": [
      "0.12531668815944996\n"
     ]
    },
    {
     "name": "stdout",
     "output_type": "stream",
     "text": [
      "0.133595179805565\n"
     ]
    },
    {
     "name": "stdout",
     "output_type": "stream",
     "text": [
      "0.12524786575861135\n"
     ]
    },
    {
     "name": "stdout",
     "output_type": "stream",
     "text": [
      "0.12267004185870478\n"
     ]
    },
    {
     "name": "stdout",
     "output_type": "stream",
     "text": [
      "0.1277047658274867\n"
     ]
    },
    {
     "name": "stdout",
     "output_type": "stream",
     "text": [
      "0.11431511563652064\n"
     ]
    },
    {
     "name": "stdout",
     "output_type": "stream",
     "text": [
      "0.11499894719802972\n"
     ]
    },
    {
     "name": "stdout",
     "output_type": "stream",
     "text": [
      "0.11384332999525071\n"
     ]
    },
    {
     "name": "stdout",
     "output_type": "stream",
     "text": [
      "0.11783429714887017\n"
     ]
    },
    {
     "name": "stdout",
     "output_type": "stream",
     "text": [
      "0.11376141367208681\n"
     ]
    },
    {
     "name": "stdout",
     "output_type": "stream",
     "text": [
      "0.11337935010494138\n"
     ]
    },
    {
     "name": "stdout",
     "output_type": "stream",
     "text": [
      "0.1134812690165925\n"
     ]
    },
    {
     "name": "stdout",
     "output_type": "stream",
     "text": [
      "0.12026076459877832\n"
     ]
    },
    {
     "name": "stdout",
     "output_type": "stream",
     "text": [
      "0.11716990707867081\n"
     ]
    },
    {
     "name": "stdout",
     "output_type": "stream",
     "text": [
      "0.1077378212767095\n"
     ]
    },
    {
     "name": "stdout",
     "output_type": "stream",
     "text": [
      "0.11548740632872656\n"
     ]
    },
    {
     "name": "stdout",
     "output_type": "stream",
     "text": [
      "0.10661004401219576\n"
     ]
    },
    {
     "name": "stdout",
     "output_type": "stream",
     "text": [
      "0.10945704608543638\n"
     ]
    },
    {
     "name": "stdout",
     "output_type": "stream",
     "text": [
      "0.10343242035995281\n"
     ]
    },
    {
     "name": "stdout",
     "output_type": "stream",
     "text": [
      "0.10026942643421399\n"
     ]
    },
    {
     "name": "stdout",
     "output_type": "stream",
     "text": [
      "0.09561886085863203\n"
     ]
    },
    {
     "name": "stdout",
     "output_type": "stream",
     "text": [
      "0.09124588538607792\n"
     ]
    },
    {
     "name": "stdout",
     "output_type": "stream",
     "text": [
      "0.08751544916359821\n"
     ]
    },
    {
     "name": "stdout",
     "output_type": "stream",
     "text": [
      "0.08380998423690411\n"
     ]
    },
    {
     "name": "stdout",
     "output_type": "stream",
     "text": [
      "0.07998163793856383\n"
     ]
    },
    {
     "name": "stdout",
     "output_type": "stream",
     "text": [
      "0.0771896207895737\n"
     ]
    },
    {
     "name": "stdout",
     "output_type": "stream",
     "text": [
      "0.07557310946106421\n"
     ]
    },
    {
     "name": "stdout",
     "output_type": "stream",
     "text": [
      "0.07650546266095803\n"
     ]
    },
    {
     "name": "stdout",
     "output_type": "stream",
     "text": [
      "0.07579873281039329\n"
     ]
    },
    {
     "name": "stdout",
     "output_type": "stream",
     "text": [
      "0.07584934851606462\n"
     ]
    },
    {
     "name": "stdout",
     "output_type": "stream",
     "text": [
      "0.07586965709248106\n"
     ]
    },
    {
     "name": "stdout",
     "output_type": "stream",
     "text": [
      "0.08043147769995906\n"
     ]
    },
    {
     "name": "stdout",
     "output_type": "stream",
     "text": [
      "0.07716002582310866\n"
     ]
    },
    {
     "name": "stdout",
     "output_type": "stream",
     "text": [
      "0.0705559292878487\n"
     ]
    },
    {
     "name": "stdout",
     "output_type": "stream",
     "text": [
      "0.0715238451205985\n"
     ]
    },
    {
     "name": "stdout",
     "output_type": "stream",
     "text": [
      "0.07111285962450042\n"
     ]
    },
    {
     "name": "stdout",
     "output_type": "stream",
     "text": [
      "0.06918286840472399\n"
     ]
    },
    {
     "name": "stdout",
     "output_type": "stream",
     "text": [
      "0.06560313171410237\n"
     ]
    },
    {
     "name": "stdout",
     "output_type": "stream",
     "text": [
      "0.06837920732908298\n"
     ]
    },
    {
     "name": "stdout",
     "output_type": "stream",
     "text": [
      "0.06431282975316122\n"
     ]
    },
    {
     "name": "stdout",
     "output_type": "stream",
     "text": [
      "0.06125034156829634\n"
     ]
    },
    {
     "name": "stdout",
     "output_type": "stream",
     "text": [
      "0.05908133467920429\n"
     ]
    },
    {
     "name": "stdout",
     "output_type": "stream",
     "text": [
      "0.058685836558926785\n"
     ]
    },
    {
     "name": "stdout",
     "output_type": "stream",
     "text": [
      "0.05961103768674758\n"
     ]
    },
    {
     "name": "stdout",
     "output_type": "stream",
     "text": [
      "0.05391581684177971\n"
     ]
    },
    {
     "name": "stdout",
     "output_type": "stream",
     "text": [
      "0.05007535265526997\n"
     ]
    },
    {
     "name": "stdout",
     "output_type": "stream",
     "text": [
      "0.04592334711192769\n"
     ]
    },
    {
     "name": "stdout",
     "output_type": "stream",
     "text": [
      "0.04616855124924002\n"
     ]
    },
    {
     "name": "stdout",
     "output_type": "stream",
     "text": [
      "0.04681756962388661\n"
     ]
    },
    {
     "name": "stdout",
     "output_type": "stream",
     "text": [
      "0.04222413762025279\n"
     ]
    },
    {
     "name": "stdout",
     "output_type": "stream",
     "text": [
      "0.04117599944319261\n"
     ]
    },
    {
     "name": "stdout",
     "output_type": "stream",
     "text": [
      "0.04117436310319644\n"
     ]
    },
    {
     "name": "stdout",
     "output_type": "stream",
     "text": [
      "0.03885494086085728\n"
     ]
    },
    {
     "name": "stdout",
     "output_type": "stream",
     "text": [
      "0.03947359411473328\n"
     ]
    },
    {
     "name": "stdout",
     "output_type": "stream",
     "text": [
      "0.039423268140997614\n"
     ]
    },
    {
     "name": "stdout",
     "output_type": "stream",
     "text": [
      "0.03767801808565341\n"
     ]
    },
    {
     "name": "stdout",
     "output_type": "stream",
     "text": [
      "0.036639236000380104\n"
     ]
    },
    {
     "name": "stdout",
     "output_type": "stream",
     "text": [
      "0.03647657196558707\n"
     ]
    },
    {
     "name": "stdout",
     "output_type": "stream",
     "text": [
      "0.040549057373157726\n"
     ]
    },
    {
     "name": "stdout",
     "output_type": "stream",
     "text": [
      "0.031077253526040738\n"
     ]
    },
    {
     "name": "stdout",
     "output_type": "stream",
     "text": [
      "0.030013777194739633\n"
     ]
    },
    {
     "name": "stdout",
     "output_type": "stream",
     "text": [
      "0.03256737920834296\n"
     ]
    },
    {
     "name": "stdout",
     "output_type": "stream",
     "text": [
      "0.03125367869568507\n"
     ]
    },
    {
     "name": "stdout",
     "output_type": "stream",
     "text": [
      "0.02788695703641053\n"
     ]
    },
    {
     "name": "stdout",
     "output_type": "stream",
     "text": [
      "0.02764915210867891\n"
     ]
    },
    {
     "name": "stdout",
     "output_type": "stream",
     "text": [
      "0.02645002022848708\n"
     ]
    },
    {
     "name": "stdout",
     "output_type": "stream",
     "text": [
      "0.03034642982387936\n"
     ]
    },
    {
     "name": "stdout",
     "output_type": "stream",
     "text": [
      "0.023425369398839768\n"
     ]
    },
    {
     "name": "stdout",
     "output_type": "stream",
     "text": [
      "0.02287880685099508\n"
     ]
    },
    {
     "name": "stdout",
     "output_type": "stream",
     "text": [
      "0.023946468017155165\n"
     ]
    },
    {
     "name": "stdout",
     "output_type": "stream",
     "text": [
      "0.028218916051751863\n"
     ]
    },
    {
     "name": "stdout",
     "output_type": "stream",
     "text": [
      "0.0203410938593398\n"
     ]
    },
    {
     "name": "stdout",
     "output_type": "stream",
     "text": [
      "0.02048313031994009\n"
     ]
    },
    {
     "name": "stdout",
     "output_type": "stream",
     "text": [
      "0.020446944163797\n"
     ]
    },
    {
     "name": "stdout",
     "output_type": "stream",
     "text": [
      "0.01953945625207798\n"
     ]
    },
    {
     "name": "stdout",
     "output_type": "stream",
     "text": [
      "0.019584591789761574\n"
     ]
    },
    {
     "name": "stdout",
     "output_type": "stream",
     "text": [
      "0.019494039832990362\n"
     ]
    },
    {
     "name": "stdout",
     "output_type": "stream",
     "text": [
      "0.01790476411648989\n"
     ]
    },
    {
     "name": "stdout",
     "output_type": "stream",
     "text": [
      "0.016273982019377242\n"
     ]
    },
    {
     "name": "stdout",
     "output_type": "stream",
     "text": [
      "0.01677804608452582\n"
     ]
    },
    {
     "name": "stdout",
     "output_type": "stream",
     "text": [
      "0.016020381022000763\n"
     ]
    },
    {
     "name": "stdout",
     "output_type": "stream",
     "text": [
      "0.015086629694485265\n"
     ]
    },
    {
     "name": "stdout",
     "output_type": "stream",
     "text": [
      "0.015211926080782034\n"
     ]
    },
    {
     "name": "stdout",
     "output_type": "stream",
     "text": [
      "0.015715460346243715\n"
     ]
    },
    {
     "name": "stdout",
     "output_type": "stream",
     "text": [
      "0.01573136730424496\n"
     ]
    },
    {
     "name": "stdout",
     "output_type": "stream",
     "text": [
      "0.015227894967827726\n"
     ]
    },
    {
     "name": "stdout",
     "output_type": "stream",
     "text": [
      "0.01663308330306157\n"
     ]
    },
    {
     "name": "stdout",
     "output_type": "stream",
     "text": [
      "0.014988150918819998\n"
     ]
    },
    {
     "name": "stdout",
     "output_type": "stream",
     "text": [
      "0.013832611308579379\n"
     ]
    },
    {
     "name": "stdout",
     "output_type": "stream",
     "text": [
      "0.012858140013493724\n"
     ]
    },
    {
     "name": "stdout",
     "output_type": "stream",
     "text": [
      "0.012739810610109759\n"
     ]
    },
    {
     "name": "stdout",
     "output_type": "stream",
     "text": [
      "0.012284122485398896\n"
     ]
    },
    {
     "name": "stdout",
     "output_type": "stream",
     "text": [
      "0.01211160380155285\n"
     ]
    },
    {
     "name": "stdout",
     "output_type": "stream",
     "text": [
      "0.012119627802044453\n"
     ]
    },
    {
     "name": "stdout",
     "output_type": "stream",
     "text": [
      "0.011109448792641752\n"
     ]
    },
    {
     "name": "stdout",
     "output_type": "stream",
     "text": [
      "0.013215293221355284\n"
     ]
    },
    {
     "name": "stdout",
     "output_type": "stream",
     "text": [
      "0.011468286139951211\n"
     ]
    },
    {
     "name": "stdout",
     "output_type": "stream",
     "text": [
      "0.010833638829405023\n"
     ]
    },
    {
     "name": "stdout",
     "output_type": "stream",
     "text": [
      "0.010536465451577381\n"
     ]
    },
    {
     "name": "stdout",
     "output_type": "stream",
     "text": [
      "0.010910488004260088\n"
     ]
    },
    {
     "name": "stdout",
     "output_type": "stream",
     "text": [
      "0.010322690816199853\n"
     ]
    },
    {
     "name": "stdout",
     "output_type": "stream",
     "text": [
      "0.010019088272331667\n"
     ]
    },
    {
     "name": "stdout",
     "output_type": "stream",
     "text": [
      "0.010147752776000885\n"
     ]
    },
    {
     "name": "stdout",
     "output_type": "stream",
     "text": [
      "0.010219011929633592\n"
     ]
    },
    {
     "name": "stdout",
     "output_type": "stream",
     "text": [
      "0.010357132078887332\n"
     ]
    },
    {
     "name": "stdout",
     "output_type": "stream",
     "text": [
      "0.010104788723956037\n"
     ]
    },
    {
     "name": "stdout",
     "output_type": "stream",
     "text": [
      "0.010342528178762134\n"
     ]
    },
    {
     "name": "stdout",
     "output_type": "stream",
     "text": [
      "0.010386583323514054\n"
     ]
    },
    {
     "name": "stdout",
     "output_type": "stream",
     "text": [
      "0.009298709140718953\n"
     ]
    },
    {
     "name": "stdout",
     "output_type": "stream",
     "text": [
      "0.008862913589486321\n"
     ]
    },
    {
     "name": "stdout",
     "output_type": "stream",
     "text": [
      "0.009079811599400411\n"
     ]
    },
    {
     "name": "stdout",
     "output_type": "stream",
     "text": [
      "0.008943835179476944\n"
     ]
    },
    {
     "name": "stdout",
     "output_type": "stream",
     "text": [
      "0.008480797634796033\n"
     ]
    },
    {
     "name": "stdout",
     "output_type": "stream",
     "text": [
      "0.008349245949364814\n"
     ]
    },
    {
     "name": "stdout",
     "output_type": "stream",
     "text": [
      "0.008281160071053506\n"
     ]
    },
    {
     "name": "stdout",
     "output_type": "stream",
     "text": [
      "0.00797865611021209\n"
     ]
    },
    {
     "name": "stdout",
     "output_type": "stream",
     "text": [
      "0.007954237824012833\n"
     ]
    },
    {
     "name": "stdout",
     "output_type": "stream",
     "text": [
      "0.007903410923261744\n"
     ]
    },
    {
     "name": "stdout",
     "output_type": "stream",
     "text": [
      "0.007895486381371497\n"
     ]
    },
    {
     "name": "stdout",
     "output_type": "stream",
     "text": [
      "0.008407351668361152\n"
     ]
    },
    {
     "name": "stdout",
     "output_type": "stream",
     "text": [
      "0.007226131598962571\n"
     ]
    },
    {
     "name": "stdout",
     "output_type": "stream",
     "text": [
      "0.00710296750169892\n"
     ]
    },
    {
     "name": "stdout",
     "output_type": "stream",
     "text": [
      "0.007237387424880337\n"
     ]
    },
    {
     "name": "stdout",
     "output_type": "stream",
     "text": [
      "0.0072255766556246215\n"
     ]
    },
    {
     "name": "stdout",
     "output_type": "stream",
     "text": [
      "0.007071209234163267\n"
     ]
    },
    {
     "name": "stdout",
     "output_type": "stream",
     "text": [
      "0.007119196383688853\n"
     ]
    },
    {
     "name": "stdout",
     "output_type": "stream",
     "text": [
      "0.007029977997850323\n"
     ]
    },
    {
     "name": "stdout",
     "output_type": "stream",
     "text": [
      "0.0068314276812627694\n"
     ]
    },
    {
     "name": "stdout",
     "output_type": "stream",
     "text": [
      "0.006522965383883084\n"
     ]
    },
    {
     "name": "stdout",
     "output_type": "stream",
     "text": [
      "0.006574002895675779\n"
     ]
    },
    {
     "name": "stdout",
     "output_type": "stream",
     "text": [
      "0.006596787000158089\n"
     ]
    },
    {
     "name": "stdout",
     "output_type": "stream",
     "text": [
      "0.0066546148837115515\n"
     ]
    },
    {
     "name": "stdout",
     "output_type": "stream",
     "text": [
      "0.006159776360730507\n"
     ]
    },
    {
     "name": "stdout",
     "output_type": "stream",
     "text": [
      "0.006136731751680835\n"
     ]
    },
    {
     "name": "stdout",
     "output_type": "stream",
     "text": [
      "0.006145364408292053\n"
     ]
    },
    {
     "name": "stdout",
     "output_type": "stream",
     "text": [
      "0.006729390221614562\n"
     ]
    },
    {
     "name": "stdout",
     "output_type": "stream",
     "text": [
      "0.006128622483299817\n",
      "     fun: 0.006128622483299817\n",
      "   maxcv: 0.0\n",
      " message: 'Maximum number of function evaluations has been exceeded.'\n",
      "    nfev: 200\n",
      "  status: 2\n",
      " success: False\n",
      "       x: array([3.12791956, 2.40065298, 0.80984529, 3.07401739, 2.26632794,\n",
      "       1.92529818, 1.78815795, 2.81382606, 1.64799061])\n",
      "(0.9938713775091832-0j)\n"
     ]
    }
   ],
   "source": [
    "coefficient_set = [0.55, 0.225, 0.225]\n",
    "gate_set = [[0, 0, 0], [0, 1, 0], [0, 0, 1]]\n",
    "\n",
    "out = minimize(calculate_cost_function, x0=[float(random.randint(0,3000))/1000 for i in range(0, 9)], method=\"COBYLA\", options={'maxiter':200})\n",
    "print(out)\n",
    "\n",
    "out_f = [out['x'][0:3], out['x'][3:6], out['x'][6:9]]\n",
    "\n",
    "circ = QuantumCircuit(3, 3)\n",
    "apply_fixed_ansatz([0, 1, 2], out_f)\n",
    "\n",
    "backend = Aer.get_backend('statevector_simulator')\n",
    "\n",
    "job = execute(circ, backend)\n",
    "\n",
    "result = job.result()\n",
    "o = result.get_statevector(circ, decimals=10)\n",
    "\n",
    "a1 = coefficient_set[2]*np.array([[1,0,0,0,0,0,0,0], [0,1,0,0,0,0,0,0], [0,0,1,0,0,0,0,0], [0,0,0,1,0,0,0,0], [0,0,0,0,-1,0,0,0], [0,0,0,0,0,-1,0,0], [0,0,0,0,0,0,-1,0], [0,0,0,0,0,0,0,-1]])\n",
    "a0 = coefficient_set[1]*np.array([[1,0,0,0,0,0,0,0], [0,1,0,0,0,0,0,0], [0,0,-1,0,0,0,0,0], [0,0,0,-1,0,0,0,0], [0,0,0,0,1,0,0,0], [0,0,0,0,0,1,0,0], [0,0,0,0,0,0,-1,0], [0,0,0,0,0,0,0,-1]])\n",
    "a2 = coefficient_set[0]*np.array([[1,0,0,0,0,0,0,0], [0,1,0,0,0,0,0,0], [0,0,1,0,0,0,0,0], [0,0,0,1,0,0,0,0], [0,0,0,0,1,0,0,0], [0,0,0,0,0,1,0,0], [0,0,0,0,0,0,1,0], [0,0,0,0,0,0,0,1]])\n",
    "\n",
    "a3 = np.add(np.add(a2, a0), a1)\n",
    "\n",
    "b = np.array([float(1/np.sqrt(8)),float(1/np.sqrt(8)),float(1/np.sqrt(8)),float(1/np.sqrt(8)),float(1/np.sqrt(8)),float(1/np.sqrt(8)),float(1/np.sqrt(8)),float(1/np.sqrt(8))])\n",
    "\n",
    "print((b.dot(a3.dot(o)/(np.linalg.norm(a3.dot(o)))))**2)"
   ]
  },
  {
   "cell_type": "markdown",
   "metadata": {},
   "source": [
    "Again, very low error, `0.00014718223342624626`, and the classical cost function agrees, being `0.9998563418983931`! Great, so it works!\n",
    "\n",
    "Now, we have found that this algorithm works **in theory**. I tried to run some simulations with a circuit that samples the circuit instead of calculating the probabilities numerically. Now, let's try to **sample** the quantum circuit, as a real quantum computer would do! For some reason, this simulation would only converge somewhat well for a ridiculously high number of \"shots\" (runs of the circuit, in order to calculate the probability distribution of outcomes). I think that this is mostly to do with limitations in the classical optimizer (COBYLA), due to the noisy nature of sampling a quantum circuit (a measurement with the same parameters won't always yield the same outcome). Luckily, there are other optimizers that are built for noisy functions, such as SPSA, but we won't be looking into that in this tutorial. Let's try our sampling for our second value of $A$, with the same matrix $U$:"
   ]
  },
  {
   "cell_type": "code",
   "execution_count": 10,
   "metadata": {},
   "outputs": [],
   "source": [
    "#Implements the entire cost function on the quantum circuit (sampling, 100000 shots)\n",
    "\n",
    "def calculate_cost_function(parameters):\n",
    "\n",
    "    global opt\n",
    "\n",
    "    overall_sum_1 = 0\n",
    "    \n",
    "    parameters = [parameters[0:3], parameters[3:6], parameters[6:9]]\n",
    "\n",
    "    for i in range(0, len(gate_set)):\n",
    "        for j in range(0, len(gate_set)):\n",
    "\n",
    "            global circ\n",
    "\n",
    "            qctl = QuantumRegister(5)\n",
    "            qc = ClassicalRegister(1)\n",
    "            circ = QuantumCircuit(qctl, qc)\n",
    "\n",
    "            backend = Aer.get_backend('qasm_simulator')\n",
    "            \n",
    "            multiply = coefficient_set[i]*coefficient_set[j]\n",
    "\n",
    "            had_test([gate_set[i], gate_set[j]], [1, 2, 3], 0, parameters)\n",
    "\n",
    "            circ.measure(0, 0)\n",
    "\n",
    "            job = execute(circ, backend, shots=100000)\n",
    "\n",
    "            result = job.result()\n",
    "            outputstate = result.get_counts(circ)\n",
    "\n",
    "            if ('1' in outputstate.keys()):\n",
    "                m_sum = float(outputstate[\"1\"])/100000\n",
    "            else:\n",
    "                m_sum = 0\n",
    "\n",
    "            overall_sum_1+=multiply*(1-2*m_sum)\n",
    "\n",
    "    overall_sum_2 = 0\n",
    "\n",
    "    for i in range(0, len(gate_set)):\n",
    "        for j in range(0, len(gate_set)):\n",
    "\n",
    "            multiply = coefficient_set[i]*coefficient_set[j]\n",
    "            mult = 1\n",
    "\n",
    "            for extra in range(0, 2):\n",
    "\n",
    "                qctl = QuantumRegister(5)\n",
    "                qc = ClassicalRegister(1)\n",
    "                \n",
    "                circ = QuantumCircuit(qctl, qc)\n",
    "\n",
    "                backend = Aer.get_backend('qasm_simulator')\n",
    "\n",
    "                if (extra == 0):\n",
    "                    special_had_test(gate_set[i], [1, 2, 3], 0, parameters, qctl)\n",
    "                if (extra == 1):\n",
    "                    special_had_test(gate_set[j], [1, 2, 3], 0, parameters, qctl)\n",
    "\n",
    "                circ.measure(0, 0)\n",
    "\n",
    "                job = execute(circ, backend, shots=100000)\n",
    "\n",
    "                result = job.result()\n",
    "                outputstate = result.get_counts(circ)\n",
    "\n",
    "                if ('1' in outputstate.keys()):\n",
    "                    m_sum = float(outputstate[\"1\"])/100000\n",
    "                else:\n",
    "                    m_sum = 0\n",
    "\n",
    "                mult = mult*(1-2*m_sum)\n",
    "            \n",
    "            overall_sum_2+=multiply*mult\n",
    "            \n",
    "    print(1-float(overall_sum_2/overall_sum_1))\n",
    "\n",
    "    return 1-float(overall_sum_2/overall_sum_1)"
   ]
  },
  {
   "cell_type": "code",
   "execution_count": 11,
   "metadata": {
    "scrolled": true
   },
   "outputs": [
    {
     "name": "stdout",
     "output_type": "stream",
     "text": [
      "0.9714940836963093\n"
     ]
    },
    {
     "name": "stdout",
     "output_type": "stream",
     "text": [
      "0.8095536354073702\n"
     ]
    },
    {
     "name": "stdout",
     "output_type": "stream",
     "text": [
      "0.9606086681866349\n"
     ]
    },
    {
     "name": "stdout",
     "output_type": "stream",
     "text": [
      "0.8178821969486363\n"
     ]
    },
    {
     "name": "stdout",
     "output_type": "stream",
     "text": [
      "0.7620426554566906\n"
     ]
    },
    {
     "name": "stdout",
     "output_type": "stream",
     "text": [
      "0.7370119297837102\n"
     ]
    },
    {
     "name": "stdout",
     "output_type": "stream",
     "text": [
      "0.7135617513773089\n"
     ]
    },
    {
     "name": "stdout",
     "output_type": "stream",
     "text": [
      "0.929012903770344\n"
     ]
    },
    {
     "name": "stdout",
     "output_type": "stream",
     "text": [
      "0.5560212433332941\n"
     ]
    },
    {
     "name": "stdout",
     "output_type": "stream",
     "text": [
      "0.7491082154689872\n"
     ]
    },
    {
     "name": "stdout",
     "output_type": "stream",
     "text": [
      "0.44006069292183714\n"
     ]
    },
    {
     "name": "stdout",
     "output_type": "stream",
     "text": [
      "0.8206995121105808\n"
     ]
    },
    {
     "name": "stdout",
     "output_type": "stream",
     "text": [
      "0.49485496457567624\n"
     ]
    },
    {
     "name": "stdout",
     "output_type": "stream",
     "text": [
      "0.32622435985181786\n"
     ]
    },
    {
     "name": "stdout",
     "output_type": "stream",
     "text": [
      "0.4199297248852445\n"
     ]
    },
    {
     "name": "stdout",
     "output_type": "stream",
     "text": [
      "0.2909253312071518\n"
     ]
    },
    {
     "name": "stdout",
     "output_type": "stream",
     "text": [
      "0.6429973395536435\n"
     ]
    },
    {
     "name": "stdout",
     "output_type": "stream",
     "text": [
      "0.23626559458508545\n"
     ]
    },
    {
     "name": "stdout",
     "output_type": "stream",
     "text": [
      "0.1835675062779385\n"
     ]
    },
    {
     "name": "stdout",
     "output_type": "stream",
     "text": [
      "0.24477133273361595\n"
     ]
    },
    {
     "name": "stdout",
     "output_type": "stream",
     "text": [
      "0.40431733423311833\n"
     ]
    },
    {
     "name": "stdout",
     "output_type": "stream",
     "text": [
      "0.36888224195892483\n"
     ]
    },
    {
     "name": "stdout",
     "output_type": "stream",
     "text": [
      "0.29501939116201326\n"
     ]
    },
    {
     "name": "stdout",
     "output_type": "stream",
     "text": [
      "0.18331111532963695\n"
     ]
    },
    {
     "name": "stdout",
     "output_type": "stream",
     "text": [
      "0.26925834755719413\n"
     ]
    },
    {
     "name": "stdout",
     "output_type": "stream",
     "text": [
      "0.237691091306798\n"
     ]
    },
    {
     "name": "stdout",
     "output_type": "stream",
     "text": [
      "0.2198572970442676\n"
     ]
    },
    {
     "name": "stdout",
     "output_type": "stream",
     "text": [
      "0.19183080328753943\n"
     ]
    },
    {
     "name": "stdout",
     "output_type": "stream",
     "text": [
      "0.16905604536796992\n"
     ]
    },
    {
     "name": "stdout",
     "output_type": "stream",
     "text": [
      "0.13048879111312706\n"
     ]
    },
    {
     "name": "stdout",
     "output_type": "stream",
     "text": [
      "0.10875515216797449\n"
     ]
    },
    {
     "name": "stdout",
     "output_type": "stream",
     "text": [
      "0.1492242690198906\n"
     ]
    },
    {
     "name": "stdout",
     "output_type": "stream",
     "text": [
      "0.10964449184185976\n"
     ]
    },
    {
     "name": "stdout",
     "output_type": "stream",
     "text": [
      "0.22228351804321234\n"
     ]
    },
    {
     "name": "stdout",
     "output_type": "stream",
     "text": [
      "0.20090700202098588\n"
     ]
    },
    {
     "name": "stdout",
     "output_type": "stream",
     "text": [
      "0.13941324090223484\n"
     ]
    },
    {
     "name": "stdout",
     "output_type": "stream",
     "text": [
      "0.07320437527738521\n"
     ]
    },
    {
     "name": "stdout",
     "output_type": "stream",
     "text": [
      "0.08988568092204663\n"
     ]
    },
    {
     "name": "stdout",
     "output_type": "stream",
     "text": [
      "0.11082857434860938\n"
     ]
    },
    {
     "name": "stdout",
     "output_type": "stream",
     "text": [
      "0.09636382545687083\n"
     ]
    },
    {
     "name": "stdout",
     "output_type": "stream",
     "text": [
      "0.1471765758839514\n"
     ]
    },
    {
     "name": "stdout",
     "output_type": "stream",
     "text": [
      "0.08224946794140675\n"
     ]
    },
    {
     "name": "stdout",
     "output_type": "stream",
     "text": [
      "0.1080053828045725\n"
     ]
    },
    {
     "name": "stdout",
     "output_type": "stream",
     "text": [
      "0.08970745722754658\n"
     ]
    },
    {
     "name": "stdout",
     "output_type": "stream",
     "text": [
      "0.08604040001037672\n"
     ]
    },
    {
     "name": "stdout",
     "output_type": "stream",
     "text": [
      "0.07897515119891552\n"
     ]
    },
    {
     "name": "stdout",
     "output_type": "stream",
     "text": [
      "0.08715961589711863\n"
     ]
    },
    {
     "name": "stdout",
     "output_type": "stream",
     "text": [
      "0.07940727590196617\n"
     ]
    },
    {
     "name": "stdout",
     "output_type": "stream",
     "text": [
      "0.09095369595608449\n"
     ]
    },
    {
     "name": "stdout",
     "output_type": "stream",
     "text": [
      "0.08290041040548479\n"
     ]
    },
    {
     "name": "stdout",
     "output_type": "stream",
     "text": [
      "0.07878088735679623\n"
     ]
    },
    {
     "name": "stdout",
     "output_type": "stream",
     "text": [
      "0.08460756355731347\n"
     ]
    },
    {
     "name": "stdout",
     "output_type": "stream",
     "text": [
      "0.08353197882957109\n"
     ]
    },
    {
     "name": "stdout",
     "output_type": "stream",
     "text": [
      "0.10456216883732239\n"
     ]
    },
    {
     "name": "stdout",
     "output_type": "stream",
     "text": [
      "0.0866604011739619\n"
     ]
    },
    {
     "name": "stdout",
     "output_type": "stream",
     "text": [
      "0.07188799467902651\n"
     ]
    },
    {
     "name": "stdout",
     "output_type": "stream",
     "text": [
      "0.07384613500128956\n"
     ]
    },
    {
     "name": "stdout",
     "output_type": "stream",
     "text": [
      "0.08519968789123922\n"
     ]
    },
    {
     "name": "stdout",
     "output_type": "stream",
     "text": [
      "0.06905230182422972\n"
     ]
    },
    {
     "name": "stdout",
     "output_type": "stream",
     "text": [
      "0.0865278474684027\n"
     ]
    },
    {
     "name": "stdout",
     "output_type": "stream",
     "text": [
      "0.07969574091980558\n"
     ]
    },
    {
     "name": "stdout",
     "output_type": "stream",
     "text": [
      "0.08493209467180618\n"
     ]
    },
    {
     "name": "stdout",
     "output_type": "stream",
     "text": [
      "0.07817751566530529\n"
     ]
    },
    {
     "name": "stdout",
     "output_type": "stream",
     "text": [
      "0.054939751692674066\n"
     ]
    },
    {
     "name": "stdout",
     "output_type": "stream",
     "text": [
      "0.08043272223164144\n"
     ]
    },
    {
     "name": "stdout",
     "output_type": "stream",
     "text": [
      "0.06976276948786309\n"
     ]
    },
    {
     "name": "stdout",
     "output_type": "stream",
     "text": [
      "0.09012118339444375\n"
     ]
    },
    {
     "name": "stdout",
     "output_type": "stream",
     "text": [
      "0.08020648680324216\n"
     ]
    },
    {
     "name": "stdout",
     "output_type": "stream",
     "text": [
      "0.09139706355945221\n"
     ]
    },
    {
     "name": "stdout",
     "output_type": "stream",
     "text": [
      "0.07881007164041032\n"
     ]
    },
    {
     "name": "stdout",
     "output_type": "stream",
     "text": [
      "0.0668962788869859\n"
     ]
    },
    {
     "name": "stdout",
     "output_type": "stream",
     "text": [
      "0.06147364987708437\n"
     ]
    },
    {
     "name": "stdout",
     "output_type": "stream",
     "text": [
      "0.07732454070422601\n"
     ]
    },
    {
     "name": "stdout",
     "output_type": "stream",
     "text": [
      "0.08491409352212687\n"
     ]
    },
    {
     "name": "stdout",
     "output_type": "stream",
     "text": [
      "0.08641122293948722\n"
     ]
    },
    {
     "name": "stdout",
     "output_type": "stream",
     "text": [
      "0.08421149542950768\n"
     ]
    },
    {
     "name": "stdout",
     "output_type": "stream",
     "text": [
      "0.08314603479534155\n"
     ]
    },
    {
     "name": "stdout",
     "output_type": "stream",
     "text": [
      "0.09207599393952215\n"
     ]
    },
    {
     "name": "stdout",
     "output_type": "stream",
     "text": [
      "0.092140643133236\n"
     ]
    },
    {
     "name": "stdout",
     "output_type": "stream",
     "text": [
      "0.07904946124345558\n"
     ]
    },
    {
     "name": "stdout",
     "output_type": "stream",
     "text": [
      "0.08783655857100559\n"
     ]
    },
    {
     "name": "stdout",
     "output_type": "stream",
     "text": [
      "0.08769123537490797\n"
     ]
    },
    {
     "name": "stdout",
     "output_type": "stream",
     "text": [
      "0.07999479143423005\n"
     ]
    },
    {
     "name": "stdout",
     "output_type": "stream",
     "text": [
      "0.08349819617746712\n"
     ]
    },
    {
     "name": "stdout",
     "output_type": "stream",
     "text": [
      "0.07794803338468781\n"
     ]
    },
    {
     "name": "stdout",
     "output_type": "stream",
     "text": [
      "0.09369344656733958\n"
     ]
    },
    {
     "name": "stdout",
     "output_type": "stream",
     "text": [
      "0.08760104647830058\n"
     ]
    },
    {
     "name": "stdout",
     "output_type": "stream",
     "text": [
      "0.09876906788767736\n"
     ]
    },
    {
     "name": "stdout",
     "output_type": "stream",
     "text": [
      "0.10131904952785609\n"
     ]
    },
    {
     "name": "stdout",
     "output_type": "stream",
     "text": [
      "0.09026235807538674\n"
     ]
    },
    {
     "name": "stdout",
     "output_type": "stream",
     "text": [
      "0.07781117773994084\n"
     ]
    },
    {
     "name": "stdout",
     "output_type": "stream",
     "text": [
      "0.08920758696052355\n"
     ]
    },
    {
     "name": "stdout",
     "output_type": "stream",
     "text": [
      "0.07874785501643344\n"
     ]
    },
    {
     "name": "stdout",
     "output_type": "stream",
     "text": [
      "0.088966887069582\n"
     ]
    },
    {
     "name": "stdout",
     "output_type": "stream",
     "text": [
      "0.08049880603642201\n"
     ]
    },
    {
     "name": "stdout",
     "output_type": "stream",
     "text": [
      "0.09228449036179232\n"
     ]
    },
    {
     "name": "stdout",
     "output_type": "stream",
     "text": [
      "0.07679221282858528\n"
     ]
    },
    {
     "name": "stdout",
     "output_type": "stream",
     "text": [
      "0.09490051143706746\n"
     ]
    },
    {
     "name": "stdout",
     "output_type": "stream",
     "text": [
      "0.0792065628036539\n"
     ]
    },
    {
     "name": "stdout",
     "output_type": "stream",
     "text": [
      "0.07881714378533622\n"
     ]
    },
    {
     "name": "stdout",
     "output_type": "stream",
     "text": [
      "0.08132451724167178\n"
     ]
    },
    {
     "name": "stdout",
     "output_type": "stream",
     "text": [
      "0.0869115953422045\n"
     ]
    },
    {
     "name": "stdout",
     "output_type": "stream",
     "text": [
      "0.08357127342043835\n"
     ]
    },
    {
     "name": "stdout",
     "output_type": "stream",
     "text": [
      "0.0898470307691116\n"
     ]
    },
    {
     "name": "stdout",
     "output_type": "stream",
     "text": [
      "0.08569016196642842\n"
     ]
    },
    {
     "name": "stdout",
     "output_type": "stream",
     "text": [
      "0.08313545491241314\n",
      "     fun: 0.08313545491241314\n",
      "   maxcv: 0.0\n",
      " message: 'Optimization terminated successfully.'\n",
      "    nfev: 106\n",
      "  status: 1\n",
      " success: True\n",
      "       x: array([2.93399685, 2.58439793, 3.40754011, 4.01655009, 2.79506455,\n",
      "       3.33357874, 0.93563282, 2.12022899, 2.36876427])\n",
      "(0.9153777060343862-0j)\n"
     ]
    }
   ],
   "source": [
    "coefficient_set = [0.55, 0.225, 0.225]\n",
    "gate_set = [[0, 0, 0], [0, 1, 0], [0, 0, 1]]\n",
    "\n",
    "out = minimize(calculate_cost_function, x0=[float(random.randint(0,3000))/1000 for i in range(0, 9)], method=\"COBYLA\", options={'maxiter':200})\n",
    "print(out)\n",
    "\n",
    "out_f = [out['x'][0:3], out['x'][3:6], out['x'][6:9]]\n",
    "\n",
    "circ = QuantumCircuit(3, 3)\n",
    "apply_fixed_ansatz([0, 1, 2], out_f)\n",
    "\n",
    "backend = Aer.get_backend('statevector_simulator')\n",
    "\n",
    "job = execute(circ, backend)\n",
    "\n",
    "result = job.result()\n",
    "o = result.get_statevector(circ, decimals=10)\n",
    "\n",
    "a1 = coefficient_set[2]*np.array([[1,0,0,0,0,0,0,0], [0,1,0,0,0,0,0,0], [0,0,1,0,0,0,0,0], [0,0,0,1,0,0,0,0], [0,0,0,0,-1,0,0,0], [0,0,0,0,0,-1,0,0], [0,0,0,0,0,0,-1,0], [0,0,0,0,0,0,0,-1]])\n",
    "a0 = coefficient_set[1]*np.array([[1,0,0,0,0,0,0,0], [0,1,0,0,0,0,0,0], [0,0,-1,0,0,0,0,0], [0,0,0,-1,0,0,0,0], [0,0,0,0,1,0,0,0], [0,0,0,0,0,1,0,0], [0,0,0,0,0,0,-1,0], [0,0,0,0,0,0,0,-1]])\n",
    "a2 = coefficient_set[0]*np.array([[1,0,0,0,0,0,0,0], [0,1,0,0,0,0,0,0], [0,0,1,0,0,0,0,0], [0,0,0,1,0,0,0,0], [0,0,0,0,1,0,0,0], [0,0,0,0,0,1,0,0], [0,0,0,0,0,0,1,0], [0,0,0,0,0,0,0,1]])\n",
    "\n",
    "a3 = np.add(np.add(a2, a0), a1)\n",
    "\n",
    "b = np.array([float(1/np.sqrt(8)),float(1/np.sqrt(8)),float(1/np.sqrt(8)),float(1/np.sqrt(8)),float(1/np.sqrt(8)),float(1/np.sqrt(8)),float(1/np.sqrt(8)),float(1/np.sqrt(8))])\n",
    "\n",
    "print((b.dot(a3.dot(o)/(np.linalg.norm(a3.dot(o)))))**2)"
   ]
  },
  {
   "cell_type": "markdown",
   "metadata": {},
   "source": [
    "So as you can see, not amazing, our solution is still off by a fairly significant margin ($3.677\\%$ error isn't awful, but ideally, we want it to be **much** closer to 0). Again, I think this is due to the optimizer itself, not the actual quantum circuit. I will be making an update to this Notebook once I figure out how to correct this problem (likely with the introduction of a noisy optimizer, as I previously mentioned).\n",
    "\n",
    "**Acknowledgements**\n",
    "\n",
    "This implementation is based off of the work presented in the research paper \"Variational Quantum Linear Solver: A Hybrid Algorithm for Linear Systems\", written by Carlos Bravo-Prieto, Ryan LaRose, M. Cerezo, Yiğit Subaşı, Lukasz Cincio, and Patrick J. Coles, which is available at [this](https://arxiv.org/abs/1909.05820) link.\n",
    "\n",
    "Special thanks to Carlos Bravo-Prieto for personally helping me out, by answering some of my questions concerning the paper!"
   ]
  },
  {
   "cell_type": "code",
   "execution_count": 12,
   "metadata": {},
   "outputs": [
    {
     "data": {
      "text/plain": [
       "{'qiskit-terra': '0.14.2',\n",
       " 'qiskit-aer': '0.5.2',\n",
       " 'qiskit-ignis': '0.3.3',\n",
       " 'qiskit-ibmq-provider': '0.7.2',\n",
       " 'qiskit-aqua': '0.7.3',\n",
       " 'qiskit': '0.19.6'}"
      ]
     },
     "execution_count": 12,
     "metadata": {},
     "output_type": "execute_result"
    }
   ],
   "source": [
    "import qiskit\n",
    "qiskit.__qiskit_version__"
   ]
  }
 ],
 "metadata": {
  "kernelspec": {
   "display_name": "Python 3",
   "language": "python",
   "name": "python3"
  },
  "language_info": {
   "codemirror_mode": {
    "name": "ipython",
    "version": 3
   },
   "file_extension": ".py",
   "mimetype": "text/x-python",
   "name": "python",
   "nbconvert_exporter": "python",
   "pygments_lexer": "ipython3",
   "version": "3.7.6"
  }
 },
 "nbformat": 4,
 "nbformat_minor": 2
}
