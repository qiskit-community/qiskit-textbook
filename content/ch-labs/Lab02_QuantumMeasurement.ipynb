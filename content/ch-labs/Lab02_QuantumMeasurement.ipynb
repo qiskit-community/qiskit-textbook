{
 "cells": [
  {
   "cell_type": "markdown",
   "metadata": {
    "tags": [
     "remove_cell"
    ]
   },
   "source": [
    "<h1 style=\"font-size:35px;\n",
    "        color:black;\n",
    "        \">Lab 2 Quantum Measurements</h1>"
   ]
  },
  {
   "cell_type": "markdown",
   "metadata": {},
   "source": [
    "Prerequisite\n",
    "- [Ch.1.4 Single Qubit Gates](https://qiskit.org/textbook/ch-states/single-qubit-gates.html)\n",
    "- [Ch.2.2 Multiple Qubits and Entangled States](https://qiskit.org/textbook/ch-gates/multiple-qubits-entangled-states.html)\n",
    "- [Mitigating Noise on Real Quantum Computers](https://www.youtube.com/watch?v=yuDxHJOKsVA&list=PLOFEBzvs-Vvp2xg9-POLJhQwtVktlYGbY&index=8)\n",
    "\n",
    "Other relevant materials\n",
    "- [Feynman Lectures Ch. III - 12](https://www.feynmanlectures.caltech.edu/III_12.html)\n",
    "- [Quantum Operation](https://qiskit.org/documentation/tutorials/circuits/3_summary_of_quantum_operations.html)\n",
    "- [Interactive Bloch Sphere](https://nonhermitian.org/kaleido/stubs/kaleidoscope.interactive.bloch_sphere.html#kaleidoscope.interactive.bloch_sphere)\n",
    "- [Ch.5.2 Measurement Error Mitigation](https://qiskit.org/textbook/ch-quantum-hardware/measurement-error-mitigation.html)"
   ]
  },
  {
   "cell_type": "code",
   "execution_count": 1,
   "metadata": {},
   "outputs": [],
   "source": [
    "from qiskit import *\n",
    "import numpy as np\n",
    "from numpy import linalg as la\n",
    "from qiskit.tools.monitor import job_monitor\n",
    "import qiskit.tools.jupyter"
   ]
  },
  {
   "cell_type": "markdown",
   "metadata": {},
   "source": [
    "<h2 style=\"font-size:24px;\">Part 1: Measuring the state of a qubit</h2>\n",
    "\n",
    "<br>\n",
    "<div style=\"background: #E8E7EB; border-radius: 5px;\n",
    "-moz-border-radius: 5px;\">\n",
    "  <p style=\"background: #800080;\n",
    "            border-radius: 5px 5px 0px 0px;\n",
    "            padding: 10px 0px 10px 10px;\n",
    "            font-size:18px;\n",
    "            color:white;\n",
    "            \"><b>Goal</b></p>\n",
    "    <p style=\" padding: 0px 0px 10px 10px;\n",
    "              font-size:16px;\">Determine the Bloch components of a qubit.</p>\n",
    "</div>\n",
    "\n",
    "Fundamental to the operation of a quantum computer is the ability to compute the Bloch components of a qubit or qubits. These components correspond to the expectation values of the Pauli operators $X, Y, Z$, and are important quantities for applications such as quantum chemistry and optimization.  Unfortunately, it is impossible to simultaneously compute these values, thus requiring many executions of the same circuit.  In addition, measurements are restricted to the computational basis (Z-basis) so that each Pauli needs to be rotated to the standard basis to access the x and y components.  Here we verify the methods by considering the case of a random vector on the Bloch sphere."
   ]
  },
  {
   "cell_type": "markdown",
   "metadata": {},
   "source": [
    "<h3 style=\"font-size: 20px\">&#128211; 1. Express the expectation values of the Pauli operators for an arbitrary qubit state $|q\\rangle$ in the computational basis. </h3>\n",
    "\n",
    "The case for the expectation value of Pauli Z gate is given as an example. "
   ]
  },
  {
   "cell_type": "markdown",
   "metadata": {},
   "source": [
    "Using the diagonal representation, also known as spectral form or orthonormal decomposition, of Pauli $Z$ gate and the relations among the Pauli gates (see [here](https://qiskit.org/textbook/ch-states/single-qubit-gates.html)), expectation values of $ X, Y, Z $ gates can be written as  \n",
    "\n",
    "$$\n",
    "\\begin{align}\n",
    "\\langle Z \\rangle &=\\langle q | Z | q\\rangle =\\langle q|0\\rangle\\langle 0|q\\rangle - \\langle q|1\\rangle\\langle 1|q\\rangle\n",
    "=|\\langle 0 |q\\rangle|^2 - |\\langle 1 | q\\rangle|^2\\\\\\\\\n",
    "\\langle X \\rangle &= \\\\\\\\\n",
    "\\langle Y \\rangle &=\n",
    "\\end{align}\n",
    "\\\\\n",
    "$$\n",
    ", respectively.\n",
    "\n",
    "Therefore, the expectation values of the Paulis for a qubit state $|q\\rangle$ can be obtained by making a measurement in the standard basis after rotating the standard basis frame to lie along the corresponding axis. The probabilities of obtaining the two possible outcomes 0 and 1 are used to evaluate the desired expectation value as the above equations show."
   ]
  },
  {
   "cell_type": "markdown",
   "metadata": {},
   "source": [
    "<h3 style=\"font-size: 20px\">2. Measure the Bloch sphere coordinates of a qubit using the qasm simulator and plot the vector on the Bloch sphere.</h3>"
   ]
  },
  {
   "cell_type": "markdown",
   "metadata": {},
   "source": [
    "<h4 style=\"font-size: 17px\">&#128211;Step A. Create a qubit state using the circuit method, <code>initialize</code> with two random complex numbers as the parameter.</h4>\n",
    "\n",
    "To learn how to use the function `initialize`, check [here](https://qiskit.org/documentation/tutorials/circuits/3_summary_of_quantum_operations.html#Arbitrary-initialization). (go to the `arbitrary initialization` section.)"
   ]
  },
  {
   "cell_type": "code",
   "execution_count": 2,
   "metadata": {},
   "outputs": [],
   "source": [
    "qc = QuantumCircuit(1)\n",
    "\n",
    "#### your code goes here\n",
    "\n",
    "\n"
   ]
  },
  {
   "cell_type": "markdown",
   "metadata": {},
   "source": [
    "<h4 style=\"font-size: 17px\">&#128211; Step B. Build the circuits to measure the expectation values of $X, Y, Z$ gate based on your answers to the question 1.  Run the cell below to estimate the Bloch sphere coordinates of the qubit from step A using the qasm simulator.</h4>\n",
    "\n",
    "The circuit for $Z$ gate measurement is given as an example."
   ]
  },
  {
   "cell_type": "code",
   "execution_count": 3,
   "metadata": {},
   "outputs": [],
   "source": [
    "# z measurement of qubit 0\n",
    "measure_z = QuantumCircuit(1,1)\n",
    "measure_z.measure(0,0)\n",
    "\n",
    "# x measurement of qubit 0\n",
    "measure_x = QuantumCircuit(1,1)\n",
    "# your code goes here\n",
    "\n",
    "\n",
    "\n",
    "\n",
    "\n",
    "\n",
    "\n",
    "# y measurement of qubit 0\n",
    "measure_y = QuantumCircuit(1,1)\n",
    "# your code goes here\n",
    "\n",
    "\n",
    "\n",
    "\n",
    "\n",
    "\n",
    "\n",
    "shots = 2**14 # number of samples used for statistics\n",
    "sim = Aer.get_backend('qasm_simulator')\n",
    "bloch_vector_measure = []\n",
    "for measure_circuit in [measure_x, measure_y, measure_z]:\n",
    "    \n",
    "    # run the circuit with the selected measurement and get the number of samples that output each bit value\n",
    "    counts = execute(qc+measure_circuit, sim, shots=shots).result().get_counts()\n",
    "\n",
    "    # calculate the probabilities for each bit value\n",
    "    probs = {}\n",
    "    for output in ['0','1']:\n",
    "        if output in counts:\n",
    "            probs[output] = counts[output]/shots\n",
    "        else:\n",
    "            probs[output] = 0\n",
    "            \n",
    "    bloch_vector_measure.append( probs['0'] -  probs['1'] )\n",
    "\n",
    "# normalizing the Bloch sphere vector\n",
    "bloch_vector = bloch_vector_measure/la.norm(bloch_vector_measure)\n",
    "\n",
    "print('The Bloch sphere coordinates are [{0:4.3f}, {1:4.3f}, {2:4.3f}]'\n",
    "      .format(*bloch_vector))    "
   ]
  },
  {
   "cell_type": "markdown",
   "metadata": {},
   "source": [
    "<h4 style=\"font-size: 17px\">Step C. Plot the vector on the Bloch sphere.</h4>\n",
    "\n",
    "Note that the following cell for the interactive bloch_sphere would not run properly unless you work in [IQX](https://quantum-computing.ibm.com/login). You can either use `plot_bloch_vector` for the non-interactive version or install `kaleidoscope` by running \n",
    "\n",
    "```\n",
    "pip install kaleidoscope\n",
    "\n",
    "```\n",
    "in a terminal.  You also need to restart your kernel after the installation.  To learn more about how to use the interactive Bloch sphere, go [here](https://nonhermitian.org/kaleido/stubs/kaleidoscope.interactive.bloch_sphere.html#kaleidoscope.interactive.bloch_sphere)."
   ]
  },
  {
   "cell_type": "code",
   "execution_count": 4,
   "metadata": {},
   "outputs": [],
   "source": [
    "from kaleidoscope.interactive import bloch_sphere\n",
    "\n",
    "bloch_sphere(bloch_vector, vectors_annotation=True)"
   ]
  },
  {
   "cell_type": "code",
   "execution_count": 5,
   "metadata": {},
   "outputs": [],
   "source": [
    "from qiskit.visualization import plot_bloch_vector\n",
    "\n",
    "plot_bloch_vector( bloch_vector )"
   ]
  },
  {
   "cell_type": "markdown",
   "metadata": {},
   "source": [
    "<h2 style=\"font-size:24px;\">Part 2: Measuring Energy</h2>\n",
    "\n",
    "<br>\n",
    "<div style=\"background: #E8E7EB; border-radius: 5px;\n",
    "-moz-border-radius: 5px;\">\n",
    "  <p style=\"background: #800080;\n",
    "            border-radius: 5px 5px 0px 0px;\n",
    "            padding: 10px 0px 10px 10px;\n",
    "            font-size:18px;\n",
    "            color:white;\n",
    "            \"><b>Goal</b></p>\n",
    "    <p style=\" padding: 0px 0px 10px 10px;\n",
    "              font-size:16px;\">Evaluate the energy levels of the hydrogen ground state using qasm simulator.</p>\n",
    "</div>\n",
    "\n",
    "\n",
    "The energy of a quantum system can be estimated by measuring the expectation value of its Hamiltonian, which is a Hermitian operator, through the procedure we mastered in part 1.\n",
    "\n",
    "The ground state of hydrogen is not defined as a single unique state but actually contains four different states due to the spins of the electron and proton. In part 2 of this lab, we evaluate the energy difference among these four states, which is from the `hyperfine splitting`, by computing the energy expectation value for the system of two spins with the Hamiltonian expressed in Pauli operators. For more information about `hyperfine structure`, see [here](https://www.feynmanlectures.caltech.edu/III_12.html)"
   ]
  },
  {
   "cell_type": "markdown",
   "metadata": {},
   "source": [
    "Consider the system with two qubit interaction Hamiltonian $H = A(XX+YY+ZZ)$ where $A = 1.47e^{-6} eV$ and $X, Y, Z$ are Pauli gates. Then the energy expectation value of the system can be evaluated by combining the expectation value of each term in the Hamiltonian.\n",
    "In this case, $E = \\langle H\\rangle = A( \\langle XX\\rangle + \\langle YY\\rangle + \\langle ZZ\\rangle )$. "
   ]
  },
  {
   "cell_type": "markdown",
   "metadata": {},
   "source": [
    "<h3 style=\"font-size: 20px\">&#128211; 1. Express the expectation value of each term in the Hamiltonian for an arbitrary two qubit state   $|\\psi \\rangle$ in the computational basis.</h3>\n",
    "\n",
    "The case for the term $\\langle ZZ\\rangle$ is given as an example.\n",
    "\n",
    "$$\n",
    "\\begin{align}\n",
    "\\langle ZZ\\rangle &=\\langle \\psi | ZZ | \\psi\\rangle =\\langle \\psi|(|0\\rangle\\langle 0| - |1\\rangle\\langle 1|)\\otimes(|0\\rangle\\langle 0| - |1\\rangle\\langle 1|) |\\psi\\rangle\n",
    "=|\\langle 00|\\psi\\rangle|^2 - |\\langle 01 | \\psi\\rangle|^2 - |\\langle 10 | \\psi\\rangle|^2 + |\\langle 11|\\psi\\rangle|^2\\\\\\\\\n",
    "\\langle XX\\rangle &= \\\\\\\\\n",
    "\\langle YY\\rangle &=\n",
    "\\end{align}\n",
    "$$"
   ]
  },
  {
   "cell_type": "markdown",
   "metadata": {},
   "source": [
    "<h3 style=\"font-size: 20px\">2. Measure the expected energy of the system using the qasm simulator when two qubits are entangled. Regard the bell basis, four different entangled states.</h3>"
   ]
  },
  {
   "cell_type": "markdown",
   "metadata": {},
   "source": [
    "<h4 style=\"font-size: 17px\">&#128211;Step A. Construct the circuits to prepare four different bell states.</h4>\n",
    "\n",
    "Let's label each bell state as\n",
    "$$\n",
    "\\begin{align}\n",
    "Tri1 &= \\frac{1}{\\sqrt2} (|00\\rangle + |11\\rangle)\\\\\n",
    "Tri2 &= \\frac{1}{\\sqrt2} (|00\\rangle - |11\\rangle)\\\\\n",
    "Tri3 &= \\frac{1}{\\sqrt2} (|01\\rangle + |10\\rangle)\\\\\n",
    "Sing &= \\frac{1}{\\sqrt2} (|10\\rangle - |01\\rangle)\n",
    "\\end{align}\n",
    "$$"
   ]
  },
  {
   "cell_type": "code",
   "execution_count": 6,
   "metadata": {},
   "outputs": [],
   "source": [
    "# circuit for the state Tri1\n",
    "Tri1 = QuantumCircuit(2)\n",
    "# your code goes here\n",
    "\n",
    "\n",
    "\n",
    "\n",
    "\n",
    "\n",
    "# circuit for the state Tri2\n",
    "Tri2 = QuantumCircuit(2)\n",
    "# your code goes here\n",
    "\n",
    "\n",
    "\n",
    "\n",
    "\n",
    "# circuit for the state Tri3\n",
    "Tri3 = QuantumCircuit(2)\n",
    "# your code goes here\n",
    "\n",
    "\n",
    "\n",
    "\n",
    "\n",
    "\n",
    "# circuit for the state Sing\n",
    "Sing = QuantumCircuit(2)\n",
    "# your code goes here\n",
    "\n",
    "\n",
    "\n",
    "\n",
    "\n"
   ]
  },
  {
   "cell_type": "markdown",
   "metadata": {},
   "source": [
    "<h4 style=\"font-size: 17px\">&#128211;Step B. Create the circuits to measure the expectation value of each term in the Hamiltonian based on your answer to the question 1.</h4>"
   ]
  },
  {
   "cell_type": "code",
   "execution_count": 135,
   "metadata": {},
   "outputs": [],
   "source": [
    "# <ZZ> \n",
    "measure_ZZ = QuantumCircuit(2)\n",
    "measure_ZZ.measure_all()\n",
    "\n",
    "# <XX>\n",
    "measure_XX = QuantumCircuit(2)\n",
    "# your code goes here\n",
    "\n",
    "\n",
    "\n",
    "\n",
    "\n",
    "# <YY>\n",
    "measure_YY = QuantumCircuit(2)\n",
    "# your code goes here\n",
    "\n",
    "\n",
    "\n",
    "\n"
   ]
  },
  {
   "cell_type": "markdown",
   "metadata": {},
   "source": [
    " <h4 style=\"font-size: 17px\">Step C. Execute the circuits on qasm simulator by running the cell below and evaluate the energy expectation value for each state.</h4>"
   ]
  },
  {
   "cell_type": "code",
   "execution_count": 136,
   "metadata": {},
   "outputs": [],
   "source": [
    "shots = 2**14 # number of samples used for statistics\n",
    "\n",
    "A = 1.47e-6 #unit of A is eV\n",
    "E_sim = []\n",
    "for state_init in [Tri1,Tri2,Tri3,Sing]:\n",
    "    Energy_meas = []\n",
    "    for measure_circuit in [measure_XX, measure_YY, measure_ZZ]:\n",
    "    \n",
    "        # run the circuit with the selected measurement and get the number of samples that output each bit value\n",
    "        qc = state_init+measure_circuit\n",
    "        counts = execute(qc, sim, shots=shots).result().get_counts()\n",
    "\n",
    "        # calculate the probabilities for each computational basis\n",
    "        probs = {}\n",
    "        for output in ['00','01', '10', '11']:\n",
    "            if output in counts:\n",
    "                probs[output] = counts[output]/shots\n",
    "            else:\n",
    "                probs[output] = 0\n",
    "            \n",
    "        Energy_meas.append( probs['00'] - probs['01'] - probs['10'] + probs['11'] )\n",
    " \n",
    "    E_sim.append(A * np.sum(np.array(Energy_meas)))"
   ]
  },
  {
   "cell_type": "code",
   "execution_count": 7,
   "metadata": {},
   "outputs": [],
   "source": [
    "# Run this cell to print out your results\n",
    "\n",
    "print('Energy expectation value of the state Tri1 : {:.3e} eV'.format(E_sim[0]))\n",
    "print('Energy expectation value of the state Tri2 : {:.3e} eV'.format(E_sim[1]))\n",
    "print('Energy expectation value of the state Tri3 : {:.3e} eV'.format(E_sim[2]))\n",
    "print('Energy expectation value of the state Sing : {:.3e} eV'.format(E_sim[3]))"
   ]
  },
  {
   "cell_type": "markdown",
   "metadata": {},
   "source": [
    " <h4 style=\"font-size: 17px\">Step D. Understanding the result. </h4>\n",
    "\n",
    "If you found the energy expectation values successfully, you would have obtained exactly the same value, $A (= 1.47e^{-6} eV)$, for the triplet states, $|Tri1\\rangle, |Tri2\\rangle, |Tri3\\rangle$ and one lower energy level, $-3A (= -4.41e^{-6} eV)$ for the singlet state $|Sing\\rangle$.   \n",
    "\n",
    "What we have done here is measuring the energies of the four different spin states corresponding to the ground state of hydrogen and observed `hyperfine structure` in the energy levels caused by spin-spin coupling.  This tiny energy difference between the singlet and triplet states is the reason for the famous 21-cm wavelength radiation used to map the structure of the galaxy.  "
   ]
  },
  {
   "cell_type": "markdown",
   "metadata": {},
   "source": [
    "In the cell below, we verify the wavelength of the emission from the transition between the triplet states and singlet state. "
   ]
  },
  {
   "cell_type": "code",
   "execution_count": 8,
   "metadata": {},
   "outputs": [],
   "source": [
    "# reduced plank constant in (eV) and the speed of light(cgs units)\n",
    "hbar, c = 4.1357e-15, 3e10\n",
    "\n",
    "# energy difference between the triplets and singlet\n",
    "E_del = abs(E_sim[0] - E_sim[3])\n",
    "\n",
    "# frequency associated with the energy difference\n",
    "f = E_del/hbar\n",
    "\n",
    "# convert frequency to wavelength in (cm) \n",
    "wavelength = c/f\n",
    "\n",
    "print('The wavelength of the radiation from the transition\\\n",
    " in the hyperfine structure is : {:.1f} cm'.format(wavelength))"
   ]
  },
  {
   "cell_type": "markdown",
   "metadata": {},
   "source": [
    "<h2 style=\"font-size:24px;\">Part 3: Execute the circuits on Quantum Computer</h2>\n",
    "\n",
    "<br>\n",
    "<div style=\"background: #E8E7EB; border-radius: 5px;\n",
    "-moz-border-radius: 5px;\">\n",
    "  <p style=\"background: #800080;\n",
    "            border-radius: 5px 5px 0px 0px;\n",
    "            padding: 10px 0px 10px 10px;\n",
    "            font-size:18px;\n",
    "            color:white;\n",
    "            \"><b>Goal</b></p>\n",
    "    <p style=\" padding: 0px 0px 10px 10px;\n",
    "              font-size:16px;\"> Re-run the circuits on a IBM quantum system.  Perform measurement error mitigations on the result to improve the accuracy in the energy estimation.</p>\n",
    "</div>"
   ]
  },
  {
   "cell_type": "markdown",
   "metadata": {},
   "source": [
    "<h4 style=\"font-size: 17px\">Step A. Run the following cells to load your account and select the backend </h4>"
   ]
  },
  {
   "cell_type": "code",
   "execution_count": 139,
   "metadata": {
    "tags": [
     "uses-hardware"
    ]
   },
   "outputs": [],
   "source": [
    "provider = IBMQ.load_account()"
   ]
  },
  {
   "cell_type": "code",
   "execution_count": 178,
   "metadata": {
    "tags": [
     "uses-hardware"
    ]
   },
   "outputs": [],
   "source": [
    "backend = provider.get_backend('ibmq_athens')"
   ]
  },
  {
   "cell_type": "markdown",
   "metadata": {},
   "source": [
    "<h4 style=\"font-size: 17px\">Step B. Execute the circuits on the quantum system. </h4>\n",
    "\n",
    "\n",
    "In Lab1 when we executed multiple circuits on a real quantum system, we submitted each circuit as a separate job which produces the multiple job ids. This time, we put all the circuits in a list and execute the list of the circuits as one job. In this way, all the circuit executions can happen at once, which would possibly decrease your wait time in the queue.\n",
    "\n",
    "In addition, `transpile` is not used here as all the circuits that we run consist of one or two qubit gates.  We can still specify the initial_layout and optimization_level through `execute` function.  Without using `transpile`, the transpiled circuits are not accessible which is not a concern for this case. "
   ]
  },
  {
   "cell_type": "markdown",
   "metadata": {},
   "source": [
    "<p>&#128211; Check the backend configuration information and error map through the widget to determine your <code>initial_layout</code>."
   ]
  },
  {
   "cell_type": "code",
   "execution_count": null,
   "metadata": {
    "tags": [
     "uses-hardware"
    ]
   },
   "outputs": [],
   "source": [
    "# run this cell to get the backend information through the widget\n",
    "backend"
   ]
  },
  {
   "cell_type": "code",
   "execution_count": null,
   "metadata": {
    "tags": [
     "uses-hardware"
    ]
   },
   "outputs": [],
   "source": [
    "# assign your choice for the initial layout to the list variable `initial_layout`.\n",
    "initial_layout = "
   ]
  },
  {
   "cell_type": "markdown",
   "metadata": {},
   "source": [
    "Run the following cell to execute the circuits with the initial_layout on the backend."
   ]
  },
  {
   "cell_type": "code",
   "execution_count": 9,
   "metadata": {
    "tags": [
     "uses-hardware"
    ]
   },
   "outputs": [],
   "source": [
    "qc_all = [state_init+measure_circuit for state_init in [Tri1,Tri2,Tri3,Sing] \n",
    "          for measure_circuit in [measure_XX, measure_YY, measure_ZZ] ]  \n",
    "\n",
    "shots = 8192\n",
    "job = execute(qc_all, backend, initial_layout=initial_layout, optimization_level=3, shots=shots)\n",
    "print(job.job_id())\n",
    "job_monitor(job)"
   ]
  },
  {
   "cell_type": "code",
   "execution_count": 159,
   "metadata": {
    "tags": [
     "uses-hardware"
    ]
   },
   "outputs": [],
   "source": [
    "# getting the results of your job\n",
    "results = job.result()"
   ]
  },
  {
   "cell_type": "code",
   "execution_count": 160,
   "metadata": {
    "tags": [
     "uses-hardware"
    ]
   },
   "outputs": [],
   "source": [
    "## To access the results of the completed job\n",
    "#results = backend.retrieve_job('job_id').result()"
   ]
  },
  {
   "cell_type": "markdown",
   "metadata": {},
   "source": [
    "<h4 style=\"font-size: 17px\">Step C. Estimate the ground state energy levels from the results of the previous step by executing the cells below. </h4>"
   ]
  },
  {
   "cell_type": "code",
   "execution_count": 161,
   "metadata": {
    "tags": [
     "uses-hardware"
    ]
   },
   "outputs": [],
   "source": [
    "def Energy(results, shots):\n",
    "    \"\"\"Compute the energy levels of the hydrogen ground state.\n",
    "    \n",
    "    Parameters:\n",
    "        results (obj): results, results from executing the circuits for measuring a Hamiltonian.\n",
    "        shots (int): shots, number of shots used for the circuit execution.\n",
    "        \n",
    "    Returns:\n",
    "        Energy (list): energy values of the four different hydrogen ground states\n",
    "    \"\"\"\n",
    "    E = []\n",
    "    A = 1.47e-6\n",
    "\n",
    "    for ind_state in range(4):\n",
    "        Energy_meas = []\n",
    "        for ind_comp in range(3):\n",
    "            counts = results.get_counts(ind_state*3+ind_comp)\n",
    "        \n",
    "            # calculate the probabilities for each computational basis\n",
    "            probs = {}\n",
    "            for output in ['00','01', '10', '11']:\n",
    "                if output in counts:\n",
    "                    probs[output] = counts[output]/shots\n",
    "                else:\n",
    "                    probs[output] = 0\n",
    "            \n",
    "            Energy_meas.append( probs['00'] - probs['01'] - probs['10'] + probs['11'] )\n",
    "\n",
    "        E.append(A * np.sum(np.array(Energy_meas)))\n",
    "    \n",
    "    return E"
   ]
  },
  {
   "cell_type": "code",
   "execution_count": 10,
   "metadata": {
    "tags": [
     "uses-hardware"
    ]
   },
   "outputs": [],
   "source": [
    "E = Energy(results, shots)\n",
    "\n",
    "print('Energy expectation value of the state Tri1 : {:.3e} eV'.format(E[0]))\n",
    "print('Energy expectation value of the state Tri2 : {:.3e} eV'.format(E[1]))\n",
    "print('Energy expectation value of the state Tri3 : {:.3e} eV'.format(E[2]))\n",
    "print('Energy expectation value of the state Sing : {:.3e} eV'.format(E[3]))"
   ]
  },
  {
   "cell_type": "markdown",
   "metadata": {},
   "source": [
    "<h4 style=\"font-size: 17px\">Step D. Measurement error mitigation. </h4>\n",
    "\n",
    "The results you obtained from running the circuits on the quantum system are not exact due to the noise from the various sources such as energy relaxation, dephasing, crosstalk between qubits, etc. In this step, we will alleviate the effects of the noise through the measurement error mitigation. Before we start, watch this [video](https://www.youtube.com/watch?v=yuDxHJOKsVA&list=PLOFEBzvs-Vvp2xg9-POLJhQwtVktlYGbY&index=8). "
   ]
  },
  {
   "cell_type": "code",
   "execution_count": 163,
   "metadata": {
    "tags": [
     "uses-hardware"
    ]
   },
   "outputs": [],
   "source": [
    "from qiskit.ignis.mitigation.measurement import *"
   ]
  },
  {
   "cell_type": "markdown",
   "metadata": {},
   "source": [
    "<p>&#128211;Construct the circuits to profile the measurement errors of all basis states using the function 'complete_meas_cal'.  Obtain the measurement filter object, 'meas_filter', which will be applied to the noisy results to mitigate readout (measurement) error. "
   ]
  },
  {
   "cell_type": "markdown",
   "metadata": {},
   "source": [
    "For further helpful information to complete this task, check [here](https://qiskit.org/textbook/ch-quantum-hardware/measurement-error-mitigation.html)."
   ]
  },
  {
   "cell_type": "code",
   "execution_count": 11,
   "metadata": {
    "scrolled": true,
    "tags": [
     "uses-hardware"
    ]
   },
   "outputs": [],
   "source": [
    "# your code to create the circuits, meas_calibs, goes here\n",
    "meas_calibs, state_labels = \n",
    "\n",
    "\n",
    "\n",
    "# execute meas_calibs on your choice of the backend\n",
    "job = execute(meas_calibs, backend, shots = shots)\n",
    "print(job.job_id())\n",
    "job_monitor(job)\n",
    "cal_results = job.result()\n",
    "## To access the results of the completed job\n",
    "#cal_results = backend.retrieve_job('job_id').result()\n",
    "\n",
    "\n",
    "# your code to obtain the measurement filter object, 'meas_filter', goes here\n",
    "\n",
    "\n",
    "\n",
    "\n"
   ]
  },
  {
   "cell_type": "code",
   "execution_count": 165,
   "metadata": {
    "tags": [
     "uses-hardware"
    ]
   },
   "outputs": [],
   "source": [
    "results_new = meas_filter.apply(results)"
   ]
  },
  {
   "cell_type": "code",
   "execution_count": 13,
   "metadata": {
    "tags": [
     "uses-hardware"
    ]
   },
   "outputs": [],
   "source": [
    "E_new = Energy(results_new, shots)\n",
    "\n",
    "print('Energy expectation value of the state Tri1 : {:.3e} eV'.format(E_new[0]))\n",
    "print('Energy expectation value of the state Tri2 : {:.3e} eV'.format(E_new[1]))\n",
    "print('Energy expectation value of the state Tri3 : {:.3e} eV'.format(E_new[2]))\n",
    "print('Energy expectation value of the state Sing : {:.3e} eV'.format(E_new[3]))"
   ]
  },
  {
   "cell_type": "markdown",
   "metadata": {},
   "source": [
    "<h4 style=\"font-size: 17px\">Step E. Interpret the result. </h4>"
   ]
  },
  {
   "cell_type": "markdown",
   "metadata": {},
   "source": [
    "<p>&#128211; Compute the relative errors (or the fractional error) of the energy values for all four states with and without measurement error mitigation."
   ]
  },
  {
   "cell_type": "code",
   "execution_count": 167,
   "metadata": {
    "tags": [
     "uses-hardware"
    ]
   },
   "outputs": [],
   "source": [
    "# results for the energy estimation from the simulation, \n",
    "# execution on a quantum system without error mitigation and\n",
    "# with error mitigation in numpy array format \n",
    "Energy_exact, Energy_exp_orig, Energy_exp_new = np.array(E_sim), np.array(E), np.array(E_new)"
   ]
  },
  {
   "cell_type": "code",
   "execution_count": 179,
   "metadata": {
    "tags": [
     "uses-hardware"
    ]
   },
   "outputs": [],
   "source": [
    "# Calculate the relative errors of the energy values without error mitigation \n",
    "# and assign to the numpy array variable `Err_rel_orig` of size 4\n",
    "Err_rel_orig = "
   ]
  },
  {
   "cell_type": "code",
   "execution_count": 169,
   "metadata": {
    "tags": [
     "uses-hardware"
    ]
   },
   "outputs": [],
   "source": [
    "# Calculate the relative errors of the energy values with error mitigation \n",
    "# and assign to the numpy array variable `Err_rel_new` of size 4\n",
    "Err_rel_new = "
   ]
  },
  {
   "cell_type": "code",
   "execution_count": 14,
   "metadata": {
    "tags": [
     "uses-hardware"
    ]
   },
   "outputs": [],
   "source": [
    "np.set_printoptions(precision=3)\n",
    "\n",
    "print('The relative errors of the energy values for four bell basis\\\n",
    " without measurement error mitigation : {}'.format(Err_rel_orig))"
   ]
  },
  {
   "cell_type": "code",
   "execution_count": 15,
   "metadata": {
    "tags": [
     "uses-hardware"
    ]
   },
   "outputs": [],
   "source": [
    "np.set_printoptions(precision=3)\n",
    "\n",
    "print('The relative errors of the energy values for four bell basis\\\n",
    " with measurement error mitigation : {}'.format(Err_rel_new))"
   ]
  },
  {
   "cell_type": "markdown",
   "metadata": {},
   "source": [
    "<p>&#128211; Compare the size of the errors before and after the measurement error mitigation and discuss about the effect of the readout error regarding the error map information of the backend that you selected.  "
   ]
  },
  {
   "cell_type": "markdown",
   "metadata": {},
   "source": [
    "**Your answer:**"
   ]
  }
 ],
 "metadata": {
  "kernelspec": {
   "display_name": "Python 3",
   "language": "python",
   "name": "python3"
  },
  "language_info": {
   "codemirror_mode": {
    "name": "ipython",
    "version": 3
   },
   "file_extension": ".py",
   "mimetype": "text/x-python",
   "name": "python",
   "nbconvert_exporter": "python",
   "pygments_lexer": "ipython3",
   "version": "3.7.7"
  },
  "widgets": {
   "application/vnd.jupyter.widget-state+json": {
    "state": {
     "053a7a003d384dfebb97c58df06898e5": {
      "model_module": "@jupyter-widgets/controls",
      "model_module_version": "1.5.0",
      "model_name": "HTMLModel",
      "state": {
       "layout": "IPY_MODEL_98a58049fb764105bd20af4f5a26b992",
       "style": "IPY_MODEL_8ce05649dbcc4a75a8fdd3b74147b7d3",
       "value": "<h5>Backend</h5>"
      }
     },
     "1407ba5e1f6f4609bb0eaa98e583c5eb": {
      "model_module": "@jupyter-widgets/controls",
      "model_module_version": "1.5.0",
      "model_name": "DescriptionStyleModel",
      "state": {
       "description_width": ""
      }
     },
     "292078c1a0714234a771b6c726222f4f": {
      "model_module": "@jupyter-widgets/base",
      "model_module_version": "1.2.0",
      "model_name": "LayoutModel",
      "state": {
       "grid_area": "right",
       "padding": "0px 0px 0px 0px",
       "width": "70px"
      }
     },
     "2c620d67515e435c8f97c69ff12dac64": {
      "model_module": "@jupyter-widgets/controls",
      "model_module_version": "1.5.0",
      "model_name": "HTMLModel",
      "state": {
       "layout": "IPY_MODEL_35c0cbc92bcd4d9abd21f1fbcb8de5e5",
       "style": "IPY_MODEL_1407ba5e1f6f4609bb0eaa98e583c5eb",
       "value": "<h5>Job ID</h5>"
      }
     },
     "30041a66acd34e1ba9ba9c5ecc341b02": {
      "model_module": "@jupyter-widgets/controls",
      "model_module_version": "1.5.0",
      "model_name": "ButtonModel",
      "state": {
       "button_style": "primary",
       "description": "Clear",
       "layout": "IPY_MODEL_292078c1a0714234a771b6c726222f4f",
       "style": "IPY_MODEL_649905a5e6a34a1f9cfdb7216b254578"
      }
     },
     "35c0cbc92bcd4d9abd21f1fbcb8de5e5": {
      "model_module": "@jupyter-widgets/base",
      "model_module_version": "1.2.0",
      "model_name": "LayoutModel",
      "state": {
       "width": "190px"
      }
     },
     "4c31796715eb4f19a97b4bd647f3aa15": {
      "model_module": "@jupyter-widgets/controls",
      "model_module_version": "1.5.0",
      "model_name": "HBoxModel",
      "state": {
       "children": [
        "IPY_MODEL_2c620d67515e435c8f97c69ff12dac64",
        "IPY_MODEL_053a7a003d384dfebb97c58df06898e5",
        "IPY_MODEL_d4d9c546cd364c449692c73ccc217387",
        "IPY_MODEL_da0721ffb6964a7dabf3ef390d3b1a24",
        "IPY_MODEL_bda6cd9e1a39461cbb45c1782cd7bb8e"
       ],
       "layout": "IPY_MODEL_85de4a191ba24884a21b27f7097ea867"
      }
     },
     "5c968b5f5d8d422e8838e021f921fb64": {
      "model_module": "@jupyter-widgets/controls",
      "model_module_version": "1.5.0",
      "model_name": "DescriptionStyleModel",
      "state": {
       "description_width": ""
      }
     },
     "649905a5e6a34a1f9cfdb7216b254578": {
      "model_module": "@jupyter-widgets/controls",
      "model_module_version": "1.5.0",
      "model_name": "ButtonStyleModel",
      "state": {}
     },
     "7345eadaf8cb49019b7b818093cc220c": {
      "model_module": "@jupyter-widgets/base",
      "model_module_version": "1.2.0",
      "model_name": "LayoutModel",
      "state": {
       "width": "95px"
      }
     },
     "85de4a191ba24884a21b27f7097ea867": {
      "model_module": "@jupyter-widgets/base",
      "model_module_version": "1.2.0",
      "model_name": "LayoutModel",
      "state": {
       "margin": "0px 0px 0px 37px",
       "width": "600px"
      }
     },
     "86d543d59d874dba87a6596166bfc26f": {
      "model_module": "@jupyter-widgets/controls",
      "model_module_version": "1.5.0",
      "model_name": "DescriptionStyleModel",
      "state": {
       "description_width": ""
      }
     },
     "885b4e893c1a4044a1e11a58b3488fb9": {
      "model_module": "@jupyter-widgets/base",
      "model_module_version": "1.2.0",
      "model_name": "LayoutModel",
      "state": {}
     },
     "8c0a0af9ecb54e6bb483f4a6857b0837": {
      "model_module": "@jupyter-widgets/base",
      "model_module_version": "1.2.0",
      "model_name": "LayoutModel",
      "state": {
       "width": "70px"
      }
     },
     "8ce05649dbcc4a75a8fdd3b74147b7d3": {
      "model_module": "@jupyter-widgets/controls",
      "model_module_version": "1.5.0",
      "model_name": "DescriptionStyleModel",
      "state": {
       "description_width": ""
      }
     },
     "98a58049fb764105bd20af4f5a26b992": {
      "model_module": "@jupyter-widgets/base",
      "model_module_version": "1.2.0",
      "model_name": "LayoutModel",
      "state": {
       "width": "145px"
      }
     },
     "b5a93c630bdc412f86c0b82a808b835c": {
      "model_module": "@jupyter-widgets/controls",
      "model_module_version": "1.5.0",
      "model_name": "HTMLModel",
      "state": {
       "layout": "IPY_MODEL_dc44bab9524c466dae14fc606971cc66",
       "style": "IPY_MODEL_5c968b5f5d8d422e8838e021f921fb64",
       "value": "<p style='font-family: IBM Plex Sans, Arial, Helvetica, sans-serif; font-size: 20px; font-weight: medium;'>Circuit Properties</p>"
      }
     },
     "bda6cd9e1a39461cbb45c1782cd7bb8e": {
      "model_module": "@jupyter-widgets/controls",
      "model_module_version": "1.5.0",
      "model_name": "HTMLModel",
      "state": {
       "layout": "IPY_MODEL_885b4e893c1a4044a1e11a58b3488fb9",
       "style": "IPY_MODEL_c0a7bfb516af4616a82e1a5498a16944",
       "value": "<h5>Message</h5>"
      }
     },
     "c0a7bfb516af4616a82e1a5498a16944": {
      "model_module": "@jupyter-widgets/controls",
      "model_module_version": "1.5.0",
      "model_name": "DescriptionStyleModel",
      "state": {
       "description_width": ""
      }
     },
     "d4d9c546cd364c449692c73ccc217387": {
      "model_module": "@jupyter-widgets/controls",
      "model_module_version": "1.5.0",
      "model_name": "HTMLModel",
      "state": {
       "layout": "IPY_MODEL_7345eadaf8cb49019b7b818093cc220c",
       "style": "IPY_MODEL_e0b7db9b0a194fdb8d39fda0871c98da",
       "value": "<h5>Status</h5>"
      }
     },
     "da0721ffb6964a7dabf3ef390d3b1a24": {
      "model_module": "@jupyter-widgets/controls",
      "model_module_version": "1.5.0",
      "model_name": "HTMLModel",
      "state": {
       "layout": "IPY_MODEL_8c0a0af9ecb54e6bb483f4a6857b0837",
       "style": "IPY_MODEL_86d543d59d874dba87a6596166bfc26f",
       "value": "<h5>Queue</h5>"
      }
     },
     "dc44bab9524c466dae14fc606971cc66": {
      "model_module": "@jupyter-widgets/base",
      "model_module_version": "1.2.0",
      "model_name": "LayoutModel",
      "state": {
       "margin": "0px 0px 10px 0px"
      }
     },
     "dc6c351bd90e4b18b81eb926e7b9577c": {
      "model_module": "@jupyter-widgets/base",
      "model_module_version": "1.2.0",
      "model_name": "LayoutModel",
      "state": {
       "grid_template_areas": "\n                                       \". . . . right \"\n                                        ",
       "grid_template_columns": "20% 20% 20% 20% 20%",
       "width": "100%"
      }
     },
     "e0b7db9b0a194fdb8d39fda0871c98da": {
      "model_module": "@jupyter-widgets/controls",
      "model_module_version": "1.5.0",
      "model_name": "DescriptionStyleModel",
      "state": {
       "description_width": ""
      }
     },
     "e7a44e7bd5e047cf844561941c72dec0": {
      "model_module": "@jupyter-widgets/controls",
      "model_module_version": "1.5.0",
      "model_name": "GridBoxModel",
      "state": {
       "children": [
        "IPY_MODEL_30041a66acd34e1ba9ba9c5ecc341b02"
       ],
       "layout": "IPY_MODEL_dc6c351bd90e4b18b81eb926e7b9577c"
      }
     }
    },
    "version_major": 2,
    "version_minor": 0
   }
  }
 },
 "nbformat": 4,
 "nbformat_minor": 2
}
