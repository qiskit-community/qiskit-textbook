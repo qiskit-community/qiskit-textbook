{
 "cells": [
  {
   "cell_type": "markdown",
   "id": "outstanding-canada",
   "metadata": {},
   "source": [
    "<h1 style=\"font-size:35px;\n",
    "        color:black;\n",
    "        \">Lab 8 Quantum Error Correction - I</h1>\n",
    " "
   ]
  },
  {
   "cell_type": "markdown",
   "id": "binary-desperate",
   "metadata": {},
   "source": [
    "Prerequisite\n",
    "- [5.1 Introduction to Quantum Error Correction](https://qiskit.org/textbook/ch-quantum-hardware/error-correction-repetition-code.html#Storing-qubits)\n",
    "- [3.6 Quantum Phase Estimation](https://qiskit.org/textbook/ch-algorithms/quantum-phase-estimation.html)\n",
    "\n",
    "Other relevant materials\n",
    "- [Statevector method](https://qiskit.org/documentation/stubs/qiskit.quantum_info.Statevector.html#qiskit.quantum_info.Statevector.from_instruction)\n",
    "- [qsphere](https://qiskit.org/documentation/tutorials/circuits/2_plotting_data_in_qiskit.html#Plot-State)"
   ]
  },
  {
   "cell_type": "code",
   "execution_count": 1,
   "id": "associate-wright",
   "metadata": {},
   "outputs": [],
   "source": [
    "from qiskit import *\n",
    "from qiskit.visualization import plot_histogram\n",
    "from qiskit.visualization import plot_state_qsphere, plot_bloch_vector\n",
    "\n",
    "from qiskit.quantum_info import Statevector\n",
    "\n",
    "import numpy as np"
   ]
  },
  {
   "cell_type": "code",
   "execution_count": 2,
   "id": "leading-butler",
   "metadata": {},
   "outputs": [],
   "source": [
    "sim = Aer.get_backend('qasm_simulator')"
   ]
  },
  {
   "cell_type": "markdown",
   "id": "exclusive-gambling",
   "metadata": {},
   "source": [
    "<h2 style=\"font-size:24px;\"> Part 1: 3-qubit code </h2>\n",
    "\n",
    "<br>\n",
    "<div style=\"background: #E8E7EB; border-radius: 5px;\n",
    "-moz-border-radius: 5px;\">\n",
    "  <p style=\"background: #800080;\n",
    "            border-radius: 5px 5px 0px 0px;\n",
    "            padding: 10px 0px 10px 10px;\n",
    "            font-size:18px;\n",
    "            color:white;\n",
    "            \"><b>Goal</b></p>\n",
    "    <p style=\" padding: 0px 0px 10px 10px;\n",
    "              font-size:16px;\"> Create circuits for 3-qubit code that encodes a one qubit state into a three qubit code state and utilize partiy check to detect and localise either bit-flip ( X ) or phase-flip ( Z ) errors on a single qubit in the codes.</p>\n",
    "</div>"
   ]
  },
  {
   "cell_type": "markdown",
   "id": "legal-component",
   "metadata": {},
   "source": [
    "<h3 style=\"font-size: 20px\"> 1. Detect and locate a single bit-flip ( X ) error utilizing 3-qubit code and parity check circuit.</h3>"
   ]
  },
  {
   "cell_type": "markdown",
   "id": "younger-metro",
   "metadata": {},
   "source": [
    "<h4 style=\"font-size: 17px\">&#128211;Step A. Create a circuit to encode the state $|\\psi\\rangle = \\frac{1}{\\sqrt{2}}(|0\\rangle + i|1\\rangle)$ into 3-qubit code state, $\\frac{1}{\\sqrt{2}}(|000\\rangle + i|111\\rangle)$ to be protected from one bit-flip ( X ) error.</h4>"
   ]
  },
  {
   "cell_type": "code",
   "execution_count": 1,
   "id": "severe-graduation",
   "metadata": {},
   "outputs": [],
   "source": [
    "qc_3qx = QuantumCircuit(3)\n",
    "\n",
    "### your code goes here. ###\n",
    "\n",
    "\n",
    "\n",
    "\n",
    "#######\n",
    "qc_3qx.draw('mpl')"
   ]
  },
  {
   "cell_type": "markdown",
   "id": "baking-venezuela",
   "metadata": {},
   "source": [
    "<h4 style=\"font-size: 17px\">&#128211;Step B. Plot the 3-qubit code state produced by the above circuit, `qc_3qx` on the qsphere to validate the encoding.  </h4>"
   ]
  },
  {
   "cell_type": "markdown",
   "id": "bridal-hydrogen",
   "metadata": {},
   "source": [
    "- Check the [method](https://qiskit.org/documentation/stubs/qiskit.quantum_info.Statevector.html#qiskit.quantum_info.Statevector.from_instruction) which returns a statevector produced by a quantum circuit.\n",
    "- Check [here](https://qiskit.org/documentation/tutorials/circuits/2_plotting_data_in_qiskit.html#Plot-State) to plot a quantum state on the qsphere."
   ]
  },
  {
   "cell_type": "markdown",
   "id": "sapphire-motorcycle",
   "metadata": {},
   "source": [
    "The state displayed on the qshpere should match the 3-qubit code state for $|\\psi\\rangle$ upto a global phase."
   ]
  },
  {
   "cell_type": "code",
   "execution_count": 2,
   "id": "temporal-fundamentals",
   "metadata": {},
   "outputs": [],
   "source": [
    "### your code goes here ###\n",
    "\n",
    "\n",
    "\n"
   ]
  },
  {
   "cell_type": "markdown",
   "id": "studied-stylus",
   "metadata": {},
   "source": [
    "<h4 style=\"font-size: 17px\">Step C. Implement the parity check gates to detect and localize a single bit flip error on the code qubits.</h4>"
   ]
  },
  {
   "cell_type": "markdown",
   "id": "extreme-serve",
   "metadata": {},
   "source": [
    "Following operation will apply a single bit flip error on the code. Execute the cells below."
   ]
  },
  {
   "cell_type": "code",
   "execution_count": 5,
   "id": "soviet-scenario",
   "metadata": {},
   "outputs": [],
   "source": [
    "def apply_err(n, err):\n",
    "    \n",
    "    qc = QuantumCircuit(int(n), name='Error')\n",
    "    which_qubit = np.random.randint(n)\n",
    "    \n",
    "    if err=='bit':\n",
    "        qc.x(which_qubit)\n",
    "    elif err=='phase':\n",
    "        qc.z(which_qubit)\n",
    "    else:\n",
    "        pass\n",
    "    \n",
    "    err = qc.to_gate()\n",
    "    \n",
    "    return err, which_qubit"
   ]
  },
  {
   "cell_type": "code",
   "execution_count": 3,
   "id": "demanding-external",
   "metadata": {},
   "outputs": [],
   "source": [
    "err, which_qubit = apply_err(3, 'bit')\n",
    "\n",
    "qc_3qx.append(err,range(3))\n",
    "qc_3qx.draw('mpl')"
   ]
  },
  {
   "cell_type": "markdown",
   "id": "opening-explosion",
   "metadata": {},
   "source": [
    "&#128211; Apply the parity check gates on the circuit `qc` with the extra registers for the appropriate number of auxiliary qubits and syndrome bits to locate a bit-flip ( X ) error on a single qubit in the code. ( For 3 qubit code, the number of syndrome bit states is equal to the number of possible single bit-flip error, including no error.)"
   ]
  },
  {
   "cell_type": "code",
   "execution_count": 4,
   "id": "metric-commission",
   "metadata": {},
   "outputs": [],
   "source": [
    "# Execute this cell to add the extra registers\n",
    "\n",
    "k = int(input('number of auxiliary qubits ( / syndrome bits): '))\n",
    "qc_3qx.add_register(QuantumRegister(k, 'auxiliary'))\n",
    "qc_3qx.add_register(ClassicalRegister(k, 'syndrome'))"
   ]
  },
  {
   "cell_type": "code",
   "execution_count": 5,
   "id": "incorporate-undergraduate",
   "metadata": {
    "scrolled": true
   },
   "outputs": [],
   "source": [
    "# Apply the parity check gates and measure the parities on the syndrome bits to localize a single bit-flip ( X ) error on the code.\n",
    "\n",
    "### your code goes here. ###\n",
    "\n",
    "\n",
    "\n",
    "\n",
    "\n",
    "\n",
    "\n",
    "\n",
    "\n",
    "######\n",
    "\n",
    "qc_3qx.draw('mpl')"
   ]
  },
  {
   "cell_type": "markdown",
   "id": "appreciated-november",
   "metadata": {},
   "source": [
    "<h4 style=\"font-size: 17px\">&#128211;Step D. Complete the dictionary in the following cell to make the syndrome look-up table for all single bit-flip errors on the three qubit code.</h4>"
   ]
  },
  {
   "cell_type": "markdown",
   "id": "interracial-stick",
   "metadata": {},
   "source": [
    "The key of the dictionary is a two-bit string for the syndrome and the values reprent the corresponding a single qubit error gates with the appropriate qubit indicies on the code circuit."
   ]
  },
  {
   "cell_type": "code",
   "execution_count": 6,
   "id": "cooked-ticket",
   "metadata": {},
   "outputs": [],
   "source": [
    "#### complete the dictionary ###\n",
    "\n",
    "table_syndrome = {'00': 'I[0]I[1]I[2]', '01':' your answer ', \n",
    "                  '10':' your answer ', '11':' I[0]X[1]I[2] '}\n",
    "\n",
    "######\n",
    "print(table_syndrome)"
   ]
  },
  {
   "cell_type": "markdown",
   "id": "orange-characteristic",
   "metadata": {},
   "source": [
    "Run the following cell to execute the circuit `qc_xerr` on `qasm_simulator`."
   ]
  },
  {
   "cell_type": "code",
   "execution_count": 7,
   "id": "chubby-inspector",
   "metadata": {},
   "outputs": [],
   "source": [
    "qc_3qx_trans = transpile(qc_3qx, sim)\n",
    "syndrome = sim.run(qc_3qx_trans, shots=1, memory=True).result().get_memory()\n",
    "print(syndrome)"
   ]
  },
  {
   "cell_type": "markdown",
   "id": "cutting-ground",
   "metadata": {},
   "source": [
    "<h4 style=\"font-size: 17px\">&#128211;Step E. Find the single bit-error and two bit-error based on the measured syndrome bits and check your answer with the value of the variable, `which_qubit`.</h4>"
   ]
  },
  {
   "cell_type": "markdown",
   "id": "legislative-conclusion",
   "metadata": {},
   "source": [
    "Run the following cell. "
   ]
  },
  {
   "cell_type": "code",
   "execution_count": 8,
   "id": "wired-savage",
   "metadata": {
    "scrolled": true
   },
   "outputs": [],
   "source": [
    "your_answer = input('Enter the index of the code qubit that underwent bit-flip error: ')\n",
    "print('\\n')\n",
    "print(which_qubit == int(your_answer))"
   ]
  },
  {
   "cell_type": "markdown",
   "id": "monetary-merit",
   "metadata": {},
   "source": [
    "<h4 style=\"font-size: 17px\">Step F. Identify the logical $X$ ( $X_{L}$ ) and logical $Z$ ( $Z_{L}$ ) operators for the three qubit bit flip code.</h4>"
   ]
  },
  {
   "cell_type": "markdown",
   "id": "developed-registration",
   "metadata": {},
   "source": [
    "&#128211; Find the logical $X$, $X_{L}$, for three qubit bit flip code where $X_{L}|000\\rangle = |111\\rangle$. Construct a circuit to perform $X_{L}|0\\rangle_{L}$ and simulate it to check if the state produced by the circuit is $|1\\rangle_{L}$, where the logical code word basis states, $|0\\rangle_{L}$ and $|1\\rangle_{L}$, are encoded as $|0\\rangle_{L} = |000\\rangle, ~ |1\\rangle_{L}=|111\\rangle$ . "
   ]
  },
  {
   "cell_type": "code",
   "execution_count": 9,
   "id": "consistent-confirmation",
   "metadata": {},
   "outputs": [],
   "source": [
    "### your code goes here ###\n",
    "qc_XL = QuantumCircuit(3)\n",
    "qc_XL.x(range(3))\n",
    "qc_XL.measure_all()\n",
    "\n",
    "bits_out = sim.run(qc_XL, shots=1, memory=True).result().get_memory()\n",
    "print(bits_out)"
   ]
  },
  {
   "cell_type": "markdown",
   "id": "genetic-silver",
   "metadata": {},
   "source": [
    "&#128211; Find the minimal weight encoded logical $Z$ ( there are four equivalent $Z_{L}$s. ) where $Z_{L}|+\\rangle_{L} = |-\\rangle_{L}$ and $|+\\rangle_{L} = |0\\rangle_{L} + |1\\rangle_{L}, ~~ |-\\rangle_{L} = |0\\rangle_{L} - |1\\rangle_{L}$ . What is the distance of the three qubit bit flip code? Can it detect or/and correct a single phase-flip ( Z ) error?"
   ]
  },
  {
   "cell_type": "markdown",
   "id": "corporate-aruba",
   "metadata": {},
   "source": [
    "- weight: the weight of an operator is the number of qubits that it acts non-trivially on. ( E.g. $Z\\otimes Z\\otimes I$ has weight 2. )\n",
    "- distance of a code: the minimum number of errors that will change one logical code word basis state to another or the maximum number of errors that can be detected."
   ]
  },
  {
   "cell_type": "markdown",
   "id": "needed-insured",
   "metadata": {},
   "source": [
    "**Your answer :** \n",
    "\n"
   ]
  },
  {
   "cell_type": "markdown",
   "id": "dangerous-fortune",
   "metadata": {},
   "source": [
    "<h3 style=\"font-size: 20px\">2. Construct a circuit that encodes one qubit state into 3-qubit code states and can locate a single phase-flip ( Z ) error through parity check.</h3>"
   ]
  },
  {
   "cell_type": "markdown",
   "id": "marked-entertainment",
   "metadata": {},
   "source": [
    "<h4 style=\"font-size: 17px\">&#128211;Step A. Create a circuit to encode the state $|\\psi\\rangle = \\frac{1}{\\sqrt{2}}(|0\\rangle + i|1\\rangle)$ into a 3-qubit code to protect it from one phase-flip ( Z ) error.</h4>"
   ]
  },
  {
   "cell_type": "markdown",
   "id": "medical-slovenia",
   "metadata": {},
   "source": [
    "Here, the logical code word basis states, $|0\\rangle_{L}$ and $|1\\rangle_{L}$, are encoded as, $|0\\rangle_{L} = |+++\\rangle$ and $|1\\rangle_{L} = |---\\rangle$."
   ]
  },
  {
   "cell_type": "code",
   "execution_count": 10,
   "id": "confident-ownership",
   "metadata": {},
   "outputs": [],
   "source": [
    "qc_3qz = QuantumCircuit(3)\n",
    "\n",
    "### your code goes here. ###\n",
    "\n",
    "\n",
    "\n",
    "\n",
    "\n",
    "########\n",
    "\n",
    "qc_3qz.draw('mpl')"
   ]
  },
  {
   "cell_type": "markdown",
   "id": "academic-effects",
   "metadata": {},
   "source": [
    "<h4 style=\"font-size: 17px\">&#128211;Step B. Implement the parity check gates to detect and localize a single phase flip error on the code qubits.</h4>"
   ]
  },
  {
   "cell_type": "markdown",
   "id": "facial-pollution",
   "metadata": {},
   "source": [
    "Extra registers need to be added on the circuit for the auxiliary qubits and syndrome bits."
   ]
  },
  {
   "cell_type": "code",
   "execution_count": 11,
   "id": "advisory-glenn",
   "metadata": {
    "scrolled": false
   },
   "outputs": [],
   "source": [
    "err, which_qubit = apply_err(3, 'phase')\n",
    "qc_3qz.append(err, range(3))\n",
    "\n",
    "### your code goes here ###\n",
    "\n",
    "\n",
    "\n",
    "\n",
    "\n",
    "\n",
    "\n",
    "\n",
    "\n",
    "\n",
    "\n",
    "##########\n",
    "qc_3qz.draw('mpl')\n"
   ]
  },
  {
   "cell_type": "markdown",
   "id": "valued-straight",
   "metadata": {},
   "source": [
    "Excute the cell below to run the circuit `qc_zerr` on `qasm_simulator`."
   ]
  },
  {
   "cell_type": "code",
   "execution_count": 12,
   "id": "duplicate-dealer",
   "metadata": {},
   "outputs": [],
   "source": [
    "qc_3qz_trans = transpile(qc_3qz, sim)\n",
    "syndrome = sim.run(qc_3qz_trans, shots=1, memory=True).result().get_memory()\n",
    "print(syndrome)"
   ]
  },
  {
   "cell_type": "markdown",
   "id": "fantastic-content",
   "metadata": {},
   "source": [
    "<h4 style=\"font-size: 17px\">&#128211;Step C. Find the single phase-error based on the measured syndrome bits and check your answer with the value of the variable, `which_qubit`.</h4>"
   ]
  },
  {
   "cell_type": "code",
   "execution_count": 13,
   "id": "chinese-emphasis",
   "metadata": {},
   "outputs": [],
   "source": [
    "your_answer = input('Enter the index of the code qubit that underwent phase-flip error: ')\n",
    "print('\\n')\n",
    "print(which_qubit == int(your_answer))"
   ]
  },
  {
   "cell_type": "markdown",
   "id": "western-patch",
   "metadata": {},
   "source": [
    "<h2 style=\"font-size:24px;\"> Part 2: Repetition code as a stabilizer code </h2>\n",
    "\n",
    "<br>\n",
    "<div style=\"background: #E8E7EB; border-radius: 5px;\n",
    "-moz-border-radius: 5px;\">\n",
    "  <p style=\"background: #800080;\n",
    "            border-radius: 5px 5px 0px 0px;\n",
    "            padding: 10px 0px 10px 10px;\n",
    "            font-size:18px;\n",
    "            color:white;\n",
    "            \"><b>Goal</b></p>\n",
    "    <p style=\" padding: 0px 0px 10px 10px;\n",
    "              font-size:16px;\"> Stabilizer formalism defines Quantum Error Correcting Codes ( QECC ) by the set of operators that stabilize the logical code word states, instead of its state vectors. Interpreting quantum error correcting codes in terms of its stabilizers is beneficial since the decription of QECC is more concise and encoded logical operators can be obtained systematically. In the part 2 of this lab, we re-construct the repetition code as a stabilizer code to understand this new method.</p>\n",
    "</div>"
   ]
  },
  {
   "cell_type": "markdown",
   "id": "consolidated-state",
   "metadata": {},
   "source": [
    "<h3 style=\"font-size: 20px\">&#128211; 1. Find the two independent stablizer operators for the 3 qubit code states, $|000\\rangle,~ |111\\rangle$.</h3>"
   ]
  },
  {
   "cell_type": "markdown",
   "id": "quality-alias",
   "metadata": {},
   "source": [
    "- The stabilizer operator $S$ of a n-qubit state $|\\psi\\rangle$ is the set of n-qubit Pauli operators that satisfy $S|\\psi\\rangle = |\\psi\\rangle$."
   ]
  },
  {
   "cell_type": "markdown",
   "id": "ruled-rates",
   "metadata": {},
   "source": [
    "**Your answer :**"
   ]
  },
  {
   "cell_type": "markdown",
   "id": "attractive-uncertainty",
   "metadata": {},
   "source": [
    "<h3 style=\"font-size: 20px\"> 2. Construct a Quantum Phase Estimation ( QPE ) circuit to produce the eigenvalues for one of the stablizer, $I\\otimes Z\\otimes Z$.</h3>"
   ]
  },
  {
   "cell_type": "markdown",
   "id": "higher-separation",
   "metadata": {},
   "source": [
    "<h4 style=\"font-size: 17px\">&#128211;Step A. What are the eigenvalues of the operator $I\\otimes Z \\otimes Z$? Determine the minimum number of counting qubits needed in QPE circuit to estimate the eigenvalue accurately.</h4>"
   ]
  },
  {
   "cell_type": "code",
   "execution_count": 14,
   "id": "executed-winner",
   "metadata": {},
   "outputs": [],
   "source": [
    "## Your answer goes here\n",
    "t = int(input('The number of counting qubit: '))"
   ]
  },
  {
   "cell_type": "markdown",
   "id": "practical-henry",
   "metadata": {},
   "source": [
    "<h4 style=\"font-size: 17px\">&#128211;Step B. Complete the following code to build the QPE circuit. </h4>"
   ]
  },
  {
   "cell_type": "markdown",
   "id": "received-stress",
   "metadata": {},
   "source": [
    "Note: The QPE circuit essentially performs the projective measurement of the operator $I\\otimes Z\\otimes Z$ on the $|\\psi\\rangle = |0\\rangle \\otimes |0\\rangle \\otimes|+\\rangle$."
   ]
  },
  {
   "cell_type": "code",
   "execution_count": 15,
   "id": "sound-honey",
   "metadata": {},
   "outputs": [],
   "source": [
    "qc0 = QuantumCircuit(t+3, 1)\n",
    "\n",
    "qc0.h(-1)\n",
    "qc0.barrier()\n",
    "\n",
    "## your code goes here ##\n",
    "\n",
    "\n",
    "\n",
    "\n",
    "\n",
    "######\n",
    "\n",
    "qc0.measure(0, 0)\n",
    "qc0.draw('mpl')"
   ]
  },
  {
   "cell_type": "code",
   "execution_count": 16,
   "id": "legislative-argentina",
   "metadata": {},
   "outputs": [],
   "source": [
    "counts_qc0 = sim.run(qc0, shots=8192).result().get_counts()\n",
    "plot_histogram(counts_qc0)"
   ]
  },
  {
   "cell_type": "markdown",
   "id": "apparent-prediction",
   "metadata": {},
   "source": [
    "<h4 style=\"font-size: 17px\">&#128211;Step C. Using the circuit identities, convert QPE part of the above circuit `qc0` to the one with only CNOT gates.</h4>"
   ]
  },
  {
   "cell_type": "code",
   "execution_count": 17,
   "id": "cellular-statement",
   "metadata": {},
   "outputs": [],
   "source": [
    "qc1 = QuantumCircuit(t+3, 1)\n",
    "\n",
    "qc1.h(-1)\n",
    "qc1.barrier()\n",
    "\n",
    "## your code goes here ##\n",
    "\n",
    "\n",
    "\n",
    "\n",
    "######\n",
    "\n",
    "qc1.measure(0, 0)\n",
    "qc1.draw('mpl')"
   ]
  },
  {
   "cell_type": "code",
   "execution_count": 18,
   "id": "latin-belle",
   "metadata": {},
   "outputs": [],
   "source": [
    "counts_qc1 = sim.run(qc1, shots=8192).result().get_counts()\n",
    "plot_histogram(counts_qc1)"
   ]
  },
  {
   "cell_type": "markdown",
   "id": "foster-concern",
   "metadata": {},
   "source": [
    "<h4 style=\"font-size: 17px\"> Summary </h4>"
   ]
  },
  {
   "cell_type": "markdown",
   "id": "corporate-finnish",
   "metadata": {},
   "source": [
    "An error correcting code can be defined as an independent set of stabilizers and the errors are dectected by the measurement outcomes of this set of stabilizers.\n",
    "\n",
    "Here, in part2 of this lab, we checked that there are two indepndent stabilizers for the three qubit repetition code, and measuring a stabilizer is equivalent to checking a parity. Therefore, to obtain set of syndromes for a single bit error detection with the three qubit repetition code, the circuit for encoding an arbitrary single qubit state and measuring two stabilizers has the folllowing structure."
   ]
  },
  {
   "cell_type": "markdown",
   "id": "blank-brick",
   "metadata": {},
   "source": [
    "![](image/L8_qec.png)"
   ]
  }
 ],
 "metadata": {
  "kernelspec": {
   "display_name": "Python 3",
   "language": "python",
   "name": "python3"
  },
  "language_info": {
   "codemirror_mode": {
    "name": "ipython",
    "version": 3
   },
   "file_extension": ".py",
   "mimetype": "text/x-python",
   "name": "python",
   "nbconvert_exporter": "python",
   "pygments_lexer": "ipython3",
   "version": "3.7.9"
  }
 },
 "nbformat": 4,
 "nbformat_minor": 5
}
