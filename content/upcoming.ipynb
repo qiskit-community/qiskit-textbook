{
 "cells": [
  {
   "cell_type": "markdown",
   "metadata": {},
   "source": [
    "# Upcoming topics"
   ]
  },
  {
   "cell_type": "markdown",
   "metadata": {},
   "source": [
    "The following topics are currently being developed for addition to the textbook."
   ]
  },
  {
   "cell_type": "markdown",
   "metadata": {},
   "source": [
    "1. Shor's Algorithm\n",
    "2. Overview of Quantum Algorithms for NISQ Hardware\n",
    "3. Mapping the Ising Model onto a Superconducting Quantum Computer\n",
    "4. Solving Combinatorial Optimization Problems using QAOA\n",
    "5. Solving Linear Systems of Equations using HHL\n",
    "6. Securing Communications using BB84\n",
    "7. Decoherence and Energy Relaxation: Measuring T2 and T1\n",
    "8. Optimizing Microwave Pulses for High-Fidelity Qubit Operations\n",
    "9. State and Process Tomography"
   ]
  }
 ],
 "metadata": {
  "kernelspec": {
   "display_name": "Python 3",
   "language": "python",
   "name": "python3"
  },
  "language_info": {
   "codemirror_mode": {
    "name": "ipython",
    "version": 3
   },
   "file_extension": ".py",
   "mimetype": "text/x-python",
   "name": "python",
   "nbconvert_exporter": "python",
   "pygments_lexer": "ipython3",
   "version": "3.7.3"
  }
 },
 "nbformat": 4,
 "nbformat_minor": 2
}
