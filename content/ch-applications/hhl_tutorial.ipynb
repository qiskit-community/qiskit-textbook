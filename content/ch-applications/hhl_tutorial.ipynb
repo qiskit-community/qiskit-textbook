{
 "cells": [
  {
   "cell_type": "markdown",
   "metadata": {
    "tags": [
     "remove_cell"
    ]
   },
   "source": [
    "# Solving linear systems of equations using HHL and its Qiskit implementation"
   ]
  },
  {
   "cell_type": "markdown",
   "metadata": {},
   "source": [
    "In this tutorial, we introduce the HHL algorithm, derive the circuit, and implement it using Qiskit. We show how to run the HHL on a simulator and on a five qubit device."
   ]
  },
  {
   "cell_type": "markdown",
   "metadata": {
    "tags": [
     "contents"
    ]
   },
   "source": [
    "## Contents\n",
    "1. [Introduction](#introduction)\n",
    "2. [The HHL algorithm](#hhlalg)\n",
    "    1. [Some mathematical background](#mathbackground)\n",
    "    2. [Description of the HHL](#hhldescription)\n",
    "    3. [Quantum Phase Estimation (QPE) within HHL](#qpe)\n",
    "    4. [Non-exact QPE](#qpe2)\n",
    "3. [Example 1: 4-qubit HHL](#example1)\n",
    "4. [Qiskit Implementation](#implementation)\n",
    "    1. [Running HHL on a simulator: general method](#implementationsim)\n",
    "    2. [Running HHL on a real quantum device: optimised example](#implementationdev)\n",
    "5. [Problems](#problems)\n",
    "6. [References](#references)"
   ]
  },
  {
   "cell_type": "markdown",
   "metadata": {},
   "source": [
    "## 1. Introduction <a id='introduction'></a>\n",
    "\n",
    "Systems of linear equations arise naturally in many real-life applications in a wide range of areas, such as in the solution of Partial Differential Equations, the calibration of financial models, fluid simulation or numerical field calculation. The problem can be defined as, given a matrix $A\\in\\mathbb{C}^{N\\times N}$ and a vector $\\vec{b}\\in\\mathbb{C}^{N}$, find $\\vec{x}\\in\\mathbb{C}^{N}$ satisfying $A\\vec{x}=\\vec{b}$\n",
    "\n",
    "For example, take $N=2$, \n",
    "\n",
    "$$A = \\begin{pmatrix}1 & -1/3\\\\-1/3 & 1 \\end{pmatrix},\\quad \\vec{x}=\\begin{pmatrix} x_{1}\\\\ x_{2}\\end{pmatrix}\\quad \\text{and} \\quad \\vec{b}=\\begin{pmatrix}1 \\\\ 0\\end{pmatrix}$$\n",
    "\n",
    "Then the problem can also be written as find $x_{1}, x_{2}\\in\\mathbb{C}$ such that\n",
    "$$\\begin{cases}x_{1} - \\frac{x_{2}}{3} = 1 \\\\ -\\frac{x_{1}}{3} + x_{2} = 0\\end{cases} $$\n",
    "\n",
    "A system of linear equations is called $s$-sparse if $A$ has at most $s$ non-zero entries per row or column. Solving an $s$-sparse system of size $N$ with a classical computer requires $\\mathcal{ O }(Ns\\kappa\\log(1/\\epsilon))$ running time using the conjugate gradient method <sup>[1](#conjgrad)</sup>. Here $\\kappa$ denotes the condition number of the system and $\\epsilon$ the accuracy of the approximation.\n",
    "\n",
    "The HHL is a quantum algorithm to estimate a function of the solution with running time complexity of $\\mathcal{ O }(\\log(N)s^{2}\\kappa^{2}/\\epsilon)$<sup>[2](#hhl)</sup> when $A$ is a Hermitian matrix under the assumptions of efficient oracles for loading the data, Hamiltonian simulation and computing a function of the solution. This is an exponential speed up in the size of the system, however one crucial remark to keep in mind is that the classical algorithm returns the full solution, while the HHL can only approximate functions of the solution vector."
   ]
  },
  {
   "cell_type": "markdown",
   "metadata": {},
   "source": [
    "## 2. The HHL algorithm<a id='hhlalg'></a>\n",
    "\n",
    "### A. Some mathematical background<a id='mathbackground'></a>\n",
    "The first step towards solving a system of linear equations with a quantum computer is to encode the problem in the quantum language. By rescaling the system, we can assume $\\vec{b}$ and $\\vec{x}$ to be normalised and map them to the respective quantum states $|b\\rangle$ and $|x\\rangle$. Usually the mapping used is such that $i^{th}$ component of $\\vec{b}$ (resp. $\\vec{x}$) corresponds to the amplitude of the $i^{th}$ basis state of the quantum state $|b\\rangle$ (resp. $|x\\rangle$). From now on, we will focus on the rescaled problem\n",
    "\n",
    "$$ A|x\\rangle=|b\\rangle$$\n",
    "\n",
    "Since $A$ is Hermitian, it has a spectral decomposition\n",
    "$$\n",
    "A=\\sum_{j=0}^{N-1}\\lambda_{j}|u_{j}\\rangle\\langle u_{j}|,\\quad \\lambda_{j}\\in\\mathbb{ R }\n",
    "$$\n",
    "where $|u_{j}\\rangle$ is the $j^{th}$ eigenvector of $A$ with respective eigenvalue $\\lambda_{j}$. Then,\n",
    "$$\n",
    "A^{-1}=\\sum_{j=0}^{N-1}\\lambda_{j}^{-1}|u_{j}\\rangle\\langle u_{j}|\n",
    "$$\n",
    "and the right hand side of the system can be written in the eigenbasis of $A$ as\n",
    "$$\n",
    "|b\\rangle=\\sum_{j=0}^{N-1}b_{j}|u_{j}\\rangle,\\quad b_{j}\\in\\mathbb{ C }\n",
    "$$\n",
    "It is useful to keep in mind that the goal of the HHL is to exit the algorithm with the readout register in the state\n",
    "$$\n",
    "|x\\rangle=A^{-1}|b\\rangle=\\sum_{j=0}^{N-1}\\lambda_{j}^{-1}b_{j}|u_{j}\\rangle\n",
    "$$\n",
    "Note that here we already have an implicit normalisation constant since we are talking about a quantum state."
   ]
  },
  {
   "cell_type": "markdown",
   "metadata": {},
   "source": [
    "### B. Description of the HHL algorithm <a id='hhldescription'></a>\n",
    "\n",
    "The algorithm uses three quantum registers, all of them set to $|0\\rangle $ at the beginning of the algorithm. One register, which we will denote with the subindex $n_{l}$, is used to store a binary representation of the eigenvalues of $A$. A second register, denoted by $n_{b}$, contains the vector solution, and from now on $N=2^{n_{b}}$. There is an extra register, for the auxiliary qubits. These are qubits used as intermediate steps in the individual computations but will be ignored in the following description since they are set to $|0\\rangle $ at the beginning of each computation and restored back to the $|0\\rangle $ state at the end of the individual operation.\n",
    "\n",
    "The following is an outline of the HHL algorithm with a high-level drawing of the corresponding circuit. For simplicity all computations are assumed to be exact in the ensuing description, and a more detailed explanation of the non-exact case is given in Section [2.D.](#qpe2).\n",
    "\n",
    "<img src=\"images/hhlcircuit.png\" width = \"75%\" height = \"75%\">\n",
    "\n",
    "1.  Load the data $|b\\rangle\\in\\mathbb{ C }^{N}$. That is, perform the transformation\n",
    "    $$ |0\\rangle _{n_{b}} \\mapsto |b\\rangle _{n_{b}} $$\n",
    "2. Apply Quantum Phase Estimation (QPE) with\n",
    "\t$$\n",
    "\tU = e ^ { i A t } := \\sum _{j=0}^{N-1}e ^ { i \\lambda _ { j } t } |u_{j}\\rangle\\langle u_{j}|\n",
    "\t$$\n",
    "\tThe quantum state of the register expressed in the eigenbasis of $A$ is now\n",
    "\t$$\n",
    "\t\\sum_{j=0}^{N-1} b _ { j } |\\lambda _ {j }\\rangle_{n_{l}} |u_{j}\\rangle_{n_{b}}\n",
    "\t$$\n",
    "    where $|\\lambda _ {j }\\rangle_{n_{l}}$ is the $n_{l}$-bit binary representation of $\\lambda _ {j }$.\n",
    "    \n",
    "3. Add an auxiliary qubit and apply a rotation conditioned on $|\\lambda_{ j }\\rangle$,\n",
    "\t$$\n",
    "\t\\sum_{j=0}^{N-1} b _ { j } |\\lambda _ { j }\\rangle_{n_{l}}|u_{j}\\rangle_{n_{b}} \\left( \\sqrt { 1 - \\frac { C^{2}  } { \\lambda _ { j } ^ { 2 } } } |0\\rangle + \\frac { C } { \\lambda _ { j } } |1\\rangle \\right)\n",
    "\t$$\n",
    "\twhere $C$ is a normalisation constant, and, as expressed in the current form above, should be less than the smallest eigenvalue $\\lambda_{min}$ in magnitude, i.e., $|C| < \\lambda_{min}$.\n",
    "    \n",
    "4. Apply QPE$^{\\dagger}$. Ignoring possible errors from QPE, this results in\n",
    "\t$$\n",
    "\t\\sum_{j=0}^{N-1} b _ { j } |0\\rangle_{n_{l}}|u_{j}\\rangle_{n_{b}} \\left( \\sqrt { 1 - \\frac {C^{2}  } { \\lambda _ { j } ^ { 2 } } } |0\\rangle + \\frac { C } { \\lambda _ { j } } |1\\rangle \\right)\n",
    "\t$$\n",
    "    \n",
    "5. Measure the auxiliary qubit in the computational basis. If the outcome is $1$, the register is in the post-measurement state\n",
    "\t$$\n",
    "\t\\left( \\sqrt { \\frac { 1 } { \\sum_{j=0}^{N-1} \\left| b _ { j } \\right| ^ { 2 } / \\left| \\lambda _ { j } \\right| ^ { 2 } } } \\right) \\sum _{j=0}^{N-1} \\frac{b _ { j }}{\\lambda _ { j }} |0\\rangle_{n_{l}}|u_{j}\\rangle_{n_{b}}\n",
    "\t$$\n",
    "\twhich up to a normalisation factor corresponds to the solution.\n",
    "\n",
    "6. Apply an observable $M$ to calculate $F(x):=\\langle x|M|x\\rangle$."
   ]
  },
  {
   "cell_type": "markdown",
   "metadata": {},
   "source": [
    "### C. Quantum Phase Estimation (QPE) within HHL <a id='qpe'></a>\n",
    "\n",
    "Quantum Phase Estimation is described in more detail in Chapter 3. However, since this quantum procedure is at the core of the HHL algorithm, we recall here the definition. Roughly speaking, it is a quantum algorithm which, given a unitary $U$ with eigenvector $|\\psi\\rangle_{m}$ and eigenvalue $e^{2\\pi i\\theta}$, finds $\\theta$. We can formally define this as follows.\n",
    "\n",
    "**Definition:** Let $U\\in\\mathbb{ C }^{2^{m}\\times 2^{m}}$ be unitary and let $|\\psi\\rangle_{m}\\in\\mathbb{ C }^{2^{m}}$ be one of its eigenvectors with respective eigenvalue $e^{2\\pi i\\theta}$. The **Quantum Phase Estimation** algorithm, abbreviated **QPE**, takes as inputs the unitary gate for $U$ and the state $|0\\rangle_{n}|\\psi\\rangle_{m}$ and returns the state $|\\tilde{\\theta}\\rangle_{n}|\\psi\\rangle_{m}$. Here $\\tilde{\\theta}$ denotes a binary approximation to $2^{n}\\theta$ and the $n$ subscript denotes it has been truncated to $n$ digits.\t\n",
    "$$\n",
    "\\operatorname { QPE } ( U , |0\\rangle_{n}|\\psi\\rangle_{m} ) = |\\tilde{\\theta}\\rangle_{n}|\\psi\\rangle_{m}\n",
    "$$\n",
    "\n",
    "For the HHL we will use QPE with $U = e ^ { i A t }$, where $A$ is the matrix associated to the system we want to solve. In this case, \n",
    "$$\n",
    "e ^ { i A t } = \\sum_{j=0}^{N-1}e^{i\\lambda_{j}t}|u_{j}\\rangle\\langle u_{j}|\n",
    "$$\n",
    "Then, for the eigenvector $|u_{j}\\rangle_{n_{b}}$, which has eigenvalue $e ^ { i \\lambda _ { j } t }$, QPE will output $|\\tilde{\\lambda }_ { j }\\rangle_{n_{l}}|u_{j}\\rangle_{n_{b}}$. Where $\\tilde{\\lambda }_ { j }$ represents an $n_{l}$-bit binary approximation to $2^{n_l}\\frac{\\lambda_ { j }t}{2\\pi}$. Therefore, if each $\\lambda_{j}$ can be exactly represented with $n_{l}$ bits,\n",
    "$$\n",
    "\\operatorname { QPE } ( e ^ { i A t } , \\sum_{j=0}^{N-1}b_{j}|0\\rangle_{n_{l}}|u_{j}\\rangle_{n_{b}} ) = \\sum_{j=0}^{N-1}b_{j}|\\lambda_{j}\\rangle_{n_{l}}|u_{j}\\rangle_{n_{b}}\n",
    "$$"
   ]
  },
  {
   "cell_type": "markdown",
   "metadata": {},
   "source": [
    "### D. Non-exact QPE <a id='qpe2'></a>\n",
    "\n",
    "In reality, the quantum state of the register after applying QPE to the initial state is\n",
    "$$\n",
    "\\sum _ { j=0 }^{N-1} b _ { j } \\left( \\sum _ { l = 0 } ^ { 2 ^ { n_{l} } - 1 } \\alpha _ { l | j } |l\\rangle_{n_{l}} \\right)|u_{j}\\rangle_{n_{b}}\n",
    "$$\n",
    "where\n",
    "$$\n",
    "\\alpha _ { l | j } = \\frac { 1 } { 2 ^ { n_{l} } } \\sum _ { k = 0 } ^ { 2^{n_{l}}- 1 } \\left( e ^ { 2 \\pi i \\left( \\frac { \\lambda _ { j } t } { 2 \\pi } - \\frac { l } { 2 ^ { n_{l} } } \\right) } \\right) ^ { k }\n",
    "$$\n",
    "\n",
    "Denote by $\\tilde{\\lambda_{j}}$ the best $n_{l}$-bit approximation to $\\lambda_{j}$, $1\\leq j\\leq N$. Then we can relabel the $n_{l}$-register so that $\\alpha _ { l | j }$ denotes the amplitude of $|l + \\tilde { \\lambda } _ { j } \\rangle_{n_{l}}$. So now,\n",
    "$$\n",
    "\\alpha _ { l | j } : = \\frac { 1 } { 2 ^ { n_{l}} } \\sum _ { k = 0 } ^ { 2 ^ { n_{l} } - 1 } \\left( e ^ { 2 \\pi i \\left( \\frac { \\lambda _ { j } t } { 2 \\pi } - \\frac { l + \\tilde { \\lambda } _ { j } } { 2 ^ { n_{l} } } \\right) } \\right) ^ { k }\n",
    "$$\n",
    "If each $\\frac { \\lambda _ { j } t } { 2 \\pi }$ can be represented exactly with $n_{l}$ binary bits, then $\\frac { \\lambda _ { j } t } { 2 \\pi }=\\frac { \\tilde { \\lambda } _ { j } } { 2 ^ { n_{l} } }$ $\\forall j$. Therefore in this case $\\forall j$, $1\\leq j \\leq N$, it holds that $\\alpha _ { 0 | j } = 1$ and $\\alpha _ { l | j } = 0 \\quad \\forall l \\neq 0$. Only in this case we can write that the state of the register after QPE is \n",
    "$$\n",
    "\t\\sum_{j=0}^{N-1} b _ { j } |\\lambda _ {j }\\rangle_{n_{l}} |u_{j}\\rangle_{n_{b}}\n",
    "$$\n",
    "Otherwise, $|\\alpha _ { l | j }|$ is large if and only if $\\frac { \\lambda _ { j } t } { 2 \\pi } \\approx \\frac { l + \\tilde { \\lambda } _ { j } } { 2 ^ { n_{l} } }$ and the state of the register is\n",
    "$$\n",
    "\\sum _ { j=0 }^{N-1}  \\sum _ { l = 0 } ^ { 2 ^ { n_{l} } - 1 } \\alpha _ { l | j } b _ { j }|l\\rangle_{n_{l}} |u_{j}\\rangle_{n_{b}}\n",
    "$$"
   ]
  },
  {
   "cell_type": "markdown",
   "metadata": {},
   "source": [
    "## 3. Example: 4-qubit HHL<a id='example1'></a>\n",
    "\n",
    "Let's take the small example from the introduction to illustrate the algorithm. That is,\n",
    "$$A = \\begin{pmatrix}1 & -1/3\\\\-1/3 & 1 \\end{pmatrix}\\quad \\text{and} \\quad |b\\rangle=\\begin{pmatrix}1 \\\\ 0\\end{pmatrix}$$\n",
    "\n",
    "We will use $n_{b}=1$ qubit to represent $|b\\rangle$, and later the solution $|x\\rangle$, $n_{l}=2$ qubits to store the binary representation of the eigenvalues and $1$ auxiliary qubit to store whether the conditioned rotation, hence the algorithm, was successful.\n",
    "\n",
    "For the purpose of illustrating the algorithm, we will cheat a bit and calculate the eigenvalues of $A$ to be able to choose $t$ to obtain an exact binary representation of the rescaled eigenvalues in the $n_{l}$-register. However, keep in mind that for the HHL algorithm implementation one does not need previous knowledge of the eigenvalues. Having said that, a short calculation will give\n",
    "$$\\lambda_{1} = 2/3\\quad\\text{and}\\quad\\lambda_{2}=4/3$$\n",
    "\n",
    "Recall from the previous section that the QPE will output an $n_{l}$-bit ($2$-bit in this case) binary approximation to $\\frac{\\lambda_ { j }t}{2\\pi}$. Therefore, if we set \n",
    "$$t=2\\pi\\cdot \\frac{3}{8}$$\n",
    "the QPE will give a $2$-bit binary approximation to\n",
    "$$\\frac{\\lambda_ { 1 }t}{2\\pi} = 1/4\\quad\\text{and}\\quad\\frac{\\lambda_ { 2 }t}{2\\pi}=1/2$$\n",
    "which is, respectively,\n",
    "$$|01\\rangle_{n_{l}}\\quad\\text{and}\\quad|10\\rangle_{n_{l}}$$\n",
    "\n",
    "The eigenvectors are, respectively,\n",
    "$$|u_{1}\\rangle=\\begin{pmatrix}1 \\\\ -1\\end{pmatrix}\\quad\\text{and}\\quad|u_{2}\\rangle=\\begin{pmatrix}1 \\\\ 1\\end{pmatrix}$$\n",
    "Again, keep in mind that one does not need to compute the eigenvectors for the HHL implementation. In fact, a general Hermitian matrix $A$ of dimension $N$ can have up to $N$ different eigenvalues, therefore calculating them would take $\\mathcal{O}(N)$ time and the quantum advantage would be lost.\n",
    "\n",
    "We can then write $|b\\rangle$ in the eigenbasis of $A$ as\n",
    "$$|b\\rangle _{n_{b}}=\\sum_{j=1}^{2}\\frac{1}{\\sqrt{2}}|u_{j}\\rangle _{n_{b}}$$\n",
    "\n",
    "Now we are ready to go through the different steps of the HHL algorithm. \n",
    "\n",
    "1. State preparation in this example is trivial since $|b\\rangle=|0\\rangle$.\n",
    "2. Applying QPE will yield\n",
    "$$\n",
    "\\frac{1}{\\sqrt{2}}|01\\rangle|u_{1}\\rangle + \\frac{1}{\\sqrt{2}}|10\\rangle|u_{2}\\rangle\n",
    "$$\n",
    "3. Conditioned rotation with $C=1/8$ that is less than the smallest (rescaled) eigenvalue of $\\frac {1} {4}$. Note, the constant $C$ here needs to be chosen such that it is less than the smallest (rescaled) eigenvalue of $\\frac {1} {4}$ but as large as possible so that when the auxiliary qubit is measured, the probability of it being in the state $|1>$ is large.\n",
    "$$\\frac{1}{\\sqrt{2}}|01\\rangle|u_{1}\\rangle\\left( \\sqrt { 1 - \\frac { (1/8)^{2}  } {(1/4)^{2} } } |0\\rangle + \\frac { 1/8 } { 1/4 } |1\\rangle \\right) + \\frac{1}{\\sqrt{2}}|10\\rangle|u_{2}\\rangle\\left( \\sqrt { 1 - \\frac { (1/8)^{2}  } {(1/2)^{2} } } |0\\rangle + \\frac { 1/8 } { 1/2 } |1\\rangle \\right)\n",
    "$$\n",
    "$$\n",
    "=\\frac{1}{\\sqrt{2}}|01\\rangle|u_{1}\\rangle\\left( \\sqrt { 1 - \\frac { 1  } {4 } } |0\\rangle + \\frac { 1 } { 2 } |1\\rangle \\right) + \\frac{1}{\\sqrt{2}}|10\\rangle|u_{2}\\rangle\\left( \\sqrt { 1 - \\frac { 1  } {16 } } |0\\rangle + \\frac { 1 } { 4 } |1\\rangle \\right)\n",
    "$$\n",
    "4. After applying QPE$^{\\dagger}$ the quantum computer is in the state\n",
    "$$\n",
    "\\frac{1}{\\sqrt{2}}|00\\rangle|u_{1}\\rangle\\left( \\sqrt { 1 - \\frac { 1  } {4 } } |0\\rangle + \\frac { 1 } { 2 } |1\\rangle \\right) + \\frac{1}{\\sqrt{2}}|00\\rangle|u_{2}\\rangle\\left( \\sqrt { 1 - \\frac { 1  } {16 } } |0\\rangle + \\frac { 1 } { 4 } |1\\rangle \\right)\n",
    "$$\n",
    "5. On outcome $1$ when measuring the auxiliary qubit, the state is \n",
    "$$\n",
    "\\frac{\\frac{1}{\\sqrt{2}}|00\\rangle|u_{1}\\rangle\\frac { 1 } { 2 } |1\\rangle + \\frac{1}{\\sqrt{2}}|00\\rangle|u_{2}\\rangle\\frac { 1 } { 4 } |1\\rangle}{\\sqrt{5/32}}\n",
    "$$\n",
    "A quick calculation shows that\n",
    "$$\n",
    "\\frac{\\frac{1}{2\\sqrt{2}}|u_{1}\\rangle+ \\frac{1}{4\\sqrt{2}}|u_{2}\\rangle}{\\sqrt{5/32}} = \\frac{|x\\rangle}{||x||}\n",
    "$$\n",
    "6. Without using extra gates, we can compute the norm of $|x\\rangle$: it is the probability of measuring $1$ in the auxiliary qubit from the previous step.\n",
    "$$\n",
    "P(|1\\rangle) = \\left(\\frac{1}{2\\sqrt{2}}\\right)^{2} + \\left(\\frac{1}{4\\sqrt{2}}\\right)^{2} = \\frac{5}{32} = ||x||^{2}\n",
    "$$\n",
    "\n"
   ]
  },
  {
   "cell_type": "markdown",
   "metadata": {},
   "source": [
    "## 4. Qiskit Implementation<a id='implementation'></a>"
   ]
  },
  {
   "cell_type": "markdown",
   "metadata": {},
   "source": [
    "Now that we have analytically solved the problem from the example we are going to use it to illustrate how to run the HHL on a quantum simulator and on the real hardware. For the quantum simulator, Qiskit already provides an implementation of the HHL algorithm requiring only the matrix $A$ and $|b\\rangle$ as inputs in the simplest example. Although we can give the algorithm a general Hermitian matrix and an arbitrary initial state as NumPy arrays, in these cases the quantum algorithm will not achieve an exponential speedup. This is because the default implementation is exact and therefore exponential in the number of qubits (there is no algorithm that can prepare exactly an arbitrary quantum state using polynomial resources in the number of qubits or that can perform exactly the operation $e^{iAt}$ for some general Hermitian matrix $A$ using polynomial resources in the number of qubits). If we know an efficient implementation for a particular problem, the matrix and/or the vector can be given as `QuantumCircuit` objects. Alternatively, there's already an efficient implementation for tridiagonal Toeplitz matrices and in the future there might be more.\n",
    "\n",
    "However,at the time of writing the existing quantum computers are noisy and can only run small circuits. Therefore, in Section [4.B.](#implementationdev) we will see an optimised circuit that can be used for a class of problems to which our example belongs and mention the existing procedures to deal with noise in quantum computers."
   ]
  },
  {
   "cell_type": "markdown",
   "metadata": {},
   "source": [
    "## A. Running HHL on a simulator: general method<a id='implementationsim'></a>"
   ]
  },
  {
   "cell_type": "markdown",
   "metadata": {},
   "source": [
    "The interface for all algorithms to solve the linear system problem is `LinearSolver`. The problem to be solved is only specified when the `solve()` method is called:\n",
    "```python\n",
    "LinearSolver(...).solve(matrix, vector)\n",
    "```\n",
    "\n",
    "The simplest implementation takes the matrix and the vector as NumPy arrays. Below we also create a `NumPyLinearSolver` (the classical algorithm) to validate our solutions."
   ]
  },
  {
   "cell_type": "code",
   "execution_count": 1,
   "metadata": {
    "scrolled": true
   },
   "outputs": [],
   "source": [
    "import numpy as np\n",
    "from qiskit.algorithms.linear_solvers.numpy_linear_solver import NumPyLinearSolver\n",
    "from qiskit.algorithms.linear_solvers.hhl import HHL\n",
    "matrix = np.array([[1, -1/3], [-1/3, 1]])\n",
    "vector = np.array([1, 0])\n",
    "naive_hhl_solution = HHL().solve(matrix, vector)"
   ]
  },
  {
   "cell_type": "markdown",
   "metadata": {},
   "source": [
    "For the classical solver we need to rescale the right hand side (i.e. `vector / np.linalg.norm(vector)`) to take into account the renormalisation that occurs once `vector` is encoded in a quantum state within HHL."
   ]
  },
  {
   "cell_type": "code",
   "execution_count": 2,
   "metadata": {},
   "outputs": [],
   "source": [
    "classical_solution = NumPyLinearSolver().solve(matrix, vector / np.linalg.norm(vector))"
   ]
  },
  {
   "cell_type": "markdown",
   "metadata": {},
   "source": [
    "The `linear_solvers` package contains a folder called `matrices` intended to be a placeholder for efficient implementations of particular types of matrices. At the time of writing the only truly efficient implementation it contains (i.e. complexity scaling polynomially in the number of qubits) is the `TridiagonalToeplitz` class. Tridiagonal Toeplitz symmetric real matrices are of the following form \n",
    "$$A = \\begin{pmatrix}a & b & 0 & 0\\\\b & a & b & 0 \\\\ 0 & b & a & b \\\\ 0 & 0 & b & a \\end{pmatrix}, a,b\\in\\mathbb{R}$$\n",
    "(note that in this setting we do not consider non symmetric matrices since the HHL algorithm assumes that the input matrix is Hermitian).\n",
    "\n",
    "Since the matrix $A$ from our example is of this form we can create an instance of `TridiagonalToeplitz(num_qubits, a, b)` and compare the results to solving the system with an array as input."
   ]
  },
  {
   "cell_type": "code",
   "execution_count": 3,
   "metadata": {},
   "outputs": [],
   "source": [
    "from qiskit.algorithms.linear_solvers.matrices.tridiagonal_toeplitz import TridiagonalToeplitz\n",
    "tridi_matrix = TridiagonalToeplitz(1, 1, -1 / 3)\n",
    "\n",
    "tridi_solution = HHL().solve(tridi_matrix, vector)"
   ]
  },
  {
   "cell_type": "markdown",
   "metadata": {},
   "source": [
    "Recall that the HHL algorithm can find a solution exponentially faster in the size of the system than their classical counterparts (i.e. logarithmic complexity instead of polynomial). However the cost for this exponential speedup is that we do not obtain the full solution vector.\n",
    "Instead, we obtain a quantum state representing the vector $x$ and learning all the components of this vector would take a linear time in its dimension, diminishing any speedup obtained by the quantum algorithm.\n",
    "\n",
    "Therefore, we can only compute functions from $x$ (the so called observables) to learn information about the solution.\n",
    "This is reflected in the `LinearSolverResult` object returned by `solve()`, which contains the following properties\n",
    "- `state`: either the circuit that prepares the solution or the solution as a vector\n",
    "- `euclidean_norm`: the euclidean norm if the algorithm knows how to calculate it \n",
    "- `observable`: the (list of) calculated observable(s)\n",
    "- `circuit_results`: the observable results from the (list of) circuit(s)\n",
    "\n",
    "Let's ignore `observable` and `circuit_results` for the time being and check the solutions we obtained before.\n",
    "\n",
    "First, `classical_solution` was the result from a classical algorithm, so if we call `.state` it will return an array:"
   ]
  },
  {
   "cell_type": "code",
   "execution_count": 4,
   "metadata": {},
   "outputs": [
    {
     "name": "stdout",
     "output_type": "stream",
     "text": [
      "classical state: [1.125 0.375]\n"
     ]
    }
   ],
   "source": [
    "print('classical state:', classical_solution.state)"
   ]
  },
  {
   "cell_type": "markdown",
   "metadata": {},
   "source": [
    "Our other two examples were quantum algorithms, hence we can only access to the quantum state. This is achieved by returning the quantum circuit that prepares the solution state:"
   ]
  },
  {
   "cell_type": "code",
   "execution_count": 5,
   "metadata": {},
   "outputs": [
    {
     "name": "stdout",
     "output_type": "stream",
     "text": [
      "naive state:\n",
      "      ┌───────────┐┌──────┐        ┌─────────┐\n",
      "q0_0: ┤ circuit-7 ├┤2     ├────────┤2        ├\n",
      "      └───────────┘│      │┌──────┐│         │\n",
      "q1_0: ─────────────┤0 QPE ├┤1     ├┤0 QPE_dg ├\n",
      "                   │      ││      ││         │\n",
      "q1_1: ─────────────┤1     ├┤0 1/x ├┤1        ├\n",
      "                   └──────┘│      │└─────────┘\n",
      "q2_0: ─────────────────────┤2     ├───────────\n",
      "                           └──────┘           \n",
      "tridiagonal state:\n",
      "       ┌─────────────┐┌──────┐        ┌─────────┐\n",
      "q17_0: ┤ circuit-192 ├┤2     ├────────┤2        ├\n",
      "       └─────────────┘│      │┌──────┐│         │\n",
      "q18_0: ───────────────┤0 QPE ├┤1     ├┤0 QPE_dg ├\n",
      "                      │      ││      ││         │\n",
      "q18_1: ───────────────┤1     ├┤0 1/x ├┤1        ├\n",
      "                      └──────┘│      │└─────────┘\n",
      "q19_0: ───────────────────────┤2     ├───────────\n",
      "                              └──────┘           \n"
     ]
    }
   ],
   "source": [
    "print('naive state:')\n",
    "print(naive_hhl_solution.state)\n",
    "print('tridiagonal state:')\n",
    "print(tridi_solution.state)"
   ]
  },
  {
   "cell_type": "markdown",
   "metadata": {},
   "source": [
    "Recall that the Euclidean norm for a vector $\\mathbf{x}=(x_1,\\dots,x_N)$ is defined as $||\\mathbf{x}||=\\sqrt{\\sum_{i=1}^N x_i^2}$. Therefore, the probability of measuring $1$ in the auxiliary qubit from Step $5$ in Section B is the squared norm of $\\mathbf{x}$. This means that the HHL algorithm can always calculate the euclidean norm of the solution and we can compare the accuracy of the results:"
   ]
  },
  {
   "cell_type": "code",
   "execution_count": 6,
   "metadata": {},
   "outputs": [
    {
     "name": "stdout",
     "output_type": "stream",
     "text": [
      "classical Euclidean norm: 1.1858541225631423\n",
      "naive Euclidean norm: 1.1858541225631405\n",
      "tridiagonal Euclidean norm: 1.185854122563142\n"
     ]
    }
   ],
   "source": [
    "print('classical Euclidean norm:', classical_solution.euclidean_norm)\n",
    "print('naive Euclidean norm:', naive_hhl_solution.euclidean_norm)\n",
    "print('tridiagonal Euclidean norm:', tridi_solution.euclidean_norm)"
   ]
  },
  {
   "cell_type": "markdown",
   "metadata": {},
   "source": [
    "Comparing the solution vectors componentwise is more tricky, reflecting again the idea that we cannot obtain the full solution vector from the quantum algorithm. However, for educational purposes we can check that indeed the different solution vectors obtained are a good approximation at the vector component level as well. \n",
    "\n",
    "To do so first we need to use `Statevector` from the `quantum_info` package and extract the right vector components, i.e. those corresponding to the ancillary qubit (bottom in the circuits) being $1$ and the work qubits (the two middle in the circuits) being $0$. Thus, we are interested in the states `1000` and `1001`, corresponding to the first and second components of the solution vector respectively."
   ]
  },
  {
   "cell_type": "code",
   "execution_count": 7,
   "metadata": {},
   "outputs": [
    {
     "name": "stdout",
     "output_type": "stream",
     "text": [
      "naive raw solution vector: [0.75-1.36419693e-16j 0.25-5.23193548e-17j]\n",
      "tridi raw solution vector: [0.75+5.20417043e-18j 0.25+9.97465999e-17j]\n"
     ]
    }
   ],
   "source": [
    "from qiskit.quantum_info import Statevector\n",
    "\n",
    "naive_sv = Statevector(naive_hhl_solution.state).data\n",
    "tridi_sv = Statevector(tridi_solution.state).data\n",
    "\n",
    "# Extract the right vector components. 1000 corresponds to the index 8 and 1001 corresponds to the index 9\n",
    "naive_full_vector = np.array([naive_sv[8], naive_sv[9]])\n",
    "tridi_full_vector = np.array([tridi_sv[8], tridi_sv[9]])\n",
    "\n",
    "print('naive raw solution vector:', naive_full_vector)\n",
    "print('tridi raw solution vector:', tridi_full_vector)"
   ]
  },
  {
   "cell_type": "markdown",
   "metadata": {},
   "source": [
    "At a first glance it might seem that this is wrong because the components are complex numbers instead of reals. However note that the imaginary part is very small, most likely due to computer accuracy, and can be disregarded in this case."
   ]
  },
  {
   "cell_type": "code",
   "execution_count": 8,
   "metadata": {},
   "outputs": [],
   "source": [
    "naive_full_vector = np.real(naive_full_vector)\n",
    "tridi_full_vector = np.real(tridi_full_vector)"
   ]
  },
  {
   "cell_type": "markdown",
   "metadata": {},
   "source": [
    "Next, we will divide the vectors by their respective norms to suppress any constants coming from the different parts of the circuits. The full solution vector can then be recovered by multiplying these normalised vectors by the respective Euclidean norms calculated above:"
   ]
  },
  {
   "cell_type": "code",
   "execution_count": 9,
   "metadata": {},
   "outputs": [
    {
     "name": "stdout",
     "output_type": "stream",
     "text": [
      "full naive solution vector: [1.125 0.375]\n",
      "full tridi solution vector: [1.125 0.375]\n",
      "classical state: [1.125 0.375]\n"
     ]
    }
   ],
   "source": [
    "print('full naive solution vector:', naive_hhl_solution.euclidean_norm*naive_full_vector/np.linalg.norm(naive_full_vector))\n",
    "print('full tridi solution vector:', tridi_solution.euclidean_norm*tridi_full_vector/np.linalg.norm(tridi_full_vector))\n",
    "print('classical state:', classical_solution.state)"
   ]
  },
  {
   "cell_type": "markdown",
   "metadata": {},
   "source": [
    "It should not come as a surprise that `naive_hhl_solution` is exact because all the default methods used are exact. However, `tridi_solution` is exact only in the $2\\times 2$ system size case. For larger matrices it will be an approximation, as shown in the slightly larger example below."
   ]
  },
  {
   "cell_type": "code",
   "execution_count": 10,
   "metadata": {},
   "outputs": [
    {
     "name": "stdout",
     "output_type": "stream",
     "text": [
      "classical euclidean norm: 1.237833351044751\n",
      "naive euclidean norm: 1.2438089331285473\n",
      "tridiagonal euclidean norm: 1.2436097759372975\n"
     ]
    }
   ],
   "source": [
    "from scipy.sparse import diags\n",
    "\n",
    "num_qubits = 2\n",
    "matrix_size = 2 ** num_qubits\n",
    "# entries of the tridiagonal Toeplitz symmetric matrix\n",
    "a = 1\n",
    "b = -1/3\n",
    "\n",
    "matrix = diags([b, a, b], [-1, 0, 1], shape=(matrix_size, matrix_size)).toarray()\n",
    "vector = np.array([1] + [0]*(matrix_size - 1))\n",
    "\n",
    "# run the algorithms\n",
    "classical_solution = NumPyLinearSolver().solve(matrix, vector / np.linalg.norm(vector))\n",
    "naive_hhl_solution = HHL().solve(matrix, vector)\n",
    "tridi_matrix = TridiagonalToeplitz(num_qubits, a, b)\n",
    "tridi_solution = HHL().solve(tridi_matrix, vector)\n",
    "\n",
    "print('classical euclidean norm:', classical_solution.euclidean_norm)\n",
    "print('naive euclidean norm:', naive_hhl_solution.euclidean_norm)\n",
    "print('tridiagonal euclidean norm:', tridi_solution.euclidean_norm)"
   ]
  },
  {
   "cell_type": "markdown",
   "metadata": {},
   "source": [
    "We can also compare the difference in resources from the exact method and the efficient implementation. The $2\\times 2$ system size is again special in that the exact algorithm requires less resources, but as we increase the system size, we can see that indeed the exact method scales exponentially in the number of qubits while `TridiagonalToeplitz` is polynomial."
   ]
  },
  {
   "cell_type": "code",
   "execution_count": 11,
   "metadata": {},
   "outputs": [],
   "source": [
    "from qiskit import transpile\n",
    "\n",
    "num_qubits = list(range(1,5))\n",
    "a = 1\n",
    "b = -1/3\n",
    "\n",
    "i=1\n",
    "# calculate the circuit depths for different number of qubits to compare the use of resources\n",
    "naive_depths = []\n",
    "tridi_depths = []\n",
    "for nb in num_qubits:\n",
    "    matrix = diags([b, a, b], [-1, 0, 1], shape=(2**nb, 2**nb)).toarray()\n",
    "    vector = np.array([1] + [0]*(2**nb -1))\n",
    "    \n",
    "    naive_hhl_solution = HHL().solve(matrix, vector)\n",
    "    tridi_matrix = TridiagonalToeplitz(nb, a, b)\n",
    "    tridi_solution = HHL().solve(tridi_matrix, vector)\n",
    "\n",
    "    naive_qc = transpile(naive_hhl_solution.state,basis_gates=['id', 'rz', 'sx', 'x', 'cx'])\n",
    "    tridi_qc = transpile(tridi_solution.state,basis_gates=['id', 'rz', 'sx', 'x', 'cx'])\n",
    "    \n",
    "    naive_depths.append(naive_qc.depth())\n",
    "    tridi_depths.append(tridi_qc.depth())\n",
    "    i +=1"
   ]
  },
  {
   "cell_type": "code",
   "execution_count": 12,
   "metadata": {},
   "outputs": [
    {
     "name": "stdout",
     "output_type": "stream",
     "text": [
      "     size of the system                    2x2                    4x4                    8x8                  16x16\n",
      " quantum_solution depth                     80                   1093                  37185                 394067\n",
      "   tridi_solution depth                    672                   7975                  25479                  84289\n"
     ]
    }
   ],
   "source": [
    "sizes = [str(2**nb)+\"x\"+str(2**nb) for nb in num_qubits]\n",
    "columns = ['size of the system', 'quantum_solution depth', 'tridi_solution depth']\n",
    "data = np.array([sizes, naive_depths, tridi_depths])\n",
    "row_format =\"{:>23}\" * (len(columns) + 2)\n",
    "for team, row in zip(columns, data):\n",
    "    print(row_format.format(team, *row))"
   ]
  },
  {
   "cell_type": "markdown",
   "metadata": {},
   "source": [
    "The reason the implementation still seems to need exponential resources is because the current conditioned rotation implementation (step 3 from Section 2.B) is exact (i.e. needs exponential resources in $n_l$). Instead we can calculate how many more resources the default implementation needs compared to Tridiagonal - since they only differ in how they implement $e^{iAt}$:"
   ]
  },
  {
   "cell_type": "code",
   "execution_count": 13,
   "metadata": {},
   "outputs": [
    {
     "name": "stdout",
     "output_type": "stream",
     "text": [
      "excess: [-592, -6882, 11706, 309778]\n"
     ]
    }
   ],
   "source": [
    "print('excess:', [naive_depths[i] - tridi_depths[i] for i in range(0, len(naive_depths))])"
   ]
  },
  {
   "cell_type": "markdown",
   "metadata": {},
   "source": [
    "In the near future the plan is to integrate `qiskit.circuit.library.arithmetics.PiecewiseChebyshev` to obtain a polynomial implementation of the conditioned rotation as well.\n",
    "\n",
    "Now we can return to the topic of observables and find out what the `observable` and `circuit_results` properties contain.\n",
    "\n",
    "The way to compute functions of the solution vector $\\mathbf{x}$ is through giving the `.solve()` method a `LinearSystemObservable` as input. There are are two types of available `LinearSystemObservable` which can be given as input:"
   ]
  },
  {
   "cell_type": "code",
   "execution_count": 14,
   "metadata": {},
   "outputs": [],
   "source": [
    "from qiskit.algorithms.linear_solvers.observables import AbsoluteAverage, MatrixFunctional"
   ]
  },
  {
   "cell_type": "markdown",
   "metadata": {},
   "source": [
    "For a vector $\\mathbf{x}=(x_1,...,x_N)$, the `AbsoluteAverage` observable computes $|\\frac{1}{N}\\sum_{i=1}^{N}x_i|$."
   ]
  },
  {
   "cell_type": "code",
   "execution_count": 15,
   "metadata": {},
   "outputs": [
    {
     "name": "stdout",
     "output_type": "stream",
     "text": [
      "quantum average: 0.7499999999999997\n",
      "classical average: 0.75\n",
      "quantum circuit results: (0.4999999999999999+0j)\n"
     ]
    }
   ],
   "source": [
    "num_qubits = 1\n",
    "matrix_size = 2 ** num_qubits\n",
    "# entries of the tridiagonal Toeplitz symmetric matrix\n",
    "a = 1\n",
    "b = -1/3\n",
    "\n",
    "matrix = diags([b, a, b], [-1, 0, 1], shape=(matrix_size, matrix_size)).toarray()\n",
    "vector = np.array([1] + [0]*(matrix_size - 1))\n",
    "tridi_matrix = TridiagonalToeplitz(1, a, b)\n",
    "\n",
    "average_solution = HHL().solve(tridi_matrix, vector, AbsoluteAverage())\n",
    "classical_average = NumPyLinearSolver().solve(matrix, vector / np.linalg.norm(vector), AbsoluteAverage())\n",
    "\n",
    "print('quantum average:', average_solution.observable)\n",
    "print('classical average:', classical_average.observable)\n",
    "print('quantum circuit results:', average_solution.circuit_results)"
   ]
  },
  {
   "cell_type": "markdown",
   "metadata": {},
   "source": [
    "The `MatrixFunctional` observable computes $\\mathbf{x}^T B \\mathbf{x}$ for a vector $\\mathbf{x}$ and a tridiagonal symmetric Toeplitz matrix $B$. The class takes the main and off diagonal values of the matrix for its constructor method."
   ]
  },
  {
   "cell_type": "code",
   "execution_count": 16,
   "metadata": {},
   "outputs": [
    {
     "name": "stdout",
     "output_type": "stream",
     "text": [
      "quantum functional: 1.8281249999999993\n",
      "classical functional: 1.828125\n",
      "quantum circuit results: [(0.6250000000000003+0j), (0.4999999999999999+0j), (0.12500000000000025+0j)]\n"
     ]
    }
   ],
   "source": [
    "observable = MatrixFunctional(1, 1 / 2)\n",
    "\n",
    "functional_solution = HHL().solve(tridi_matrix, vector, observable)\n",
    "classical_functional = NumPyLinearSolver().solve(matrix, vector / np.linalg.norm(vector), observable)\n",
    "\n",
    "print('quantum functional:', functional_solution.observable)\n",
    "print('classical functional:', classical_functional.observable)\n",
    "print('quantum circuit results:', functional_solution.circuit_results)"
   ]
  },
  {
   "cell_type": "markdown",
   "metadata": {},
   "source": [
    "Therefore, `observable` contains the final value of the function on $\\mathbf{x}$, while `circuit_results` contains the raw values obtained from the circuit and used to process the result of `observable`.\n",
    "\n",
    "This 'how to process the result' is better explained by looking at what arguments `.solve()` takes. The `solve()` method accepts up to five arguments: \n",
    "```python\n",
    "def solve(self, matrix: Union[np.ndarray, QuantumCircuit],\n",
    "          vector: Union[np.ndarray, QuantumCircuit],\n",
    "          observable: Optional[Union[LinearSystemObservable, BaseOperator,\n",
    "                                     List[BaseOperator]]] = None,\n",
    "          post_rotation: Optional[Union[QuantumCircuit, List[QuantumCircuit]]] = None,\n",
    "          post_processing: Optional[Callable[[Union[float, List[float]]],\n",
    "                                             Union[float, List[float]]]] = None) \\\n",
    "        -> LinearSolverResult:\n",
    "```\n",
    "The first two are the matrix defining the linear system and the vector right hand side of the equation, which we have already covered. The remaining parameters concern the (list of) observable(s) to be computed out of the solution vector $x$, and can be specified in two different ways. One option is to give as the third and last parameter a (list of) `LinearSystemObservable`(s). Alternatively, we can give our own implementations of the `observable`, `post_rotation` and `post_processing`, where\n",
    "- `observable` is the operator to compute the expected value of the observable and can be e.g. a `PauliSumOp`\n",
    "- `post_rotation` is the circuit to be applied to the solution to extract information if additional gates are needed.\n",
    "- `post_processing` is the function to compute the value of the observable from the calculated probabilities.\n",
    "\n",
    "In other words, there will be as many `circuit_results` as `post_rotation` circuits, and `post_processing` is telling the algorithm how to use the values we see when we print `circuit_results` to obtain the value we see when we print `observable`.\n",
    "\n",
    "Finally, the `HHL` class accepts the following parameters in its constructor method:\n",
    "- error tolerance : the accuracy of the approximation of the solution, the default is `1e-2`\n",
    "- expectation : how the expectation values are evaluated, the default is `PauliExpectation`\n",
    "- quantum instance: the `QuantumInstance` or backend, the default is a `Statevector` simulation"
   ]
  },
  {
   "cell_type": "code",
   "execution_count": 17,
   "metadata": {},
   "outputs": [
    {
     "name": "stdout",
     "output_type": "stream",
     "text": [
      "1.1858541225631405\n",
      "1.1858541225631423\n"
     ]
    }
   ],
   "source": [
    "from qiskit import Aer\n",
    "\n",
    "backend = Aer.get_backend('aer_simulator')\n",
    "hhl = HHL(1e-3, quantum_instance=backend)\n",
    "\n",
    "accurate_solution = hhl.solve(matrix, vector)\n",
    "classical_solution = NumPyLinearSolver().solve(matrix, vector / np.linalg.norm(vector))\n",
    "\n",
    "print(accurate_solution.euclidean_norm)\n",
    "print(classical_solution.euclidean_norm)"
   ]
  },
  {
   "cell_type": "markdown",
   "metadata": {},
   "source": [
    "## B. Running HHL on a real quantum device: optimised example<a id='implementationdev'></a>"
   ]
  },
  {
   "cell_type": "markdown",
   "metadata": {},
   "source": [
    "In the previous section we ran the standard algorithm provided in Qiskit and saw that it uses $7$ qubits, has a depth of ~$100$ gates and requires a total of $54$ CNOT gates. These numbers are not feasible for the current available hardware, therefore we need to decrease these quantities. In particular, the goal will be to reduce the number of CNOTs by a factor of $5$ since they have worse fidelity than single-qubit gates. Furthermore, we can reduce the number of qubits to $4$ as was the original statement of the problem: the Qiskit method was written for a general problem and that is why it requires $3$ additional auxiliary qubits.\n",
    "\n",
    "However, solely decreasing the number of gates and qubits will not give a good approximation to the solution on real hardware. This is because there are two sources of errors: those that occur during the run of the circuit and readout errors. \n",
    "\n",
    "Qiskit provides a module to mitigate the readout errors by individually preparing and measuring all basis states, a detailed treatment on the topic can be found in the paper by Dewes et al.<sup>[3](#readouterr)</sup> To deal with the errors occurring during the run of the circuit, Richardson extrapolation can be used to calculate the error to the zero limit by running the circuit three times, each replacing each CNOT gate by $1$, $3$ and $5$ CNOTs respectively<sup>[4](#richardson)</sup>. The idea is that theoretically the three circuits should produce the same result, but in real hardware adding CNOTs means amplifying the error. Since we know that we have obtained results with an amplified error, and we can estimate by how much the error was amplified in each case, we can recombine the quantities to obtain a new result that is a closer approximation to the analytic solution than any of the previous obtained values.\n",
    "\n",
    "Below we give the optimised circuit that can be used for any problem of the form\n",
    "$$A = \\begin{pmatrix}a & b\\\\b & a \\end{pmatrix}\\quad \\text{and} \\quad |b\\rangle=\\begin{pmatrix}\\cos(\\theta) \\\\ \\sin(\\theta)\\end{pmatrix},\\quad a,b,\\theta\\in\\mathbb{R}$$\n",
    "\n",
    "The following optimisation was extracted from a work on the HHL for tridiagonal symmetric matrices<sup>[[5]](#tridi)</sup>, this particular circuit was derived with the aid of the UniversalQCompiler software<sup>[[6]](#qcompiler)</sup>.\n"
   ]
  },
  {
   "cell_type": "code",
   "execution_count": 56,
   "metadata": {},
   "outputs": [
    {
     "name": "stdout",
     "output_type": "stream",
     "text": [
      "Depth: 26\n",
      "CNOTS: 10\n"
     ]
    },
    {
     "data": {
      "text/html": [
       "<pre style=\"word-wrap: normal;white-space: pre;background: #fff0;line-height: 1.1;font-family: &quot;Courier New&quot;,Courier,monospace\">           ┌───────┐┌──────────────────────┐┌────────┐┌───┐┌──────────────┐┌───┐┌─────────────┐┌─────────┐┌────────┐┌───┐┌─────────────┐┌───┐┌────────────┐┌─────────┐                                                                                                               ░ ┌─┐         \n",
       "q272951_0: ┤ RY(0) ├┤ U(-0.66667,-π/2,π/2) ├┤ P(π/2) ├┤ X ├┤ RY(-0.66667) ├┤ X ├┤ RY(0.66667) ├┤ P(3π/2) ├┤ P(π/2) ├┤ X ├┤ RY(-1.3333) ├┤ X ├┤ RY(1.3333) ├┤ P(3π/2) ├───────────────────────────────────────────────────────────────────────────────────────────────────────────────░─┤M├─────────\n",
       "           └─┬───┬─┘└───────┬──────┬───────┘└────────┘└─┬─┘└──────────────┘└─┬─┘└─────────────┘└─────────┘└────────┘└─┬─┘└─────────────┘└─┬─┘└────────────┘└─────────┘                      ┌──────────┐     ┌───┐                                                                   ░ └╥┘┌─┐      \n",
       "q272951_1: ──┤ H ├──────────┤ P(2) ├────────────────────■────────────────────■────────────────────────────────────────┼───────────────────┼──────────────────────────────■───────────────■──┤ RZ(-π/4) ├─────┤ H ├────────■────────────────────────────────────────■─────────────────░──╫─┤M├──────\n",
       "             ├───┤          ├──────┤                                                                                  │                   │      ┌───┐     ┌──────────┐┌─┴─┐┌─────────┐┌─┴─┐└──────────┘     └───┘        │                                        │                 ░  ║ └╥┘┌─┐   \n",
       "q272951_2: ──┤ H ├──────────┤ P(4) ├──────────────────────────────────────────────────────────────────────────────────■───────────────────■──────┤ H ├─────┤ RZ(-π/4) ├┤ X ├┤ RZ(π/4) ├┤ X ├─────■────────────────────────┼────────────────────■───────────────────┼─────────────────░──╫──╫─┤M├───\n",
       "             └───┘          └──────┘                                                                                                             └───┘     └──────────┘└───┘└─────────┘└───┘   ┌─┴─┐    ┌──────────────┐┌─┴─┐┌──────────────┐┌─┴─┐┌─────────────┐┌─┴─┐┌────────────┐ ░  ║  ║ └╥┘┌─┐\n",
       "q272951_3: ────────────────────────────────────────────────────────────────────────────────────────────────────────────────────────────────────────────────────────────────────────────────────┤ X ├────┤ RY(-0.69352) ├┤ X ├┤ RY(-0.87728) ├┤ X ├┤ RY(0.35368) ├┤ X ├┤ RY(1.2171) ├─░──╫──╫──╫─┤M├\n",
       "                                                                                                                                                                                               └───┘    └──────────────┘└───┘└──────────────┘└───┘└─────────────┘└───┘└────────────┘ ░  ║  ║  ║ └╥┘\n",
       "   meas: 4/═════════════════════════════════════════════════════════════════════════════════════════════════════════════════════════════════════════════════════════════════════════════════════════════════════════════════════════════════════════════════════════════════════════════╩══╩══╩══╩═\n",
       "                                                                                                                                                                                                                                                                                        0  1  2  3 </pre>"
      ],
      "text/plain": [
       "           ┌───────┐┌──────────────────────┐┌────────┐┌───┐┌──────────────┐┌───┐┌─────────────┐┌─────────┐┌────────┐┌───┐┌─────────────┐┌───┐┌────────────┐┌─────────┐                                                                                                               ░ ┌─┐         \n",
       "q272951_0: ┤ RY(0) ├┤ U(-0.66667,-π/2,π/2) ├┤ P(π/2) ├┤ X ├┤ RY(-0.66667) ├┤ X ├┤ RY(0.66667) ├┤ P(3π/2) ├┤ P(π/2) ├┤ X ├┤ RY(-1.3333) ├┤ X ├┤ RY(1.3333) ├┤ P(3π/2) ├───────────────────────────────────────────────────────────────────────────────────────────────────────────────░─┤M├─────────\n",
       "           └─┬───┬─┘└───────┬──────┬───────┘└────────┘└─┬─┘└──────────────┘└─┬─┘└─────────────┘└─────────┘└────────┘└─┬─┘└─────────────┘└─┬─┘└────────────┘└─────────┘                      ┌──────────┐     ┌───┐                                                                   ░ └╥┘┌─┐      \n",
       "q272951_1: ──┤ H ├──────────┤ P(2) ├────────────────────■────────────────────■────────────────────────────────────────┼───────────────────┼──────────────────────────────■───────────────■──┤ RZ(-π/4) ├─────┤ H ├────────■────────────────────────────────────────■─────────────────░──╫─┤M├──────\n",
       "             ├───┤          ├──────┤                                                                                  │                   │      ┌───┐     ┌──────────┐┌─┴─┐┌─────────┐┌─┴─┐└──────────┘     └───┘        │                                        │                 ░  ║ └╥┘┌─┐   \n",
       "q272951_2: ──┤ H ├──────────┤ P(4) ├──────────────────────────────────────────────────────────────────────────────────■───────────────────■──────┤ H ├─────┤ RZ(-π/4) ├┤ X ├┤ RZ(π/4) ├┤ X ├─────■────────────────────────┼────────────────────■───────────────────┼─────────────────░──╫──╫─┤M├───\n",
       "             └───┘          └──────┘                                                                                                             └───┘     └──────────┘└───┘└─────────┘└───┘   ┌─┴─┐    ┌──────────────┐┌─┴─┐┌──────────────┐┌─┴─┐┌─────────────┐┌─┴─┐┌────────────┐ ░  ║  ║ └╥┘┌─┐\n",
       "q272951_3: ────────────────────────────────────────────────────────────────────────────────────────────────────────────────────────────────────────────────────────────────────────────────────┤ X ├────┤ RY(-0.69352) ├┤ X ├┤ RY(-0.87728) ├┤ X ├┤ RY(0.35368) ├┤ X ├┤ RY(1.2171) ├─░──╫──╫──╫─┤M├\n",
       "                                                                                                                                                                                               └───┘    └──────────────┘└───┘└──────────────┘└───┘└─────────────┘└───┘└────────────┘ ░  ║  ║  ║ └╥┘\n",
       "   meas: 4/═════════════════════════════════════════════════════════════════════════════════════════════════════════════════════════════════════════════════════════════════════════════════════════════════════════════════════════════════════════════════════════════════════════════╩══╩══╩══╩═\n",
       "                                                                                                                                                                                                                                                                                        0  1  2  3 "
      ]
     },
     "execution_count": 56,
     "metadata": {},
     "output_type": "execute_result"
    }
   ],
   "source": [
    "from qiskit import QuantumRegister, QuantumCircuit\n",
    "import numpy as np\n",
    "\n",
    "t = 2  # This is not optimal; As an exercise, set this to the\n",
    "       # value that will get the best results. See section 8 for solution.\n",
    "\n",
    "nqubits = 4  # Total number of qubits\n",
    "nb = 1  # Number of qubits representing the solution\n",
    "nl = 2  # Number of qubits representing the eigenvalues\n",
    "\n",
    "theta = 0  # Angle defining |b>\n",
    "\n",
    "a = 1  # Matrix diagonal\n",
    "b = -1/3  # Matrix off-diagonal\n",
    "\n",
    "# Initialize the quantum and classical registers\n",
    "qr = QuantumRegister(nqubits)\n",
    "\n",
    "# Create a Quantum Circuit\n",
    "qc = QuantumCircuit(qr)\n",
    "\n",
    "qrb = qr[0:nb]\n",
    "qrl = qr[nb:nb+nl]\n",
    "qra = qr[nb+nl:nb+nl+1]\n",
    "\n",
    "# State preparation. \n",
    "qc.ry(2*theta, qrb[0])\n",
    "    \n",
    "# QPE with e^{iAt}\n",
    "for qu in qrl:\n",
    "    qc.h(qu)\n",
    "\n",
    "qc.p(a*t, qrl[0])\n",
    "qc.p(a*t*2, qrl[1])\n",
    "\n",
    "qc.u(b*t, -np.pi/2, np.pi/2, qrb[0])\n",
    "\n",
    "\n",
    "# Controlled e^{iAt} on \\lambda_{1}:\n",
    "params=b*t\n",
    "\n",
    "qc.p(np.pi/2,qrb[0])\n",
    "qc.cx(qrl[0],qrb[0])\n",
    "qc.ry(params,qrb[0])\n",
    "qc.cx(qrl[0],qrb[0])\n",
    "qc.ry(-params,qrb[0])\n",
    "qc.p(3*np.pi/2,qrb[0])\n",
    "\n",
    "# Controlled e^{2iAt} on \\lambda_{2}:\n",
    "params = b*t*2\n",
    "\n",
    "qc.p(np.pi/2,qrb[0])\n",
    "qc.cx(qrl[1],qrb[0])\n",
    "qc.ry(params,qrb[0])\n",
    "qc.cx(qrl[1],qrb[0])\n",
    "qc.ry(-params,qrb[0])\n",
    "qc.p(3*np.pi/2,qrb[0])\n",
    "\n",
    "# Inverse QFT\n",
    "qc.h(qrl[1])\n",
    "qc.rz(-np.pi/4,qrl[1])\n",
    "qc.cx(qrl[0],qrl[1])\n",
    "qc.rz(np.pi/4,qrl[1])\n",
    "qc.cx(qrl[0],qrl[1])\n",
    "qc.rz(-np.pi/4,qrl[0])\n",
    "qc.h(qrl[0])\n",
    "\n",
    "# Eigenvalue rotation\n",
    "t1=(-np.pi +np.pi/3 - 2*np.arcsin(1/3))/4\n",
    "t2=(-np.pi -np.pi/3 + 2*np.arcsin(1/3))/4\n",
    "t3=(np.pi -np.pi/3 - 2*np.arcsin(1/3))/4\n",
    "t4=(np.pi +np.pi/3 + 2*np.arcsin(1/3))/4\n",
    "\n",
    "qc.cx(qrl[1],qra[0])\n",
    "qc.ry(t1,qra[0])\n",
    "qc.cx(qrl[0],qra[0])\n",
    "qc.ry(t2,qra[0])\n",
    "qc.cx(qrl[1],qra[0])\n",
    "qc.ry(t3,qra[0])\n",
    "qc.cx(qrl[0],qra[0])\n",
    "qc.ry(t4,qra[0])\n",
    "qc.measure_all()\n",
    "\n",
    "print(\"Depth: %i\" % qc.depth())\n",
    "print(\"CNOTS: %i\" % qc.count_ops()['cx'])\n",
    "qc.draw(fold=-1)"
   ]
  },
  {
   "cell_type": "markdown",
   "metadata": {},
   "source": [
    "The code below takes as inputs our circuit, the real hardware backend and the set of qubits we want to use, and returns and instance that can be run on the specified device. Creating the circuits with $3$ and $5$ CNOTs is the same but calling the transpile method with the right quantum circuit.\n",
    "\n",
    "Real hardware devices need to be recalibrated regularly, and the fidelity of a specific qubit or gate can change over time. Furthermore, different chips have different connectivities. If we try to run a circuit that performs a two-qubit gate between two qubits that are not connected on the specified device, the transpiler will add SWAP gates. Therefore it is good practice to check with the IBM Quantum Experience webpage<sup>[[7]](#qexperience)</sup> before running the following code and choose a set of qubits with the right connectivity and lowest error rates at the given time."
   ]
  },
  {
   "cell_type": "code",
   "execution_count": 57,
   "metadata": {
    "tags": [
     "uses-hardware"
    ]
   },
   "outputs": [
    {
     "name": "stderr",
     "output_type": "stream",
     "text": [
      "C:\\Users\\AlmudenaCarreraVazqu\\anaconda3\\envs\\hhl\\lib\\site-packages\\qiskit\\providers\\ibmq\\ibmqfactory.py:192: UserWarning: Timestamps in IBMQ backend properties, jobs, and job results are all now in local time instead of UTC.\n",
      "  warnings.warn('Timestamps in IBMQ backend properties, jobs, and job results '\n"
     ]
    }
   ],
   "source": [
    "from qiskit import ClassicalRegister, IBMQ\n",
    "from qiskit.compiler import transpile\n",
    "from qiskit.ignis.mitigation.measurement import (complete_meas_cal, # Measurement error mitigation functions\n",
    "                                                 CompleteMeasFitter, \n",
    "                                                 MeasurementFilter)\n",
    "\n",
    "provider = IBMQ.load_account()\n",
    "\n",
    "backend = provider.get_backend('ibmqx2') # calibrate using real hardware\n",
    "layout = [2,3,0,4]\n",
    "chip_qubits = 5\n",
    "\n",
    "# Transpiled circuit for the real hardware\n",
    "qc_qa_cx = transpile(qc, backend=backend, initial_layout=layout)"
   ]
  },
  {
   "cell_type": "markdown",
   "metadata": {},
   "source": [
    "The next step is to create the extra circuits used to mitigate the readout errors<sup>[[3]](#readouterr)</sup>."
   ]
  },
  {
   "cell_type": "code",
   "execution_count": 59,
   "metadata": {
    "tags": [
     "uses-hardware"
    ]
   },
   "outputs": [],
   "source": [
    "meas_cals, state_labels = complete_meas_cal(qubit_list=layout, qr=QuantumRegister(chip_qubits))\n",
    "qcs = meas_cals + [qc_qa_cx]\n",
    "\n",
    "job = backend.run(qcs, shots=10)"
   ]
  },
  {
   "cell_type": "markdown",
   "metadata": {},
   "source": [
    "The following plot<sup>[[5]](#tridi)</sup>, shows the results from running the circuit above on real hardware for $10$ different initial states. The $x$-axis represents the angle $\\theta$ defining the initial state in each case. The results where obtained after mitigating the readout error and then extrapolating the errors arising during the run of the circuit from the results with the circuits with $1$, $3$ and $5$ CNOTs. \n",
    "\n",
    "<img src=\"images/norm_public.png\">\n",
    "\n",
    "Compare to the results without error mitigation nor extrapolation from the CNOTs<sup>[5](#tridi)</sup>.\n",
    "\n",
    "<img src=\"images/noerrmit_public.png\">"
   ]
  },
  {
   "cell_type": "markdown",
   "metadata": {},
   "source": [
    "## 8. Problems<a id='problems'></a>"
   ]
  },
  {
   "cell_type": "markdown",
   "metadata": {},
   "source": [
    "##### Real hardware:\n",
    "\n",
    "1. Set the time parameter for the optimised example.\n",
    "\n",
    "<details>\n",
    "    <summary> Solution (Click to expand)</summary>\n",
    "    t = 2.344915690192344\n",
    "\n",
    "The best result is to set it so that the smallest eigenvalue can be represented exactly, since it's inverse will have the largest contribution in the solution\n",
    "</details>\n",
    "\n",
    "2. Create transpiled circuits for $3$ and $5$ CNOTs from a given circuit 'qc'. When creating the circuits you will have to add barriers so that these consecutive CNOT gates do not get cancelled when using the transpile() method.\n",
    "3. Run your circuits on the real hardware and apply a quadratic fit to the results to obtain the extrapolated value."
   ]
  },
  {
   "cell_type": "markdown",
   "metadata": {},
   "source": [
    "## 9. References<a id='references'></a>"
   ]
  },
  {
   "cell_type": "markdown",
   "metadata": {},
   "source": [
    "1. J. R. Shewchuk. An Introduction to the Conjugate Gradient Method Without the Agonizing Pain. Technical Report CMU-CS-94-125, School of Computer Science, Carnegie Mellon University, Pittsburgh, Pennsylvania, March 1994.<a id='conjgrad'></a> \n",
    "2. A. W. Harrow, A. Hassidim, and S. Lloyd, “Quantum algorithm for linear systems of equations,” Phys. Rev. Lett. 103.15 (2009), p. 150502.<a id='hhl'></a>\n",
    "3. A. Dewes, F. R. Ong, V. Schmitt, R. Lauro, N. Boulant, P. Bertet, D. Vion, and D. Esteve, “Characterization of a two-transmon processor with individual single-shot qubit readout,” Phys. Rev. Lett. 108, 057002 (2012). <a id='readouterr'></a>\n",
    "4. N. Stamatopoulos, D. J. Egger, Y. Sun, C. Zoufal, R. Iten, N. Shen, and S. Woerner, “Option Pricing using Quantum Computers,” arXiv:1905.02666 . <a id='richardson'></a>\n",
    "5. A. Carrera Vazquez, A. Frisch, D. Steenken, H. S. Barowski, R. Hiptmair, and S. Woerner, “Enhancing Quantum Linear System Algorithm by Richardson Extrapolation,” (to be included).<a id='tridi'></a>\n",
    "6. R. Iten, O. Reardon-Smith, L. Mondada, E. Redmond, R. Singh Kohli, R. Colbeck, “Introduction to UniversalQCompiler,” arXiv:1904.01072 .<a id='qcompiler'></a>\n",
    "7. https://quantum-computing.ibm.com/ .<a id='qexperience'></a>\n",
    "8. D. Bucher, J. Mueggenburg, G. Kus, I. Haide, S. Deutschle, H. Barowski, D. Steenken, A. Frisch, \"Qiskit Aqua: Solving linear systems of equations with the HHL algorithm\" https://github.com/Qiskit/qiskit-tutorials/blob/master/legacy_tutorials/aqua/linear_systems_of_equations.ipynb"
   ]
  }
 ],
 "metadata": {
  "kernelspec": {
   "display_name": "Python 3",
   "language": "python",
   "name": "python3"
  },
  "language_info": {
   "codemirror_mode": {
    "name": "ipython",
    "version": 3
   },
   "file_extension": ".py",
   "mimetype": "text/x-python",
   "name": "python",
   "nbconvert_exporter": "python",
   "pygments_lexer": "ipython3",
   "version": "3.7.7"
  }
 },
 "nbformat": 4,
 "nbformat_minor": 2
}
