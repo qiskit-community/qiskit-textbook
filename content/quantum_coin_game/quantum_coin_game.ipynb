{
 "cells": [
  {
   "cell_type": "markdown",
   "metadata": {
    "id": "D5Zxkmb_FKWG"
   },
   "source": [
    "# **Quantum Coin Game**\n",
    "\n",
    "---\n",
    "\n"
   ]
  },
  {
   "cell_type": "markdown",
   "metadata": {},
   "source": [
    "### **Table of Contents**\n",
    "---\n",
    "\n",
    "1. [Introduction](#introduction)<br>\n",
    "   1.1 [What is Quantum Coin Game](#quantum_definition)<br>\n",
    "   1.2 [Concept](#concept)<br>\n",
    "   1.3 [Idea](#idea)<br>\n",
    "   1.4 [Rules of the Game](#rules)<br>\n",
    "2. [Analogy](#analogy)<br>\n",
    "3. [Approach](#approach)<br>\n",
    "4. [Optimal Strategy](#optimal)<br>\n",
    "   4.1 [Play it with Qiskit](#quantum_play)<br>\n",
    "   4.2 [Measurement](#quantum_measurement)<br>\n",
    "   4.3 [QASM Simulator](#quantum_qasm)<br>\n",
    "   4.4 [Who Wins?](#quantum_wins)<br>\n",
    "   4.5 [Running on Quantum Computer](#real_qc)<br>\n",
    "5. [Play It](#play_it)<br>\n",
    "6. [Conclusion](#conclusion)<br>\n",
    "7. [References](#references)<br>\n",
    "8. [Quick Exercise](#quick_exercise)<br>\n",
    "9. [Version Information](#version_information)"
   ]
  },
  {
   "cell_type": "markdown",
   "metadata": {
    "id": "TJDBzM7PFsQN"
   },
   "source": [
    "### **Introduction** <a id=\"introduction\"></a>\n",
    "\n",
    "---\n",
    "\n",
    "\n",
    "### What is Quantum Coin Game ? <a id=\"quantum_definition\"></a>\n",
    " Quantum Coin Game is one of the fundamental concept of quantum computing, which uses simple implementation of quantum gates or more precisely uses the wierdness of quantum mechanics, to win about 97% of the time, when played against an opponent. Flipping of coin and say heads or tails.\n",
    "\n",
    "### Where the concept came from ? <a id=\"concept\"></a>\n",
    " The concept of Quantum Coin Game came from the idea of classical coin game which can only show heads and tails. But since the game utilizes the concepts of quantum mechanics, it would be interesting to see what could be the outcome of the whole experiment.\n",
    "\n",
    "### What is the main idea of this game ? <a id=\"idea\"></a>\n",
    " The main concept of this game is how the quantum computer uses the power of **QUANTUM SUPERPOSITION**, which tells an object can exists in 2 different states at the same time, to win absolutely everytime. The fact is an quantum computer can do superposition already puts it in a higher chance of winning over the classical flip.\n",
    "\n",
    " **NOTE**: To learn more about quantum superposition, link to \"[Qiskit Textbook](https://qiskit.org/textbook/ch-states/representing-qubit-states.html)\" superposition page.\n",
    "\n",
    "### What are the rules of this game ? <a id=\"rules\"></a>\n",
    " 1. Quantum Computer plays a move but it is not revealed to the Opponent(Human).\n",
    " 2. Opponent(Human) plays a move and it is also not revealed to the Quantum Computer.\n",
    " 3. Finally Quantum Computer plays a move.\n",
    " 4. Results are shown. If its heads, then Quantum Computer wins. Else, Opponent(Human) wins.\n",
    " \n",
    "**NOTE**: \"Playing a move\" refers to \"Flipping the coin\" and we consider the coin as **FAIR COIN**.\n",
    "\n",
    "**NOTE**: Refer to [Sohini's Ted Talk](#conclusion)\n",
    "\n",
    "---\n",
    "\n",
    "\n"
   ]
  },
  {
   "cell_type": "markdown",
   "metadata": {
    "id": "TMsXKAxk6-dt"
   },
   "source": [
    "### **Analogy** <a id=\"analogy\"></a>\n",
    "\n",
    "---\n",
    "\n",
    "Now that we know what is a quantum coin game, what is it based on and most importantly what are the rules of this game, lets convert the concept of this game in quantum computing terminology.\n",
    "\n",
    "* The 'coin' in flipping a coin we referring here is a 'single qubit gate'.\n",
    "$$\n",
    "      |\\psi\\rangle=\\begin{bmatrix}\\alpha \\\\ \\beta\\end{bmatrix}\n",
    "$$\n",
    "\n",
    "  where $\\alpha, \\beta \\in \\mathbb{C}$ and $|\\alpha|^2 + |\\beta|^2 = 1$\n",
    "\n",
    "\n",
    "* \"Flipping\" the coin is application of the bit-flip operator\n",
    "\n",
    "$$\n",
    "  X = \\begin{bmatrix} 0 & 1 \\\\ 1 & 0 \\end{bmatrix}\n",
    "$$\n",
    "\n",
    "* The \"heads\" state is defined as \n",
    "$$\n",
    "|0\\rangle = \\begin{bmatrix} 1 \\\\ 0 \\end{bmatrix}\n",
    "$$ and \"tails\" as \n",
    "$$\n",
    "|1\\rangle = \\begin{bmatrix} 0 \\\\ 1 \\end{bmatrix}\n",
    "$$\n",
    "\n",
    "* The quantum computer \"plays\" by applying the Hadamard $H$ operator \n",
    "$$\n",
    "H = \\frac{1}{\\sqrt{2}} \\begin{bmatrix}  1 & 1 \\\\ 1 & -1 \\end{bmatrix}\n",
    "$$\n"
   ]
  },
  {
   "cell_type": "markdown",
   "metadata": {
    "id": "PdPizFWxBr5m"
   },
   "source": [
    "### **Approach** <a id=\"approach\"></a>\n",
    "\n",
    "---\n",
    "Lets see how to approach the game in quantum computing terminology-\n",
    "\n",
    "* The coin is initialized to the $|0\\rangle$ \"heads\" state.\n",
    "\n",
    "* The computer plays, applying the Hadamard $H$ operator to the coin (operators are applied using matrix multiplication). \n",
    "$$\n",
    "H|0\\rangle = \\frac{1}{\\sqrt2}(|0\\rangle + |1\\rangle)\n",
    "$$\n",
    "The coin enters the \n",
    "$$\n",
    "H|0\\rangle = |+\\rangle = \\frac{1}{\\sqrt{2}} \\begin{bmatrix}  1 \\\\ 1 \\end{bmatrix}\n",
    "$$\n",
    "state.\n",
    "\n",
    "\n",
    "* The human plays, choosing whether to flip the coin (apply the $X$ operator) or do nothing (apply the $I$ operator). However, since the $X$ operator just flips the state vector upside down, $X$ has no effect. Same goes for $I$.\n",
    "$$\n",
    "X|+\\rangle=|+\\rangle \n",
    "$$\n",
    "$$\n",
    "I|+\\rangle=|+\\rangle \n",
    "$$\n",
    "No matter what, the state is $|+\\rangle$ after the human plays.\n",
    "\n",
    "* The computer plays, applying the Hadamard $H$ operator again, taking the coin to the $|0⟩$ \"heads\" state.\n",
    "$$\n",
    "H|+\\rangle = |0\\rangle\n",
    "$$"
   ]
  },
  {
   "cell_type": "code",
   "execution_count": 82,
   "metadata": {
    "id": "mEDO89d8L1pG"
   },
   "outputs": [],
   "source": [
    "# Importing all the necessary library\n",
    "\n",
    "import random\n",
    "from qiskit import QuantumCircuit, Aer, IBMQ, QuantumRegister, ClassicalRegister, execute\n",
    "from qiskit.tools.jupyter import *\n",
    "from qiskit.visualization import *\n",
    "from qiskit.providers.aer import QasmSimulator\n",
    "import qiskit.tools.jupyter\n",
    "import ipywidgets as widgets"
   ]
  },
  {
   "cell_type": "code",
   "execution_count": 83,
   "metadata": {},
   "outputs": [],
   "source": [
    "# Building the initial circuit\n",
    "\n",
    "def initial_circuit():\n",
    "    circuit = QuantumRegister(1, 'circuit')\n",
    "    measure = ClassicalRegister(1, 'result')\n",
    "    qc = QuantumCircuit(circuit, measure)\n",
    "    qc.draw('mpl')\n",
    "    return qc, circuit, measure"
   ]
  },
  {
   "cell_type": "code",
   "execution_count": 84,
   "metadata": {},
   "outputs": [],
   "source": [
    "# Widget Initialization\n",
    "\n",
    "gate = widgets.Dropdown(\n",
    "    options=[('Identity', 'i'), ('Bit Flip', 'x')],\n",
    "    description='Choice: ',\n",
    "    disabled=False,\n",
    ")"
   ]
  },
  {
   "cell_type": "markdown",
   "metadata": {},
   "source": [
    "### **Optimal Strategy** <a id=\"optimal\"></a>"
   ]
  },
  {
   "cell_type": "markdown",
   "metadata": {},
   "source": [
    "Using the above approach the possibility table reduces to-\n",
    "\n",
    "\n",
    "Start State  | Quantum  | Classical  | Quantum  | Result          | Who wins?\n",
    "-------------|----------|------------|----------|-----------------|-----------\n",
    "$|0\\rangle$  | $H$      | $I$        | $H$      | $|0\\rangle$     | Quantum\n",
    "$|0\\rangle$  | $H$      | $X$        | $H$      | $|0\\rangle$     | Quantum\n",
    "\n",
    "Now lets look at the possibilities-\n",
    "\n",
    "\n",
    "1. Quantum Computer Wins ( $|0\\rangle$ ):\n",
    "\n",
    "$$\n",
    "\\frac{2}{2} = 100 \\%\n",
    "$$\n",
    "\n",
    "2. Classical Human Wins ( $|1\\rangle$ ):\n",
    "\n",
    "$$\n",
    "  \\frac{0}{2} = 0 \\%\n",
    "$$\n",
    "\n",
    "3. Either Quantum Computer or Classical Human Wins ( $|0\\rangle + |1\\rangle$ ):\n",
    "\n",
    "$$\n",
    "  \\frac{0}{2} = 0 \\%\n",
    "$$"
   ]
  },
  {
   "cell_type": "markdown",
   "metadata": {},
   "source": [
    "This table shows the quantum computer wins $100\\%$ of the time. But actually it is $~97\\%$, due to certain error."
   ]
  },
  {
   "cell_type": "markdown",
   "metadata": {},
   "source": [
    "### **Lets play this version using Qiskit** <a id=\"quantum_play\"></a>"
   ]
  },
  {
   "cell_type": "markdown",
   "metadata": {},
   "source": [
    "#### Building the initial circuit"
   ]
  },
  {
   "cell_type": "code",
   "execution_count": 85,
   "metadata": {},
   "outputs": [],
   "source": [
    "qc, circuit, measure = initial_circuit()"
   ]
  },
  {
   "cell_type": "markdown",
   "metadata": {},
   "source": [
    "#### **Turn 1. Quantum Computer**"
   ]
  },
  {
   "cell_type": "code",
   "execution_count": 86,
   "metadata": {
    "scrolled": true
   },
   "outputs": [
    {
     "data": {
      "image/png": "[encoded data removed]",
      "text/plain": [
       "<Figure size 184.874x144.48 with 1 Axes>"
      ]
     },
     "execution_count": 86,
     "metadata": {},
     "output_type": "execute_result"
    }
   ],
   "source": [
    "# Use H Gate\n",
    "\n",
    "qc.h(circuit[0])\n",
    "qc.draw('mpl')"
   ]
  },
  {
   "cell_type": "markdown",
   "metadata": {},
   "source": [
    "#### **Turn 2. Classical Human**"
   ]
  },
  {
   "cell_type": "code",
   "execution_count": 87,
   "metadata": {},
   "outputs": [
    {
     "data": {
      "application/vnd.jupyter.widget-view+json": {
       "model_id": "5f84c1d7bbce4aae8a1f9b74cf39a7c5",
       "version_major": 2,
       "version_minor": 0
      },
      "text/plain": [
       "Dropdown(description='Choice: ', options=(('Identity', 'i'), ('Bit Flip', 'x')), value='i')"
      ]
     },
     "metadata": {},
     "output_type": "display_data"
    }
   ],
   "source": [
    "gate"
   ]
  },
  {
   "cell_type": "code",
   "execution_count": 88,
   "metadata": {},
   "outputs": [
    {
     "data": {
      "image/png": "[encoded data removed]",
      "text/plain": [
       "<Figure size 245.074x144.48 with 1 Axes>"
      ]
     },
     "execution_count": 88,
     "metadata": {},
     "output_type": "execute_result"
    }
   ],
   "source": [
    "if gate.value == 'i':\n",
    "    qc.i(circuit[0])\n",
    "if gate.value == 'x':\n",
    "    qc.x(circuit[0])\n",
    "\n",
    "qc.draw('mpl')"
   ]
  },
  {
   "cell_type": "markdown",
   "metadata": {},
   "source": [
    "#### **Turn 3. Quantum Computer**"
   ]
  },
  {
   "cell_type": "markdown",
   "metadata": {},
   "source": [
    "Quantum Computer uses Hadamard $H$ on its first turn"
   ]
  },
  {
   "cell_type": "code",
   "execution_count": 89,
   "metadata": {
    "scrolled": true
   },
   "outputs": [
    {
     "data": {
      "image/png": "[encoded data removed]",
      "text/plain": [
       "<Figure size 305.274x144.48 with 1 Axes>"
      ]
     },
     "execution_count": 89,
     "metadata": {},
     "output_type": "execute_result"
    }
   ],
   "source": [
    "# Used H Gate\n",
    "\n",
    "qc.h(circuit[0])\n",
    "qc.draw('mpl')"
   ]
  },
  {
   "cell_type": "markdown",
   "metadata": {},
   "source": [
    "#### **Measurement** <a id=\"quantum_measurement\"></a>"
   ]
  },
  {
   "cell_type": "code",
   "execution_count": 90,
   "metadata": {},
   "outputs": [
    {
     "data": {
      "image/png": "[encoded data removed]",
      "text/plain": [
       "<Figure size 365.474x144.48 with 1 Axes>"
      ]
     },
     "execution_count": 90,
     "metadata": {},
     "output_type": "execute_result"
    }
   ],
   "source": [
    "qc.measure(circuit, measure)\n",
    "qc.draw('mpl')"
   ]
  },
  {
   "cell_type": "markdown",
   "metadata": {},
   "source": [
    "#### **QASM_Simulator** <a id=\"quantum_qasm\"></a>"
   ]
  },
  {
   "cell_type": "code",
   "execution_count": 91,
   "metadata": {},
   "outputs": [
    {
     "name": "stdout",
     "output_type": "stream",
     "text": [
      "{'0': 8192}\n"
     ]
    },
    {
     "data": {
      "image/png": "[encoded data removed]",
      "text/plain": [
       "<Figure size 504x360 with 1 Axes>"
      ]
     },
     "execution_count": 91,
     "metadata": {},
     "output_type": "execute_result"
    }
   ],
   "source": [
    "backend = Aer.get_backend('qasm_simulator')\n",
    "job = execute(qc, backend, shots=8192)\n",
    "res = job.result().get_counts()\n",
    "print(res)\n",
    "plot_histogram(res)"
   ]
  },
  {
   "cell_type": "markdown",
   "metadata": {
    "tags": []
   },
   "source": [
    "#### **Lets see who wins** <a id=\"quantum_wins\"></a>"
   ]
  },
  {
   "cell_type": "code",
   "execution_count": 92,
   "metadata": {},
   "outputs": [
    {
     "name": "stdout",
     "output_type": "stream",
     "text": [
      "Quantum Computer Wins\n"
     ]
    }
   ],
   "source": [
    "if len(res) == 1 and list(res.keys())[0] == '0':\n",
    "    print(\"Quantum Computer Wins\")\n",
    "if len(res) == 1 and list(res.keys())[0] == '1':\n",
    "    print(\"Classical Human Wins\")\n",
    "if len(res) == 2:\n",
    "    print(\"Either Quantum Computer or Classical Human Wins\")"
   ]
  },
  {
   "cell_type": "markdown",
   "metadata": {
    "tags": []
   },
   "source": [
    "#### **Running on Quantum Computer** <a id=\"real_qc\"></a>"
   ]
  },
  {
   "cell_type": "code",
   "execution_count": 95,
   "metadata": {},
   "outputs": [
    {
     "name": "stdout",
     "output_type": "stream",
     "text": [
      "{'0': 8123, '1': 69}\n"
     ]
    },
    {
     "data": {
      "image/png": "[encoded data removed]",
      "text/plain": [
       "<Figure size 504x360 with 1 Axes>"
      ]
     },
     "execution_count": 95,
     "metadata": {},
     "output_type": "execute_result"
    }
   ],
   "source": [
    "backend_real = provider.get_backend('ibmq_manila')\n",
    "job_real = execute(qc, backend_real, shots=8192)\n",
    "res_real = job_real.result().get_counts()\n",
    "print(res_real)\n",
    "plot_histogram(res_real)"
   ]
  },
  {
   "cell_type": "markdown",
   "metadata": {},
   "source": [
    "#### **Quantum Computer Wins all the time.**"
   ]
  },
  {
   "cell_type": "markdown",
   "metadata": {
    "tags": []
   },
   "source": [
    "#### **Play it** <a id=\"play_it\"></a>"
   ]
  },
  {
   "cell_type": "code",
   "execution_count": 99,
   "metadata": {},
   "outputs": [
    {
     "data": {
      "application/vnd.jupyter.widget-view+json": {
       "model_id": "086ed36374344115a5ff4571c847cac2",
       "version_major": 2,
       "version_minor": 0
      },
      "text/plain": [
       "VBox(children=(Dropdown(description='Choice: ', options=(('Identity', 'i'), ('Bit Flip', 'x')), value='i'), Bu…"
      ]
     },
     "metadata": {},
     "output_type": "display_data"
    }
   ],
   "source": [
    "button_p = widgets.Button(\n",
    "    description='Play')\n",
    "gate_p = widgets.Dropdown(\n",
    "    options=[('Identity', 'i'), ('Bit Flip', 'x')],\n",
    "    description='Choice: ',\n",
    "    disabled=False,\n",
    ")\n",
    "out_p = widgets.Output()\n",
    "def on_button_clicked(b):\n",
    "    with out_p:\n",
    "        qc_p, circuit_p, measure_p = initial_circuit()  # Initial Circuit\n",
    "        \n",
    "        qc_p.h(circuit_p[0])  # Turn 1\n",
    "        \n",
    "        if gate_p.value == 'i':  # Turn 2\n",
    "            qc_p.i(circuit_p[0])\n",
    "        if gate_p.value == 'x':\n",
    "            qc_p.x(circuit_p[0])\n",
    "            \n",
    "        qc_p.h(circuit_p[0])  # Turn 3\n",
    "        \n",
    "        qc_p.measure(circuit_p, measure_p)  # Measure\n",
    "        \n",
    "        backend_p = Aer.get_backend('qasm_simulator')  # QASM\n",
    "        job_p = execute(qc_p, backend_p, shots=8192)\n",
    "        res_p = job_p.result().get_counts()\n",
    "        \n",
    "        if len(res_p) == 1 and list(res_p.keys())[0] == '0':  # Result\n",
    "            print(\"You Lose to Quantum. Quantum Computer Wins\")\n",
    "        if len(res_p) == 1 and list(res_p.keys())[0] == '1':\n",
    "            print(\"You Win\")\n",
    "        if len(res_p) == 2:\n",
    "            print(\"Either Quantum or You Wins\")\n",
    "\n",
    "button_p.on_click(on_button_clicked)\n",
    "widgets.VBox([gate_p, button_p, out_p])"
   ]
  },
  {
   "cell_type": "markdown",
   "metadata": {},
   "source": [
    "---"
   ]
  },
  {
   "cell_type": "markdown",
   "metadata": {},
   "source": [
    "### **Conclusion** <a id=\"conclusion\"></a>"
   ]
  },
  {
   "cell_type": "markdown",
   "metadata": {},
   "source": [
    "This simple and yet fun little game shows the basic quantum states $|0\\rangle$, $|1\\rangle$, $|+\\rangle$ and $|−\\rangle$, plus the common ways of moving between them with the $X$, $H$, $I$, $Z$ gates. "
   ]
  },
  {
   "cell_type": "markdown",
   "metadata": {},
   "source": [
    "### **References** <a id=\"references\"></a>"
   ]
  },
  {
   "cell_type": "markdown",
   "metadata": {},
   "source": [
    "This notebook is inspired from:\n",
    "\n",
    " * [1]. [Ted talk by Sohini Ghosh](https://www.ted.com/talks/shohini_ghose_a_beginner_s_guide_to_quantum_computing#t-208006). \n",
    "\n",
    " * [2]. Quantum Coin Flipping from [Wikipedia](https://en.wikipedia.org/wiki/Quantum_coin_flipping)"
   ]
  },
  {
   "cell_type": "markdown",
   "metadata": {},
   "source": [
    "#### **Quick Exercise** <a id=\"quick_exercise\"></a>"
   ]
  },
  {
   "cell_type": "markdown",
   "metadata": {},
   "source": [
    "The rules of the game we learned so far are the main rules of the game.\n",
    "But, think of other variations of the game as well, tweak the game a little could result in significant change in answer. Such as-\n",
    "\n",
    "1. What if, instead of quantum computer taking first turn, the classical human take the first turn ?\n",
    "2. What if, instead of representing head as $|0\\rangle$, the tail is represented as $|0\\rangle$ ?\n",
    "3. What if, instead of using fair coin, we used unfair coin ?\n",
    "4. What if, instead of playing against a classical human, the quantum computer plays with another quantum computer ?\n",
    "5. What if, instead of having 3 turns, there are $n$ number of turns ?\n",
    "6. What if, instead of using all gates, restrict the use of some gates ?\n",
    "\n",
    "and many more variations are possible."
   ]
  },
  {
   "cell_type": "markdown",
   "metadata": {},
   "source": [
    "### **Version Information** <a id=\"version_information\"></a>"
   ]
  },
  {
   "cell_type": "code",
   "execution_count": 97,
   "metadata": {},
   "outputs": [
    {
     "data": {
      "text/html": [
       "<h3>Version Information</h3><table><tr><th>Qiskit Software</th><th>Version</th></tr><tr><td><code>qiskit-terra</code></td><td>0.18.1</td></tr><tr><td><code>qiskit-aer</code></td><td>0.8.2</td></tr><tr><td><code>qiskit-ignis</code></td><td>0.6.0</td></tr><tr><td><code>qiskit-ibmq-provider</code></td><td>0.16.0</td></tr><tr><td><code>qiskit-aqua</code></td><td>0.9.4</td></tr><tr><td><code>qiskit</code></td><td>0.29.0</td></tr><tr><td><code>qiskit-nature</code></td><td>0.1.5</td></tr><tr><td><code>qiskit-finance</code></td><td>0.2.0</td></tr><tr><td><code>qiskit-optimization</code></td><td>0.2.1</td></tr><tr><td><code>qiskit-machine-learning</code></td><td>0.2.0</td></tr><tr><th>System information</th></tr><tr><td>Python</td><td>3.8.10 | packaged by conda-forge | (default, May 11 2021, 07:01:05) \n",
       "[GCC 9.3.0]</td></tr><tr><td>OS</td><td>Linux</td></tr><tr><td>CPUs</td><td>8</td></tr><tr><td>Memory (Gb)</td><td>31.400043487548828</td></tr><tr><td colspan='2'>Sat Sep 18 06:57:20 2021 UTC</td></tr></table>"
      ],
      "text/plain": [
       "<IPython.core.display.HTML object>"
      ]
     },
     "metadata": {},
     "output_type": "display_data"
    }
   ],
   "source": [
    "%qiskit_version_table"
   ]
  }
 ],
 "metadata": {
  "colab": {
   "collapsed_sections": [],
   "name": "Quantum Coin Game.ipynb",
   "provenance": []
  },
  "kernelspec": {
   "display_name": "Qiskit v0.29.0",
   "language": "python",
   "name": "python3"
  },
  "language_info": {
   "codemirror_mode": {
    "name": "ipython",
    "version": 3
   },
   "file_extension": ".py",
   "mimetype": "text/x-python",
   "name": "python",
   "nbconvert_exporter": "python",
   "pygments_lexer": "ipython3",
   "version": "3.8.10"
  },
  "widgets": {
   "application/vnd.jupyter.widget-state+json": {
    "state": {
     "008330a238a04d53a673aef0536651da": {
      "model_module": "@jupyter-widgets/base",
      "model_module_version": "1.2.0",
      "model_name": "LayoutModel",
      "state": {}
     },
     "02d2edbd303a44e89d283b18930a8a7b": {
      "model_module": "@jupyter-widgets/controls",
      "model_module_version": "1.5.0",
      "model_name": "DropdownModel",
      "state": {
       "_options_labels": [
        "Identity",
        "Bit Flip"
       ],
       "description": "Choice: ",
       "index": 0,
       "layout": "IPY_MODEL_3e15c2d41f3f4db48ac842a070ef26af",
       "style": "IPY_MODEL_d68ac2f8b66c4cb885fc36020a414d36"
      }
     },
     "02e3e6ac9e3546999fd82cc8c0933bd3": {
      "model_module": "@jupyter-widgets/base",
      "model_module_version": "1.2.0",
      "model_name": "LayoutModel",
      "state": {}
     },
     "03a468f019e740e0893c158df36c994c": {
      "model_module": "@jupyter-widgets/base",
      "model_module_version": "1.2.0",
      "model_name": "LayoutModel",
      "state": {}
     },
     "03d4e21db9814d63b061518717dc1e87": {
      "model_module": "@jupyter-widgets/base",
      "model_module_version": "1.2.0",
      "model_name": "LayoutModel",
      "state": {}
     },
     "046df69fe5fe4552866f9f0d42fd8c63": {
      "model_module": "@jupyter-widgets/base",
      "model_module_version": "1.2.0",
      "model_name": "LayoutModel",
      "state": {}
     },
     "048c9a1534f34fa7b4337ceb87490070": {
      "model_module": "@jupyter-widgets/base",
      "model_module_version": "1.2.0",
      "model_name": "LayoutModel",
      "state": {
       "width": "95px"
      }
     },
     "04af059eba8940afb47eca0b3f1f978c": {
      "model_module": "@jupyter-widgets/base",
      "model_module_version": "1.2.0",
      "model_name": "LayoutModel",
      "state": {}
     },
     "05c2b3e4a1bd4326b7842301f05cecc0": {
      "model_module": "@jupyter-widgets/base",
      "model_module_version": "1.2.0",
      "model_name": "LayoutModel",
      "state": {}
     },
     "07f85d96de574a619d0d2245099925da": {
      "model_module": "@jupyter-widgets/controls",
      "model_module_version": "1.5.0",
      "model_name": "ButtonModel",
      "state": {
       "icon": "close",
       "layout": "IPY_MODEL_2aac3601c6b44c69908da7f1594e403b",
       "style": "IPY_MODEL_58357cbdb72942bf9bd762d14e8626ff"
      }
     },
     "086ed36374344115a5ff4571c847cac2": {
      "model_module": "@jupyter-widgets/controls",
      "model_module_version": "1.5.0",
      "model_name": "VBoxModel",
      "state": {
       "children": [
        "IPY_MODEL_a2d3be6abfae47a393a2079930438d13",
        "IPY_MODEL_ffd84ef7ac4d4dc08b9d375738765054",
        "IPY_MODEL_f8fbe655c6df4f50a523445130f78a05"
       ],
       "layout": "IPY_MODEL_c283d231e391423a88b7ae804596c645"
      }
     },
     "088f969341a84ec68f5f3e4e4b31fa91": {
      "model_module": "@jupyter-widgets/base",
      "model_module_version": "1.2.0",
      "model_name": "LayoutModel",
      "state": {}
     },
     "096d843bdd9f4f88b040f048683087e8": {
      "model_module": "@jupyter-widgets/base",
      "model_module_version": "1.2.0",
      "model_name": "LayoutModel",
      "state": {}
     },
     "09889a42cd0948d0994ee022ea442e7f": {
      "model_module": "@jupyter-widgets/controls",
      "model_module_version": "1.5.0",
      "model_name": "ButtonStyleModel",
      "state": {}
     },
     "0c83c413865d42fa9f0a0f8398d46afa": {
      "model_module": "@jupyter-widgets/controls",
      "model_module_version": "1.5.0",
      "model_name": "ButtonModel",
      "state": {
       "description": "Click me",
       "icon": "check",
       "layout": "IPY_MODEL_ba1f685c48f94a1d9d5439cfdc1fb11b",
       "style": "IPY_MODEL_d29ae7788ecc4ee3b15e00c298b9844e",
       "tooltip": "Click me"
      }
     },
     "0dd08bec7fa64e12941b53a17a6907b7": {
      "model_module": "@jupyter-widgets/output",
      "model_module_version": "1.0.0",
      "model_name": "OutputModel",
      "state": {
       "layout": "IPY_MODEL_5c7361759c0744179055ee358620b8f0"
      }
     },
     "0eb8c2d293134bd289540f4dd1c2ff2e": {
      "model_module": "@jupyter-widgets/controls",
      "model_module_version": "1.5.0",
      "model_name": "DescriptionStyleModel",
      "state": {
       "description_width": ""
      }
     },
     "0f02e99bf90847cd9e539b5029584eab": {
      "model_module": "@jupyter-widgets/base",
      "model_module_version": "1.2.0",
      "model_name": "LayoutModel",
      "state": {}
     },
     "0f9374c5813a489bbf71b51f6e271c40": {
      "model_module": "@jupyter-widgets/controls",
      "model_module_version": "1.5.0",
      "model_name": "ButtonStyleModel",
      "state": {}
     },
     "0f953f4fae9e479c92720729caad334b": {
      "model_module": "@jupyter-widgets/controls",
      "model_module_version": "1.5.0",
      "model_name": "DescriptionStyleModel",
      "state": {
       "description_width": ""
      }
     },
     "0fd9cf40f4394b108eb48994f5159a0a": {
      "model_module": "@jupyter-widgets/base",
      "model_module_version": "1.2.0",
      "model_name": "LayoutModel",
      "state": {}
     },
     "10321ef1200f4fe9990204b55c16ebfa": {
      "model_module": "@jupyter-widgets/controls",
      "model_module_version": "1.5.0",
      "model_name": "VBoxModel",
      "state": {
       "children": [
        "IPY_MODEL_afccd6d4ef1d455aa3b0ebb4c18510bf",
        "IPY_MODEL_32f54faaf00748579ac25a3c3d52b32e",
        "IPY_MODEL_cad2417a432049ceb4f9d060b65a94b1"
       ],
       "layout": "IPY_MODEL_8cf01bfbe3b04b66ab877915e718e7e4"
      }
     },
     "12904fe562bf4af4b203d63b8c0ed85b": {
      "model_module": "@jupyter-widgets/base",
      "model_module_version": "1.2.0",
      "model_name": "LayoutModel",
      "state": {
       "width": "70px"
      }
     },
     "12e5e9169f9449b2bffa22ae1c92cf26": {
      "model_module": "@jupyter-widgets/base",
      "model_module_version": "1.2.0",
      "model_name": "LayoutModel",
      "state": {}
     },
     "144d8b62a0ce4a098ad18cc610653673": {
      "model_module": "@jupyter-widgets/output",
      "model_module_version": "1.0.0",
      "model_name": "OutputModel",
      "state": {
       "layout": "IPY_MODEL_93b296aca64740e7ba030d985808a9e2",
       "outputs": [
        {
         "name": "stdout",
         "output_type": "stream",
         "text": "Hello\n"
        }
       ]
      }
     },
     "15912aa5cf434ede97954140692fdd4d": {
      "model_module": "@jupyter-widgets/base",
      "model_module_version": "1.2.0",
      "model_name": "LayoutModel",
      "state": {}
     },
     "15b6340d27f34033aad4b081341587ab": {
      "model_module": "@jupyter-widgets/controls",
      "model_module_version": "1.5.0",
      "model_name": "VBoxModel",
      "state": {
       "children": [
        "IPY_MODEL_f7659fc826ee453491f5da019d39201e",
        "IPY_MODEL_e524ed157e864274b6b3af791d4346bd"
       ],
       "layout": "IPY_MODEL_d77661d8c1014627902e3c83a84d7a38"
      }
     },
     "1735164678b543658b2df163d2b98b13": {
      "model_module": "@jupyter-widgets/controls",
      "model_module_version": "1.5.0",
      "model_name": "DescriptionStyleModel",
      "state": {
       "description_width": ""
      }
     },
     "17511a3757404177b835d4d1043f88fc": {
      "model_module": "@jupyter-widgets/controls",
      "model_module_version": "1.5.0",
      "model_name": "DescriptionStyleModel",
      "state": {
       "description_width": ""
      }
     },
     "17dffc1282744b7cb324c86cf87be461": {
      "model_module": "@jupyter-widgets/controls",
      "model_module_version": "1.5.0",
      "model_name": "ButtonModel",
      "state": {
       "description": "Click me",
       "icon": "check",
       "layout": "IPY_MODEL_37841f400161490d988d67e4535bdf1b",
       "style": "IPY_MODEL_b88aa3dcd9754b4789a432e9f90da717",
       "tooltip": "Click me"
      }
     },
     "19750d6513fa444a8676e680d42b195b": {
      "model_module": "@jupyter-widgets/output",
      "model_module_version": "1.0.0",
      "model_name": "OutputModel",
      "state": {
       "layout": "IPY_MODEL_0f02e99bf90847cd9e539b5029584eab",
       "outputs": [
        {
         "name": "stdout",
         "output_type": "stream",
         "text": "Hello\n"
        }
       ]
      }
     },
     "19deeb0055f34f99bf0b863d93dd3633": {
      "model_module": "@jupyter-widgets/controls",
      "model_module_version": "1.5.0",
      "model_name": "DescriptionStyleModel",
      "state": {
       "description_width": ""
      }
     },
     "1a99c9b294fe471da35ae0fdfa9a7d67": {
      "model_module": "@jupyter-widgets/base",
      "model_module_version": "1.2.0",
      "model_name": "LayoutModel",
      "state": {
       "width": "145px"
      }
     },
     "1b284a33a5044cecb1f765e92917eba1": {
      "model_module": "@jupyter-widgets/base",
      "model_module_version": "1.2.0",
      "model_name": "LayoutModel",
      "state": {
       "width": "190px"
      }
     },
     "1c597273997f4b5888899de9be11bd5c": {
      "model_module": "@jupyter-widgets/controls",
      "model_module_version": "1.5.0",
      "model_name": "ButtonStyleModel",
      "state": {}
     },
     "1c7a6b2ad7844aec86ac9332e64c2881": {
      "model_module": "@jupyter-widgets/base",
      "model_module_version": "1.2.0",
      "model_name": "LayoutModel",
      "state": {
       "grid_template_areas": "\n                                       \". . . . right \"\n                                        ",
       "grid_template_columns": "20% 20% 20% 20% 20%",
       "width": "100%"
      }
     },
     "1c899317723d46eca8037057dcd6667d": {
      "model_module": "@jupyter-widgets/controls",
      "model_module_version": "1.5.0",
      "model_name": "VBoxModel",
      "state": {
       "children": [
        "IPY_MODEL_625728eefa94415295a7fe3362f8ba3c",
        "IPY_MODEL_eeb3ca30e9f848ccb9cfee00deea4d7e",
        "IPY_MODEL_a022a364f628495db0ae3f612724a2fc"
       ],
       "layout": "IPY_MODEL_efa9fd6431cf415c805384e7b7486b29"
      }
     },
     "1fb433d783aa4c8bb7755585611e34a7": {
      "model_module": "@jupyter-widgets/controls",
      "model_module_version": "1.5.0",
      "model_name": "DropdownModel",
      "state": {
       "_options_labels": [
        "Identity",
        "Bit Flip"
       ],
       "description": "Choice: ",
       "index": 1,
       "layout": "IPY_MODEL_d11ce138a97b4161a2345909a1888fee",
       "style": "IPY_MODEL_c7861556e32f4418b125404b5122e6b6"
      }
     },
     "202ff785b96a404e97d31df5261d0b12": {
      "model_module": "@jupyter-widgets/base",
      "model_module_version": "1.2.0",
      "model_name": "LayoutModel",
      "state": {}
     },
     "20a32abffd2e4399a39907e7ed70878e": {
      "model_module": "@jupyter-widgets/base",
      "model_module_version": "1.2.0",
      "model_name": "LayoutModel",
      "state": {
       "width": "95px"
      }
     },
     "213df7422ec4473e94afdc0adc6db072": {
      "model_module": "@jupyter-widgets/controls",
      "model_module_version": "1.5.0",
      "model_name": "ButtonStyleModel",
      "state": {}
     },
     "21b5ba94229c4ae1aab2cea1ae99698c": {
      "model_module": "@jupyter-widgets/base",
      "model_module_version": "1.2.0",
      "model_name": "LayoutModel",
      "state": {}
     },
     "21cccd24b7d343f696befb454b33c838": {
      "model_module": "@jupyter-widgets/controls",
      "model_module_version": "1.5.0",
      "model_name": "DropdownModel",
      "state": {
       "_options_labels": [
        "Identity",
        "Bit Flip"
       ],
       "description": "Choice: ",
       "index": 0,
       "layout": "IPY_MODEL_21b5ba94229c4ae1aab2cea1ae99698c",
       "style": "IPY_MODEL_2741cc18b09b45c2a52a3a5f10f84b28"
      }
     },
     "21d33ec1f2da4a699418669ef8c365c3": {
      "model_module": "@jupyter-widgets/controls",
      "model_module_version": "1.5.0",
      "model_name": "ButtonStyleModel",
      "state": {}
     },
     "223738c83c5a482994a3fc5aa37707c0": {
      "model_module": "@jupyter-widgets/controls",
      "model_module_version": "1.5.0",
      "model_name": "ButtonStyleModel",
      "state": {}
     },
     "227105003d24475299f4fd033fd39fcd": {
      "model_module": "@jupyter-widgets/base",
      "model_module_version": "1.2.0",
      "model_name": "LayoutModel",
      "state": {}
     },
     "22c660f836c148e392b9dee504bda3b4": {
      "model_module": "@jupyter-widgets/controls",
      "model_module_version": "1.5.0",
      "model_name": "ButtonModel",
      "state": {
       "description": "Click me",
       "icon": "check",
       "layout": "IPY_MODEL_5f9120edb57647b0b5ef3451aa10f79e",
       "style": "IPY_MODEL_7b8666f8e8f44ecbbbd52f9a81f131d5",
       "tooltip": "Click me"
      }
     },
     "238bc2ba03cc4d03896cd645fc01e631": {
      "model_module": "@jupyter-widgets/base",
      "model_module_version": "1.2.0",
      "model_name": "LayoutModel",
      "state": {
       "width": "190px"
      }
     },
     "248a97ab40e04074b4a1a0f126c223d0": {
      "model_module": "@jupyter-widgets/base",
      "model_module_version": "1.2.0",
      "model_name": "LayoutModel",
      "state": {}
     },
     "25c9fb24a0b84b25b60413625324fb3a": {
      "model_module": "@jupyter-widgets/base",
      "model_module_version": "1.2.0",
      "model_name": "LayoutModel",
      "state": {}
     },
     "2616205925db4c9bb6640976f44b399c": {
      "model_module": "@jupyter-widgets/controls",
      "model_module_version": "1.5.0",
      "model_name": "DescriptionStyleModel",
      "state": {
       "description_width": ""
      }
     },
     "2741cc18b09b45c2a52a3a5f10f84b28": {
      "model_module": "@jupyter-widgets/controls",
      "model_module_version": "1.5.0",
      "model_name": "DescriptionStyleModel",
      "state": {
       "description_width": ""
      }
     },
     "294784795a8b4c89be126e85e7ae9bb2": {
      "model_module": "@jupyter-widgets/controls",
      "model_module_version": "1.5.0",
      "model_name": "HTMLModel",
      "state": {
       "layout": "IPY_MODEL_f30b1d4b469b4836b5ae519fdb1644ac",
       "style": "IPY_MODEL_fb22183ddfae4a6d982f1764d5eb635d",
       "value": "<h5>Status</h5>"
      }
     },
     "29539ec3e75f4b8fb3dec58446bcd9d2": {
      "model_module": "@jupyter-widgets/base",
      "model_module_version": "1.2.0",
      "model_name": "LayoutModel",
      "state": {}
     },
     "2aac3601c6b44c69908da7f1594e403b": {
      "model_module": "@jupyter-widgets/base",
      "model_module_version": "1.2.0",
      "model_name": "LayoutModel",
      "state": {
       "margin": "0px 5px 0px 0px",
       "width": "32px"
      }
     },
     "2ad2f30ccda34a25959dd95bb995dba2": {
      "model_module": "@jupyter-widgets/base",
      "model_module_version": "1.2.0",
      "model_name": "LayoutModel",
      "state": {}
     },
     "2af26b95ea884c48a6a2fad65af2f1a7": {
      "model_module": "@jupyter-widgets/controls",
      "model_module_version": "1.5.0",
      "model_name": "VBoxModel",
      "state": {
       "children": [
        "IPY_MODEL_31ed459e44034305ab37efa25d8e1c20",
        "IPY_MODEL_b4121029506f441489bcebc882da2942",
        "IPY_MODEL_952bde93dd9d4eb989d7c25563f95c76"
       ],
       "layout": "IPY_MODEL_5bb44db210b04acd981ea9fce7292ea7"
      }
     },
     "2b21a0b9c85e4e1f9bb67aad9d3dac61": {
      "model_module": "@jupyter-widgets/controls",
      "model_module_version": "1.5.0",
      "model_name": "DescriptionStyleModel",
      "state": {
       "description_width": ""
      }
     },
     "2b425215cebb4c27a4c8a77da006ec02": {
      "model_module": "@jupyter-widgets/controls",
      "model_module_version": "1.5.0",
      "model_name": "ButtonStyleModel",
      "state": {}
     },
     "2de637ad888a4b93ab33956d3916d748": {
      "model_module": "@jupyter-widgets/controls",
      "model_module_version": "1.5.0",
      "model_name": "HTMLModel",
      "state": {
       "layout": "IPY_MODEL_63648a6649e94d86a5239e32a075f581",
       "style": "IPY_MODEL_44610edf1c524ae18db7dce68ae8b6e5",
       "value": "<font style='color:#34BC6E'>DONE</font>"
      }
     },
     "2e184cbb9d0048a1a731da4617cce461": {
      "model_module": "@jupyter-widgets/base",
      "model_module_version": "1.2.0",
      "model_name": "LayoutModel",
      "state": {
       "margin": "0px 5px 0px 0px",
       "width": "32px"
      }
     },
     "2eded503206445918b65cf34bbcdb557": {
      "model_module": "@jupyter-widgets/base",
      "model_module_version": "1.2.0",
      "model_name": "LayoutModel",
      "state": {}
     },
     "2f6a376cae19474a9335dfad21553bf7": {
      "model_module": "@jupyter-widgets/controls",
      "model_module_version": "1.5.0",
      "model_name": "DescriptionStyleModel",
      "state": {
       "description_width": ""
      }
     },
     "303cc749f8f94decb3a2b566535da6e7": {
      "model_module": "@jupyter-widgets/controls",
      "model_module_version": "1.5.0",
      "model_name": "DescriptionStyleModel",
      "state": {
       "description_width": ""
      }
     },
     "304680e61f184d38b20bd372bb855997": {
      "model_module": "@jupyter-widgets/controls",
      "model_module_version": "1.5.0",
      "model_name": "VBoxModel",
      "state": {
       "children": [
        "IPY_MODEL_a9dfd0b31ed74061bac65d884da0f333",
        "IPY_MODEL_87a844abece44f0db7cf0c28e138803e"
       ],
       "layout": "IPY_MODEL_04af059eba8940afb47eca0b3f1f978c"
      }
     },
     "312afdb9938f45c1beba7aba265b9089": {
      "model_module": "@jupyter-widgets/controls",
      "model_module_version": "1.5.0",
      "model_name": "DescriptionStyleModel",
      "state": {
       "description_width": ""
      }
     },
     "31a619b0c23143e0ad57571dac543794": {
      "model_module": "@jupyter-widgets/base",
      "model_module_version": "1.2.0",
      "model_name": "LayoutModel",
      "state": {}
     },
     "31ed459e44034305ab37efa25d8e1c20": {
      "model_module": "@jupyter-widgets/controls",
      "model_module_version": "1.5.0",
      "model_name": "DropdownModel",
      "state": {
       "_options_labels": [
        "Identity",
        "Bit Flip"
       ],
       "description": "Choice: ",
       "index": 0,
       "layout": "IPY_MODEL_872505b025a44a93b068a9e5ef58bbc0",
       "style": "IPY_MODEL_2b21a0b9c85e4e1f9bb67aad9d3dac61"
      }
     },
     "32d3f996de85416e96a9d7aed7361014": {
      "model_module": "@jupyter-widgets/controls",
      "model_module_version": "1.5.0",
      "model_name": "HTMLModel",
      "state": {
       "layout": "IPY_MODEL_20a32abffd2e4399a39907e7ed70878e",
       "style": "IPY_MODEL_5c50a56667e84c5182d496ccb030f2ce",
       "value": "<font style='color:#FFB000'>CANCELLED</font>"
      }
     },
     "32f54faaf00748579ac25a3c3d52b32e": {
      "model_module": "@jupyter-widgets/controls",
      "model_module_version": "1.5.0",
      "model_name": "ButtonModel",
      "state": {
       "description": "Play",
       "layout": "IPY_MODEL_4e67760ca26f4f56b617fbdd5164a177",
       "style": "IPY_MODEL_abd5cc420c5e49fe87714f20bf2c5ad8"
      }
     },
     "348660f3a860403eaccc2958e7729517": {
      "model_module": "@jupyter-widgets/controls",
      "model_module_version": "1.5.0",
      "model_name": "VBoxModel",
      "state": {
       "children": [
        "IPY_MODEL_1fb433d783aa4c8bb7755585611e34a7",
        "IPY_MODEL_e0b4292c67164cf8a1542a090dd1a865",
        "IPY_MODEL_3a18199bc64448cdb3216112a3711f9b"
       ],
       "layout": "IPY_MODEL_39acba6f8db345dd9bafd0dc90b4ccb3"
      }
     },
     "34e6f1b09ce44ea8acd6ffd93847f88c": {
      "model_module": "@jupyter-widgets/controls",
      "model_module_version": "1.5.0",
      "model_name": "DescriptionStyleModel",
      "state": {
       "description_width": ""
      }
     },
     "3628bf3690f94f018dccfd0edfadc5fa": {
      "model_module": "@jupyter-widgets/controls",
      "model_module_version": "1.5.0",
      "model_name": "HTMLModel",
      "state": {
       "layout": "IPY_MODEL_999efa6c92e04a1f82ab8a83f9463b19",
       "style": "IPY_MODEL_c6ceec1e146742baa031ee244091a1e2",
       "value": "61458a6c966497695df67d8b"
      }
     },
     "36a819dfc39a4fc6b3df2eaa47466aaa": {
      "model_module": "@jupyter-widgets/controls",
      "model_module_version": "1.5.0",
      "model_name": "ButtonModel",
      "state": {
       "button_style": "primary",
       "description": "Clear",
       "layout": "IPY_MODEL_bbbc140bd08846aeb7794e3df1ab6a14",
       "style": "IPY_MODEL_6585e5328ded4389a6c4cf9098f4dc90"
      }
     },
     "37841f400161490d988d67e4535bdf1b": {
      "model_module": "@jupyter-widgets/base",
      "model_module_version": "1.2.0",
      "model_name": "LayoutModel",
      "state": {}
     },
     "37a6d329c33a40928b3f23b3b2bcd5d8": {
      "model_module": "@jupyter-widgets/base",
      "model_module_version": "1.2.0",
      "model_name": "LayoutModel",
      "state": {}
     },
     "399a5714d2744518b0a6f6fdb898f372": {
      "model_module": "@jupyter-widgets/output",
      "model_module_version": "1.0.0",
      "model_name": "OutputModel",
      "state": {
       "layout": "IPY_MODEL_088f969341a84ec68f5f3e4e4b31fa91",
       "outputs": [
        {
         "name": "stdout",
         "output_type": "stream",
         "text": "Ay\nAy\n"
        }
       ]
      }
     },
     "39a61baec9ef43b5beca5f04a913b946": {
      "model_module": "@jupyter-widgets/base",
      "model_module_version": "1.2.0",
      "model_name": "LayoutModel",
      "state": {}
     },
     "39acba6f8db345dd9bafd0dc90b4ccb3": {
      "model_module": "@jupyter-widgets/base",
      "model_module_version": "1.2.0",
      "model_name": "LayoutModel",
      "state": {}
     },
     "3a18199bc64448cdb3216112a3711f9b": {
      "model_module": "@jupyter-widgets/output",
      "model_module_version": "1.0.0",
      "model_name": "OutputModel",
      "state": {
       "layout": "IPY_MODEL_45b9076f142449aeb962d353babef1ae",
       "outputs": [
        {
         "name": "stdout",
         "output_type": "stream",
         "text": "You Lose to QUantum\n"
        }
       ]
      }
     },
     "3d1cde59bca543b2b2c70796d0900710": {
      "model_module": "@jupyter-widgets/base",
      "model_module_version": "1.2.0",
      "model_name": "LayoutModel",
      "state": {}
     },
     "3e15c2d41f3f4db48ac842a070ef26af": {
      "model_module": "@jupyter-widgets/base",
      "model_module_version": "1.2.0",
      "model_name": "LayoutModel",
      "state": {}
     },
     "3e809aa3021c4f6eb79a8c6d9a2aeb68": {
      "model_module": "@jupyter-widgets/controls",
      "model_module_version": "1.5.0",
      "model_name": "DropdownModel",
      "state": {
       "_options_labels": [
        "Identity",
        "Bit Flip"
       ],
       "description": "Choice: ",
       "index": 1,
       "layout": "IPY_MODEL_5af6566bf14d4369aac580fe40122bd2",
       "style": "IPY_MODEL_303cc749f8f94decb3a2b566535da6e7"
      }
     },
     "3ea7fab622ab42c4a3a7742e9bf89ffc": {
      "model_module": "@jupyter-widgets/base",
      "model_module_version": "1.2.0",
      "model_name": "LayoutModel",
      "state": {}
     },
     "3f36033e4fd24237b969ac2d51b6b0a2": {
      "model_module": "@jupyter-widgets/base",
      "model_module_version": "1.2.0",
      "model_name": "LayoutModel",
      "state": {}
     },
     "3f404e8d97204d468459d6e8e94ba627": {
      "model_module": "@jupyter-widgets/base",
      "model_module_version": "1.2.0",
      "model_name": "LayoutModel",
      "state": {
       "width": "190px"
      }
     },
     "4094319fbdf94571950485bff1c4fcbc": {
      "model_module": "@jupyter-widgets/controls",
      "model_module_version": "1.5.0",
      "model_name": "HBoxModel",
      "state": {
       "children": [
        "IPY_MODEL_b87197955f68450bb242e418f19c2c58",
        "IPY_MODEL_9dc215bd9abb415797307b2518234480",
        "IPY_MODEL_294784795a8b4c89be126e85e7ae9bb2",
        "IPY_MODEL_d0884a2ed1bb4eb39749dd14be06dacf",
        "IPY_MODEL_79831770ab4a405ba879b5c22f4d9b84"
       ],
       "layout": "IPY_MODEL_7078a252deb94e5c86fdaf1e2608d45b"
      }
     },
     "413487be4b5d43489c0845101d32abee": {
      "model_module": "@jupyter-widgets/output",
      "model_module_version": "1.0.0",
      "model_name": "OutputModel",
      "state": {
       "layout": "IPY_MODEL_90d3b68a56eb4ac6b2eda3d679c0bc72"
      }
     },
     "42675415850048349bb44ec7b69e9bbe": {
      "model_module": "@jupyter-widgets/base",
      "model_module_version": "1.2.0",
      "model_name": "LayoutModel",
      "state": {}
     },
     "44610edf1c524ae18db7dce68ae8b6e5": {
      "model_module": "@jupyter-widgets/controls",
      "model_module_version": "1.5.0",
      "model_name": "DescriptionStyleModel",
      "state": {
       "description_width": ""
      }
     },
     "45b9076f142449aeb962d353babef1ae": {
      "model_module": "@jupyter-widgets/base",
      "model_module_version": "1.2.0",
      "model_name": "LayoutModel",
      "state": {}
     },
     "45bb48a1fb234a21932079d00b03cf20": {
      "model_module": "@jupyter-widgets/base",
      "model_module_version": "1.2.0",
      "model_name": "LayoutModel",
      "state": {}
     },
     "4a2d189cd5f44e1381a570d782fe0498": {
      "model_module": "@jupyter-widgets/controls",
      "model_module_version": "1.5.0",
      "model_name": "ButtonModel",
      "state": {
       "description": "clicked",
       "layout": "IPY_MODEL_9a2be86407474361b5ffe43fdd398b80",
       "style": "IPY_MODEL_52fe42d4baf049449f92fd302fe0df1d"
      }
     },
     "4a4b87ff33c04dff937abb527c4155b9": {
      "model_module": "@jupyter-widgets/base",
      "model_module_version": "1.2.0",
      "model_name": "LayoutModel",
      "state": {}
     },
     "4a6b06a7b7814a0b97209e8ac1477717": {
      "model_module": "@jupyter-widgets/base",
      "model_module_version": "1.2.0",
      "model_name": "LayoutModel",
      "state": {
       "width": "145px"
      }
     },
     "4c6c57de26ef4546a2ee804b57eaa826": {
      "model_module": "@jupyter-widgets/controls",
      "model_module_version": "1.5.0",
      "model_name": "DescriptionStyleModel",
      "state": {
       "description_width": ""
      }
     },
     "4dd8ce64f5d748cfbf4e50636ae2172f": {
      "model_module": "@jupyter-widgets/base",
      "model_module_version": "1.2.0",
      "model_name": "LayoutModel",
      "state": {}
     },
     "4e62a3fd642e4a2cbaac26596b1228b1": {
      "model_module": "@jupyter-widgets/controls",
      "model_module_version": "1.5.0",
      "model_name": "VBoxModel",
      "state": {
       "children": [
        "IPY_MODEL_99438fa5eba54d0b9831ba8633f9ccfd",
        "IPY_MODEL_0dd08bec7fa64e12941b53a17a6907b7"
       ],
       "layout": "IPY_MODEL_9e25442d8c0f405f9e5a421330bf26c3"
      }
     },
     "4e67760ca26f4f56b617fbdd5164a177": {
      "model_module": "@jupyter-widgets/base",
      "model_module_version": "1.2.0",
      "model_name": "LayoutModel",
      "state": {}
     },
     "4ec4b44a832c4505857bd0ac073e1ac2": {
      "model_module": "@jupyter-widgets/base",
      "model_module_version": "1.2.0",
      "model_name": "LayoutModel",
      "state": {}
     },
     "4f41e63272e74b79b0809724b9f478e1": {
      "model_module": "@jupyter-widgets/base",
      "model_module_version": "1.2.0",
      "model_name": "LayoutModel",
      "state": {
       "overflow_x": "scroll"
      }
     },
     "501f3d6a021047228e776ea09b459d76": {
      "model_module": "@jupyter-widgets/controls",
      "model_module_version": "1.5.0",
      "model_name": "ButtonStyleModel",
      "state": {}
     },
     "51ea22b481634bb3afae906dba9ed112": {
      "model_module": "@jupyter-widgets/output",
      "model_module_version": "1.0.0",
      "model_name": "OutputModel",
      "state": {
       "layout": "IPY_MODEL_94311096ac134fa29cad756c55908cd2",
       "outputs": [
        {
         "name": "stdout",
         "output_type": "stream",
         "text": "i\nx\n"
        }
       ]
      }
     },
     "52fe42d4baf049449f92fd302fe0df1d": {
      "model_module": "@jupyter-widgets/controls",
      "model_module_version": "1.5.0",
      "model_name": "ButtonStyleModel",
      "state": {}
     },
     "559ae1dc421e4fd0b4676f00c4bb6b73": {
      "model_module": "@jupyter-widgets/controls",
      "model_module_version": "1.5.0",
      "model_name": "DescriptionStyleModel",
      "state": {
       "description_width": ""
      }
     },
     "566b2e15339141008beaf29c097711e5": {
      "model_module": "@jupyter-widgets/controls",
      "model_module_version": "1.5.0",
      "model_name": "VBoxModel",
      "state": {
       "children": [
        "IPY_MODEL_835e414483db42f28bff064e54bc91e2",
        "IPY_MODEL_a764323cc5304bc5b468ac2047af5fcf",
        "IPY_MODEL_5a7611af1fb34ef5a483ab2389140f7a"
       ],
       "layout": "IPY_MODEL_59e9df87e8194230a34f7d24dbc5b69b"
      }
     },
     "568c72c77a444ebfbc158b9025cd0d04": {
      "model_module": "@jupyter-widgets/base",
      "model_module_version": "1.2.0",
      "model_name": "LayoutModel",
      "state": {}
     },
     "56d7a455a5264bf29fb9a57440286ee5": {
      "model_module": "@jupyter-widgets/controls",
      "model_module_version": "1.5.0",
      "model_name": "DescriptionStyleModel",
      "state": {
       "description_width": ""
      }
     },
     "5740250496f045808c1bfc44c61e9c86": {
      "model_module": "@jupyter-widgets/base",
      "model_module_version": "1.2.0",
      "model_name": "LayoutModel",
      "state": {
       "width": "70px"
      }
     },
     "5764a83365fb479db2b9d407ee43e890": {
      "model_module": "@jupyter-widgets/base",
      "model_module_version": "1.2.0",
      "model_name": "LayoutModel",
      "state": {}
     },
     "58357cbdb72942bf9bd762d14e8626ff": {
      "model_module": "@jupyter-widgets/controls",
      "model_module_version": "1.5.0",
      "model_name": "ButtonStyleModel",
      "state": {
       "button_color": "white"
      }
     },
     "59e9df87e8194230a34f7d24dbc5b69b": {
      "model_module": "@jupyter-widgets/base",
      "model_module_version": "1.2.0",
      "model_name": "LayoutModel",
      "state": {}
     },
     "5a7611af1fb34ef5a483ab2389140f7a": {
      "model_module": "@jupyter-widgets/output",
      "model_module_version": "1.0.0",
      "model_name": "OutputModel",
      "state": {
       "layout": "IPY_MODEL_ff6e0412e69d4914afa16a27c3e1b876"
      }
     },
     "5af6566bf14d4369aac580fe40122bd2": {
      "model_module": "@jupyter-widgets/base",
      "model_module_version": "1.2.0",
      "model_name": "LayoutModel",
      "state": {}
     },
     "5bb44db210b04acd981ea9fce7292ea7": {
      "model_module": "@jupyter-widgets/base",
      "model_module_version": "1.2.0",
      "model_name": "LayoutModel",
      "state": {}
     },
     "5bed723bbacc411086634d1019f4f643": {
      "model_module": "@jupyter-widgets/controls",
      "model_module_version": "1.5.0",
      "model_name": "VBoxModel",
      "state": {
       "children": [
        "IPY_MODEL_5cc6731db3574db58f23fd5fd0006310",
        "IPY_MODEL_4a2d189cd5f44e1381a570d782fe0498",
        "IPY_MODEL_650b2209369749b796fd06eff1e4b6ba"
       ],
       "layout": "IPY_MODEL_5d72d06593eb493cb0eb03a78b7f9155"
      }
     },
     "5c50a56667e84c5182d496ccb030f2ce": {
      "model_module": "@jupyter-widgets/controls",
      "model_module_version": "1.5.0",
      "model_name": "DescriptionStyleModel",
      "state": {
       "description_width": ""
      }
     },
     "5c7361759c0744179055ee358620b8f0": {
      "model_module": "@jupyter-widgets/base",
      "model_module_version": "1.2.0",
      "model_name": "LayoutModel",
      "state": {}
     },
     "5cc6731db3574db58f23fd5fd0006310": {
      "model_module": "@jupyter-widgets/controls",
      "model_module_version": "1.5.0",
      "model_name": "DropdownModel",
      "state": {
       "_options_labels": [
        "Identity",
        "Bit Flip"
       ],
       "description": "Choice: ",
       "index": 0,
       "layout": "IPY_MODEL_3d1cde59bca543b2b2c70796d0900710",
       "style": "IPY_MODEL_d2721e2d2acf446a88b4dcae695aa235"
      }
     },
     "5d72d06593eb493cb0eb03a78b7f9155": {
      "model_module": "@jupyter-widgets/base",
      "model_module_version": "1.2.0",
      "model_name": "LayoutModel",
      "state": {}
     },
     "5e47ac3841c4481582e07241342998a4": {
      "model_module": "@jupyter-widgets/controls",
      "model_module_version": "1.5.0",
      "model_name": "DescriptionStyleModel",
      "state": {
       "description_width": ""
      }
     },
     "5e60284451df4ba6b7deff1ccddb3ab1": {
      "model_module": "@jupyter-widgets/controls",
      "model_module_version": "1.5.0",
      "model_name": "DescriptionStyleModel",
      "state": {
       "description_width": ""
      }
     },
     "5ed7437ef15344098939ece2daea1597": {
      "model_module": "@jupyter-widgets/base",
      "model_module_version": "1.2.0",
      "model_name": "LayoutModel",
      "state": {}
     },
     "5f53d921ae8f4038afca48e7bc4eeaca": {
      "model_module": "@jupyter-widgets/base",
      "model_module_version": "1.2.0",
      "model_name": "LayoutModel",
      "state": {}
     },
     "5f84c1d7bbce4aae8a1f9b74cf39a7c5": {
      "model_module": "@jupyter-widgets/controls",
      "model_module_version": "1.5.0",
      "model_name": "DropdownModel",
      "state": {
       "_options_labels": [
        "Identity",
        "Bit Flip"
       ],
       "description": "Choice: ",
       "index": 0,
       "layout": "IPY_MODEL_05c2b3e4a1bd4326b7842301f05cecc0",
       "style": "IPY_MODEL_f5aa4618bb4847f59732796443867253"
      }
     },
     "5f9120edb57647b0b5ef3451aa10f79e": {
      "model_module": "@jupyter-widgets/base",
      "model_module_version": "1.2.0",
      "model_name": "LayoutModel",
      "state": {}
     },
     "60ba2641be4a45ae953bcd09587c253c": {
      "model_module": "@jupyter-widgets/controls",
      "model_module_version": "1.5.0",
      "model_name": "DescriptionStyleModel",
      "state": {
       "description_width": ""
      }
     },
     "60d68238a1fa47b1951b08800f16ed96": {
      "model_module": "@jupyter-widgets/base",
      "model_module_version": "1.2.0",
      "model_name": "LayoutModel",
      "state": {
       "margin": "0px 5px 0px 0px",
       "width": "32px"
      }
     },
     "60f345ba31b2443088c2d53d49873c3e": {
      "model_module": "@jupyter-widgets/controls",
      "model_module_version": "1.5.0",
      "model_name": "DropdownModel",
      "state": {
       "_options_labels": [
        "Identity",
        "Bit Flip"
       ],
       "description": "Choice: ",
       "index": 0,
       "layout": "IPY_MODEL_2eded503206445918b65cf34bbcdb557",
       "style": "IPY_MODEL_b192767a41f84effbdc1b026de1f251f"
      }
     },
     "6192e0eb73e14ec88f740771826f271e": {
      "model_module": "@jupyter-widgets/base",
      "model_module_version": "1.2.0",
      "model_name": "LayoutModel",
      "state": {}
     },
     "6213565a180a4860890d55fb172f7739": {
      "model_module": "@jupyter-widgets/base",
      "model_module_version": "1.2.0",
      "model_name": "LayoutModel",
      "state": {
       "max_width": "700px",
       "min_width": "700px"
      }
     },
     "6215b635db854175921cfe4bde31896a": {
      "model_module": "@jupyter-widgets/output",
      "model_module_version": "1.0.0",
      "model_name": "OutputModel",
      "state": {
       "layout": "IPY_MODEL_b052a166cc3d49a0a13434dcf1d39cba"
      }
     },
     "625728eefa94415295a7fe3362f8ba3c": {
      "model_module": "@jupyter-widgets/controls",
      "model_module_version": "1.5.0",
      "model_name": "DropdownModel",
      "state": {
       "_options_labels": [
        "Identity",
        "Bit Flip"
       ],
       "description": "Choice: ",
       "index": 0,
       "layout": "IPY_MODEL_03a468f019e740e0893c158df36c994c",
       "style": "IPY_MODEL_8c59904bddd546019c48af2510dac170"
      }
     },
     "62e9400ec3794b8ab66140f24176cec6": {
      "model_module": "@jupyter-widgets/controls",
      "model_module_version": "1.5.0",
      "model_name": "GridBoxModel",
      "state": {
       "children": [
        "IPY_MODEL_36a819dfc39a4fc6b3df2eaa47466aaa"
       ],
       "layout": "IPY_MODEL_1c7a6b2ad7844aec86ac9332e64c2881"
      }
     },
     "63648a6649e94d86a5239e32a075f581": {
      "model_module": "@jupyter-widgets/base",
      "model_module_version": "1.2.0",
      "model_name": "LayoutModel",
      "state": {
       "width": "95px"
      }
     },
     "63eefb5a067640019975875b8359e404": {
      "model_module": "@jupyter-widgets/controls",
      "model_module_version": "1.5.0",
      "model_name": "HTMLModel",
      "state": {
       "layout": "IPY_MODEL_f8794c843b4a47c4a30b7beb0c0c8ae1",
       "style": "IPY_MODEL_0eb8c2d293134bd289540f4dd1c2ff2e",
       "value": "job has successfully run"
      }
     },
     "640bd69257a746418e4a6afec2edfbd7": {
      "model_module": "@jupyter-widgets/controls",
      "model_module_version": "1.5.0",
      "model_name": "HBoxModel",
      "state": {
       "children": [
        "IPY_MODEL_ee876af0de8348e6a1a12d0eddf94c3b",
        "IPY_MODEL_b393bde1613c48779608ae70b2026629",
        "IPY_MODEL_f21e6fc266d5411daa4e66c902db9f62",
        "IPY_MODEL_a1a68ea4d0214f1ba3e3a1da2483d029",
        "IPY_MODEL_ee08d7b788dd4a7ba7782b6c5ae904ba",
        "IPY_MODEL_a7ee31614864404092f1c825d194f8b9"
       ],
       "layout": "IPY_MODEL_c940cefb7f7843a29d0fb018dde9f04f"
      }
     },
     "6428b47a6c594f90a53160adcdab6209": {
      "model_module": "@jupyter-widgets/base",
      "model_module_version": "1.2.0",
      "model_name": "LayoutModel",
      "state": {
       "max_width": "700px",
       "min_width": "700px"
      }
     },
     "6456e7ba65234be89aff1da758c9d217": {
      "model_module": "@jupyter-widgets/base",
      "model_module_version": "1.2.0",
      "model_name": "LayoutModel",
      "state": {}
     },
     "650b2209369749b796fd06eff1e4b6ba": {
      "model_module": "@jupyter-widgets/output",
      "model_module_version": "1.0.0",
      "model_name": "OutputModel",
      "state": {
       "layout": "IPY_MODEL_5f53d921ae8f4038afca48e7bc4eeaca"
      }
     },
     "6531df065db54bff8f64607618edafee": {
      "model_module": "@jupyter-widgets/controls",
      "model_module_version": "1.5.0",
      "model_name": "DescriptionStyleModel",
      "state": {
       "description_width": ""
      }
     },
     "6585e5328ded4389a6c4cf9098f4dc90": {
      "model_module": "@jupyter-widgets/controls",
      "model_module_version": "1.5.0",
      "model_name": "ButtonStyleModel",
      "state": {}
     },
     "6a78ee07387642b9b8c3ba12a6342a31": {
      "model_module": "@jupyter-widgets/output",
      "model_module_version": "1.0.0",
      "model_name": "OutputModel",
      "state": {
       "layout": "IPY_MODEL_45bb48a1fb234a21932079d00b03cf20"
      }
     },
     "6ae499eabe094ec881a44cac000583af": {
      "model_module": "@jupyter-widgets/controls",
      "model_module_version": "1.5.0",
      "model_name": "VBoxModel",
      "state": {
       "children": [
        "IPY_MODEL_a05a097d44c14882939ee71ef9d52a42",
        "IPY_MODEL_b224807470cc40fbadd70d561d017cd1",
        "IPY_MODEL_51ea22b481634bb3afae906dba9ed112"
       ],
       "layout": "IPY_MODEL_b08443cfb9f14926ab17bc8bde89e44c"
      }
     },
     "6c51661d36e243e7915e63be60381115": {
      "model_module": "@jupyter-widgets/base",
      "model_module_version": "1.2.0",
      "model_name": "LayoutModel",
      "state": {
       "width": "145px"
      }
     },
     "6f65818000bc490598414b7c2360f98d": {
      "model_module": "@jupyter-widgets/controls",
      "model_module_version": "1.5.0",
      "model_name": "DescriptionStyleModel",
      "state": {
       "description_width": ""
      }
     },
     "6f69ac5b9a1d48b5b6b184bb4ccbc10a": {
      "model_module": "@jupyter-widgets/controls",
      "model_module_version": "1.5.0",
      "model_name": "VBoxModel",
      "state": {
       "children": [
        "IPY_MODEL_02d2edbd303a44e89d283b18930a8a7b",
        "IPY_MODEL_be918cb30da047a08889d9864f9e5be6",
        "IPY_MODEL_928d27aed67347bab2a4b34526b3c7e4"
       ],
       "layout": "IPY_MODEL_dee97dc8373e40cf9e75553992016331"
      }
     },
     "7078a252deb94e5c86fdaf1e2608d45b": {
      "model_module": "@jupyter-widgets/base",
      "model_module_version": "1.2.0",
      "model_name": "LayoutModel",
      "state": {
       "margin": "0px 0px 0px 37px",
       "width": "600px"
      }
     },
     "70f189b1135c4e57ae452fe7c9984989": {
      "model_module": "@jupyter-widgets/controls",
      "model_module_version": "1.5.0",
      "model_name": "DescriptionStyleModel",
      "state": {
       "description_width": ""
      }
     },
     "71434be5924a48678b3ddb6c83f16f34": {
      "model_module": "@jupyter-widgets/base",
      "model_module_version": "1.2.0",
      "model_name": "LayoutModel",
      "state": {
       "overflow_x": "scroll"
      }
     },
     "715c4b00a4c8449b8c2ad546231d8200": {
      "model_module": "@jupyter-widgets/base",
      "model_module_version": "1.2.0",
      "model_name": "LayoutModel",
      "state": {}
     },
     "7161f3b1f0de4f76af511a2779736b9e": {
      "model_module": "@jupyter-widgets/controls",
      "model_module_version": "1.5.0",
      "model_name": "ButtonModel",
      "state": {
       "description": "Play",
       "layout": "IPY_MODEL_02e3e6ac9e3546999fd82cc8c0933bd3",
       "style": "IPY_MODEL_b00d3e1dd42b4abe9986f9580b2e0933"
      }
     },
     "72e2802114fd4eae98fee24f74d9a812": {
      "model_module": "@jupyter-widgets/base",
      "model_module_version": "1.2.0",
      "model_name": "LayoutModel",
      "state": {}
     },
     "7421b07d32a7427583fdb9f1db06ed51": {
      "model_module": "@jupyter-widgets/base",
      "model_module_version": "1.2.0",
      "model_name": "LayoutModel",
      "state": {
       "width": "145px"
      }
     },
     "7488777c70494dfcb18aef783fed5fe2": {
      "model_module": "@jupyter-widgets/base",
      "model_module_version": "1.2.0",
      "model_name": "LayoutModel",
      "state": {
       "overflow_x": "scroll"
      }
     },
     "749200ac065e4867a6c4e0f809cce294": {
      "model_module": "@jupyter-widgets/controls",
      "model_module_version": "1.5.0",
      "model_name": "VBoxModel",
      "state": {
       "children": [
        "IPY_MODEL_fa9e498037c249aea889b0aef067becf",
        "IPY_MODEL_b4c520709d9245aaaaa0921a0b1e0340",
        "IPY_MODEL_144d8b62a0ce4a098ad18cc610653673"
       ],
       "layout": "IPY_MODEL_830c1cc8888e46848e462b7c4fc1d39c"
      }
     },
     "75430bdd3d38459bb9ad5076a0e24ca9": {
      "model_module": "@jupyter-widgets/controls",
      "model_module_version": "1.5.0",
      "model_name": "ButtonStyleModel",
      "state": {}
     },
     "754563c71c9e43a3867c47fe06918340": {
      "model_module": "@jupyter-widgets/controls",
      "model_module_version": "1.5.0",
      "model_name": "VBoxModel",
      "state": {
       "children": [
        "IPY_MODEL_17dffc1282744b7cb324c86cf87be461"
       ],
       "layout": "IPY_MODEL_5ed7437ef15344098939ece2daea1597"
      }
     },
     "7802f925be8a4815b170b263b3b37682": {
      "model_module": "@jupyter-widgets/base",
      "model_module_version": "1.2.0",
      "model_name": "LayoutModel",
      "state": {
       "width": "145px"
      }
     },
     "7886a5f2c0ab4cc7b8de8a81103a8afa": {
      "model_module": "@jupyter-widgets/base",
      "model_module_version": "1.2.0",
      "model_name": "LayoutModel",
      "state": {}
     },
     "78db2c622f88498a8982c4acbb52a062": {
      "model_module": "@jupyter-widgets/controls",
      "model_module_version": "1.5.0",
      "model_name": "DescriptionStyleModel",
      "state": {
       "description_width": ""
      }
     },
     "79831770ab4a405ba879b5c22f4d9b84": {
      "model_module": "@jupyter-widgets/controls",
      "model_module_version": "1.5.0",
      "model_name": "HTMLModel",
      "state": {
       "layout": "IPY_MODEL_ad3121c4209d4470999ea4ef3ac030cb",
       "style": "IPY_MODEL_2f6a376cae19474a9335dfad21553bf7",
       "value": "<h5>Message</h5>"
      }
     },
     "7a75084b7a5048a0a233cb446e9c36d1": {
      "model_module": "@jupyter-widgets/controls",
      "model_module_version": "1.5.0",
      "model_name": "HTMLModel",
      "state": {
       "layout": "IPY_MODEL_3f404e8d97204d468459d6e8e94ba627",
       "style": "IPY_MODEL_4c6c57de26ef4546a2ee804b57eaa826",
       "value": "61456e79010c165412567078"
      }
     },
     "7b8666f8e8f44ecbbbd52f9a81f131d5": {
      "model_module": "@jupyter-widgets/controls",
      "model_module_version": "1.5.0",
      "model_name": "ButtonStyleModel",
      "state": {}
     },
     "7bb7bb544c6e48cd8c516c5333e63d89": {
      "model_module": "@jupyter-widgets/base",
      "model_module_version": "1.2.0",
      "model_name": "LayoutModel",
      "state": {}
     },
     "7d3f812d5704435fa80ba414c416e787": {
      "model_module": "@jupyter-widgets/controls",
      "model_module_version": "1.5.0",
      "model_name": "ButtonModel",
      "state": {
       "description": "Play",
       "layout": "IPY_MODEL_202ff785b96a404e97d31df5261d0b12",
       "style": "IPY_MODEL_f7c400bbfd66475888cd80a834515e9c"
      }
     },
     "7d4aa343db2f48e5867c6a0334edf2c1": {
      "model_module": "@jupyter-widgets/output",
      "model_module_version": "1.0.0",
      "model_name": "OutputModel",
      "state": {
       "layout": "IPY_MODEL_c80bec8f7ae44796a4ae337ce17745f9"
      }
     },
     "7dfd588acbc3457b8de7d713203aabbe": {
      "model_module": "@jupyter-widgets/controls",
      "model_module_version": "1.5.0",
      "model_name": "ButtonStyleModel",
      "state": {}
     },
     "8188c2b22a1f45c6a993ed8f344a9144": {
      "model_module": "@jupyter-widgets/controls",
      "model_module_version": "1.5.0",
      "model_name": "DescriptionStyleModel",
      "state": {
       "description_width": ""
      }
     },
     "830c1cc8888e46848e462b7c4fc1d39c": {
      "model_module": "@jupyter-widgets/base",
      "model_module_version": "1.2.0",
      "model_name": "LayoutModel",
      "state": {}
     },
     "835e414483db42f28bff064e54bc91e2": {
      "model_module": "@jupyter-widgets/controls",
      "model_module_version": "1.5.0",
      "model_name": "DropdownModel",
      "state": {
       "_options_labels": [
        "Identity",
        "Bit Flip"
       ],
       "description": "Choice: ",
       "index": 1,
       "layout": "IPY_MODEL_b0ac5f34d3f44cc9af2dfe7cd4c27d2a",
       "style": "IPY_MODEL_17511a3757404177b835d4d1043f88fc"
      }
     },
     "843deba640d44e8ba97db6634f456e29": {
      "model_module": "@jupyter-widgets/controls",
      "model_module_version": "1.5.0",
      "model_name": "DescriptionStyleModel",
      "state": {
       "description_width": ""
      }
     },
     "8619f82b998645cf8349203898d223dc": {
      "model_module": "@jupyter-widgets/controls",
      "model_module_version": "1.5.0",
      "model_name": "ButtonModel",
      "state": {
       "description": "Play",
       "layout": "IPY_MODEL_37a6d329c33a40928b3f23b3b2bcd5d8",
       "style": "IPY_MODEL_21d33ec1f2da4a699418669ef8c365c3"
      }
     },
     "872505b025a44a93b068a9e5ef58bbc0": {
      "model_module": "@jupyter-widgets/base",
      "model_module_version": "1.2.0",
      "model_name": "LayoutModel",
      "state": {}
     },
     "8734c4f9ff394ebaa37edda1e667bd42": {
      "model_module": "@jupyter-widgets/base",
      "model_module_version": "1.2.0",
      "model_name": "LayoutModel",
      "state": {
       "margin": "0px 0px 10px 0px"
      }
     },
     "87689f6d2e6448b4968cdb4be57d3b21": {
      "model_module": "@jupyter-widgets/controls",
      "model_module_version": "1.5.0",
      "model_name": "DropdownModel",
      "state": {
       "_options_labels": [
        "Identity",
        "Bit Flip"
       ],
       "description": "Choice: ",
       "index": 0,
       "layout": "IPY_MODEL_a1870ce51f7442179a6b274f2227c456",
       "style": "IPY_MODEL_6f65818000bc490598414b7c2360f98d"
      }
     },
     "87a844abece44f0db7cf0c28e138803e": {
      "model_module": "@jupyter-widgets/output",
      "model_module_version": "1.0.0",
      "model_name": "OutputModel",
      "state": {
       "layout": "IPY_MODEL_d3808986fda64c1fa6a4d4141a2e17df",
       "outputs": [
        {
         "name": "stdout",
         "output_type": "stream",
         "text": "Ay\n"
        }
       ]
      }
     },
     "87f65d7decd14edcab62cd8c504260e7": {
      "model_module": "@jupyter-widgets/base",
      "model_module_version": "1.2.0",
      "model_name": "LayoutModel",
      "state": {}
     },
     "88da137e87224c74a20dc4eabae3a0b9": {
      "model_module": "@jupyter-widgets/controls",
      "model_module_version": "1.5.0",
      "model_name": "HTMLModel",
      "state": {
       "layout": "IPY_MODEL_71434be5924a48678b3ddb6c83f16f34",
       "style": "IPY_MODEL_d87c5fdc062a4807a50affe483035a7e",
       "value": "job has successfully run"
      }
     },
     "8bc870a8861a411983304c88afb6ba95": {
      "model_module": "@jupyter-widgets/base",
      "model_module_version": "1.2.0",
      "model_name": "LayoutModel",
      "state": {}
     },
     "8c1c050a3ceb4efb98073d649efb0371": {
      "model_module": "@jupyter-widgets/base",
      "model_module_version": "1.2.0",
      "model_name": "LayoutModel",
      "state": {}
     },
     "8c59904bddd546019c48af2510dac170": {
      "model_module": "@jupyter-widgets/controls",
      "model_module_version": "1.5.0",
      "model_name": "DescriptionStyleModel",
      "state": {
       "description_width": ""
      }
     },
     "8cf01bfbe3b04b66ab877915e718e7e4": {
      "model_module": "@jupyter-widgets/base",
      "model_module_version": "1.2.0",
      "model_name": "LayoutModel",
      "state": {}
     },
     "8d3bf76b355240aabfb4b37b62f2580c": {
      "model_module": "@jupyter-widgets/controls",
      "model_module_version": "1.5.0",
      "model_name": "HBoxModel",
      "state": {
       "children": [
        "IPY_MODEL_07f85d96de574a619d0d2245099925da",
        "IPY_MODEL_c674ee1cd9a7493894564d7be3a3d1e0",
        "IPY_MODEL_ec36657a24c84dd384e1828406f16786",
        "IPY_MODEL_9ba030b42b6c43a6916db09fec39a314",
        "IPY_MODEL_c5d73a9dab384bdb964d75d181424d4b",
        "IPY_MODEL_88da137e87224c74a20dc4eabae3a0b9"
       ],
       "layout": "IPY_MODEL_6428b47a6c594f90a53160adcdab6209"
      }
     },
     "8d8595297f7f4250ac97e73b23770fb3": {
      "model_module": "@jupyter-widgets/controls",
      "model_module_version": "1.5.0",
      "model_name": "VBoxModel",
      "state": {
       "children": [
        "IPY_MODEL_8619f82b998645cf8349203898d223dc",
        "IPY_MODEL_19750d6513fa444a8676e680d42b195b"
       ],
       "layout": "IPY_MODEL_8d9bdbbba67b414cb0db1f725c714a94"
      }
     },
     "8d9bdbbba67b414cb0db1f725c714a94": {
      "model_module": "@jupyter-widgets/base",
      "model_module_version": "1.2.0",
      "model_name": "LayoutModel",
      "state": {}
     },
     "8e529a405f5f48088711a13d70298be8": {
      "model_module": "@jupyter-widgets/controls",
      "model_module_version": "1.5.0",
      "model_name": "ButtonModel",
      "state": {
       "description": "Play",
       "layout": "IPY_MODEL_12e5e9169f9449b2bffa22ae1c92cf26",
       "style": "IPY_MODEL_e26779fddf984aedb9fd960b6f56ed1b"
      }
     },
     "8fe0bba5f5ac47dda6c9871f37c3df57": {
      "model_module": "@jupyter-widgets/controls",
      "model_module_version": "1.5.0",
      "model_name": "DescriptionStyleModel",
      "state": {
       "description_width": ""
      }
     },
     "90d3b68a56eb4ac6b2eda3d679c0bc72": {
      "model_module": "@jupyter-widgets/base",
      "model_module_version": "1.2.0",
      "model_name": "LayoutModel",
      "state": {}
     },
     "91653f6ebb5f4bd694c650bb9e53a67d": {
      "model_module": "@jupyter-widgets/base",
      "model_module_version": "1.2.0",
      "model_name": "LayoutModel",
      "state": {}
     },
     "928d27aed67347bab2a4b34526b3c7e4": {
      "model_module": "@jupyter-widgets/output",
      "model_module_version": "1.0.0",
      "model_name": "OutputModel",
      "state": {
       "layout": "IPY_MODEL_5764a83365fb479db2b9d407ee43e890"
      }
     },
     "934d6f051efa450190c9f824b07ec729": {
      "model_module": "@jupyter-widgets/base",
      "model_module_version": "1.2.0",
      "model_name": "LayoutModel",
      "state": {}
     },
     "93b296aca64740e7ba030d985808a9e2": {
      "model_module": "@jupyter-widgets/base",
      "model_module_version": "1.2.0",
      "model_name": "LayoutModel",
      "state": {}
     },
     "94311096ac134fa29cad756c55908cd2": {
      "model_module": "@jupyter-widgets/base",
      "model_module_version": "1.2.0",
      "model_name": "LayoutModel",
      "state": {}
     },
     "94a8ee09046f47a9a158a75830ab3307": {
      "model_module": "@jupyter-widgets/base",
      "model_module_version": "1.2.0",
      "model_name": "LayoutModel",
      "state": {
       "width": "70px"
      }
     },
     "94deb690e0d3419eac894ee850dd0cde": {
      "model_module": "@jupyter-widgets/controls",
      "model_module_version": "1.5.0",
      "model_name": "DescriptionStyleModel",
      "state": {
       "description_width": ""
      }
     },
     "952bde93dd9d4eb989d7c25563f95c76": {
      "model_module": "@jupyter-widgets/output",
      "model_module_version": "1.0.0",
      "model_name": "OutputModel",
      "state": {
       "layout": "IPY_MODEL_a238bdaaed684cb8922988bb52f79642",
       "outputs": [
        {
         "name": "stdout",
         "output_type": "stream",
         "text": "You Lose to Quantum. Quantum Computer Wins\n"
        }
       ]
      }
     },
     "96748c641d1743dfa4043285f7d5c0b1": {
      "model_module": "@jupyter-widgets/controls",
      "model_module_version": "1.5.0",
      "model_name": "DropdownModel",
      "state": {
       "_options_labels": [
        "Identity",
        "Bit Flip"
       ],
       "description": "Choice: ",
       "index": 0,
       "layout": "IPY_MODEL_4ec4b44a832c4505857bd0ac073e1ac2",
       "style": "IPY_MODEL_312afdb9938f45c1beba7aba265b9089"
      }
     },
     "9892e20c8a2e4045ad1a506432fe6d71": {
      "model_module": "@jupyter-widgets/controls",
      "model_module_version": "1.5.0",
      "model_name": "DropdownModel",
      "state": {
       "_options_labels": [
        "Identity",
        "Bit Flip"
       ],
       "description": "Choice: ",
       "index": 1,
       "layout": "IPY_MODEL_8bc870a8861a411983304c88afb6ba95",
       "style": "IPY_MODEL_1735164678b543658b2df163d2b98b13"
      }
     },
     "99438fa5eba54d0b9831ba8633f9ccfd": {
      "model_module": "@jupyter-widgets/controls",
      "model_module_version": "1.5.0",
      "model_name": "ButtonModel",
      "state": {
       "description": "Play",
       "layout": "IPY_MODEL_4a4b87ff33c04dff937abb527c4155b9",
       "style": "IPY_MODEL_75430bdd3d38459bb9ad5076a0e24ca9"
      }
     },
     "999efa6c92e04a1f82ab8a83f9463b19": {
      "model_module": "@jupyter-widgets/base",
      "model_module_version": "1.2.0",
      "model_name": "LayoutModel",
      "state": {
       "width": "190px"
      }
     },
     "99ccb932b79747dd8d8f6cc9e1355672": {
      "model_module": "@jupyter-widgets/base",
      "model_module_version": "1.2.0",
      "model_name": "LayoutModel",
      "state": {}
     },
     "9a2be86407474361b5ffe43fdd398b80": {
      "model_module": "@jupyter-widgets/base",
      "model_module_version": "1.2.0",
      "model_name": "LayoutModel",
      "state": {}
     },
     "9b3648188e154f44805e7da12507b7bc": {
      "model_module": "@jupyter-widgets/controls",
      "model_module_version": "1.5.0",
      "model_name": "ButtonStyleModel",
      "state": {
       "button_color": "white"
      }
     },
     "9ba030b42b6c43a6916db09fec39a314": {
      "model_module": "@jupyter-widgets/controls",
      "model_module_version": "1.5.0",
      "model_name": "HTMLModel",
      "state": {
       "layout": "IPY_MODEL_a688547a18cb4191bdd7b21336c6478d",
       "style": "IPY_MODEL_9e63eda7004a48aaa0534dd5c8000247",
       "value": "<font style='color:#34BC6E'>DONE</font>"
      }
     },
     "9dc215bd9abb415797307b2518234480": {
      "model_module": "@jupyter-widgets/controls",
      "model_module_version": "1.5.0",
      "model_name": "HTMLModel",
      "state": {
       "layout": "IPY_MODEL_1a99c9b294fe471da35ae0fdfa9a7d67",
       "style": "IPY_MODEL_d39f0ebbb4fc431c8839701b70c9d9af",
       "value": "<h5>Backend</h5>"
      }
     },
     "9e25442d8c0f405f9e5a421330bf26c3": {
      "model_module": "@jupyter-widgets/base",
      "model_module_version": "1.2.0",
      "model_name": "LayoutModel",
      "state": {}
     },
     "9e63eda7004a48aaa0534dd5c8000247": {
      "model_module": "@jupyter-widgets/controls",
      "model_module_version": "1.5.0",
      "model_name": "DescriptionStyleModel",
      "state": {
       "description_width": ""
      }
     },
     "9ee0ad89de3c4269a18cb23c76e2b09d": {
      "model_module": "@jupyter-widgets/controls",
      "model_module_version": "1.5.0",
      "model_name": "ButtonModel",
      "state": {
       "description": "Click me",
       "icon": "check",
       "layout": "IPY_MODEL_ed67a6f033f6428ead172bc2c44ecea6",
       "style": "IPY_MODEL_bfdc9f0730d343d1b29e212c6eaf16df",
       "tooltip": "Click me"
      }
     },
     "9f4dc46faea04931b13a1e1802ba5dc3": {
      "model_module": "@jupyter-widgets/base",
      "model_module_version": "1.2.0",
      "model_name": "LayoutModel",
      "state": {}
     },
     "a022a364f628495db0ae3f612724a2fc": {
      "model_module": "@jupyter-widgets/output",
      "model_module_version": "1.0.0",
      "model_name": "OutputModel",
      "state": {
       "layout": "IPY_MODEL_248a97ab40e04074b4a1a0f126c223d0"
      }
     },
     "a05a097d44c14882939ee71ef9d52a42": {
      "model_module": "@jupyter-widgets/controls",
      "model_module_version": "1.5.0",
      "model_name": "DropdownModel",
      "state": {
       "_options_labels": [
        "Identity",
        "Bit Flip"
       ],
       "description": "Choice: ",
       "index": 1,
       "layout": "IPY_MODEL_9f4dc46faea04931b13a1e1802ba5dc3",
       "style": "IPY_MODEL_f1fa3d419e334af79b96cb5d3e06babc"
      }
     },
     "a17f03a359a34f2ab36dfab55d1baa16": {
      "model_module": "@jupyter-widgets/controls",
      "model_module_version": "1.5.0",
      "model_name": "VBoxModel",
      "state": {
       "children": [
        "IPY_MODEL_9ee0ad89de3c4269a18cb23c76e2b09d",
        "IPY_MODEL_a2c52c68da1d4fc886f37d1df437310b"
       ],
       "layout": "IPY_MODEL_15912aa5cf434ede97954140692fdd4d"
      }
     },
     "a1870ce51f7442179a6b274f2227c456": {
      "model_module": "@jupyter-widgets/base",
      "model_module_version": "1.2.0",
      "model_name": "LayoutModel",
      "state": {}
     },
     "a1a68ea4d0214f1ba3e3a1da2483d029": {
      "model_module": "@jupyter-widgets/controls",
      "model_module_version": "1.5.0",
      "model_name": "HTMLModel",
      "state": {
       "layout": "IPY_MODEL_048c9a1534f34fa7b4337ceb87490070",
       "style": "IPY_MODEL_8fe0bba5f5ac47dda6c9871f37c3df57",
       "value": "<font style='color:#34BC6E'>DONE</font>"
      }
     },
     "a1d19319841e46688ca9257b96f4f067": {
      "model_module": "@jupyter-widgets/output",
      "model_module_version": "1.0.0",
      "model_name": "OutputModel",
      "state": {
       "layout": "IPY_MODEL_4dd8ce64f5d748cfbf4e50636ae2172f"
      }
     },
     "a238bdaaed684cb8922988bb52f79642": {
      "model_module": "@jupyter-widgets/base",
      "model_module_version": "1.2.0",
      "model_name": "LayoutModel",
      "state": {}
     },
     "a2774ff602d24c53a16ec54180e57d5c": {
      "model_module": "@jupyter-widgets/controls",
      "model_module_version": "1.5.0",
      "model_name": "ButtonStyleModel",
      "state": {}
     },
     "a2c52c68da1d4fc886f37d1df437310b": {
      "model_module": "@jupyter-widgets/output",
      "model_module_version": "1.0.0",
      "model_name": "OutputModel",
      "state": {
       "layout": "IPY_MODEL_934d6f051efa450190c9f824b07ec729"
      }
     },
     "a2d3be6abfae47a393a2079930438d13": {
      "model_module": "@jupyter-widgets/controls",
      "model_module_version": "1.5.0",
      "model_name": "DropdownModel",
      "state": {
       "_options_labels": [
        "Identity",
        "Bit Flip"
       ],
       "description": "Choice: ",
       "index": 0,
       "layout": "IPY_MODEL_8c1c050a3ceb4efb98073d649efb0371",
       "style": "IPY_MODEL_559ae1dc421e4fd0b4676f00c4bb6b73"
      }
     },
     "a5b5973c590f4435abcde2a33b43cd78": {
      "model_module": "@jupyter-widgets/output",
      "model_module_version": "1.0.0",
      "model_name": "OutputModel",
      "state": {
       "layout": "IPY_MODEL_99ccb932b79747dd8d8f6cc9e1355672"
      }
     },
     "a5f06bd2bbcf43a59686c7d1c17cbf43": {
      "model_module": "@jupyter-widgets/base",
      "model_module_version": "1.2.0",
      "model_name": "LayoutModel",
      "state": {}
     },
     "a688547a18cb4191bdd7b21336c6478d": {
      "model_module": "@jupyter-widgets/base",
      "model_module_version": "1.2.0",
      "model_name": "LayoutModel",
      "state": {
       "width": "95px"
      }
     },
     "a69b129a12694edda05aecd9760ee12d": {
      "model_module": "@jupyter-widgets/controls",
      "model_module_version": "1.5.0",
      "model_name": "ButtonStyleModel",
      "state": {}
     },
     "a764323cc5304bc5b468ac2047af5fcf": {
      "model_module": "@jupyter-widgets/controls",
      "model_module_version": "1.5.0",
      "model_name": "ButtonModel",
      "state": {
       "description": "Play",
       "layout": "IPY_MODEL_3f36033e4fd24237b969ac2d51b6b0a2",
       "style": "IPY_MODEL_a2774ff602d24c53a16ec54180e57d5c"
      }
     },
     "a78800cd91d54c398832660634e2114b": {
      "model_module": "@jupyter-widgets/controls",
      "model_module_version": "1.5.0",
      "model_name": "DescriptionStyleModel",
      "state": {
       "description_width": ""
      }
     },
     "a7ee31614864404092f1c825d194f8b9": {
      "model_module": "@jupyter-widgets/controls",
      "model_module_version": "1.5.0",
      "model_name": "HTMLModel",
      "state": {
       "layout": "IPY_MODEL_4f41e63272e74b79b0809724b9f478e1",
       "style": "IPY_MODEL_8188c2b22a1f45c6a993ed8f344a9144",
       "value": "job has successfully run"
      }
     },
     "a7fd80d1ab2a4e7a8aa9f5d467231064": {
      "model_module": "@jupyter-widgets/controls",
      "model_module_version": "1.5.0",
      "model_name": "DescriptionStyleModel",
      "state": {
       "description_width": ""
      }
     },
     "a8a8bfb7eb1442aba7d3d7f2ee302972": {
      "model_module": "@jupyter-widgets/base",
      "model_module_version": "1.2.0",
      "model_name": "LayoutModel",
      "state": {}
     },
     "a9dfd0b31ed74061bac65d884da0f333": {
      "model_module": "@jupyter-widgets/controls",
      "model_module_version": "1.5.0",
      "model_name": "ButtonModel",
      "state": {
       "description": "clicked",
       "layout": "IPY_MODEL_b2e7875d93c24d0f8bfd9fda1deadb1b",
       "style": "IPY_MODEL_df09b13d376248ed922a17d8b2ed5cf3"
      }
     },
     "ab132bd19a20440a804799fab6a9fe80": {
      "model_module": "@jupyter-widgets/controls",
      "model_module_version": "1.5.0",
      "model_name": "VBoxModel",
      "state": {
       "children": [
        "IPY_MODEL_ee8acfb96c9843269eabe02987600e1b",
        "IPY_MODEL_d6a437ee30c14fb8a193498dd99ddbfb",
        "IPY_MODEL_a1d19319841e46688ca9257b96f4f067"
       ],
       "layout": "IPY_MODEL_2ad2f30ccda34a25959dd95bb995dba2"
      }
     },
     "abd5cc420c5e49fe87714f20bf2c5ad8": {
      "model_module": "@jupyter-widgets/controls",
      "model_module_version": "1.5.0",
      "model_name": "ButtonStyleModel",
      "state": {}
     },
     "ac1f2b2a17e14cecae5bf9354dcd311b": {
      "model_module": "@jupyter-widgets/controls",
      "model_module_version": "1.5.0",
      "model_name": "ButtonStyleModel",
      "state": {}
     },
     "ad3121c4209d4470999ea4ef3ac030cb": {
      "model_module": "@jupyter-widgets/base",
      "model_module_version": "1.2.0",
      "model_name": "LayoutModel",
      "state": {}
     },
     "af48e8e97f5d40e09665444e96f28f7a": {
      "model_module": "@jupyter-widgets/base",
      "model_module_version": "1.2.0",
      "model_name": "LayoutModel",
      "state": {}
     },
     "afbe7849e686420794c521464f9ad089": {
      "model_module": "@jupyter-widgets/controls",
      "model_module_version": "1.5.0",
      "model_name": "DescriptionStyleModel",
      "state": {
       "description_width": ""
      }
     },
     "afccd6d4ef1d455aa3b0ebb4c18510bf": {
      "model_module": "@jupyter-widgets/controls",
      "model_module_version": "1.5.0",
      "model_name": "DropdownModel",
      "state": {
       "_options_labels": [
        "Identity",
        "Bit Flip"
       ],
       "description": "Choice: ",
       "index": 0,
       "layout": "IPY_MODEL_715c4b00a4c8449b8c2ad546231d8200",
       "style": "IPY_MODEL_6531df065db54bff8f64607618edafee"
      }
     },
     "b00d3e1dd42b4abe9986f9580b2e0933": {
      "model_module": "@jupyter-widgets/controls",
      "model_module_version": "1.5.0",
      "model_name": "ButtonStyleModel",
      "state": {}
     },
     "b052a166cc3d49a0a13434dcf1d39cba": {
      "model_module": "@jupyter-widgets/base",
      "model_module_version": "1.2.0",
      "model_name": "LayoutModel",
      "state": {}
     },
     "b08443cfb9f14926ab17bc8bde89e44c": {
      "model_module": "@jupyter-widgets/base",
      "model_module_version": "1.2.0",
      "model_name": "LayoutModel",
      "state": {}
     },
     "b0ac5f34d3f44cc9af2dfe7cd4c27d2a": {
      "model_module": "@jupyter-widgets/base",
      "model_module_version": "1.2.0",
      "model_name": "LayoutModel",
      "state": {}
     },
     "b192767a41f84effbdc1b026de1f251f": {
      "model_module": "@jupyter-widgets/controls",
      "model_module_version": "1.5.0",
      "model_name": "DescriptionStyleModel",
      "state": {
       "description_width": ""
      }
     },
     "b1c10c62dbd54081935e81084f6f9fb4": {
      "model_module": "@jupyter-widgets/controls",
      "model_module_version": "1.5.0",
      "model_name": "ButtonModel",
      "state": {
       "description": "Clicked",
       "layout": "IPY_MODEL_72e2802114fd4eae98fee24f74d9a812",
       "style": "IPY_MODEL_d4d08b0ea68a4d89afb1e8ea9a30bf4a"
      }
     },
     "b224807470cc40fbadd70d561d017cd1": {
      "model_module": "@jupyter-widgets/controls",
      "model_module_version": "1.5.0",
      "model_name": "ButtonModel",
      "state": {
       "description": "Play",
       "layout": "IPY_MODEL_008330a238a04d53a673aef0536651da",
       "style": "IPY_MODEL_0f9374c5813a489bbf71b51f6e271c40"
      }
     },
     "b2e7875d93c24d0f8bfd9fda1deadb1b": {
      "model_module": "@jupyter-widgets/base",
      "model_module_version": "1.2.0",
      "model_name": "LayoutModel",
      "state": {}
     },
     "b393bde1613c48779608ae70b2026629": {
      "model_module": "@jupyter-widgets/controls",
      "model_module_version": "1.5.0",
      "model_name": "HTMLModel",
      "state": {
       "layout": "IPY_MODEL_1b284a33a5044cecb1f765e92917eba1",
       "style": "IPY_MODEL_a78800cd91d54c398832660634e2114b",
       "value": "61458c7df020e847616bde52"
      }
     },
     "b4121029506f441489bcebc882da2942": {
      "model_module": "@jupyter-widgets/controls",
      "model_module_version": "1.5.0",
      "model_name": "ButtonModel",
      "state": {
       "description": "Play",
       "layout": "IPY_MODEL_c401722324f54548b14edee12488c3b0",
       "style": "IPY_MODEL_a69b129a12694edda05aecd9760ee12d"
      }
     },
     "b4c520709d9245aaaaa0921a0b1e0340": {
      "model_module": "@jupyter-widgets/controls",
      "model_module_version": "1.5.0",
      "model_name": "ButtonModel",
      "state": {
       "description": "Play",
       "layout": "IPY_MODEL_d593cb2eb76f4cb6873563cecf7e4cda",
       "style": "IPY_MODEL_f0dede0b0f804f3ba5a5cdce3cf943ad"
      }
     },
     "b560436902d044028b5e30249686c835": {
      "model_module": "@jupyter-widgets/controls",
      "model_module_version": "1.5.0",
      "model_name": "HTMLModel",
      "state": {
       "layout": "IPY_MODEL_7488777c70494dfcb18aef783fed5fe2",
       "style": "IPY_MODEL_19deeb0055f34f99bf0b863d93dd3633",
       "value": "job has been cancelled"
      }
     },
     "b5d7f13d6e1c4db8a608a23aab95e7a8": {
      "model_module": "@jupyter-widgets/controls",
      "model_module_version": "1.5.0",
      "model_name": "VBoxModel",
      "state": {
       "children": [
        "IPY_MODEL_60f345ba31b2443088c2d53d49873c3e",
        "IPY_MODEL_7161f3b1f0de4f76af511a2779736b9e",
        "IPY_MODEL_d3d45b1ff7d94e60815bbacc05fcfe02"
       ],
       "layout": "IPY_MODEL_39a61baec9ef43b5beca5f04a913b946"
      }
     },
     "b66f0309f726425da7f3de53198623cf": {
      "model_module": "@jupyter-widgets/controls",
      "model_module_version": "1.5.0",
      "model_name": "HTMLModel",
      "state": {
       "layout": "IPY_MODEL_f80d5258aea64549abd43dc40a1f63ca",
       "style": "IPY_MODEL_f219bac710074df69ec4f180af210e63",
       "value": "-"
      }
     },
     "b795e29b2fc641319a1a9a8db6e0f177": {
      "model_module": "@jupyter-widgets/controls",
      "model_module_version": "1.5.0",
      "model_name": "HTMLModel",
      "state": {
       "layout": "IPY_MODEL_7421b07d32a7427583fdb9f1db06ed51",
       "style": "IPY_MODEL_94deb690e0d3419eac894ee850dd0cde",
       "value": "ibmq_santiago"
      }
     },
     "b81d0f385ac74e55952a3f50ac347600": {
      "model_module": "@jupyter-widgets/controls",
      "model_module_version": "1.5.0",
      "model_name": "ButtonModel",
      "state": {
       "description": "Click me",
       "icon": "check",
       "layout": "IPY_MODEL_87f65d7decd14edcab62cd8c504260e7",
       "style": "IPY_MODEL_7dfd588acbc3457b8de7d713203aabbe",
       "tooltip": "Click me"
      }
     },
     "b85735fcfc294a96ab59182692500388": {
      "model_module": "@jupyter-widgets/base",
      "model_module_version": "1.2.0",
      "model_name": "LayoutModel",
      "state": {
       "margin": "0px 5px 0px 0px",
       "width": "32px"
      }
     },
     "b87197955f68450bb242e418f19c2c58": {
      "model_module": "@jupyter-widgets/controls",
      "model_module_version": "1.5.0",
      "model_name": "HTMLModel",
      "state": {
       "layout": "IPY_MODEL_238bc2ba03cc4d03896cd645fc01e631",
       "style": "IPY_MODEL_a7fd80d1ab2a4e7a8aa9f5d467231064",
       "value": "<h5>Job ID</h5>"
      }
     },
     "b88aa3dcd9754b4789a432e9f90da717": {
      "model_module": "@jupyter-widgets/controls",
      "model_module_version": "1.5.0",
      "model_name": "ButtonStyleModel",
      "state": {}
     },
     "b8c39907667a4e00ac88c9f23b5bb313": {
      "model_module": "@jupyter-widgets/controls",
      "model_module_version": "1.5.0",
      "model_name": "ButtonModel",
      "state": {
       "description": "Play",
       "layout": "IPY_MODEL_bc1dab967ae4413b8c9c9e458ab25b16",
       "style": "IPY_MODEL_223738c83c5a482994a3fc5aa37707c0"
      }
     },
     "b8e258cce9094d13841007254e086791": {
      "model_module": "@jupyter-widgets/base",
      "model_module_version": "1.2.0",
      "model_name": "LayoutModel",
      "state": {}
     },
     "b97ff87e512148ed8cfe93f1082d3615": {
      "model_module": "@jupyter-widgets/controls",
      "model_module_version": "1.5.0",
      "model_name": "ButtonModel",
      "state": {
       "description": "Play",
       "layout": "IPY_MODEL_29539ec3e75f4b8fb3dec58446bcd9d2",
       "style": "IPY_MODEL_213df7422ec4473e94afdc0adc6db072"
      }
     },
     "ba07b971254c44b9a2a3a564aac39325": {
      "model_module": "@jupyter-widgets/controls",
      "model_module_version": "1.5.0",
      "model_name": "HTMLModel",
      "state": {
       "layout": "IPY_MODEL_8734c4f9ff394ebaa37edda1e667bd42",
       "style": "IPY_MODEL_78db2c622f88498a8982c4acbb52a062",
       "value": "<p style='font-family: IBM Plex Sans, Arial, Helvetica, sans-serif; font-size: 20px; font-weight: medium;'>Circuit Properties</p>"
      }
     },
     "ba1f685c48f94a1d9d5439cfdc1fb11b": {
      "model_module": "@jupyter-widgets/base",
      "model_module_version": "1.2.0",
      "model_name": "LayoutModel",
      "state": {}
     },
     "bb74e56d2318466081bc4950d27ec34f": {
      "model_module": "@jupyter-widgets/base",
      "model_module_version": "1.2.0",
      "model_name": "LayoutModel",
      "state": {}
     },
     "bbbc140bd08846aeb7794e3df1ab6a14": {
      "model_module": "@jupyter-widgets/base",
      "model_module_version": "1.2.0",
      "model_name": "LayoutModel",
      "state": {
       "grid_area": "right",
       "padding": "0px 0px 0px 0px",
       "width": "70px"
      }
     },
     "bc1dab967ae4413b8c9c9e458ab25b16": {
      "model_module": "@jupyter-widgets/base",
      "model_module_version": "1.2.0",
      "model_name": "LayoutModel",
      "state": {}
     },
     "bcd3c27285c04a819d7bb02038056daa": {
      "model_module": "@jupyter-widgets/controls",
      "model_module_version": "1.5.0",
      "model_name": "ButtonModel",
      "state": {
       "description": "clicked",
       "layout": "IPY_MODEL_def81f4943dd461e894fe0806bb93ceb",
       "style": "IPY_MODEL_dc031139561f45c496942037fbbac5dd"
      }
     },
     "be918cb30da047a08889d9864f9e5be6": {
      "model_module": "@jupyter-widgets/controls",
      "model_module_version": "1.5.0",
      "model_name": "ButtonModel",
      "state": {
       "description": "Play",
       "layout": "IPY_MODEL_096d843bdd9f4f88b040f048683087e8",
       "style": "IPY_MODEL_d03a3db5bc09427d85ece28491850125"
      }
     },
     "bf4bb5f8eb95450abcfcca9052cfc1b9": {
      "model_module": "@jupyter-widgets/controls",
      "model_module_version": "1.5.0",
      "model_name": "ButtonStyleModel",
      "state": {
       "button_color": "white"
      }
     },
     "bfdc9f0730d343d1b29e212c6eaf16df": {
      "model_module": "@jupyter-widgets/controls",
      "model_module_version": "1.5.0",
      "model_name": "ButtonStyleModel",
      "state": {}
     },
     "c0550714926d4b80adff9c56e1c486a4": {
      "model_module": "@jupyter-widgets/controls",
      "model_module_version": "1.5.0",
      "model_name": "VBoxModel",
      "state": {
       "children": [
        "IPY_MODEL_9892e20c8a2e4045ad1a506432fe6d71",
        "IPY_MODEL_b8c39907667a4e00ac88c9f23b5bb313",
        "IPY_MODEL_ddf6a13d5b044d639c93a13ba89968a5"
       ],
       "layout": "IPY_MODEL_c24936b3db904f4ba9ff2b2f92e8369c"
      }
     },
     "c0a3f07137784563b14e028bc1a88128": {
      "model_module": "@jupyter-widgets/base",
      "model_module_version": "1.2.0",
      "model_name": "LayoutModel",
      "state": {}
     },
     "c2354664370642aab635d47d48c4976f": {
      "model_module": "@jupyter-widgets/controls",
      "model_module_version": "1.5.0",
      "model_name": "DescriptionStyleModel",
      "state": {
       "description_width": ""
      }
     },
     "c24936b3db904f4ba9ff2b2f92e8369c": {
      "model_module": "@jupyter-widgets/base",
      "model_module_version": "1.2.0",
      "model_name": "LayoutModel",
      "state": {}
     },
     "c26534ba8c0e4ffd9d2cc8c1261791d2": {
      "model_module": "@jupyter-widgets/controls",
      "model_module_version": "1.5.0",
      "model_name": "ButtonModel",
      "state": {
       "description": "Click me",
       "icon": "check",
       "layout": "IPY_MODEL_c44275f3cf9e480f896f2c756da95feb",
       "style": "IPY_MODEL_f81bb89cf36c44958ca942a0ef52463f",
       "tooltip": "Click me"
      }
     },
     "c283d231e391423a88b7ae804596c645": {
      "model_module": "@jupyter-widgets/base",
      "model_module_version": "1.2.0",
      "model_name": "LayoutModel",
      "state": {}
     },
     "c2adefd9ce094c23bff38dc1ede4c6fc": {
      "model_module": "@jupyter-widgets/controls",
      "model_module_version": "1.5.0",
      "model_name": "ButtonModel",
      "state": {
       "description": "Click me",
       "icon": "check",
       "layout": "IPY_MODEL_a8a8bfb7eb1442aba7d3d7f2ee302972",
       "style": "IPY_MODEL_2b425215cebb4c27a4c8a77da006ec02",
       "tooltip": "Click me"
      }
     },
     "c2bad8d948ac41858da2634835046478": {
      "model_module": "@jupyter-widgets/base",
      "model_module_version": "1.2.0",
      "model_name": "LayoutModel",
      "state": {}
     },
     "c401722324f54548b14edee12488c3b0": {
      "model_module": "@jupyter-widgets/base",
      "model_module_version": "1.2.0",
      "model_name": "LayoutModel",
      "state": {}
     },
     "c44275f3cf9e480f896f2c756da95feb": {
      "model_module": "@jupyter-widgets/base",
      "model_module_version": "1.2.0",
      "model_name": "LayoutModel",
      "state": {}
     },
     "c477d8efc7dd4d28b25c82ddbbe11528": {
      "model_module": "@jupyter-widgets/base",
      "model_module_version": "1.2.0",
      "model_name": "LayoutModel",
      "state": {}
     },
     "c5d73a9dab384bdb964d75d181424d4b": {
      "model_module": "@jupyter-widgets/controls",
      "model_module_version": "1.5.0",
      "model_name": "HTMLModel",
      "state": {
       "layout": "IPY_MODEL_f7ba73c57a8c41eaa9dbdfcf4f9e1452",
       "style": "IPY_MODEL_5e60284451df4ba6b7deff1ccddb3ab1",
       "value": "-"
      }
     },
     "c674ee1cd9a7493894564d7be3a3d1e0": {
      "model_module": "@jupyter-widgets/controls",
      "model_module_version": "1.5.0",
      "model_name": "HTMLModel",
      "state": {
       "layout": "IPY_MODEL_d1e0ea5aea4249b5ae54f65a49b84763",
       "style": "IPY_MODEL_60ba2641be4a45ae953bcd09587c253c",
       "value": "61456f05010c165ab356707b"
      }
     },
     "c6ceec1e146742baa031ee244091a1e2": {
      "model_module": "@jupyter-widgets/controls",
      "model_module_version": "1.5.0",
      "model_name": "DescriptionStyleModel",
      "state": {
       "description_width": ""
      }
     },
     "c7004c6e22cf4603a12122b4f1ff0037": {
      "model_module": "@jupyter-widgets/controls",
      "model_module_version": "1.5.0",
      "model_name": "DropdownModel",
      "state": {
       "_options_labels": [
        "Identity",
        "Bit Flip"
       ],
       "description": "Choice: ",
       "index": 0,
       "layout": "IPY_MODEL_c0a3f07137784563b14e028bc1a88128",
       "style": "IPY_MODEL_e76dc6218247406bb93d51caebd0a446"
      }
     },
     "c757dc8e75194c94a8eec7daac102b33": {
      "model_module": "@jupyter-widgets/controls",
      "model_module_version": "1.5.0",
      "model_name": "VBoxModel",
      "state": {
       "children": [
        "IPY_MODEL_e7a5ac1140ba4be5a3f4d8d7ee4295c7",
        "IPY_MODEL_8e529a405f5f48088711a13d70298be8",
        "IPY_MODEL_6a78ee07387642b9b8c3ba12a6342a31"
       ],
       "layout": "IPY_MODEL_31a619b0c23143e0ad57571dac543794"
      }
     },
     "c7861556e32f4418b125404b5122e6b6": {
      "model_module": "@jupyter-widgets/controls",
      "model_module_version": "1.5.0",
      "model_name": "DescriptionStyleModel",
      "state": {
       "description_width": ""
      }
     },
     "c7afc4ed608446afbcb97aeb26140af3": {
      "model_module": "@jupyter-widgets/controls",
      "model_module_version": "1.5.0",
      "model_name": "ButtonModel",
      "state": {
       "description": "Click me",
       "icon": "check",
       "layout": "IPY_MODEL_227105003d24475299f4fd033fd39fcd",
       "style": "IPY_MODEL_d927a81ca4ca4804a329123d39191250",
       "tooltip": "Click me"
      }
     },
     "c80bec8f7ae44796a4ae337ce17745f9": {
      "model_module": "@jupyter-widgets/base",
      "model_module_version": "1.2.0",
      "model_name": "LayoutModel",
      "state": {}
     },
     "c80fc127f48747ad80df2113a38fe9a8": {
      "model_module": "@jupyter-widgets/controls",
      "model_module_version": "1.5.0",
      "model_name": "ButtonModel",
      "state": {
       "description": "Click me",
       "icon": "check",
       "layout": "IPY_MODEL_def29f3bcc2b4cbe86875fdabb4af00e",
       "style": "IPY_MODEL_ac1f2b2a17e14cecae5bf9354dcd311b",
       "tooltip": "Click me"
      }
     },
     "c940cefb7f7843a29d0fb018dde9f04f": {
      "model_module": "@jupyter-widgets/base",
      "model_module_version": "1.2.0",
      "model_name": "LayoutModel",
      "state": {
       "max_width": "700px",
       "min_width": "700px"
      }
     },
     "c96872beef1e4c0fac812c21f6b9905f": {
      "model_module": "@jupyter-widgets/base",
      "model_module_version": "1.2.0",
      "model_name": "LayoutModel",
      "state": {}
     },
     "ca7564de17d9466c8abd72071e756c12": {
      "model_module": "@jupyter-widgets/base",
      "model_module_version": "1.2.0",
      "model_name": "LayoutModel",
      "state": {
       "max_width": "700px",
       "min_width": "700px"
      }
     },
     "cad2417a432049ceb4f9d060b65a94b1": {
      "model_module": "@jupyter-widgets/output",
      "model_module_version": "1.0.0",
      "model_name": "OutputModel",
      "state": {
       "layout": "IPY_MODEL_03d4e21db9814d63b061518717dc1e87",
       "outputs": [
        {
         "name": "stdout",
         "output_type": "stream",
         "text": "Quantum Computer Wins\ni\n"
        }
       ]
      }
     },
     "ce8c2a7d928f44348ce5fb2e66b49d3c": {
      "model_module": "@jupyter-widgets/controls",
      "model_module_version": "1.5.0",
      "model_name": "VBoxModel",
      "state": {
       "children": [
        "IPY_MODEL_87689f6d2e6448b4968cdb4be57d3b21",
        "IPY_MODEL_b1c10c62dbd54081935e81084f6f9fb4",
        "IPY_MODEL_7d4aa343db2f48e5867c6a0334edf2c1"
       ],
       "layout": "IPY_MODEL_7bb7bb544c6e48cd8c516c5333e63d89"
      }
     },
     "d03a3db5bc09427d85ece28491850125": {
      "model_module": "@jupyter-widgets/controls",
      "model_module_version": "1.5.0",
      "model_name": "ButtonStyleModel",
      "state": {}
     },
     "d081ebf5b0de4bfa8450b872eba6ac9f": {
      "model_module": "@jupyter-widgets/controls",
      "model_module_version": "1.5.0",
      "model_name": "ButtonModel",
      "state": {
       "description": "Click me",
       "icon": "check",
       "layout": "IPY_MODEL_91653f6ebb5f4bd694c650bb9e53a67d",
       "style": "IPY_MODEL_fae4dbdc606d4baea9c07916ba1673d9",
       "tooltip": "Click me"
      }
     },
     "d0884a2ed1bb4eb39749dd14be06dacf": {
      "model_module": "@jupyter-widgets/controls",
      "model_module_version": "1.5.0",
      "model_name": "HTMLModel",
      "state": {
       "layout": "IPY_MODEL_94a8ee09046f47a9a158a75830ab3307",
       "style": "IPY_MODEL_afbe7849e686420794c521464f9ad089",
       "value": "<h5>Queue</h5>"
      }
     },
     "d11ce138a97b4161a2345909a1888fee": {
      "model_module": "@jupyter-widgets/base",
      "model_module_version": "1.2.0",
      "model_name": "LayoutModel",
      "state": {}
     },
     "d189f09ab3164834b71ac4d27ac61f89": {
      "model_module": "@jupyter-widgets/controls",
      "model_module_version": "1.5.0",
      "model_name": "HBoxModel",
      "state": {
       "children": [
        "IPY_MODEL_e2697f9bfee14ebca10ba93859c6ade2",
        "IPY_MODEL_3628bf3690f94f018dccfd0edfadc5fa",
        "IPY_MODEL_b795e29b2fc641319a1a9a8db6e0f177",
        "IPY_MODEL_32d3f996de85416e96a9d7aed7361014",
        "IPY_MODEL_b66f0309f726425da7f3de53198623cf",
        "IPY_MODEL_b560436902d044028b5e30249686c835"
       ],
       "layout": "IPY_MODEL_6213565a180a4860890d55fb172f7739"
      }
     },
     "d1e0ea5aea4249b5ae54f65a49b84763": {
      "model_module": "@jupyter-widgets/base",
      "model_module_version": "1.2.0",
      "model_name": "LayoutModel",
      "state": {
       "width": "190px"
      }
     },
     "d2721e2d2acf446a88b4dcae695aa235": {
      "model_module": "@jupyter-widgets/controls",
      "model_module_version": "1.5.0",
      "model_name": "DescriptionStyleModel",
      "state": {
       "description_width": ""
      }
     },
     "d29ae7788ecc4ee3b15e00c298b9844e": {
      "model_module": "@jupyter-widgets/controls",
      "model_module_version": "1.5.0",
      "model_name": "ButtonStyleModel",
      "state": {}
     },
     "d2d457e0d8d1463a86361a908ce47372": {
      "model_module": "@jupyter-widgets/controls",
      "model_module_version": "1.5.0",
      "model_name": "DropdownModel",
      "state": {
       "_options_labels": [
        "Identity",
        "Bit Flip"
       ],
       "description": "Choice: ",
       "index": 0,
       "layout": "IPY_MODEL_a5f06bd2bbcf43a59686c7d1c17cbf43",
       "style": "IPY_MODEL_5e47ac3841c4481582e07241342998a4"
      }
     },
     "d32de5c18b8649f1affdd60831e27a31": {
      "model_module": "@jupyter-widgets/controls",
      "model_module_version": "1.5.0",
      "model_name": "VBoxModel",
      "state": {
       "children": [
        "IPY_MODEL_c80fc127f48747ad80df2113a38fe9a8",
        "IPY_MODEL_6215b635db854175921cfe4bde31896a"
       ],
       "layout": "IPY_MODEL_bb74e56d2318466081bc4950d27ec34f"
      }
     },
     "d3808986fda64c1fa6a4d4141a2e17df": {
      "model_module": "@jupyter-widgets/base",
      "model_module_version": "1.2.0",
      "model_name": "LayoutModel",
      "state": {}
     },
     "d39f0ebbb4fc431c8839701b70c9d9af": {
      "model_module": "@jupyter-widgets/controls",
      "model_module_version": "1.5.0",
      "model_name": "DescriptionStyleModel",
      "state": {
       "description_width": ""
      }
     },
     "d3d45b1ff7d94e60815bbacc05fcfe02": {
      "model_module": "@jupyter-widgets/output",
      "model_module_version": "1.0.0",
      "model_name": "OutputModel",
      "state": {
       "layout": "IPY_MODEL_6456e7ba65234be89aff1da758c9d217"
      }
     },
     "d48a085e8cb547fb86692c07c4fb32a8": {
      "model_module": "@jupyter-widgets/controls",
      "model_module_version": "1.5.0",
      "model_name": "VBoxModel",
      "state": {
       "children": [
        "IPY_MODEL_96748c641d1743dfa4043285f7d5c0b1",
        "IPY_MODEL_7d3f812d5704435fa80ba414c416e787",
        "IPY_MODEL_a5b5973c590f4435abcde2a33b43cd78"
       ],
       "layout": "IPY_MODEL_0fd9cf40f4394b108eb48994f5159a0a"
      }
     },
     "d4d08b0ea68a4d89afb1e8ea9a30bf4a": {
      "model_module": "@jupyter-widgets/controls",
      "model_module_version": "1.5.0",
      "model_name": "ButtonStyleModel",
      "state": {}
     },
     "d593cb2eb76f4cb6873563cecf7e4cda": {
      "model_module": "@jupyter-widgets/base",
      "model_module_version": "1.2.0",
      "model_name": "LayoutModel",
      "state": {}
     },
     "d68ac2f8b66c4cb885fc36020a414d36": {
      "model_module": "@jupyter-widgets/controls",
      "model_module_version": "1.5.0",
      "model_name": "DescriptionStyleModel",
      "state": {
       "description_width": ""
      }
     },
     "d6a437ee30c14fb8a193498dd99ddbfb": {
      "model_module": "@jupyter-widgets/controls",
      "model_module_version": "1.5.0",
      "model_name": "ButtonModel",
      "state": {
       "description": "Play",
       "layout": "IPY_MODEL_7886a5f2c0ab4cc7b8de8a81103a8afa",
       "style": "IPY_MODEL_501f3d6a021047228e776ea09b459d76"
      }
     },
     "d77661d8c1014627902e3c83a84d7a38": {
      "model_module": "@jupyter-widgets/base",
      "model_module_version": "1.2.0",
      "model_name": "LayoutModel",
      "state": {}
     },
     "d87c5fdc062a4807a50affe483035a7e": {
      "model_module": "@jupyter-widgets/controls",
      "model_module_version": "1.5.0",
      "model_name": "DescriptionStyleModel",
      "state": {
       "description_width": ""
      }
     },
     "d927a81ca4ca4804a329123d39191250": {
      "model_module": "@jupyter-widgets/controls",
      "model_module_version": "1.5.0",
      "model_name": "ButtonStyleModel",
      "state": {}
     },
     "da2dd17cbfe2435dac7872c7ec0cb4bf": {
      "model_module": "@jupyter-widgets/controls",
      "model_module_version": "1.5.0",
      "model_name": "DescriptionStyleModel",
      "state": {
       "description_width": ""
      }
     },
     "dba06fc4fb6b4895942763d8d5919402": {
      "model_module": "@jupyter-widgets/base",
      "model_module_version": "1.2.0",
      "model_name": "LayoutModel",
      "state": {}
     },
     "dc031139561f45c496942037fbbac5dd": {
      "model_module": "@jupyter-widgets/controls",
      "model_module_version": "1.5.0",
      "model_name": "ButtonStyleModel",
      "state": {}
     },
     "dc8242c36b5645c48e3a8ab344d8d1c3": {
      "model_module": "@jupyter-widgets/controls",
      "model_module_version": "1.5.0",
      "model_name": "ButtonStyleModel",
      "state": {}
     },
     "dc86efb12b5b404c97b848fc0a681817": {
      "model_module": "@jupyter-widgets/controls",
      "model_module_version": "1.5.0",
      "model_name": "ButtonStyleModel",
      "state": {}
     },
     "ddf6a13d5b044d639c93a13ba89968a5": {
      "model_module": "@jupyter-widgets/output",
      "model_module_version": "1.0.0",
      "model_name": "OutputModel",
      "state": {
       "layout": "IPY_MODEL_6192e0eb73e14ec88f740771826f271e",
       "outputs": [
        {
         "name": "stdout",
         "output_type": "stream",
         "text": "Quantum Computer Wins\nQuantum Computer Wins\n"
        }
       ]
      }
     },
     "dee97dc8373e40cf9e75553992016331": {
      "model_module": "@jupyter-widgets/base",
      "model_module_version": "1.2.0",
      "model_name": "LayoutModel",
      "state": {}
     },
     "def29f3bcc2b4cbe86875fdabb4af00e": {
      "model_module": "@jupyter-widgets/base",
      "model_module_version": "1.2.0",
      "model_name": "LayoutModel",
      "state": {}
     },
     "def81f4943dd461e894fe0806bb93ceb": {
      "model_module": "@jupyter-widgets/base",
      "model_module_version": "1.2.0",
      "model_name": "LayoutModel",
      "state": {}
     },
     "df09b13d376248ed922a17d8b2ed5cf3": {
      "model_module": "@jupyter-widgets/controls",
      "model_module_version": "1.5.0",
      "model_name": "ButtonStyleModel",
      "state": {}
     },
     "e0b4292c67164cf8a1542a090dd1a865": {
      "model_module": "@jupyter-widgets/controls",
      "model_module_version": "1.5.0",
      "model_name": "ButtonModel",
      "state": {
       "description": "Play",
       "layout": "IPY_MODEL_dba06fc4fb6b4895942763d8d5919402",
       "style": "IPY_MODEL_09889a42cd0948d0994ee022ea442e7f"
      }
     },
     "e26779fddf984aedb9fd960b6f56ed1b": {
      "model_module": "@jupyter-widgets/controls",
      "model_module_version": "1.5.0",
      "model_name": "ButtonStyleModel",
      "state": {}
     },
     "e2697f9bfee14ebca10ba93859c6ade2": {
      "model_module": "@jupyter-widgets/controls",
      "model_module_version": "1.5.0",
      "model_name": "ButtonModel",
      "state": {
       "icon": "close",
       "layout": "IPY_MODEL_60d68238a1fa47b1951b08800f16ed96",
       "style": "IPY_MODEL_bf4bb5f8eb95450abcfcca9052cfc1b9"
      }
     },
     "e524ed157e864274b6b3af791d4346bd": {
      "model_module": "@jupyter-widgets/output",
      "model_module_version": "1.0.0",
      "model_name": "OutputModel",
      "state": {
       "layout": "IPY_MODEL_c2bad8d948ac41858da2634835046478"
      }
     },
     "e6ce576795404d8f9e897be33eaf9f25": {
      "model_module": "@jupyter-widgets/controls",
      "model_module_version": "1.5.0",
      "model_name": "HBoxModel",
      "state": {
       "children": [
        "IPY_MODEL_ee5538b706cb4264a0afd73ef2382b76",
        "IPY_MODEL_7a75084b7a5048a0a233cb446e9c36d1",
        "IPY_MODEL_fd5db7deba6d440f883aec796e166815",
        "IPY_MODEL_2de637ad888a4b93ab33956d3916d748",
        "IPY_MODEL_f851886fd2df48e9ae14607a564e6e43",
        "IPY_MODEL_63eefb5a067640019975875b8359e404"
       ],
       "layout": "IPY_MODEL_ca7564de17d9466c8abd72071e756c12"
      }
     },
     "e76dc6218247406bb93d51caebd0a446": {
      "model_module": "@jupyter-widgets/controls",
      "model_module_version": "1.5.0",
      "model_name": "DescriptionStyleModel",
      "state": {
       "description_width": ""
      }
     },
     "e7a5ac1140ba4be5a3f4d8d7ee4295c7": {
      "model_module": "@jupyter-widgets/controls",
      "model_module_version": "1.5.0",
      "model_name": "DropdownModel",
      "state": {
       "_options_labels": [
        "Identity",
        "Bit Flip"
       ],
       "description": "Choice: ",
       "index": 0,
       "layout": "IPY_MODEL_046df69fe5fe4552866f9f0d42fd8c63",
       "style": "IPY_MODEL_70f189b1135c4e57ae452fe7c9984989"
      }
     },
     "ec36657a24c84dd384e1828406f16786": {
      "model_module": "@jupyter-widgets/controls",
      "model_module_version": "1.5.0",
      "model_name": "HTMLModel",
      "state": {
       "layout": "IPY_MODEL_4a6b06a7b7814a0b97209e8ac1477717",
       "style": "IPY_MODEL_56d7a455a5264bf29fb9a57440286ee5",
       "value": "ibmq_santiago"
      }
     },
     "ed67a6f033f6428ead172bc2c44ecea6": {
      "model_module": "@jupyter-widgets/base",
      "model_module_version": "1.2.0",
      "model_name": "LayoutModel",
      "state": {}
     },
     "ee08d7b788dd4a7ba7782b6c5ae904ba": {
      "model_module": "@jupyter-widgets/controls",
      "model_module_version": "1.5.0",
      "model_name": "HTMLModel",
      "state": {
       "layout": "IPY_MODEL_12904fe562bf4af4b203d63b8c0ed85b",
       "style": "IPY_MODEL_34e6f1b09ce44ea8acd6ffd93847f88c",
       "value": "-"
      }
     },
     "ee5538b706cb4264a0afd73ef2382b76": {
      "model_module": "@jupyter-widgets/controls",
      "model_module_version": "1.5.0",
      "model_name": "ButtonModel",
      "state": {
       "icon": "close",
       "layout": "IPY_MODEL_b85735fcfc294a96ab59182692500388",
       "style": "IPY_MODEL_f248aa58ad2f47d69f219b1c4ba0dff0"
      }
     },
     "ee876af0de8348e6a1a12d0eddf94c3b": {
      "model_module": "@jupyter-widgets/controls",
      "model_module_version": "1.5.0",
      "model_name": "ButtonModel",
      "state": {
       "icon": "close",
       "layout": "IPY_MODEL_2e184cbb9d0048a1a731da4617cce461",
       "style": "IPY_MODEL_9b3648188e154f44805e7da12507b7bc"
      }
     },
     "ee8acfb96c9843269eabe02987600e1b": {
      "model_module": "@jupyter-widgets/controls",
      "model_module_version": "1.5.0",
      "model_name": "DropdownModel",
      "state": {
       "_options_labels": [
        "Identity",
        "Bit Flip"
       ],
       "description": "Choice: ",
       "index": 0,
       "layout": "IPY_MODEL_c477d8efc7dd4d28b25c82ddbbe11528",
       "style": "IPY_MODEL_0f953f4fae9e479c92720729caad334b"
      }
     },
     "eeb3ca30e9f848ccb9cfee00deea4d7e": {
      "model_module": "@jupyter-widgets/controls",
      "model_module_version": "1.5.0",
      "model_name": "ButtonModel",
      "state": {
       "description": "Play",
       "layout": "IPY_MODEL_568c72c77a444ebfbc158b9025cd0d04",
       "style": "IPY_MODEL_dc86efb12b5b404c97b848fc0a681817"
      }
     },
     "efa9fd6431cf415c805384e7b7486b29": {
      "model_module": "@jupyter-widgets/base",
      "model_module_version": "1.2.0",
      "model_name": "LayoutModel",
      "state": {}
     },
     "f0dede0b0f804f3ba5a5cdce3cf943ad": {
      "model_module": "@jupyter-widgets/controls",
      "model_module_version": "1.5.0",
      "model_name": "ButtonStyleModel",
      "state": {}
     },
     "f1fa3d419e334af79b96cb5d3e06babc": {
      "model_module": "@jupyter-widgets/controls",
      "model_module_version": "1.5.0",
      "model_name": "DescriptionStyleModel",
      "state": {
       "description_width": ""
      }
     },
     "f219bac710074df69ec4f180af210e63": {
      "model_module": "@jupyter-widgets/controls",
      "model_module_version": "1.5.0",
      "model_name": "DescriptionStyleModel",
      "state": {
       "description_width": ""
      }
     },
     "f21e6fc266d5411daa4e66c902db9f62": {
      "model_module": "@jupyter-widgets/controls",
      "model_module_version": "1.5.0",
      "model_name": "HTMLModel",
      "state": {
       "layout": "IPY_MODEL_7802f925be8a4815b170b263b3b37682",
       "style": "IPY_MODEL_da2dd17cbfe2435dac7872c7ec0cb4bf",
       "value": "ibmq_manila"
      }
     },
     "f248aa58ad2f47d69f219b1c4ba0dff0": {
      "model_module": "@jupyter-widgets/controls",
      "model_module_version": "1.5.0",
      "model_name": "ButtonStyleModel",
      "state": {
       "button_color": "white"
      }
     },
     "f30b1d4b469b4836b5ae519fdb1644ac": {
      "model_module": "@jupyter-widgets/base",
      "model_module_version": "1.2.0",
      "model_name": "LayoutModel",
      "state": {
       "width": "95px"
      }
     },
     "f36dc9cf109c463b9082456db1ee56ca": {
      "model_module": "@jupyter-widgets/controls",
      "model_module_version": "1.5.0",
      "model_name": "VBoxModel",
      "state": {
       "children": [
        "IPY_MODEL_3e809aa3021c4f6eb79a8c6d9a2aeb68",
        "IPY_MODEL_b97ff87e512148ed8cfe93f1082d3615",
        "IPY_MODEL_413487be4b5d43489c0845101d32abee"
       ],
       "layout": "IPY_MODEL_42675415850048349bb44ec7b69e9bbe"
      }
     },
     "f5aa4618bb4847f59732796443867253": {
      "model_module": "@jupyter-widgets/controls",
      "model_module_version": "1.5.0",
      "model_name": "DescriptionStyleModel",
      "state": {
       "description_width": ""
      }
     },
     "f7659fc826ee453491f5da019d39201e": {
      "model_module": "@jupyter-widgets/controls",
      "model_module_version": "1.5.0",
      "model_name": "ButtonModel",
      "state": {
       "description": "Play",
       "layout": "IPY_MODEL_25c9fb24a0b84b25b60413625324fb3a",
       "style": "IPY_MODEL_dc8242c36b5645c48e3a8ab344d8d1c3"
      }
     },
     "f781d50860bf4b78881e5eccf48be142": {
      "model_module": "@jupyter-widgets/controls",
      "model_module_version": "1.5.0",
      "model_name": "VBoxModel",
      "state": {
       "children": [
        "IPY_MODEL_bcd3c27285c04a819d7bb02038056daa",
        "IPY_MODEL_399a5714d2744518b0a6f6fdb898f372"
       ],
       "layout": "IPY_MODEL_3ea7fab622ab42c4a3a7742e9bf89ffc"
      }
     },
     "f7ba73c57a8c41eaa9dbdfcf4f9e1452": {
      "model_module": "@jupyter-widgets/base",
      "model_module_version": "1.2.0",
      "model_name": "LayoutModel",
      "state": {
       "width": "70px"
      }
     },
     "f7c400bbfd66475888cd80a834515e9c": {
      "model_module": "@jupyter-widgets/controls",
      "model_module_version": "1.5.0",
      "model_name": "ButtonStyleModel",
      "state": {}
     },
     "f80d5258aea64549abd43dc40a1f63ca": {
      "model_module": "@jupyter-widgets/base",
      "model_module_version": "1.2.0",
      "model_name": "LayoutModel",
      "state": {
       "width": "70px"
      }
     },
     "f81bb89cf36c44958ca942a0ef52463f": {
      "model_module": "@jupyter-widgets/controls",
      "model_module_version": "1.5.0",
      "model_name": "ButtonStyleModel",
      "state": {}
     },
     "f851886fd2df48e9ae14607a564e6e43": {
      "model_module": "@jupyter-widgets/controls",
      "model_module_version": "1.5.0",
      "model_name": "HTMLModel",
      "state": {
       "layout": "IPY_MODEL_5740250496f045808c1bfc44c61e9c86",
       "style": "IPY_MODEL_843deba640d44e8ba97db6634f456e29",
       "value": "-"
      }
     },
     "f8794c843b4a47c4a30b7beb0c0c8ae1": {
      "model_module": "@jupyter-widgets/base",
      "model_module_version": "1.2.0",
      "model_name": "LayoutModel",
      "state": {
       "overflow_x": "scroll"
      }
     },
     "f8fbe655c6df4f50a523445130f78a05": {
      "model_module": "@jupyter-widgets/output",
      "model_module_version": "1.0.0",
      "model_name": "OutputModel",
      "state": {
       "layout": "IPY_MODEL_c96872beef1e4c0fac812c21f6b9905f",
       "outputs": [
        {
         "name": "stdout",
         "output_type": "stream",
         "text": "You Lose to Quantum. Quantum Computer Wins\n"
        }
       ]
      }
     },
     "fa9e498037c249aea889b0aef067becf": {
      "model_module": "@jupyter-widgets/controls",
      "model_module_version": "1.5.0",
      "model_name": "DropdownModel",
      "state": {
       "_options_labels": [
        "Identity",
        "Bit Flip"
       ],
       "description": "Choice: ",
       "index": 0,
       "layout": "IPY_MODEL_af48e8e97f5d40e09665444e96f28f7a",
       "style": "IPY_MODEL_c2354664370642aab635d47d48c4976f"
      }
     },
     "fae4dbdc606d4baea9c07916ba1673d9": {
      "model_module": "@jupyter-widgets/controls",
      "model_module_version": "1.5.0",
      "model_name": "ButtonStyleModel",
      "state": {}
     },
     "fb22183ddfae4a6d982f1764d5eb635d": {
      "model_module": "@jupyter-widgets/controls",
      "model_module_version": "1.5.0",
      "model_name": "DescriptionStyleModel",
      "state": {
       "description_width": ""
      }
     },
     "fd5db7deba6d440f883aec796e166815": {
      "model_module": "@jupyter-widgets/controls",
      "model_module_version": "1.5.0",
      "model_name": "HTMLModel",
      "state": {
       "layout": "IPY_MODEL_6c51661d36e243e7915e63be60381115",
       "style": "IPY_MODEL_2616205925db4c9bb6640976f44b399c",
       "value": "ibmq_santiago"
      }
     },
     "ff6e0412e69d4914afa16a27c3e1b876": {
      "model_module": "@jupyter-widgets/base",
      "model_module_version": "1.2.0",
      "model_name": "LayoutModel",
      "state": {}
     },
     "ffd84ef7ac4d4dc08b9d375738765054": {
      "model_module": "@jupyter-widgets/controls",
      "model_module_version": "1.5.0",
      "model_name": "ButtonModel",
      "state": {
       "description": "Play",
       "layout": "IPY_MODEL_b8e258cce9094d13841007254e086791",
       "style": "IPY_MODEL_1c597273997f4b5888899de9be11bd5c"
      }
     }
    },
    "version_major": 2,
    "version_minor": 0
   }
  }
 },
 "nbformat": 4,
 "nbformat_minor": 4
}
