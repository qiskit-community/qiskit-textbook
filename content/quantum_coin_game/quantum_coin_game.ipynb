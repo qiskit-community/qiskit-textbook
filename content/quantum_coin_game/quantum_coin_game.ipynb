{
 "cells": [
  {
   "cell_type": "markdown",
   "metadata": {
    "id": "D5Zxkmb_FKWG"
   },
   "source": [
    "# **Quantum Coin Game**\n",
    "\n",
    "---\n",
    "\n"
   ]
  },
  {
   "cell_type": "markdown",
   "metadata": {},
   "source": [
    "### **Table of Contents**\n",
    "---\n",
    "\n",
    "1. [Introduction](#introduction)<br>\n",
    "   1.1 [What is Quantum Coin Game](#quantum_definition)<br>\n",
    "   1.2 [Concept](#concept)<br>\n",
    "   1.3 [Idea](#idea)<br>\n",
    "   1.4 [Rules of the Game](#rules)<br>\n",
    "2. [Analogy](#analogy)<br>\n",
    "3. [Approach](#approach)<br>\n",
    "4. [General Strategy](#general_strategy)<br>\n",
    "5. [Play it with Qiskit](#play_it)<br>\n",
    "   5.1 [Measurement](#measurement)<br>\n",
    "   5.2 [QASM Simulator](#qasm_simulator)<br>\n",
    "   5.3 [Who Wins?](#who_wins)<br>\n",
    "6. [How Quantum Computer can win most of the time?](#quantum_mind)<br>\n",
    "   6.1 [Approach](#quantum_approach)<br>\n",
    "   6.2 [Play it with Qiskit](#quantum_play)<br>\n",
    "   6.3 [Measurement](#quantum_measurement)<br>\n",
    "   6.4 [QASM Simulator](#quantum_qasm)<br>\n",
    "   6.5 [Who Wins?](#quantum_wins)<br>\n",
    "7. [Conclusion](#conclusion)<br>\n",
    "8. [References](#references)<br>\n",
    "9. [Quick Exercise](#quick_exercise)<br>\n",
    "10.[Version Information](#version_information)"
   ]
  },
  {
   "cell_type": "markdown",
   "metadata": {
    "id": "TJDBzM7PFsQN"
   },
   "source": [
    "### **Introduction** <a id=\"introduction\"></a>\n",
    "\n",
    "---\n",
    "\n",
    "\n",
    "### What is Quantum Coin Game ? <a id=\"quantum_definition\"></a>\n",
    "> Quantum Coin Game is one of the fundamental concept of quantum computing, which uses simple implementation of quantum gates or more precisely uses the wierdness of quantum mechanics, to win about 97% of the time, when played against an opponent. Flipping of coin and say heads or tails.\n",
    "\n",
    "### Where the concept came from ? <a id=\"concept\"></a>\n",
    "> The concept of Quantum Coin Game came from the idea of classical coin game which can only show heads and tails. But since the game utilizes the concepts of quantum mechanics, it would be interesting to see what could be the outcome of the whole experiment.\n",
    "\n",
    "### What is the main idea of this game ? <a id=\"idea\"></a>\n",
    "> The main concept of this game is how the quantum computer uses the power of **QUANTUM SUPERPOSITION**, which tells an object can exists in 2 different states at the same time, to win absolutely everytime. The fact is an quantum computer can do superposition already puts it in a higher chance of winning over the classical flip.\n",
    "> > **NOTE**:To learn more about quantum superposition, link to \"[Qiskit Textbook](https://qiskit.org/textbook/ch-states/representing-qubit-states.html)\" superposition page.\n",
    "\n",
    "### What are the rules of this game ? <a id=\"rules\"></a>\n",
    "> 1. **Quantum Computer** plays a move but it is not revealed to the **Opponent(Human)**.\n",
    "> 2. **Opponent(Human)** plays a move and it is also not revealed to the **Quantum Computer**.\n",
    "> 3. Finally **Quantum Computer** plays a move.\n",
    "> 4. Results are shown. If its heads, then **Quantum Computer** wins. Else, **Opponent(Human)** wins.\n",
    "> **NOTE**:- \"Playing a move\" refers to \"**Flipping the coin**\".\n",
    "\n",
    "**NOTE**: We consider the coin as '**FAIR COIN**'\n",
    "\n",
    "\n",
    "\n",
    "---\n",
    "\n",
    "\n"
   ]
  },
  {
   "cell_type": "markdown",
   "metadata": {
    "id": "TMsXKAxk6-dt"
   },
   "source": [
    "### **Analogy** <a id=\"analogy\"></a>\n",
    "\n",
    "---\n",
    "\n",
    "Now that we know what is a quantum coin game, what is it based on and most importantly what are the rules of this game, lets convert the concept of this game in quantum computing terminology.\n",
    "\n",
    "* The 'coin' in flipping a coin we referring here is a '**single qubit gate**'.\n",
    "$$\n",
    "      |\\psi\\rangle=\\begin{bmatrix}\\alpha \\\\ \\beta\\end{bmatrix}\n",
    "$$\n",
    "\n",
    "  where $\\alpha, \\beta \\in \\mathbb{C}$ and $|\\alpha|^2 + |\\beta|^2 = 1$\n",
    "\n",
    "\n",
    "* \"**Flipping**\" the coin is application of the **bit-flip operator**\n",
    "\n",
    "$$\n",
    "  X = \\begin{bmatrix} 0 & 1 \\\\ 1 & 0 \\end{bmatrix}\n",
    "$$\n",
    "\n",
    "* The \"**heads**\" state is defined as \n",
    "$$\n",
    "|0\\rangle = \\begin{bmatrix} 1 \\\\ 0 \\end{bmatrix}\n",
    "$$ and \"**tails**\" as \n",
    "$$\n",
    "|1\\rangle = \\begin{bmatrix} 0 \\\\ 1 \\end{bmatrix}\n",
    "$$\n",
    "\n",
    "* The quantum computer \"plays\" by applying the Hadamard $H$ operator \n",
    "$$\n",
    "H = \\frac{1}{\\sqrt{2}} \\begin{bmatrix}  1 & 1 \\\\ 1 & -1 \\end{bmatrix}\n",
    "$$\n"
   ]
  },
  {
   "cell_type": "markdown",
   "metadata": {
    "id": "PdPizFWxBr5m"
   },
   "source": [
    "### **Approach** <a id=\"approach\"></a>\n",
    "\n",
    "---\n",
    "Lets see how to approach the game in quantum computing terminology-\n",
    "\n",
    "* The coin is initialized to the $|0\\rangle$ \"heads\" state.\n",
    "\n",
    "* The computer plays, applying the Hadamard $H$ operator to the coin (operators are applied using matrix multiplication). \n",
    "$$\n",
    "H|0\\rangle = \\frac{1}{\\sqrt2}(|0\\rangle + |1\\rangle)\n",
    "$$\n",
    "The coin enters the \n",
    "$$\n",
    "H|0\\rangle = |+\\rangle = \\frac{1}{\\sqrt{2}} \\begin{bmatrix}  1 \\\\ 1 \\end{bmatrix}\n",
    "$$\n",
    "state.\n",
    "\n",
    "\n",
    "* The human plays, choosing whether to flip the coin (apply the $X$ operator). However, since the $X$ operator just flips the state vector upside down, $X$ has no effect \n",
    "$$\n",
    "X|+⟩=|+⟩. \n",
    "$$\n",
    "No matter what, the state is $|+⟩$ after the human plays.\n",
    "\n",
    "* The computer plays, applying the Hadamard $H$ operator again, taking the coin to the $|0⟩$ \"heads\" state.\n",
    "$$\n",
    "H|+\\rangle = |0\\rangle\n",
    "$$"
   ]
  },
  {
   "cell_type": "markdown",
   "metadata": {
    "id": "rAU2urLltIhh"
   },
   "source": [
    "### **General Strategy** <a id=\"general_strategy\"></a>\n",
    "\n",
    "---\n",
    "Now that we have developed some analogy with the quantum computing terms and approach to take the rules, lets develop the approach using python.\n",
    "\n",
    "Let me play as a *Human opponent*, since I am not a being of quantum realm.\n",
    "\n",
    "Before starting the game, lets maintain a dictionary of what are the possible moves a quantum computer can take-\n",
    "\n",
    "\n",
    "```python\n",
    "quantum_moves = {'Identity': 'I',\n",
    "                'X': 'X',\n",
    "                'Hadamard': 'H'\n",
    "                }\n",
    "```\n",
    "and what are the possible moves a classical opponent can take-\n",
    "\n",
    "```python\n",
    "classical_moves = {'Identity': 'I',\n",
    "                  'X': 'X'\n",
    "                  }\n",
    "```\n",
    "\n",
    "Now lets see what are the *possible combination* we can take of these moves-\n",
    "\n",
    "\n",
    "Start State  | Quantum  | Classical  | Quantum  | Result          | Who wins?\n",
    "-------------|----------|------------|----------|-----------------|-----------\n",
    "$|0\\rangle$  | $H$      | $I$        | $H$      | $|0\\rangle$     | Quantum\n",
    "$|0\\rangle$  | $H$      | $X$        | $H$      | $|0\\rangle$     | Quantum\n",
    "$|0\\rangle$  | $H$      | $I$        | $I$      | $|0\\rangle$ + $|1\\rangle$ | Either Quantum or Classical\n",
    "$|0\\rangle$  | $H$      | $I$        | $H$      | $|0\\rangle$ + $|1\\rangle$ | Either Quantum or Classical\n",
    "$|0\\rangle$  | $H$      | $I$        | $H$      | $|0\\rangle$ + $|1\\rangle$ | Either Quantum or Classical\n",
    "$|0\\rangle$  | $H$      | $I$        | $H$      | $|0\\rangle$ + $|1\\rangle$ | Either Quantum or Classical\n",
    "-------------|----------|------------|----------|----------------|---------------------------\n",
    "$|0\\rangle$  | $I$      | $I$        | $I$      | $|0\\rangle$ | Quantum\n",
    "$|0\\rangle$  | $I$      | $X$        | $I$      | $|1\\rangle$ | Classical\n",
    "$|0\\rangle$  | $I$      | $I$        | $H$      | $|0\\rangle$ + $|1\\rangle$ | Either Quantum or Classical\n",
    "$|0\\rangle$  | $I$      | $X$        | $H$      | $|0\\rangle$ - $|1\\rangle$ | Either Quantum or Classical\n",
    "$|0\\rangle$  | $I$      | $I$        | $X$      | $|1\\rangle$ | Classical\n",
    "$|0\\rangle$  | $I$      | $X$        | $X$      | $|0\\rangle$ | Quantum\n",
    "-------------|----------|------------|----------|-------------|---------------------------\n",
    "$|0\\rangle$  | $X$      | $I$        | $X$      | $|0\\rangle$ | Quantum\n",
    "$|0\\rangle$  | $X$      | $X$        | $X$      | $|1\\rangle$ | Classical\n",
    "$|0\\rangle$  | $X$      | $I$        | $H$      | $|0\\rangle$ - $|1\\rangle$ | Either Quantum or Classical\n",
    "$|0\\rangle$  | $X$      | $X$        | $H$      | $|0\\rangle$ + $|1\\rangle$| Either Quantum or Classical\n",
    "$|0\\rangle$  | $X$      | $I$        | $I$      | $|1\\rangle$ | Classical\n",
    "$|0\\rangle$  | $X$      | $X$        | $I$      | $|0\\rangle$ | Quantum\n",
    "\n",
    "\n",
    "Now lets see all the possibility-\n",
    "\n",
    "1. Quantum Computer Wins ( $|0\\rangle$ ):\n",
    "\n",
    "$$\n",
    "  \\frac{6}{18} = 33.33 \\%\n",
    "$$\n",
    "\n",
    "2. Classical Human Wins ( $|1\\rangle$ ):\n",
    "\n",
    "$$\n",
    "  \\frac{4}{18} = 22.22 \\%\n",
    "$$\n",
    "\n",
    "3. Either Quantum Computer or Classical Human Wins ( $|0\\rangle + |1\\rangle$ ):\n",
    "\n",
    "$$\n",
    "  \\frac{6}{18} = 44.44 \\%\n",
    "$$\n",
    "\n",
    "\n",
    "\n",
    " "
   ]
  },
  {
   "cell_type": "markdown",
   "metadata": {
    "id": "OenmgkLvJNNI"
   },
   "source": [
    "### **Lets play it using Qiskit** <a id=\"play_it\"></a>\n",
    "\n",
    "---\n",
    "Now lets see what happens if the quantum computer **plays in a general appraoch**.\n"
   ]
  },
  {
   "cell_type": "code",
   "execution_count": 225,
   "metadata": {
    "id": "mEDO89d8L1pG"
   },
   "outputs": [],
   "source": [
    "# Importing all the necessary library\n",
    "\n",
    "import random\n",
    "from qiskit import QuantumCircuit, transpile, Aer, IBMQ, QuantumRegister, ClassicalRegister, assemble, execute\n",
    "from qiskit.tools.jupyter import *\n",
    "from qiskit.visualization import *\n",
    "from qiskit.providers.aer import QasmSimulator\n",
    "import qiskit.tools.jupyter\n",
    "from qiskit_textbook.widgets import plot_bloch_vector_spherical\n",
    "from qiskit.visualization import plot_bloch_vector\n",
    "from qiskit.visualization import plot_state_qsphere"
   ]
  },
  {
   "cell_type": "code",
   "execution_count": 226,
   "metadata": {},
   "outputs": [],
   "source": [
    "# Building the initial circuit\n",
    "\n",
    "def initial_circuit():\n",
    "    circuit = QuantumRegister(1, 'circuit')\n",
    "    measure = ClassicalRegister(1, 'result')\n",
    "    qc = QuantumCircuit(circuit, measure)\n",
    "    qc.draw('mpl')\n",
    "    return qc, circuit, measure"
   ]
  },
  {
   "cell_type": "code",
   "execution_count": 227,
   "metadata": {
    "id": "0ebLyte5LHUV"
   },
   "outputs": [],
   "source": [
    "# Defining all the possible moves in a dictionary\n",
    "\n",
    "# Possible moves for the Quantum Computer\n",
    "quantum_moves = {'Identity': 'I',\n",
    "                'X': 'X',\n",
    "                'Hadamard': 'H'\n",
    "                }\n",
    "\n",
    "# Possible moves for the Classical Human\n",
    "classical_moves = {'Identity': 'I',\n",
    "                  'X': 'X'\n",
    "                  }\n",
    "\n",
    "################################################\n",
    "\n",
    "# Getting random values from respective dictionary based on mode \n",
    "\n",
    "def random_moves(mode: str): # mode = quantum or classical\n",
    "    if mode == 'quantum':\n",
    "        return quantum_moves[random.choice(list(quantum_moves.keys()))]\n",
    "    if mode == 'classical':\n",
    "        return classical_moves[random.choice(list(classical_moves.keys()))]\n",
    "\n",
    "################################################\n",
    "\n",
    "# Getting the corresponding gate from distionary as per value\n",
    "\n",
    "def corresponding_gate(qc, circuit, gate_name):\n",
    "    if gate_name == 'H':\n",
    "        qc.h(circuit[0])\n",
    "    if gate_name == 'X':\n",
    "        qc.x(circuit[0])\n",
    "    if gate_name == 'I':\n",
    "        qc.i(circuit[0])\n",
    "    return qc"
   ]
  },
  {
   "cell_type": "markdown",
   "metadata": {},
   "source": [
    "#### Building the initial circuit"
   ]
  },
  {
   "cell_type": "code",
   "execution_count": 228,
   "metadata": {},
   "outputs": [],
   "source": [
    "qc, circuit, measure = initial_circuit()"
   ]
  },
  {
   "cell_type": "markdown",
   "metadata": {},
   "source": [
    "#### **Turn 1. Quantum Computer**"
   ]
  },
  {
   "cell_type": "markdown",
   "metadata": {
    "id": "_u1Uuk0LMi_C"
   },
   "source": [
    "Qauntum Computer randomly selects a moves from its dictionary and add the corresponding gates to the circuit."
   ]
  },
  {
   "cell_type": "code",
   "execution_count": 229,
   "metadata": {
    "colab": {
     "base_uri": "https://localhost:8080/"
    },
    "id": "MSCUwo5zLfle",
    "outputId": "cfdb4f3a-16ee-47c0-924f-ab94354b93f9"
   },
   "outputs": [],
   "source": [
    "result_quantum = random_moves('quantum')"
   ]
  },
  {
   "cell_type": "code",
   "execution_count": 230,
   "metadata": {},
   "outputs": [
    {
     "data": {
      "image/png": "[encoded data removed]",
      "text/plain": [
       "<Figure size 184.874x144.48 with 1 Axes>"
      ]
     },
     "execution_count": 230,
     "metadata": {},
     "output_type": "execute_result"
    }
   ],
   "source": [
    "qc = corresponding_gate(qc, circuit, result_quantum)\n",
    "qc.draw('mpl')"
   ]
  },
  {
   "cell_type": "markdown",
   "metadata": {},
   "source": [
    "#### **Turn 2. Classical Human**"
   ]
  },
  {
   "cell_type": "markdown",
   "metadata": {
    "id": "_u1Uuk0LMi_C"
   },
   "source": [
    "Classical Human randomly selects a moves from its dictionary and add the corresponding gates to the circuit."
   ]
  },
  {
   "cell_type": "code",
   "execution_count": 231,
   "metadata": {
    "colab": {
     "base_uri": "https://localhost:8080/"
    },
    "id": "MSCUwo5zLfle",
    "outputId": "cfdb4f3a-16ee-47c0-924f-ab94354b93f9"
   },
   "outputs": [],
   "source": [
    "result_classical = random_moves('classical')"
   ]
  },
  {
   "cell_type": "code",
   "execution_count": 232,
   "metadata": {},
   "outputs": [
    {
     "data": {
      "image/png": "[encoded data removed]",
      "text/plain": [
       "<Figure size 245.074x144.48 with 1 Axes>"
      ]
     },
     "execution_count": 232,
     "metadata": {},
     "output_type": "execute_result"
    }
   ],
   "source": [
    "qc = corresponding_gate(qc, circuit, result_classical)\n",
    "qc.draw('mpl')"
   ]
  },
  {
   "cell_type": "markdown",
   "metadata": {},
   "source": [
    "#### **Turn 3. Quantum Computer**"
   ]
  },
  {
   "cell_type": "markdown",
   "metadata": {
    "id": "_u1Uuk0LMi_C"
   },
   "source": [
    "Quantum Computer randomly selects a moves from its dictionary and add the corresponding gates to the circuit."
   ]
  },
  {
   "cell_type": "code",
   "execution_count": 233,
   "metadata": {
    "colab": {
     "base_uri": "https://localhost:8080/"
    },
    "id": "MSCUwo5zLfle",
    "outputId": "cfdb4f3a-16ee-47c0-924f-ab94354b93f9"
   },
   "outputs": [],
   "source": [
    "result_quantum_again = random_moves('quantum')"
   ]
  },
  {
   "cell_type": "code",
   "execution_count": 234,
   "metadata": {
    "scrolled": true
   },
   "outputs": [
    {
     "data": {
      "image/png": "[encoded data removed]",
      "text/plain": [
       "<Figure size 305.274x144.48 with 1 Axes>"
      ]
     },
     "execution_count": 234,
     "metadata": {},
     "output_type": "execute_result"
    }
   ],
   "source": [
    "qc = corresponding_gate(qc, circuit, result_quantum)\n",
    "qc.draw('mpl')"
   ]
  },
  {
   "cell_type": "markdown",
   "metadata": {},
   "source": [
    "#### **Measurement** <a id=\"measurement\"></a>"
   ]
  },
  {
   "cell_type": "code",
   "execution_count": 235,
   "metadata": {},
   "outputs": [
    {
     "data": {
      "image/png": "[encoded data removed]",
      "text/plain": [
       "<Figure size 365.474x144.48 with 1 Axes>"
      ]
     },
     "execution_count": 235,
     "metadata": {},
     "output_type": "execute_result"
    }
   ],
   "source": [
    "qc.measure(circuit, measure)\n",
    "qc.draw('mpl')"
   ]
  },
  {
   "cell_type": "markdown",
   "metadata": {},
   "source": [
    "#### **QASM_Simulator** <a id=\"qasm_simulator\"></a>"
   ]
  },
  {
   "cell_type": "code",
   "execution_count": 236,
   "metadata": {},
   "outputs": [
    {
     "name": "stdout",
     "output_type": "stream",
     "text": [
      "{'1': 8192}\n"
     ]
    },
    {
     "data": {
      "image/png": "[encoded data removed]",
      "text/plain": [
       "<Figure size 504x360 with 1 Axes>"
      ]
     },
     "execution_count": 236,
     "metadata": {},
     "output_type": "execute_result"
    }
   ],
   "source": [
    "backend = Aer.get_backend('qasm_simulator')\n",
    "job = execute(qc, backend, shots=8192)\n",
    "res_count = job.result().get_counts()\n",
    "print(res_count)\n",
    "plot_histogram(res_count)"
   ]
  },
  {
   "cell_type": "markdown",
   "metadata": {},
   "source": [
    "#### **Lets see who wins** <a id=\"who_wins\"></a>"
   ]
  },
  {
   "cell_type": "code",
   "execution_count": 237,
   "metadata": {},
   "outputs": [
    {
     "name": "stdout",
     "output_type": "stream",
     "text": [
      "Classical Human Wins\n"
     ]
    }
   ],
   "source": [
    "if len(res_count) == 1 and list(res_count.keys())[0] == '0':\n",
    "    print(\"Quantum Computer Wins\")\n",
    "if len(res_count) == 1 and list(res_count.keys())[0] == '1':\n",
    "    print(\"Classical Human Wins\")\n",
    "if len(res_count) == 2:\n",
    "    print(\"Either Quantum Computer or Classical Human Wins\")"
   ]
  },
  {
   "cell_type": "markdown",
   "metadata": {},
   "source": [
    "---\n",
    "---"
   ]
  },
  {
   "cell_type": "markdown",
   "metadata": {},
   "source": [
    "### **What if the Quantum Computer plays the game with a mind of its own ?**\n",
    "#### Another way around to ask this is\n",
    "### **What can the Quantum Computer do, so that it wins most of the time (~97%) ?** <a id=\"quantum_mind\"></a>"
   ]
  },
  {
   "cell_type": "markdown",
   "metadata": {},
   "source": [
    "### **Approach** <a id=\"quantum_approach\"></a>"
   ]
  },
  {
   "cell_type": "markdown",
   "metadata": {},
   "source": [
    "What the quantum computer can do-\n",
    "1. It places the state of the coin in **superposition** by using $H$ gate.\n",
    "2. Whatever the classical human plays, $X$ or $I$ will keep the state in **superposition**\n",
    "3. Lastly, the quantum computer can again use $H$ to snap it in the initial state."
   ]
  },
  {
   "cell_type": "markdown",
   "metadata": {},
   "source": [
    "Using the above approach the possibility table reduces to-\n",
    "\n",
    "\n",
    "Start State  | Quantum  | Classical  | Quantum  | Result          | Who wins?\n",
    "-------------|----------|------------|----------|-----------------|-----------\n",
    "$|0\\rangle$  | $H$      | $I$        | $H$      | $|0\\rangle$     | Quantum\n",
    "$|0\\rangle$  | $H$      | $X$        | $H$      | $|0\\rangle$     | Quantum\n",
    "\n",
    "Now lets look at the possibilities-\n",
    "\n",
    "\n",
    "1. Quantum Computer Wins ( $|0\\rangle$ ):\n",
    "\n",
    "$$\n",
    "\\frac{2}{2} = 100 \\%\n",
    "$$\n",
    "\n",
    "2. Classical Human Wins ( $|1\\rangle$ ):\n",
    "\n",
    "$$\n",
    "  \\frac{0}{2} = 0 \\%\n",
    "$$\n",
    "\n",
    "3. Either Quantum Computer or Classical Human Wins ( $|0\\rangle + |1\\rangle$ ):\n",
    "\n",
    "$$\n",
    "  \\frac{0}{2} = 0 \\%\n",
    "$$"
   ]
  },
  {
   "cell_type": "markdown",
   "metadata": {},
   "source": [
    "This table shows the quantum computer wins $100\\%$ of the time. But actually it is $~97\\%$, due to certain error."
   ]
  },
  {
   "cell_type": "markdown",
   "metadata": {},
   "source": [
    "### **Lets play this version using Qiskit** <a id=\"quantum_play\"></a>"
   ]
  },
  {
   "cell_type": "markdown",
   "metadata": {},
   "source": [
    "#### Building the initial circuit"
   ]
  },
  {
   "cell_type": "code",
   "execution_count": 238,
   "metadata": {},
   "outputs": [],
   "source": [
    "qc_version, circuit_version, measure_version = initial_circuit()"
   ]
  },
  {
   "cell_type": "markdown",
   "metadata": {},
   "source": [
    "#### **Turn 1. Quantum Computer**"
   ]
  },
  {
   "cell_type": "markdown",
   "metadata": {},
   "source": [
    "Quantum Computer uses Hadamard $H$ on its first turn"
   ]
  },
  {
   "cell_type": "code",
   "execution_count": 239,
   "metadata": {
    "scrolled": true
   },
   "outputs": [
    {
     "data": {
      "image/png": "[encoded data removed]",
      "text/plain": [
       "<Figure size 184.874x144.48 with 1 Axes>"
      ]
     },
     "execution_count": 239,
     "metadata": {},
     "output_type": "execute_result"
    }
   ],
   "source": [
    "# Use H Gate\n",
    "\n",
    "qc_version.h(circuit_version[0])\n",
    "qc_version.draw('mpl')"
   ]
  },
  {
   "cell_type": "markdown",
   "metadata": {},
   "source": [
    "#### **Turn 2. Classical Human**"
   ]
  },
  {
   "cell_type": "markdown",
   "metadata": {},
   "source": [
    "Classical Human randomly selects a moves from its dictionary and add the corresponding gates to the circuit."
   ]
  },
  {
   "cell_type": "code",
   "execution_count": 240,
   "metadata": {
    "colab": {
     "base_uri": "https://localhost:8080/"
    },
    "id": "MSCUwo5zLfle",
    "outputId": "cfdb4f3a-16ee-47c0-924f-ab94354b93f9"
   },
   "outputs": [],
   "source": [
    "result_classical_version = random_moves('classical')"
   ]
  },
  {
   "cell_type": "code",
   "execution_count": 241,
   "metadata": {
    "scrolled": true
   },
   "outputs": [
    {
     "data": {
      "image/png": "[encoded data removed]",
      "text/plain": [
       "<Figure size 245.074x144.48 with 1 Axes>"
      ]
     },
     "execution_count": 241,
     "metadata": {},
     "output_type": "execute_result"
    }
   ],
   "source": [
    "qc_version = corresponding_gate(qc_version, circuit_version, result_classical_version)\n",
    "qc_version.draw('mpl')"
   ]
  },
  {
   "cell_type": "markdown",
   "metadata": {},
   "source": [
    "#### **Turn 3. Quantum Computer**"
   ]
  },
  {
   "cell_type": "markdown",
   "metadata": {},
   "source": [
    "Quantum Computer uses Hadamard $H$ on its first turn"
   ]
  },
  {
   "cell_type": "code",
   "execution_count": 242,
   "metadata": {
    "scrolled": true
   },
   "outputs": [
    {
     "data": {
      "image/png": "[encoded data removed]",
      "text/plain": [
       "<Figure size 305.274x144.48 with 1 Axes>"
      ]
     },
     "execution_count": 242,
     "metadata": {},
     "output_type": "execute_result"
    }
   ],
   "source": [
    "# Used H Gate\n",
    "\n",
    "qc_version.h(circuit_version[0])\n",
    "qc_version.draw('mpl')"
   ]
  },
  {
   "cell_type": "markdown",
   "metadata": {},
   "source": [
    "#### **Measurement** <a id=\"quantum_measurement\"></a>"
   ]
  },
  {
   "cell_type": "code",
   "execution_count": 243,
   "metadata": {},
   "outputs": [
    {
     "data": {
      "image/png": "[encoded data removed]",
      "text/plain": [
       "<Figure size 365.474x144.48 with 1 Axes>"
      ]
     },
     "execution_count": 243,
     "metadata": {},
     "output_type": "execute_result"
    }
   ],
   "source": [
    "qc_version.measure(circuit_version, measure_version)\n",
    "qc_version.draw('mpl')"
   ]
  },
  {
   "cell_type": "markdown",
   "metadata": {},
   "source": [
    "#### **QASM_Simulator** <a id=\"quantum_qasm\"></a>"
   ]
  },
  {
   "cell_type": "code",
   "execution_count": 244,
   "metadata": {},
   "outputs": [
    {
     "name": "stdout",
     "output_type": "stream",
     "text": [
      "{'0': 8192}\n"
     ]
    },
    {
     "data": {
      "image/png": "[encoded data removed]",
      "text/plain": [
       "<Figure size 504x360 with 1 Axes>"
      ]
     },
     "execution_count": 244,
     "metadata": {},
     "output_type": "execute_result"
    }
   ],
   "source": [
    "backend_version = Aer.get_backend('qasm_simulator')\n",
    "job_version = execute(qc_version, backend_version, shots=8192)\n",
    "res_count_version = job_version.result().get_counts()\n",
    "print(res_count_version)\n",
    "plot_histogram(res_count_version)"
   ]
  },
  {
   "cell_type": "markdown",
   "metadata": {},
   "source": [
    "#### **Lets see who wins** <a id=\"quantum_wins\"></a>"
   ]
  },
  {
   "cell_type": "code",
   "execution_count": 245,
   "metadata": {},
   "outputs": [
    {
     "name": "stdout",
     "output_type": "stream",
     "text": [
      "Quantum Computer Wins\n"
     ]
    }
   ],
   "source": [
    "if len(res_count_version) == 1 and list(res_count_version.keys())[0] == '0':\n",
    "    print(\"Quantum Computer Wins\")\n",
    "if len(res_count_version) == 1 and list(res_count_version.keys())[0] == '1':\n",
    "    print(\"Classical Human Wins\")\n",
    "if len(res_count_version) == 2:\n",
    "    print(\"Either Quantum Computer or Classical Human Wins\")"
   ]
  },
  {
   "cell_type": "markdown",
   "metadata": {},
   "source": [
    "#### **Quantum Computer Wins all the time.**"
   ]
  },
  {
   "cell_type": "markdown",
   "metadata": {},
   "source": [
    "---"
   ]
  },
  {
   "cell_type": "markdown",
   "metadata": {},
   "source": [
    "### **Conclusion** <a id=\"conclusion\"></a>"
   ]
  },
  {
   "cell_type": "markdown",
   "metadata": {},
   "source": [
    "This simple and yet fun little game shows the basic quantum states $|0\\rangle$, $|1\\rangle$, $|+\\rangle$ and $|−\\rangle$, plus the common ways of moving between them with the $X$, $H$, $I$, $Z$ gates. "
   ]
  },
  {
   "cell_type": "markdown",
   "metadata": {},
   "source": [
    "### **References** <a id=\"references\"></a>"
   ]
  },
  {
   "cell_type": "markdown",
   "metadata": {},
   "source": [
    "This notebook is inspired from:\n",
    "\n",
    "> [1]. [Ted talk by Sohini Ghosh](https://www.ted.com/talks/shohini_ghose_a_beginner_s_guide_to_quantum_computing#t-208006). \n",
    "\n",
    "> [2]. Quantum Coin Flipping from [Wikipedia](https://en.wikipedia.org/wiki/Quantum_coin_flipping)"
   ]
  },
  {
   "cell_type": "markdown",
   "metadata": {},
   "source": [
    "#### **Quick Exercise** <a id=\"quick_exercise\"></a>"
   ]
  },
  {
   "cell_type": "markdown",
   "metadata": {},
   "source": [
    "The rules of the game we learned so far are the main rules of the game.\n",
    "But, think of other variations of the game as well, tweak the game a little could result in significant change in answer. Such as-\n",
    "\n",
    "1. What if, instead of quantum computer taking first turn, the classical human take the first turn ?\n",
    "2. What if, instead of representing head as $|0\\rangle$, the tail is represented as $|0\\rangle$ ?\n",
    "3. What if, instead of using fair coin, we used unfair coin ?\n",
    "4. What if, instead of playing against a classical human, the quantum computer plays with another quantum computer ?\n",
    "5. What if, instead of having 3 turns, there are $n$ number of turns ?\n",
    "6. What if, instead of using all gates, restrict the use of some gates ?\n",
    "\n",
    "and many more variations are possible."
   ]
  },
  {
   "cell_type": "markdown",
   "metadata": {},
   "source": [
    "### **Version Information** <a id=\"version_information\"></a>"
   ]
  },
  {
   "cell_type": "code",
   "execution_count": 246,
   "metadata": {},
   "outputs": [
    {
     "data": {
      "text/html": [
       "<h3>Version Information</h3><table><tr><th>Qiskit Software</th><th>Version</th></tr><tr><td><code>qiskit-terra</code></td><td>0.18.1</td></tr><tr><td><code>qiskit-aer</code></td><td>0.8.2</td></tr><tr><td><code>qiskit-ignis</code></td><td>0.6.0</td></tr><tr><td><code>qiskit-ibmq-provider</code></td><td>0.16.0</td></tr><tr><td><code>qiskit-aqua</code></td><td>0.9.4</td></tr><tr><td><code>qiskit</code></td><td>0.29.0</td></tr><tr><td><code>qiskit-nature</code></td><td>0.1.5</td></tr><tr><td><code>qiskit-finance</code></td><td>0.2.0</td></tr><tr><td><code>qiskit-optimization</code></td><td>0.2.1</td></tr><tr><td><code>qiskit-machine-learning</code></td><td>0.2.0</td></tr><tr><th>System information</th></tr><tr><td>Python</td><td>3.8.10 | packaged by conda-forge | (default, May 11 2021, 07:01:05) \n",
       "[GCC 9.3.0]</td></tr><tr><td>OS</td><td>Linux</td></tr><tr><td>CPUs</td><td>8</td></tr><tr><td>Memory (Gb)</td><td>31.400043487548828</td></tr><tr><td colspan='2'>Sat Sep 11 06:40:35 2021 UTC</td></tr></table>"
      ],
      "text/plain": [
       "<IPython.core.display.HTML object>"
      ]
     },
     "metadata": {},
     "output_type": "display_data"
    }
   ],
   "source": [
    "%qiskit_version_table"
   ]
  }
 ],
 "metadata": {
  "colab": {
   "collapsed_sections": [],
   "name": "Quantum Coin Game.ipynb",
   "provenance": []
  },
  "kernelspec": {
   "display_name": "Qiskit v0.29.0",
   "language": "python",
   "name": "python3"
  },
  "language_info": {
   "codemirror_mode": {
    "name": "ipython",
    "version": 3
   },
   "file_extension": ".py",
   "mimetype": "text/x-python",
   "name": "python",
   "nbconvert_exporter": "python",
   "pygments_lexer": "ipython3",
   "version": "3.8.10"
  },
  "widgets": {
   "application/vnd.jupyter.widget-state+json": {
    "state": {},
    "version_major": 2,
    "version_minor": 0
   }
  }
 },
 "nbformat": 4,
 "nbformat_minor": 4
}
