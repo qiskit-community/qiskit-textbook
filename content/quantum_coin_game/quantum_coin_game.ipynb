{
 "cells": [
  {
   "cell_type": "markdown",
   "metadata": {
    "id": "D5Zxkmb_FKWG"
   },
   "source": [
    "# **Quantum Coin Game**\n",
    "\n",
    "---\n",
    "\n"
   ]
  },
  {
   "cell_type": "markdown",
   "metadata": {},
   "source": [
    "### **Table of Contents**\n",
    "---\n",
    "\n",
    "1. [Introduction](#introduction)<br>\n",
    "   1.1 [What is Quantum Coin Game](#quantum_definition)<br>\n",
    "   1.2 [Concept](#concept)<br>\n",
    "   1.3 [Idea](#idea)<br>\n",
    "   1.4 [Rules of the Game](#rules)<br>\n",
    "2. [Analogy](#analogy)<br>\n",
    "3. [Approach](#approach)<br>\n",
    "4. [Optimal Strategy](#optimal)<br>\n",
    "   4.1 [Play it with Qiskit](#quantum_play)<br>\n",
    "   4.2 [Measurement](#quantum_measurement)<br>\n",
    "   4.3 [QASM Simulator](#quantum_qasm)<br>\n",
    "   4.4 [Who Wins?](#quantum_wins)<br>\n",
    "   4.5 [Running on Quantum Computer](#real_qc)<br>\n",
    "5. [Conclusion](#conclusion)<br>\n",
    "6. [References](#references)<br>\n",
    "7. [Quick Exercise](#quick_exercise)<br>\n",
    "8. [Version Information](#version_information)"
   ]
  },
  {
   "cell_type": "markdown",
   "metadata": {
    "id": "TJDBzM7PFsQN"
   },
   "source": [
    "### **Introduction** <a id=\"introduction\"></a>\n",
    "\n",
    "---\n",
    "\n",
    "\n",
    "### What is Quantum Coin Game ? <a id=\"quantum_definition\"></a>\n",
    " Quantum Coin Game is one of the fundamental concept of quantum computing, which uses simple implementation of quantum gates or more precisely uses the wierdness of quantum mechanics, to win about 97% of the time, when played against an opponent. Flipping of coin and say heads or tails.\n",
    "\n",
    "### Where the concept came from ? <a id=\"concept\"></a>\n",
    " The concept of Quantum Coin Game came from the idea of classical coin game which can only show heads and tails. But since the game utilizes the concepts of quantum mechanics, it would be interesting to see what could be the outcome of the whole experiment.\n",
    "\n",
    "### What is the main idea of this game ? <a id=\"idea\"></a>\n",
    " The main concept of this game is how the quantum computer uses the power of **QUANTUM SUPERPOSITION**, which tells an object can exists in 2 different states at the same time, to win absolutely everytime. The fact is an quantum computer can do superposition already puts it in a higher chance of winning over the classical flip.\n",
    "\n",
    " **NOTE**: To learn more about quantum superposition, link to \"[Qiskit Textbook](https://qiskit.org/textbook/ch-states/representing-qubit-states.html)\" superposition page.\n",
    "\n",
    "### What are the rules of this game ? <a id=\"rules\"></a>\n",
    " 1. Quantum Computer plays a move but it is not revealed to the Opponent(Human).\n",
    " 2. Opponent(Human) plays a move and it is also not revealed to the Quantum Computer.\n",
    " 3. Finally Quantum Computer plays a move.\n",
    " 4. Results are shown. If its heads, then Quantum Computer wins. Else, Opponent(Human) wins.\n",
    " \n",
    "**NOTE**: \"Playing a move\" refers to \"Flipping the coin\" and we consider the coin as **FAIR COIN**.\n",
    "\n",
    "**NOTE**: Refer to [Sohini's Ted Talk](#conclusion)\n",
    "\n",
    "---\n",
    "\n",
    "\n"
   ]
  },
  {
   "cell_type": "markdown",
   "metadata": {
    "id": "TMsXKAxk6-dt"
   },
   "source": [
    "### **Analogy** <a id=\"analogy\"></a>\n",
    "\n",
    "---\n",
    "\n",
    "Now that we know what is a quantum coin game, what is it based on and most importantly what are the rules of this game, lets convert the concept of this game in quantum computing terminology.\n",
    "\n",
    "* The 'coin' in flipping a coin we referring here is a 'single qubit gate'.\n",
    "$$\n",
    "      |\\psi\\rangle=\\begin{bmatrix}\\alpha \\\\ \\beta\\end{bmatrix}\n",
    "$$\n",
    "\n",
    "  where $\\alpha, \\beta \\in \\mathbb{C}$ and $|\\alpha|^2 + |\\beta|^2 = 1$\n",
    "\n",
    "\n",
    "* \"Flipping\" the coin is application of the bit-flip operator\n",
    "\n",
    "$$\n",
    "  X = \\begin{bmatrix} 0 & 1 \\\\ 1 & 0 \\end{bmatrix}\n",
    "$$\n",
    "\n",
    "* The \"heads\" state is defined as \n",
    "$$\n",
    "|0\\rangle = \\begin{bmatrix} 1 \\\\ 0 \\end{bmatrix}\n",
    "$$ and \"tails\" as \n",
    "$$\n",
    "|1\\rangle = \\begin{bmatrix} 0 \\\\ 1 \\end{bmatrix}\n",
    "$$\n",
    "\n",
    "* The quantum computer \"plays\" by applying the Hadamard $H$ operator \n",
    "$$\n",
    "H = \\frac{1}{\\sqrt{2}} \\begin{bmatrix}  1 & 1 \\\\ 1 & -1 \\end{bmatrix}\n",
    "$$\n"
   ]
  },
  {
   "cell_type": "markdown",
   "metadata": {
    "id": "PdPizFWxBr5m"
   },
   "source": [
    "### **Approach** <a id=\"approach\"></a>\n",
    "\n",
    "---\n",
    "Lets see how to approach the game in quantum computing terminology-\n",
    "\n",
    "* The coin is initialized to the $|0\\rangle$ \"heads\" state.\n",
    "\n",
    "* The computer plays, applying the Hadamard $H$ operator to the coin (operators are applied using matrix multiplication). \n",
    "$$\n",
    "H|0\\rangle = \\frac{1}{\\sqrt2}(|0\\rangle + |1\\rangle)\n",
    "$$\n",
    "The coin enters the \n",
    "$$\n",
    "H|0\\rangle = |+\\rangle = \\frac{1}{\\sqrt{2}} \\begin{bmatrix}  1 \\\\ 1 \\end{bmatrix}\n",
    "$$\n",
    "state.\n",
    "\n",
    "\n",
    "* The human plays, choosing whether to flip the coin (apply the $X$ operator) or do nothing (apply the $I$ operator). However, since the $X$ operator just flips the state vector upside down, $X$ has no effect. Same goes for $I$.\n",
    "$$\n",
    "X|+\\rangle=|+\\rangle \n",
    "$$\n",
    "$$\n",
    "I|+\\rangle=|+\\rangle \n",
    "$$\n",
    "No matter what, the state is $|+\\rangle$ after the human plays.\n",
    "\n",
    "* The computer plays, applying the Hadamard $H$ operator again, taking the coin to the $|0⟩$ \"heads\" state.\n",
    "$$\n",
    "H|+\\rangle = |0\\rangle\n",
    "$$"
   ]
  },
  {
   "cell_type": "code",
   "execution_count": 124,
   "metadata": {
    "collapsed": true,
    "jupyter": {
     "outputs_hidden": true
    },
    "tags": []
   },
   "outputs": [
    {
     "name": "stdout",
     "output_type": "stream",
     "text": [
      "Requirement already satisfied: ipywidgets in /opt/conda/lib/python3.8/site-packages (7.6.4)\n",
      "Requirement already satisfied: ipython>=4.0.0 in /opt/conda/lib/python3.8/site-packages (from ipywidgets) (7.27.0)\n",
      "Requirement already satisfied: ipykernel>=4.5.1 in /opt/conda/lib/python3.8/site-packages (from ipywidgets) (5.5.5)\n",
      "Requirement already satisfied: ipython-genutils~=0.2.0 in /opt/conda/lib/python3.8/site-packages (from ipywidgets) (0.2.0)\n",
      "Requirement already satisfied: jupyterlab-widgets>=1.0.0 in /opt/conda/lib/python3.8/site-packages (from ipywidgets) (1.0.1)\n",
      "Requirement already satisfied: widgetsnbextension~=3.5.0 in /opt/conda/lib/python3.8/site-packages (from ipywidgets) (3.5.1)\n",
      "Requirement already satisfied: nbformat>=4.2.0 in /opt/conda/lib/python3.8/site-packages (from ipywidgets) (5.1.3)\n",
      "Requirement already satisfied: traitlets>=4.3.1 in /opt/conda/lib/python3.8/site-packages (from ipywidgets) (5.1.0)\n",
      "Requirement already satisfied: tornado>=4.2 in /opt/conda/lib/python3.8/site-packages (from ipykernel>=4.5.1->ipywidgets) (6.1)\n",
      "Requirement already satisfied: jupyter-client in /opt/conda/lib/python3.8/site-packages (from ipykernel>=4.5.1->ipywidgets) (6.1.12)\n",
      "Requirement already satisfied: matplotlib-inline in /opt/conda/lib/python3.8/site-packages (from ipython>=4.0.0->ipywidgets) (0.1.3)\n",
      "Requirement already satisfied: prompt-toolkit!=3.0.0,!=3.0.1,<3.1.0,>=2.0.0 in /opt/conda/lib/python3.8/site-packages (from ipython>=4.0.0->ipywidgets) (3.0.20)\n",
      "Requirement already satisfied: pickleshare in /opt/conda/lib/python3.8/site-packages (from ipython>=4.0.0->ipywidgets) (0.7.5)\n",
      "Requirement already satisfied: decorator in /opt/conda/lib/python3.8/site-packages (from ipython>=4.0.0->ipywidgets) (4.4.2)\n",
      "Requirement already satisfied: pygments in /opt/conda/lib/python3.8/site-packages (from ipython>=4.0.0->ipywidgets) (2.10.0)\n",
      "Requirement already satisfied: pexpect>4.3 in /opt/conda/lib/python3.8/site-packages (from ipython>=4.0.0->ipywidgets) (4.8.0)\n",
      "Requirement already satisfied: jedi>=0.16 in /opt/conda/lib/python3.8/site-packages (from ipython>=4.0.0->ipywidgets) (0.18.0)\n",
      "Requirement already satisfied: backcall in /opt/conda/lib/python3.8/site-packages (from ipython>=4.0.0->ipywidgets) (0.2.0)\n",
      "Requirement already satisfied: setuptools>=18.5 in /opt/conda/lib/python3.8/site-packages (from ipython>=4.0.0->ipywidgets) (58.0.4)\n",
      "Requirement already satisfied: parso<0.9.0,>=0.8.0 in /opt/conda/lib/python3.8/site-packages (from jedi>=0.16->ipython>=4.0.0->ipywidgets) (0.8.2)\n",
      "Requirement already satisfied: jupyter-core in /opt/conda/lib/python3.8/site-packages (from nbformat>=4.2.0->ipywidgets) (4.7.1)\n",
      "Requirement already satisfied: jsonschema!=2.5.0,>=2.4 in /opt/conda/lib/python3.8/site-packages (from nbformat>=4.2.0->ipywidgets) (3.2.0)\n",
      "Requirement already satisfied: pyrsistent>=0.14.0 in /opt/conda/lib/python3.8/site-packages (from jsonschema!=2.5.0,>=2.4->nbformat>=4.2.0->ipywidgets) (0.18.0)\n",
      "Requirement already satisfied: six>=1.11.0 in /opt/conda/lib/python3.8/site-packages (from jsonschema!=2.5.0,>=2.4->nbformat>=4.2.0->ipywidgets) (1.16.0)\n",
      "Requirement already satisfied: attrs>=17.4.0 in /opt/conda/lib/python3.8/site-packages (from jsonschema!=2.5.0,>=2.4->nbformat>=4.2.0->ipywidgets) (21.2.0)\n",
      "Requirement already satisfied: ptyprocess>=0.5 in /opt/conda/lib/python3.8/site-packages (from pexpect>4.3->ipython>=4.0.0->ipywidgets) (0.7.0)\n",
      "Requirement already satisfied: wcwidth in /opt/conda/lib/python3.8/site-packages (from prompt-toolkit!=3.0.0,!=3.0.1,<3.1.0,>=2.0.0->ipython>=4.0.0->ipywidgets) (0.2.5)\n",
      "Requirement already satisfied: notebook>=4.4.1 in /opt/conda/lib/python3.8/site-packages (from widgetsnbextension~=3.5.0->ipywidgets) (6.4.3)\n",
      "Requirement already satisfied: prometheus-client in /opt/conda/lib/python3.8/site-packages (from notebook>=4.4.1->widgetsnbextension~=3.5.0->ipywidgets) (0.11.0)\n",
      "Requirement already satisfied: jinja2 in /opt/conda/lib/python3.8/site-packages (from notebook>=4.4.1->widgetsnbextension~=3.5.0->ipywidgets) (3.0.1)\n",
      "Requirement already satisfied: argon2-cffi in /opt/conda/lib/python3.8/site-packages (from notebook>=4.4.1->widgetsnbextension~=3.5.0->ipywidgets) (21.1.0)\n",
      "Requirement already satisfied: pyzmq>=17 in /opt/conda/lib/python3.8/site-packages (from notebook>=4.4.1->widgetsnbextension~=3.5.0->ipywidgets) (22.2.1)\n",
      "Requirement already satisfied: Send2Trash>=1.5.0 in /opt/conda/lib/python3.8/site-packages (from notebook>=4.4.1->widgetsnbextension~=3.5.0->ipywidgets) (1.8.0)\n",
      "Requirement already satisfied: nbconvert in /opt/conda/lib/python3.8/site-packages (from notebook>=4.4.1->widgetsnbextension~=3.5.0->ipywidgets) (5.6.1)\n",
      "Requirement already satisfied: terminado>=0.8.3 in /opt/conda/lib/python3.8/site-packages (from notebook>=4.4.1->widgetsnbextension~=3.5.0->ipywidgets) (0.12.1)\n",
      "Requirement already satisfied: python-dateutil>=2.1 in /opt/conda/lib/python3.8/site-packages (from jupyter-client->ipykernel>=4.5.1->ipywidgets) (2.8.2)\n",
      "Requirement already satisfied: cffi>=1.0.0 in /opt/conda/lib/python3.8/site-packages (from argon2-cffi->notebook>=4.4.1->widgetsnbextension~=3.5.0->ipywidgets) (1.14.6)\n",
      "Requirement already satisfied: pycparser in /opt/conda/lib/python3.8/site-packages (from cffi>=1.0.0->argon2-cffi->notebook>=4.4.1->widgetsnbextension~=3.5.0->ipywidgets) (2.20)\n",
      "Requirement already satisfied: MarkupSafe>=2.0 in /opt/conda/lib/python3.8/site-packages (from jinja2->notebook>=4.4.1->widgetsnbextension~=3.5.0->ipywidgets) (2.0.1)\n",
      "Requirement already satisfied: testpath in /opt/conda/lib/python3.8/site-packages (from nbconvert->notebook>=4.4.1->widgetsnbextension~=3.5.0->ipywidgets) (0.5.0)\n",
      "Requirement already satisfied: mistune<2,>=0.8.1 in /opt/conda/lib/python3.8/site-packages (from nbconvert->notebook>=4.4.1->widgetsnbextension~=3.5.0->ipywidgets) (0.8.4)\n",
      "Requirement already satisfied: bleach in /opt/conda/lib/python3.8/site-packages (from nbconvert->notebook>=4.4.1->widgetsnbextension~=3.5.0->ipywidgets) (4.1.0)\n",
      "Requirement already satisfied: pandocfilters>=1.4.1 in /opt/conda/lib/python3.8/site-packages (from nbconvert->notebook>=4.4.1->widgetsnbextension~=3.5.0->ipywidgets) (1.4.3)\n",
      "Requirement already satisfied: defusedxml in /opt/conda/lib/python3.8/site-packages (from nbconvert->notebook>=4.4.1->widgetsnbextension~=3.5.0->ipywidgets) (0.7.1)\n",
      "Requirement already satisfied: entrypoints>=0.2.2 in /opt/conda/lib/python3.8/site-packages (from nbconvert->notebook>=4.4.1->widgetsnbextension~=3.5.0->ipywidgets) (0.3)\n",
      "Requirement already satisfied: webencodings in /opt/conda/lib/python3.8/site-packages (from bleach->nbconvert->notebook>=4.4.1->widgetsnbextension~=3.5.0->ipywidgets) (0.5.1)\n",
      "Requirement already satisfied: packaging in /opt/conda/lib/python3.8/site-packages (from bleach->nbconvert->notebook>=4.4.1->widgetsnbextension~=3.5.0->ipywidgets) (21.0)\n",
      "Requirement already satisfied: pyparsing>=2.0.2 in /opt/conda/lib/python3.8/site-packages (from packaging->bleach->nbconvert->notebook>=4.4.1->widgetsnbextension~=3.5.0->ipywidgets) (2.4.7)\n",
      "Note: you may need to restart the kernel to use updated packages.\n"
     ]
    }
   ],
   "source": [
    "pip install ipywidgets"
   ]
  },
  {
   "cell_type": "code",
   "execution_count": 107,
   "metadata": {
    "id": "mEDO89d8L1pG"
   },
   "outputs": [],
   "source": [
    "# Importing all the necessary library\n",
    "\n",
    "import random\n",
    "from qiskit import QuantumCircuit, transpile, Aer, IBMQ, QuantumRegister, ClassicalRegister, assemble, execute\n",
    "from qiskit.tools.jupyter import *\n",
    "from qiskit.visualization import *\n",
    "from qiskit.providers.aer import QasmSimulator\n",
    "import qiskit.tools.jupyter\n",
    "from qiskit_textbook.widgets import plot_bloch_vector_spherical\n",
    "from qiskit.visualization import plot_bloch_vector\n",
    "from qiskit.visualization import plot_state_qsphere\n",
    "import ipywidgets as widgets"
   ]
  },
  {
   "cell_type": "code",
   "execution_count": 108,
   "metadata": {},
   "outputs": [],
   "source": [
    "# Building the initial circuit\n",
    "\n",
    "def initial_circuit():\n",
    "    circuit = QuantumRegister(1, 'circuit')\n",
    "    measure = ClassicalRegister(1, 'result')\n",
    "    qc = QuantumCircuit(circuit, measure)\n",
    "    qc.draw('mpl')\n",
    "    return qc, circuit, measure"
   ]
  },
  {
   "cell_type": "code",
   "execution_count": 109,
   "metadata": {},
   "outputs": [],
   "source": [
    "# Widget Initialization\n",
    "\n",
    "gate = widgets.Dropdown(\n",
    "    options=[('Identity', 'i'), ('Bit Flip', 'x')],\n",
    "    description='Choice: ',\n",
    "    disabled=False,\n",
    ")"
   ]
  },
  {
   "cell_type": "markdown",
   "metadata": {},
   "source": [
    "### **Optimal Strategy** <a id=\"optimal\"></a>"
   ]
  },
  {
   "cell_type": "markdown",
   "metadata": {},
   "source": [
    "Using the above approach the possibility table reduces to-\n",
    "\n",
    "\n",
    "Start State  | Quantum  | Classical  | Quantum  | Result          | Who wins?\n",
    "-------------|----------|------------|----------|-----------------|-----------\n",
    "$|0\\rangle$  | $H$      | $I$        | $H$      | $|0\\rangle$     | Quantum\n",
    "$|0\\rangle$  | $H$      | $X$        | $H$      | $|0\\rangle$     | Quantum\n",
    "\n",
    "Now lets look at the possibilities-\n",
    "\n",
    "\n",
    "1. Quantum Computer Wins ( $|0\\rangle$ ):\n",
    "\n",
    "$$\n",
    "\\frac{2}{2} = 100 \\%\n",
    "$$\n",
    "\n",
    "2. Classical Human Wins ( $|1\\rangle$ ):\n",
    "\n",
    "$$\n",
    "  \\frac{0}{2} = 0 \\%\n",
    "$$\n",
    "\n",
    "3. Either Quantum Computer or Classical Human Wins ( $|0\\rangle + |1\\rangle$ ):\n",
    "\n",
    "$$\n",
    "  \\frac{0}{2} = 0 \\%\n",
    "$$"
   ]
  },
  {
   "cell_type": "markdown",
   "metadata": {},
   "source": [
    "This table shows the quantum computer wins $100\\%$ of the time. But actually it is $~97\\%$, due to certain error."
   ]
  },
  {
   "cell_type": "markdown",
   "metadata": {},
   "source": [
    "### **Lets play this version using Qiskit** <a id=\"quantum_play\"></a>"
   ]
  },
  {
   "cell_type": "markdown",
   "metadata": {},
   "source": [
    "#### Building the initial circuit"
   ]
  },
  {
   "cell_type": "code",
   "execution_count": 110,
   "metadata": {},
   "outputs": [],
   "source": [
    "qc, circuit, measure = initial_circuit()"
   ]
  },
  {
   "cell_type": "markdown",
   "metadata": {},
   "source": [
    "#### **Turn 1. Quantum Computer**"
   ]
  },
  {
   "cell_type": "markdown",
   "metadata": {},
   "source": [
    "Quantum Computer uses Hadamard $H$ on its first turn"
   ]
  },
  {
   "cell_type": "code",
   "execution_count": 111,
   "metadata": {
    "scrolled": true
   },
   "outputs": [
    {
     "data": {
      "image/png": "[encoded data removed]",
      "text/plain": [
       "<Figure size 184.874x144.48 with 1 Axes>"
      ]
     },
     "execution_count": 111,
     "metadata": {},
     "output_type": "execute_result"
    }
   ],
   "source": [
    "# Use H Gate\n",
    "\n",
    "qc.h(circuit[0])\n",
    "qc.draw('mpl')"
   ]
  },
  {
   "cell_type": "markdown",
   "metadata": {},
   "source": [
    "#### **Turn 2. Classical Human**"
   ]
  },
  {
   "cell_type": "code",
   "execution_count": 112,
   "metadata": {},
   "outputs": [
    {
     "data": {
      "application/vnd.jupyter.widget-view+json": {
       "model_id": "19f54f5592184428b1567942d407a700",
       "version_major": 2,
       "version_minor": 0
      },
      "text/plain": [
       "Dropdown(description='Choice: ', options=(('Identity', 'i'), ('Bit Flip', 'x')), value='i')"
      ]
     },
     "metadata": {},
     "output_type": "display_data"
    }
   ],
   "source": [
    "gate"
   ]
  },
  {
   "cell_type": "code",
   "execution_count": 113,
   "metadata": {},
   "outputs": [
    {
     "data": {
      "image/png": "[encoded data removed]",
      "text/plain": [
       "<Figure size 245.074x144.48 with 1 Axes>"
      ]
     },
     "execution_count": 113,
     "metadata": {},
     "output_type": "execute_result"
    }
   ],
   "source": [
    "if gate.value == 'i':\n",
    "    qc.i(circuit[0])\n",
    "if gate.value == 'x':\n",
    "    qc.x(circuit[0])\n",
    "\n",
    "qc.draw('mpl')"
   ]
  },
  {
   "cell_type": "markdown",
   "metadata": {},
   "source": [
    "#### **Turn 3. Quantum Computer**"
   ]
  },
  {
   "cell_type": "markdown",
   "metadata": {},
   "source": [
    "Quantum Computer uses Hadamard $H$ on its first turn"
   ]
  },
  {
   "cell_type": "code",
   "execution_count": 114,
   "metadata": {
    "scrolled": true
   },
   "outputs": [
    {
     "data": {
      "image/png": "[encoded data removed]",
      "text/plain": [
       "<Figure size 305.274x144.48 with 1 Axes>"
      ]
     },
     "execution_count": 114,
     "metadata": {},
     "output_type": "execute_result"
    }
   ],
   "source": [
    "# Used H Gate\n",
    "\n",
    "qc.h(circuit[0])\n",
    "qc.draw('mpl')"
   ]
  },
  {
   "cell_type": "markdown",
   "metadata": {},
   "source": [
    "#### **Measurement** <a id=\"quantum_measurement\"></a>"
   ]
  },
  {
   "cell_type": "code",
   "execution_count": 115,
   "metadata": {},
   "outputs": [
    {
     "data": {
      "image/png": "[encoded data removed]",
      "text/plain": [
       "<Figure size 365.474x144.48 with 1 Axes>"
      ]
     },
     "execution_count": 115,
     "metadata": {},
     "output_type": "execute_result"
    }
   ],
   "source": [
    "qc.measure(circuit, measure)\n",
    "qc.draw('mpl')"
   ]
  },
  {
   "cell_type": "markdown",
   "metadata": {},
   "source": [
    "#### **QASM_Simulator** <a id=\"quantum_qasm\"></a>"
   ]
  },
  {
   "cell_type": "code",
   "execution_count": 116,
   "metadata": {},
   "outputs": [
    {
     "name": "stdout",
     "output_type": "stream",
     "text": [
      "{'0': 8192}\n"
     ]
    },
    {
     "data": {
      "image/png": "[encoded data removed]",
      "text/plain": [
       "<Figure size 504x360 with 1 Axes>"
      ]
     },
     "execution_count": 116,
     "metadata": {},
     "output_type": "execute_result"
    }
   ],
   "source": [
    "backend = Aer.get_backend('qasm_simulator')\n",
    "job = execute(qc, backend, shots=8192)\n",
    "res = job.result().get_counts()\n",
    "print(res)\n",
    "plot_histogram(res)"
   ]
  },
  {
   "cell_type": "markdown",
   "metadata": {
    "tags": []
   },
   "source": [
    "#### **Lets see who wins** <a id=\"quantum_wins\"></a>"
   ]
  },
  {
   "cell_type": "code",
   "execution_count": 120,
   "metadata": {},
   "outputs": [
    {
     "name": "stdout",
     "output_type": "stream",
     "text": [
      "Quantum Computer Wins\n"
     ]
    }
   ],
   "source": [
    "if len(res_count) == 1 and list(res_count.keys())[0] == '0':\n",
    "    print(\"Quantum Computer Wins\")\n",
    "if len(res_count) == 1 and list(res_count.keys())[0] == '1':\n",
    "    print(\"Classical Human Wins\")\n",
    "if len(res_count) == 2:\n",
    "    print(\"Either Quantum Computer or Classical Human Wins\")"
   ]
  },
  {
   "cell_type": "markdown",
   "metadata": {
    "tags": []
   },
   "source": [
    "#### **Running on Quantum Computer** <a id=\"real_qc\"></a>"
   ]
  },
  {
   "cell_type": "code",
   "execution_count": 117,
   "metadata": {},
   "outputs": [
    {
     "name": "stderr",
     "output_type": "stream",
     "text": [
      "ibmqfactory.load_account:WARNING:2021-09-16 13:31:36,416: Credentials are already in use. The existing account in the session will be replaced.\n"
     ]
    }
   ],
   "source": [
    "provider = IBMQ.load_account()"
   ]
  },
  {
   "cell_type": "code",
   "execution_count": 119,
   "metadata": {},
   "outputs": [
    {
     "name": "stdout",
     "output_type": "stream",
     "text": [
      "{'0': 7498, '1': 694}\n"
     ]
    },
    {
     "data": {
      "image/png": "[encoded data removed]",
      "text/plain": [
       "<Figure size 504x360 with 1 Axes>"
      ]
     },
     "execution_count": 119,
     "metadata": {},
     "output_type": "execute_result"
    }
   ],
   "source": [
    "backend_real = provider.get_backend('ibmq_armonk')\n",
    "job_real = execute(qc, backend_real, shots=8192)\n",
    "res_real = job_real.result().get_counts()\n",
    "print(res_real)\n",
    "plot_histogram(res_real)"
   ]
  },
  {
   "cell_type": "markdown",
   "metadata": {},
   "source": [
    "#### **Quantum Computer Wins all the time.**"
   ]
  },
  {
   "cell_type": "markdown",
   "metadata": {},
   "source": [
    "---"
   ]
  },
  {
   "cell_type": "markdown",
   "metadata": {},
   "source": [
    "### **Conclusion** <a id=\"conclusion\"></a>"
   ]
  },
  {
   "cell_type": "markdown",
   "metadata": {},
   "source": [
    "This simple and yet fun little game shows the basic quantum states $|0\\rangle$, $|1\\rangle$, $|+\\rangle$ and $|−\\rangle$, plus the common ways of moving between them with the $X$, $H$, $I$, $Z$ gates. "
   ]
  },
  {
   "cell_type": "markdown",
   "metadata": {},
   "source": [
    "### **References** <a id=\"references\"></a>"
   ]
  },
  {
   "cell_type": "markdown",
   "metadata": {},
   "source": [
    "This notebook is inspired from:\n",
    "\n",
    " * [1]. [Ted talk by Sohini Ghosh](https://www.ted.com/talks/shohini_ghose_a_beginner_s_guide_to_quantum_computing#t-208006). \n",
    "\n",
    " * [2]. Quantum Coin Flipping from [Wikipedia](https://en.wikipedia.org/wiki/Quantum_coin_flipping)"
   ]
  },
  {
   "cell_type": "markdown",
   "metadata": {},
   "source": [
    "#### **Quick Exercise** <a id=\"quick_exercise\"></a>"
   ]
  },
  {
   "cell_type": "markdown",
   "metadata": {},
   "source": [
    "The rules of the game we learned so far are the main rules of the game.\n",
    "But, think of other variations of the game as well, tweak the game a little could result in significant change in answer. Such as-\n",
    "\n",
    "1. What if, instead of quantum computer taking first turn, the classical human take the first turn ?\n",
    "2. What if, instead of representing head as $|0\\rangle$, the tail is represented as $|0\\rangle$ ?\n",
    "3. What if, instead of using fair coin, we used unfair coin ?\n",
    "4. What if, instead of playing against a classical human, the quantum computer plays with another quantum computer ?\n",
    "5. What if, instead of having 3 turns, there are $n$ number of turns ?\n",
    "6. What if, instead of using all gates, restrict the use of some gates ?\n",
    "\n",
    "and many more variations are possible."
   ]
  },
  {
   "cell_type": "markdown",
   "metadata": {},
   "source": [
    "### **Version Information** <a id=\"version_information\"></a>"
   ]
  },
  {
   "cell_type": "code",
   "execution_count": 121,
   "metadata": {},
   "outputs": [
    {
     "name": "stderr",
     "output_type": "stream",
     "text": [
      "/opt/conda/lib/python3.8/site-packages/qiskit/aqua/__init__.py:86: DeprecationWarning: The package qiskit.aqua is deprecated. It was moved/refactored to qiskit-terra For more information see <https://github.com/Qiskit/qiskit-aqua/blob/main/README.md#migration-guide>\n",
      "  warn_package('aqua', 'qiskit-terra')\n"
     ]
    },
    {
     "data": {
      "text/html": [
       "<h3>Version Information</h3><table><tr><th>Qiskit Software</th><th>Version</th></tr><tr><td><code>qiskit-terra</code></td><td>0.18.1</td></tr><tr><td><code>qiskit-aer</code></td><td>0.8.2</td></tr><tr><td><code>qiskit-ignis</code></td><td>0.6.0</td></tr><tr><td><code>qiskit-ibmq-provider</code></td><td>0.16.0</td></tr><tr><td><code>qiskit-aqua</code></td><td>0.9.4</td></tr><tr><td><code>qiskit</code></td><td>0.29.0</td></tr><tr><td><code>qiskit-nature</code></td><td>0.1.5</td></tr><tr><td><code>qiskit-finance</code></td><td>0.2.0</td></tr><tr><td><code>qiskit-optimization</code></td><td>0.2.1</td></tr><tr><td><code>qiskit-machine-learning</code></td><td>0.2.0</td></tr><tr><th>System information</th></tr><tr><td>Python</td><td>3.8.10 | packaged by conda-forge | (default, May 11 2021, 07:01:05) \n",
       "[GCC 9.3.0]</td></tr><tr><td>OS</td><td>Linux</td></tr><tr><td>CPUs</td><td>8</td></tr><tr><td>Memory (Gb)</td><td>31.400043487548828</td></tr><tr><td colspan='2'>Thu Sep 16 13:33:31 2021 UTC</td></tr></table>"
      ],
      "text/plain": [
       "<IPython.core.display.HTML object>"
      ]
     },
     "metadata": {},
     "output_type": "display_data"
    }
   ],
   "source": [
    "%qiskit_version_table"
   ]
  }
 ],
 "metadata": {
  "colab": {
   "collapsed_sections": [],
   "name": "Quantum Coin Game.ipynb",
   "provenance": []
  },
  "kernelspec": {
   "display_name": "Qiskit v0.29.0",
   "language": "python",
   "name": "python3"
  },
  "language_info": {
   "codemirror_mode": {
    "name": "ipython",
    "version": 3
   },
   "file_extension": ".py",
   "mimetype": "text/x-python",
   "name": "python",
   "nbconvert_exporter": "python",
   "pygments_lexer": "ipython3",
   "version": "3.8.10"
  },
  "widgets": {
   "application/vnd.jupyter.widget-state+json": {
    "state": {
     "034a6350bcda4882a9b336944494d0dc": {
      "model_module": "@jupyter-widgets/controls",
      "model_module_version": "1.5.0",
      "model_name": "ButtonModel",
      "state": {
       "icon": "close",
       "layout": "IPY_MODEL_281fb8f3b38c4a06a92205e62183cbfb",
       "style": "IPY_MODEL_775338a792484dbab92254dda163e3e8"
      }
     },
     "044483fa72b14b568d43b0858151ceec": {
      "model_module": "@jupyter-widgets/controls",
      "model_module_version": "1.5.0",
      "model_name": "DescriptionStyleModel",
      "state": {
       "description_width": ""
      }
     },
     "097879d8c36d423395a61306315d9be9": {
      "model_module": "@jupyter-widgets/controls",
      "model_module_version": "1.5.0",
      "model_name": "ButtonModel",
      "state": {
       "button_style": "primary",
       "description": "Clear",
       "layout": "IPY_MODEL_e92580206d794896896340907733319d",
       "style": "IPY_MODEL_3cbcfb5d47cf4f25b13c967d5ed49db1"
      }
     },
     "0a57046b70264a9d92c86bf4a3b6cc70": {
      "model_module": "@jupyter-widgets/controls",
      "model_module_version": "1.5.0",
      "model_name": "HBoxModel",
      "state": {
       "children": [
        "IPY_MODEL_034a6350bcda4882a9b336944494d0dc",
        "IPY_MODEL_9f4655c7d5f543db9de3c6a80843e837",
        "IPY_MODEL_b0164a36ecde47ca85fbf65f6d4c90dd",
        "IPY_MODEL_9fdf017c2eb84c55a22f5965d9ce2371",
        "IPY_MODEL_9d72383cd8e04723ab7c35cc6166d269",
        "IPY_MODEL_e32339f01a46439fa62224122fd2e2d0"
       ],
       "layout": "IPY_MODEL_d45cf42f24384f0d9042559398468211"
      }
     },
     "0b582b015613422ba8d9001d29ba2790": {
      "model_module": "@jupyter-widgets/base",
      "model_module_version": "1.2.0",
      "model_name": "LayoutModel",
      "state": {
       "width": "95px"
      }
     },
     "0c0377eafb3e4e0a87b4a0880060f5be": {
      "model_module": "@jupyter-widgets/controls",
      "model_module_version": "1.5.0",
      "model_name": "DescriptionStyleModel",
      "state": {
       "description_width": ""
      }
     },
     "0c827dd4d6fb45daa9616c7ad0c85e17": {
      "model_module": "@jupyter-widgets/base",
      "model_module_version": "1.2.0",
      "model_name": "LayoutModel",
      "state": {}
     },
     "103364d400374e058275df053c90b3a7": {
      "model_module": "@jupyter-widgets/base",
      "model_module_version": "1.2.0",
      "model_name": "LayoutModel",
      "state": {}
     },
     "195efa5df9f04f928a200c572de0bd6c": {
      "model_module": "@jupyter-widgets/controls",
      "model_module_version": "1.5.0",
      "model_name": "DescriptionStyleModel",
      "state": {
       "description_width": ""
      }
     },
     "19f54f5592184428b1567942d407a700": {
      "model_module": "@jupyter-widgets/controls",
      "model_module_version": "1.5.0",
      "model_name": "DropdownModel",
      "state": {
       "_options_labels": [
        "Identity",
        "Bit Flip"
       ],
       "description": "Choice: ",
       "index": 0,
       "layout": "IPY_MODEL_103364d400374e058275df053c90b3a7",
       "style": "IPY_MODEL_aee96f28f97f46a1b5fddf2343e69ec9"
      }
     },
     "1c7a3c2d6bfd45c797457c74dbecb41a": {
      "model_module": "@jupyter-widgets/controls",
      "model_module_version": "1.5.0",
      "model_name": "DescriptionStyleModel",
      "state": {
       "description_width": ""
      }
     },
     "2311b32f9c2b4464bcd72635c60ff186": {
      "model_module": "@jupyter-widgets/base",
      "model_module_version": "1.2.0",
      "model_name": "LayoutModel",
      "state": {
       "margin": "0px 0px 0px 37px",
       "width": "600px"
      }
     },
     "27e3531fb2724720808b904475e7c716": {
      "model_module": "@jupyter-widgets/base",
      "model_module_version": "1.2.0",
      "model_name": "LayoutModel",
      "state": {
       "width": "145px"
      }
     },
     "281fb8f3b38c4a06a92205e62183cbfb": {
      "model_module": "@jupyter-widgets/base",
      "model_module_version": "1.2.0",
      "model_name": "LayoutModel",
      "state": {
       "margin": "0px 5px 0px 0px",
       "width": "32px"
      }
     },
     "29624a9d04874fd6a3f960cb8571de30": {
      "model_module": "@jupyter-widgets/base",
      "model_module_version": "1.2.0",
      "model_name": "LayoutModel",
      "state": {
       "width": "145px"
      }
     },
     "2cca54e7b0cb4e79ac38d1a13749d598": {
      "model_module": "@jupyter-widgets/base",
      "model_module_version": "1.2.0",
      "model_name": "LayoutModel",
      "state": {}
     },
     "2e12a7b07e774e43a6ae5641b9e2652c": {
      "model_module": "@jupyter-widgets/base",
      "model_module_version": "1.2.0",
      "model_name": "LayoutModel",
      "state": {
       "margin": "0px 0px 10px 0px"
      }
     },
     "30d639cfb97a489f8000d581ee530313": {
      "model_module": "@jupyter-widgets/base",
      "model_module_version": "1.2.0",
      "model_name": "LayoutModel",
      "state": {}
     },
     "31621d1af58045f49a9d5c5417281037": {
      "model_module": "@jupyter-widgets/controls",
      "model_module_version": "1.5.0",
      "model_name": "HBoxModel",
      "state": {
       "children": [
        "IPY_MODEL_8fa70cd39e9a4cada2d55770c0406990",
        "IPY_MODEL_5bd31bc0c5f14d2d84883e844763ff99",
        "IPY_MODEL_5e8e6ea969c24112befd9982abcb9f7d",
        "IPY_MODEL_bcd2f464eb1b42dfb5fde852b2bcc9b1",
        "IPY_MODEL_c7740ffc8de440009b2a54b1cc875094"
       ],
       "layout": "IPY_MODEL_2311b32f9c2b4464bcd72635c60ff186"
      }
     },
     "329f2e1e40f2479eb33a5a7704f32300": {
      "model_module": "@jupyter-widgets/base",
      "model_module_version": "1.2.0",
      "model_name": "LayoutModel",
      "state": {}
     },
     "358a938466954ce29496b7208a6c8f1e": {
      "model_module": "@jupyter-widgets/controls",
      "model_module_version": "1.5.0",
      "model_name": "DropdownModel",
      "state": {
       "_options_labels": [
        "1",
        "2",
        "3"
       ],
       "description": "Number:",
       "index": 0,
       "layout": "IPY_MODEL_c6df81483e304551b159c71084168db4",
       "style": "IPY_MODEL_707c8fdcdaf0488ea8e84dafa2f07fb0"
      }
     },
     "3cbcfb5d47cf4f25b13c967d5ed49db1": {
      "model_module": "@jupyter-widgets/controls",
      "model_module_version": "1.5.0",
      "model_name": "ButtonStyleModel",
      "state": {}
     },
     "3ddc1b3391094d3f87152fe0b2258df1": {
      "model_module": "@jupyter-widgets/controls",
      "model_module_version": "1.5.0",
      "model_name": "DescriptionStyleModel",
      "state": {
       "description_width": ""
      }
     },
     "4341f2ba3fbd40799b7dd24f73daed86": {
      "model_module": "@jupyter-widgets/controls",
      "model_module_version": "1.5.0",
      "model_name": "DropdownModel",
      "state": {
       "_options_labels": [
        "Identity",
        "Bit Flip"
       ],
       "description": "Pick your choice:",
       "index": 0,
       "layout": "IPY_MODEL_0c827dd4d6fb45daa9616c7ad0c85e17",
       "style": "IPY_MODEL_ae9e53577ce4470986227e2227a11497"
      }
     },
     "44295d6f19394f789e8ad4f9185fc8be": {
      "model_module": "@jupyter-widgets/base",
      "model_module_version": "1.2.0",
      "model_name": "LayoutModel",
      "state": {}
     },
     "451ce556e090427bad68bd05a6dd6657": {
      "model_module": "@jupyter-widgets/base",
      "model_module_version": "1.2.0",
      "model_name": "LayoutModel",
      "state": {}
     },
     "458e9f7ae8984223b918035603dabefb": {
      "model_module": "@jupyter-widgets/controls",
      "model_module_version": "1.5.0",
      "model_name": "HTMLModel",
      "state": {
       "layout": "IPY_MODEL_2e12a7b07e774e43a6ae5641b9e2652c",
       "style": "IPY_MODEL_f105c6d47dfb441ea1c5a6939172518e",
       "value": "<p style='font-family: IBM Plex Sans, Arial, Helvetica, sans-serif; font-size: 20px; font-weight: medium;'>Circuit Properties</p>"
      }
     },
     "47aafd15f210401e9537afb32554dc64": {
      "model_module": "@jupyter-widgets/controls",
      "model_module_version": "1.5.0",
      "model_name": "DropdownModel",
      "state": {
       "_options_labels": [
        "Identity",
        "Bit Flip"
       ],
       "description": "Choice: ",
       "index": 0,
       "layout": "IPY_MODEL_c2ba0786c5e74268a4da80897afe8a4a",
       "style": "IPY_MODEL_5abb65eab3324eeeb2a5907ff2f00f6f"
      }
     },
     "4b7b1aae649545fe8d88d44108efd33b": {
      "model_module": "@jupyter-widgets/controls",
      "model_module_version": "1.5.0",
      "model_name": "DescriptionStyleModel",
      "state": {
       "description_width": ""
      }
     },
     "4d21e474d66a4568a4cfd38060dfb179": {
      "model_module": "@jupyter-widgets/controls",
      "model_module_version": "1.5.0",
      "model_name": "DescriptionStyleModel",
      "state": {
       "description_width": ""
      }
     },
     "4d43da2152524baeafe5b6341cbbda08": {
      "model_module": "@jupyter-widgets/base",
      "model_module_version": "1.2.0",
      "model_name": "LayoutModel",
      "state": {}
     },
     "5438a46438464af29faaecaa6087d17c": {
      "model_module": "@jupyter-widgets/controls",
      "model_module_version": "1.5.0",
      "model_name": "DescriptionStyleModel",
      "state": {
       "description_width": ""
      }
     },
     "58f9bd7aff2c4cf4826db057319d3d1b": {
      "model_module": "@jupyter-widgets/base",
      "model_module_version": "1.2.0",
      "model_name": "LayoutModel",
      "state": {}
     },
     "5abb65eab3324eeeb2a5907ff2f00f6f": {
      "model_module": "@jupyter-widgets/controls",
      "model_module_version": "1.5.0",
      "model_name": "DescriptionStyleModel",
      "state": {
       "description_width": ""
      }
     },
     "5bd31bc0c5f14d2d84883e844763ff99": {
      "model_module": "@jupyter-widgets/controls",
      "model_module_version": "1.5.0",
      "model_name": "HTMLModel",
      "state": {
       "layout": "IPY_MODEL_29624a9d04874fd6a3f960cb8571de30",
       "style": "IPY_MODEL_5c7ed86af8f341e2803e399dc77ce928",
       "value": "<h5>Backend</h5>"
      }
     },
     "5c7ed86af8f341e2803e399dc77ce928": {
      "model_module": "@jupyter-widgets/controls",
      "model_module_version": "1.5.0",
      "model_name": "DescriptionStyleModel",
      "state": {
       "description_width": ""
      }
     },
     "5e8e6ea969c24112befd9982abcb9f7d": {
      "model_module": "@jupyter-widgets/controls",
      "model_module_version": "1.5.0",
      "model_name": "HTMLModel",
      "state": {
       "layout": "IPY_MODEL_8e9f2476b32f4e80a155a2efc1c77ac3",
       "style": "IPY_MODEL_e728ae4494a0436b9010210a30471e7b",
       "value": "<h5>Status</h5>"
      }
     },
     "679b6b7f52f1487fbd0e5cf349336a9d": {
      "model_module": "@jupyter-widgets/base",
      "model_module_version": "1.2.0",
      "model_name": "LayoutModel",
      "state": {
       "grid_template_areas": "\n                                       \". . . . right \"\n                                        ",
       "grid_template_columns": "20% 20% 20% 20% 20%",
       "width": "100%"
      }
     },
     "6afa5356fbf74eafb7acdbcffe827b1e": {
      "model_module": "@jupyter-widgets/controls",
      "model_module_version": "1.5.0",
      "model_name": "DropdownModel",
      "state": {
       "_options_labels": [
        "Identity",
        "Bit Flip"
       ],
       "description": "Choice: ",
       "index": 1,
       "layout": "IPY_MODEL_58f9bd7aff2c4cf4826db057319d3d1b",
       "style": "IPY_MODEL_ef8f1c49378c4c57b70597a6b9376e9f"
      }
     },
     "6f267af06d6b4d0ca3bed318d6d710cf": {
      "model_module": "@jupyter-widgets/controls",
      "model_module_version": "1.5.0",
      "model_name": "DropdownModel",
      "state": {
       "_options_labels": [
        "Identity",
        "Bit Flip"
       ],
       "description": "Choice: ",
       "index": 0,
       "layout": "IPY_MODEL_b440dc8e1b7f4e3ca487021feff2812e",
       "style": "IPY_MODEL_0c0377eafb3e4e0a87b4a0880060f5be"
      }
     },
     "707c8fdcdaf0488ea8e84dafa2f07fb0": {
      "model_module": "@jupyter-widgets/controls",
      "model_module_version": "1.5.0",
      "model_name": "DescriptionStyleModel",
      "state": {
       "description_width": ""
      }
     },
     "7091ef26664146ca8c48a7574edec34a": {
      "model_module": "@jupyter-widgets/base",
      "model_module_version": "1.2.0",
      "model_name": "LayoutModel",
      "state": {}
     },
     "7379e98dce524f40a47ab6a9d30ae5d5": {
      "model_module": "@jupyter-widgets/base",
      "model_module_version": "1.2.0",
      "model_name": "LayoutModel",
      "state": {
       "width": "70px"
      }
     },
     "75ce166780ce4807988b0a4d6b98bf0c": {
      "model_module": "@jupyter-widgets/base",
      "model_module_version": "1.2.0",
      "model_name": "LayoutModel",
      "state": {}
     },
     "775338a792484dbab92254dda163e3e8": {
      "model_module": "@jupyter-widgets/controls",
      "model_module_version": "1.5.0",
      "model_name": "ButtonStyleModel",
      "state": {
       "button_color": "white"
      }
     },
     "7bf147403573408a98417f9f8ff91a04": {
      "model_module": "@jupyter-widgets/controls",
      "model_module_version": "1.5.0",
      "model_name": "DescriptionStyleModel",
      "state": {
       "description_width": ""
      }
     },
     "7d0cf81cc7a342d8bf7be076d9e17ae9": {
      "model_module": "@jupyter-widgets/controls",
      "model_module_version": "1.5.0",
      "model_name": "DescriptionStyleModel",
      "state": {
       "description_width": ""
      }
     },
     "7daf1c1f8f1e4a95bbffd8bc85fe2cf6": {
      "model_module": "@jupyter-widgets/base",
      "model_module_version": "1.2.0",
      "model_name": "LayoutModel",
      "state": {
       "width": "190px"
      }
     },
     "8e9f2476b32f4e80a155a2efc1c77ac3": {
      "model_module": "@jupyter-widgets/base",
      "model_module_version": "1.2.0",
      "model_name": "LayoutModel",
      "state": {
       "width": "95px"
      }
     },
     "8ee0bfc6f61040ec886510c926420ffc": {
      "model_module": "@jupyter-widgets/controls",
      "model_module_version": "1.5.0",
      "model_name": "DropdownModel",
      "state": {
       "_options_labels": [
        "Identity",
        "Bit Flip"
       ],
       "description": "Choice: ",
       "index": 0,
       "layout": "IPY_MODEL_30d639cfb97a489f8000d581ee530313",
       "style": "IPY_MODEL_5438a46438464af29faaecaa6087d17c"
      }
     },
     "8f70ec2d8f834e7fb6557d437df60e69": {
      "model_module": "@jupyter-widgets/controls",
      "model_module_version": "1.5.0",
      "model_name": "DescriptionStyleModel",
      "state": {
       "description_width": ""
      }
     },
     "8fa70cd39e9a4cada2d55770c0406990": {
      "model_module": "@jupyter-widgets/controls",
      "model_module_version": "1.5.0",
      "model_name": "HTMLModel",
      "state": {
       "layout": "IPY_MODEL_7daf1c1f8f1e4a95bbffd8bc85fe2cf6",
       "style": "IPY_MODEL_f4c66939c722477db68ed981fa62546f",
       "value": "<h5>Job ID</h5>"
      }
     },
     "9c4b0a9dd8b5475f9e05126c84df5f84": {
      "model_module": "@jupyter-widgets/controls",
      "model_module_version": "1.5.0",
      "model_name": "DropdownModel",
      "state": {
       "_options_labels": [
        "1",
        "2",
        "3"
       ],
       "description": "Number:",
       "index": 1,
       "layout": "IPY_MODEL_451ce556e090427bad68bd05a6dd6657",
       "style": "IPY_MODEL_4b7b1aae649545fe8d88d44108efd33b"
      }
     },
     "9c5934a0f7694f80b0345eae4520eb34": {
      "model_module": "@jupyter-widgets/controls",
      "model_module_version": "1.5.0",
      "model_name": "DropdownModel",
      "state": {
       "_options_labels": [
        "1",
        "2",
        "3"
       ],
       "description": "Number:",
       "index": 2,
       "layout": "IPY_MODEL_329f2e1e40f2479eb33a5a7704f32300",
       "style": "IPY_MODEL_4d21e474d66a4568a4cfd38060dfb179"
      }
     },
     "9d72383cd8e04723ab7c35cc6166d269": {
      "model_module": "@jupyter-widgets/controls",
      "model_module_version": "1.5.0",
      "model_name": "HTMLModel",
      "state": {
       "layout": "IPY_MODEL_7379e98dce524f40a47ab6a9d30ae5d5",
       "style": "IPY_MODEL_7bf147403573408a98417f9f8ff91a04",
       "value": "-"
      }
     },
     "9df3285be306456a84cbdb360dc8dc9d": {
      "model_module": "@jupyter-widgets/controls",
      "model_module_version": "1.5.0",
      "model_name": "GridBoxModel",
      "state": {
       "children": [
        "IPY_MODEL_097879d8c36d423395a61306315d9be9"
       ],
       "layout": "IPY_MODEL_679b6b7f52f1487fbd0e5cf349336a9d"
      }
     },
     "9f4655c7d5f543db9de3c6a80843e837": {
      "model_module": "@jupyter-widgets/controls",
      "model_module_version": "1.5.0",
      "model_name": "HTMLModel",
      "state": {
       "layout": "IPY_MODEL_fd6df19220fe48938a5cd6f329e8f8f6",
       "style": "IPY_MODEL_1c7a3c2d6bfd45c797457c74dbecb41a",
       "value": "6143473d2be369115958533d"
      }
     },
     "9fdf017c2eb84c55a22f5965d9ce2371": {
      "model_module": "@jupyter-widgets/controls",
      "model_module_version": "1.5.0",
      "model_name": "HTMLModel",
      "state": {
       "layout": "IPY_MODEL_0b582b015613422ba8d9001d29ba2790",
       "style": "IPY_MODEL_044483fa72b14b568d43b0858151ceec",
       "value": "<font style='color:#34BC6E'>DONE</font>"
      }
     },
     "a05815681e0b4e83a9711d7e6b4de39f": {
      "model_module": "@jupyter-widgets/base",
      "model_module_version": "1.2.0",
      "model_name": "LayoutModel",
      "state": {
       "overflow_x": "scroll"
      }
     },
     "a3328d45eb9a49bcb927424eba436232": {
      "model_module": "@jupyter-widgets/controls",
      "model_module_version": "1.5.0",
      "model_name": "DescriptionStyleModel",
      "state": {
       "description_width": ""
      }
     },
     "a6bf756022e14fa6977eb28b63302815": {
      "model_module": "@jupyter-widgets/controls",
      "model_module_version": "1.5.0",
      "model_name": "DropdownModel",
      "state": {
       "_options_labels": [
        "Identity",
        "Bit Flip"
       ],
       "description": "Choice: ",
       "index": 0,
       "layout": "IPY_MODEL_7091ef26664146ca8c48a7574edec34a",
       "style": "IPY_MODEL_7d0cf81cc7a342d8bf7be076d9e17ae9"
      }
     },
     "ae5951dd078f416c92616661af2b4365": {
      "model_module": "@jupyter-widgets/controls",
      "model_module_version": "1.5.0",
      "model_name": "DescriptionStyleModel",
      "state": {
       "description_width": ""
      }
     },
     "ae9e53577ce4470986227e2227a11497": {
      "model_module": "@jupyter-widgets/controls",
      "model_module_version": "1.5.0",
      "model_name": "DescriptionStyleModel",
      "state": {
       "description_width": ""
      }
     },
     "aee96f28f97f46a1b5fddf2343e69ec9": {
      "model_module": "@jupyter-widgets/controls",
      "model_module_version": "1.5.0",
      "model_name": "DescriptionStyleModel",
      "state": {
       "description_width": ""
      }
     },
     "b0164a36ecde47ca85fbf65f6d4c90dd": {
      "model_module": "@jupyter-widgets/controls",
      "model_module_version": "1.5.0",
      "model_name": "HTMLModel",
      "state": {
       "layout": "IPY_MODEL_27e3531fb2724720808b904475e7c716",
       "style": "IPY_MODEL_3ddc1b3391094d3f87152fe0b2258df1",
       "value": "ibmq_armonk"
      }
     },
     "b440dc8e1b7f4e3ca487021feff2812e": {
      "model_module": "@jupyter-widgets/base",
      "model_module_version": "1.2.0",
      "model_name": "LayoutModel",
      "state": {}
     },
     "bcd2f464eb1b42dfb5fde852b2bcc9b1": {
      "model_module": "@jupyter-widgets/controls",
      "model_module_version": "1.5.0",
      "model_name": "HTMLModel",
      "state": {
       "layout": "IPY_MODEL_d96811c1905d41509c3453c70378a44f",
       "style": "IPY_MODEL_195efa5df9f04f928a200c572de0bd6c",
       "value": "<h5>Queue</h5>"
      }
     },
     "bf6c802fe76849bdb66f7c979cb05689": {
      "model_module": "@jupyter-widgets/controls",
      "model_module_version": "1.5.0",
      "model_name": "DropdownModel",
      "state": {
       "_options_labels": [
        "Identity",
        "Bit Flip"
       ],
       "description": "Choice: ",
       "index": 0,
       "layout": "IPY_MODEL_75ce166780ce4807988b0a4d6b98bf0c",
       "style": "IPY_MODEL_8f70ec2d8f834e7fb6557d437df60e69"
      }
     },
     "c2ba0786c5e74268a4da80897afe8a4a": {
      "model_module": "@jupyter-widgets/base",
      "model_module_version": "1.2.0",
      "model_name": "LayoutModel",
      "state": {}
     },
     "c6df81483e304551b159c71084168db4": {
      "model_module": "@jupyter-widgets/base",
      "model_module_version": "1.2.0",
      "model_name": "LayoutModel",
      "state": {}
     },
     "c7740ffc8de440009b2a54b1cc875094": {
      "model_module": "@jupyter-widgets/controls",
      "model_module_version": "1.5.0",
      "model_name": "HTMLModel",
      "state": {
       "layout": "IPY_MODEL_2cca54e7b0cb4e79ac38d1a13749d598",
       "style": "IPY_MODEL_a3328d45eb9a49bcb927424eba436232",
       "value": "<h5>Message</h5>"
      }
     },
     "d45cf42f24384f0d9042559398468211": {
      "model_module": "@jupyter-widgets/base",
      "model_module_version": "1.2.0",
      "model_name": "LayoutModel",
      "state": {
       "max_width": "700px",
       "min_width": "700px"
      }
     },
     "d96811c1905d41509c3453c70378a44f": {
      "model_module": "@jupyter-widgets/base",
      "model_module_version": "1.2.0",
      "model_name": "LayoutModel",
      "state": {
       "width": "70px"
      }
     },
     "e32339f01a46439fa62224122fd2e2d0": {
      "model_module": "@jupyter-widgets/controls",
      "model_module_version": "1.5.0",
      "model_name": "HTMLModel",
      "state": {
       "layout": "IPY_MODEL_a05815681e0b4e83a9711d7e6b4de39f",
       "style": "IPY_MODEL_ae5951dd078f416c92616661af2b4365",
       "value": "job has successfully run"
      }
     },
     "e5d72580bf474763b83db7924e40bf69": {
      "model_module": "@jupyter-widgets/controls",
      "model_module_version": "1.5.0",
      "model_name": "DescriptionStyleModel",
      "state": {
       "description_width": ""
      }
     },
     "e5e460fd37ca4b55b261c5380800e5c7": {
      "model_module": "@jupyter-widgets/controls",
      "model_module_version": "1.5.0",
      "model_name": "DropdownModel",
      "state": {
       "_options_labels": [
        "1",
        "2",
        "3"
       ],
       "description": "Number:",
       "index": 0,
       "layout": "IPY_MODEL_44295d6f19394f789e8ad4f9185fc8be",
       "style": "IPY_MODEL_ee5a9c4fab694c09b6d3db6903be464e"
      }
     },
     "e728ae4494a0436b9010210a30471e7b": {
      "model_module": "@jupyter-widgets/controls",
      "model_module_version": "1.5.0",
      "model_name": "DescriptionStyleModel",
      "state": {
       "description_width": ""
      }
     },
     "e92580206d794896896340907733319d": {
      "model_module": "@jupyter-widgets/base",
      "model_module_version": "1.2.0",
      "model_name": "LayoutModel",
      "state": {
       "grid_area": "right",
       "padding": "0px 0px 0px 0px",
       "width": "70px"
      }
     },
     "ee5a9c4fab694c09b6d3db6903be464e": {
      "model_module": "@jupyter-widgets/controls",
      "model_module_version": "1.5.0",
      "model_name": "DescriptionStyleModel",
      "state": {
       "description_width": ""
      }
     },
     "ef8f1c49378c4c57b70597a6b9376e9f": {
      "model_module": "@jupyter-widgets/controls",
      "model_module_version": "1.5.0",
      "model_name": "DescriptionStyleModel",
      "state": {
       "description_width": ""
      }
     },
     "f105c6d47dfb441ea1c5a6939172518e": {
      "model_module": "@jupyter-widgets/controls",
      "model_module_version": "1.5.0",
      "model_name": "DescriptionStyleModel",
      "state": {
       "description_width": ""
      }
     },
     "f4c66939c722477db68ed981fa62546f": {
      "model_module": "@jupyter-widgets/controls",
      "model_module_version": "1.5.0",
      "model_name": "DescriptionStyleModel",
      "state": {
       "description_width": ""
      }
     },
     "f7cee33efed049f883077ca5f4ba094f": {
      "model_module": "@jupyter-widgets/controls",
      "model_module_version": "1.5.0",
      "model_name": "DropdownModel",
      "state": {
       "_options_labels": [
        "One",
        "Two",
        "Three"
       ],
       "description": "Pick your choice:",
       "index": 0,
       "layout": "IPY_MODEL_4d43da2152524baeafe5b6341cbbda08",
       "style": "IPY_MODEL_e5d72580bf474763b83db7924e40bf69"
      }
     },
     "fd6df19220fe48938a5cd6f329e8f8f6": {
      "model_module": "@jupyter-widgets/base",
      "model_module_version": "1.2.0",
      "model_name": "LayoutModel",
      "state": {
       "width": "190px"
      }
     }
    },
    "version_major": 2,
    "version_minor": 0
   }
  }
 },
 "nbformat": 4,
 "nbformat_minor": 4
}
