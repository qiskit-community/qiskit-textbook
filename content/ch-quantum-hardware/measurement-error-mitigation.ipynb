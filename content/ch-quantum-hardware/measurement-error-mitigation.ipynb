{
 "cells": [
  {
   "cell_type": "markdown",
   "metadata": {
    "tags": [
     "remove_cell"
    ]
   },
   "source": [
    "# Measurement Error Mitigation"
   ]
  },
  {
   "cell_type": "code",
   "execution_count": 1,
   "metadata": {},
   "outputs": [],
   "source": [
    "from qiskit import QuantumCircuit, QuantumRegister, Aer, transpile, assemble"
   ]
  },
  {
   "cell_type": "markdown",
   "metadata": {},
   "source": [
    "### Introduction\n",
    "\n",
    "The effect of noise is to give us outputs that are not quite correct. The effect of noise that occurs throughout a computation will be quite complex in general, as one would have to consider how each gate transforms the effect of each error.\n",
    "\n",
    "A simpler form of noise is that occurring during final measurement. At this point, the only job remaining in the circuit is to extract a bit string as an output. For an $n$ qubit final measurement, this means extracting one of the $2^n$ possible $n$ bit strings. As a simple model of the noise in this process, we can imagine that the measurement first selects one of these outputs in a perfect and noiseless manner, and then noise subsequently causes this perfect output to be randomly perturbed before it is returned to the user.\n",
    "\n",
    "Given this model, it is very easy to determine exactly what the effects of measurement errors are. We can simply prepare each of the $2^n$ possible basis states, immediately measure them, and see what probability exists for each outcome.\n",
    "\n",
    "As an example, we will first create a simple noise model, which randomly flips each bit in an output with probability $p$."
   ]
  },
  {
   "cell_type": "code",
   "execution_count": 2,
   "metadata": {},
   "outputs": [],
   "source": [
    "from qiskit.providers.aer.noise import NoiseModel\n",
    "from qiskit.providers.aer.noise.errors import pauli_error, depolarizing_error\n",
    "\n",
    "def get_noise(p):\n",
    "\n",
    "    error_meas = pauli_error([('X',p), ('I', 1 - p)])\n",
    "\n",
    "    noise_model = NoiseModel()\n",
    "    noise_model.add_all_qubit_quantum_error(error_meas, \"measure\") # measurement error is applied to measurements\n",
    "        \n",
    "    return noise_model"
   ]
  },
  {
   "cell_type": "markdown",
   "metadata": {},
   "source": [
    "Let's start with an instance of this in which each bit is flipped $1\\%$ of the time."
   ]
  },
  {
   "cell_type": "code",
   "execution_count": 3,
   "metadata": {},
   "outputs": [],
   "source": [
    "noise_model = get_noise(0.01)"
   ]
  },
  {
   "cell_type": "markdown",
   "metadata": {},
   "source": [
    "Now we can test out its effects. Specifically, let's define a two qubit circuit and prepare the states $\\left|00\\right\\rangle$, $\\left|01\\right\\rangle$, $\\left|10\\right\\rangle$ and $\\left|11\\right\\rangle$. Without noise, these would lead to the definite outputs `'00'`, `'01'`, `'10'` and `'11'`, respectively. Let's see what happens with noise. Here, and in the rest of this section, the number of samples taken for each circuit will be `shots=10000`."
   ]
  },
  {
   "cell_type": "code",
   "execution_count": 4,
   "metadata": {},
   "outputs": [
    {
     "name": "stdout",
     "output_type": "stream",
     "text": [
      "00 becomes {'00': 9811, '01': 94, '10': 93, '11': 2}\n",
      "01 becomes {'00': 111, '01': 9763, '10': 1, '11': 125}\n",
      "10 becomes {'00': 93, '10': 9809, '11': 98}\n",
      "11 becomes {'01': 107, '10': 108, '11': 9785}\n"
     ]
    }
   ],
   "source": [
    "qasm_sim = Aer.get_backend('qasm_simulator')\n",
    "for state in ['00','01','10','11']:\n",
    "    qc = QuantumCircuit(2,2)\n",
    "    if state[0]=='1':\n",
    "        qc.x(1)\n",
    "    if state[1]=='1':\n",
    "        qc.x(0)  \n",
    "    qc.measure(qc.qregs[0],qc.cregs[0])\n",
    "    t_qc = transpile(qc, qasm_sim)\n",
    "    qobj = assemble(t_qc)\n",
    "    counts = qasm_sim.run(qobj, noise_model=noise_model, shots=10000).result().get_counts()\n",
    "    print(state+' becomes', counts)"
   ]
  },
  {
   "cell_type": "markdown",
   "metadata": {},
   "source": [
    "Here we find that the correct output is certainly the most dominant. Ones that differ on only a single bit (such as `'01'`, `'10'` in the case that the correct output is `'00'` or `'11'`), occur around $1\\%$ of the time. Those that differ on two bits occur only a handful of times in 10000 samples, if at all.\n",
    "\n",
    "So what about if we ran a circuit with this same noise model, and got an result like the following?\n",
    "\n",
    "```\n",
    "{'10': 98, '11': 4884, '01': 111, '00': 4907}\n",
    "```\n",
    "\n",
    "Here `'01'` and `'10'` occur for around $1\\%$ of all samples. We know from our analysis of the basis states that such a result can be expected when these outcomes should in fact never occur, but instead the result should be something that differs from them by only one bit: `'00'` or `'11'`. When we look at the results for those two outcomes, we can see that they occur with roughly equal probability. We can therefore conclude that the initial state was not simply $\\left|00\\right\\rangle$, or $\\left|11\\right\\rangle$, but an equal superposition of the two. If true, this means that the result should have been something along the lines of.\n",
    "\n",
    "```\n",
    "{'11': 4977, '00': 5023}\n",
    "```\n",
    "\n",
    "Here is a circuit that produces results like this (up to statistical fluctuations)."
   ]
  },
  {
   "cell_type": "code",
   "execution_count": 5,
   "metadata": {},
   "outputs": [
    {
     "name": "stdout",
     "output_type": "stream",
     "text": [
      "{'00': 4873, '01': 105, '10': 112, '11': 4910}\n"
     ]
    }
   ],
   "source": [
    "qc = QuantumCircuit(2,2)\n",
    "qc.h(0)\n",
    "qc.cx(0,1)  \n",
    "qc.measure(qc.qregs[0],qc.cregs[0])\n",
    "t_qc = transpile(qc, qasm_sim)\n",
    "qobj = assemble(t_qc)\n",
    "counts = qasm_sim.run(qobj, noise_model=noise_model, shots=10000).result().get_counts()\n",
    "print(counts)"
   ]
  },
  {
   "cell_type": "markdown",
   "metadata": {},
   "source": [
    "In this example we first looked at results for each of the definite basis states, and used these results to mitigate the effects of errors for a more general form of state. This is the basic principle behind measurement error mitigation.\n",
    "\n",
    "### Error mitigation in with linear algebra\n",
    "\n",
    "Now we just need to find a way to perform the mitigation algorithmically rather than manually. We will do this by describing the random process using matrices. For this we need to rewrite our counts dictionaries as column vectors. For example, the dictionary `{'10': 96, '11': 1, '01': 95, '00': 9808}` describing would be rewritten as\n",
    "\n",
    "$$\n",
    "C = \n",
    "\\begin{pmatrix}\n",
    "    9808 \\\\\n",
    "    95 \\\\\n",
    "    96 \\\\\n",
    "    1\n",
    "\\end{pmatrix}.\n",
    "$$\n",
    "\n",
    "Here the first element is that for `'00'`, the next is that for `'01'`, and so on.\n",
    "\n",
    "The information gathered from the basis states $\\left|00\\right\\rangle$, $\\left|01\\right\\rangle$, $\\left|10\\right\\rangle$ and $\\left|11\\right\\rangle$ can then be used to define a matrix, which rotates from an ideal set of counts to one affected by measurement noise. This is done by simply taking the counts dictionary for $\\left|00\\right\\rangle$, normalizing it so that all elements sum to one, and then using it as the first column of the matrix. The next column is similarly defined by the counts dictionary obtained for $\\left|01\\right\\rangle$, and so on. \n",
    "\n",
    "There will be statistical variations each time the circuit for each basis state is run. In the following, we will use the data obtained when this section was written, which was as follows.\n",
    "\n",
    "```\n",
    "00 becomes {'10': 96, '11': 1, '01': 95, '00': 9808}\n",
    "01 becomes {'10': 2, '11': 103, '01': 9788, '00': 107}\n",
    "10 becomes {'10': 9814, '11': 90, '01': 1, '00': 95}\n",
    "11 becomes {'10': 87, '11': 9805, '01': 107, '00': 1}\n",
    "```\n",
    "\n",
    "This gives us the following matrix.\n",
    "\n",
    "$$\n",
    "M = \n",
    "\\begin{pmatrix}\n",
    "    0.9808&0.0107&0.0095&0.0001 \\\\\n",
    "    0.0095&0.9788&0.0001&0.0107 \\\\\n",
    "    0.0096&0.0002&0.9814&0.0087 \\\\\n",
    "    0.0001&0.0103&0.0090&0.9805\n",
    "\\end{pmatrix}\n",
    "$$\n",
    "\n",
    "If we now take the vector describing the perfect results for a given state, applying this matrix gives us a good approximation of the results when measurement noise is present.\n",
    "\n",
    "\n",
    "\n",
    "$$ C_{noisy} = M ~ C_{ideal}$$\n",
    "\n",
    ".\n",
    "\n",
    "As an example, let's apply this process for the state $(\\left|00\\right\\rangle+\\left|11\\right\\rangle)/\\sqrt{2}$, \n",
    "\n",
    "$$\n",
    "\\begin{pmatrix}\n",
    "    0.9808&0.0107&0.0095&0.0001 \\\\\n",
    "    0.0095&0.9788&0.0001&0.0107 \\\\\n",
    "    0.0096&0.0002&0.9814&0.0087 \\\\\n",
    "    0.0001&0.0103&0.0090&0.9805\n",
    "\\end{pmatrix}\n",
    "\\begin{pmatrix}\n",
    "    5000 \\\\\n",
    "    0 \\\\\n",
    "    0 \\\\\n",
    "    5000\n",
    "\\end{pmatrix}\n",
    "=\n",
    "\\begin{pmatrix}\n",
    "    4904.5 \\\\\n",
    "    101 \\\\\n",
    "    91.5 \\\\\n",
    "    4903\n",
    "\\end{pmatrix}.\n",
    "$$\n",
    "\n",
    "In code, we can express this as follows."
   ]
  },
  {
   "cell_type": "code",
   "execution_count": 6,
   "metadata": {},
   "outputs": [
    {
     "name": "stdout",
     "output_type": "stream",
     "text": [
      "C_noisy =\n",
      " [[4904.5]\n",
      " [ 101. ]\n",
      " [  91.5]\n",
      " [4903. ]]\n"
     ]
    }
   ],
   "source": [
    "import numpy as np\n",
    "\n",
    "M = [[0.9808,0.0107,0.0095,0.0001],\n",
    "    [0.0095,0.9788,0.0001,0.0107],\n",
    "    [0.0096,0.0002,0.9814,0.0087],\n",
    "    [0.0001,0.0103,0.0090,0.9805]]\n",
    "\n",
    "Cideal = [[5000],\n",
    "          [0],\n",
    "          [0],\n",
    "          [5000]]\n",
    "\n",
    "Cnoisy = np.dot(M, Cideal)\n",
    "print('C_noisy =\\n',Cnoisy)"
   ]
  },
  {
   "cell_type": "markdown",
   "metadata": {},
   "source": [
    "Either way, the resulting counts found in $C_{noisy}$, for measuring the $(\\left|00\\right\\rangle+\\left|11\\right\\rangle)/\\sqrt{2}$ with measurement noise, come out quite close to the actual data we found earlier. So this matrix method is indeed a good way of predicting noisy results given a knowledge of what the results should be.\n",
    "\n",
    "Unfortunately, this is the exact opposite of what we need. Instead of a way to transform ideal counts data into noisy data, we need a way to transform noisy data into ideal data. In linear algebra, we do this for a matrix $M$ by finding the inverse matrix $M^{-1}$,\n",
    "\n",
    "\n",
    "\n",
    "$$C_{ideal} = M^{-1} C_{noisy}.$$\n",
    "\n",
    "\n"
   ]
  },
  {
   "cell_type": "code",
   "execution_count": 7,
   "metadata": {},
   "outputs": [
    {
     "name": "stdout",
     "output_type": "stream",
     "text": [
      "[[ 1.01978044e+00 -1.11470783e-02 -9.87135367e-03  1.05228426e-04]\n",
      " [-9.89772783e-03  1.02188470e+00  9.39504466e-05 -1.11514471e-02]\n",
      " [-9.97422955e-03 -4.05845410e-06  1.01913199e+00 -9.04172099e-03]\n",
      " [ 9.15212840e-05 -1.07335657e-02 -9.35458279e-03  1.02008794e+00]]\n"
     ]
    }
   ],
   "source": [
    "import scipy.linalg as la\n",
    "\n",
    "M = [[0.9808,0.0107,0.0095,0.0001],\n",
    "    [0.0095,0.9788,0.0001,0.0107],\n",
    "    [0.0096,0.0002,0.9814,0.0087],\n",
    "    [0.0001,0.0103,0.0090,0.9805]]\n",
    "\n",
    "Minv = la.inv(M)\n",
    "\n",
    "print(Minv)"
   ]
  },
  {
   "cell_type": "markdown",
   "metadata": {},
   "source": [
    "Applying this inverse to $C_{noisy}$, we can obtain an approximation of the true counts."
   ]
  },
  {
   "cell_type": "code",
   "execution_count": 8,
   "metadata": {},
   "outputs": [
    {
     "name": "stdout",
     "output_type": "stream",
     "text": [
      "C_mitigated =\n",
      " [[5.00000000e+03]\n",
      " [0.00000000e+00]\n",
      " [1.42108547e-14]\n",
      " [5.00000000e+03]]\n"
     ]
    }
   ],
   "source": [
    "Cmitigated = np.dot(Minv, Cnoisy)\n",
    "print('C_mitigated =\\n',Cmitigated)"
   ]
  },
  {
   "cell_type": "markdown",
   "metadata": {},
   "source": [
    "Of course, counts should be integers, and so these values need to be rounded. This gives us a very nice result.\n",
    "$$\n",
    "C_{mitigated} = \n",
    "\\begin{pmatrix}\n",
    "    5000 \\\\\n",
    "    0 \\\\\n",
    "    0 \\\\\n",
    "    5000\n",
    "\\end{pmatrix}\n",
    "$$\n",
    "\n",
    "This is exactly the true result we desire. Our mitigation worked extremely well!"
   ]
  },
  {
   "cell_type": "markdown",
   "metadata": {},
   "source": [
    "### Error mitigation in Qiskit"
   ]
  },
  {
   "cell_type": "code",
   "execution_count": 9,
   "metadata": {},
   "outputs": [],
   "source": [
    "from qiskit.ignis.mitigation.measurement import complete_meas_cal, CompleteMeasFitter"
   ]
  },
  {
   "cell_type": "markdown",
   "metadata": {},
   "source": [
    "The process of measurement error mitigation can also be done using tools from Qiskit. This handles the collection of data for the basis states, the construction of the matrices and the calculation of the inverse. The latter can be done using the pseudo inverse, as we saw above. However, the default is an even more sophisticated method using least squares fitting.\n",
    "\n",
    "As an example, let's stick with doing error mitigation for a pair of qubits. For this we define a two qubit quantum register, and feed it into the function `complete_meas_cal`."
   ]
  },
  {
   "cell_type": "code",
   "execution_count": 10,
   "metadata": {},
   "outputs": [],
   "source": [
    "qr = QuantumRegister(2)\n",
    "meas_calibs, state_labels = complete_meas_cal(qr=qr, circlabel='mcal')"
   ]
  },
  {
   "cell_type": "markdown",
   "metadata": {},
   "source": [
    "This creates a set of circuits to take measurements for each of the four basis states for two qubits: $\\left|00\\right\\rangle$, $\\left|01\\right\\rangle$, $\\left|10\\right\\rangle$ and $\\left|11\\right\\rangle$."
   ]
  },
  {
   "cell_type": "code",
   "execution_count": 11,
   "metadata": {},
   "outputs": [
    {
     "name": "stdout",
     "output_type": "stream",
     "text": [
      "Circuit mcalcal_00\n",
      "        ░ ┌─┐   \n",
      "q10_0: ─░─┤M├───\n",
      "        ░ └╥┘┌─┐\n",
      "q10_1: ─░──╫─┤M├\n",
      "        ░  ║ └╥┘\n",
      " c0: 2/════╩══╩═\n",
      "           0  1 \n",
      "\n",
      "Circuit mcalcal_01\n",
      "       ┌───┐ ░ ┌─┐   \n",
      "q10_0: ┤ X ├─░─┤M├───\n",
      "       └───┘ ░ └╥┘┌─┐\n",
      "q10_1: ──────░──╫─┤M├\n",
      "             ░  ║ └╥┘\n",
      " c0: 2/═════════╩══╩═\n",
      "                0  1 \n",
      "\n",
      "Circuit mcalcal_10\n",
      "             ░ ┌─┐   \n",
      "q10_0: ──────░─┤M├───\n",
      "       ┌───┐ ░ └╥┘┌─┐\n",
      "q10_1: ┤ X ├─░──╫─┤M├\n",
      "       └───┘ ░  ║ └╥┘\n",
      " c0: 2/═════════╩══╩═\n",
      "                0  1 \n",
      "\n",
      "Circuit mcalcal_11\n",
      "       ┌───┐ ░ ┌─┐   \n",
      "q10_0: ┤ X ├─░─┤M├───\n",
      "       ├───┤ ░ └╥┘┌─┐\n",
      "q10_1: ┤ X ├─░──╫─┤M├\n",
      "       └───┘ ░  ║ └╥┘\n",
      " c0: 2/═════════╩══╩═\n",
      "                0  1 \n",
      "\n"
     ]
    }
   ],
   "source": [
    "for circuit in meas_calibs:\n",
    "    print('Circuit',circuit.name)\n",
    "    print(circuit)\n",
    "    print()"
   ]
  },
  {
   "cell_type": "markdown",
   "metadata": {},
   "source": [
    "Let's now run these circuits without any noise present."
   ]
  },
  {
   "cell_type": "code",
   "execution_count": 12,
   "metadata": {},
   "outputs": [],
   "source": [
    "# Execute the calibration circuits without noise\n",
    "t_qc = transpile(meas_calibs, qasm_sim)\n",
    "qobj = assemble(t_qc, shots=10000)\n",
    "cal_results = qasm_sim.run(qobj, noise_model=noise_model, shots=10000).result()"
   ]
  },
  {
   "cell_type": "markdown",
   "metadata": {},
   "source": [
    "With the results we can construct the calibration matrix, which we have been calling $M$."
   ]
  },
  {
   "cell_type": "code",
   "execution_count": 13,
   "metadata": {},
   "outputs": [
    {
     "name": "stdout",
     "output_type": "stream",
     "text": [
      "[[9.780e-01 9.600e-03 1.100e-02 3.000e-04]\n",
      " [1.190e-02 9.815e-01 1.000e-04 1.010e-02]\n",
      " [1.000e-02 2.000e-04 9.790e-01 9.100e-03]\n",
      " [1.000e-04 8.700e-03 9.900e-03 9.805e-01]]\n"
     ]
    }
   ],
   "source": [
    "meas_fitter = CompleteMeasFitter(cal_results, state_labels, circlabel='mcal')\n",
    "print(meas_fitter.cal_matrix)"
   ]
  },
  {
   "cell_type": "markdown",
   "metadata": {},
   "source": [
    "With no noise present, this is simply the identity matrix.\n",
    "\n",
    "Now let's create a noise model. And to make things interesting, let's have the errors be ten times more likely than before."
   ]
  },
  {
   "cell_type": "code",
   "execution_count": 14,
   "metadata": {},
   "outputs": [],
   "source": [
    "noise_model = get_noise(0.1)"
   ]
  },
  {
   "cell_type": "markdown",
   "metadata": {},
   "source": [
    "Again we can run the circuits, and look at the calibration matrix, $M$."
   ]
  },
  {
   "cell_type": "code",
   "execution_count": 15,
   "metadata": {},
   "outputs": [
    {
     "name": "stdout",
     "output_type": "stream",
     "text": [
      "[[0.8055 0.0938 0.0882 0.0109]\n",
      " [0.0889 0.8077 0.0104 0.0911]\n",
      " [0.0948 0.0082 0.8102 0.0902]\n",
      " [0.0108 0.0903 0.0912 0.8078]]\n"
     ]
    }
   ],
   "source": [
    "t_qc = transpile(meas_calibs, qasm_sim)\n",
    "qobj = assemble(t_qc, shots=10000)\n",
    "cal_results = qasm_sim.run(qobj, noise_model=noise_model, shots=10000).result()\n",
    "\n",
    "meas_fitter = CompleteMeasFitter(cal_results, state_labels, circlabel='mcal')\n",
    "print(meas_fitter.cal_matrix)"
   ]
  },
  {
   "cell_type": "markdown",
   "metadata": {},
   "source": [
    "This time we find a more interesting matrix, and one that we cannot use in the approach that we described earlier. Let's see how well we can mitigate for this noise. Again, let's use the Bell state $(\\left|00\\right\\rangle+\\left|11\\right\\rangle)/\\sqrt{2}$ for our test."
   ]
  },
  {
   "cell_type": "code",
   "execution_count": 16,
   "metadata": {},
   "outputs": [
    {
     "name": "stdout",
     "output_type": "stream",
     "text": [
      "{'00': 4059, '01': 900, '10': 925, '11': 4116}\n"
     ]
    }
   ],
   "source": [
    "qc = QuantumCircuit(2,2)\n",
    "qc.h(0)\n",
    "qc.cx(0,1)  \n",
    "qc.measure(qc.qregs[0],qc.cregs[0])\n",
    "\n",
    "t_qc = transpile(qc, qasm_sim)\n",
    "qobj = assemble(t_qc, shots=10000)\n",
    "results = qasm_sim.run(qobj, noise_model=noise_model, shots=10000).result()\n",
    "print(results.get_counts())"
   ]
  },
  {
   "cell_type": "markdown",
   "metadata": {},
   "source": [
    "In Qiskit we mitigate for the noise by creating a measurement filter object. Then, taking the results from above, we use this to calculate a mitigated set of counts. Qiskit returns this as a dictionary, so that the user doesn't need to use vectors themselves to get the result."
   ]
  },
  {
   "cell_type": "code",
   "execution_count": 17,
   "metadata": {},
   "outputs": [],
   "source": [
    "# Get the filter object\n",
    "meas_filter = meas_fitter.filter\n",
    "\n",
    "# Results with mitigation\n",
    "mitigated_results = meas_filter.apply(results)\n",
    "mitigated_counts = mitigated_results.get_counts(0)"
   ]
  },
  {
   "cell_type": "markdown",
   "metadata": {},
   "source": [
    "To see the results most clearly, let's plot both the noisy and mitigated results."
   ]
  },
  {
   "cell_type": "code",
   "execution_count": 18,
   "metadata": {},
   "outputs": [
    {
     "ename": "NameError",
     "evalue": "name 'noisy_counts' is not defined",
     "output_type": "error",
     "traceback": [
      "\u001b[0;31m---------------------------------------------------------------------------\u001b[0m",
      "\u001b[0;31mNameError\u001b[0m                                 Traceback (most recent call last)",
      "\u001b[0;32m<ipython-input-18-3213055e3361>\u001b[0m in \u001b[0;36m<module>\u001b[0;34m\u001b[0m\n\u001b[1;32m      1\u001b[0m \u001b[0;32mfrom\u001b[0m \u001b[0mqiskit\u001b[0m\u001b[0;34m.\u001b[0m\u001b[0mvisualization\u001b[0m \u001b[0;32mimport\u001b[0m \u001b[0mplot_histogram\u001b[0m\u001b[0;34m\u001b[0m\u001b[0;34m\u001b[0m\u001b[0m\n\u001b[0;32m----> 2\u001b[0;31m \u001b[0mplot_histogram\u001b[0m\u001b[0;34m(\u001b[0m\u001b[0;34m[\u001b[0m\u001b[0mnoisy_counts\u001b[0m\u001b[0;34m,\u001b[0m \u001b[0mmitigated_counts\u001b[0m\u001b[0;34m]\u001b[0m\u001b[0;34m,\u001b[0m \u001b[0mlegend\u001b[0m\u001b[0;34m=\u001b[0m\u001b[0;34m[\u001b[0m\u001b[0;34m'noisy'\u001b[0m\u001b[0;34m,\u001b[0m \u001b[0;34m'mitigated'\u001b[0m\u001b[0;34m]\u001b[0m\u001b[0;34m)\u001b[0m\u001b[0;34m\u001b[0m\u001b[0;34m\u001b[0m\u001b[0m\n\u001b[0m",
      "\u001b[0;31mNameError\u001b[0m: name 'noisy_counts' is not defined"
     ]
    }
   ],
   "source": [
    "from qiskit.visualization import plot_histogram \n",
    "plot_histogram([noisy_counts, mitigated_counts], legend=['noisy', 'mitigated'])"
   ]
  },
  {
   "cell_type": "markdown",
   "metadata": {},
   "source": [
    "Here we have taken results for which almost $20\\%$ of samples are in the wrong state, and turned it into an exact representation of what the true results should be. However, this example does have just two qubits with a simple noise model. For more qubits, and more complex noise models or data from real devices, the mitigation will have more of a challenge. Perhaps you might find methods that are better than those Qiskit uses!"
   ]
  },
  {
   "cell_type": "code",
   "execution_count": null,
   "metadata": {},
   "outputs": [],
   "source": [
    "import qiskit\n",
    "qiskit.__qiskit_version__"
   ]
  }
 ],
 "metadata": {
  "kernelspec": {
   "display_name": "Python 3",
   "language": "python",
   "name": "python3"
  },
  "language_info": {
   "codemirror_mode": {
    "name": "ipython",
    "version": 3
   },
   "file_extension": ".py",
   "mimetype": "text/x-python",
   "name": "python",
   "nbconvert_exporter": "python",
   "pygments_lexer": "ipython3",
   "version": "3.7.7"
  },
  "varInspector": {
   "cols": {
    "lenName": 16,
    "lenType": 16,
    "lenVar": 40
   },
   "kernels_config": {
    "python": {
     "delete_cmd_postfix": "",
     "delete_cmd_prefix": "del ",
     "library": "var_list.py",
     "varRefreshCmd": "print(var_dic_list())"
    },
    "r": {
     "delete_cmd_postfix": ") ",
     "delete_cmd_prefix": "rm(",
     "library": "var_list.r",
     "varRefreshCmd": "cat(var_dic_list()) "
    }
   },
   "types_to_exclude": [
    "module",
    "function",
    "builtin_function_or_method",
    "instance",
    "_Feature"
   ],
   "window_display": false
  }
 },
 "nbformat": 4,
 "nbformat_minor": 4
}
