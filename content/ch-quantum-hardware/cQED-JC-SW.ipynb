{
 "cells": [
  {
   "cell_type": "markdown",
   "metadata": {
    "tags": [
     "remove_cell"
    ]
   },
   "source": [
    "# Circuit Quantum Electrodynamics"
   ]
  },
  {
   "cell_type": "markdown",
   "metadata": {
    "tags": [
     "contents"
    ]
   },
   "source": [
    "## Contents\n",
    "\n",
    "1. [Introduction](#intro)\n",
    "2. [The Schrieffer-Wolff Transformation](#tswt)\n",
    "3. [Block-diagonalization of the Jaynes-Cummings Hamiltonian](#bdotjch)\n",
    "4. [Full Transmon](#full-transmon)\n",
    "5. [Qubit Drive with cQED](#qdwcqed)\n",
    "6. [The Cross Resonance Entangling Gate](#tcreg)"
   ]
  },
  {
   "cell_type": "markdown",
   "metadata": {},
   "source": [
    "## 1. Introduction <a id='intro'></a>\n",
    "\n",
    "By analogy with Cavity Quantum Electrodynamics (CQED), circuit QED (cQED) exploits the fact that a simple model can be used to both describe the interaction of an atom with an optical cavity and a qubit with a microwave resonator. This model includes the number of photons in the cavity/resonator, the state of the atom/qubit, and the electric dipole interaction between the atom/qubit and cavity/resonator. As we saw in the last section, transmons are actually multi-level systems, but restricting ourselves to the ground $|0\\rangle = |g\\rangle$ and first excited $|1\\rangle = |e\\rangle$ states is possible because of the anharmonicity of the transmon. Therefore we can describe the transmon as a qubit desicribed by the Pauli spin matrices\n",
    "$$\n",
    "\\sigma^x = \\begin{pmatrix} 0 & 1 \\\\ 1 & 0 \\end{pmatrix} \\qquad\n",
    "\\sigma^y = \\begin{pmatrix} 0 & -i \\\\ i & 0 \\end{pmatrix} \\qquad\n",
    "\\sigma^z = \\begin{pmatrix} 1 & 0 \\\\ 0 & -1 \\end{pmatrix} \\qquad\n",
    "$$\n",
    "that generate rotations the respective axes around the Bloch sphere. In that case, the simplest model to describe this interaction is the Jaynes-Cummings Hamiltonian in the rotating wave approximation,\n",
    "$$\n",
    "H_{\\rm JC}^{\\rm (RWA)}/\\hbar = \\omega_r a^\\dagger a - \\frac{1}{2} \\omega_q \\sigma_z + g(a^\\dagger \\sigma^- + a \\sigma^+).\n",
    "$$\n",
    "where $\\omega_r$ and $\\omega_r$ are the frequencies of the resonator and \"qubit\", respectively, $a$ ($a^\\dagger$) is the resonator photon annihilation (creation) operator, and $g$ is the electric dipole coupling (half the vacuum Rabi splitting). Note that we are now omitting the hats from the operators. Here, the first term corresponds to the number of photons in the resonator, the second term corresponds to the state of the qubit, and the third is the electric dipole interaction, where $\\sigma^\\pm = (1/2)(\\sigma^x \\mp i\\sigma^y)$ is the qubit raising/lowering operator. (Note that the signs are inverted from those of *spin* raising/lowering operators, as discussed in the previous chapter).\n",
    "\n",
    "This Hamiltonian can be solved exactly, and the solutions are hybrid qubit/resonator states where an excitation (either a photon in the resonator or excited state of the qubit) swaps between the two at a rate $g$ when they are on-resonance ($\\omega_r = \\omega_q$). For example, the $a^\\dagger \\sigma^-$ in the third term creates a photon in the resonator and lowers the qubit from $|1\\rangle$ to $|0\\rangle$, while the $a\\sigma^+$ term destroys a photon in the resonators and excites the qubit from $|0\\rangle$ to $|1\\rangle$. While interesting, for our quantum computer we want to deal with qubits, and not these hybrid states. This means we want to move to a regimes where the resonator acts as a perturbation to the qubit (and vice-versa), so that their properties merely become \"dressed\" by the presence of the other. Using a type of perturbation theory, called the Schrieffer-Wolff (S-W) transformation, we can calculate the properties of the qubit and resonator in the regime we wish to operate. Here it should be noted that treating the transmon as a qubit is illustrative for pedagogical reasons, but the same techniques apply when you consider all the levels of the transmon. The higher levels of the transmon have profound effects and must be considered when designing and simulating them. "
   ]
  },
  {
   "cell_type": "markdown",
   "metadata": {},
   "source": [
    "## 2. The Schrieffer-Wolff Transformation <a id='tswt'></a>\n",
    "\n",
    "<details>\n",
    "    <summary>Schrödinger's Equation (Click here to expand)</summary>\n",
    "Problems in quantum mechanics are often that of diagolizing a Hamiltonian eigenvalue equation\n",
    "$$\n",
    "H\\psi_m = E_m \\psi_m \\qquad {\\rm for} \\quad 1 \\le m \\le n\n",
    "$$\n",
    "where the $\\psi_m$ are the eigenstates with eigenvalue $E_m$. This consists of finding a unitary matrix $U$, such that $H' = U H U^\\dagger$ is diagonal. Then the eigenvalue equation\n",
    "$$\n",
    "\\hat{H} \\psi_m = E_m \\psi_m \\Longrightarrow U H U^\\dagger U \\psi_m = E_m U \\psi_m \\Longrightarrow H' \\psi_m' = E_m \\psi_m'\n",
    "$$\n",
    "where $\\psi_m' = U\\psi_m$ are the transformed eigenstates and\n",
    "$$\n",
    "H' = \\begin{pmatrix}\n",
    "E_1 & 0 & \\cdots & 0 \\\\\n",
    "0 & E_2 & \\cdots & 0 \\\\\n",
    "\\vdots & \\vdots & \\ddots & 0 \\\\\n",
    "0 & 0 & \\cdots & E_n \\end{pmatrix}\n",
    "$$\n",
    "is the diagonalized Hamiltonian.\n",
    "</details>\n",
    "\n",
    "With the S-W transformation, instead of diagolizing the Hamiltonian, we seek to *block-diagonalize* it. Suppose we have a Hamiltonian that can be broken up into a diagonal part and perturbation\n",
    "$$\n",
    "H \\quad = \\quad \\underbrace{\\begin{pmatrix}\n",
    "\\Box &  &  &  &  &  &  \\\\\n",
    " & \\Box &  &  &  &  &  \\\\\n",
    " &  & \\Box &  &  &  &  \\\\\n",
    " &  &  & \\Box &  &  &  \\\\\n",
    " &  &  &  & \\Box &  &  \\\\\n",
    " &  &  &  &  & \\Box &  \\\\\n",
    " &  &  &  &  &  & \\Box \\end{pmatrix}}_\\text{diagonal} \\quad + \\quad \n",
    "\\underbrace{\\begin{pmatrix}\n",
    "\\times & \\times & \\times & \\times & \\cdot & \\cdot & \\cdot \\\\\n",
    "\\times & \\times & \\times & \\times & \\cdot & \\cdot & \\cdot \\\\\n",
    "\\times & \\times & \\times & \\times & \\cdot & \\cdot & \\cdot \\\\\n",
    "\\times & \\times & \\times & \\times & \\cdot & \\cdot & \\cdot \\\\\n",
    "\\cdot & \\cdot & \\cdot & \\cdot & \\times & \\times & \\times \\\\\n",
    "\\cdot & \\cdot & \\cdot & \\cdot & \\times & \\times & \\times \\\\\n",
    "\\cdot & \\cdot & \\cdot & \\cdot & \\times & \\times & \\times \\end{pmatrix}}_\\text{perturbation}\n",
    "$$\n",
    "and then write the perturbation as $H_1 + H_2$ so that $H = H_0 + H_1 + H_2$, with $H_0$ diagonal, $H_1$ block-diagonal, and $H_2$ non-block diagonal, and we have\n",
    "$$\n",
    "H \\quad = \\quad \\underbrace{\\begin{pmatrix}\n",
    "\\Box &  &  &  &  &  &  \\\\\n",
    " & \\Box &  &  &  &  &  \\\\\n",
    " &  & \\Box &  &  &  &  \\\\\n",
    " &  &  & \\Box &  &  &  \\\\\n",
    " &  &  &  & \\Box &  &  \\\\\n",
    " &  &  &  &  & \\Box &  \\\\\n",
    " &  &  &  &  &  & \\Box \\end{pmatrix}}_\\text{diagonal}\n",
    "\\quad + \\quad\n",
    "\\underbrace{\\begin{pmatrix}\n",
    "\\times & \\times & \\times & \\times &  &  &  \\\\\n",
    "\\times & \\times & \\times & \\times &  &  &  \\\\\n",
    "\\times & \\times & \\times & \\times &  &  &  \\\\\n",
    "\\times & \\times & \\times & \\times &  &  &  \\\\\n",
    " &  &  &  & \\times & \\times & \\times \\\\\n",
    " &  &  &  & \\times & \\times & \\times \\\\\n",
    " &  &  &  & \\times & \\times & \\times \\end{pmatrix}}_\\text{block diagonal} \n",
    "\\quad + \\quad\n",
    "\\underbrace{\\begin{pmatrix}\n",
    " &  &  &  & \\cdot & \\cdot & \\cdot \\\\\n",
    " &  &  &  & \\cdot & \\cdot & \\cdot \\\\\n",
    " &  &  &  & \\cdot & \\cdot & \\cdot \\\\\n",
    " &  &  &  & \\cdot & \\cdot & \\cdot \\\\\n",
    "\\cdot & \\cdot & \\cdot & \\cdot &  &  &  \\\\\n",
    "\\cdot & \\cdot & \\cdot & \\cdot &  &  &  \\\\\n",
    "\\cdot & \\cdot & \\cdot & \\cdot &  &  &  \\end{pmatrix}}_\\text{block off-diagonal}\n",
    "$$"
   ]
  },
  {
   "cell_type": "markdown",
   "metadata": {},
   "source": [
    "Block-diagonalizing $H$ consists of finding an operator $S$ such that\n",
    "\n",
    "$$\n",
    "H_{\\rm eff} = e^{iS} H e^{-iS} = \\sum_{m=0}^\\infty \\frac{1}{m!} [H, S]^{(m)} = \\sum_{m=0}^\\infty \\lambda^m H^{(m)},\n",
    "$$\n",
    "\n",
    "where $H^{(m)}$ are successive approximations to $H$ (with $H^{(0)} = H_0$) and the generalized commutator is defined resursively as \n",
    "\n",
    "$$\n",
    "[H,S]^{(m)} = [[H,S]^{(m-1)},S] \\qquad {\\rm with} \\qquad [H,S]^{(0)} = H. \n",
    "$$\n",
    "\n",
    "Here we treat $S$ as a Taylor series with\n",
    "\n",
    "$$ S = \\sum_{m=1}^\\infty \\lambda^m S^{(m)} $$\n",
    "\n",
    "to keep track of the order $\\lambda$. Then expanding the effective Hamiltonian as a perturbation of $H_1+H_2$ to second order in $\\lambda$,\n",
    "\n",
    "$$\n",
    "H_{\\rm eff} = H_0 + \\lambda (H_1+H_2) + \\left[H_0 + \\lambda(H_1+H_2), \\lambda S^{(1)}\\right] \n",
    "  + \\frac{1}{2} \\left[ \\left[ H_0 + \\lambda(H_1+H_2), \\lambda S^{(1)}\\right], \\lambda S^{(1)}\\right]\n",
    "  + \\left[H_0 + \\lambda(H_1+H_2), \\lambda^2 S^{(2)}\\right] + \\ldots \\\\\n",
    "  \\approx H_0 + \\lambda \\left( H_1 + H_2 + \\left[H_0, S^{(1)}\\right] \\right) \n",
    "  + \\lambda^2 \\left( \\left[H_1+H_2, S^{(1)}\\right] + \\frac{1}{2} \\left[ \\left[H_0, S^{(1)},\\right] S^{(1)}\\right] + \\left[H_0, S^{(2)}\\right]\\right)\n",
    "$$\n",
    "\n",
    "Now we know $S$ must be block off-diagonal and anti-hermitian to force the block off-diagonal elements of $H_{\\rm eff}$ to vanish, we must have that\n",
    "\n",
    "$$\n",
    "H_{\\rm eff}^{\\rm off-diag} = \\sum_{m=0}^\\infty \\frac{1}{(2m+1)!} [\\underbrace{H_0 + H_1}_\\text{block diag}, S]^{(2m+1)} + \\sum_{m=0}^\\infty \\frac{1}{(2m)!} [\\underbrace{H_2}_\\text{block off-diag}, S]^{(2m)} \\equiv 0,\n",
    "$$\n",
    "\n",
    "noting that all the terms in the first series are block off-diagonal and all of those in the second series are block diagonal. This is because the commutator of a block diagonal and block off-diagonal matrix is block off-diagonal and the commutator of two block off-diagonal matrices is block diagonal. Expanding this to the generalized commutator, we can see that $[H^0 + H^1, S]^{(n)}$ with odd $n$ must always be block off-diagonal as well as $[H^2, S]^{(n)}$ with even $n$. Now expanding the off-diagonal part of the Hamiltonain to second order yields\n",
    "\n",
    "$$\n",
    "H_{\\rm eff}^{\\rm off-diag} = \\left[ H_0 + \\lambda H_1, \\lambda S^{(1)} \\right]+\\lambda H_2 + \\left[H_0 + \\lambda H_1, \\lambda^2 S^{(2)}\\right]\n",
    "  + \\frac{1}{3!} \\left[ H_0+\\lambda H_1, \\lambda S^{(1)}\\right]^{(3)} + \\frac{1}{2!} \\left[ \\lambda H_2, \\lambda S^{(1)}\\right]^{(2)} \\\\\n",
    "  = \\lambda \\left( \\left[ H_0, S^{(1)} \\right] + H_2 \\right) + \\lambda^2 \\left( \\left[H_1, S^{(1)} \\right] + \\left[H_0, S^{(2)}\\right]\\right) + \\ldots.\n",
    "$$\n",
    "Since each order of $\\lambda$ must be identically zero, the following equations determine $S^{(m)}$,\n",
    "$$\n",
    "[H_0, S^{(1)}] = -H_2 \\qquad\n",
    "[H_0, S^{(2)}] = -[H_1, S^{(1)}] \\qquad\n",
    "[H_0, S^{(3)}] = -[H_1, S^{(2)}] - \\frac{1}{3} [[H_2, S^{(1)}], S^{(1)}],\n",
    "$$\n",
    "where our ansatz that satisfied these equations is guaranteed unique by Winkler's work. Then our effective Hamiltonian becomes\n",
    "\n",
    "$$\n",
    "H_{\\rm eff} = H_0+H_1+[H_2,S^{(1)}] + \\frac{1}{2} [[H_0, S^{(1)}], S^{(1)}] + \\ldots = H_0+H_1+\\frac{1}{2}[H_2,S^{(1)}] + \\ldots\n",
    "$$\n",
    "\n",
    "where the effective Hamiltonian is calculated here to second order and we have taken $\\lambda \\to 1$."
   ]
  },
  {
   "cell_type": "markdown",
   "metadata": {},
   "source": [
    "## 3. Block-diagonalization of the Jaynes-Cummings Hamiltonian <a id='bdotjch'></a>\n",
    "\n",
    "Using the S-W transformation consists of two problems: 1) finding the correct ansatz, and 2) performing the calculations. In most examples, an ansatz of similar form (i.e. anti-hermitian) to the off-diagonal parts is made and confirmed *a postori*. Recently, the manuscript [A Systematic Method for Schrieffer-Wolff Transformation and Its Generalizations](http://www.arxiv.org/abs/2004.06534) has appeared on the arXiv attesting to systematically providing the ansatz and applying it to numerous systems (including the Jaynes-Cumming Hamiltonian below).\n",
    "\n",
    "As such, the *generator* $\\eta$ is calculated as $\\eta = [H_0, H_2]$. In keeping the scalar coefficients of $\\eta$ undetermined, then $S^{(1)}$ can be calculated as the specific $\\eta$ that satisfies $[H_0, \\eta]=H_2$. Note the hermiticity of $H_0$ and $H_2$ guarantee the anti-hermiticity of $\\eta$ and thus $S^{(1)}$. \n",
    "\n",
    "For ease of tedious calculations, we will use the Python package [`sympy`](http://www.sympy.org) for symbolic mathematics."
   ]
  },
  {
   "cell_type": "code",
   "execution_count": 1,
   "metadata": {},
   "outputs": [],
   "source": [
    "# import SymPy and define symbols\n",
    "import sympy as sp\n",
    "sp.init_printing(use_unicode=True)\n",
    "wr = sp.Symbol('\\omega_r') # resonator frequency\n",
    "wq = sp.Symbol('\\omega_q') # qubit frequency\n",
    "g = sp.Symbol('g', real=True) # vacuum Rabi coupling\n",
    "Delta = sp.Symbol('Delta', real=True) # wr - wq; defined later"
   ]
  },
  {
   "cell_type": "code",
   "execution_count": 2,
   "metadata": {},
   "outputs": [],
   "source": [
    "# import operator relations and define them\n",
    "from sympy.physics.quantum.boson import BosonOp\n",
    "a = BosonOp('a') # resonator photon annihilation operator\n",
    "from sympy.physics.quantum import pauli, Dagger, Commutator\n",
    "from sympy.physics.quantum.operatorordering import normal_ordered_form\n",
    "\n",
    "# Pauli matrices\n",
    "sx = pauli.SigmaX()\n",
    "sy = pauli.SigmaY()\n",
    "sz = pauli.SigmaZ()\n",
    "\n",
    "# qubit raising and lowering operators\n",
    "splus = pauli.SigmaPlus()\n",
    "sminus = pauli.SigmaMinus()"
   ]
  },
  {
   "cell_type": "code",
   "execution_count": 3,
   "metadata": {},
   "outputs": [
    {
     "data": {
      "image/png": "[encoded data removed]",
      "text/latex": [
       "$\\displaystyle - 0.5 \\omega_q {\\sigma_z} + \\omega_r {{a}^\\dagger} {a} + g \\left({{a}^\\dagger} {\\sigma_-} + {a} {\\sigma_+}\\right)$"
      ],
      "text/plain": [
       "                               †       ⎛ †                ⎞\n",
       "-0.5⋅\\omega_q⋅False + \\omegaᵣ⋅a ⋅a + g⋅⎝a ⋅False + a⋅False⎠"
      ]
     },
     "execution_count": 3,
     "metadata": {},
     "output_type": "execute_result"
    }
   ],
   "source": [
    "# define J-C Hamiltonian in terms of diagonal and non-block diagonal terms\n",
    "H0 = wr*Dagger(a)*a - (1/2)*wq*sz; \n",
    "H2 = g*(Dagger(a)*sminus + a*splus); \n",
    "HJC = H0 + H2; HJC # print"
   ]
  },
  {
   "cell_type": "code",
   "execution_count": 4,
   "metadata": {},
   "outputs": [
    {
     "data": {
      "image/png": "[encoded data removed]",
      "text/latex": [
       "$\\displaystyle - g \\left[{{a}^\\dagger} {\\sigma_-} + {a} {\\sigma_+},- 0.5 \\omega_q {\\sigma_z} + \\omega_r {{a}^\\dagger} {a}\\right]$"
      ],
      "text/plain": [
       "   ⎡ †                                                †  ⎤\n",
       "-g⋅⎣a ⋅False + a⋅False,-0.5⋅\\omega_q⋅False + \\omegaᵣ⋅a ⋅a⎦"
      ]
     },
     "execution_count": 4,
     "metadata": {},
     "output_type": "execute_result"
    }
   ],
   "source": [
    "# using the above method for finding the ansatz\n",
    "eta = Commutator(H0, H2); eta"
   ]
  },
  {
   "cell_type": "markdown",
   "metadata": {},
   "source": [
    "As a note about `sympy`, we will need to used the methods `doit()`, `expand`, `normal_ordered_form`, and `qsimplify_pauli` to proceed with actually taking the commutator, expanding it into terms, normal ordering the bosonic modes (creation before annihilation), and simplify the Pauli algebra. Trying this with $\\eta$ yields"
   ]
  },
  {
   "cell_type": "code",
   "execution_count": 5,
   "metadata": {},
   "outputs": [
    {
     "data": {
      "image/png": "[encoded data removed]",
      "text/latex": [
       "$\\displaystyle 1.0 \\omega_q g {{a}^\\dagger} {\\sigma_-} - 1.0 \\omega_q g {a} {\\sigma_+} + \\omega_r g {{a}^\\dagger} {\\sigma_-} - \\omega_r g {a} {\\sigma_+}$"
      ],
      "text/plain": [
       "                †                                             †               \n",
       "1.0⋅\\omega_q⋅g⋅a ⋅False - 1.0⋅\\omega_q⋅g⋅a⋅False + \\omegaᵣ⋅g⋅a ⋅False - \\omega\n",
       "\n",
       "           \n",
       "ᵣ⋅g⋅a⋅False"
      ]
     },
     "execution_count": 5,
     "metadata": {},
     "output_type": "execute_result"
    }
   ],
   "source": [
    "pauli.qsimplify_pauli(normal_ordered_form(eta.doit().expand()))"
   ]
  },
  {
   "cell_type": "markdown",
   "metadata": {},
   "source": [
    "Now take $A$ and $B$ as the coefficients of $a^\\dagger \\sigma_-$ and $a\\sigma_+$, respectively. Then the commutator"
   ]
  },
  {
   "cell_type": "code",
   "execution_count": 6,
   "metadata": {},
   "outputs": [
    {
     "data": {
      "image/png": "[encoded data removed]",
      "text/latex": [
       "$\\displaystyle 1.0 A \\omega_q {{a}^\\dagger} {\\sigma_-} + A \\omega_r {{a}^\\dagger} {\\sigma_-} + 1.0 B \\omega_q {a} {\\sigma_+} + B \\omega_r {a} {\\sigma_+}$"
      ],
      "text/plain": [
       "                †                    †                                        \n",
       "1.0⋅A⋅\\omega_q⋅a ⋅False + A⋅\\omegaᵣ⋅a ⋅False + 1.0⋅B⋅\\omega_q⋅a⋅False + B⋅\\ome\n",
       "\n",
       "           \n",
       "gaᵣ⋅a⋅False"
      ]
     },
     "execution_count": 6,
     "metadata": {},
     "output_type": "execute_result"
    }
   ],
   "source": [
    "A = sp.Symbol('A')\n",
    "B = sp.Symbol('B')\n",
    "eta = A * Dagger(a) * sminus - B * a * splus;\n",
    "pauli.qsimplify_pauli(normal_ordered_form(Commutator(H0, eta).doit().expand()))"
   ]
  },
  {
   "cell_type": "markdown",
   "metadata": {},
   "source": [
    "This expression should be equal to $H_2$"
   ]
  },
  {
   "cell_type": "code",
   "execution_count": 7,
   "metadata": {},
   "outputs": [
    {
     "data": {
      "image/png": "[encoded data removed]",
      "text/latex": [
       "$\\displaystyle g \\left({{a}^\\dagger} {\\sigma_-} + {a} {\\sigma_+}\\right)$"
      ],
      "text/plain": [
       "  ⎛ †                ⎞\n",
       "g⋅⎝a ⋅False + a⋅False⎠"
      ]
     },
     "execution_count": 7,
     "metadata": {},
     "output_type": "execute_result"
    }
   ],
   "source": [
    "H2"
   ]
  },
  {
   "cell_type": "markdown",
   "metadata": {},
   "source": [
    "which implies $A = B = g/\\Delta$ where $\\Delta = \\omega_r - \\omega_q$ is the frequency detuning between the resonator and qubit. Therefore our $S^{(1)}$ is determined to be"
   ]
  },
  {
   "cell_type": "code",
   "execution_count": 8,
   "metadata": {},
   "outputs": [
    {
     "data": {
      "image/png": "[encoded data removed]",
      "text/latex": [
       "$\\displaystyle \\frac{g \\left({{a}^\\dagger} {\\sigma_-} - {a} {\\sigma_+}\\right)}{\\Delta}$"
      ],
      "text/plain": [
       "  ⎛ †                ⎞\n",
       "g⋅⎝a ⋅False - a⋅False⎠\n",
       "──────────────────────\n",
       "          Δ           "
      ]
     },
     "execution_count": 8,
     "metadata": {},
     "output_type": "execute_result"
    }
   ],
   "source": [
    "S1 = eta.subs(A, g/Delta)\n",
    "S1 = S1.subs(B, g/Delta); S1.factor()"
   ]
  },
  {
   "cell_type": "markdown",
   "metadata": {},
   "source": [
    "Then we can calculate the effective second order correction to $H_0$"
   ]
  },
  {
   "cell_type": "code",
   "execution_count": 9,
   "metadata": {},
   "outputs": [
    {
     "data": {
      "image/png": "[encoded data removed]",
      "text/latex": [
       "$\\displaystyle - 0.5 \\omega_q {\\sigma_z} + \\omega_r {{a}^\\dagger} {a} + \\frac{0.5 g^{2} \\left(1 + 2 {{a}^\\dagger} {a} {\\sigma_z} + {\\sigma_z}\\right)}{\\Delta}$"
      ],
      "text/plain": [
       "                                          2 ⎛       †                ⎞\n",
       "                               †     0.5⋅g ⋅⎝1 + 2⋅a ⋅a⋅False + False⎠\n",
       "-0.5⋅\\omega_q⋅False + \\omegaᵣ⋅a ⋅a + ─────────────────────────────────\n",
       "                                                     Δ                "
      ]
     },
     "execution_count": 9,
     "metadata": {},
     "output_type": "execute_result"
    }
   ],
   "source": [
    "Heff = H0 + 0.5*pauli.qsimplify_pauli(normal_ordered_form(Commutator(H2, S1).doit().expand())).simplify(); Heff"
   ]
  },
  {
   "cell_type": "markdown",
   "metadata": {},
   "source": [
    "This is typically written as\n",
    "$$\n",
    "H_{\\rm eff} = \\left(\\omega_r + \\frac{g^2}{\\Delta}\\sigma_z\\right)a^\\dagger a  - \\frac{1}{2}\\left(\\omega_q -\\frac{g^2}{\\Delta}\\right) \\sigma_z\n",
    "$$\n",
    "which shows a state-dependent shift by $\\chi \\equiv g^2/\\Delta$ of the resonator frequency called the *ac Stark shift* and a shift in qubit frequency due to quantum vacuum fluctuations called the *Lamb shift*."
   ]
  },
  {
   "cell_type": "markdown",
   "metadata": {},
   "source": [
    "## 4.  Full Transmon <a id='full-transmon'></a>\n",
    "\n",
    "Because we are using *transmons* instead of *qubits*, we need to be careful to take the higher-order energy terms into effect when designing and simulating devices. The full transmon Hamiltonian coupled to the readout resonators is\n",
    "\n",
    "$$\n",
    "H^{\\rm tr} = \\omega_r a^\\dagger a + \\sum_j \\omega_j |j\\rangle\\langle j| + g\\left(a^\\dagger c + ac^\\dagger \\right),\n",
    "$$\n",
    "\n",
    "where now $c = \\sum_j \\sqrt{j+1}|j\\rangle\\langle j+1|$ is the transmon lowering operator. Similarly, taking the weakly interacting subsets $A$ as the even-numbered transmon modes and $B$ as the odd-numbered transmon modes. Using the ansatz\n",
    "\n",
    "$$\n",
    "S^{(1)} = \\sum_j \\alpha_j a^\\dagger \\sqrt{j+1}|j\\rangle\\langle j+1| - \\alpha_j^* a \\sqrt{j+1}|j+1\\rangle\\langle j|,\n",
    "$$\n",
    "\n",
    "one may proceed along a messier version of the Jaynes-Cummings Hamiltonian. With some effort one can show the second order effective Hamiltonian is\n",
    "\n",
    "$$\n",
    "H^{\\rm tr}_{\\rm eff} = \\left( \\omega_r + \\sum_j \\frac{g^2(\\omega_r-\\omega+\\delta)}{(\\omega_r-\\omega-\\delta j)(\\omega_r - \\omega - \\delta(j-1))} |j\\rangle\\langle j| \\right) a^\\dagger a + \\sum_j \n",
    "\\left[\n",
    "j\\omega + \\frac{\\delta}{2} (j-1)j + \\frac{jg^2}{\\omega-\\omega_r+(j-1)\\delta} \\right]|j\\rangle\\langle j|.\n",
    "$$"
   ]
  },
  {
   "cell_type": "markdown",
   "metadata": {},
   "source": [
    "## 5. Qubit Drive with cQED <a id='qdwcqed'></a>\n",
    "\n",
    "Following that of [Blais *et al* (2004)](https://arxiv.org/abs/cond-mat/0402216), we model the drive Hamiltonian as\n",
    "$$\n",
    "H^d(t) = \\xi(t)\\left( a^\\dagger e^{-i\\omega_d t} + ae^{i\\omega_d t}\\right).\n",
    "$$\n",
    "Following the treatment in the [Ph.D. dissertation of Lev Bishop](https://arxiv.org/abs/1007.3520), the drive acts on the qubit via the Glauber operator\n",
    "$$\n",
    "D(\\alpha) = e^{\\alpha(t) a^\\dagger - \\alpha^*(t) a}.\n",
    "$$\n",
    "Moving to the Jaynes-Cumming Hamiltonian rotating at the drive frequency,\n",
    "$$\n",
    "H = \\Delta_r a^\\dagger a - \\frac{1}{2} \\Delta_q \\sigma^z + g(a^\\dagger \\sigma^- + a\\sigma^+) + \\xi(t)(a^\\dagger + a)\n",
    "$$\n",
    "with $\\Delta_r = \\omega_r - \\omega_d$ and $\\Delta_q = \\omega_q - \\omega_d$. Applying Hadamard's Lemma to nested commutators,\n",
    "$$\n",
    "e^{A}BA^{-A} = B + [A,B] + \\frac{1}{2!} [A,[A,B]] + \\frac{1}{3!}[A,[A,[A,B]]] + \\ldots\n",
    "$$\n",
    "we see that\n",
    "$$\n",
    "D^\\dagger a^{(\\dagger)} D = \\exp\\{-\\alpha(t) a^\\dagger + \\alpha^*(t) a\\} a^{(\\dagger)}\\exp\\{\\alpha(t) a^\\dagger - \\alpha^*(t) a\\} \n",
    "= a^{(\\dagger)} + \\left[-\\alpha(t) a^\\dagger + \\alpha^*(t) a, a^{(\\dagger)}\\right] + \\frac{1}{2!}\\left[-\\alpha(t) a^\\dagger + \\alpha^*(t) a, \\left[-\\alpha(t) a^\\dagger + \\alpha^*(t) a, a^{(\\dagger)}\\right]\\right] + \\ldots\n",
    " = a^{(\\dagger)} + \\alpha^{(*)}\n",
    "$$\n",
    "and\n",
    "\n",
    "$$\n",
    "D^\\dagger a^\\dagger a D = a^\\dagger a + \\left[-\\alpha(t) a^\\dagger + \\alpha^*(t) a, a^\\dagger a\\right] + \\frac{1}{2!}\\left[-\\alpha(t) a^\\dagger + \\alpha^*(t) a, \\left[-\\alpha(t) a^\\dagger + \\alpha^*(t) a, a^\\dagger a\\right]\\right] + \\ldots\n",
    "= a^\\dagger a + \\alpha(t)a^\\dagger + \\alpha^*(t)a + |\\alpha(t)|^2\n",
    "$$\n",
    "\n",
    "So that we can transform the Hamiltonian\n",
    "\n",
    "$$\n",
    "\\tilde{H} = D^\\dagger H D - iD^\\dagger \\dot{D} = \\Delta_r\\left(a^\\dagger a + \\alpha(t)a^\\dagger + \\alpha^*(t)a + |\\alpha(t)|^2\\right) - \\frac{1}{2} \\Delta_q \\sigma^z \\\\ + g\\left((a^\\dagger + \\alpha^*(t))\\sigma^- + (a+\\alpha(t))\\sigma^+\\right) + \\xi(t)\\left(a^\\dagger + \\alpha^*(t) + a + \\alpha(t) \\right) - i\\left(\\dot{\\alpha}(t) a^\\dagger - \\dot{\\alpha}^*(t) a\\right) \\\\\n",
    "= \\Delta_r a^\\dagger a - \\frac{1}{2}\\Delta_q \\sigma^z + g\\left((a^\\dagger + \\alpha^*(t))\\sigma^- + (a+\\alpha(t))\\sigma^+\\right) \\\\\n",
    "+\\xi(t)\\left(a^\\dagger  + a \\right) + \\Delta_r\\left(\\alpha(t)a^\\dagger + \\alpha^*(t)a\\right)- i\\left(\\dot{\\alpha}(t) a^\\dagger - \\dot{\\alpha}^*(t) a\\right)\n",
    "$$\n",
    "\n",
    "where the non-operator terms have been dropped. The last line can be set to zero if we choose\n",
    "\n",
    "$$\n",
    "-i\\dot{\\alpha}(t) + \\Delta_r \\alpha(t) + \\xi(t) = 0,\n",
    "$$\n",
    "\n",
    "and finally introducting the Rabi frequency $\\Omega(t) = 2g\\alpha(t)$, we arrive at\n",
    "\n",
    "$$\n",
    "\\tilde{H} = \\Delta_r a^\\dagger a - \\frac{1}{2}\\Delta_q \\sigma^z + g\\left(a^\\dagger\\sigma^- + a\\sigma^+\\right)\n",
    "+\\frac{1}{2} \\left( \\Omega^*(t)\\sigma^- + \\Omega(t) \\sigma^+\\right).\n",
    "$$\n",
    "\n",
    "Since the drive part of the Hamiltonian is block off-diagonal, we can perform a Schrieffer-Wolff transformation on it (for a real drive $\\Omega^*(t) = \\Omega(t)$) and add it to the effective Hamiltonian,\n",
    "\n",
    "$$\n",
    "[\\tilde{H}^d, S^{(1)}] = -\\frac{\\Omega(t)}{2} \\left[ (\\sigma^- + \\sigma^+),\\frac{g}{\\Delta}\\left( a^\\dagger \\sigma^- - a\\sigma^+\\right)\\right] = \\frac{g\\Omega(t)}{2\\Delta}(a + a^\\dagger)\\sigma^z\n",
    "$$\n",
    "\n",
    "so the effective Hamiltonian becomes\n",
    "\n",
    "$$\n",
    "\\tilde{H}_{\\rm eff} = \\left( \\Delta_r + \\frac{g^2}{\\Delta}\\sigma^z\\right) a^\\dagger a - \\frac{1}{2}\\left(\\Delta_q - \\frac{g^2}{\\Delta}\\right) \\sigma^z + \\frac{\\Omega(t)}{2}\\sigma^x\n",
    "+ \\frac{g\\Omega(t)}{4\\Delta}(a + a^\\dagger)\\sigma^z.\n",
    "$$\n",
    "\n",
    "Note here that to eliminate the $z$ rotations, one should drive at the Lamb-shifted qubit frequency. The additional $\\sigma^z$ term is small because $\\Delta \\gg g$ in the dispersive regime."
   ]
  },
  {
   "cell_type": "markdown",
   "metadata": {},
   "source": [
    "## 6. The Cross Resonance Entangling Gate <a id='tcreg'></a>\n",
    "\n",
    "Driving qubit one at the frequency of qubit two can be written as\n",
    "\n",
    "$$\n",
    "H^d(t) = \\frac{\\Omega(t)}{2} \\left( \\sigma_1^+ e^{-i\\tilde{\\omega}_2 t} + \\sigma_1^- e^{i\\tilde{\\omega}_2 t}\\right).\n",
    "$$\n",
    "\n",
    "Now, we need to apply Schrieffer-Wolff to the drive term to get the effective Hamiltonian, and then do the RWA at frequency $\\tilde{\\omega}_2$.\n",
    "\n",
    "$$\n",
    "[\\tilde{H}^d, S^{(1)}] = -\\frac{J\\Omega(t)}{2\\Delta_{12}} \\left[ \\sigma_1^+ e^{-i\\tilde{\\omega}_2 t} + \\sigma_1^- e^{i\\tilde{\\omega}_2 t}, \\sigma_1^+ \\sigma_2^- - \\sigma_2^+ \\sigma_1^-\\right] \n",
    "=-\\frac{J\\Omega(t)}{2\\Delta_{12}} \\left(\\sigma_1^z \\sigma_2^+ e^{-i\\tilde{\\omega}_2 t}\n",
    "+\\sigma_1^z \\sigma_2^- e^{i\\tilde{\\omega}_2 t} \\right)\n",
    "$$\n",
    "\n",
    "Transforming back the the rotating frame at $\\omega_2$, we get the effective qubit cross resonance Hamiltonian\n",
    "\n",
    "$$\n",
    "\\tilde{H}_{\\rm eff}^{\\rm CR} = - \\frac{\\tilde{\\omega}_1-\\tilde{\\omega}_2}{2}\\sigma_1^z \n",
    "+ \\frac{\\Omega(t)}{2} \\left(\\sigma_2^x - \\frac{J}{2\\Delta_{12}} \\sigma_1^z \\sigma_2^x \\right).\n",
    "$$\n",
    "\n",
    "The first two terms involve the $ZI$ interaction due to a Stark shift on qubit 1 and an unconditional $IX$ rotation on qubit 2, but the final term represents the $ZX$-interaction that produces entanglement. By putting qubit 1 into a an equal superposition of $|0\\rangle$ and $|1\\rangle$ and applying the cross resonance gate for a duration corresponding to a $\\pi/2$ rotation around the $x$-axis, a maximally entangled state is produced. Using Qiskit to characterize the two-qubit cross resonance Hamiltonian for transmons can be done with [this tutorial](https://github.com/Qiskit/qiskit-tutorials/blob/9405254b38312771f8d5c2dd6f451cec35307995/tutorials/noise/1_hamiltonian_and_gate_characterization.ipynb). Further reading on the cross resonance gate is found [here](https://arxiv.org/abs/1106.0553) and [here](https://arxiv.org/abs/1603.04821).\n"
   ]
  },
  {
   "cell_type": "code",
   "execution_count": null,
   "metadata": {},
   "outputs": [],
   "source": []
  }
 ],
 "metadata": {
  "kernelspec": {
   "display_name": "Python 3",
   "language": "python",
   "name": "python3"
  },
  "language_info": {
   "codemirror_mode": {
    "name": "ipython",
    "version": 3
   },
   "file_extension": ".py",
   "mimetype": "text/x-python",
   "name": "python",
   "nbconvert_exporter": "python",
   "pygments_lexer": "ipython3",
   "version": "3.8.3"
  }
 },
 "nbformat": 4,
 "nbformat_minor": 4
}
