{
 "cells": [
  {
   "cell_type": "markdown",
   "metadata": {},
   "source": [
    "# Measuring the Qubit ac-Stark Shift\n",
    "\n",
    "### Physics Background\n",
    "\n",
    "Let's consider a qubit with frequency $\\omega_q$ strongly coupled to a resonator with frequency $\\omega_r$ with $\\omega_q<\\omega_r$; the qubit-resonator coupling strength is $g$ and the detuning is $\\Delta=\\omega_q-\\omega_r$. In the dispersive limit, the system can be described using the following Hamiltonian: \n",
    "\n",
    "$H_{JC(disp)}/\\hbar=\\omega_r (a^\\dagger a+\\frac{1}{2}) + \\frac{1}{2} (\\omega_q + \\frac{g^2}{\\Delta} + \\frac{2g^2}{\\Delta} a^\\dagger a) \\sigma_z$\n",
    "\n",
    "where $a$ and $a^\\dagger$ are the raising a lowering operators of the resonator photons, and $\\sigma_z$ is the Pauli-Z operator acting on the qubit. In this frame the qubit frequency \n",
    "\n",
    "$\\tilde{\\omega}_q=\\omega_q + \\frac{g^2}{\\Delta} + \\frac{2g^2}{\\Delta} \\bar{n}$ \n",
    "\n",
    "experiences a constant Lamb shift of $g^2/\\Delta$ induced by the vacuum fluctuations in the resonator, and an ac-Stark shift of $(2g^2/\\Delta) \\bar{n}$ where $\\bar{n}=\\langle a^\\dagger a \\rangle$ is the average number of photons present in the resonator. For more details checkout this <a href=\"https://arxiv.org/abs/cond-mat/0408367\">paper</a>. In this tutorial we investigate the ac-Stark shift of the qubit caused by the photon population in the resonator using Qiskit Pulse."
   ]
  },
  {
   "cell_type": "markdown",
   "metadata": {},
   "source": [
    "### 0. Getting started"
   ]
  },
  {
   "cell_type": "markdown",
   "metadata": {},
   "source": [
    "We'll first get our basic dependencies set up and ready to go."
   ]
  },
  {
   "cell_type": "code",
   "execution_count": 1,
   "metadata": {},
   "outputs": [
    {
     "name": "stderr",
     "output_type": "stream",
     "text": [
      "C:\\Users\\karam\\AppData\\Roaming\\Python\\Python37\\site-packages\\qiskit\\providers\\ibmq\\ibmqfactory.py:192: UserWarning: Timestamps in IBMQ backend properties, jobs, and job results are all now in local time instead of UTC.\n",
      "  warnings.warn('Timestamps in IBMQ backend properties, jobs, and job results '\n"
     ]
    }
   ],
   "source": [
    "%matplotlib inline\n",
    "# Importing standard Qiskit libraries and configuring account\n",
    "from qiskit import QuantumCircuit, execute, Aer, IBMQ\n",
    "from qiskit.compiler import transpile, assemble\n",
    "from qiskit.visualization import SchedStyle\n",
    "# Loading your IBM Q account(s)\n",
    "provider = IBMQ.load_account()\n",
    "provider = IBMQ.get_provider(hub='ibm-q', group='open', project='main')\n",
    "backend = provider.get_backend('ibmq_armonk')"
   ]
  },
  {
   "cell_type": "markdown",
   "metadata": {},
   "source": [
    "We then extract the default backend configuration and settings for the selected chip"
   ]
  },
  {
   "cell_type": "code",
   "execution_count": 2,
   "metadata": {},
   "outputs": [],
   "source": [
    "backend_config = backend.configuration()\n",
    "backend_defaults = backend.defaults()\n",
    "dt=backend_config.dt  # hardware resolution\n",
    "backend.configuration().parametric_pulses = [] # will allow us to send a larger waveform for our experiments\n",
    "style = SchedStyle(figsize=(3, 2), title_font_size=10, axis_font_size=8) # style for displaying the pulse sequence"
   ]
  },
  {
   "cell_type": "markdown",
   "metadata": {},
   "source": [
    "Next we define some helper functions that we will use for fitting and interpreting our data"
   ]
  },
  {
   "cell_type": "code",
   "execution_count": 5,
   "metadata": {},
   "outputs": [],
   "source": [
    "from scipy.optimize import leastsq,minimize, curve_fit\n",
    "\n",
    "# samples need to be multiples of 16 to accommodate the hardware limitations\n",
    "def get_closest_multiple_of_16(num):\n",
    "    return int(num + 8 ) - (int(num + 8 ) % 16)\n",
    "\n",
    "# lorentzian function\n",
    "def lorentzian(f, f0, k, a, offs):\n",
    "    return a*k/(2*np.pi)/((k/2)**2+(f-f0)**2)+offs\n",
    "\n",
    "#fit_lorentzian takes two arrays that contain the frequencies and experimental output values of each frequency respectively. \n",
    "#returns the lorentzian parameters that best fits this output of the experiment.\n",
    "#popt are the fit parameters and pcov is the covariance matrix for the fit\n",
    "def fit_lorentzian(freqs,values):\n",
    "    p0=[freqs[np.argmax(values)],(freqs[-1]-freqs[0])/2,max(values),0]\n",
    "    bounds=([freqs[0],0,0,-np.inf],[freqs[-1],freqs[-1]-freqs[0],np.inf,np.inf])\n",
    "    popt,pcov=curve_fit(lorentzian, freqs, values, p0=p0, bounds=bounds)\n",
    "    return popt,pcov\n",
    "\n",
    "# Gaussian function\n",
    "def gaussian(f, f0, sigma, a, offs):\n",
    "    return a*np.exp(-(f-f0)**2/(2*sigma**2))+offs\n",
    "\n",
    "#fit_gaussian takes two arrays that contain the frequencies and experimental output values of each frequency respectively. \n",
    "#returns the gaussian parameters that best fits this output of the experiment.\n",
    "#popt are the fit parameters and pcov is the covariance matrix for the fit\n",
    "def fit_gaussian(freqs,values):\n",
    "    p0=[freqs[np.argmax(values)],(freqs[-1]-freqs[0])/2,max(values),0]\n",
    "    bounds=([freqs[0],0,0,-np.inf],[freqs[-1],freqs[-1]-freqs[0],np.inf,np.inf])\n",
    "    popt,pcov=curve_fit(gaussian, freqs, values, p0=p0, bounds=bounds)\n",
    "    return popt,pcov\n",
    "\n",
    "# normalize the data points to fall in the range of [0,1]\n",
    "def normalize(a):\n",
    "    a= a-min(a)\n",
    "    return a/max(a)"
   ]
  },
  {
   "cell_type": "markdown",
   "metadata": {},
   "source": [
    "### 1.  ac-Stark Shifting the qubit\n",
    "In order to ac-Stark shift the qubit we need to populate the resonator with photons using an on-resonance drive. For a drive amplitude $\\epsilon$, and a resonator decay rate of $\\kappa$, the number of photons in the resonator $\\bar{n}=\\langle a^\\dagger a \\rangle = \\frac{\\epsilon^2}{\\Delta^2 +(\\kappa/2)^2}$. As a reminder $\\tilde{\\omega}_q=\\omega_q + \\frac{g^2}{\\Delta} + \\delta \\omega_q$ where the shift in frequency due to ac_Stark shift is $\\delta \\omega_q = \\frac{2g^2}{\\Delta} \\bar{n}$. Since $\\Delta=\\omega_q-\\omega_r<0$ the qubit frequency gets smaller as we increase the of photons in the resonator"
   ]
  },
  {
   "cell_type": "code",
   "execution_count": 6,
   "metadata": {},
   "outputs": [],
   "source": [
    "from qiskit import pulse            # This is where we access all of our Pulse features!\n",
    "from qiskit.pulse import Play, Acquire\n",
    "from qiskit.pulse import pulse_lib\n",
    "import numpy as np\n",
    "\n",
    "qubit=0   # qubit used in our experiment\n",
    "\n",
    "inst_sched_map = backend_defaults.instruction_schedule_map\n",
    "# Get the default measurement pulse sequence\n",
    "measure = inst_sched_map.get('measure', qubits=backend_config.meas_map[0])  \n",
    "\n",
    "qubit_drive_sigma = 100e-9           #the width of the qubit spectroscopy drive\n",
    "resonator_drive_sigma=10e-9          #the width of the resonator drive\n",
    "drive_duration=10*qubit_drive_sigma  #the resonator drive duration\n",
    "\n",
    "# We use a Gaussian shape pulse to drive the qubit for spectroscopy\n",
    "qubit_drive = pulse_lib.gaussian(duration = get_closest_multiple_of_16(drive_duration//dt),\n",
    "                             amp = .1,\n",
    "                             sigma = get_closest_multiple_of_16(qubit_drive_sigma//dt),\n",
    "                             name = 'qubit tone')\n",
    "\n",
    "\n",
    "drive_chan = pulse.DriveChannel(qubit)   # qubit drive channel\n",
    "meas_chan = pulse.MeasureChannel(qubit)  # resonator channel\n",
    "acq_chan = pulse.AcquireChannel(qubit)   # readout signal acquisition channel"
   ]
  },
  {
   "cell_type": "code",
   "execution_count": 8,
   "metadata": {},
   "outputs": [],
   "source": [
    "measurement_delay=20e-9\n",
    "\n",
    "resonator_tone_amplitude = np.linspace(0,1,11) #change to amplitude\n",
    "resonator_tone_pulses = []\n",
    "for amp in resonator_tone_amplitude:\n",
    "    # we use a square pulse with Gaussian rise and fall time to populate the resonator with photons\n",
    "    temp_resonator_tone=pulse_lib.GaussianSquare(duration = get_closest_multiple_of_16(drive_duration//dt),\n",
    "                             amp = amp,\n",
    "                             sigma = get_closest_multiple_of_16(resonator_drive_sigma//dt),\n",
    "                             width = get_closest_multiple_of_16((drive_duration-4*resonator_drive_sigma)//dt),\n",
    "                             name = 'resonator tone')\n",
    "    # pulse sequence for the experiment at different amplitudes\n",
    "    with pulse.build(name=f\"resonator tone amplitude = {np.round(amp,2)} V\") as temp_pulse:\n",
    "        pulse.play(qubit_drive, drive_chan)\n",
    "        pulse.play(temp_resonator_tone, meas_chan)\n",
    "        pulse.delay(int(measurement_delay//dt), meas_chan)\n",
    "        pulse.call(measure)\n",
    "    \n",
    "    resonator_tone_pulses.append(temp_pulse)"
   ]
  },
  {
   "cell_type": "code",
   "execution_count": 9,
   "metadata": {},
   "outputs": [
    {
     "data": {
      "image/png": "[encoded data removed]",
      "text/plain": [
       "<Figure size 450x300 with 1 Axes>"
      ]
     },
     "execution_count": 9,
     "metadata": {},
     "output_type": "execute_result"
    }
   ],
   "source": [
    "resonator_tone_pulses[2].draw(style=style)"
   ]
  },
  {
   "cell_type": "code",
   "execution_count": 12,
   "metadata": {},
   "outputs": [],
   "source": [
    "start=4.960e9  # qubit spectroscopy start frequency\n",
    "stop=4.980e9   # qubit spectroscopy stop frequency\n",
    "freqs = np.linspace(start, stop, 41)-500e3\n",
    "# list of qubit drive frequencies for spectroscopy\n",
    "schedule_frequencies = [{drive_chan: freq , meas_chan: backend_defaults.meas_freq_est[qubit]} for freq in freqs]"
   ]
  },
  {
   "cell_type": "markdown",
   "metadata": {},
   "source": [
    "Here we send our pulse sequence to the hardware"
   ]
  },
  {
   "cell_type": "code",
   "execution_count": 13,
   "metadata": {
    "scrolled": false
   },
   "outputs": [
    {
     "name": "stderr",
     "output_type": "stream",
     "text": [
      "/opt/conda/lib/python3.7/site-packages/qiskit/compiler/assemble.py:323: RuntimeWarning: Dynamic rep rates not supported on this backend. rep_time will be used instead of rep_delay.\n",
      "  RuntimeWarning,\n"
     ]
    },
    {
     "name": "stdout",
     "output_type": "stream",
     "text": [
      "Job Status: job has successfully run\n",
      "Job Status: job has successfully run\n",
      "Job Status: job has successfully run\n",
      "Job Status: job has successfully run\n",
      "Job Status: job has successfully run\n",
      "Job Status: job has successfully run\n",
      "Job Status: job has successfully run\n",
      "Job Status: job has successfully run\n",
      "Job Status: job has successfully run\n",
      "Job Status: job has successfully run\n",
      "Job Status: job has successfully run\n"
     ]
    }
   ],
   "source": [
    "from qiskit import assemble\n",
    "from qiskit.tools.monitor import job_monitor\n",
    "\n",
    "num_shots = 4*1024\n",
    "\n",
    "resonator_tone_experiments=[assemble(resonator_tone_pulses[i],\n",
    "                            backend=backend, \n",
    "                            meas_level=1,\n",
    "                            meas_return='avg',\n",
    "                            shots=num_shots,\n",
    "                            schedule_los= schedule_frequencies) for i in range(len(resonator_tone_pulses))]\n",
    "\n",
    "resonator_tone_results=[]\n",
    "for experiment in resonator_tone_experiments:\n",
    "    job = backend.run(experiment)\n",
    "    job_monitor(job)\n",
    "    resonator_tone_results.append(job.result(timeout=120))"
   ]
  },
  {
   "cell_type": "markdown",
   "metadata": {},
   "source": [
    "And then we access the measurement data."
   ]
  },
  {
   "cell_type": "code",
   "execution_count": 14,
   "metadata": {},
   "outputs": [
    {
     "data": {
      "image/png": "[encoded data removed]",
      "text/plain": [
       "<Figure size 432x288 with 1 Axes>"
      ]
     },
     "metadata": {
      "needs_background": "light"
     },
     "output_type": "display_data"
    }
   ],
   "source": [
    "import matplotlib.pyplot as plt\n",
    "\n",
    "skip_idx=0\n",
    "\n",
    "resonator_tone_values = []\n",
    "for result in resonator_tone_results:\n",
    "    result_values=[]\n",
    "    for i in range(len(result.results)):\n",
    "        result_values.append(result.get_memory(i)[qubit])\n",
    "\n",
    "    resonator_tone_values.append(normalize(result_values))\n",
    "    #resonator_tone_values.append(np.real(result_values))\n",
    "    \n",
    "plot_extent=[freqs[0]/1e9,freqs[-1]/1e9,resonator_tone_amplitude[skip_idx],resonator_tone_amplitude[-1]]\n",
    "plt.imshow(np.abs(resonator_tone_values[skip_idx:]), aspect='auto', origin='lower', cmap='viridis',\n",
    "          extent=plot_extent)\n",
    "\n",
    "plt.xlabel('Qubit tone frequency [GHz]')\n",
    "plt.ylabel('Resonator tone amplitude [V]')\n",
    "plt.title('Qubit ac-Stark shift')\n",
    "plt.show()"
   ]
  },
  {
   "cell_type": "markdown",
   "metadata": {},
   "source": [
    "### 2.  Qubit frequency shift and linewidth broadening\n",
    "Using the Jaynes-Cummings model we expect a qubit frequency shift of $\\delta \\omega_q = \\frac{2g^2}{\\Delta} \\bar{n}$. The qubit frequency experiences fluctuations due the photon shot-noise which leads to qubit linewidth broadening and a dephasing rate of $\\Gamma_\\phi=\\frac{4 \\chi^2}{\\kappa} \\bar{n}$"
   ]
  },
  {
   "cell_type": "code",
   "execution_count": 15,
   "metadata": {},
   "outputs": [
    {
     "data": {
      "image/png": "[encoded data removed]",
      "text/plain": [
       "<Figure size 432x288 with 1 Axes>"
      ]
     },
     "metadata": {
      "needs_background": "light"
     },
     "output_type": "display_data"
    },
    {
     "data": {
      "image/png": "[encoded data removed]",
      "text/plain": [
       "<Figure size 432x288 with 1 Axes>"
      ]
     },
     "metadata": {
      "needs_background": "light"
     },
     "output_type": "display_data"
    }
   ],
   "source": [
    "show_individual_traces=False\n",
    "skip_idx=3  # number of points to skip\n",
    "\n",
    "center=[]\n",
    "fwhm=[]\n",
    "for i in range(len(resonator_tone_values)):\n",
    "    popt,pcov=fit_gaussian(freqs,np.abs(np.real(resonator_tone_values[i])))\n",
    "    center.append(popt[0])\n",
    "    fwhm.append(2.355*popt[1])\n",
    "    if show_individual_traces:\n",
    "        plt.plot(freqs/1e3, np.real(resonator_tone_values[i]))\n",
    "        plt.plot(freqs/1e3, gaussian(freqs,*popt), '--')\n",
    "if show_individual_traces: plt.show()\n",
    "\n",
    "center_fit=np.polyfit(resonator_tone_amplitude[skip_idx:], (center[skip_idx:]-center[0]),1)\n",
    "plt.plot(resonator_tone_amplitude[skip_idx:], np.poly1d(center_fit/1e6)(resonator_tone_amplitude[skip_idx:]), '--', lw=2, color='grey')\n",
    "plt.plot(resonator_tone_amplitude[skip_idx:], (center[skip_idx:]-center[0])/1e6, 'o', color='black')\n",
    "plt.xlabel(r'Resonator tone amplitude [V]')\n",
    "plt.ylabel(r'$\\delta \\omega_q (MHz)$')\n",
    "plt.show()\n",
    "\n",
    "fwhm_fit=np.polyfit(resonator_tone_amplitude[skip_idx:], np.array(fwhm[skip_idx:]),1)\n",
    "plt.plot(resonator_tone_amplitude[skip_idx:], np.poly1d(fwhm_fit/1e6)(resonator_tone_amplitude[skip_idx:]), '--', lw=2, color='orange')\n",
    "plt.plot(resonator_tone_amplitude[skip_idx:], np.array(fwhm[skip_idx:])/1e6, 'o', color='red')\n",
    "plt.xlabel(r'Resonator tone amplitude [V]')\n",
    "plt.ylabel(r'FWHM (MHz)')\n",
    "plt.show()"
   ]
  },
  {
   "cell_type": "markdown",
   "metadata": {},
   "source": [
    "In this chapter we discuss the ac-Stark shift that the qubit experiences due to the presence of photons in the resonator. We use Qiskit Pulse to measure the qubit frequency shift and linewidth broadening"
   ]
  },
  {
   "cell_type": "code",
   "execution_count": 2,
   "metadata": {},
   "outputs": [
    {
     "data": {
      "text/plain": [
       "{'qiskit-terra': '0.16.0',\n",
       " 'qiskit-aer': '0.7.0',\n",
       " 'qiskit-ignis': '0.5.0',\n",
       " 'qiskit-ibmq-provider': '0.11.0',\n",
       " 'qiskit-aqua': '0.8.0',\n",
       " 'qiskit': '0.23.0'}"
      ]
     },
     "execution_count": 2,
     "metadata": {},
     "output_type": "execute_result"
    }
   ],
   "source": [
    "import qiskit\n",
    "qiskit.__qiskit_version__"
   ]
  }
 ],
 "metadata": {
  "kernelspec": {
   "display_name": "Python 3",
   "language": "python",
   "name": "python3"
  },
  "language_info": {
   "codemirror_mode": {
    "name": "ipython",
    "version": 3
   },
   "file_extension": ".py",
   "mimetype": "text/x-python",
   "name": "python",
   "nbconvert_exporter": "python",
   "pygments_lexer": "ipython3",
   "version": "3.7.7"
  }
 },
 "nbformat": 4,
 "nbformat_minor": 4
}
