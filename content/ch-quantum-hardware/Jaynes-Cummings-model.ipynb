{
 "cells": [
  {
   "cell_type": "markdown",
   "metadata": {},
   "source": [
    "# Exploring the Jaynes-Cummings Hamiltonian with Qiskit Pulse\n",
    "\n",
    "### Physics Background\n",
    "\n",
    "The Jaynes-Cummings model describes a two-level system (qubit) interacting with a single-mode of an electromagnetic cavity (resonator). When a two-level system is placed in a cavity, it couples to the cavity with strength $g$, spontaneously emits its excitation with rate $\\gamma$, while the cavity decays with rate $\\kappa$. In this tutorial we measure the parameters of a system consting of a superconducting qubit coupled to a superconducting resonator using Qiskit Pulse."
   ]
  },
  {
   "cell_type": "markdown",
   "metadata": {},
   "source": [
    "<img src=\"images/CQED.png\" width=\"250\"/>"
   ]
  },
  {
   "cell_type": "markdown",
   "metadata": {},
   "source": [
    "This qubit-cavity interaction can be described using the Jaynes-Cummings (JC) Hamiltonian: \n",
    "\n",
    "$H_{JC}/\\hbar=\\omega_r(a^\\dagger a) - \\frac{1}{2} \\omega_q \\sigma_z + g (\\sigma_+ a + \\sigma_- a^\\dagger)$\n",
    "\n",
    "Let's break down this Hamiltonian in different parts: The first part of the Hamiltonian $H_r/\\hbar=\\omega_r(a^\\dagger a)$ describes the resonator. The resonator can be treated as a quantum harmonic oscillator, where $\\omega_r$ is the resonator frequency, and $a$ and $a^\\dagger$ are the raising a lowering operators of the resonator photons. Note that for simplicity we have omitted the zero point enegery of the harmonic oscillator. The next term in the JC Hamiltoninan $H_q/\\hbar=-\\frac{1}{2} \\omega_q \\sigma_z$ describes the qubit. Here, $\\omega_q$ is the qubit frequency, and $\\sigma_z$ is the Pauli-Z operator. The final term of the Hamiltonian $H_{rq}/\\hbar=g (\\sigma_+ a + \\sigma_- a^\\dagger)$ describes the interaction between the resonator and the qubit: $g$ is the coupling strength between the qubit and the resonator, and the operators $\\sigma_+$ and $\\sigma_-$ represent exciting and de-exciting the qubit. Based on this interaction term we can see that the process of exciting a qubit leads to a photon loss in the resonator and vice-versa. \n",
    "\n",
    "In the limit that detuning between the qubit and the resonator $\\Delta=\\omega_q-\\omega_r$ is less than the coupling strength between the two, $|\\Delta|\\ll g$, the resonator-qubit system becomes hybridized, leading to coherent excitation swaps which can be useful for certain two-qubit operations. However, for optimal readout, we want to operate the system in the dispersive limit, where the qubit-resonator detuning is much larger than the coupling rate and the resonator decay rate: $|\\Delta| \\gg g,\\kappa$. In this limit the interaction between the qubit and resonator influences each of their frequencies, a feature that can be used for measuring the state of the qubit. We can apply the dispersive approximation in the limit of few photons in the resonator, and approximate the JC Hamiltonian using second-order perturbation theory as: \n",
    "\n",
    "$H_{JC(disp)}/\\hbar=(\\omega_r+ \\chi \\sigma_z) a^\\dagger a + \\frac{1}{2} \\tilde{\\omega}_q \\sigma_z$\n",
    "\n",
    "where $\\chi=-g^2/\\Delta$ is the dispersive shift (the negative sign is ue to the fact that the transmon has a negative anharmonicity), and $\\tilde{\\omega}_q= \\omega_q+g^2/\\Delta$ is the modified qubit frequency, experiencing a Lamb shift.\n",
    "\n",
    "The circuit quantum electrodynamics derivations are disscussed in another <a href=\"https://qiskit.org/textbook/ch-quantum-hardware/cQED-JC-SW.html\">chapter</a>. "
   ]
  },
  {
   "cell_type": "markdown",
   "metadata": {},
   "source": [
    "### 0. Getting started"
   ]
  },
  {
   "cell_type": "markdown",
   "metadata": {},
   "source": [
    "We'll first get our basic dependencies and helper functions set up and ready to go."
   ]
  },
  {
   "cell_type": "code",
   "execution_count": 1,
   "metadata": {
    "tags": [
     "uses-hardware"
    ]
   },
   "outputs": [
    {
     "name": "stderr",
     "output_type": "stream",
     "text": [
      "C:\\Users\\karam\\AppData\\Roaming\\Python\\Python37\\site-packages\\qiskit\\providers\\ibmq\\ibmqfactory.py:192: UserWarning: Timestamps in IBMQ backend properties, jobs, and job results are all now in local time instead of UTC.\n",
      "  warnings.warn('Timestamps in IBMQ backend properties, jobs, and job results '\n"
     ]
    }
   ],
   "source": [
    "# Importing standard Qiskit libraries and configuring account\n",
    "from qiskit import QuantumCircuit, execute, Aer, IBMQ\n",
    "from qiskit.compiler import transpile, assemble\n",
    "from qiskit.visualization import SchedStyle\n",
    "# Loading your IBM Q account(s)\n",
    "provider = IBMQ.load_account()\n",
    "IBMQ.get_provider(hub='ibm-q', group='open', project='main')\n",
    "backend = provider.get_backend('ibmq_armonk')"
   ]
  },
  {
   "cell_type": "markdown",
   "metadata": {},
   "source": [
    "We then extract the default backend configuration and settings for the selected chip"
   ]
  },
  {
   "cell_type": "code",
   "execution_count": 1,
   "metadata": {
    "tags": [
     "uses-hardware"
    ]
   },
   "outputs": [
    {
     "name": "stderr",
     "output_type": "stream",
     "text": [
      "/opt/conda/lib/python3.7/site-packages/qiskit/providers/ibmq/ibmqfactory.py:192: UserWarning: Timestamps in IBMQ backend properties, jobs, and job results are all now in local time instead of UTC.\n",
      "  warnings.warn('Timestamps in IBMQ backend properties, jobs, and job results '\n"
     ]
    }
   ],
   "source": [
    "backend_config = backend.configuration()\n",
    "backend_defaults = backend.defaults()\n",
    "backend.configuration().parametric_pulses = []  # Will allow us to send a larger waveform for our experiments\n",
    "style = SchedStyle(figsize=(3, 2), title_font_size=10, axis_font_size=8) # style for displaying the pulse sequence"
   ]
  },
  {
   "cell_type": "markdown",
   "metadata": {},
   "source": [
    "Next we define some helper functions that we will use for fitting and interpreting our data"
   ]
  },
  {
   "cell_type": "code",
   "execution_count": 2,
   "metadata": {},
   "outputs": [],
   "source": [
    "from scipy.optimize import curve_fit\n",
    "from scipy.signal import savgol_filter\n",
    "\n",
    "# samples need to be multiples of 16 to accommodate the hardware limitations\n",
    "def get_closest_multiple_of_16(num):\n",
    "    return int(num + 8 ) - (int(num + 8 ) % 16)\n",
    "\n",
    "# process the reflective measurement results\n",
    "# in a reflective measurement the data is encoded in the phase of the output signal\n",
    "def process_reflective_measurement(freqs,values):\n",
    "    phase_grad = np.gradient(savgol_filter(np.unwrap(np.angle(values)),3,2),freqs)\n",
    "    return (phase_grad-min(phase_grad))/(max(phase_grad)-min(phase_grad)) - 1\n",
    "\n",
    "# lorentzian function\n",
    "def lorentzian(f, f0, k, a, offs):\n",
    "    return -a*k/(2*np.pi)/((k/2)**2+(f-f0)**2)+offs\n",
    "\n",
    "#fit_lorentzian takes two arrays that contain the frequencies and experimental output values of each frequency respectively. \n",
    "#returns the lorentzian parameters that best fits this output of the experiment.\n",
    "#popt are the fit parameters and pcov is the covariance matrix for the fit\n",
    "def fit_lorentzian(freqs,values):\n",
    "    p0=[freqs[np.argmin(values)],(freqs[-1]-freqs[0])/2,min(values),0]\n",
    "    bounds=([freqs[0],0,-np.inf,-np.inf],[freqs[-1],freqs[-1]-freqs[0],np.inf,np.inf])\n",
    "    popt,pcov=curve_fit(lorentzian, freqs, values, p0=p0, bounds=bounds)\n",
    "    return popt,pcov\n",
    "\n",
    "# exponential function\n",
    "def exponential(t,tau,a,offset):\n",
    "    return a*np.exp(-t/tau)+offset\n",
    "\n",
    "# fit an exponential function\n",
    "def fit_exponential(ts,values):\n",
    "    p0=[np.average(ts),1,0]\n",
    "    return curve_fit(exponential, ts, values,p0=p0)"
   ]
  },
  {
   "cell_type": "markdown",
   "metadata": {},
   "source": [
    "### 1. Measuring $\\kappa$"
   ]
  },
  {
   "cell_type": "markdown",
   "metadata": {},
   "source": [
    "Photons decay out of imperfect electromagnetic cavities. The decay rate $\\kappa$ for the resonator cavity can be measured by calculating the linewidth of the resonance peak in a resonator spectroscopy scan. Larger values of $\\kappa$ imply that the resonator cavity is more lossy. The resonator loss can be quantified using the quality factor $Q=\\omega_r/\\kappa$; higher $Q$ indicates a lower rate of energy loss from the cavity."
   ]
  },
  {
   "cell_type": "code",
   "execution_count": 3,
   "metadata": {
    "tags": [
     "uses-hardware"
    ]
   },
   "outputs": [
    {
     "name": "stderr",
     "output_type": "stream",
     "text": [
      "/opt/conda/lib/python3.7/site-packages/ipykernel_launcher.py:3: DeprecationWarning: the pulse_lib module is deprecated, pulse_lib is renamed to library\n",
      "  This is separate from the ipykernel package so we can avoid doing imports until\n"
     ]
    }
   ],
   "source": [
    "from qiskit import pulse            # This is where we access all of our Pulse features!\n",
    "from qiskit.pulse import Play, Acquire\n",
    "import qiskit.pulse.library as pulse_lib\n",
    "import numpy as np\n",
    "\n",
    "dt=backend_config.dt   # hardware resolution\n",
    "\n",
    "qubit=0   # qubit used in our experiment\n",
    "\n",
    "readout_time = 4e-6\n",
    "readout_sigma = 10e-9 \n",
    "\n",
    "# low power drive for the resonator for dispersive readout\n",
    "# We use a square pulse with a Guassian rise and fall time\n",
    "readout_drive_low_power=pulse_lib.GaussianSquare(duration = get_closest_multiple_of_16(readout_time//dt),\n",
    "                             amp = .3,\n",
    "                             sigma = get_closest_multiple_of_16(readout_sigma//dt),\n",
    "                             width = get_closest_multiple_of_16((readout_time-8*readout_sigma)//dt),\n",
    "                             name = 'low power readout tone')\n",
    "\n",
    "meas_chan = pulse.MeasureChannel(qubit) # resonator channel\n",
    "acq_chan = pulse.AcquireChannel(qubit)  # readout signal acquisition channel\n",
    "\n",
    "# readout output signal acquisition setup\n",
    "acquisition_time = readout_time   # We want to acquire the readout signal for the full duration of the readout"
   ]
  },
  {
   "cell_type": "code",
   "execution_count": 4,
   "metadata": {
    "tags": [
     "uses-hardware"
    ]
   },
   "outputs": [
    {
     "data": {
      "image/png": "[encoded data removed]",
      "text/plain": [
       "<Figure size 450x300 with 1 Axes>"
      ]
     },
     "execution_count": 4,
     "metadata": {},
     "output_type": "execute_result"
    }
   ],
   "source": [
    "# build the pulse sequence for low power resonator spectroscopy\n",
    "with pulse.build(name='low_power_resonator_sweep') as pulse_low_power:\n",
    "    #drive the resonator with low power\n",
    "    pulse.play(readout_drive_low_power, meas_chan) \n",
    "    #acquire the readout signal\n",
    "    pulse.acquire(duration = get_closest_multiple_of_16(acquisition_time//dt),\n",
    "                    qubit_or_channel = acq_chan,\n",
    "                    register = pulse.MemorySlot(0))\n",
    "    \n",
    "pulse_low_power.draw(style=style)"
   ]
  },
  {
   "cell_type": "code",
   "execution_count": 5,
   "metadata": {
    "tags": [
     "uses-hardware"
    ]
   },
   "outputs": [],
   "source": [
    "center_freq = backend_defaults.meas_freq_est[qubit]  # an estimate for the resonator frequency\n",
    "freq_span = 0.3e6 # resonator scan span. The span should be larger than the resonator linewidth kappa\n",
    "\n",
    "frequencies_range = np.linspace(center_freq-freq_span/2,center_freq+freq_span/2,41)\n",
    "# list of resonator frequencies for the experiment\n",
    "schedule_frequencies = [{meas_chan: freq} for freq in frequencies_range] "
   ]
  },
  {
   "cell_type": "markdown",
   "metadata": {},
   "source": [
    "Here we send our pulse sequence to the hardware"
   ]
  },
  {
   "cell_type": "code",
   "execution_count": 6,
   "metadata": {
    "tags": [
     "uses-hardware"
    ]
   },
   "outputs": [
    {
     "name": "stderr",
     "output_type": "stream",
     "text": [
      "/opt/conda/lib/python3.7/site-packages/qiskit/compiler/assemble.py:323: RuntimeWarning: Dynamic rep rates not supported on this backend. rep_time will be used instead of rep_delay.\n",
      "  RuntimeWarning,\n"
     ]
    },
    {
     "name": "stdout",
     "output_type": "stream",
     "text": [
      "Job Status: job has successfully run\n"
     ]
    }
   ],
   "source": [
    "from qiskit import assemble\n",
    "from qiskit.tools.monitor import job_monitor\n",
    "\n",
    "num_shots_per_frequency = 2*1024 \n",
    "frequency_sweep_low_power = assemble(pulse_low_power,\n",
    "                                   backend=backend, \n",
    "                                   meas_level=1,\n",
    "                                   meas_return='avg',\n",
    "                                   shots=num_shots_per_frequency,\n",
    "                                   schedule_los=schedule_frequencies)\n",
    "\n",
    "job_low_power = backend.run(frequency_sweep_low_power)\n",
    "job_monitor(job_low_power)\n",
    "\n",
    "low_power_sweep_results = job_low_power.result(timeout=120)"
   ]
  },
  {
   "cell_type": "markdown",
   "metadata": {},
   "source": [
    "And then we access the measurement data. The resonator in the backend we use for this tutorial is measured reflectively, so the spectroscopy data is encoded in the phase of the output signal. We fit a Lorentzian function to the data to extract the resonator frequency and linewidth."
   ]
  },
  {
   "cell_type": "code",
   "execution_count": 7,
   "metadata": {
    "tags": [
     "uses-hardware"
    ]
   },
   "outputs": [
    {
     "data": {
      "image/png": "[encoded data removed]",
      "text/plain": [
       "<Figure size 432x288 with 1 Axes>"
      ]
     },
     "metadata": {
      "needs_background": "light"
     },
     "output_type": "display_data"
    }
   ],
   "source": [
    "import matplotlib.pyplot as plt\n",
    "\n",
    "low_power_sweep_values = []\n",
    "for i in range(len(low_power_sweep_results.results)):\n",
    "    res_low_power = low_power_sweep_results.get_memory(i)\n",
    "    low_power_sweep_values.append(res_low_power[qubit])\n",
    "\n",
    "low_power_sweep_values = process_reflective_measurement(frequencies_range,low_power_sweep_values)\n",
    "\n",
    "plt.plot(frequencies_range/1e3, low_power_sweep_values,'-o', color='red', lw=2)\n",
    "\n",
    "popt_low_power,_=fit_lorentzian(frequencies_range,low_power_sweep_values)\n",
    "\n",
    "popt_low_power,_=fit_lorentzian(frequencies_range,low_power_sweep_values)\n",
    "f0, kappa, a, offset = popt_low_power\n",
    "\n",
    "fs=np.linspace(frequencies_range[0],frequencies_range[-1],1000)\n",
    "plt.plot(fs/1e3, lorentzian(fs,*popt_low_power), color='red', ls='--')\n",
    "plt.annotate(\"\", xy=((f0-kappa/2)/1e3, offset-1/2), xytext=((f0+kappa/2)/1e3, offset-1/2), arrowprops=dict(arrowstyle=\"<->\", color='black'))\n",
    "plt.annotate(\"$\\kappa$={:d} kHz\".format(int(kappa/1e3)), xy=((f0-kappa/2)/1e3, offset-.45), color='black')\n",
    "\n",
    "plt.grid()\n",
    "plt.xlabel(\"Frequency [kHz]\")\n",
    "plt.ylabel(\"Measured signal [a.u.]\")\n",
    "plt.show()"
   ]
  },
  {
   "cell_type": "markdown",
   "metadata": {},
   "source": [
    "### 2. Measuring $\\chi$ and $g$"
   ]
  },
  {
   "cell_type": "markdown",
   "metadata": {},
   "source": [
    "Next, we measure the qubit-resonator coupling. One method for measuring the dispersive shift ($\\chi$) and subsequently the qubit-resonator coupling ($g=\\sqrt{\\chi.\\Delta}$) is to compare the resonator frequency in the dispersive limit with the frequency in the non-interactive regime, where the resonator does not get shifted by $\\chi$. In the non-interactive limit the resonator photon number $n=a^\\dagger a$ is larger than $n_c=\\frac{\\Delta^2}{4g^2}$. In experiment we can populate the resonator with more photons by driving it with more power."
   ]
  },
  {
   "cell_type": "code",
   "execution_count": 8,
   "metadata": {
    "tags": [
     "uses-hardware"
    ]
   },
   "outputs": [],
   "source": [
    "readout_drive_high_power=pulse_lib.GaussianSquare(duration = get_closest_multiple_of_16(readout_time//dt),\n",
    "                             amp = 1, # High drive amplitude\n",
    "                             sigma = get_closest_multiple_of_16(readout_sigma//dt),\n",
    "                             width = get_closest_multiple_of_16((readout_time-8*readout_sigma)//dt),\n",
    "                             name = 'high power readout tone')"
   ]
  },
  {
   "cell_type": "code",
   "execution_count": 9,
   "metadata": {
    "tags": [
     "uses-hardware"
    ]
   },
   "outputs": [
    {
     "data": {
      "image/png": "[encoded data removed]",
      "text/plain": [
       "<Figure size 450x300 with 1 Axes>"
      ]
     },
     "execution_count": 9,
     "metadata": {},
     "output_type": "execute_result"
    }
   ],
   "source": [
    "# build the pulse sequence for high power resonator spectroscopy\n",
    "with pulse.build(name='high_power_resonator_sweep') as pulse_high_power:\n",
    "    #drive the resonator with high power\n",
    "    pulse.play(readout_drive_high_power, meas_chan)\n",
    "    #acquire the readout signal\n",
    "    pulse.acquire(duration = get_closest_multiple_of_16(acquisition_time//dt),\n",
    "                    qubit_or_channel = acq_chan,\n",
    "                    register = pulse.MemorySlot(0))\n",
    "    \n",
    "pulse_high_power.draw(style=style)"
   ]
  },
  {
   "cell_type": "markdown",
   "metadata": {},
   "source": [
    "Here we send our pulse sequence to the hardware"
   ]
  },
  {
   "cell_type": "code",
   "execution_count": 10,
   "metadata": {
    "tags": [
     "uses-hardware"
    ]
   },
   "outputs": [
    {
     "name": "stderr",
     "output_type": "stream",
     "text": [
      "/opt/conda/lib/python3.7/site-packages/qiskit/compiler/assemble.py:323: RuntimeWarning: Dynamic rep rates not supported on this backend. rep_time will be used instead of rep_delay.\n",
      "  RuntimeWarning,\n"
     ]
    },
    {
     "name": "stdout",
     "output_type": "stream",
     "text": [
      "Job Status: job has successfully run\n"
     ]
    }
   ],
   "source": [
    "frequency_sweep_high_power = assemble(pulse_high_power,\n",
    "                                   backend=backend, \n",
    "                                   meas_level=1,\n",
    "                                   meas_return='avg',\n",
    "                                   shots=num_shots_per_frequency,\n",
    "                                   schedule_los=schedule_frequencies)\n",
    "\n",
    "job_high_power = backend.run(frequency_sweep_high_power)\n",
    "job_monitor(job_high_power)\n",
    "\n",
    "high_power_sweep_results = job_high_power.result(timeout=120)"
   ]
  },
  {
   "cell_type": "markdown",
   "metadata": {},
   "source": [
    "And then we access the measurement data for the high power resonator spectroscopy scan"
   ]
  },
  {
   "cell_type": "code",
   "execution_count": 11,
   "metadata": {
    "tags": [
     "uses-hardware"
    ]
   },
   "outputs": [],
   "source": [
    "high_power_sweep_values = []\n",
    "for i in range(len(high_power_sweep_results.results)):\n",
    "    res_high_power = high_power_sweep_results.get_memory(i)\n",
    "    high_power_sweep_values.append(res_high_power[qubit])\n",
    "\n",
    "high_power_sweep_values = process_reflective_measurement(frequencies_range,high_power_sweep_values)\n",
    "\n",
    "popt_high_power,_=fit_lorentzian(frequencies_range,high_power_sweep_values)"
   ]
  },
  {
   "cell_type": "markdown",
   "metadata": {},
   "source": [
    "Finally we plot the high power resonator spectroscopy next to the low power scan from the previous section and use the shift in resonator frequency to calculate $\\chi$"
   ]
  },
  {
   "cell_type": "code",
   "execution_count": 12,
   "metadata": {
    "scrolled": true,
    "tags": [
     "uses-hardware"
    ]
   },
   "outputs": [
    {
     "data": {
      "image/png": "[encoded data removed]",
      "text/plain": [
       "<Figure size 432x288 with 1 Axes>"
      ]
     },
     "metadata": {
      "needs_background": "light"
     },
     "output_type": "display_data"
    },
    {
     "name": "stdout",
     "output_type": "stream",
     "text": [
      "chi=23.5 kHz\n",
      "g=6.9 MHz\n"
     ]
    }
   ],
   "source": [
    "plt.plot(frequencies_range/1e3, high_power_sweep_values, '-o', color='black', lw=2, label='non-interactive')\n",
    "plt.plot(frequencies_range/1e3, low_power_sweep_values,'-o', color='red', lw=2, label='dispersive')\n",
    "\n",
    "fs=np.linspace(frequencies_range[0],frequencies_range[-1],1000)\n",
    "plt.plot(fs/1e3, lorentzian(fs,*popt_high_power), color='black', ls='--')\n",
    "plt.plot(fs/1e3, lorentzian(fs,*popt_low_power), color='red', ls='--')\n",
    "\n",
    "plt.axvline(x=popt_low_power[0]/1e3, color='red')\n",
    "plt.axvline(x=popt_high_power[0]/1e3, color='black')\n",
    "\n",
    "chi=popt_low_power[0]-popt_high_power[0]\n",
    "plt.annotate(\"\", xy=(popt_low_power[0]/1e3, -.1), xytext=(popt_high_power[0]/1e3, -.1), arrowprops=dict(arrowstyle=\"<->\", color='black'))\n",
    "plt.annotate(\"$\\chi$={:d} kHz\".format(int(chi/1e3)), xy=(popt_high_power[0]/1e3, -.05), color='black')\n",
    "\n",
    "plt.grid()\n",
    "plt.xlabel(\"Frequency [kHz]\")\n",
    "plt.ylabel(\"Measured signal [a.u.]\")\n",
    "plt.legend()\n",
    "plt.show()\n",
    "\n",
    "print(r'chi={:.1f} kHz'.format((popt_low_power[0]-popt_high_power[0])/1e3))\n",
    "Delta=abs(backend_defaults.meas_freq_est[qubit] - backend_defaults.qubit_freq_est[qubit])\n",
    "print(r'g={:.1f} MHz'.format(np.sqrt(chi*Delta)/1e6))"
   ]
  },
  {
   "cell_type": "markdown",
   "metadata": {},
   "source": [
    "### 3. Measuring $\\gamma$"
   ]
  },
  {
   "cell_type": "markdown",
   "metadata": {},
   "source": [
    "A qubit coupled to a resonator will spontaneous emit photons into the cavity, and therefore relaxing from an excited state to the ground state. The spontaneous emission of photons gets enhanced by the qubit environment, a phenomenon known as the Purcell effect. We can measure the qubit decay rate $\\gamma$ by exciting the qubit with a microwave drive, and measuring the decay rate $T_1=1/\\gamma$ of the qubit excitation. This experiment is a common method method for measuring qubit coherence properties as discussed in this <a href=\"https://qiskit.org/textbook/ch-quantum-hardware/cQED-JC-SW.html\">chapter</a>. For this experiment our microwave drive doesn't have to be $\\pi$-pulse "
   ]
  },
  {
   "cell_type": "code",
   "execution_count": 20,
   "metadata": {
    "tags": [
     "uses-hardware"
    ]
   },
   "outputs": [
    {
     "data": {
      "image/png": "[encoded data removed]",
      "text/plain": [
       "<Figure size 450x300 with 1 Axes>"
      ]
     },
     "execution_count": 20,
     "metadata": {},
     "output_type": "execute_result"
    }
   ],
   "source": [
    "drive_sigma = 100e-9\n",
    "drive_duration = 8*drive_sigma\n",
    "\n",
    "# qubit micrwave drive\n",
    "# We use a Gaussian pulse to excite our qubit\n",
    "qubit_drive = pulse_lib.gaussian(duration = get_closest_multiple_of_16(drive_duration//dt),\n",
    "                             amp = .5,\n",
    "                             sigma = get_closest_multiple_of_16(drive_sigma//dt),\n",
    "                             name = 'qubit tone')\n",
    "\n",
    "drive_chan = pulse.DriveChannel(qubit) # qubit drive channel\n",
    "\n",
    "# We drive our qubit, wait for some time (time delay), and then measure the qubit\n",
    "# Using these measurements we can create a plot of qubit population vs. time delay\n",
    "delay_times=np.linspace(0,600e-6,61) #measurement time delays\n",
    "qubit_decay_pulses = []\n",
    "for delay in delay_times:\n",
    "    \n",
    "    with pulse.build(name=f\"decay delay = {delay * 1e6} us\") as temp_decay_pulse:\n",
    "        #drive the qubit\n",
    "        pulse.play(qubit_drive, drive_chan)\n",
    "        #meanwhile do nothing with the resonator\n",
    "        pulse.delay(get_closest_multiple_of_16(drive_duration//dt), meas_chan)\n",
    "        #wait for the duration of the time delay before measuring the qubit\n",
    "        pulse.delay(int(delay//dt), meas_chan)\n",
    "        \n",
    "        #sequence for measuring the qubit\n",
    "        with pulse.build() as temp_sched:\n",
    "            #drive the resonator with low power\n",
    "            pulse.play(readout_drive_low_power, meas_chan)\n",
    "            #acquire the readout signal\n",
    "            pulse.acquire(duration = get_closest_multiple_of_16(acquisition_time//dt),\n",
    "                            qubit_or_channel = acq_chan,\n",
    "                            register = pulse.MemorySlot(0))\n",
    "        \n",
    "        #call the measuring sequence\n",
    "        pulse.call(temp_sched)\n",
    "        \n",
    "    qubit_decay_pulses.append(temp_decay_pulse)\n",
    "\n",
    "qubit_decay_pulses[0].draw(style=style)"
   ]
  },
  {
   "cell_type": "markdown",
   "metadata": {},
   "source": [
    "Here we send our pulse sequence to the hardware"
   ]
  },
  {
   "cell_type": "code",
   "execution_count": 23,
   "metadata": {
    "tags": [
     "uses-hardware"
    ]
   },
   "outputs": [
    {
     "name": "stderr",
     "output_type": "stream",
     "text": [
      "/opt/conda/lib/python3.7/site-packages/qiskit/compiler/assemble.py:323: RuntimeWarning: Dynamic rep rates not supported on this backend. rep_time will be used instead of rep_delay.\n",
      "  RuntimeWarning,\n"
     ]
    },
    {
     "name": "stdout",
     "output_type": "stream",
     "text": [
      "Job Status: job has successfully run\n"
     ]
    }
   ],
   "source": [
    "# setting the readout frequency to the resontor frequecy in the dispersive limit measured earlier\n",
    "# setting the qubit freqency to the default value\n",
    "los = [{meas_chan: f0, drive_chan: backend_defaults.qubit_freq_est[qubit]}] # pulse frequencies for each channel\n",
    "\n",
    "num_shots = 4*1024  # increasing this number will make your output more accurate,\n",
    "                    # but it will slow down the experiment\n",
    "\n",
    "qubit_decay_experiment = assemble(qubit_decay_pulses,\n",
    "                         backend=backend, \n",
    "                         meas_level=1,\n",
    "                         meas_return='avg',\n",
    "                         shots=num_shots,\n",
    "                         schedule_los= los * len(qubit_decay_pulses))\n",
    "\n",
    "job_qubit_decay = backend.run(qubit_decay_experiment)\n",
    "job_monitor(job_qubit_decay)"
   ]
  },
  {
   "cell_type": "markdown",
   "metadata": {},
   "source": [
    "And then we access the measurement data. We fit an exponential to the data to extract the decay time constant."
   ]
  },
  {
   "cell_type": "code",
   "execution_count": 25,
   "metadata": {
    "tags": [
     "uses-hardware"
    ]
   },
   "outputs": [
    {
     "data": {
      "image/png": "[encoded data removed]",
      "text/plain": [
       "<Figure size 432x288 with 1 Axes>"
      ]
     },
     "metadata": {
      "needs_background": "light"
     },
     "output_type": "display_data"
    },
    {
     "name": "stdout",
     "output_type": "stream",
     "text": [
      "gamma=  6.43 kHz\n"
     ]
    }
   ],
   "source": [
    "qubit_decay_results = job_qubit_decay.result(timeout=120)\n",
    "\n",
    "qubit_decay_values = []\n",
    "for i in range(len(delay_times)):\n",
    "    qubit_decay_values.append(qubit_decay_results.get_memory(i)[qubit])\n",
    "qubit_decay_values = np.abs(qubit_decay_values)\n",
    "qubit_decay_values = (qubit_decay_values-min(qubit_decay_values))\n",
    "qubit_decay_values/=max(qubit_decay_values)\n",
    "\n",
    "decay_popt,_=fit_exponential(delay_times, qubit_decay_values)\n",
    "tau=decay_popt[0]\n",
    "g=1/tau\n",
    "\n",
    "plt.scatter(delay_times*1e6, qubit_decay_values, color='black') \n",
    "plt.plot(delay_times*1e6,exponential(delay_times,*decay_popt),'--',lw=2,color='red',label=r'$\\tau$={:.1f} $\\mu$s'.format(tau*1e6))\n",
    "plt.title(\"$T_1$ Experiment\", fontsize=15)\n",
    "plt.xlabel('Delay before measurement [$\\mu$s]', fontsize=15)\n",
    "plt.ylabel('Signal [a.u.]', fontsize=15)\n",
    "plt.legend()\n",
    "plt.show()\n",
    "\n",
    "print(r'gamma=  {:.2f} kHz'.format(g/1e3))"
   ]
  },
  {
   "cell_type": "markdown",
   "metadata": {},
   "source": [
    "In this chapter we introduce the Jaynes-Cummings model and we consider the relevant quantities for a system consisting of a qubit coupled to a cavity. We use Qiskit Pulse to extract the qubit-resonator coupling strength $g$, the qubit spontaneous emission rate $\\gamma$, and the cavity decay rate $\\kappa$. These parameters combined with the qubit frequency and the resonator frequency that we measured in a previous <a href=\"https://qiskit.org/textbook/ch-quantum-hardware/cQED-JC-SW.html\">chapter</a> allow us to describe our qubit-resonator system."
   ]
  },
  {
   "cell_type": "code",
   "execution_count": 2,
   "metadata": {},
   "outputs": [
    {
     "data": {
      "text/plain": [
       "{'qiskit-terra': '0.16.0',\n",
       " 'qiskit-aer': '0.7.0',\n",
       " 'qiskit-ignis': '0.5.0',\n",
       " 'qiskit-ibmq-provider': '0.11.0',\n",
       " 'qiskit-aqua': '0.8.0',\n",
       " 'qiskit': '0.23.0'}"
      ]
     },
     "execution_count": 2,
     "metadata": {},
     "output_type": "execute_result"
    }
   ],
   "source": [
    "import qiskit\n",
    "qiskit.__qiskit_version__"
   ]
  }
 ],
 "metadata": {
  "celltoolbar": "Tags",
  "kernelspec": {
   "display_name": "Python 3",
   "language": "python",
   "name": "python3"
  },
  "language_info": {
   "codemirror_mode": {
    "name": "ipython",
    "version": 3
   },
   "file_extension": ".py",
   "mimetype": "text/x-python",
   "name": "python",
   "nbconvert_exporter": "python",
   "pygments_lexer": "ipython3",
   "version": "3.7.7"
  }
 },
 "nbformat": 4,
 "nbformat_minor": 4
}
