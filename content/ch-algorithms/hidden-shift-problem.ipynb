{
 "cells": [
  {
   "cell_type": "markdown",
   "id": "ade8e984",
   "metadata": {},
   "source": [
    "# Hidden Shift Problem"
   ]
  },
  {
   "cell_type": "markdown",
   "id": "fd53d995",
   "metadata": {},
   "source": [
    "In this notebook, we introduce the hidden shift problem over bent functions and two different quantum algorithms to solve it. We then implement these algorithms using Qiskit and run on a simulator and device.\n",
    "\n",
    "## Contents\n",
    "\n",
    "1. [Introduction](#introduction)  \n",
    "   1.1 [Hidden Shift Problem over Bent Functions](#hidden-shift-problem-over-bent-functions)  \n",
    "   1.2 [Fourier-transform-accessible Algorithm](#fourier-transform-accessible-algorithm)  \n",
    "   1.3 [Fourier-transform-free Algorithm](#fourier-transform-free-algorithm)  \n",
    "2. [Example](#example)  \n",
    "3. [Qiskit Implementation](#implementation)  \n",
    "   3.1 [Fourier-transform-accessible Algorithm](#ftaa)  \n",
    "   3.2 [Fourier-transform-free Algorithm](#ftfa)  \n",
    "<!--    3.3 [Integer-Valued Algorithm](#iva)   -->\n",
    "4. [Problems](#problems)  \n",
    "<!-- 6. [Cryptanalysis of Poly1305](#poly1305)   -->\n",
    "5. [References](#references)"
   ]
  },
  {
   "cell_type": "markdown",
   "id": "95f6bf02",
   "metadata": {},
   "source": [
    "## 1. Introduction <a id='introduction'> </a>\n",
    "\n",
    "The hidden shift problem is an oracle-based problem that is closely related to Simon's problem and factorization problem. There exists an exponential quantum-classical separation for the query complexity of the hidden shift problem over bent functions [1, 2].\n",
    "\n",
    "Bent functions are a particular type of Boolean functions which are maximally non-linear and hard to approximate by linear or affine functions making them interesting for cryptographic purposes [3].\n",
    "\n",
    "The known quantum advantage on the extension of the hidden shift problem to modular addition provides a threat to commonly used cryptographic primitives such as Poly1305 and CSIDH [4]. Moreover, those quantum algorithms to solve the hidden shift problem have been used to benchmark quantum computers on different hardware [5, 6].\n",
    "\n",
    "Therefore, we focus on the hidden shift problem over bent functions in this notebook."
   ]
  },
  {
   "cell_type": "markdown",
   "id": "f430418a",
   "metadata": {},
   "source": [
    "### 1.1 Hidden Shift Problem over Bent Functions <a id='hidden-shift-problem-over-bent-functions'> </a>\n",
    "\n",
    "Suppose $n$-bit boolean bent functions $f, g: \\mathbb{Z}^n_2 \\rightarrow \\mathbb{Z}_2$ satisfying the relation: $f(x + s) = g(x)$ for some \"hidden shift\" $s \\in \\mathbb{Z}^n_2$.\n",
    "\n",
    "Given an oracle that encodes $f, g$ and possibly Fourier transforms $\\tilde{f}, \\tilde{g}$, how can we find the hidden shift $s$ while accessing the oracle within a number of times as little as possible?"
   ]
  },
  {
   "cell_type": "markdown",
   "id": "178a469a",
   "metadata": {},
   "source": [
    "### 1.2 Fourier-transform-accessible Algorithm <a id='fourier-transform-accessible-algorithm'> </a>\n",
    "\n",
    "We first present the case when we have access to the Fourier transform $\\tilde{f}$. This quantum algorithm was first introduced in Reference [1].\n",
    "\n",
    "#### 1.2a The Classical Solution\n",
    "\n",
    "We can compute the general classical complexity of the problem with a brute-force approach, putting in all possible inputs to classify $f(x)$ and $g(x)$. Then it costs $2 \\cdot 2^n$ oracle queries. Reference [1] showed that if we have access to the Fourier transform $\\tilde{f}$, we can identify $s$ in $\\Theta(n)$ queries at best with some Fourier analysis on bent functions.\n",
    "\n",
    "#### 1.2b The Quantum Solution\n",
    "\n",
    "Before we learn about the quantum algorithm, we must first talk about the Fourier transform on the boolean group $\\mathbb{Z}^n_2$ with bitwise modular addition, $01 + 11 = (0+1, 1+1) = 10$ for example. For any real valued function $f : \\mathbb{Z}^n_2 \\rightarrow \\mathbb{R}$, its Fourier transform is the function $\\tilde{f} : \\mathbb{Z}^n_2 \\rightarrow \\mathbb{R}$ defined by:\n",
    "\n",
    "$$\n",
    "\\tilde{f}(x) = \\frac{1}{\\sqrt{2^n}} \\sum_{y} (-1)^{x \\cdot y}f(y)\n",
    "$$\n",
    "\n",
    "It is quite interesting that this specific Fourier transform is called \"Hadamard transform\", while the Hadamard transform on qubits is defined by:\n",
    "\n",
    "$$\n",
    "H \\left| x \\right> = \\frac{1}{\\sqrt{2^n}} \\sum_{y} (-1)^{x \\cdot y} \\left| y \\right>,\n",
    "$$\n",
    "\n",
    "Now, let's go through the quantum algorithm.\n",
    "\n",
    "If the oracle lets us access to the Fourier transform, there exists an one-shot algorithm that directly returns $\\left| s \\right>$:\n",
    "\n",
    "![hsp_ftaa](images/hsp_ftaa.jpg)\n",
    "\n",
    "For any given function $f$, the oracle $U$ is an operator that encodes the given function as below:\n",
    "\n",
    "$$\n",
    "U_f \\left| x \\right> = (-1)^{f(x)} \\left| x \\right> \\equiv F(x) \\left| x \\right>\n",
    "$$\n",
    "\n",
    "It operates phase flip on the input state $\\left| x \\right>$ according to the function value. We simply denote $(-1)^{f(x)} = F(x)$, then we can also benefit from the fact from Fourier analysis: $\\tilde{F}(x) = (-1)^{\\tilde{f}(x)}$.\n",
    "\n",
    "Here go the steps of the algorithm shown in the figure:\n",
    "\n",
    "<ol>\n",
    "   <li>\n",
    "        The $n$-qubit register is initialized to the zero state:  \n",
    "$$\n",
    "\\left| \\psi_1 \\right> = \\left| 0 \\right> ^{\\otimes n}\n",
    "$$\n",
    "\n",
    "   </li>\n",
    "   \n",
    "   <li>\n",
    "        Apply a Hadamard transform to the whole qubits:  \n",
    "$$\n",
    "\\left| \\psi_2 \\right> = \\frac{1}{\\sqrt{2^n}} \\sum_{x} \\left| x \\right>\n",
    "$$\n",
    "\n",
    "   </li>\n",
    "\n",
    "   <li>\n",
    "        Query the oracle $U_{g}$:  \n",
    "$$\n",
    "\\begin{aligned}\n",
    "    \\left| \\psi_3 \\right>\n",
    "        & = \\frac{1}{\\sqrt{2^n}} \\sum_{x} G(x) \\left| x \\right> \\\\\n",
    "        & = \\frac{1}{\\sqrt{2^n}} \\sum_{x} F(x + s) \\left| x \\right>\n",
    "\\end{aligned}\n",
    "$$\n",
    "\n",
    "   </li>\n",
    "\n",
    "   <li>\n",
    "        Apply Hadamard gates again:  \n",
    "$$\n",
    "\\begin{aligned}\n",
    "    \\left| \\psi_4 \\right>\n",
    "        & = \\frac{1}{2^n} \\sum_{y} \\left[ \\sum_{x} (-1)^{x \\cdot y} F(x + s) \\right] \\left| y \\right> \\\\\n",
    "        & = \\frac{1}{\\sqrt{2^n}} \\sum_{y} (-1)^{s \\cdot y} \\left[ \\frac{1}{\\sqrt{2^n}} \\sum_{x} (-1)^{(x + s) \\cdot y} F(x + s) \\right] \\left| y \\right>\n",
    "\\end{aligned}\n",
    "$$\n",
    "\n",
    "However the term inside square brackets is nothing but $\\tilde{F}(y)$:  \n",
    "$$\n",
    "= \\frac{1}{\\sqrt{2^n}} \\sum_{y} (-1)^{s \\cdot y} \\tilde{F}(y) \\left| y \\right>\n",
    "$$\n",
    "\n",
    "   </li>\n",
    "\n",
    "   <li>\n",
    "        Query the oracle $U_{\\tilde{f}}$:  \n",
    "$$\n",
    "\\begin{aligned}\n",
    "    \\left| \\psi_5 \\right>\n",
    "        & = \\frac{1}{\\sqrt{2^n}} \\sum_{y} (-1)^{s \\cdot y} \\tilde{F}(y) \\tilde{F}(y) \\left| y \\right> \\\\\n",
    "        & = \\frac{1}{\\sqrt{2^n}} \\sum_{y} (-1)^{s \\cdot y} \\left| y \\right>\n",
    "\\end{aligned}\n",
    "$$\n",
    "        \n",
    "   </li>\n",
    "\n",
    "   <li>\n",
    "        Finally, retrieve $\\left| s \\right>$ by cancelling out the Hadamard transform:  \n",
    "$$\n",
    "\\left| \\psi_6 \\right> = \\left| s \\right>\n",
    "$$\n",
    "        \n",
    "   </li>\n",
    "</ol>\n",
    "\n",
    "Hence, we can solve the hidden shift problem with one query of $U_g$ and one query of $U_{\\tilde{f}}$."
   ]
  },
  {
   "cell_type": "markdown",
   "id": "f8ead28b",
   "metadata": {},
   "source": [
    "### 1.3 Fourier-transform-free Algorithm <a id='fourier-transform-free-algorithm'> </a>\n",
    "\n",
    "If the oracle does not provide the Fourier transform, the problem gets exponentially harder, classically. However we can still solve the problem with quantum computers within a linear number of queries. The first idea of this Fourier-transform-free algorithm was first introduced in Reference [1], and then improved in Reference [2]. We employed the latter one in this notebook.\n",
    "\n",
    "#### 1.3a The Classical Solution\n",
    "\n",
    "For the case without the access to the Fourier transform, it is proven in Reference [2] that the classical query complexity becomes $\\Omega \\left( \\sqrt{2^n} \\right)$, i.e., it requires at least $\\sqrt{2^n}$ order of queries. We can just remind that the brute-force approach is in $2^n$ order.\n",
    "\n",
    "#### 1.3b The Quantum Solution\n",
    "\n",
    "We can solve the problem in a constant probability with the quantum algorithm below in $O(n)$ queries.\n",
    "\n",
    "![hsp_ftfa](images/hsp_ftfa.jpg)\n",
    "\n",
    "For any given function $f$, the oracle $O$ is an operator that encodes the given function as below:\n",
    "\n",
    "$$\n",
    "O_f \\left| b \\right> \\left| x \\right> = \\left| b + f(x) \\right> \\left| x \\right>\n",
    "$$\n",
    "\n",
    "It takes inputs from the second register and returns the output to the first register. Note that this oracle $O$ is slightly different from the previous oracle $U$ used in section 1.2.\n",
    "\n",
    "Now, let's go through the steps shown in the figure:\n",
    "\n",
    "<ol>\n",
    "   <li>\n",
    "        The output register and $n$-qubit input register are initialized to the zero state:  \n",
    "$$\n",
    "\\left| \\psi_1 \\right> = \\left| 0 \\right> \\left| 0 \\right>^{\\otimes n}\n",
    "$$\n",
    "   </li>\n",
    "   \n",
    "   <li>\n",
    "        Apply Hadamard gates on the input register to create uniform superposition:  \n",
    "$$\n",
    "\\left| \\psi_2 \\right> = \\frac{1}{\\sqrt{2^n}} \\sum_{x} \\left| 0 \\right> \\left| x \\right>\n",
    "$$\n",
    "\n",
    "   </li>\n",
    "\n",
    "   <li>\n",
    "        Query the oracle $O_f$:  \n",
    "$$\n",
    "\\left| \\psi_3 \\right> = \\frac{1}{\\sqrt{2^n}} \\sum_{x} \\left| f(x) \\right> \\left| x \\right>\n",
    "$$\n",
    "\n",
    "   </li>\n",
    "\n",
    "   <li>\n",
    "        Apply Z gate on the output register:  \n",
    "$$\n",
    "\\left| \\psi_4 \\right> = \\frac{1}{\\sqrt{2^n}} \\sum_{x} F(x) \\left| f(x) \\right> \\left| x \\right>\n",
    "$$\n",
    "\n",
    "   </li>\n",
    "\n",
    "   <li>\n",
    "        Query the oracle $O_g$:  \n",
    "$$\n",
    "\\begin{aligned}\n",
    "    \\left| \\psi_5 \\right>\n",
    "        & = \\frac{1}{\\sqrt{2^n}} \\sum_{x} F(x) \\left| f(x) + g(x) \\right> \\left| x \\right> \\\\\n",
    "        & = \\frac{1}{\\sqrt{2^n}} \\sum_{x} \\left[ \\frac{F(x) + G(x)}{2} \\left| 0 \\right> + \\frac{F(x) - G(x)}{2} \\left| 1 \\right> \\right] \\left| x \\right>\n",
    "\\end{aligned}\n",
    "$$\n",
    "\n",
    "   </li>\n",
    "\n",
    "   <li>\n",
    "        Apply Hadamard transform on the input register:  \n",
    "$$\n",
    "\\begin{aligned}\n",
    "    \\left| \\psi_6 \\right>\n",
    "        & = \\frac{1}{2^n} \\sum_{x, y} (-1)^{x \\cdot y} \\left[ \\frac{F(x) + G(x)}{2} \\left| 0 \\right> + \\frac{F(x) - G(x)}{2} \\left| 1 \\right> \\right] \\left| y \\right> \\\\\n",
    "        & = \\frac{1}{2^n} \\sum_{x, y} \\left[ \\frac{(-1)^{x \\cdot y} F(x) + (-1)^{x \\cdot y} F(x + s)}{2} \\left| 0 \\right> + \\frac{(-1)^{x \\cdot y} F(x) - (-1)^{x \\cdot y} F(x + s)}{2} \\left| 1 \\right> \\right] \\left| y \\right> \\\\\n",
    "        & = \\frac{1}{\\sqrt{2^n}} \\sum_{y} \\left[ \\frac{\\tilde{F}(y) + (-1)^{s \\cdot y} \\tilde{F}(y)}{2} \\left| 0 \\right> + \\frac{\\tilde{F}(y) - (-1)^{s \\cdot y} \\tilde{F}(y)}{2} \\left| 1 \\right> \\right] \\left| y \\right>\n",
    "\\end{aligned}\n",
    "$$\n",
    "\n",
    "Then we can simplify the equation with the binary index $b$:  \n",
    "$$\n",
    "\\begin{aligned}\n",
    "    & = \\frac{1}{\\sqrt{2^n}} \\sum_{b, y} \\tilde{F}(y) \\left( \\frac{1 + (-1)^{(1, s) \\cdot (b, y)}}{2} \\right) \\left| b \\right> \\left| y \\right>\n",
    "\\end{aligned}\n",
    "$$\n",
    "\n",
    "Now we measure the state $\\left| b, y \\right>$, then the probability of getting a result $\\left| b_0, y_0 \\right>$ is:  \n",
    "$$\n",
    "\\begin{aligned}\n",
    "    P(b_0, y_0)\n",
    "        & = \\left| \\left< b_0, y_0 \\middle| \\frac{1}{\\sqrt{2^n}} \\sum_{b, y} \\tilde{F}(y) \\left( \\frac{1 + (-1)^{(1, s) \\cdot (b, y)}}{2} \\right) \\middle| b, y \\right> \\right| ^2 \\\\\n",
    "        & = \\frac{1}{2^n} \\cdot \\left| \\tilde{F}(y_0) \\right| ^2 \\cdot \\left| \\frac{1 + (-1)^{(1, s) \\cdot (b_0, y_0)}}{2} \\right| ^2 \\\\\n",
    "        & = \\frac{\\delta ((1, s) \\cdot (b_0, y_0))}{2^n}\n",
    "\\end{aligned}\n",
    "$$\n",
    "\n",
    "The absolute value $\\left| \\tilde{F}(y_0) \\right| = 1$ whenever the function $f$ is bent. Then it clearly states that the result is an uniform superposition of the states that are orthogonal to the state $\\left| 1, s \\right>$.\n",
    "\n",
    "Once we get the outputs $(b_1, y_1), (b_2, y_2), \\cdots (b_n, y_n)$, we can solve the following equation to find $\\left| s \\right>$:\n",
    "\n",
    "$$\n",
    "\\begin{cases}\n",
    "    s \\cdot y_1 = b_1 \\\\\n",
    "    s \\cdot y_2 = b_2 \\\\\n",
    "    \\vdots \\\\\n",
    "    s \\cdot y_n = b_n\n",
    "\\end{cases}\n",
    "$$\n",
    "\n",
    "The hidden shift $s$ can be uniquely characterized by $n$ independent $y_i$s, so we repeat the algorithm a total number of $O(n)$ times to get a constant probability to get a sufficient number of bitstrings.\n",
    "\n",
    "   </li>\n",
    "</ol>"
   ]
  },
  {
   "cell_type": "markdown",
   "id": "1e6d6326",
   "metadata": {},
   "source": [
    "## 2. Example <a id='example'> </a>\n",
    "\n",
    "Here is a specific example of the hidden shift algorithm for the case $n=2$ and $s=10$. As the oracle must be able to encode the Fourier transform $\\tilde{f}$, we employ the Maiorana-McFarland class of bent functions: $\\mathbb{Z}^n_2 \\rightarrow \\mathbb{Z}_2$ mapping the input string $(x, y) \\mapsto f(x, y)$ as below:\n",
    "\n",
    "$$\n",
    "f(x, y) = x \\cdot y + h(x)\n",
    "$$\n",
    "\n",
    "where h(x) is an arbitrary boolean function: $\\mathbb{Z}^{n/2}_2 \\rightarrow \\mathbb{Z}_2$, i.e., any boolean function that takes only half an input. For this special class of bent functions, it is known that:\n",
    "\n",
    "$$\n",
    "\\tilde{f}(x, y) = x \\cdot y + h(y)\n",
    "$$\n",
    "\n",
    "In this example, we simply choose $h(x) = x$ to get the output table as below:\n",
    "\n",
    "| $$(x,y)$$ | $$f(x,y)$$ | $$g(x,y)$$ | $$\\tilde{f}(x,y)$$ |\n",
    "|:--:|:-:|:-:|:-:|\n",
    "| 00 | 0 | 0 | 0 |\n",
    "| 01 | 1 | 0 | 0 |\n",
    "| 10 | 0 | 0 | 1 |\n",
    "| 11 | 0 | 1 | 0 |"
   ]
  },
  {
   "cell_type": "markdown",
   "id": "1bd40cbb",
   "metadata": {},
   "source": [
    "### 2.1 Fourier-Transform-Accessible Algorithm\n",
    "\n",
    "<ol>\n",
    "   <li>\n",
    "        The 2-qubit register is initialized to the zero state:  \n",
    "$$\n",
    "\\left| \\psi_1 \\right> = \\left| 00 \\right>\n",
    "$$\n",
    "\n",
    "   </li>\n",
    "   \n",
    "   <li>\n",
    "        Apply a Hadamard transform to the whole qubits:  \n",
    "$$\n",
    "\\left| \\psi_2 \\right> = \\frac{1}{\\sqrt{2^2}} \\left( \\; \\left| 00 \\right> + \\left| 01 \\right> + \\left| 10 \\right> + \\left| 11 \\right> \\; \\right)\n",
    "$$\n",
    "\n",
    "   </li>\n",
    "\n",
    "   <li>\n",
    "        Query the oracle $U_{g}$:  \n",
    "$$\n",
    "\\left| \\psi_3 \\right> = \\frac{1}{\\sqrt{2^2}} \\left( \\; \\left| 00 \\right> + \\left| 01 \\right> + \\left| 10 \\right> - \\left| 11 \\right> \\; \\right)\n",
    "$$\n",
    "\n",
    "   </li>\n",
    "\n",
    "   <li>\n",
    "        Apply Hadamard gates again:  \n",
    "$$\n",
    "\\begin{aligned}\n",
    "    \\left| \\psi_4 \\right> = \\frac{1}{2^2} ( \\;\n",
    "        & \\left| 00 \\right> + \\left| 01 \\right> + \\left| 10 \\right> + \\left| 11 \\right> \\\\[5pt]\n",
    "        + & \\left| 00 \\right> - \\left| 01 \\right> + \\left| 10 \\right> - \\left| 11 \\right> \\\\[6pt]\n",
    "        + & \\left| 00 \\right> + \\left| 01 \\right> - \\left| 10 \\right> - \\left| 11 \\right> \\\\[6pt]\n",
    "        - & \\left| 00 \\right> + \\left| 01 \\right> + \\left| 10 \\right> - \\left| 11 \\right> \\; )\n",
    "\\end{aligned}\n",
    "$$\n",
    "\n",
    "Summing up vertically, we get:\n",
    "$$\n",
    "= \\frac{1}{\\sqrt{2^2}} \\left( \\; \\left| 00 \\right> + \\left| 01 \\right> + \\left| 10 \\right> - \\left| 11 \\right> \\; \\right)\n",
    "$$\n",
    "\n",
    "   </li>\n",
    "\n",
    "   <li>\n",
    "        Query the oracle $U_{\\tilde{f}}$:  \n",
    "$$\n",
    "\\left| \\psi_5 \\right> = \\frac{1}{\\sqrt{2^2}} \\left( \\; \\left| 00 \\right> + \\left| 01 \\right> - \\left| 10 \\right> - \\left| 11 \\right> \\; \\right)\n",
    "$$\n",
    "\n",
    "   </li>\n",
    "\n",
    "   <li>\n",
    "        Finally, retrieve $\\left| s \\right>$ by cancelling out the Hadamard transform:  \n",
    "$$\n",
    "\\begin{aligned}\n",
    "    \\left| \\psi_6 \\right> = \\frac{1}{2^2} ( \\;\n",
    "        & \\left| 00 \\right> + \\left| 01 \\right> + \\left| 10 \\right> + \\left| 11 \\right> \\\\[5pt]\n",
    "        + & \\left| 00 \\right> - \\left| 01 \\right> + \\left| 10 \\right> - \\left| 11 \\right> \\\\[6pt]\n",
    "        - & \\left| 00 \\right> - \\left| 01 \\right> + \\left| 10 \\right> + \\left| 11 \\right> \\\\[6pt]\n",
    "        - & \\left| 00 \\right> + \\left| 01 \\right> + \\left| 10 \\right> - \\left| 11 \\right> \\; ) \\\\[6pt]\n",
    "    = \\left| 10 \\right> & = \\left| s \\right>\n",
    "\\end{aligned}\n",
    "$$\n",
    "        \n",
    "   </li>\n",
    "</ol>\n",
    "\n",
    "Here we clearly see that $\\left| s \\right>$ is directly obtained from the algorithm."
   ]
  },
  {
   "cell_type": "markdown",
   "id": "130e6b76",
   "metadata": {},
   "source": [
    "### 2.2 Fourier-Transform-Free Algorithm\n",
    "\n",
    "<ol>\n",
    "   <li>\n",
    "        The output register and $n$-qubit input register are initialized to the zero state:  \n",
    "$$\n",
    "\\left| \\psi_1 \\right> = \\left| 0 \\right> \\otimes \\left| 00 \\right>\n",
    "$$\n",
    "   </li>\n",
    "   \n",
    "   <li>\n",
    "        Apply Hadamard gates on the input register to create uniform superposition:  \n",
    "$$\n",
    "\\left| \\psi_2 \\right> = \\frac{1}{\\sqrt{2^2}} \\left( \\; \\left| 0 \\right> \\otimes \\left| 00 \\right> + \\left| 0 \\right> \\otimes \\left| 01 \\right> + \\left| 0 \\right> \\otimes \\left| 10 \\right> + \\left| 0 \\right> \\otimes \\left| 11 \\right> \\; \\right)\n",
    "$$\n",
    "\n",
    "   </li>\n",
    "\n",
    "   <li>\n",
    "        Query the oracle $O_f$:  \n",
    "$$\n",
    "\\left| \\psi_3 \\right> = \\frac{1}{\\sqrt{2^2}} \\left( \\; \\left| 0 \\right> \\otimes \\left| 00 \\right> + \\left| 1 \\right> \\otimes \\left| 01 \\right> + \\left| 0 \\right> \\otimes \\left| 10 \\right> + \\left| 0 \\right> \\otimes \\left| 11 \\right> \\; \\right)\n",
    "$$\n",
    "\n",
    "   </li>\n",
    "\n",
    "   <li>\n",
    "        Apply Z gate on the output register:  \n",
    "$$\n",
    "\\left| \\psi_4 \\right> = \\frac{1}{\\sqrt{2^2}} \\left( \\; \\left| 0 \\right> \\otimes \\left| 00 \\right> - \\left| 1 \\right> \\otimes \\left| 01 \\right> + \\left| 0 \\right> \\otimes \\left| 10 \\right> + \\left| 0 \\right> \\otimes \\left| 11 \\right> \\; \\right)\n",
    "$$\n",
    "\n",
    "   </li>\n",
    "\n",
    "   <li>\n",
    "        Query the oracle $O_g$:  \n",
    "$$\n",
    "\\begin{aligned}\n",
    "    \\left| \\psi_5 \\right> = \\frac{1}{\\sqrt{2^2}} ( \\;\n",
    "        & \\left| 0 \\right> \\otimes \\left| 00 \\right> - \\left| 1 \\right> \\otimes \\left| 01 \\right> + \\left| 0 \\right> \\otimes \\left| 10 \\right> + \\left| 1 \\right> \\otimes \\left| 11 \\right> \\; ) \\\\\n",
    "    = \\frac{1}{\\sqrt{2^2}} ( \\;\n",
    "        & \\left| 0 \\right> \\otimes \\left( \\; \\left| 00 \\right> + \\left| 10 \\right> \\; \\right) \\\\\n",
    "      + & \\left| 1 \\right> \\otimes \\left( \\; - \\left| 01 \\right> + \\left| 11 \\right> \\; \\right) \\; )\n",
    "\\end{aligned}\n",
    "$$\n",
    "\n",
    "   </li>\n",
    "\n",
    "   <li>\n",
    "        Apply Hadamard transform on the input register:  \n",
    "$$\n",
    "\\begin{aligned}\n",
    "    \\left| \\psi_6 \\right> = \\frac{1}{2^2} ( \\; \\left| 0 \\right> \\otimes ( \\;\n",
    "        & \\left| 00 \\right> + \\left| 01 \\right> + \\left| 10 \\right> + \\left| 11 \\right> \\\\[5pt]\n",
    "    +   & \\left| 00 \\right> + \\left| 01 \\right> - \\left| 10 \\right> - \\left| 11 \\right> \\; ) \\\\[6pt]\n",
    "    + \\left| 1 \\right> \\otimes ( \\;\n",
    "        & - \\left| 00 \\right> + \\left| 01 \\right> - \\left| 10 \\right> + \\left| 11 \\right> \\\\[6pt]\n",
    "    +   & \\left| 00 \\right> - \\left| 01 \\right> - \\left| 10 \\right> + \\left| 11 \\right> \\; ) \\; ) \\\\[6pt]\n",
    "    = \\frac{1}{\\sqrt{2^2}} ( \\; \\left| 0 \\right> \\otimes ( \\;\n",
    "        & \\left| 00 \\right> + \\left| 01 \\right> \\; ) + \\left| 1 \\right> \\otimes ( \\; - \\left| 10 \\right> + \\left| 11 \\right> \\; ) \\; )\n",
    "\\end{aligned}\n",
    "$$\n",
    "\n",
    "   </li>\n",
    "</ol>\n",
    "\n",
    "Finally we find 4 different outputs $\\left| 0 \\right> \\otimes \\left| 00 \\right>$, $\\left| 0 \\right> \\otimes \\left| 01 \\right>$, $\\left| 1 \\right> \\otimes \\left| 10 \\right>$ and $\\left| 1 \\right> \\otimes \\left| 11 \\right>$. But we can retrieve $s$ as soon as we get two linearly independent outcomes except for the trivial output $\\left| 0 \\right> \\otimes \\left| 00 \\right>$. For example, when we get outputs $\\left| 0 \\right> \\otimes \\left| 01 \\right>$ and $\\left| 1 \\right> \\otimes \\left| 11 \\right>$, we can compute $s$ as below:\n",
    "\n",
    "$$\n",
    "\\begin{cases}\n",
    "    \\left<s \\mid 01 \\right> = 0 = s_2 \\\\\n",
    "    \\left<s \\mid 11 \\right> = 1 = s_1 + s_2\n",
    "\\end{cases}\n",
    "\\quad \\therefore \\left| s \\right> = \\left| s_1 s_2 \\right> = \\left| 10 \\right>\n",
    "$$\n",
    "\n",
    "We get one bit of $s$ for each independent output $y$. Therefore, we see that the query complexity would be probabilistic in $O(n)$. We can also check the dot product $(1, s) \\cdot (b, y)$ for all outcomes as below:\n",
    "\n",
    "| $$(1, s)$$ | $$(b, y)$$ | product |\n",
    "|:---:|:---:|:-----:|\n",
    "| 110 | 000 |   0   |\n",
    "| 110 | 001 |   0   |\n",
    "| 110 | 110 | 1+1=0 |\n",
    "| 110 | 111 | 1+1=0 |"
   ]
  },
  {
   "cell_type": "markdown",
   "id": "029899df",
   "metadata": {},
   "source": [
    "## 3. Qiskit Implementation <a id='implementation'> </a>\n",
    "\n",
    "### 3.1 Fourier-transform-accessible Algorithm <a id='ftaa'> </a>\n",
    "\n",
    "Now, we will walk through the algorithm which makes use of the Fourier transform. We will implement it via Qiskit for a 4-bit string $s=1011$."
   ]
  },
  {
   "cell_type": "code",
   "execution_count": 1,
   "id": "14b48eb8",
   "metadata": {},
   "outputs": [],
   "source": [
    "# initialization\n",
    "import numpy as np\n",
    "\n",
    "# importing Qiskit\n",
    "from qiskit import IBMQ, Aer, QuantumCircuit, transpile, assemble\n",
    "from qiskit.providers.ibmq import least_busy\n",
    "\n",
    "# import basic plot tools\n",
    "from qiskit.visualization import plot_histogram"
   ]
  },
  {
   "cell_type": "markdown",
   "id": "eba1509b",
   "metadata": {},
   "source": [
    "We first set the number of qubits $n$ and the hidden shift $s$."
   ]
  },
  {
   "cell_type": "code",
   "execution_count": 2,
   "id": "8c5c0b96",
   "metadata": {},
   "outputs": [],
   "source": [
    "n = 4         # number of input qubits\n",
    "s = '1011'    # the binary hidden shift string"
   ]
  },
  {
   "cell_type": "markdown",
   "id": "a4780cdf",
   "metadata": {},
   "source": [
    "The hidden shift $s$, together with some bent function $f$, determines the circuit for the oracle. As we have to implement the Fourier transform $\\tilde{f}$, we employ again the Maiorana-McFarland class of bent functions. Here we employ $h(x) = x \\cdot e_2$ for example. Then $f$ is defined as below:\n",
    "\n",
    "$$\n",
    "f(x, y) = x \\cdot y + x \\cdot e_2 = (x_1 y_1 + x_2 y_2) + x_2\n",
    "$$\n",
    "\n",
    "From now on, we will see how we can use Qiskit to encode the oracles $U_{g}$ and $U_{\\tilde{f}}$. We are aiming to check that our algorithm correctly gives the hidden shift $s$ with this specific example."
   ]
  },
  {
   "cell_type": "code",
   "execution_count": 3,
   "id": "72a3693e",
   "metadata": {},
   "outputs": [
    {
     "data": {
      "image/png": "[encoded data removed]",
      "text/plain": [
       "<Figure size 146.797x264.88 with 1 Axes>"
      ]
     },
     "execution_count": 3,
     "metadata": {},
     "output_type": "execute_result"
    }
   ],
   "source": [
    "def shift_s(n, s):\n",
    "    \"\"\"Shifting operation for the given string s\"\"\"\n",
    "    shift_s = QuantumCircuit(n)\n",
    "    s = s[::-1]    # reverse s to fit qiskit's qubit ordering\n",
    "    for i in range(n):\n",
    "        if s[i] == '0': \n",
    "            continue\n",
    "        else:\n",
    "            shift_s.x(i)    # apply x gates to shift the input\n",
    "    shift_s.name = 'Shift'\n",
    "    return shift_s\n",
    "\n",
    "# Display circuit\n",
    "shift_s(n, s).draw('mpl')"
   ]
  },
  {
   "cell_type": "code",
   "execution_count": 4,
   "id": "e36506f8",
   "metadata": {},
   "outputs": [
    {
     "data": {
      "image/png": "[encoded data removed]",
      "text/plain": [
       "<Figure size 387.597x264.88 with 1 Axes>"
      ]
     },
     "execution_count": 4,
     "metadata": {},
     "output_type": "execute_result"
    }
   ],
   "source": [
    "def oracle_g(n):\n",
    "    \"\"\"Oracle circuit that encodes g = U_g\"\"\"\n",
    "    oracle_g = QuantumCircuit(n)\n",
    "    \n",
    "    # Shift the inputs\n",
    "    oracle_g.append(shift_s(n, s), range(n))\n",
    "    \n",
    "    # Apply the oracle U_f = (-1)^f(x) = F(x)\n",
    "    # x·y corresponds to controlled-z gates between first half qubits and second half qubits\n",
    "    for i in range(int(n/2)):\n",
    "        oracle_g.cz(i, i+int(n/2))\n",
    "    \n",
    "    # h(x) = x·e_2 corresponds to the z gate on the second qubit = q1\n",
    "    oracle_g.z(1)\n",
    "    \n",
    "    # Undo the shift\n",
    "    oracle_g.append(shift_s(n, s), range(n))\n",
    "    \n",
    "    oracle_g.name = 'Oracle g'\n",
    "    return oracle_g\n",
    "\n",
    "# Display circuit\n",
    "oracle_g(n).draw('mpl')"
   ]
  },
  {
   "cell_type": "code",
   "execution_count": 5,
   "id": "d1cd0c6b",
   "metadata": {},
   "outputs": [
    {
     "data": {
      "image/png": "[encoded data removed]",
      "text/plain": [
       "<Figure size 267.197x264.88 with 1 Axes>"
      ]
     },
     "execution_count": 5,
     "metadata": {},
     "output_type": "execute_result"
    }
   ],
   "source": [
    "def oracle_f_tilde(n):\n",
    "    \"\"\"Oracle circuit that encodes Fourier transformed f = U_f tilde\"\"\"\n",
    "    oracle_f_tilde = QuantumCircuit(n)\n",
    "    \n",
    "    # Apply the oracle U_f tilde\n",
    "    # x·y corresponds to controlled-z gates between first half qubits and second half qubits\n",
    "    for i in range(int(n/2)):\n",
    "        oracle_f_tilde.cz(i, i+int(n/2))\n",
    "    \n",
    "    # Apply h(y) = y·e_2, which corresponds to the z gate on the second qubit of the second register = q3\n",
    "    oracle_f_tilde.z(3)\n",
    "    \n",
    "    oracle_f_tilde.name = 'Oracle f tilde'\n",
    "    return oracle_f_tilde\n",
    "\n",
    "# Display circuit\n",
    "oracle_f_tilde(n).draw('mpl')"
   ]
  },
  {
   "cell_type": "markdown",
   "id": "901f742b",
   "metadata": {},
   "source": [
    "So far, we have implemented the oracles separately. Now we put together those oracles to implement the actual algorithm circuit."
   ]
  },
  {
   "cell_type": "code",
   "execution_count": 6,
   "id": "2e0a676f",
   "metadata": {},
   "outputs": [
    {
     "data": {
      "image/png": "[encoded data removed]",
      "text/plain": [
       "<Figure size 1110x325.08 with 1 Axes>"
      ]
     },
     "execution_count": 6,
     "metadata": {},
     "output_type": "execute_result"
    }
   ],
   "source": [
    "hsp_circuit = QuantumCircuit(n, n)\n",
    "\n",
    "# Apply Hadamard gates to make superposition\n",
    "for i in range(n):\n",
    "    hsp_circuit.h(i)\n",
    "hsp_circuit.barrier()    # barrier is for visual separation\n",
    "\n",
    "# Query the oracle g by appending the oracle circuit on ours\n",
    "hsp_circuit.append(oracle_g(n), range(n))\n",
    "hsp_circuit.barrier()\n",
    "\n",
    "# Apply Hadamard gates to perform a boolean Fourier transform\n",
    "for i in range(n):\n",
    "    hsp_circuit.h(i)\n",
    "hsp_circuit.barrier()\n",
    "\n",
    "# Query the oracle f tilde\n",
    "hsp_circuit.append(oracle_f_tilde(n), range(n))\n",
    "hsp_circuit.barrier()\n",
    "\n",
    "# Retrieve s by performing the boolean Fourier transform again\n",
    "for i in range(n):\n",
    "    hsp_circuit.h(i)\n",
    "hsp_circuit.barrier()\n",
    "\n",
    "# Measure all qubits\n",
    "for i in range(n):\n",
    "    hsp_circuit.measure(i, i)\n",
    "\n",
    "# Display circuit\n",
    "hsp_circuit.draw('mpl')"
   ]
  },
  {
   "cell_type": "markdown",
   "id": "f2f0ca38",
   "metadata": {},
   "source": [
    "#### 3.1a Experiment with Simulators <a id='ftaa-simulation'> </a>\n",
    "\n",
    "We can run the above circuit on the simulator."
   ]
  },
  {
   "cell_type": "code",
   "execution_count": 7,
   "id": "a611ed25",
   "metadata": {
    "scrolled": true
   },
   "outputs": [
    {
     "data": {
      "image/png": "[encoded data removed]",
      "text/plain": [
       "<Figure size 504x360 with 1 Axes>"
      ]
     },
     "execution_count": 7,
     "metadata": {},
     "output_type": "execute_result"
    }
   ],
   "source": [
    "# use local simulator\n",
    "aer_sim = Aer.get_backend('aer_simulator')\n",
    "transpiled_hsp_circuit = transpile(hsp_circuit, aer_sim)\n",
    "qobj = assemble(transpiled_hsp_circuit, aer_sim)\n",
    "results = aer_sim.run(qobj).result()\n",
    "answer = results.get_counts()\n",
    "\n",
    "plot_histogram(answer)"
   ]
  },
  {
   "cell_type": "markdown",
   "id": "8104275e",
   "metadata": {},
   "source": [
    "We can see that the result of the measurement is the hidden string `1011`."
   ]
  },
  {
   "cell_type": "markdown",
   "id": "360185dd",
   "metadata": {},
   "source": [
    "#### 3.1b Experiment with Real Devices <a id='ftaa-device'> </a>\n",
    "\n",
    "We can run the circuit on the real device as below."
   ]
  },
  {
   "cell_type": "code",
   "execution_count": 8,
   "id": "725b48fc",
   "metadata": {},
   "outputs": [
    {
     "name": "stdout",
     "output_type": "stream",
     "text": [
      "least busy backend:  ibmq_santiago\n"
     ]
    }
   ],
   "source": [
    "# Load our saved IBMQ accounts and get the least busy backend device with more than or equal to n qubits\n",
    "IBMQ.load_account()\n",
    "provider = IBMQ.get_provider('ibm-q')\n",
    "provider.backends()\n",
    "backend = least_busy(provider.backends(filters=lambda x:\n",
    "                                       int(x.configuration().n_qubits) <= 4*n\n",
    "                                       and int(x.configuration().n_qubits) >= n\n",
    "                                       and not x.configuration().simulator\n",
    "                                       and x.status().operational==True))\n",
    "print(\"least busy backend: \", backend)"
   ]
  },
  {
   "cell_type": "code",
   "execution_count": 9,
   "id": "a9ad2b5c",
   "metadata": {},
   "outputs": [
    {
     "name": "stdout",
     "output_type": "stream",
     "text": [
      "Job Status: job has successfully run\n"
     ]
    }
   ],
   "source": [
    "# Run our circuit on the least busy backend. Monitor the execution of the job in the queue\n",
    "from qiskit.tools.monitor import job_monitor\n",
    "\n",
    "shots = 1024\n",
    "transpiled_hsp_circuit = transpile(hsp_circuit, backend)\n",
    "job = backend.run(transpiled_hsp_circuit, shots=shots)\n",
    "\n",
    "job_monitor(job, interval=2)"
   ]
  },
  {
   "cell_type": "code",
   "execution_count": 10,
   "id": "cc2c56c2",
   "metadata": {},
   "outputs": [
    {
     "data": {
      "image/png": "[encoded data removed]",
      "text/plain": [
       "<Figure size 504x360 with 1 Axes>"
      ]
     },
     "execution_count": 10,
     "metadata": {},
     "output_type": "execute_result"
    }
   ],
   "source": [
    "# Get the results from the computation\n",
    "results = job.result()\n",
    "answer = results.get_counts()\n",
    "\n",
    "plot_histogram(answer)"
   ]
  },
  {
   "cell_type": "markdown",
   "id": "3c01582a",
   "metadata": {},
   "source": [
    "As we can see, there is a significatly higher chance of measuring the hidden shift `1011`. The other results are due to errors in the quantum computation."
   ]
  },
  {
   "cell_type": "markdown",
   "id": "4a8eb54a",
   "metadata": {},
   "source": [
    "### 3.2 Fourier-Transform-Free Algorithm <a id='ftfa'> </a>\n",
    "\n",
    "Now we go through the more general algorithm, which works without accessing the Fourier transform $\\tilde{f}$. We employ the same $n$, $s$, and $f$ used before."
   ]
  },
  {
   "cell_type": "code",
   "execution_count": 11,
   "id": "fab303a5",
   "metadata": {},
   "outputs": [
    {
     "data": {
      "image/png": "[encoded data removed]",
      "text/plain": [
       "<Figure size 267.197x325.08 with 1 Axes>"
      ]
     },
     "execution_count": 11,
     "metadata": {},
     "output_type": "execute_result"
    }
   ],
   "source": [
    "def oracle_f(n):\n",
    "    \"\"\"Oracle f\"\"\"\n",
    "    oracle_f = QuantumCircuit(n+1)\n",
    "    \n",
    "    # Implement f(x)\n",
    "    # Now we replace controlled-z gates with Toffoli gates placing NOT gate at the first register\n",
    "    for i in range(int(n/2)):\n",
    "        oracle_f.ccx(i+1, i+int(n/2)+1, 0)\n",
    "    \n",
    "    # h(x) becomes the controlled-x gate from q2 to q0\n",
    "    oracle_f.cx(2, 0)\n",
    "    \n",
    "    oracle_f.name = 'Oracle f'\n",
    "    return oracle_f\n",
    "\n",
    "def oracle_g(n, s):\n",
    "    \"\"\"Oracle g\"\"\"\n",
    "    oracle_g = QuantumCircuit(n+1)\n",
    "    oracle_g.append(shift_s(n, s), qargs=[i+1 for i in range(n)])    # shift the inputs\n",
    "    oracle_g.append(oracle_f(n), range(n+1))                         # apply the oracle f\n",
    "    oracle_g.append(shift_s(n, s), qargs=[i+1 for i in range(n)])    # undo the shift\n",
    "    oracle_g.name = 'Oracle g'\n",
    "    return oracle_g\n",
    "\n",
    "# Display the oracle f circuit\n",
    "oracle_f(n).draw('mpl')"
   ]
  },
  {
   "cell_type": "code",
   "execution_count": 12,
   "id": "7de33347",
   "metadata": {},
   "outputs": [
    {
     "data": {
      "image/png": "[encoded data removed]",
      "text/plain": [
       "<Figure size 989.597x385.28 with 1 Axes>"
      ]
     },
     "execution_count": 12,
     "metadata": {},
     "output_type": "execute_result"
    }
   ],
   "source": [
    "# Implement the Fourier-transform-free algorithm\n",
    "hsp_circuit = QuantumCircuit(n+1, n+1)\n",
    "\n",
    "# Apply Hadamard gates to make superposition\n",
    "for i in range(n):\n",
    "    hsp_circuit.h(i+1)\n",
    "hsp_circuit.barrier()    # barrier is for visual separation\n",
    "\n",
    "# Apply the oracle f, z gate, and the oracle g in order\n",
    "hsp_circuit.append(oracle_f(n), range(n+1))\n",
    "hsp_circuit.z(0)\n",
    "hsp_circuit.append(oracle_g(n, s), range(n+1))\n",
    "hsp_circuit.barrier()\n",
    "\n",
    "# Apply Hadamard transform\n",
    "for i in range(n):\n",
    "    hsp_circuit.h(i+1)\n",
    "hsp_circuit.barrier()\n",
    "\n",
    "# Measure all qubits\n",
    "for i in range(n+1):\n",
    "    hsp_circuit.measure(i, i)\n",
    "\n",
    "# Display circuit\n",
    "hsp_circuit.draw('mpl')"
   ]
  },
  {
   "cell_type": "markdown",
   "id": "8d334e72",
   "metadata": {},
   "source": [
    "#### 3.2a Experiment with Simulators <a id='ftfa-simulation'> </a>\n",
    "\n",
    "We can run the above circuit on the simulator. "
   ]
  },
  {
   "cell_type": "code",
   "execution_count": 13,
   "id": "512d4a2a",
   "metadata": {
    "scrolled": true
   },
   "outputs": [
    {
     "data": {
      "image/png": "[encoded data removed]",
      "text/plain": [
       "<Figure size 504x360 with 1 Axes>"
      ]
     },
     "execution_count": 13,
     "metadata": {},
     "output_type": "execute_result"
    }
   ],
   "source": [
    "# use local simulator\n",
    "aer_sim = Aer.get_backend('aer_simulator')\n",
    "transpiled_hsp_circuit = transpile(hsp_circuit, aer_sim)\n",
    "qobj = assemble(transpiled_hsp_circuit, aer_sim)\n",
    "results = aer_sim.run(qobj).result()\n",
    "answer = results.get_counts()\n",
    "\n",
    "plot_histogram(answer)"
   ]
  },
  {
   "cell_type": "markdown",
   "id": "18b86cab",
   "metadata": {},
   "source": [
    "Now we see that there are 16 different outputs. Note that the binary index $b$ is at the first register, so the result string is ordered in $(y, b)$. We can retrieve $s$ as soon as we get four linearly independent outcomes except for the trivial output `00000`. For example, when we get outputs `00011`, `01011`, `10100`, and `11111`, we can compute $s$ as below:\n",
    "\n",
    "$$\n",
    "\\begin{cases}\n",
    "    \\left<s \\mid 0001 \\right> = 1 = s_4 \\\\\n",
    "    \\left<s \\mid 0101 \\right> = 1 = s_2 + s_4 \\\\\n",
    "    \\left<s \\mid 1010 \\right> = 0 = s_1 + s_3 \\\\\n",
    "    \\left<s \\mid 1111 \\right> = 1 = s_1 + s_2 + s_3 + s_4\n",
    "\\end{cases}\n",
    "\\quad \\therefore \\left| s \\right> = \\left| s_1 s_2 s_3 s_4 \\right> = \\left| 1011 \\right>\n",
    "$$\n",
    "\n",
    "Thus, we get the hidden shift `1011` from the given four outcomes. Checking the dot product $(s, 1) \\cdot (y, b)$ for all outcome lists as below:\n",
    "\n",
    "| $$(s, 1)$$ | $$(y, b)$$ | product | $$(s, 1)$$ | $$(y, b)$$ | product |\n",
    "|:-----:|:-----:|:-----:|:-----:|:-----:|:---------:|\n",
    "| 10111 | 00000 |   0   | 10111 | 10001 |   1+1=0   |\n",
    "| 10111 | 00011 | 1+1=0 | 10111 | 10010 |   1+1=0   |\n",
    "| 10111 | 00101 | 1+1=0 | 10111 | 10100 |   1+1=0   |\n",
    "| 10111 | 00110 | 1+1=0 | 10111 | 10111 | 1+1+1+1=0 |\n",
    "| 10111 | 01000 |   0   | 10111 | 11001 |   1+1=0   |\n",
    "| 10111 | 01011 | 1+1=0 | 10111 | 11010 |   1+1=0   |\n",
    "| 10111 | 01101 | 1+1=0 | 10111 | 11100 |   1+1=0   |\n",
    "| 10111 | 01110 | 1+1=0 | 10111 | 11111 | 1+1+1+1=0 |"
   ]
  },
  {
   "cell_type": "markdown",
   "id": "bc6ed6fd",
   "metadata": {},
   "source": [
    "#### 3.2b Experiment with Real Devices <a id='ftfa-device'> </a>\n",
    "\n",
    "We can run the circuit on the real device as below."
   ]
  },
  {
   "cell_type": "code",
   "execution_count": 14,
   "id": "db3d2c85",
   "metadata": {},
   "outputs": [
    {
     "name": "stdout",
     "output_type": "stream",
     "text": [
      "least busy backend:  ibmq_santiago\n"
     ]
    }
   ],
   "source": [
    "# Get the least busy backend device with more than or equal to n+1 qubits\n",
    "backend = least_busy(provider.backends(filters=lambda x:\n",
    "                                       int(x.configuration().n_qubits) <= 4*(n+1)\n",
    "                                       and int(x.configuration().n_qubits) >= n+1\n",
    "                                       and not x.configuration().simulator\n",
    "                                       and x.status().operational==True))\n",
    "print(\"least busy backend: \", backend)"
   ]
  },
  {
   "cell_type": "code",
   "execution_count": 15,
   "id": "9ceb5798",
   "metadata": {},
   "outputs": [
    {
     "name": "stdout",
     "output_type": "stream",
     "text": [
      "Job Status: job has successfully run\n"
     ]
    }
   ],
   "source": [
    "# Run our circuit on the least busy backend. Monitor the execution of the job in the queue\n",
    "from qiskit.tools.monitor import job_monitor\n",
    "\n",
    "shots = 1024\n",
    "transpiled_hsp_circuit = transpile(hsp_circuit, backend)\n",
    "job = backend.run(transpiled_hsp_circuit, shots=shots)\n",
    "\n",
    "job_monitor(job, interval=2)"
   ]
  },
  {
   "cell_type": "code",
   "execution_count": 16,
   "id": "4ad556d5",
   "metadata": {},
   "outputs": [
    {
     "data": {
      "image/png": "[encoded data removed]",
      "text/plain": [
       "<Figure size 504x360 with 1 Axes>"
      ]
     },
     "execution_count": 16,
     "metadata": {},
     "output_type": "execute_result"
    }
   ],
   "source": [
    "# Get the results from the computation\n",
    "results = job.result()\n",
    "answer = results.get_counts()\n",
    "\n",
    "plot_histogram(answer)"
   ]
  },
  {
   "cell_type": "markdown",
   "id": "21ddc741",
   "metadata": {},
   "source": [
    "In this case, however, we find that desired outputs are not distinguishable from the noise. One reason is that the Toffoli gate is very expensive in current devices. In addition, as the theoretical probability for each desired outcome is only 1/16, this algorithm is fragile to noise. It is also of great interest for quantum researchers to tackle this kind of issue through error correction or error mitigation."
   ]
  },
  {
   "cell_type": "markdown",
   "id": "ef364270",
   "metadata": {},
   "source": [
    "## 4. Problems <a id='problems'> </a>\n",
    "\n",
    "The function `hsp_oracle` below takes an integer `seed`, and booleans `output`, `shifted` and `fourier_transformed`. It will return the oracle with the input size 4. Find out the hidden shift $s$ using the quantum algorithm."
   ]
  },
  {
   "cell_type": "code",
   "execution_count": 17,
   "id": "bc68e20d",
   "metadata": {},
   "outputs": [
    {
     "data": {
      "image/png": "[encoded data removed]",
      "text/plain": [
       "<Figure size 387.597x325.08 with 1 Axes>"
      ]
     },
     "execution_count": 17,
     "metadata": {},
     "output_type": "execute_result"
    }
   ],
   "source": [
    "from qiskit_textbook.problems import hsp_oracle\n",
    "# Example usage\n",
    "n = 4\n",
    "seed = 137\n",
    "oracle_f_tilde = hsp_oracle(seed, output=False, shifted=False, fourier_transformed=True)\n",
    "oracle_g = hsp_oracle(seed, output=True, shifted=True, fourier_transformed=False)\n",
    "qc = QuantumCircuit(n+1)\n",
    "qc.append(oracle_f_tilde, [i+1 for i in range(n)])\n",
    "qc.append(oracle_g, range(n+1))\n",
    "qc.draw('mpl')"
   ]
  },
  {
   "cell_type": "markdown",
   "id": "5964e638",
   "metadata": {},
   "source": [
    "1. Solve the hidden shift problem over bent functions with an access to the Fourier transform $\\tilde{f}$."
   ]
  },
  {
   "cell_type": "code",
   "execution_count": null,
   "id": "751f1c2c",
   "metadata": {},
   "outputs": [],
   "source": [
    "hsp_circuit = QuantumCircuit(n)\n",
    "\n",
    "####################\n",
    "# Your codes Here\n",
    "\n",
    "####################\n",
    "\n",
    "# Display circuit\n",
    "hsp_circuit.draw('mpl')"
   ]
  },
  {
   "cell_type": "code",
   "execution_count": null,
   "id": "c2670715",
   "metadata": {},
   "outputs": [],
   "source": [
    "# Check the result\n",
    "aer_sim = Aer.get_backend('aer_simulator')\n",
    "transpiled_hsp_circuit = transpile(hsp_circuit, aer_sim)\n",
    "qobj = assemble(transpiled_hsp_circuit, aer_sim)\n",
    "results = aer_sim.run(qobj).result()\n",
    "answer = results.get_counts()\n",
    "\n",
    "plot_histogram(answer)"
   ]
  },
  {
   "cell_type": "markdown",
   "id": "fd5daf5f",
   "metadata": {},
   "source": [
    "2. Solve the hidden shift problem over bent functions without acceessing the Fourier transform $\\tilde{f}$."
   ]
  },
  {
   "cell_type": "code",
   "execution_count": null,
   "id": "0d8053ae",
   "metadata": {},
   "outputs": [],
   "source": [
    "hsp_circuit = QuantumCircuit(n+1)\n",
    "\n",
    "####################\n",
    "# Your codes Here\n",
    "\n",
    "####################\n",
    "\n",
    "# Display circuit\n",
    "hsp_circuit.draw('mpl')"
   ]
  },
  {
   "cell_type": "code",
   "execution_count": null,
   "id": "95bb772b",
   "metadata": {},
   "outputs": [],
   "source": [
    "# Check the result\n",
    "aer_sim = Aer.get_backend('aer_simulator')\n",
    "transpiled_hsp_circuit = transpile(hsp_circuit, aer_sim)\n",
    "qobj = assemble(transpiled_hsp_circuit, aer_sim)\n",
    "results = aer_sim.run(qobj).result()\n",
    "answer = results.get_counts()\n",
    "\n",
    "plot_histogram(answer)"
   ]
  },
  {
   "cell_type": "markdown",
   "id": "c9a35568",
   "metadata": {},
   "source": [
    "## 5. References <a id='references'> </a>\n",
    "\n",
    "1. M. Roetteler (2008), \"Quantum algorithms for highly non-linear Boolean functions\", Proceedings of the 21st Annual ACM-SIAM Symposium on Discrete Algorithms (SODA'10), pp. 448-457, [arXiv:0811.3208](https://arxiv.org/abs/0811.3208) [quant-ph]\n",
    "2. D. Gavinsky, M. Roetteler & J. Roland (2011), \"Quantum Algorithm for the Boolean Hidden Shift Problem\", 17th International Computing & Combinatorics Conference (COCOON'11), Lecture Notes in Computer Science 6842 (Springer), pp. 158-167, [doi:10.1007/978-3-642-22685-4_14](https://doi.org/10.1007/978-3-642-22685-4_14), [arXiv:1103.3017](https://arxiv.org/abs/1103.3017) [quant-ph]\n",
    "3. N. Tokareva (2015), \"Bent Functions - Results and Applications to Cryptography\", Academic Press. \n",
    "4. X. Bonnetain & M. Naya-Plasencia (2018), \"Hidden Shift Quantum Cryptanalysis and Implications\", In: T. Peyrin , S. Galbraith (eds) Advances in Cryptology – ASIACRYPT 2018, Lecture Notes in Computer Science, vol 11272, Springer, Cham, [doi:10.1007/978-3-030-03326-2_19](https://doi.org/10.1007/978-3-030-03326-2_19)\n",
    "5. K. Wright, K. M. Beck, S. Debnath et al. (2019), \"Benchmarking an 11-qubit quantum computer\", Nat Commun 10, 5464, [doi:10.1038/s41467-019-13534-2](https://doi.org/10.1038/s41467-019-13534-2)\n",
    "6. S. Bravyi & D. Gosset (2016), \"Improved classical simulation of quantum circuits dominated by Clifford gates\", Phys. Rev. Lett. 116, 250501, [doi:10.1103/PhysRevLett.116.250501](https://doi.org/10.1103/PhysRevLett.116.250501), [arXiv:1601.07601](https://arxiv.org/abs/1601.07601) [quant-ph]\n",
    "<!-- 6. G. Kuperberg (2005), \"A subexponential-time quantum algorithm for the dihedral hidden subgroup problem\", SIAM Journal on Computing, 35(1), pp. 170-188, [doi:10.1137/S0097539703436345](https://doi.org/10.1137/S0097539703436345), [arXiv:quant-ph/0302112](https://arxiv.org/abs/quant-ph/0302112) -->"
   ]
  },
  {
   "cell_type": "code",
   "execution_count": 18,
   "id": "bde320da",
   "metadata": {},
   "outputs": [
    {
     "data": {
      "text/html": [
       "<h3>Version Information</h3><table><tr><th>Qiskit Software</th><th>Version</th></tr><tr><td><code>qiskit-terra</code></td><td>0.19.2</td></tr><tr><td><code>qiskit-aer</code></td><td>0.10.3</td></tr><tr><td><code>qiskit-ignis</code></td><td>0.7.0</td></tr><tr><td><code>qiskit-ibmq-provider</code></td><td>0.18.3</td></tr><tr><td><code>qiskit</code></td><td>0.34.2</td></tr><tr><td><code>qiskit-nature</code></td><td>0.3.1</td></tr><tr><td><code>qiskit-finance</code></td><td>0.3.1</td></tr><tr><td><code>qiskit-optimization</code></td><td>0.3.1</td></tr><tr><td><code>qiskit-machine-learning</code></td><td>0.3.1</td></tr><tr><th>System information</th></tr><tr><td>Python version</td><td>3.9.11</td></tr><tr><td>Python compiler</td><td>MSC v.1916 64 bit (AMD64)</td></tr><tr><td>Python build</td><td>main, Mar 28 2022 04:40:48</td></tr><tr><td>OS</td><td>Windows</td></tr><tr><td>CPUs</td><td>4</td></tr><tr><td>Memory (Gb)</td><td>15.595874786376953</td></tr><tr><td colspan='2'>Sat Apr 02 12:01:57 2022 Korea Standard Time</td></tr></table>"
      ],
      "text/plain": [
       "<IPython.core.display.HTML object>"
      ]
     },
     "metadata": {},
     "output_type": "display_data"
    }
   ],
   "source": [
    "import qiskit.tools.jupyter\n",
    "%qiskit_version_table"
   ]
  }
 ],
 "metadata": {
  "kernelspec": {
   "display_name": "Python 3 (ipykernel)",
   "language": "python",
   "name": "python3"
  },
  "language_info": {
   "codemirror_mode": {
    "name": "ipython",
    "version": 3
   },
   "file_extension": ".py",
   "mimetype": "text/x-python",
   "name": "python",
   "nbconvert_exporter": "python",
   "pygments_lexer": "ipython3",
   "version": "3.9.12"
  }
 },
 "nbformat": 4,
 "nbformat_minor": 5
}
