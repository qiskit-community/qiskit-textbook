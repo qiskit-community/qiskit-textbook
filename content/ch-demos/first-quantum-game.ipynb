{
 "cells": [
  {
   "cell_type": "markdown",
   "metadata": {},
   "source": [
    "# Your First Quantum Game"
   ]
  },
  {
   "cell_type": "markdown",
   "metadata": {},
   "source": [
    "If you've already read some of this textbook, you should know at least a few quantum gates. If you are wondering what to do with that knowledge, perhaps making a game can be the answer. Making simple games can be a fun way to try out new programming knowledge.\n",
    "\n",
    "If we are going to make a game, we'll need a game engine. Here we'll introduce a simple game engine that can run here in the Jupyter notebooks of this textbook. With this we'll make make a very simple game based on single qubit gates.\n",
    "\n",
    "First, we import the game engine."
   ]
  },
  {
   "cell_type": "code",
   "execution_count": null,
   "metadata": {},
   "outputs": [],
   "source": [
    "from qiskit_textbook.games.qiskit_game_engine import QiskitGameEngine"
   ]
  },
  {
   "cell_type": "markdown",
   "metadata": {},
   "source": [
    "## A few simple examples\n",
    "\n",
    "A minimal example of using this game engine is to simply set all the pixels to a certan colour."
   ]
  },
  {
   "cell_type": "code",
   "execution_count": null,
   "metadata": {},
   "outputs": [],
   "source": [
    "# function called when setting up\n",
    "def start(engine):\n",
    "    # just move on to the first frame\n",
    "    next_frame(engine)\n",
    "\n",
    "# this is the function that does everything\n",
    "def next_frame (engine):\n",
    "    \n",
    "    # set all pixels to green\n",
    "    for x in range(engine.L):\n",
    "        for y in range(engine.L):\n",
    "            engine.screen.pixel[x,y].set_color('green')\n",
    "    \n",
    "# run the game for an 8x8 screen\n",
    "engine = QiskitGameEngine(start,next_frame,L=8)"
   ]
  },
  {
   "cell_type": "markdown",
   "metadata": {},
   "source": [
    "Now let's set one specific pixel to a different colour."
   ]
  },
  {
   "cell_type": "code",
   "execution_count": null,
   "metadata": {
    "scrolled": false
   },
   "outputs": [],
   "source": [
    "# function called when setting up\n",
    "def start(engine):\n",
    "    \n",
    "    # set a parameter to keep track of the player pixel\n",
    "    engine.X = 1\n",
    "    engine.Y = 2\n",
    "    \n",
    "    # then move on to the first frame\n",
    "    next_frame(engine)\n",
    "\n",
    "# this is the function that does everything\n",
    "def next_frame (engine):\n",
    "    \n",
    "    # set all pixels to green\n",
    "    for x in range(engine.L):\n",
    "        for y in range(engine.L):\n",
    "            engine.screen.pixel[x,y].set_color('green')\n",
    "            \n",
    "    # draw the player pixel\n",
    "    engine.screen.pixel[engine.X,engine.Y].set_color('red')\n",
    "    \n",
    "# run the game\n",
    "engine = QiskitGameEngine(start,next_frame,L=8)"
   ]
  },
  {
   "cell_type": "markdown",
   "metadata": {},
   "source": [
    "We'll move this around using the arrow buttons."
   ]
  },
  {
   "cell_type": "code",
   "execution_count": null,
   "metadata": {
    "scrolled": false
   },
   "outputs": [],
   "source": [
    "# this is the function that does everything\n",
    "def next_frame (engine):\n",
    "    \n",
    "    # change player position\n",
    "    if engine.controller['up'].value:\n",
    "        engine.Y -= 1\n",
    "    if engine.controller['down'].value:\n",
    "        engine.Y += 1\n",
    "    if engine.controller['right'].value:\n",
    "        engine.X += 1\n",
    "    if engine.controller['left'].value:\n",
    "        engine.X -= 1\n",
    "    \n",
    "    # set all pixels to green\n",
    "    for x in range(engine.L):\n",
    "        for y in range(engine.L):\n",
    "            engine.screen.pixel[x,y].set_color('green')\n",
    "            \n",
    "    # draw the player pixel\n",
    "    engine.screen.pixel[engine.X,engine.Y].set_color('red')\n",
    "    \n",
    "# run the game\n",
    "engine = QiskitGameEngine(start,next_frame,L=8)"
   ]
  },
  {
   "cell_type": "markdown",
   "metadata": {},
   "source": [
    "Walking off the edge of the screen results in an error. We can fix this."
   ]
  },
  {
   "cell_type": "code",
   "execution_count": null,
   "metadata": {
    "scrolled": false
   },
   "outputs": [],
   "source": [
    "# this is the function that does everything\n",
    "def next_frame (engine):\n",
    "    \n",
    "    # change player position\n",
    "    if engine.controller['up'].value:\n",
    "        engine.Y -= 1\n",
    "    if engine.controller['down'].value:\n",
    "        engine.Y += 1\n",
    "    if engine.controller['right'].value:\n",
    "        engine.X += 1\n",
    "    if engine.controller['left'].value:\n",
    "        engine.X -= 1\n",
    "    \n",
    "    # set all pixels to green\n",
    "    for x in range(engine.L):\n",
    "        for y in range(engine.L):\n",
    "            engine.screen.pixel[x,y].set_color('green')\n",
    "            \n",
    "    # draw the player pixel\n",
    "    Xs = engine.X%engine.L\n",
    "    Ys = engine.Y%engine.L\n",
    "    engine.screen.pixel[Xs,Ys].set_color('red')\n",
    "    \n",
    "# run the game\n",
    "engine = QiskitGameEngine(start,next_frame,L=8)"
   ]
  },
  {
   "cell_type": "markdown",
   "metadata": {},
   "source": [
    "Here the `engine.X` and `engine.Y` coordinates are still allowed to go beyond the screen, but the pixel is displayed such that it wraps back round. We can interpret this as the pixel moving on to another screen.\n",
    "\n",
    "Now let's move towards giving our pixel a more exciting world to explore. We'll use a function to decide what colour each point should be. We'll start by not changing very much."
   ]
  },
  {
   "cell_type": "code",
   "execution_count": null,
   "metadata": {},
   "outputs": [],
   "source": [
    "import numpy as np\n",
    "\n",
    "def get_color(X,Y):\n",
    "    return 'green'\n",
    "\n",
    "# this is the function that does everything\n",
    "def next_frame (engine):\n",
    "    \n",
    "    # change player position\n",
    "    if engine.controller['up'].value:\n",
    "        engine.Y -= 1\n",
    "    if engine.controller['down'].value:\n",
    "        engine.Y += 1\n",
    "    if engine.controller['right'].value:\n",
    "        engine.X += 1\n",
    "    if engine.controller['left'].value:\n",
    "        engine.X -= 1\n",
    "    \n",
    "    # set all pixels to green\n",
    "    for x in range(engine.L):\n",
    "        for y in range(engine.L):\n",
    "            # get the 'world' coordinates X,Y from the onscreen coordinates x,y\n",
    "            X = np.floor(engine.X/engine.L)*engine.L+x\n",
    "            Y = np.floor(engine.Y/engine.L)*engine.L+y\n",
    "            # set it to whatever colour it should be\n",
    "            engine.screen.pixel[x,y].set_color(get_color(X,Y))\n",
    "            \n",
    "    # draw the player pixel\n",
    "    Xs = engine.X%engine.L\n",
    "    Ys = engine.Y%engine.L\n",
    "    engine.screen.pixel[Xs,Ys].set_color('red')\n",
    "    \n",
    "# run the game\n",
    "engine = QiskitGameEngine(start,next_frame,L=8)"
   ]
  },
  {
   "cell_type": "markdown",
   "metadata": {},
   "source": [
    "Now let's change `get_color` to create a beach."
   ]
  },
  {
   "cell_type": "code",
   "execution_count": null,
   "metadata": {
    "scrolled": false
   },
   "outputs": [],
   "source": [
    "def get_color(X,Y):\n",
    "    if X<12:\n",
    "        color = 'green'\n",
    "    else:\n",
    "        color = 'orange'\n",
    "    return color\n",
    "    \n",
    "# run the game\n",
    "engine = QiskitGameEngine(start,next_frame,L=8)"
   ]
  },
  {
   "cell_type": "markdown",
   "metadata": {},
   "source": [
    "We'll now put a single qubit circuit inside this terrain generator, so that we can experiment with single qubit gates by making terrain. For that we'll need some Qiskit tools."
   ]
  },
  {
   "cell_type": "code",
   "execution_count": null,
   "metadata": {},
   "outputs": [],
   "source": [
    "from qiskit import QuantumCircuit\n",
    "from qiskit.quantum_info import Statevector"
   ]
  },
  {
   "cell_type": "markdown",
   "metadata": {},
   "source": [
    "First, let's see what the results from a circuit look like. Here's an example with just a `ry` gate for a given angle of rotation."
   ]
  },
  {
   "cell_type": "code",
   "execution_count": null,
   "metadata": {},
   "outputs": [],
   "source": [
    "theta = np.pi/2\n",
    "\n",
    "qc = QuantumCircuit(1)\n",
    "qc.ry(theta,0)\n",
    "\n",
    "state = Statevector.from_instruction(qc)\n",
    "probs = state.probabilities_dict()\n",
    "\n",
    "print(probs)"
   ]
  },
  {
   "cell_type": "markdown",
   "metadata": {},
   "source": [
    "Here the angle $\\pi/2$ means that the result of a measurement at the end of this circuit would be equally likely to give `0` or `1`. For other angles we can get a bias towards one or the other. This is exactly the kind of behaviour we would expect from these gates, as explained in Chapter 1."
   ]
  },
  {
   "cell_type": "markdown",
   "metadata": {},
   "source": [
    "Let's use the probability of the output '1' as a height, and set the colour accordingly."
   ]
  },
  {
   "cell_type": "code",
   "execution_count": null,
   "metadata": {},
   "outputs": [],
   "source": [
    "def get_color(X,Y):\n",
    "    \n",
    "    # set an angle for ry based on the coordinate\n",
    "    theta = X*(np.pi/16)\n",
    "    \n",
    "    # create and simulate the circuit\n",
    "    qc = QuantumCircuit(1)\n",
    "    qc.ry(theta,0)\n",
    "    state = Statevector.from_instruction(qc)\n",
    "    probs = state.probabilities_dict()\n",
    "    \n",
    "    # get the prob of '1'\n",
    "    if '1' in probs:\n",
    "        height = probs['1']\n",
    "    else:\n",
    "        height = 0\n",
    "    \n",
    "    # set colour accordingly\n",
    "    if height<0.1: # sea/river\n",
    "        color = 'blue'\n",
    "    elif height<0.3: # beach\n",
    "        color = 'orange'\n",
    "    elif height<0.9: # grass\n",
    "        color = 'green'\n",
    "    else: # mountain\n",
    "        color = 'grey'\n",
    "        \n",
    "    return color\n",
    "    \n",
    "# run the game\n",
    "engine = QiskitGameEngine(start,next_frame,L=8)"
   ]
  },
  {
   "cell_type": "markdown",
   "metadata": {},
   "source": [
    "By adding more complex rotations, and thinking about how these gates combine, we can build on this to create more complex terrain."
   ]
  },
  {
   "cell_type": "code",
   "execution_count": null,
   "metadata": {},
   "outputs": [],
   "source": [
    "import random\n",
    "\n",
    "seed = [random.random() for _ in range(4)]\n",
    "\n",
    "def get_color(X,Y):\n",
    "    \n",
    "    qc = QuantumCircuit(1)\n",
    "\n",
    "    theta1 = (seed[0]*X+seed[1]*Y)*np.pi/16\n",
    "    theta2 = (seed[2]*X-seed[3]*Y)*np.pi/16\n",
    "    qc.ry(theta1,0)\n",
    "    qc.rx(theta2,0)\n",
    "\n",
    "    state = Statevector.from_instruction(qc)\n",
    "    probs = state.probabilities_dict()\n",
    "    \n",
    "    try:\n",
    "        height = probs['1']\n",
    "    except:\n",
    "        height = 0\n",
    "        \n",
    "    # set colour accordingly\n",
    "    if height<0.1: # sea/river\n",
    "        color = 'blue'\n",
    "    elif height<0.3: # beach\n",
    "        color = 'orange'\n",
    "    elif height<0.9: # grass\n",
    "        color = 'green'\n",
    "    else: # mountain\n",
    "        color = 'grey'\n",
    "        \n",
    "    return color\n",
    "\n",
    "# run the game\n",
    "engine = QiskitGameEngine(start,next_frame,L=8)"
   ]
  },
  {
   "cell_type": "markdown",
   "metadata": {},
   "source": [
    "Now experiment by making your own circuits to generate more interesting terrain, and use it to explore what simple quantum gates can do. Or perhaps make a completely new game of your own!"
   ]
  },
  {
   "cell_type": "markdown",
   "metadata": {},
   "source": [
    "## How to use the game engine\n",
    "\n",
    "To make full use of the game engine, you'll need all the details of how it works. It gives us the ability to make games for a low-pixel screen (8x8 by default), controlled by a D-pad and five buttons. Note that the screen will only update when a button is pressed.\n",
    "\n",
    "The game engine is all based around the `QiskitGameEngine` object. You can call this whaetever you like. In the following we will call it `engine`.\n",
    "\n",
    "### The screen\n",
    "\n",
    "The pixels can be addressed in the functions using `engine.screen`. The pixel at position (x,y) is adressed as `engine.screen.pixel[x,y]`. It has three methods:\n",
    "\n",
    "* `set_color(color)` - The argument `color` is a string: either `'grey'`, `'green'`, `'blue'`, `'orange'` or `'red'`.\n",
    "* `set_brightness(bright)` - The argument `bright` is a Boolean value: `False` for dim and `True` for bright.\n",
    "* `set_text(text)` - The argument is text to be displayed.\n",
    "\n",
    "Note that most pixels won't contain more than a few characters. A larger piece of text can be written on the long pixel at the bottom of the screen, which is accessed with `engine.screen.pixel['text']`.\n",
    "\n",
    "### The controller\n",
    "\n",
    "The controller is accessed using `engine.controller`. Its buttons are addressed using the keys `'down'`, `'up'`, `'left'`, `'right'`, `'A'`, `'B'`, `'X'`, `'Y'` and `'next'`. Each is a Jupyter widget button object. Pressing any of these buttons will cause the `next_frame` function to run. Use the `value` attribute of each button to determine whether the button has been pressed (`True`) or not (`False`).\n",
    "\n",
    "\n",
    "### The game loop\n",
    "\n",
    "Games are made by defining two functions, `start` and `next_frame`. The `start` function runs when the game begins, and `next_frame` runs every time a button is pressed to move the game along. Both should have a single argument: the class `engine`. All parameters required for the game should be defined as attributes to the `engine` class.\n",
    "\n",
    "\n",
    "### Putting it all together\n",
    "\n",
    "The game is started by initiating the `QiskitGameEngine` object with the `start` and `next_frame` functions. You can also choose a size other than the default 8x8 grid using the keyword argument `L`.\n",
    "\n",
    "```\n",
    "QiskitGameEngine(start,next_frame,L=8)\n",
    "```\n",
    "\n",
    "Note that the grid size can be accessed in the `start` and `next_frame` functions as `engine.L`. You can also choose a size other than the default 8x8 grid using the kwarg `L`."
   ]
  },
  {
   "cell_type": "code",
   "execution_count": null,
   "metadata": {},
   "outputs": [],
   "source": []
  }
 ],
 "metadata": {
  "kernelspec": {
   "display_name": "Python 3",
   "language": "python",
   "name": "python3"
  },
  "language_info": {
   "codemirror_mode": {
    "name": "ipython",
    "version": 3
   },
   "file_extension": ".py",
   "mimetype": "text/x-python",
   "name": "python",
   "nbconvert_exporter": "python",
   "pygments_lexer": "ipython3",
   "version": "3.8.5"
  }
 },
 "nbformat": 4,
 "nbformat_minor": 4
}
