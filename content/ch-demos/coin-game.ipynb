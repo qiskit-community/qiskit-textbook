{
 "cells": [
  {
   "cell_type": "markdown",
   "metadata": {
    "id": "D5Zxkmb_FKWG",
    "tags": [
     "remove_cell"
    ]
   },
   "source": [
    "# Quantum Coin Game"
   ]
  },
  {
   "cell_type": "markdown",
   "metadata": {},
   "source": [
    "### Table of Contents\n",
    "\n",
    "1. [Introduction](#introduction)<br>\n",
    "   1.1 [What is Quantum Coin Game](#quantum_definition)<br>\n",
    "   1.2 [Concept](#concept)<br>\n",
    "   1.3 [Idea](#idea)<br>\n",
    "   1.4 [Rules of the Game](#rules)<br>\n",
    "2. [Play It](#play_it)<br>\n",
    "3. [Analogy](#analogy)<br>\n",
    "4. [Approach](#approach)<br>\n",
    "5. [Optimal Strategy](#optimal)<br>\n",
    "   5.1 [Play it with Qiskit](#quantum_play)<br>\n",
    "   5.2 [Measurement](#quantum_measurement)<br>\n",
    "   5.3 [QASM Simulator](#quantum_qasm)<br>\n",
    "   5.4 [Who Wins?](#quantum_wins)<br>\n",
    "   5.5 [Running on Quantum Computer](#real_qc)<br> \n",
    "6. [Conclusion](#conclusion)<br>\n",
    "7. [References](#references)<br>\n",
    "8. [Quick Exercise](#quick_exercise)<br>\n",
    "9. [Version Information](#version_information)"
   ]
  },
  {
   "cell_type": "markdown",
   "metadata": {
    "id": "TJDBzM7PFsQN"
   },
   "source": [
    "### Introduction <a id=\"introduction\"></a>\n",
    "\n",
    "\n",
    "### What is Quantum Coin Game ? <a id=\"quantum_definition\"></a>\n",
    " Quantum Coin Game is one of the fundamental concept of quantum computing, which uses simple implementation of quantum gates or more precisely uses the wierdness of quantum mechanics, to win about 97% of the time, when played against an opponent. Flipping of coin and say heads or tails.\n",
    "\n",
    "### Where the concept came from ? <a id=\"concept\"></a>\n",
    " The concept of Quantum Coin Game came from the idea of classical coin game which can only show heads and tails. But since the game utilizes the concepts of quantum mechanics, it would be interesting to see what could be the outcome of the whole experiment.\n",
    "\n",
    "### What is the main idea of this game ? <a id=\"idea\"></a>\n",
    " The main concept of this game is how the quantum computer uses the power of quantum superposition, which tells an object can exists in 2 different states at the same time, to win absolutely everytime.\n",
    "\n",
    " **NOTE**: To learn more about quantum superposition, link to \"[Qiskit Textbook](https://qiskit.org/textbook/ch-states/representing-qubit-states.html)\" superposition page.\n",
    "\n",
    "### What are the rules of this game ? <a id=\"rules\"></a>\n",
    " 1. Quantum Computer plays a move but it is not revealed to the Opponent(Human).\n",
    " 2. Opponent(Human) plays a move and it is also not revealed to the Quantum Computer.\n",
    " 3. Finally Quantum Computer plays a move.\n",
    " 4. Results are shown. If its heads, then Quantum Computer wins. Else, Opponent(Human) wins.\n",
    " \n",
    "**NOTE**: \"Playing a move\" refers to \"Flipping the coin\" and we consider the coin as fair coin.\n",
    "\n",
    "**NOTE**: Refer to [Shohini's Ted Talk](#conclusion)"
   ]
  },
  {
   "cell_type": "markdown",
   "metadata": {
    "tags": []
   },
   "source": [
    "#### **Play it** <a id=\"play_it\"></a>"
   ]
  },
  {
   "cell_type": "code",
   "execution_count": 17,
   "metadata": {},
   "outputs": [
    {
     "data": {
      "application/vnd.jupyter.widget-view+json": {
       "model_id": "6b23b533b1d846109bdfe46cd82689ca",
       "version_major": 2,
       "version_minor": 0
      },
      "text/plain": [
       "VBox(children=(Dropdown(description='Choice: ', options=(('Identity', 'i'), ('Bit Flip', 'x')), value='i'), Bu…"
      ]
     },
     "metadata": {},
     "output_type": "display_data"
    }
   ],
   "source": [
    "# Importing all the necessary library\n",
    "from qiskit import QuantumCircuit, Aer, IBMQ, QuantumRegister, ClassicalRegister, execute\n",
    "from qiskit.tools.jupyter import *\n",
    "from qiskit.visualization import *\n",
    "import qiskit.tools.jupyter\n",
    "import ipywidgets as widgets\n",
    "\n",
    "# Layout\n",
    "button_p = widgets.Button(\n",
    "    description='Play')\n",
    "gate_p = widgets.Dropdown(\n",
    "    options=[('Identity', 'i'), ('Bit Flip', 'x')],\n",
    "    description='Choice: ',\n",
    "    disabled=False,\n",
    ")\n",
    "out_p = widgets.Output()\n",
    "def on_button_clicked(b):\n",
    "    with out_p:\n",
    "        \n",
    "        # Initial Circuit\n",
    "        circuit_p = QuantumRegister(1, 'circuit')\n",
    "        measure_p = ClassicalRegister(1, 'result')\n",
    "        qc_p = QuantumCircuit(circuit_p, measure_p)\n",
    "        \n",
    "        # Turn 1\n",
    "        qc_p.h(circuit_p[0])\n",
    "        \n",
    "        # Turn 2\n",
    "        if gate_p.value == 'i':\n",
    "            qc_p.i(circuit_p[0])\n",
    "        if gate_p.value == 'x':\n",
    "            qc_p.x(circuit_p[0])\n",
    "        \n",
    "        # Turn 3\n",
    "        qc_p.h(circuit_p[0])\n",
    "        \n",
    "        # Measure  \n",
    "        qc_p.measure(circuit_p, measure_p)\n",
    "        \n",
    "        # QASM\n",
    "        backend_p = Aer.get_backend('aer_simulator')\n",
    "        job_p = execute(qc_p, backend_p, shots=8192)\n",
    "        res_p = job_p.result().get_counts()\n",
    "        \n",
    "        # Result\n",
    "        if len(res_p) == 1 and list(res_p.keys())[0] == '0':\n",
    "            print(\"You Lose to Quantum. Quantum Computer Wins\")\n",
    "        if len(res_p) == 1 and list(res_p.keys())[0] == '1':\n",
    "            print(\"You Win against Quantum Computer\")\n",
    "        if len(res_p) == 2:\n",
    "            print(\"Either Quantum or You Wins\")\n",
    "\n",
    "button_p.on_click(on_button_clicked)\n",
    "widgets.VBox([gate_p, button_p, out_p])"
   ]
  },
  {
   "cell_type": "markdown",
   "metadata": {
    "id": "TMsXKAxk6-dt"
   },
   "source": [
    "### Analogy <a id=\"analogy\"></a>\n",
    "\n",
    "Now that we know what is a quantum coin game, what is it based on and most importantly what are the rules of this game, lets convert the concept of this game in quantum computing terminology.\n",
    "\n",
    "* The 'coin' in flipping a coin we referring here is a 'single qubit gate'.\n",
    "\n",
    "$$\n",
    "      |\\psi\\rangle=\\begin{bmatrix}\\alpha \\\\ \\beta\\end{bmatrix}\n",
    "$$\n",
    "\n",
    "  where $\\alpha, \\beta \\in \\mathbb{C}$ and $|\\alpha|^2 + |\\beta|^2 = 1$\n",
    "\n",
    "\n",
    "* \"Flipping\" the coin is application of the bit-flip operator\n",
    "\n",
    "$$\n",
    "  X = \\begin{bmatrix} 0 & 1 \\\\ 1 & 0 \\end{bmatrix}\n",
    "$$\n",
    "\n",
    "* The \"heads\" state is defined as \n",
    "$$\n",
    "|0\\rangle = \\begin{bmatrix} 1 \\\\ 0 \\end{bmatrix}\n",
    "$$ and \"tails\" as \n",
    "$$\n",
    "|1\\rangle = \\begin{bmatrix} 0 \\\\ 1 \\end{bmatrix}\n",
    "$$\n",
    "\n",
    "* The quantum computer \"plays\" by applying the Hadamard $H$ operator \n",
    "$$\n",
    "H = \\frac{1}{\\sqrt{2}} \\begin{bmatrix}  1 & 1 \\\\ 1 & -1 \\end{bmatrix}\n",
    "$$\n"
   ]
  },
  {
   "cell_type": "markdown",
   "metadata": {
    "id": "PdPizFWxBr5m"
   },
   "source": [
    "### Approach <a id=\"approach\"></a>\n",
    "\n",
    "Lets see how to approach the game in quantum computing terminology-\n",
    "\n",
    "* The coin is initialized to the $|0\\rangle$ \"heads\" state.\n",
    "\n",
    "* The computer plays, applying the Hadamard $H$ operator to the coin (operators are applied using matrix multiplication). \n",
    "$$\n",
    "H|0\\rangle = \\frac{1}{\\sqrt2}(|0\\rangle + |1\\rangle)\n",
    "$$\n",
    "The coin enters the \n",
    "$$\n",
    "H|0\\rangle = |+\\rangle = \\frac{1}{\\sqrt{2}} \\begin{bmatrix}  1 \\\\ 1 \\end{bmatrix}\n",
    "$$\n",
    "state.\n",
    "\n",
    "\n",
    "* The human plays, choosing whether to flip the coin (apply the $X$ operator) or do nothing (apply the $I$ operator). However, since the $X$ operator just flips the state vector upside down, $X$ has no effect. Same goes for $I$.\n",
    "$$\n",
    "X|+\\rangle=|+\\rangle \n",
    "$$\n",
    "$$\n",
    "I|+\\rangle=|+\\rangle \n",
    "$$\n",
    "No matter what, the state is $|+\\rangle$ after the human plays.\n",
    "\n",
    "* The computer plays, applying the Hadamard $H$ operator again, taking the coin to the $|0⟩$ \"heads\" state.\n",
    "$$\n",
    "H|+\\rangle = |0\\rangle\n",
    "$$"
   ]
  },
  {
   "cell_type": "code",
   "execution_count": 18,
   "metadata": {
    "id": "mEDO89d8L1pG"
   },
   "outputs": [],
   "source": [
    "# Importing all the necessary library\n",
    "\n",
    "from qiskit import QuantumCircuit, Aer, IBMQ, QuantumRegister, ClassicalRegister, execute\n",
    "from qiskit.tools.jupyter import *\n",
    "from qiskit.visualization import *\n",
    "import qiskit.tools.jupyter\n",
    "import ipywidgets as widgets"
   ]
  },
  {
   "cell_type": "code",
   "execution_count": 19,
   "metadata": {},
   "outputs": [],
   "source": [
    "# Building the initial circuit\n",
    "\n",
    "def initial_circuit():\n",
    "    circuit = QuantumRegister(1, 'circuit')\n",
    "    measure = ClassicalRegister(1, 'result')\n",
    "    qc = QuantumCircuit(circuit, measure)\n",
    "    qc.draw('mpl')\n",
    "    return qc, circuit, measure"
   ]
  },
  {
   "cell_type": "code",
   "execution_count": 20,
   "metadata": {},
   "outputs": [],
   "source": [
    "# Widget Initialization\n",
    "\n",
    "gate = widgets.Dropdown(\n",
    "    options=[('Identity', 'i'), ('Bit Flip', 'x')],\n",
    "    description='Choice: ',\n",
    "    disabled=False,\n",
    ")"
   ]
  },
  {
   "cell_type": "markdown",
   "metadata": {},
   "source": [
    "### **Optimal Strategy** <a id=\"optimal\"></a>"
   ]
  },
  {
   "cell_type": "markdown",
   "metadata": {},
   "source": [
    "Using the above approach the possibility table reduces to-\n",
    "\n",
    "<table>\n",
    "<tr>\n",
    "    <th>Start State</th>\n",
    "    <th>Quantum</th>\n",
    "    <th>Classical</th>\n",
    "    <th>Quantum</th>\n",
    "    <th>Result</th>\n",
    "    <th>Who Wins?</th>\n",
    "</tr>\n",
    "<tr>\n",
    "    <td>$|0\\rangle$</td>\n",
    "    <td>$H$</td>\n",
    "    <td>$I$</td>\n",
    "    <td>$H$</td>\n",
    "    <td>$|0\\rangle$</td>\n",
    "    <td>Quantum</td>\n",
    "</tr>\n", 
    "<tr>\n",
    "    <td>$|0\\rangle$</td>\n",
    "    <td>$H$</td>\n",
    "    <td>$X$</td>\n",
    "    <td>$H$</td>\n",
    "    <td>$|0\\rangle$</td>\n",
    "    <td>Quantum</td>\n",
    "</tr>\n",
    "</table>\n",
    "\n",
    "Now lets look at the possibilities-\n",
    "\n",
    "\n",
    "1. Quantum Computer Wins ( $|0\\rangle$ ):\n",
    "\n",
    "$$\n",
    "\\frac{2}{2} = 100 \\%\n",
    "$$\n",
    "\n",
    "2. Classical Human Wins ( $|1\\rangle$ ):\n",
    "\n",
    "$$\n",
    "  \\frac{0}{2} = 0 \\%\n",
    "$$\n",
    "\n",
    "3. Either Quantum Computer or Classical Human Wins ( $|0\\rangle + |1\\rangle$ ):\n",
    "\n",
    "$$\n",
    "  \\frac{0}{2} = 0 \\%\n",
    "$$"
   ]
  },
  {
   "cell_type": "markdown",
   "metadata": {},
   "source": [
    "This table shows the quantum computer wins $100\\%$ of the time. But in Shohini's talk it is $~97\\%$, due to errors."
   ]
  },
  {
   "cell_type": "markdown",
   "metadata": {},
   "source": [
    "### **Lets play this version using Qiskit** <a id=\"quantum_play\"></a>"
   ]
  },
  {
   "cell_type": "markdown",
   "metadata": {},
   "source": [
    "#### Building the initial circuit"
   ]
  },
  {
   "cell_type": "code",
   "execution_count": 21,
   "metadata": {},
   "outputs": [],
   "source": [
    "qc, circuit, measure = initial_circuit()"
   ]
  },
  {
   "cell_type": "markdown",
   "metadata": {},
   "source": [
    "#### **Turn 1. Quantum Computer**"
   ]
  },
  {
   "cell_type": "code",
   "execution_count": 22,
   "metadata": {
    "scrolled": true
   },
   "outputs": [
    {
     "data": {
      "image/png": "[encoded data removed]",
      "text/plain": [
       "<Figure size 184.874x144.48 with 1 Axes>"
      ]
     },
     "execution_count": 22,
     "metadata": {},
     "output_type": "execute_result"
    }
   ],
   "source": [
    "# Use H Gate\n",
    "\n",
    "qc.h(circuit[0])\n",
    "qc.draw('mpl')"
   ]
  },
  {
   "cell_type": "markdown",
   "metadata": {},
   "source": [
    "#### **Turn 2. Classical Human**"
   ]
  },
  {
   "cell_type": "code",
   "execution_count": 23,
   "metadata": {},
   "outputs": [
    {
     "data": {
      "image/png": "[encoded data removed]",
      "text/plain": [
       "<Figure size 245.074x144.48 with 1 Axes>"
      ]
     },
     "execution_count": 23,
     "metadata": {},
     "output_type": "execute_result"
    }
   ],
   "source": [
    "if gate.value == 'i':\n",
    "    qc.i(circuit[0])\n",
    "if gate.value == 'x':\n",
    "    qc.x(circuit[0])\n",
    "\n",
    "qc.draw('mpl')"
   ]
  },
  {
   "cell_type": "markdown",
   "metadata": {},
   "source": [
    "#### **Turn 3. Quantum Computer**"
   ]
  },
  {
   "cell_type": "markdown",
   "metadata": {},
   "source": [
    "Quantum Computer uses Hadamard $H$ on its first turn"
   ]
  },
  {
   "cell_type": "code",
   "execution_count": 24,
   "metadata": {
    "scrolled": true
   },
   "outputs": [
    {
     "data": {
      "image/png": "[encoded data removed]",
      "text/plain": [
       "<Figure size 305.274x144.48 with 1 Axes>"
      ]
     },
     "execution_count": 24,
     "metadata": {},
     "output_type": "execute_result"
    }
   ],
   "source": [
    "# Used H Gate\n",
    "\n",
    "qc.h(circuit[0])\n",
    "qc.draw('mpl')"
   ]
  },
  {
   "cell_type": "markdown",
   "metadata": {},
   "source": [
    "#### **Measurement** <a id=\"quantum_measurement\"></a>"
   ]
  },
  {
   "cell_type": "code",
   "execution_count": 25,
   "metadata": {},
   "outputs": [
    {
     "data": {
      "image/png": "[encoded data removed]",
      "text/plain": [
       "<Figure size 365.474x144.48 with 1 Axes>"
      ]
     },
     "execution_count": 25,
     "metadata": {},
     "output_type": "execute_result"
    }
   ],
   "source": [
    "qc.measure(circuit, measure)\n",
    "qc.draw('mpl')"
   ]
  },
  {
   "cell_type": "markdown",
   "metadata": {},
   "source": [
    "#### **QASM_Simulator** <a id=\"quantum_qasm\"></a>"
   ]
  },
  {
   "cell_type": "code",
   "execution_count": 26,
   "metadata": {},
   "outputs": [
    {
     "name": "stdout",
     "output_type": "stream",
     "text": [
      "{'0': 8192}\n"
     ]
    },
    {
     "data": {
      "image/png": "[encoded data removed]",
      "text/plain": [
       "<Figure size 504x360 with 1 Axes>"
      ]
     },
     "execution_count": 26,
     "metadata": {},
     "output_type": "execute_result"
    }
   ],
   "source": [
    "backend = Aer.get_backend('aer_simulator')\n",
    "job = execute(qc, backend, shots=8192)\n",
    "res = job.result().get_counts()\n",
    "print(res)\n",
    "plot_histogram(res)"
   ]
  },
  {
   "cell_type": "markdown",
   "metadata": {
    "tags": []
   },
   "source": [
    "#### **Lets see who wins** <a id=\"quantum_wins\"></a>"
   ]
  },
  {
   "cell_type": "code",
   "execution_count": 27,
   "metadata": {},
   "outputs": [
    {
     "name": "stdout",
     "output_type": "stream",
     "text": [
      "Quantum Computer Wins\n"
     ]
    }
   ],
   "source": [
    "if len(res) == 1 and list(res.keys())[0] == '0':\n",
    "    print(\"Quantum Computer Wins\")\n",
    "if len(res) == 1 and list(res.keys())[0] == '1':\n",
    "    print(\"Classical Human Wins\")\n",
    "if len(res) == 2:\n",
    "    print(\"Either Quantum Computer or Classical Human Wins\")"
   ]
  },
  {
   "cell_type": "markdown",
   "metadata": {
    "tags": []
   },
   "source": [
    "#### **Running on Quantum Computer** <a id=\"real_qc\"></a>"
   ]
  },
  {
   "cell_type": "code",
   "execution_count": 29,
   "metadata": {
    "tags": [
     "uses-hardware"
    ]
   },
   "outputs": [
    {
     "name": "stdout",
     "output_type": "stream",
     "text": [
      "{'0': 8134, '1': 58}\n"
     ]
    },
    {
     "data": {
      "image/png": "[encoded data removed]",
      "text/plain": [
       "<Figure size 504x360 with 1 Axes>"
      ]
     },
     "execution_count": 29,
     "metadata": {},
     "output_type": "execute_result"
    }
   ],
   "source": [
    "provider = IBMQ.load_account()\n",
    "backend_real = provider.get_backend('ibmq_manila')\n",
    "job_real = execute(qc, backend_real, shots=8192)\n",
    "res_real = job_real.result().get_counts()\n",
    "print(res_real)\n",
    "plot_histogram(res_real)"
   ]
  },
  {
   "cell_type": "markdown",
   "metadata": {},
   "source": [
    "Unlike the perfect simulation, the real quantum computer only wins ~$99\\ \\%$ of the time, the $1\\ \\%$ in which it loses is due to errors. Quantum computers have improved a bit since [Shohini's talk](#conclusion) where the error is closer to $3\\ \\%$."
   ]
  },
  {
   "cell_type": "markdown",
   "metadata": {},
   "source": [
    "### Conclusion <a id=\"conclusion\"></a>"
   ]
  },
  {
   "cell_type": "markdown",
   "metadata": {},
   "source": [
    "This simple and yet fun little game shows the basic quantum states $|0\\rangle$, $|1\\rangle$, $|+\\rangle$ and $|−\\rangle$, plus the common ways of moving between them with the $X$, $H$, $I$, $Z$ gates. "
   ]
  },
  {
   "cell_type": "markdown",
   "metadata": {},
   "source": [
    "### References <a id=\"references\"></a>"
   ]
  },
  {
   "cell_type": "markdown",
   "metadata": {},
   "source": [
    "This notebook is inspired from:\n",
    "\n",
    " * [1]. [Ted talk by Sohini Ghosh](https://www.ted.com/talks/shohini_ghose_a_beginner_s_guide_to_quantum_computing#t-208006). \n",
    "\n",
    " * [2]. Quantum Coin Flipping from [Wikipedia](https://en.wikipedia.org/wiki/Quantum_coin_flipping)"
   ]
  },
  {
   "cell_type": "markdown",
   "metadata": {},
   "source": [
    "#### **Quick Exercise** <a id=\"quick_exercise\"></a>"
   ]
  },
  {
   "cell_type": "markdown",
   "metadata": {},
   "source": [
    "The rules of the game we learned so far are the main rules of the game.\n",
    "But, think of other variations of the game as well, tweak the game a little could result in significant change in answer. Such as-\n",
    "\n",
    "1. What if, instead of quantum computer taking first turn, the classical human take the first turn ?\n",
    "2. What if, instead of representing head as $|0\\rangle$, the tail is represented as $|0\\rangle$ ?\n",
    "3. What if, instead of using fair coin, we used unfair coin ?\n",
    "4. What if, instead of playing against a classical human, the quantum computer plays with another quantum computer ?\n",
    "5. What if, instead of having 3 turns, there are $n$ number of turns ?\n",
    "6. What if, instead of using all gates, restrict the use of some gates ?\n",
    "\n",
    "and many more variations are possible."
   ]
  },
  {
   "cell_type": "markdown",
   "metadata": {},
   "source": [
    "### Version Information <a id=\"version_information\"></a>"
   ]
  },
  {
   "cell_type": "code",
   "execution_count": null,
   "metadata": {},
   "outputs": [],
   "source": [
    "%qiskit_version_table"
   ]
  }
 ],
 "metadata": {
  "colab": {
   "collapsed_sections": [],
   "name": "Quantum Coin Game.ipynb",
   "provenance": []
  },
  "kernelspec": {
   "display_name": "Python 3",
   "language": "python",
   "name": "python3"
  },
  "language_info": {
   "codemirror_mode": {
    "name": "ipython",
    "version": 3
   },
   "file_extension": ".py",
   "mimetype": "text/x-python",
   "name": "python",
   "nbconvert_exporter": "python",
   "pygments_lexer": "ipython3",
   "version": "3.7.7"
  },
  "widgets": {
   "application/vnd.jupyter.widget-state+json": {
    "state": {
     "01a62c207172470d84d72adbbc3c1f6a": {
      "model_module": "@jupyter-widgets/controls",
      "model_module_version": "1.5.0",
      "model_name": "VBoxModel",
      "state": {
       "children": [
        "IPY_MODEL_da8765f98a9040d88199ec80d9880ad1",
        "IPY_MODEL_2e32ca6bd09a438cb43eff219e4aa96f",
        "IPY_MODEL_77cfbbe414c54f3a878a004edc59afb6"
       ],
       "layout": "IPY_MODEL_84f716ec9dad49c59bc8d791e10db408"
      }
     },
     "01bc28e42d9d4f40951e7cdda0ce587a": {
      "model_module": "@jupyter-widgets/base",
      "model_module_version": "1.2.0",
      "model_name": "LayoutModel",
      "state": {
       "grid_area": "right",
       "padding": "0px 0px 0px 0px",
       "width": "70px"
      }
     },
     "03b33d61dc464070913d1efaf58553cf": {
      "model_module": "@jupyter-widgets/controls",
      "model_module_version": "1.5.0",
      "model_name": "ButtonStyleModel",
      "state": {}
     },
     "03eb9fa8297845e6b414558d9bd09c46": {
      "model_module": "@jupyter-widgets/base",
      "model_module_version": "1.2.0",
      "model_name": "LayoutModel",
      "state": {
       "overflow_x": "scroll"
      }
     },
     "0448304521d943fd8a7f2d8e67ebc8ee": {
      "model_module": "@jupyter-widgets/base",
      "model_module_version": "1.2.0",
      "model_name": "LayoutModel",
      "state": {}
     },
     "0478e7f6ce70479f9a49a3a55e077d84": {
      "model_module": "@jupyter-widgets/output",
      "model_module_version": "1.0.0",
      "model_name": "OutputModel",
      "state": {
       "layout": "IPY_MODEL_74890b5a9711449998df991738fe1a90",
       "outputs": [
        {
         "name": "stdout",
         "output_type": "stream",
         "text": "You Lose to Quantum. Quantum Computer Wins\n"
        }
       ]
      }
     },
     "053ccc96af5c4d978bee350e914fe021": {
      "model_module": "@jupyter-widgets/controls",
      "model_module_version": "1.5.0",
      "model_name": "ButtonStyleModel",
      "state": {}
     },
     "05ae3f115652443c9a27869971ae2a7e": {
      "model_module": "@jupyter-widgets/controls",
      "model_module_version": "1.5.0",
      "model_name": "ButtonModel",
      "state": {
       "description": "Play",
       "layout": "IPY_MODEL_191b621ace7a41e49eb647866965a147",
       "style": "IPY_MODEL_683bab658b5e4846bfbde53ca2cceb10"
      }
     },
     "0b81d9b497b8480bb8bb1e185281d9c0": {
      "model_module": "@jupyter-widgets/base",
      "model_module_version": "1.2.0",
      "model_name": "LayoutModel",
      "state": {
       "width": "145px"
      }
     },
     "0c86578e5316497b9de1266da6de23be": {
      "model_module": "@jupyter-widgets/base",
      "model_module_version": "1.2.0",
      "model_name": "LayoutModel",
      "state": {
       "width": "190px"
      }
     },
     "191b621ace7a41e49eb647866965a147": {
      "model_module": "@jupyter-widgets/base",
      "model_module_version": "1.2.0",
      "model_name": "LayoutModel",
      "state": {}
     },
     "196db6cfb19f490b87d5409ca64b06ba": {
      "model_module": "@jupyter-widgets/base",
      "model_module_version": "1.2.0",
      "model_name": "LayoutModel",
      "state": {}
     },
     "1dd2c7840a794a62b90ba4c02c3a90dd": {
      "model_module": "@jupyter-widgets/controls",
      "model_module_version": "1.5.0",
      "model_name": "HBoxModel",
      "state": {
       "children": [
        "IPY_MODEL_e914c289e95a4f3cb07bede7a2098461",
        "IPY_MODEL_ce10d71b75f048f89234c986099f5a27",
        "IPY_MODEL_e173cd5a413d49279f05cc4f195c1839",
        "IPY_MODEL_1ff3ccd7937f4f10875c71a88156b04a",
        "IPY_MODEL_d021ac1bdcb34bc4ae96e0183abe9ebf",
        "IPY_MODEL_6645ab0809fc4d059c50da1b499e2022"
       ],
       "layout": "IPY_MODEL_b73c7e5f0d5d4cb79e9f4838e42ceb10"
      }
     },
     "1ff3ccd7937f4f10875c71a88156b04a": {
      "model_module": "@jupyter-widgets/controls",
      "model_module_version": "1.5.0",
      "model_name": "HTMLModel",
      "state": {
       "layout": "IPY_MODEL_55b5117639594882870839360383c397",
       "style": "IPY_MODEL_2bc695f8bfc747f4b1dded9757658db6",
       "value": "<font style='color:#34BC6E'>DONE</font>"
      }
     },
     "2b22dbc942ab4a1794d51eb601dc9ca8": {
      "model_module": "@jupyter-widgets/base",
      "model_module_version": "1.2.0",
      "model_name": "LayoutModel",
      "state": {}
     },
     "2bc695f8bfc747f4b1dded9757658db6": {
      "model_module": "@jupyter-widgets/controls",
      "model_module_version": "1.5.0",
      "model_name": "DescriptionStyleModel",
      "state": {
       "description_width": ""
      }
     },
     "2c6741cbbfd34db6982bf4e6e524848a": {
      "model_module": "@jupyter-widgets/base",
      "model_module_version": "1.2.0",
      "model_name": "LayoutModel",
      "state": {}
     },
     "2cce4c0e0cd64ab1805a046de3a66989": {
      "model_module": "@jupyter-widgets/controls",
      "model_module_version": "1.5.0",
      "model_name": "DescriptionStyleModel",
      "state": {
       "description_width": ""
      }
     },
     "2d030b8fe69d441587c97ec7f65068e1": {
      "model_module": "@jupyter-widgets/controls",
      "model_module_version": "1.5.0",
      "model_name": "DescriptionStyleModel",
      "state": {
       "description_width": ""
      }
     },
     "2e32ca6bd09a438cb43eff219e4aa96f": {
      "model_module": "@jupyter-widgets/controls",
      "model_module_version": "1.5.0",
      "model_name": "ButtonModel",
      "state": {
       "description": "Play",
       "layout": "IPY_MODEL_fe415236e1734fa59b45ab5c9b763db3",
       "style": "IPY_MODEL_053ccc96af5c4d978bee350e914fe021"
      }
     },
     "3288755f614d4c2e9795445bbf3eec12": {
      "model_module": "@jupyter-widgets/controls",
      "model_module_version": "1.5.0",
      "model_name": "DescriptionStyleModel",
      "state": {
       "description_width": ""
      }
     },
     "342234c953e0463b8fbaadac92b61889": {
      "model_module": "@jupyter-widgets/controls",
      "model_module_version": "1.5.0",
      "model_name": "ButtonModel",
      "state": {
       "button_style": "primary",
       "description": "Clear",
       "layout": "IPY_MODEL_01bc28e42d9d4f40951e7cdda0ce587a",
       "style": "IPY_MODEL_03b33d61dc464070913d1efaf58553cf"
      }
     },
     "365869ea575940f68fda6fe7093df22b": {
      "model_module": "@jupyter-widgets/controls",
      "model_module_version": "1.5.0",
      "model_name": "DescriptionStyleModel",
      "state": {
       "description_width": ""
      }
     },
     "3ae4fb83e9194b808f40e71d31f2843d": {
      "model_module": "@jupyter-widgets/base",
      "model_module_version": "1.2.0",
      "model_name": "LayoutModel",
      "state": {}
     },
     "3c8cef63d8264756b3bca74a439fd099": {
      "model_module": "@jupyter-widgets/controls",
      "model_module_version": "1.5.0",
      "model_name": "HTMLModel",
      "state": {
       "layout": "IPY_MODEL_93728906009e449fa7384e3e5f03ca3c",
       "style": "IPY_MODEL_3288755f614d4c2e9795445bbf3eec12",
       "value": "<h5>Queue</h5>"
      }
     },
     "3d631bd23a114b22b102a6055db89b5d": {
      "model_module": "@jupyter-widgets/controls",
      "model_module_version": "1.5.0",
      "model_name": "DescriptionStyleModel",
      "state": {
       "description_width": ""
      }
     },
     "40538262773c49ed95e70d3b3939dc92": {
      "model_module": "@jupyter-widgets/controls",
      "model_module_version": "1.5.0",
      "model_name": "VBoxModel",
      "state": {
       "children": [
        "IPY_MODEL_d2fbc71995f04e9a8c02d82cd6f180e9",
        "IPY_MODEL_9a5184a37f064635a0b0d62aa994c8d3",
        "IPY_MODEL_fde4561e190a4ca6b2d164d0cbda3f32"
       ],
       "layout": "IPY_MODEL_589c1fd70d4a431293839c8954dc12d5"
      }
     },
     "435d562fcd4d4d349f0021be283c5d21": {
      "model_module": "@jupyter-widgets/output",
      "model_module_version": "1.0.0",
      "model_name": "OutputModel",
      "state": {
       "layout": "IPY_MODEL_90aabd6397ea47d3a6adbcc7d2a7bfec",
       "outputs": [
        {
         "name": "stdout",
         "output_type": "stream",
         "text": "You Lose to Quantum. Quantum Computer Wins\n"
        }
       ]
      }
     },
     "5269a726ec3c4793af9983e1a215334e": {
      "model_module": "@jupyter-widgets/base",
      "model_module_version": "1.2.0",
      "model_name": "LayoutModel",
      "state": {}
     },
     "528d9873782f4b99984121119ecf401b": {
      "model_module": "@jupyter-widgets/controls",
      "model_module_version": "1.5.0",
      "model_name": "DescriptionStyleModel",
      "state": {
       "description_width": ""
      }
     },
     "53ad95a97e7248e7b7cc9cdd83b293fb": {
      "model_module": "@jupyter-widgets/controls",
      "model_module_version": "1.5.0",
      "model_name": "ButtonStyleModel",
      "state": {}
     },
     "55b5117639594882870839360383c397": {
      "model_module": "@jupyter-widgets/base",
      "model_module_version": "1.2.0",
      "model_name": "LayoutModel",
      "state": {
       "width": "95px"
      }
     },
     "572d7eb7cb1b4dba96a2619fc623006f": {
      "model_module": "@jupyter-widgets/controls",
      "model_module_version": "1.5.0",
      "model_name": "DescriptionStyleModel",
      "state": {
       "description_width": ""
      }
     },
     "57c7c54217214d729f6aeaa14459dd1f": {
      "model_module": "@jupyter-widgets/controls",
      "model_module_version": "1.5.0",
      "model_name": "VBoxModel",
      "state": {
       "children": [
        "IPY_MODEL_dd9542c6d8cd469db4312806671512a7",
        "IPY_MODEL_d083e9725115477db5cdc021f73d211d",
        "IPY_MODEL_435d562fcd4d4d349f0021be283c5d21"
       ],
       "layout": "IPY_MODEL_2c6741cbbfd34db6982bf4e6e524848a"
      }
     },
     "589c1fd70d4a431293839c8954dc12d5": {
      "model_module": "@jupyter-widgets/base",
      "model_module_version": "1.2.0",
      "model_name": "LayoutModel",
      "state": {}
     },
     "58eb76353b464b6481224a2e32164265": {
      "model_module": "@jupyter-widgets/controls",
      "model_module_version": "1.5.0",
      "model_name": "VBoxModel",
      "state": {
       "children": [
        "IPY_MODEL_80c2815cc3a04879bbefb72b001750ac",
        "IPY_MODEL_e4bc260f61094e69bc88a1a0e5a87f61",
        "IPY_MODEL_62c6020a0da540199509b60ccb0d1da8"
       ],
       "layout": "IPY_MODEL_3ae4fb83e9194b808f40e71d31f2843d"
      }
     },
     "5e3434e1002e4daebf41e9c29f086e3c": {
      "model_module": "@jupyter-widgets/controls",
      "model_module_version": "1.5.0",
      "model_name": "ButtonModel",
      "state": {
       "description": "Play",
       "layout": "IPY_MODEL_f75222f6b3c54714a15840936f4d6b74",
       "style": "IPY_MODEL_ce35f199e6914651afed0e64df53fe61"
      }
     },
     "62c6020a0da540199509b60ccb0d1da8": {
      "model_module": "@jupyter-widgets/output",
      "model_module_version": "1.0.0",
      "model_name": "OutputModel",
      "state": {
       "layout": "IPY_MODEL_9a20f7f7880e4e2da24433ffa07631d2",
       "outputs": [
        {
         "name": "stdout",
         "output_type": "stream",
         "text": "You Lose to Quantum. Quantum Computer Wins\n"
        }
       ]
      }
     },
     "652c10c995ae496e80e8f449c2c3826e": {
      "model_module": "@jupyter-widgets/controls",
      "model_module_version": "1.5.0",
      "model_name": "DescriptionStyleModel",
      "state": {
       "description_width": ""
      }
     },
     "6645ab0809fc4d059c50da1b499e2022": {
      "model_module": "@jupyter-widgets/controls",
      "model_module_version": "1.5.0",
      "model_name": "HTMLModel",
      "state": {
       "layout": "IPY_MODEL_03eb9fa8297845e6b414558d9bd09c46",
       "style": "IPY_MODEL_572d7eb7cb1b4dba96a2619fc623006f",
       "value": "job has successfully run"
      }
     },
     "683bab658b5e4846bfbde53ca2cceb10": {
      "model_module": "@jupyter-widgets/controls",
      "model_module_version": "1.5.0",
      "model_name": "ButtonStyleModel",
      "state": {}
     },
     "68f85bd7bb95430da6bae7d567d1aa5e": {
      "model_module": "@jupyter-widgets/controls",
      "model_module_version": "1.5.0",
      "model_name": "ButtonStyleModel",
      "state": {
       "button_color": "white"
      }
     },
     "6936f974ce7c4601b3fdb9aee9ed2c6b": {
      "model_module": "@jupyter-widgets/controls",
      "model_module_version": "1.5.0",
      "model_name": "DescriptionStyleModel",
      "state": {
       "description_width": ""
      }
     },
     "6aaed55c18b34a7fa6f79f993bcc84be": {
      "model_module": "@jupyter-widgets/base",
      "model_module_version": "1.2.0",
      "model_name": "LayoutModel",
      "state": {}
     },
     "6b23b533b1d846109bdfe46cd82689ca": {
      "model_module": "@jupyter-widgets/controls",
      "model_module_version": "1.5.0",
      "model_name": "VBoxModel",
      "state": {
       "children": [
        "IPY_MODEL_cfd86107c41646329e199665b279dc8e",
        "IPY_MODEL_5e3434e1002e4daebf41e9c29f086e3c",
        "IPY_MODEL_d5122f465fab4a02a8a5796c2c4bc56b"
       ],
       "layout": "IPY_MODEL_6aaed55c18b34a7fa6f79f993bcc84be"
      }
     },
     "6f5ce4eb3afb4ad08427358d8ebb4566": {
      "model_module": "@jupyter-widgets/base",
      "model_module_version": "1.2.0",
      "model_name": "LayoutModel",
      "state": {}
     },
     "70085ae15e1e4c5797129eddb1f2fb23": {
      "model_module": "@jupyter-widgets/controls",
      "model_module_version": "1.5.0",
      "model_name": "DescriptionStyleModel",
      "state": {
       "description_width": ""
      }
     },
     "717323311da04f32a1b1384b475d43d7": {
      "model_module": "@jupyter-widgets/controls",
      "model_module_version": "1.5.0",
      "model_name": "DropdownModel",
      "state": {
       "_options_labels": [
        "Identity",
        "Bit Flip"
       ],
       "description": "Choice: ",
       "index": 0,
       "layout": "IPY_MODEL_6f5ce4eb3afb4ad08427358d8ebb4566",
       "style": "IPY_MODEL_365869ea575940f68fda6fe7093df22b"
      }
     },
     "74890b5a9711449998df991738fe1a90": {
      "model_module": "@jupyter-widgets/base",
      "model_module_version": "1.2.0",
      "model_name": "LayoutModel",
      "state": {}
     },
     "77cfbbe414c54f3a878a004edc59afb6": {
      "model_module": "@jupyter-widgets/output",
      "model_module_version": "1.0.0",
      "model_name": "OutputModel",
      "state": {
       "layout": "IPY_MODEL_83a3fc05ac5e4cf9b3295d3444e6607c",
       "outputs": [
        {
         "name": "stdout",
         "output_type": "stream",
         "text": "You Lose to Quantum. Quantum Computer Wins\n"
        }
       ]
      }
     },
     "7b014028164749a2a0fe5a04c9d6a0a9": {
      "model_module": "@jupyter-widgets/base",
      "model_module_version": "1.2.0",
      "model_name": "LayoutModel",
      "state": {}
     },
     "7d3adf44a91d47d1a8f25c83558264cd": {
      "model_module": "@jupyter-widgets/controls",
      "model_module_version": "1.5.0",
      "model_name": "VBoxModel",
      "state": {
       "children": [
        "IPY_MODEL_fdc4bf91456e49cba58402e1954b3f36",
        "IPY_MODEL_05ae3f115652443c9a27869971ae2a7e",
        "IPY_MODEL_0478e7f6ce70479f9a49a3a55e077d84"
       ],
       "layout": "IPY_MODEL_af07cb4b1d374ffaae4f318825278c4d"
      }
     },
     "80310b15c8884a88b9f0962deee8f216": {
      "model_module": "@jupyter-widgets/base",
      "model_module_version": "1.2.0",
      "model_name": "LayoutModel",
      "state": {}
     },
     "80c2815cc3a04879bbefb72b001750ac": {
      "model_module": "@jupyter-widgets/controls",
      "model_module_version": "1.5.0",
      "model_name": "DropdownModel",
      "state": {
       "_options_labels": [
        "Identity",
        "Bit Flip"
       ],
       "description": "Choice: ",
       "index": 1,
       "layout": "IPY_MODEL_80310b15c8884a88b9f0962deee8f216",
       "style": "IPY_MODEL_cbcd1500f93a4087ad732d0958720f75"
      }
     },
     "83a3fc05ac5e4cf9b3295d3444e6607c": {
      "model_module": "@jupyter-widgets/base",
      "model_module_version": "1.2.0",
      "model_name": "LayoutModel",
      "state": {}
     },
     "84f716ec9dad49c59bc8d791e10db408": {
      "model_module": "@jupyter-widgets/base",
      "model_module_version": "1.2.0",
      "model_name": "LayoutModel",
      "state": {}
     },
     "85b9b3ca14364341bde467b2aa26c6d1": {
      "model_module": "@jupyter-widgets/controls",
      "model_module_version": "1.5.0",
      "model_name": "DescriptionStyleModel",
      "state": {
       "description_width": ""
      }
     },
     "898d18e6a4294bffb658ffa39ddfaffb": {
      "model_module": "@jupyter-widgets/base",
      "model_module_version": "1.2.0",
      "model_name": "LayoutModel",
      "state": {
       "margin": "0px 0px 10px 0px"
      }
     },
     "8f8fe3ec13204582b50285b6d6ea17a7": {
      "model_module": "@jupyter-widgets/base",
      "model_module_version": "1.2.0",
      "model_name": "LayoutModel",
      "state": {
       "width": "95px"
      }
     },
     "90aabd6397ea47d3a6adbcc7d2a7bfec": {
      "model_module": "@jupyter-widgets/base",
      "model_module_version": "1.2.0",
      "model_name": "LayoutModel",
      "state": {}
     },
     "923031195ab44ccdb5904dd4f274b5f0": {
      "model_module": "@jupyter-widgets/controls",
      "model_module_version": "1.5.0",
      "model_name": "HTMLModel",
      "state": {
       "layout": "IPY_MODEL_196db6cfb19f490b87d5409ca64b06ba",
       "style": "IPY_MODEL_f442eda3e4794d559e86e30723b2c747",
       "value": "<h5>Message</h5>"
      }
     },
     "93728906009e449fa7384e3e5f03ca3c": {
      "model_module": "@jupyter-widgets/base",
      "model_module_version": "1.2.0",
      "model_name": "LayoutModel",
      "state": {
       "width": "70px"
      }
     },
     "98082b3f782449b8b96335f4b0e8830f": {
      "model_module": "@jupyter-widgets/controls",
      "model_module_version": "1.5.0",
      "model_name": "DescriptionStyleModel",
      "state": {
       "description_width": ""
      }
     },
     "980b17d01f50455f9b8958128067a377": {
      "model_module": "@jupyter-widgets/output",
      "model_module_version": "1.0.0",
      "model_name": "OutputModel",
      "state": {
       "layout": "IPY_MODEL_5269a726ec3c4793af9983e1a215334e",
       "outputs": [
        {
         "name": "stdout",
         "output_type": "stream",
         "text": "You Lose to Quantum. Quantum Computer Wins\n"
        }
       ]
      }
     },
     "98882cd70ddf4ff6ab911380fc7307b6": {
      "model_module": "@jupyter-widgets/controls",
      "model_module_version": "1.5.0",
      "model_name": "DescriptionStyleModel",
      "state": {
       "description_width": ""
      }
     },
     "989eac56a2454be7a93d3aec19ffa692": {
      "model_module": "@jupyter-widgets/controls",
      "model_module_version": "1.5.0",
      "model_name": "HBoxModel",
      "state": {
       "children": [
        "IPY_MODEL_c51f1248b8434d94a9accc727a8c23c1",
        "IPY_MODEL_f1f0ed9b405e44a590a7a8eef8da2fb0",
        "IPY_MODEL_f6edca1b09d447b5ac43989ef77e86cb",
        "IPY_MODEL_3c8cef63d8264756b3bca74a439fd099",
        "IPY_MODEL_923031195ab44ccdb5904dd4f274b5f0"
       ],
       "layout": "IPY_MODEL_fc80fe51e04642cd84647aab61e217ad"
      }
     },
     "9a20f7f7880e4e2da24433ffa07631d2": {
      "model_module": "@jupyter-widgets/base",
      "model_module_version": "1.2.0",
      "model_name": "LayoutModel",
      "state": {}
     },
     "9a5184a37f064635a0b0d62aa994c8d3": {
      "model_module": "@jupyter-widgets/controls",
      "model_module_version": "1.5.0",
      "model_name": "ButtonModel",
      "state": {
       "description": "Play",
       "layout": "IPY_MODEL_ea06afdb343342459435207e1ba31636",
       "style": "IPY_MODEL_53ad95a97e7248e7b7cc9cdd83b293fb"
      }
     },
     "a5de6d8c45ce46e082fc446dc109ab00": {
      "model_module": "@jupyter-widgets/controls",
      "model_module_version": "1.5.0",
      "model_name": "HTMLModel",
      "state": {
       "layout": "IPY_MODEL_898d18e6a4294bffb658ffa39ddfaffb",
       "style": "IPY_MODEL_85b9b3ca14364341bde467b2aa26c6d1",
       "value": "<p style='font-family: IBM Plex Sans, Arial, Helvetica, sans-serif; font-size: 20px; font-weight: medium;'>Circuit Properties</p>"
      }
     },
     "a67632a767f1458793dbfd92e85fc41f": {
      "model_module": "@jupyter-widgets/base",
      "model_module_version": "1.2.0",
      "model_name": "LayoutModel",
      "state": {
       "width": "190px"
      }
     },
     "af07cb4b1d374ffaae4f318825278c4d": {
      "model_module": "@jupyter-widgets/base",
      "model_module_version": "1.2.0",
      "model_name": "LayoutModel",
      "state": {}
     },
     "af5062ee9f9a4f418d2aaf521ed93c8b": {
      "model_module": "@jupyter-widgets/base",
      "model_module_version": "1.2.0",
      "model_name": "LayoutModel",
      "state": {}
     },
     "b54e8bd452394ee3b8e6e812701f2cc8": {
      "model_module": "@jupyter-widgets/controls",
      "model_module_version": "1.5.0",
      "model_name": "ButtonModel",
      "state": {
       "description": "Play",
       "layout": "IPY_MODEL_d22ebc5c93e74a359cc835785c3be648",
       "style": "IPY_MODEL_c0319703dfdd416bb49ab92908bc6ce9"
      }
     },
     "b5fbdda1533949c4a76d4630c053f8f4": {
      "model_module": "@jupyter-widgets/base",
      "model_module_version": "1.2.0",
      "model_name": "LayoutModel",
      "state": {}
     },
     "b6ac952e0f2c4faa92fe0d5a23204208": {
      "model_module": "@jupyter-widgets/controls",
      "model_module_version": "1.5.0",
      "model_name": "DropdownModel",
      "state": {
       "_options_labels": [
        "Identity",
        "Bit Flip"
       ],
       "description": "Choice: ",
       "index": 1,
       "layout": "IPY_MODEL_7b014028164749a2a0fe5a04c9d6a0a9",
       "style": "IPY_MODEL_fbb01be3599d4f41856ce2647461d6d5"
      }
     },
     "b73c7e5f0d5d4cb79e9f4838e42ceb10": {
      "model_module": "@jupyter-widgets/base",
      "model_module_version": "1.2.0",
      "model_name": "LayoutModel",
      "state": {
       "max_width": "700px",
       "min_width": "700px"
      }
     },
     "b8a01452bad14535bde6c9855bea131c": {
      "model_module": "@jupyter-widgets/controls",
      "model_module_version": "1.5.0",
      "model_name": "DescriptionStyleModel",
      "state": {
       "description_width": ""
      }
     },
     "bb5086ab27c546d09d8f445068ffaf40": {
      "model_module": "@jupyter-widgets/base",
      "model_module_version": "1.2.0",
      "model_name": "LayoutModel",
      "state": {
       "width": "70px"
      }
     },
     "c02f07b0a1d74313a8a997abba4e785b": {
      "model_module": "@jupyter-widgets/base",
      "model_module_version": "1.2.0",
      "model_name": "LayoutModel",
      "state": {}
     },
     "c0319703dfdd416bb49ab92908bc6ce9": {
      "model_module": "@jupyter-widgets/controls",
      "model_module_version": "1.5.0",
      "model_name": "ButtonStyleModel",
      "state": {}
     },
     "c182934fc5524febb1c9ca5acbe4b85a": {
      "model_module": "@jupyter-widgets/base",
      "model_module_version": "1.2.0",
      "model_name": "LayoutModel",
      "state": {}
     },
     "c2e507f9e6a64e7293c189d63134d684": {
      "model_module": "@jupyter-widgets/base",
      "model_module_version": "1.2.0",
      "model_name": "LayoutModel",
      "state": {
       "grid_template_areas": "\n                                       \". . . . right \"\n                                        ",
       "grid_template_columns": "20% 20% 20% 20% 20%",
       "width": "100%"
      }
     },
     "c51f1248b8434d94a9accc727a8c23c1": {
      "model_module": "@jupyter-widgets/controls",
      "model_module_version": "1.5.0",
      "model_name": "HTMLModel",
      "state": {
       "layout": "IPY_MODEL_a67632a767f1458793dbfd92e85fc41f",
       "style": "IPY_MODEL_dd3233e0650448dd817bff4212aa438e",
       "value": "<h5>Job ID</h5>"
      }
     },
     "c7e051d2c75f432f86270885529f91ca": {
      "model_module": "@jupyter-widgets/controls",
      "model_module_version": "1.5.0",
      "model_name": "VBoxModel",
      "state": {
       "children": [
        "IPY_MODEL_b6ac952e0f2c4faa92fe0d5a23204208",
        "IPY_MODEL_b54e8bd452394ee3b8e6e812701f2cc8",
        "IPY_MODEL_980b17d01f50455f9b8958128067a377"
       ],
       "layout": "IPY_MODEL_c182934fc5524febb1c9ca5acbe4b85a"
      }
     },
     "cbcd1500f93a4087ad732d0958720f75": {
      "model_module": "@jupyter-widgets/controls",
      "model_module_version": "1.5.0",
      "model_name": "DescriptionStyleModel",
      "state": {
       "description_width": ""
      }
     },
     "cbd5689b098b4b9d982448d1aed983f9": {
      "model_module": "@jupyter-widgets/base",
      "model_module_version": "1.2.0",
      "model_name": "LayoutModel",
      "state": {
       "margin": "0px 5px 0px 0px",
       "width": "32px"
      }
     },
     "cc58125c46644e6eae7c4676218ae569": {
      "model_module": "@jupyter-widgets/base",
      "model_module_version": "1.2.0",
      "model_name": "LayoutModel",
      "state": {}
     },
     "ce10d71b75f048f89234c986099f5a27": {
      "model_module": "@jupyter-widgets/controls",
      "model_module_version": "1.5.0",
      "model_name": "HTMLModel",
      "state": {
       "layout": "IPY_MODEL_0c86578e5316497b9de1266da6de23be",
       "style": "IPY_MODEL_98882cd70ddf4ff6ab911380fc7307b6",
       "value": "615596f61961d1acb74484f9"
      }
     },
     "ce35f199e6914651afed0e64df53fe61": {
      "model_module": "@jupyter-widgets/controls",
      "model_module_version": "1.5.0",
      "model_name": "ButtonStyleModel",
      "state": {}
     },
     "cfb8891445614e5bb17ea3672650e650": {
      "model_module": "@jupyter-widgets/controls",
      "model_module_version": "1.5.0",
      "model_name": "GridBoxModel",
      "state": {
       "children": [
        "IPY_MODEL_342234c953e0463b8fbaadac92b61889"
       ],
       "layout": "IPY_MODEL_c2e507f9e6a64e7293c189d63134d684"
      }
     },
     "cfd86107c41646329e199665b279dc8e": {
      "model_module": "@jupyter-widgets/controls",
      "model_module_version": "1.5.0",
      "model_name": "DropdownModel",
      "state": {
       "_options_labels": [
        "Identity",
        "Bit Flip"
       ],
       "description": "Choice: ",
       "index": 0,
       "layout": "IPY_MODEL_af5062ee9f9a4f418d2aaf521ed93c8b",
       "style": "IPY_MODEL_2d030b8fe69d441587c97ec7f65068e1"
      }
     },
     "d021ac1bdcb34bc4ae96e0183abe9ebf": {
      "model_module": "@jupyter-widgets/controls",
      "model_module_version": "1.5.0",
      "model_name": "HTMLModel",
      "state": {
       "layout": "IPY_MODEL_bb5086ab27c546d09d8f445068ffaf40",
       "style": "IPY_MODEL_2cce4c0e0cd64ab1805a046de3a66989",
       "value": "-"
      }
     },
     "d083e9725115477db5cdc021f73d211d": {
      "model_module": "@jupyter-widgets/controls",
      "model_module_version": "1.5.0",
      "model_name": "ButtonModel",
      "state": {
       "description": "Play",
       "layout": "IPY_MODEL_ec527b21288f49f09b3bacee8a34cd20",
       "style": "IPY_MODEL_ff656ad353b14ac9bc4091cdb5a666a0"
      }
     },
     "d22ebc5c93e74a359cc835785c3be648": {
      "model_module": "@jupyter-widgets/base",
      "model_module_version": "1.2.0",
      "model_name": "LayoutModel",
      "state": {}
     },
     "d2fbc71995f04e9a8c02d82cd6f180e9": {
      "model_module": "@jupyter-widgets/controls",
      "model_module_version": "1.5.0",
      "model_name": "DropdownModel",
      "state": {
       "_options_labels": [
        "Identity",
        "Bit Flip"
       ],
       "description": "Choice: ",
       "index": 1,
       "layout": "IPY_MODEL_d8008ff5f0d94886974b76ddb053c561",
       "style": "IPY_MODEL_98082b3f782449b8b96335f4b0e8830f"
      }
     },
     "d3ff854eb038405193661d319de9c4ee": {
      "model_module": "@jupyter-widgets/controls",
      "model_module_version": "1.5.0",
      "model_name": "DropdownModel",
      "state": {
       "_options_labels": [
        "Identity",
        "Bit Flip"
       ],
       "description": "Choice: ",
       "index": 0,
       "layout": "IPY_MODEL_d513ca3226c440199d29ef1ac8d6bb03",
       "style": "IPY_MODEL_528d9873782f4b99984121119ecf401b"
      }
     },
     "d5122f465fab4a02a8a5796c2c4bc56b": {
      "model_module": "@jupyter-widgets/output",
      "model_module_version": "1.0.0",
      "model_name": "OutputModel",
      "state": {
       "layout": "IPY_MODEL_fb797982ee4542ed8d85c76e9227d913"
      }
     },
     "d513ca3226c440199d29ef1ac8d6bb03": {
      "model_module": "@jupyter-widgets/base",
      "model_module_version": "1.2.0",
      "model_name": "LayoutModel",
      "state": {}
     },
     "d8008ff5f0d94886974b76ddb053c561": {
      "model_module": "@jupyter-widgets/base",
      "model_module_version": "1.2.0",
      "model_name": "LayoutModel",
      "state": {}
     },
     "da8765f98a9040d88199ec80d9880ad1": {
      "model_module": "@jupyter-widgets/controls",
      "model_module_version": "1.5.0",
      "model_name": "DropdownModel",
      "state": {
       "_options_labels": [
        "Identity",
        "Bit Flip"
       ],
       "description": "Choice: ",
       "index": 1,
       "layout": "IPY_MODEL_2b22dbc942ab4a1794d51eb601dc9ca8",
       "style": "IPY_MODEL_3d631bd23a114b22b102a6055db89b5d"
      }
     },
     "dd3233e0650448dd817bff4212aa438e": {
      "model_module": "@jupyter-widgets/controls",
      "model_module_version": "1.5.0",
      "model_name": "DescriptionStyleModel",
      "state": {
       "description_width": ""
      }
     },
     "dd9542c6d8cd469db4312806671512a7": {
      "model_module": "@jupyter-widgets/controls",
      "model_module_version": "1.5.0",
      "model_name": "DropdownModel",
      "state": {
       "_options_labels": [
        "Identity",
        "Bit Flip"
       ],
       "description": "Choice: ",
       "index": 1,
       "layout": "IPY_MODEL_cc58125c46644e6eae7c4676218ae569",
       "style": "IPY_MODEL_b8a01452bad14535bde6c9855bea131c"
      }
     },
     "e173cd5a413d49279f05cc4f195c1839": {
      "model_module": "@jupyter-widgets/controls",
      "model_module_version": "1.5.0",
      "model_name": "HTMLModel",
      "state": {
       "layout": "IPY_MODEL_0b81d9b497b8480bb8bb1e185281d9c0",
       "style": "IPY_MODEL_70085ae15e1e4c5797129eddb1f2fb23",
       "value": "ibmq_manila"
      }
     },
     "e4bc260f61094e69bc88a1a0e5a87f61": {
      "model_module": "@jupyter-widgets/controls",
      "model_module_version": "1.5.0",
      "model_name": "ButtonModel",
      "state": {
       "description": "Play",
       "layout": "IPY_MODEL_c02f07b0a1d74313a8a997abba4e785b",
       "style": "IPY_MODEL_fbbcd70d86b2427cb70d1a185a5c3b8d"
      }
     },
     "e549659a79c046b486751d468e0fe6fb": {
      "model_module": "@jupyter-widgets/controls",
      "model_module_version": "1.5.0",
      "model_name": "DescriptionStyleModel",
      "state": {
       "description_width": ""
      }
     },
     "e73cdb901d904440ab4dac4c886feb63": {
      "model_module": "@jupyter-widgets/base",
      "model_module_version": "1.2.0",
      "model_name": "LayoutModel",
      "state": {
       "width": "145px"
      }
     },
     "e914c289e95a4f3cb07bede7a2098461": {
      "model_module": "@jupyter-widgets/controls",
      "model_module_version": "1.5.0",
      "model_name": "ButtonModel",
      "state": {
       "icon": "close",
       "layout": "IPY_MODEL_cbd5689b098b4b9d982448d1aed983f9",
       "style": "IPY_MODEL_68f85bd7bb95430da6bae7d567d1aa5e"
      }
     },
     "ea06afdb343342459435207e1ba31636": {
      "model_module": "@jupyter-widgets/base",
      "model_module_version": "1.2.0",
      "model_name": "LayoutModel",
      "state": {}
     },
     "ec527b21288f49f09b3bacee8a34cd20": {
      "model_module": "@jupyter-widgets/base",
      "model_module_version": "1.2.0",
      "model_name": "LayoutModel",
      "state": {}
     },
     "f1f0ed9b405e44a590a7a8eef8da2fb0": {
      "model_module": "@jupyter-widgets/controls",
      "model_module_version": "1.5.0",
      "model_name": "HTMLModel",
      "state": {
       "layout": "IPY_MODEL_e73cdb901d904440ab4dac4c886feb63",
       "style": "IPY_MODEL_6936f974ce7c4601b3fdb9aee9ed2c6b",
       "value": "<h5>Backend</h5>"
      }
     },
     "f442eda3e4794d559e86e30723b2c747": {
      "model_module": "@jupyter-widgets/controls",
      "model_module_version": "1.5.0",
      "model_name": "DescriptionStyleModel",
      "state": {
       "description_width": ""
      }
     },
     "f6edca1b09d447b5ac43989ef77e86cb": {
      "model_module": "@jupyter-widgets/controls",
      "model_module_version": "1.5.0",
      "model_name": "HTMLModel",
      "state": {
       "layout": "IPY_MODEL_8f8fe3ec13204582b50285b6d6ea17a7",
       "style": "IPY_MODEL_652c10c995ae496e80e8f449c2c3826e",
       "value": "<h5>Status</h5>"
      }
     },
     "f75222f6b3c54714a15840936f4d6b74": {
      "model_module": "@jupyter-widgets/base",
      "model_module_version": "1.2.0",
      "model_name": "LayoutModel",
      "state": {}
     },
     "fb797982ee4542ed8d85c76e9227d913": {
      "model_module": "@jupyter-widgets/base",
      "model_module_version": "1.2.0",
      "model_name": "LayoutModel",
      "state": {}
     },
     "fbb01be3599d4f41856ce2647461d6d5": {
      "model_module": "@jupyter-widgets/controls",
      "model_module_version": "1.5.0",
      "model_name": "DescriptionStyleModel",
      "state": {
       "description_width": ""
      }
     },
     "fbbcd70d86b2427cb70d1a185a5c3b8d": {
      "model_module": "@jupyter-widgets/controls",
      "model_module_version": "1.5.0",
      "model_name": "ButtonStyleModel",
      "state": {}
     },
     "fc80fe51e04642cd84647aab61e217ad": {
      "model_module": "@jupyter-widgets/base",
      "model_module_version": "1.2.0",
      "model_name": "LayoutModel",
      "state": {
       "margin": "0px 0px 0px 37px",
       "width": "600px"
      }
     },
     "fdc4bf91456e49cba58402e1954b3f36": {
      "model_module": "@jupyter-widgets/controls",
      "model_module_version": "1.5.0",
      "model_name": "DropdownModel",
      "state": {
       "_options_labels": [
        "Identity",
        "Bit Flip"
       ],
       "description": "Choice: ",
       "index": 1,
       "layout": "IPY_MODEL_b5fbdda1533949c4a76d4630c053f8f4",
       "style": "IPY_MODEL_e549659a79c046b486751d468e0fe6fb"
      }
     },
     "fde4561e190a4ca6b2d164d0cbda3f32": {
      "model_module": "@jupyter-widgets/output",
      "model_module_version": "1.0.0",
      "model_name": "OutputModel",
      "state": {
       "layout": "IPY_MODEL_0448304521d943fd8a7f2d8e67ebc8ee",
       "outputs": [
        {
         "name": "stdout",
         "output_type": "stream",
         "text": "You Lose to Quantum. Quantum Computer Wins\n"
        }
       ]
      }
     },
     "fe415236e1734fa59b45ab5c9b763db3": {
      "model_module": "@jupyter-widgets/base",
      "model_module_version": "1.2.0",
      "model_name": "LayoutModel",
      "state": {}
     },
     "ff656ad353b14ac9bc4091cdb5a666a0": {
      "model_module": "@jupyter-widgets/controls",
      "model_module_version": "1.5.0",
      "model_name": "ButtonStyleModel",
      "state": {}
     }
    },
    "version_major": 2,
    "version_minor": 0
   }
  }
 },
 "nbformat": 4,
 "nbformat_minor": 4
}
