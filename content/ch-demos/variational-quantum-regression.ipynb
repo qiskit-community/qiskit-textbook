{
 "cells": [
  {
   "cell_type": "markdown",
   "metadata": {},
   "source": [
    "# Variational Quantum Regression\n",
    "$\\newcommand{\\ket}[1]{\\left|{#1}\\right\\rangle}$\n",
    "$\\newcommand{\\bra}[1]{\\left\\langle{#1}\\right|}$\n",
    "$\\newcommand{\\braket}[2]{\\left\\langle{#1}\\middle|{#2}\\right\\rangle}$\n",
    "## Introduction\n",
    "\n",
    "Here we create a protocol for linear regression which can exploit the properties of a quantum computer. For this problem, we assume that we have two data sets, x and y, where x is the independent data and y is the dependent data. There are N data points in each data set. We first want to fit this data to the following equation:\n",
    "\n",
    "$$y = ax + b$$\n",
    "\n",
    "and then we will include higher powers of x. First, we will theoretically explore this proposed algorithm, and then we will tweak the code slightly so that it can be run on a real quantum computer. This algorithm has no known advantage over the most widely-used classical algorithm ([Least Squares Method](https://doi.org/10.1016/j.proeng.2012.09.545)), but does nicely demonstrate the different elements of variational quantum algorithms."
   ]
  },
  {
   "cell_type": "markdown",
   "metadata": {},
   "source": [
    "## Variational Quantum Computing\n",
    "\n",
    "Variational quantum computing exploits the advantages of both classical computing and quantum computing. In a very general sense, we propose an initial solution to a problem, called an ansatz. In our case our ansatz will be an ansatz parametrised by a and b. We then prepare our qubits (the quantum equivalent of bits on a normal computer) and test how good the ansatz is, using the quantum computer. Testing the ansatz equates to minimising a cost function. We feed the result of this cost function back to the classical computer, and use some classical optimisers to improve on our ansatz, i.e. our initial guesses for a and b. We repeat this process until the ansatz is good enough within some tolerance. \n",
    "![title](images/vlinreg_circuit.png)"
   ]
  },
  {
   "cell_type": "markdown",
   "metadata": {},
   "source": [
    "## Translate to Quantum Domain\n",
    "\n",
    "We now need to explore how we will translate the data set, y, onto a quantum computer. Let us think of y as a length N vector. The easiest way to encode this data set onto a quantum computer is by initialising qubits in the state $\\ket{y}$, where \n",
    "\n",
    "$$\\ket{y} = \\frac{1}{C_y}\\vec{y}$$ and $C_y$ is a normalisation factor.\n",
    "\n",
    "Now we propose a trial solution, or ansatz, which is parametrised by a and b, as follows:\n",
    "\n",
    "$$\\ket{\\Phi} = \\frac{1}{C_{\\Phi}}(a\\vec{x} + b)$$ \n",
    "\n",
    "where $C_{\\Phi}$ is again a normalisation factor.\n",
    "\n",
    "Due to the definition of the tensor product and the fact that the general statevector of a single qubit is a vector of length 2, $n$ qubits can encode length-$2^n$ vectors. \n",
    "\n",
    "### Cost Function\n",
    "\n",
    "Our proposed cost function, which we wish to minimise is equal to\n",
    "\n",
    "$$C_P = \\big(1 - \\braket{y}{\\Phi}\\big)^2$$\n",
    "\n",
    "This computes the normalised fidelity (similarity) of $\\ket{y}$ and $\\ket{\\Phi}$. We see that if $\\ket{y}$ and $\\ket{\\Phi}$ are equal, our cost function will equal 0, otherwise it will be greater than 0. Thus, we need to compute this cost function with our quantum hardware, and couple it with classical minimising algorithms. \n",
    "\n",
    "### Computing Inner Products on a Quantum Computer\n",
    "\n",
    "It is clear we now need a quantum algorithm for computing inner products. Let us go through the theory of computing the inner product $\\braket{x}{y}$ here, which will be translated to quantum hardware in a couple of sections. \n",
    "\n",
    "Firstly, assume we have a state:\n",
    "\n",
    "$$\\ket{\\phi} = \\frac{1}{\\sqrt{2}}\\big(\\ket{0}\\ket{x} + \\ket{1}\\ket{y}\\big)$$\n",
    "\n",
    "where we want to find the inner product, $\\braket{x}{y}$. Applying a Hadamard gate on the first qubit, we find:\n",
    "\n",
    "\\begin{equation}\n",
    "    \\ket{\\tilde{\\phi}} = \\frac{1}{2}\\Big(\\ket{0}\\big(\\ket{x}+\\ket{y}\\big) + \\ket{1}\\big(\\ket{x}-\\ket{y}\\big)\\Big)\n",
    "\\end{equation}\n",
    "\n",
    "This means that the probability to measure the first qubit as $\\ket{0}$ in the computational basis equals:\n",
    "\n",
    "\\begin{equation}\n",
    "    P(0) = \\frac{1}{2}\\Big(1+Re\\big[\\braket{x}{y}\\big]\\Big)\n",
    "\\end{equation}\n",
    "\n",
    "This follows because:\n",
    "\n",
    "\\begin{align}\n",
    "    P(0) &= \\Big|\\bra{0}\\otimes\\mathbb{1}\\ket{\\tilde{\\phi}}\\Big|^2 \\\\\n",
    "    &= \\frac{1}{4}\\Big|\\ket{x}+\\ket{y}\\Big|^2 \\\\\n",
    "    &= \\frac{1}{4}\\big(\\braket{x}{x}+\\braket{x}{y}+\\braket{y}{x}+\\braket{y}{y}\\big) \\\\\n",
    "    &= \\frac{1}{4}\\Big(2 + 2 Re\\big[\\braket{x}{y}\\big]\\Big) \\\\\n",
    "    &= \\frac{1}{2}\\Big(1+Re\\big[\\braket{x}{y}\\big]\\Big)\n",
    "\\end{align}\n",
    "\n",
    "After a simple rearrangement, we see that $$Re\\big[\\braket{x}{y}\\big] = 2P(0) - 1$$\n",
    "\n",
    "It follows from a similar logic that if we apply a phase rotation on our initial state:\n",
    "\\begin{equation}\n",
    "    \\ket{\\phi} = \\frac{1}{\\sqrt{2}}\\big(\\ket{0}\\ket{x} -i \\ket{1}\\ket{y}\\big)\n",
    "\\end{equation}\n",
    "\n",
    "then the probability of the same measurement:\n",
    "\\begin{equation}\n",
    "    P(0) = \\frac{1}{2}\\Big(1+Im\\big[\\braket{x}{y}\\big]\\Big)\n",
    "\\end{equation}\n",
    "\n",
    "We can then combine both probabilities to find the true $\\braket{x}{y}$. For this work, we assume that our states are fully real, and so just need the first measurement."
   ]
  },
  {
   "cell_type": "markdown",
   "metadata": {},
   "source": [
    "## Code Implementation - Theoretical Approach\n",
    "\n",
    "It should be noted here that qiskit orders its qubits with the last qubit corresponding to the left of the tensor product. For this run through, we are computing the inner product of length-8 vectors. Thus, we require 4 qubits ($8 + 8 = 16 = 2^4$) to encode the state:\n",
    "\n",
    "\\begin{align}\n",
    "    \\ket{\\phi} &= \\frac{1}{\\sqrt{2}}(\\ket{0}\\ket{x} + \\ket{1}\\ket{y}) \\\\ &= \\frac{1}{\\sqrt{2}}\\left(\\begin{bmatrix}1\\\\0\\end{bmatrix}\\otimes\\begin{bmatrix}x_1\\\\x_2\\\\\\vdots\\\\x_n \\end{bmatrix} +\\begin{bmatrix}0\\\\1\\end{bmatrix}\\otimes\\begin{bmatrix}y_1\\\\y_2\\\\\\vdots\\\\y_n \\end{bmatrix} \\right) \\\\\n",
    "    &= \\frac{1}{\\sqrt{2}}\\left(\\begin{bmatrix}x_1\\\\x_2\\\\\\vdots\\\\x_n \\\\y_1\\\\y_2\\\\\\vdots\\\\y_n \\end{bmatrix} \\right)\n",
    "\\end{align}\n",
    "\n",
    "Finally, in order to measure the probability of measuring the bottom (leftmost) qubit as $\\ket{0}$ in the computational basis, we can find the exact theoretical value by finding the resultant statevector and summing up the amplitude squared of the first $2^{n-1}$ entries (i.e. half of them). On a real quantum computer, we would just have to perform the actual measurement many times over, and compute the probability that way. We will show the theoretical approach in practice first. "
   ]
  },
  {
   "cell_type": "code",
   "execution_count": 1,
   "metadata": {},
   "outputs": [],
   "source": [
    "# importing necessary packages\n",
    "import qiskit\n",
    "from qiskit import QuantumCircuit, QuantumRegister, ClassicalRegister\n",
    "from qiskit import Aer, execute\n",
    "import math\n",
    "import random\n",
    "import numpy as np\n",
    "import matplotlib.pyplot as plt\n",
    "from scipy.optimize import minimize"
   ]
  },
  {
   "cell_type": "markdown",
   "metadata": {},
   "source": [
    "Now, let's draw the required diagram for theoretically computing the inner product of any two states. Note that the only difference between this circuit diagram and the real, practical diagram for actually running on a quantum computer is that we do not measure the left-most qubit in the computational basis. Again, note that the left-most qubit corresponds to the bottom qubit."
   ]
  },
  {
   "cell_type": "code",
   "execution_count": 2,
   "metadata": {},
   "outputs": [
    {
     "data": {
      "text/html": [
       "<pre style=\"word-wrap: normal;white-space: pre;background: #fff0;line-height: 1.1;font-family: &quot;Courier New&quot;,Courier,monospace\">     »\n",
       "q_0: »\n",
       "     »\n",
       "q_1: »\n",
       "     »\n",
       "q_2: »\n",
       "     »\n",
       "q_3: »\n",
       "     »\n",
       "«     ┌────────────────────────────────────────────────────────────────────────────────────────────────────────────────────────────────────┐»\n",
       "«q_0: ┤0                                                                                                                                   ├»\n",
       "«     │                                                                                                                                    │»\n",
       "«q_1: ┤1                                                                                                                                   ├»\n",
       "«     │  initialize(0,0.059761,0.11952,0.17928,0.23905,0.29881,0.35857,0.41833,0,0.059761,0.11952,0.17928,0.23905,0.29881,0.35857,0.41833) │»\n",
       "«q_2: ┤2                                                                                                                                   ├»\n",
       "«     │                                                                                                                                    │»\n",
       "«q_3: ┤3                                                                                                                                   ├»\n",
       "«     └────────────────────────────────────────────────────────────────────────────────────────────────────────────────────────────────────┘»\n",
       "«          \n",
       "«q_0: ─────\n",
       "«          \n",
       "«q_1: ─────\n",
       "«          \n",
       "«q_2: ─────\n",
       "«     ┌───┐\n",
       "«q_3: ┤ H ├\n",
       "«     └───┘</pre>"
      ],
      "text/plain": [
       "     »\n",
       "q_0: »\n",
       "     »\n",
       "q_1: »\n",
       "     »\n",
       "q_2: »\n",
       "     »\n",
       "q_3: »\n",
       "     »\n",
       "«     ┌────────────────────────────────────────────────────────────────────────────────────────────────────────────────────────────────────┐»\n",
       "«q_0: ┤0                                                                                                                                   ├»\n",
       "«     │                                                                                                                                    │»\n",
       "«q_1: ┤1                                                                                                                                   ├»\n",
       "«     │  initialize(0,0.059761,0.11952,0.17928,0.23905,0.29881,0.35857,0.41833,0,0.059761,0.11952,0.17928,0.23905,0.29881,0.35857,0.41833) │»\n",
       "«q_2: ┤2                                                                                                                                   ├»\n",
       "«     │                                                                                                                                    │»\n",
       "«q_3: ┤3                                                                                                                                   ├»\n",
       "«     └────────────────────────────────────────────────────────────────────────────────────────────────────────────────────────────────────┘»\n",
       "«          \n",
       "«q_0: ─────\n",
       "«          \n",
       "«q_1: ─────\n",
       "«          \n",
       "«q_2: ─────\n",
       "«     ┌───┐\n",
       "«q_3: ┤ H ├\n",
       "«     └───┘"
      ]
     },
     "execution_count": 2,
     "metadata": {},
     "output_type": "execute_result"
    }
   ],
   "source": [
    "x = np.arange(0,8,1)    # define some vectors x and y\n",
    "y = x\n",
    "\n",
    "N = len(x)              \n",
    "nqubits = math.ceil(np.log2(N))    # compute how many qubits needed to encode either x or y\n",
    "\n",
    "xnorm = np.linalg.norm(x)          # normalise vectors x and y\n",
    "ynorm = np.linalg.norm(y)\n",
    "x = x/xnorm\n",
    "y = y/ynorm\n",
    "\n",
    "circ = QuantumCircuit(nqubits+1)   # create circuit\n",
    "vec = np.concatenate((x,y))/np.sqrt(2)    # concatenate x and y as above, with renormalisation\n",
    "\n",
    "circ.initialize(vec, range(nqubits+1))\n",
    "circ.h(nqubits)                    # apply hadamard to bottom qubit\n",
    "\n",
    "circ.draw()                        # draw the circuit"
   ]
  },
  {
   "cell_type": "markdown",
   "metadata": {},
   "source": [
    "Now let's build a function around this circuit, so that we can theoretically compute the inner product between any two normalised vectors. "
   ]
  },
  {
   "cell_type": "code",
   "execution_count": 3,
   "metadata": {},
   "outputs": [
    {
     "name": "stdout",
     "output_type": "stream",
     "text": [
      "x:  [0.         0.08451543 0.16903085 0.25354628 0.3380617  0.42257713\n",
      " 0.50709255 0.59160798]\n",
      "\n",
      "y:  [0.         0.08451543 0.16903085 0.25354628 0.3380617  0.42257713\n",
      " 0.50709255 0.59160798]\n",
      "\n",
      "The inner product of x and y equals:  0.9999999999999996\n"
     ]
    }
   ],
   "source": [
    "#Creates a quantum circuit to calculate the inner product between two normalised vectors\n",
    "\n",
    "def inner_prod(vec1, vec2):\n",
    "    #first check lengths are equal\n",
    "    if len(vec1) != len(vec2):\n",
    "        raise ValueError('Lengths of states are not equal')\n",
    "        \n",
    "    circ = QuantumCircuit(nqubits+1)\n",
    "    vec = np.concatenate((vec1,vec2))/np.sqrt(2)\n",
    "    \n",
    "    circ.initialize(vec, range(nqubits+1))\n",
    "    circ.h(nqubits)\n",
    "\n",
    "    backend = Aer.get_backend('statevector_simulator')\n",
    "    job = execute(circ, backend, backend_options = {\"zero_threshold\": 1e-20})\n",
    "\n",
    "    result = job.result()\n",
    "    o = np.real(result.get_statevector(circ))\n",
    "\n",
    "    m_sum = 0\n",
    "    for l in range(N):\n",
    "        m_sum += o[l]**2\n",
    "        \n",
    "    return 2*m_sum-1\n",
    "\n",
    "x = np.arange(0,8,1)\n",
    "y = x\n",
    "\n",
    "N = len(x)\n",
    "nqubits = math.ceil(np.log2(N))\n",
    "xnorm = np.linalg.norm(x)\n",
    "ynorm = np.linalg.norm(y)\n",
    "x = x/xnorm\n",
    "y = y/ynorm\n",
    "\n",
    "print(\"x: \", x)\n",
    "print()\n",
    "print(\"y: \", y)\n",
    "print()\n",
    "print(\"The inner product of x and y equals: \", inner_prod(x,y))"
   ]
  },
  {
   "cell_type": "markdown",
   "metadata": {},
   "source": [
    "Now, let's build a function to compute the cost function associated with any choice of a and b. We have set up x and y such that the correct parameters are (a,b) = (1,0). "
   ]
  },
  {
   "cell_type": "code",
   "execution_count": 4,
   "metadata": {},
   "outputs": [
    {
     "name": "stdout",
     "output_type": "stream",
     "text": [
      "Cost function for a = 1.0 and b = 1.0 equals: 0.03999999999999998\n"
     ]
    }
   ],
   "source": [
    "#Implements the entire cost function by feeding the ansatz to the quantum circuit which computes inner products\n",
    "\n",
    "def calculate_cost_function(parameters):\n",
    "\n",
    "    a, b = parameters\n",
    "    \n",
    "    ansatz = a*x + b                        # compute ansatz\n",
    "    ansatzNorm = np.linalg.norm(ansatz)     # normalise ansatz\n",
    "    ansatz = ansatz/ansatzNorm\n",
    "    \n",
    "    y_ansatz = ansatzNorm/ynorm * inner_prod(y,ansatz)     # use quantum circuit to test ansatz\n",
    "                                                           # note the normalisation factors\n",
    "    return (1-y_ansatz)**2\n",
    "\n",
    "x = np.arange(0,8,1)\n",
    "y = x\n",
    "\n",
    "N = len(x)\n",
    "nqubits = math.ceil(np.log2(N))\n",
    "ynorm = np.linalg.norm(y)\n",
    "y = y/ynorm\n",
    "\n",
    "a = 1.0\n",
    "b = 1.0\n",
    "print(\"Cost function for a =\", a, \"and b =\", b, \"equals:\", calculate_cost_function([a,b]))"
   ]
  },
  {
   "cell_type": "markdown",
   "metadata": {},
   "source": [
    "Now putting everything together and using a classical optimiser from the scipy library, we get the full code."
   ]
  },
  {
   "cell_type": "code",
   "execution_count": 5,
   "metadata": {},
   "outputs": [
    {
     "data": {
      "image/png": "[encoded data removed]",
      "text/plain": [
       "<Figure size 432x288 with 1 Axes>"
      ]
     },
     "metadata": {
      "needs_background": "light"
     },
     "output_type": "display_data"
    }
   ],
   "source": [
    "#first set up the data sets x and y\n",
    "\n",
    "x = np.arange(0,8,1)\n",
    "y = x   # + [random.uniform(-1,1) for p in range(8)]    # can add noise here\n",
    "N = len(x)\n",
    "nqubits = math.ceil(np.log2(N))\n",
    "       \n",
    "ynorm = np.linalg.norm(y)      # normalise the y data set\n",
    "y = y/ynorm\n",
    "\n",
    "x0 = [0.5,0.5]                 # initial guess for a and b\n",
    "\n",
    "#now use different classical optimisers to see which one works best\n",
    "\n",
    "out = minimize(calculate_cost_function, x0=x0, method=\"BFGS\", options={'maxiter':200}, tol=1e-6)\n",
    "out1 = minimize(calculate_cost_function, x0=x0, method=\"COBYLA\", options={'maxiter':200}, tol=1e-6)\n",
    "out2 = minimize(calculate_cost_function, x0=x0, method=\"Nelder-Mead\", options={'maxiter':200}, tol=1e-6)\n",
    "out3 = minimize(calculate_cost_function, x0=x0, method=\"CG\", options={'maxiter':200}, tol=1e-6)\n",
    "out4 = minimize(calculate_cost_function, x0=x0, method=\"trust-constr\", options={'maxiter':200}, tol=1e-6)\n",
    "\n",
    "out_a1 = out1['x'][0]\n",
    "out_b1 = out1['x'][1]\n",
    "\n",
    "out_a = out['x'][0]\n",
    "out_b = out['x'][1]\n",
    "\n",
    "out_a2 = out2['x'][0]\n",
    "out_b2 = out2['x'][1]\n",
    "\n",
    "out_a3 = out3['x'][0]\n",
    "out_b3 = out3['x'][1]\n",
    "\n",
    "out_a4 = out4['x'][0]\n",
    "out_b4 = out4['x'][1]\n",
    "\n",
    "plt.scatter(x,y*ynorm)\n",
    "xfit = np.linspace(min(x), max(x), 100)\n",
    "plt.plot(xfit, out_a*xfit+out_b, label='BFGS')\n",
    "plt.plot(xfit, out_a1*xfit+out_b1, label='COBYLA')\n",
    "plt.plot(xfit, out_a2*xfit+out_b2, label='Nelder-Mead')\n",
    "plt.plot(xfit, out_a3*xfit+out_b3, label='CG')\n",
    "plt.plot(xfit, out_a4*xfit+out_b4, label='trust-constr')\n",
    "plt.legend()\n",
    "plt.title(\"y = x\")\n",
    "plt.xlabel(\"x\")\n",
    "plt.ylabel(\"y\")\n",
    "plt.show()"
   ]
  },
  {
   "cell_type": "markdown",
   "metadata": {},
   "source": [
    "## Code Implementation - Practical Approach\n",
    "\n",
    "In order to modify the above slightly so that it can be run on a real quantum computer, we simply have to modify the `inner_prod` function. Instead of theoretically extracting the probabilility of measuring a 0 on the leftmost qubit in the computational basis, we must actually measure this qubit a number of times and calculate the probability from these samples. Our new circuit can be created as follows, which is identical to the theoretical circuit, but we just add a measurement, and hence need a classical bit."
   ]
  },
  {
   "cell_type": "code",
   "execution_count": 6,
   "metadata": {},
   "outputs": [
    {
     "data": {
      "text/html": [
       "<pre style=\"word-wrap: normal;white-space: pre;background: #fff0;line-height: 1.1;font-family: &quot;Courier New&quot;,Courier,monospace\">     »\n",
       "q_0: »\n",
       "     »\n",
       "q_1: »\n",
       "     »\n",
       "q_2: »\n",
       "     »\n",
       "q_3: »\n",
       "     »\n",
       "c_0: »\n",
       "     »\n",
       "«     ┌────────────────────────────────────────────────────────────────────────────────────────────────────────────────────────────────────┐»\n",
       "«q_0: ┤0                                                                                                                                   ├»\n",
       "«     │                                                                                                                                    │»\n",
       "«q_1: ┤1                                                                                                                                   ├»\n",
       "«     │  initialize(0,0.059761,0.11952,0.17928,0.23905,0.29881,0.35857,0.41833,0,0.059761,0.11952,0.17928,0.23905,0.29881,0.35857,0.41833) │»\n",
       "«q_2: ┤2                                                                                                                                   ├»\n",
       "«     │                                                                                                                                    │»\n",
       "«q_3: ┤3                                                                                                                                   ├»\n",
       "«     └────────────────────────────────────────────────────────────────────────────────────────────────────────────────────────────────────┘»\n",
       "«c_0: ══════════════════════════════════════════════════════════════════════════════════════════════════════════════════════════════════════»\n",
       "«                                                                                                                                           »\n",
       "«             \n",
       "«q_0: ────────\n",
       "«             \n",
       "«q_1: ────────\n",
       "«             \n",
       "«q_2: ────────\n",
       "«     ┌───┐┌─┐\n",
       "«q_3: ┤ H ├┤M├\n",
       "«     └───┘└╥┘\n",
       "«c_0: ══════╩═\n",
       "«             </pre>"
      ],
      "text/plain": [
       "     »\n",
       "q_0: »\n",
       "     »\n",
       "q_1: »\n",
       "     »\n",
       "q_2: »\n",
       "     »\n",
       "q_3: »\n",
       "     »\n",
       "c_0: »\n",
       "     »\n",
       "«     ┌────────────────────────────────────────────────────────────────────────────────────────────────────────────────────────────────────┐»\n",
       "«q_0: ┤0                                                                                                                                   ├»\n",
       "«     │                                                                                                                                    │»\n",
       "«q_1: ┤1                                                                                                                                   ├»\n",
       "«     │  initialize(0,0.059761,0.11952,0.17928,0.23905,0.29881,0.35857,0.41833,0,0.059761,0.11952,0.17928,0.23905,0.29881,0.35857,0.41833) │»\n",
       "«q_2: ┤2                                                                                                                                   ├»\n",
       "«     │                                                                                                                                    │»\n",
       "«q_3: ┤3                                                                                                                                   ├»\n",
       "«     └────────────────────────────────────────────────────────────────────────────────────────────────────────────────────────────────────┘»\n",
       "«c_0: ══════════════════════════════════════════════════════════════════════════════════════════════════════════════════════════════════════»\n",
       "«                                                                                                                                           »\n",
       "«             \n",
       "«q_0: ────────\n",
       "«             \n",
       "«q_1: ────────\n",
       "«             \n",
       "«q_2: ────────\n",
       "«     ┌───┐┌─┐\n",
       "«q_3: ┤ H ├┤M├\n",
       "«     └───┘└╥┘\n",
       "«c_0: ══════╩═\n",
       "«             "
      ]
     },
     "execution_count": 6,
     "metadata": {},
     "output_type": "execute_result"
    }
   ],
   "source": [
    "x = np.arange(0,8,1)    # define some vectors x and y\n",
    "y = x\n",
    "\n",
    "N = len(x)              \n",
    "nqubits = math.ceil(np.log2(N))    # compute how many qubits needed to encode either x or y\n",
    "\n",
    "xnorm = np.linalg.norm(x)          # normalise vectors x and y\n",
    "ynorm = np.linalg.norm(y)\n",
    "x = x/xnorm\n",
    "y = y/ynorm\n",
    "\n",
    "circ = QuantumCircuit(nqubits+1,1)   # create circuit\n",
    "vec = np.concatenate((x,y))/np.sqrt(2)    # concatenate x and y as above, with renormalisation\n",
    "\n",
    "circ.initialize(vec, range(nqubits+1))\n",
    "circ.h(nqubits)                    # apply hadamard to bottom qubit\n",
    "circ.measure(nqubits,0)            # measure bottom qubit in computational basis\n",
    "\n",
    "circ.draw()                        # draw the circuit"
   ]
  },
  {
   "cell_type": "markdown",
   "metadata": {},
   "source": [
    "Now, we can build a new inner_prod function around this circuit, using a different simulator from qiskit."
   ]
  },
  {
   "cell_type": "code",
   "execution_count": 7,
   "metadata": {},
   "outputs": [
    {
     "name": "stdout",
     "output_type": "stream",
     "text": [
      "x:  [0.         0.08451543 0.16903085 0.25354628 0.3380617  0.42257713\n",
      " 0.50709255 0.59160798]\n",
      "\n",
      "y:  [0.         0.08451543 0.16903085 0.25354628 0.3380617  0.42257713\n",
      " 0.50709255 0.59160798]\n",
      "\n",
      "The inner product of x and y equals:  1.0\n"
     ]
    }
   ],
   "source": [
    "#Creates quantum circuit which calculates the inner product between two normalised vectors\n",
    "\n",
    "def inner_prod(vec1, vec2):\n",
    "    #first check lengths are equal\n",
    "    if len(vec1) != len(vec2):\n",
    "        raise ValueError('Lengths of states are not equal')\n",
    "        \n",
    "    circ = QuantumCircuit(nqubits+1,1)\n",
    "    vec = np.concatenate((vec1,vec2))/np.sqrt(2)\n",
    "    \n",
    "    circ.initialize(vec, range(nqubits+1))\n",
    "    circ.h(nqubits)\n",
    "    circ.measure(nqubits,0)\n",
    "\n",
    "    backend = Aer.get_backend('qasm_simulator')\n",
    "    job = execute(circ, backend, shots=20000)\n",
    "\n",
    "    result = job.result()\n",
    "    outputstate = result.get_counts(circ)\n",
    "\n",
    "    if ('0' in outputstate.keys()):\n",
    "        m_sum = float(outputstate[\"0\"])/20000\n",
    "    else:\n",
    "        m_sum = 0\n",
    "     \n",
    "    return 2*m_sum-1\n",
    "\n",
    "x = np.arange(0,8,1)\n",
    "y = x\n",
    "\n",
    "N = len(x)\n",
    "nqubits = math.ceil(np.log2(N))\n",
    "xnorm = np.linalg.norm(x)\n",
    "ynorm = np.linalg.norm(y)\n",
    "x = x/xnorm\n",
    "y = y/ynorm\n",
    "\n",
    "print(\"x: \", x)\n",
    "print()\n",
    "print(\"y: \", y)\n",
    "print()\n",
    "print(\"The inner product of x and y equals: \", inner_prod(x,y))"
   ]
  },
  {
   "cell_type": "markdown",
   "metadata": {},
   "source": [
    "Our cost function calculation is the same as before, but we now just use this new method for computing the inner product, so the full code can be run as follows."
   ]
  },
  {
   "cell_type": "code",
   "execution_count": null,
   "metadata": {},
   "outputs": [],
   "source": [
    "#first set up the data sets x and y\n",
    "\n",
    "x = np.arange(0,8,1)\n",
    "y = x   # + [random.uniform(-1,1) for p in range(8)]  # can add noise here\n",
    "N = len(x)\n",
    "nqubits = math.ceil(np.log2(N))\n",
    "\n",
    "ynorm = np.linalg.norm(y)    # normalise y data set\n",
    "y = y/ynorm\n",
    "\n",
    "x0 = [0.5,0.5]       # initial guess for a and b\n",
    "\n",
    "#now use different classical optimisers to see which one works best\n",
    "\n",
    "out = minimize(calculate_cost_function, x0=x0, method=\"BFGS\", options={'maxiter':200}, tol=1e-6)\n",
    "out1 = minimize(calculate_cost_function, x0=x0, method=\"COBYLA\", options={'maxiter':200}, tol=1e-6)\n",
    "out2 = minimize(calculate_cost_function, x0=x0, method=\"Nelder-Mead\", options={'maxiter':200}, tol=1e-6)\n",
    "out3 = minimize(calculate_cost_function, x0=x0, method=\"CG\", options={'maxiter':200}, tol=1e-6)\n",
    "out4 = minimize(calculate_cost_function, x0=x0, method=\"trust-constr\", options={'maxiter':200}, tol=1e-6)\n",
    "\n",
    "out_a1 = out1['x'][0]\n",
    "out_b1 = out1['x'][1]\n",
    "\n",
    "out_a = out['x'][0]\n",
    "out_b = out['x'][1]\n",
    "\n",
    "out_a2 = out2['x'][0]\n",
    "out_b2 = out2['x'][1]\n",
    "\n",
    "out_a3 = out3['x'][0]\n",
    "out_b3 = out3['x'][1]\n",
    "\n",
    "out_a4 = out4['x'][0]\n",
    "out_b4 = out4['x'][1]\n",
    "\n",
    "plt.scatter(x,y*ynorm)\n",
    "xfit = np.linspace(min(x), max(x), 100)\n",
    "plt.plot(xfit, out_a*xfit+out_b, label='BFGS')\n",
    "plt.plot(xfit, out_a1*xfit+out_b1, label='COBYLA')\n",
    "plt.plot(xfit, out_a2*xfit+out_b2, label='Nelder-Mead')\n",
    "plt.plot(xfit, out_a3*xfit+out_b3, label='CG')\n",
    "plt.plot(xfit, out_a4*xfit+out_b4, label='trust-constr')\n",
    "plt.legend()\n",
    "plt.title(\"y = x\")\n",
    "plt.xlabel(\"x\")\n",
    "plt.ylabel(\"y\")\n",
    "plt.show()"
   ]
  },
  {
   "cell_type": "markdown",
   "metadata": {},
   "source": [
    "## Extending to Higher Order Fits\n",
    "\n",
    "We can also extend to fitting to quadratic, cubic, and higher order polynomials. The code remains relatively unchanged, but will update the cost function slightly. We can of course use either the theoretical or practical method for computing the inner products in the following cost function. We are now fitting to an n$^{th}$-order polynomial: $$y = a_0+ a_1 x + a_2 x^2 + \\dots + a_n x^n$$"
   ]
  },
  {
   "cell_type": "code",
   "execution_count": 9,
   "metadata": {},
   "outputs": [],
   "source": [
    "# New cost function calculation, allowing for higher order polynomials\n",
    "# Implements the entire cost function by feeding the ansatz to the quantum circuit which computes inner products\n",
    "def calculate_cost_function_n(parameters):\n",
    "    \n",
    "    ansatz = parameters[0]                   # compute ansatz\n",
    "\n",
    "    for i in range(1,len(parameters)):\n",
    "\n",
    "        ansatz += parameters[i] * x**i\n",
    "        \n",
    "    ansatzNorm = np.linalg.norm(ansatz)      # normalise ansatz\n",
    "    ansatz = ansatz/ansatzNorm\n",
    "    y_ansatz = ansatzNorm/ynorm * inner_prod(y,ansatz)     # use quantum circuit to test ansatz\n",
    "                                                           # note the normalisation factors\n",
    "\n",
    "    return (1-y_ansatz)**2"
   ]
  },
  {
   "cell_type": "code",
   "execution_count": 10,
   "metadata": {},
   "outputs": [
    {
     "data": {
      "image/png": "[encoded data removed]",
      "text/plain": [
       "<Figure size 432x288 with 1 Axes>"
      ]
     },
     "metadata": {
      "needs_background": "light"
     },
     "output_type": "display_data"
    }
   ],
   "source": [
    "#first set up the data sets x and y\n",
    "\n",
    "x = np.arange(0,8,1)\n",
    "y = (2*x-1)**3 + [random.uniform(-1,1) for p in range(8)]\n",
    "N = len(x)\n",
    "nqubits = math.ceil(np.log2(N))\n",
    "       \n",
    "ynorm = np.linalg.norm(y)       #normalise y data set\n",
    "y = y/ynorm\n",
    "\n",
    "order = 3\n",
    "\n",
    "x0 = [random.uniform(0,2) for p in range(order+1)]    #random initial guess for a and b\n",
    "\n",
    "#now use different classical optimisers to see which one works best\n",
    "\n",
    "out = minimize(calculate_cost_function_n, x0=x0, method=\"BFGS\", options={'maxiter':200}, tol=1e-6)\n",
    "out1 = minimize(calculate_cost_function_n, x0=x0, method=\"COBYLA\", options={'maxiter':200}, tol=1e-6)\n",
    "out2 = minimize(calculate_cost_function_n, x0=x0, method=\"Nelder-Mead\", options={'maxiter':200}, tol=1e-6)\n",
    "out3 = minimize(calculate_cost_function_n, x0=x0, method=\"CG\", options={'maxiter':200}, tol=1e-6)\n",
    "out4 = minimize(calculate_cost_function_n, x0=x0, method=\"trust-constr\", options={'maxiter':200}, tol=1e-6)\n",
    "\n",
    "class_fit = np.polyfit(x,y*ynorm,order)\n",
    "class_fit = class_fit[::-1]\n",
    "\n",
    "xfit = np.linspace(min(x), max(x), 100)\n",
    "\n",
    "def return_fits(xfit):\n",
    "    c_fit = np.zeros(100)\n",
    "    q_fit = np.zeros(100)\n",
    "    q_fit1 = np.zeros(100)\n",
    "    q_fit2 = np.zeros(100)\n",
    "    q_fit3 = np.zeros(100)\n",
    "    q_fit4 = np.zeros(100)\n",
    "    for i in range(order+1):\n",
    "        c_fit += xfit**i*class_fit[i]\n",
    "        q_fit += xfit**i*out['x'][i]\n",
    "        q_fit1 += xfit**i*out1['x'][i]\n",
    "        q_fit2 += xfit**i*out2['x'][i]\n",
    "        q_fit3 += xfit**i*out3['x'][i]\n",
    "        q_fit4 += xfit**i*out4['x'][i]\n",
    "        \n",
    "\n",
    "    return c_fit, q_fit, q_fit1, q_fit2, q_fit3, q_fit4\n",
    "\n",
    "c_fit, q_fit, q_fit1, q_fit2, q_fit3, q_fit4 = return_fits(xfit)\n",
    "\n",
    "plt.scatter(x,y*ynorm)\n",
    "xfit = np.linspace(min(x), max(x), 100)\n",
    "plt.plot(xfit, c_fit, label='Classical')\n",
    "plt.plot(xfit, q_fit, label='BFGS')\n",
    "plt.plot(xfit, q_fit1, label='COBYLA')\n",
    "plt.plot(xfit, q_fit2, label='Nelder-Mead')\n",
    "plt.plot(xfit, q_fit3, label='CG')\n",
    "plt.plot(xfit, q_fit4, label='trust-constr')\n",
    "plt.legend()\n",
    "plt.title(\"$y = (2x-1)^3$ + Random Perturbation\")\n",
    "plt.xlabel(\"x\")\n",
    "plt.ylabel(\"y\")\n",
    "plt.show()"
   ]
  },
  {
   "cell_type": "markdown",
   "metadata": {},
   "source": [
    "## Acknowledgements\n",
    "\n",
    "I would like to thank Dr. Lee O'Riordan for his supervision and guidance on this work. The work was mainly inspired by work presented in the research paper \"Variational Quantum Linear Solver: A Hybrid Algorithm for Linear Systems\", written by Carlos Bravo-Prieto, Ryan LaRose, M. Cerezo, Yiğit Subaşı, Lukasz Cincio, and Patrick J. Coles, which is available at this [link](https://arxiv.org/abs/1909.05820). I would also like to thank the Irish Centre for High End Computing for allowing me to access the national HPC infrastructure, Kay."
   ]
  }
 ],
 "metadata": {
  "kernelspec": {
   "display_name": "Python 3",
   "language": "python",
   "name": "python3"
  },
  "language_info": {
   "codemirror_mode": {
    "name": "ipython",
    "version": 3
   },
   "file_extension": ".py",
   "mimetype": "text/x-python",
   "name": "python",
   "nbconvert_exporter": "python",
   "pygments_lexer": "ipython3",
   "version": "3.8.1"
  }
 },
 "nbformat": 4,
 "nbformat_minor": 4
}
