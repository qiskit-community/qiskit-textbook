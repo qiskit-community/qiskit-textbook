{
 "cells": [
  {
   "cell_type": "markdown",
   "metadata": {
    "tags": [
     "remove_cell"
    ]
   },
   "source": [
    "# 量子数え上げ"
   ]
  },
  {
   "cell_type": "markdown",
   "metadata": {},
   "source": [
    "このアルゴリズムを理解するためには、最初にグローバーのアルゴリズムと量子位相推定アルゴリズムの両方を理解することは大切なことです。グローバーアルゴリズムがオラクルの解を見つけようとするのに対し、量子数え上げのアルゴリズムは、この問題の解の数を見つけます。このアルゴリズムは量子探索アルゴリズムと量子位相推定アルゴリズムの両方を結びつけるので、大変興味深いものです。\n",
    "\n",
    "\n",
    "## 目次\n",
    "\n",
    "1. [概要](#overview)    \n",
    "    1.1 [知識](#intuition)    \n",
    "    1.2 [より詳しく見る](#closer_look)    \n",
    "2. [コード](#code)    \n",
    "    2.1 [コードの初期化](#init_code)    \n",
    "    2.2 [制御グローバ探索の反復](#cont_grover)    \n",
    "    2.3 [逆量子フーリエ変換](#inv_qft)    \n",
    "    2.4 [合わせてみましょう！](#putting_together)    \n",
    "3. [シミュレーション](#simulating)    \n",
    "4. [解の数(M)を見つける](#finding_m)\n",
    "5. [練習問題](#exercises)\n",
    "6. [参考文献](#references)"
   ]
  },
  {
   "cell_type": "markdown",
   "metadata": {},
   "source": [
    "## 1. 概要<a id='overview'></a>"
   ]
  },
  {
   "cell_type": "markdown",
   "metadata": {},
   "source": [
    "### 1.1 知識<a id='intuition'></a>"
   ]
  },
  {
   "cell_type": "markdown",
   "metadata": {},
   "source": [
    "グローバー探索の反復の固有値を見つけるために量子位相推定アルゴリズムを使います。グローバー探索の反復演算$G$は、$|\\omega\\rangle$、$|s'\\rangle$基底で、状態ベクトルを$\\theta$回転させるものであることを覚えているでしょう。：\n",
    "\n",
    "![image1](images/quantum_counting1.svg)\n"
   ]
  },
  {
   "cell_type": "markdown",
   "metadata": {},
   "source": [
    "探索空間の解の数の割合は$|s\\rangle$と$|s’\\rangle$の違いに依存します。例えば、もしたくさんの解がないならば、基底$|s\\rangle$は基底$|s’\\rangle$に近く、そして角度$\\theta$ はとても小さいでしょう。グローバーの反復の固有値は$e^{\\pm i\\theta}$であることが分かり、量子位相推定を使って、解の数($M$)を推定します。"
   ]
  },
  {
   "cell_type": "markdown",
   "metadata": {},
   "source": [
    "### 1.2 より詳しく見る <a id='closer_look'></a>"
   ]
  },
  {
   "cell_type": "markdown",
   "metadata": {},
   "source": [
    "$|\\omega\\rangle$、$|s'\\rangle$ 基底で、グローバー反復演算は以下の行列で書き表せます。：\n",
    "\n",
    "$$\n",
    "G =\n",
    "\\begin{pmatrix}\n",
    "\\cos{\\theta} && -\\sin{\\theta}\\\\\n",
    "\\sin{\\theta} && \\cos{\\theta}\n",
    "\\end{pmatrix}\n",
    "$$\n",
    "\n",
    "行列$G$は以下の固有ベクトルを持ちます。:\n",
    "\n",
    "$$\n",
    "\\begin{pmatrix}\n",
    "-i\\\\\n",
    "1\n",
    "\\end{pmatrix}\n",
    ",\n",
    "\\begin{pmatrix}\n",
    "i\\\\\n",
    "1\n",
    "\\end{pmatrix}\n",
    "$$\n",
    "\n",
    "前述の通り、固有値は$e^{\\pm i\\theta}$です。幸運なことに、$|s\\rangle$の状態は、$|\\omega\\rangle$と$|s’\\rangle$で張られている空間にあるため、$|s\\rangle$は以下のように２つのベクトルの重ね合わせとなります。\n",
    "\n",
    "$$\n",
    "|s\\rangle = \\alpha |\\omega\\rangle + \\beta|s'\\rangle\n",
    "$$\n",
    "\n",
    "その結果、QPEアルゴリズムの出力は2つの位相の重ね合わせになり、レジスターを測定すると、これら2つの値のいずれかが得られます！次に、いくつかの簡単な数学を使用して、$𝑀$の推定値を取得できます。\n",
    "\n",
    "![image2](images/quantum_counting2.svg)\n"
   ]
  },
  {
   "cell_type": "markdown",
   "metadata": {},
   "source": [
    "## 2.　コード <a id='code'></a>"
   ]
  },
  {
   "cell_type": "markdown",
   "metadata": {},
   "source": [
    "### 2.1 コードの初期化 <a id='init_code'></a>\n",
    "\n",
    "最初に、ここで必要なものを全てインポートしましょう。"
   ]
  },
  {
   "cell_type": "code",
   "execution_count": 1,
   "metadata": {
    "tags": [
     "thebelab-init"
    ]
   },
   "outputs": [],
   "source": [
    "import matplotlib.pyplot as plt\n",
    "import numpy as np\n",
    "import math\n",
    "\n",
    "# importing Qiskit\n",
    "import qiskit\n",
    "from qiskit import IBMQ, Aer\n",
    "from qiskit import QuantumCircuit, execute\n",
    "\n",
    "# import basic plot tools\n",
    "from qiskit.visualization import plot_histogram"
   ]
  },
  {
   "cell_type": "markdown",
   "metadata": {},
   "source": [
    "このガイドでは、回路の最初の4量子ビットをカウントし(カウント量子ビットの数を$t$と呼ぶため、$t=4$)、最後の4量子ビットを「探索」します($n=4$)。これを使って、回路の構成ブロックを作ります。"
   ]
  },
  {
   "cell_type": "markdown",
   "metadata": {},
   "source": [
    "### 2.2 制御グローバー探索の反復<a id='cont_grover'></a>"
   ]
  },
  {
   "cell_type": "markdown",
   "metadata": {},
   "source": [
    "グローバーのアルゴリズムの章で、既に「グローバー反復」を扱いました。これは、拡散オペレーターが組み込まれた、16の状態($N = 2^n = 16$)のうち５つの解($M = 5$) をもつオラクルの例です。："
   ]
  },
  {
   "cell_type": "code",
   "execution_count": 2,
   "metadata": {
    "tags": [
     "thebelab-init"
    ]
   },
   "outputs": [],
   "source": [
    "def example_grover_iteration():\n",
    "    \"\"\"Small circuit with 5/16 solutions\"\"\"\n",
    "    # 回路を作る\n",
    "    qc = QuantumCircuit(4)\n",
    "    # オラクル\n",
    "    qc.h([2,3])\n",
    "    qc.ccx(0,1,2)\n",
    "    qc.h(2)\n",
    "    qc.x(2)\n",
    "    qc.ccx(0,2,3)\n",
    "    qc.x(2)\n",
    "    qc.h(3)\n",
    "    qc.x([1,3])\n",
    "    qc.h(2)\n",
    "    qc.mct([0,1,3],2)\n",
    "    qc.x([1,3])\n",
    "    qc.h(2)\n",
    "    # 拡散\n",
    "    qc.h(range(3))\n",
    "    qc.x(range(3))\n",
    "    qc.z(3)\n",
    "    qc.mct([0,1,2],3)\n",
    "    qc.x(range(3))\n",
    "    qc.h(range(3))\n",
    "    qc.z(3)\n",
    "    return qc"
   ]
  },
  {
   "cell_type": "markdown",
   "metadata": {},
   "source": [
    "Python関数は入力を受け取らず、4量子ビットの`QuantumCircuit`オブジェクトを返すことに注意してください。過去にあなたが作った関数は既存の回路を変更するものだったかもしれませんが、この関数は QuantumCircuitオブジェクトを単一制御ゲートに変えることができます。\n",
    "\n",
    "回路から制御ゲートを作り出すために`.to_gate()`と`.control()`を使います。私たちはグローバー反復演算を`grit`と呼び、制御グローバー反復演算を`cgrit`と呼びます。"
   ]
  },
  {
   "cell_type": "code",
   "execution_count": 3,
   "metadata": {
    "tags": [
     "thebelab-init"
    ]
   },
   "outputs": [],
   "source": [
    "# 制御されたグローバーの作成\n",
    "grit = example_grover_iteration().to_gate()\n",
    "cgrit = grit.control()\n",
    "cgrit.label = \"Grover\""
   ]
  },
  {
   "cell_type": "markdown",
   "metadata": {},
   "source": [
    "### 2.3 逆量子フーリエ変換<a id='inv_qft'></a>\n",
    "\n",
    "逆量子フーリエ変換を作成する必要があります。このコードは$n$量子ビットのQFTで実装します。"
   ]
  },
  {
   "cell_type": "code",
   "execution_count": 4,
   "metadata": {
    "tags": [
     "thebelab-init"
    ]
   },
   "outputs": [],
   "source": [
    "def qft(n):\n",
    "    #n量子ビットのQFT回路を作成\n",
    "    \"\"\"Creates an n-qubit QFT circuit\"\"\"\n",
    "    circuit = QuantumCircuit(4)\n",
    "    def swap_registers(circuit, n):\n",
    "        for qubit in range(n//2):\n",
    "            circuit.swap(qubit, n-qubit-1)\n",
    "        return circuit\n",
    "    def qft_rotations(circuit, n):\n",
    "        #swapゲートなしで回路で最初にn量子ビットのQFTを実装する\n",
    "        \"\"\"Performs qft on the first n qubits in circuit (without swaps)\"\"\"\n",
    "        if n == 0:\n",
    "            return circuit\n",
    "        n -= 1\n",
    "        circuit.h(n)\n",
    "        for qubit in range(n):\n",
    "            circuit.cu1(np.pi/2**(n-qubit), qubit, n)\n",
    "        qft_rotations(circuit, n)\n",
    "    \n",
    "    qft_rotations(circuit, n)\n",
    "    swap_registers(circuit, n)\n",
    "    return circuit"
   ]
  },
  {
   "cell_type": "markdown",
   "metadata": {},
   "source": [
    "ここでも、別の`QuantumCircuit`オブジェクトを返すことを選んだことに注意してください。これは、ゲートを簡単に反転できるようにするためです。\n",
    "このガイドで選択したカウント量子ビット数である、$t = 4$量子ビットでゲートを作成します。"
   ]
  },
  {
   "cell_type": "code",
   "execution_count": 5,
   "metadata": {
    "scrolled": true,
    "tags": [
     "thebelab-init"
    ]
   },
   "outputs": [
    {
     "name": "stderr",
     "output_type": "stream",
     "text": [
      "<ipython-input-4-0c52c592a2a2>:17: DeprecationWarning: The QuantumCircuit.cu1 method is deprecated as of 0.16.0. It will be removed no earlier than 3 months after the release date. You should use the QuantumCircuit.cp method instead, which acts identically.\n",
      "  circuit.cu1(np.pi/2**(n-qubit), qubit, n)\n"
     ]
    }
   ],
   "source": [
    "qft_dagger = qft(4).to_gate().inverse()\n",
    "qft_dagger.label = \"QFT†\""
   ]
  },
  {
   "cell_type": "markdown",
   "metadata": {},
   "source": [
    "### 2.4 合わせてみましょう！ <a id='putting_together'></a>\n",
    "回路を完成するために必要な全てのものが揃いました。これを全て合わせてみましょう！\n",
    "\n",
    "最初に、全ての量子ビットを$|+\\rangle$の状態にする必要があります。:"
   ]
  },
  {
   "cell_type": "code",
   "execution_count": 6,
   "metadata": {},
   "outputs": [
    {
     "data": {
      "text/html": [
       "<pre style=\"word-wrap: normal;white-space: pre;background: #fff0;line-height: 1.1;font-family: &quot;Courier New&quot;,Courier,monospace\">     ┌───┐┌─────────┐                                                       »\n",
       "q_0: ┤ H ├┤0        ├───────────────────────────────────────────────────────»\n",
       "     ├───┤│         │┌─────────┐┌─────────┐                                 »\n",
       "q_1: ┤ H ├┤         ├┤0        ├┤0        ├─────────────────────────────────»\n",
       "     ├───┤│         ││         ││         │┌─────────┐┌─────────┐┌─────────┐»\n",
       "q_2: ┤ H ├┤         ├┤         ├┤         ├┤0        ├┤0        ├┤0        ├»\n",
       "     ├───┤│         ││         ││         ││         ││         ││         │»\n",
       "q_3: ┤ H ├┤         ├┤         ├┤         ├┤         ├┤         ├┤         ├»\n",
       "     ├───┤│  Grover ││         ││         ││         ││         ││         │»\n",
       "q_4: ┤ H ├┤1        ├┤1 Grover ├┤1 Grover ├┤1        ├┤1        ├┤1        ├»\n",
       "     ├───┤│         ││         ││         ││  Grover ││  Grover ││  Grover │»\n",
       "q_5: ┤ H ├┤2        ├┤2        ├┤2        ├┤2        ├┤2        ├┤2        ├»\n",
       "     ├───┤│         ││         ││         ││         ││         ││         │»\n",
       "q_6: ┤ H ├┤3        ├┤3        ├┤3        ├┤3        ├┤3        ├┤3        ├»\n",
       "     ├───┤│         ││         ││         ││         ││         ││         │»\n",
       "q_7: ┤ H ├┤4        ├┤4        ├┤4        ├┤4        ├┤4        ├┤4        ├»\n",
       "     └───┘└─────────┘└─────────┘└─────────┘└─────────┘└─────────┘└─────────┘»\n",
       "c: 4/═══════════════════════════════════════════════════════════════════════»\n",
       "                                                                            »\n",
       "«                                                                       »\n",
       "«q_0: ──────────────────────────────────────────────────────────────────»\n",
       "«                                                                       »\n",
       "«q_1: ──────────────────────────────────────────────────────────────────»\n",
       "«     ┌─────────┐                                                       »\n",
       "«q_2: ┤0        ├───────────────────────────────────────────────────────»\n",
       "«     │         │┌─────────┐┌─────────┐┌─────────┐┌─────────┐┌─────────┐»\n",
       "«q_3: ┤         ├┤0        ├┤0        ├┤0        ├┤0        ├┤0        ├»\n",
       "«     │         ││         ││         ││         ││         ││         │»\n",
       "«q_4: ┤1        ├┤1        ├┤1        ├┤1        ├┤1        ├┤1        ├»\n",
       "«     │  Grover ││         ││         ││         ││         ││         │»\n",
       "«q_5: ┤2        ├┤2 Grover ├┤2 Grover ├┤2 Grover ├┤2 Grover ├┤2 Grover ├»\n",
       "«     │         ││         ││         ││         ││         ││         │»\n",
       "«q_6: ┤3        ├┤3        ├┤3        ├┤3        ├┤3        ├┤3        ├»\n",
       "«     │         ││         ││         ││         ││         ││         │»\n",
       "«q_7: ┤4        ├┤4        ├┤4        ├┤4        ├┤4        ├┤4        ├»\n",
       "«     └─────────┘└─────────┘└─────────┘└─────────┘└─────────┘└─────────┘»\n",
       "«c: 4/══════════════════════════════════════════════════════════════════»\n",
       "«                                                                       »\n",
       "«                                      ┌───────┐┌─┐         \n",
       "«q_0: ─────────────────────────────────┤0      ├┤M├─────────\n",
       "«                                      │       │└╥┘┌─┐      \n",
       "«q_1: ─────────────────────────────────┤1      ├─╫─┤M├──────\n",
       "«                                      │  QFT† │ ║ └╥┘┌─┐   \n",
       "«q_2: ─────────────────────────────────┤2      ├─╫──╫─┤M├───\n",
       "«     ┌─────────┐┌─────────┐┌─────────┐│       │ ║  ║ └╥┘┌─┐\n",
       "«q_3: ┤0        ├┤0        ├┤0        ├┤3      ├─╫──╫──╫─┤M├\n",
       "«     │         ││         ││         │└───────┘ ║  ║  ║ └╥┘\n",
       "«q_4: ┤1        ├┤1        ├┤1        ├──────────╫──╫──╫──╫─\n",
       "«     │         ││         ││         │          ║  ║  ║  ║ \n",
       "«q_5: ┤2 Grover ├┤2 Grover ├┤2 Grover ├──────────╫──╫──╫──╫─\n",
       "«     │         ││         ││         │          ║  ║  ║  ║ \n",
       "«q_6: ┤3        ├┤3        ├┤3        ├──────────╫──╫──╫──╫─\n",
       "«     │         ││         ││         │          ║  ║  ║  ║ \n",
       "«q_7: ┤4        ├┤4        ├┤4        ├──────────╫──╫──╫──╫─\n",
       "«     └─────────┘└─────────┘└─────────┘          ║  ║  ║  ║ \n",
       "«c: 4/═══════════════════════════════════════════╩══╩══╩══╩═\n",
       "«                                                0  1  2  3 </pre>"
      ],
      "text/plain": [
       "     ┌───┐┌─────────┐                                                       »\n",
       "q_0: ┤ H ├┤0        ├───────────────────────────────────────────────────────»\n",
       "     ├───┤│         │┌─────────┐┌─────────┐                                 »\n",
       "q_1: ┤ H ├┤         ├┤0        ├┤0        ├─────────────────────────────────»\n",
       "     ├───┤│         ││         ││         │┌─────────┐┌─────────┐┌─────────┐»\n",
       "q_2: ┤ H ├┤         ├┤         ├┤         ├┤0        ├┤0        ├┤0        ├»\n",
       "     ├───┤│         ││         ││         ││         ││         ││         │»\n",
       "q_3: ┤ H ├┤         ├┤         ├┤         ├┤         ├┤         ├┤         ├»\n",
       "     ├───┤│  Grover ││         ││         ││         ││         ││         │»\n",
       "q_4: ┤ H ├┤1        ├┤1 Grover ├┤1 Grover ├┤1        ├┤1        ├┤1        ├»\n",
       "     ├───┤│         ││         ││         ││  Grover ││  Grover ││  Grover │»\n",
       "q_5: ┤ H ├┤2        ├┤2        ├┤2        ├┤2        ├┤2        ├┤2        ├»\n",
       "     ├───┤│         ││         ││         ││         ││         ││         │»\n",
       "q_6: ┤ H ├┤3        ├┤3        ├┤3        ├┤3        ├┤3        ├┤3        ├»\n",
       "     ├───┤│         ││         ││         ││         ││         ││         │»\n",
       "q_7: ┤ H ├┤4        ├┤4        ├┤4        ├┤4        ├┤4        ├┤4        ├»\n",
       "     └───┘└─────────┘└─────────┘└─────────┘└─────────┘└─────────┘└─────────┘»\n",
       "c: 4/═══════════════════════════════════════════════════════════════════════»\n",
       "                                                                            »\n",
       "«                                                                       »\n",
       "«q_0: ──────────────────────────────────────────────────────────────────»\n",
       "«                                                                       »\n",
       "«q_1: ──────────────────────────────────────────────────────────────────»\n",
       "«     ┌─────────┐                                                       »\n",
       "«q_2: ┤0        ├───────────────────────────────────────────────────────»\n",
       "«     │         │┌─────────┐┌─────────┐┌─────────┐┌─────────┐┌─────────┐»\n",
       "«q_3: ┤         ├┤0        ├┤0        ├┤0        ├┤0        ├┤0        ├»\n",
       "«     │         ││         ││         ││         ││         ││         │»\n",
       "«q_4: ┤1        ├┤1        ├┤1        ├┤1        ├┤1        ├┤1        ├»\n",
       "«     │  Grover ││         ││         ││         ││         ││         │»\n",
       "«q_5: ┤2        ├┤2 Grover ├┤2 Grover ├┤2 Grover ├┤2 Grover ├┤2 Grover ├»\n",
       "«     │         ││         ││         ││         ││         ││         │»\n",
       "«q_6: ┤3        ├┤3        ├┤3        ├┤3        ├┤3        ├┤3        ├»\n",
       "«     │         ││         ││         ││         ││         ││         │»\n",
       "«q_7: ┤4        ├┤4        ├┤4        ├┤4        ├┤4        ├┤4        ├»\n",
       "«     └─────────┘└─────────┘└─────────┘└─────────┘└─────────┘└─────────┘»\n",
       "«c: 4/══════════════════════════════════════════════════════════════════»\n",
       "«                                                                       »\n",
       "«                                      ┌───────┐┌─┐         \n",
       "«q_0: ─────────────────────────────────┤0      ├┤M├─────────\n",
       "«                                      │       │└╥┘┌─┐      \n",
       "«q_1: ─────────────────────────────────┤1      ├─╫─┤M├──────\n",
       "«                                      │  QFT† │ ║ └╥┘┌─┐   \n",
       "«q_2: ─────────────────────────────────┤2      ├─╫──╫─┤M├───\n",
       "«     ┌─────────┐┌─────────┐┌─────────┐│       │ ║  ║ └╥┘┌─┐\n",
       "«q_3: ┤0        ├┤0        ├┤0        ├┤3      ├─╫──╫──╫─┤M├\n",
       "«     │         ││         ││         │└───────┘ ║  ║  ║ └╥┘\n",
       "«q_4: ┤1        ├┤1        ├┤1        ├──────────╫──╫──╫──╫─\n",
       "«     │         ││         ││         │          ║  ║  ║  ║ \n",
       "«q_5: ┤2 Grover ├┤2 Grover ├┤2 Grover ├──────────╫──╫──╫──╫─\n",
       "«     │         ││         ││         │          ║  ║  ║  ║ \n",
       "«q_6: ┤3        ├┤3        ├┤3        ├──────────╫──╫──╫──╫─\n",
       "«     │         ││         ││         │          ║  ║  ║  ║ \n",
       "«q_7: ┤4        ├┤4        ├┤4        ├──────────╫──╫──╫──╫─\n",
       "«     └─────────┘└─────────┘└─────────┘          ║  ║  ║  ║ \n",
       "«c: 4/═══════════════════════════════════════════╩══╩══╩══╩═\n",
       "«                                                0  1  2  3 "
      ]
     },
     "execution_count": 6,
     "metadata": {},
     "output_type": "execute_result"
    }
   ],
   "source": [
    "# 量子回路の作成\n",
    "t = 4   # カウントする量子ビットの数\n",
    "n = 4   # 探索する量子ビットの数\n",
    "qc = QuantumCircuit(n+t, t) # 古典ビットとn+t量子ビットの回路\n",
    "# 全ての量子ビットを |+>に初期化する\n",
    "for qubit in range(t+n):\n",
    "    qc.h(qubit)\n",
    "\n",
    "# Begin controlled Grover iterations\n",
    "iterations = 1\n",
    "for qubit in range(t):\n",
    "    for i in range(iterations):\n",
    "        qc.append(cgrit, [qubit] + [*range(t, n+t)])\n",
    "    iterations *= 2\n",
    "    \n",
    "# Do inverse QFT on counting qubits\n",
    "qc.append(qft_dagger, range(t))\n",
    "\n",
    "# Measure counting qubits\n",
    "qc.measure(range(t), range(t))\n",
    "\n",
    "# Display the circuit\n",
    "qc.draw()"
   ]
  },
  {
   "cell_type": "markdown",
   "metadata": {},
   "source": [
    "素晴らしい！結果をいくつか確かめましょう。"
   ]
  },
  {
   "cell_type": "markdown",
   "metadata": {
    "scrolled": true
   },
   "source": [
    "## 3. シミュレーション<a id='simulating'></a>"
   ]
  },
  {
   "cell_type": "code",
   "execution_count": 7,
   "metadata": {},
   "outputs": [
    {
     "data": {
      "image/png": "[encoded data removed]",
      "text/plain": [
       "<Figure size 504x360 with 1 Axes>"
      ]
     },
     "execution_count": 7,
     "metadata": {},
     "output_type": "execute_result"
    }
   ],
   "source": [
    "# 実行してみましょう。そして結果を確かめてみましょう。\n",
    "emulator = Aer.get_backend('qasm_simulator')\n",
    "job = execute(qc, emulator, shots=2048 )\n",
    "hist = job.result().get_counts()\n",
    "plot_histogram(hist)"
   ]
  },
  {
   "cell_type": "markdown",
   "metadata": {},
   "source": [
    "他の測定値より測定確率が高い2つの値(0101と1011)をシミュレーションから確認することができます。これら２つの値は$e^{i\\theta}$と$e^{-i\\theta}$に対応します。しかし、まだ解の数を確かめることはできません。この情報を取得するためにもう少し処理する必要があるため、最初に出力を処理できるもの（`int`）に入れましょう。\n",
    "\n",
    "出力データから最も可能性の高い結果の文字列を取得します。"
   ]
  },
  {
   "cell_type": "code",
   "execution_count": 8,
   "metadata": {},
   "outputs": [],
   "source": [
    "measured_str = max(hist, key=hist.get)"
   ]
  },
  {
   "cell_type": "markdown",
   "metadata": {},
   "source": [
    "これを整数として保存しましょう:"
   ]
  },
  {
   "cell_type": "code",
   "execution_count": 9,
   "metadata": {},
   "outputs": [
    {
     "name": "stdout",
     "output_type": "stream",
     "text": [
      "Register Output = 5\n"
     ]
    }
   ],
   "source": [
    "measured_int = int(measured_str,2)\n",
    "print(\"Register Output = %i\" % measured_int)"
   ]
  },
  {
   "cell_type": "markdown",
   "metadata": {},
   "source": [
    "## 4. 解の数(M)を見つける <a id='finding_m'></a>\n",
    "\n",
    "レジスターの10進の整数出力、カウント量子ビット($t$)の数、および探索量子ビット($n$)の数を入力とする関数`calculate_M()`を作成します。\n",
    "\n",
    "最初に、`measured_int`から$\\theta$を得ましょう。QPEは固有値$e^{2\\pi i\\phi}$から$\\text{測定値} = 2^n \\phi$として得るため、$\\theta$を得るために以下をする必要があります。：\n",
    "\n",
    "$$\n",
    "\\theta = \\text{測定値}\\times\\frac{2\\pi}{2^t}\n",
    "$$\n",
    "\n",
    "または、以下のコード："
   ]
  },
  {
   "cell_type": "code",
   "execution_count": 10,
   "metadata": {},
   "outputs": [
    {
     "name": "stdout",
     "output_type": "stream",
     "text": [
      "Theta = 1.96350\n"
     ]
    }
   ],
   "source": [
    "theta = (measured_int/(2**t))*math.pi*2\n",
    "print(\"Theta = %.5f\" % theta)"
   ]
  },
  {
   "cell_type": "markdown",
   "metadata": {},
   "source": [
    " $|s\\rangle$と$|s’\\rangle$の内積から角度$\\theta/2$を得ることができることを覚えているかもしれません。：\n",
    "\n",
    "\n",
    "![image3](images/quantum_counting3.svg)\n",
    "\n",
    "$$\n",
    "\\langle s'|s\\rangle = \\cos{\\tfrac{\\theta}{2}}\n",
    "$$\n",
    "\n",
    "このベクトルの内積は：\n",
    "\n",
    "$$\n",
    "\\langle s'|s\\rangle = \\sqrt{\\frac{N-M}{N}}\n",
    "$$\n",
    "\n",
    "\n",
    "これらの方程式を組み合わせて、三角法と代数を使用して次のことを示すことができます。\n",
    "\n",
    "$$\n",
    "N\\sin^2{\\frac{\\theta}{2}} = M\n",
    "$$\n",
    "\n",
    "[グローバーのアルゴリズム](../ch-algorithms/grover.html)の章から、拡散演算子 $U_s$を作成する一般的な方法は、実際は$-U_s$を実装することを覚えているでしょう。 この実装は、この章で提供されるグローバー反復で使用されます。通常のグローバー探索では、この位相はグローバルであり、無視できますが、グローバー反復を制御ゲートとして使っているため、この位相には意味があり、そのため、解ではない状態が探索されます。量子数え上げアルゴリズムにより、解ではない状態の数がわかります。 これを修正するには、$N-M$を計算するだけです。\n",
    "\n",
    "以下、コード："
   ]
  },
  {
   "cell_type": "code",
   "execution_count": 11,
   "metadata": {},
   "outputs": [
    {
     "name": "stdout",
     "output_type": "stream",
     "text": [
      "No. of Solutions = 4.9\n"
     ]
    }
   ],
   "source": [
    "N = 2**n\n",
    "M = N * (math.sin(theta/2)**2)\n",
    "print(\"No. of Solutions = %.1f\" % (N-M))"
   ]
  },
  {
   "cell_type": "markdown",
   "metadata": {},
   "source": [
    "おおよそ、正しい解を得ることができました!この解のエラーは以下で概算できます。"
   ]
  },
  {
   "cell_type": "code",
   "execution_count": 12,
   "metadata": {},
   "outputs": [
    {
     "name": "stdout",
     "output_type": "stream",
     "text": [
      "Error < 2.85\n"
     ]
    }
   ],
   "source": [
    "m = t - 1 # Upper bound: Will be less than this \n",
    "err = (math.sqrt(2*M*N) + N/(2**(m-1)))*(2**(-m))\n",
    "print(\"Error < %.2f\" % err)"
   ]
  },
  {
   "cell_type": "markdown",
   "metadata": {},
   "source": [
    "誤差の計算の説明はこの節の範囲外です。\n",
    "しかし、説明は[1]で確かめることができます。\n",
    "\n",
    "とうとう、最終的な関数`calculate_M()`を得ることができます。:"
   ]
  },
  {
   "cell_type": "code",
   "execution_count": 13,
   "metadata": {},
   "outputs": [],
   "source": [
    "def calculate_M(measured_int, t, n):\n",
    "    \"\"\"For Processing Output of Quantum Counting\"\"\"\n",
    "    # Calculate Theta\n",
    "    theta = (measured_int/(2**t))*math.pi*2\n",
    "    print(\"Theta = %.5f\" % theta)\n",
    "    # Calculate No. of Solutions\n",
    "    N = 2**n\n",
    "    M = N * (math.sin(theta/2)**2)\n",
    "    print(\"No. of Solutions = %.1f\" % (N-M))\n",
    "    # Calculate Upper Error Bound\n",
    "    m = t - 1 #Will be less than this (out of scope) \n",
    "    err = (math.sqrt(2*M*N) + N/(2**(m-1)))*(2**(-m))\n",
    "    print(\"Error < %.2f\" % err)"
   ]
  },
  {
   "cell_type": "markdown",
   "metadata": {},
   "source": [
    "## 5. 練習問題 <a id='exercises'></a>\n",
    "\n",
    "1.\t異なった解の数でオラクルを作成することができますか？量子数え上げアルゴリズムの精度はどのように変化しますか?\n",
    "2.\t回路を調整して、カウント量子ビットを増減して、結果の精度を変えることはできますか？"
   ]
  },
  {
   "cell_type": "markdown",
   "metadata": {},
   "source": [
    "## 6. 参考文献 <a id='references'></a>\n",
    "\n",
    "[1] Michael A. Nielsen and Isaac L. Chuang. 2011. Quantum Computation and Quantum Information: 10th Anniversary Edition (10th ed.). Cambridge University Press, New York, NY, USA. "
   ]
  },
  {
   "cell_type": "code",
   "execution_count": 14,
   "metadata": {},
   "outputs": [
    {
     "data": {
      "text/plain": [
       "{'qiskit-terra': '0.16.1',\n",
       " 'qiskit-aer': '0.7.2',\n",
       " 'qiskit-ignis': '0.5.1',\n",
       " 'qiskit-ibmq-provider': '0.11.1',\n",
       " 'qiskit-aqua': '0.8.1',\n",
       " 'qiskit': '0.23.2'}"
      ]
     },
     "execution_count": 14,
     "metadata": {},
     "output_type": "execute_result"
    }
   ],
   "source": [
    "import qiskit\n",
    "qiskit.__qiskit_version__"
   ]
  }
 ],
 "metadata": {
  "kernelspec": {
   "display_name": "Python 3",
   "language": "python",
   "name": "python3"
  },
  "language_info": {
   "codemirror_mode": {
    "name": "ipython",
    "version": 3
   },
   "file_extension": ".py",
   "mimetype": "text/x-python",
   "name": "python",
   "nbconvert_exporter": "python",
   "pygments_lexer": "ipython3",
   "version": "3.8.5"
  }
 },
 "nbformat": 4,
 "nbformat_minor": 4
}
