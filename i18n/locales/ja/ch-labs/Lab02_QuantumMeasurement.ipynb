{
 "cells": [
  {
   "cell_type": "markdown",
   "metadata": {
    "tags": [
     "remove_cell"
    ]
   },
   "source": [
    "<h1 style=\"font-size:35px;\n",
    "        color:black;\n",
    "        \">実験 2 量子測定</h1>"
   ]
  },
  {
   "cell_type": "markdown",
   "metadata": {},
   "source": [
    "前提知識\n",
    "- [Ch.1.4 単一量子ビットゲート](https://qiskit.org/textbook/ch-states/single-qubit-gates.html)\n",
    "- [Ch.2.2 複数量子ビットともつれ状態](https://qiskit.org/textbook/ch-gates/multiple-qubits-entangled-states.html)\n",
    "- [実際の量子コンピューターでのノイズの軽減](https://www.youtube.com/watch?v=yuDxHJOKsVA&list=PLOFEBzvs-Vvp2xg9-POLJhQwtVktlYGbY&index=8)\n",
    "\n",
    "そのほかの関連教材\n",
    "- [ファインマン・レクチャー Ch. III - 12](https://www.feynmanlectures.caltech.edu/III_12.html)\n",
    "- [量子操作の概要](https://qiskit.org/documentation/tutorials/circuits/3_summary_of_quantum_operations.html)\n",
    "- [インタラクティブ・ブロッホ球](https://nonhermitian.org/kaleido/stubs/kaleidoscope.interactive.bloch_sphere.html#kaleidoscope.interactive.bloch_sphere)\n",
    "- [Ch.5.2 測定エラーの軽減](https://qiskit.org/textbook/ch-quantum-hardware/measurement-error-mitigation.html)"
   ]
  },
  {
   "cell_type": "code",
   "execution_count": 1,
   "metadata": {},
   "outputs": [],
   "source": [
    "from qiskit import *\n",
    "import numpy as np\n",
    "from numpy import linalg as la\n",
    "from qiskit.tools.monitor import job_monitor\n",
    "import qiskit.tools.jupyter"
   ]
  },
  {
   "cell_type": "markdown",
   "metadata": {},
   "source": [
    "<h2 style=\"font-size:24px;\">パート 1: 量子ビットの状態を測定する</h2>\n",
    "\n",
    "<br>\n",
    "<div style=\"background: #E8E7EB; border-radius: 5px;\n",
    "-moz-border-radius: 5px;\">\n",
    "  <p style=\"background: #800080;\n",
    "            border-radius: 5px 5px 0px 0px;\n",
    "            padding: 10px 0px 10px 10px;\n",
    "            font-size:18px;\n",
    "            color:white;\n",
    "            \"><b>Goal</b></p>\n",
    "    <p style=\" padding: 0px 0px 10px 10px;\n",
    "              font-size:16px;\">量子ビットのブロッホ成分を決定する</p>\n",
    "</div>\n",
    "\n",
    "量子コンピューターの操作の基本は、1つまたは複数の量子ビットのブロッホ成分を計算する機能です。これらの成分は、パウリ演算子$X, Y, Z$の期待値に対応し、量子化学や最適化などのアプリケーションにとって重要な量です。 残念ながら、これらの値を同時に計算することは不可能であるため、同じ回路を何度も実行する必要があります。さらに、測定は計算基底（Z基底）に制限されているため、xおよびy成分にアクセスするには、各パウリ演算子を標準基底に回転させる必要があります。 ここでは、ブロッホ球上のランダムベクトルの場合を考慮してメソッドを検証します。"
   ]
  },
  {
   "cell_type": "markdown",
   "metadata": {},
   "source": [
    "<h3 style=\"font-size: 20px\">&#128211; 1. 計算基底で任意の量子状態$|q\\rangle$に対するパウリ演算子の期待値を計算する。 </h3>\n",
    "\n",
    "\n",
    "例として、パウリ$Z$ゲートの期待値の場合を示します。\n"
   ]
  },
  {
   "cell_type": "markdown",
   "metadata": {},
   "source": [
    "パウリ$Z$ゲートの対角表現（スペクトル形式または正規直交分解とも呼ばれます）とパウリゲート間の関係（[ここ](https://qiskit.org/textbook/ch-states/single-qubit-gates.html)を参照）を使用すると、$ X, Y, Z $ ゲートの期待値は次のように記述できます。\n",
    "\n",
    "$$\n",
    "\\begin{align}\n",
    "\\langle Z \\rangle &=\\langle q | Z | q\\rangle =\\langle q|0\\rangle\\langle 0|q\\rangle - \\langle q|1\\rangle\\langle 1|q\\rangle\n",
    "=|\\langle 0 |q\\rangle|^2 - |\\langle 1 | q\\rangle|^2\\\\\\\\\n",
    "\\langle X \\rangle &= \\\\\\\\\n",
    "\\langle Y \\rangle &=\n",
    "\\end{align}\n",
    "\\\\\n",
    "$$\n",
    "\n",
    "\n",
    "したがって、量子ビット状態のパウリ演算子の期待値$|q\\rangle$は、対応する軸の基底を回転させて、標準基底で測定を行うことによって取得できます。上記の式が示すように、2つの可能な結果0と1を取得する確率を使用して、目的の期待値を評価します。"
   ]
  },
  {
   "cell_type": "markdown",
   "metadata": {},
   "source": [
    "<h3 style=\"font-size: 20px\">2. qasmシミュレーターを使用して、量子ビットのブロッホ座標を測定し、ベクトルをブロッホ球にプロットします</h3>\n"
   ]
  },
  {
   "cell_type": "markdown",
   "metadata": {},
   "source": [
    "<h4 style=\"font-size: 17px\">&#128211;ステップA. 回路メソッドを使用して量子ビット状態を作成し、パラメーターとして2つのランダムな複素数で<code>initialize</code>します。</h4>\n",
    "\n",
    "\n",
    "関数`initialize`の使用方法については、[こちら](https://qiskit.org/documentation/tutorials/circuits/3_summary_of_quantum_operations.html)を確認してください。 （`arbitrary initialization`に移動します。）"
   ]
  },
  {
   "cell_type": "code",
   "execution_count": 2,
   "metadata": {},
   "outputs": [],
   "source": [
    "qc = QuantumCircuit(1)\n",
    "\n",
    "#### ここにコードを記入します\n",
    "\n",
    "\n"
   ]
  },
  {
   "cell_type": "markdown",
   "metadata": {},
   "source": [
    "<h4 style=\"font-size: 17px\">&#128211; ステップB. 質問1の回答に基づいて、$X, Y, Z$ ゲートの期待値を測定する回路を構築します。以下のセルを実行して、qasmシミュレーターを使用してstep Aの量子ビットのブロッホ座標を推定します。</h4>\n",
    "\n",
    "例として$Z$ ゲート測定の回路を示します。\n"
   ]
  },
  {
   "cell_type": "code",
   "execution_count": 3,
   "metadata": {},
   "outputs": [],
   "source": [
    "# 量子ビット0のz測定\n",
    "measure_z = QuantumCircuit(1,1)\n",
    "measure_z.measure(0,0)\n",
    "\n",
    "# 量子ビット0のx測定\n",
    "measure_x = QuantumCircuit(1,1)\n",
    "# ここにコードを記入します\n",
    "\n",
    "\n",
    "\n",
    "\n",
    "\n",
    "\n",
    "\n",
    "# 量子ビット0のy測定\n",
    "measure_y = QuantumCircuit(1,1)\n",
    "# ここにコードを記入します\n",
    "\n",
    "\n",
    "\n",
    "\n",
    "\n",
    "\n",
    "\n",
    "shots = 2**14 # 統計に使うサンプル数\n",
    "sim = Aer.get_backend('qasm_simulator')\n",
    "bloch_vector_measure = []\n",
    "for measure_circuit in [measure_x, measure_y, measure_z]:\n",
    "    \n",
    "    # 選択した測定で回路を実行し、各ビット値を出力するサンプル数を求めます\n",
    "    counts = execute(qc+measure_circuit, sim, shots=shots).result().get_counts()\n",
    "\n",
    "    # 各ビット値に対して確率を計算します\n",
    "    probs = {}\n",
    "    for output in ['0','1']:\n",
    "        if output in counts:\n",
    "            probs[output] = counts[output]/shots\n",
    "        else:\n",
    "            probs[output] = 0\n",
    "            \n",
    "    bloch_vector_measure.append( probs['0'] -  probs['1'] )\n",
    "\n",
    "# ブロッホ球ベクトルの正規化\n",
    "bloch_vector = bloch_vector_measure/la.norm(bloch_vector_measure)\n",
    "\n",
    "print('The bloch sphere coordinates are [{0:4.3f}, {1:4.3f}, {2:4.3f}]'\n",
    "      .format(*bloch_vector))    "
   ]
  },
  {
   "cell_type": "markdown",
   "metadata": {},
   "source": [
    "<h4 style=\"font-size: 17px\">ステップ C. ブロッホ球にベクトルをプロットします。</h4>\n",
    " \n",
    "\n",
    " [IQX](https://quantum-computing.ibm.com/login)で作業しない限り、interactive bloch_sphereの次のセルは正しく実行されないことに注意してください。interactiveでない場合には`plot_bloch_vector`を使用するか、以下をターミナルで実行して `kaleidoscope`をインストールできます。\n",
    "\n",
    "```\n",
    "pip install kaleidoscope\n",
    "\n",
    "```\n",
    "また、インストール後にカーネルを再起動する必要があります。 interactive bloch_sphereの使用方法の詳細については、[こちら](https://nonhermitian.org/kaleido/stubs/kaleidoscope.interactive.bloch_sphere.html#kaleidoscope.interactive.bloch_sphere)をご覧ください。"
   ]
  },
  {
   "cell_type": "code",
   "execution_count": 4,
   "metadata": {},
   "outputs": [],
   "source": [
    "from kaleidoscope.interactive import bloch_sphere\n",
    "\n",
    "bloch_sphere(bloch_vector, vectors_annotation=True)"
   ]
  },
  {
   "cell_type": "code",
   "execution_count": 5,
   "metadata": {},
   "outputs": [],
   "source": [
    "from qiskit.visualization import plot_bloch_vector\n",
    "\n",
    "plot_bloch_vector( bloch_vector )"
   ]
  },
  {
   "cell_type": "markdown",
   "metadata": {},
   "source": [
    "<h2 style=\"font-size:24px;\">パート 2: エネルギーの測定</h2>\n",
    "\n",
    "<br>\n",
    "<div style=\"background: #E8E7EB; border-radius: 5px;\n",
    "-moz-border-radius: 5px;\">\n",
    "  <p style=\"background: #800080;\n",
    "            border-radius: 5px 5px 0px 0px;\n",
    "            padding: 10px 0px 10px 10px;\n",
    "            font-size:18px;\n",
    "            color:white;\n",
    "            \"><b>Goal</b></p>\n",
    "    <p style=\" padding: 0px 0px 10px 10px;\n",
    "              font-size:16px;\">qasmシミュレータを使用して、水素の基底状態のエネルギーレベルを求めます。</p>\n",
    "</div>\n",
    "\n",
    "\n",
    "\n",
    "量子系のエネルギーは、パート1で習得した手順を通じて、エルミート演算子であるハミルトニアンの期待値を測定することで推定できます。\n",
    "\n",
    "\n",
    "\n",
    "水素の基底状態は、単一の固有の状態として定義されていませんが、実際には、電子と陽子のスピンのために4つの異なる状態が含まれています。この実験ラボのパート2では、パウリ演算子で表されたハミルトニアンで2つのスピンのシステムのエネルギー期待値を計算することにより、`hyperfine splitting`（超微細分割）によるこれら4つの状態間のエネルギー差を求めます。 `hyperfine structure`（超微細構造）の詳細については、[こちら](https://www.feynmanlectures.caltech.edu/III_12.html)をご覧ください"
   ]
  },
  {
   "cell_type": "markdown",
   "metadata": {},
   "source": [
    "\n",
    "\n",
    "2つの量子ビット相互作用ハミルトニアン$H = A(XX+YY+ZZ)$のシステムを考えてみましょう。ここで、$A = 1.47e^{-6} eV$で、$X, Y, Z$はパウリゲートです。次に、システムのエネルギー期待値は、ハミルトニアンの各項の期待値を組み合わせることによって評価できます。 この場合、$E = \\langle H\\rangle = A( \\langle XX\\rangle + \\langle YY\\rangle + \\langle ZZ\\rangle )$です。"
   ]
  },
  {
   "cell_type": "markdown",
   "metadata": {},
   "source": [
    "<h3 style=\"font-size: 20px\">&#128211; 1. 計算基底で、任意の2量子ビット状態 $|\\psi \\rangle$ に対するハミルトニアンの各項の期待値を表します。</h3>\n",
    "\n",
    "\n",
    "例として、$\\langle ZZ\\rangle$ の場合を示します。\n",
    "\n",
    "$$\n",
    "\\begin{align}\n",
    "\\langle ZZ\\rangle &=\\langle \\psi | ZZ | \\psi\\rangle =\\langle \\psi|(|0\\rangle\\langle 0| - |1\\rangle\\langle 1|)\\otimes(|0\\rangle\\langle 0| - |1\\rangle\\langle 1|) |\\psi\\rangle\n",
    "=|\\langle 00|\\psi\\rangle|^2 - |\\langle 01 | \\psi\\rangle|^2 - |\\langle 10 | \\psi\\rangle|^2 + |\\langle 11|\\psi\\rangle|^2\\\\\\\\\n",
    "\\langle XX\\rangle &= \\\\\\\\\n",
    "\\langle YY\\rangle &=\n",
    "\\end{align}\n",
    "$$"
   ]
  },
  {
   "cell_type": "markdown",
   "metadata": {},
   "source": [
    "<h3 style=\"font-size: 20px\">2. 2つの量子ビットがエンタングル状態のときに、qasmシミュレーターを使用してシステムのエネルギー期待値を測定します。ベル基底に関しては、4つの異なるエンタングル状態があります。</h3>"
   ]
  },
  {
   "cell_type": "markdown",
   "metadata": {},
   "source": [
    "<h4 style=\"font-size: 17px\">&#128211;ステップA. 4つの異なるベル状態を準備するための回路を構築します。</h4>\n",
    "\n",
    "各ベル状態に次のラベルを付けます。\n",
    "$$\n",
    "\\begin{align}\n",
    "Tri1 &= \\frac{1}{\\sqrt2} (|00\\rangle + |11\\rangle)\\\\\n",
    "Tri2 &= \\frac{1}{\\sqrt2} (|00\\rangle - |11\\rangle)\\\\\n",
    "Tri3 &= \\frac{1}{\\sqrt2} (|01\\rangle + |10\\rangle)\\\\\n",
    "Sing &= \\frac{1}{\\sqrt2} (|10\\rangle - |01\\rangle)\n",
    "\\end{align}\n",
    "$$"
   ]
  },
  {
   "cell_type": "code",
   "execution_count": 6,
   "metadata": {},
   "outputs": [],
   "source": [
    "# 状態Tri1の回路\n",
    "Tri1 = QuantumCircuit(2)\n",
    "# ここにコードを記入します\n",
    "\n",
    "\n",
    "\n",
    "\n",
    "\n",
    "\n",
    "# 状態Tri2の回路\n",
    "Tri2 = QuantumCircuit(2)\n",
    "# ここにコードを記入します\n",
    "\n",
    "\n",
    "\n",
    "\n",
    "\n",
    "# 状態Tri3の回路\n",
    "Tri3 = QuantumCircuit(2)\n",
    "# ここにコードを記入します\n",
    "\n",
    "\n",
    "\n",
    "\n",
    "\n",
    "\n",
    "# 状態Singの回路\n",
    "Sing = QuantumCircuit(2)\n",
    "# ここにコードを記入します\n",
    "\n",
    "\n",
    "\n",
    "\n",
    "\n"
   ]
  },
  {
   "cell_type": "markdown",
   "metadata": {},
   "source": [
    "<h4 style=\"font-size: 17px\">&#128211;ステップB. 質問1への回答に基づいて、ハミルトニアンの各項の期待値を測定する回路を作成します。</h4>"
   ]
  },
  {
   "cell_type": "code",
   "execution_count": 135,
   "metadata": {},
   "outputs": [],
   "source": [
    "# <ZZ> \n",
    "measure_ZZ = QuantumCircuit(2)\n",
    "measure_ZZ.measure_all()\n",
    "\n",
    "# <XX>\n",
    "measure_XX = QuantumCircuit(2)\n",
    "# ここにコードを記入します\n",
    "\n",
    "\n",
    "\n",
    "\n",
    "\n",
    "# <YY>\n",
    "measure_YY = QuantumCircuit(2)\n",
    "# ここにコードを記入します\n",
    "\n",
    "\n",
    "\n",
    "\n"
   ]
  },
  {
   "cell_type": "markdown",
   "metadata": {},
   "source": [
    " <h4 style=\"font-size: 17px\">ステップC. 以下のセルを実行して、qasmシミュレーターで回路を実行し、各状態のエネルギー期待値を求めます。</h4>\n",
    " "
   ]
  },
  {
   "cell_type": "code",
   "execution_count": 136,
   "metadata": {},
   "outputs": [],
   "source": [
    "shots = 2**14 # 統計に使うサンプル数\n",
    "\n",
    "A = 1.47e-6 #Aの単位はeV\n",
    "E_sim = []\n",
    "for state_init in [Tri1,Tri2,Tri3,Sing]:\n",
    "    Energy_meas = []\n",
    "    for measure_circuit in [measure_XX, measure_YY, measure_ZZ]:\n",
    "    \n",
    "        # 選択した測定値で回路を動作させ、各ビット値を出力するサンプル数を求めます\n",
    "        qc = state_init+measure_circuit\n",
    "        counts = execute(qc, sim, shots=shots).result().get_counts()\n",
    "\n",
    "        # それぞれの計算基底での確率を計算\n",
    "        probs = {}\n",
    "        for output in ['00','01', '10', '11']:\n",
    "            if output in counts:\n",
    "                probs[output] = counts[output]/shots\n",
    "            else:\n",
    "                probs[output] = 0\n",
    "            \n",
    "        Energy_meas.append( probs['00'] - probs['01'] - probs['10'] + probs['11'] )\n",
    " \n",
    "    E_sim.append(A * np.sum(np.array(Energy_meas)))"
   ]
  },
  {
   "cell_type": "code",
   "execution_count": 7,
   "metadata": {},
   "outputs": [],
   "source": [
    "# このセルを実行して結果を表示します\n",
    "\n",
    "print('状態Tri1のエネルギー期待値 : {:.3e} eV'.format(E_sim[0]))\n",
    "print('状態Tri2のエネルギー期待値 : {:.3e} eV'.format(E_sim[1]))\n",
    "print('状態Tri3のエネルギー期待値 : {:.3e} eV'.format(E_sim[2]))\n",
    "print('状態Singのエネルギー期待値 : {:.3e} eV'.format(E_sim[3]))"
   ]
  },
  {
   "cell_type": "markdown",
   "metadata": {},
   "source": [
    " <h4 style=\"font-size: 17px\">ステップD. 結果を理解する。</h4>\n",
    "\n",
    "\n",
    "エネルギーの期待値が正常に見つかった場合、三重項状態($|Tri1\\rangle, |Tri2\\rangle, |Tri3\\rangle$)に対してまったく同じ値$A (= 1.47e^{-6} eV)$ が得られます。一重項状態$|Sing\\rangle$は$-3A (= -4.41e^{-6} eV)$ です。\n",
    "\n",
    "ここで行ったことは、水素の基底状態に対応する4つの異なるスピン状態のエネルギーを測定し、スピン-スピン結合によって引き起こされるエネルギーレベルで `hyperfine structure`（超微細構造）を観測したことです。 一重項状態と三重項状態の間のこの小さなエネルギーの違いが、銀河の構造をマッピングするために使用される有名な21cmの波長の放射の理由です。"
   ]
  },
  {
   "cell_type": "markdown",
   "metadata": {},
   "source": [
    " 下のセルでは、三重項状態と一重項状態の間の遷移からの発光の波長を確認します。"
   ]
  },
  {
   "cell_type": "code",
   "execution_count": 8,
   "metadata": {},
   "outputs": [],
   "source": [
    "# 換算プランク定数（eV）と光の速度（cgs単位）\n",
    "hbar, c = 4.1357e-15, 3e10\n",
    "\n",
    "# 三重項状態と一重項状態の間のエネルギー差\n",
    "E_del = abs(E_sim[0] - E_sim[3])\n",
    "\n",
    "# エネルギー差に伴う周波数\n",
    "f = E_del/hbar\n",
    "\n",
    "# 周波数を波長（cm）に変換\n",
    "wavelength = c/f\n",
    "\n",
    "print('超微細構造の遷移による放射の波長は : {:.1f} cm'.format(wavelength))"
   ]
  },
  {
   "cell_type": "markdown",
   "metadata": {},
   "source": [
    "<h2 style=\"font-size:24px;\">パート3：量子コンピューターで回路を実行する</h2>\n",
    "\n",
    "<br>\n",
    "<div style=\"background: #E8E7EB; border-radius: 5px;\n",
    "-moz-border-radius: 5px;\">\n",
    "  <p style=\"background: #800080;\n",
    "            border-radius: 5px 5px 0px 0px;\n",
    "            padding: 10px 0px 10px 10px;\n",
    "            font-size:18px;\n",
    "            color:white;\n",
    "            \"><b>Goal</b></p>\n",
    "    <p style=\" padding: 0px 0px 10px 10px;\n",
    "              font-size:16px;\"> IBM量子システムで回路を再実行します。結果に対して測定誤差の軽減を実行して、エネルギー推定の精度を向上させます。</p>\n",
    "</div>\n"
   ]
  },
  {
   "cell_type": "markdown",
   "metadata": {},
   "source": [
    "<h4 style=\"font-size: 17px\">ステップA. 次のセルを実行してアカウントを読み込み、バックエンドを選択します </h4>"
   ]
  },
  {
   "cell_type": "code",
   "execution_count": 139,
   "metadata": {},
   "outputs": [],
   "source": [
    "provider = IBMQ.load_account()"
   ]
  },
  {
   "cell_type": "code",
   "execution_count": 178,
   "metadata": {},
   "outputs": [],
   "source": [
    "backend = provider.get_backend('ibmq_athens')"
   ]
  },
  {
   "cell_type": "markdown",
   "metadata": {},
   "source": [
    "<h4 style=\"font-size: 17px\">ステップB. 量子システム上で回路を実行する </h4>\n",
    "\n",
    "\n",
    "実験1では、実際の量子システム上で複数の回路を実行する際に、各回路を別々のジョブとして投入し、複数のジョブIDを生成していました。今回は、すべての回路をリスト化し、そのリストを1つのジョブとして実行します。こうすることで、すべての回路を一度に実行することができ、キューでの待ち時間を短縮できる可能性があります。\n",
    "\n",
    "また、実行する回路はすべて1つまたは2つの量子ビットゲートで構成されているため、ここでは `transpile` は使用しません。 `execute` 関数を使って、initial_layoutとoptimization_levelを指定することは可能です。 `transpile` を使用しない場合、トランスパイルされた回路にはアクセスできませんが、今回の場合は問題ではありません。\n"
   ]
  },
  {
   "cell_type": "markdown",
   "metadata": {},
   "source": [
    "<p>&#128211;  バックエンドの設定情報を確認し、ウィジェットを通してエラーマップを確認し、<code>initial_layout</code>を決定します。.\n",
    "    "
   ]
  },
  {
   "cell_type": "code",
   "execution_count": null,
   "metadata": {},
   "outputs": [],
   "source": [
    "# このセルを実行すると、ウィジェットを通じてバックエンドの情報が得られます\n",
    "backend"
   ]
  },
  {
   "cell_type": "code",
   "execution_count": null,
   "metadata": {},
   "outputs": [],
   "source": [
    "# 初期レイアウトの選択をリスト変数 `initial_layout` に代入\n",
    "initial_layout = "
   ]
  },
  {
   "cell_type": "markdown",
   "metadata": {},
   "source": [
    "以下のセルを実行して、バックエンドのinitial_layoutを使った回路を実行します。"
   ]
  },
  {
   "cell_type": "code",
   "execution_count": 9,
   "metadata": {},
   "outputs": [],
   "source": [
    "qc_all = [state_init+measure_circuit for state_init in [Tri1,Tri2,Tri3,Sing] \n",
    "          for measure_circuit in [measure_XX, measure_YY, measure_ZZ] ]  \n",
    "\n",
    "shots = 8192\n",
    "job = execute(qc_all, backend, initial_layout=initial_layout, optimization_level=3, shots=shots)\n",
    "print(job.job_id())\n",
    "job_monitor(job)"
   ]
  },
  {
   "cell_type": "code",
   "execution_count": 159,
   "metadata": {},
   "outputs": [],
   "source": [
    "# ジョブの結果を得ます\n",
    "results = job.result()"
   ]
  },
  {
   "cell_type": "code",
   "execution_count": 160,
   "metadata": {},
   "outputs": [],
   "source": [
    "## 完了したジョブの結果にアクセスするには\n",
    "#results = backend.retrieve_job('job_id').result()"
   ]
  },
  {
   "cell_type": "markdown",
   "metadata": {},
   "source": [
    "<h4 style=\"font-size: 17px\">ステップ C. 以下のセルを実行して、前のステップの結果から基底状態のエネルギーレベルを推定します。 </h4>"
   ]
  },
  {
   "cell_type": "code",
   "execution_count": 161,
   "metadata": {},
   "outputs": [],
   "source": [
    "def Energy(results, shots):\n",
    "    \"\"\"水素の基底状態のエネルギー準位を計算します。\n",
    "    \n",
    "    Parameters:\n",
    "        results (obj): 結果, ハミルトニアンを測定する回路を実行した結果です。\n",
    "        shots (int): ショット数, 回路を実行するショット数です。\n",
    "        \n",
    "    Returns:\n",
    "        Energy (list): 4つの異なる水素の基底状態のエネルギーの値です。\n",
    "    \"\"\"\n",
    "    E = []\n",
    "    A = 1.47e-6\n",
    "\n",
    "    for ind_state in range(4):\n",
    "        Energy_meas = []\n",
    "        for ind_comp in range(3):\n",
    "            counts = results.get_counts(ind_state*3+ind_comp)\n",
    "        \n",
    "            # 各計算基底における確率を計算します\n",
    "            probs = {}\n",
    "            for output in ['00','01', '10', '11']:\n",
    "                if output in counts:\n",
    "                    probs[output] = counts[output]/shots\n",
    "                else:\n",
    "                    probs[output] = 0\n",
    "            \n",
    "            Energy_meas.append( probs['00'] - probs['01'] - probs['10'] + probs['11'] )\n",
    "\n",
    "        E.append(A * np.sum(np.array(Energy_meas)))\n",
    "    \n",
    "    return E"
   ]
  },
  {
   "cell_type": "code",
   "execution_count": 10,
   "metadata": {},
   "outputs": [],
   "source": [
    "E = Energy(results, shots)\n",
    "\n",
    "print('状態Tri1のエネルギー期待値 : {:.3e} eV'.format(E[0]))\n",
    "print('状態Tri2のエネルギー期待値 : {:.3e} eV'.format(E[1]))\n",
    "print('状態Tri3のエネルギー期待値 : {:.3e} eV'.format(E[2]))\n",
    "print('状態Singのエネルギー期待値 : {:.3e} eV'.format(E[3]))"
   ]
  },
  {
   "cell_type": "markdown",
   "metadata": {},
   "source": [
    "<h4 style=\"font-size: 17px\">ステップ D. 測定誤差の軽減 </h4>\n",
    "\n",
    "\n",
    "量子システム上で回路を動作させて得られた結果は、エネルギー緩和、位相緩和、量子ビット間のクロストークなど、さまざまな原因によるノイズのため、正確なものではありません。このステップでは、測定誤差を軽減することで、ノイズの影響を軽減していきます。先に、こちらの[ビデオ](https://www.youtube.com/watch?v=yuDxHJOKsVA&list=PLOFEBzvs-Vvp2xg9-POLJhQwtVktlYGbY&index=8)をご覧ください。"
   ]
  },
  {
   "cell_type": "code",
   "execution_count": 163,
   "metadata": {},
   "outputs": [],
   "source": [
    "from qiskit.ignis.mitigation.measurement import *"
   ]
  },
  {
   "cell_type": "markdown",
   "metadata": {},
   "source": [
    "<p>&#128211;関数'complete_meas_cal'を使用して、すべての基底状態の測定誤差をプロファイリングする回路を構築します。測定フィルター・オブジェクト'meas_filter'を取得して、ノイズの多い結果に適用し、読み出し（測定）誤差を軽減します。"
   ]
  },
  {
   "cell_type": "markdown",
   "metadata": {},
   "source": [
    "このタスクを完了するためのさらに役立つ情報は、[こちら](https://qiskit.org/textbook/ch-quantum-hardware/measurement-error-mitigation.html)にあります。"
   ]
  },
  {
   "cell_type": "code",
   "execution_count": 11,
   "metadata": {
    "scrolled": true
   },
   "outputs": [],
   "source": [
    "# meas_calibsの回路を作成するコードをこちらに記入します\n",
    "meas_calibs, state_labels = \n",
    "\n",
    "\n",
    "\n",
    "# 選択したバックエンドにおいてmeas_calibsを実行します\n",
    "job = execute(meas_calibs, backend, shots = shots)\n",
    "print(job.job_id())\n",
    "job_monitor(job)\n",
    "cal_results = job.result()\n",
    "## 完了したジョブの結果にアクセスするには\n",
    "#cal_results = backend.retrieve_job('job_id').result()\n",
    "\n",
    "\n",
    "# 測定フィルター・オブジェクト'meas_filter'を得るためのコードをここに記入します\n",
    "\n",
    "\n",
    "\n"
   ]
  },
  {
   "cell_type": "code",
   "execution_count": 165,
   "metadata": {},
   "outputs": [],
   "source": [
    "results_new = meas_filter.apply(results)"
   ]
  },
  {
   "cell_type": "code",
   "execution_count": 13,
   "metadata": {},
   "outputs": [],
   "source": [
    "E_new = Energy(results_new, shots)\n",
    "\n",
    "print('状態Tri1のエネルギー期待値 : {:.3e} eV'.format(E_new[0]))\n",
    "print('状態Tri2のエネルギー期待値 : {:.3e} eV'.format(E_new[1]))\n",
    "print('状態Tri3のエネルギー期待値 : {:.3e} eV'.format(E_new[2]))\n",
    "print('状態Singのエネルギー期待値 : {:.3e} eV'.format(E_new[3]))"
   ]
  },
  {
   "cell_type": "markdown",
   "metadata": {},
   "source": [
    "<h4 style=\"font-size: 17px\">ステップ E. 結果を解釈する。 </h4>"
   ]
  },
  {
   "cell_type": "markdown",
   "metadata": {},
   "source": [
    "<p>&#128211; 測定誤差を軽減した場合としない場合の、4つの状態すべてのエネルギー値の相対的な誤差（または小数の誤差）を計算します。"
   ]
  },
  {
   "cell_type": "code",
   "execution_count": 167,
   "metadata": {},
   "outputs": [],
   "source": [
    "# シミュレーションによるエネルギー推定の結果\n",
    "# 量子システム上で誤差を軽減しないで実行した場合と\n",
    "# 誤差を軽減した場合の numpy 配列形式での表示\n",
    "Energy_exact, Energy_exp_orig, Energy_exp_new = np.array(E_sim), np.array(E), np.array(E_new)"
   ]
  },
  {
   "cell_type": "code",
   "execution_count": 179,
   "metadata": {},
   "outputs": [],
   "source": [
    "# エラー軽減なしでエネルギー値の相対エラーを計算し\n",
    "# サイズ4のnumpy配列変数 `Err_rel_orig`に割り当てます \n",
    "Err_rel_orig = "
   ]
  },
  {
   "cell_type": "code",
   "execution_count": 169,
   "metadata": {},
   "outputs": [],
   "source": [
    "# エラー軽減ありでエネルギー値の相対エラーを計算し\n",
    "# サイズ4のnumpy配列変数 Err_rel_new`に割り当てます \n",
    "Err_rel_new = "
   ]
  },
  {
   "cell_type": "code",
   "execution_count": 14,
   "metadata": {},
   "outputs": [],
   "source": [
    "np.set_printoptions(precision=3)\n",
    "\n",
    "print('測定誤差を軽減しない場合の4つのベル基底のエネルギー値の相対誤差 : {}'.format(Err_rel_orig))"
   ]
  },
  {
   "cell_type": "code",
   "execution_count": 15,
   "metadata": {},
   "outputs": [],
   "source": [
    "np.set_printoptions(precision=3)\n",
    "\n",
    "print('測定誤差を軽減した場合の4つのベル基底のエネルギー値の相対誤差  : {}'.format(Err_rel_new))"
   ]
  },
  {
   "cell_type": "markdown",
   "metadata": {},
   "source": [
    "<p>&#128211; 測定エラーの軽減前後のエラーのサイズを比較し、選択したバックエンドのエラーマップ情報に関する読み出しエラーの影響について話し合います。"
   ]
  },
  {
   "cell_type": "markdown",
   "metadata": {},
   "source": [
    "**あなたの回答は:**"
   ]
  }
 ],
 "metadata": {
  "kernelspec": {
   "display_name": "Python 3",
   "language": "python",
   "name": "python3"
  },
  "language_info": {
   "codemirror_mode": {
    "name": "ipython",
    "version": 3
   },
   "file_extension": ".py",
   "mimetype": "text/x-python",
   "name": "python",
   "nbconvert_exporter": "python",
   "pygments_lexer": "ipython3",
   "version": "3.8.5"
  },
  "widgets": {
   "application/vnd.jupyter.widget-state+json": {
    "state": {
     "053a7a003d384dfebb97c58df06898e5": {
      "model_module": "@jupyter-widgets/controls",
      "model_module_version": "1.5.0",
      "model_name": "HTMLModel",
      "state": {
       "layout": "IPY_MODEL_98a58049fb764105bd20af4f5a26b992",
       "style": "IPY_MODEL_8ce05649dbcc4a75a8fdd3b74147b7d3",
       "value": "<h5>Backend</h5>"
      }
     },
     "1407ba5e1f6f4609bb0eaa98e583c5eb": {
      "model_module": "@jupyter-widgets/controls",
      "model_module_version": "1.5.0",
      "model_name": "DescriptionStyleModel",
      "state": {
       "description_width": ""
      }
     },
     "292078c1a0714234a771b6c726222f4f": {
      "model_module": "@jupyter-widgets/base",
      "model_module_version": "1.2.0",
      "model_name": "LayoutModel",
      "state": {
       "grid_area": "right",
       "padding": "0px 0px 0px 0px",
       "width": "70px"
      }
     },
     "2c620d67515e435c8f97c69ff12dac64": {
      "model_module": "@jupyter-widgets/controls",
      "model_module_version": "1.5.0",
      "model_name": "HTMLModel",
      "state": {
       "layout": "IPY_MODEL_35c0cbc92bcd4d9abd21f1fbcb8de5e5",
       "style": "IPY_MODEL_1407ba5e1f6f4609bb0eaa98e583c5eb",
       "value": "<h5>Job ID</h5>"
      }
     },
     "30041a66acd34e1ba9ba9c5ecc341b02": {
      "model_module": "@jupyter-widgets/controls",
      "model_module_version": "1.5.0",
      "model_name": "ButtonModel",
      "state": {
       "button_style": "primary",
       "description": "Clear",
       "layout": "IPY_MODEL_292078c1a0714234a771b6c726222f4f",
       "style": "IPY_MODEL_649905a5e6a34a1f9cfdb7216b254578"
      }
     },
     "35c0cbc92bcd4d9abd21f1fbcb8de5e5": {
      "model_module": "@jupyter-widgets/base",
      "model_module_version": "1.2.0",
      "model_name": "LayoutModel",
      "state": {
       "width": "190px"
      }
     },
     "4c31796715eb4f19a97b4bd647f3aa15": {
      "model_module": "@jupyter-widgets/controls",
      "model_module_version": "1.5.0",
      "model_name": "HBoxModel",
      "state": {
       "children": [
        "IPY_MODEL_2c620d67515e435c8f97c69ff12dac64",
        "IPY_MODEL_053a7a003d384dfebb97c58df06898e5",
        "IPY_MODEL_d4d9c546cd364c449692c73ccc217387",
        "IPY_MODEL_da0721ffb6964a7dabf3ef390d3b1a24",
        "IPY_MODEL_bda6cd9e1a39461cbb45c1782cd7bb8e"
       ],
       "layout": "IPY_MODEL_85de4a191ba24884a21b27f7097ea867"
      }
     },
     "5c968b5f5d8d422e8838e021f921fb64": {
      "model_module": "@jupyter-widgets/controls",
      "model_module_version": "1.5.0",
      "model_name": "DescriptionStyleModel",
      "state": {
       "description_width": ""
      }
     },
     "649905a5e6a34a1f9cfdb7216b254578": {
      "model_module": "@jupyter-widgets/controls",
      "model_module_version": "1.5.0",
      "model_name": "ButtonStyleModel",
      "state": {}
     },
     "7345eadaf8cb49019b7b818093cc220c": {
      "model_module": "@jupyter-widgets/base",
      "model_module_version": "1.2.0",
      "model_name": "LayoutModel",
      "state": {
       "width": "95px"
      }
     },
     "85de4a191ba24884a21b27f7097ea867": {
      "model_module": "@jupyter-widgets/base",
      "model_module_version": "1.2.0",
      "model_name": "LayoutModel",
      "state": {
       "margin": "0px 0px 0px 37px",
       "width": "600px"
      }
     },
     "86d543d59d874dba87a6596166bfc26f": {
      "model_module": "@jupyter-widgets/controls",
      "model_module_version": "1.5.0",
      "model_name": "DescriptionStyleModel",
      "state": {
       "description_width": ""
      }
     },
     "885b4e893c1a4044a1e11a58b3488fb9": {
      "model_module": "@jupyter-widgets/base",
      "model_module_version": "1.2.0",
      "model_name": "LayoutModel",
      "state": {}
     },
     "8c0a0af9ecb54e6bb483f4a6857b0837": {
      "model_module": "@jupyter-widgets/base",
      "model_module_version": "1.2.0",
      "model_name": "LayoutModel",
      "state": {
       "width": "70px"
      }
     },
     "8ce05649dbcc4a75a8fdd3b74147b7d3": {
      "model_module": "@jupyter-widgets/controls",
      "model_module_version": "1.5.0",
      "model_name": "DescriptionStyleModel",
      "state": {
       "description_width": ""
      }
     },
     "98a58049fb764105bd20af4f5a26b992": {
      "model_module": "@jupyter-widgets/base",
      "model_module_version": "1.2.0",
      "model_name": "LayoutModel",
      "state": {
       "width": "145px"
      }
     },
     "b5a93c630bdc412f86c0b82a808b835c": {
      "model_module": "@jupyter-widgets/controls",
      "model_module_version": "1.5.0",
      "model_name": "HTMLModel",
      "state": {
       "layout": "IPY_MODEL_dc44bab9524c466dae14fc606971cc66",
       "style": "IPY_MODEL_5c968b5f5d8d422e8838e021f921fb64",
       "value": "<p style='font-family: IBM Plex Sans, Arial, Helvetica, sans-serif; font-size: 20px; font-weight: medium;'>Circuit Properties</p>"
      }
     },
     "bda6cd9e1a39461cbb45c1782cd7bb8e": {
      "model_module": "@jupyter-widgets/controls",
      "model_module_version": "1.5.0",
      "model_name": "HTMLModel",
      "state": {
       "layout": "IPY_MODEL_885b4e893c1a4044a1e11a58b3488fb9",
       "style": "IPY_MODEL_c0a7bfb516af4616a82e1a5498a16944",
       "value": "<h5>Message</h5>"
      }
     },
     "c0a7bfb516af4616a82e1a5498a16944": {
      "model_module": "@jupyter-widgets/controls",
      "model_module_version": "1.5.0",
      "model_name": "DescriptionStyleModel",
      "state": {
       "description_width": ""
      }
     },
     "d4d9c546cd364c449692c73ccc217387": {
      "model_module": "@jupyter-widgets/controls",
      "model_module_version": "1.5.0",
      "model_name": "HTMLModel",
      "state": {
       "layout": "IPY_MODEL_7345eadaf8cb49019b7b818093cc220c",
       "style": "IPY_MODEL_e0b7db9b0a194fdb8d39fda0871c98da",
       "value": "<h5>Status</h5>"
      }
     },
     "da0721ffb6964a7dabf3ef390d3b1a24": {
      "model_module": "@jupyter-widgets/controls",
      "model_module_version": "1.5.0",
      "model_name": "HTMLModel",
      "state": {
       "layout": "IPY_MODEL_8c0a0af9ecb54e6bb483f4a6857b0837",
       "style": "IPY_MODEL_86d543d59d874dba87a6596166bfc26f",
       "value": "<h5>Queue</h5>"
      }
     },
     "dc44bab9524c466dae14fc606971cc66": {
      "model_module": "@jupyter-widgets/base",
      "model_module_version": "1.2.0",
      "model_name": "LayoutModel",
      "state": {
       "margin": "0px 0px 10px 0px"
      }
     },
     "dc6c351bd90e4b18b81eb926e7b9577c": {
      "model_module": "@jupyter-widgets/base",
      "model_module_version": "1.2.0",
      "model_name": "LayoutModel",
      "state": {
       "grid_template_areas": "\n                                       \". . . . right \"\n                                        ",
       "grid_template_columns": "20% 20% 20% 20% 20%",
       "width": "100%"
      }
     },
     "e0b7db9b0a194fdb8d39fda0871c98da": {
      "model_module": "@jupyter-widgets/controls",
      "model_module_version": "1.5.0",
      "model_name": "DescriptionStyleModel",
      "state": {
       "description_width": ""
      }
     },
     "e7a44e7bd5e047cf844561941c72dec0": {
      "model_module": "@jupyter-widgets/controls",
      "model_module_version": "1.5.0",
      "model_name": "GridBoxModel",
      "state": {
       "children": [
        "IPY_MODEL_30041a66acd34e1ba9ba9c5ecc341b02"
       ],
       "layout": "IPY_MODEL_dc6c351bd90e4b18b81eb926e7b9577c"
      }
     }
    },
    "version_major": 2,
    "version_minor": 0
   }
  }
 },
 "nbformat": 4,
 "nbformat_minor": 2
}
