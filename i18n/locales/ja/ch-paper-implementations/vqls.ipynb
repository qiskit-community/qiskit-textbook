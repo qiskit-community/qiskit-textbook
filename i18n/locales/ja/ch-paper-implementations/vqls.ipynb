{
 "cells": [
  {
   "cell_type": "markdown",
   "metadata": {},
   "source": [
    "<h1>The Variational Quantum Linear Solver</h1>"
   ]
  },
  {
   "cell_type": "code",
   "execution_count": 1,
   "metadata": {},
   "outputs": [],
   "source": [
    "import qiskit\n",
    "from qiskit import QuantumCircuit, QuantumRegister, ClassicalRegister\n",
    "from qiskit import Aer, execute\n",
    "import math\n",
    "import random\n",
    "import numpy as np\n",
    "from scipy.optimize import minimize\n",
    "%config InlineBackend.figure_format = 'svg' # Makes the images look nice"
   ]
  },
  {
   "cell_type": "markdown",
   "metadata": {},
   "source": [
    "**Introduction**\n",
    "\n",
    "The Variational Quantum Linear Solver, or the VQLS is a variational quantum algorithm that utilizes VQE in order to solve systems of linear equations more efficiently than classical computational algortihms. Specifically, if we are given some matrix $\\textbf{A}$, such that $\\textbf{A} |\\textbf{x}\\rangle \\ = \\ |\\textbf{b}\\rangle$, where $|\\textbf{b}\\rangle$ is some known vector, the VQLS algorithm is theoretically able to find a normalized $|x\\rangle$ that is proportional to $|\\textbf{x}\\rangle$, which makes the above relationship true.\n",
    "\n",
    "The output of this algorithm is identical to that of the HHL Quantum Linear-Solving Algorithm, except, while HHL provides a much more favourable computation speedup over VQLS, the variational nature of our algorithm allows for it to be performed on NISQ quantum computers, while HHL would require much more robust quantum hardware, and many more qubits.\n"
   ]
  },
  {
   "cell_type": "markdown",
   "metadata": {},
   "source": [
    "**The Algorithm**\n",
    "\n",
    "To begin, the inputs into this algorithm are evidently the matrix $\\textbf{A}$, which we have to decompose into a linear combination of unitaries with complex coefficients:\n",
    "\n",
    "$$A \\ = \\ \\displaystyle\\sum_{n} c_n \\ A_n$$\n",
    "\n",
    "Where each $A_n$ is some unitary, and some unitary $U$ that prepares state $|\\textbf{b}\\rangle$ from $|0\\rangle$. Now, recall the general structure of a variational quantum algorithm. We have to construct a quantum cost function, which can be evaluated with a low-depth parametrized quantum circuit, then output to the classical optimizer. This allows us to search a parameter space for some set of parameters $\\alpha$, such that $|\\psi(\\alpha)\\rangle \\ = \\ \\frac{|\\textbf{x}\\rangle}{|| \\textbf{x} ||}$, where $|\\psi(k)\\rangle$ is the output of out quantum circuit corresponding to some parameter set $k$.\n",
    "\n",
    "Before we actually begin constructing the cost function, let's take a look at a \"high level\" overview of the sub-routines within this algorithm, as illustrated in this image from the original paper:\n",
    "\n",
    "![alt text](images/bro.png)"
   ]
  },
  {
   "cell_type": "markdown",
   "metadata": {},
   "source": [
    "So essentially, we start off with a qubit register, with each qubit initialized to $|0\\rangle$. Our algorithm takes its inputs, then prepares and evaluates the cost function, starting with the creation of some ansatz $V(\\alpha)$. If the computed cost is greater than some parameter $\\gamma$, the algorithm is run again with updated parameters, and if not, the algorithm terminates, and the ansatz is calculated with the optimal parameters (determined at termination). This gives us the state vector that minimizes our cost function, and therefore the normalized form of $|\\textbf{x}\\rangle$.\n",
    "\n",
    "Let's start off by considering the ansatz $V(\\alpha)$, which is just a circuit that prepares some arbitrary state $|\\psi(k)\\rangle$. This allows us to \"search\" the state space by varying some set of parameters, $k$. Anyways, the ansatz that we will use for this implementation is given as follows:"
   ]
  },
  {
   "cell_type": "code",
   "execution_count": 2,
   "metadata": {},
   "outputs": [
    {
     "data": {
      "image/svg+xml": [
       "<?xml version=\"1.0\" encoding=\"utf-8\" standalone=\"no\"?>\n",
       "<!DOCTYPE svg PUBLIC \"-//W3C//DTD SVG 1.1//EN\"\n",
       "  \"http://www.w3.org/Graphics/SVG/1.1/DTD/svg11.dtd\">\n",
       "<!-- Created with matplotlib (https://matplotlib.org/) -->\n",
       "<svg height=\"168.9334pt\" version=\"1.1\" viewBox=\"0 0 450.7296 168.9334\" width=\"450.7296pt\" xmlns=\"http://www.w3.org/2000/svg\" xmlns:xlink=\"http://www.w3.org/1999/xlink\">\n",
       " <defs>\n",
       "  <style type=\"text/css\">\n",
       "*{stroke-linecap:butt;stroke-linejoin:round;}\n",
       "  </style>\n",
       " </defs>\n",
       " <g id=\"figure_1\">\n",
       "  <g id=\"patch_1\">\n",
       "   <path d=\"M 0 168.9334 \n",
       "L 450.7296 168.9334 \n",
       "L 450.7296 0 \n",
       "L 0 0 \n",
       "z\n",
       "\" style=\"fill:#ffffff;\"/>\n",
       "  </g>\n",
       "  <g id=\"axes_1\">\n",
       "   <g id=\"line2d_1\">\n",
       "    <path clip-path=\"url(#p5a983e2976)\" d=\"M 98.102 43.5608 \n",
       "L 438.9845 43.5608 \n",
       "\" style=\"fill:none;stroke:#000000;stroke-linecap:square;stroke-width:2;\"/>\n",
       "   </g>\n",
       "   <g id=\"line2d_2\">\n",
       "    <path clip-path=\"url(#p5a983e2976)\" d=\"M 98.102 89.0118 \n",
       "L 438.9845 89.0118 \n",
       "\" style=\"fill:none;stroke:#000000;stroke-linecap:square;stroke-width:2;\"/>\n",
       "   </g>\n",
       "   <g id=\"line2d_3\">\n",
       "    <path clip-path=\"url(#p5a983e2976)\" d=\"M 98.102 134.4628 \n",
       "L 438.9845 134.4628 \n",
       "\" style=\"fill:none;stroke:#000000;stroke-linecap:square;stroke-width:2;\"/>\n",
       "   </g>\n",
       "   <g id=\"line2d_4\">\n",
       "    <path clip-path=\"url(#p5a983e2976)\" d=\"M 166.2785 89.0118 \n",
       "L 166.2785 43.5608 \n",
       "\" style=\"fill:none;stroke:#bb8bff;stroke-linecap:square;stroke-width:2;\"/>\n",
       "   </g>\n",
       "   <g id=\"line2d_5\">\n",
       "    <path clip-path=\"url(#p5a983e2976)\" d=\"M 211.7295 134.4628 \n",
       "L 211.7295 43.5608 \n",
       "\" style=\"fill:none;stroke:#bb8bff;stroke-linecap:square;stroke-width:2;\"/>\n",
       "   </g>\n",
       "   <g id=\"line2d_6\">\n",
       "    <path clip-path=\"url(#p5a983e2976)\" d=\"M 302.6315 134.4628 \n",
       "L 302.6315 89.0118 \n",
       "\" style=\"fill:none;stroke:#bb8bff;stroke-linecap:square;stroke-width:2;\"/>\n",
       "   </g>\n",
       "   <g id=\"line2d_7\">\n",
       "    <path clip-path=\"url(#p5a983e2976)\" d=\"M 348.0825 134.4628 \n",
       "L 348.0825 43.5608 \n",
       "\" style=\"fill:none;stroke:#bb8bff;stroke-linecap:square;stroke-width:2;\"/>\n",
       "   </g>\n",
       "   <g id=\"patch_2\">\n",
       "    <path clip-path=\"url(#p5a983e2976)\" d=\"M 106.055925 58.332375 \n",
       "L 135.599075 58.332375 \n",
       "L 135.599075 28.789225 \n",
       "L 106.055925 28.789225 \n",
       "z\n",
       "\" style=\"fill:#bb8bff;\"/>\n",
       "   </g>\n",
       "   <g id=\"patch_3\">\n",
       "    <path clip-path=\"url(#p5a983e2976)\" d=\"M 106.055925 103.783375 \n",
       "L 135.599075 103.783375 \n",
       "L 135.599075 74.240225 \n",
       "L 106.055925 74.240225 \n",
       "z\n",
       "\" style=\"fill:#bb8bff;\"/>\n",
       "   </g>\n",
       "   <g id=\"patch_4\">\n",
       "    <path clip-path=\"url(#p5a983e2976)\" d=\"M 106.055925 149.234375 \n",
       "L 135.599075 149.234375 \n",
       "L 135.599075 119.691225 \n",
       "L 106.055925 119.691225 \n",
       "z\n",
       "\" style=\"fill:#bb8bff;\"/>\n",
       "   </g>\n",
       "   <g id=\"patch_5\">\n",
       "    <path clip-path=\"url(#p5a983e2976)\" d=\"M 166.2785 47.992273 \n",
       "C 167.45374 47.992273 168.581004 47.525345 169.412024 46.694324 \n",
       "C 170.243045 45.863304 170.709973 44.73604 170.709973 43.5608 \n",
       "C 170.709973 42.38556 170.243045 41.258296 169.412024 40.427276 \n",
       "C 168.581004 39.596255 167.45374 39.129328 166.2785 39.129328 \n",
       "C 165.10326 39.129328 163.975996 39.596255 163.144976 40.427276 \n",
       "C 162.313955 41.258296 161.847027 42.38556 161.847027 43.5608 \n",
       "C 161.847027 44.73604 162.313955 45.863304 163.144976 46.694324 \n",
       "C 163.975996 47.525345 165.10326 47.992273 166.2785 47.992273 \n",
       "z\n",
       "\" style=\"fill:#bb8bff;stroke:#bb8bff;stroke-linejoin:miter;stroke-width:1.5;\"/>\n",
       "   </g>\n",
       "   <g id=\"patch_6\">\n",
       "    <path clip-path=\"url(#p5a983e2976)\" d=\"M 151.506925 103.783375 \n",
       "L 181.050075 103.783375 \n",
       "L 181.050075 74.240225 \n",
       "L 151.506925 74.240225 \n",
       "z\n",
       "\" style=\"fill:#bb8bff;\"/>\n",
       "   </g>\n",
       "   <g id=\"patch_7\">\n",
       "    <path clip-path=\"url(#p5a983e2976)\" d=\"M 211.7295 138.894273 \n",
       "C 212.90474 138.894273 214.032004 138.427345 214.863024 137.596324 \n",
       "C 215.694045 136.765304 216.160973 135.63804 216.160973 134.4628 \n",
       "C 216.160973 133.28756 215.694045 132.160296 214.863024 131.329276 \n",
       "C 214.032004 130.498255 212.90474 130.031328 211.7295 130.031328 \n",
       "C 210.55426 130.031328 209.426996 130.498255 208.595976 131.329276 \n",
       "C 207.764955 132.160296 207.298027 133.28756 207.298027 134.4628 \n",
       "C 207.298027 135.63804 207.764955 136.765304 208.595976 137.596324 \n",
       "C 209.426996 138.427345 210.55426 138.894273 211.7295 138.894273 \n",
       "z\n",
       "\" style=\"fill:#bb8bff;stroke:#bb8bff;stroke-linejoin:miter;stroke-width:1.5;\"/>\n",
       "   </g>\n",
       "   <g id=\"patch_8\">\n",
       "    <path clip-path=\"url(#p5a983e2976)\" d=\"M 196.957925 58.332375 \n",
       "L 226.501075 58.332375 \n",
       "L 226.501075 28.789225 \n",
       "L 196.957925 28.789225 \n",
       "z\n",
       "\" style=\"fill:#bb8bff;\"/>\n",
       "   </g>\n",
       "   <g id=\"patch_9\">\n",
       "    <path clip-path=\"url(#p5a983e2976)\" d=\"M 242.408925 103.783375 \n",
       "L 271.952075 103.783375 \n",
       "L 271.952075 74.240225 \n",
       "L 242.408925 74.240225 \n",
       "z\n",
       "\" style=\"fill:#bb8bff;\"/>\n",
       "   </g>\n",
       "   <g id=\"patch_10\">\n",
       "    <path clip-path=\"url(#p5a983e2976)\" d=\"M 242.408925 58.332375 \n",
       "L 271.952075 58.332375 \n",
       "L 271.952075 28.789225 \n",
       "L 242.408925 28.789225 \n",
       "z\n",
       "\" style=\"fill:#bb8bff;\"/>\n",
       "   </g>\n",
       "   <g id=\"patch_11\">\n",
       "    <path clip-path=\"url(#p5a983e2976)\" d=\"M 242.408925 149.234375 \n",
       "L 271.952075 149.234375 \n",
       "L 271.952075 119.691225 \n",
       "L 242.408925 119.691225 \n",
       "z\n",
       "\" style=\"fill:#bb8bff;\"/>\n",
       "   </g>\n",
       "   <g id=\"patch_12\">\n",
       "    <path clip-path=\"url(#p5a983e2976)\" d=\"M 302.6315 93.443273 \n",
       "C 303.80674 93.443273 304.934004 92.976345 305.765024 92.145324 \n",
       "C 306.596045 91.314304 307.062973 90.18704 307.062973 89.0118 \n",
       "C 307.062973 87.83656 306.596045 86.709296 305.765024 85.878276 \n",
       "C 304.934004 85.047255 303.80674 84.580328 302.6315 84.580328 \n",
       "C 301.45626 84.580328 300.328996 85.047255 299.497976 85.878276 \n",
       "C 298.666955 86.709296 298.200028 87.83656 298.200028 89.0118 \n",
       "C 298.200028 90.18704 298.666955 91.314304 299.497976 92.145324 \n",
       "C 300.328996 92.976345 301.45626 93.443273 302.6315 93.443273 \n",
       "z\n",
       "\" style=\"fill:#bb8bff;stroke:#bb8bff;stroke-linejoin:miter;stroke-width:1.5;\"/>\n",
       "   </g>\n",
       "   <g id=\"patch_13\">\n",
       "    <path clip-path=\"url(#p5a983e2976)\" d=\"M 287.859925 149.234375 \n",
       "L 317.403075 149.234375 \n",
       "L 317.403075 119.691225 \n",
       "L 287.859925 119.691225 \n",
       "z\n",
       "\" style=\"fill:#bb8bff;\"/>\n",
       "   </g>\n",
       "   <g id=\"patch_14\">\n",
       "    <path clip-path=\"url(#p5a983e2976)\" d=\"M 348.0825 138.894273 \n",
       "C 349.25774 138.894273 350.385004 138.427345 351.216024 137.596324 \n",
       "C 352.047045 136.765304 352.513972 135.63804 352.513972 134.4628 \n",
       "C 352.513972 133.28756 352.047045 132.160296 351.216024 131.329276 \n",
       "C 350.385004 130.498255 349.25774 130.031328 348.0825 130.031328 \n",
       "C 346.90726 130.031328 345.779996 130.498255 344.948976 131.329276 \n",
       "C 344.117955 132.160296 343.651027 133.28756 343.651027 134.4628 \n",
       "C 343.651027 135.63804 344.117955 136.765304 344.948976 137.596324 \n",
       "C 345.779996 138.427345 346.90726 138.894273 348.0825 138.894273 \n",
       "z\n",
       "\" style=\"fill:#bb8bff;stroke:#bb8bff;stroke-linejoin:miter;stroke-width:1.5;\"/>\n",
       "   </g>\n",
       "   <g id=\"patch_15\">\n",
       "    <path clip-path=\"url(#p5a983e2976)\" d=\"M 333.310925 58.332375 \n",
       "L 362.854075 58.332375 \n",
       "L 362.854075 28.789225 \n",
       "L 333.310925 28.789225 \n",
       "z\n",
       "\" style=\"fill:#bb8bff;\"/>\n",
       "   </g>\n",
       "   <g id=\"patch_16\">\n",
       "    <path clip-path=\"url(#p5a983e2976)\" d=\"M 378.761925 103.783375 \n",
       "L 408.305075 103.783375 \n",
       "L 408.305075 74.240225 \n",
       "L 378.761925 74.240225 \n",
       "z\n",
       "\" style=\"fill:#bb8bff;\"/>\n",
       "   </g>\n",
       "   <g id=\"patch_17\">\n",
       "    <path clip-path=\"url(#p5a983e2976)\" d=\"M 378.761925 58.332375 \n",
       "L 408.305075 58.332375 \n",
       "L 408.305075 28.789225 \n",
       "L 378.761925 28.789225 \n",
       "z\n",
       "\" style=\"fill:#bb8bff;\"/>\n",
       "   </g>\n",
       "   <g id=\"patch_18\">\n",
       "    <path clip-path=\"url(#p5a983e2976)\" d=\"M 378.761925 149.234375 \n",
       "L 408.305075 149.234375 \n",
       "L 408.305075 119.691225 \n",
       "L 378.761925 119.691225 \n",
       "z\n",
       "\" style=\"fill:#bb8bff;\"/>\n",
       "   </g>\n",
       "   <g id=\"text_1\">\n",
       "    <g clip-path=\"url(#p5a983e2976)\">\n",
       "     <!-- $R_y$ -->\n",
       "     <defs>\n",
       "      <path d=\"M 25.203125 64.796875 \n",
       "L 20.21875 38.921875 \n",
       "L 32.90625 38.921875 \n",
       "Q 40.375 38.921875 44.984375 43.046875 \n",
       "Q 49.609375 47.171875 49.609375 53.8125 \n",
       "Q 49.609375 59.125 46.5 61.953125 \n",
       "Q 43.40625 64.796875 37.59375 64.796875 \n",
       "z\n",
       "M 43.3125 35.015625 \n",
       "Q 46.4375 34.28125 48.515625 31.390625 \n",
       "Q 50.59375 28.515625 53.328125 19.921875 \n",
       "L 59.515625 0 \n",
       "L 49.125 0 \n",
       "L 43.40625 18.703125 \n",
       "Q 41.21875 25.921875 38.328125 28.359375 \n",
       "Q 35.453125 30.8125 29.5 30.8125 \n",
       "L 18.609375 30.8125 \n",
       "L 12.59375 0 \n",
       "L 2.6875 0 \n",
       "L 16.890625 72.90625 \n",
       "L 39.109375 72.90625 \n",
       "Q 49.21875 72.90625 54.609375 68.328125 \n",
       "Q 60.015625 63.765625 60.015625 55.171875 \n",
       "Q 60.015625 47.5625 55.421875 41.984375 \n",
       "Q 50.828125 36.421875 43.3125 35.015625 \n",
       "z\n",
       "\" id=\"DejaVuSans-Oblique-82\"/>\n",
       "      <path d=\"M 24.8125 -5.078125 \n",
       "Q 18.5625 -15.578125 14.625 -18.1875 \n",
       "Q 10.6875 -20.796875 4.59375 -20.796875 \n",
       "L -2.484375 -20.796875 \n",
       "L -0.984375 -13.28125 \n",
       "L 4.203125 -13.28125 \n",
       "Q 7.953125 -13.28125 10.59375 -11.234375 \n",
       "Q 13.234375 -9.1875 16.5 -3.21875 \n",
       "L 19.28125 2 \n",
       "L 7.171875 54.6875 \n",
       "L 16.703125 54.6875 \n",
       "L 25.78125 12.796875 \n",
       "L 50.875 54.6875 \n",
       "L 60.296875 54.6875 \n",
       "z\n",
       "\" id=\"DejaVuSans-Oblique-121\"/>\n",
       "     </defs>\n",
       "     <g transform=\"translate(113.4175 41.859328)scale(0.13 -0.13)\">\n",
       "      <use transform=\"translate(0 0.09375)\" xlink:href=\"#DejaVuSans-Oblique-82\"/>\n",
       "      <use transform=\"translate(69.482422 -16.3125)scale(0.7)\" xlink:href=\"#DejaVuSans-Oblique-121\"/>\n",
       "     </g>\n",
       "    </g>\n",
       "   </g>\n",
       "   <g id=\"text_2\">\n",
       "    <g clip-path=\"url(#p5a983e2976)\">\n",
       "     <!-- 1 -->\n",
       "     <defs>\n",
       "      <path d=\"M 12.40625 8.296875 \n",
       "L 28.515625 8.296875 \n",
       "L 28.515625 63.921875 \n",
       "L 10.984375 60.40625 \n",
       "L 10.984375 69.390625 \n",
       "L 28.421875 72.90625 \n",
       "L 38.28125 72.90625 \n",
       "L 38.28125 8.296875 \n",
       "L 54.390625 8.296875 \n",
       "L 54.390625 0 \n",
       "L 12.40625 0 \n",
       "z\n",
       "\" id=\"DejaVuSans-49\"/>\n",
       "     </defs>\n",
       "     <g transform=\"translate(118.2825 54.631245)scale(0.08 -0.08)\">\n",
       "      <use xlink:href=\"#DejaVuSans-49\"/>\n",
       "     </g>\n",
       "    </g>\n",
       "   </g>\n",
       "   <g id=\"text_3\">\n",
       "    <g clip-path=\"url(#p5a983e2976)\">\n",
       "     <!-- $R_y$ -->\n",
       "     <g transform=\"translate(113.4175 87.310328)scale(0.13 -0.13)\">\n",
       "      <use transform=\"translate(0 0.09375)\" xlink:href=\"#DejaVuSans-Oblique-82\"/>\n",
       "      <use transform=\"translate(69.482422 -16.3125)scale(0.7)\" xlink:href=\"#DejaVuSans-Oblique-121\"/>\n",
       "     </g>\n",
       "    </g>\n",
       "   </g>\n",
       "   <g id=\"text_4\">\n",
       "    <g clip-path=\"url(#p5a983e2976)\">\n",
       "     <!-- 1 -->\n",
       "     <g transform=\"translate(118.2825 100.082245)scale(0.08 -0.08)\">\n",
       "      <use xlink:href=\"#DejaVuSans-49\"/>\n",
       "     </g>\n",
       "    </g>\n",
       "   </g>\n",
       "   <g id=\"text_5\">\n",
       "    <g clip-path=\"url(#p5a983e2976)\">\n",
       "     <!-- $R_y$ -->\n",
       "     <g transform=\"translate(113.4175 132.761328)scale(0.13 -0.13)\">\n",
       "      <use transform=\"translate(0 0.09375)\" xlink:href=\"#DejaVuSans-Oblique-82\"/>\n",
       "      <use transform=\"translate(69.482422 -16.3125)scale(0.7)\" xlink:href=\"#DejaVuSans-Oblique-121\"/>\n",
       "     </g>\n",
       "    </g>\n",
       "   </g>\n",
       "   <g id=\"text_6\">\n",
       "    <g clip-path=\"url(#p5a983e2976)\">\n",
       "     <!-- 1 -->\n",
       "     <g transform=\"translate(118.2825 145.533245)scale(0.08 -0.08)\">\n",
       "      <use xlink:href=\"#DejaVuSans-49\"/>\n",
       "     </g>\n",
       "    </g>\n",
       "   </g>\n",
       "   <g id=\"text_7\">\n",
       "    <g clip-path=\"url(#p5a983e2976)\">\n",
       "     <!-- $Z$ -->\n",
       "     <defs>\n",
       "      <path d=\"M 13.09375 72.90625 \n",
       "L 70.3125 72.90625 \n",
       "L 68.890625 65.375 \n",
       "L 12.40625 8.296875 \n",
       "L 58.890625 8.296875 \n",
       "L 57.328125 0 \n",
       "L -2.203125 0 \n",
       "L -0.78125 7.515625 \n",
       "L 55.71875 64.59375 \n",
       "L 11.53125 64.59375 \n",
       "z\n",
       "\" id=\"DejaVuSans-Oblique-90\"/>\n",
       "     </defs>\n",
       "     <g transform=\"translate(161.7935 92.598988)scale(0.13 -0.13)\">\n",
       "      <use transform=\"translate(0 0.09375)\" xlink:href=\"#DejaVuSans-Oblique-90\"/>\n",
       "     </g>\n",
       "    </g>\n",
       "   </g>\n",
       "   <g id=\"text_8\">\n",
       "    <g clip-path=\"url(#p5a983e2976)\">\n",
       "     <!-- $Z$ -->\n",
       "     <g transform=\"translate(207.2445 47.147988)scale(0.13 -0.13)\">\n",
       "      <use transform=\"translate(0 0.09375)\" xlink:href=\"#DejaVuSans-Oblique-90\"/>\n",
       "     </g>\n",
       "    </g>\n",
       "   </g>\n",
       "   <g id=\"text_9\">\n",
       "    <g clip-path=\"url(#p5a983e2976)\">\n",
       "     <!-- $R_y$ -->\n",
       "     <g transform=\"translate(249.7705 87.310328)scale(0.13 -0.13)\">\n",
       "      <use transform=\"translate(0 0.09375)\" xlink:href=\"#DejaVuSans-Oblique-82\"/>\n",
       "      <use transform=\"translate(69.482422 -16.3125)scale(0.7)\" xlink:href=\"#DejaVuSans-Oblique-121\"/>\n",
       "     </g>\n",
       "    </g>\n",
       "   </g>\n",
       "   <g id=\"text_10\">\n",
       "    <g clip-path=\"url(#p5a983e2976)\">\n",
       "     <!-- 1 -->\n",
       "     <g transform=\"translate(254.6355 100.082245)scale(0.08 -0.08)\">\n",
       "      <use xlink:href=\"#DejaVuSans-49\"/>\n",
       "     </g>\n",
       "    </g>\n",
       "   </g>\n",
       "   <g id=\"text_11\">\n",
       "    <g clip-path=\"url(#p5a983e2976)\">\n",
       "     <!-- $R_y$ -->\n",
       "     <g transform=\"translate(249.7705 41.859328)scale(0.13 -0.13)\">\n",
       "      <use transform=\"translate(0 0.09375)\" xlink:href=\"#DejaVuSans-Oblique-82\"/>\n",
       "      <use transform=\"translate(69.482422 -16.3125)scale(0.7)\" xlink:href=\"#DejaVuSans-Oblique-121\"/>\n",
       "     </g>\n",
       "    </g>\n",
       "   </g>\n",
       "   <g id=\"text_12\">\n",
       "    <g clip-path=\"url(#p5a983e2976)\">\n",
       "     <!-- 1 -->\n",
       "     <g transform=\"translate(254.6355 54.631245)scale(0.08 -0.08)\">\n",
       "      <use xlink:href=\"#DejaVuSans-49\"/>\n",
       "     </g>\n",
       "    </g>\n",
       "   </g>\n",
       "   <g id=\"text_13\">\n",
       "    <g clip-path=\"url(#p5a983e2976)\">\n",
       "     <!-- $R_y$ -->\n",
       "     <g transform=\"translate(249.7705 132.761328)scale(0.13 -0.13)\">\n",
       "      <use transform=\"translate(0 0.09375)\" xlink:href=\"#DejaVuSans-Oblique-82\"/>\n",
       "      <use transform=\"translate(69.482422 -16.3125)scale(0.7)\" xlink:href=\"#DejaVuSans-Oblique-121\"/>\n",
       "     </g>\n",
       "    </g>\n",
       "   </g>\n",
       "   <g id=\"text_14\">\n",
       "    <g clip-path=\"url(#p5a983e2976)\">\n",
       "     <!-- 1 -->\n",
       "     <g transform=\"translate(254.6355 145.533245)scale(0.08 -0.08)\">\n",
       "      <use xlink:href=\"#DejaVuSans-49\"/>\n",
       "     </g>\n",
       "    </g>\n",
       "   </g>\n",
       "   <g id=\"text_15\">\n",
       "    <g clip-path=\"url(#p5a983e2976)\">\n",
       "     <!-- $Z$ -->\n",
       "     <g transform=\"translate(298.1465 138.049988)scale(0.13 -0.13)\">\n",
       "      <use transform=\"translate(0 0.09375)\" xlink:href=\"#DejaVuSans-Oblique-90\"/>\n",
       "     </g>\n",
       "    </g>\n",
       "   </g>\n",
       "   <g id=\"text_16\">\n",
       "    <g clip-path=\"url(#p5a983e2976)\">\n",
       "     <!-- $Z$ -->\n",
       "     <g transform=\"translate(343.5975 47.147988)scale(0.13 -0.13)\">\n",
       "      <use transform=\"translate(0 0.09375)\" xlink:href=\"#DejaVuSans-Oblique-90\"/>\n",
       "     </g>\n",
       "    </g>\n",
       "   </g>\n",
       "   <g id=\"text_17\">\n",
       "    <g clip-path=\"url(#p5a983e2976)\">\n",
       "     <!-- $R_y$ -->\n",
       "     <g transform=\"translate(386.1235 87.310328)scale(0.13 -0.13)\">\n",
       "      <use transform=\"translate(0 0.09375)\" xlink:href=\"#DejaVuSans-Oblique-82\"/>\n",
       "      <use transform=\"translate(69.482422 -16.3125)scale(0.7)\" xlink:href=\"#DejaVuSans-Oblique-121\"/>\n",
       "     </g>\n",
       "    </g>\n",
       "   </g>\n",
       "   <g id=\"text_18\">\n",
       "    <g clip-path=\"url(#p5a983e2976)\">\n",
       "     <!-- 1 -->\n",
       "     <g transform=\"translate(390.9885 100.082245)scale(0.08 -0.08)\">\n",
       "      <use xlink:href=\"#DejaVuSans-49\"/>\n",
       "     </g>\n",
       "    </g>\n",
       "   </g>\n",
       "   <g id=\"text_19\">\n",
       "    <g clip-path=\"url(#p5a983e2976)\">\n",
       "     <!-- $R_y$ -->\n",
       "     <g transform=\"translate(386.1235 41.859328)scale(0.13 -0.13)\">\n",
       "      <use transform=\"translate(0 0.09375)\" xlink:href=\"#DejaVuSans-Oblique-82\"/>\n",
       "      <use transform=\"translate(69.482422 -16.3125)scale(0.7)\" xlink:href=\"#DejaVuSans-Oblique-121\"/>\n",
       "     </g>\n",
       "    </g>\n",
       "   </g>\n",
       "   <g id=\"text_20\">\n",
       "    <g clip-path=\"url(#p5a983e2976)\">\n",
       "     <!-- 1 -->\n",
       "     <g transform=\"translate(390.9885 54.631245)scale(0.08 -0.08)\">\n",
       "      <use xlink:href=\"#DejaVuSans-49\"/>\n",
       "     </g>\n",
       "    </g>\n",
       "   </g>\n",
       "   <g id=\"text_21\">\n",
       "    <g clip-path=\"url(#p5a983e2976)\">\n",
       "     <!-- $R_y$ -->\n",
       "     <g transform=\"translate(386.1235 132.761328)scale(0.13 -0.13)\">\n",
       "      <use transform=\"translate(0 0.09375)\" xlink:href=\"#DejaVuSans-Oblique-82\"/>\n",
       "      <use transform=\"translate(69.482422 -16.3125)scale(0.7)\" xlink:href=\"#DejaVuSans-Oblique-121\"/>\n",
       "     </g>\n",
       "    </g>\n",
       "   </g>\n",
       "   <g id=\"text_22\">\n",
       "    <g clip-path=\"url(#p5a983e2976)\">\n",
       "     <!-- 1 -->\n",
       "     <g transform=\"translate(390.9885 145.533245)scale(0.08 -0.08)\">\n",
       "      <use xlink:href=\"#DejaVuSans-49\"/>\n",
       "     </g>\n",
       "    </g>\n",
       "   </g>\n",
       "   <g id=\"text_23\">\n",
       "    <g clip-path=\"url(#p5a983e2976)\">\n",
       "     <!-- $q_{0}$ -->\n",
       "     <defs>\n",
       "      <path d=\"M 41.703125 8.203125 \n",
       "Q 38.09375 3.46875 33.171875 1.015625 \n",
       "Q 28.265625 -1.421875 22.3125 -1.421875 \n",
       "Q 14.015625 -1.421875 9.296875 4.171875 \n",
       "Q 4.59375 9.765625 4.59375 19.578125 \n",
       "Q 4.59375 27.484375 7.5 34.859375 \n",
       "Q 10.40625 42.234375 15.828125 48.09375 \n",
       "Q 19.34375 51.90625 23.90625 53.953125 \n",
       "Q 28.46875 56 33.5 56 \n",
       "Q 39.546875 56 43.453125 53.609375 \n",
       "Q 47.359375 51.21875 49.125 46.390625 \n",
       "L 50.6875 54.59375 \n",
       "L 59.71875 54.59375 \n",
       "L 45.125 -20.609375 \n",
       "L 36.078125 -20.609375 \n",
       "z\n",
       "M 13.921875 20.90625 \n",
       "Q 13.921875 13.671875 16.9375 9.890625 \n",
       "Q 19.96875 6.109375 25.6875 6.109375 \n",
       "Q 34.1875 6.109375 40.1875 14.234375 \n",
       "Q 46.1875 22.359375 46.1875 33.984375 \n",
       "Q 46.1875 41.015625 43.078125 44.75 \n",
       "Q 39.984375 48.484375 34.1875 48.484375 \n",
       "Q 29.9375 48.484375 26.3125 46.5 \n",
       "Q 22.703125 44.53125 20.015625 40.71875 \n",
       "Q 17.1875 36.71875 15.546875 31.34375 \n",
       "Q 13.921875 25.984375 13.921875 20.90625 \n",
       "z\n",
       "\" id=\"DejaVuSans-Oblique-113\"/>\n",
       "      <path d=\"M 31.78125 66.40625 \n",
       "Q 24.171875 66.40625 20.328125 58.90625 \n",
       "Q 16.5 51.421875 16.5 36.375 \n",
       "Q 16.5 21.390625 20.328125 13.890625 \n",
       "Q 24.171875 6.390625 31.78125 6.390625 \n",
       "Q 39.453125 6.390625 43.28125 13.890625 \n",
       "Q 47.125 21.390625 47.125 36.375 \n",
       "Q 47.125 51.421875 43.28125 58.90625 \n",
       "Q 39.453125 66.40625 31.78125 66.40625 \n",
       "z\n",
       "M 31.78125 74.21875 \n",
       "Q 44.046875 74.21875 50.515625 64.515625 \n",
       "Q 56.984375 54.828125 56.984375 36.375 \n",
       "Q 56.984375 17.96875 50.515625 8.265625 \n",
       "Q 44.046875 -1.421875 31.78125 -1.421875 \n",
       "Q 19.53125 -1.421875 13.0625 8.265625 \n",
       "Q 6.59375 17.96875 6.59375 36.375 \n",
       "Q 6.59375 54.828125 13.0625 64.515625 \n",
       "Q 19.53125 74.21875 31.78125 74.21875 \n",
       "z\n",
       "\" id=\"DejaVuSans-48\"/>\n",
       "     </defs>\n",
       "     <g transform=\"translate(57.339 48.011777)scale(0.1625 -0.1625)\">\n",
       "      <use xlink:href=\"#DejaVuSans-Oblique-113\"/>\n",
       "      <use transform=\"translate(63.476562 -16.40625)scale(0.7)\" xlink:href=\"#DejaVuSans-48\"/>\n",
       "     </g>\n",
       "    </g>\n",
       "   </g>\n",
       "   <g id=\"text_24\">\n",
       "    <g clip-path=\"url(#p5a983e2976)\">\n",
       "     <!-- $q_{1}$ -->\n",
       "     <g transform=\"translate(57.339 93.462777)scale(0.1625 -0.1625)\">\n",
       "      <use xlink:href=\"#DejaVuSans-Oblique-113\"/>\n",
       "      <use transform=\"translate(63.476562 -16.40625)scale(0.7)\" xlink:href=\"#DejaVuSans-49\"/>\n",
       "     </g>\n",
       "    </g>\n",
       "   </g>\n",
       "   <g id=\"text_25\">\n",
       "    <g clip-path=\"url(#p5a983e2976)\">\n",
       "     <!-- $q_{2}$ -->\n",
       "     <defs>\n",
       "      <path d=\"M 19.1875 8.296875 \n",
       "L 53.609375 8.296875 \n",
       "L 53.609375 0 \n",
       "L 7.328125 0 \n",
       "L 7.328125 8.296875 \n",
       "Q 12.9375 14.109375 22.625 23.890625 \n",
       "Q 32.328125 33.6875 34.8125 36.53125 \n",
       "Q 39.546875 41.84375 41.421875 45.53125 \n",
       "Q 43.3125 49.21875 43.3125 52.78125 \n",
       "Q 43.3125 58.59375 39.234375 62.25 \n",
       "Q 35.15625 65.921875 28.609375 65.921875 \n",
       "Q 23.96875 65.921875 18.8125 64.3125 \n",
       "Q 13.671875 62.703125 7.8125 59.421875 \n",
       "L 7.8125 69.390625 \n",
       "Q 13.765625 71.78125 18.9375 73 \n",
       "Q 24.125 74.21875 28.421875 74.21875 \n",
       "Q 39.75 74.21875 46.484375 68.546875 \n",
       "Q 53.21875 62.890625 53.21875 53.421875 \n",
       "Q 53.21875 48.921875 51.53125 44.890625 \n",
       "Q 49.859375 40.875 45.40625 35.40625 \n",
       "Q 44.1875 33.984375 37.640625 27.21875 \n",
       "Q 31.109375 20.453125 19.1875 8.296875 \n",
       "z\n",
       "\" id=\"DejaVuSans-50\"/>\n",
       "     </defs>\n",
       "     <g transform=\"translate(57.339 138.913777)scale(0.1625 -0.1625)\">\n",
       "      <use xlink:href=\"#DejaVuSans-Oblique-113\"/>\n",
       "      <use transform=\"translate(63.476562 -16.40625)scale(0.7)\" xlink:href=\"#DejaVuSans-50\"/>\n",
       "     </g>\n",
       "    </g>\n",
       "   </g>\n",
       "  </g>\n",
       " </g>\n",
       " <defs>\n",
       "  <clipPath id=\"p5a983e2976\">\n",
       "   <rect height=\"154.5334\" width=\"436.3296\" x=\"7.2\" y=\"7.2\"/>\n",
       "  </clipPath>\n",
       " </defs>\n",
       "</svg>\n"
      ],
      "text/plain": [
       "<Figure size 577.92x204.68 with 1 Axes>"
      ]
     },
     "execution_count": 2,
     "metadata": {},
     "output_type": "execute_result"
    }
   ],
   "source": [
    "def apply_fixed_ansatz(qubits, parameters):\n",
    "\n",
    "    for iz in range (0, len(qubits)):\n",
    "        circ.ry(parameters[0][iz], qubits[iz])\n",
    "\n",
    "    circ.cz(qubits[0], qubits[1])\n",
    "    circ.cz(qubits[2], qubits[0])\n",
    "\n",
    "    for iz in range (0, len(qubits)):\n",
    "        circ.ry(parameters[1][iz], qubits[iz])\n",
    "\n",
    "    circ.cz(qubits[1], qubits[2])\n",
    "    circ.cz(qubits[2], qubits[0])\n",
    "\n",
    "    for iz in range (0, len(qubits)):\n",
    "        circ.ry(parameters[2][iz], qubits[iz])\n",
    "\n",
    "circ = QuantumCircuit(3)\n",
    "apply_fixed_ansatz([0, 1, 2], [[1, 1, 1], [1, 1, 1], [1, 1, 1]])\n",
    "circ.draw(output='mpl')"
   ]
  },
  {
   "cell_type": "markdown",
   "metadata": {},
   "source": [
    "This is called a **fixed hardware ansatz**: the configuration of quantum gates remains the same for each run of the circuit, all that changes are the parameters. Unlike the QAOA ansatz, it is not composed solely of Trotterized Hamiltonians. The applications of $Ry$ gates allows us to search the state space, while the $CZ$ gates create \"interference\" between the different qubit states. \n",
    "\n",
    "Now, it makes sense for us to consider the actual **cost function**. The goal of our algorithm will be to minimize cost, so when $|\\Phi\\rangle \\ = \\ \\textbf{A} |\\psi(k)\\rangle$ is very close to $|\\textbf{b}\\rangle$, we want our cost function's output to be very small, and when the vectors are close to being ortohognal, we want the cost function to be very large. Thus, we introduce the \"projection\" Hamiltonian:\n",
    "\n",
    "$$H_P \\ = \\ \\mathbb{I} \\ - \\ |b\\rangle \\langle b|$$\n",
    "\n",
    "Where we have:\n",
    "\n",
    "$$C_P \\ = \\ \\langle \\Phi | H_P | \\Phi \\rangle \\ = \\ \\langle \\Phi | (\\mathbb{I} \\ - \\ |b\\rangle \\langle b|) |\\Phi \\rangle \\ = \\ \\langle \\Phi | \\Phi \\rangle \\ - \\ \\langle \\Phi |b\\rangle \\langle b | \\Phi \\rangle$$\n",
    "\n",
    "Notice how the second term tells us \"how much\" of $|\\Phi\\rangle$ lies along $|b\\rangle$. We then subtract this from another number to get the desired low number when the inner product of $|\\Phi\\rangle$ and $|b\\rangle$ is greater (they agree more), and the opposite for when they are close to being orthogonal. This is looking good so far! However, there is still one more thing we can do to increase the accuracy of the algorithm: normalizing the cost function. This is due to the fact that if $|\\Phi\\rangle$ has a small norm, then the cost function will still be low, even if it does not agree with $|\\textbf{b}\\rangle$. Thus, we replace $|\\Phi\\rangle$ with $\\frac{|\\Phi\\rangle}{\\sqrt{\\langle \\Phi | \\Phi \\rangle}}$:\n",
    "\n",
    "$$\\hat{C}_P \\ = \\ \\frac{\\langle \\Phi | \\Phi \\rangle}{\\langle \\Phi | \\Phi \\rangle} \\ - \\ \\frac{\\langle \\Phi |b\\rangle \\langle b | \\Phi \\rangle}{\\langle \\Phi | \\Phi \\rangle} \\ = \\ 1 \\ - \\ \\frac{\\langle \\Phi |b\\rangle \\langle b | \\Phi \\rangle}{\\langle \\Phi | \\Phi \\rangle} \\ = \\ 1 \\ - \\ \\frac{|\\langle b | \\Phi \\rangle|^2}{\\langle \\Phi | \\Phi \\rangle}$$\n",
    "\n",
    "Ok, so, we have prepared our state $|\\psi(k)\\rangle$ with the ansatz. Now, we have two values to calculate in order to evaluate the cost function, namely $|\\langle b | \\Phi \\rangle|^2$ and $\\langle \\Phi | \\Phi \\rangle$. Luckily, a nifty little quantum subroutine called the **Hadamard Test** allows us to do this! Essentially, if we have some unitary $U$ and some state $|\\phi\\rangle$, and we want to find the expectation value of $U$ with respect to the state, $\\langle \\phi | U | \\phi \\rangle$, then we can evaluate the following circuit:\n",
    "\n",
    "<br><br>\n",
    "\n",
    "<img src=\"images/h.png\" style=\"height:100px\">\n",
    "\n",
    "<br><br>\n",
    "\n",
    "Then, the probability of measuring the first qubit to be $0$ is equal to $\\frac{1}{2} (1 \\ + \\ \\text{Re}\\langle U \\rangle)$ and the probability of measuring $1$ is $\\frac{1}{2} (1 \\ - \\ \\text{Re}\\langle U \\rangle)$, so subtracting the two probabilities gives us $\\text{Re} \\langle U \\rangle$. Luckily, the matrices we will be dealing with when we test this algorithm are completely real, so $\\text{Re} \\langle U \\rangle \\ = \\ \\langle U \\rangle$, for this specific implementation. Here is how the Hadamard test works. By the circuit diagram, we have as our general state vector:\n",
    "\n",
    "<br>\n",
    "\n",
    "$$\\frac{|0\\rangle \\ + \\ |1\\rangle}{\\sqrt{2}} \\ \\otimes \\ |\\psi\\rangle \\ = \\ \\frac{|0\\rangle \\ \\otimes \\ |\\psi\\rangle \\ + \\ |1\\rangle \\ \\otimes \\ |\\psi\\rangle}{\\sqrt{2}}$$\n",
    "\n",
    "<br>\n",
    "\n",
    "Applying our controlled unitay:\n",
    "\n",
    "<br>\n",
    "\n",
    "$$\\frac{|0\\rangle \\ \\otimes \\ |\\psi\\rangle \\ + \\ |1\\rangle \\ \\otimes \\ |\\psi\\rangle}{\\sqrt{2}} \\ \\rightarrow \\ \\frac{|0\\rangle \\ \\otimes \\ |\\psi\\rangle \\ + \\ |1\\rangle \\ \\otimes \\ U|\\psi\\rangle}{\\sqrt{2}}$$\n",
    "\n",
    "<br>\n",
    "\n",
    "Then applying the Hadamard gate to the first qubit:\n",
    "\n",
    "<br>\n",
    "\n",
    "$$\\frac{|0\\rangle \\ \\otimes \\ |\\psi\\rangle \\ + \\ |1\\rangle \\ \\otimes \\ U|\\psi\\rangle}{\\sqrt{2}} \\ \\rightarrow \\ \\frac{1}{2} \\ \\big[ |0\\rangle \\ \\otimes \\ |\\psi\\rangle \\ + \\ |1\\rangle \\ \\otimes \\ |\\psi\\rangle \\ + \\ |0\\rangle \\ \\otimes \\ U|\\psi\\rangle \\ - \\ |1\\rangle \\ \\otimes \\ U|\\psi\\rangle \\big]$$\n",
    "\n",
    "<br>\n",
    "\n",
    "$$\\Rightarrow \\ |0\\rangle \\ \\otimes \\ (\\mathbb{I} \\ + \\ U)|\\psi\\rangle \\ + \\ |1\\rangle \\ \\otimes \\ (\\mathbb{I} \\ - \\ U)|\\psi\\rangle$$\n",
    "\n",
    "<br>\n",
    "\n",
    "When we take a measurement of the first qubit, remember that in order to find the probability of measuring $0$, we must take the inner product of the state vector with $|0\\rangle$, then multiply by its complex conjugate (see the quantum mechanics section if you are not familiar with this). The same follows for the probability of measuring $1$. Thus, we have:\n",
    "\n",
    "<br>\n",
    "\n",
    "$$P(0) \\ = \\ \\frac{1}{4} \\ \\langle \\psi | (\\mathbb{I} \\ + \\ U) (\\mathbb{I} \\ + \\ U^{\\dagger}) |\\psi\\rangle \\ = \\ \\frac{1}{4} \\ \\langle \\psi | (\\mathbb{I}^2 \\ + U \\ + \\ U^{\\dagger} \\ + \\ U^{\\dagger} U) |\\psi\\rangle \\ = \\ \\frac{1}{4} \\ \\langle \\psi | (2\\mathbb{I} \\ + U \\ + \\ U^{\\dagger}) |\\psi\\rangle$$\n",
    "\n",
    "<br>\n",
    "\n",
    "$$\\Rightarrow \\ \\frac{1}{4} \\Big[ 2 \\ + \\ \\langle \\psi | U^{\\dagger} | \\psi \\rangle \\ + \\ \\langle \\psi | U | \\psi \\rangle \\Big] \\ = \\ \\frac{1}{4} \\Big[ 2 \\ + \\ (\\langle \\psi | U | \\psi \\rangle)^{*} \\ + \\ \\langle \\psi | U | \\psi \\rangle \\Big] \\ = \\ \\frac{1}{2} (1 \\ + \\ \\text{Re} \\ \\langle \\psi | U | \\psi \\rangle)$$\n",
    "\n",
    "<br>\n",
    "\n",
    "By a similar procedure, we get:\n",
    "\n",
    "<br>\n",
    "\n",
    "$$P(1) \\ = \\ \\frac{1}{2} \\ (1 \\ - \\ \\text{Re} \\ \\langle \\psi | U | \\psi \\rangle)$$\n",
    "\n",
    "<br>\n",
    "\n",
    "And so, by taking the difference:\n",
    "\n",
    "<br>\n",
    "\n",
    "$$P(0) \\ - \\ P(1) \\ = \\ \\text{Re} \\ \\langle \\psi | U | \\psi \\rangle$$\n",
    "\n",
    "<br>\n",
    "\n",
    "Cool! Now, we can actually implement this for the two values we have to compute. Starting with $\\langle \\Phi | \\Phi \\rangle$, we have:\n",
    "\n",
    "<br>\n",
    "\n",
    "$$\\langle \\Phi | \\Phi \\rangle \\ = \\ \\langle \\psi(k) | A^{\\dagger} A |\\psi(k) \\rangle \\ = \\ \\langle 0 | V(k)^{\\dagger} A^{\\dagger} A V(k) |0\\rangle \\ = \\ \\langle 0 | V(k)^{\\dagger} \\Big( \\displaystyle\\sum_{n} c_n \\ A_n \\Big)^{\\dagger} \\Big( \\displaystyle\\sum_{n} c_n \\ A_n \\Big) V(k) |0\\rangle$$\n",
    "\n",
    "<br>\n",
    "\n",
    "$$\\Rightarrow \\ \\langle \\Phi | \\Phi \\rangle \\ = \\ \\displaystyle\\sum_{m} \\displaystyle\\sum_{n} c_m^{*} c_n \\langle 0 | V(k)^{\\dagger} A_m^{\\dagger} A_n V(k) |0\\rangle$$\n",
    "\n",
    "<br>\n",
    "\n",
    "and so our task becomes computing every possible term $\\langle 0 | V(k)^{\\dagger} A_m^{\\dagger} A_n V(k) |0\\rangle$ using the Hadamard test. This requires us prepare the state $V(k) |0\\rangle$, and then perform controlled operations with some control-ancilla qubit for the unitary matrices $A_m^{\\dagger}$ and $A_n$. We can implement this in code:\n"
   ]
  },
  {
   "cell_type": "code",
   "execution_count": 3,
   "metadata": {},
   "outputs": [
    {
     "data": {
      "image/svg+xml": [
       "<?xml version=\"1.0\" encoding=\"utf-8\" standalone=\"no\"?>\n",
       "<!DOCTYPE svg PUBLIC \"-//W3C//DTD SVG 1.1//EN\"\n",
       "  \"http://www.w3.org/Graphics/SVG/1.1/DTD/svg11.dtd\">\n",
       "<!-- Created with matplotlib (https://matplotlib.org/) -->\n",
       "<svg height=\"214.3844pt\" version=\"1.1\" viewBox=\"0 0 541.6316 214.3844\" width=\"541.6316pt\" xmlns=\"http://www.w3.org/2000/svg\" xmlns:xlink=\"http://www.w3.org/1999/xlink\">\n",
       " <defs>\n",
       "  <style type=\"text/css\">\n",
       "*{stroke-linecap:butt;stroke-linejoin:round;}\n",
       "  </style>\n",
       " </defs>\n",
       " <g id=\"figure_1\">\n",
       "  <g id=\"patch_1\">\n",
       "   <path d=\"M 0 214.3844 \n",
       "L 541.6316 214.3844 \n",
       "L 541.6316 0 \n",
       "L 0 0 \n",
       "z\n",
       "\" style=\"fill:#ffffff;\"/>\n",
       "  </g>\n",
       "  <g id=\"axes_1\">\n",
       "   <g id=\"line2d_1\">\n",
       "    <path clip-path=\"url(#pb04a39414f)\" d=\"M 98.102 43.5608 \n",
       "L 529.8865 43.5608 \n",
       "\" style=\"fill:none;stroke:#000000;stroke-linecap:square;stroke-width:2;\"/>\n",
       "   </g>\n",
       "   <g id=\"line2d_2\">\n",
       "    <path clip-path=\"url(#pb04a39414f)\" d=\"M 98.102 89.0118 \n",
       "L 529.8865 89.0118 \n",
       "\" style=\"fill:none;stroke:#000000;stroke-linecap:square;stroke-width:2;\"/>\n",
       "   </g>\n",
       "   <g id=\"line2d_3\">\n",
       "    <path clip-path=\"url(#pb04a39414f)\" d=\"M 98.102 134.4628 \n",
       "L 529.8865 134.4628 \n",
       "\" style=\"fill:none;stroke:#000000;stroke-linecap:square;stroke-width:2;\"/>\n",
       "   </g>\n",
       "   <g id=\"line2d_4\">\n",
       "    <path clip-path=\"url(#pb04a39414f)\" d=\"M 98.102 179.9138 \n",
       "L 529.8865 179.9138 \n",
       "\" style=\"fill:none;stroke:#000000;stroke-linecap:square;stroke-width:2;\"/>\n",
       "   </g>\n",
       "   <g id=\"line2d_5\">\n",
       "    <path clip-path=\"url(#pb04a39414f)\" d=\"M 166.2785 134.4628 \n",
       "L 166.2785 89.0118 \n",
       "\" style=\"fill:none;stroke:#bb8bff;stroke-linecap:square;stroke-width:2;\"/>\n",
       "   </g>\n",
       "   <g id=\"line2d_6\">\n",
       "    <path clip-path=\"url(#pb04a39414f)\" d=\"M 211.7295 179.9138 \n",
       "L 211.7295 89.0118 \n",
       "\" style=\"fill:none;stroke:#bb8bff;stroke-linecap:square;stroke-width:2;\"/>\n",
       "   </g>\n",
       "   <g id=\"line2d_7\">\n",
       "    <path clip-path=\"url(#pb04a39414f)\" d=\"M 302.6315 179.9138 \n",
       "L 302.6315 134.4628 \n",
       "\" style=\"fill:none;stroke:#bb8bff;stroke-linecap:square;stroke-width:2;\"/>\n",
       "   </g>\n",
       "   <g id=\"line2d_8\">\n",
       "    <path clip-path=\"url(#pb04a39414f)\" d=\"M 348.0825 179.9138 \n",
       "L 348.0825 89.0118 \n",
       "\" style=\"fill:none;stroke:#bb8bff;stroke-linecap:square;stroke-width:2;\"/>\n",
       "   </g>\n",
       "   <g id=\"line2d_9\">\n",
       "    <path clip-path=\"url(#pb04a39414f)\" d=\"M 438.9845 179.9138 \n",
       "L 438.9845 43.5608 \n",
       "\" style=\"fill:none;stroke:#bb8bff;stroke-linecap:square;stroke-width:2;\"/>\n",
       "   </g>\n",
       "   <g id=\"patch_2\">\n",
       "    <path clip-path=\"url(#pb04a39414f)\" d=\"M 106.055925 58.332375 \n",
       "L 135.599075 58.332375 \n",
       "L 135.599075 28.789225 \n",
       "L 106.055925 28.789225 \n",
       "z\n",
       "\" style=\"fill:#6fa4ff;\"/>\n",
       "   </g>\n",
       "   <g id=\"patch_3\">\n",
       "    <path clip-path=\"url(#pb04a39414f)\" d=\"M 106.055925 103.783375 \n",
       "L 135.599075 103.783375 \n",
       "L 135.599075 74.240225 \n",
       "L 106.055925 74.240225 \n",
       "z\n",
       "\" style=\"fill:#bb8bff;\"/>\n",
       "   </g>\n",
       "   <g id=\"patch_4\">\n",
       "    <path clip-path=\"url(#pb04a39414f)\" d=\"M 106.055925 149.234375 \n",
       "L 135.599075 149.234375 \n",
       "L 135.599075 119.691225 \n",
       "L 106.055925 119.691225 \n",
       "z\n",
       "\" style=\"fill:#bb8bff;\"/>\n",
       "   </g>\n",
       "   <g id=\"patch_5\">\n",
       "    <path clip-path=\"url(#pb04a39414f)\" d=\"M 106.055925 194.685375 \n",
       "L 135.599075 194.685375 \n",
       "L 135.599075 165.142225 \n",
       "L 106.055925 165.142225 \n",
       "z\n",
       "\" style=\"fill:#bb8bff;\"/>\n",
       "   </g>\n",
       "   <g id=\"patch_6\">\n",
       "    <path clip-path=\"url(#pb04a39414f)\" d=\"M 166.2785 93.443273 \n",
       "C 167.45374 93.443273 168.581004 92.976345 169.412024 92.145324 \n",
       "C 170.243045 91.314304 170.709972 90.18704 170.709972 89.0118 \n",
       "C 170.709972 87.83656 170.243045 86.709296 169.412024 85.878276 \n",
       "C 168.581004 85.047255 167.45374 84.580328 166.2785 84.580328 \n",
       "C 165.10326 84.580328 163.975996 85.047255 163.144976 85.878276 \n",
       "C 162.313955 86.709296 161.847027 87.83656 161.847027 89.0118 \n",
       "C 161.847027 90.18704 162.313955 91.314304 163.144976 92.145324 \n",
       "C 163.975996 92.976345 165.10326 93.443273 166.2785 93.443273 \n",
       "z\n",
       "\" style=\"fill:#bb8bff;stroke:#bb8bff;stroke-linejoin:miter;stroke-width:1.5;\"/>\n",
       "   </g>\n",
       "   <g id=\"patch_7\">\n",
       "    <path clip-path=\"url(#pb04a39414f)\" d=\"M 151.506925 149.234375 \n",
       "L 181.050075 149.234375 \n",
       "L 181.050075 119.691225 \n",
       "L 151.506925 119.691225 \n",
       "z\n",
       "\" style=\"fill:#bb8bff;\"/>\n",
       "   </g>\n",
       "   <g id=\"patch_8\">\n",
       "    <path clip-path=\"url(#pb04a39414f)\" d=\"M 211.7295 184.345272 \n",
       "C 212.90474 184.345272 214.032004 183.878345 214.863024 183.047324 \n",
       "C 215.694045 182.216304 216.160972 181.08904 216.160972 179.9138 \n",
       "C 216.160972 178.73856 215.694045 177.611296 214.863024 176.780276 \n",
       "C 214.032004 175.949255 212.90474 175.482327 211.7295 175.482327 \n",
       "C 210.55426 175.482327 209.426996 175.949255 208.595976 176.780276 \n",
       "C 207.764955 177.611296 207.298027 178.73856 207.298027 179.9138 \n",
       "C 207.298027 181.08904 207.764955 182.216304 208.595976 183.047324 \n",
       "C 209.426996 183.878345 210.55426 184.345272 211.7295 184.345272 \n",
       "z\n",
       "\" style=\"fill:#bb8bff;stroke:#bb8bff;stroke-linejoin:miter;stroke-width:1.5;\"/>\n",
       "   </g>\n",
       "   <g id=\"patch_9\">\n",
       "    <path clip-path=\"url(#pb04a39414f)\" d=\"M 196.957925 103.783375 \n",
       "L 226.501075 103.783375 \n",
       "L 226.501075 74.240225 \n",
       "L 196.957925 74.240225 \n",
       "z\n",
       "\" style=\"fill:#bb8bff;\"/>\n",
       "   </g>\n",
       "   <g id=\"patch_10\">\n",
       "    <path clip-path=\"url(#pb04a39414f)\" d=\"M 242.408925 149.234375 \n",
       "L 271.952075 149.234375 \n",
       "L 271.952075 119.691225 \n",
       "L 242.408925 119.691225 \n",
       "z\n",
       "\" style=\"fill:#bb8bff;\"/>\n",
       "   </g>\n",
       "   <g id=\"patch_11\">\n",
       "    <path clip-path=\"url(#pb04a39414f)\" d=\"M 242.408925 103.783375 \n",
       "L 271.952075 103.783375 \n",
       "L 271.952075 74.240225 \n",
       "L 242.408925 74.240225 \n",
       "z\n",
       "\" style=\"fill:#bb8bff;\"/>\n",
       "   </g>\n",
       "   <g id=\"patch_12\">\n",
       "    <path clip-path=\"url(#pb04a39414f)\" d=\"M 242.408925 194.685375 \n",
       "L 271.952075 194.685375 \n",
       "L 271.952075 165.142225 \n",
       "L 242.408925 165.142225 \n",
       "z\n",
       "\" style=\"fill:#bb8bff;\"/>\n",
       "   </g>\n",
       "   <g id=\"patch_13\">\n",
       "    <path clip-path=\"url(#pb04a39414f)\" d=\"M 302.6315 138.894273 \n",
       "C 303.80674 138.894273 304.934004 138.427345 305.765024 137.596324 \n",
       "C 306.596045 136.765304 307.062972 135.63804 307.062972 134.4628 \n",
       "C 307.062972 133.28756 306.596045 132.160296 305.765024 131.329276 \n",
       "C 304.934004 130.498255 303.80674 130.031328 302.6315 130.031328 \n",
       "C 301.45626 130.031328 300.328996 130.498255 299.497976 131.329276 \n",
       "C 298.666955 132.160296 298.200027 133.28756 298.200027 134.4628 \n",
       "C 298.200027 135.63804 298.666955 136.765304 299.497976 137.596324 \n",
       "C 300.328996 138.427345 301.45626 138.894273 302.6315 138.894273 \n",
       "z\n",
       "\" style=\"fill:#bb8bff;stroke:#bb8bff;stroke-linejoin:miter;stroke-width:1.5;\"/>\n",
       "   </g>\n",
       "   <g id=\"patch_14\">\n",
       "    <path clip-path=\"url(#pb04a39414f)\" d=\"M 287.859925 194.685375 \n",
       "L 317.403075 194.685375 \n",
       "L 317.403075 165.142225 \n",
       "L 287.859925 165.142225 \n",
       "z\n",
       "\" style=\"fill:#bb8bff;\"/>\n",
       "   </g>\n",
       "   <g id=\"patch_15\">\n",
       "    <path clip-path=\"url(#pb04a39414f)\" d=\"M 348.0825 184.345272 \n",
       "C 349.25774 184.345272 350.385004 183.878345 351.216024 183.047324 \n",
       "C 352.047045 182.216304 352.513972 181.08904 352.513972 179.9138 \n",
       "C 352.513972 178.73856 352.047045 177.611296 351.216024 176.780276 \n",
       "C 350.385004 175.949255 349.25774 175.482327 348.0825 175.482327 \n",
       "C 346.90726 175.482327 345.779996 175.949255 344.948976 176.780276 \n",
       "C 344.117955 177.611296 343.651027 178.73856 343.651027 179.9138 \n",
       "C 343.651027 181.08904 344.117955 182.216304 344.948976 183.047324 \n",
       "C 345.779996 183.878345 346.90726 184.345272 348.0825 184.345272 \n",
       "z\n",
       "\" style=\"fill:#bb8bff;stroke:#bb8bff;stroke-linejoin:miter;stroke-width:1.5;\"/>\n",
       "   </g>\n",
       "   <g id=\"patch_16\">\n",
       "    <path clip-path=\"url(#pb04a39414f)\" d=\"M 333.310925 103.783375 \n",
       "L 362.854075 103.783375 \n",
       "L 362.854075 74.240225 \n",
       "L 333.310925 74.240225 \n",
       "z\n",
       "\" style=\"fill:#bb8bff;\"/>\n",
       "   </g>\n",
       "   <g id=\"patch_17\">\n",
       "    <path clip-path=\"url(#pb04a39414f)\" d=\"M 378.761925 149.234375 \n",
       "L 408.305075 149.234375 \n",
       "L 408.305075 119.691225 \n",
       "L 378.761925 119.691225 \n",
       "z\n",
       "\" style=\"fill:#bb8bff;\"/>\n",
       "   </g>\n",
       "   <g id=\"patch_18\">\n",
       "    <path clip-path=\"url(#pb04a39414f)\" d=\"M 378.761925 103.783375 \n",
       "L 408.305075 103.783375 \n",
       "L 408.305075 74.240225 \n",
       "L 378.761925 74.240225 \n",
       "z\n",
       "\" style=\"fill:#bb8bff;\"/>\n",
       "   </g>\n",
       "   <g id=\"patch_19\">\n",
       "    <path clip-path=\"url(#pb04a39414f)\" d=\"M 378.761925 194.685375 \n",
       "L 408.305075 194.685375 \n",
       "L 408.305075 165.142225 \n",
       "L 378.761925 165.142225 \n",
       "z\n",
       "\" style=\"fill:#bb8bff;\"/>\n",
       "   </g>\n",
       "   <g id=\"patch_20\">\n",
       "    <path clip-path=\"url(#pb04a39414f)\" d=\"M 438.9845 47.992273 \n",
       "C 440.15974 47.992273 441.287004 47.525345 442.118024 46.694324 \n",
       "C 442.949045 45.863304 443.415972 44.73604 443.415972 43.5608 \n",
       "C 443.415972 42.38556 442.949045 41.258296 442.118024 40.427276 \n",
       "C 441.287004 39.596255 440.15974 39.129328 438.9845 39.129328 \n",
       "C 437.80926 39.129328 436.681996 39.596255 435.850976 40.427276 \n",
       "C 435.019955 41.258296 434.553027 42.38556 434.553027 43.5608 \n",
       "C 434.553027 44.73604 435.019955 45.863304 435.850976 46.694324 \n",
       "C 436.681996 47.525345 437.80926 47.992273 438.9845 47.992273 \n",
       "z\n",
       "\" style=\"fill:#bb8bff;stroke:#bb8bff;stroke-linejoin:miter;stroke-width:1.5;\"/>\n",
       "   </g>\n",
       "   <g id=\"patch_21\">\n",
       "    <path clip-path=\"url(#pb04a39414f)\" d=\"M 424.212925 194.685375 \n",
       "L 453.756075 194.685375 \n",
       "L 453.756075 165.142225 \n",
       "L 424.212925 165.142225 \n",
       "z\n",
       "\" style=\"fill:#bb8bff;\"/>\n",
       "   </g>\n",
       "   <g id=\"patch_22\">\n",
       "    <path clip-path=\"url(#pb04a39414f)\" d=\"M 469.663925 58.332375 \n",
       "L 499.207075 58.332375 \n",
       "L 499.207075 28.789225 \n",
       "L 469.663925 28.789225 \n",
       "z\n",
       "\" style=\"fill:#6fa4ff;\"/>\n",
       "   </g>\n",
       "   <g id=\"text_1\">\n",
       "    <g clip-path=\"url(#pb04a39414f)\">\n",
       "     <!-- $H$ -->\n",
       "     <defs>\n",
       "      <path d=\"M 16.890625 72.90625 \n",
       "L 26.8125 72.90625 \n",
       "L 21 43.015625 \n",
       "L 56.78125 43.015625 \n",
       "L 62.59375 72.90625 \n",
       "L 72.515625 72.90625 \n",
       "L 58.296875 0 \n",
       "L 48.390625 0 \n",
       "L 55.171875 34.71875 \n",
       "L 19.390625 34.71875 \n",
       "L 12.59375 0 \n",
       "L 2.6875 0 \n",
       "z\n",
       "\" id=\"DejaVuSans-Oblique-72\"/>\n",
       "     </defs>\n",
       "     <g transform=\"translate(115.8875 47.147988)scale(0.13 -0.13)\">\n",
       "      <use transform=\"translate(0 0.09375)\" xlink:href=\"#DejaVuSans-Oblique-72\"/>\n",
       "     </g>\n",
       "    </g>\n",
       "   </g>\n",
       "   <g id=\"text_2\">\n",
       "    <g clip-path=\"url(#pb04a39414f)\">\n",
       "     <!-- $R_y$ -->\n",
       "     <defs>\n",
       "      <path d=\"M 25.203125 64.796875 \n",
       "L 20.21875 38.921875 \n",
       "L 32.90625 38.921875 \n",
       "Q 40.375 38.921875 44.984375 43.046875 \n",
       "Q 49.609375 47.171875 49.609375 53.8125 \n",
       "Q 49.609375 59.125 46.5 61.953125 \n",
       "Q 43.40625 64.796875 37.59375 64.796875 \n",
       "z\n",
       "M 43.3125 35.015625 \n",
       "Q 46.4375 34.28125 48.515625 31.390625 \n",
       "Q 50.59375 28.515625 53.328125 19.921875 \n",
       "L 59.515625 0 \n",
       "L 49.125 0 \n",
       "L 43.40625 18.703125 \n",
       "Q 41.21875 25.921875 38.328125 28.359375 \n",
       "Q 35.453125 30.8125 29.5 30.8125 \n",
       "L 18.609375 30.8125 \n",
       "L 12.59375 0 \n",
       "L 2.6875 0 \n",
       "L 16.890625 72.90625 \n",
       "L 39.109375 72.90625 \n",
       "Q 49.21875 72.90625 54.609375 68.328125 \n",
       "Q 60.015625 63.765625 60.015625 55.171875 \n",
       "Q 60.015625 47.5625 55.421875 41.984375 \n",
       "Q 50.828125 36.421875 43.3125 35.015625 \n",
       "z\n",
       "\" id=\"DejaVuSans-Oblique-82\"/>\n",
       "      <path d=\"M 24.8125 -5.078125 \n",
       "Q 18.5625 -15.578125 14.625 -18.1875 \n",
       "Q 10.6875 -20.796875 4.59375 -20.796875 \n",
       "L -2.484375 -20.796875 \n",
       "L -0.984375 -13.28125 \n",
       "L 4.203125 -13.28125 \n",
       "Q 7.953125 -13.28125 10.59375 -11.234375 \n",
       "Q 13.234375 -9.1875 16.5 -3.21875 \n",
       "L 19.28125 2 \n",
       "L 7.171875 54.6875 \n",
       "L 16.703125 54.6875 \n",
       "L 25.78125 12.796875 \n",
       "L 50.875 54.6875 \n",
       "L 60.296875 54.6875 \n",
       "z\n",
       "\" id=\"DejaVuSans-Oblique-121\"/>\n",
       "     </defs>\n",
       "     <g transform=\"translate(113.4175 87.310328)scale(0.13 -0.13)\">\n",
       "      <use transform=\"translate(0 0.09375)\" xlink:href=\"#DejaVuSans-Oblique-82\"/>\n",
       "      <use transform=\"translate(69.482422 -16.3125)scale(0.7)\" xlink:href=\"#DejaVuSans-Oblique-121\"/>\n",
       "     </g>\n",
       "    </g>\n",
       "   </g>\n",
       "   <g id=\"text_3\">\n",
       "    <g clip-path=\"url(#pb04a39414f)\">\n",
       "     <!-- 1 -->\n",
       "     <defs>\n",
       "      <path d=\"M 12.40625 8.296875 \n",
       "L 28.515625 8.296875 \n",
       "L 28.515625 63.921875 \n",
       "L 10.984375 60.40625 \n",
       "L 10.984375 69.390625 \n",
       "L 28.421875 72.90625 \n",
       "L 38.28125 72.90625 \n",
       "L 38.28125 8.296875 \n",
       "L 54.390625 8.296875 \n",
       "L 54.390625 0 \n",
       "L 12.40625 0 \n",
       "z\n",
       "\" id=\"DejaVuSans-49\"/>\n",
       "     </defs>\n",
       "     <g transform=\"translate(118.2825 100.082245)scale(0.08 -0.08)\">\n",
       "      <use xlink:href=\"#DejaVuSans-49\"/>\n",
       "     </g>\n",
       "    </g>\n",
       "   </g>\n",
       "   <g id=\"text_4\">\n",
       "    <g clip-path=\"url(#pb04a39414f)\">\n",
       "     <!-- $R_y$ -->\n",
       "     <g transform=\"translate(113.4175 132.761327)scale(0.13 -0.13)\">\n",
       "      <use transform=\"translate(0 0.09375)\" xlink:href=\"#DejaVuSans-Oblique-82\"/>\n",
       "      <use transform=\"translate(69.482422 -16.3125)scale(0.7)\" xlink:href=\"#DejaVuSans-Oblique-121\"/>\n",
       "     </g>\n",
       "    </g>\n",
       "   </g>\n",
       "   <g id=\"text_5\">\n",
       "    <g clip-path=\"url(#pb04a39414f)\">\n",
       "     <!-- 1 -->\n",
       "     <g transform=\"translate(118.2825 145.533245)scale(0.08 -0.08)\">\n",
       "      <use xlink:href=\"#DejaVuSans-49\"/>\n",
       "     </g>\n",
       "    </g>\n",
       "   </g>\n",
       "   <g id=\"text_6\">\n",
       "    <g clip-path=\"url(#pb04a39414f)\">\n",
       "     <!-- $R_y$ -->\n",
       "     <g transform=\"translate(113.4175 178.212327)scale(0.13 -0.13)\">\n",
       "      <use transform=\"translate(0 0.09375)\" xlink:href=\"#DejaVuSans-Oblique-82\"/>\n",
       "      <use transform=\"translate(69.482422 -16.3125)scale(0.7)\" xlink:href=\"#DejaVuSans-Oblique-121\"/>\n",
       "     </g>\n",
       "    </g>\n",
       "   </g>\n",
       "   <g id=\"text_7\">\n",
       "    <g clip-path=\"url(#pb04a39414f)\">\n",
       "     <!-- 1 -->\n",
       "     <g transform=\"translate(118.2825 190.984245)scale(0.08 -0.08)\">\n",
       "      <use xlink:href=\"#DejaVuSans-49\"/>\n",
       "     </g>\n",
       "    </g>\n",
       "   </g>\n",
       "   <g id=\"text_8\">\n",
       "    <g clip-path=\"url(#pb04a39414f)\">\n",
       "     <!-- $Z$ -->\n",
       "     <defs>\n",
       "      <path d=\"M 13.09375 72.90625 \n",
       "L 70.3125 72.90625 \n",
       "L 68.890625 65.375 \n",
       "L 12.40625 8.296875 \n",
       "L 58.890625 8.296875 \n",
       "L 57.328125 0 \n",
       "L -2.203125 0 \n",
       "L -0.78125 7.515625 \n",
       "L 55.71875 64.59375 \n",
       "L 11.53125 64.59375 \n",
       "z\n",
       "\" id=\"DejaVuSans-Oblique-90\"/>\n",
       "     </defs>\n",
       "     <g transform=\"translate(161.7935 138.049987)scale(0.13 -0.13)\">\n",
       "      <use transform=\"translate(0 0.09375)\" xlink:href=\"#DejaVuSans-Oblique-90\"/>\n",
       "     </g>\n",
       "    </g>\n",
       "   </g>\n",
       "   <g id=\"text_9\">\n",
       "    <g clip-path=\"url(#pb04a39414f)\">\n",
       "     <!-- $Z$ -->\n",
       "     <g transform=\"translate(207.2445 92.598988)scale(0.13 -0.13)\">\n",
       "      <use transform=\"translate(0 0.09375)\" xlink:href=\"#DejaVuSans-Oblique-90\"/>\n",
       "     </g>\n",
       "    </g>\n",
       "   </g>\n",
       "   <g id=\"text_10\">\n",
       "    <g clip-path=\"url(#pb04a39414f)\">\n",
       "     <!-- $R_y$ -->\n",
       "     <g transform=\"translate(249.7705 132.761327)scale(0.13 -0.13)\">\n",
       "      <use transform=\"translate(0 0.09375)\" xlink:href=\"#DejaVuSans-Oblique-82\"/>\n",
       "      <use transform=\"translate(69.482422 -16.3125)scale(0.7)\" xlink:href=\"#DejaVuSans-Oblique-121\"/>\n",
       "     </g>\n",
       "    </g>\n",
       "   </g>\n",
       "   <g id=\"text_11\">\n",
       "    <g clip-path=\"url(#pb04a39414f)\">\n",
       "     <!-- 1 -->\n",
       "     <g transform=\"translate(254.6355 145.533245)scale(0.08 -0.08)\">\n",
       "      <use xlink:href=\"#DejaVuSans-49\"/>\n",
       "     </g>\n",
       "    </g>\n",
       "   </g>\n",
       "   <g id=\"text_12\">\n",
       "    <g clip-path=\"url(#pb04a39414f)\">\n",
       "     <!-- $R_y$ -->\n",
       "     <g transform=\"translate(249.7705 87.310328)scale(0.13 -0.13)\">\n",
       "      <use transform=\"translate(0 0.09375)\" xlink:href=\"#DejaVuSans-Oblique-82\"/>\n",
       "      <use transform=\"translate(69.482422 -16.3125)scale(0.7)\" xlink:href=\"#DejaVuSans-Oblique-121\"/>\n",
       "     </g>\n",
       "    </g>\n",
       "   </g>\n",
       "   <g id=\"text_13\">\n",
       "    <g clip-path=\"url(#pb04a39414f)\">\n",
       "     <!-- 1 -->\n",
       "     <g transform=\"translate(254.6355 100.082245)scale(0.08 -0.08)\">\n",
       "      <use xlink:href=\"#DejaVuSans-49\"/>\n",
       "     </g>\n",
       "    </g>\n",
       "   </g>\n",
       "   <g id=\"text_14\">\n",
       "    <g clip-path=\"url(#pb04a39414f)\">\n",
       "     <!-- $R_y$ -->\n",
       "     <g transform=\"translate(249.7705 178.212327)scale(0.13 -0.13)\">\n",
       "      <use transform=\"translate(0 0.09375)\" xlink:href=\"#DejaVuSans-Oblique-82\"/>\n",
       "      <use transform=\"translate(69.482422 -16.3125)scale(0.7)\" xlink:href=\"#DejaVuSans-Oblique-121\"/>\n",
       "     </g>\n",
       "    </g>\n",
       "   </g>\n",
       "   <g id=\"text_15\">\n",
       "    <g clip-path=\"url(#pb04a39414f)\">\n",
       "     <!-- 1 -->\n",
       "     <g transform=\"translate(254.6355 190.984245)scale(0.08 -0.08)\">\n",
       "      <use xlink:href=\"#DejaVuSans-49\"/>\n",
       "     </g>\n",
       "    </g>\n",
       "   </g>\n",
       "   <g id=\"text_16\">\n",
       "    <g clip-path=\"url(#pb04a39414f)\">\n",
       "     <!-- $Z$ -->\n",
       "     <g transform=\"translate(298.1465 183.500987)scale(0.13 -0.13)\">\n",
       "      <use transform=\"translate(0 0.09375)\" xlink:href=\"#DejaVuSans-Oblique-90\"/>\n",
       "     </g>\n",
       "    </g>\n",
       "   </g>\n",
       "   <g id=\"text_17\">\n",
       "    <g clip-path=\"url(#pb04a39414f)\">\n",
       "     <!-- $Z$ -->\n",
       "     <g transform=\"translate(343.5975 92.598988)scale(0.13 -0.13)\">\n",
       "      <use transform=\"translate(0 0.09375)\" xlink:href=\"#DejaVuSans-Oblique-90\"/>\n",
       "     </g>\n",
       "    </g>\n",
       "   </g>\n",
       "   <g id=\"text_18\">\n",
       "    <g clip-path=\"url(#pb04a39414f)\">\n",
       "     <!-- $R_y$ -->\n",
       "     <g transform=\"translate(386.1235 132.761327)scale(0.13 -0.13)\">\n",
       "      <use transform=\"translate(0 0.09375)\" xlink:href=\"#DejaVuSans-Oblique-82\"/>\n",
       "      <use transform=\"translate(69.482422 -16.3125)scale(0.7)\" xlink:href=\"#DejaVuSans-Oblique-121\"/>\n",
       "     </g>\n",
       "    </g>\n",
       "   </g>\n",
       "   <g id=\"text_19\">\n",
       "    <g clip-path=\"url(#pb04a39414f)\">\n",
       "     <!-- 1 -->\n",
       "     <g transform=\"translate(390.9885 145.533245)scale(0.08 -0.08)\">\n",
       "      <use xlink:href=\"#DejaVuSans-49\"/>\n",
       "     </g>\n",
       "    </g>\n",
       "   </g>\n",
       "   <g id=\"text_20\">\n",
       "    <g clip-path=\"url(#pb04a39414f)\">\n",
       "     <!-- $R_y$ -->\n",
       "     <g transform=\"translate(386.1235 87.310328)scale(0.13 -0.13)\">\n",
       "      <use transform=\"translate(0 0.09375)\" xlink:href=\"#DejaVuSans-Oblique-82\"/>\n",
       "      <use transform=\"translate(69.482422 -16.3125)scale(0.7)\" xlink:href=\"#DejaVuSans-Oblique-121\"/>\n",
       "     </g>\n",
       "    </g>\n",
       "   </g>\n",
       "   <g id=\"text_21\">\n",
       "    <g clip-path=\"url(#pb04a39414f)\">\n",
       "     <!-- 1 -->\n",
       "     <g transform=\"translate(390.9885 100.082245)scale(0.08 -0.08)\">\n",
       "      <use xlink:href=\"#DejaVuSans-49\"/>\n",
       "     </g>\n",
       "    </g>\n",
       "   </g>\n",
       "   <g id=\"text_22\">\n",
       "    <g clip-path=\"url(#pb04a39414f)\">\n",
       "     <!-- $R_y$ -->\n",
       "     <g transform=\"translate(386.1235 178.212327)scale(0.13 -0.13)\">\n",
       "      <use transform=\"translate(0 0.09375)\" xlink:href=\"#DejaVuSans-Oblique-82\"/>\n",
       "      <use transform=\"translate(69.482422 -16.3125)scale(0.7)\" xlink:href=\"#DejaVuSans-Oblique-121\"/>\n",
       "     </g>\n",
       "    </g>\n",
       "   </g>\n",
       "   <g id=\"text_23\">\n",
       "    <g clip-path=\"url(#pb04a39414f)\">\n",
       "     <!-- 1 -->\n",
       "     <g transform=\"translate(390.9885 190.984245)scale(0.08 -0.08)\">\n",
       "      <use xlink:href=\"#DejaVuSans-49\"/>\n",
       "     </g>\n",
       "    </g>\n",
       "   </g>\n",
       "   <g id=\"text_24\">\n",
       "    <g clip-path=\"url(#pb04a39414f)\">\n",
       "     <!-- $Z$ -->\n",
       "     <g transform=\"translate(434.4995 183.500987)scale(0.13 -0.13)\">\n",
       "      <use transform=\"translate(0 0.09375)\" xlink:href=\"#DejaVuSans-Oblique-90\"/>\n",
       "     </g>\n",
       "    </g>\n",
       "   </g>\n",
       "   <g id=\"text_25\">\n",
       "    <g clip-path=\"url(#pb04a39414f)\">\n",
       "     <!-- $H$ -->\n",
       "     <g transform=\"translate(479.4955 47.147988)scale(0.13 -0.13)\">\n",
       "      <use transform=\"translate(0 0.09375)\" xlink:href=\"#DejaVuSans-Oblique-72\"/>\n",
       "     </g>\n",
       "    </g>\n",
       "   </g>\n",
       "   <g id=\"text_26\">\n",
       "    <g clip-path=\"url(#pb04a39414f)\">\n",
       "     <!-- $q_{0}$ -->\n",
       "     <defs>\n",
       "      <path d=\"M 41.703125 8.203125 \n",
       "Q 38.09375 3.46875 33.171875 1.015625 \n",
       "Q 28.265625 -1.421875 22.3125 -1.421875 \n",
       "Q 14.015625 -1.421875 9.296875 4.171875 \n",
       "Q 4.59375 9.765625 4.59375 19.578125 \n",
       "Q 4.59375 27.484375 7.5 34.859375 \n",
       "Q 10.40625 42.234375 15.828125 48.09375 \n",
       "Q 19.34375 51.90625 23.90625 53.953125 \n",
       "Q 28.46875 56 33.5 56 \n",
       "Q 39.546875 56 43.453125 53.609375 \n",
       "Q 47.359375 51.21875 49.125 46.390625 \n",
       "L 50.6875 54.59375 \n",
       "L 59.71875 54.59375 \n",
       "L 45.125 -20.609375 \n",
       "L 36.078125 -20.609375 \n",
       "z\n",
       "M 13.921875 20.90625 \n",
       "Q 13.921875 13.671875 16.9375 9.890625 \n",
       "Q 19.96875 6.109375 25.6875 6.109375 \n",
       "Q 34.1875 6.109375 40.1875 14.234375 \n",
       "Q 46.1875 22.359375 46.1875 33.984375 \n",
       "Q 46.1875 41.015625 43.078125 44.75 \n",
       "Q 39.984375 48.484375 34.1875 48.484375 \n",
       "Q 29.9375 48.484375 26.3125 46.5 \n",
       "Q 22.703125 44.53125 20.015625 40.71875 \n",
       "Q 17.1875 36.71875 15.546875 31.34375 \n",
       "Q 13.921875 25.984375 13.921875 20.90625 \n",
       "z\n",
       "\" id=\"DejaVuSans-Oblique-113\"/>\n",
       "      <path d=\"M 31.78125 66.40625 \n",
       "Q 24.171875 66.40625 20.328125 58.90625 \n",
       "Q 16.5 51.421875 16.5 36.375 \n",
       "Q 16.5 21.390625 20.328125 13.890625 \n",
       "Q 24.171875 6.390625 31.78125 6.390625 \n",
       "Q 39.453125 6.390625 43.28125 13.890625 \n",
       "Q 47.125 21.390625 47.125 36.375 \n",
       "Q 47.125 51.421875 43.28125 58.90625 \n",
       "Q 39.453125 66.40625 31.78125 66.40625 \n",
       "z\n",
       "M 31.78125 74.21875 \n",
       "Q 44.046875 74.21875 50.515625 64.515625 \n",
       "Q 56.984375 54.828125 56.984375 36.375 \n",
       "Q 56.984375 17.96875 50.515625 8.265625 \n",
       "Q 44.046875 -1.421875 31.78125 -1.421875 \n",
       "Q 19.53125 -1.421875 13.0625 8.265625 \n",
       "Q 6.59375 17.96875 6.59375 36.375 \n",
       "Q 6.59375 54.828125 13.0625 64.515625 \n",
       "Q 19.53125 74.21875 31.78125 74.21875 \n",
       "z\n",
       "\" id=\"DejaVuSans-48\"/>\n",
       "     </defs>\n",
       "     <g transform=\"translate(57.339 48.011777)scale(0.1625 -0.1625)\">\n",
       "      <use xlink:href=\"#DejaVuSans-Oblique-113\"/>\n",
       "      <use transform=\"translate(63.476562 -16.40625)scale(0.7)\" xlink:href=\"#DejaVuSans-48\"/>\n",
       "     </g>\n",
       "    </g>\n",
       "   </g>\n",
       "   <g id=\"text_27\">\n",
       "    <g clip-path=\"url(#pb04a39414f)\">\n",
       "     <!-- $q_{1}$ -->\n",
       "     <g transform=\"translate(57.339 93.462777)scale(0.1625 -0.1625)\">\n",
       "      <use xlink:href=\"#DejaVuSans-Oblique-113\"/>\n",
       "      <use transform=\"translate(63.476562 -16.40625)scale(0.7)\" xlink:href=\"#DejaVuSans-49\"/>\n",
       "     </g>\n",
       "    </g>\n",
       "   </g>\n",
       "   <g id=\"text_28\">\n",
       "    <g clip-path=\"url(#pb04a39414f)\">\n",
       "     <!-- $q_{2}$ -->\n",
       "     <defs>\n",
       "      <path d=\"M 19.1875 8.296875 \n",
       "L 53.609375 8.296875 \n",
       "L 53.609375 0 \n",
       "L 7.328125 0 \n",
       "L 7.328125 8.296875 \n",
       "Q 12.9375 14.109375 22.625 23.890625 \n",
       "Q 32.328125 33.6875 34.8125 36.53125 \n",
       "Q 39.546875 41.84375 41.421875 45.53125 \n",
       "Q 43.3125 49.21875 43.3125 52.78125 \n",
       "Q 43.3125 58.59375 39.234375 62.25 \n",
       "Q 35.15625 65.921875 28.609375 65.921875 \n",
       "Q 23.96875 65.921875 18.8125 64.3125 \n",
       "Q 13.671875 62.703125 7.8125 59.421875 \n",
       "L 7.8125 69.390625 \n",
       "Q 13.765625 71.78125 18.9375 73 \n",
       "Q 24.125 74.21875 28.421875 74.21875 \n",
       "Q 39.75 74.21875 46.484375 68.546875 \n",
       "Q 53.21875 62.890625 53.21875 53.421875 \n",
       "Q 53.21875 48.921875 51.53125 44.890625 \n",
       "Q 49.859375 40.875 45.40625 35.40625 \n",
       "Q 44.1875 33.984375 37.640625 27.21875 \n",
       "Q 31.109375 20.453125 19.1875 8.296875 \n",
       "z\n",
       "\" id=\"DejaVuSans-50\"/>\n",
       "     </defs>\n",
       "     <g transform=\"translate(57.339 138.913777)scale(0.1625 -0.1625)\">\n",
       "      <use xlink:href=\"#DejaVuSans-Oblique-113\"/>\n",
       "      <use transform=\"translate(63.476562 -16.40625)scale(0.7)\" xlink:href=\"#DejaVuSans-50\"/>\n",
       "     </g>\n",
       "    </g>\n",
       "   </g>\n",
       "   <g id=\"text_29\">\n",
       "    <g clip-path=\"url(#pb04a39414f)\">\n",
       "     <!-- $q_{3}$ -->\n",
       "     <defs>\n",
       "      <path d=\"M 40.578125 39.3125 \n",
       "Q 47.65625 37.796875 51.625 33 \n",
       "Q 55.609375 28.21875 55.609375 21.1875 \n",
       "Q 55.609375 10.40625 48.1875 4.484375 \n",
       "Q 40.765625 -1.421875 27.09375 -1.421875 \n",
       "Q 22.515625 -1.421875 17.65625 -0.515625 \n",
       "Q 12.796875 0.390625 7.625 2.203125 \n",
       "L 7.625 11.71875 \n",
       "Q 11.71875 9.328125 16.59375 8.109375 \n",
       "Q 21.484375 6.890625 26.8125 6.890625 \n",
       "Q 36.078125 6.890625 40.9375 10.546875 \n",
       "Q 45.796875 14.203125 45.796875 21.1875 \n",
       "Q 45.796875 27.640625 41.28125 31.265625 \n",
       "Q 36.765625 34.90625 28.71875 34.90625 \n",
       "L 20.21875 34.90625 \n",
       "L 20.21875 43.015625 \n",
       "L 29.109375 43.015625 \n",
       "Q 36.375 43.015625 40.234375 45.921875 \n",
       "Q 44.09375 48.828125 44.09375 54.296875 \n",
       "Q 44.09375 59.90625 40.109375 62.90625 \n",
       "Q 36.140625 65.921875 28.71875 65.921875 \n",
       "Q 24.65625 65.921875 20.015625 65.03125 \n",
       "Q 15.375 64.15625 9.8125 62.3125 \n",
       "L 9.8125 71.09375 \n",
       "Q 15.4375 72.65625 20.34375 73.4375 \n",
       "Q 25.25 74.21875 29.59375 74.21875 \n",
       "Q 40.828125 74.21875 47.359375 69.109375 \n",
       "Q 53.90625 64.015625 53.90625 55.328125 \n",
       "Q 53.90625 49.265625 50.4375 45.09375 \n",
       "Q 46.96875 40.921875 40.578125 39.3125 \n",
       "z\n",
       "\" id=\"DejaVuSans-51\"/>\n",
       "     </defs>\n",
       "     <g transform=\"translate(57.339 184.364777)scale(0.1625 -0.1625)\">\n",
       "      <use xlink:href=\"#DejaVuSans-Oblique-113\"/>\n",
       "      <use transform=\"translate(63.476562 -16.40625)scale(0.7)\" xlink:href=\"#DejaVuSans-51\"/>\n",
       "     </g>\n",
       "    </g>\n",
       "   </g>\n",
       "  </g>\n",
       " </g>\n",
       " <defs>\n",
       "  <clipPath id=\"pb04a39414f\">\n",
       "   <rect height=\"199.9844\" width=\"527.2316\" x=\"7.2\" y=\"7.2\"/>\n",
       "  </clipPath>\n",
       " </defs>\n",
       "</svg>\n"
      ],
      "text/plain": [
       "<Figure size 698.32x264.88 with 1 Axes>"
      ]
     },
     "execution_count": 3,
     "metadata": {},
     "output_type": "execute_result"
    }
   ],
   "source": [
    "#Creates the Hadamard test\n",
    "\n",
    "def had_test(gate_type, qubits, ancilla_index, parameters):\n",
    "\n",
    "    circ.h(ancilla_index)\n",
    "\n",
    "    apply_fixed_ansatz(qubits, parameters)\n",
    "\n",
    "    for ie in range (0, len(gate_type[0])):\n",
    "        if (gate_type[0][ie] == 1):\n",
    "            circ.cz(ancilla_index, qubits[ie])\n",
    "\n",
    "    for ie in range (0, len(gate_type[1])):\n",
    "        if (gate_type[1][ie] == 1):\n",
    "            circ.cz(ancilla_index, qubits[ie])\n",
    "    \n",
    "    circ.h(ancilla_index)\n",
    "    \n",
    "circ = QuantumCircuit(4)\n",
    "had_test([[0, 0, 0], [0, 0, 1]], [1, 2, 3], 0, [[1, 1, 1], [1, 1, 1], [1, 1, 1]])\n",
    "circ.draw(output='mpl')"
   ]
  },
  {
   "cell_type": "markdown",
   "metadata": {},
   "source": [
    "The reason why we are applying two different \"gate_types\" is because this represents the pairs of gates shown in the expanded form of $\\langle \\Phi | \\Phi \\rangle$.\n",
    "\n",
    "It is also important to note that for the purposes of this implementation (the systems of equations we will actually be sovling, we are only concerned with the gates $Z$ and $\\mathbb{I}$, so I only include support for these gates (The code includes number \"identifiers\" that signify the application of different gates, $0$ for $\\mathbb{I}$ and $1$ for $Z$).\n",
    "\n",
    "Now, we can move on to the second value we must calculate, which is $|\\langle b | \\Phi \\rangle|^2$. We get:\n",
    "\n",
    "<br>\n",
    "\n",
    "$$|\\langle b | \\Phi \\rangle|^2 \\ = \\ |\\langle b | A V(k) | 0 \\rangle|^2 \\ = \\ |\\langle 0 | U^{\\dagger} A V(k) | 0 \\rangle|^2 \\ = \\ \\langle 0 | U^{\\dagger} A V(k) | 0 \\rangle \\langle 0 | V(k)^{\\dagger} A^{\\dagger} U |0\\rangle$$\n",
    "\n",
    "<br>\n",
    "\n",
    "All we have to do now is the same expansion as before for the product $\\langle 0 | U^{\\dagger} A V(k) | 0 \\rangle \\langle 0 | V(k)^{\\dagger} A^{\\dagger} U |0\\rangle$:\n",
    "\n",
    "<br>\n",
    "\n",
    "$$\\langle 0 | U^{\\dagger} A V(k) | 0 \\rangle^2 \\ = \\ \\displaystyle\\sum_{m} \\displaystyle\\sum_{n} c_m^{*} c_n \\langle 0 | U^{\\dagger} A_n V(k) | 0 \\rangle \\langle 0 | V(k)^{\\dagger} A_m^{\\dagger} U |0\\rangle$$\n",
    "\n",
    "<br>\n",
    "\n",
    "Now, again, for the purposes of this demonstration, we will soon see that all the outputs/expectation values of our implementation will be real, so we have:\n",
    "<br>\n",
    "\n",
    "$$\\Rightarrow \\ \\langle 0 | U^{\\dagger} A V(k) | 0 \\rangle \\ = \\ (\\langle 0 | U^{\\dagger} A V(k) | 0 \\rangle)^{*} \\ = \\ \\langle 0 | V(k)^{\\dagger} A^{\\dagger} U |0\\rangle$$\n",
    "\n",
    "<br>\n",
    "\n",
    "Thus, in this particular implementation:\n",
    "\n",
    "<br>\n",
    "\n",
    "$$|\\langle b | \\Phi \\rangle|^2 \\ = \\ \\displaystyle\\sum_{m} \\displaystyle\\sum_{n} c_m c_n \\langle 0 | U^{\\dagger} A_n V(k) | 0 \\rangle \\langle 0 | U^{\\dagger} A_m V(k) | 0 \\rangle$$\n",
    "\n",
    "<br>\n",
    "\n",
    "There is a sophisticated way of solving for this value, using a newly-proposed subroutine called the **Hadamard Overlap Test** (see cited paper), but for this tutorial, we will just be using a standard Hadamard Test, where we control each matrix. This unfortauntely requires the use of an extra ancilla qubit. We essentially just place a control on each of the gates involved in the ancilla, the $|b\\rangle$ preparation unitary, and the $A_n$ unitaries. We get something like this for the controlled-ansatz:\n"
   ]
  },
  {
   "cell_type": "code",
   "execution_count": 4,
   "metadata": {},
   "outputs": [
    {
     "data": {
      "image/svg+xml": [
       "<?xml version=\"1.0\" encoding=\"utf-8\" standalone=\"no\"?>\n",
       "<!DOCTYPE svg PUBLIC \"-//W3C//DTD SVG 1.1//EN\"\n",
       "  \"http://www.w3.org/Graphics/SVG/1.1/DTD/svg11.dtd\">\n",
       "<!-- Created with matplotlib (https://matplotlib.org/) -->\n",
       "<svg height=\"805.2474pt\" version=\"1.1\" viewBox=\"0 0 1277.02878 805.2474\" width=\"1277.02878pt\" xmlns=\"http://www.w3.org/2000/svg\" xmlns:xlink=\"http://www.w3.org/1999/xlink\">\n",
       " <defs>\n",
       "  <style type=\"text/css\">\n",
       "*{stroke-linecap:butt;stroke-linejoin:round;}\n",
       "  </style>\n",
       " </defs>\n",
       " <g id=\"figure_1\">\n",
       "  <g id=\"patch_1\">\n",
       "   <path d=\"M 0 805.2474 \n",
       "L 1277.02878 805.2474 \n",
       "L 1277.02878 0 \n",
       "L 0 0 \n",
       "z\n",
       "\" style=\"fill:#ffffff;\"/>\n",
       "  </g>\n",
       "  <g id=\"axes_1\">\n",
       "   <g id=\"line2d_1\">\n",
       "    <path clip-path=\"url(#pec84ff1c80)\" d=\"M 106.28318 43.5608 \n",
       "L 1265.28368 43.5608 \n",
       "\" style=\"fill:none;stroke:#000000;stroke-linecap:square;stroke-width:2;\"/>\n",
       "   </g>\n",
       "   <g id=\"line2d_2\">\n",
       "    <path clip-path=\"url(#pec84ff1c80)\" d=\"M 106.28318 89.0118 \n",
       "L 1265.28368 89.0118 \n",
       "\" style=\"fill:none;stroke:#000000;stroke-linecap:square;stroke-width:2;\"/>\n",
       "   </g>\n",
       "   <g id=\"line2d_3\">\n",
       "    <path clip-path=\"url(#pec84ff1c80)\" d=\"M 106.28318 134.4628 \n",
       "L 1265.28368 134.4628 \n",
       "\" style=\"fill:none;stroke:#000000;stroke-linecap:square;stroke-width:2;\"/>\n",
       "   </g>\n",
       "   <g id=\"line2d_4\">\n",
       "    <path clip-path=\"url(#pec84ff1c80)\" d=\"M 106.28318 179.9138 \n",
       "L 1265.28368 179.9138 \n",
       "\" style=\"fill:none;stroke:#000000;stroke-linecap:square;stroke-width:2;\"/>\n",
       "   </g>\n",
       "   <g id=\"line2d_5\">\n",
       "    <path clip-path=\"url(#pec84ff1c80)\" d=\"M 106.28318 225.3648 \n",
       "L 1265.28368 225.3648 \n",
       "\" style=\"fill:none;stroke:#000000;stroke-linecap:square;stroke-width:2;\"/>\n",
       "   </g>\n",
       "   <g id=\"line2d_6\">\n",
       "    <path clip-path=\"url(#pec84ff1c80)\" d=\"M 106.28318 316.2668 \n",
       "L 1265.28368 316.2668 \n",
       "\" style=\"fill:none;stroke:#000000;stroke-linecap:square;stroke-width:2;\"/>\n",
       "   </g>\n",
       "   <g id=\"line2d_7\">\n",
       "    <path clip-path=\"url(#pec84ff1c80)\" d=\"M 106.28318 361.7178 \n",
       "L 1265.28368 361.7178 \n",
       "\" style=\"fill:none;stroke:#000000;stroke-linecap:square;stroke-width:2;\"/>\n",
       "   </g>\n",
       "   <g id=\"line2d_8\">\n",
       "    <path clip-path=\"url(#pec84ff1c80)\" d=\"M 106.28318 407.1688 \n",
       "L 1265.28368 407.1688 \n",
       "\" style=\"fill:none;stroke:#000000;stroke-linecap:square;stroke-width:2;\"/>\n",
       "   </g>\n",
       "   <g id=\"line2d_9\">\n",
       "    <path clip-path=\"url(#pec84ff1c80)\" d=\"M 106.28318 452.6198 \n",
       "L 1265.28368 452.6198 \n",
       "\" style=\"fill:none;stroke:#000000;stroke-linecap:square;stroke-width:2;\"/>\n",
       "   </g>\n",
       "   <g id=\"line2d_10\">\n",
       "    <path clip-path=\"url(#pec84ff1c80)\" d=\"M 106.28318 498.0708 \n",
       "L 1265.28368 498.0708 \n",
       "\" style=\"fill:none;stroke:#000000;stroke-linecap:square;stroke-width:2;\"/>\n",
       "   </g>\n",
       "   <g id=\"line2d_11\">\n",
       "    <path clip-path=\"url(#pec84ff1c80)\" d=\"M 106.28318 588.9728 \n",
       "L 1265.28368 588.9728 \n",
       "\" style=\"fill:none;stroke:#000000;stroke-linecap:square;stroke-width:2;\"/>\n",
       "   </g>\n",
       "   <g id=\"line2d_12\">\n",
       "    <path clip-path=\"url(#pec84ff1c80)\" d=\"M 106.28318 634.4238 \n",
       "L 1265.28368 634.4238 \n",
       "\" style=\"fill:none;stroke:#000000;stroke-linecap:square;stroke-width:2;\"/>\n",
       "   </g>\n",
       "   <g id=\"line2d_13\">\n",
       "    <path clip-path=\"url(#pec84ff1c80)\" d=\"M 106.28318 679.8748 \n",
       "L 1265.28368 679.8748 \n",
       "\" style=\"fill:none;stroke:#000000;stroke-linecap:square;stroke-width:2;\"/>\n",
       "   </g>\n",
       "   <g id=\"line2d_14\">\n",
       "    <path clip-path=\"url(#pec84ff1c80)\" d=\"M 106.28318 725.3258 \n",
       "L 1265.28368 725.3258 \n",
       "\" style=\"fill:none;stroke:#000000;stroke-linecap:square;stroke-width:2;\"/>\n",
       "   </g>\n",
       "   <g id=\"line2d_15\">\n",
       "    <path clip-path=\"url(#pec84ff1c80)\" d=\"M 106.28318 770.7768 \n",
       "L 1265.28368 770.7768 \n",
       "\" style=\"fill:none;stroke:#000000;stroke-linecap:square;stroke-width:2;\"/>\n",
       "   </g>\n",
       "   <g id=\"line2d_16\">\n",
       "    <path clip-path=\"url(#pec84ff1c80)\" d=\"M 219.91068 89.0118 \n",
       "L 219.91068 43.5608 \n",
       "\" style=\"fill:none;stroke:#6fa4ff;stroke-linecap:square;stroke-width:2;\"/>\n",
       "   </g>\n",
       "   <g id=\"line2d_17\">\n",
       "    <path clip-path=\"url(#pec84ff1c80)\" d=\"M 356.26368 89.0118 \n",
       "L 356.26368 43.5608 \n",
       "\" style=\"fill:none;stroke:#6fa4ff;stroke-linecap:square;stroke-width:2;\"/>\n",
       "   </g>\n",
       "   <g id=\"line2d_18\">\n",
       "    <path clip-path=\"url(#pec84ff1c80)\" d=\"M 401.71468 134.4628 \n",
       "L 401.71468 43.5608 \n",
       "\" style=\"fill:none;stroke:#6fa4ff;stroke-linecap:square;stroke-width:2;\"/>\n",
       "   </g>\n",
       "   <g id=\"line2d_19\">\n",
       "    <path clip-path=\"url(#pec84ff1c80)\" d=\"M 538.06768 134.4628 \n",
       "L 538.06768 43.5608 \n",
       "\" style=\"fill:none;stroke:#6fa4ff;stroke-linecap:square;stroke-width:2;\"/>\n",
       "   </g>\n",
       "   <g id=\"line2d_20\">\n",
       "    <path clip-path=\"url(#pec84ff1c80)\" d=\"M 583.51868 179.9138 \n",
       "L 583.51868 43.5608 \n",
       "\" style=\"fill:none;stroke:#6fa4ff;stroke-linecap:square;stroke-width:2;\"/>\n",
       "   </g>\n",
       "   <g id=\"line2d_21\">\n",
       "    <path clip-path=\"url(#pec84ff1c80)\" d=\"M 719.87168 179.9138 \n",
       "L 719.87168 43.5608 \n",
       "\" style=\"fill:none;stroke:#6fa4ff;stroke-linecap:square;stroke-width:2;\"/>\n",
       "   </g>\n",
       "   <g id=\"line2d_22\">\n",
       "    <path clip-path=\"url(#pec84ff1c80)\" d=\"M 765.32268 225.3648 \n",
       "L 765.32268 43.5608 \n",
       "\" style=\"fill:none;stroke:#bb8bff;stroke-linecap:square;stroke-width:2;\"/>\n",
       "   </g>\n",
       "   <g id=\"line2d_23\">\n",
       "    <path clip-path=\"url(#pec84ff1c80)\" d=\"M 810.77368 225.3648 \n",
       "L 810.77368 89.0118 \n",
       "\" style=\"fill:none;stroke:#bb8bff;stroke-linecap:square;stroke-width:2;\"/>\n",
       "   </g>\n",
       "   <g id=\"line2d_24\">\n",
       "    <path clip-path=\"url(#pec84ff1c80)\" d=\"M 856.22468 225.3648 \n",
       "L 856.22468 43.5608 \n",
       "\" style=\"fill:none;stroke:#bb8bff;stroke-linecap:square;stroke-width:2;\"/>\n",
       "   </g>\n",
       "   <g id=\"line2d_25\">\n",
       "    <path clip-path=\"url(#pec84ff1c80)\" d=\"M 901.67568 225.3648 \n",
       "L 901.67568 43.5608 \n",
       "\" style=\"fill:none;stroke:#bb8bff;stroke-linecap:square;stroke-width:2;\"/>\n",
       "   </g>\n",
       "   <g id=\"line2d_26\">\n",
       "    <path clip-path=\"url(#pec84ff1c80)\" d=\"M 969.85218 225.3648 \n",
       "L 969.85218 179.9138 \n",
       "\" style=\"fill:none;stroke:#bb8bff;stroke-linecap:square;stroke-width:2;\"/>\n",
       "   </g>\n",
       "   <g id=\"line2d_27\">\n",
       "    <path clip-path=\"url(#pec84ff1c80)\" d=\"M 1038.02868 225.3648 \n",
       "L 1038.02868 43.5608 \n",
       "\" style=\"fill:none;stroke:#bb8bff;stroke-linecap:square;stroke-width:2;\"/>\n",
       "   </g>\n",
       "   <g id=\"line2d_28\">\n",
       "    <path clip-path=\"url(#pec84ff1c80)\" d=\"M 1174.38168 89.0118 \n",
       "L 1174.38168 43.5608 \n",
       "\" style=\"fill:none;stroke:#6fa4ff;stroke-linecap:square;stroke-width:2;\"/>\n",
       "   </g>\n",
       "   <g id=\"line2d_29\">\n",
       "    <path clip-path=\"url(#pec84ff1c80)\" d=\"M 219.91068 361.7178 \n",
       "L 219.91068 316.2668 \n",
       "\" style=\"fill:none;stroke:#6fa4ff;stroke-linecap:square;stroke-width:2;\"/>\n",
       "   </g>\n",
       "   <g id=\"line2d_30\">\n",
       "    <path clip-path=\"url(#pec84ff1c80)\" d=\"M 265.36168 407.1688 \n",
       "L 265.36168 316.2668 \n",
       "\" style=\"fill:none;stroke:#6fa4ff;stroke-linecap:square;stroke-width:2;\"/>\n",
       "   </g>\n",
       "   <g id=\"line2d_31\">\n",
       "    <path clip-path=\"url(#pec84ff1c80)\" d=\"M 401.71468 407.1688 \n",
       "L 401.71468 316.2668 \n",
       "\" style=\"fill:none;stroke:#6fa4ff;stroke-linecap:square;stroke-width:2;\"/>\n",
       "   </g>\n",
       "   <g id=\"line2d_32\">\n",
       "    <path clip-path=\"url(#pec84ff1c80)\" d=\"M 447.16568 452.6198 \n",
       "L 447.16568 316.2668 \n",
       "\" style=\"fill:none;stroke:#6fa4ff;stroke-linecap:square;stroke-width:2;\"/>\n",
       "   </g>\n",
       "   <g id=\"line2d_33\">\n",
       "    <path clip-path=\"url(#pec84ff1c80)\" d=\"M 583.51868 452.6198 \n",
       "L 583.51868 316.2668 \n",
       "\" style=\"fill:none;stroke:#6fa4ff;stroke-linecap:square;stroke-width:2;\"/>\n",
       "   </g>\n",
       "   <g id=\"line2d_34\">\n",
       "    <path clip-path=\"url(#pec84ff1c80)\" d=\"M 628.96968 498.0708 \n",
       "L 628.96968 316.2668 \n",
       "\" style=\"fill:none;stroke:#bb8bff;stroke-linecap:square;stroke-width:2;\"/>\n",
       "   </g>\n",
       "   <g id=\"line2d_35\">\n",
       "    <path clip-path=\"url(#pec84ff1c80)\" d=\"M 674.42068 498.0708 \n",
       "L 674.42068 407.1688 \n",
       "\" style=\"fill:none;stroke:#bb8bff;stroke-linecap:square;stroke-width:2;\"/>\n",
       "   </g>\n",
       "   <g id=\"line2d_36\">\n",
       "    <path clip-path=\"url(#pec84ff1c80)\" d=\"M 719.87168 498.0708 \n",
       "L 719.87168 316.2668 \n",
       "\" style=\"fill:none;stroke:#bb8bff;stroke-linecap:square;stroke-width:2;\"/>\n",
       "   </g>\n",
       "   <g id=\"line2d_37\">\n",
       "    <path clip-path=\"url(#pec84ff1c80)\" d=\"M 856.22468 498.0708 \n",
       "L 856.22468 316.2668 \n",
       "\" style=\"fill:none;stroke:#bb8bff;stroke-linecap:square;stroke-width:2;\"/>\n",
       "   </g>\n",
       "   <g id=\"line2d_38\">\n",
       "    <path clip-path=\"url(#pec84ff1c80)\" d=\"M 901.67568 498.0708 \n",
       "L 901.67568 452.6198 \n",
       "\" style=\"fill:none;stroke:#bb8bff;stroke-linecap:square;stroke-width:2;\"/>\n",
       "   </g>\n",
       "   <g id=\"line2d_39\">\n",
       "    <path clip-path=\"url(#pec84ff1c80)\" d=\"M 947.12668 498.0708 \n",
       "L 947.12668 316.2668 \n",
       "\" style=\"fill:none;stroke:#bb8bff;stroke-linecap:square;stroke-width:2;\"/>\n",
       "   </g>\n",
       "   <g id=\"line2d_40\">\n",
       "    <path clip-path=\"url(#pec84ff1c80)\" d=\"M 1083.47968 361.7178 \n",
       "L 1083.47968 316.2668 \n",
       "\" style=\"fill:none;stroke:#6fa4ff;stroke-linecap:square;stroke-width:2;\"/>\n",
       "   </g>\n",
       "   <g id=\"line2d_41\">\n",
       "    <path clip-path=\"url(#pec84ff1c80)\" d=\"M 1219.83268 361.7178 \n",
       "L 1219.83268 316.2668 \n",
       "\" style=\"fill:none;stroke:#6fa4ff;stroke-linecap:square;stroke-width:2;\"/>\n",
       "   </g>\n",
       "   <g id=\"line2d_42\">\n",
       "    <path clip-path=\"url(#pec84ff1c80)\" d=\"M 129.00868 679.8748 \n",
       "L 129.00868 588.9728 \n",
       "\" style=\"fill:none;stroke:#6fa4ff;stroke-linecap:square;stroke-width:2;\"/>\n",
       "   </g>\n",
       "   <g id=\"line2d_43\">\n",
       "    <path clip-path=\"url(#pec84ff1c80)\" d=\"M 265.36168 679.8748 \n",
       "L 265.36168 588.9728 \n",
       "\" style=\"fill:none;stroke:#6fa4ff;stroke-linecap:square;stroke-width:2;\"/>\n",
       "   </g>\n",
       "   <g id=\"line2d_44\">\n",
       "    <path clip-path=\"url(#pec84ff1c80)\" d=\"M 310.81268 725.3258 \n",
       "L 310.81268 588.9728 \n",
       "\" style=\"fill:none;stroke:#6fa4ff;stroke-linecap:square;stroke-width:2;\"/>\n",
       "   </g>\n",
       "   <g id=\"line2d_45\">\n",
       "    <path clip-path=\"url(#pec84ff1c80)\" d=\"M 447.16568 725.3258 \n",
       "L 447.16568 588.9728 \n",
       "\" style=\"fill:none;stroke:#6fa4ff;stroke-linecap:square;stroke-width:2;\"/>\n",
       "   </g>\n",
       "   <g id=\"line2d_46\">\n",
       "    <path clip-path=\"url(#pec84ff1c80)\" d=\"M 1270.7378 43.5608 \n",
       "L 1270.7378 225.3648 \n",
       "\" style=\"fill:none;stroke:#000000;stroke-linecap:square;stroke-width:1.5;\"/>\n",
       "   </g>\n",
       "   <g id=\"line2d_47\">\n",
       "    <path clip-path=\"url(#pec84ff1c80)\" style=\"fill:none;stroke:#000000;stroke-linecap:square;stroke-width:1.5;\"/>\n",
       "   </g>\n",
       "   <g id=\"line2d_48\">\n",
       "    <path clip-path=\"url(#pec84ff1c80)\" d=\"M 1270.7378 316.2668 \n",
       "L 1270.7378 498.0708 \n",
       "\" style=\"fill:none;stroke:#000000;stroke-linecap:square;stroke-width:1.5;\"/>\n",
       "   </g>\n",
       "   <g id=\"line2d_49\">\n",
       "    <path clip-path=\"url(#pec84ff1c80)\" style=\"fill:none;stroke:#000000;stroke-linecap:square;stroke-width:1.5;\"/>\n",
       "   </g>\n",
       "   <g id=\"line2d_50\">\n",
       "    <path clip-path=\"url(#pec84ff1c80)\" d=\"M 98.102 316.2668 \n",
       "L 98.102 498.0708 \n",
       "\" style=\"fill:none;stroke:#000000;stroke-linecap:square;stroke-width:1.5;\"/>\n",
       "   </g>\n",
       "   <g id=\"line2d_51\">\n",
       "    <path clip-path=\"url(#pec84ff1c80)\" d=\"M 107.1922 316.2668 \n",
       "L 107.1922 498.0708 \n",
       "\" style=\"fill:none;stroke:#000000;stroke-linecap:square;stroke-width:1.5;\"/>\n",
       "   </g>\n",
       "   <g id=\"line2d_52\">\n",
       "    <path clip-path=\"url(#pec84ff1c80)\" d=\"M 98.102 588.9728 \n",
       "L 98.102 770.7768 \n",
       "\" style=\"fill:none;stroke:#000000;stroke-linecap:square;stroke-width:1.5;\"/>\n",
       "   </g>\n",
       "   <g id=\"line2d_53\">\n",
       "    <path clip-path=\"url(#pec84ff1c80)\" d=\"M 107.1922 588.9728 \n",
       "L 107.1922 770.7768 \n",
       "\" style=\"fill:none;stroke:#000000;stroke-linecap:square;stroke-width:1.5;\"/>\n",
       "   </g>\n",
       "   <g id=\"patch_2\">\n",
       "    <path clip-path=\"url(#pec84ff1c80)\" d=\"M 131.792554 103.783375 \n",
       "L 171.675806 103.783375 \n",
       "L 171.675806 74.240225 \n",
       "L 131.792554 74.240225 \n",
       "z\n",
       "\" style=\"fill:#fa74a6;\"/>\n",
       "   </g>\n",
       "   <g id=\"patch_3\">\n",
       "    <path clip-path=\"url(#pec84ff1c80)\" d=\"M 131.792554 149.234375 \n",
       "L 171.675806 149.234375 \n",
       "L 171.675806 119.691225 \n",
       "L 131.792554 119.691225 \n",
       "z\n",
       "\" style=\"fill:#fa74a6;\"/>\n",
       "   </g>\n",
       "   <g id=\"patch_4\">\n",
       "    <path clip-path=\"url(#pec84ff1c80)\" d=\"M 131.792554 194.685375 \n",
       "L 171.675806 194.685375 \n",
       "L 171.675806 165.142225 \n",
       "L 131.792554 165.142225 \n",
       "z\n",
       "\" style=\"fill:#fa74a6;\"/>\n",
       "   </g>\n",
       "   <g id=\"patch_5\">\n",
       "    <path clip-path=\"url(#pec84ff1c80)\" d=\"M 219.91068 47.992272 \n",
       "C 221.08592 47.992272 222.213184 47.525345 223.044204 46.694324 \n",
       "C 223.875225 45.863304 224.342153 44.73604 224.342153 43.5608 \n",
       "C 224.342153 42.38556 223.875225 41.258296 223.044204 40.427276 \n",
       "C 222.213184 39.596255 221.08592 39.129327 219.91068 39.129327 \n",
       "C 218.73544 39.129327 217.608176 39.596255 216.777156 40.427276 \n",
       "C 215.946135 41.258296 215.479208 42.38556 215.479208 43.5608 \n",
       "C 215.479208 44.73604 215.946135 45.863304 216.777156 46.694324 \n",
       "C 217.608176 47.525345 218.73544 47.992272 219.91068 47.992272 \n",
       "z\n",
       "\" style=\"fill:#6fa4ff;stroke:#6fa4ff;stroke-linejoin:miter;stroke-width:1.5;\"/>\n",
       "   </g>\n",
       "   <g id=\"patch_6\">\n",
       "    <path clip-path=\"url(#pec84ff1c80)\" d=\"M 219.91068 99.351902 \n",
       "C 222.652907 99.351902 225.283189 98.262404 227.222237 96.323357 \n",
       "C 229.161284 94.384309 230.250783 91.754027 230.250783 89.0118 \n",
       "C 230.250783 86.269573 229.161284 83.639291 227.222237 81.700243 \n",
       "C 225.283189 79.761196 222.652907 78.671697 219.91068 78.671697 \n",
       "C 217.168453 78.671697 214.538171 79.761196 212.599123 81.700243 \n",
       "C 210.660076 83.639291 209.570578 86.269573 209.570578 89.0118 \n",
       "C 209.570578 91.754027 210.660076 94.384309 212.599123 96.323357 \n",
       "C 214.538171 98.262404 217.168453 99.351902 219.91068 99.351902 \n",
       "z\n",
       "\" style=\"fill:#6fa4ff;stroke:#6fa4ff;stroke-linejoin:miter;stroke-width:2;\"/>\n",
       "   </g>\n",
       "   <g id=\"patch_7\">\n",
       "    <path clip-path=\"url(#pec84ff1c80)\" d=\"M 261.498345 103.783375 \n",
       "L 314.676015 103.783375 \n",
       "L 314.676015 74.240225 \n",
       "L 261.498345 74.240225 \n",
       "z\n",
       "\" style=\"fill:#fa74a6;\"/>\n",
       "   </g>\n",
       "   <g id=\"patch_8\">\n",
       "    <path clip-path=\"url(#pec84ff1c80)\" d=\"M 356.26368 47.992272 \n",
       "C 357.43892 47.992272 358.566184 47.525345 359.397204 46.694324 \n",
       "C 360.228225 45.863304 360.695153 44.73604 360.695153 43.5608 \n",
       "C 360.695153 42.38556 360.228225 41.258296 359.397204 40.427276 \n",
       "C 358.566184 39.596255 357.43892 39.129327 356.26368 39.129327 \n",
       "C 355.08844 39.129327 353.961176 39.596255 353.130156 40.427276 \n",
       "C 352.299135 41.258296 351.832208 42.38556 351.832208 43.5608 \n",
       "C 351.832208 44.73604 352.299135 45.863304 353.130156 46.694324 \n",
       "C 353.961176 47.525345 355.08844 47.992272 356.26368 47.992272 \n",
       "z\n",
       "\" style=\"fill:#6fa4ff;stroke:#6fa4ff;stroke-linejoin:miter;stroke-width:1.5;\"/>\n",
       "   </g>\n",
       "   <g id=\"patch_9\">\n",
       "    <path clip-path=\"url(#pec84ff1c80)\" d=\"M 356.26368 99.351902 \n",
       "C 359.005907 99.351902 361.636189 98.262404 363.575237 96.323357 \n",
       "C 365.514284 94.384309 366.603783 91.754027 366.603783 89.0118 \n",
       "C 366.603783 86.269573 365.514284 83.639291 363.575237 81.700243 \n",
       "C 361.636189 79.761196 359.005907 78.671697 356.26368 78.671697 \n",
       "C 353.521453 78.671697 350.891171 79.761196 348.952123 81.700243 \n",
       "C 347.013076 83.639291 345.923578 86.269573 345.923578 89.0118 \n",
       "C 345.923578 91.754027 347.013076 94.384309 348.952123 96.323357 \n",
       "C 350.891171 98.262404 353.521453 99.351902 356.26368 99.351902 \n",
       "z\n",
       "\" style=\"fill:#6fa4ff;stroke:#6fa4ff;stroke-linejoin:miter;stroke-width:2;\"/>\n",
       "   </g>\n",
       "   <g id=\"patch_10\">\n",
       "    <path clip-path=\"url(#pec84ff1c80)\" d=\"M 401.71468 47.992272 \n",
       "C 402.88992 47.992272 404.017184 47.525345 404.848204 46.694324 \n",
       "C 405.679225 45.863304 406.146153 44.73604 406.146153 43.5608 \n",
       "C 406.146153 42.38556 405.679225 41.258296 404.848204 40.427276 \n",
       "C 404.017184 39.596255 402.88992 39.129327 401.71468 39.129327 \n",
       "C 400.53944 39.129327 399.412176 39.596255 398.581156 40.427276 \n",
       "C 397.750135 41.258296 397.283208 42.38556 397.283208 43.5608 \n",
       "C 397.283208 44.73604 397.750135 45.863304 398.581156 46.694324 \n",
       "C 399.412176 47.525345 400.53944 47.992272 401.71468 47.992272 \n",
       "z\n",
       "\" style=\"fill:#6fa4ff;stroke:#6fa4ff;stroke-linejoin:miter;stroke-width:1.5;\"/>\n",
       "   </g>\n",
       "   <g id=\"patch_11\">\n",
       "    <path clip-path=\"url(#pec84ff1c80)\" d=\"M 401.71468 144.802903 \n",
       "C 404.456907 144.802903 407.087189 143.713404 409.026237 141.774357 \n",
       "C 410.965284 139.835309 412.054783 137.205027 412.054783 134.4628 \n",
       "C 412.054783 131.720573 410.965284 129.090291 409.026237 127.151243 \n",
       "C 407.087189 125.212196 404.456907 124.122698 401.71468 124.122698 \n",
       "C 398.972453 124.122698 396.342171 125.212196 394.403123 127.151243 \n",
       "C 392.464076 129.090291 391.374578 131.720573 391.374578 134.4628 \n",
       "C 391.374578 137.205027 392.464076 139.835309 394.403123 141.774357 \n",
       "C 396.342171 143.713404 398.972453 144.802903 401.71468 144.802903 \n",
       "z\n",
       "\" style=\"fill:#6fa4ff;stroke:#6fa4ff;stroke-linejoin:miter;stroke-width:2;\"/>\n",
       "   </g>\n",
       "   <g id=\"patch_12\">\n",
       "    <path clip-path=\"url(#pec84ff1c80)\" d=\"M 443.302345 149.234375 \n",
       "L 496.480015 149.234375 \n",
       "L 496.480015 119.691225 \n",
       "L 443.302345 119.691225 \n",
       "z\n",
       "\" style=\"fill:#fa74a6;\"/>\n",
       "   </g>\n",
       "   <g id=\"patch_13\">\n",
       "    <path clip-path=\"url(#pec84ff1c80)\" d=\"M 538.06768 47.992272 \n",
       "C 539.24292 47.992272 540.370184 47.525345 541.201204 46.694324 \n",
       "C 542.032225 45.863304 542.499153 44.73604 542.499153 43.5608 \n",
       "C 542.499153 42.38556 542.032225 41.258296 541.201204 40.427276 \n",
       "C 540.370184 39.596255 539.24292 39.129327 538.06768 39.129327 \n",
       "C 536.89244 39.129327 535.765176 39.596255 534.934156 40.427276 \n",
       "C 534.103135 41.258296 533.636208 42.38556 533.636208 43.5608 \n",
       "C 533.636208 44.73604 534.103135 45.863304 534.934156 46.694324 \n",
       "C 535.765176 47.525345 536.89244 47.992272 538.06768 47.992272 \n",
       "z\n",
       "\" style=\"fill:#6fa4ff;stroke:#6fa4ff;stroke-linejoin:miter;stroke-width:1.5;\"/>\n",
       "   </g>\n",
       "   <g id=\"patch_14\">\n",
       "    <path clip-path=\"url(#pec84ff1c80)\" d=\"M 538.06768 144.802903 \n",
       "C 540.809907 144.802903 543.440189 143.713404 545.379237 141.774357 \n",
       "C 547.318284 139.835309 548.407783 137.205027 548.407783 134.4628 \n",
       "C 548.407783 131.720573 547.318284 129.090291 545.379237 127.151243 \n",
       "C 543.440189 125.212196 540.809907 124.122698 538.06768 124.122698 \n",
       "C 535.325453 124.122698 532.695171 125.212196 530.756123 127.151243 \n",
       "C 528.817076 129.090291 527.727578 131.720573 527.727578 134.4628 \n",
       "C 527.727578 137.205027 528.817076 139.835309 530.756123 141.774357 \n",
       "C 532.695171 143.713404 535.325453 144.802903 538.06768 144.802903 \n",
       "z\n",
       "\" style=\"fill:#6fa4ff;stroke:#6fa4ff;stroke-linejoin:miter;stroke-width:2;\"/>\n",
       "   </g>\n",
       "   <g id=\"patch_15\">\n",
       "    <path clip-path=\"url(#pec84ff1c80)\" d=\"M 583.51868 47.992272 \n",
       "C 584.69392 47.992272 585.821184 47.525345 586.652204 46.694324 \n",
       "C 587.483225 45.863304 587.950153 44.73604 587.950153 43.5608 \n",
       "C 587.950153 42.38556 587.483225 41.258296 586.652204 40.427276 \n",
       "C 585.821184 39.596255 584.69392 39.129327 583.51868 39.129327 \n",
       "C 582.34344 39.129327 581.216176 39.596255 580.385156 40.427276 \n",
       "C 579.554135 41.258296 579.087207 42.38556 579.087207 43.5608 \n",
       "C 579.087207 44.73604 579.554135 45.863304 580.385156 46.694324 \n",
       "C 581.216176 47.525345 582.34344 47.992272 583.51868 47.992272 \n",
       "z\n",
       "\" style=\"fill:#6fa4ff;stroke:#6fa4ff;stroke-linejoin:miter;stroke-width:1.5;\"/>\n",
       "   </g>\n",
       "   <g id=\"patch_16\">\n",
       "    <path clip-path=\"url(#pec84ff1c80)\" d=\"M 583.51868 190.253902 \n",
       "C 586.260907 190.253902 588.891189 189.164404 590.830237 187.225357 \n",
       "C 592.769284 185.286309 593.858782 182.656027 593.858782 179.9138 \n",
       "C 593.858782 177.171573 592.769284 174.541291 590.830237 172.602243 \n",
       "C 588.891189 170.663196 586.260907 169.573697 583.51868 169.573697 \n",
       "C 580.776453 169.573697 578.146171 170.663196 576.207123 172.602243 \n",
       "C 574.268076 174.541291 573.178578 177.171573 573.178578 179.9138 \n",
       "C 573.178578 182.656027 574.268076 185.286309 576.207123 187.225357 \n",
       "C 578.146171 189.164404 580.776453 190.253902 583.51868 190.253902 \n",
       "z\n",
       "\" style=\"fill:#6fa4ff;stroke:#6fa4ff;stroke-linejoin:miter;stroke-width:2;\"/>\n",
       "   </g>\n",
       "   <g id=\"patch_17\">\n",
       "    <path clip-path=\"url(#pec84ff1c80)\" d=\"M 625.106345 194.685375 \n",
       "L 678.284015 194.685375 \n",
       "L 678.284015 165.142225 \n",
       "L 625.106345 165.142225 \n",
       "z\n",
       "\" style=\"fill:#fa74a6;\"/>\n",
       "   </g>\n",
       "   <g id=\"patch_18\">\n",
       "    <path clip-path=\"url(#pec84ff1c80)\" d=\"M 719.87168 47.992272 \n",
       "C 721.04692 47.992272 722.174184 47.525345 723.005204 46.694324 \n",
       "C 723.836225 45.863304 724.303153 44.73604 724.303153 43.5608 \n",
       "C 724.303153 42.38556 723.836225 41.258296 723.005204 40.427276 \n",
       "C 722.174184 39.596255 721.04692 39.129327 719.87168 39.129327 \n",
       "C 718.69644 39.129327 717.569176 39.596255 716.738156 40.427276 \n",
       "C 715.907135 41.258296 715.440208 42.38556 715.440208 43.5608 \n",
       "C 715.440208 44.73604 715.907135 45.863304 716.738156 46.694324 \n",
       "C 717.569176 47.525345 718.69644 47.992272 719.87168 47.992272 \n",
       "z\n",
       "\" style=\"fill:#6fa4ff;stroke:#6fa4ff;stroke-linejoin:miter;stroke-width:1.5;\"/>\n",
       "   </g>\n",
       "   <g id=\"patch_19\">\n",
       "    <path clip-path=\"url(#pec84ff1c80)\" d=\"M 719.87168 190.253902 \n",
       "C 722.613907 190.253902 725.244189 189.164404 727.183237 187.225357 \n",
       "C 729.122284 185.286309 730.211783 182.656027 730.211783 179.9138 \n",
       "C 730.211783 177.171573 729.122284 174.541291 727.183237 172.602243 \n",
       "C 725.244189 170.663196 722.613907 169.573697 719.87168 169.573697 \n",
       "C 717.129453 169.573697 714.499171 170.663196 712.560123 172.602243 \n",
       "C 710.621076 174.541291 709.531578 177.171573 709.531578 179.9138 \n",
       "C 709.531578 182.656027 710.621076 185.286309 712.560123 187.225357 \n",
       "C 714.499171 189.164404 717.129453 190.253902 719.87168 190.253902 \n",
       "z\n",
       "\" style=\"fill:#6fa4ff;stroke:#6fa4ff;stroke-linejoin:miter;stroke-width:2;\"/>\n",
       "   </g>\n",
       "   <g id=\"patch_20\">\n",
       "    <path clip-path=\"url(#pec84ff1c80)\" d=\"M 765.32268 47.992272 \n",
       "C 766.49792 47.992272 767.625184 47.525345 768.456204 46.694324 \n",
       "C 769.287225 45.863304 769.754153 44.73604 769.754153 43.5608 \n",
       "C 769.754153 42.38556 769.287225 41.258296 768.456204 40.427276 \n",
       "C 767.625184 39.596255 766.49792 39.129327 765.32268 39.129327 \n",
       "C 764.14744 39.129327 763.020176 39.596255 762.189156 40.427276 \n",
       "C 761.358135 41.258296 760.891208 42.38556 760.891208 43.5608 \n",
       "C 760.891208 44.73604 761.358135 45.863304 762.189156 46.694324 \n",
       "C 763.020176 47.525345 764.14744 47.992272 765.32268 47.992272 \n",
       "z\n",
       "\" style=\"fill:#bb8bff;stroke:#bb8bff;stroke-linejoin:miter;stroke-width:1.5;\"/>\n",
       "   </g>\n",
       "   <g id=\"patch_21\">\n",
       "    <path clip-path=\"url(#pec84ff1c80)\" d=\"M 765.32268 138.894273 \n",
       "C 766.49792 138.894273 767.625184 138.427345 768.456204 137.596324 \n",
       "C 769.287225 136.765304 769.754153 135.63804 769.754153 134.4628 \n",
       "C 769.754153 133.28756 769.287225 132.160296 768.456204 131.329276 \n",
       "C 767.625184 130.498255 766.49792 130.031328 765.32268 130.031328 \n",
       "C 764.14744 130.031328 763.020176 130.498255 762.189156 131.329276 \n",
       "C 761.358135 132.160296 760.891208 133.28756 760.891208 134.4628 \n",
       "C 760.891208 135.63804 761.358135 136.765304 762.189156 137.596324 \n",
       "C 763.020176 138.427345 764.14744 138.894273 765.32268 138.894273 \n",
       "z\n",
       "\" style=\"fill:#bb8bff;stroke:#bb8bff;stroke-linejoin:miter;stroke-width:1.5;\"/>\n",
       "   </g>\n",
       "   <g id=\"patch_22\">\n",
       "    <path clip-path=\"url(#pec84ff1c80)\" d=\"M 765.32268 235.704902 \n",
       "C 768.064907 235.704902 770.695189 234.615404 772.634237 232.676357 \n",
       "C 774.573284 230.737309 775.662783 228.107027 775.662783 225.3648 \n",
       "C 775.662783 222.622573 774.573284 219.992291 772.634237 218.053243 \n",
       "C 770.695189 216.114196 768.064907 215.024697 765.32268 215.024697 \n",
       "C 762.580453 215.024697 759.950171 216.114196 758.011123 218.053243 \n",
       "C 756.072076 219.992291 754.982578 222.622573 754.982578 225.3648 \n",
       "C 754.982578 228.107027 756.072076 230.737309 758.011123 232.676357 \n",
       "C 759.950171 234.615404 762.580453 235.704902 765.32268 235.704902 \n",
       "z\n",
       "\" style=\"fill:#bb8bff;stroke:#bb8bff;stroke-linejoin:miter;stroke-width:2;\"/>\n",
       "   </g>\n",
       "   <g id=\"patch_23\">\n",
       "    <path clip-path=\"url(#pec84ff1c80)\" d=\"M 810.77368 93.443272 \n",
       "C 811.94892 93.443272 813.076184 92.976345 813.907204 92.145324 \n",
       "C 814.738225 91.314304 815.205153 90.18704 815.205153 89.0118 \n",
       "C 815.205153 87.83656 814.738225 86.709296 813.907204 85.878276 \n",
       "C 813.076184 85.047255 811.94892 84.580327 810.77368 84.580327 \n",
       "C 809.59844 84.580327 808.471176 85.047255 807.640156 85.878276 \n",
       "C 806.809135 86.709296 806.342208 87.83656 806.342208 89.0118 \n",
       "C 806.342208 90.18704 806.809135 91.314304 807.640156 92.145324 \n",
       "C 808.471176 92.976345 809.59844 93.443272 810.77368 93.443272 \n",
       "z\n",
       "\" style=\"fill:#bb8bff;stroke:#bb8bff;stroke-linejoin:miter;stroke-width:1.5;\"/>\n",
       "   </g>\n",
       "   <g id=\"patch_24\">\n",
       "    <path clip-path=\"url(#pec84ff1c80)\" d=\"M 796.002105 240.136375 \n",
       "L 825.545255 240.136375 \n",
       "L 825.545255 210.593225 \n",
       "L 796.002105 210.593225 \n",
       "z\n",
       "\" style=\"fill:#bb8bff;\"/>\n",
       "   </g>\n",
       "   <g id=\"patch_25\">\n",
       "    <path clip-path=\"url(#pec84ff1c80)\" d=\"M 856.22468 47.992272 \n",
       "C 857.39992 47.992272 858.527184 47.525345 859.358204 46.694324 \n",
       "C 860.189225 45.863304 860.656153 44.73604 860.656153 43.5608 \n",
       "C 860.656153 42.38556 860.189225 41.258296 859.358204 40.427276 \n",
       "C 858.527184 39.596255 857.39992 39.129327 856.22468 39.129327 \n",
       "C 855.04944 39.129327 853.922176 39.596255 853.091156 40.427276 \n",
       "C 852.260135 41.258296 851.793207 42.38556 851.793207 43.5608 \n",
       "C 851.793207 44.73604 852.260135 45.863304 853.091156 46.694324 \n",
       "C 853.922176 47.525345 855.04944 47.992272 856.22468 47.992272 \n",
       "z\n",
       "\" style=\"fill:#bb8bff;stroke:#bb8bff;stroke-linejoin:miter;stroke-width:1.5;\"/>\n",
       "   </g>\n",
       "   <g id=\"patch_26\">\n",
       "    <path clip-path=\"url(#pec84ff1c80)\" d=\"M 856.22468 138.894273 \n",
       "C 857.39992 138.894273 858.527184 138.427345 859.358204 137.596324 \n",
       "C 860.189225 136.765304 860.656153 135.63804 860.656153 134.4628 \n",
       "C 860.656153 133.28756 860.189225 132.160296 859.358204 131.329276 \n",
       "C 858.527184 130.498255 857.39992 130.031328 856.22468 130.031328 \n",
       "C 855.04944 130.031328 853.922176 130.498255 853.091156 131.329276 \n",
       "C 852.260135 132.160296 851.793207 133.28756 851.793207 134.4628 \n",
       "C 851.793207 135.63804 852.260135 136.765304 853.091156 137.596324 \n",
       "C 853.922176 138.427345 855.04944 138.894273 856.22468 138.894273 \n",
       "z\n",
       "\" style=\"fill:#bb8bff;stroke:#bb8bff;stroke-linejoin:miter;stroke-width:1.5;\"/>\n",
       "   </g>\n",
       "   <g id=\"patch_27\">\n",
       "    <path clip-path=\"url(#pec84ff1c80)\" d=\"M 856.22468 235.704902 \n",
       "C 858.966907 235.704902 861.597189 234.615404 863.536237 232.676357 \n",
       "C 865.475284 230.737309 866.564782 228.107027 866.564782 225.3648 \n",
       "C 866.564782 222.622573 865.475284 219.992291 863.536237 218.053243 \n",
       "C 861.597189 216.114196 858.966907 215.024697 856.22468 215.024697 \n",
       "C 853.482453 215.024697 850.852171 216.114196 848.913123 218.053243 \n",
       "C 846.974076 219.992291 845.884578 222.622573 845.884578 225.3648 \n",
       "C 845.884578 228.107027 846.974076 230.737309 848.913123 232.676357 \n",
       "C 850.852171 234.615404 853.482453 235.704902 856.22468 235.704902 \n",
       "z\n",
       "\" style=\"fill:#bb8bff;stroke:#bb8bff;stroke-linejoin:miter;stroke-width:2;\"/>\n",
       "   </g>\n",
       "   <g id=\"patch_28\">\n",
       "    <path clip-path=\"url(#pec84ff1c80)\" d=\"M 901.67568 47.992272 \n",
       "C 902.85092 47.992272 903.978184 47.525345 904.809204 46.694324 \n",
       "C 905.640225 45.863304 906.107153 44.73604 906.107153 43.5608 \n",
       "C 906.107153 42.38556 905.640225 41.258296 904.809204 40.427276 \n",
       "C 903.978184 39.596255 902.85092 39.129327 901.67568 39.129327 \n",
       "C 900.50044 39.129327 899.373176 39.596255 898.542156 40.427276 \n",
       "C 897.711135 41.258296 897.244208 42.38556 897.244208 43.5608 \n",
       "C 897.244208 44.73604 897.711135 45.863304 898.542156 46.694324 \n",
       "C 899.373176 47.525345 900.50044 47.992272 901.67568 47.992272 \n",
       "z\n",
       "\" style=\"fill:#bb8bff;stroke:#bb8bff;stroke-linejoin:miter;stroke-width:1.5;\"/>\n",
       "   </g>\n",
       "   <g id=\"patch_29\">\n",
       "    <path clip-path=\"url(#pec84ff1c80)\" d=\"M 901.67568 93.443272 \n",
       "C 902.85092 93.443272 903.978184 92.976345 904.809204 92.145324 \n",
       "C 905.640225 91.314304 906.107153 90.18704 906.107153 89.0118 \n",
       "C 906.107153 87.83656 905.640225 86.709296 904.809204 85.878276 \n",
       "C 903.978184 85.047255 902.85092 84.580327 901.67568 84.580327 \n",
       "C 900.50044 84.580327 899.373176 85.047255 898.542156 85.878276 \n",
       "C 897.711135 86.709296 897.244208 87.83656 897.244208 89.0118 \n",
       "C 897.244208 90.18704 897.711135 91.314304 898.542156 92.145324 \n",
       "C 899.373176 92.976345 900.50044 93.443272 901.67568 93.443272 \n",
       "z\n",
       "\" style=\"fill:#bb8bff;stroke:#bb8bff;stroke-linejoin:miter;stroke-width:1.5;\"/>\n",
       "   </g>\n",
       "   <g id=\"patch_30\">\n",
       "    <path clip-path=\"url(#pec84ff1c80)\" d=\"M 901.67568 235.704902 \n",
       "C 904.417907 235.704902 907.048189 234.615404 908.987237 232.676357 \n",
       "C 910.926284 230.737309 912.015783 228.107027 912.015783 225.3648 \n",
       "C 912.015783 222.622573 910.926284 219.992291 908.987237 218.053243 \n",
       "C 907.048189 216.114196 904.417907 215.024697 901.67568 215.024697 \n",
       "C 898.933453 215.024697 896.303171 216.114196 894.364123 218.053243 \n",
       "C 892.425076 219.992291 891.335578 222.622573 891.335578 225.3648 \n",
       "C 891.335578 228.107027 892.425076 230.737309 894.364123 232.676357 \n",
       "C 896.303171 234.615404 898.933453 235.704902 901.67568 235.704902 \n",
       "z\n",
       "\" style=\"fill:#bb8bff;stroke:#bb8bff;stroke-linejoin:miter;stroke-width:2;\"/>\n",
       "   </g>\n",
       "   <g id=\"patch_31\">\n",
       "    <path clip-path=\"url(#pec84ff1c80)\" d=\"M 949.910554 149.234375 \n",
       "L 989.793806 149.234375 \n",
       "L 989.793806 119.691225 \n",
       "L 949.910554 119.691225 \n",
       "z\n",
       "\" style=\"fill:#fa74a6;\"/>\n",
       "   </g>\n",
       "   <g id=\"patch_32\">\n",
       "    <path clip-path=\"url(#pec84ff1c80)\" d=\"M 969.85218 184.345272 \n",
       "C 971.02742 184.345272 972.154684 183.878345 972.985704 183.047324 \n",
       "C 973.816725 182.216304 974.283653 181.08904 974.283653 179.9138 \n",
       "C 974.283653 178.73856 973.816725 177.611296 972.985704 176.780276 \n",
       "C 972.154684 175.949255 971.02742 175.482327 969.85218 175.482327 \n",
       "C 968.67694 175.482327 967.549676 175.949255 966.718656 176.780276 \n",
       "C 965.887635 177.611296 965.420708 178.73856 965.420708 179.9138 \n",
       "C 965.420708 181.08904 965.887635 182.216304 966.718656 183.047324 \n",
       "C 967.549676 183.878345 968.67694 184.345272 969.85218 184.345272 \n",
       "z\n",
       "\" style=\"fill:#bb8bff;stroke:#bb8bff;stroke-linejoin:miter;stroke-width:1.5;\"/>\n",
       "   </g>\n",
       "   <g id=\"patch_33\">\n",
       "    <path clip-path=\"url(#pec84ff1c80)\" d=\"M 955.080605 240.136375 \n",
       "L 984.623755 240.136375 \n",
       "L 984.623755 210.593225 \n",
       "L 955.080605 210.593225 \n",
       "z\n",
       "\" style=\"fill:#bb8bff;\"/>\n",
       "   </g>\n",
       "   <g id=\"patch_34\">\n",
       "    <path clip-path=\"url(#pec84ff1c80)\" d=\"M 1038.02868 47.992272 \n",
       "C 1039.20392 47.992272 1040.331184 47.525345 1041.162204 46.694324 \n",
       "C 1041.993225 45.863304 1042.460153 44.73604 1042.460153 43.5608 \n",
       "C 1042.460153 42.38556 1041.993225 41.258296 1041.162204 40.427276 \n",
       "C 1040.331184 39.596255 1039.20392 39.129327 1038.02868 39.129327 \n",
       "C 1036.85344 39.129327 1035.726176 39.596255 1034.895156 40.427276 \n",
       "C 1034.064135 41.258296 1033.597208 42.38556 1033.597208 43.5608 \n",
       "C 1033.597208 44.73604 1034.064135 45.863304 1034.895156 46.694324 \n",
       "C 1035.726176 47.525345 1036.85344 47.992272 1038.02868 47.992272 \n",
       "z\n",
       "\" style=\"fill:#bb8bff;stroke:#bb8bff;stroke-linejoin:miter;stroke-width:1.5;\"/>\n",
       "   </g>\n",
       "   <g id=\"patch_35\">\n",
       "    <path clip-path=\"url(#pec84ff1c80)\" d=\"M 1038.02868 93.443272 \n",
       "C 1039.20392 93.443272 1040.331184 92.976345 1041.162204 92.145324 \n",
       "C 1041.993225 91.314304 1042.460153 90.18704 1042.460153 89.0118 \n",
       "C 1042.460153 87.83656 1041.993225 86.709296 1041.162204 85.878276 \n",
       "C 1040.331184 85.047255 1039.20392 84.580327 1038.02868 84.580327 \n",
       "C 1036.85344 84.580327 1035.726176 85.047255 1034.895156 85.878276 \n",
       "C 1034.064135 86.709296 1033.597208 87.83656 1033.597208 89.0118 \n",
       "C 1033.597208 90.18704 1034.064135 91.314304 1034.895156 92.145324 \n",
       "C 1035.726176 92.976345 1036.85344 93.443272 1038.02868 93.443272 \n",
       "z\n",
       "\" style=\"fill:#bb8bff;stroke:#bb8bff;stroke-linejoin:miter;stroke-width:1.5;\"/>\n",
       "   </g>\n",
       "   <g id=\"patch_36\">\n",
       "    <path clip-path=\"url(#pec84ff1c80)\" d=\"M 1038.02868 235.704902 \n",
       "C 1040.770907 235.704902 1043.401189 234.615404 1045.340237 232.676357 \n",
       "C 1047.279284 230.737309 1048.368783 228.107027 1048.368783 225.3648 \n",
       "C 1048.368783 222.622573 1047.279284 219.992291 1045.340237 218.053243 \n",
       "C 1043.401189 216.114196 1040.770907 215.024697 1038.02868 215.024697 \n",
       "C 1035.286453 215.024697 1032.656171 216.114196 1030.717123 218.053243 \n",
       "C 1028.778076 219.992291 1027.688578 222.622573 1027.688578 225.3648 \n",
       "C 1027.688578 228.107027 1028.778076 230.737309 1030.717123 232.676357 \n",
       "C 1032.656171 234.615404 1035.286453 235.704902 1038.02868 235.704902 \n",
       "z\n",
       "\" style=\"fill:#bb8bff;stroke:#bb8bff;stroke-linejoin:miter;stroke-width:2;\"/>\n",
       "   </g>\n",
       "   <g id=\"patch_37\">\n",
       "    <path clip-path=\"url(#pec84ff1c80)\" d=\"M 1086.263554 194.685375 \n",
       "L 1126.146806 194.685375 \n",
       "L 1126.146806 165.142225 \n",
       "L 1086.263554 165.142225 \n",
       "z\n",
       "\" style=\"fill:#fa74a6;\"/>\n",
       "   </g>\n",
       "   <g id=\"patch_38\">\n",
       "    <path clip-path=\"url(#pec84ff1c80)\" d=\"M 1086.263554 103.783375 \n",
       "L 1126.146806 103.783375 \n",
       "L 1126.146806 74.240225 \n",
       "L 1086.263554 74.240225 \n",
       "z\n",
       "\" style=\"fill:#fa74a6;\"/>\n",
       "   </g>\n",
       "   <g id=\"patch_39\">\n",
       "    <path clip-path=\"url(#pec84ff1c80)\" d=\"M 1174.38168 47.992272 \n",
       "C 1175.55692 47.992272 1176.684184 47.525345 1177.515204 46.694324 \n",
       "C 1178.346225 45.863304 1178.813153 44.73604 1178.813153 43.5608 \n",
       "C 1178.813153 42.38556 1178.346225 41.258296 1177.515204 40.427276 \n",
       "C 1176.684184 39.596255 1175.55692 39.129327 1174.38168 39.129327 \n",
       "C 1173.20644 39.129327 1172.079176 39.596255 1171.248156 40.427276 \n",
       "C 1170.417135 41.258296 1169.950208 42.38556 1169.950208 43.5608 \n",
       "C 1169.950208 44.73604 1170.417135 45.863304 1171.248156 46.694324 \n",
       "C 1172.079176 47.525345 1173.20644 47.992272 1174.38168 47.992272 \n",
       "z\n",
       "\" style=\"fill:#6fa4ff;stroke:#6fa4ff;stroke-linejoin:miter;stroke-width:1.5;\"/>\n",
       "   </g>\n",
       "   <g id=\"patch_40\">\n",
       "    <path clip-path=\"url(#pec84ff1c80)\" d=\"M 1174.38168 99.351902 \n",
       "C 1177.123907 99.351902 1179.754189 98.262404 1181.693237 96.323357 \n",
       "C 1183.632284 94.384309 1184.721783 91.754027 1184.721783 89.0118 \n",
       "C 1184.721783 86.269573 1183.632284 83.639291 1181.693237 81.700243 \n",
       "C 1179.754189 79.761196 1177.123907 78.671697 1174.38168 78.671697 \n",
       "C 1171.639453 78.671697 1169.009171 79.761196 1167.070123 81.700243 \n",
       "C 1165.131076 83.639291 1164.041578 86.269573 1164.041578 89.0118 \n",
       "C 1164.041578 91.754027 1165.131076 94.384309 1167.070123 96.323357 \n",
       "C 1169.009171 98.262404 1171.639453 99.351902 1174.38168 99.351902 \n",
       "z\n",
       "\" style=\"fill:#6fa4ff;stroke:#6fa4ff;stroke-linejoin:miter;stroke-width:2;\"/>\n",
       "   </g>\n",
       "   <g id=\"patch_41\">\n",
       "    <path clip-path=\"url(#pec84ff1c80)\" d=\"M 125.145345 376.489375 \n",
       "L 178.323015 376.489375 \n",
       "L 178.323015 346.946225 \n",
       "L 125.145345 346.946225 \n",
       "z\n",
       "\" style=\"fill:#fa74a6;\"/>\n",
       "   </g>\n",
       "   <g id=\"patch_42\">\n",
       "    <path clip-path=\"url(#pec84ff1c80)\" d=\"M 219.91068 320.698272 \n",
       "C 221.08592 320.698272 222.213184 320.231345 223.044204 319.400324 \n",
       "C 223.875225 318.569304 224.342153 317.44204 224.342153 316.2668 \n",
       "C 224.342153 315.09156 223.875225 313.964296 223.044204 313.133276 \n",
       "C 222.213184 312.302255 221.08592 311.835328 219.91068 311.835328 \n",
       "C 218.73544 311.835328 217.608176 312.302255 216.777156 313.133276 \n",
       "C 215.946135 313.964296 215.479208 315.09156 215.479208 316.2668 \n",
       "C 215.479208 317.44204 215.946135 318.569304 216.777156 319.400324 \n",
       "C 217.608176 320.231345 218.73544 320.698272 219.91068 320.698272 \n",
       "z\n",
       "\" style=\"fill:#6fa4ff;stroke:#6fa4ff;stroke-linejoin:miter;stroke-width:1.5;\"/>\n",
       "   </g>\n",
       "   <g id=\"patch_43\">\n",
       "    <path clip-path=\"url(#pec84ff1c80)\" d=\"M 219.91068 372.057902 \n",
       "C 222.652907 372.057902 225.283189 370.968404 227.222237 369.029357 \n",
       "C 229.161284 367.090309 230.250783 364.460027 230.250783 361.7178 \n",
       "C 230.250783 358.975573 229.161284 356.345291 227.222237 354.406243 \n",
       "C 225.283189 352.467196 222.652907 351.377697 219.91068 351.377697 \n",
       "C 217.168453 351.377697 214.538171 352.467196 212.599123 354.406243 \n",
       "C 210.660076 356.345291 209.570578 358.975573 209.570578 361.7178 \n",
       "C 209.570578 364.460027 210.660076 367.090309 212.599123 369.029357 \n",
       "C 214.538171 370.968404 217.168453 372.057902 219.91068 372.057902 \n",
       "z\n",
       "\" style=\"fill:#6fa4ff;stroke:#6fa4ff;stroke-linejoin:miter;stroke-width:2;\"/>\n",
       "   </g>\n",
       "   <g id=\"patch_44\">\n",
       "    <path clip-path=\"url(#pec84ff1c80)\" d=\"M 265.36168 320.698272 \n",
       "C 266.53692 320.698272 267.664184 320.231345 268.495204 319.400324 \n",
       "C 269.326225 318.569304 269.793153 317.44204 269.793153 316.2668 \n",
       "C 269.793153 315.09156 269.326225 313.964296 268.495204 313.133276 \n",
       "C 267.664184 312.302255 266.53692 311.835328 265.36168 311.835328 \n",
       "C 264.18644 311.835328 263.059176 312.302255 262.228156 313.133276 \n",
       "C 261.397135 313.964296 260.930208 315.09156 260.930208 316.2668 \n",
       "C 260.930208 317.44204 261.397135 318.569304 262.228156 319.400324 \n",
       "C 263.059176 320.231345 264.18644 320.698272 265.36168 320.698272 \n",
       "z\n",
       "\" style=\"fill:#6fa4ff;stroke:#6fa4ff;stroke-linejoin:miter;stroke-width:1.5;\"/>\n",
       "   </g>\n",
       "   <g id=\"patch_45\">\n",
       "    <path clip-path=\"url(#pec84ff1c80)\" d=\"M 265.36168 417.508902 \n",
       "C 268.103907 417.508902 270.734189 416.419404 272.673237 414.480357 \n",
       "C 274.612284 412.541309 275.701783 409.911027 275.701783 407.1688 \n",
       "C 275.701783 404.426573 274.612284 401.796291 272.673237 399.857243 \n",
       "C 270.734189 397.918196 268.103907 396.828697 265.36168 396.828697 \n",
       "C 262.619453 396.828697 259.989171 397.918196 258.050123 399.857243 \n",
       "C 256.111076 401.796291 255.021578 404.426573 255.021578 407.1688 \n",
       "C 255.021578 409.911027 256.111076 412.541309 258.050123 414.480357 \n",
       "C 259.989171 416.419404 262.619453 417.508902 265.36168 417.508902 \n",
       "z\n",
       "\" style=\"fill:#6fa4ff;stroke:#6fa4ff;stroke-linejoin:miter;stroke-width:2;\"/>\n",
       "   </g>\n",
       "   <g id=\"patch_46\">\n",
       "    <path clip-path=\"url(#pec84ff1c80)\" d=\"M 306.949345 421.940375 \n",
       "L 360.127015 421.940375 \n",
       "L 360.127015 392.397225 \n",
       "L 306.949345 392.397225 \n",
       "z\n",
       "\" style=\"fill:#fa74a6;\"/>\n",
       "   </g>\n",
       "   <g id=\"patch_47\">\n",
       "    <path clip-path=\"url(#pec84ff1c80)\" d=\"M 401.71468 320.698272 \n",
       "C 402.88992 320.698272 404.017184 320.231345 404.848204 319.400324 \n",
       "C 405.679225 318.569304 406.146153 317.44204 406.146153 316.2668 \n",
       "C 406.146153 315.09156 405.679225 313.964296 404.848204 313.133276 \n",
       "C 404.017184 312.302255 402.88992 311.835328 401.71468 311.835328 \n",
       "C 400.53944 311.835328 399.412176 312.302255 398.581156 313.133276 \n",
       "C 397.750135 313.964296 397.283208 315.09156 397.283208 316.2668 \n",
       "C 397.283208 317.44204 397.750135 318.569304 398.581156 319.400324 \n",
       "C 399.412176 320.231345 400.53944 320.698272 401.71468 320.698272 \n",
       "z\n",
       "\" style=\"fill:#6fa4ff;stroke:#6fa4ff;stroke-linejoin:miter;stroke-width:1.5;\"/>\n",
       "   </g>\n",
       "   <g id=\"patch_48\">\n",
       "    <path clip-path=\"url(#pec84ff1c80)\" d=\"M 401.71468 417.508902 \n",
       "C 404.456907 417.508902 407.087189 416.419404 409.026237 414.480357 \n",
       "C 410.965284 412.541309 412.054783 409.911027 412.054783 407.1688 \n",
       "C 412.054783 404.426573 410.965284 401.796291 409.026237 399.857243 \n",
       "C 407.087189 397.918196 404.456907 396.828697 401.71468 396.828697 \n",
       "C 398.972453 396.828697 396.342171 397.918196 394.403123 399.857243 \n",
       "C 392.464076 401.796291 391.374578 404.426573 391.374578 407.1688 \n",
       "C 391.374578 409.911027 392.464076 412.541309 394.403123 414.480357 \n",
       "C 396.342171 416.419404 398.972453 417.508902 401.71468 417.508902 \n",
       "z\n",
       "\" style=\"fill:#6fa4ff;stroke:#6fa4ff;stroke-linejoin:miter;stroke-width:2;\"/>\n",
       "   </g>\n",
       "   <g id=\"patch_49\">\n",
       "    <path clip-path=\"url(#pec84ff1c80)\" d=\"M 447.16568 320.698272 \n",
       "C 448.34092 320.698272 449.468184 320.231345 450.299204 319.400324 \n",
       "C 451.130225 318.569304 451.597152 317.44204 451.597152 316.2668 \n",
       "C 451.597152 315.09156 451.130225 313.964296 450.299204 313.133276 \n",
       "C 449.468184 312.302255 448.34092 311.835328 447.16568 311.835328 \n",
       "C 445.99044 311.835328 444.863176 312.302255 444.032156 313.133276 \n",
       "C 443.201135 313.964296 442.734208 315.09156 442.734208 316.2668 \n",
       "C 442.734208 317.44204 443.201135 318.569304 444.032156 319.400324 \n",
       "C 444.863176 320.231345 445.99044 320.698272 447.16568 320.698272 \n",
       "z\n",
       "\" style=\"fill:#6fa4ff;stroke:#6fa4ff;stroke-linejoin:miter;stroke-width:1.5;\"/>\n",
       "   </g>\n",
       "   <g id=\"patch_50\">\n",
       "    <path clip-path=\"url(#pec84ff1c80)\" d=\"M 447.16568 462.959902 \n",
       "C 449.907907 462.959902 452.538189 461.870404 454.477237 459.931357 \n",
       "C 456.416284 457.992309 457.505783 455.362027 457.505783 452.6198 \n",
       "C 457.505783 449.877573 456.416284 447.247291 454.477237 445.308243 \n",
       "C 452.538189 443.369196 449.907907 442.279697 447.16568 442.279697 \n",
       "C 444.423453 442.279697 441.793171 443.369196 439.854123 445.308243 \n",
       "C 437.915076 447.247291 436.825578 449.877573 436.825578 452.6198 \n",
       "C 436.825578 455.362027 437.915076 457.992309 439.854123 459.931357 \n",
       "C 441.793171 461.870404 444.423453 462.959902 447.16568 462.959902 \n",
       "z\n",
       "\" style=\"fill:#6fa4ff;stroke:#6fa4ff;stroke-linejoin:miter;stroke-width:2;\"/>\n",
       "   </g>\n",
       "   <g id=\"patch_51\">\n",
       "    <path clip-path=\"url(#pec84ff1c80)\" d=\"M 488.753345 467.391375 \n",
       "L 541.931015 467.391375 \n",
       "L 541.931015 437.848225 \n",
       "L 488.753345 437.848225 \n",
       "z\n",
       "\" style=\"fill:#fa74a6;\"/>\n",
       "   </g>\n",
       "   <g id=\"patch_52\">\n",
       "    <path clip-path=\"url(#pec84ff1c80)\" d=\"M 583.51868 320.698272 \n",
       "C 584.69392 320.698272 585.821184 320.231345 586.652204 319.400324 \n",
       "C 587.483225 318.569304 587.950153 317.44204 587.950153 316.2668 \n",
       "C 587.950153 315.09156 587.483225 313.964296 586.652204 313.133276 \n",
       "C 585.821184 312.302255 584.69392 311.835328 583.51868 311.835328 \n",
       "C 582.34344 311.835328 581.216176 312.302255 580.385156 313.133276 \n",
       "C 579.554135 313.964296 579.087207 315.09156 579.087207 316.2668 \n",
       "C 579.087207 317.44204 579.554135 318.569304 580.385156 319.400324 \n",
       "C 581.216176 320.231345 582.34344 320.698272 583.51868 320.698272 \n",
       "z\n",
       "\" style=\"fill:#6fa4ff;stroke:#6fa4ff;stroke-linejoin:miter;stroke-width:1.5;\"/>\n",
       "   </g>\n",
       "   <g id=\"patch_53\">\n",
       "    <path clip-path=\"url(#pec84ff1c80)\" d=\"M 583.51868 462.959902 \n",
       "C 586.260907 462.959902 588.891189 461.870404 590.830237 459.931357 \n",
       "C 592.769284 457.992309 593.858782 455.362027 593.858782 452.6198 \n",
       "C 593.858782 449.877573 592.769284 447.247291 590.830237 445.308243 \n",
       "C 588.891189 443.369196 586.260907 442.279697 583.51868 442.279697 \n",
       "C 580.776453 442.279697 578.146171 443.369196 576.207123 445.308243 \n",
       "C 574.268076 447.247291 573.178578 449.877573 573.178578 452.6198 \n",
       "C 573.178578 455.362027 574.268076 457.992309 576.207123 459.931357 \n",
       "C 578.146171 461.870404 580.776453 462.959902 583.51868 462.959902 \n",
       "z\n",
       "\" style=\"fill:#6fa4ff;stroke:#6fa4ff;stroke-linejoin:miter;stroke-width:2;\"/>\n",
       "   </g>\n",
       "   <g id=\"patch_54\">\n",
       "    <path clip-path=\"url(#pec84ff1c80)\" d=\"M 628.96968 320.698272 \n",
       "C 630.14492 320.698272 631.272184 320.231345 632.103204 319.400324 \n",
       "C 632.934225 318.569304 633.401153 317.44204 633.401153 316.2668 \n",
       "C 633.401153 315.09156 632.934225 313.964296 632.103204 313.133276 \n",
       "C 631.272184 312.302255 630.14492 311.835328 628.96968 311.835328 \n",
       "C 627.79444 311.835328 626.667176 312.302255 625.836156 313.133276 \n",
       "C 625.005135 313.964296 624.538207 315.09156 624.538207 316.2668 \n",
       "C 624.538207 317.44204 625.005135 318.569304 625.836156 319.400324 \n",
       "C 626.667176 320.231345 627.79444 320.698272 628.96968 320.698272 \n",
       "z\n",
       "\" style=\"fill:#bb8bff;stroke:#bb8bff;stroke-linejoin:miter;stroke-width:1.5;\"/>\n",
       "   </g>\n",
       "   <g id=\"patch_55\">\n",
       "    <path clip-path=\"url(#pec84ff1c80)\" d=\"M 628.96968 457.051272 \n",
       "C 630.14492 457.051272 631.272184 456.584345 632.103204 455.753324 \n",
       "C 632.934225 454.922304 633.401153 453.79504 633.401153 452.6198 \n",
       "C 633.401153 451.44456 632.934225 450.317296 632.103204 449.486276 \n",
       "C 631.272184 448.655255 630.14492 448.188328 628.96968 448.188328 \n",
       "C 627.79444 448.188328 626.667176 448.655255 625.836156 449.486276 \n",
       "C 625.005135 450.317296 624.538207 451.44456 624.538207 452.6198 \n",
       "C 624.538207 453.79504 625.005135 454.922304 625.836156 455.753324 \n",
       "C 626.667176 456.584345 627.79444 457.051272 628.96968 457.051272 \n",
       "z\n",
       "\" style=\"fill:#bb8bff;stroke:#bb8bff;stroke-linejoin:miter;stroke-width:1.5;\"/>\n",
       "   </g>\n",
       "   <g id=\"patch_56\">\n",
       "    <path clip-path=\"url(#pec84ff1c80)\" d=\"M 628.96968 508.410902 \n",
       "C 631.711907 508.410902 634.342189 507.321404 636.281237 505.382357 \n",
       "C 638.220284 503.443309 639.309782 500.813027 639.309782 498.0708 \n",
       "C 639.309782 495.328573 638.220284 492.698291 636.281237 490.759243 \n",
       "C 634.342189 488.820196 631.711907 487.730697 628.96968 487.730697 \n",
       "C 626.227453 487.730697 623.597171 488.820196 621.658123 490.759243 \n",
       "C 619.719076 492.698291 618.629578 495.328573 618.629578 498.0708 \n",
       "C 618.629578 500.813027 619.719076 503.443309 621.658123 505.382357 \n",
       "C 623.597171 507.321404 626.227453 508.410902 628.96968 508.410902 \n",
       "z\n",
       "\" style=\"fill:#bb8bff;stroke:#bb8bff;stroke-linejoin:miter;stroke-width:2;\"/>\n",
       "   </g>\n",
       "   <g id=\"patch_57\">\n",
       "    <path clip-path=\"url(#pec84ff1c80)\" d=\"M 674.42068 411.600272 \n",
       "C 675.59592 411.600272 676.723184 411.133345 677.554204 410.302324 \n",
       "C 678.385225 409.471304 678.852153 408.34404 678.852153 407.1688 \n",
       "C 678.852153 405.99356 678.385225 404.866296 677.554204 404.035276 \n",
       "C 676.723184 403.204255 675.59592 402.737327 674.42068 402.737327 \n",
       "C 673.24544 402.737327 672.118176 403.204255 671.287156 404.035276 \n",
       "C 670.456135 404.866296 669.989208 405.99356 669.989208 407.1688 \n",
       "C 669.989208 408.34404 670.456135 409.471304 671.287156 410.302324 \n",
       "C 672.118176 411.133345 673.24544 411.600272 674.42068 411.600272 \n",
       "z\n",
       "\" style=\"fill:#bb8bff;stroke:#bb8bff;stroke-linejoin:miter;stroke-width:1.5;\"/>\n",
       "   </g>\n",
       "   <g id=\"patch_58\">\n",
       "    <path clip-path=\"url(#pec84ff1c80)\" d=\"M 659.649105 512.842375 \n",
       "L 689.192255 512.842375 \n",
       "L 689.192255 483.299225 \n",
       "L 659.649105 483.299225 \n",
       "z\n",
       "\" style=\"fill:#bb8bff;\"/>\n",
       "   </g>\n",
       "   <g id=\"patch_59\">\n",
       "    <path clip-path=\"url(#pec84ff1c80)\" d=\"M 719.87168 320.698272 \n",
       "C 721.04692 320.698272 722.174184 320.231345 723.005204 319.400324 \n",
       "C 723.836225 318.569304 724.303153 317.44204 724.303153 316.2668 \n",
       "C 724.303153 315.09156 723.836225 313.964296 723.005204 313.133276 \n",
       "C 722.174184 312.302255 721.04692 311.835328 719.87168 311.835328 \n",
       "C 718.69644 311.835328 717.569176 312.302255 716.738156 313.133276 \n",
       "C 715.907135 313.964296 715.440208 315.09156 715.440208 316.2668 \n",
       "C 715.440208 317.44204 715.907135 318.569304 716.738156 319.400324 \n",
       "C 717.569176 320.231345 718.69644 320.698272 719.87168 320.698272 \n",
       "z\n",
       "\" style=\"fill:#bb8bff;stroke:#bb8bff;stroke-linejoin:miter;stroke-width:1.5;\"/>\n",
       "   </g>\n",
       "   <g id=\"patch_60\">\n",
       "    <path clip-path=\"url(#pec84ff1c80)\" d=\"M 719.87168 457.051272 \n",
       "C 721.04692 457.051272 722.174184 456.584345 723.005204 455.753324 \n",
       "C 723.836225 454.922304 724.303153 453.79504 724.303153 452.6198 \n",
       "C 724.303153 451.44456 723.836225 450.317296 723.005204 449.486276 \n",
       "C 722.174184 448.655255 721.04692 448.188328 719.87168 448.188328 \n",
       "C 718.69644 448.188328 717.569176 448.655255 716.738156 449.486276 \n",
       "C 715.907135 450.317296 715.440208 451.44456 715.440208 452.6198 \n",
       "C 715.440208 453.79504 715.907135 454.922304 716.738156 455.753324 \n",
       "C 717.569176 456.584345 718.69644 457.051272 719.87168 457.051272 \n",
       "z\n",
       "\" style=\"fill:#bb8bff;stroke:#bb8bff;stroke-linejoin:miter;stroke-width:1.5;\"/>\n",
       "   </g>\n",
       "   <g id=\"patch_61\">\n",
       "    <path clip-path=\"url(#pec84ff1c80)\" d=\"M 719.87168 508.410902 \n",
       "C 722.613907 508.410902 725.244189 507.321404 727.183237 505.382357 \n",
       "C 729.122284 503.443309 730.211783 500.813027 730.211783 498.0708 \n",
       "C 730.211783 495.328573 729.122284 492.698291 727.183237 490.759243 \n",
       "C 725.244189 488.820196 722.613907 487.730697 719.87168 487.730697 \n",
       "C 717.129453 487.730697 714.499171 488.820196 712.560123 490.759243 \n",
       "C 710.621076 492.698291 709.531578 495.328573 709.531578 498.0708 \n",
       "C 709.531578 500.813027 710.621076 503.443309 712.560123 505.382357 \n",
       "C 714.499171 507.321404 717.129453 508.410902 719.87168 508.410902 \n",
       "z\n",
       "\" style=\"fill:#bb8bff;stroke:#bb8bff;stroke-linejoin:miter;stroke-width:2;\"/>\n",
       "   </g>\n",
       "   <g id=\"patch_62\">\n",
       "    <path clip-path=\"url(#pec84ff1c80)\" d=\"M 768.106554 421.940375 \n",
       "L 807.989806 421.940375 \n",
       "L 807.989806 392.397225 \n",
       "L 768.106554 392.397225 \n",
       "z\n",
       "\" style=\"fill:#fa74a6;\"/>\n",
       "   </g>\n",
       "   <g id=\"patch_63\">\n",
       "    <path clip-path=\"url(#pec84ff1c80)\" d=\"M 856.22468 320.698272 \n",
       "C 857.39992 320.698272 858.527184 320.231345 859.358204 319.400324 \n",
       "C 860.189225 318.569304 860.656153 317.44204 860.656153 316.2668 \n",
       "C 860.656153 315.09156 860.189225 313.964296 859.358204 313.133276 \n",
       "C 858.527184 312.302255 857.39992 311.835328 856.22468 311.835328 \n",
       "C 855.04944 311.835328 853.922176 312.302255 853.091156 313.133276 \n",
       "C 852.260135 313.964296 851.793207 315.09156 851.793207 316.2668 \n",
       "C 851.793207 317.44204 852.260135 318.569304 853.091156 319.400324 \n",
       "C 853.922176 320.231345 855.04944 320.698272 856.22468 320.698272 \n",
       "z\n",
       "\" style=\"fill:#bb8bff;stroke:#bb8bff;stroke-linejoin:miter;stroke-width:1.5;\"/>\n",
       "   </g>\n",
       "   <g id=\"patch_64\">\n",
       "    <path clip-path=\"url(#pec84ff1c80)\" d=\"M 856.22468 366.149272 \n",
       "C 857.39992 366.149272 858.527184 365.682345 859.358204 364.851324 \n",
       "C 860.189225 364.020304 860.656153 362.89304 860.656153 361.7178 \n",
       "C 860.656153 360.54256 860.189225 359.415296 859.358204 358.584276 \n",
       "C 858.527184 357.753255 857.39992 357.286327 856.22468 357.286327 \n",
       "C 855.04944 357.286327 853.922176 357.753255 853.091156 358.584276 \n",
       "C 852.260135 359.415296 851.793207 360.54256 851.793207 361.7178 \n",
       "C 851.793207 362.89304 852.260135 364.020304 853.091156 364.851324 \n",
       "C 853.922176 365.682345 855.04944 366.149272 856.22468 366.149272 \n",
       "z\n",
       "\" style=\"fill:#bb8bff;stroke:#bb8bff;stroke-linejoin:miter;stroke-width:1.5;\"/>\n",
       "   </g>\n",
       "   <g id=\"patch_65\">\n",
       "    <path clip-path=\"url(#pec84ff1c80)\" d=\"M 856.22468 508.410902 \n",
       "C 858.966907 508.410902 861.597189 507.321404 863.536237 505.382357 \n",
       "C 865.475284 503.443309 866.564782 500.813027 866.564782 498.0708 \n",
       "C 866.564782 495.328573 865.475284 492.698291 863.536237 490.759243 \n",
       "C 861.597189 488.820196 858.966907 487.730697 856.22468 487.730697 \n",
       "C 853.482453 487.730697 850.852171 488.820196 848.913123 490.759243 \n",
       "C 846.974076 492.698291 845.884578 495.328573 845.884578 498.0708 \n",
       "C 845.884578 500.813027 846.974076 503.443309 848.913123 505.382357 \n",
       "C 850.852171 507.321404 853.482453 508.410902 856.22468 508.410902 \n",
       "z\n",
       "\" style=\"fill:#bb8bff;stroke:#bb8bff;stroke-linejoin:miter;stroke-width:2;\"/>\n",
       "   </g>\n",
       "   <g id=\"patch_66\">\n",
       "    <path clip-path=\"url(#pec84ff1c80)\" d=\"M 901.67568 457.051272 \n",
       "C 902.85092 457.051272 903.978184 456.584345 904.809204 455.753324 \n",
       "C 905.640225 454.922304 906.107153 453.79504 906.107153 452.6198 \n",
       "C 906.107153 451.44456 905.640225 450.317296 904.809204 449.486276 \n",
       "C 903.978184 448.655255 902.85092 448.188328 901.67568 448.188328 \n",
       "C 900.50044 448.188328 899.373176 448.655255 898.542156 449.486276 \n",
       "C 897.711135 450.317296 897.244208 451.44456 897.244208 452.6198 \n",
       "C 897.244208 453.79504 897.711135 454.922304 898.542156 455.753324 \n",
       "C 899.373176 456.584345 900.50044 457.051272 901.67568 457.051272 \n",
       "z\n",
       "\" style=\"fill:#bb8bff;stroke:#bb8bff;stroke-linejoin:miter;stroke-width:1.5;\"/>\n",
       "   </g>\n",
       "   <g id=\"patch_67\">\n",
       "    <path clip-path=\"url(#pec84ff1c80)\" d=\"M 886.904105 512.842375 \n",
       "L 916.447255 512.842375 \n",
       "L 916.447255 483.299225 \n",
       "L 886.904105 483.299225 \n",
       "z\n",
       "\" style=\"fill:#bb8bff;\"/>\n",
       "   </g>\n",
       "   <g id=\"patch_68\">\n",
       "    <path clip-path=\"url(#pec84ff1c80)\" d=\"M 947.12668 320.698272 \n",
       "C 948.30192 320.698272 949.429184 320.231345 950.260204 319.400324 \n",
       "C 951.091225 318.569304 951.558153 317.44204 951.558153 316.2668 \n",
       "C 951.558153 315.09156 951.091225 313.964296 950.260204 313.133276 \n",
       "C 949.429184 312.302255 948.30192 311.835328 947.12668 311.835328 \n",
       "C 945.95144 311.835328 944.824176 312.302255 943.993156 313.133276 \n",
       "C 943.162135 313.964296 942.695208 315.09156 942.695208 316.2668 \n",
       "C 942.695208 317.44204 943.162135 318.569304 943.993156 319.400324 \n",
       "C 944.824176 320.231345 945.95144 320.698272 947.12668 320.698272 \n",
       "z\n",
       "\" style=\"fill:#bb8bff;stroke:#bb8bff;stroke-linejoin:miter;stroke-width:1.5;\"/>\n",
       "   </g>\n",
       "   <g id=\"patch_69\">\n",
       "    <path clip-path=\"url(#pec84ff1c80)\" d=\"M 947.12668 366.149272 \n",
       "C 948.30192 366.149272 949.429184 365.682345 950.260204 364.851324 \n",
       "C 951.091225 364.020304 951.558153 362.89304 951.558153 361.7178 \n",
       "C 951.558153 360.54256 951.091225 359.415296 950.260204 358.584276 \n",
       "C 949.429184 357.753255 948.30192 357.286327 947.12668 357.286327 \n",
       "C 945.95144 357.286327 944.824176 357.753255 943.993156 358.584276 \n",
       "C 943.162135 359.415296 942.695208 360.54256 942.695208 361.7178 \n",
       "C 942.695208 362.89304 943.162135 364.020304 943.993156 364.851324 \n",
       "C 944.824176 365.682345 945.95144 366.149272 947.12668 366.149272 \n",
       "z\n",
       "\" style=\"fill:#bb8bff;stroke:#bb8bff;stroke-linejoin:miter;stroke-width:1.5;\"/>\n",
       "   </g>\n",
       "   <g id=\"patch_70\">\n",
       "    <path clip-path=\"url(#pec84ff1c80)\" d=\"M 947.12668 508.410902 \n",
       "C 949.868907 508.410902 952.499189 507.321404 954.438237 505.382357 \n",
       "C 956.377284 503.443309 957.466783 500.813027 957.466783 498.0708 \n",
       "C 957.466783 495.328573 956.377284 492.698291 954.438237 490.759243 \n",
       "C 952.499189 488.820196 949.868907 487.730697 947.12668 487.730697 \n",
       "C 944.384453 487.730697 941.754171 488.820196 939.815123 490.759243 \n",
       "C 937.876076 492.698291 936.786578 495.328573 936.786578 498.0708 \n",
       "C 936.786578 500.813027 937.876076 503.443309 939.815123 505.382357 \n",
       "C 941.754171 507.321404 944.384453 508.410902 947.12668 508.410902 \n",
       "z\n",
       "\" style=\"fill:#bb8bff;stroke:#bb8bff;stroke-linejoin:miter;stroke-width:2;\"/>\n",
       "   </g>\n",
       "   <g id=\"patch_71\">\n",
       "    <path clip-path=\"url(#pec84ff1c80)\" d=\"M 995.361554 467.391375 \n",
       "L 1035.244806 467.391375 \n",
       "L 1035.244806 437.848225 \n",
       "L 995.361554 437.848225 \n",
       "z\n",
       "\" style=\"fill:#fa74a6;\"/>\n",
       "   </g>\n",
       "   <g id=\"patch_72\">\n",
       "    <path clip-path=\"url(#pec84ff1c80)\" d=\"M 995.361554 376.489375 \n",
       "L 1035.244806 376.489375 \n",
       "L 1035.244806 346.946225 \n",
       "L 995.361554 346.946225 \n",
       "z\n",
       "\" style=\"fill:#fa74a6;\"/>\n",
       "   </g>\n",
       "   <g id=\"patch_73\">\n",
       "    <path clip-path=\"url(#pec84ff1c80)\" d=\"M 1083.47968 320.698272 \n",
       "C 1084.65492 320.698272 1085.782184 320.231345 1086.613204 319.400324 \n",
       "C 1087.444225 318.569304 1087.911153 317.44204 1087.911153 316.2668 \n",
       "C 1087.911153 315.09156 1087.444225 313.964296 1086.613204 313.133276 \n",
       "C 1085.782184 312.302255 1084.65492 311.835328 1083.47968 311.835328 \n",
       "C 1082.30444 311.835328 1081.177176 312.302255 1080.346156 313.133276 \n",
       "C 1079.515135 313.964296 1079.048208 315.09156 1079.048208 316.2668 \n",
       "C 1079.048208 317.44204 1079.515135 318.569304 1080.346156 319.400324 \n",
       "C 1081.177176 320.231345 1082.30444 320.698272 1083.47968 320.698272 \n",
       "z\n",
       "\" style=\"fill:#6fa4ff;stroke:#6fa4ff;stroke-linejoin:miter;stroke-width:1.5;\"/>\n",
       "   </g>\n",
       "   <g id=\"patch_74\">\n",
       "    <path clip-path=\"url(#pec84ff1c80)\" d=\"M 1083.47968 372.057902 \n",
       "C 1086.221907 372.057902 1088.852189 370.968404 1090.791237 369.029357 \n",
       "C 1092.730284 367.090309 1093.819783 364.460027 1093.819783 361.7178 \n",
       "C 1093.819783 358.975573 1092.730284 356.345291 1090.791237 354.406243 \n",
       "C 1088.852189 352.467196 1086.221907 351.377697 1083.47968 351.377697 \n",
       "C 1080.737453 351.377697 1078.107171 352.467196 1076.168123 354.406243 \n",
       "C 1074.229076 356.345291 1073.139578 358.975573 1073.139578 361.7178 \n",
       "C 1073.139578 364.460027 1074.229076 367.090309 1076.168123 369.029357 \n",
       "C 1078.107171 370.968404 1080.737453 372.057902 1083.47968 372.057902 \n",
       "z\n",
       "\" style=\"fill:#6fa4ff;stroke:#6fa4ff;stroke-linejoin:miter;stroke-width:2;\"/>\n",
       "   </g>\n",
       "   <g id=\"patch_75\">\n",
       "    <path clip-path=\"url(#pec84ff1c80)\" d=\"M 1125.067345 376.489375 \n",
       "L 1178.245015 376.489375 \n",
       "L 1178.245015 346.946225 \n",
       "L 1125.067345 346.946225 \n",
       "z\n",
       "\" style=\"fill:#fa74a6;\"/>\n",
       "   </g>\n",
       "   <g id=\"patch_76\">\n",
       "    <path clip-path=\"url(#pec84ff1c80)\" d=\"M 1219.83268 320.698272 \n",
       "C 1221.00792 320.698272 1222.135184 320.231345 1222.966204 319.400324 \n",
       "C 1223.797225 318.569304 1224.264152 317.44204 1224.264152 316.2668 \n",
       "C 1224.264152 315.09156 1223.797225 313.964296 1222.966204 313.133276 \n",
       "C 1222.135184 312.302255 1221.00792 311.835328 1219.83268 311.835328 \n",
       "C 1218.65744 311.835328 1217.530176 312.302255 1216.699156 313.133276 \n",
       "C 1215.868135 313.964296 1215.401208 315.09156 1215.401208 316.2668 \n",
       "C 1215.401208 317.44204 1215.868135 318.569304 1216.699156 319.400324 \n",
       "C 1217.530176 320.231345 1218.65744 320.698272 1219.83268 320.698272 \n",
       "z\n",
       "\" style=\"fill:#6fa4ff;stroke:#6fa4ff;stroke-linejoin:miter;stroke-width:1.5;\"/>\n",
       "   </g>\n",
       "   <g id=\"patch_77\">\n",
       "    <path clip-path=\"url(#pec84ff1c80)\" d=\"M 1219.83268 372.057902 \n",
       "C 1222.574907 372.057902 1225.205189 370.968404 1227.144237 369.029357 \n",
       "C 1229.083284 367.090309 1230.172783 364.460027 1230.172783 361.7178 \n",
       "C 1230.172783 358.975573 1229.083284 356.345291 1227.144237 354.406243 \n",
       "C 1225.205189 352.467196 1222.574907 351.377697 1219.83268 351.377697 \n",
       "C 1217.090453 351.377697 1214.460171 352.467196 1212.521123 354.406243 \n",
       "C 1210.582076 356.345291 1209.492577 358.975573 1209.492577 361.7178 \n",
       "C 1209.492577 364.460027 1210.582076 367.090309 1212.521123 369.029357 \n",
       "C 1214.460171 370.968404 1217.090453 372.057902 1219.83268 372.057902 \n",
       "z\n",
       "\" style=\"fill:#6fa4ff;stroke:#6fa4ff;stroke-linejoin:miter;stroke-width:2;\"/>\n",
       "   </g>\n",
       "   <g id=\"patch_78\">\n",
       "    <path clip-path=\"url(#pec84ff1c80)\" d=\"M 129.00868 593.404273 \n",
       "C 130.18392 593.404273 131.311184 592.937345 132.142204 592.106324 \n",
       "C 132.973225 591.275304 133.440153 590.14804 133.440153 588.9728 \n",
       "C 133.440153 587.79756 132.973225 586.670296 132.142204 585.839276 \n",
       "C 131.311184 585.008255 130.18392 584.541327 129.00868 584.541327 \n",
       "C 127.83344 584.541327 126.706176 585.008255 125.875156 585.839276 \n",
       "C 125.044135 586.670296 124.577208 587.79756 124.577208 588.9728 \n",
       "C 124.577208 590.14804 125.044135 591.275304 125.875156 592.106324 \n",
       "C 126.706176 592.937345 127.83344 593.404273 129.00868 593.404273 \n",
       "z\n",
       "\" style=\"fill:#6fa4ff;stroke:#6fa4ff;stroke-linejoin:miter;stroke-width:1.5;\"/>\n",
       "   </g>\n",
       "   <g id=\"patch_79\">\n",
       "    <path clip-path=\"url(#pec84ff1c80)\" d=\"M 129.00868 690.214902 \n",
       "C 131.750907 690.214902 134.381189 689.125404 136.320237 687.186357 \n",
       "C 138.259284 685.247309 139.348783 682.617027 139.348783 679.8748 \n",
       "C 139.348783 677.132573 138.259284 674.502291 136.320237 672.563243 \n",
       "C 134.381189 670.624196 131.750907 669.534697 129.00868 669.534697 \n",
       "C 126.266453 669.534697 123.636171 670.624196 121.697123 672.563243 \n",
       "C 119.758076 674.502291 118.668578 677.132573 118.668578 679.8748 \n",
       "C 118.668578 682.617027 119.758076 685.247309 121.697123 687.186357 \n",
       "C 123.636171 689.125404 126.266453 690.214902 129.00868 690.214902 \n",
       "z\n",
       "\" style=\"fill:#6fa4ff;stroke:#6fa4ff;stroke-linejoin:miter;stroke-width:2;\"/>\n",
       "   </g>\n",
       "   <g id=\"patch_80\">\n",
       "    <path clip-path=\"url(#pec84ff1c80)\" d=\"M 170.596345 694.646375 \n",
       "L 223.774015 694.646375 \n",
       "L 223.774015 665.103225 \n",
       "L 170.596345 665.103225 \n",
       "z\n",
       "\" style=\"fill:#fa74a6;\"/>\n",
       "   </g>\n",
       "   <g id=\"patch_81\">\n",
       "    <path clip-path=\"url(#pec84ff1c80)\" d=\"M 265.36168 593.404273 \n",
       "C 266.53692 593.404273 267.664184 592.937345 268.495204 592.106324 \n",
       "C 269.326225 591.275304 269.793153 590.14804 269.793153 588.9728 \n",
       "C 269.793153 587.79756 269.326225 586.670296 268.495204 585.839276 \n",
       "C 267.664184 585.008255 266.53692 584.541327 265.36168 584.541327 \n",
       "C 264.18644 584.541327 263.059176 585.008255 262.228156 585.839276 \n",
       "C 261.397135 586.670296 260.930208 587.79756 260.930208 588.9728 \n",
       "C 260.930208 590.14804 261.397135 591.275304 262.228156 592.106324 \n",
       "C 263.059176 592.937345 264.18644 593.404273 265.36168 593.404273 \n",
       "z\n",
       "\" style=\"fill:#6fa4ff;stroke:#6fa4ff;stroke-linejoin:miter;stroke-width:1.5;\"/>\n",
       "   </g>\n",
       "   <g id=\"patch_82\">\n",
       "    <path clip-path=\"url(#pec84ff1c80)\" d=\"M 265.36168 690.214902 \n",
       "C 268.103907 690.214902 270.734189 689.125404 272.673237 687.186357 \n",
       "C 274.612284 685.247309 275.701783 682.617027 275.701783 679.8748 \n",
       "C 275.701783 677.132573 274.612284 674.502291 272.673237 672.563243 \n",
       "C 270.734189 670.624196 268.103907 669.534697 265.36168 669.534697 \n",
       "C 262.619453 669.534697 259.989171 670.624196 258.050123 672.563243 \n",
       "C 256.111076 674.502291 255.021578 677.132573 255.021578 679.8748 \n",
       "C 255.021578 682.617027 256.111076 685.247309 258.050123 687.186357 \n",
       "C 259.989171 689.125404 262.619453 690.214902 265.36168 690.214902 \n",
       "z\n",
       "\" style=\"fill:#6fa4ff;stroke:#6fa4ff;stroke-linejoin:miter;stroke-width:2;\"/>\n",
       "   </g>\n",
       "   <g id=\"patch_83\">\n",
       "    <path clip-path=\"url(#pec84ff1c80)\" d=\"M 310.81268 593.404273 \n",
       "C 311.98792 593.404273 313.115184 592.937345 313.946204 592.106324 \n",
       "C 314.777225 591.275304 315.244153 590.14804 315.244153 588.9728 \n",
       "C 315.244153 587.79756 314.777225 586.670296 313.946204 585.839276 \n",
       "C 313.115184 585.008255 311.98792 584.541327 310.81268 584.541327 \n",
       "C 309.63744 584.541327 308.510176 585.008255 307.679156 585.839276 \n",
       "C 306.848135 586.670296 306.381208 587.79756 306.381208 588.9728 \n",
       "C 306.381208 590.14804 306.848135 591.275304 307.679156 592.106324 \n",
       "C 308.510176 592.937345 309.63744 593.404273 310.81268 593.404273 \n",
       "z\n",
       "\" style=\"fill:#6fa4ff;stroke:#6fa4ff;stroke-linejoin:miter;stroke-width:1.5;\"/>\n",
       "   </g>\n",
       "   <g id=\"patch_84\">\n",
       "    <path clip-path=\"url(#pec84ff1c80)\" d=\"M 310.81268 735.665902 \n",
       "C 313.554907 735.665902 316.185189 734.576404 318.124237 732.637357 \n",
       "C 320.063284 730.698309 321.152783 728.068027 321.152783 725.3258 \n",
       "C 321.152783 722.583573 320.063284 719.953291 318.124237 718.014243 \n",
       "C 316.185189 716.075196 313.554907 714.985698 310.81268 714.985698 \n",
       "C 308.070453 714.985698 305.440171 716.075196 303.501123 718.014243 \n",
       "C 301.562076 719.953291 300.472578 722.583573 300.472578 725.3258 \n",
       "C 300.472578 728.068027 301.562076 730.698309 303.501123 732.637357 \n",
       "C 305.440171 734.576404 308.070453 735.665902 310.81268 735.665902 \n",
       "z\n",
       "\" style=\"fill:#6fa4ff;stroke:#6fa4ff;stroke-linejoin:miter;stroke-width:2;\"/>\n",
       "   </g>\n",
       "   <g id=\"patch_85\">\n",
       "    <path clip-path=\"url(#pec84ff1c80)\" d=\"M 352.400345 740.097375 \n",
       "L 405.578015 740.097375 \n",
       "L 405.578015 710.554225 \n",
       "L 352.400345 710.554225 \n",
       "z\n",
       "\" style=\"fill:#fa74a6;\"/>\n",
       "   </g>\n",
       "   <g id=\"patch_86\">\n",
       "    <path clip-path=\"url(#pec84ff1c80)\" d=\"M 447.16568 593.404273 \n",
       "C 448.34092 593.404273 449.468184 592.937345 450.299204 592.106324 \n",
       "C 451.130225 591.275304 451.597152 590.14804 451.597152 588.9728 \n",
       "C 451.597152 587.79756 451.130225 586.670296 450.299204 585.839276 \n",
       "C 449.468184 585.008255 448.34092 584.541327 447.16568 584.541327 \n",
       "C 445.99044 584.541327 444.863176 585.008255 444.032156 585.839276 \n",
       "C 443.201135 586.670296 442.734208 587.79756 442.734208 588.9728 \n",
       "C 442.734208 590.14804 443.201135 591.275304 444.032156 592.106324 \n",
       "C 444.863176 592.937345 445.99044 593.404273 447.16568 593.404273 \n",
       "z\n",
       "\" style=\"fill:#6fa4ff;stroke:#6fa4ff;stroke-linejoin:miter;stroke-width:1.5;\"/>\n",
       "   </g>\n",
       "   <g id=\"patch_87\">\n",
       "    <path clip-path=\"url(#pec84ff1c80)\" d=\"M 447.16568 735.665902 \n",
       "C 449.907907 735.665902 452.538189 734.576404 454.477237 732.637357 \n",
       "C 456.416284 730.698309 457.505783 728.068027 457.505783 725.3258 \n",
       "C 457.505783 722.583573 456.416284 719.953291 454.477237 718.014243 \n",
       "C 452.538189 716.075196 449.907907 714.985698 447.16568 714.985698 \n",
       "C 444.423453 714.985698 441.793171 716.075196 439.854123 718.014243 \n",
       "C 437.915076 719.953291 436.825578 722.583573 436.825578 725.3258 \n",
       "C 436.825578 728.068027 437.915076 730.698309 439.854123 732.637357 \n",
       "C 441.793171 734.576404 444.423453 735.665902 447.16568 735.665902 \n",
       "z\n",
       "\" style=\"fill:#6fa4ff;stroke:#6fa4ff;stroke-linejoin:miter;stroke-width:2;\"/>\n",
       "   </g>\n",
       "   <g id=\"line2d_54\">\n",
       "    <path clip-path=\"url(#pec84ff1c80)\" d=\"M 219.91068 94.92043 \n",
       "L 219.91068 83.10317 \n",
       "\" style=\"fill:none;stroke:#ffffff;stroke-linecap:square;stroke-width:2;\"/>\n",
       "   </g>\n",
       "   <g id=\"line2d_55\">\n",
       "    <path clip-path=\"url(#pec84ff1c80)\" d=\"M 214.00205 89.0118 \n",
       "L 225.81931 89.0118 \n",
       "\" style=\"fill:none;stroke:#ffffff;stroke-linecap:square;stroke-width:2;\"/>\n",
       "   </g>\n",
       "   <g id=\"line2d_56\">\n",
       "    <path clip-path=\"url(#pec84ff1c80)\" d=\"M 356.26368 94.92043 \n",
       "L 356.26368 83.10317 \n",
       "\" style=\"fill:none;stroke:#ffffff;stroke-linecap:square;stroke-width:2;\"/>\n",
       "   </g>\n",
       "   <g id=\"line2d_57\">\n",
       "    <path clip-path=\"url(#pec84ff1c80)\" d=\"M 350.35505 89.0118 \n",
       "L 362.17231 89.0118 \n",
       "\" style=\"fill:none;stroke:#ffffff;stroke-linecap:square;stroke-width:2;\"/>\n",
       "   </g>\n",
       "   <g id=\"line2d_58\">\n",
       "    <path clip-path=\"url(#pec84ff1c80)\" d=\"M 401.71468 140.37143 \n",
       "L 401.71468 128.55417 \n",
       "\" style=\"fill:none;stroke:#ffffff;stroke-linecap:square;stroke-width:2;\"/>\n",
       "   </g>\n",
       "   <g id=\"line2d_59\">\n",
       "    <path clip-path=\"url(#pec84ff1c80)\" d=\"M 395.80605 134.4628 \n",
       "L 407.62331 134.4628 \n",
       "\" style=\"fill:none;stroke:#ffffff;stroke-linecap:square;stroke-width:2;\"/>\n",
       "   </g>\n",
       "   <g id=\"line2d_60\">\n",
       "    <path clip-path=\"url(#pec84ff1c80)\" d=\"M 538.06768 140.37143 \n",
       "L 538.06768 128.55417 \n",
       "\" style=\"fill:none;stroke:#ffffff;stroke-linecap:square;stroke-width:2;\"/>\n",
       "   </g>\n",
       "   <g id=\"line2d_61\">\n",
       "    <path clip-path=\"url(#pec84ff1c80)\" d=\"M 532.15905 134.4628 \n",
       "L 543.97631 134.4628 \n",
       "\" style=\"fill:none;stroke:#ffffff;stroke-linecap:square;stroke-width:2;\"/>\n",
       "   </g>\n",
       "   <g id=\"line2d_62\">\n",
       "    <path clip-path=\"url(#pec84ff1c80)\" d=\"M 583.51868 185.82243 \n",
       "L 583.51868 174.00517 \n",
       "\" style=\"fill:none;stroke:#ffffff;stroke-linecap:square;stroke-width:2;\"/>\n",
       "   </g>\n",
       "   <g id=\"line2d_63\">\n",
       "    <path clip-path=\"url(#pec84ff1c80)\" d=\"M 577.61005 179.9138 \n",
       "L 589.42731 179.9138 \n",
       "\" style=\"fill:none;stroke:#ffffff;stroke-linecap:square;stroke-width:2;\"/>\n",
       "   </g>\n",
       "   <g id=\"line2d_64\">\n",
       "    <path clip-path=\"url(#pec84ff1c80)\" d=\"M 719.87168 185.82243 \n",
       "L 719.87168 174.00517 \n",
       "\" style=\"fill:none;stroke:#ffffff;stroke-linecap:square;stroke-width:2;\"/>\n",
       "   </g>\n",
       "   <g id=\"line2d_65\">\n",
       "    <path clip-path=\"url(#pec84ff1c80)\" d=\"M 713.96305 179.9138 \n",
       "L 725.78031 179.9138 \n",
       "\" style=\"fill:none;stroke:#ffffff;stroke-linecap:square;stroke-width:2;\"/>\n",
       "   </g>\n",
       "   <g id=\"line2d_66\">\n",
       "    <path clip-path=\"url(#pec84ff1c80)\" d=\"M 765.32268 231.27343 \n",
       "L 765.32268 219.45617 \n",
       "\" style=\"fill:none;stroke:#ffffff;stroke-linecap:square;stroke-width:2;\"/>\n",
       "   </g>\n",
       "   <g id=\"line2d_67\">\n",
       "    <path clip-path=\"url(#pec84ff1c80)\" d=\"M 759.41405 225.3648 \n",
       "L 771.23131 225.3648 \n",
       "\" style=\"fill:none;stroke:#ffffff;stroke-linecap:square;stroke-width:2;\"/>\n",
       "   </g>\n",
       "   <g id=\"line2d_68\">\n",
       "    <path clip-path=\"url(#pec84ff1c80)\" d=\"M 856.22468 231.27343 \n",
       "L 856.22468 219.45617 \n",
       "\" style=\"fill:none;stroke:#ffffff;stroke-linecap:square;stroke-width:2;\"/>\n",
       "   </g>\n",
       "   <g id=\"line2d_69\">\n",
       "    <path clip-path=\"url(#pec84ff1c80)\" d=\"M 850.31605 225.3648 \n",
       "L 862.13331 225.3648 \n",
       "\" style=\"fill:none;stroke:#ffffff;stroke-linecap:square;stroke-width:2;\"/>\n",
       "   </g>\n",
       "   <g id=\"line2d_70\">\n",
       "    <path clip-path=\"url(#pec84ff1c80)\" d=\"M 901.67568 231.27343 \n",
       "L 901.67568 219.45617 \n",
       "\" style=\"fill:none;stroke:#ffffff;stroke-linecap:square;stroke-width:2;\"/>\n",
       "   </g>\n",
       "   <g id=\"line2d_71\">\n",
       "    <path clip-path=\"url(#pec84ff1c80)\" d=\"M 895.76705 225.3648 \n",
       "L 907.58431 225.3648 \n",
       "\" style=\"fill:none;stroke:#ffffff;stroke-linecap:square;stroke-width:2;\"/>\n",
       "   </g>\n",
       "   <g id=\"line2d_72\">\n",
       "    <path clip-path=\"url(#pec84ff1c80)\" d=\"M 1038.02868 231.27343 \n",
       "L 1038.02868 219.45617 \n",
       "\" style=\"fill:none;stroke:#ffffff;stroke-linecap:square;stroke-width:2;\"/>\n",
       "   </g>\n",
       "   <g id=\"line2d_73\">\n",
       "    <path clip-path=\"url(#pec84ff1c80)\" d=\"M 1032.12005 225.3648 \n",
       "L 1043.93731 225.3648 \n",
       "\" style=\"fill:none;stroke:#ffffff;stroke-linecap:square;stroke-width:2;\"/>\n",
       "   </g>\n",
       "   <g id=\"line2d_74\">\n",
       "    <path clip-path=\"url(#pec84ff1c80)\" d=\"M 1174.38168 94.92043 \n",
       "L 1174.38168 83.10317 \n",
       "\" style=\"fill:none;stroke:#ffffff;stroke-linecap:square;stroke-width:2;\"/>\n",
       "   </g>\n",
       "   <g id=\"line2d_75\">\n",
       "    <path clip-path=\"url(#pec84ff1c80)\" d=\"M 1168.47305 89.0118 \n",
       "L 1180.29031 89.0118 \n",
       "\" style=\"fill:none;stroke:#ffffff;stroke-linecap:square;stroke-width:2;\"/>\n",
       "   </g>\n",
       "   <g id=\"line2d_76\">\n",
       "    <path clip-path=\"url(#pec84ff1c80)\" d=\"M 219.91068 367.62643 \n",
       "L 219.91068 355.80917 \n",
       "\" style=\"fill:none;stroke:#ffffff;stroke-linecap:square;stroke-width:2;\"/>\n",
       "   </g>\n",
       "   <g id=\"line2d_77\">\n",
       "    <path clip-path=\"url(#pec84ff1c80)\" d=\"M 214.00205 361.7178 \n",
       "L 225.81931 361.7178 \n",
       "\" style=\"fill:none;stroke:#ffffff;stroke-linecap:square;stroke-width:2;\"/>\n",
       "   </g>\n",
       "   <g id=\"line2d_78\">\n",
       "    <path clip-path=\"url(#pec84ff1c80)\" d=\"M 265.36168 413.07743 \n",
       "L 265.36168 401.26017 \n",
       "\" style=\"fill:none;stroke:#ffffff;stroke-linecap:square;stroke-width:2;\"/>\n",
       "   </g>\n",
       "   <g id=\"line2d_79\">\n",
       "    <path clip-path=\"url(#pec84ff1c80)\" d=\"M 259.45305 407.1688 \n",
       "L 271.27031 407.1688 \n",
       "\" style=\"fill:none;stroke:#ffffff;stroke-linecap:square;stroke-width:2;\"/>\n",
       "   </g>\n",
       "   <g id=\"line2d_80\">\n",
       "    <path clip-path=\"url(#pec84ff1c80)\" d=\"M 401.71468 413.07743 \n",
       "L 401.71468 401.26017 \n",
       "\" style=\"fill:none;stroke:#ffffff;stroke-linecap:square;stroke-width:2;\"/>\n",
       "   </g>\n",
       "   <g id=\"line2d_81\">\n",
       "    <path clip-path=\"url(#pec84ff1c80)\" d=\"M 395.80605 407.1688 \n",
       "L 407.62331 407.1688 \n",
       "\" style=\"fill:none;stroke:#ffffff;stroke-linecap:square;stroke-width:2;\"/>\n",
       "   </g>\n",
       "   <g id=\"line2d_82\">\n",
       "    <path clip-path=\"url(#pec84ff1c80)\" d=\"M 447.16568 458.52843 \n",
       "L 447.16568 446.71117 \n",
       "\" style=\"fill:none;stroke:#ffffff;stroke-linecap:square;stroke-width:2;\"/>\n",
       "   </g>\n",
       "   <g id=\"line2d_83\">\n",
       "    <path clip-path=\"url(#pec84ff1c80)\" d=\"M 441.25705 452.6198 \n",
       "L 453.07431 452.6198 \n",
       "\" style=\"fill:none;stroke:#ffffff;stroke-linecap:square;stroke-width:2;\"/>\n",
       "   </g>\n",
       "   <g id=\"line2d_84\">\n",
       "    <path clip-path=\"url(#pec84ff1c80)\" d=\"M 583.51868 458.52843 \n",
       "L 583.51868 446.71117 \n",
       "\" style=\"fill:none;stroke:#ffffff;stroke-linecap:square;stroke-width:2;\"/>\n",
       "   </g>\n",
       "   <g id=\"line2d_85\">\n",
       "    <path clip-path=\"url(#pec84ff1c80)\" d=\"M 577.61005 452.6198 \n",
       "L 589.42731 452.6198 \n",
       "\" style=\"fill:none;stroke:#ffffff;stroke-linecap:square;stroke-width:2;\"/>\n",
       "   </g>\n",
       "   <g id=\"line2d_86\">\n",
       "    <path clip-path=\"url(#pec84ff1c80)\" d=\"M 628.96968 503.97943 \n",
       "L 628.96968 492.16217 \n",
       "\" style=\"fill:none;stroke:#ffffff;stroke-linecap:square;stroke-width:2;\"/>\n",
       "   </g>\n",
       "   <g id=\"line2d_87\">\n",
       "    <path clip-path=\"url(#pec84ff1c80)\" d=\"M 623.06105 498.0708 \n",
       "L 634.87831 498.0708 \n",
       "\" style=\"fill:none;stroke:#ffffff;stroke-linecap:square;stroke-width:2;\"/>\n",
       "   </g>\n",
       "   <g id=\"line2d_88\">\n",
       "    <path clip-path=\"url(#pec84ff1c80)\" d=\"M 719.87168 503.97943 \n",
       "L 719.87168 492.16217 \n",
       "\" style=\"fill:none;stroke:#ffffff;stroke-linecap:square;stroke-width:2;\"/>\n",
       "   </g>\n",
       "   <g id=\"line2d_89\">\n",
       "    <path clip-path=\"url(#pec84ff1c80)\" d=\"M 713.96305 498.0708 \n",
       "L 725.78031 498.0708 \n",
       "\" style=\"fill:none;stroke:#ffffff;stroke-linecap:square;stroke-width:2;\"/>\n",
       "   </g>\n",
       "   <g id=\"line2d_90\">\n",
       "    <path clip-path=\"url(#pec84ff1c80)\" d=\"M 856.22468 503.97943 \n",
       "L 856.22468 492.16217 \n",
       "\" style=\"fill:none;stroke:#ffffff;stroke-linecap:square;stroke-width:2;\"/>\n",
       "   </g>\n",
       "   <g id=\"line2d_91\">\n",
       "    <path clip-path=\"url(#pec84ff1c80)\" d=\"M 850.31605 498.0708 \n",
       "L 862.13331 498.0708 \n",
       "\" style=\"fill:none;stroke:#ffffff;stroke-linecap:square;stroke-width:2;\"/>\n",
       "   </g>\n",
       "   <g id=\"line2d_92\">\n",
       "    <path clip-path=\"url(#pec84ff1c80)\" d=\"M 947.12668 503.97943 \n",
       "L 947.12668 492.16217 \n",
       "\" style=\"fill:none;stroke:#ffffff;stroke-linecap:square;stroke-width:2;\"/>\n",
       "   </g>\n",
       "   <g id=\"line2d_93\">\n",
       "    <path clip-path=\"url(#pec84ff1c80)\" d=\"M 941.21805 498.0708 \n",
       "L 953.03531 498.0708 \n",
       "\" style=\"fill:none;stroke:#ffffff;stroke-linecap:square;stroke-width:2;\"/>\n",
       "   </g>\n",
       "   <g id=\"line2d_94\">\n",
       "    <path clip-path=\"url(#pec84ff1c80)\" d=\"M 1083.47968 367.62643 \n",
       "L 1083.47968 355.80917 \n",
       "\" style=\"fill:none;stroke:#ffffff;stroke-linecap:square;stroke-width:2;\"/>\n",
       "   </g>\n",
       "   <g id=\"line2d_95\">\n",
       "    <path clip-path=\"url(#pec84ff1c80)\" d=\"M 1077.57105 361.7178 \n",
       "L 1089.38831 361.7178 \n",
       "\" style=\"fill:none;stroke:#ffffff;stroke-linecap:square;stroke-width:2;\"/>\n",
       "   </g>\n",
       "   <g id=\"line2d_96\">\n",
       "    <path clip-path=\"url(#pec84ff1c80)\" d=\"M 1219.83268 367.62643 \n",
       "L 1219.83268 355.80917 \n",
       "\" style=\"fill:none;stroke:#ffffff;stroke-linecap:square;stroke-width:2;\"/>\n",
       "   </g>\n",
       "   <g id=\"line2d_97\">\n",
       "    <path clip-path=\"url(#pec84ff1c80)\" d=\"M 1213.92405 361.7178 \n",
       "L 1225.74131 361.7178 \n",
       "\" style=\"fill:none;stroke:#ffffff;stroke-linecap:square;stroke-width:2;\"/>\n",
       "   </g>\n",
       "   <g id=\"line2d_98\">\n",
       "    <path clip-path=\"url(#pec84ff1c80)\" d=\"M 129.00868 685.78343 \n",
       "L 129.00868 673.96617 \n",
       "\" style=\"fill:none;stroke:#ffffff;stroke-linecap:square;stroke-width:2;\"/>\n",
       "   </g>\n",
       "   <g id=\"line2d_99\">\n",
       "    <path clip-path=\"url(#pec84ff1c80)\" d=\"M 123.10005 679.8748 \n",
       "L 134.91731 679.8748 \n",
       "\" style=\"fill:none;stroke:#ffffff;stroke-linecap:square;stroke-width:2;\"/>\n",
       "   </g>\n",
       "   <g id=\"line2d_100\">\n",
       "    <path clip-path=\"url(#pec84ff1c80)\" d=\"M 265.36168 685.78343 \n",
       "L 265.36168 673.96617 \n",
       "\" style=\"fill:none;stroke:#ffffff;stroke-linecap:square;stroke-width:2;\"/>\n",
       "   </g>\n",
       "   <g id=\"line2d_101\">\n",
       "    <path clip-path=\"url(#pec84ff1c80)\" d=\"M 259.45305 679.8748 \n",
       "L 271.27031 679.8748 \n",
       "\" style=\"fill:none;stroke:#ffffff;stroke-linecap:square;stroke-width:2;\"/>\n",
       "   </g>\n",
       "   <g id=\"line2d_102\">\n",
       "    <path clip-path=\"url(#pec84ff1c80)\" d=\"M 310.81268 731.23443 \n",
       "L 310.81268 719.41717 \n",
       "\" style=\"fill:none;stroke:#ffffff;stroke-linecap:square;stroke-width:2;\"/>\n",
       "   </g>\n",
       "   <g id=\"line2d_103\">\n",
       "    <path clip-path=\"url(#pec84ff1c80)\" d=\"M 304.90405 725.3258 \n",
       "L 316.72131 725.3258 \n",
       "\" style=\"fill:none;stroke:#ffffff;stroke-linecap:square;stroke-width:2;\"/>\n",
       "   </g>\n",
       "   <g id=\"line2d_104\">\n",
       "    <path clip-path=\"url(#pec84ff1c80)\" d=\"M 447.16568 731.23443 \n",
       "L 447.16568 719.41717 \n",
       "\" style=\"fill:none;stroke:#ffffff;stroke-linecap:square;stroke-width:2;\"/>\n",
       "   </g>\n",
       "   <g id=\"line2d_105\">\n",
       "    <path clip-path=\"url(#pec84ff1c80)\" d=\"M 441.25705 725.3258 \n",
       "L 453.07431 725.3258 \n",
       "\" style=\"fill:none;stroke:#ffffff;stroke-linecap:square;stroke-width:2;\"/>\n",
       "   </g>\n",
       "   <g id=\"text_1\">\n",
       "    <g clip-path=\"url(#pec84ff1c80)\">\n",
       "     <!-- $U_3$ -->\n",
       "     <defs>\n",
       "      <path d=\"M 15.484375 72.90625 \n",
       "L 25.390625 72.90625 \n",
       "L 16.796875 28.609375 \n",
       "Q 16.265625 25.640625 16.046875 23.703125 \n",
       "Q 15.828125 21.78125 15.828125 20.3125 \n",
       "Q 15.828125 13.578125 19.578125 10.078125 \n",
       "Q 23.34375 6.59375 30.609375 6.59375 \n",
       "Q 40.046875 6.59375 45.28125 11.765625 \n",
       "Q 50.53125 16.9375 52.78125 28.609375 \n",
       "L 61.375 72.90625 \n",
       "L 71.296875 72.90625 \n",
       "L 62.5 27.390625 \n",
       "Q 59.625 12.640625 51.5625 5.609375 \n",
       "Q 43.5 -1.421875 29.5 -1.421875 \n",
       "Q 18.5625 -1.421875 12.1875 4.078125 \n",
       "Q 5.8125 9.578125 5.8125 19 \n",
       "Q 5.8125 20.703125 6.046875 22.828125 \n",
       "Q 6.296875 24.953125 6.78125 27.390625 \n",
       "z\n",
       "\" id=\"DejaVuSans-Oblique-85\"/>\n",
       "      <path d=\"M 40.578125 39.3125 \n",
       "Q 47.65625 37.796875 51.625 33 \n",
       "Q 55.609375 28.21875 55.609375 21.1875 \n",
       "Q 55.609375 10.40625 48.1875 4.484375 \n",
       "Q 40.765625 -1.421875 27.09375 -1.421875 \n",
       "Q 22.515625 -1.421875 17.65625 -0.515625 \n",
       "Q 12.796875 0.390625 7.625 2.203125 \n",
       "L 7.625 11.71875 \n",
       "Q 11.71875 9.328125 16.59375 8.109375 \n",
       "Q 21.484375 6.890625 26.8125 6.890625 \n",
       "Q 36.078125 6.890625 40.9375 10.546875 \n",
       "Q 45.796875 14.203125 45.796875 21.1875 \n",
       "Q 45.796875 27.640625 41.28125 31.265625 \n",
       "Q 36.765625 34.90625 28.71875 34.90625 \n",
       "L 20.21875 34.90625 \n",
       "L 20.21875 43.015625 \n",
       "L 29.109375 43.015625 \n",
       "Q 36.375 43.015625 40.234375 45.921875 \n",
       "Q 44.09375 48.828125 44.09375 54.296875 \n",
       "Q 44.09375 59.90625 40.109375 62.90625 \n",
       "Q 36.140625 65.921875 28.71875 65.921875 \n",
       "Q 24.65625 65.921875 20.015625 65.03125 \n",
       "Q 15.375 64.15625 9.8125 62.3125 \n",
       "L 9.8125 71.09375 \n",
       "Q 15.4375 72.65625 20.34375 73.4375 \n",
       "Q 25.25 74.21875 29.59375 74.21875 \n",
       "Q 40.828125 74.21875 47.359375 69.109375 \n",
       "Q 53.90625 64.015625 53.90625 55.328125 \n",
       "Q 53.90625 49.265625 50.4375 45.09375 \n",
       "Q 46.96875 40.921875 40.578125 39.3125 \n",
       "z\n",
       "\" id=\"DejaVuSans-51\"/>\n",
       "     </defs>\n",
       "     <g transform=\"translate(143.86918 88.167515)scale(0.13 -0.13)\">\n",
       "      <use transform=\"translate(0 0.09375)\" xlink:href=\"#DejaVuSans-Oblique-85\"/>\n",
       "      <use transform=\"translate(73.193359 -16.3125)scale(0.7)\" xlink:href=\"#DejaVuSans-51\"/>\n",
       "     </g>\n",
       "    </g>\n",
       "   </g>\n",
       "   <g id=\"text_2\">\n",
       "    <g clip-path=\"url(#pec84ff1c80)\">\n",
       "     <!-- 0.5, 0, 0 -->\n",
       "     <defs>\n",
       "      <path d=\"M 31.78125 66.40625 \n",
       "Q 24.171875 66.40625 20.328125 58.90625 \n",
       "Q 16.5 51.421875 16.5 36.375 \n",
       "Q 16.5 21.390625 20.328125 13.890625 \n",
       "Q 24.171875 6.390625 31.78125 6.390625 \n",
       "Q 39.453125 6.390625 43.28125 13.890625 \n",
       "Q 47.125 21.390625 47.125 36.375 \n",
       "Q 47.125 51.421875 43.28125 58.90625 \n",
       "Q 39.453125 66.40625 31.78125 66.40625 \n",
       "z\n",
       "M 31.78125 74.21875 \n",
       "Q 44.046875 74.21875 50.515625 64.515625 \n",
       "Q 56.984375 54.828125 56.984375 36.375 \n",
       "Q 56.984375 17.96875 50.515625 8.265625 \n",
       "Q 44.046875 -1.421875 31.78125 -1.421875 \n",
       "Q 19.53125 -1.421875 13.0625 8.265625 \n",
       "Q 6.59375 17.96875 6.59375 36.375 \n",
       "Q 6.59375 54.828125 13.0625 64.515625 \n",
       "Q 19.53125 74.21875 31.78125 74.21875 \n",
       "z\n",
       "\" id=\"DejaVuSans-48\"/>\n",
       "      <path d=\"M 10.6875 12.40625 \n",
       "L 21 12.40625 \n",
       "L 21 0 \n",
       "L 10.6875 0 \n",
       "z\n",
       "\" id=\"DejaVuSans-46\"/>\n",
       "      <path d=\"M 10.796875 72.90625 \n",
       "L 49.515625 72.90625 \n",
       "L 49.515625 64.59375 \n",
       "L 19.828125 64.59375 \n",
       "L 19.828125 46.734375 \n",
       "Q 21.96875 47.46875 24.109375 47.828125 \n",
       "Q 26.265625 48.1875 28.421875 48.1875 \n",
       "Q 40.625 48.1875 47.75 41.5 \n",
       "Q 54.890625 34.8125 54.890625 23.390625 \n",
       "Q 54.890625 11.625 47.5625 5.09375 \n",
       "Q 40.234375 -1.421875 26.90625 -1.421875 \n",
       "Q 22.3125 -1.421875 17.546875 -0.640625 \n",
       "Q 12.796875 0.140625 7.71875 1.703125 \n",
       "L 7.71875 11.625 \n",
       "Q 12.109375 9.234375 16.796875 8.0625 \n",
       "Q 21.484375 6.890625 26.703125 6.890625 \n",
       "Q 35.15625 6.890625 40.078125 11.328125 \n",
       "Q 45.015625 15.765625 45.015625 23.390625 \n",
       "Q 45.015625 31 40.078125 35.4375 \n",
       "Q 35.15625 39.890625 26.703125 39.890625 \n",
       "Q 22.75 39.890625 18.8125 39.015625 \n",
       "Q 14.890625 38.140625 10.796875 36.28125 \n",
       "z\n",
       "\" id=\"DejaVuSans-53\"/>\n",
       "      <path d=\"M 11.71875 12.40625 \n",
       "L 22.015625 12.40625 \n",
       "L 22.015625 4 \n",
       "L 14.015625 -11.625 \n",
       "L 7.71875 -11.625 \n",
       "L 11.71875 4 \n",
       "z\n",
       "\" id=\"DejaVuSans-44\"/>\n",
       "      <path id=\"DejaVuSans-32\"/>\n",
       "     </defs>\n",
       "     <g transform=\"translate(135.19793 100.082245)scale(0.08 -0.08)\">\n",
       "      <use xlink:href=\"#DejaVuSans-48\"/>\n",
       "      <use x=\"63.623047\" xlink:href=\"#DejaVuSans-46\"/>\n",
       "      <use x=\"95.410156\" xlink:href=\"#DejaVuSans-53\"/>\n",
       "      <use x=\"159.033203\" xlink:href=\"#DejaVuSans-44\"/>\n",
       "      <use x=\"190.820312\" xlink:href=\"#DejaVuSans-32\"/>\n",
       "      <use x=\"222.607422\" xlink:href=\"#DejaVuSans-48\"/>\n",
       "      <use x=\"286.230469\" xlink:href=\"#DejaVuSans-44\"/>\n",
       "      <use x=\"318.017578\" xlink:href=\"#DejaVuSans-32\"/>\n",
       "      <use x=\"349.804688\" xlink:href=\"#DejaVuSans-48\"/>\n",
       "     </g>\n",
       "    </g>\n",
       "   </g>\n",
       "   <g id=\"text_3\">\n",
       "    <g clip-path=\"url(#pec84ff1c80)\">\n",
       "     <!-- $U_3$ -->\n",
       "     <g transform=\"translate(143.86918 133.618515)scale(0.13 -0.13)\">\n",
       "      <use transform=\"translate(0 0.09375)\" xlink:href=\"#DejaVuSans-Oblique-85\"/>\n",
       "      <use transform=\"translate(73.193359 -16.3125)scale(0.7)\" xlink:href=\"#DejaVuSans-51\"/>\n",
       "     </g>\n",
       "    </g>\n",
       "   </g>\n",
       "   <g id=\"text_4\">\n",
       "    <g clip-path=\"url(#pec84ff1c80)\">\n",
       "     <!-- 0.5, 0, 0 -->\n",
       "     <g transform=\"translate(135.19793 145.533245)scale(0.08 -0.08)\">\n",
       "      <use xlink:href=\"#DejaVuSans-48\"/>\n",
       "      <use x=\"63.623047\" xlink:href=\"#DejaVuSans-46\"/>\n",
       "      <use x=\"95.410156\" xlink:href=\"#DejaVuSans-53\"/>\n",
       "      <use x=\"159.033203\" xlink:href=\"#DejaVuSans-44\"/>\n",
       "      <use x=\"190.820312\" xlink:href=\"#DejaVuSans-32\"/>\n",
       "      <use x=\"222.607422\" xlink:href=\"#DejaVuSans-48\"/>\n",
       "      <use x=\"286.230469\" xlink:href=\"#DejaVuSans-44\"/>\n",
       "      <use x=\"318.017578\" xlink:href=\"#DejaVuSans-32\"/>\n",
       "      <use x=\"349.804688\" xlink:href=\"#DejaVuSans-48\"/>\n",
       "     </g>\n",
       "    </g>\n",
       "   </g>\n",
       "   <g id=\"text_5\">\n",
       "    <g clip-path=\"url(#pec84ff1c80)\">\n",
       "     <!-- $U_3$ -->\n",
       "     <g transform=\"translate(143.86918 179.069515)scale(0.13 -0.13)\">\n",
       "      <use transform=\"translate(0 0.09375)\" xlink:href=\"#DejaVuSans-Oblique-85\"/>\n",
       "      <use transform=\"translate(73.193359 -16.3125)scale(0.7)\" xlink:href=\"#DejaVuSans-51\"/>\n",
       "     </g>\n",
       "    </g>\n",
       "   </g>\n",
       "   <g id=\"text_6\">\n",
       "    <g clip-path=\"url(#pec84ff1c80)\">\n",
       "     <!-- 0.5, 0, 0 -->\n",
       "     <g transform=\"translate(135.19793 190.984245)scale(0.08 -0.08)\">\n",
       "      <use xlink:href=\"#DejaVuSans-48\"/>\n",
       "      <use x=\"63.623047\" xlink:href=\"#DejaVuSans-46\"/>\n",
       "      <use x=\"95.410156\" xlink:href=\"#DejaVuSans-53\"/>\n",
       "      <use x=\"159.033203\" xlink:href=\"#DejaVuSans-44\"/>\n",
       "      <use x=\"190.820312\" xlink:href=\"#DejaVuSans-32\"/>\n",
       "      <use x=\"222.607422\" xlink:href=\"#DejaVuSans-48\"/>\n",
       "      <use x=\"286.230469\" xlink:href=\"#DejaVuSans-44\"/>\n",
       "      <use x=\"318.017578\" xlink:href=\"#DejaVuSans-32\"/>\n",
       "      <use x=\"349.804688\" xlink:href=\"#DejaVuSans-48\"/>\n",
       "     </g>\n",
       "    </g>\n",
       "   </g>\n",
       "   <g id=\"text_7\">\n",
       "    <g clip-path=\"url(#pec84ff1c80)\">\n",
       "     <!-- $U_3$ -->\n",
       "     <g transform=\"translate(280.22218 88.167515)scale(0.13 -0.13)\">\n",
       "      <use transform=\"translate(0 0.09375)\" xlink:href=\"#DejaVuSans-Oblique-85\"/>\n",
       "      <use transform=\"translate(73.193359 -16.3125)scale(0.7)\" xlink:href=\"#DejaVuSans-51\"/>\n",
       "     </g>\n",
       "    </g>\n",
       "   </g>\n",
       "   <g id=\"text_8\">\n",
       "    <g clip-path=\"url(#pec84ff1c80)\">\n",
       "     <!-- $-$0.5, 0, 0 -->\n",
       "     <defs>\n",
       "      <path d=\"M 10.59375 35.5 \n",
       "L 73.1875 35.5 \n",
       "L 73.1875 27.203125 \n",
       "L 10.59375 27.203125 \n",
       "z\n",
       "\" id=\"DejaVuSans-8722\"/>\n",
       "     </defs>\n",
       "     <g transform=\"translate(268.16718 100.082245)scale(0.08 -0.08)\">\n",
       "      <use transform=\"translate(0 0.78125)\" xlink:href=\"#DejaVuSans-8722\"/>\n",
       "      <use transform=\"translate(83.789062 0.78125)\" xlink:href=\"#DejaVuSans-48\"/>\n",
       "      <use transform=\"translate(147.412109 0.78125)\" xlink:href=\"#DejaVuSans-46\"/>\n",
       "      <use transform=\"translate(179.199219 0.78125)\" xlink:href=\"#DejaVuSans-53\"/>\n",
       "      <use transform=\"translate(242.822266 0.78125)\" xlink:href=\"#DejaVuSans-44\"/>\n",
       "      <use transform=\"translate(274.609375 0.78125)\" xlink:href=\"#DejaVuSans-32\"/>\n",
       "      <use transform=\"translate(306.396484 0.78125)\" xlink:href=\"#DejaVuSans-48\"/>\n",
       "      <use transform=\"translate(370.019531 0.78125)\" xlink:href=\"#DejaVuSans-44\"/>\n",
       "      <use transform=\"translate(401.806641 0.78125)\" xlink:href=\"#DejaVuSans-32\"/>\n",
       "      <use transform=\"translate(433.59375 0.78125)\" xlink:href=\"#DejaVuSans-48\"/>\n",
       "     </g>\n",
       "    </g>\n",
       "   </g>\n",
       "   <g id=\"text_9\">\n",
       "    <g clip-path=\"url(#pec84ff1c80)\">\n",
       "     <!-- $U_3$ -->\n",
       "     <g transform=\"translate(462.02618 133.618515)scale(0.13 -0.13)\">\n",
       "      <use transform=\"translate(0 0.09375)\" xlink:href=\"#DejaVuSans-Oblique-85\"/>\n",
       "      <use transform=\"translate(73.193359 -16.3125)scale(0.7)\" xlink:href=\"#DejaVuSans-51\"/>\n",
       "     </g>\n",
       "    </g>\n",
       "   </g>\n",
       "   <g id=\"text_10\">\n",
       "    <g clip-path=\"url(#pec84ff1c80)\">\n",
       "     <!-- $-$0.5, 0, 0 -->\n",
       "     <g transform=\"translate(449.97118 145.533245)scale(0.08 -0.08)\">\n",
       "      <use transform=\"translate(0 0.78125)\" xlink:href=\"#DejaVuSans-8722\"/>\n",
       "      <use transform=\"translate(83.789062 0.78125)\" xlink:href=\"#DejaVuSans-48\"/>\n",
       "      <use transform=\"translate(147.412109 0.78125)\" xlink:href=\"#DejaVuSans-46\"/>\n",
       "      <use transform=\"translate(179.199219 0.78125)\" xlink:href=\"#DejaVuSans-53\"/>\n",
       "      <use transform=\"translate(242.822266 0.78125)\" xlink:href=\"#DejaVuSans-44\"/>\n",
       "      <use transform=\"translate(274.609375 0.78125)\" xlink:href=\"#DejaVuSans-32\"/>\n",
       "      <use transform=\"translate(306.396484 0.78125)\" xlink:href=\"#DejaVuSans-48\"/>\n",
       "      <use transform=\"translate(370.019531 0.78125)\" xlink:href=\"#DejaVuSans-44\"/>\n",
       "      <use transform=\"translate(401.806641 0.78125)\" xlink:href=\"#DejaVuSans-32\"/>\n",
       "      <use transform=\"translate(433.59375 0.78125)\" xlink:href=\"#DejaVuSans-48\"/>\n",
       "     </g>\n",
       "    </g>\n",
       "   </g>\n",
       "   <g id=\"text_11\">\n",
       "    <g clip-path=\"url(#pec84ff1c80)\">\n",
       "     <!-- $U_3$ -->\n",
       "     <g transform=\"translate(643.83018 179.069515)scale(0.13 -0.13)\">\n",
       "      <use transform=\"translate(0 0.09375)\" xlink:href=\"#DejaVuSans-Oblique-85\"/>\n",
       "      <use transform=\"translate(73.193359 -16.3125)scale(0.7)\" xlink:href=\"#DejaVuSans-51\"/>\n",
       "     </g>\n",
       "    </g>\n",
       "   </g>\n",
       "   <g id=\"text_12\">\n",
       "    <g clip-path=\"url(#pec84ff1c80)\">\n",
       "     <!-- $-$0.5, 0, 0 -->\n",
       "     <g transform=\"translate(631.77518 190.984245)scale(0.08 -0.08)\">\n",
       "      <use transform=\"translate(0 0.78125)\" xlink:href=\"#DejaVuSans-8722\"/>\n",
       "      <use transform=\"translate(83.789062 0.78125)\" xlink:href=\"#DejaVuSans-48\"/>\n",
       "      <use transform=\"translate(147.412109 0.78125)\" xlink:href=\"#DejaVuSans-46\"/>\n",
       "      <use transform=\"translate(179.199219 0.78125)\" xlink:href=\"#DejaVuSans-53\"/>\n",
       "      <use transform=\"translate(242.822266 0.78125)\" xlink:href=\"#DejaVuSans-44\"/>\n",
       "      <use transform=\"translate(274.609375 0.78125)\" xlink:href=\"#DejaVuSans-32\"/>\n",
       "      <use transform=\"translate(306.396484 0.78125)\" xlink:href=\"#DejaVuSans-48\"/>\n",
       "      <use transform=\"translate(370.019531 0.78125)\" xlink:href=\"#DejaVuSans-44\"/>\n",
       "      <use transform=\"translate(401.806641 0.78125)\" xlink:href=\"#DejaVuSans-32\"/>\n",
       "      <use transform=\"translate(433.59375 0.78125)\" xlink:href=\"#DejaVuSans-48\"/>\n",
       "     </g>\n",
       "    </g>\n",
       "   </g>\n",
       "   <g id=\"text_13\">\n",
       "    <g clip-path=\"url(#pec84ff1c80)\">\n",
       "     <!-- $Z$ -->\n",
       "     <defs>\n",
       "      <path d=\"M 13.09375 72.90625 \n",
       "L 70.3125 72.90625 \n",
       "L 68.890625 65.375 \n",
       "L 12.40625 8.296875 \n",
       "L 58.890625 8.296875 \n",
       "L 57.328125 0 \n",
       "L -2.203125 0 \n",
       "L -0.78125 7.515625 \n",
       "L 55.71875 64.59375 \n",
       "L 11.53125 64.59375 \n",
       "z\n",
       "\" id=\"DejaVuSans-Oblique-90\"/>\n",
       "     </defs>\n",
       "     <g transform=\"translate(806.28868 228.951987)scale(0.13 -0.13)\">\n",
       "      <use transform=\"translate(0 0.09375)\" xlink:href=\"#DejaVuSans-Oblique-90\"/>\n",
       "     </g>\n",
       "    </g>\n",
       "   </g>\n",
       "   <g id=\"text_14\">\n",
       "    <g clip-path=\"url(#pec84ff1c80)\">\n",
       "     <!-- $U_3$ -->\n",
       "     <g transform=\"translate(961.98718 133.618515)scale(0.13 -0.13)\">\n",
       "      <use transform=\"translate(0 0.09375)\" xlink:href=\"#DejaVuSans-Oblique-85\"/>\n",
       "      <use transform=\"translate(73.193359 -16.3125)scale(0.7)\" xlink:href=\"#DejaVuSans-51\"/>\n",
       "     </g>\n",
       "    </g>\n",
       "   </g>\n",
       "   <g id=\"text_15\">\n",
       "    <g clip-path=\"url(#pec84ff1c80)\">\n",
       "     <!-- 0.5, 0, 0 -->\n",
       "     <g transform=\"translate(953.31593 145.533245)scale(0.08 -0.08)\">\n",
       "      <use xlink:href=\"#DejaVuSans-48\"/>\n",
       "      <use x=\"63.623047\" xlink:href=\"#DejaVuSans-46\"/>\n",
       "      <use x=\"95.410156\" xlink:href=\"#DejaVuSans-53\"/>\n",
       "      <use x=\"159.033203\" xlink:href=\"#DejaVuSans-44\"/>\n",
       "      <use x=\"190.820312\" xlink:href=\"#DejaVuSans-32\"/>\n",
       "      <use x=\"222.607422\" xlink:href=\"#DejaVuSans-48\"/>\n",
       "      <use x=\"286.230469\" xlink:href=\"#DejaVuSans-44\"/>\n",
       "      <use x=\"318.017578\" xlink:href=\"#DejaVuSans-32\"/>\n",
       "      <use x=\"349.804688\" xlink:href=\"#DejaVuSans-48\"/>\n",
       "     </g>\n",
       "    </g>\n",
       "   </g>\n",
       "   <g id=\"text_16\">\n",
       "    <g clip-path=\"url(#pec84ff1c80)\">\n",
       "     <!-- $Z$ -->\n",
       "     <g transform=\"translate(965.36718 228.951987)scale(0.13 -0.13)\">\n",
       "      <use transform=\"translate(0 0.09375)\" xlink:href=\"#DejaVuSans-Oblique-90\"/>\n",
       "     </g>\n",
       "    </g>\n",
       "   </g>\n",
       "   <g id=\"text_17\">\n",
       "    <g clip-path=\"url(#pec84ff1c80)\">\n",
       "     <!-- $U_3$ -->\n",
       "     <g transform=\"translate(1098.34018 179.069515)scale(0.13 -0.13)\">\n",
       "      <use transform=\"translate(0 0.09375)\" xlink:href=\"#DejaVuSans-Oblique-85\"/>\n",
       "      <use transform=\"translate(73.193359 -16.3125)scale(0.7)\" xlink:href=\"#DejaVuSans-51\"/>\n",
       "     </g>\n",
       "    </g>\n",
       "   </g>\n",
       "   <g id=\"text_18\">\n",
       "    <g clip-path=\"url(#pec84ff1c80)\">\n",
       "     <!-- 0.5, 0, 0 -->\n",
       "     <g transform=\"translate(1089.66893 190.984245)scale(0.08 -0.08)\">\n",
       "      <use xlink:href=\"#DejaVuSans-48\"/>\n",
       "      <use x=\"63.623047\" xlink:href=\"#DejaVuSans-46\"/>\n",
       "      <use x=\"95.410156\" xlink:href=\"#DejaVuSans-53\"/>\n",
       "      <use x=\"159.033203\" xlink:href=\"#DejaVuSans-44\"/>\n",
       "      <use x=\"190.820312\" xlink:href=\"#DejaVuSans-32\"/>\n",
       "      <use x=\"222.607422\" xlink:href=\"#DejaVuSans-48\"/>\n",
       "      <use x=\"286.230469\" xlink:href=\"#DejaVuSans-44\"/>\n",
       "      <use x=\"318.017578\" xlink:href=\"#DejaVuSans-32\"/>\n",
       "      <use x=\"349.804688\" xlink:href=\"#DejaVuSans-48\"/>\n",
       "     </g>\n",
       "    </g>\n",
       "   </g>\n",
       "   <g id=\"text_19\">\n",
       "    <g clip-path=\"url(#pec84ff1c80)\">\n",
       "     <!-- $U_3$ -->\n",
       "     <g transform=\"translate(1098.34018 88.167515)scale(0.13 -0.13)\">\n",
       "      <use transform=\"translate(0 0.09375)\" xlink:href=\"#DejaVuSans-Oblique-85\"/>\n",
       "      <use transform=\"translate(73.193359 -16.3125)scale(0.7)\" xlink:href=\"#DejaVuSans-51\"/>\n",
       "     </g>\n",
       "    </g>\n",
       "   </g>\n",
       "   <g id=\"text_20\">\n",
       "    <g clip-path=\"url(#pec84ff1c80)\">\n",
       "     <!-- 0.5, 0, 0 -->\n",
       "     <g transform=\"translate(1089.66893 100.082245)scale(0.08 -0.08)\">\n",
       "      <use xlink:href=\"#DejaVuSans-48\"/>\n",
       "      <use x=\"63.623047\" xlink:href=\"#DejaVuSans-46\"/>\n",
       "      <use x=\"95.410156\" xlink:href=\"#DejaVuSans-53\"/>\n",
       "      <use x=\"159.033203\" xlink:href=\"#DejaVuSans-44\"/>\n",
       "      <use x=\"190.820312\" xlink:href=\"#DejaVuSans-32\"/>\n",
       "      <use x=\"222.607422\" xlink:href=\"#DejaVuSans-48\"/>\n",
       "      <use x=\"286.230469\" xlink:href=\"#DejaVuSans-44\"/>\n",
       "      <use x=\"318.017578\" xlink:href=\"#DejaVuSans-32\"/>\n",
       "      <use x=\"349.804688\" xlink:href=\"#DejaVuSans-48\"/>\n",
       "     </g>\n",
       "    </g>\n",
       "   </g>\n",
       "   <g id=\"text_21\">\n",
       "    <g clip-path=\"url(#pec84ff1c80)\">\n",
       "     <!-- $U_3$ -->\n",
       "     <g transform=\"translate(143.86918 360.873515)scale(0.13 -0.13)\">\n",
       "      <use transform=\"translate(0 0.09375)\" xlink:href=\"#DejaVuSans-Oblique-85\"/>\n",
       "      <use transform=\"translate(73.193359 -16.3125)scale(0.7)\" xlink:href=\"#DejaVuSans-51\"/>\n",
       "     </g>\n",
       "    </g>\n",
       "   </g>\n",
       "   <g id=\"text_22\">\n",
       "    <g clip-path=\"url(#pec84ff1c80)\">\n",
       "     <!-- $-$0.5, 0, 0 -->\n",
       "     <g transform=\"translate(131.81418 372.788245)scale(0.08 -0.08)\">\n",
       "      <use transform=\"translate(0 0.78125)\" xlink:href=\"#DejaVuSans-8722\"/>\n",
       "      <use transform=\"translate(83.789062 0.78125)\" xlink:href=\"#DejaVuSans-48\"/>\n",
       "      <use transform=\"translate(147.412109 0.78125)\" xlink:href=\"#DejaVuSans-46\"/>\n",
       "      <use transform=\"translate(179.199219 0.78125)\" xlink:href=\"#DejaVuSans-53\"/>\n",
       "      <use transform=\"translate(242.822266 0.78125)\" xlink:href=\"#DejaVuSans-44\"/>\n",
       "      <use transform=\"translate(274.609375 0.78125)\" xlink:href=\"#DejaVuSans-32\"/>\n",
       "      <use transform=\"translate(306.396484 0.78125)\" xlink:href=\"#DejaVuSans-48\"/>\n",
       "      <use transform=\"translate(370.019531 0.78125)\" xlink:href=\"#DejaVuSans-44\"/>\n",
       "      <use transform=\"translate(401.806641 0.78125)\" xlink:href=\"#DejaVuSans-32\"/>\n",
       "      <use transform=\"translate(433.59375 0.78125)\" xlink:href=\"#DejaVuSans-48\"/>\n",
       "     </g>\n",
       "    </g>\n",
       "   </g>\n",
       "   <g id=\"text_23\">\n",
       "    <g clip-path=\"url(#pec84ff1c80)\">\n",
       "     <!-- $U_3$ -->\n",
       "     <g transform=\"translate(325.67318 406.324515)scale(0.13 -0.13)\">\n",
       "      <use transform=\"translate(0 0.09375)\" xlink:href=\"#DejaVuSans-Oblique-85\"/>\n",
       "      <use transform=\"translate(73.193359 -16.3125)scale(0.7)\" xlink:href=\"#DejaVuSans-51\"/>\n",
       "     </g>\n",
       "    </g>\n",
       "   </g>\n",
       "   <g id=\"text_24\">\n",
       "    <g clip-path=\"url(#pec84ff1c80)\">\n",
       "     <!-- $-$0.5, 0, 0 -->\n",
       "     <g transform=\"translate(313.61818 418.239245)scale(0.08 -0.08)\">\n",
       "      <use transform=\"translate(0 0.78125)\" xlink:href=\"#DejaVuSans-8722\"/>\n",
       "      <use transform=\"translate(83.789062 0.78125)\" xlink:href=\"#DejaVuSans-48\"/>\n",
       "      <use transform=\"translate(147.412109 0.78125)\" xlink:href=\"#DejaVuSans-46\"/>\n",
       "      <use transform=\"translate(179.199219 0.78125)\" xlink:href=\"#DejaVuSans-53\"/>\n",
       "      <use transform=\"translate(242.822266 0.78125)\" xlink:href=\"#DejaVuSans-44\"/>\n",
       "      <use transform=\"translate(274.609375 0.78125)\" xlink:href=\"#DejaVuSans-32\"/>\n",
       "      <use transform=\"translate(306.396484 0.78125)\" xlink:href=\"#DejaVuSans-48\"/>\n",
       "      <use transform=\"translate(370.019531 0.78125)\" xlink:href=\"#DejaVuSans-44\"/>\n",
       "      <use transform=\"translate(401.806641 0.78125)\" xlink:href=\"#DejaVuSans-32\"/>\n",
       "      <use transform=\"translate(433.59375 0.78125)\" xlink:href=\"#DejaVuSans-48\"/>\n",
       "     </g>\n",
       "    </g>\n",
       "   </g>\n",
       "   <g id=\"text_25\">\n",
       "    <g clip-path=\"url(#pec84ff1c80)\">\n",
       "     <!-- $U_3$ -->\n",
       "     <g transform=\"translate(507.47718 451.775515)scale(0.13 -0.13)\">\n",
       "      <use transform=\"translate(0 0.09375)\" xlink:href=\"#DejaVuSans-Oblique-85\"/>\n",
       "      <use transform=\"translate(73.193359 -16.3125)scale(0.7)\" xlink:href=\"#DejaVuSans-51\"/>\n",
       "     </g>\n",
       "    </g>\n",
       "   </g>\n",
       "   <g id=\"text_26\">\n",
       "    <g clip-path=\"url(#pec84ff1c80)\">\n",
       "     <!-- $-$0.5, 0, 0 -->\n",
       "     <g transform=\"translate(495.42218 463.690245)scale(0.08 -0.08)\">\n",
       "      <use transform=\"translate(0 0.78125)\" xlink:href=\"#DejaVuSans-8722\"/>\n",
       "      <use transform=\"translate(83.789062 0.78125)\" xlink:href=\"#DejaVuSans-48\"/>\n",
       "      <use transform=\"translate(147.412109 0.78125)\" xlink:href=\"#DejaVuSans-46\"/>\n",
       "      <use transform=\"translate(179.199219 0.78125)\" xlink:href=\"#DejaVuSans-53\"/>\n",
       "      <use transform=\"translate(242.822266 0.78125)\" xlink:href=\"#DejaVuSans-44\"/>\n",
       "      <use transform=\"translate(274.609375 0.78125)\" xlink:href=\"#DejaVuSans-32\"/>\n",
       "      <use transform=\"translate(306.396484 0.78125)\" xlink:href=\"#DejaVuSans-48\"/>\n",
       "      <use transform=\"translate(370.019531 0.78125)\" xlink:href=\"#DejaVuSans-44\"/>\n",
       "      <use transform=\"translate(401.806641 0.78125)\" xlink:href=\"#DejaVuSans-32\"/>\n",
       "      <use transform=\"translate(433.59375 0.78125)\" xlink:href=\"#DejaVuSans-48\"/>\n",
       "     </g>\n",
       "    </g>\n",
       "   </g>\n",
       "   <g id=\"text_27\">\n",
       "    <g clip-path=\"url(#pec84ff1c80)\">\n",
       "     <!-- $Z$ -->\n",
       "     <g transform=\"translate(669.93568 501.657987)scale(0.13 -0.13)\">\n",
       "      <use transform=\"translate(0 0.09375)\" xlink:href=\"#DejaVuSans-Oblique-90\"/>\n",
       "     </g>\n",
       "    </g>\n",
       "   </g>\n",
       "   <g id=\"text_28\">\n",
       "    <g clip-path=\"url(#pec84ff1c80)\">\n",
       "     <!-- $U_3$ -->\n",
       "     <g transform=\"translate(780.18318 406.324515)scale(0.13 -0.13)\">\n",
       "      <use transform=\"translate(0 0.09375)\" xlink:href=\"#DejaVuSans-Oblique-85\"/>\n",
       "      <use transform=\"translate(73.193359 -16.3125)scale(0.7)\" xlink:href=\"#DejaVuSans-51\"/>\n",
       "     </g>\n",
       "    </g>\n",
       "   </g>\n",
       "   <g id=\"text_29\">\n",
       "    <g clip-path=\"url(#pec84ff1c80)\">\n",
       "     <!-- 0.5, 0, 0 -->\n",
       "     <g transform=\"translate(771.51193 418.239245)scale(0.08 -0.08)\">\n",
       "      <use xlink:href=\"#DejaVuSans-48\"/>\n",
       "      <use x=\"63.623047\" xlink:href=\"#DejaVuSans-46\"/>\n",
       "      <use x=\"95.410156\" xlink:href=\"#DejaVuSans-53\"/>\n",
       "      <use x=\"159.033203\" xlink:href=\"#DejaVuSans-44\"/>\n",
       "      <use x=\"190.820312\" xlink:href=\"#DejaVuSans-32\"/>\n",
       "      <use x=\"222.607422\" xlink:href=\"#DejaVuSans-48\"/>\n",
       "      <use x=\"286.230469\" xlink:href=\"#DejaVuSans-44\"/>\n",
       "      <use x=\"318.017578\" xlink:href=\"#DejaVuSans-32\"/>\n",
       "      <use x=\"349.804688\" xlink:href=\"#DejaVuSans-48\"/>\n",
       "     </g>\n",
       "    </g>\n",
       "   </g>\n",
       "   <g id=\"text_30\">\n",
       "    <g clip-path=\"url(#pec84ff1c80)\">\n",
       "     <!-- $Z$ -->\n",
       "     <g transform=\"translate(897.19068 501.657987)scale(0.13 -0.13)\">\n",
       "      <use transform=\"translate(0 0.09375)\" xlink:href=\"#DejaVuSans-Oblique-90\"/>\n",
       "     </g>\n",
       "    </g>\n",
       "   </g>\n",
       "   <g id=\"text_31\">\n",
       "    <g clip-path=\"url(#pec84ff1c80)\">\n",
       "     <!-- $U_3$ -->\n",
       "     <g transform=\"translate(1007.43818 451.775515)scale(0.13 -0.13)\">\n",
       "      <use transform=\"translate(0 0.09375)\" xlink:href=\"#DejaVuSans-Oblique-85\"/>\n",
       "      <use transform=\"translate(73.193359 -16.3125)scale(0.7)\" xlink:href=\"#DejaVuSans-51\"/>\n",
       "     </g>\n",
       "    </g>\n",
       "   </g>\n",
       "   <g id=\"text_32\">\n",
       "    <g clip-path=\"url(#pec84ff1c80)\">\n",
       "     <!-- 0.5, 0, 0 -->\n",
       "     <g transform=\"translate(998.76693 463.690245)scale(0.08 -0.08)\">\n",
       "      <use xlink:href=\"#DejaVuSans-48\"/>\n",
       "      <use x=\"63.623047\" xlink:href=\"#DejaVuSans-46\"/>\n",
       "      <use x=\"95.410156\" xlink:href=\"#DejaVuSans-53\"/>\n",
       "      <use x=\"159.033203\" xlink:href=\"#DejaVuSans-44\"/>\n",
       "      <use x=\"190.820312\" xlink:href=\"#DejaVuSans-32\"/>\n",
       "      <use x=\"222.607422\" xlink:href=\"#DejaVuSans-48\"/>\n",
       "      <use x=\"286.230469\" xlink:href=\"#DejaVuSans-44\"/>\n",
       "      <use x=\"318.017578\" xlink:href=\"#DejaVuSans-32\"/>\n",
       "      <use x=\"349.804688\" xlink:href=\"#DejaVuSans-48\"/>\n",
       "     </g>\n",
       "    </g>\n",
       "   </g>\n",
       "   <g id=\"text_33\">\n",
       "    <g clip-path=\"url(#pec84ff1c80)\">\n",
       "     <!-- $U_3$ -->\n",
       "     <g transform=\"translate(1007.43818 360.873515)scale(0.13 -0.13)\">\n",
       "      <use transform=\"translate(0 0.09375)\" xlink:href=\"#DejaVuSans-Oblique-85\"/>\n",
       "      <use transform=\"translate(73.193359 -16.3125)scale(0.7)\" xlink:href=\"#DejaVuSans-51\"/>\n",
       "     </g>\n",
       "    </g>\n",
       "   </g>\n",
       "   <g id=\"text_34\">\n",
       "    <g clip-path=\"url(#pec84ff1c80)\">\n",
       "     <!-- 0.5, 0, 0 -->\n",
       "     <g transform=\"translate(998.76693 372.788245)scale(0.08 -0.08)\">\n",
       "      <use xlink:href=\"#DejaVuSans-48\"/>\n",
       "      <use x=\"63.623047\" xlink:href=\"#DejaVuSans-46\"/>\n",
       "      <use x=\"95.410156\" xlink:href=\"#DejaVuSans-53\"/>\n",
       "      <use x=\"159.033203\" xlink:href=\"#DejaVuSans-44\"/>\n",
       "      <use x=\"190.820312\" xlink:href=\"#DejaVuSans-32\"/>\n",
       "      <use x=\"222.607422\" xlink:href=\"#DejaVuSans-48\"/>\n",
       "      <use x=\"286.230469\" xlink:href=\"#DejaVuSans-44\"/>\n",
       "      <use x=\"318.017578\" xlink:href=\"#DejaVuSans-32\"/>\n",
       "      <use x=\"349.804688\" xlink:href=\"#DejaVuSans-48\"/>\n",
       "     </g>\n",
       "    </g>\n",
       "   </g>\n",
       "   <g id=\"text_35\">\n",
       "    <g clip-path=\"url(#pec84ff1c80)\">\n",
       "     <!-- $U_3$ -->\n",
       "     <g transform=\"translate(1143.79118 360.873515)scale(0.13 -0.13)\">\n",
       "      <use transform=\"translate(0 0.09375)\" xlink:href=\"#DejaVuSans-Oblique-85\"/>\n",
       "      <use transform=\"translate(73.193359 -16.3125)scale(0.7)\" xlink:href=\"#DejaVuSans-51\"/>\n",
       "     </g>\n",
       "    </g>\n",
       "   </g>\n",
       "   <g id=\"text_36\">\n",
       "    <g clip-path=\"url(#pec84ff1c80)\">\n",
       "     <!-- $-$0.5, 0, 0 -->\n",
       "     <g transform=\"translate(1131.73618 372.788245)scale(0.08 -0.08)\">\n",
       "      <use transform=\"translate(0 0.78125)\" xlink:href=\"#DejaVuSans-8722\"/>\n",
       "      <use transform=\"translate(83.789062 0.78125)\" xlink:href=\"#DejaVuSans-48\"/>\n",
       "      <use transform=\"translate(147.412109 0.78125)\" xlink:href=\"#DejaVuSans-46\"/>\n",
       "      <use transform=\"translate(179.199219 0.78125)\" xlink:href=\"#DejaVuSans-53\"/>\n",
       "      <use transform=\"translate(242.822266 0.78125)\" xlink:href=\"#DejaVuSans-44\"/>\n",
       "      <use transform=\"translate(274.609375 0.78125)\" xlink:href=\"#DejaVuSans-32\"/>\n",
       "      <use transform=\"translate(306.396484 0.78125)\" xlink:href=\"#DejaVuSans-48\"/>\n",
       "      <use transform=\"translate(370.019531 0.78125)\" xlink:href=\"#DejaVuSans-44\"/>\n",
       "      <use transform=\"translate(401.806641 0.78125)\" xlink:href=\"#DejaVuSans-32\"/>\n",
       "      <use transform=\"translate(433.59375 0.78125)\" xlink:href=\"#DejaVuSans-48\"/>\n",
       "     </g>\n",
       "    </g>\n",
       "   </g>\n",
       "   <g id=\"text_37\">\n",
       "    <g clip-path=\"url(#pec84ff1c80)\">\n",
       "     <!-- $U_3$ -->\n",
       "     <g transform=\"translate(189.32018 679.030515)scale(0.13 -0.13)\">\n",
       "      <use transform=\"translate(0 0.09375)\" xlink:href=\"#DejaVuSans-Oblique-85\"/>\n",
       "      <use transform=\"translate(73.193359 -16.3125)scale(0.7)\" xlink:href=\"#DejaVuSans-51\"/>\n",
       "     </g>\n",
       "    </g>\n",
       "   </g>\n",
       "   <g id=\"text_38\">\n",
       "    <g clip-path=\"url(#pec84ff1c80)\">\n",
       "     <!-- $-$0.5, 0, 0 -->\n",
       "     <g transform=\"translate(177.26518 690.945245)scale(0.08 -0.08)\">\n",
       "      <use transform=\"translate(0 0.78125)\" xlink:href=\"#DejaVuSans-8722\"/>\n",
       "      <use transform=\"translate(83.789062 0.78125)\" xlink:href=\"#DejaVuSans-48\"/>\n",
       "      <use transform=\"translate(147.412109 0.78125)\" xlink:href=\"#DejaVuSans-46\"/>\n",
       "      <use transform=\"translate(179.199219 0.78125)\" xlink:href=\"#DejaVuSans-53\"/>\n",
       "      <use transform=\"translate(242.822266 0.78125)\" xlink:href=\"#DejaVuSans-44\"/>\n",
       "      <use transform=\"translate(274.609375 0.78125)\" xlink:href=\"#DejaVuSans-32\"/>\n",
       "      <use transform=\"translate(306.396484 0.78125)\" xlink:href=\"#DejaVuSans-48\"/>\n",
       "      <use transform=\"translate(370.019531 0.78125)\" xlink:href=\"#DejaVuSans-44\"/>\n",
       "      <use transform=\"translate(401.806641 0.78125)\" xlink:href=\"#DejaVuSans-32\"/>\n",
       "      <use transform=\"translate(433.59375 0.78125)\" xlink:href=\"#DejaVuSans-48\"/>\n",
       "     </g>\n",
       "    </g>\n",
       "   </g>\n",
       "   <g id=\"text_39\">\n",
       "    <g clip-path=\"url(#pec84ff1c80)\">\n",
       "     <!-- $U_3$ -->\n",
       "     <g transform=\"translate(371.12418 724.481515)scale(0.13 -0.13)\">\n",
       "      <use transform=\"translate(0 0.09375)\" xlink:href=\"#DejaVuSans-Oblique-85\"/>\n",
       "      <use transform=\"translate(73.193359 -16.3125)scale(0.7)\" xlink:href=\"#DejaVuSans-51\"/>\n",
       "     </g>\n",
       "    </g>\n",
       "   </g>\n",
       "   <g id=\"text_40\">\n",
       "    <g clip-path=\"url(#pec84ff1c80)\">\n",
       "     <!-- $-$0.5, 0, 0 -->\n",
       "     <g transform=\"translate(359.06918 736.396245)scale(0.08 -0.08)\">\n",
       "      <use transform=\"translate(0 0.78125)\" xlink:href=\"#DejaVuSans-8722\"/>\n",
       "      <use transform=\"translate(83.789062 0.78125)\" xlink:href=\"#DejaVuSans-48\"/>\n",
       "      <use transform=\"translate(147.412109 0.78125)\" xlink:href=\"#DejaVuSans-46\"/>\n",
       "      <use transform=\"translate(179.199219 0.78125)\" xlink:href=\"#DejaVuSans-53\"/>\n",
       "      <use transform=\"translate(242.822266 0.78125)\" xlink:href=\"#DejaVuSans-44\"/>\n",
       "      <use transform=\"translate(274.609375 0.78125)\" xlink:href=\"#DejaVuSans-32\"/>\n",
       "      <use transform=\"translate(306.396484 0.78125)\" xlink:href=\"#DejaVuSans-48\"/>\n",
       "      <use transform=\"translate(370.019531 0.78125)\" xlink:href=\"#DejaVuSans-44\"/>\n",
       "      <use transform=\"translate(401.806641 0.78125)\" xlink:href=\"#DejaVuSans-32\"/>\n",
       "      <use transform=\"translate(433.59375 0.78125)\" xlink:href=\"#DejaVuSans-48\"/>\n",
       "     </g>\n",
       "    </g>\n",
       "   </g>\n",
       "   <g id=\"text_41\">\n",
       "    <g clip-path=\"url(#pec84ff1c80)\">\n",
       "     <!-- $q0_{0}$ -->\n",
       "     <defs>\n",
       "      <path d=\"M 41.703125 8.203125 \n",
       "Q 38.09375 3.46875 33.171875 1.015625 \n",
       "Q 28.265625 -1.421875 22.3125 -1.421875 \n",
       "Q 14.015625 -1.421875 9.296875 4.171875 \n",
       "Q 4.59375 9.765625 4.59375 19.578125 \n",
       "Q 4.59375 27.484375 7.5 34.859375 \n",
       "Q 10.40625 42.234375 15.828125 48.09375 \n",
       "Q 19.34375 51.90625 23.90625 53.953125 \n",
       "Q 28.46875 56 33.5 56 \n",
       "Q 39.546875 56 43.453125 53.609375 \n",
       "Q 47.359375 51.21875 49.125 46.390625 \n",
       "L 50.6875 54.59375 \n",
       "L 59.71875 54.59375 \n",
       "L 45.125 -20.609375 \n",
       "L 36.078125 -20.609375 \n",
       "z\n",
       "M 13.921875 20.90625 \n",
       "Q 13.921875 13.671875 16.9375 9.890625 \n",
       "Q 19.96875 6.109375 25.6875 6.109375 \n",
       "Q 34.1875 6.109375 40.1875 14.234375 \n",
       "Q 46.1875 22.359375 46.1875 33.984375 \n",
       "Q 46.1875 41.015625 43.078125 44.75 \n",
       "Q 39.984375 48.484375 34.1875 48.484375 \n",
       "Q 29.9375 48.484375 26.3125 46.5 \n",
       "Q 22.703125 44.53125 20.015625 40.71875 \n",
       "Q 17.1875 36.71875 15.546875 31.34375 \n",
       "Q 13.921875 25.984375 13.921875 20.90625 \n",
       "z\n",
       "\" id=\"DejaVuSans-Oblique-113\"/>\n",
       "     </defs>\n",
       "     <g transform=\"translate(54.95768 48.011777)scale(0.1625 -0.1625)\">\n",
       "      <use transform=\"translate(0 0.78125)\" xlink:href=\"#DejaVuSans-Oblique-113\"/>\n",
       "      <use transform=\"translate(63.476562 0.78125)\" xlink:href=\"#DejaVuSans-48\"/>\n",
       "      <use transform=\"translate(128.056641 -15.625)scale(0.7)\" xlink:href=\"#DejaVuSans-48\"/>\n",
       "     </g>\n",
       "    </g>\n",
       "   </g>\n",
       "   <g id=\"text_42\">\n",
       "    <g clip-path=\"url(#pec84ff1c80)\">\n",
       "     <!-- $q0_{1}$ -->\n",
       "     <defs>\n",
       "      <path d=\"M 12.40625 8.296875 \n",
       "L 28.515625 8.296875 \n",
       "L 28.515625 63.921875 \n",
       "L 10.984375 60.40625 \n",
       "L 10.984375 69.390625 \n",
       "L 28.421875 72.90625 \n",
       "L 38.28125 72.90625 \n",
       "L 38.28125 8.296875 \n",
       "L 54.390625 8.296875 \n",
       "L 54.390625 0 \n",
       "L 12.40625 0 \n",
       "z\n",
       "\" id=\"DejaVuSans-49\"/>\n",
       "     </defs>\n",
       "     <g transform=\"translate(54.95768 93.462777)scale(0.1625 -0.1625)\">\n",
       "      <use transform=\"translate(0 0.78125)\" xlink:href=\"#DejaVuSans-Oblique-113\"/>\n",
       "      <use transform=\"translate(63.476562 0.78125)\" xlink:href=\"#DejaVuSans-48\"/>\n",
       "      <use transform=\"translate(128.056641 -15.625)scale(0.7)\" xlink:href=\"#DejaVuSans-49\"/>\n",
       "     </g>\n",
       "    </g>\n",
       "   </g>\n",
       "   <g id=\"text_43\">\n",
       "    <g clip-path=\"url(#pec84ff1c80)\">\n",
       "     <!-- $q0_{2}$ -->\n",
       "     <defs>\n",
       "      <path d=\"M 19.1875 8.296875 \n",
       "L 53.609375 8.296875 \n",
       "L 53.609375 0 \n",
       "L 7.328125 0 \n",
       "L 7.328125 8.296875 \n",
       "Q 12.9375 14.109375 22.625 23.890625 \n",
       "Q 32.328125 33.6875 34.8125 36.53125 \n",
       "Q 39.546875 41.84375 41.421875 45.53125 \n",
       "Q 43.3125 49.21875 43.3125 52.78125 \n",
       "Q 43.3125 58.59375 39.234375 62.25 \n",
       "Q 35.15625 65.921875 28.609375 65.921875 \n",
       "Q 23.96875 65.921875 18.8125 64.3125 \n",
       "Q 13.671875 62.703125 7.8125 59.421875 \n",
       "L 7.8125 69.390625 \n",
       "Q 13.765625 71.78125 18.9375 73 \n",
       "Q 24.125 74.21875 28.421875 74.21875 \n",
       "Q 39.75 74.21875 46.484375 68.546875 \n",
       "Q 53.21875 62.890625 53.21875 53.421875 \n",
       "Q 53.21875 48.921875 51.53125 44.890625 \n",
       "Q 49.859375 40.875 45.40625 35.40625 \n",
       "Q 44.1875 33.984375 37.640625 27.21875 \n",
       "Q 31.109375 20.453125 19.1875 8.296875 \n",
       "z\n",
       "\" id=\"DejaVuSans-50\"/>\n",
       "     </defs>\n",
       "     <g transform=\"translate(54.95768 138.913777)scale(0.1625 -0.1625)\">\n",
       "      <use transform=\"translate(0 0.78125)\" xlink:href=\"#DejaVuSans-Oblique-113\"/>\n",
       "      <use transform=\"translate(63.476562 0.78125)\" xlink:href=\"#DejaVuSans-48\"/>\n",
       "      <use transform=\"translate(128.056641 -15.625)scale(0.7)\" xlink:href=\"#DejaVuSans-50\"/>\n",
       "     </g>\n",
       "    </g>\n",
       "   </g>\n",
       "   <g id=\"text_44\">\n",
       "    <g clip-path=\"url(#pec84ff1c80)\">\n",
       "     <!-- $q0_{3}$ -->\n",
       "     <g transform=\"translate(54.95768 184.364777)scale(0.1625 -0.1625)\">\n",
       "      <use transform=\"translate(0 0.78125)\" xlink:href=\"#DejaVuSans-Oblique-113\"/>\n",
       "      <use transform=\"translate(63.476562 0.78125)\" xlink:href=\"#DejaVuSans-48\"/>\n",
       "      <use transform=\"translate(128.056641 -15.625)scale(0.7)\" xlink:href=\"#DejaVuSans-51\"/>\n",
       "     </g>\n",
       "    </g>\n",
       "   </g>\n",
       "   <g id=\"text_45\">\n",
       "    <g clip-path=\"url(#pec84ff1c80)\">\n",
       "     <!-- $q0_{4}$ -->\n",
       "     <defs>\n",
       "      <path d=\"M 37.796875 64.3125 \n",
       "L 12.890625 25.390625 \n",
       "L 37.796875 25.390625 \n",
       "z\n",
       "M 35.203125 72.90625 \n",
       "L 47.609375 72.90625 \n",
       "L 47.609375 25.390625 \n",
       "L 58.015625 25.390625 \n",
       "L 58.015625 17.1875 \n",
       "L 47.609375 17.1875 \n",
       "L 47.609375 0 \n",
       "L 37.796875 0 \n",
       "L 37.796875 17.1875 \n",
       "L 4.890625 17.1875 \n",
       "L 4.890625 26.703125 \n",
       "z\n",
       "\" id=\"DejaVuSans-52\"/>\n",
       "     </defs>\n",
       "     <g transform=\"translate(54.95768 229.815777)scale(0.1625 -0.1625)\">\n",
       "      <use transform=\"translate(0 0.78125)\" xlink:href=\"#DejaVuSans-Oblique-113\"/>\n",
       "      <use transform=\"translate(63.476562 0.78125)\" xlink:href=\"#DejaVuSans-48\"/>\n",
       "      <use transform=\"translate(128.056641 -15.625)scale(0.7)\" xlink:href=\"#DejaVuSans-52\"/>\n",
       "     </g>\n",
       "    </g>\n",
       "   </g>\n",
       "   <g id=\"text_46\">\n",
       "    <g clip-path=\"url(#pec84ff1c80)\">\n",
       "     <!-- $q0_{0}$ -->\n",
       "     <g transform=\"translate(54.95768 320.717777)scale(0.1625 -0.1625)\">\n",
       "      <use transform=\"translate(0 0.78125)\" xlink:href=\"#DejaVuSans-Oblique-113\"/>\n",
       "      <use transform=\"translate(63.476562 0.78125)\" xlink:href=\"#DejaVuSans-48\"/>\n",
       "      <use transform=\"translate(128.056641 -15.625)scale(0.7)\" xlink:href=\"#DejaVuSans-48\"/>\n",
       "     </g>\n",
       "    </g>\n",
       "   </g>\n",
       "   <g id=\"text_47\">\n",
       "    <g clip-path=\"url(#pec84ff1c80)\">\n",
       "     <!-- $q0_{1}$ -->\n",
       "     <g transform=\"translate(54.95768 366.168777)scale(0.1625 -0.1625)\">\n",
       "      <use transform=\"translate(0 0.78125)\" xlink:href=\"#DejaVuSans-Oblique-113\"/>\n",
       "      <use transform=\"translate(63.476562 0.78125)\" xlink:href=\"#DejaVuSans-48\"/>\n",
       "      <use transform=\"translate(128.056641 -15.625)scale(0.7)\" xlink:href=\"#DejaVuSans-49\"/>\n",
       "     </g>\n",
       "    </g>\n",
       "   </g>\n",
       "   <g id=\"text_48\">\n",
       "    <g clip-path=\"url(#pec84ff1c80)\">\n",
       "     <!-- $q0_{2}$ -->\n",
       "     <g transform=\"translate(54.95768 411.619777)scale(0.1625 -0.1625)\">\n",
       "      <use transform=\"translate(0 0.78125)\" xlink:href=\"#DejaVuSans-Oblique-113\"/>\n",
       "      <use transform=\"translate(63.476562 0.78125)\" xlink:href=\"#DejaVuSans-48\"/>\n",
       "      <use transform=\"translate(128.056641 -15.625)scale(0.7)\" xlink:href=\"#DejaVuSans-50\"/>\n",
       "     </g>\n",
       "    </g>\n",
       "   </g>\n",
       "   <g id=\"text_49\">\n",
       "    <g clip-path=\"url(#pec84ff1c80)\">\n",
       "     <!-- $q0_{3}$ -->\n",
       "     <g transform=\"translate(54.95768 457.070777)scale(0.1625 -0.1625)\">\n",
       "      <use transform=\"translate(0 0.78125)\" xlink:href=\"#DejaVuSans-Oblique-113\"/>\n",
       "      <use transform=\"translate(63.476562 0.78125)\" xlink:href=\"#DejaVuSans-48\"/>\n",
       "      <use transform=\"translate(128.056641 -15.625)scale(0.7)\" xlink:href=\"#DejaVuSans-51\"/>\n",
       "     </g>\n",
       "    </g>\n",
       "   </g>\n",
       "   <g id=\"text_50\">\n",
       "    <g clip-path=\"url(#pec84ff1c80)\">\n",
       "     <!-- $q0_{4}$ -->\n",
       "     <g transform=\"translate(54.95768 502.521777)scale(0.1625 -0.1625)\">\n",
       "      <use transform=\"translate(0 0.78125)\" xlink:href=\"#DejaVuSans-Oblique-113\"/>\n",
       "      <use transform=\"translate(63.476562 0.78125)\" xlink:href=\"#DejaVuSans-48\"/>\n",
       "      <use transform=\"translate(128.056641 -15.625)scale(0.7)\" xlink:href=\"#DejaVuSans-52\"/>\n",
       "     </g>\n",
       "    </g>\n",
       "   </g>\n",
       "   <g id=\"text_51\">\n",
       "    <g clip-path=\"url(#pec84ff1c80)\">\n",
       "     <!-- $q0_{0}$ -->\n",
       "     <g transform=\"translate(54.95768 593.423777)scale(0.1625 -0.1625)\">\n",
       "      <use transform=\"translate(0 0.78125)\" xlink:href=\"#DejaVuSans-Oblique-113\"/>\n",
       "      <use transform=\"translate(63.476562 0.78125)\" xlink:href=\"#DejaVuSans-48\"/>\n",
       "      <use transform=\"translate(128.056641 -15.625)scale(0.7)\" xlink:href=\"#DejaVuSans-48\"/>\n",
       "     </g>\n",
       "    </g>\n",
       "   </g>\n",
       "   <g id=\"text_52\">\n",
       "    <g clip-path=\"url(#pec84ff1c80)\">\n",
       "     <!-- $q0_{1}$ -->\n",
       "     <g transform=\"translate(54.95768 638.874777)scale(0.1625 -0.1625)\">\n",
       "      <use transform=\"translate(0 0.78125)\" xlink:href=\"#DejaVuSans-Oblique-113\"/>\n",
       "      <use transform=\"translate(63.476562 0.78125)\" xlink:href=\"#DejaVuSans-48\"/>\n",
       "      <use transform=\"translate(128.056641 -15.625)scale(0.7)\" xlink:href=\"#DejaVuSans-49\"/>\n",
       "     </g>\n",
       "    </g>\n",
       "   </g>\n",
       "   <g id=\"text_53\">\n",
       "    <g clip-path=\"url(#pec84ff1c80)\">\n",
       "     <!-- $q0_{2}$ -->\n",
       "     <g transform=\"translate(54.95768 684.325777)scale(0.1625 -0.1625)\">\n",
       "      <use transform=\"translate(0 0.78125)\" xlink:href=\"#DejaVuSans-Oblique-113\"/>\n",
       "      <use transform=\"translate(63.476562 0.78125)\" xlink:href=\"#DejaVuSans-48\"/>\n",
       "      <use transform=\"translate(128.056641 -15.625)scale(0.7)\" xlink:href=\"#DejaVuSans-50\"/>\n",
       "     </g>\n",
       "    </g>\n",
       "   </g>\n",
       "   <g id=\"text_54\">\n",
       "    <g clip-path=\"url(#pec84ff1c80)\">\n",
       "     <!-- $q0_{3}$ -->\n",
       "     <g transform=\"translate(54.95768 729.776777)scale(0.1625 -0.1625)\">\n",
       "      <use transform=\"translate(0 0.78125)\" xlink:href=\"#DejaVuSans-Oblique-113\"/>\n",
       "      <use transform=\"translate(63.476562 0.78125)\" xlink:href=\"#DejaVuSans-48\"/>\n",
       "      <use transform=\"translate(128.056641 -15.625)scale(0.7)\" xlink:href=\"#DejaVuSans-51\"/>\n",
       "     </g>\n",
       "    </g>\n",
       "   </g>\n",
       "   <g id=\"text_55\">\n",
       "    <g clip-path=\"url(#pec84ff1c80)\">\n",
       "     <!-- $q0_{4}$ -->\n",
       "     <g transform=\"translate(54.95768 775.227777)scale(0.1625 -0.1625)\">\n",
       "      <use transform=\"translate(0 0.78125)\" xlink:href=\"#DejaVuSans-Oblique-113\"/>\n",
       "      <use transform=\"translate(63.476562 0.78125)\" xlink:href=\"#DejaVuSans-48\"/>\n",
       "      <use transform=\"translate(128.056641 -15.625)scale(0.7)\" xlink:href=\"#DejaVuSans-52\"/>\n",
       "     </g>\n",
       "    </g>\n",
       "   </g>\n",
       "  </g>\n",
       " </g>\n",
       " <defs>\n",
       "  <clipPath id=\"pec84ff1c80\">\n",
       "   <rect height=\"790.8474\" width=\"1262.62878\" x=\"7.2\" y=\"7.2\"/>\n",
       "  </clipPath>\n",
       " </defs>\n",
       "</svg>\n"
      ],
      "text/plain": [
       "<Figure size 1672.36x1047.48 with 1 Axes>"
      ]
     },
     "execution_count": 4,
     "metadata": {},
     "output_type": "execute_result"
    }
   ],
   "source": [
    "#Creates controlled anstaz for calculating |<b|psi>|^2 with a Hadamard test\n",
    "\n",
    "def control_fixed_ansatz(qubits, parameters, ancilla, reg):\n",
    "\n",
    "    for i in range (0, len(qubits)):\n",
    "        circ.cry(parameters[0][i], qiskit.circuit.Qubit(reg, ancilla), qiskit.circuit.Qubit(reg, qubits[i]))\n",
    "\n",
    "    circ.ccx(ancilla, qubits[1], 4)\n",
    "    circ.cz(qubits[0], 4)\n",
    "    circ.ccx(ancilla, qubits[1], 4)\n",
    "\n",
    "    circ.ccx(ancilla, qubits[0], 4)\n",
    "    circ.cz(qubits[2], 4)\n",
    "    circ.ccx(ancilla, qubits[0], 4)\n",
    "\n",
    "    for i in range (0, len(qubits)):\n",
    "        circ.cry(parameters[1][i], qiskit.circuit.Qubit(reg, ancilla), qiskit.circuit.Qubit(reg, qubits[i]))\n",
    "\n",
    "    circ.ccx(ancilla, qubits[2], 4)\n",
    "    circ.cz(qubits[1], 4)\n",
    "    circ.ccx(ancilla, qubits[2], 4)\n",
    "\n",
    "    circ.ccx(ancilla, qubits[0], 4)\n",
    "    circ.cz(qubits[2], 4)\n",
    "    circ.ccx(ancilla, qubits[0], 4)\n",
    "\n",
    "    for i in range (0, len(qubits)):\n",
    "        circ.cry(parameters[2][i], qiskit.circuit.Qubit(reg, ancilla), qiskit.circuit.Qubit(reg, qubits[i]))\n",
    "\n",
    "q_reg = QuantumRegister(5)\n",
    "circ = QuantumCircuit(q_reg)\n",
    "control_fixed_ansatz([1, 2, 3], [[1, 1, 1], [1, 1, 1], [1, 1, 1]], 0, q_reg)\n",
    "circ.draw(output='mpl')"
   ]
  },
  {
   "cell_type": "markdown",
   "metadata": {},
   "source": [
    "Notice the extra qubit, `q0_4`. This is an ancilla, and allows us to create a $CCZ$ gate, as is shown in the circuit. Now, we also have to create the circuit for $U$. In our implementation, we will pick $U$ as:\n",
    "\n",
    "<br>\n",
    "\n",
    "$$U \\ = \\ H_1 H_2 H_3$$\n",
    "\n",
    "<br>\n",
    "\n",
    "Thus, we have:"
   ]
  },
  {
   "cell_type": "code",
   "execution_count": 5,
   "metadata": {},
   "outputs": [
    {
     "data": {
      "image/svg+xml": [
       "<?xml version=\"1.0\" encoding=\"utf-8\" standalone=\"no\"?>\n",
       "<!DOCTYPE svg PUBLIC \"-//W3C//DTD SVG 1.1//EN\"\n",
       "  \"http://www.w3.org/Graphics/SVG/1.1/DTD/svg11.dtd\">\n",
       "<!-- Created with matplotlib (https://matplotlib.org/) -->\n",
       "<svg height=\"214.3844pt\" version=\"1.1\" viewBox=\"0 0 268.9256 214.3844\" width=\"268.9256pt\" xmlns=\"http://www.w3.org/2000/svg\" xmlns:xlink=\"http://www.w3.org/1999/xlink\">\n",
       " <defs>\n",
       "  <style type=\"text/css\">\n",
       "*{stroke-linecap:butt;stroke-linejoin:round;}\n",
       "  </style>\n",
       " </defs>\n",
       " <g id=\"figure_1\">\n",
       "  <g id=\"patch_1\">\n",
       "   <path d=\"M 0 214.3844 \n",
       "L 268.9256 214.3844 \n",
       "L 268.9256 0 \n",
       "L 0 0 \n",
       "z\n",
       "\" style=\"fill:#ffffff;\"/>\n",
       "  </g>\n",
       "  <g id=\"axes_1\">\n",
       "   <g id=\"line2d_1\">\n",
       "    <path clip-path=\"url(#p9d25c27ba5)\" d=\"M 98.102 43.5608 \n",
       "L 257.1805 43.5608 \n",
       "\" style=\"fill:none;stroke:#000000;stroke-linecap:square;stroke-width:2;\"/>\n",
       "   </g>\n",
       "   <g id=\"line2d_2\">\n",
       "    <path clip-path=\"url(#p9d25c27ba5)\" d=\"M 98.102 89.0118 \n",
       "L 257.1805 89.0118 \n",
       "\" style=\"fill:none;stroke:#000000;stroke-linecap:square;stroke-width:2;\"/>\n",
       "   </g>\n",
       "   <g id=\"line2d_3\">\n",
       "    <path clip-path=\"url(#p9d25c27ba5)\" d=\"M 98.102 134.4628 \n",
       "L 257.1805 134.4628 \n",
       "\" style=\"fill:none;stroke:#000000;stroke-linecap:square;stroke-width:2;\"/>\n",
       "   </g>\n",
       "   <g id=\"line2d_4\">\n",
       "    <path clip-path=\"url(#p9d25c27ba5)\" d=\"M 98.102 179.9138 \n",
       "L 257.1805 179.9138 \n",
       "\" style=\"fill:none;stroke:#000000;stroke-linecap:square;stroke-width:2;\"/>\n",
       "   </g>\n",
       "   <g id=\"line2d_5\">\n",
       "    <path clip-path=\"url(#p9d25c27ba5)\" d=\"M 120.8275 89.0118 \n",
       "L 120.8275 43.5608 \n",
       "\" style=\"fill:none;stroke:#bb8bff;stroke-linecap:square;stroke-width:2;\"/>\n",
       "   </g>\n",
       "   <g id=\"line2d_6\">\n",
       "    <path clip-path=\"url(#p9d25c27ba5)\" d=\"M 166.2785 134.4628 \n",
       "L 166.2785 43.5608 \n",
       "\" style=\"fill:none;stroke:#bb8bff;stroke-linecap:square;stroke-width:2;\"/>\n",
       "   </g>\n",
       "   <g id=\"line2d_7\">\n",
       "    <path clip-path=\"url(#p9d25c27ba5)\" d=\"M 211.7295 179.9138 \n",
       "L 211.7295 43.5608 \n",
       "\" style=\"fill:none;stroke:#bb8bff;stroke-linecap:square;stroke-width:2;\"/>\n",
       "   </g>\n",
       "   <g id=\"patch_2\">\n",
       "    <path clip-path=\"url(#p9d25c27ba5)\" d=\"M 120.8275 47.992272 \n",
       "C 122.00274 47.992272 123.130004 47.525345 123.961024 46.694324 \n",
       "C 124.792045 45.863304 125.258973 44.73604 125.258973 43.5608 \n",
       "C 125.258973 42.38556 124.792045 41.258296 123.961024 40.427276 \n",
       "C 123.130004 39.596255 122.00274 39.129328 120.8275 39.129328 \n",
       "C 119.65226 39.129328 118.524996 39.596255 117.693976 40.427276 \n",
       "C 116.862955 41.258296 116.396028 42.38556 116.396028 43.5608 \n",
       "C 116.396028 44.73604 116.862955 45.863304 117.693976 46.694324 \n",
       "C 118.524996 47.525345 119.65226 47.992272 120.8275 47.992272 \n",
       "z\n",
       "\" style=\"fill:#bb8bff;stroke:#bb8bff;stroke-linejoin:miter;stroke-width:1.5;\"/>\n",
       "   </g>\n",
       "   <g id=\"patch_3\">\n",
       "    <path clip-path=\"url(#p9d25c27ba5)\" d=\"M 106.055925 103.783375 \n",
       "L 135.599075 103.783375 \n",
       "L 135.599075 74.240225 \n",
       "L 106.055925 74.240225 \n",
       "z\n",
       "\" style=\"fill:#bb8bff;\"/>\n",
       "   </g>\n",
       "   <g id=\"patch_4\">\n",
       "    <path clip-path=\"url(#p9d25c27ba5)\" d=\"M 166.2785 47.992272 \n",
       "C 167.45374 47.992272 168.581004 47.525345 169.412024 46.694324 \n",
       "C 170.243045 45.863304 170.709973 44.73604 170.709973 43.5608 \n",
       "C 170.709973 42.38556 170.243045 41.258296 169.412024 40.427276 \n",
       "C 168.581004 39.596255 167.45374 39.129328 166.2785 39.129328 \n",
       "C 165.10326 39.129328 163.975996 39.596255 163.144976 40.427276 \n",
       "C 162.313955 41.258296 161.847027 42.38556 161.847027 43.5608 \n",
       "C 161.847027 44.73604 162.313955 45.863304 163.144976 46.694324 \n",
       "C 163.975996 47.525345 165.10326 47.992272 166.2785 47.992272 \n",
       "z\n",
       "\" style=\"fill:#bb8bff;stroke:#bb8bff;stroke-linejoin:miter;stroke-width:1.5;\"/>\n",
       "   </g>\n",
       "   <g id=\"patch_5\">\n",
       "    <path clip-path=\"url(#p9d25c27ba5)\" d=\"M 151.506925 149.234375 \n",
       "L 181.050075 149.234375 \n",
       "L 181.050075 119.691225 \n",
       "L 151.506925 119.691225 \n",
       "z\n",
       "\" style=\"fill:#bb8bff;\"/>\n",
       "   </g>\n",
       "   <g id=\"patch_6\">\n",
       "    <path clip-path=\"url(#p9d25c27ba5)\" d=\"M 211.7295 47.992272 \n",
       "C 212.90474 47.992272 214.032004 47.525345 214.863024 46.694324 \n",
       "C 215.694045 45.863304 216.160973 44.73604 216.160973 43.5608 \n",
       "C 216.160973 42.38556 215.694045 41.258296 214.863024 40.427276 \n",
       "C 214.032004 39.596255 212.90474 39.129328 211.7295 39.129328 \n",
       "C 210.55426 39.129328 209.426996 39.596255 208.595976 40.427276 \n",
       "C 207.764955 41.258296 207.298028 42.38556 207.298028 43.5608 \n",
       "C 207.298028 44.73604 207.764955 45.863304 208.595976 46.694324 \n",
       "C 209.426996 47.525345 210.55426 47.992272 211.7295 47.992272 \n",
       "z\n",
       "\" style=\"fill:#bb8bff;stroke:#bb8bff;stroke-linejoin:miter;stroke-width:1.5;\"/>\n",
       "   </g>\n",
       "   <g id=\"patch_7\">\n",
       "    <path clip-path=\"url(#p9d25c27ba5)\" d=\"M 196.957925 194.685375 \n",
       "L 226.501075 194.685375 \n",
       "L 226.501075 165.142225 \n",
       "L 196.957925 165.142225 \n",
       "z\n",
       "\" style=\"fill:#bb8bff;\"/>\n",
       "   </g>\n",
       "   <g id=\"text_1\">\n",
       "    <g clip-path=\"url(#p9d25c27ba5)\">\n",
       "     <!-- $H$ -->\n",
       "     <defs>\n",
       "      <path d=\"M 16.890625 72.90625 \n",
       "L 26.8125 72.90625 \n",
       "L 21 43.015625 \n",
       "L 56.78125 43.015625 \n",
       "L 62.59375 72.90625 \n",
       "L 72.515625 72.90625 \n",
       "L 58.296875 0 \n",
       "L 48.390625 0 \n",
       "L 55.171875 34.71875 \n",
       "L 19.390625 34.71875 \n",
       "L 12.59375 0 \n",
       "L 2.6875 0 \n",
       "z\n",
       "\" id=\"DejaVuSans-Oblique-72\"/>\n",
       "     </defs>\n",
       "     <g transform=\"translate(115.8875 92.598987)scale(0.13 -0.13)\">\n",
       "      <use transform=\"translate(0 0.09375)\" xlink:href=\"#DejaVuSans-Oblique-72\"/>\n",
       "     </g>\n",
       "    </g>\n",
       "   </g>\n",
       "   <g id=\"text_2\">\n",
       "    <g clip-path=\"url(#p9d25c27ba5)\">\n",
       "     <!-- $H$ -->\n",
       "     <g transform=\"translate(161.3385 138.049987)scale(0.13 -0.13)\">\n",
       "      <use transform=\"translate(0 0.09375)\" xlink:href=\"#DejaVuSans-Oblique-72\"/>\n",
       "     </g>\n",
       "    </g>\n",
       "   </g>\n",
       "   <g id=\"text_3\">\n",
       "    <g clip-path=\"url(#p9d25c27ba5)\">\n",
       "     <!-- $H$ -->\n",
       "     <g transform=\"translate(206.7895 183.500988)scale(0.13 -0.13)\">\n",
       "      <use transform=\"translate(0 0.09375)\" xlink:href=\"#DejaVuSans-Oblique-72\"/>\n",
       "     </g>\n",
       "    </g>\n",
       "   </g>\n",
       "   <g id=\"text_4\">\n",
       "    <g clip-path=\"url(#p9d25c27ba5)\">\n",
       "     <!-- $q_{0}$ -->\n",
       "     <defs>\n",
       "      <path d=\"M 41.703125 8.203125 \n",
       "Q 38.09375 3.46875 33.171875 1.015625 \n",
       "Q 28.265625 -1.421875 22.3125 -1.421875 \n",
       "Q 14.015625 -1.421875 9.296875 4.171875 \n",
       "Q 4.59375 9.765625 4.59375 19.578125 \n",
       "Q 4.59375 27.484375 7.5 34.859375 \n",
       "Q 10.40625 42.234375 15.828125 48.09375 \n",
       "Q 19.34375 51.90625 23.90625 53.953125 \n",
       "Q 28.46875 56 33.5 56 \n",
       "Q 39.546875 56 43.453125 53.609375 \n",
       "Q 47.359375 51.21875 49.125 46.390625 \n",
       "L 50.6875 54.59375 \n",
       "L 59.71875 54.59375 \n",
       "L 45.125 -20.609375 \n",
       "L 36.078125 -20.609375 \n",
       "z\n",
       "M 13.921875 20.90625 \n",
       "Q 13.921875 13.671875 16.9375 9.890625 \n",
       "Q 19.96875 6.109375 25.6875 6.109375 \n",
       "Q 34.1875 6.109375 40.1875 14.234375 \n",
       "Q 46.1875 22.359375 46.1875 33.984375 \n",
       "Q 46.1875 41.015625 43.078125 44.75 \n",
       "Q 39.984375 48.484375 34.1875 48.484375 \n",
       "Q 29.9375 48.484375 26.3125 46.5 \n",
       "Q 22.703125 44.53125 20.015625 40.71875 \n",
       "Q 17.1875 36.71875 15.546875 31.34375 \n",
       "Q 13.921875 25.984375 13.921875 20.90625 \n",
       "z\n",
       "\" id=\"DejaVuSans-Oblique-113\"/>\n",
       "      <path d=\"M 31.78125 66.40625 \n",
       "Q 24.171875 66.40625 20.328125 58.90625 \n",
       "Q 16.5 51.421875 16.5 36.375 \n",
       "Q 16.5 21.390625 20.328125 13.890625 \n",
       "Q 24.171875 6.390625 31.78125 6.390625 \n",
       "Q 39.453125 6.390625 43.28125 13.890625 \n",
       "Q 47.125 21.390625 47.125 36.375 \n",
       "Q 47.125 51.421875 43.28125 58.90625 \n",
       "Q 39.453125 66.40625 31.78125 66.40625 \n",
       "z\n",
       "M 31.78125 74.21875 \n",
       "Q 44.046875 74.21875 50.515625 64.515625 \n",
       "Q 56.984375 54.828125 56.984375 36.375 \n",
       "Q 56.984375 17.96875 50.515625 8.265625 \n",
       "Q 44.046875 -1.421875 31.78125 -1.421875 \n",
       "Q 19.53125 -1.421875 13.0625 8.265625 \n",
       "Q 6.59375 17.96875 6.59375 36.375 \n",
       "Q 6.59375 54.828125 13.0625 64.515625 \n",
       "Q 19.53125 74.21875 31.78125 74.21875 \n",
       "z\n",
       "\" id=\"DejaVuSans-48\"/>\n",
       "     </defs>\n",
       "     <g transform=\"translate(57.339 48.011777)scale(0.1625 -0.1625)\">\n",
       "      <use xlink:href=\"#DejaVuSans-Oblique-113\"/>\n",
       "      <use transform=\"translate(63.476562 -16.40625)scale(0.7)\" xlink:href=\"#DejaVuSans-48\"/>\n",
       "     </g>\n",
       "    </g>\n",
       "   </g>\n",
       "   <g id=\"text_5\">\n",
       "    <g clip-path=\"url(#p9d25c27ba5)\">\n",
       "     <!-- $q_{1}$ -->\n",
       "     <defs>\n",
       "      <path d=\"M 12.40625 8.296875 \n",
       "L 28.515625 8.296875 \n",
       "L 28.515625 63.921875 \n",
       "L 10.984375 60.40625 \n",
       "L 10.984375 69.390625 \n",
       "L 28.421875 72.90625 \n",
       "L 38.28125 72.90625 \n",
       "L 38.28125 8.296875 \n",
       "L 54.390625 8.296875 \n",
       "L 54.390625 0 \n",
       "L 12.40625 0 \n",
       "z\n",
       "\" id=\"DejaVuSans-49\"/>\n",
       "     </defs>\n",
       "     <g transform=\"translate(57.339 93.462777)scale(0.1625 -0.1625)\">\n",
       "      <use xlink:href=\"#DejaVuSans-Oblique-113\"/>\n",
       "      <use transform=\"translate(63.476562 -16.40625)scale(0.7)\" xlink:href=\"#DejaVuSans-49\"/>\n",
       "     </g>\n",
       "    </g>\n",
       "   </g>\n",
       "   <g id=\"text_6\">\n",
       "    <g clip-path=\"url(#p9d25c27ba5)\">\n",
       "     <!-- $q_{2}$ -->\n",
       "     <defs>\n",
       "      <path d=\"M 19.1875 8.296875 \n",
       "L 53.609375 8.296875 \n",
       "L 53.609375 0 \n",
       "L 7.328125 0 \n",
       "L 7.328125 8.296875 \n",
       "Q 12.9375 14.109375 22.625 23.890625 \n",
       "Q 32.328125 33.6875 34.8125 36.53125 \n",
       "Q 39.546875 41.84375 41.421875 45.53125 \n",
       "Q 43.3125 49.21875 43.3125 52.78125 \n",
       "Q 43.3125 58.59375 39.234375 62.25 \n",
       "Q 35.15625 65.921875 28.609375 65.921875 \n",
       "Q 23.96875 65.921875 18.8125 64.3125 \n",
       "Q 13.671875 62.703125 7.8125 59.421875 \n",
       "L 7.8125 69.390625 \n",
       "Q 13.765625 71.78125 18.9375 73 \n",
       "Q 24.125 74.21875 28.421875 74.21875 \n",
       "Q 39.75 74.21875 46.484375 68.546875 \n",
       "Q 53.21875 62.890625 53.21875 53.421875 \n",
       "Q 53.21875 48.921875 51.53125 44.890625 \n",
       "Q 49.859375 40.875 45.40625 35.40625 \n",
       "Q 44.1875 33.984375 37.640625 27.21875 \n",
       "Q 31.109375 20.453125 19.1875 8.296875 \n",
       "z\n",
       "\" id=\"DejaVuSans-50\"/>\n",
       "     </defs>\n",
       "     <g transform=\"translate(57.339 138.913777)scale(0.1625 -0.1625)\">\n",
       "      <use xlink:href=\"#DejaVuSans-Oblique-113\"/>\n",
       "      <use transform=\"translate(63.476562 -16.40625)scale(0.7)\" xlink:href=\"#DejaVuSans-50\"/>\n",
       "     </g>\n",
       "    </g>\n",
       "   </g>\n",
       "   <g id=\"text_7\">\n",
       "    <g clip-path=\"url(#p9d25c27ba5)\">\n",
       "     <!-- $q_{3}$ -->\n",
       "     <defs>\n",
       "      <path d=\"M 40.578125 39.3125 \n",
       "Q 47.65625 37.796875 51.625 33 \n",
       "Q 55.609375 28.21875 55.609375 21.1875 \n",
       "Q 55.609375 10.40625 48.1875 4.484375 \n",
       "Q 40.765625 -1.421875 27.09375 -1.421875 \n",
       "Q 22.515625 -1.421875 17.65625 -0.515625 \n",
       "Q 12.796875 0.390625 7.625 2.203125 \n",
       "L 7.625 11.71875 \n",
       "Q 11.71875 9.328125 16.59375 8.109375 \n",
       "Q 21.484375 6.890625 26.8125 6.890625 \n",
       "Q 36.078125 6.890625 40.9375 10.546875 \n",
       "Q 45.796875 14.203125 45.796875 21.1875 \n",
       "Q 45.796875 27.640625 41.28125 31.265625 \n",
       "Q 36.765625 34.90625 28.71875 34.90625 \n",
       "L 20.21875 34.90625 \n",
       "L 20.21875 43.015625 \n",
       "L 29.109375 43.015625 \n",
       "Q 36.375 43.015625 40.234375 45.921875 \n",
       "Q 44.09375 48.828125 44.09375 54.296875 \n",
       "Q 44.09375 59.90625 40.109375 62.90625 \n",
       "Q 36.140625 65.921875 28.71875 65.921875 \n",
       "Q 24.65625 65.921875 20.015625 65.03125 \n",
       "Q 15.375 64.15625 9.8125 62.3125 \n",
       "L 9.8125 71.09375 \n",
       "Q 15.4375 72.65625 20.34375 73.4375 \n",
       "Q 25.25 74.21875 29.59375 74.21875 \n",
       "Q 40.828125 74.21875 47.359375 69.109375 \n",
       "Q 53.90625 64.015625 53.90625 55.328125 \n",
       "Q 53.90625 49.265625 50.4375 45.09375 \n",
       "Q 46.96875 40.921875 40.578125 39.3125 \n",
       "z\n",
       "\" id=\"DejaVuSans-51\"/>\n",
       "     </defs>\n",
       "     <g transform=\"translate(57.339 184.364777)scale(0.1625 -0.1625)\">\n",
       "      <use xlink:href=\"#DejaVuSans-Oblique-113\"/>\n",
       "      <use transform=\"translate(63.476562 -16.40625)scale(0.7)\" xlink:href=\"#DejaVuSans-51\"/>\n",
       "     </g>\n",
       "    </g>\n",
       "   </g>\n",
       "  </g>\n",
       " </g>\n",
       " <defs>\n",
       "  <clipPath id=\"p9d25c27ba5\">\n",
       "   <rect height=\"199.9844\" width=\"254.5256\" x=\"7.2\" y=\"7.2\"/>\n",
       "  </clipPath>\n",
       " </defs>\n",
       "</svg>\n"
      ],
      "text/plain": [
       "<Figure size 337.12x264.88 with 1 Axes>"
      ]
     },
     "execution_count": 5,
     "metadata": {},
     "output_type": "execute_result"
    }
   ],
   "source": [
    "def control_b(ancilla, qubits):\n",
    "\n",
    "    for ia in qubits:\n",
    "        circ.ch(ancilla, ia)\n",
    "\n",
    "circ = QuantumCircuit(4)\n",
    "control_b(0, [1, 2, 3])\n",
    "circ.draw(output='mpl')"
   ]
  },
  {
   "cell_type": "markdown",
   "metadata": {},
   "source": [
    "Finally, we construct our new Hadamard test:"
   ]
  },
  {
   "cell_type": "code",
   "execution_count": 6,
   "metadata": {},
   "outputs": [
    {
     "name": "stdout",
     "output_type": "stream",
     "text": [
      "              ┌───┐                                                         »\n",
      "q1_0: |0>─────┤ H ├───────■────────────────────■────■────────────────────■──»\n",
      "         ┌────┴───┴────┐┌─┴─┐┌──────────────┐┌─┴─┐  │                    │  »\n",
      "q1_1: |0>┤ U3(0.5,0,0) ├┤ X ├┤ U3(-0.5,0,0) ├┤ X ├──┼────────────────────┼──»\n",
      "         ├─────────────┤└───┘└──────────────┘└───┘┌─┴─┐┌──────────────┐┌─┴─┐»\n",
      "q1_2: |0>┤ U3(0.5,0,0) ├──────────────────────────┤ X ├┤ U3(-0.5,0,0) ├┤ X ├»\n",
      "         ├─────────────┤                          └───┘└──────────────┘└───┘»\n",
      "q1_3: |0>┤ U3(0.5,0,0) ├────────────────────────────────────────────────────»\n",
      "         └─────────────┘                                                    »\n",
      "q1_4: |0>───────────────────────────────────────────────────────────────────»\n",
      "                                                                            »\n",
      "«                                                                      »\n",
      "«q1_0: ──■────────────────────■────■───────■────■───────────────────■──»\n",
      "«        │                    │    │       │    │                   │  »\n",
      "«q1_1: ──┼────────────────────┼────┼───■───┼────■───────────────────■──»\n",
      "«        │                    │    │   │   │    │  ┌─────────────┐  │  »\n",
      "«q1_2: ──┼────────────────────┼────■───┼───■────┼──┤ U3(0.5,0,0) ├──┼──»\n",
      "«      ┌─┴─┐┌──────────────┐┌─┴─┐  │   │   │    │  └─────────────┘  │  »\n",
      "«q1_3: ┤ X ├┤ U3(-0.5,0,0) ├┤ X ├──┼───┼───┼────┼─────────■─────────┼──»\n",
      "«      └───┘└──────────────┘└───┘┌─┴─┐ │ ┌─┴─┐┌─┴─┐       │       ┌─┴─┐»\n",
      "«q1_4: ──────────────────────────┤ X ├─■─┤ X ├┤ X ├───────■───────┤ X ├»\n",
      "«                                └───┘   └───┘└───┘               └───┘»\n",
      "«                                                                              »\n",
      "«q1_0: ─────────────────■────────────────────■────■────────────────────■────■──»\n",
      "«      ┌─────────────┐┌─┴─┐┌──────────────┐┌─┴─┐  │                    │    │  »\n",
      "«q1_1: ┤ U3(0.5,0,0) ├┤ X ├┤ U3(-0.5,0,0) ├┤ X ├──┼────────────────────┼────┼──»\n",
      "«      └─────────────┘└───┘└──────────────┘└───┘┌─┴─┐┌──────────────┐┌─┴─┐  │  »\n",
      "«q1_2: ─────────────────────────────────────────┤ X ├┤ U3(-0.5,0,0) ├┤ X ├──┼──»\n",
      "«      ┌─────────────┐                          └───┘└──────────────┘└───┘┌─┴─┐»\n",
      "«q1_3: ┤ U3(0.5,0,0) ├────────────────────────────────────────────────────┤ X ├»\n",
      "«      └─────────────┘                                                    └───┘»\n",
      "«q1_4: ────────────────────────────────────────────────────────────────────────»\n",
      "«                                                                              »\n",
      "«                                                                    »\n",
      "«q1_0: ──────────────────■────■───────■───────────────────■───────■──»\n",
      "«                        │    │       │                   │       │  »\n",
      "«q1_1: ──────────────────┼────┼───────┼───────────────────■───────■──»\n",
      "«                        │    │       │  ┌─────────────┐  │       │  »\n",
      "«q1_2: ──────────────────┼────┼───■───┼──┤ U3(0.5,0,0) ├──┼───────┼──»\n",
      "«      ┌──────────────┐┌─┴─┐  │   │   │  └─────────────┘  │       │  »\n",
      "«q1_3: ┤ U3(-0.5,0,0) ├┤ X ├──■───┼───■───────────────────┼───■───┼──»\n",
      "«      └──────────────┘└───┘┌─┴─┐ │ ┌─┴─┐               ┌─┴─┐ │ ┌─┴─┐»\n",
      "«q1_4: ─────────────────────┤ X ├─■─┤ X ├───────────────┤ X ├─■─┤ X ├»\n",
      "«                           └───┘   └───┘               └───┘   └───┘»\n",
      "«                                                                              »\n",
      "«q1_0: ─────────────────■────────────────────■────■────────────────────■────■──»\n",
      "«      ┌─────────────┐┌─┴─┐┌──────────────┐┌─┴─┐  │                    │    │  »\n",
      "«q1_1: ┤ U3(0.5,0,0) ├┤ X ├┤ U3(-0.5,0,0) ├┤ X ├──┼────────────────────┼────┼──»\n",
      "«      └─────────────┘└───┘└──────────────┘└───┘┌─┴─┐┌──────────────┐┌─┴─┐  │  »\n",
      "«q1_2: ─────────────────────────────────────────┤ X ├┤ U3(-0.5,0,0) ├┤ X ├──┼──»\n",
      "«      ┌─────────────┐                          └───┘└──────────────┘└───┘┌─┴─┐»\n",
      "«q1_3: ┤ U3(0.5,0,0) ├────────────────────────────────────────────────────┤ X ├»\n",
      "«      └─────────────┘                                                    └───┘»\n",
      "«q1_4: ────────────────────────────────────────────────────────────────────────»\n",
      "«                                                                              »\n",
      "«                                          ┌───┐\n",
      "«q1_0: ──────────────────■────■────■────■──┤ H ├\n",
      "«                        │  ┌─┴─┐  │    │  └───┘\n",
      "«q1_1: ──────────────────┼──┤ H ├──┼────┼───────\n",
      "«                        │  └───┘┌─┴─┐  │       \n",
      "«q1_2: ──────────────────┼───────┤ H ├──┼───────\n",
      "«      ┌──────────────┐┌─┴─┐     └───┘┌─┴─┐     \n",
      "«q1_3: ┤ U3(-0.5,0,0) ├┤ X ├──────────┤ H ├─────\n",
      "«      └──────────────┘└───┘          └───┘     \n",
      "«q1_4: ─────────────────────────────────────────\n",
      "«                                               \n"
     ]
    }
   ],
   "source": [
    "#Create the controlled Hadamard test, for calculating <psi|psi>\n",
    "\n",
    "def special_had_test(gate_type, qubits, ancilla_index, parameters, reg):\n",
    "\n",
    "    circ.h(ancilla_index)\n",
    "\n",
    "    control_fixed_ansatz(qubits, parameters, ancilla_index, reg)\n",
    "\n",
    "    for ty in range (0, len(gate_type)):\n",
    "        if (gate_type[ty] == 1):\n",
    "            circ.cz(ancilla_index, qubits[ty])\n",
    "\n",
    "\n",
    "    control_b(ancilla_index, qubits)\n",
    "    \n",
    "    circ.h(ancilla_index)\n",
    "\n",
    "q_reg = QuantumRegister(5)\n",
    "circ = QuantumCircuit(q_reg)\n",
    "special_had_test([[0, 0, 0], [0, 0, 1]], [1, 2, 3], 0, [[1, 1, 1], [1, 1, 1], [1, 1, 1]], q_reg)\n",
    "print(circ)"
   ]
  },
  {
   "cell_type": "markdown",
   "metadata": {},
   "source": [
    "This is for the specific implementation when all of our parameters are set to $1$, and the set of gates $A_n$ is simply `[0, 0, 0]`, and `[0, 0, 1]`, which corresponds to the identity matrix on all qubits, as well as the $Z$ matrix on the third qubit (with my \"code notation\").\n",
    "\n",
    "Now, we are ready to calculate the final cost function. This simply involves us taking the products of all combinations of the expectation outputs from the different circuits, multiplying by their respective coefficients, and arranging into the cost function that we discussed previously!"
   ]
  },
  {
   "cell_type": "code",
   "execution_count": 7,
   "metadata": {},
   "outputs": [],
   "source": [
    "#Implements the entire cost function on the quantum circuit\n",
    "\n",
    "def calculate_cost_function(parameters):\n",
    "    \n",
    "    global opt\n",
    "\n",
    "    overall_sum_1 = 0\n",
    "    \n",
    "    parameters = [parameters[0:3], parameters[3:6], parameters[6:9]]\n",
    "\n",
    "    for i in range(0, len(gate_set)):\n",
    "        for j in range(0, len(gate_set)):\n",
    "\n",
    "            global circ\n",
    "\n",
    "            qctl = QuantumRegister(5)\n",
    "            qc = ClassicalRegister(5)\n",
    "            circ = QuantumCircuit(qctl, qc)\n",
    "\n",
    "            backend = Aer.get_backend('statevector_simulator')\n",
    "            \n",
    "            multiply = coefficient_set[i]*coefficient_set[j]\n",
    "\n",
    "            had_test([gate_set[i], gate_set[j]], [1, 2, 3], 0, parameters)\n",
    "\n",
    "            job = execute(circ, backend)\n",
    "\n",
    "            result = job.result()\n",
    "            outputstate = np.real(result.get_statevector(circ, decimals=100))\n",
    "            o = outputstate\n",
    "\n",
    "            m_sum = 0\n",
    "            for l in range (0, len(o)):\n",
    "                if (l%2 == 1):\n",
    "                    n = o[l]**2\n",
    "                    m_sum+=n\n",
    "\n",
    "            overall_sum_1+=multiply*(1-(2*m_sum))\n",
    "\n",
    "    overall_sum_2 = 0\n",
    "\n",
    "    for i in range(0, len(gate_set)):\n",
    "        for j in range(0, len(gate_set)):\n",
    "\n",
    "            multiply = coefficient_set[i]*coefficient_set[j]\n",
    "            mult = 1\n",
    "\n",
    "            for extra in range(0, 2):\n",
    "\n",
    "                qctl = QuantumRegister(5)\n",
    "                qc = ClassicalRegister(5)\n",
    "                circ = QuantumCircuit(qctl, qc)\n",
    "\n",
    "                backend = Aer.get_backend('statevector_simulator')\n",
    "\n",
    "                if (extra == 0):\n",
    "                    special_had_test(gate_set[i], [1, 2, 3], 0, parameters, qctl)\n",
    "                if (extra == 1):\n",
    "                    special_had_test(gate_set[j], [1, 2, 3], 0, parameters, qctl)\n",
    "\n",
    "                job = execute(circ, backend)\n",
    "\n",
    "                result = job.result()\n",
    "                outputstate = np.real(result.get_statevector(circ, decimals=100))\n",
    "                o = outputstate\n",
    "\n",
    "                m_sum = 0\n",
    "                for l in range (0, len(o)):\n",
    "                    if (l%2 == 1):\n",
    "                        n = o[l]**2\n",
    "                        m_sum+=n\n",
    "                mult = mult*(1-(2*m_sum))\n",
    "\n",
    "            overall_sum_2+=multiply*mult\n",
    "            \n",
    "    print(1-float(overall_sum_2/overall_sum_1))\n",
    "\n",
    "    return 1-float(overall_sum_2/overall_sum_1)"
   ]
  },
  {
   "cell_type": "markdown",
   "metadata": {},
   "source": [
    "This code may look long and daunting, but it isn't! In this simulation, I'm taking a **numerical** approach, where I'm calculating the amplitude squared of each state corresponding to a measurement of the ancilla Hadamard test qubit in the $1$ state, then calculating $P(0) \\ - \\ P(1) \\ = \\ 1 \\ - \\ 2P(1)$ with that information. This is very exact, but is not realistic, as a real quantum device would have to sample the circuit many times to generate these probabilities (I'll discuss sampling later). In addition, this code is not completely optimized (it completes more evaluations of the quantum circuit than it has to), but this is the simplest way in which the code can be implemented, and I will be optimizing it in an update to thiss tutorial in the near future.\n",
    "\n",
    "The final step is to actually use this code to solve a real linear system. We will first be looking at the example:\n",
    "\n",
    "<br>\n",
    "\n",
    "$$A \\ = \\ 0.45 Z_3 \\ + \\ 0.55 \\mathbb{I}$$\n",
    "\n",
    "<br>\n",
    "\n",
    "In order to minimize the cost function, we use the COBYLA optimizer method, which we repeatedly applying. Our search space for parameters is determined by $\\frac{k}{1000} \\ k \\ \\in \\ \\{0, \\ 3000\\}$, which is initially chosen randomly. We will run the optimizer for $200$ steps, then terminate and apply the ansatz for our optimal parameters, to get our optimized state vector! In addition, we will compute some post-processing, to see if our algorithm actually works! In order to do this, we will apply $A$ to our optimal vector $|\\psi\\rangle_o$, normalize it, then calculate the inner product squared of this vector and the solution vector, $|b\\rangle$! We can put this all into code as:"
   ]
  },
  {
   "cell_type": "code",
   "execution_count": 8,
   "metadata": {
    "scrolled": true
   },
   "outputs": [
    {
     "name": "stdout",
     "output_type": "stream",
     "text": [
      "0.6017174103231802\n"
     ]
    },
    {
     "name": "stdout",
     "output_type": "stream",
     "text": [
      "0.8452068663805011\n"
     ]
    },
    {
     "name": "stdout",
     "output_type": "stream",
     "text": [
      "0.7926209980674456\n"
     ]
    },
    {
     "name": "stdout",
     "output_type": "stream",
     "text": [
      "0.5862481777252873\n"
     ]
    },
    {
     "name": "stdout",
     "output_type": "stream",
     "text": [
      "0.4744752958517403\n"
     ]
    },
    {
     "name": "stdout",
     "output_type": "stream",
     "text": [
      "0.6550261087730241\n"
     ]
    },
    {
     "name": "stdout",
     "output_type": "stream",
     "text": [
      "0.5949737190512439\n"
     ]
    },
    {
     "name": "stdout",
     "output_type": "stream",
     "text": [
      "0.693770598056454\n"
     ]
    },
    {
     "name": "stdout",
     "output_type": "stream",
     "text": [
      "0.5619966586351923\n"
     ]
    },
    {
     "name": "stdout",
     "output_type": "stream",
     "text": [
      "0.8493658077499103\n"
     ]
    },
    {
     "name": "stdout",
     "output_type": "stream",
     "text": [
      "0.5489278919446864\n"
     ]
    },
    {
     "name": "stdout",
     "output_type": "stream",
     "text": [
      "0.45661936152179106\n"
     ]
    },
    {
     "name": "stdout",
     "output_type": "stream",
     "text": [
      "0.4957857928172634\n"
     ]
    },
    {
     "name": "stdout",
     "output_type": "stream",
     "text": [
      "0.4299653506467377\n"
     ]
    },
    {
     "name": "stdout",
     "output_type": "stream",
     "text": [
      "0.41243299265080524\n"
     ]
    },
    {
     "name": "stdout",
     "output_type": "stream",
     "text": [
      "0.3820096469198764\n"
     ]
    },
    {
     "name": "stdout",
     "output_type": "stream",
     "text": [
      "0.38527929412040784\n"
     ]
    },
    {
     "name": "stdout",
     "output_type": "stream",
     "text": [
      "0.3485574447310915\n"
     ]
    },
    {
     "name": "stdout",
     "output_type": "stream",
     "text": [
      "0.10622386683187346\n"
     ]
    },
    {
     "name": "stdout",
     "output_type": "stream",
     "text": [
      "0.9104468020032959\n"
     ]
    },
    {
     "name": "stdout",
     "output_type": "stream",
     "text": [
      "0.12192808306316272\n"
     ]
    },
    {
     "name": "stdout",
     "output_type": "stream",
     "text": [
      "0.3239534161012889\n"
     ]
    },
    {
     "name": "stdout",
     "output_type": "stream",
     "text": [
      "0.050247910816056174\n"
     ]
    },
    {
     "name": "stdout",
     "output_type": "stream",
     "text": [
      "0.47311289740939066\n"
     ]
    },
    {
     "name": "stdout",
     "output_type": "stream",
     "text": [
      "0.09159980576138382\n"
     ]
    },
    {
     "name": "stdout",
     "output_type": "stream",
     "text": [
      "0.7551186103585631\n"
     ]
    },
    {
     "name": "stdout",
     "output_type": "stream",
     "text": [
      "0.08168157104819906\n"
     ]
    },
    {
     "name": "stdout",
     "output_type": "stream",
     "text": [
      "0.05761680499043775\n"
     ]
    },
    {
     "name": "stdout",
     "output_type": "stream",
     "text": [
      "0.16079143781553318\n"
     ]
    },
    {
     "name": "stdout",
     "output_type": "stream",
     "text": [
      "0.014954675055753097\n"
     ]
    },
    {
     "name": "stdout",
     "output_type": "stream",
     "text": [
      "0.15366633057296442\n"
     ]
    },
    {
     "name": "stdout",
     "output_type": "stream",
     "text": [
      "0.08493703236588146\n"
     ]
    },
    {
     "name": "stdout",
     "output_type": "stream",
     "text": [
      "0.06430375058539461\n"
     ]
    },
    {
     "name": "stdout",
     "output_type": "stream",
     "text": [
      "0.06491362913677412\n"
     ]
    },
    {
     "name": "stdout",
     "output_type": "stream",
     "text": [
      "0.02191577413988144\n"
     ]
    },
    {
     "name": "stdout",
     "output_type": "stream",
     "text": [
      "0.24850590847841725\n"
     ]
    },
    {
     "name": "stdout",
     "output_type": "stream",
     "text": [
      "0.014390611745114246\n"
     ]
    },
    {
     "name": "stdout",
     "output_type": "stream",
     "text": [
      "0.07938166320298434\n"
     ]
    },
    {
     "name": "stdout",
     "output_type": "stream",
     "text": [
      "0.014560494270461133\n"
     ]
    },
    {
     "name": "stdout",
     "output_type": "stream",
     "text": [
      "0.0452797208222574\n"
     ]
    },
    {
     "name": "stdout",
     "output_type": "stream",
     "text": [
      "0.013052625491852154\n"
     ]
    },
    {
     "name": "stdout",
     "output_type": "stream",
     "text": [
      "0.014181070928444117\n"
     ]
    },
    {
     "name": "stdout",
     "output_type": "stream",
     "text": [
      "0.023285924584662276\n"
     ]
    },
    {
     "name": "stdout",
     "output_type": "stream",
     "text": [
      "0.031351680556921946\n"
     ]
    },
    {
     "name": "stdout",
     "output_type": "stream",
     "text": [
      "0.01696414623728848\n"
     ]
    },
    {
     "name": "stdout",
     "output_type": "stream",
     "text": [
      "0.008618791280770255\n"
     ]
    },
    {
     "name": "stdout",
     "output_type": "stream",
     "text": [
      "0.0126408809978803\n"
     ]
    },
    {
     "name": "stdout",
     "output_type": "stream",
     "text": [
      "0.012902577405942361\n"
     ]
    },
    {
     "name": "stdout",
     "output_type": "stream",
     "text": [
      "0.010004088999535088\n"
     ]
    },
    {
     "name": "stdout",
     "output_type": "stream",
     "text": [
      "0.007896188397597759\n"
     ]
    },
    {
     "name": "stdout",
     "output_type": "stream",
     "text": [
      "0.008268365023776036\n"
     ]
    },
    {
     "name": "stdout",
     "output_type": "stream",
     "text": [
      "0.010015413449780741\n"
     ]
    },
    {
     "name": "stdout",
     "output_type": "stream",
     "text": [
      "0.010961503839837183\n"
     ]
    },
    {
     "name": "stdout",
     "output_type": "stream",
     "text": [
      "0.013474532195497102\n"
     ]
    },
    {
     "name": "stdout",
     "output_type": "stream",
     "text": [
      "0.008538576128282238\n"
     ]
    },
    {
     "name": "stdout",
     "output_type": "stream",
     "text": [
      "0.009171100509735575\n"
     ]
    },
    {
     "name": "stdout",
     "output_type": "stream",
     "text": [
      "0.008473393117828465\n"
     ]
    },
    {
     "name": "stdout",
     "output_type": "stream",
     "text": [
      "0.007633286540729367\n"
     ]
    },
    {
     "name": "stdout",
     "output_type": "stream",
     "text": [
      "0.008254721358576522\n"
     ]
    },
    {
     "name": "stdout",
     "output_type": "stream",
     "text": [
      "0.007865489381172264\n"
     ]
    },
    {
     "name": "stdout",
     "output_type": "stream",
     "text": [
      "0.006945749211719199\n"
     ]
    },
    {
     "name": "stdout",
     "output_type": "stream",
     "text": [
      "0.007072164478298837\n"
     ]
    },
    {
     "name": "stdout",
     "output_type": "stream",
     "text": [
      "0.007425457642972977\n"
     ]
    },
    {
     "name": "stdout",
     "output_type": "stream",
     "text": [
      "0.007449079330277275\n"
     ]
    },
    {
     "name": "stdout",
     "output_type": "stream",
     "text": [
      "0.006727397433633375\n"
     ]
    },
    {
     "name": "stdout",
     "output_type": "stream",
     "text": [
      "0.006656464207245971\n"
     ]
    },
    {
     "name": "stdout",
     "output_type": "stream",
     "text": [
      "0.006647137881383158\n"
     ]
    },
    {
     "name": "stdout",
     "output_type": "stream",
     "text": [
      "0.010907216587362045\n"
     ]
    },
    {
     "name": "stdout",
     "output_type": "stream",
     "text": [
      "0.008055162006546657\n"
     ]
    },
    {
     "name": "stdout",
     "output_type": "stream",
     "text": [
      "0.006282681041365423\n"
     ]
    },
    {
     "name": "stdout",
     "output_type": "stream",
     "text": [
      "0.007112244953434765\n"
     ]
    },
    {
     "name": "stdout",
     "output_type": "stream",
     "text": [
      "0.007674100737964595\n"
     ]
    },
    {
     "name": "stdout",
     "output_type": "stream",
     "text": [
      "0.006257365306849061\n"
     ]
    },
    {
     "name": "stdout",
     "output_type": "stream",
     "text": [
      "0.007791553795346462\n"
     ]
    },
    {
     "name": "stdout",
     "output_type": "stream",
     "text": [
      "0.004975147712478312\n"
     ]
    },
    {
     "name": "stdout",
     "output_type": "stream",
     "text": [
      "0.008650676535742585\n"
     ]
    },
    {
     "name": "stdout",
     "output_type": "stream",
     "text": [
      "0.004847369052416228\n"
     ]
    },
    {
     "name": "stdout",
     "output_type": "stream",
     "text": [
      "0.004635162094574374\n"
     ]
    },
    {
     "name": "stdout",
     "output_type": "stream",
     "text": [
      "0.0050793237954247505\n"
     ]
    },
    {
     "name": "stdout",
     "output_type": "stream",
     "text": [
      "0.0047253828835442935\n"
     ]
    },
    {
     "name": "stdout",
     "output_type": "stream",
     "text": [
      "0.004847244802865469\n"
     ]
    },
    {
     "name": "stdout",
     "output_type": "stream",
     "text": [
      "0.004366681139013062\n"
     ]
    },
    {
     "name": "stdout",
     "output_type": "stream",
     "text": [
      "0.00412361366998748\n"
     ]
    },
    {
     "name": "stdout",
     "output_type": "stream",
     "text": [
      "0.00413409416317001\n"
     ]
    },
    {
     "name": "stdout",
     "output_type": "stream",
     "text": [
      "0.004633363413727221\n"
     ]
    },
    {
     "name": "stdout",
     "output_type": "stream",
     "text": [
      "0.004002761696536128\n"
     ]
    },
    {
     "name": "stdout",
     "output_type": "stream",
     "text": [
      "0.003908850209907944\n"
     ]
    },
    {
     "name": "stdout",
     "output_type": "stream",
     "text": [
      "0.0035070660514775476\n"
     ]
    },
    {
     "name": "stdout",
     "output_type": "stream",
     "text": [
      "0.0034714308250949344\n"
     ]
    },
    {
     "name": "stdout",
     "output_type": "stream",
     "text": [
      "0.0034380260197407475\n"
     ]
    },
    {
     "name": "stdout",
     "output_type": "stream",
     "text": [
      "0.003730544874516406\n"
     ]
    },
    {
     "name": "stdout",
     "output_type": "stream",
     "text": [
      "0.0035748877561703196\n"
     ]
    },
    {
     "name": "stdout",
     "output_type": "stream",
     "text": [
      "0.0030621574949832864\n"
     ]
    },
    {
     "name": "stdout",
     "output_type": "stream",
     "text": [
      "0.0036427177168892877\n"
     ]
    },
    {
     "name": "stdout",
     "output_type": "stream",
     "text": [
      "0.0030163506106777316\n"
     ]
    },
    {
     "name": "stdout",
     "output_type": "stream",
     "text": [
      "0.003121929880540497\n"
     ]
    },
    {
     "name": "stdout",
     "output_type": "stream",
     "text": [
      "0.002994649485741574\n"
     ]
    },
    {
     "name": "stdout",
     "output_type": "stream",
     "text": [
      "0.0034626811499561816\n"
     ]
    },
    {
     "name": "stdout",
     "output_type": "stream",
     "text": [
      "0.002905199883263987\n"
     ]
    },
    {
     "name": "stdout",
     "output_type": "stream",
     "text": [
      "0.002886099169572831\n"
     ]
    },
    {
     "name": "stdout",
     "output_type": "stream",
     "text": [
      "0.0028244547734125325\n"
     ]
    },
    {
     "name": "stdout",
     "output_type": "stream",
     "text": [
      "0.002837767586811646\n"
     ]
    },
    {
     "name": "stdout",
     "output_type": "stream",
     "text": [
      "0.0029016468822927743\n"
     ]
    },
    {
     "name": "stdout",
     "output_type": "stream",
     "text": [
      "0.0028860425395179634\n"
     ]
    },
    {
     "name": "stdout",
     "output_type": "stream",
     "text": [
      "0.0030483669941183678\n"
     ]
    },
    {
     "name": "stdout",
     "output_type": "stream",
     "text": [
      "0.0029145618709637278\n"
     ]
    },
    {
     "name": "stdout",
     "output_type": "stream",
     "text": [
      "0.0026366211610008294\n"
     ]
    },
    {
     "name": "stdout",
     "output_type": "stream",
     "text": [
      "0.0025962537904703487\n"
     ]
    },
    {
     "name": "stdout",
     "output_type": "stream",
     "text": [
      "0.0026016297136980393\n"
     ]
    },
    {
     "name": "stdout",
     "output_type": "stream",
     "text": [
      "0.0026187009472375955\n"
     ]
    },
    {
     "name": "stdout",
     "output_type": "stream",
     "text": [
      "0.002598185753001192\n"
     ]
    },
    {
     "name": "stdout",
     "output_type": "stream",
     "text": [
      "0.0025967747574061617\n"
     ]
    },
    {
     "name": "stdout",
     "output_type": "stream",
     "text": [
      "0.0025922302678597076\n"
     ]
    },
    {
     "name": "stdout",
     "output_type": "stream",
     "text": [
      "0.0025453419806533706\n"
     ]
    },
    {
     "name": "stdout",
     "output_type": "stream",
     "text": [
      "0.0025068215748556\n"
     ]
    },
    {
     "name": "stdout",
     "output_type": "stream",
     "text": [
      "0.00252306904322408\n"
     ]
    },
    {
     "name": "stdout",
     "output_type": "stream",
     "text": [
      "0.0025031562093253967\n"
     ]
    },
    {
     "name": "stdout",
     "output_type": "stream",
     "text": [
      "0.002514032383296949\n"
     ]
    },
    {
     "name": "stdout",
     "output_type": "stream",
     "text": [
      "0.0025185224528583294\n"
     ]
    },
    {
     "name": "stdout",
     "output_type": "stream",
     "text": [
      "0.002512303723994025\n"
     ]
    },
    {
     "name": "stdout",
     "output_type": "stream",
     "text": [
      "0.0025290636711712278\n"
     ]
    },
    {
     "name": "stdout",
     "output_type": "stream",
     "text": [
      "0.002445477136668428\n"
     ]
    },
    {
     "name": "stdout",
     "output_type": "stream",
     "text": [
      "0.0023526657275374507\n"
     ]
    },
    {
     "name": "stdout",
     "output_type": "stream",
     "text": [
      "0.0022936967384710183\n"
     ]
    },
    {
     "name": "stdout",
     "output_type": "stream",
     "text": [
      "0.0022340510146208192\n"
     ]
    },
    {
     "name": "stdout",
     "output_type": "stream",
     "text": [
      "0.002244016169635432\n"
     ]
    },
    {
     "name": "stdout",
     "output_type": "stream",
     "text": [
      "0.002245519656168038\n"
     ]
    },
    {
     "name": "stdout",
     "output_type": "stream",
     "text": [
      "0.0022029890032436716\n"
     ]
    },
    {
     "name": "stdout",
     "output_type": "stream",
     "text": [
      "0.002168932719561867\n"
     ]
    },
    {
     "name": "stdout",
     "output_type": "stream",
     "text": [
      "0.002179927143492022\n"
     ]
    },
    {
     "name": "stdout",
     "output_type": "stream",
     "text": [
      "0.0021661438321013415\n"
     ]
    },
    {
     "name": "stdout",
     "output_type": "stream",
     "text": [
      "0.002101115624211891\n"
     ]
    },
    {
     "name": "stdout",
     "output_type": "stream",
     "text": [
      "0.0020676044245776515\n"
     ]
    },
    {
     "name": "stdout",
     "output_type": "stream",
     "text": [
      "0.0020707702896617386\n"
     ]
    },
    {
     "name": "stdout",
     "output_type": "stream",
     "text": [
      "0.0021290420684665357\n"
     ]
    },
    {
     "name": "stdout",
     "output_type": "stream",
     "text": [
      "0.002006905628485711\n"
     ]
    },
    {
     "name": "stdout",
     "output_type": "stream",
     "text": [
      "0.0019239060486289095\n"
     ]
    },
    {
     "name": "stdout",
     "output_type": "stream",
     "text": [
      "0.001905993287464769\n"
     ]
    },
    {
     "name": "stdout",
     "output_type": "stream",
     "text": [
      "0.0019103519072112274\n"
     ]
    },
    {
     "name": "stdout",
     "output_type": "stream",
     "text": [
      "0.0018886513425545592\n"
     ]
    },
    {
     "name": "stdout",
     "output_type": "stream",
     "text": [
      "0.0018953958332752485\n"
     ]
    },
    {
     "name": "stdout",
     "output_type": "stream",
     "text": [
      "0.0019212010691280756\n"
     ]
    },
    {
     "name": "stdout",
     "output_type": "stream",
     "text": [
      "0.0018487225129657503\n"
     ]
    },
    {
     "name": "stdout",
     "output_type": "stream",
     "text": [
      "0.0017890596290450755\n"
     ]
    },
    {
     "name": "stdout",
     "output_type": "stream",
     "text": [
      "0.0018364721612629253\n"
     ]
    },
    {
     "name": "stdout",
     "output_type": "stream",
     "text": [
      "0.0017903107585418576\n"
     ]
    },
    {
     "name": "stdout",
     "output_type": "stream",
     "text": [
      "0.0017432069948674078\n"
     ]
    },
    {
     "name": "stdout",
     "output_type": "stream",
     "text": [
      "0.0016797519464661903\n"
     ]
    },
    {
     "name": "stdout",
     "output_type": "stream",
     "text": [
      "0.0016840094532055705\n"
     ]
    },
    {
     "name": "stdout",
     "output_type": "stream",
     "text": [
      "0.001671391525096766\n"
     ]
    },
    {
     "name": "stdout",
     "output_type": "stream",
     "text": [
      "0.0017283780098157342\n"
     ]
    },
    {
     "name": "stdout",
     "output_type": "stream",
     "text": [
      "0.0016710503165124901\n"
     ]
    },
    {
     "name": "stdout",
     "output_type": "stream",
     "text": [
      "0.0015981956919475238\n"
     ]
    },
    {
     "name": "stdout",
     "output_type": "stream",
     "text": [
      "0.001551509665221329\n"
     ]
    },
    {
     "name": "stdout",
     "output_type": "stream",
     "text": [
      "0.0015175755209799746\n"
     ]
    },
    {
     "name": "stdout",
     "output_type": "stream",
     "text": [
      "0.0015493526625172116\n"
     ]
    },
    {
     "name": "stdout",
     "output_type": "stream",
     "text": [
      "0.0015530106411880684\n"
     ]
    },
    {
     "name": "stdout",
     "output_type": "stream",
     "text": [
      "0.001472833881958291\n"
     ]
    },
    {
     "name": "stdout",
     "output_type": "stream",
     "text": [
      "0.0014204768599944684\n"
     ]
    },
    {
     "name": "stdout",
     "output_type": "stream",
     "text": [
      "0.0014426450422840853\n"
     ]
    },
    {
     "name": "stdout",
     "output_type": "stream",
     "text": [
      "0.0014277565233505873\n"
     ]
    },
    {
     "name": "stdout",
     "output_type": "stream",
     "text": [
      "0.0014326789562542075\n"
     ]
    },
    {
     "name": "stdout",
     "output_type": "stream",
     "text": [
      "0.0014168845484978654\n"
     ]
    },
    {
     "name": "stdout",
     "output_type": "stream",
     "text": [
      "0.0014446606499375347\n"
     ]
    },
    {
     "name": "stdout",
     "output_type": "stream",
     "text": [
      "0.001458767830576524\n"
     ]
    },
    {
     "name": "stdout",
     "output_type": "stream",
     "text": [
      "0.0013545827516822095\n"
     ]
    },
    {
     "name": "stdout",
     "output_type": "stream",
     "text": [
      "0.0013408709031342836\n"
     ]
    },
    {
     "name": "stdout",
     "output_type": "stream",
     "text": [
      "0.0013280535213419098\n"
     ]
    },
    {
     "name": "stdout",
     "output_type": "stream",
     "text": [
      "0.00135555346820726\n"
     ]
    },
    {
     "name": "stdout",
     "output_type": "stream",
     "text": [
      "0.0013162744498420587\n"
     ]
    },
    {
     "name": "stdout",
     "output_type": "stream",
     "text": [
      "0.0012859240084290846\n"
     ]
    },
    {
     "name": "stdout",
     "output_type": "stream",
     "text": [
      "0.0012983848932200948\n"
     ]
    },
    {
     "name": "stdout",
     "output_type": "stream",
     "text": [
      "0.0012804903207893625\n"
     ]
    },
    {
     "name": "stdout",
     "output_type": "stream",
     "text": [
      "0.001279119985533539\n"
     ]
    },
    {
     "name": "stdout",
     "output_type": "stream",
     "text": [
      "0.0012684232638012771\n"
     ]
    },
    {
     "name": "stdout",
     "output_type": "stream",
     "text": [
      "0.0013115217990159467\n"
     ]
    },
    {
     "name": "stdout",
     "output_type": "stream",
     "text": [
      "0.0013131422675531912\n"
     ]
    },
    {
     "name": "stdout",
     "output_type": "stream",
     "text": [
      "0.0011898815157646014\n"
     ]
    },
    {
     "name": "stdout",
     "output_type": "stream",
     "text": [
      "0.00117789725747941\n"
     ]
    },
    {
     "name": "stdout",
     "output_type": "stream",
     "text": [
      "0.0011729427503986978\n"
     ]
    },
    {
     "name": "stdout",
     "output_type": "stream",
     "text": [
      "0.0012266070509000526\n"
     ]
    },
    {
     "name": "stdout",
     "output_type": "stream",
     "text": [
      "0.0011812302795192187\n"
     ]
    },
    {
     "name": "stdout",
     "output_type": "stream",
     "text": [
      "0.0011399918367663853\n"
     ]
    },
    {
     "name": "stdout",
     "output_type": "stream",
     "text": [
      "0.0011176822993013147\n"
     ]
    },
    {
     "name": "stdout",
     "output_type": "stream",
     "text": [
      "0.001145040044963186\n"
     ]
    },
    {
     "name": "stdout",
     "output_type": "stream",
     "text": [
      "0.0010933907949612909\n"
     ]
    },
    {
     "name": "stdout",
     "output_type": "stream",
     "text": [
      "0.001109051354800994\n"
     ]
    },
    {
     "name": "stdout",
     "output_type": "stream",
     "text": [
      "0.001119213066673841\n"
     ]
    },
    {
     "name": "stdout",
     "output_type": "stream",
     "text": [
      "0.001032334483681896\n"
     ]
    },
    {
     "name": "stdout",
     "output_type": "stream",
     "text": [
      "0.0010057079223679821\n"
     ]
    },
    {
     "name": "stdout",
     "output_type": "stream",
     "text": [
      "0.000982038129443752\n"
     ]
    },
    {
     "name": "stdout",
     "output_type": "stream",
     "text": [
      "0.0010233354508044634\n"
     ]
    },
    {
     "name": "stdout",
     "output_type": "stream",
     "text": [
      "0.0009784162817211284\n"
     ]
    },
    {
     "name": "stdout",
     "output_type": "stream",
     "text": [
      "0.0009617217152099178\n"
     ]
    },
    {
     "name": "stdout",
     "output_type": "stream",
     "text": [
      "0.0009483509889176567\n"
     ]
    },
    {
     "name": "stdout",
     "output_type": "stream",
     "text": [
      "0.0009425839280653436\n"
     ]
    },
    {
     "name": "stdout",
     "output_type": "stream",
     "text": [
      "0.0008830559074982647\n"
     ]
    },
    {
     "name": "stdout",
     "output_type": "stream",
     "text": [
      "0.0008772938007254316\n"
     ]
    },
    {
     "name": "stdout",
     "output_type": "stream",
     "text": [
      "0.0008737404976689733\n"
     ]
    },
    {
     "name": "stdout",
     "output_type": "stream",
     "text": [
      "0.0008307462249473874\n",
      "     fun: 0.0008307462249473874\n",
      "   maxcv: 0.0\n",
      " message: 'Maximum number of function evaluations has been exceeded.'\n",
      "    nfev: 200\n",
      "  status: 2\n",
      " success: False\n",
      "       x: array([3.14062838, 1.20308229, 2.55502772, 2.98038061, 1.47389457,\n",
      "       2.5237916 , 1.68971102, 1.36399038, 2.97391395])\n",
      "(0.9991692537744958-0j)\n"
     ]
    }
   ],
   "source": [
    "coefficient_set = [0.55, 0.45]\n",
    "gate_set = [[0, 0, 0], [0, 0, 1]]\n",
    "\n",
    "out = minimize(calculate_cost_function, x0=[float(random.randint(0,3000))/1000 for i in range(0, 9)], method=\"COBYLA\", options={'maxiter':200})\n",
    "print(out)\n",
    "\n",
    "out_f = [out['x'][0:3], out['x'][3:6], out['x'][6:9]]\n",
    "\n",
    "circ = QuantumCircuit(3, 3)\n",
    "apply_fixed_ansatz([0, 1, 2], out_f)\n",
    "\n",
    "backend = Aer.get_backend('statevector_simulator')\n",
    "\n",
    "job = execute(circ, backend)\n",
    "\n",
    "result = job.result()\n",
    "o = result.get_statevector(circ, decimals=10)\n",
    "\n",
    "a1 = coefficient_set[1]*np.array([[1,0,0,0,0,0,0,0], [0,1,0,0,0,0,0,0], [0,0,1,0,0,0,0,0], [0,0,0,1,0,0,0,0], [0,0,0,0,-1,0,0,0], [0,0,0,0,0,-1,0,0], [0,0,0,0,0,0,-1,0], [0,0,0,0,0,0,0,-1]])\n",
    "a2 = coefficient_set[0]*np.array([[1,0,0,0,0,0,0,0], [0,1,0,0,0,0,0,0], [0,0,1,0,0,0,0,0], [0,0,0,1,0,0,0,0], [0,0,0,0,1,0,0,0], [0,0,0,0,0,1,0,0], [0,0,0,0,0,0,1,0], [0,0,0,0,0,0,0,1]])\n",
    "a3 = np.add(a1, a2)\n",
    "\n",
    "b = np.array([float(1/np.sqrt(8)),float(1/np.sqrt(8)),float(1/np.sqrt(8)),float(1/np.sqrt(8)),float(1/np.sqrt(8)),float(1/np.sqrt(8)),float(1/np.sqrt(8)),float(1/np.sqrt(8))])\n",
    "\n",
    "print((b.dot(a3.dot(o)/(np.linalg.norm(a3.dot(o)))))**2)"
   ]
  },
  {
   "cell_type": "markdown",
   "metadata": {},
   "source": [
    "As you can see, our cost function has acheived a fairly low value of `0.03273673575407443`, and when we calculate our classical cost function, we get `0.96776862579723`, which agrees perfectly with what we measured, the vectors $|\\psi\\rangle_o$ and $|b\\rangle$ are very similar!\n",
    "\n",
    "Let's do another test! This time, we will keep $|b\\rangle$ the same, but we will have:\n",
    "\n",
    "<br>\n",
    "\n",
    "$$A \\ = \\ 0.55 \\mathbb{I} \\ + \\ 0.225 Z_2 \\ + \\ 0.225 Z_3$$\n",
    "\n",
    "Again, we run our optimization code:"
   ]
  },
  {
   "cell_type": "code",
   "execution_count": 9,
   "metadata": {
    "scrolled": true
   },
   "outputs": [
    {
     "name": "stdout",
     "output_type": "stream",
     "text": [
      "0.9625990356163793\n"
     ]
    },
    {
     "name": "stdout",
     "output_type": "stream",
     "text": [
      "0.9812676658344904\n"
     ]
    },
    {
     "name": "stdout",
     "output_type": "stream",
     "text": [
      "0.9749531745614726\n"
     ]
    },
    {
     "name": "stdout",
     "output_type": "stream",
     "text": [
      "0.9980269383263304\n"
     ]
    },
    {
     "name": "stdout",
     "output_type": "stream",
     "text": [
      "0.980969419038813\n"
     ]
    },
    {
     "name": "stdout",
     "output_type": "stream",
     "text": [
      "0.9955419015753743\n"
     ]
    },
    {
     "name": "stdout",
     "output_type": "stream",
     "text": [
      "0.9862528118088076\n"
     ]
    },
    {
     "name": "stdout",
     "output_type": "stream",
     "text": [
      "0.9209267481727295\n"
     ]
    },
    {
     "name": "stdout",
     "output_type": "stream",
     "text": [
      "0.8060368597245977\n"
     ]
    },
    {
     "name": "stdout",
     "output_type": "stream",
     "text": [
      "0.6740965129755434\n"
     ]
    },
    {
     "name": "stdout",
     "output_type": "stream",
     "text": [
      "0.4802556708393011\n"
     ]
    },
    {
     "name": "stdout",
     "output_type": "stream",
     "text": [
      "0.5228362594277741\n"
     ]
    },
    {
     "name": "stdout",
     "output_type": "stream",
     "text": [
      "0.5654654315565814\n"
     ]
    },
    {
     "name": "stdout",
     "output_type": "stream",
     "text": [
      "0.6412462351715975\n"
     ]
    },
    {
     "name": "stdout",
     "output_type": "stream",
     "text": [
      "0.5404116604316811\n"
     ]
    },
    {
     "name": "stdout",
     "output_type": "stream",
     "text": [
      "0.5178433059282209\n"
     ]
    },
    {
     "name": "stdout",
     "output_type": "stream",
     "text": [
      "0.6664847025047036\n"
     ]
    },
    {
     "name": "stdout",
     "output_type": "stream",
     "text": [
      "0.47781895721354595\n"
     ]
    },
    {
     "name": "stdout",
     "output_type": "stream",
     "text": [
      "0.4969945936748076\n"
     ]
    },
    {
     "name": "stdout",
     "output_type": "stream",
     "text": [
      "0.5024556753819819\n"
     ]
    },
    {
     "name": "stdout",
     "output_type": "stream",
     "text": [
      "0.3937758330211326\n"
     ]
    },
    {
     "name": "stdout",
     "output_type": "stream",
     "text": [
      "0.4753833645448795\n"
     ]
    },
    {
     "name": "stdout",
     "output_type": "stream",
     "text": [
      "0.4340579324323217\n"
     ]
    },
    {
     "name": "stdout",
     "output_type": "stream",
     "text": [
      "0.34402988809424295\n"
     ]
    },
    {
     "name": "stdout",
     "output_type": "stream",
     "text": [
      "0.4098682018347406\n"
     ]
    },
    {
     "name": "stdout",
     "output_type": "stream",
     "text": [
      "0.36517898468794796\n"
     ]
    },
    {
     "name": "stdout",
     "output_type": "stream",
     "text": [
      "0.2977342667699524\n"
     ]
    },
    {
     "name": "stdout",
     "output_type": "stream",
     "text": [
      "0.3754857073269753\n"
     ]
    },
    {
     "name": "stdout",
     "output_type": "stream",
     "text": [
      "0.19926071771637766\n"
     ]
    },
    {
     "name": "stdout",
     "output_type": "stream",
     "text": [
      "0.2563034041139086\n"
     ]
    },
    {
     "name": "stdout",
     "output_type": "stream",
     "text": [
      "0.21594421964017807\n"
     ]
    },
    {
     "name": "stdout",
     "output_type": "stream",
     "text": [
      "0.2655202690864956\n"
     ]
    },
    {
     "name": "stdout",
     "output_type": "stream",
     "text": [
      "0.2204544245062383\n"
     ]
    },
    {
     "name": "stdout",
     "output_type": "stream",
     "text": [
      "0.28816986002134626\n"
     ]
    },
    {
     "name": "stdout",
     "output_type": "stream",
     "text": [
      "0.1967636837900696\n"
     ]
    },
    {
     "name": "stdout",
     "output_type": "stream",
     "text": [
      "0.19116955071754071\n"
     ]
    },
    {
     "name": "stdout",
     "output_type": "stream",
     "text": [
      "0.2350133755901591\n"
     ]
    },
    {
     "name": "stdout",
     "output_type": "stream",
     "text": [
      "0.18228073196388261\n"
     ]
    },
    {
     "name": "stdout",
     "output_type": "stream",
     "text": [
      "0.1848659441508942\n"
     ]
    },
    {
     "name": "stdout",
     "output_type": "stream",
     "text": [
      "0.19681937325920573\n"
     ]
    },
    {
     "name": "stdout",
     "output_type": "stream",
     "text": [
      "0.19408682434761193\n"
     ]
    },
    {
     "name": "stdout",
     "output_type": "stream",
     "text": [
      "0.17118757155596043\n"
     ]
    },
    {
     "name": "stdout",
     "output_type": "stream",
     "text": [
      "0.18042520940081042\n"
     ]
    },
    {
     "name": "stdout",
     "output_type": "stream",
     "text": [
      "0.17832056739229674\n"
     ]
    },
    {
     "name": "stdout",
     "output_type": "stream",
     "text": [
      "0.1909249045830177\n"
     ]
    },
    {
     "name": "stdout",
     "output_type": "stream",
     "text": [
      "0.17214287636766368\n"
     ]
    },
    {
     "name": "stdout",
     "output_type": "stream",
     "text": [
      "0.17092526858025747\n"
     ]
    },
    {
     "name": "stdout",
     "output_type": "stream",
     "text": [
      "0.16968988997017842\n"
     ]
    },
    {
     "name": "stdout",
     "output_type": "stream",
     "text": [
      "0.1509418883342194\n"
     ]
    },
    {
     "name": "stdout",
     "output_type": "stream",
     "text": [
      "0.1520059744354112\n"
     ]
    },
    {
     "name": "stdout",
     "output_type": "stream",
     "text": [
      "0.1592076852718004\n"
     ]
    },
    {
     "name": "stdout",
     "output_type": "stream",
     "text": [
      "0.146604242155571\n"
     ]
    },
    {
     "name": "stdout",
     "output_type": "stream",
     "text": [
      "0.151129473222808\n"
     ]
    },
    {
     "name": "stdout",
     "output_type": "stream",
     "text": [
      "0.151199230543548\n"
     ]
    },
    {
     "name": "stdout",
     "output_type": "stream",
     "text": [
      "0.14959828591378743\n"
     ]
    },
    {
     "name": "stdout",
     "output_type": "stream",
     "text": [
      "0.1502033378311607\n"
     ]
    },
    {
     "name": "stdout",
     "output_type": "stream",
     "text": [
      "0.15110848166388402\n"
     ]
    },
    {
     "name": "stdout",
     "output_type": "stream",
     "text": [
      "0.14676755180562773\n"
     ]
    },
    {
     "name": "stdout",
     "output_type": "stream",
     "text": [
      "0.14782322742551846\n"
     ]
    },
    {
     "name": "stdout",
     "output_type": "stream",
     "text": [
      "0.14673079514245746\n"
     ]
    },
    {
     "name": "stdout",
     "output_type": "stream",
     "text": [
      "0.1529963093673402\n"
     ]
    },
    {
     "name": "stdout",
     "output_type": "stream",
     "text": [
      "0.14885506589976483\n"
     ]
    },
    {
     "name": "stdout",
     "output_type": "stream",
     "text": [
      "0.14251144431462248\n"
     ]
    },
    {
     "name": "stdout",
     "output_type": "stream",
     "text": [
      "0.13811495326561196\n"
     ]
    },
    {
     "name": "stdout",
     "output_type": "stream",
     "text": [
      "0.13494564093160244\n"
     ]
    },
    {
     "name": "stdout",
     "output_type": "stream",
     "text": [
      "0.13551725489295596\n"
     ]
    },
    {
     "name": "stdout",
     "output_type": "stream",
     "text": [
      "0.13489623206717782\n"
     ]
    },
    {
     "name": "stdout",
     "output_type": "stream",
     "text": [
      "0.13101186042069646\n"
     ]
    },
    {
     "name": "stdout",
     "output_type": "stream",
     "text": [
      "0.12652434168634275\n"
     ]
    },
    {
     "name": "stdout",
     "output_type": "stream",
     "text": [
      "0.12590572847022452\n"
     ]
    },
    {
     "name": "stdout",
     "output_type": "stream",
     "text": [
      "0.1262921912920657\n"
     ]
    },
    {
     "name": "stdout",
     "output_type": "stream",
     "text": [
      "0.12673373143960098\n"
     ]
    },
    {
     "name": "stdout",
     "output_type": "stream",
     "text": [
      "0.126217939644515\n"
     ]
    },
    {
     "name": "stdout",
     "output_type": "stream",
     "text": [
      "0.12112981541400336\n"
     ]
    },
    {
     "name": "stdout",
     "output_type": "stream",
     "text": [
      "0.11734562899040857\n"
     ]
    },
    {
     "name": "stdout",
     "output_type": "stream",
     "text": [
      "0.11666049960644509\n"
     ]
    },
    {
     "name": "stdout",
     "output_type": "stream",
     "text": [
      "0.11993219434108848\n"
     ]
    },
    {
     "name": "stdout",
     "output_type": "stream",
     "text": [
      "0.11303669176141407\n"
     ]
    },
    {
     "name": "stdout",
     "output_type": "stream",
     "text": [
      "0.11165533421650042\n"
     ]
    },
    {
     "name": "stdout",
     "output_type": "stream",
     "text": [
      "0.10913575099804029\n"
     ]
    },
    {
     "name": "stdout",
     "output_type": "stream",
     "text": [
      "0.1053435233747615\n"
     ]
    },
    {
     "name": "stdout",
     "output_type": "stream",
     "text": [
      "0.10759635277388968\n"
     ]
    },
    {
     "name": "stdout",
     "output_type": "stream",
     "text": [
      "0.10595760138133148\n"
     ]
    },
    {
     "name": "stdout",
     "output_type": "stream",
     "text": [
      "0.10373388701931485\n"
     ]
    },
    {
     "name": "stdout",
     "output_type": "stream",
     "text": [
      "0.10820772030992287\n"
     ]
    },
    {
     "name": "stdout",
     "output_type": "stream",
     "text": [
      "0.10082880721881837\n"
     ]
    },
    {
     "name": "stdout",
     "output_type": "stream",
     "text": [
      "0.09782110338881844\n"
     ]
    },
    {
     "name": "stdout",
     "output_type": "stream",
     "text": [
      "0.09719691415396947\n"
     ]
    },
    {
     "name": "stdout",
     "output_type": "stream",
     "text": [
      "0.09823804085599308\n"
     ]
    },
    {
     "name": "stdout",
     "output_type": "stream",
     "text": [
      "0.10406368872618665\n"
     ]
    },
    {
     "name": "stdout",
     "output_type": "stream",
     "text": [
      "0.09738657180910026\n"
     ]
    },
    {
     "name": "stdout",
     "output_type": "stream",
     "text": [
      "0.09242967621962206\n"
     ]
    },
    {
     "name": "stdout",
     "output_type": "stream",
     "text": [
      "0.08876182221910878\n"
     ]
    },
    {
     "name": "stdout",
     "output_type": "stream",
     "text": [
      "0.08527461952060755\n"
     ]
    },
    {
     "name": "stdout",
     "output_type": "stream",
     "text": [
      "0.07941214261215257\n"
     ]
    },
    {
     "name": "stdout",
     "output_type": "stream",
     "text": [
      "0.07396302969203417\n"
     ]
    },
    {
     "name": "stdout",
     "output_type": "stream",
     "text": [
      "0.06656247447023045\n"
     ]
    },
    {
     "name": "stdout",
     "output_type": "stream",
     "text": [
      "0.059195104691923905\n"
     ]
    },
    {
     "name": "stdout",
     "output_type": "stream",
     "text": [
      "0.052716387371406825\n"
     ]
    },
    {
     "name": "stdout",
     "output_type": "stream",
     "text": [
      "0.049131599950556826\n"
     ]
    },
    {
     "name": "stdout",
     "output_type": "stream",
     "text": [
      "0.046567853313936314\n"
     ]
    },
    {
     "name": "stdout",
     "output_type": "stream",
     "text": [
      "0.03541575976686473\n"
     ]
    },
    {
     "name": "stdout",
     "output_type": "stream",
     "text": [
      "0.02826742390963921\n"
     ]
    },
    {
     "name": "stdout",
     "output_type": "stream",
     "text": [
      "0.029303178523629958\n"
     ]
    },
    {
     "name": "stdout",
     "output_type": "stream",
     "text": [
      "0.0262895928508895\n"
     ]
    },
    {
     "name": "stdout",
     "output_type": "stream",
     "text": [
      "0.027419092711995496\n"
     ]
    },
    {
     "name": "stdout",
     "output_type": "stream",
     "text": [
      "0.025776052849771247\n"
     ]
    },
    {
     "name": "stdout",
     "output_type": "stream",
     "text": [
      "0.02722350808944274\n"
     ]
    },
    {
     "name": "stdout",
     "output_type": "stream",
     "text": [
      "0.0259774412621413\n"
     ]
    },
    {
     "name": "stdout",
     "output_type": "stream",
     "text": [
      "0.03349745191479425\n"
     ]
    },
    {
     "name": "stdout",
     "output_type": "stream",
     "text": [
      "0.022372997012332863\n"
     ]
    },
    {
     "name": "stdout",
     "output_type": "stream",
     "text": [
      "0.019797829124515776\n"
     ]
    },
    {
     "name": "stdout",
     "output_type": "stream",
     "text": [
      "0.023780947117384987\n"
     ]
    },
    {
     "name": "stdout",
     "output_type": "stream",
     "text": [
      "0.020873089989512206\n"
     ]
    },
    {
     "name": "stdout",
     "output_type": "stream",
     "text": [
      "0.019495538637146592\n"
     ]
    },
    {
     "name": "stdout",
     "output_type": "stream",
     "text": [
      "0.015893899171438686\n"
     ]
    },
    {
     "name": "stdout",
     "output_type": "stream",
     "text": [
      "0.013226825005560272\n"
     ]
    },
    {
     "name": "stdout",
     "output_type": "stream",
     "text": [
      "0.012933093857134703\n"
     ]
    },
    {
     "name": "stdout",
     "output_type": "stream",
     "text": [
      "0.012137154188319732\n"
     ]
    },
    {
     "name": "stdout",
     "output_type": "stream",
     "text": [
      "0.013932970088413321\n"
     ]
    },
    {
     "name": "stdout",
     "output_type": "stream",
     "text": [
      "0.012100899573102675\n"
     ]
    },
    {
     "name": "stdout",
     "output_type": "stream",
     "text": [
      "0.012294551530151354\n"
     ]
    },
    {
     "name": "stdout",
     "output_type": "stream",
     "text": [
      "0.013804533780770956\n"
     ]
    },
    {
     "name": "stdout",
     "output_type": "stream",
     "text": [
      "0.013456063990659128\n"
     ]
    },
    {
     "name": "stdout",
     "output_type": "stream",
     "text": [
      "0.0113726009151075\n"
     ]
    },
    {
     "name": "stdout",
     "output_type": "stream",
     "text": [
      "0.01224590309355178\n"
     ]
    },
    {
     "name": "stdout",
     "output_type": "stream",
     "text": [
      "0.011597757969954103\n"
     ]
    },
    {
     "name": "stdout",
     "output_type": "stream",
     "text": [
      "0.010763546693739579\n"
     ]
    },
    {
     "name": "stdout",
     "output_type": "stream",
     "text": [
      "0.010533716998310516\n"
     ]
    },
    {
     "name": "stdout",
     "output_type": "stream",
     "text": [
      "0.01029664437828548\n"
     ]
    },
    {
     "name": "stdout",
     "output_type": "stream",
     "text": [
      "0.011052489060047632\n"
     ]
    },
    {
     "name": "stdout",
     "output_type": "stream",
     "text": [
      "0.01188342203305004\n"
     ]
    },
    {
     "name": "stdout",
     "output_type": "stream",
     "text": [
      "0.008689307686357006\n"
     ]
    },
    {
     "name": "stdout",
     "output_type": "stream",
     "text": [
      "0.007309126950865719\n"
     ]
    },
    {
     "name": "stdout",
     "output_type": "stream",
     "text": [
      "0.007350291981779944\n"
     ]
    },
    {
     "name": "stdout",
     "output_type": "stream",
     "text": [
      "0.007507630813750388\n"
     ]
    },
    {
     "name": "stdout",
     "output_type": "stream",
     "text": [
      "0.006421533525813983\n"
     ]
    },
    {
     "name": "stdout",
     "output_type": "stream",
     "text": [
      "0.006697061878433885\n"
     ]
    },
    {
     "name": "stdout",
     "output_type": "stream",
     "text": [
      "0.005871036329061052\n"
     ]
    },
    {
     "name": "stdout",
     "output_type": "stream",
     "text": [
      "0.006325960014176513\n"
     ]
    },
    {
     "name": "stdout",
     "output_type": "stream",
     "text": [
      "0.005166757913154574\n"
     ]
    },
    {
     "name": "stdout",
     "output_type": "stream",
     "text": [
      "0.004641477596180277\n"
     ]
    },
    {
     "name": "stdout",
     "output_type": "stream",
     "text": [
      "0.004532395577672932\n"
     ]
    },
    {
     "name": "stdout",
     "output_type": "stream",
     "text": [
      "0.00366065633902235\n"
     ]
    },
    {
     "name": "stdout",
     "output_type": "stream",
     "text": [
      "0.004037525530102948\n"
     ]
    },
    {
     "name": "stdout",
     "output_type": "stream",
     "text": [
      "0.004140950824897516\n"
     ]
    },
    {
     "name": "stdout",
     "output_type": "stream",
     "text": [
      "0.003039295955555965\n"
     ]
    },
    {
     "name": "stdout",
     "output_type": "stream",
     "text": [
      "0.0030153242258573743\n"
     ]
    },
    {
     "name": "stdout",
     "output_type": "stream",
     "text": [
      "0.0030930173753374035\n"
     ]
    },
    {
     "name": "stdout",
     "output_type": "stream",
     "text": [
      "0.002698572251383924\n"
     ]
    },
    {
     "name": "stdout",
     "output_type": "stream",
     "text": [
      "0.0025136970808998793\n"
     ]
    },
    {
     "name": "stdout",
     "output_type": "stream",
     "text": [
      "0.0032962590690809312\n"
     ]
    },
    {
     "name": "stdout",
     "output_type": "stream",
     "text": [
      "0.002514138652555342\n"
     ]
    },
    {
     "name": "stdout",
     "output_type": "stream",
     "text": [
      "0.0016414547783503153\n"
     ]
    },
    {
     "name": "stdout",
     "output_type": "stream",
     "text": [
      "0.002357636286048903\n"
     ]
    },
    {
     "name": "stdout",
     "output_type": "stream",
     "text": [
      "0.0015483735076918803\n"
     ]
    },
    {
     "name": "stdout",
     "output_type": "stream",
     "text": [
      "0.002061480838722818\n"
     ]
    },
    {
     "name": "stdout",
     "output_type": "stream",
     "text": [
      "0.0013847238524695715\n"
     ]
    },
    {
     "name": "stdout",
     "output_type": "stream",
     "text": [
      "0.0014872655862092632\n"
     ]
    },
    {
     "name": "stdout",
     "output_type": "stream",
     "text": [
      "0.0012981794817268355\n"
     ]
    },
    {
     "name": "stdout",
     "output_type": "stream",
     "text": [
      "0.0011027457990494538\n"
     ]
    },
    {
     "name": "stdout",
     "output_type": "stream",
     "text": [
      "0.0009100419940986093\n"
     ]
    },
    {
     "name": "stdout",
     "output_type": "stream",
     "text": [
      "0.0010783786072975365\n"
     ]
    },
    {
     "name": "stdout",
     "output_type": "stream",
     "text": [
      "0.0011153673868314895\n"
     ]
    },
    {
     "name": "stdout",
     "output_type": "stream",
     "text": [
      "0.0009270188319526751\n"
     ]
    },
    {
     "name": "stdout",
     "output_type": "stream",
     "text": [
      "0.0009164806409012183\n"
     ]
    },
    {
     "name": "stdout",
     "output_type": "stream",
     "text": [
      "0.0009259978731008811\n"
     ]
    },
    {
     "name": "stdout",
     "output_type": "stream",
     "text": [
      "0.0008629584391465217\n"
     ]
    },
    {
     "name": "stdout",
     "output_type": "stream",
     "text": [
      "0.0006702913583783721\n"
     ]
    },
    {
     "name": "stdout",
     "output_type": "stream",
     "text": [
      "0.0008786649722077877\n"
     ]
    },
    {
     "name": "stdout",
     "output_type": "stream",
     "text": [
      "0.0008709449871522335\n"
     ]
    },
    {
     "name": "stdout",
     "output_type": "stream",
     "text": [
      "0.000584151999995286\n"
     ]
    },
    {
     "name": "stdout",
     "output_type": "stream",
     "text": [
      "0.0008077937969642734\n"
     ]
    },
    {
     "name": "stdout",
     "output_type": "stream",
     "text": [
      "0.0005170388936960313\n"
     ]
    },
    {
     "name": "stdout",
     "output_type": "stream",
     "text": [
      "0.0004039854213840899\n"
     ]
    },
    {
     "name": "stdout",
     "output_type": "stream",
     "text": [
      "0.00040739520032762044\n"
     ]
    },
    {
     "name": "stdout",
     "output_type": "stream",
     "text": [
      "0.0004451905269919898\n"
     ]
    },
    {
     "name": "stdout",
     "output_type": "stream",
     "text": [
      "0.00045149582058023885\n"
     ]
    },
    {
     "name": "stdout",
     "output_type": "stream",
     "text": [
      "0.0004133067379875621\n"
     ]
    },
    {
     "name": "stdout",
     "output_type": "stream",
     "text": [
      "0.0004866678517517764\n"
     ]
    },
    {
     "name": "stdout",
     "output_type": "stream",
     "text": [
      "0.00044083279262874253\n"
     ]
    },
    {
     "name": "stdout",
     "output_type": "stream",
     "text": [
      "0.0007541584220110975\n"
     ]
    },
    {
     "name": "stdout",
     "output_type": "stream",
     "text": [
      "0.0004029454365667151\n"
     ]
    },
    {
     "name": "stdout",
     "output_type": "stream",
     "text": [
      "0.0004024199619747648\n"
     ]
    },
    {
     "name": "stdout",
     "output_type": "stream",
     "text": [
      "0.0004410397374983166\n"
     ]
    },
    {
     "name": "stdout",
     "output_type": "stream",
     "text": [
      "0.00042789497833251033\n"
     ]
    },
    {
     "name": "stdout",
     "output_type": "stream",
     "text": [
      "0.00040252178399091676\n"
     ]
    },
    {
     "name": "stdout",
     "output_type": "stream",
     "text": [
      "0.00043478518519890486\n"
     ]
    },
    {
     "name": "stdout",
     "output_type": "stream",
     "text": [
      "0.0003796493372016929\n"
     ]
    },
    {
     "name": "stdout",
     "output_type": "stream",
     "text": [
      "0.00034797173808331916\n"
     ]
    },
    {
     "name": "stdout",
     "output_type": "stream",
     "text": [
      "0.0003390447936343355\n"
     ]
    },
    {
     "name": "stdout",
     "output_type": "stream",
     "text": [
      "0.00033034646717644556\n"
     ]
    },
    {
     "name": "stdout",
     "output_type": "stream",
     "text": [
      "0.00034172394526921224\n"
     ]
    },
    {
     "name": "stdout",
     "output_type": "stream",
     "text": [
      "0.00033562909875473057\n"
     ]
    },
    {
     "name": "stdout",
     "output_type": "stream",
     "text": [
      "0.0003517450458128124\n"
     ]
    },
    {
     "name": "stdout",
     "output_type": "stream",
     "text": [
      "0.00033620709549797567\n"
     ]
    },
    {
     "name": "stdout",
     "output_type": "stream",
     "text": [
      "0.0003463680142710146\n"
     ]
    },
    {
     "name": "stdout",
     "output_type": "stream",
     "text": [
      "0.000354925351359503\n"
     ]
    },
    {
     "name": "stdout",
     "output_type": "stream",
     "text": [
      "0.00037651172879415995\n"
     ]
    },
    {
     "name": "stdout",
     "output_type": "stream",
     "text": [
      "0.00037866311542333886\n",
      "     fun: 0.00033034646717644556\n",
      "   maxcv: 0.0\n",
      " message: 'Maximum number of function evaluations has been exceeded.'\n",
      "    nfev: 200\n",
      "  status: 2\n",
      " success: False\n",
      "       x: array([ 0.75983962,  3.1633498 , -0.23017442,  0.61927745,  0.14937424,\n",
      "        2.48316147,  1.43236175,  6.00656311,  5.06876161])\n",
      "(0.999669653530172-0j)\n"
     ]
    }
   ],
   "source": [
    "coefficient_set = [0.55, 0.225, 0.225]\n",
    "gate_set = [[0, 0, 0], [0, 1, 0], [0, 0, 1]]\n",
    "\n",
    "out = minimize(calculate_cost_function, x0=[float(random.randint(0,3000))/1000 for i in range(0, 9)], method=\"COBYLA\", options={'maxiter':200})\n",
    "print(out)\n",
    "\n",
    "out_f = [out['x'][0:3], out['x'][3:6], out['x'][6:9]]\n",
    "\n",
    "circ = QuantumCircuit(3, 3)\n",
    "apply_fixed_ansatz([0, 1, 2], out_f)\n",
    "\n",
    "backend = Aer.get_backend('statevector_simulator')\n",
    "\n",
    "job = execute(circ, backend)\n",
    "\n",
    "result = job.result()\n",
    "o = result.get_statevector(circ, decimals=10)\n",
    "\n",
    "a1 = coefficient_set[2]*np.array([[1,0,0,0,0,0,0,0], [0,1,0,0,0,0,0,0], [0,0,1,0,0,0,0,0], [0,0,0,1,0,0,0,0], [0,0,0,0,-1,0,0,0], [0,0,0,0,0,-1,0,0], [0,0,0,0,0,0,-1,0], [0,0,0,0,0,0,0,-1]])\n",
    "a0 = coefficient_set[1]*np.array([[1,0,0,0,0,0,0,0], [0,1,0,0,0,0,0,0], [0,0,-1,0,0,0,0,0], [0,0,0,-1,0,0,0,0], [0,0,0,0,1,0,0,0], [0,0,0,0,0,1,0,0], [0,0,0,0,0,0,-1,0], [0,0,0,0,0,0,0,-1]])\n",
    "a2 = coefficient_set[0]*np.array([[1,0,0,0,0,0,0,0], [0,1,0,0,0,0,0,0], [0,0,1,0,0,0,0,0], [0,0,0,1,0,0,0,0], [0,0,0,0,1,0,0,0], [0,0,0,0,0,1,0,0], [0,0,0,0,0,0,1,0], [0,0,0,0,0,0,0,1]])\n",
    "\n",
    "a3 = np.add(np.add(a2, a0), a1)\n",
    "\n",
    "b = np.array([float(1/np.sqrt(8)),float(1/np.sqrt(8)),float(1/np.sqrt(8)),float(1/np.sqrt(8)),float(1/np.sqrt(8)),float(1/np.sqrt(8)),float(1/np.sqrt(8)),float(1/np.sqrt(8))])\n",
    "\n",
    "print((b.dot(a3.dot(o)/(np.linalg.norm(a3.dot(o)))))**2)"
   ]
  },
  {
   "cell_type": "markdown",
   "metadata": {},
   "source": [
    "Again, very low error, `0.00014718223342624626`, and the classical cost function agrees, being `0.9998563418983931`! Great, so it works!\n",
    "\n",
    "Now, we have found that this algorithm works **in theory**. I tried to run some simulations with a circuit that samples the circuit instead of calculating the probabilities numerically. Now, let's try to **sample** the quantum circuit, as a real quantum computer would do! For some reason, this simulation would only converge somewhat well for a ridiculously high number of \"shots\" (runs of the circuit, in order to calculate the probability distribution of outcomes). I think that this is mostly to do with limitations in the classical optimizer (COBYLA), due to the noisy nature of sampling a quantum circuit (a measurement with the same parameters won't always yield the same outcome). Luckily, there are other optimizers that are built for noisy functions, such as SPSA, but we won't be looking into that in this tutorial. Let's try our sampling for our second value of $A$, with the same matrix $U$:"
   ]
  },
  {
   "cell_type": "code",
   "execution_count": 10,
   "metadata": {},
   "outputs": [],
   "source": [
    "#Implements the entire cost function on the quantum circuit (sampling, 100000 shots)\n",
    "\n",
    "def calculate_cost_function(parameters):\n",
    "\n",
    "    global opt\n",
    "\n",
    "    overall_sum_1 = 0\n",
    "    \n",
    "    parameters = [parameters[0:3], parameters[3:6], parameters[6:9]]\n",
    "\n",
    "    for i in range(0, len(gate_set)):\n",
    "        for j in range(0, len(gate_set)):\n",
    "\n",
    "            global circ\n",
    "\n",
    "            qctl = QuantumRegister(5)\n",
    "            qc = ClassicalRegister(1)\n",
    "            circ = QuantumCircuit(qctl, qc)\n",
    "\n",
    "            backend = Aer.get_backend('qasm_simulator')\n",
    "            \n",
    "            multiply = coefficient_set[i]*coefficient_set[j]\n",
    "\n",
    "            had_test([gate_set[i], gate_set[j]], [1, 2, 3], 0, parameters)\n",
    "\n",
    "            circ.measure(0, 0)\n",
    "\n",
    "            job = execute(circ, backend, shots=100000)\n",
    "\n",
    "            result = job.result()\n",
    "            outputstate = result.get_counts(circ)\n",
    "\n",
    "            if ('1' in outputstate.keys()):\n",
    "                m_sum = float(outputstate[\"1\"])/100000\n",
    "            else:\n",
    "                m_sum = 0\n",
    "\n",
    "            overall_sum_1+=multiply*(1-2*m_sum)\n",
    "\n",
    "    overall_sum_2 = 0\n",
    "\n",
    "    for i in range(0, len(gate_set)):\n",
    "        for j in range(0, len(gate_set)):\n",
    "\n",
    "            multiply = coefficient_set[i]*coefficient_set[j]\n",
    "            mult = 1\n",
    "\n",
    "            for extra in range(0, 2):\n",
    "\n",
    "                qctl = QuantumRegister(5)\n",
    "                qc = ClassicalRegister(1)\n",
    "                \n",
    "                circ = QuantumCircuit(qctl, qc)\n",
    "\n",
    "                backend = Aer.get_backend('qasm_simulator')\n",
    "\n",
    "                if (extra == 0):\n",
    "                    special_had_test(gate_set[i], [1, 2, 3], 0, parameters, qctl)\n",
    "                if (extra == 1):\n",
    "                    special_had_test(gate_set[j], [1, 2, 3], 0, parameters, qctl)\n",
    "\n",
    "                circ.measure(0, 0)\n",
    "\n",
    "                job = execute(circ, backend, shots=100000)\n",
    "\n",
    "                result = job.result()\n",
    "                outputstate = result.get_counts(circ)\n",
    "\n",
    "                if ('1' in outputstate.keys()):\n",
    "                    m_sum = float(outputstate[\"1\"])/100000\n",
    "                else:\n",
    "                    m_sum = 0\n",
    "\n",
    "                mult = mult*(1-2*m_sum)\n",
    "            \n",
    "            overall_sum_2+=multiply*mult\n",
    "            \n",
    "    print(1-float(overall_sum_2/overall_sum_1))\n",
    "\n",
    "    return 1-float(overall_sum_2/overall_sum_1)"
   ]
  },
  {
   "cell_type": "code",
   "execution_count": 11,
   "metadata": {
    "scrolled": true
   },
   "outputs": [
    {
     "name": "stdout",
     "output_type": "stream",
     "text": [
      "0.9993425426515787\n"
     ]
    },
    {
     "name": "stdout",
     "output_type": "stream",
     "text": [
      "0.9730165174430788\n"
     ]
    },
    {
     "name": "stdout",
     "output_type": "stream",
     "text": [
      "0.9880819280791053\n"
     ]
    },
    {
     "name": "stdout",
     "output_type": "stream",
     "text": [
      "0.9796088274567379\n"
     ]
    },
    {
     "name": "stdout",
     "output_type": "stream",
     "text": [
      "0.9290243654181647\n"
     ]
    },
    {
     "name": "stdout",
     "output_type": "stream",
     "text": [
      "0.8265670875986172\n"
     ]
    },
    {
     "name": "stdout",
     "output_type": "stream",
     "text": [
      "0.9077777637633613\n"
     ]
    },
    {
     "name": "stdout",
     "output_type": "stream",
     "text": [
      "0.8098045756660055\n"
     ]
    },
    {
     "name": "stdout",
     "output_type": "stream",
     "text": [
      "0.7201400094412083\n"
     ]
    },
    {
     "name": "stdout",
     "output_type": "stream",
     "text": [
      "0.8897169624290471\n"
     ]
    },
    {
     "name": "stdout",
     "output_type": "stream",
     "text": [
      "0.5979615597265484\n"
     ]
    },
    {
     "name": "stdout",
     "output_type": "stream",
     "text": [
      "0.7639559379232632\n"
     ]
    },
    {
     "name": "stdout",
     "output_type": "stream",
     "text": [
      "0.5550148838902862\n"
     ]
    },
    {
     "name": "stdout",
     "output_type": "stream",
     "text": [
      "0.4983302554618563\n"
     ]
    },
    {
     "name": "stdout",
     "output_type": "stream",
     "text": [
      "0.47729061674645346\n"
     ]
    },
    {
     "name": "stdout",
     "output_type": "stream",
     "text": [
      "0.5158180749364317\n"
     ]
    },
    {
     "name": "stdout",
     "output_type": "stream",
     "text": [
      "0.48554037933654015\n"
     ]
    },
    {
     "name": "stdout",
     "output_type": "stream",
     "text": [
      "0.4858841515153194\n"
     ]
    },
    {
     "name": "stdout",
     "output_type": "stream",
     "text": [
      "0.5091987062798102\n"
     ]
    },
    {
     "name": "stdout",
     "output_type": "stream",
     "text": [
      "0.2879760529044991\n"
     ]
    },
    {
     "name": "stdout",
     "output_type": "stream",
     "text": [
      "0.2279385477279645\n"
     ]
    },
    {
     "name": "stdout",
     "output_type": "stream",
     "text": [
      "0.4897532938320206\n"
     ]
    },
    {
     "name": "stdout",
     "output_type": "stream",
     "text": [
      "0.18234196811925152\n"
     ]
    },
    {
     "name": "stdout",
     "output_type": "stream",
     "text": [
      "0.6134294839829809\n"
     ]
    },
    {
     "name": "stdout",
     "output_type": "stream",
     "text": [
      "0.17803988318612163\n"
     ]
    },
    {
     "name": "stdout",
     "output_type": "stream",
     "text": [
      "0.45591409296156704\n"
     ]
    },
    {
     "name": "stdout",
     "output_type": "stream",
     "text": [
      "0.14620177277542434\n"
     ]
    },
    {
     "name": "stdout",
     "output_type": "stream",
     "text": [
      "0.8850627192771191\n"
     ]
    },
    {
     "name": "stdout",
     "output_type": "stream",
     "text": [
      "0.22311487162561794\n"
     ]
    },
    {
     "name": "stdout",
     "output_type": "stream",
     "text": [
      "0.33385745916532217\n"
     ]
    },
    {
     "name": "stdout",
     "output_type": "stream",
     "text": [
      "0.334392585024644\n"
     ]
    },
    {
     "name": "stdout",
     "output_type": "stream",
     "text": [
      "0.1343116575208103\n"
     ]
    },
    {
     "name": "stdout",
     "output_type": "stream",
     "text": [
      "0.52876704223542\n"
     ]
    },
    {
     "name": "stdout",
     "output_type": "stream",
     "text": [
      "0.136152373957369\n"
     ]
    },
    {
     "name": "stdout",
     "output_type": "stream",
     "text": [
      "0.17943186680358603\n"
     ]
    },
    {
     "name": "stdout",
     "output_type": "stream",
     "text": [
      "0.2183827444858255\n"
     ]
    },
    {
     "name": "stdout",
     "output_type": "stream",
     "text": [
      "0.2288989401730449\n"
     ]
    },
    {
     "name": "stdout",
     "output_type": "stream",
     "text": [
      "0.07090315604995656\n"
     ]
    },
    {
     "name": "stdout",
     "output_type": "stream",
     "text": [
      "0.10839255263359415\n"
     ]
    },
    {
     "name": "stdout",
     "output_type": "stream",
     "text": [
      "0.15024656199441078\n"
     ]
    },
    {
     "name": "stdout",
     "output_type": "stream",
     "text": [
      "0.08068082232472562\n"
     ]
    },
    {
     "name": "stdout",
     "output_type": "stream",
     "text": [
      "0.15674256659651808\n"
     ]
    },
    {
     "name": "stdout",
     "output_type": "stream",
     "text": [
      "0.10743242119927554\n"
     ]
    },
    {
     "name": "stdout",
     "output_type": "stream",
     "text": [
      "0.10017452837219687\n"
     ]
    },
    {
     "name": "stdout",
     "output_type": "stream",
     "text": [
      "0.09986703418292975\n"
     ]
    },
    {
     "name": "stdout",
     "output_type": "stream",
     "text": [
      "0.0762463755702073\n"
     ]
    },
    {
     "name": "stdout",
     "output_type": "stream",
     "text": [
      "0.11159051242872775\n"
     ]
    },
    {
     "name": "stdout",
     "output_type": "stream",
     "text": [
      "0.08547973471219183\n"
     ]
    },
    {
     "name": "stdout",
     "output_type": "stream",
     "text": [
      "0.07859745504021665\n"
     ]
    },
    {
     "name": "stdout",
     "output_type": "stream",
     "text": [
      "0.07874022693756733\n"
     ]
    },
    {
     "name": "stdout",
     "output_type": "stream",
     "text": [
      "0.09249944340400718\n"
     ]
    },
    {
     "name": "stdout",
     "output_type": "stream",
     "text": [
      "0.09372644802424968\n"
     ]
    },
    {
     "name": "stdout",
     "output_type": "stream",
     "text": [
      "0.08131347356628515\n"
     ]
    },
    {
     "name": "stdout",
     "output_type": "stream",
     "text": [
      "0.08376726132547274\n"
     ]
    },
    {
     "name": "stdout",
     "output_type": "stream",
     "text": [
      "0.10246916940869288\n"
     ]
    },
    {
     "name": "stdout",
     "output_type": "stream",
     "text": [
      "0.09440748079528893\n"
     ]
    },
    {
     "name": "stdout",
     "output_type": "stream",
     "text": [
      "0.09742408931046598\n"
     ]
    },
    {
     "name": "stdout",
     "output_type": "stream",
     "text": [
      "0.08955648059975552\n"
     ]
    },
    {
     "name": "stdout",
     "output_type": "stream",
     "text": [
      "0.07178099217294298\n"
     ]
    },
    {
     "name": "stdout",
     "output_type": "stream",
     "text": [
      "0.09263489981929429\n"
     ]
    },
    {
     "name": "stdout",
     "output_type": "stream",
     "text": [
      "0.08081793175684238\n"
     ]
    },
    {
     "name": "stdout",
     "output_type": "stream",
     "text": [
      "0.10329962296569395\n"
     ]
    },
    {
     "name": "stdout",
     "output_type": "stream",
     "text": [
      "0.10060954012082157\n"
     ]
    },
    {
     "name": "stdout",
     "output_type": "stream",
     "text": [
      "0.10277972349554876\n"
     ]
    },
    {
     "name": "stdout",
     "output_type": "stream",
     "text": [
      "0.08906960854668056\n"
     ]
    },
    {
     "name": "stdout",
     "output_type": "stream",
     "text": [
      "0.10115040766743455\n"
     ]
    },
    {
     "name": "stdout",
     "output_type": "stream",
     "text": [
      "0.08527427822929501\n"
     ]
    },
    {
     "name": "stdout",
     "output_type": "stream",
     "text": [
      "0.09469882168504151\n"
     ]
    },
    {
     "name": "stdout",
     "output_type": "stream",
     "text": [
      "0.11298405039337933\n"
     ]
    },
    {
     "name": "stdout",
     "output_type": "stream",
     "text": [
      "0.08116972441977532\n"
     ]
    },
    {
     "name": "stdout",
     "output_type": "stream",
     "text": [
      "0.06822891614692006\n"
     ]
    },
    {
     "name": "stdout",
     "output_type": "stream",
     "text": [
      "0.08948542457947806\n"
     ]
    },
    {
     "name": "stdout",
     "output_type": "stream",
     "text": [
      "0.10224107232081403\n"
     ]
    },
    {
     "name": "stdout",
     "output_type": "stream",
     "text": [
      "0.09602782564067314\n"
     ]
    },
    {
     "name": "stdout",
     "output_type": "stream",
     "text": [
      "0.08338770725188938\n"
     ]
    },
    {
     "name": "stdout",
     "output_type": "stream",
     "text": [
      "0.08525037878093233\n"
     ]
    },
    {
     "name": "stdout",
     "output_type": "stream",
     "text": [
      "0.08980927751496237\n"
     ]
    },
    {
     "name": "stdout",
     "output_type": "stream",
     "text": [
      "0.09512140993854012\n"
     ]
    },
    {
     "name": "stdout",
     "output_type": "stream",
     "text": [
      "0.08014978464080469\n"
     ]
    },
    {
     "name": "stdout",
     "output_type": "stream",
     "text": [
      "0.08445143572233171\n"
     ]
    },
    {
     "name": "stdout",
     "output_type": "stream",
     "text": [
      "0.07618029579131202\n"
     ]
    },
    {
     "name": "stdout",
     "output_type": "stream",
     "text": [
      "0.08113716758493295\n"
     ]
    },
    {
     "name": "stdout",
     "output_type": "stream",
     "text": [
      "0.07906372086675584\n"
     ]
    },
    {
     "name": "stdout",
     "output_type": "stream",
     "text": [
      "0.09536128641735786\n"
     ]
    },
    {
     "name": "stdout",
     "output_type": "stream",
     "text": [
      "0.08806289769473918\n"
     ]
    },
    {
     "name": "stdout",
     "output_type": "stream",
     "text": [
      "0.08227584064144577\n"
     ]
    },
    {
     "name": "stdout",
     "output_type": "stream",
     "text": [
      "0.07749738036162179\n"
     ]
    },
    {
     "name": "stdout",
     "output_type": "stream",
     "text": [
      "0.07394172835404245\n"
     ]
    },
    {
     "name": "stdout",
     "output_type": "stream",
     "text": [
      "0.08061160369553788\n"
     ]
    },
    {
     "name": "stdout",
     "output_type": "stream",
     "text": [
      "0.08650924184773401\n"
     ]
    },
    {
     "name": "stdout",
     "output_type": "stream",
     "text": [
      "0.0941745327455098\n"
     ]
    },
    {
     "name": "stdout",
     "output_type": "stream",
     "text": [
      "0.06940040832774186\n"
     ]
    },
    {
     "name": "stdout",
     "output_type": "stream",
     "text": [
      "0.08742836257266395\n"
     ]
    },
    {
     "name": "stdout",
     "output_type": "stream",
     "text": [
      "0.08316538130130757\n"
     ]
    },
    {
     "name": "stdout",
     "output_type": "stream",
     "text": [
      "0.09207838564503312\n"
     ]
    },
    {
     "name": "stdout",
     "output_type": "stream",
     "text": [
      "0.05012244743257932\n"
     ]
    },
    {
     "name": "stdout",
     "output_type": "stream",
     "text": [
      "0.10438572515192346\n"
     ]
    },
    {
     "name": "stdout",
     "output_type": "stream",
     "text": [
      "0.10023172153844195\n"
     ]
    },
    {
     "name": "stdout",
     "output_type": "stream",
     "text": [
      "0.09150126861943297\n",
      "     fun: 0.09150126861943297\n",
      "   maxcv: 0.0\n",
      " message: 'Optimization terminated successfully.'\n",
      "    nfev: 99\n",
      "  status: 1\n",
      " success: True\n",
      "       x: array([ 0.84999505,  0.20197536, -0.74899066,  3.52507634,  5.88174778,\n",
      "        0.14404227,  3.01507468,  2.72105785,  1.83812439])\n",
      "(0.912670424600107+0j)\n"
     ]
    }
   ],
   "source": [
    "coefficient_set = [0.55, 0.225, 0.225]\n",
    "gate_set = [[0, 0, 0], [0, 1, 0], [0, 0, 1]]\n",
    "\n",
    "out = minimize(calculate_cost_function, x0=[float(random.randint(0,3000))/1000 for i in range(0, 9)], method=\"COBYLA\", options={'maxiter':200})\n",
    "print(out)\n",
    "\n",
    "out_f = [out['x'][0:3], out['x'][3:6], out['x'][6:9]]\n",
    "\n",
    "circ = QuantumCircuit(3, 3)\n",
    "apply_fixed_ansatz([0, 1, 2], out_f)\n",
    "\n",
    "backend = Aer.get_backend('statevector_simulator')\n",
    "\n",
    "job = execute(circ, backend)\n",
    "\n",
    "result = job.result()\n",
    "o = result.get_statevector(circ, decimals=10)\n",
    "\n",
    "a1 = coefficient_set[2]*np.array([[1,0,0,0,0,0,0,0], [0,1,0,0,0,0,0,0], [0,0,1,0,0,0,0,0], [0,0,0,1,0,0,0,0], [0,0,0,0,-1,0,0,0], [0,0,0,0,0,-1,0,0], [0,0,0,0,0,0,-1,0], [0,0,0,0,0,0,0,-1]])\n",
    "a0 = coefficient_set[1]*np.array([[1,0,0,0,0,0,0,0], [0,1,0,0,0,0,0,0], [0,0,-1,0,0,0,0,0], [0,0,0,-1,0,0,0,0], [0,0,0,0,1,0,0,0], [0,0,0,0,0,1,0,0], [0,0,0,0,0,0,-1,0], [0,0,0,0,0,0,0,-1]])\n",
    "a2 = coefficient_set[0]*np.array([[1,0,0,0,0,0,0,0], [0,1,0,0,0,0,0,0], [0,0,1,0,0,0,0,0], [0,0,0,1,0,0,0,0], [0,0,0,0,1,0,0,0], [0,0,0,0,0,1,0,0], [0,0,0,0,0,0,1,0], [0,0,0,0,0,0,0,1]])\n",
    "\n",
    "a3 = np.add(np.add(a2, a0), a1)\n",
    "\n",
    "b = np.array([float(1/np.sqrt(8)),float(1/np.sqrt(8)),float(1/np.sqrt(8)),float(1/np.sqrt(8)),float(1/np.sqrt(8)),float(1/np.sqrt(8)),float(1/np.sqrt(8)),float(1/np.sqrt(8))])\n",
    "\n",
    "print((b.dot(a3.dot(o)/(np.linalg.norm(a3.dot(o)))))**2)"
   ]
  },
  {
   "cell_type": "markdown",
   "metadata": {},
   "source": [
    "So as you can see, not amazing, our solution is still off by a fairly significant margin ($3.677\\%$ error isn't awful, but ideally, we want it to be **much** closer to 0). Again, I think this is due to the optimizer itself, not the actual quantum circuit. I will be making an update to this Notebook once I figure out how to correct this problem (likely with the introduction of a noisy optimizer, as I previously mentioned).\n",
    "\n",
    "**Acknowledgements**\n",
    "\n",
    "This implementation is based off of the work presented in the research paper \"Variational Quantum Linear Solver: A Hybrid Algorithm for Linear Systems\", written by Carlos Bravo-Prieto, Ryan LaRose, M. Cerezo, Yiğit Subaşı, Lukasz Cincio, and Patrick J. Coles, which is available at [this](https://arxiv.org/abs/1909.05820) link.\n",
    "\n",
    "Special thanks to Carlos Bravo-Prieto for personally helping me out, by answering some of my questions concerning the paper!"
   ]
  },
  {
   "cell_type": "code",
   "execution_count": 12,
   "metadata": {},
   "outputs": [
    {
     "data": {
      "text/plain": [
       "{'qiskit-terra': '0.11.1',\n",
       " 'qiskit-aer': '0.3.4',\n",
       " 'qiskit-ignis': '0.2.0',\n",
       " 'qiskit-ibmq-provider': '0.4.5',\n",
       " 'qiskit-aqua': '0.6.2',\n",
       " 'qiskit': '0.14.1'}"
      ]
     },
     "execution_count": 12,
     "metadata": {},
     "output_type": "execute_result"
    }
   ],
   "source": [
    "import qiskit\n",
    "qiskit.__qiskit_version__"
   ]
  }
 ],
 "metadata": {
  "kernelspec": {
   "display_name": "Python 3",
   "language": "python",
   "name": "python3"
  },
  "language_info": {
   "codemirror_mode": {
    "name": "ipython",
    "version": 3
   },
   "file_extension": ".py",
   "mimetype": "text/x-python",
   "name": "python",
   "nbconvert_exporter": "python",
   "pygments_lexer": "ipython3",
   "version": "3.7.4"
  }
 },
 "nbformat": 4,
 "nbformat_minor": 2
}
