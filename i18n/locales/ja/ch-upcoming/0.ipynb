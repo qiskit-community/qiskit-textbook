{
 "cells": [
  {
   "cell_type": "markdown",
   "metadata": {},
   "source": [
    "# 今後更新されるトピック"
   ]
  },
  {
   "cell_type": "markdown",
   "metadata": {},
   "source": [
    "以下のトピックがテキストブックに追加される予定で現在作業中です。"
   ]
  },
  {
   "cell_type": "markdown",
   "metadata": {},
   "source": [
    "1. ショアのアルゴリズム\n",
    "2. NISQハードウェア向けの量子アルゴリズムの全体像\n",
    "3. 超伝導量子コンピューターへのイジングモデルのマッピング\n",
    "4. QAOAを使った組み合わせ最適化問題の解法\n",
    "5. HHLを使った線形方程式の解法\n",
    "6. BB84を使った通信のセキュリティ\n",
    "7. デコヒーレンスとエネルギー緩和：T2とT1の測定\n",
    "8. 高いフィデリティーの量子ビット操作のためのマイクロ波最適化\n",
    "9. 状態とプロセスのトモグラフィー"
   ]
  }
 ],
 "metadata": {
  "kernelspec": {
   "display_name": "Python 3",
   "language": "python",
   "name": "python3"
  },
  "language_info": {
   "codemirror_mode": {
    "name": "ipython",
    "version": 3
   },
   "file_extension": ".py",
   "mimetype": "text/x-python",
   "name": "python",
   "nbconvert_exporter": "python",
   "pygments_lexer": "ipython3",
   "version": "3.7.4"
  }
 },
 "nbformat": 4,
 "nbformat_minor": 2
}
