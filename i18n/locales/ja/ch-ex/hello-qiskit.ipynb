{
 "cells": [
  {
   "cell_type": "markdown",
   "metadata": {
    "tags": [
     "remove_cell"
    ]
   },
   "source": [
    "# こんにちはQiskitゲーム"
   ]
  },
  {
   "cell_type": "markdown",
   "metadata": {},
   "source": [
    "量子ビットと量子ゲートを使い始めるための簡単なパズル。\n",
    "\n",
    "# レベル 1: ビットから始める\n",
    "\n",
    "このテキストブックの他の章と同様に、このドキュメントはJupyter notebookです。ただし、他の多くの章とは異なり、実際に実行して機能させる必要があります。\n",
    "\n",
    "これまでJupyter notebookを使用したことがなくても心配しないでください。これは、以下のように、コードが入った灰色のボックスがたくさん表示されることを意味します。 これらはセルとして知られています。"
   ]
  },
  {
   "cell_type": "code",
   "execution_count": null,
   "metadata": {},
   "outputs": [],
   "source": [
    "print(\"Hello! I'm a code cell\")"
   ]
  },
  {
   "cell_type": "markdown",
   "metadata": {},
   "source": [
    "セル内でコードを実行する方法は、使用しているデバイスと入力方法によって異なります。ほとんどの場合、セルをクリックして**ShiftとEnterキー**を押す必要があります。ただし、QiskitテキストブックのWebサイトでこれを実行している場合は、下の`RUN`ボタンをクリックするだけです。\n",
    "\n",
    "以下のセルに対してこれを実行することから始めます(実行には1〜2秒かかります)。"
   ]
  },
  {
   "cell_type": "code",
   "execution_count": null,
   "metadata": {},
   "outputs": [],
   "source": [
    "print('Set up started...')\n",
    "from qiskit_textbook.games import hello_quantum\n",
    "print('Set up complete!')"
   ]
  },
  {
   "cell_type": "markdown",
   "metadata": {},
   "source": [
    "このJupyter notebookの残りのセルには、解くためのパズルを設定するコードが含まれています。パズルを解くには、セルを実行するだけです。パズルを再開するには、パズルを再実行するだけです。"
   ]
  },
  {
   "cell_type": "markdown",
   "metadata": {},
   "source": [
    "## パズル 1\n",
    "\n",
    "### 導入\n",
    "量子コンピューターは*量子ビット*に基づいています：ビットの量子力学のルールに従います。しかし、正確にはビットとは何ですか？そして、それらはコンピューターでどのように使用されていますか？\n",
    "\n",
    "ビットの特徴は、2つの可能な出力値があることです。これらは、`1`と`0`、または「オン」と「オフ」、または「真」と「偽」と呼ぶことができます。私たちが使用する名前は重要ではありません。重要な点は、2つあるということです。\n",
    "\n",
    "ビットに慣れるために、ビットで遊んでみましょう。ビットでできる最も簡単なことは(そのままにしておく以外に)、その値を反転することです。この単純な操作に派手な名前を付けます。これは`NOT`ゲートと呼ばれます。\n",
    "\n",
    "以下で試してみてください。\n",
    "\n",
    "### 練習問題\n",
    "*`NOT`ゲートを3回使用してみましょう。"
   ]
  },
  {
   "cell_type": "code",
   "execution_count": null,
   "metadata": {
    "scrolled": false
   },
   "outputs": [],
   "source": [
    "initialize = []\n",
    "success_condition = {}\n",
    "allowed_gates = {'0': {'NOT': 3}, '1': {}, 'both': {}}\n",
    "vi = [[1], False, False]\n",
    "qubit_names = {'0':'the only bit', '1':None}\n",
    "puzzle = hello_quantum.run_game(initialize, success_condition, allowed_gates, vi, qubit_names)"
   ]
  },
  {
   "cell_type": "markdown",
   "metadata": {},
   "source": [
    "### 終結\n",
    "ここでは、オン(白)またはオフ(黒)の円を使用してビットを視覚化しました。`NOT`ゲートの効果は、ビットの2つの状態を切り替えて、オンとオフを切り替えることでした。"
   ]
  },
  {
   "cell_type": "markdown",
   "metadata": {},
   "source": [
    "## パズル 2\n",
    "\n",
    "### 導入\n",
    "1つだけではなく2つのビットで遊ぶ方が面白いです。ここに遊ぶための別のものがあります。以前と同じように見えます。しかし、それは別のビットなので、別の場所にあります。\n",
    "\n",
    "### 練習問題\n",
    "* もう一方のビットをオンにします。"
   ]
  },
  {
   "cell_type": "code",
   "execution_count": null,
   "metadata": {},
   "outputs": [],
   "source": [
    "initialize = []\n",
    "success_condition = {}\n",
    "allowed_gates = {'0': {}, '1': {'NOT': 0}, 'both': {}}\n",
    "vi = [[], False, False]\n",
    "qubit_names = {'0':'the bit on the left', '1':'the bit on the right'}\n",
    "puzzle = hello_quantum.run_game(initialize, success_condition, allowed_gates, vi, qubit_names)"
   ]
  },
  {
   "cell_type": "markdown",
   "metadata": {},
   "source": [
    "### 終結\n",
    "これで、コンピューティングの最も基本的な構成要素である`NOT`ゲートをマスターしました。"
   ]
  },
  {
   "cell_type": "markdown",
   "metadata": {},
   "source": [
    "## パズル 3\n",
    "\n",
    "### 導入\n",
    "「ゲート」という言葉を使用して、量子ビットを操作するために使用できる簡単なツールを説明します。`NOT`ゲートは最も単純な例です。しかし、ビットを使って面白いことをするためには、単にオンとオフを切り替える以上のことをする必要があります。\n",
    "\n",
    "もう少し洗練されたゲートは`CNOT`と呼ばれ、「controled-NOT」の略です。これはビットのペアで使用されます。\n",
    "\n",
    "「コントロール」となるビットの1つを選択します。これにより、CNOTが実際に何かを実行するかどうかが決まります。もう1つのビットは「ターゲット」です。簡単に言えば、CNOTはターゲットビットに対して`NOT`を実行しますが、コントロールビットがオンの場合に限ります。\n",
    "\n",
    "これを理解する最良の方法は、試してみることです。\n",
    "\n",
    "### 練習問題\n",
    "\n",
    "*CNOTを使用して、右側のビットをオンにします。\n",
    "\n",
    "***注**：ビットを選択するように求められた場合は、どちらをターゲットビットにするかを選択しています。"
   ]
  },
  {
   "cell_type": "code",
   "execution_count": null,
   "metadata": {},
   "outputs": [],
   "source": [
    "initialize = [['x', '0']]\n",
    "success_condition = {'IZ': -1.0}\n",
    "allowed_gates = {'0': {'CNOT': 0}, '1': {'CNOT': 0}, 'both': {}}\n",
    "vi = [[], False, False]\n",
    "qubit_names = {'0':'the bit on the left', '1':'the bit on the right'}\n",
    "puzzle = hello_quantum.run_game(initialize, success_condition, allowed_gates, vi, qubit_names)"
   ]
  },
  {
   "cell_type": "markdown",
   "metadata": {},
   "source": [
    "## パズル 4\n",
    "\n",
    "### 導入・導入\n",
    "私たちが実行するプログラムはすべて、多くの量子ビット上の多くのゲートで構成されています。これに向けたステップとして、`CNOT`をいくつか使用する必要があるものを試してみましょう。\n",
    "\n",
    "### 練習問題\n",
    "\n",
    "* 複数のCNOTを使用して、左ビットをオフにし、右ビットをオンにします。"
   ]
  },
  {
   "cell_type": "code",
   "execution_count": null,
   "metadata": {},
   "outputs": [],
   "source": [
    "initialize = [['x', '0']]\n",
    "success_condition = {'ZI': 1.0, 'IZ': -1.0}\n",
    "allowed_gates = {'0': {'CNOT': 0}, '1': {'CNOT': 0}, 'both': {}}\n",
    "vi = [[], False, False]\n",
    "qubit_names = {'0':'the bit on the left', '1':'the bit on the right'}\n",
    "puzzle = hello_quantum.run_game(initialize, success_condition, allowed_gates, vi, qubit_names)"
   ]
  },
  {
   "cell_type": "markdown",
   "metadata": {},
   "source": [
    "### 終結\n",
    "素晴らしい！\n",
    "\n",
    "これらの種類の操作は、あらゆるコンピューティングがコンパイルするものです。より多くのビットと制御制御`NOT`ゲートがあれば、テトリスから自動運転車まですべてを構築できます。"
   ]
  },
  {
   "cell_type": "markdown",
   "metadata": {},
   "source": [
    "## パズル 5\n",
    "\n",
    "### 導入\n",
    "お気づきかもしれませんが、パズルボードにはたくさんの空きスペースがあります。これは、ビットに関するより多くの情報を視覚化するために使用できるためです。たとえば、ビット値がランダムなプロセスによって生成された場合はどうなるでしょうか？\n",
    "\n",
    "0または1のビット値を表すために黒と白の円を使用しました。したがって、等確率で0または1が得られるランダムビットの場合、灰色の円を使用します。\n",
    "\n",
    "これで、ゲートがこのランダム性をどのように操作するかを見ることができます。\n",
    "\n",
    "### 練習問題\n",
    "* CNOTを使用して、右側のビットをランダムにします。"
   ]
  },
  {
   "cell_type": "code",
   "execution_count": null,
   "metadata": {},
   "outputs": [],
   "source": [
    "initialize = [['h', '0']]\n",
    "success_condition = {'IZ': 0.0}\n",
    "allowed_gates = {'0': {'CNOT': 0}, '1': {'CNOT': 0}, 'both': {}}\n",
    "vi = [[], False, False]\n",
    "qubit_names = {'0':'the bit on the left', '1':'the bit on the right'}\n",
    "puzzle = hello_quantum.run_game(initialize, success_condition, allowed_gates, vi, qubit_names)"
   ]
  },
  {
   "cell_type": "markdown",
   "metadata": {},
   "source": [
    "### 終結\n",
    "\n",
    "\n",
    "素晴らしいでしょう！\n",
    "\n",
    "ここで何が起こったのか考えてみましょう。ランダムにオンまたはオフのいずれかであるビットによってコントロールされる`CNOT`を実行しました。オフの場合、`CNOT`は何もせず、右ビットはオフのままです。左側のビットがオンの場合、`CNOT`は右側のビットでも`NOT`を実行してオンにします。\n",
    "\n",
    "このプロセスは、左ビットのランダム値を右に効果的にコピーします。したがって、両方からの出力はランダムに見えますが、重要な特性があります。それらは常に互いに同じランダムな結果を出力します。\n",
    "\n",
    "上のパズルの終わりに、2つのビットは2つの灰色の円で表されました。これは、両方がランダムであることを示していますが、常に一致しているという事実については何も教えてくれません。ビットが独立してランダムである場合、またはランダムであるが常に一致しない場合にも、同じ2つの灰色の円が使用されます。\n",
    "この違いを見分けるために，問題ボードに何かを追加する必要があります。"
   ]
  },
  {
   "cell_type": "markdown",
   "metadata": {},
   "source": [
    "## パズル 6\n",
    "\n",
    "### 導入\n",
    "下のパズルでは、新しい円が表示されます。\n",
    "\n",
    "これまでに見た円とは異なり、新しいビットを表すものではありません。代わりに、2ビットが一致するかどうかを示します。\n",
    "\n",
    "それらが一致することが確実であるとき、それはオフになります。それらが一致しないことが確実な場合、それはオンになります。それらの一致と不一致がランダムである場合、それは灰色になります。\n",
    "\n",
    "### 練習問題\n",
    "\n",
    "* 2つのビットを常に一致させないようにします(つまり、真ん中の円を白にします)。"
   ]
  },
  {
   "cell_type": "code",
   "execution_count": null,
   "metadata": {
    "scrolled": false
   },
   "outputs": [],
   "source": [
    "initialize = [['h', '0']]\n",
    "success_condition = {'ZZ': -1.0}\n",
    "allowed_gates = {'0': {'NOT': 0, 'CNOT': 0}, '1': {'NOT': 0, 'CNOT': 0}, 'both': {}}\n",
    "vi = [[], False, True]\n",
    "qubit_names = {'0':'the bit on the left', '1':'the bit on the right'}\n",
    "puzzle = hello_quantum.run_game(initialize, success_condition, allowed_gates, vi, qubit_names)"
   ]
  },
  {
   "cell_type": "markdown",
   "metadata": {},
   "source": [
    "## パズル 7\n",
    "\n",
    "### 導入\n",
    "これで、ビットについて知る必要があるすべてがほぼ必要であることがわかりました。先に進む前に、もう1つ演習を行いましょう。\n",
    "\n",
    "### 練習問題\n",
    "* 右側のビットをオンにします。"
   ]
  },
  {
   "cell_type": "code",
   "execution_count": null,
   "metadata": {},
   "outputs": [],
   "source": [
    "initialize = [['h', '1']]\n",
    "success_condition = {'IZ': -1.0}\n",
    "allowed_gates = {'0': {'NOT': 0, 'CNOT': 0}, '1': {'NOT': 0, 'CNOT': 0}, 'both': {}}\n",
    "vi = [[], False, True]\n",
    "qubit_names = {'0':'the bit on the left', '1':'the bit on the right'}\n",
    "puzzle = hello_quantum.run_game(initialize, success_condition, allowed_gates, vi, qubit_names)"
   ]
  },
  {
   "cell_type": "markdown",
   "metadata": {},
   "source": [
    "### 終結\n",
    "次に、ビットが量子になったときに何が起こるかを見てみましょう。量子ビットの時間です！"
   ]
  },
  {
   "cell_type": "markdown",
   "metadata": {},
   "source": [
    "# レベル 2: 基本的な単一量子ビットゲート"
   ]
  },
  {
   "cell_type": "markdown",
   "metadata": {},
   "source": [
    "## パズル 1\n",
    "\n",
    "### 導入\n",
    "量子力学の講義から始める代わりに、ここで遊ぶための量子ビットがあります。`X`と呼ばれる最も単純な量子ビットゲートを試してみてください。\n",
    "\n",
    "### 練習問題\n",
    "* `X`ゲートを3回使用して、何が起こるかを確認します。"
   ]
  },
  {
   "cell_type": "code",
   "execution_count": null,
   "metadata": {
    "scrolled": false
   },
   "outputs": [],
   "source": [
    "initialize = [ [\"x\",\"0\"] ]\n",
    "success_condition = {\"ZI\":1.0}\n",
    "allowed_gates = { \"0\":{\"x\":3}, \"1\":{}, \"both\":{} }\n",
    "vi = [[1],True,True]\n",
    "qubit_names = {'0':'the only qubit', '1':None}\n",
    "puzzle = hello_quantum.run_game(initialize, success_condition, allowed_gates, vi, qubit_names)"
   ]
  },
  {
   "cell_type": "markdown",
   "metadata": {},
   "source": [
    "### 終結\n",
    "このパズルはとてもなじみのあるものに思えたはずです。何も変化しなかった円があったこと以外は、ビットの最初のものとまったく同じでした。\n",
    "`X`ゲートは`NOT`ゲートとまったく同じ効果がありました。"
   ]
  },
  {
   "cell_type": "markdown",
   "metadata": {},
   "source": [
    "## パズル 2\n",
    "\n",
    "### 導入\n",
    "さきほどのパズルには2つの円がありました。これらは異なるビットではなく、両方とも同じ量子ビットを表しています。\n",
    "\n",
    "量子ビットはビットの量子バージョンです。それらはビットと同じプロパティのいくつかを持っていますが、いくつかの追加機能も持っています。\n",
    "\n",
    "ビットと同じように、量子ビットも使える値は2つに制限されています。量子ビットから出力を抽出すると、0または1の単純なビット値が得られます。ただし、量子ビットでは、このビットを抽出するための方法が複数あります。得られる結果は、使用する方法によって異なります。\n",
    "\n",
    "さきほどのパズルの2つの円は、同じ量子ビットからビットを取り出す2つの異なる手法を表しています。それらはXおよびZ測定と呼ばれます。下の円はZ測定の出力を表し、上の円はX出力を表します。\n",
    "\n",
    "円の色は以前とまったく同じように使用されます。円が黒の場合、対応する出力は値`0`になります。白い円は`1`を取得することを意味します。\n",
    "\n",
    "### 練習問題\n",
    "* Z出力をオフにします。"
   ]
  },
  {
   "cell_type": "code",
   "execution_count": null,
   "metadata": {},
   "outputs": [],
   "source": [
    "initialize = [['x', '0']]\n",
    "success_condition = {'ZI': 1.0}\n",
    "allowed_gates = {'0': {'x': 0}, '1': {}, 'both': {}}\n",
    "vi = [[1], True, True]\n",
    "qubit_names = {'0':'the only qubit', '1':None}\n",
    "puzzle = hello_quantum.run_game(initialize, success_condition, allowed_gates, vi, qubit_names)"
   ]
  },
  {
   "cell_type": "markdown",
   "metadata": {},
   "source": [
    "### 終結\n",
    "量子ビットからビットを抽出するプロセスは、「測定」と呼ばれます。\n",
    "\n",
    "X出力とZ出力の両方を個別に抽出することはできません。1つだけ選択する必要があります。"
   ]
  },
  {
   "cell_type": "markdown",
   "metadata": {},
   "source": [
    "## パズル 3\n",
    "\n",
    "### 導入\n",
    "このパズルでは、別の量子ビットが表示されます。これもまた、2つの円で表される内部動作を持ちます。この量子ビットの場合、これらの円はパズルボードの右側にあります。\n",
    "\n",
    "### 練習問題\n",
    "* もう片方の量子ビットのZ出力をオフにします。"
   ]
  },
  {
   "cell_type": "code",
   "execution_count": null,
   "metadata": {},
   "outputs": [],
   "source": [
    "initialize = [['x', '1']]\n",
    "success_condition = {'IZ': 1.0}\n",
    "allowed_gates = {'0': {}, '1': {'x': 0}, 'both': {}}\n",
    "vi = [[0], True, True]\n",
    "qubit_names = {'0':None, '1':'the other qubit'}\n",
    "puzzle = hello_quantum.run_game(initialize, success_condition, allowed_gates, vi, qubit_names)"
   ]
  },
  {
   "cell_type": "markdown",
   "metadata": {},
   "source": [
    "### 終結\n",
    "これから、プログラムで使用される名前で量子ビットの呼び出しを開始します。左側の量子ビットは`q[0]`になり、右側の量子ビットは`q[1]`になります。\n",
    "\n",
    "また、Z出力およびX出力という用語は広く使用されていないことに注意してください。「Z測定の出力」などと言うのがより一般的です。しかし、それはこれらのパズルにとって少し長い表現です。"
   ]
  },
  {
   "cell_type": "markdown",
   "metadata": {},
   "source": [
    "## パズル 4\n",
    "\n",
    "### 導入\n",
    "次に、新しいゲートであるHゲートを試してみましょう。\n",
    "\n",
    "これは、単純なビットでは不可能なことです。それは、それが適用される量子ビットの2つの円を交換する効果があります。\n",
    "\n",
    "これを素敵なアニメーション形式で見たい場合は、[Hello Quantumアプリ](https://helloquantum.mybluemix.net/)をチェックしてください。しかし、ここでは、3回繰り返すという古いトリックでこれをテストしてください。\n",
    "\n",
    "### 練習問題\n",
    "* `H`ゲートを3回使用します。"
   ]
  },
  {
   "cell_type": "code",
   "execution_count": null,
   "metadata": {},
   "outputs": [],
   "source": [
    "initialize = []\n",
    "success_condition = {'ZI': 0.0}\n",
    "allowed_gates = {'0': {'h': 3}, '1': {}, 'both': {}}\n",
    "vi = [[1], True, True]\n",
    "qubit_names = {'0':'q[0]', '1':'q[1]'}\n",
    "puzzle = hello_quantum.run_game(initialize, success_condition, allowed_gates, vi, qubit_names)"
   ]
  },
  {
   "cell_type": "markdown",
   "metadata": {},
   "source": [
    "### 終結\n",
    "ここから先は、下のコードをパズルの下に置き、量子プログラムを表示します。\n",
    "\n",
    "これらは、実際の量子コンピューターで実行できる実際のQiskitプログラムです。それらは、いわゆる回路図で表すこともできます。量子プログラムの回路図を表示するには、以下のコードセルを実行します。"
   ]
  },
  {
   "cell_type": "code",
   "execution_count": null,
   "metadata": {},
   "outputs": [],
   "source": [
    "puzzle.get_circuit().draw(output='mpl')"
   ]
  },
  {
   "cell_type": "markdown",
   "metadata": {},
   "source": [
    "## パズル 5\n",
    "\n",
    "### 導入\n",
    "Z出力が一定の場合(完全にオフまたはオンの場合)、`X`ゲートは単に値を反転します。しかし、さきほどのパズルで見たように、Z出力がランダムである場合はどうなりますか？この練習問題で、その答えがわかります。\n",
    "\n",
    "### 練習問題\n",
    "* Z出力を完全にオフにします。 `h`ゲートはいくつでも使用できますが、`x`は正確に3回使用します。"
   ]
  },
  {
   "cell_type": "code",
   "execution_count": null,
   "metadata": {},
   "outputs": [],
   "source": [
    "initialize = [['h', '1']]\n",
    "success_condition = {'IZ': 1.0}\n",
    "allowed_gates = {'0': {}, '1': {'x': 3, 'h': 0}, 'both': {}}\n",
    "vi = [[0], True, True]\n",
    "qubit_names = {'0':'q[0]', '1':'q[1]'}\n",
    "puzzle = hello_quantum.run_game(initialize, success_condition, allowed_gates, vi, qubit_names)"
   ]
  },
  {
   "cell_type": "code",
   "execution_count": null,
   "metadata": {},
   "outputs": [],
   "source": [
    "puzzle.get_circuit().draw(output='mpl')"
   ]
  },
  {
   "cell_type": "markdown",
   "metadata": {},
   "source": [
    "### 終結\n",
    "たとえそれをひっくり返したとしても、ランダムな結果はただのランダムな結果であることがわかります。"
   ]
  },
  {
   "cell_type": "markdown",
   "metadata": {},
   "source": [
    "## パズル 6\n",
    "\n",
    "### 導入\n",
    "`x`ゲートがZ出力を反転することを確認しましたが、X出力には影響しません。そのためには、新しいゲート、`z`ゲートが必要です。\n",
    "\n",
    "### 練習問題\n",
    "* X出力をオフにします。"
   ]
  },
  {
   "cell_type": "code",
   "execution_count": null,
   "metadata": {},
   "outputs": [],
   "source": [
    "initialize = [['h', '0'], ['z', '0']]\n",
    "success_condition = {'XI': 1.0}\n",
    "allowed_gates = {'0': {'z': 0, 'h': 0}, '1': {}, 'both': {}}\n",
    "vi = [[1], True, True]\n",
    "qubit_names = {'0':'q[0]', '1':'q[1]'}\n",
    "puzzle = hello_quantum.run_game(initialize, success_condition, allowed_gates, vi, qubit_names)"
   ]
  },
  {
   "cell_type": "code",
   "execution_count": null,
   "metadata": {},
   "outputs": [],
   "source": [
    "puzzle.get_circuit().draw(output='mpl')"
   ]
  },
  {
   "cell_type": "markdown",
   "metadata": {},
   "source": [
    "### 終結\n",
    "`x`ゲートはZ出力を反転し、`z`ゲートはx出力を反転します。今のところ、これは物事に名前を付ける奇妙な方法のように思えるかもしれません。しかし、量子コンピューティングについてさらに学ぶにつれて、それは意味を持つようになるでしょう。"
   ]
  },
  {
   "cell_type": "markdown",
   "metadata": {},
   "source": [
    "## パズル 7\n",
    "\n",
    "### 導入\n",
    "ゲートを組み合わせることで、新しい効果を得ることができます。簡単な例として、`z`と`h`を組み合わせることで、`x`の作用をすることができます。\n",
    "\n",
    "### 練習問題\n",
    "* `x`ゲートを使用せずにZ出力をオンにします"
   ]
  },
  {
   "cell_type": "code",
   "execution_count": null,
   "metadata": {},
   "outputs": [],
   "source": [
    "initialize = []\n",
    "success_condition = {'ZI': -1.0}\n",
    "allowed_gates = {'0': {'z': 0, 'h': 0}, '1': {}, 'both': {}}\n",
    "vi = [[1], True, True]\n",
    "qubit_names = {'0':'q[0]', '1':'q[1]'}\n",
    "puzzle = hello_quantum.run_game(initialize, success_condition, allowed_gates, vi, qubit_names)"
   ]
  },
  {
   "cell_type": "code",
   "execution_count": null,
   "metadata": {},
   "outputs": [],
   "source": [
    "puzzle.get_circuit().draw(output='mpl')"
   ]
  },
  {
   "cell_type": "markdown",
   "metadata": {},
   "source": [
    "## パズル 8\n",
    "\n",
    "### 導入\n",
    "Z出力が完全にオンまたはオフの場合、X出力は常にランダムであることに気付くかもしれません。これは、量子ビットがそれぞれの出力について同時に確実になることは決してないためです。それらが一方について確実である場合、もう一方はランダムでなければなりません。\n",
    "\n",
    "もし上記ではない場合、Z出力とX出力を使用して2ビットを格納できてしまいます。つまり量子ビットが持っているより多くのメモリーを持つことになってしまいます。複数の方法で出力を抽出できるという事実にもかかわらず、それでも、量子ビットにビット以上を格納することは許可されていません。\n",
    "\n",
    "### 練習問題\n",
    "* X出力をオフにし、Z出力をランダムにします。"
   ]
  },
  {
   "cell_type": "code",
   "execution_count": null,
   "metadata": {},
   "outputs": [],
   "source": [
    "initialize = [['h', '0']]\n",
    "success_condition = {'IX': 1.0}\n",
    "allowed_gates = {'0': {}, '1': {'z': 0, 'h': 0}, 'both': {}}\n",
    "vi = [[0], True, True]\n",
    "qubit_names = {'0':'q[0]', '1':'q[1]'}\n",
    "puzzle = hello_quantum.run_game(initialize, success_condition, allowed_gates, vi, qubit_names)"
   ]
  },
  {
   "cell_type": "code",
   "execution_count": null,
   "metadata": {
    "scrolled": true
   },
   "outputs": [],
   "source": [
    "puzzle.get_circuit().draw(output='mpl')"
   ]
  },
  {
   "cell_type": "markdown",
   "metadata": {},
   "source": [
    "## パズル 9\n",
    "\n",
    "## 導入\n",
    "量子ビットの限られた確実性は、2つの出力間で共有することもできます。たとえば、両方の出力を、それらが提供する出力についてほぼ確実(完全に確実ではない)にすることで妥協することができます。\n",
    "\n",
    "さまざまなグレーの色合いを使用して、これを視覚化します。円が暗いほど、出力は`0`になる可能性が高くなります。円が明るいほど、出力は`1`になる可能性が高くなります。\n",
    "\n",
    "\n",
    "### 練習問題\n",
    "* `q[1]`の2つの円を両方とも明るい灰色にします。これは、`1`を出力する可能性が高いことを意味しますが、確実ではありません。"
   ]
  },
  {
   "cell_type": "code",
   "execution_count": null,
   "metadata": {},
   "outputs": [],
   "source": [
    "initialize = [['ry(pi/4)', '1']]\n",
    "success_condition = {'IZ': -0.7071, 'IX': -0.7071}\n",
    "allowed_gates = {'0': {}, '1': {'z': 0, 'h': 0}, 'both': {}}\n",
    "vi = [[0], True, True]\n",
    "qubit_names = {'0':'q[0]', '1':'q[1]'}\n",
    "puzzle = hello_quantum.run_game(initialize, success_condition, allowed_gates, vi, qubit_names)"
   ]
  },
  {
   "cell_type": "code",
   "execution_count": null,
   "metadata": {},
   "outputs": [],
   "source": [
    "puzzle.get_circuit().draw(output='mpl')"
   ]
  },
  {
   "cell_type": "markdown",
   "metadata": {},
   "source": [
    "## パズル 10\n",
    "\n",
    "### 導入\n",
    "これで基本的なツールがわかったので、両方の量子ビットに同時に取り組むことができます。\n",
    "\n",
    "### 練習問題\n",
    "*  両方のZ出力をランダムにします。"
   ]
  },
  {
   "cell_type": "code",
   "execution_count": null,
   "metadata": {},
   "outputs": [],
   "source": [
    "initialize = [['x', '1']]\n",
    "success_condition = {'ZI': 0.0, 'IZ': 0.0}\n",
    "allowed_gates = {'0': {'x': 0, 'z': 0, 'h': 0}, '1': {'x': 0, 'z': 0, 'h': 0}, 'both': {}}\n",
    "vi = [[], True, False]\n",
    "qubit_names = {'0':'q[0]', '1':'q[1]'}\n",
    "puzzle = hello_quantum.run_game(initialize, success_condition, allowed_gates, vi, qubit_names)"
   ]
  },
  {
   "cell_type": "code",
   "execution_count": null,
   "metadata": {},
   "outputs": [],
   "source": [
    "puzzle.get_circuit().draw(output='mpl')"
   ]
  },
  {
   "cell_type": "markdown",
   "metadata": {},
   "source": [
    "### 終結\n",
    "ここでの各Z出力は、ランダムに`0`または`1`を出力します。しかし、それらの出力は相関しますか？ 反相関？ 完全に無関係ですか？\n",
    "\n",
    "ビットで行ったように、いくつかの追加の円を使用してこの情報を追跡します。"
   ]
  },
  {
   "cell_type": "markdown",
   "metadata": {},
   "source": [
    "## パズル 11\n",
    "\n",
    "### 導入\n",
    "このパズルでは、4つの新しい円が表示されます。そのうちの1つは、レベル1ですでに見たものです。そこでは、2つのビット値が確実に一致するか(黒)、一致しないか(白)を追跡していました。ここでは、両方の量子ビットのZ出力に対して同じ作用をします。\n",
    "\n",
    "### 練習問題\n",
    "* Z出力が確実に一致しないようにします。"
   ]
  },
  {
   "cell_type": "code",
   "execution_count": null,
   "metadata": {},
   "outputs": [],
   "source": [
    "initialize = [['h','0'],['h','1']]\n",
    "success_condition = {'ZZ': -1.0}\n",
    "allowed_gates = {'0': {'x': 0, 'z': 0, 'h': 0}, '1': {'x': 0, 'z': 0, 'h': 0}, 'both': {}}\n",
    "vi = [[], True, True]\n",
    "qubit_names = {'0':'q[0]', '1':'q[1]'}\n",
    "puzzle = hello_quantum.run_game(initialize, success_condition, allowed_gates, vi, qubit_names)"
   ]
  },
  {
   "cell_type": "code",
   "execution_count": null,
   "metadata": {},
   "outputs": [],
   "source": [
    "puzzle.get_circuit().draw(output='mpl')"
   ]
  },
  {
   "cell_type": "markdown",
   "metadata": {},
   "source": [
    "## パズル 12\n",
    "\n",
    "### 導入\n",
    "一番上の新しい円にも同様の作用があります。この場合、両方の量子ビットのX出力について一致する確率と一致しない確率を追跡します。\n",
    "\n",
    "### 練習問題\n",
    "* X出力が確実に一致するようにします。"
   ]
  },
  {
   "cell_type": "code",
   "execution_count": null,
   "metadata": {},
   "outputs": [],
   "source": [
    "initialize = [['x','0']]\n",
    "success_condition = {'XX': 1.0}\n",
    "allowed_gates = {'0': {'x': 0, 'z': 0, 'h': 0}, '1': {'x': 0, 'z': 0, 'h': 0}, 'both': {}}\n",
    "vi = [[], True, True]\n",
    "qubit_names = {'0':'q[0]', '1':'q[1]'}\n",
    "puzzle = hello_quantum.run_game(initialize, success_condition, allowed_gates, vi, qubit_names)"
   ]
  },
  {
   "cell_type": "code",
   "execution_count": null,
   "metadata": {},
   "outputs": [],
   "source": [
    "puzzle.get_circuit().draw(output='mpl')"
   ]
  },
  {
   "cell_type": "markdown",
   "metadata": {},
   "source": [
    "### 終結\n",
    "この情報を表すのがこの新しい円である理由がわからない場合は、一方の量子ビットのX出力から伸びる行と、もう一方の量子ビットのX出力から伸びる別の行について考えてみてください。最上部の円は、これら2つの行が交わる場所にあります。これが、2つのX出力間の一致を表す理由です。"
   ]
  },
  {
   "cell_type": "markdown",
   "metadata": {},
   "source": [
    "## パズル 13\n",
    "\n",
    "### 導入\n",
    "説明する必要のある新しい円がまだ2つあります。1つは、`q[0]`からのZ出力行が`q[1]`からのX出力行と交わる場所です。これは、`q[0]`のZ出力が`q[1]`からのX出力と一致するかどうかを示します。もう1つも同じですが、`q[0]`がX出力と`q[1]`がZ出力です。\n",
    "\n",
    "### 練習問題\n",
    "* `q[0]`のX出力が`q[1]`のZ出力と一致しないことを確認します。"
   ]
  },
  {
   "cell_type": "code",
   "execution_count": null,
   "metadata": {},
   "outputs": [],
   "source": [
    "initialize = []\n",
    "success_condition = {'XZ': -1.0}\n",
    "allowed_gates = {'0': {'x': 0, 'z': 0, 'h': 0}, '1': {'x': 0, 'z': 0, 'h': 0}, 'both': {}}\n",
    "vi = [[], True, True]\n",
    "qubit_names = {'0':'q[0]', '1':'q[1]'}\n",
    "puzzle = hello_quantum.run_game(initialize, success_condition, allowed_gates, vi, qubit_names)"
   ]
  },
  {
   "cell_type": "code",
   "execution_count": null,
   "metadata": {},
   "outputs": [],
   "source": [
    "puzzle.get_circuit().draw(output='mpl')"
   ]
  },
  {
   "cell_type": "markdown",
   "metadata": {},
   "source": [
    "## パズル 14\n",
    "\n",
    "### 導入\n",
    "`x`、`z`、`h`ゲートが新しい円にどのように影響するかに注目してください。具体的には、xゲートは、単一のZ出力だけでなく、それらの行全体に影響を与えます。つまり、各円を黒から白(または暗い色から明るい色)に、またはその逆に反転します。\n",
    "\n",
    "### 練習問題\n",
    "*  2つのZ出力をオンにします。"
   ]
  },
  {
   "cell_type": "code",
   "execution_count": null,
   "metadata": {},
   "outputs": [],
   "source": [
    "initialize = [['ry(-pi/4)', '1'], ['ry(-pi/4)','0']]\n",
    "success_condition = {'ZI': -0.7071, 'IZ': -0.7071}\n",
    "allowed_gates = {'0': {'x': 0}, '1': {'x': 0}, 'both': {}}\n",
    "vi = [[], True, True]\n",
    "qubit_names = {'0':'q[0]', '1':'q[1]'}\n",
    "puzzle = hello_quantum.run_game(initialize, success_condition, allowed_gates, vi, qubit_names)"
   ]
  },
  {
   "cell_type": "code",
   "execution_count": null,
   "metadata": {},
   "outputs": [],
   "source": [
    "puzzle.get_circuit().draw(output='mpl')"
   ]
  },
  {
   "cell_type": "markdown",
   "metadata": {},
   "source": [
    "### 終結\n",
    "次のパズルで分かるように、Zゲートは同じような方法でX出力の列に影響します。"
   ]
  },
  {
   "cell_type": "markdown",
   "metadata": {},
   "source": [
    "## パズル 15\n",
    "\n",
    "### 導入\n",
    "以前、`h`ゲートが円のペアを交換する方法を見てきました。これと同じように行のペアに影響を与えます。行全体が反転されるまで、円の各ペアを反転します。再度、[Hello Quantumアプリ](https://helloquantum.mybluemix.net/)で素敵なアニメーションをチェックすることをお勧めします。\n",
    "\n",
    "### 練習問題\n",
    "* X出力をオフにします。"
   ]
  },
  {
   "cell_type": "code",
   "execution_count": null,
   "metadata": {},
   "outputs": [],
   "source": [
    "initialize = [['x', '1'], ['x','0']]\n",
    "success_condition = {'XI':1, 'IX':1}\n",
    "allowed_gates = {'0': {'z': 0, 'h': 0}, '1': {'z': 0, 'h': 0}, 'both': {}}\n",
    "vi = [[], True, True]\n",
    "qubit_names = {'0':'q[0]', '1':'q[1]'}\n",
    "puzzle = hello_quantum.run_game(initialize, success_condition, allowed_gates, vi, qubit_names)"
   ]
  },
  {
   "cell_type": "code",
   "execution_count": null,
   "metadata": {},
   "outputs": [],
   "source": [
    "puzzle.get_circuit().draw(output='mpl')"
   ]
  },
  {
   "cell_type": "markdown",
   "metadata": {},
   "source": [
    "### 結果\n",
    "これで、2つの量子ビットがどのように見えるか、およびそれらを個別に操作する方法の基本を理解しました。しかし、2つの量子ビットゲートを使い始めると、本当の楽しみが出てきます。"
   ]
  },
  {
   "cell_type": "markdown",
   "metadata": {},
   "source": [
    "# レベル 3: ２量子ビットのゲート"
   ]
  },
  {
   "cell_type": "markdown",
   "metadata": {},
   "source": [
    "### パズル 1\n",
    "\n",
    "### 導入\n",
    "ビットの演習では、`CNOT`ゲートを使用しました。量子ビットの場合、NOTの量子バージョンとしてxを使用して、同様のゲートがあります。このため、Qiskitプログラムでは`cx`と呼びます。\n",
    "\n",
    "従来の`CNOT`と同様に、`cx`ゲートには「コントロール」と「ターゲット」があります。コントロールのZ出力を調べ、その結果で、xがターゲット量子ビットに適用されるかどうかを決定します。\n",
    "\n",
    "このゲートを適用すると、選択した量子ビットがターゲットとして機能します。その場合、他の量子ビットがコントロールになります。\n",
    "\n",
    "### 練習問題\n",
    "* `cx`を1回か2回使用して、q[1]のZ出力をオンにし、q[0]のZ出力をオフにします。"
   ]
  },
  {
   "cell_type": "code",
   "execution_count": null,
   "metadata": {
    "scrolled": false
   },
   "outputs": [],
   "source": [
    "initialize = [['x', '0']]\n",
    "success_condition = {'ZI': 1.0, 'IZ': -1.0}\n",
    "allowed_gates = {'0': {'cx': 0}, '1': {'cx': 0}, 'both': {}}\n",
    "vi = [[], True, True]\n",
    "qubit_names = {'0':'q[0]', '1':'q[1]'}\n",
    "puzzle = hello_quantum.run_game(initialize, success_condition, allowed_gates, vi, qubit_names)"
   ]
  },
  {
   "cell_type": "code",
   "execution_count": null,
   "metadata": {},
   "outputs": [],
   "source": [
    "puzzle.get_circuit().draw(output='mpl')"
   ]
  },
  {
   "cell_type": "markdown",
   "metadata": {},
   "source": [
    "## パズル 2\n",
    "\n",
    "### 導入\n",
    "`cx`ゲートだけでなく、`cz`もあります。これは同じことを行いますが、`x`ではなく`z`をターゲットに適用する可能性がある点が異なります。\n",
    "\n",
    "### 練習問題\n",
    "* q [0]のX出力をオンにします。"
   ]
  },
  {
   "cell_type": "code",
   "execution_count": null,
   "metadata": {},
   "outputs": [],
   "source": [
    "initialize = [['h', '0'],['x', '1']]\n",
    "success_condition = {'XI': -1.0, 'IZ': 1.0}\n",
    "allowed_gates = {'0': {'cz': 0}, '1': {}, 'both': {}}\n",
    "vi = [[], True, True]\n",
    "qubit_names = {'0':'q[0]', '1':'q[1]'}\n",
    "puzzle = hello_quantum.run_game(initialize, success_condition, allowed_gates, vi, qubit_names)"
   ]
  },
  {
   "cell_type": "code",
   "execution_count": null,
   "metadata": {},
   "outputs": [],
   "source": [
    "puzzle.get_circuit().draw(output='mpl')"
   ]
  },
  {
   "cell_type": "markdown",
   "metadata": {},
   "source": [
    "## パズル 2b\n",
    "\n",
    "### 導入\n",
    "量子ゲートの興味深い点は、量子ゲートが何をしているのかを説明する方法が複数あることが多いということです。これらの説明は完全に互換性がないように見える場合がありますが、同じ操作です。\n",
    "\n",
    "たとえば、`cz`は、*ターゲット*の潜在的なZ出力に応じて、*コントロール*量子ビットにzを適用するゲートとして説明することもできます。以前とまったく同じ説明ですが、量子ビットの役割が逆になっています。それにもかかわらず、それは等しく真実です。\n",
    "\n",
    "###  練習問題\n",
    "* 前回の練習問題と同じですが、量子ビットが逆になっています。ただし、czは以前と同じ方法です。"
   ]
  },
  {
   "cell_type": "code",
   "execution_count": null,
   "metadata": {},
   "outputs": [],
   "source": [
    "initialize = [['h', '1'],['x', '0']]\n",
    "success_condition = {'IX': -1.0, 'ZI': 1.0}\n",
    "allowed_gates = {'0': {}, '1': {'cz': 0},  'both': {}}\n",
    "vi = [[],  True,  True]\n",
    "qubit_names = {'0':'q[0]', '1':'q[1]'}\n",
    "puzzle = hello_quantum.run_game(initialize, success_condition,  allowed_gates, vi, qubit_names)"
   ]
  },
  {
   "cell_type": "code",
   "execution_count": null,
   "metadata": {},
   "outputs": [],
   "source": [
    "puzzle.get_circuit().draw(output='mpl')"
   ]
  },
  {
   "cell_type": "markdown",
   "metadata": {},
   "source": [
    "## パズル 3\n",
    "\n",
    "### 導入\n",
    "ここで、czについて別の説明をします。`h`ゲートと同様に、円が入れ替わっていると考えることができます。czの作用は以下のようなものです。\n",
    "\n",
    "- q[0]のX出力を右上の隣接する円と交換します。\n",
    "- q[1]のX出力(左上の隣の場合)でも同じことを行います。czはまた、盤面の上部にある円で何か奇妙なことをしますが、それは後で解決される謎です！\n",
    "ここでも、[Hello Quantumアプリ](https://helloquantum.mybluemix.net/)で素晴らしいアニメーションをみることができます。\n",
    "\n",
    "### 練習問題\n",
    "* コントロールとして各量子ビットで2回`cz`を実行し、何が起こるかを確認します。"
   ]
  },
  {
   "cell_type": "code",
   "execution_count": null,
   "metadata": {
    "scrolled": false
   },
   "outputs": [],
   "source": [
    "initialize = [['h', '0'],['x', '1'],['h', '1']]\n",
    "success_condition = { }\n",
    "allowed_gates = {'0':{'cz': 2}, '1':{'cz': 2}, 'both': {}}\n",
    "vi = [[], True, True]\n",
    "qubit_names = {'0':'q[0]', '1':'q[1]'}\n",
    "puzzle = hello_quantum.run_game(initialize, success_condition, allowed_gates, vi, qubit_names)"
   ]
  },
  {
   "cell_type": "code",
   "execution_count": null,
   "metadata": {},
   "outputs": [],
   "source": [
    "puzzle.get_circuit().draw(output='mpl')"
   ]
  },
  {
   "cell_type": "markdown",
   "metadata": {},
   "source": [
    "###  終結\n",
    "これで、`cz`について非常に役立つことがわかりました。コントロールとしてどの量子ビットを選択しても、`cz`はどちらの場合も同じことを行います。このため、これからは`cz`のコントロール量子ビットを選択する必要はありません。"
   ]
  },
  {
   "cell_type": "markdown",
   "metadata": {},
   "source": [
    "## パズル 3b\n",
    "\n",
    "### 導入\n",
    "前述のように、XおよびZ出力は、量子ビットから出力を取得する2つの方法に対応します。XおよびZ測定です。これらの名前が示すように、Y測定として知られる3番目の方法もあります。\n",
    "\n",
    "これらのパズルでは、物事を少し簡単にするために、Y測定をほとんど無視します。ただし、量子ビットの完全な説明については、Y出力がどのように見えるかを追跡する必要があります。これは、各量子ビットのY出力に対して、さらに2、3行の円を追加することを意味します。\n",
    "\n",
    "次の演習は、Y出力行が表示されることを除いて、前回とまったく同じです。これらを使用すると、最後のパズルで見られた奇妙な効果はまったく奇妙になりません。ご自分の目で確かめてみてください!\n",
    "\n",
    "### 練習問題\n",
    "* `cz`を2回実行して、何が起こるかを確認します。"
   ]
  },
  {
   "cell_type": "code",
   "execution_count": null,
   "metadata": {},
   "outputs": [],
   "source": [
    "initialize = [['h', '0'],['x', '1'],['h', '1']]\n",
    "success_condition = { }\n",
    "allowed_gates = {'0': {}, '1': {}, 'both': {'cz': 2}}\n",
    "vi = [[], True, True]\n",
    "qubit_names = {'0':'q[0]', '1':'q[1]'}\n",
    "puzzle = hello_quantum.run_game(initialize, success_condition, allowed_gates, vi, qubit_names, mode='y')"
   ]
  },
  {
   "cell_type": "code",
   "execution_count": null,
   "metadata": {},
   "outputs": [],
   "source": [
    "puzzle.get_circuit().draw(output='mpl')"
   ]
  },
  {
   "cell_type": "markdown",
   "metadata": {},
   "source": [
    "### 終結\n",
    "ここでは、`cz`によって行われた3番目の円の交換が表示されます。上部の円(両方の量子ビットのX出力の相関を表す)が中央の円(両方の量子ビットのY出力の相関を表す)と交換されます。\n",
    "\n",
    "量子ビットの説明が完全ではなかったという理由だけで、中央の行が欠落しているとき、これは奇妙に見えました。それでも、Y出力のない単純な盤面を引き続き使用します。`hello_quantum.run_game()`で`mode = 'y'引数`を使用すると自分でY出力を追加できます。"
   ]
  },
  {
   "cell_type": "markdown",
   "metadata": {},
   "source": [
    "## パズル 4\n",
    "\n",
    "### 導入\n",
    "前の練習問題では、`z`ゲートといくつかの`h`ゲートから`x`を作成しました。同様に、`cz`といくつかの`h`から`cx`を構築することも可能です。\n",
    "\n",
    "### 練習問題\n",
    "* q[1]のZ出力をオンにします。"
   ]
  },
  {
   "cell_type": "code",
   "execution_count": null,
   "metadata": {},
   "outputs": [],
   "source": [
    "initialize = [['x', '0']]\n",
    "success_condition = {'IZ': -1.0}\n",
    "allowed_gates = {'0': {'h':0}, '1': {'h':0}, 'both': {'cz': 0}}\n",
    "vi = [[], True, True]\n",
    "qubit_names = {'0':'q[0]', '1':'q[1]'}\n",
    "puzzle = hello_quantum.run_game(initialize, success_condition, allowed_gates, vi, qubit_names)"
   ]
  },
  {
   "cell_type": "code",
   "execution_count": null,
   "metadata": {},
   "outputs": [],
   "source": [
    "puzzle.get_circuit().draw(output='mpl')"
   ]
  },
  {
   "cell_type": "markdown",
   "metadata": {},
   "source": [
    "### 終結\n",
    "`cz`とは異なり、`cx`は対称ではありません。代わりに、ターゲットがq[0]であるcxを作成したい場合は、代わりにq[0]で`h`を実行する必要があります。"
   ]
  },
  {
   "cell_type": "markdown",
   "metadata": {},
   "source": [
    "## パズル 5\n",
    "\n",
    "### 導入\n",
    "`cz`の「逆方向性」を解釈することができました：つまり、ターゲット量子ビットがコントロール量子ビットの役割を果たし、また、その逆の役割も果たすという解釈です。`cx`でも同じことをします。ただし、このゲートには対称効果がないため、これはもう少し注意が必要です。\n",
    "\n",
    "具体的には、コントロールのZ出力の実行内容に応じてターゲットに対してxを実行すると考えるのではなく、ターゲットのX出力の実行内容に応じてコントロールに対してzを実行すると考えることができます。\n",
    "\n",
    "この演習では、ターゲットがコントロールを行っているように見え、コントロールがターゲットであることがわかります。\n",
    "\n",
    "###  練習問題\n",
    "* `q[0]`のX出力をオンにします。"
   ]
  },
  {
   "cell_type": "code",
   "execution_count": null,
   "metadata": {},
   "outputs": [],
   "source": [
    "initialize = [['h', '0'],['h', '1']]\n",
    "success_condition = {'XI': -1.0, 'IX': -1.0}\n",
    "allowed_gates = {'0': {}, '1': {'z':0,'cx': 0}, 'both': {}}\n",
    "vi = [[], True, True]\n",
    "qubit_names = {'0':'q[0]', '1':'q[1]'}\n",
    "puzzle = hello_quantum.run_game(initialize, success_condition, allowed_gates, vi, qubit_names)"
   ]
  },
  {
   "cell_type": "code",
   "execution_count": null,
   "metadata": {},
   "outputs": [],
   "source": [
    "puzzle.get_circuit().draw(output='mpl')"
   ]
  },
  {
   "cell_type": "markdown",
   "metadata": {},
   "source": [
    "### 終結\n",
    "`cx`がどのように機能するかについてのこれらの2つの異なる話は矛盾しているように見えるかもしれませんが、それらは等しく有効な説明です。量子ゲートの奇妙で素晴らしい性質の素晴らしい例です。"
   ]
  },
  {
   "cell_type": "markdown",
   "metadata": {},
   "source": [
    "## パズル 6\n",
    "\n",
    "### 導入\n",
    "これで、`cx`のこれら2つの解釈がわかったので、非常に便利なことを行うことができます。\n",
    "\n",
    "このパズルでは、`q[1]`をターゲットとして`cx`を取得しますが、`q[0]`をターゲットとして`cx`が必要になります。いくつかの`h`ゲートのヘルプを使用して同じ効果を得る方法を理解できるかどうかを確認してください。\n",
    "\n",
    "### 練習問題\n",
    "* `q[1]`のZ出力を維持しますが、`q[0]`のZ出力をオフにします。"
   ]
  },
  {
   "cell_type": "code",
   "execution_count": null,
   "metadata": {},
   "outputs": [],
   "source": [
    "initialize = [('x','0'),('x','1')]\n",
    "success_condition = {'ZI': 1.0,'IZ': -1.0}\n",
    "allowed_gates = {'0': {'h':0}, '1': {'h':0,'cx':0}, 'both': {}}\n",
    "vi = [[], True, True]\n",
    "qubit_names = {'0':'q[0]', '1':'q[1]'}\n",
    "puzzle = hello_quantum.run_game(initialize, success_condition, allowed_gates, vi, qubit_names)"
   ]
  },
  {
   "cell_type": "code",
   "execution_count": null,
   "metadata": {},
   "outputs": [],
   "source": [
    "puzzle.get_circuit().draw(output='mpl')"
   ]
  },
  {
   "cell_type": "markdown",
   "metadata": {},
   "source": [
    "### 終結\n",
    "これらの練習問題から何かを覚えているなら、それはおそらくこれであるはずです。実際の量子ビットデバイスでは、`cx`を実行できる方法を制限するのが一般的であるため、それらを方向転換する機能は非常に便利です。"
   ]
  },
  {
   "cell_type": "markdown",
   "metadata": {},
   "source": [
    "## パズル  7\n",
    "\n",
    "### 導入\n",
    "もう1つの有用な量子ゲートは`swap`です。これは、名前が示すとおり、2つの量子ビットの状態を交換します。Qiskitでは単に`swap`コマンドを呼び出すことができますが、このゲートを`cz`または`cx`ゲートから作成する方が興味深いです。\n",
    "\n",
    "### 練習問題\n",
    "* 2つの量子ビットを交換します。\n",
    " - q[0]のZ出力を白、X出力を灰色にします。\n",
    " - q[1]のZ出力を濃い灰色にし、X出力を薄い灰色にします。"
   ]
  },
  {
   "cell_type": "code",
   "execution_count": null,
   "metadata": {},
   "outputs": [],
   "source": [
    "initialize = [['ry(-pi/4)','0'],['ry(-pi/4)','0'],['ry(-pi/4)','0'],['x','0'],['x','1']]\n",
    "success_condition = {'ZI': -1.0,'XI':0,'IZ':0.7071,'IX':-0.7071}\n",
    "allowed_gates = {'0': {'h':0}, '1': {'h':0}, 'both': {'cz': 0}}\n",
    "vi = [[], True, True]\n",
    "qubit_names = {'0':'q[0]', '1':'q[1]'}\n",
    "puzzle = hello_quantum.run_game(initialize, success_condition, allowed_gates, vi, qubit_names)"
   ]
  },
  {
   "cell_type": "code",
   "execution_count": null,
   "metadata": {},
   "outputs": [],
   "source": [
    "puzzle.get_circuit().draw(output='mpl')"
   ]
  },
  {
   "cell_type": "markdown",
   "metadata": {},
   "source": [
    "### 終結\n",
    "このパズルの解決策は、汎用のswapではない可能性があることに注意してください。今回の解決策を、次のパズルの解決策と比較してください。"
   ]
  },
  {
   "cell_type": "markdown",
   "metadata": {},
   "source": [
    "## パズル 8\n",
    "\n",
    "#### 導入\n",
    "これは、`swap`を作成するというアイデアに基づいた別のパズルです。\n",
    "\n",
    "#### 練習問題\n",
    "* 2つの量子ビットを交換します。\n",
    "  * q[0]のX出力を黒にします。\n",
    "  * q[1]のZ出力を白にします。\n",
    "* そして、3つの`cz`ゲートでそれを行います"
   ]
  },
  {
   "cell_type": "code",
   "execution_count": null,
   "metadata": {},
   "outputs": [],
   "source": [
    "initialize = [['x','0'],['h','1']]\n",
    "success_condition = {'XI':1,'IZ':-1}\n",
    "allowed_gates = {'0': {'h':0}, '1': {'h':0}, 'both': {'cz':3}}\n",
    "vi = [[], True, True]\n",
    "qubit_names = {'0':'q[0]', '1':'q[1]'}\n",
    "puzzle = hello_quantum.run_game(initialize, success_condition, allowed_gates, vi, qubit_names,shots=2000)"
   ]
  },
  {
   "cell_type": "code",
   "execution_count": null,
   "metadata": {},
   "outputs": [],
   "source": [
    "puzzle.get_circuit().draw(output='mpl')"
   ]
  },
  {
   "cell_type": "markdown",
   "metadata": {},
   "source": [
    "## パズル 9\n",
    "\n",
    "#### 導入\n",
    "また別の`swap`ベースのパズル。\n",
    "\n",
    "#### 練習問題\n",
    "* 2つの量子ビットを交換します。\n",
    " * q[0]のZ出力をオンにします。\n",
    " * Z出力q[1]をオフにします。"
   ]
  },
  {
   "cell_type": "code",
   "execution_count": null,
   "metadata": {
    "scrolled": false
   },
   "outputs": [],
   "source": [
    "initialize = [['x','1']]\n",
    "success_condition = {'IZ':1.0,'ZI':-1.0}\n",
    "allowed_gates = {'0': {'h':0}, '1': {'h':0}, 'both': {'cz':0}}\n",
    "vi = [[], True, True]\n",
    "qubit_names = {'0':'q[0]', '1':'q[1]'}\n",
    "puzzle = hello_quantum.run_game(initialize, success_condition, allowed_gates, vi, qubit_names,shots=2000)"
   ]
  },
  {
   "cell_type": "code",
   "execution_count": null,
   "metadata": {},
   "outputs": [],
   "source": [
    "puzzle.get_circuit().draw(output='mpl')"
   ]
  },
  {
   "cell_type": "markdown",
   "metadata": {},
   "source": [
    "# レベル 4:クリフォードゲートを越えて"
   ]
  },
  {
   "cell_type": "markdown",
   "metadata": {},
   "source": [
    "## パズル 1a\n",
    "\n",
    "### 導入\n",
    "これまでに見たゲートは「クリフォードゲート」と呼ばれています。それらは、量子コンピューターで情報を移動および操作するために非常に重要です。ただし、クリフォードゲートのみを使用して標準的なコンピューターよりも優れたパフォーマンスを発揮できるアルゴリズムを作成することはできません。新しいゲートが必要です。\n",
    "\n",
    "このパズルで試すことができます。数回実行して、何ができるかを確認してください。\n",
    "\n",
    "### 練習問題\n",
    "* `ry(pi/4)`をq[0]に4回適用します。"
   ]
  },
  {
   "cell_type": "code",
   "execution_count": null,
   "metadata": {
    "scrolled": false
   },
   "outputs": [],
   "source": [
    "initialize = []\n",
    "success_condition = {}\n",
    "allowed_gates = {'0': {'ry(pi/4)': 4}, '1': {}, 'both': {}}\n",
    "vi = [[], True, True]\n",
    "qubit_names = {'0':'q[0]', '1':'q[1]'}\n",
    "puzzle = hello_quantum.run_game(initialize, success_condition, allowed_gates, vi, qubit_names)"
   ]
  },
  {
   "cell_type": "code",
   "execution_count": null,
   "metadata": {},
   "outputs": [],
   "source": [
    "puzzle.get_circuit().draw(output='mpl')"
   ]
  },
  {
   "cell_type": "markdown",
   "metadata": {},
   "source": [
    "###  終結\n",
    "よくできました！残りの問題で、これを理解するために新しいことを試してみましょう。"
   ]
  },
  {
   "cell_type": "markdown",
   "metadata": {},
   "source": [
    "## パズル 1b\n",
    "\n",
    "### 導入\n",
    "今見たゲートをよりよく理解するために、量子ビットを視覚化するために少し異なる方法を使用します。この場合、確実に`0`になる出力は、白い円ではなく白い線で表されます。`1`を与えることが確実な出力は、黒い円ではなく黒い線になります。ランダムな出力の場合、灰色の円ではなく、一部が白で一部が黒の線が表示されます。\n",
    "\n",
    "これは、この新しい視覚化に慣れるのに役立つ古い練習問題です。\n",
    "\n",
    "### 練習問題\n",
    "* X出力が確実に一致するようにします。"
   ]
  },
  {
   "cell_type": "code",
   "execution_count": null,
   "metadata": {},
   "outputs": [],
   "source": [
    "initialize = [['x','0']]\n",
    "success_condition = {'XX': 1.0}\n",
    "allowed_gates = {'0': {'x': 0, 'z': 0, 'h': 0}, '1': {'x': 0, 'z': 0, 'h': 0}, 'both': {}}\n",
    "vi = [[], True, True]\n",
    "qubit_names = {'0':'q[0]', '1':'q[1]'}\n",
    "puzzle = hello_quantum.run_game(initialize, success_condition, allowed_gates, vi, qubit_names, mode='line')"
   ]
  },
  {
   "cell_type": "code",
   "execution_count": null,
   "metadata": {},
   "outputs": [],
   "source": [
    "puzzle.get_circuit().draw(output='mpl')"
   ]
  },
  {
   "cell_type": "markdown",
   "metadata": {},
   "source": [
    "## パズル 1c\n",
    "\n",
    "### 導入\n",
    "このパズルでは、`ブロッホ`で新しいことができることがわかります。これは実際にはゲートではなく、量子プログラムには表示されません。代わりに、各量子ビットの2本の線を互いに重ねて描画することにより、見た目を変更するだけです。また、それらのレベルが交差するポイントを配置します。ブロッホを使用すると、`ry(pi / 4)`がどのように機能するかを理解できるはずです。\n",
    "\n",
    "### 練習問題\n",
    "* `q[0]`の一番下の行を完全にオンにして、`ブロッホ`ゲートを使用します。"
   ]
  },
  {
   "cell_type": "code",
   "execution_count": null,
   "metadata": {
    "scrolled": false
   },
   "outputs": [],
   "source": [
    "initialize = []\n",
    "success_condition = {'ZI': -1.0}\n",
    "allowed_gates = {'0': {'bloch':1, 'ry(pi/4)': 0}, '1':{}, 'both': {'unbloch':0}}\n",
    "vi = [[], True, True]\n",
    "qubit_names = {'0':'q[0]', '1':'q[1]'}\n",
    "puzzle = hello_quantum.run_game(initialize, success_condition, allowed_gates, vi, qubit_names, mode='line')"
   ]
  },
  {
   "cell_type": "code",
   "execution_count": null,
   "metadata": {},
   "outputs": [],
   "source": [
    "puzzle.get_circuit().draw(output='mpl')"
   ]
  },
  {
   "cell_type": "markdown",
   "metadata": {},
   "source": [
    "### 終結\n",
    "ポイントをたどった場合、`ry(pi/4)`の効果はポイントを$\\pi/4$ラジアン(45度)回転させることであることに気付くはずです。\n",
    "\n",
    "線のレベルもそれに合わせて変化します。`ry(-pi/4)`ゲートの効果は、回転が反対方向であることを除いて同じです。\n",
    "\n",
    "おそらくお気づきかもしれませんが、ブロッホを使用すると、各量子ビットの2つの線が組み合わされるだけではなく、行全体が組み合わされます。"
   ]
  },
  {
   "cell_type": "markdown",
   "metadata": {},
   "source": [
    "## パズル 2\n",
    "\n",
    "### 導入\n",
    "では、これらのゲートを他の量子ビットでも使用しましょう。\n",
    "\n",
    "### 練習問題\n",
    "*  ボトムラインを完全にオンにします。"
   ]
  },
  {
   "cell_type": "code",
   "execution_count": null,
   "metadata": {
    "scrolled": false
   },
   "outputs": [],
   "source": [
    "initialize = [['h','0'],['h','1']]\n",
    "success_condition = {'ZI': -1.0,'IZ': -1.0}\n",
    "allowed_gates = {'0': {'bloch':0, 'ry(pi/4)': 0, 'ry(-pi/4)': 0}, '1': {'bloch':0, 'ry(pi/4)': 0, 'ry(-pi/4)': 0}, 'both': {'unbloch':0}}\n",
    "vi = [[], True, True]\n",
    "qubit_names = {'0':'q[0]', '1':'q[1]'}\n",
    "puzzle = hello_quantum.run_game(initialize, success_condition, allowed_gates, vi, qubit_names, mode='line')"
   ]
  },
  {
   "cell_type": "code",
   "execution_count": null,
   "metadata": {},
   "outputs": [],
   "source": [
    "puzzle.get_circuit().draw(output='mpl')"
   ]
  },
  {
   "cell_type": "markdown",
   "metadata": {},
   "source": [
    "## パズル 3\n",
    "\n",
    "### 導入\n",
    "これは`cx`、`cz`、`h`があれば解くことができるパズルですが、残念ながら、今回は、cxとhがありません。そのため、`cz`と`ry`がどのように機能するかを理解する必要があります。\n",
    "\n",
    "### 練習問題\n",
    "* Z出力を一致させます。"
   ]
  },
  {
   "cell_type": "code",
   "execution_count": null,
   "metadata": {},
   "outputs": [],
   "source": [
    "initialize = [['h','0']]\n",
    "success_condition = {'ZZ': 1.0}\n",
    "allowed_gates = {'0': {}, '1': {'bloch':0, 'ry(pi/4)': 0, 'ry(-pi/4)': 0}, 'both': {'unbloch':0,'cz':0}}\n",
    "vi = [[], True, True]\n",
    "qubit_names = {'0':'q[0]', '1':'q[1]'}\n",
    "puzzle = hello_quantum.run_game(initialize, success_condition, allowed_gates, vi, qubit_names, mode='line')"
   ]
  },
  {
   "cell_type": "code",
   "execution_count": null,
   "metadata": {},
   "outputs": [],
   "source": [
    "puzzle.get_circuit().draw(output='mpl')"
   ]
  },
  {
   "cell_type": "markdown",
   "metadata": {},
   "source": [
    "## パズル 4\n",
    "\n",
    "### 導入\n",
    "`x`または`z`を使用すると、`ry`を*反転*させて、反対方向に向けることができます。\n",
    "\n",
    "### 練習問題\n",
    "* それぞれに1つの`ry(pi/4)`を付けて、Z出力を完全にオフにします。"
   ]
  },
  {
   "cell_type": "code",
   "execution_count": null,
   "metadata": {},
   "outputs": [],
   "source": [
    "initialize = [['ry(pi/4)','0'],['ry(pi/4)','1']]\n",
    "success_condition = {'ZI': 1.0,'IZ': 1.0}\n",
    "allowed_gates = {'0': {'bloch':0, 'z':0, 'ry(pi/4)': 1}, '1': {'bloch':0, 'x':0, 'ry(pi/4)': 1}, 'both': {'unbloch':0}}\n",
    "vi = [[], True, True]\n",
    "qubit_names = {'0':'q[0]', '1':'q[1]'}\n",
    "puzzle = hello_quantum.run_game(initialize, success_condition, allowed_gates, vi, qubit_names, mode='line')"
   ]
  },
  {
   "cell_type": "code",
   "execution_count": null,
   "metadata": {},
   "outputs": [],
   "source": [
    "puzzle.get_circuit().draw(output='mpl')"
   ]
  },
  {
   "cell_type": "markdown",
   "metadata": {},
   "source": [
    "## パズル 5\n",
    "\n",
    "### 導入\n",
    "`ry`を使用すると、`cz`や`cx`よりも興味深い条件付きゲートを作成できます。たとえば、制御`h`を作成できます。\n",
    "\n",
    "### 練習問題\n",
    "* q[1]の量子ビットで1回の`ry(pi/4)`と`ry(-pi/4)`を使用して、q[1]のZ出力をオフにします。"
   ]
  },
  {
   "cell_type": "code",
   "execution_count": null,
   "metadata": {},
   "outputs": [],
   "source": [
    "initialize = [['x','0'],['h','1']]\n",
    "success_condition = {'IZ': 1.0}\n",
    "allowed_gates = {'0': {}, '1': {'bloch':0, 'cx':0, 'ry(pi/4)': 1, 'ry(-pi/4)': 1}, 'both': {'unbloch':0}}\n",
    "vi = [[], True, True]\n",
    "qubit_names = {'0':'q[0]', '1':'q[1]'}\n",
    "puzzle = hello_quantum.run_game(initialize, success_condition, allowed_gates, vi, qubit_names, mode='line')"
   ]
  },
  {
   "cell_type": "code",
   "execution_count": null,
   "metadata": {},
   "outputs": [],
   "source": [
    "puzzle.get_circuit().draw(output='mpl')"
   ]
  },
  {
   "cell_type": "markdown",
   "metadata": {},
   "source": [
    "# ボーナスレベル: Sandbox\n",
    "\n",
    "これで、完全に強力な量子プログラムを構築するのに十分な基本的な量子ゲートを理解できました。最終レベルでこれを味わうことができます。しかしその前に、ここにいくつかのボーナスレベルがあります。\n",
    "\n",
    "まず、新しいスキルを試すためのSandboxです。すべてのゲートが有効になっている2つの図面で、遊んでみてください。\n",
    "\n",
    "クリフォード以外のゲートもサポートするために、線での描写になっています。"
   ]
  },
  {
   "cell_type": "code",
   "execution_count": null,
   "metadata": {},
   "outputs": [],
   "source": [
    "initialize = []\n",
    "success_condition = {'IZ': 1.0,'IX': 1.0}\n",
    "allowed_gates = {'0': {'bloch':0, 'x':0, 'z':0, 'h':0, 'cx':0, 'ry(pi/4)': 0, 'ry(-pi/4)': 0}, '1': {'bloch':0, 'x':0, 'z':0, 'h':0, 'cx':0, 'ry(pi/4)': 0, 'ry(-pi/4)': 0}, 'both': {'cz':0, 'unbloch':0}}\n",
    "vi = [[], True, True]\n",
    "qubit_names = {'0':'q[0]', '1':'q[1]'}\n",
    "line_sandbox = hello_quantum.run_game(initialize, success_condition, allowed_gates, vi, qubit_names, mode='line')"
   ]
  },
  {
   "cell_type": "code",
   "execution_count": null,
   "metadata": {},
   "outputs": [],
   "source": [
    "line_sandbox.get_circuit().draw(output='mpl')"
   ]
  },
  {
   "cell_type": "markdown",
   "metadata": {},
   "source": [
    "これは、y測定の出力を表す中央の線のある図面です。新しい非クリフォードゲート、`rx(pi/4)`と`rx(-pi /4)`も試すことができます。"
   ]
  },
  {
   "cell_type": "code",
   "execution_count": null,
   "metadata": {},
   "outputs": [],
   "source": [
    "initialize = []\n",
    "success_condition = {'IZ': 1.0,'IX': 1.0}\n",
    "allowed_gates = {'0': {'x':0, 'z':0, 'h':0, 'cx':0, 'ry(pi/4)': 0, 'rx(pi/4)': 0, 'ry(-pi/4)': 0, 'rx(-pi/4)': 0}, '1': {'x':0, 'z':0, 'h':0, 'cx':0, 'ry(pi/4)': 0, 'rx(pi/4)': 0, 'ry(-pi/4)': 0, 'rx(-pi/4)': 0}, 'both': {'cz':0}}\n",
    "vi = [[], True, True]\n",
    "qubit_names = {'0':'q[0]', '1':'q[1]'}\n",
    "y_sandbox = hello_quantum.run_game(initialize, success_condition, allowed_gates, vi, qubit_names, mode='y')"
   ]
  },
  {
   "cell_type": "code",
   "execution_count": null,
   "metadata": {},
   "outputs": [],
   "source": [
    "y_sandbox.get_circuit().draw(output='mpl')"
   ]
  },
  {
   "cell_type": "markdown",
   "metadata": {},
   "source": [
    "# ボーナスレベル: 自分でパズルをつくってみましょう。\n",
    "\n",
    "こちらからパズルを提供するだけでなく、みなさんがご自分でパズルを作成できるようにしました。Quantum Experienceを使用すると、自分のパズルのnotebookを簡単に作成できます。\n",
    "\n",
    "この[ページ](https://quantum-computing.ibm.com/jupyter)の「New Notebook」のボタンをクリックして開始します。次に、importのリストに次の行を追加します。\n",
    "\n",
    "```\n",
    "from qiskit_textbook.games import hello_quantum\n",
    "```\n",
    "これにより、パズルを作成するために必要なツールが提供されます。具体的には、次のフォームを使用して`run_game`関数への独自の呼び出しを作成する必要があります。\n",
    "\n",
    "```\n",
    "puzzle = hello_quantum.run_game(initialize, success_condition, allowed_gates, vi, qubit_names, mode=None)\n",
    "```\n",
    "\n",
    "これのすべての要素を以下に説明します。\n",
    "\n",
    "`puzzle`\n",
    " * これは、作成したパズルを含むオブジェクトです。\n",
    " * プレイヤーが作成した量子回路には、`puzzle.get_circuit()`を使用してアクセスできます。\n",
    "\n",
    "`initialize`\n",
    "* 初期状態を準備するために、パズルが始まる前に適用されたゲートのリスト。\n",
    "* これが空の場合、量子ビットのデフォルトの初期状態が使用されます(Z出力は確実に`0`になります)。\n",
    "* サポートされている単一量子ビットゲート(量子ビット「0」または「1」に適用)は、`x`、`y`、`z`、`h`、および`ry(pi/ 4)`です。\n",
    "* サポートされている2量子ビットゲートは`cz`と`cx`です。これらには、ターゲット量子ビットのみを指定します。\n",
    "* 例： `initialize = [['x', '0'],['cx', '1']]`\n",
    "\n",
    "`success_condition`\n",
    "* パズルが一致を宣言するために取得する必要のあるパウリの観測値。\n",
    "* 次の形式で、キーが円の名前である辞書として表されます。\n",
    "  * `ZI`は左側の量子ビットのZ出力を示し、`XI`はそのX出力を示します。\n",
    "  * `IZ`と`IX`も同様に、右側の量子ビットの出力です。\n",
    "  * `ZX`は、左側の量子ビットのZ出力と右側のX出力の間の相関関係の円を指します。\n",
    "  * 上記以外にも様々です。\n",
    "* 辞書の値は、パズルを完成させるためにこれらの円が保持しなければならない値です。\n",
    "  * 黒の場合は1.0\n",
    "  * 白の場合は-1.0\n",
    "  * 灰色の場合は0.0\n",
    "  * 上記以外にも様々です。\n",
    "* 条件に含めたい円のみをリストする必要があります。\n",
    "* 例：`success_condition = {'IZ'：1.0}` \n",
    "\n",
    "`allowed_gates`\n",
    "* 量子ビットごとに、このパズルで許可される操作を指定します。\n",
    "* 量子ビットを指定する必要のない操作(`cz`および`unbloch`)の場合は、量子ビット`0`または`1`ではなく「両方」に操作を割り当てます。\n",
    "* ゲートは、値が整数の辞書として表されます。\n",
    "  * 整数がゼロ以外の場合、パズルを正常に解くためにゲートを使用する必要がある正確な回数を指定します。 \n",
    "  * ゼロの場合、プレイヤーはゲートを何度でも使用できます。\n",
    "* 例： `allowed_gates = {'0'：{'h'：0}, '1'：{'h'：0}, 'both'：{'cz'：1}}`\n",
    "\n",
    "`vi`\n",
    "* 3つの要素リストとしてのいくつかの視覚化情報： `vi = [hidden,qubit,corr]`  これらは以下を指定します：\n",
    "  * hidden：非表示の量子ビット(両方が表示されている場合は空のリスト)。\n",
    "  * qubit：各量子ビットに両方の円が表示されているかどうか。(量子ビットパズルにはTrueを使用し、ビットパズルにはFalseを使用します)。\n",
    "  * corr：相関円(中央の4つ)が表示されているかどうか。\n",
    "* 例： `vi = [[],True,True]`\n",
    "\n",
    "`qubit_names`\n",
    "* 2つの量子ビットは常に内部で`0`および`1`と呼ばれます。ただし、プレーヤーの場合は、別の名前を表示できます。\n",
    "* 例： `qubit_names = {'0'： 'qubit 0', '1'： 'qubit 1'}`\n",
    "\n",
    "`mode`\n",
    "*  オプションの引数。これにより、Y出力行を含めるか、行ベースの視覚化を使用するかを選択できます。\n",
    "* `mode = None`を使用するか、mode引数をまったく含めない場合、デフォルトのモードになります。\n",
    "* `mode = 'y'`には、Y出力の行が含まれます。\n",
    "* `mode = 'line'`は、線ベースの視覚化を提供します。\n",
    "\n",
    "ここに示した例で定義されているパズルは、次のセルで実行できます。"
   ]
  },
  {
   "cell_type": "code",
   "execution_count": null,
   "metadata": {},
   "outputs": [],
   "source": [
    "initialize = [['x', '0'],['cx', '1']]\n",
    "success_condition = {'IZ': 1.0}\n",
    "allowed_gates = {'0': {'h':0}, '1': {'h':0}, 'both': {'cz': 1}}\n",
    "vi = [[], True, True]\n",
    "qubit_names = {'0':'qubit 0', '1':'qubit 1'}\n",
    "mode = None\n",
    "puzzle = hello_quantum.run_game(initialize, success_condition, allowed_gates, vi, qubit_names, mode=mode)"
   ]
  },
  {
   "cell_type": "markdown",
   "metadata": {},
   "source": [
    "プレイヤーに何を目指すべきかを伝えることを忘れないでください。このノートブックのすべてのパズルについて、ターゲットの状態がテキストブックで記述されていました。ただし、代わりに、次の方法で、プレーヤーへの短いメッセージを含む、ターゲット状態のイメージを作成できます。これも、上記のパラメータの例を使用しています。"
   ]
  },
  {
   "cell_type": "code",
   "execution_count": null,
   "metadata": {},
   "outputs": [],
   "source": [
    "message = '\\nRules:\\n    Use exactly one cz gate.'\n",
    "grid = hello_quantum.pauli_grid(mode=mode)\n",
    "grid.update_grid(rho=success_condition, hidden=vi[0], qubit=vi[1], corr=vi[2], message=message)"
   ]
  },
  {
   "cell_type": "markdown",
   "metadata": {},
   "source": [
    "一致させる必要のある円のみが表示されていることに注意してください。\n",
    "\n",
    "パズルを他の人と共有するには、作成したノートブックを保存して他の人に送信するだけです。Quantum Experienceのこの[ページ](https://quantum-computing.ibm.com/jupyter)の「インポート」ボタンを使用して、実行して、プレイできます。"
   ]
  },
  {
   "cell_type": "markdown",
   "metadata": {},
   "source": [
    "# レベル 5: 量子変数の一意性の証明"
   ]
  },
  {
   "cell_type": "markdown",
   "metadata": {},
   "source": [
    "## 古典変数を用いたベルのテスト\n",
    "ここでは、量子変数(量子ビットに基づく)が標準のもの(ビットに基づく)とどのように異なるかを調査します。\n",
    "\n",
    "これを行うには、`A`と`B`と呼ぶ変数のペアを作成します。これらが何であるか、またはどのように初期化されるかについては、条件を設定しません。したがって、多くの可能性があります。\n",
    "\n",
    "* それらは、次のような任意の種類の変数である可能性があります。\n",
    "  * 整数\n",
    "  * リスト\n",
    "  * 辞書\n",
    "  * ...\n",
    "  \n",
    "* それらは、次のようなあらゆる種類のプロセスによって初期化できます。\n",
    "  * 空のまま\n",
    "  * 与えられた値のセットで満たす\n",
    "  * 与えられたランダムプロセスによって生成する\n",
    "   * AとBに独立して適用する\n",
    "   * AとBに一緒に適用され、それらのランダム性における相関を与える\n",
    "\n",
    "変数がランダムプロセスによって初期化される場合、プログラムを実行するたびに異なる値を持つことを意味します。これはまったく問題ありません。従う必要がある唯一のルールは、ランダム性を生成するプロセスがすべての実行において同じであるということです。\n",
    "\n",
    "以下の関数を使用して、これらの変数を設定します。これには現在、部分的に相関するランダム浮動小数点数として定義された`A`と`B`があります。しかし、あなたはそれをあなたが望むものに変えることができます。"
   ]
  },
  {
   "cell_type": "code",
   "execution_count": null,
   "metadata": {},
   "outputs": [],
   "source": [
    "import random\n",
    "def setup_variables ():\n",
    "    \n",
    "    ### セクションを必要なものに置き換えます ###\n",
    "    \n",
    "    r = random.random()\n",
    "    \n",
    "    A = r*(2/3)\n",
    "    B = r*(1/3)\n",
    "    \n",
    "    ### セクションの最後 ###\n",
    "    \n",
    "    return A, B"
   ]
  },
  {
   "cell_type": "markdown",
   "metadata": {},
   "source": [
    "次の仕事は、ハッシュ関数を定義することです。これを行うには、変数の1つを入力として受け取り、ビット値を出力として与える必要があります。\n",
    "\n",
    "この関数は、2つの異なるタイプのハッシュを実行できる必要もあります。つまり、変数をかみ砕いて、さまざまな方法で出力する必要があります。したがって、ハッシュの種類を関数に指示します。\n",
    "\n",
    "プログラムの残りの部分と一貫性を保つために、2つの可能なハッシュタイプは`H`および`V`と呼ばれる必要があります。 また、出力は`0`または`1`　のいずれかの単一値ビット文字列の形式である必要があります。\n",
    "\n",
    "次の(かなり恣意的な)例では、AとBを特定の値と比較することで、ビットを作ります。その値を下回る場合、出力は`1`であり、それ以外の場合、出力は`0`です。 ハッシュのタイプによって、使用される値が決まります。"
   ]
  },
  {
   "cell_type": "code",
   "execution_count": null,
   "metadata": {},
   "outputs": [],
   "source": [
    "def hash2bit ( variable, hash ):\n",
    "    \n",
    "    ### セクションを必要なものに置き換えます ###\n",
    "    \n",
    "    if hash=='V':\n",
    "        bit = (variable<0.5)\n",
    "    elif hash=='H':\n",
    "        bit = (variable<0.25)\n",
    "        \n",
    "    bit = str(int(bit)) # Turn True or False into '1' and '0'\n",
    "    \n",
    "    ### セクションの最後 ###\n",
    "        \n",
    "    return bit"
   ]
  },
  {
   "cell_type": "markdown",
   "metadata": {},
   "source": [
    "これらが定義されたら、計算したい4つの量があります：`P['HH']`、`P['HV']`、`P['VH']`、および`P['VV']`\n",
    "\n",
    "例として`P['HV']`に焦点を当てましょう。これは、`A`の`H`タイプのハッシュから派生したビット値が`B`の`V`タイプのハッシュから派生したビット値と異なる確率です。何度もサンプリングし、対応するビット値が一致しないサンプルの割合を決定することにより、この確率を推定します。\n",
    "\n",
    "他の確率も同様に定義されます。P['HH']はAとBの両方でHタイプのハッシュを比較し、P['VV']は両方でVタイプのハッシュを比較し、P['VH']は、AのVタイプのハッシュとBのHタイプのハッシュを比較します。\n",
    "`P['HH']`は`A`と`B`の両方で`H`タイプのハッシュを比較し、`P['VV']`は両方で`V`タイプのハッシュを比較し、`P['VH']`はの`A`の`V`タイプのハッシュと`B`の`H`タイプのハッシュを比較します。\n",
    "\n",
    "これらの確率は、辞書内のPのすべての値を返す次の関数で計算されます。パラメータショットは、使用するサンプルの数です。"
   ]
  },
  {
   "cell_type": "code",
   "execution_count": null,
   "metadata": {},
   "outputs": [],
   "source": [
    "shots = 8192\n",
    "def calculate_P ( ):\n",
    "    \n",
    "    P = {}\n",
    "    for hashes in ['VV','VH','HV','HH']:\n",
    "        \n",
    "        # calculate each P[hashes] by sampling over `shots` samples\n",
    "        P[hashes] = 0\n",
    "        for shot in range(shots):\n",
    "\n",
    "            A, B = setup_variables()\n",
    "\n",
    "            a = hash2bit ( A, hashes[0] ) # hash type for variable `A` is the first character of `hashes`\n",
    "            b = hash2bit ( B, hashes[1] ) # hash type for variable `B` is the second character of `hashes`\n",
    "\n",
    "            P[hashes] += (a!=b) / shots\n",
    " \n",
    "    return P"
   ]
  },
  {
   "cell_type": "markdown",
   "metadata": {},
   "source": [
    "次に、変数を設定してハッシュするために選択したメソッドのこれらの値を実際に計算してみましょう。"
   ]
  },
  {
   "cell_type": "code",
   "execution_count": null,
   "metadata": {},
   "outputs": [],
   "source": [
    "P = calculate_P()\n",
    "print(P)"
   ]
  },
  {
   "cell_type": "markdown",
   "metadata": {},
   "source": [
    "これらの値は、有限数のショットしか使用しないため、実行ごとにわずかに異なります。それらを大幅に変更するには、変数の開始方法やハッシュ関数の定義方法を変更する必要があります。\n",
    "\n",
    "これらの関数がどのように定義されていても、Pの値が常に従う、ある制限があります。\n",
    "\n",
    "たとえば、`P['HV']`、`P['VH']`、および`P['VV']`がすべて`0.0`である場合を考えてみます。これが可能な唯一の方法は、`P['HH']`も`0.0`にすることです。\n",
    "\n",
    "この理由を理解するために、`hash2bit(A, H)`と`hash2bit(B,V)`がどの実行でも違う値にならないことを`P['HV'] = 0.0`が示していることから始めましょう。つまり、これは常にそれらが等しいことを期待できることを意味します。\n",
    "\n",
    "    hash2bit(A, H) = hash2bit(B, V)        (1)\n",
    " \n",
    "`P['VV'] = 0.0`および`P['VH'] = 0.0`から、同様に以下が取得できます。\n",
    "\n",
    "    hash2bit(A, V) = hash2bit(B, V)        (2)\n",
    "    \n",
    "    hash2bit(A, V) = hash2bit(B, H)        (3)\n",
    "    \n",
    "(1)と(2)を組み合わせると、\n",
    "\n",
    "    hash2bit(A, H) = hash2bit(A, V)        (4)\n",
    "    \n",
    "これを(3)と組み合わせると、\n",
    "\n",
    "    hash2bit(A, H) = hash2bit(B, H)        (5)\n",
    "\n",
    "そして、これらの値が常に等しい場合、異なる実行はありえません。これはまさに私たちが証明しようとしたものです： `P['HH'] = 0.0`\n",
    "\n",
    "より一般的には、`P['HV']`、 `P['VH']`、および`P['VV']`の値を使用して、`P['HH']`の上限を設定できます。[CHSH不等式](https://en.wikipedia.org/wiki/CHSH_inequality)を適応させることにより、次のことがわかります。\n",
    "\n",
    "$\\,\\,\\,\\,\\,\\,\\,$ `P['HH']` $\\, \\leq \\,$ `P['HV'] + P['VH'] + P['VV']`\n",
    "\n",
    "これは、`P['HH’]`だけの特別な特徴ではありません。他のすべての確率にも当てはまります。これらの確率のそれぞれは、他の確率の合計より大きくすることはできません。\n",
    "\n",
    "この論理が成り立つかどうかをテストするために、確率がこれらの不等式にどれだけよく従うかを確認します。`P`値が正確ではなく、限られた数のサンプルを使用して推定されているため、わずかな違反が発生する可能性があることに注意してください。"
   ]
  },
  {
   "cell_type": "code",
   "execution_count": null,
   "metadata": {},
   "outputs": [],
   "source": [
    "def bell_test (P):\n",
    "    \n",
    "    sum_P = sum(P.values())\n",
    "    for hashes in P:\n",
    "        \n",
    "        bound = sum_P - P[hashes]\n",
    "        \n",
    "        print(\"The upper bound for P['\"+hashes+\"'] is \"+str(bound))\n",
    "        print(\"The value of P['\"+hashes+\"'] is \"+str(P[hashes]))\n",
    "        if P[hashes]<=bound:\n",
    "            print(\"The upper bound is obeyed :)\\n\")\n",
    "        else:\n",
    "            if P[hashes]-bound < 0.1:\n",
    "                print(\"This seems to have gone over the upper bound, but only by a little bit :S\\nProbably just rounding errors or statistical noise.\\n\")\n",
    "            else:\n",
    "                print(\"!!!!! This has gone well over the upper bound :O !!!!!\\n\")"
   ]
  },
  {
   "cell_type": "code",
   "execution_count": null,
   "metadata": {},
   "outputs": [],
   "source": [
    "bell_test(P)"
   ]
  },
  {
   "cell_type": "markdown",
   "metadata": {},
   "source": [
    "このノートブックで提供されている初期化関数とハッシュ関数を使用すると、`P('HV')`の値は上界とほぼ同じになります。数値は統計的に推定されており、統計的なノイズの影響で若干近似的な値になっており、少しオーバーすることもあるかもしれません。しかし、それが限界を大幅に超えることは決してありません。\n",
    "\n",
    "あなたが私を信じられないのであれば、自分で試してみてください。変数の初期化方法とハッシュの計算方法を変更し、境界の1つが大幅に破られるようにします。"
   ]
  },
  {
   "cell_type": "markdown",
   "metadata": {},
   "source": [
    "## 量子変数を用いたベルのテスト\n",
    "ここで、変数AとBが量子変数になることを除いて、同じことをもう一度やり直します。具体的には、それらは最も単純な種類の量子変数、つまり量子ビットになります。"
   ]
  },
  {
   "cell_type": "markdown",
   "metadata": {},
   "source": [
    "量子プログラムを作成するときは、使用する前に量子ビットとビットを設定する必要があります。これは、以下の関数によって実行されます。2ビットのレジスタを定義し、それらを変数`A`および`B`として割り当てます。次に、出力を受信するために2ビットのレジスタを設定し、それらを`a`および`b`として割り当てます。\n",
    "\n",
    "最後に、これらのレジスタを使用して空の量子プログラムを設定します。これは`qc`と呼ばれます。"
   ]
  },
  {
   "cell_type": "code",
   "execution_count": null,
   "metadata": {},
   "outputs": [],
   "source": [
    "from qiskit import QuantumRegister, ClassicalRegister, QuantumCircuit\n",
    "\n",
    "def initialize_program ():\n",
    "    \n",
    "    qubit = QuantumRegister(2)\n",
    "    A = qubit[0]\n",
    "    B = qubit[1]\n",
    "    \n",
    "    bit = ClassicalRegister(2)\n",
    "    a = bit[0]\n",
    "    b = bit[1]\n",
    "    \n",
    "    qc = QuantumCircuit(qubit, bit)\n",
    "    \n",
    "    return A, B, a, b, qc"
   ]
  },
  {
   "cell_type": "markdown",
   "metadata": {},
   "source": [
    "変数を設定するための量子プログラムを書き始める前に、プログラムの最後に何が必要かを考えてみましょう。ここで、量子ビットをビットに変換するさまざまなハッシュ関数を定義します。\n",
    "\n",
    "量子ビットからビットを抽出する最も簡単な方法は、`measure`ゲートを使用することです。これは、これまで使用してきた視覚化における量子ビットのZ出力に対応します。これを`V`タイプのハッシュとして使用しましょう。\n",
    "\n",
    "X出力に対応する出力の場合、直接アクセスする手段はありません。ただし、最初に`h`を実行してトップ出力とZ出力を交換し、次に`measure`ゲートを使用することで、間接的に行うことができます。これがHタイプのハッシュになります。\n",
    "\n",
    "この関数には、従来の関数よりも多くの入力があることに注意してください。結果を書き込む`ビット`と、ゲートを書き込む量子プログラム`qc`を指定する必要があります。"
   ]
  },
  {
   "cell_type": "code",
   "execution_count": null,
   "metadata": {},
   "outputs": [],
   "source": [
    "def hash2bit  ( variable, hash, bit, qc ):\n",
    "    \n",
    "    if hash=='H':\n",
    "        qc.h( variable )\n",
    "        \n",
    "    qc.measure( variable, bit )"
   ]
  },
  {
   "cell_type": "markdown",
   "metadata": {},
   "source": [
    "次に、変数AとBを設定します。このプログラムを作成するには、以下の盤面を使用できます。提案された演習に従うか、好きなことをすることができます。準備ができたら、次に進みます。`setup_variables()関数`を含むセルは、盤面で作成したプログラムを使用します。\n",
    "\n",
    "選択するということは、確率`P['HH']`、`P['HV']`、`P['VH']`、および`P['VV']`が盤面上の円に明示的に対応することを意味することに注意してください。たとえば、一番上の円は、2つのX出力が一致しない可能性がどの程度あるかを示しています。これが白の場合、`P['HH'] = 1`、黒の場合、`P['HH'] = 0`です。\n",
    "\n",
    "### 練習問題\n",
    "* 両方の量子ビットのX出力が一致しない可能性が高く、他のすべての出力の組み合わせが一致する可能性が高くなるようにします。"
   ]
  },
  {
   "cell_type": "code",
   "execution_count": null,
   "metadata": {
    "scrolled": false
   },
   "outputs": [],
   "source": [
    "initialize = []\n",
    "success_condition = {'ZZ':+0.7071,'ZX':+0.7071,'XZ':+0.7071,'XX':-0.7071}\n",
    "allowed_gates = {'0': {'bloch':0, 'x':0, 'z':0, 'h':0, 'cx':0, 'ry(pi/4)': 0, 'ry(-pi/4)': 0}, '1': {'bloch':0, 'x':0, 'z':0, 'h':0, 'cx':0, 'ry(pi/4)': 0, 'ry(-pi/4)': 0}, 'both': {'cz':0, 'unbloch':0}}\n",
    "vi = [[], True, True]\n",
    "qubit_names = {'0':'A', '1':'B'}\n",
    "puzzle = hello_quantum.run_game(initialize, success_condition, allowed_gates, vi, qubit_names, mode='line')"
   ]
  },
  {
   "cell_type": "markdown",
   "metadata": {},
   "source": [
    "ここで、上記のプログラムを使用して量子変数を設定します。"
   ]
  },
  {
   "cell_type": "code",
   "execution_count": null,
   "metadata": {},
   "outputs": [],
   "source": [
    "import numpy as np\n",
    "def setup_variables ( A, B, qc ):\n",
    "    \n",
    "    for line in puzzle.program:\n",
    "        eval(line)"
   ]
  },
  {
   "cell_type": "markdown",
   "metadata": {},
   "source": [
    "`P`の値は、以下の関数で計算されます。これでは、ここでは、このnotebookの他の部分のパズルと同様に、可能な出力を与えたサンプルの数がわかる結果を得ています。出力はビット文字列、`文字列`として提供され、Qiskitは右から左に番号を付けます。 これは、`bit[0]`に対応するaの値が右から1番目であることを意味します。\n",
    "\n",
    "    a = string[-1]\n",
    "\n",
    "`b`の値は、右から2番目のすぐ隣にあります。\n",
    "\n",
    "    b = string[-2]\n",
    "\n",
    "\n",
    "このビット文字列のサンプル数は、結果の辞書型`stats`によって`stats [string]`として提供されます。"
   ]
  },
  {
   "cell_type": "code",
   "execution_count": null,
   "metadata": {},
   "outputs": [],
   "source": [
    "shots = 8192\n",
    "from qiskit import execute\n",
    "\n",
    "def calculate_P ( backend ):\n",
    "    \n",
    "    P = {}\n",
    "    program = {}\n",
    "    for hashes in ['VV','VH','HV','HH']:\n",
    "\n",
    "        A, B, a, b, program[hashes] = initialize_program ()\n",
    "\n",
    "        setup_variables( A, B, program[hashes] )\n",
    "\n",
    "        hash2bit ( A, hashes[0], a, program[hashes])\n",
    "        hash2bit ( B, hashes[1], b, program[hashes])\n",
    "            \n",
    "    # submit jobs\n",
    "    job = execute( list(program.values()), backend, shots=shots )\n",
    "\n",
    "    # get the results\n",
    "    for hashes in ['VV','VH','HV','HH']:\n",
    "        stats = job.result().get_counts(program[hashes])\n",
    "        \n",
    "        P[hashes] = 0\n",
    "        for string in stats.keys():\n",
    "            a = string[-1]\n",
    "            b = string[-2]\n",
    "            \n",
    "            if a!=b:\n",
    "                P[hashes] += stats[string] / shots\n",
    "\n",
    "    return P"
   ]
  },
  {
   "cell_type": "markdown",
   "metadata": {},
   "source": [
    "次に、実際に使用するデバイスを選択してセットアップします。デフォルトでは、シミュレーターを使用します。代わりに、バックエンドを適宜変更することで、実際のクラウドベースのデバイスを使用できます。"
   ]
  },
  {
   "cell_type": "code",
   "execution_count": null,
   "metadata": {},
   "outputs": [],
   "source": [
    "from qiskit import Aer\n",
    "device = 'qasm_simulator'\n",
    "backend = Aer.get_backend(device)"
   ]
  },
  {
   "cell_type": "code",
   "execution_count": null,
   "metadata": {},
   "outputs": [],
   "source": [
    "P = calculate_P( backend )\n",
    "print(P)"
   ]
  },
  {
   "cell_type": "code",
   "execution_count": null,
   "metadata": {},
   "outputs": [],
   "source": [
    "bell_test( P )"
   ]
  },
  {
   "cell_type": "markdown",
   "metadata": {
    "collapsed": true
   },
   "source": [
    "練習問題で状態の提案を準備した場合、`P['HH']`の上限に重大な違反があることがわかります。では、ここで何が起こっているのでしょうか？ベルのテストに基づいた論理の連鎖は、明らかに量子変数には適用されません。しかし、なぜでしょうか？\n",
    "\n",
    "答えは、その論理には隠された仮定があるということです。その理由を理解するために、式(4)に戻りましょう。\n",
    "\n",
    "    hash2bit ( A, H ) = hash2bit ( A, V )        (4)\n",
    "    \n",
    "ここでは、変数`A`の`H`タイプのハッシュから取得する値を`V`タイプのハッシュの値と比較します。\n",
    "\n",
    "古典的な変数の場合、これは完全に理にかなっています。両方のハッシュを計算して結果を比較することを妨げるものは何もありません。変数のハッシュを計算すると変数が変更されても、それは問題ではありません。事前にコピーするだけで、両方のハッシュを問題なく実行できます。\n",
    "\n",
    "同じことは量子変数には当てはまりません。ハッシュの結果は、実際に実行するまでわかりません。量子ビットが実際に与えるビット値を決定するのはその時だけです。そして、あるタイプのハッシュの値を決定すると、別のタイプのハッシュを使用した場合に何を決定したかを判断することはできません。[量子変数はコピーできない](https://en.wikipedia.org/wiki/No-cloning_theorem)ため、量子変数をコピーしてもこれを回避することはできません。つまり、`hash2bit(A, H)`と`hash2bit(A, V)`の値が同時に明確に定義されているコンテキストがないため、それらを比較することはできません。\n",
    "\n",
    "もう1つの隠れた仮定は、`hash2bit(A,hash)`は、変数`A`に選択されたハッシュのタイプにのみ依存し、変数`B`に選択されたハッシュのタイプには依存しないということです。ただし、上界が違反しているという事実は、それぞれの変数が他の変数に対してどのようなハッシュが行われているかを知っているということを暗示しているように見えます。したがって、両方がHタイプのハッシュを持っている場合、それらは共謀して非常に異なる動作を与えることができます。\n",
    "\n",
    "そうは言っても、我々の選択したハッシュが他のビットでの結果に影響を与えるとは言えません。その効果はそれよりも微妙です。たとえば、どの変数がどの変数に影響を与えているかを判断することはできません。ハッシュが実行される順序を変更したり、[効果的に同時に実行したりする](https://en.wikipedia.org/wiki/Loopholes_in_Bell_test_experiments#Communication,_or_locality)と、同じ結果が得られます。私たちが言えることは、結果は[文脈的](https://en.wikipedia.org/wiki/Quantum_contextuality)であるということです。ある変数からの結果を完全に理解するには、別の変数に対して何が行われたかを調べる必要がある場合があります。\n",
    "\n",
    "これはすべて、量子変数が常に私たちが慣れている論理に従うとは限らないことを示しています。それらは異なる規則、つまり量子力学の規則に従います。これにより、新しい異なる方法で計算を実行する方法を見つけることができます。"
   ]
  }
 ],
 "metadata": {
  "kernelspec": {
   "display_name": "Python 3",
   "language": "python",
   "name": "python3"
  },
  "language_info": {
   "codemirror_mode": {
    "name": "ipython",
    "version": 3
   },
   "file_extension": ".py",
   "mimetype": "text/x-python",
   "name": "python",
   "nbconvert_exporter": "python",
   "pygments_lexer": "ipython3",
   "version": "3.8.5"
  }
 },
 "nbformat": 4,
 "nbformat_minor": 2
}
