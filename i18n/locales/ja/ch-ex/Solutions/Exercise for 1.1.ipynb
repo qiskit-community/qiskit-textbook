{
 "cells": [
  {
   "cell_type": "code",
   "execution_count": null,
   "metadata": {},
   "outputs": [],
   "source": [
    "from qiskit import QuantumRegister, ClassicalRegister, QuantumCircuit, Aer, execute"
   ]
  },
  {
   "cell_type": "markdown",
   "metadata": {
    "colab_type": "text",
    "id": "ccfRql22_IBL"
   },
   "source": [
    "# Solutions: Classical logic gates with quantum circuits"
   ]
  },
  {
   "cell_type": "markdown",
   "metadata": {
    "colab_type": "text",
    "id": "OKCkpBD0_c6L"
   },
   "source": [
    "## NOT gate\n",
    "\n",
    "This function takes a binary string input (`'0'` or `'1'`) and returns the opposite binary output'."
   ]
  },
  {
   "cell_type": "code",
   "execution_count": 2,
   "metadata": {
    "colab": {},
    "colab_type": "code",
    "id": "6JPMpemG_RMb"
   },
   "outputs": [],
   "source": [
    "def NOT(input):\n",
    "\n",
    "  q = QuantumRegister(1) # a qubit in which to encode the inout\n",
    "  c = ClassicalRegister(1) # a bit to store the output\n",
    "  qc = QuantumCircuit(q, c) # this is where the quantum program goes\n",
    "  \n",
    "  # We encode '0' as the qubit state |0⟩, and '1' as |1⟩\n",
    "  # Since the qubit is initially |0⟩, we don't need to do anything for an input of '0'\n",
    "  # For an input of '1', we do an x to rotate the |0⟩ to |1⟩\n",
    "  if input=='1': #\n",
    "    qc.x( q[0] )\n",
    "    \n",
    "  # Now we've encoded the input, we can do a NOT on it using x\n",
    "  qc.x( q[0] )\n",
    "  \n",
    "  # Finally, we extract the |0⟩/|1⟩ output of the qubit and encode it in the bit c[0]\n",
    "  qc.measure( q[0], c[0] )\n",
    "  \n",
    "  # We'll run the program on a simulator\n",
    "  backend = Aer.get_backend('qasm_simulator')\n",
    "  # Since the output will be deterministic, we can use just a single shot to get it\n",
    "  job = execute(qc,backend,shots=1,memory=True)\n",
    "  output = job.result().get_memory()[0]\n",
    "  \n",
    "  return output"
   ]
  },
  {
   "cell_type": "markdown",
   "metadata": {
    "colab_type": "text",
    "id": "Gd-9DEAaAarK"
   },
   "source": [
    "## XOR gate\n",
    "\n",
    "Takes two binary strings as input and gives one as output.\n",
    "\n",
    "The output is `'0'` when the inputs are equal and  `'1'` otherwise."
   ]
  },
  {
   "cell_type": "code",
   "execution_count": 3,
   "metadata": {
    "colab": {},
    "colab_type": "code",
    "id": "oPVCyyaHAays"
   },
   "outputs": [],
   "source": [
    "def XOR(input1,input2):\n",
    "  \n",
    "  q = QuantumRegister(2) # a qubit in which to encode the inout\n",
    "  c = ClassicalRegister(1) # a bit to store the output\n",
    "  qc = QuantumCircuit(q, c) # this is where the quantum program goes\n",
    "  \n",
    "  if input1=='1':\n",
    "    qc.x( q[0] )\n",
    "  if input2=='1':\n",
    "    qc.x( q[1] )\n",
    "  \n",
    "  qc.cx(q[0],q[1]) # just needs a cnot\n",
    "  qc.measure(q[1],c[0]) # output from qubit 1 is measured\n",
    "  \n",
    "  # We'll run the program on a simulator\n",
    "  backend = Aer.get_backend('qasm_simulator')\n",
    "  # Since the output will be deterministic, we can use just a single shot to get it\n",
    "  job = execute(qc,backend,shots=1,memory=True)\n",
    "  output = job.result().get_memory()[0]\n",
    "  \n",
    "  return output"
   ]
  },
  {
   "cell_type": "markdown",
   "metadata": {
    "colab_type": "text",
    "id": "dPMfIpfYAAT7"
   },
   "source": [
    "## AND gate\n",
    "\n",
    "Takes two binary strings as input and gives one as output.\n",
    "\n",
    "The output is `'1'` only when both the inputs are `'1'`."
   ]
  },
  {
   "cell_type": "code",
   "execution_count": 4,
   "metadata": {
    "colab": {},
    "colab_type": "code",
    "id": "HdYfpnslAAeJ"
   },
   "outputs": [],
   "source": [
    "def AND(input1,input2):\n",
    "  \n",
    "  q = QuantumRegister(3) # a qubit in which to encode the inout\n",
    "  c = ClassicalRegister(1) # a bit to store the output\n",
    "  qc = QuantumCircuit(q, c) # this is where the quantum program goes\n",
    "  \n",
    "  if input1=='1':\n",
    "    qc.x( q[0] )\n",
    "  if input2=='1':\n",
    "    qc.x( q[1] )\n",
    "  \n",
    "  qc.ccx(q[0],q[1],q[2]) # just needs a ccx controlled on qubits 0 and 1 and targeted on 2\n",
    "  qc.measure(q[2],c[0]) # output from qubit 2 is measured\n",
    "  \n",
    "  # We'll run the program on a simulator\n",
    "  backend = Aer.get_backend('qasm_simulator')\n",
    "  # Since the output will be deterministic, we can use just a single shot to get it\n",
    "  job = execute(qc,backend,shots=1,memory=True)\n",
    "  output = job.result().get_memory()[0]\n",
    "  \n",
    "  return output"
   ]
  },
  {
   "cell_type": "markdown",
   "metadata": {
    "colab_type": "text",
    "id": "OXfchiSyAAoo"
   },
   "source": [
    "## NAND gate\n",
    "\n",
    "Takes two binary strings as input and gives one as output.\n",
    "\n",
    "The output is `'0'` only when both the inputs are `'1'`."
   ]
  },
  {
   "cell_type": "code",
   "execution_count": 5,
   "metadata": {
    "colab": {},
    "colab_type": "code",
    "id": "nJhmG115AAwv"
   },
   "outputs": [],
   "source": [
    "def NAND(input1,input2):\n",
    "  \n",
    "  q = QuantumRegister(3) # a qubit in which to encode the inout\n",
    "  c = ClassicalRegister(1) # a bit to store the output\n",
    "  qc = QuantumCircuit(q, c) # this is where the quantum program goes\n",
    "  \n",
    "  if input1=='1':\n",
    "    qc.x( q[0] )\n",
    "  if input2=='1':\n",
    "    qc.x( q[1] )\n",
    "    \n",
    "  # can be done with an AND followed by a NOT\n",
    "  qc.ccx(q[0],q[1],q[2]) # the AND just needs a ccx controlled on qubits 0 and 1 and targeted on 2\n",
    "  qc.x(q[2]) # the NOT is done to the qubit containing the output\n",
    "  qc.measure(q[2],c[0]) # output from qubit 2 is measured\n",
    "  \n",
    "  # We'll run the program on a simulator\n",
    "  backend = Aer.get_backend('qasm_simulator')\n",
    "  # Since the output will be deterministic, we can use just a single shot to get it\n",
    "  job = execute(qc,backend,shots=1,memory=True)\n",
    "  output = job.result().get_memory()[0]\n",
    "  \n",
    "  return output"
   ]
  },
  {
   "cell_type": "markdown",
   "metadata": {
    "colab_type": "text",
    "id": "n1KswU_jABFA"
   },
   "source": [
    "## OR gate\n",
    "\n",
    "Takes two binary strings as input and gives one as output.\n",
    "\n",
    "The output is `'1'` if either input is `'1'`."
   ]
  },
  {
   "cell_type": "code",
   "execution_count": 6,
   "metadata": {
    "colab": {},
    "colab_type": "code",
    "id": "_gofB196ABMj"
   },
   "outputs": [],
   "source": [
    "def OR(input1,input2):\n",
    "  \n",
    "  q = QuantumRegister(3) # a qubit in which to encode the inout\n",
    "  c = ClassicalRegister(1) # a bit to store the output\n",
    "  qc = QuantumCircuit(q, c) # this is where the quantum program goes\n",
    "  \n",
    "  if input1=='1':\n",
    "    qc.x( q[0] )\n",
    "  if input2=='1':\n",
    "    qc.x( q[1] )\n",
    "    \n",
    "  # can be done with NOTs on the inputs and output of an AND\n",
    "  qc.x(q[0])\n",
    "  qc.x(q[1])\n",
    "  qc.ccx(q[0],q[1],q[2]) # the AND just needs a ccx controlled on qubits 0 and 1 and targeted on 2\n",
    "  qc.x(q[2]) # the NOT is done to the qubit containing the output\n",
    "  qc.measure(q[2],c[0]) # output from qubit 2 is measured\n",
    "  \n",
    "  # We'll run the program on a simulator\n",
    "  backend = Aer.get_backend('qasm_simulator')\n",
    "  # Since the output will be deterministic, we can use just a single shot to get it\n",
    "  job = execute(qc,backend,shots=1,memory=True)\n",
    "  output = job.result().get_memory()[0]\n",
    "  \n",
    "  return output"
   ]
  },
  {
   "cell_type": "markdown",
   "metadata": {
    "colab_type": "text",
    "id": "flbXaXrY_pNz"
   },
   "source": [
    "## Tests\n",
    "\n",
    "The following code runs the functions above for all possible inputs, so that you can check whether they work."
   ]
  },
  {
   "cell_type": "code",
   "execution_count": 7,
   "metadata": {
    "colab": {
     "base_uri": "https://localhost:8080/",
     "height": 503
    },
    "colab_type": "code",
    "executionInfo": {
     "elapsed": 1018,
     "status": "ok",
     "timestamp": 1552903179929,
     "user": {
      "displayName": "James Wootton",
      "photoUrl": "https://lh4.googleusercontent.com/-XnQWpq03OeQ/AAAAAAAAAAI/AAAAAAAAAi0/qKYJsrtH0Oo/s64/photo.jpg",
      "userId": "11461323495081829290"
     },
     "user_tz": -60
    },
    "id": "S9hyGAZ9_VQc",
    "outputId": "db6acf59-da89-4469-a12c-0dcdeddc4cf8"
   },
   "outputs": [
    {
     "name": "stdout",
     "output_type": "stream",
     "text": [
      "\n",
      "Results for the NOT gate\n",
      "    NOT with input 0 gives output 1\n",
      "    NOT with input 1 gives output 0\n",
      "\n",
      "Results for the XOR gate\n",
      "    NOT with inputs 0 0 gives output 0\n",
      "    NOT with inputs 0 1 gives output 1\n",
      "    NOT with inputs 1 0 gives output 1\n",
      "    NOT with inputs 1 1 gives output 0\n",
      "\n",
      "Results for the AND gate\n",
      "    NOT with inputs 0 0 gives output 0\n",
      "    NOT with inputs 0 1 gives output 0\n",
      "    NOT with inputs 1 0 gives output 0\n",
      "    NOT with inputs 1 1 gives output 1\n",
      "\n",
      "Results for the NAND gate\n",
      "    NOT with inputs 0 0 gives output 1\n",
      "    NOT with inputs 0 1 gives output 1\n",
      "    NOT with inputs 1 0 gives output 1\n",
      "    NOT with inputs 1 1 gives output 0\n",
      "\n",
      "Results for the OR gate\n",
      "    NOT with inputs 0 0 gives output 0\n",
      "    NOT with inputs 0 1 gives output 1\n",
      "    NOT with inputs 1 0 gives output 1\n",
      "    NOT with inputs 1 1 gives output 1\n"
     ]
    }
   ],
   "source": [
    "print('\\nResults for the NOT gate')\n",
    "for input in ['0','1']:\n",
    "  print('    NOT with input',input,'gives output',NOT(input))\n",
    "  \n",
    "print('\\nResults for the XOR gate')\n",
    "for input1 in ['0','1']:\n",
    "  for input2 in ['0','1']:\n",
    "    print('    NOT with inputs',input1,input2,'gives output',XOR(input1,input2))\n",
    "  \n",
    "print('\\nResults for the AND gate')\n",
    "for input1 in ['0','1']:\n",
    "  for input2 in ['0','1']:\n",
    "    print('    NOT with inputs',input1,input2,'gives output',AND(input1,input2))\n",
    "  \n",
    "print('\\nResults for the NAND gate')\n",
    "for input1 in ['0','1']:\n",
    "  for input2 in ['0','1']:\n",
    "    print('    NOT with inputs',input1,input2,'gives output',NAND(input1,input2))\n",
    "  \n",
    "print('\\nResults for the OR gate')\n",
    "for input1 in ['0','1']:\n",
    "  for input2 in ['0','1']:\n",
    "    print('    NOT with inputs',input1,input2,'gives output',OR(input1,input2))"
   ]
  },
  {
   "cell_type": "code",
   "execution_count": null,
   "metadata": {
    "colab": {},
    "colab_type": "code",
    "id": "LQT8YfpMNBfH"
   },
   "outputs": [],
   "source": []
  }
 ],
 "metadata": {
  "colab": {
   "collapsed_sections": [],
   "name": "Solution_1.ipynb",
   "provenance": [
    {
     "file_id": "15D2t0WBtMOEgrlHWrgJAeCVmjvPPmx-l",
     "timestamp": 1550567685385
    }
   ],
   "version": "0.3.2"
  },
  "kernelspec": {
   "display_name": "Python 3",
   "language": "python",
   "name": "python3"
  },
  "language_info": {
   "codemirror_mode": {
    "name": "ipython",
    "version": 3
   },
   "file_extension": ".py",
   "mimetype": "text/x-python",
   "name": "python",
   "nbconvert_exporter": "python",
   "pygments_lexer": "ipython3",
   "version": "3.7.0"
  }
 },
 "nbformat": 4,
 "nbformat_minor": 1
}
