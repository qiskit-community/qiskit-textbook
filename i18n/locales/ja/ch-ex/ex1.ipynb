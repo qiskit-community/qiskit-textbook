{
 "cells": [
  {
   "attachments": {},
   "cell_type": "markdown",
   "metadata": {
    "colab_type": "text",
    "id": "ccfRql22_IBL",
    "tags": [
     "remove_cell"
    ]
   },
   "source": [
    "# 量子回路による古典論理ゲートの実現"
   ]
  },
  {
   "cell_type": "code",
   "execution_count": 1,
   "metadata": {},
   "outputs": [],
   "source": [
    "from qiskit import *\n",
    "from qiskit.tools.visualization import plot_histogram\n",
    "import numpy as np"
   ]
  },
  {
   "cell_type": "markdown",
   "metadata": {
    "colab_type": "text",
    "id": "ccfRql22_IBL"
   },
   "source": [
    "NOTゲート（Qiskitでは`x`と表現）、CNOTゲート（Qiskitでは`cx`と表現）、Toffoliゲート（Qiskitでは`ccx`と表現）を使用して、XOR、AND、NAND、および ORゲートを実装してください。\n",
    "\n",
    "例として、NOTゲートの実装を示します。"
   ]
  },
  {
   "cell_type": "markdown",
   "metadata": {
    "colab_type": "text",
    "id": "OKCkpBD0_c6L"
   },
   "source": [
    "## NOT ゲート"
   ]
  },
  {
   "cell_type": "markdown",
   "metadata": {
    "colab_type": "text",
    "id": "OKCkpBD0_c6L"
   },
   "source": [
    "この関数は、バイナリ文字列入力（ `'0'`または`' 1'`）を受け取り、反対のバイナリ出力 を返します。"
   ]
  },
  {
   "cell_type": "code",
   "execution_count": 2,
   "metadata": {
    "colab": {},
    "colab_type": "code",
    "id": "6JPMpemG_RMb"
   },
   "outputs": [],
   "source": [
    "def NOT(input):\n",
    "\n",
    "    q = QuantumRegister(1) # 入力を量子ビットに符号化するための量子レジスター\n",
    "    c = ClassicalRegister(1) # 出力を格納するための古典レジスター\n",
    "    qc = QuantumCircuit(q, c) # 量子回路\n",
    "    \n",
    "    # '0' を |0⟩ に, '1' を |1⟩ に符号化する\n",
    "    # '0'が入力されたら、量子ビットはデフォルトで |0⟩なので何もしない\n",
    "    # '1'が入力されたら、Xゲートを用いて |0⟩ を |1⟩ に変換する\n",
    "    if input=='1':\n",
    "        qc.x( q[0] )\n",
    "        \n",
    "    # Xゲートを用いて NOT を量子回路の上で実装する。\n",
    "    qc.x( q[0] )\n",
    "    \n",
    "    # 最後に、量子状態 |0⟩ または |1⟩ を観測し、古典ビット c[0] に格納する\n",
    "    qc.measure( q[0], c[0] )\n",
    "    \n",
    "    # シミュレーター上で実行する\n",
    "    backend = Aer.get_backend('qasm_simulator')\n",
    "    # 結果は確定的なので、一回の実行結果だけで十分\n",
    "    job = execute(qc,backend,shots=1)\n",
    "    output = next(iter(job.result().get_counts()))\n",
    "    \n",
    "    return output"
   ]
  },
  {
   "cell_type": "markdown",
   "metadata": {
    "colab_type": "text",
    "id": "Gd-9DEAaAarK"
   },
   "source": [
    "## XOR ゲート"
   ]
  },
  {
   "cell_type": "markdown",
   "metadata": {
    "colab_type": "text",
    "id": "Gd-9DEAaAarK"
   },
   "source": [
    "2つのバイナリ文字列を入力として受け取り、1つのバイナリ文字列を出力します。\n",
    "\n",
    "入力が等しい場合、出力は `'0'`であり、そうでない場合、出力は`' 1'`です。"
   ]
  },
  {
   "cell_type": "code",
   "execution_count": 3,
   "metadata": {
    "colab": {},
    "colab_type": "code",
    "id": "oPVCyyaHAays"
   },
   "outputs": [],
   "source": [
    "def XOR(input1,input2):\n",
    "    \n",
    "    q = QuantumRegister(2) # 入力を格納する 2 量子ビット\n",
    "    c = ClassicalRegister(1) # 出力を格納する 1 古典ビット\n",
    "    qc = QuantumCircuit(q, c) # 量子回路\n",
    "    \n",
    "    # 量子プログラムをここに記述する\n",
    "    \n",
    "    qc.measure(q[1],c[0]) # 必要ならここは変更しても良い\n",
    "    \n",
    "    # シミュレーター上で実行する\n",
    "    backend = Aer.get_backend('qasm_simulator')\n",
    "    # 結果は確定的なので、一回の実行結果だけで十分\n",
    "    job = execute(qc,backend,shots=1,memory=True)\n",
    "    output = job.result().get_memory()[0]\n",
    "    \n",
    "    return output"
   ]
  },
  {
   "cell_type": "markdown",
   "metadata": {
    "colab_type": "text",
    "id": "dPMfIpfYAAT7"
   },
   "source": [
    "## AND ゲート"
   ]
  },
  {
   "cell_type": "markdown",
   "metadata": {
    "colab_type": "text",
    "id": "dPMfIpfYAAT7"
   },
   "source": [
    "2つのバイナリ文字列を入力として受け取り、1つのバイナリ文字列を出力します。\n",
    "\n",
    "両方の入力が `'1'`の場合のみ、出力は`' 1'`になります。"
   ]
  },
  {
   "cell_type": "code",
   "execution_count": 4,
   "metadata": {
    "colab": {},
    "colab_type": "code",
    "id": "HdYfpnslAAeJ"
   },
   "outputs": [],
   "source": [
    "def AND(input1,input2):\n",
    "    \n",
    "    q = QuantumRegister(3) # 入力を格納する 2 量子ビットと出力を格納する 1 量子ビット\n",
    "    c = ClassicalRegister(1) # 出力を格納する 1 古典ビット\n",
    "    qc = QuantumCircuit(q, c) # 量子回路\n",
    "    \n",
    "    # 量子プログラムをここに記述する\n",
    "    \n",
    "    qc.measure(q[2],c[0]) # 必要ならここは変更しても良い\n",
    "    \n",
    "    # シミュレーター上で実行する\n",
    "    backend = Aer.get_backend('qasm_simulator')\n",
    "    # 結果は確定的なので、一回の実行結果だけで十分\n",
    "    job = execute(qc,backend,shots=1,memory=True)\n",
    "    output = job.result().get_memory()[0]\n",
    "    \n",
    "    return output"
   ]
  },
  {
   "cell_type": "markdown",
   "metadata": {
    "colab_type": "text",
    "id": "OXfchiSyAAoo"
   },
   "source": [
    "## NAND ゲート"
   ]
  },
  {
   "cell_type": "markdown",
   "metadata": {
    "colab_type": "text",
    "id": "OXfchiSyAAoo"
   },
   "source": [
    "2つのバイナリ文字列を入力として受け取り、1つのバイナリ文字列を出力します。\n",
    "\n",
    "両方の入力が `'1'`の場合のみ、出力は`'0'`になります。"
   ]
  },
  {
   "cell_type": "code",
   "execution_count": 5,
   "metadata": {
    "colab": {},
    "colab_type": "code",
    "id": "nJhmG115AAwv"
   },
   "outputs": [],
   "source": [
    "def NAND(input1,input2):\n",
    "  \n",
    "    q = QuantumRegister(3) # 入力を格納する 2 量子ビットと出力を格納する 1 量子ビット\n",
    "    c = ClassicalRegister(1) # 出力を格納する 1 古典ビット\n",
    "    qc = QuantumCircuit(q, c) # 量子回路\n",
    "    \n",
    "    # 量子プログラムをここに記述する\n",
    "    \n",
    "    qc.measure(q[2],c[0]) # 必要ならここは変更しても良い\n",
    "    \n",
    "    # シミュレーター上で実行する\n",
    "    backend = Aer.get_backend('qasm_simulator')\n",
    "    # 結果は確定的なので、一回の実行結果だけで十分\n",
    "    job = execute(qc,backend,shots=1,memory=True)\n",
    "    output = job.result().get_memory()[0]\n",
    "    \n",
    "    return output"
   ]
  },
  {
   "cell_type": "markdown",
   "metadata": {
    "colab_type": "text",
    "id": "n1KswU_jABFA"
   },
   "source": [
    "## OR ゲート"
   ]
  },
  {
   "cell_type": "markdown",
   "metadata": {
    "colab_type": "text",
    "id": "n1KswU_jABFA"
   },
   "source": [
    "2つのバイナリ文字列を入力として受け取り、1つのバイナリ文字列を出力します。\n",
    "\n",
    "いずれかの入力が `'1'`の場合、出力は`'1'`になります。"
   ]
  },
  {
   "cell_type": "code",
   "execution_count": 6,
   "metadata": {
    "colab": {},
    "colab_type": "code",
    "id": "_gofB196ABMj"
   },
   "outputs": [],
   "source": [
    "def OR(input1,input2):\n",
    "  \n",
    "    q = QuantumRegister(3) # 入力を格納する 2 量子ビットと出力を格納する 1 量子ビット\n",
    "    c = ClassicalRegister(1) # 出力を格納する 1 古典ビット\n",
    "    qc = QuantumCircuit(q, c) # 量子回路\n",
    "    \n",
    "    # 量子プログラムをここに記述する\n",
    "    \n",
    "    qc.measure(q[2],c[0]) # 必要ならここは変更しても良い\n",
    "    \n",
    "    # シミュレーター上で実行する\n",
    "    backend = Aer.get_backend('qasm_simulator')\n",
    "    # 結果は確定的なので、一回の実行結果だけで十分\n",
    "    job = execute(qc,backend,shots=1,memory=True)\n",
    "    output = job.result().get_memory()[0]\n",
    "    \n",
    "    return output"
   ]
  },
  {
   "cell_type": "markdown",
   "metadata": {
    "colab_type": "text",
    "id": "flbXaXrY_pNz"
   },
   "source": [
    "## 検証"
   ]
  },
  {
   "cell_type": "markdown",
   "metadata": {
    "colab_type": "text",
    "id": "flbXaXrY_pNz"
   },
   "source": [
    "次のコードを実行し、すべての可能な入力に対して上記の関数が機能するかどうかを確認してください。"
   ]
  },
  {
   "cell_type": "code",
   "execution_count": 7,
   "metadata": {
    "colab": {},
    "colab_type": "code",
    "id": "S9hyGAZ9_VQc"
   },
   "outputs": [
    {
     "name": "stdout",
     "output_type": "stream",
     "text": [
      "\n",
      "Results for the NOT gate\n",
      "    Input 0 gives output 1\n",
      "    Input 1 gives output 0\n",
      "\n",
      "Results for the XOR gate\n",
      "    Inputs 0 0 give output 0\n",
      "    Inputs 0 1 give output 1\n",
      "    Inputs 1 0 give output 1\n",
      "    Inputs 1 1 give output 0\n",
      "\n",
      "Results for the AND gate\n",
      "    Inputs 0 0 give output 0\n",
      "    Inputs 0 1 give output 0\n",
      "    Inputs 1 0 give output 0\n",
      "    Inputs 1 1 give output 1\n",
      "\n",
      "Results for the NAND gate\n",
      "    Inputs 0 0 give output 1\n",
      "    Inputs 0 1 give output 1\n",
      "    Inputs 1 0 give output 1\n",
      "    Inputs 1 1 give output 0\n",
      "\n",
      "Results for the OR gate\n",
      "    Inputs 0 0 give output 0\n",
      "    Inputs 0 1 give output 1\n",
      "    Inputs 1 0 give output 1\n",
      "    Inputs 1 1 give output 1\n"
     ]
    }
   ],
   "source": [
    "print('\\nResults for the NOT gate')\n",
    "for input in ['0','1']:\n",
    "    print('    Input',input,'gives output',NOT(input))\n",
    "    \n",
    "print('\\nResults for the XOR gate')\n",
    "for input1 in ['0','1']:\n",
    "    for input2 in ['0','1']:\n",
    "        print('    Inputs',input1,input2,'give output',XOR(input1,input2))\n",
    "\n",
    "print('\\nResults for the AND gate')\n",
    "for input1 in ['0','1']:\n",
    "    for input2 in ['0','1']:\n",
    "        print('    Inputs',input1,input2,'give output',AND(input1,input2))\n",
    "\n",
    "print('\\nResults for the NAND gate')\n",
    "for input1 in ['0','1']:\n",
    "    for input2 in ['0','1']:\n",
    "        print('    Inputs',input1,input2,'give output',NAND(input1,input2))\n",
    "\n",
    "print('\\nResults for the OR gate')\n",
    "for input1 in ['0','1']:\n",
    "    for input2 in ['0','1']:\n",
    "        print('    Inputs',input1,input2,'give output',OR(input1,input2))"
   ]
  },
  {
   "cell_type": "code",
   "execution_count": 8,
   "metadata": {},
   "outputs": [
    {
     "data": {
      "text/plain": [
       "{'qiskit-terra': '0.16.1',\n",
       " 'qiskit-aer': '0.7.1',\n",
       " 'qiskit-ignis': '0.5.1',\n",
       " 'qiskit-ibmq-provider': '0.11.1',\n",
       " 'qiskit-aqua': '0.8.1',\n",
       " 'qiskit': '0.23.1'}"
      ]
     },
     "execution_count": 8,
     "metadata": {},
     "output_type": "execute_result"
    }
   ],
   "source": [
    "import qiskit\n",
    "qiskit.__qiskit_version__"
   ]
  },
  {
   "cell_type": "markdown",
   "metadata": {},
   "source": [
    "----\n",
    "翻訳担当: 野ヶ山尊秀 (nogayama @jp.ibm.com)"
   ]
  }
 ],
 "metadata": {
  "colab": {
   "collapsed_sections": [],
   "name": "Exercise_1.ipynb",
   "provenance": [],
   "version": "0.3.2"
  },
  "kernelspec": {
   "display_name": "Python 3",
   "language": "python",
   "name": "python3"
  },
  "language_info": {
   "codemirror_mode": {
    "name": "ipython",
    "version": 3
   },
   "file_extension": ".py",
   "mimetype": "text/x-python",
   "name": "python",
   "nbconvert_exporter": "python",
   "pygments_lexer": "ipython3",
   "version": "3.8.5"
  }
 },
 "nbformat": 4,
 "nbformat_minor": 1
}
