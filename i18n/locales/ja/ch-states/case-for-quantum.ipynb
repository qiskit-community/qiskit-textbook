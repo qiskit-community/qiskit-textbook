{
 "cells": [
  {
   "cell_type": "markdown",
   "metadata": {
    "tags": [
     "remove_cell"
    ]
   },
   "source": [
    "# 量子コンピューターの場合"
   ]
  },
  {
   "cell_type": "markdown",
   "metadata": {
    "tags": [
     "contents"
    ]
   },
   "source": [
    "## 目次\n",
    "\n",
    "1. [足し算の複雑さ](#adding)    \n",
    "2. [O記法(ビッグ・オー記法)](#big-o)    \n",
    "3. [複雑性理論](#complexity)    \n",
    "4. [デジタル計算を越すもの](#beyond)       \n",
    "5. [量子コンピューターを使う最適なケース](#when)\n",
    "6. [参考文献](#references) "
   ]
  },
  {
   "cell_type": "markdown",
   "metadata": {},
   "source": [
    "## 1. 足し算の複雑さ<a id=\"adding\"></a>\n",
    "\n",
    "単純に述べると、量子コンピューターは古典コンピューターでは解くことができなかった問題を解くことができます。この理由を理解するために、最初にその問題を解くために必要な計算量を考える必要があります。\n",
    "\n",
    "まず、最初の章で検討したアルゴリズムを再度考えます。2つの数値を加算します。\n",
    "```\n",
    "   9213\n",
    "+  1854\n",
    "=  ????\n",
    "```\n",
    "\n",
    "２つの$n$桁の数の足し算は、それぞれが2つの1桁の数字を足すシンプルな演算子で計算することができます。過程の複雑さを分析すると、これらの数の足し算が要求されている計算量やどのよう$n$桁の数が依存するかを考えることができます。この数を $c(n)$ と呼びます。\n",
    "\n",
    "最も簡単なケースは、繰り上がりのない足し算です。この足し算では、$n$桁要求されます。最悪なケースは、$n$桁の繰り上がりの足し算を実行する必要がある場合です。それぞれの位に基本的な足し算が必要になります。これらの考えから、計算に必要な桁数は以下で結論づけられます。\n",
    "\n",
    "$n \\leq c(n) \\leq 2n$\n",
    "\n",
    "\n",
    "## 2. O記法（ビッグ・オー記法） <a id=\"big-o\"></a>\n",
    "\n",
    "この結果は、$c(n)$が$n$とともに線形に増加するということができます。より一般的に は、$n$が大きい場合に$c(n)$の上限として機能する$n$の線形関数を見つけることができると言えます。これは言葉にすると長くなるので、代わりに、これを`O記法`と表現します。\n",
    "<p>\n",
    " <details>\n",
    "  <summary>定義：O記法(ビッグ・オー記法) (クリックすると開きます。)</summary>\n",
    "     \n",
    "ある与えられた関数$f(x)$と$g(x)$と変数$x$に対して、式$f(x) = O(g(x))$の意味は以下：     \n",
    "     \n",
    "ある正の定数$M>0$と$x_0$が存在して、すべての$x>x_0$に対して、$$f(x) \\leq Mg(x)$$を満たす。\n",
    "これを表現すると以下：\n",
    "\n",
    "$$\n",
    "f(x) \\leq Mg(x) \\forall x>x_0\n",
    "$$ \n",
    " </details>\n",
    "</p>\n",
    "\n",
    "O記法は、特定のプラットフォームやアルゴリズムの実装に関係なく、アルゴリズムに 必要なリソース/ランタイムが入力サイズとどのようにスケールするかを比較できるので便利です。以下に、入力サイズ$N$の関数としてのランタイム$N$の一般的なスケーリング係数の例を示します。問題のサイズが十分に大きい場合、$a$と$b$が一定である時、$O(a^n)$のアルゴリズムの実行時間が$O(n^b)$のアルゴリズムの実行時間を超えることは明らかです。\n",
    "\n",
    "<figure>\n",
    "  <img src=\"images/1920px-Comparison_computational_complexity.png\" alt=\"Drawing\" style=\"max-width: 400px;\"/>\n",
    "  <figcaption>さまざまな時間計算量の比較。nは入力ビットの数で、Nは要求される演算の数である。 [5]</figcaption>\n",
    "</figure>\n",
    "\n",
    "この記法において、上記に書かれた性質は単に$c(n) = O(n)$として表現されています。これは特定のことを詳細に書く必要がなく、線形的な振る舞いであると捉えます。それ故、𝑐(𝑛)=𝑛、𝑐(𝑛)=2𝑛、またはその他の何かとは無関係に、単にそれを𝑐(𝑛)=𝑂(𝑛) と言うことができます。\n",
    "\n",
    "これまで検討してきたことには、隠れた仮定があります。桁数について話す際に、特定の数記法を使うことを前提としています。しかし、桁数は、10 進数、2進数、またはその他の、どの数記法を使っているかによって変わるでしょう。\n",
    "例えば、数を示すのに必要なビット数$n_2$は、以下の式によって同じ数を示すのに必要な 10 進数の桁数$n_{10}$と関係しています。\n",
    "\n",
    "$n_2 = \\left\\lceil \\frac{\\log 10}{ \\log 2} \\, n_{10} \\right\\rceil \\approx 3.3 \\, n_{10}.$\n",
    "\n",
    "これもまた、線形関係があるので、O 記法での計算量は変わりません。これは実際に以下と同じことが言えます。\n",
    "\n",
    "$c(n_2) = O(n_2)$, $c(n_{10}) = O(n_{10})$, または$c(n_{10}) = O(n_{2})$ \n",
    "\n",
    "これは、数のシステムに何が使われているかを特定する必要がなく、単に桁数$n$のことを話すことができる理由です。\n",
    "\n",
    "\n",
    "## 3. 複雑性理論 <a id=\"complexity\"></a>\n",
    "\n",
    "複雑性理論は、任意のアルゴリズムを実行するために必要な計算量の研究のことです。ある問題を解くための最適なアルゴリズムを考慮することによって、この問題を解く時の固有の計算量を研究することができます。\n",
    "最適なアルゴリズムはすでに分かっているので、$O(n)$の複雑さの問題でもあることが分かっています。\n",
    "掛け算はそれほどシンプルではありません。2つの$𝑛$桁の数値を掛け算する時に、学校で学んだアルゴリズムでは、1 桁の加算や乗算など、$O(n^2)$の基本的な操作が必要になります。漸近的な複雑さの低いアルゴリズムが見つかっていますが、$O(n)$の複雑さで掛け算を実行することは不可能であると広く考えられています。\n",
    "\n",
    "それでも、掛け算は最も複雑な問題ではありません。はるかに複雑な問題の例は、因数分解です: $n$桁の数を取り、その素因数を見つけることです。\n",
    "この素因数分解の最もよく知られているアルゴリズムの計算量は、$O\\left(e^{n^{1/3}}\\right)$よりも悪いです。ここで、指数が含まれていることはとても急速に複雑性が増幅し、指数関数はその因数分解を解くため問題がハードになっていくことを示します。\n",
    "\n",
    "実際の計算時間で、この例を示すために最近の例を取り上げます。1 次の 829 桁の数字を考えてみましょう。"
   ]
  },
  {
   "cell_type": "code",
   "execution_count": 1,
   "metadata": {},
   "outputs": [],
   "source": [
    "rsa_250 = 2140324650240744961264423072839333563008614715144755017797754920881418023447140136643345519095804679610992851872470914587687396261921557363047454770520805119056493106687691590019759405693457452230589325976697471681738069364894699871578494975937497937"
   ]
  },
  {
   "cell_type": "markdown",
   "metadata": {},
   "source": [
    "このサイズの数値の掛け算や足し算をするために、あなたのコンピューターを使うと、瞬時に問題を解くことができることがわかるでしょう。コンピューターが持つプロセッサの数にコア秒数を取得するために必要な秒数を掛け算すると、 1 コア秒よりもはるかに少ないコア秒数が必要であることを確認してください。\n",
    "\n",
    "しかしながら、この数の因数分解の実行で以下の2つの因数を生成する計算では、スーパーコンピューターで約2700コア年もの実行時間を必要とします。"
   ]
  },
  {
   "cell_type": "code",
   "execution_count": 2,
   "metadata": {},
   "outputs": [
    {
     "data": {
      "text/plain": [
       "2140324650240744961264423072839333563008614715144755017797754920881418023447140136643345519095804679610992851872470914587687396261921557363047454770520805119056493106687691590019759405693457452230589325976697471681738069364894699871578494975937497937"
      ]
     },
     "execution_count": 2,
     "metadata": {},
     "output_type": "execute_result"
    }
   ],
   "source": [
    "p = 64135289477071580278790190170577389084825014742943447208116859632024532344630238623598752668347708737661925585694639798853367\n",
    "q = 33372027594978156556226010605355114227940760344767554666784520987023841729210037080257448673296881877565718986258036932062711\n",
    "p*q"
   ]
  },
  {
   "cell_type": "markdown",
   "metadata": {},
   "source": [
    "より大きな数の因数分解では、スーパーコンピューターが天文学的な数字を実行する必要があるポイントに簡単に到達します。明らかにそのような問題は実践的に解くことは不可能です。\n",
    "\n",
    "これまでは、$n$桁の数字に対する数学的演算だけを考えてきましたが、その複雑さは、単純な一桁の演算の数で表されます。しかしながら、複雑性理論は、データーベースの探索やグラフを描いたり、ダイナミクスをシミュレーションしたり、*ゼルダの伝説*のダンジョンの移動など、あらゆる種類の問題の計算方法を分析できます。いずれの場合も、入力サイズとして機能する、パラメーター、またはパラメーターのセットを見つけ、O記法を用いて入力サイズの観点から計算量を表現することができます。例えば、$N$の要素のデータベースを探索する場合、その計算量は$O(N)$です。\n",
    "\n",
    "正式には、アルゴリズムの計算量の定義は、使っている計算の正確な理論モデルに依存します。各モデルには、プリミティブ演算と呼ばれる一連の基本演算があり、これを使用して任意のアルゴリズムを表現できます。ブール回路の場合、1章で検討したように、プリミティブ演算は論理ゲートです。アラン・チューリングによって提唱された、架空のコンピューターの形式である、チューリングマシーンの場合、テープに保存された情報をステップスルーして操作する装置を想定します。RAM モデルには、より複雑なプリミティブ操作のセットがあり、私たちが毎日使うコンピューターの理想的な形として機能しています。\n",
    "これら全てのことが、離散値の離散された操作の基本となるデジタル方式のモデルです。それぞれ異なって見えるかもしれませんが、それぞれが他をシミュレートするのは非常に簡単であることがわかります。これは、ほとんどの場合、計算の複雑性は、これらのモデルでどのモデルを使うかに大きく依存ないことを意味します。したがって、RAM モデルやチューリングマシーンに特化して計算量を述べるのではなく、デジタルコンピューターの計算量をシンプルに述べることができます。"
   ]
  },
  {
   "cell_type": "markdown",
   "metadata": {},
   "source": [
    "## 4.デジタル計算を越すもの <a id=\"beyond\"></a>\n",
    "デジタルコンピューターは今優勢なものですが、計算の形式はデジタルコンピューターだけではありません。アナログコンピューターもまた、過去に広く使われ、研究されてきました。デジタルコンピューターの離散的な値とは異なり、アナログコンピューターは連続的に変化する変数の精密な操作に基づいています。このアナログコンピューター・デバイスが、デジタルコンピューターで処理しにくい問題を迅速に解くことができると主張されることがあります。しかし、そのような主張は実現しませんでした。アナログコンピューターの大きな障害は、任意に高精度なデバイスを構築できないことです。デジタルコンピューターでは、誤差を目立たせるために比較的大きく離散化し、エラーを検出して修正する方法を実装できます。しかし、アナログコンピューターでは、誤差は任意に小さくて検出できないことがあり、またその影響が積み重なって計算を台無しにしてしまうことがあります。\n",
    "\n",
    "計算の理想モデルを提唱する場合、デジタルコンピューターの頑健性とアナログコンピューターの繊細な操作を結びつけることを探索するかもしれません。量子ビットが離散的な出力0と1を持つシステムであるが、連続パラメーターによってのみ記述できる状態で存在できることはすでに見てきました。これは、量子システムに典型的な「波と粒子」の二重性としてよく知られた概念の特定の例です。\n",
    "量子ビットは、離散的または連続的のどちらかでは、完全に表現することができず、むしろその2つの組み合わせとして表現することができます。アインシュタインは以下$^{2}$の言葉を残しています。\n",
    "\n",
    "> 「時には一方の理論を使い、時にはどちらかの理論を使わなければいけない場合もあれば、どちらかを使用する場合もあるようです。私たちは新しい種類の困難に直面しています。私たちは現実について2つの矛盾した写真を持っています。どちらも別々には現象を完全に説明してくれないが、一緒になら説明してくれます。それ故、プリミティブ演算が量子ビットに適用されるゲートである量子コンピューター は、アナログでもデジタルでもなく、何かユニークなものです。」\n",
    "\n",
    "量子コンピューターはデジタルコンピューターとは根本的に異なった計算複雑性の問題を解くことができます。実際、量子コンピューティングは特定のタスクで、古典コンピューターよりも指数関数的に速くなることができる唯一の技術として、知られています。計算時間を数年から数分に短縮できる可能性があります。量子誤り訂正が欠陥の影響をどのように取り除くことができるかもまた、私たちは探求します。"
   ]
  },
  {
   "cell_type": "markdown",
   "metadata": {},
   "source": [
    "## 5. 量子コンピューターを使う最適なケース <a id=\"when\"></a>\n",
    "\n",
    "量子ビットと量子ゲートでは、デジタルやアナログの古典的なアルゴリズムと根本的に異なった新しいアルゴリズムを設計することができます。このような方法で、古典コンピューターで解くことができなかった問題の解法を見つけることを期待しています。\n",
    "\n",
    "これを行う一つの方法は、全体的な特性を決定したい関数を持っている時です。例えば、もし関数𝑓(𝑥)が最小値の時の変数𝑥の値を知りたい場合、または、関数𝑓(𝑥)が周期的な関数であれば、その関数の周期を知りたい場合です。デジタルコンピューターのアルゴリズムは、全体的な特性についての十分な情報を得るために、さまざまな異なる入力に対して、$f(x)$を計算するプロセスを使用することがあります。しかし、量子コンピューターでは、重ね合わせ状態を作り出すことができる現象が、関数をたくさんの可能な入力に同時に適用できることを意味します。そのような状態を測定すると、単に1つの結果を得られるだけなので、これは、全ての可能な出力にアクセスできるという意味ではありません。しかし、代わりに量子の干渉の結果に帰納することができ、これにより、私たちが知りたい全体的な特性が明らかになります。\n",
    "\n",
    "この典型的な記述は、たくさんの既に発見された量子アルゴリズムの機能を説明します。代表的な例として、Groverのアルゴリズムがあります。このアルゴリズムは、$N$のデータを探索する複雑さを $O(N)$ から $O(N^{1/2})$ に減らします。この2次の速度の向上は、機械学習や最適化問題のような非構造化探索として表現できるタスクを使用する多くのアプリケーションで役立つ可能性があります。"
   ]
  },
  {
   "cell_type": "code",
   "execution_count": 3,
   "metadata": {
    "scrolled": true,
    "tags": [
     "remove_input"
    ]
   },
   "outputs": [
    {
     "data": {
      "text/html": [
       "<figure>\n",
       "\n",
       "\n",
       "\n",
       "<!DOCTYPE html>\n",
       "<html lang=\"en\">\n",
       "  \n",
       "  <head>\n",
       "    \n",
       "      <meta charset=\"utf-8\">\n",
       "      <title>Bokeh Application</title>\n",
       "      \n",
       "      \n",
       "        \n",
       "          \n",
       "        \n",
       "        \n",
       "          \n",
       "        <script type=\"text/javascript\" src=\"https://cdn.bokeh.org/bokeh/release/bokeh-2.2.3.min.js\" integrity=\"sha384-T2yuo9Oe71Cz/I4X9Ac5+gpEa5a8PpJCDlqKYO0CfAuEszu1JrXLl8YugMqYe3sM\" crossorigin=\"anonymous\"></script>\n",
       "        <script type=\"text/javascript\" src=\"https://cdn.bokeh.org/bokeh/release/bokeh-widgets-2.2.3.min.js\" integrity=\"sha384-98GDGJ0kOMCUMUePhksaQ/GYgB3+NH9h996V88sh3aOiUNX3N+fLXAtry6xctSZ6\" crossorigin=\"anonymous\"></script>\n",
       "        <script type=\"text/javascript\">\n",
       "            Bokeh.set_log_level(\"info\");\n",
       "        </script>\n",
       "        \n",
       "      \n",
       "      \n",
       "    \n",
       "  </head>\n",
       "  \n",
       "  \n",
       "  <body>\n",
       "    \n",
       "      \n",
       "        \n",
       "          \n",
       "          \n",
       "            \n",
       "              <div class=\"bk-root\" id=\"fef134cb-01c7-4643-9117-be51f1664df4\" data-root-id=\"1058\"></div>\n",
       "            \n",
       "          \n",
       "        \n",
       "      \n",
       "      \n",
       "        <script type=\"application/json\" id=\"1149\">\n",
       "          {\"73056042-ccbb-4500-a460-8d036b1d9cc4\":{\"roots\":{\"references\":[{\"attributes\":{\"line_alpha\":0.6,\"line_color\":\"blue\",\"line_width\":3,\"x\":{\"field\":\"x\"},\"y\":{\"field\":\"y\"}},\"id\":\"1026\",\"type\":\"Line\"},{\"attributes\":{\"active_drag\":\"auto\",\"active_inspect\":\"auto\",\"active_multi\":null,\"active_scroll\":\"auto\",\"active_tap\":\"auto\",\"tools\":[{\"id\":\"1020\"},{\"id\":\"1021\"}]},\"id\":\"1022\",\"type\":\"Toolbar\"},{\"attributes\":{},\"id\":\"1013\",\"type\":\"BasicTicker\"},{\"attributes\":{},\"id\":\"1020\",\"type\":\"ResetTool\"},{\"attributes\":{\"items\":[{\"id\":\"1039\"},{\"id\":\"1055\"}],\"location\":\"top_left\"},\"id\":\"1038\",\"type\":\"Legend\"},{\"attributes\":{\"end\":500},\"id\":\"1006\",\"type\":\"Range1d\"},{\"attributes\":{},\"id\":\"1008\",\"type\":\"LinearScale\"},{\"attributes\":{\"label\":{\"value\":\"Classical Search O(N)\"},\"renderers\":[{\"id\":\"1028\"}]},\"id\":\"1039\",\"type\":\"LegendItem\"},{\"attributes\":{},\"id\":\"1053\",\"type\":\"Selection\"},{\"attributes\":{\"source\":{\"id\":\"1001\"}},\"id\":\"1029\",\"type\":\"CDSView\"},{\"attributes\":{\"axis\":{\"id\":\"1012\"},\"ticker\":null},\"id\":\"1015\",\"type\":\"Grid\"},{\"attributes\":{},\"id\":\"1054\",\"type\":\"UnionRenderers\"},{\"attributes\":{\"text\":\"\"},\"id\":\"1031\",\"type\":\"Title\"},{\"attributes\":{\"data\":{\"x\":[0,1,2,3,4,5,6,7,8,9,10,11,12,13,14,15,16,17,18,19,20,21,22,23,24,25,26,27,28,29,30,31,32,33,34,35,36,37,38,39,40,41,42,43,44,45,46,47,48,49,50,51,52,53,54,55,56,57,58,59,60,61,62,63,64,65,66,67,68,69,70,71,72,73,74,75,76,77,78,79,80,81,82,83,84,85,86,87,88,89,90,91,92,93,94,95,96,97,98,99,100,101,102,103,104,105,106,107,108,109,110,111,112,113,114,115,116,117,118,119,120,121,122,123,124,125,126,127,128,129,130,131,132,133,134,135,136,137,138,139,140,141,142,143,144,145,146,147,148,149,150,151,152,153,154,155,156,157,158,159,160,161,162,163,164,165,166,167,168,169,170,171,172,173,174,175,176,177,178,179,180,181,182,183,184,185,186,187,188,189,190,191,192,193,194,195,196,197,198,199,200,201,202,203,204,205,206,207,208,209,210,211,212,213,214,215,216,217,218,219,220,221,222,223,224,225,226,227,228,229,230,231,232,233,234,235,236,237,238,239,240,241,242,243,244,245,246,247,248,249,250,251,252,253,254,255,256,257,258,259,260,261,262,263,264,265,266,267,268,269,270,271,272,273,274,275,276,277,278,279,280,281,282,283,284,285,286,287,288,289,290,291,292,293,294,295,296,297,298,299,300,301,302,303,304,305,306,307,308,309,310,311,312,313,314,315,316,317,318,319,320,321,322,323,324,325,326,327,328,329,330,331,332,333,334,335,336,337,338,339,340,341,342,343,344,345,346,347,348,349,350,351,352,353,354,355,356,357,358,359,360,361,362,363,364,365,366,367,368,369,370,371,372,373,374,375,376,377,378,379,380,381,382,383,384,385,386,387,388,389,390,391,392,393,394,395,396,397,398,399,400,401,402,403,404,405,406,407,408,409,410,411,412,413,414,415,416,417,418,419,420,421,422,423,424,425,426,427,428,429,430,431,432,433,434,435,436,437,438,439,440,441,442,443,444,445,446,447,448,449,450,451,452,453,454,455,456,457,458,459,460,461,462,463,464,465,466,467,468,469,470,471,472,473,474,475,476,477,478,479,480,481,482,483,484,485,486,487,488,489,490,491,492,493,494,495,496,497,498,499],\"y\":{\"__ndarray__\":\"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\",\"dtype\":\"float64\",\"order\":\"little\",\"shape\":[500]}},\"selected\":{\"id\":\"1053\"},\"selection_policy\":{\"id\":\"1054\"}},\"id\":\"1002\",\"type\":\"ColumnDataSource\"},{\"attributes\":{\"below\":[{\"id\":\"1012\"}],\"center\":[{\"id\":\"1015\"},{\"id\":\"1019\"},{\"id\":\"1038\"}],\"left\":[{\"id\":\"1016\"}],\"plot_height\":400,\"plot_width\":800,\"renderers\":[{\"id\":\"1028\"},{\"id\":\"1043\"}],\"sizing_mode\":\"scale_width\",\"title\":{\"id\":\"1031\"},\"toolbar\":{\"id\":\"1022\"},\"x_range\":{\"id\":\"1004\"},\"x_scale\":{\"id\":\"1008\"},\"y_range\":{\"id\":\"1006\"},\"y_scale\":{\"id\":\"1010\"}},\"id\":\"1003\",\"subtype\":\"Figure\",\"type\":\"Plot\"},{\"attributes\":{\"data\":{\"x\":[0,1,2,3,4,5,6,7,8,9,10,11,12,13,14,15,16,17,18,19,20,21,22,23,24,25,26,27,28,29,30,31,32,33,34,35,36,37,38,39,40,41,42,43,44,45,46,47,48,49,50,51,52,53,54,55,56,57,58,59,60,61,62,63,64,65,66,67,68,69,70,71,72,73,74,75,76,77,78,79,80,81,82,83,84,85,86,87,88,89,90,91,92,93,94,95,96,97,98,99,100,101,102,103,104,105,106,107,108,109,110,111,112,113,114,115,116,117,118,119,120,121,122,123,124,125,126,127,128,129,130,131,132,133,134,135,136,137,138,139,140,141,142,143,144,145,146,147,148,149,150,151,152,153,154,155,156,157,158,159,160,161,162,163,164,165,166,167,168,169,170,171,172,173,174,175,176,177,178,179,180,181,182,183,184,185,186,187,188,189,190,191,192,193,194,195,196,197,198,199,200,201,202,203,204,205,206,207,208,209,210,211,212,213,214,215,216,217,218,219,220,221,222,223,224,225,226,227,228,229,230,231,232,233,234,235,236,237,238,239,240,241,242,243,244,245,246,247,248,249,250,251,252,253,254,255,256,257,258,259,260,261,262,263,264,265,266,267,268,269,270,271,272,273,274,275,276,277,278,279,280,281,282,283,284,285,286,287,288,289,290,291,292,293,294,295,296,297,298,299,300,301,302,303,304,305,306,307,308,309,310,311,312,313,314,315,316,317,318,319,320,321,322,323,324,325,326,327,328,329,330,331,332,333,334,335,336,337,338,339,340,341,342,343,344,345,346,347,348,349,350,351,352,353,354,355,356,357,358,359,360,361,362,363,364,365,366,367,368,369,370,371,372,373,374,375,376,377,378,379,380,381,382,383,384,385,386,387,388,389,390,391,392,393,394,395,396,397,398,399,400,401,402,403,404,405,406,407,408,409,410,411,412,413,414,415,416,417,418,419,420,421,422,423,424,425,426,427,428,429,430,431,432,433,434,435,436,437,438,439,440,441,442,443,444,445,446,447,448,449,450,451,452,453,454,455,456,457,458,459,460,461,462,463,464,465,466,467,468,469,470,471,472,473,474,475,476,477,478,479,480,481,482,483,484,485,486,487,488,489,490,491,492,493,494,495,496,497,498,499],\"y\":[0,1,2,3,4,5,6,7,8,9,10,11,12,13,14,15,16,17,18,19,20,21,22,23,24,25,26,27,28,29,30,31,32,33,34,35,36,37,38,39,40,41,42,43,44,45,46,47,48,49,50,51,52,53,54,55,56,57,58,59,60,61,62,63,64,65,66,67,68,69,70,71,72,73,74,75,76,77,78,79,80,81,82,83,84,85,86,87,88,89,90,91,92,93,94,95,96,97,98,99,100,101,102,103,104,105,106,107,108,109,110,111,112,113,114,115,116,117,118,119,120,121,122,123,124,125,126,127,128,129,130,131,132,133,134,135,136,137,138,139,140,141,142,143,144,145,146,147,148,149,150,151,152,153,154,155,156,157,158,159,160,161,162,163,164,165,166,167,168,169,170,171,172,173,174,175,176,177,178,179,180,181,182,183,184,185,186,187,188,189,190,191,192,193,194,195,196,197,198,199,200,201,202,203,204,205,206,207,208,209,210,211,212,213,214,215,216,217,218,219,220,221,222,223,224,225,226,227,228,229,230,231,232,233,234,235,236,237,238,239,240,241,242,243,244,245,246,247,248,249,250,251,252,253,254,255,256,257,258,259,260,261,262,263,264,265,266,267,268,269,270,271,272,273,274,275,276,277,278,279,280,281,282,283,284,285,286,287,288,289,290,291,292,293,294,295,296,297,298,299,300,301,302,303,304,305,306,307,308,309,310,311,312,313,314,315,316,317,318,319,320,321,322,323,324,325,326,327,328,329,330,331,332,333,334,335,336,337,338,339,340,341,342,343,344,345,346,347,348,349,350,351,352,353,354,355,356,357,358,359,360,361,362,363,364,365,366,367,368,369,370,371,372,373,374,375,376,377,378,379,380,381,382,383,384,385,386,387,388,389,390,391,392,393,394,395,396,397,398,399,400,401,402,403,404,405,406,407,408,409,410,411,412,413,414,415,416,417,418,419,420,421,422,423,424,425,426,427,428,429,430,431,432,433,434,435,436,437,438,439,440,441,442,443,444,445,446,447,448,449,450,451,452,453,454,455,456,457,458,459,460,461,462,463,464,465,466,467,468,469,470,471,472,473,474,475,476,477,478,479,480,481,482,483,484,485,486,487,488,489,490,491,492,493,494,495,496,497,498,499]},\"selected\":{\"id\":\"1036\"},\"selection_policy\":{\"id\":\"1037\"}},\"id\":\"1001\",\"type\":\"ColumnDataSource\"},{\"attributes\":{\"data_source\":{\"id\":\"1002\"},\"glyph\":{\"id\":\"1041\"},\"hover_glyph\":null,\"muted_glyph\":null,\"nonselection_glyph\":{\"id\":\"1042\"},\"selection_glyph\":null,\"view\":{\"id\":\"1044\"}},\"id\":\"1043\",\"type\":\"GlyphRenderer\"},{\"attributes\":{},\"id\":\"1036\",\"type\":\"Selection\"},{\"attributes\":{},\"id\":\"1037\",\"type\":\"UnionRenderers\"},{\"attributes\":{},\"id\":\"1033\",\"type\":\"BasicTickFormatter\"},{\"attributes\":{\"line_alpha\":0.1,\"line_color\":\"blue\",\"line_width\":3,\"x\":{\"field\":\"x\"},\"y\":{\"field\":\"y\"}},\"id\":\"1027\",\"type\":\"Line\"},{\"attributes\":{\"axis\":{\"id\":\"1016\"},\"dimension\":1,\"ticker\":null},\"id\":\"1019\",\"type\":\"Grid\"},{\"attributes\":{\"end\":10.0,\"format\":\"0[.]00\",\"js_property_callbacks\":{\"change:value\":[{\"id\":\"1056\"}]},\"show_value\":false,\"start\":1.0,\"step\":0.1,\"title\":\"Relative Speed of Quantum Computer\",\"value\":7.5},\"id\":\"1057\",\"type\":\"Slider\"},{\"attributes\":{},\"id\":\"1017\",\"type\":\"BasicTicker\"},{\"attributes\":{\"axis_label\":\"Time Taken to Find Solution\",\"formatter\":{\"id\":\"1035\"},\"ticker\":{\"id\":\"1017\"}},\"id\":\"1016\",\"type\":\"LinearAxis\"},{\"attributes\":{\"line_alpha\":0.6,\"line_color\":\"red\",\"line_width\":3,\"x\":{\"field\":\"x\"},\"y\":{\"field\":\"y\"}},\"id\":\"1041\",\"type\":\"Line\"},{\"attributes\":{\"end\":500},\"id\":\"1004\",\"type\":\"Range1d\"},{\"attributes\":{},\"id\":\"1010\",\"type\":\"LinearScale\"},{\"attributes\":{\"label\":{\"value\":\"Quantum Search O(\\u221aN)\"},\"renderers\":[{\"id\":\"1043\"}]},\"id\":\"1055\",\"type\":\"LegendItem\"},{\"attributes\":{\"data_source\":{\"id\":\"1001\"},\"glyph\":{\"id\":\"1026\"},\"hover_glyph\":null,\"muted_glyph\":null,\"nonselection_glyph\":{\"id\":\"1027\"},\"selection_glyph\":null,\"view\":{\"id\":\"1029\"}},\"id\":\"1028\",\"type\":\"GlyphRenderer\"},{\"attributes\":{\"axis_label\":\"Size of Problem\",\"formatter\":{\"id\":\"1033\"},\"ticker\":{\"id\":\"1013\"}},\"id\":\"1012\",\"type\":\"LinearAxis\"},{\"attributes\":{\"line_alpha\":0.1,\"line_color\":\"red\",\"line_width\":3,\"x\":{\"field\":\"x\"},\"y\":{\"field\":\"y\"}},\"id\":\"1042\",\"type\":\"Line\"},{\"attributes\":{},\"id\":\"1021\",\"type\":\"SaveTool\"},{\"attributes\":{\"children\":[{\"id\":\"1003\"},{\"id\":\"1057\"}]},\"id\":\"1058\",\"type\":\"Column\"},{\"attributes\":{},\"id\":\"1035\",\"type\":\"BasicTickFormatter\"},{\"attributes\":{\"source\":{\"id\":\"1002\"}},\"id\":\"1044\",\"type\":\"CDSView\"},{\"attributes\":{\"args\":{\"source\":{\"id\":\"1002\"}},\"code\":\"\\n        var data = source.data;\\n        var f = (10-cb_obj.value)*2 + 3\\n        var x = data['x']\\n        var y = data['y']\\n        for (var i = 0; i &lt; x.length; i++) {\\n            y[i] = f*Math.sqrt(x[i])\\n        }\\n        source.change.emit();\\n    \"},\"id\":\"1056\",\"type\":\"CustomJS\"}],\"root_ids\":[\"1058\"]},\"title\":\"Bokeh Application\",\"version\":\"2.2.3\"}}\n",
       "        </script>\n",
       "        <script type=\"text/javascript\">\n",
       "          (function() {\n",
       "            var fn = function() {\n",
       "              Bokeh.safely(function() {\n",
       "                (function(root) {\n",
       "                  function embed_document(root) {\n",
       "                    \n",
       "                  var docs_json = document.getElementById('1149').textContent;\n",
       "                  var render_items = [{\"docid\":\"73056042-ccbb-4500-a460-8d036b1d9cc4\",\"root_ids\":[\"1058\"],\"roots\":{\"1058\":\"fef134cb-01c7-4643-9117-be51f1664df4\"}}];\n",
       "                  root.Bokeh.embed.embed_items(docs_json, render_items);\n",
       "                \n",
       "                  }\n",
       "                  if (root.Bokeh !== undefined) {\n",
       "                    embed_document(root);\n",
       "                  } else {\n",
       "                    var attempts = 0;\n",
       "                    var timer = setInterval(function(root) {\n",
       "                      if (root.Bokeh !== undefined) {\n",
       "                        clearInterval(timer);\n",
       "                        embed_document(root);\n",
       "                      } else {\n",
       "                        attempts++;\n",
       "                        if (attempts > 100) {\n",
       "                          clearInterval(timer);\n",
       "                          console.log(\"Bokeh: ERROR: Unable to run BokehJS code because BokehJS library is missing\");\n",
       "                        }\n",
       "                      }\n",
       "                    }, 10, root)\n",
       "                  }\n",
       "                })(window);\n",
       "              });\n",
       "            };\n",
       "            if (document.readyState != \"loading\") fn();\n",
       "            else document.addEventListener(\"DOMContentLoaded\", fn);\n",
       "          })();\n",
       "        </script>\n",
       "    \n",
       "  </body>\n",
       "  \n",
       "</html><figcaption>\n",
       "異なったプラットフォーム間でアルゴリズムのパフォーマンスを比較することは困難です。\n",
       "O記法を通してわかることは、量子コンピューターと古典コンピューター間のスピードの違いがあるけれども、\n",
       "十分に大きな問題の場合、量子探索アルゴリズムはいつも古典コンピューターで探索した結果よりも優れているということです。\n",
       "</figcaption></figure>"
      ],
      "text/plain": [
       "<IPython.core.display.HTML object>"
      ]
     },
     "execution_count": 3,
     "metadata": {},
     "output_type": "execute_result"
    }
   ],
   "source": [
    "# このコードは相互作用するグラフを作るものです。\n",
    "\n",
    "from bokeh.layouts import column\n",
    "from bokeh.models import ColumnDataSource, CustomJS, Slider\n",
    "from bokeh.plotting import figure, show\n",
    "from bokeh.embed import file_html\n",
    "from bokeh.resources import CDN\n",
    "import numpy as np\n",
    "import IPython\n",
    "\n",
    "x = np.arange(0,500)\n",
    "y_linear = x\n",
    "y_sqrt = 7.5*np.sqrt(x)\n",
    "\n",
    "linear_source = ColumnDataSource(data=dict(x=x, y=y_linear))\n",
    "sqrt_source = ColumnDataSource(data=dict(x=x, y=y_sqrt))\n",
    "\n",
    "plot = figure(\n",
    "              plot_height=400, \n",
    "              plot_width=800,\n",
    "              sizing_mode=\"scale_width\",\n",
    "              tools=\"reset,save\",\n",
    "              x_range=[0, 500], y_range=[0, 500], \n",
    "              x_axis_label=\"Size of Problem\",\n",
    "              y_axis_label=\"Time Taken to Find Solution\")\n",
    "plot.line('x', 'y', source=linear_source, line_width=3, line_alpha=0.6, color=\"blue\", legend_label=\"Classical Search O(N)\")\n",
    "plot.line('x', 'y', source=sqrt_source, line_width=3, line_alpha=0.6, color=\"red\", legend_label=\"Quantum Search O(√N)\")\n",
    "plot.legend.location = \"top_left\"\n",
    "\n",
    "callback = CustomJS(args=dict(source=sqrt_source), code=\"\"\"\n",
    "        var data = source.data;\n",
    "        var f = (10-cb_obj.value)*2 + 3\n",
    "        var x = data['x']\n",
    "        var y = data['y']\n",
    "        for (var i = 0; i < x.length; i++) {\n",
    "            y[i] = f*Math.sqrt(x[i])\n",
    "        }\n",
    "        source.change.emit();\n",
    "    \"\"\")\n",
    "\n",
    "speed_slider = Slider(title=\"Relative Speed of Quantum Computer\", value=7.5, start=1.0, end=10.0, step=0.1, show_value=False)\n",
    "speed_slider.js_on_change('value', callback)\n",
    "\n",
    "layout = column(plot, speed_slider)\n",
    "\n",
    "caption = \"\"\"\n",
    "異なったプラットフォーム間でアルゴリズムのパフォーマンスを比較することは困難です。\n",
    "O記法を通してわかることは、量子コンピューターと古典コンピューター間のスピードの違いがあるけれども、\n",
    "十分に大きな問題の場合、量子探索アルゴリズムはいつも古典コンピューターで探索した結果よりも優れているということです。\n",
    "\"\"\"\n",
    "\n",
    "html_repr = file_html(layout, CDN)\n",
    "html_fig = \"<figure>{0}<figcaption>{1}</figcaption></figure>\".format(html_repr, caption)\n",
    "IPython.display.HTML(html_fig)"
   ]
  },
  {
   "cell_type": "markdown",
   "metadata": {},
   "source": [
    "目覚ましい速度の向上は、素因数分解の問題を解く中心となる周期関数を分析するショアのアルゴリズムでも得られます。これにより、$O(𝑛^3)$の計算量で$𝑛$桁の数字を因数分解する量子ソリューションを得ることができます。これは、$O\\left(e^{n^{1/3}}\\right)$よりも悪い計算量を持つデジタルコンピューターと比べて超多項式の高速化となります。\n",
    "\n",
    "量子アルゴリズムに対する別のアプローチは、量子問題を解決するために、量子コンピューターを使うことです。次のチャプターでわかるように、量子状態を表現するには、量子ビットの数に応じて指数関数的にスケールする情報が必要です。しかし、量子コンピューターでは、同じ仕事をするために、$n$量子ビット必要なだけです。このように、量子状態を表現したり、操作したりする自然の特性があるため、分子や素粒子のような関心のある量子のシステムを研究し、よりよく理解することができるようになります。\n",
    "\n",
    "したがって、さまざまな産業で量子アルゴリズムを適用し適応することで、ビジネスや科学の分野で破壊的なユースケースを可能にすると期待されています。これには、創薬、機械学習、材料発見、オプション価格設定、タンパク質の折りたたみ構造やサプライチェーンにおけるブレークスルーが含まれます。$^{3}$特に有望なのは、古典アルゴリズムが固有のスケーリング限界に直面している問題であり、大きな古典的なデータセットをロードする必要がない問題です。量子優位性のために、与えられた問題の解答は量子力学がすべてのパスを通らなくても解が得られるような構造を持つ指数関数的に多くのエンタングルした自由度に強く依存する必要があります。しかし、量子コンピューターにとって「簡単な」問題(多項式時間で解ける問題)と他の複雑性理論クラスとの正確な関係は、まだ未解決な問題であることに留意してください。$^{4}$\n",
    "\n",
    "これは、量子アルゴリズムが特有の方法で計算を実行する方法のほんの一部です。これらのアプローチの詳細は後の章で扱います。しかし、まず複数量子ビットを学び、量子ゲートの完全なセットを理解することに時間を費やす必要があります。これについて、次の章で学びます。"
   ]
  },
  {
   "cell_type": "markdown",
   "metadata": {},
   "source": [
    "## 6. 参考文献 <a id='references'></a>\n",
    "\n",
    "1. https://lists.gforge.inria.fr/pipermail/cado-nfs-discuss/2020-February/001166.html\n",
    "2. Albert Einstein, Leopold Infeld (1938). The Evolution of Physics: The Growth of Ideas from Early Concepts to Relativity and Quanta. Cambridge University Press.\n",
    "3. https://www.ibm.com/thought-leadership/institute-business-value/report/quantumstrategy\n",
    "4. https://www.cs.virginia.edu/~robins/The_Limits_of_Quantum_Computers.pdf\n",
    "5. Image: Cmglee / CC BY-SA (https://creativecommons.org/licenses/by-sa/4.0)"
   ]
  }
 ],
 "metadata": {
  "kernelspec": {
   "display_name": "Python 3",
   "language": "python",
   "name": "python3"
  },
  "language_info": {
   "codemirror_mode": {
    "name": "ipython",
    "version": 3
   },
   "file_extension": ".py",
   "mimetype": "text/x-python",
   "name": "python",
   "nbconvert_exporter": "python",
   "pygments_lexer": "ipython3",
   "version": "3.8.5"
  },
  "widgets": {
   "application/vnd.jupyter.widget-state+json": {
    "state": {},
    "version_major": 2,
    "version_minor": 0
   }
  }
 },
 "nbformat": 4,
 "nbformat_minor": 4
}