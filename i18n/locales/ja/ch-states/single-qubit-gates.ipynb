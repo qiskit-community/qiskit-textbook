{
 "cells": [
  {
   "cell_type": "markdown",
   "metadata": {
    "tags": [
     "remove_cell"
    ]
   },
   "source": [
    "# 単一量子ビットゲート"
   ]
  },
  {
   "cell_type": "markdown",
   "metadata": {},
   "source": [
    "前の章では、量子ビットが存在する可能性のあるすべての状態を調べました。量子ビットは2次元ベクトルで表すことができ、その状態は次の形式に制限されていることがわかりました。\n",
    "\n",
    "$$ |q\\rangle = \\cos{(\\tfrac{\\theta}{2})}|0\\rangle + e^{i\\phi}\\sin{(\\tfrac{\\theta}{2})}|1\\rangle $$\n",
    "\n",
    "$\\theta$および$\\phi$は実数です。この章では、これらの状態間で量子ビットを変更する操作である _ゲート_ について説明します。ゲートの数とゲート間の類似性のため、この章は単調になる危険性があります。 これを回避するため、章全体の適切な場所に重要な考え方を紹介するいくつかの余談を含めました。\n",
    "\n",
    "## 目次    \n",
    "\n",
    "1. [パウリゲート](#pauli)    \n",
    "    1.1 [Xゲート](#xgate)    \n",
    "    1.2 [Y、Zゲート](#ynzgatez)    \n",
    "2. [余談: X、Y、Z基底](#xyzbases)    \n",
    "3. [アダマールゲート](#hgate)    \n",
    "4. [余談: 異なる基底での測定](#measuring)    \n",
    "5. [Pゲート](#rzgate)    \n",
    "6. [I、S、Tゲート](#istgates)    \n",
    "    6.1 [Iゲート](#igate)    \n",
    "    6.2 [Sゲート](#sgate)    \n",
    "    6.3 [Tゲート](#tgate)    \n",
    "7. [一般的なU<sub>3</sub>ゲート](#generalU3)    \n",
    "\n",
    "_原子で計算をおこなう_ では、いくつかのゲートに出会い、それらを使用して古典的な計算を実行しました。 量子回路の重要な特徴は、量子ビットの初期化と測定の間では、操作が *_いつも_* 可逆であることです。 その結果、量子回路で使用できるすべてのゲートも可逆です。 これらの可逆ゲートは、行列として表すか、ブロッホ球の周りの回転と考えることができます。"
   ]
  },
  {
   "cell_type": "code",
   "execution_count": 1,
   "metadata": {},
   "outputs": [],
   "source": [
    "from qiskit import QuantumCircuit, assemble, Aer\n",
    "from math import pi, sqrt\n",
    "from qiskit.visualization import plot_bloch_multivector, plot_histogram\n",
    "sim = Aer.get_backend('aer_simulator')"
   ]
  },
  {
   "cell_type": "markdown",
   "metadata": {},
   "source": [
    "## 1. パウリゲート <a id=\"pauli\"></a>\n",
    "\n",
    "線形代数の章のパウリ行列に精通している必要があります。 ここで紹介する数学のいずれかが初めての場合は、線形代数の章を使用して、理解してもらう必要があります。 この章ではパウリ行列が非常に一般的に使用されるいくつかの量子ゲートを表すことができることがわかります。\n",
    "\n",
    "### 1.1 Xゲート <a id=\"xgate\"></a>\n",
    "\n",
    "Xゲートは、パウリ-X行列で表されます。\n",
    "\n",
    "$$ X = \\begin{bmatrix} 0 & 1 \\\\ 1 & 0 \\end{bmatrix} = |0\\rangle\\langle1| + |1\\rangle\\langle0| $$\n",
    "\n",
    "ゲートが量子ビットに与える影響を確認するには、量子ビットの状態ベクトルにゲートを掛けます。 Xゲートが状態$|0\\rangle$と$|1\\rangle$の振幅を切り替えることがわかります。\n",
    "\n",
    "$$ X|0\\rangle = \\begin{bmatrix} 0 & 1 \\\\ 1 & 0 \\end{bmatrix}\\begin{bmatrix} 1 \\\\ 0 \\end{bmatrix} = \\begin{bmatrix} 0 \\\\ 1 \\end{bmatrix} = |1\\rangle$$\n"
   ]
  },
  {
   "cell_type": "markdown",
   "metadata": {},
   "source": [
    "<!--- Beware editing things inside <details> tags as it easily breaks when the notebook is converted to html --->\n",
    "<details>\n",
    " <summary>備忘: ベクトルと行列の乗算 (ここをクリックして展開してください。)</summary>\n",
    "  <p>行列の乗算は、前章で見た内積の一般化です。 （上記のように）ベクトルに行列を乗算する特定のケースでは、常にベクトルを返します。\n",
    "  $$ M|v\\rangle  = \\begin{bmatrix}a & b \\\\ c & d \\\\\\end{bmatrix}\\begin{bmatrix}v_0 \\\\ v_1 \\\\\\end{bmatrix}\n",
    "                = \\begin{bmatrix}a\\cdot v_0 + b \\cdot v_1 \\\\ c \\cdot v_0 + d \\cdot v_1\\end{bmatrix} $$\n",
    "  量子コンピューティングでは、基底ベクトルで行列を書くことができます。\n",
    "  $$X = |0\\rangle\\langle1| + |1\\rangle\\langle0|$$\n",
    "  これは、行列を使用するよりも明確な場合があります。さまざまな乗算の結果を確認できるためです。\n",
    "  $$\n",
    "      \\begin{aligned}\n",
    "      X|1\\rangle & = (|0\\rangle\\langle1| + |1\\rangle\\langle0|)|1\\rangle \\\\\n",
    "                 & = |0\\rangle\\langle1|1\\rangle + |1\\rangle\\langle0|1\\rangle \\\\\n",
    "                 & = |0\\rangle \\times 1 + |1\\rangle \\times 0 \\\\\n",
    "                 & = |0\\rangle\n",
    "      \\end{aligned}\n",
    "  $$\n",
    "  実際、次のようにケットとブラが乗算されているのを見てみます。\n",
    "  $$ |a\\rangle\\langle b| $$\n",
    "  これは<i>外積</i>と呼ばれ、次のルールに従います。\n",
    "  $$\n",
    "      |a\\rangle\\langle b| = \n",
    "      \\begin{bmatrix}\n",
    "              a_0 b_0 & a_0 b_1 & \\dots  & a_0 b_n\\\\ \n",
    "              a_1 b_0 & \\ddots  &        & \\vdots \\\\\n",
    "              \\vdots  &         & \\ddots & \\vdots \\\\\n",
    "              a_n b_0 & \\dots   & \\dots  & a_n b_n \\\\\n",
    "      \\end{bmatrix}\n",
    "  $$\n",
    "  これが実際にX行列に結果として表示されることがわかります。\n",
    "  $$\n",
    "      |0\\rangle\\langle1| + |1\\rangle\\langle0| = \n",
    "      \\begin{bmatrix}0 & 1 \\\\ 0 & 0 \\\\\\end{bmatrix} +\n",
    "      \\begin{bmatrix}0 & 0 \\\\ 1 & 0 \\\\\\end{bmatrix} = \n",
    "      \\begin{bmatrix}0 & 1 \\\\ 1 & 0 \\\\\\end{bmatrix} = X\n",
    "  $$\n",
    "</details>"
   ]
  },
  {
   "cell_type": "markdown",
   "metadata": {},
   "source": [
    "Qiskitでは、これを検証するための短い回路を作成できます。"
   ]
  },
  {
   "cell_type": "code",
   "execution_count": 2,
   "metadata": {},
   "outputs": [
    {
     "data": {
      "image/svg+xml": "<?xml version=\"1.0\" encoding=\"utf-8\" standalone=\"no\"?>\n<!DOCTYPE svg PUBLIC \"-//W3C//DTD SVG 1.1//EN\"\n  \"http://www.w3.org/Graphics/SVG/1.1/DTD/svg11.dtd\">\n<svg xmlns:xlink=\"http://www.w3.org/1999/xlink\" width=\"115.212135pt\" height=\"78.031399pt\" viewBox=\"0 0 115.212135 78.031399\" xmlns=\"http://www.w3.org/2000/svg\" version=\"1.1\">\n <metadata>\n  <rdf:RDF xmlns:dc=\"http://purl.org/dc/elements/1.1/\" xmlns:cc=\"http://creativecommons.org/ns#\" xmlns:rdf=\"http://www.w3.org/1999/02/22-rdf-syntax-ns#\">\n   <cc:Work>\n    <dc:type rdf:resource=\"http://purl.org/dc/dcmitype/StillImage\"/>\n    <dc:date>2022-02-17T03:10:43.313684</dc:date>\n    <dc:format>image/svg+xml</dc:format>\n    <dc:creator>\n     <cc:Agent>\n      <dc:title>Matplotlib v3.5.1, https://matplotlib.org/</dc:title>\n     </cc:Agent>\n    </dc:creator>\n   </cc:Work>\n  </rdf:RDF>\n </metadata>\n <defs>\n  <style type=\"text/css\">*{stroke-linejoin: round; stroke-linecap: butt}</style>\n </defs>\n <g id=\"figure_1\">\n  <g id=\"patch_1\">\n   <path d=\"M 0 78.031399 \nL 115.212135 78.031399 \nL 115.212135 0 \nL 0 0 \nz\n\" style=\"fill: #ffffff\"/>\n  </g>\n  <g id=\"axes_1\">\n   <g id=\"line2d_1\">\n    <path d=\"M 53.470935 43.5608 \nL 103.467035 43.5608 \n\" clip-path=\"url(#p14df2f700c)\" style=\"fill: none; stroke: #000000; stroke-width: 2; stroke-linecap: square\"/>\n   </g>\n   <g id=\"patch_2\">\n    <path d=\"M 63.2429 58.332374 \nL 92.78605 58.332374 \nL 92.78605 28.789225 \nL 63.2429 28.789225 \nz\n\" clip-path=\"url(#p14df2f700c)\" style=\"fill: #05bab6; stroke: #05bab6; stroke-width: 1.5; stroke-linejoin: miter\"/>\n   </g>\n   <g id=\"text_1\">\n    <g clip-path=\"url(#p14df2f700c)\">\n     <!-- ${q}$ -->\n     <g transform=\"translate(33.980736 48.011776)scale(0.1625 -0.1625)\">\n      <defs>\n       <path id=\"DejaVuSans-Oblique-71\" d=\"M 2669 525 \nQ 2438 222 2123 65 \nQ 1809 -91 1428 -91 \nQ 897 -91 595 267 \nQ 294 625 294 1253 \nQ 294 1759 480 2231 \nQ 666 2703 1013 3078 \nQ 1238 3322 1530 3453 \nQ 1822 3584 2144 3584 \nQ 2531 3584 2781 3431 \nQ 3031 3278 3144 2969 \nL 3244 3494 \nL 3822 3494 \nL 2888 -1319 \nL 2309 -1319 \nL 2669 525 \nz\nM 891 1338 \nQ 891 875 1084 633 \nQ 1278 391 1644 391 \nQ 2188 391 2572 911 \nQ 2956 1431 2956 2175 \nQ 2956 2625 2757 2864 \nQ 2559 3103 2188 3103 \nQ 1916 3103 1684 2976 \nQ 1453 2850 1281 2606 \nQ 1100 2350 995 2006 \nQ 891 1663 891 1338 \nz\n\" transform=\"scale(0.015625)\"/>\n      </defs>\n      <use xlink:href=\"#DejaVuSans-Oblique-71\"/>\n     </g>\n    </g>\n   </g>\n   <g id=\"text_2\">\n    <g clip-path=\"url(#p14df2f700c)\">\n     <!-- X -->\n     <g transform=\"translate(73.561975 47.147987)scale(0.13 -0.13)\">\n      <defs>\n       <path id=\"DejaVuSans-58\" d=\"M 403 4666 \nL 1081 4666 \nL 2241 2931 \nL 3406 4666 \nL 4084 4666 \nL 2584 2425 \nL 4184 0 \nL 3506 0 \nL 2194 1984 \nL 872 0 \nL 191 0 \nL 1856 2491 \nL 403 4666 \nz\n\" transform=\"scale(0.015625)\"/>\n      </defs>\n      <use xlink:href=\"#DejaVuSans-58\"/>\n     </g>\n    </g>\n   </g>\n  </g>\n </g>\n <defs>\n  <clipPath id=\"p14df2f700c\">\n   <rect x=\"7.2\" y=\"7.2\" width=\"100.812135\" height=\"63.631399\"/>\n  </clipPath>\n </defs>\n</svg>\n",
      "text/plain": [
       "<Figure size 133.526x84.28 with 1 Axes>"
      ]
     },
     "execution_count": 2,
     "metadata": {},
     "output_type": "execute_result"
    }
   ],
   "source": [
    "# |0> 量子ビットに対してゲート作用させてみましょう。\n",
    "qc = QuantumCircuit(1)\n",
    "qc.x(0)\n",
    "qc.draw()"
   ]
  },
  {
   "cell_type": "markdown",
   "metadata": {},
   "source": [
    "上記の結果を見てみましょう。 **注意** ここでは、ブロッホベクトルの代わりに量子ビットの状態ベクトルを取る `plot_bloch_multivector()`を使用しています。"
   ]
  },
  {
   "cell_type": "code",
   "execution_count": 3,
   "metadata": {},
   "outputs": [
    {
     "data": {
      "image/png": "[encoded data removed]",
      "text/plain": [
       "<Figure size 288x288 with 1 Axes>"
      ]
     },
     "execution_count": 3,
     "metadata": {},
     "output_type": "execute_result"
    }
   ],
   "source": [
    "# 結果を見てみましょう\n",
    "qc.save_statevector()\n",
    "qobj = assemble(qc)\n",
    "state = sim.run(qobj).result().get_statevector()\n",
    "plot_bloch_multivector(state)"
   ]
  },
  {
   "cell_type": "markdown",
   "metadata": {},
   "source": [
    "確かに、量子ビットの状態は予想どおり$|1\\rangle$です。 これは、ブロッホ球の *x軸* を中心とした$\\pi$ラジアンによる回転と考えることができます。 Xゲートは、古典回路との類似性からNOTゲートとも呼ばれます。\n",
    "\n",
    "### 1.2 Y、Zゲート  <a id=\"ynzgatez\"></a>\n",
    "\n",
    "Xゲートと同様に、YおよびZパウリ行列も量子回路のYおよびZゲートとして機能します。\n",
    "\n",
    "$$ Y = \\begin{bmatrix} 0 & -i \\\\ i & 0 \\end{bmatrix} \\quad\\quad\\quad\\quad Z = \\begin{bmatrix} 1 & 0 \\\\ 0 & -1 \\end{bmatrix} $$\n",
    "\n",
    "$$ Y = -i|0\\rangle\\langle1| + i|1\\rangle\\langle0| \\quad\\quad Z = |0\\rangle\\langle0| - |1\\rangle\\langle1| $$\n",
    "\n",
    "そして当然のことながら、それらはそれぞれブロッホ球のy軸とz軸を中心に$\\pi$だけ回転する作用をうみます。\n",
    "\n",
    "以下は、ブロッホ球で量子ビットの状態を表示するウィジェットです。いずれかのボタンを押すと、量子ビットにゲートが実行されます。\n"
   ]
  },
  {
   "cell_type": "code",
   "execution_count": 4,
   "metadata": {},
   "outputs": [
    {
     "data": {
      "application/vnd.jupyter.widget-view+json": {
       "model_id": "3e1af03e357b418387e00e6a673db4b0",
       "version_major": 2,
       "version_minor": 0
      },
      "text/plain": [
       "HBox(children=(Button(description='X', layout=Layout(height='3em', width='3em'), style=ButtonStyle()), Button(…"
      ]
     },
     "metadata": {},
     "output_type": "display_data"
    },
    {
     "data": {
      "application/vnd.jupyter.widget-view+json": {
       "model_id": "b87402c1a9b540089639b2e590be2cd2",
       "version_major": 2,
       "version_minor": 0
      },
      "text/plain": [
       "Image(value=b'\\x89PNG\\r\\n\\x1a\\n\\x00\\x00\\x00\\rIHDR\\x00\\x00\\x01 \\x00\\x00\\x01 \\x08\\x06\\x00\\x00\\x00\\x14\\x83\\xae\\x8…"
      ]
     },
     "metadata": {},
     "output_type": "display_data"
    }
   ],
   "source": [
    "# このセルのコードを実行してウィジェットを表示します。\n",
    "from qiskit_textbook.widgets import gate_demo\n",
    "gate_demo(gates='pauli')"
   ]
  },
  {
   "cell_type": "markdown",
   "metadata": {},
   "source": [
    "Qiskitでは、次の方法でYゲートとZゲートを回路に適用できます。"
   ]
  },
  {
   "cell_type": "code",
   "execution_count": 5,
   "metadata": {},
   "outputs": [
    {
     "data": {
      "image/png": "[encoded data removed]",
      "text/plain": [
       "<Figure size 314.126x84.28 with 1 Axes>"
      ]
     },
     "execution_count": 5,
     "metadata": {},
     "output_type": "execute_result"
    }
   ],
   "source": [
    "qc.y(0) # 量子ビット0にYゲートを適用します。\n",
    "qc.z(0) # 量子ビット0にZゲートを適用します。\n",
    "qc.draw()"
   ]
  },
  {
   "cell_type": "markdown",
   "metadata": {},
   "source": [
    "## 2. 余談: X、Y、Z基底 <a id=\"xyzbases\"></a>"
   ]
  },
  {
   "cell_type": "markdown",
   "metadata": {},
   "source": [
    "<details>\n",
    "  <summary>備忘: 行列の固有ベクトル (ここをクリックして展開してください。)</summary>\n",
    "ベクトルと行列を乗算すると、ベクトルが生成されることを確認しました。\n",
    "     \n",
    "$$\n",
    "    M|v\\rangle  = |v'\\rangle \\leftarrow \\text{新しいベクトル}\n",
    "    $$\n",
    "適切なベクトルと行列を選択した場合、この行列乗算がスカラーによる乗算を実行するのと同じである場合を見つけることができます。\n",
    "      \n",
    "$$\n",
    "    M|v\\rangle  = \\lambda|v\\rangle\n",
    "    $$\n",
    "（上記では、$M$は行列で、$\\lambda$はスカラーです）。 行列$M$の場合、この性質を持つベクトルは、$M$の<i>固有ベクトル</i>と呼ばれます。 たとえば、Z行列の固有ベクトルは$|0\\rangle$および$|1\\rangle$の状態です。\n",
    "\n",
    "$$\n",
    "      \\begin{aligned}\n",
    "      Z|0\\rangle & = |0\\rangle \\\\\n",
    "      Z|1\\rangle & = -|1\\rangle\n",
    "      \\end{aligned}\n",
    "      $$\n",
    "私たちは量子ビットの状態を記述するためにベクトルを使用するので、これらのベクトルをしばしば<i>固有状態</i>と呼びます。 固有ベクトルは量子計算で非常に重要であり、それらをしっかりと把握することが重要です。\n",
    "</details>"
   ]
  },
  {
   "cell_type": "markdown",
   "metadata": {},
   "source": [
    "量子ビットが$|0\\rangle$または$|1\\rangle$にあるとき、Zゲートが量子ビットに影響を与えないように見えることもあります。これは、状態$|0\\rangle$および$|1\\rangle$がZゲートの2つの _固有状態_ であるためです。 実際、 _計算基底_ （状態$|0\\rangle$および$|1\\rangle$によって形成される基底）は、Z基底と呼ばれることがよくあります。 Z基底は、私たちが使用できる唯一の基底ではありません。そのほかの基底として一般的なものは、Xゲートの固有状態によって形成されるX基底です。X基底の2つのベクトルを$|+\\rangle$および$|-\\rangle$と呼びます。\n",
    "\n",
    "$$ |+\\rangle = \\tfrac{1}{\\sqrt{2}}(|0\\rangle + |1\\rangle) = \\tfrac{1}{\\sqrt{2}}\\begin{bmatrix} 1 \\\\ 1 \\end{bmatrix}$$\n",
    "\n",
    "$$ |-\\rangle = \\tfrac{1}{\\sqrt{2}}(|0\\rangle - |1\\rangle) = \\tfrac{1}{\\sqrt{2}}\\begin{bmatrix} 1 \\\\ -1 \\end{bmatrix} $$\n",
    "\n",
    "あまり一般的ではないもう1つの基底は、Yゲートの固有状態によって形成されるものです。 それは次のように記述されます。\n",
    "\n",
    "$$ |\\circlearrowleft\\rangle, \\quad |\\circlearrowright\\rangle$$\n",
    "\n",
    "これらの基底を計算する演習を用意しました。 事実、無数の基底があります。 1つの基底を構成するには、2つの直交ベクトルが必要です。\n",
    "\n",
    "### 練習問題\n",
    "1. $|+\\rangle$および$|-\\rangle$が実際にXゲートの固有状態であることを確認してください。\n",
    "2. 上の状態は、どのような固有値を持っていますか。\n",
    "3. これらの固有値がブロッホ球に表示されないのはなぜですか？\n",
    "4. Yゲートの固有状態と、ブロッホ球上の座標を見つけてください。\n",
    "\n",
    "パウリゲートのみを使用すると、初期化された量子ビットを$|0\\rangle$または$|1\\rangle$以外の状態に移動することは不可能です。つまり、重ね合わせを行うことはできません。 より興味深い状態を作成するには、より多くのゲートが必要になります！\n",
    "\n",
    "## 3. アダマールゲート  <a id=\"hgate\"></a>\n",
    "\n",
    "アダマールゲート（Hゲート）は以下のような行列です。\n",
    "\n",
    "$$ H = \\tfrac{1}{\\sqrt{2}}\\begin{bmatrix} 1 & 1 \\\\ 1 & -1 \\end{bmatrix} $$\n",
    "\n",
    "これにより、以下の変換が実行されることがわかります。\n",
    "\n",
    "$$ H|0\\rangle = |+\\rangle $$\n",
    "\n",
    "$$ H|1\\rangle = |-\\rangle $$\n",
    "\n",
    "この変換は、ブロッホベクトル `[1,0,1]`（x軸とz軸の間の線）を中心とする回転、またはXとZの基底間の量子ビットの状態の変換と考えることができます。\n",
    "\n",
    "以下のウィジェットを使用して、これらのゲートを体感してみてください。\n"
   ]
  },
  {
   "cell_type": "code",
   "execution_count": 6,
   "metadata": {},
   "outputs": [
    {
     "data": {
      "application/vnd.jupyter.widget-view+json": {
       "model_id": "18f336c4f60e4bb694239edd9e548522",
       "version_major": 2,
       "version_minor": 0
      },
      "text/plain": [
       "HBox(children=(Button(description='X', layout=Layout(height='3em', width='3em'), style=ButtonStyle()), Button(…"
      ]
     },
     "metadata": {},
     "output_type": "display_data"
    },
    {
     "data": {
      "application/vnd.jupyter.widget-view+json": {
       "model_id": "dabae30e029d4827a653b2f8386382b4",
       "version_major": 2,
       "version_minor": 0
      },
      "text/plain": [
       "Image(value=b'\\x89PNG\\r\\n\\x1a\\n\\x00\\x00\\x00\\rIHDR\\x00\\x00\\x01 \\x00\\x00\\x01 \\x08\\x06\\x00\\x00\\x00\\x14\\x83\\xae\\x8…"
      ]
     },
     "metadata": {},
     "output_type": "display_data"
    }
   ],
   "source": [
    "# このセルのコードを実行してウィジェットを表示します。\n",
    "from qiskit_textbook.widgets import gate_demo\n",
    "gate_demo(gates='pauli+h')"
   ]
  },
  {
   "cell_type": "markdown",
   "metadata": {},
   "source": [
    "### 練習問題\n",
    "1. Hゲートをベクトル$|0\\rangle$、$|1\\rangle$、$|+\\rangle$および$|-\\rangle$の外積として記述してください。\n",
    "2. ゲートを連ねたHZHを任意の量子ビット状態に適用することは、Xゲートを適用することと同等であることを示してください。\n",
    "3. Yゲート（グローバルフェーズを無視）と同等のX、Z、Hゲートの組み合わせを見つけてください。\n",
    "\n",
    "## 4. 余談: 異なる基底での測定  <a id=\"measuring\"></a>\n",
    "\n",
    "Z軸は本質的に特別なものではなく、他にも無限に多くの基底があることがわかりました。 測定と同様に、常に計算ベース（Z基底）で測定する必要はなく、任意の基底で量子ビットを測定できます。\n",
    "\n",
    "例として、X基底で測定してみましょう。 $|+\\rangle$または$|-\\rangle$を測定する確率を計算できます。\n",
    "\n",
    "$$ p(|+\\rangle) = |\\langle+|q\\rangle|^2, \\quad p(|-\\rangle) = |\\langle-|q\\rangle|^2 $$\n",
    "\n",
    "そして測定後、これらの2つの状態のいずれかに量子ビットがあることが保証されます。 QiskitはZ基底でのみ測定できるため、X基底で測定するにはアダマールゲートを使用して独自に作成する必要があります。\n"
   ]
  },
  {
   "cell_type": "code",
   "execution_count": 7,
   "metadata": {},
   "outputs": [
    {
     "data": {
      "image/png": "[encoded data removed]",
      "text/plain": [
       "<Figure size 314.126x144.48 with 1 Axes>"
      ]
     },
     "execution_count": 7,
     "metadata": {},
     "output_type": "execute_result"
    }
   ],
   "source": [
    "# X測定関数を作成します。\n",
    "def x_measurement(qc, qubit, cbit):\n",
    "    \"\"\"Measure 'qubit' in the X-basis, and store the result in 'cbit'\"\"\"\n",
    "    qc.h(qubit)\n",
    "    qc.measure(qubit, cbit)\n",
    "    return qc\n",
    "\n",
    "initial_state = [1/sqrt(2), -1/sqrt(2)]\n",
    "# 量子ビットを初期化して測定します。\n",
    "qc = QuantumCircuit(1,1)\n",
    "qc.initialize(initial_state, 0)\n",
    "x_measurement(qc, 0, 0)  # measure qubit 0 to classical bit 0\n",
    "qc.draw()"
   ]
  },
  {
   "cell_type": "markdown",
   "metadata": {},
   "source": [
    "以前2つのHゲートの間にZゲートを挟むことでXゲートを作成できることを確認しました。\n",
    "\n",
    "$$ X = HZH $$\n",
    "\n",
    "これをZ基底に作用させると、Hゲートは量子ビットをX基底に変換し、ZゲートはX基底にNOTを作用させ、最後のHゲートがZ基底を返します。\n",
    "これは行列を掛け合わせることで確かめられます:\n",
    "$$ HZH=\\frac{1}{\\sqrt{2}}\\begin{bmatrix} 1 &  1\\\\ 1 & -1\\end{bmatrix} \\begin{bmatrix} 1 &  0\\\\ 0 & -1\\end{bmatrix} \\frac{1}{\\sqrt{2}} \\begin{bmatrix} 1 &  1 \\\\ 1 & -1\\end{bmatrix} \n",
    "= \\begin{bmatrix} 0 &  1 \\\\ 1 & 0\\end{bmatrix} = X $$\n",
    "\n",
    "これと同じ論理に従って、測定前にX基底をZ基底へと変換することで、X測定を作りました。\n",
    "\n",
    "この測定処理は処理系に応じて異なった影響を及ぼしうるので（例えば、ある処理系では測定後にはいつも$|0\\rangle$を返し、一方で他の処理系では測定された状態のままにする）、処理後の量子ビットは未定義であり、もう一度使うためにはリセットする必要があります。\n",
    "\n",
    "なぜアダマールゲートによってZ基底での状態をX基底で測定できるのかについて、異なる観点から考えてみましょう。仮にX基底で測定したい量子ビットが（正規化された）状態$a|0\\rangle + b|1\\rangle$になっているとします。これをX基底で測定するには、まずこの状態を$|+\\rangle$と$|-\\rangle$の線形結合で表します。\n",
    "$|0\\rangle = \\frac{|+\\rangle + |-\\rangle}{\\sqrt{2}}$と$|1\\rangle = \\frac{|+\\rangle - |-\\rangle}{\\sqrt{2}}$の関係を使うと、\n",
    "状態は$\\frac{a+b}{\\sqrt{2}}|+\\rangle + \\frac{a-b}{\\sqrt{2}}|-\\rangle$となります。よって、X基底で確率の振幅を観測するには、Z基底で表現された状態ベクトルにアダマール行列を作用させればよいということが分かります。\n",
    "\n",
    "それでは、結果を見てみましょう。\n"
   ]
  },
  {
   "cell_type": "code",
   "execution_count": 8,
   "metadata": {},
   "outputs": [
    {
     "data": {
      "image/png": "[encoded data removed]",
      "text/plain": [
       "<Figure size 504x360 with 1 Axes>"
      ]
     },
     "execution_count": 8,
     "metadata": {},
     "output_type": "execute_result"
    }
   ],
   "source": [
    "qobj = assemble(qc)  # 実行可能なQobjに回路をアセンブルします。\n",
    "counts = sim.run(qobj).result().get_counts()  # シミュレーションを行い、状態ベクトルを返します。\n",
    "plot_histogram(counts)"
   ]
  },
  {
   "cell_type": "markdown",
   "metadata": {},
   "source": [
    "$|-\\rangle$の状態で量子ビットを初期化しましたが、測定後、量子ビットが$|1\\rangle$の状態に飛び移ることがわかります。 セルを再度実行しても、同じ結果が表示されます。というのも状態$|-\\rangle$は、X-測定の標準基底であり、何度測定しても同じ結果となるからです。\n",
    "\n",
    "### 練習問題\n",
    "1.\t$|+\\rangle$状態で量子ビットを初期化する場合、$|-\\rangle$状態でそれを測定する確率はどれくらいですか？\n",
    "2.\tQiskitを使用して、$|+\\rangle$と$|-\\rangle$の状態で$|0\\rangle$量子ビットを測定する確率を表示してください。（**ヒント：** `.get_counts()`および `plot_histogram()`を使用することができます。)\n",
    "3.\tY基底で測定する関数を作成してみてください。\n",
    "\n",
    "さまざまな基底で測定することで、ハイゼンベルクの有名な不確実性原理を見ることができます。 Z基底で状態を測定する確実性があると、X基底で特定の状態を測定する確実性がすべて失われ、その逆も同様です。 よくある誤解は、不確実性は機器の制限によるものであるというものですが、ここでは不確かさが実際に量子ビットの性質の一部であることがわかります。\n",
    "\n",
    "たとえば、量子ビットを$|0\\rangle$状態にした場合、Z基底での測定は$|0\\rangle$であることが確実ですが、X基底での測定は完全にランダムです！ 同様に、量子ビットを$|-\\rangle$状態にした場合、X基底での測定は$|-\\rangle$であることが確実ですが、Z基底での測定は完全にランダムになります。\n",
    "\n",
    "より一般的には、 _量子システムの状態がどのようなものであっても、特定の結果をもたらす測定が常に存在します。_\n",
    "\n",
    "Hゲートの導入により、いくつかの興味深い現象を探ることができましたが、量子操作にはまだ非常に制限があります。 ここで、新しいタイプのゲートを紹介しましょう。\n",
    "\n",
    "## 5. Pゲート  <a id=\"rzgate\"></a>\n",
    "\n",
    "Pゲート(位相ゲート)は _パラメータ化されたゲート_ です。つまり、何をすべきかを正確に伝えるには数字($\\phi$)が必要です。Pゲートは、Z軸を中心に$\\phi$の回転を実行します。 以下のような行列です。\n",
    "\n",
    "$$\n",
    "P(\\phi) = \\begin{bmatrix} 1 & 0 \\\\ 0 & e^{i\\phi} \\end{bmatrix}\n",
    "$$\n",
    "\n",
    "$\\phi$は実数です。\n",
    "\n",
    "以下のウィジェットを使用してPゲートを体感してみてください。スライダーを使用して$\\phi$を指定してください。\n"
   ]
  },
  {
   "cell_type": "code",
   "execution_count": 9,
   "metadata": {},
   "outputs": [
    {
     "data": {
      "application/vnd.jupyter.widget-view+json": {
       "model_id": "05da968cc5ad4a0383bd8733eddc19e7",
       "version_major": 2,
       "version_minor": 0
      },
      "text/plain": [
       "HBox(children=(Button(description='X', layout=Layout(height='3em', width='3em'), style=ButtonStyle()), Button(…"
      ]
     },
     "metadata": {},
     "output_type": "display_data"
    },
    {
     "data": {
      "application/vnd.jupyter.widget-view+json": {
       "model_id": "9d20d035d47145acbf69849bf7226afb",
       "version_major": 2,
       "version_minor": 0
      },
      "text/plain": [
       "Image(value=b'\\x89PNG\\r\\n\\x1a\\n\\x00\\x00\\x00\\rIHDR\\x00\\x00\\x01 \\x00\\x00\\x01 \\x08\\x06\\x00\\x00\\x00\\x14\\x83\\xae\\x8…"
      ]
     },
     "metadata": {},
     "output_type": "display_data"
    }
   ],
   "source": [
    "# このセルのコードを実行してウィジェットを表示します。\n",
    "from qiskit_textbook.widgets import gate_demo\n",
    "gate_demo(gates='pauli+h+p')"
   ]
  },
  {
   "cell_type": "markdown",
   "metadata": {},
   "source": [
    "Qiskitでは、`p(phi,qubit)`を使用してPゲートを指定します。"
   ]
  },
  {
   "cell_type": "code",
   "execution_count": 10,
   "metadata": {},
   "outputs": [
    {
     "data": {
      "image/png": "[encoded data removed]",
      "text/plain": [
       "<Figure size 133.526x84.28 with 1 Axes>"
      ]
     },
     "execution_count": 10,
     "metadata": {},
     "output_type": "execute_result"
    }
   ],
   "source": [
    "qc = QuantumCircuit(1)\n",
    "qc.p(pi/4, 0)\n",
    "qc.draw()"
   ]
  },
  {
   "cell_type": "markdown",
   "metadata": {},
   "source": [
    "ZゲートはPゲートの特殊なケースで、$\\phi=\\pi$であることに気付くでしょう。 実際、この章で言及する3つの一般的に参照されるゲートがあり、それらはすべてPゲートの特殊なケースです。\n",
    "\n",
    "## 6. I、S、Tゲート  <a id=\"istgates\"></a>\n",
    "\n",
    "### 6.1 Iゲート  <a id=\"igate\"></a>\n",
    "\n",
    "まずIゲート（別名「Idゲート」または「Identityゲート」）があります。 これは単に何もしないゲートです。 その行列は単位行列です。\n",
    "\n",
    "$$\n",
    "I = \\begin{bmatrix} 1 & 0 \\\\ 0 & 1\\end{bmatrix}\n",
    "$$\n",
    "\n",
    "回路内の任意の場所にIゲートを適用しても、量子ビットの状態には影響がないため、これは何もしないゲートと見なすこともできます。 このゲートの存在理由は主に2つの理由があります。1つは、計算でよく使用されるためです。たとえば、Xゲートが自分自身の逆行列であることを証明します。\n",
    "\n",
    "$$ I = XX $$\n",
    "\n",
    "2つ目は、実際のハードウェアを検討するときに、「何もしない」または「なし」の操作を指定することがしばしば役立つためです。\n",
    "\n",
    "#### 練習問題\n",
    "1. Iゲートの固有状態は何でしょうか。\n",
    "\n",
    "### 6.2 Sゲート <a id=\"sgate\"></a>\n",
    "\n",
    "次に言及するゲートはSゲート($\\sqrt{Z}$ゲートとも呼ばれます）です。これは、$\\phi=\\pi/2$のPゲートです。ブロッホ球の周りを1/4回転します。 この章でこれまでに紹介したすべてのゲートとは異なり、Sゲートは自分自身の逆行列では **ない** ことに注意してください。 その結果、S<sup>†</sup>ゲート（「Sダガー」、「Sdg」、または$\\sqrt{Z}^\\dagger$ゲートも同様）というものがあります。S<sup>†</sup>ゲートは$\\phi=-\\pi/2$のPゲートです。\n",
    "\n",
    "$$ S = \\begin{bmatrix} 1 & 0 \\\\ 0 & e^{\\frac{i\\pi}{2}} \\end{bmatrix}, \\quad  S^\\dagger = \\begin{bmatrix} 1 & 0 \\\\ 0 & e^{-\\frac{i\\pi}{2}} \\end{bmatrix}$$\n",
    "\n",
    "「$\\sqrt{Z}$ゲート」という名前は、2つの連続して適用されたSゲートが1つのZゲートと同じ効果を持つという事実によるものです。\n",
    "\n",
    "$$ SS|q\\rangle = Z|q\\rangle $$\n",
    "\n",
    "この表記法は、量子計算全体で共通です。\n",
    "\n",
    "QiskitでSゲートを追加するには、"
   ]
  },
  {
   "cell_type": "code",
   "execution_count": 11,
   "metadata": {},
   "outputs": [
    {
     "data": {
      "image/png": "[encoded data removed]",
      "text/plain": [
       "<Figure size 193.726x84.28 with 1 Axes>"
      ]
     },
     "execution_count": 11,
     "metadata": {},
     "output_type": "execute_result"
    }
   ],
   "source": [
    "qc = QuantumCircuit(1)\n",
    "qc.s(0)   # Sゲートを量子ビット0に適用します。\n",
    "qc.sdg(0) # Sdgゲートを量子ビット0に適用します。\n",
    "qc.draw()"
   ]
  },
  {
   "cell_type": "markdown",
   "metadata": {},
   "source": [
    "### 6.3 Tゲート <a id=\"tgate\"></a>\n",
    "\n",
    "Tゲートは非常に一般的に使用されるゲートであり、$\\phi=\\pi/4$のPゲートです。\n",
    "\n",
    "$$ T = \\begin{bmatrix} 1 & 0 \\\\ 0 & e^{\\frac{i\\pi}{4}} \\end{bmatrix}, \\quad  T^\\dagger = \\begin{bmatrix} 1 & 0 \\\\ 0 & e^{-\\frac{i\\pi}{4}} \\end{bmatrix}$$\n",
    "\n",
    "Sゲートと同様に、Tゲートは$\\sqrt[4]{Z}$ゲートとしても知られています。\n",
    "\n",
    "Qiskitでは、"
   ]
  },
  {
   "cell_type": "code",
   "execution_count": 12,
   "metadata": {},
   "outputs": [
    {
     "data": {
      "image/png": "[encoded data removed]",
      "text/plain": [
       "<Figure size 193.726x84.28 with 1 Axes>"
      ]
     },
     "execution_count": 12,
     "metadata": {},
     "output_type": "execute_result"
    }
   ],
   "source": [
    "qc = QuantumCircuit(1)\n",
    "qc.t(0)   # Tゲートを量子ビット0に適用します。\n",
    "qc.tdg(0) # Tdgゲートを量子ビット0に適用します。\n",
    "qc.draw()"
   ]
  },
  {
   "cell_type": "markdown",
   "metadata": {},
   "source": [
    "以下のウィジェットを使用して、この章でこれまでに紹介したすべてのゲートを試すことができます。"
   ]
  },
  {
   "cell_type": "code",
   "execution_count": 13,
   "metadata": {
    "scrolled": false
   },
   "outputs": [
    {
     "data": {
      "application/vnd.jupyter.widget-view+json": {
       "model_id": "740f8a4569894cc5aadc7e3a780b8d95",
       "version_major": 2,
       "version_minor": 0
      },
      "text/plain": [
       "VBox(children=(HBox(children=(Button(description='I', layout=Layout(height='3em', width='3em'), style=ButtonSt…"
      ]
     },
     "metadata": {},
     "output_type": "display_data"
    },
    {
     "data": {
      "application/vnd.jupyter.widget-view+json": {
       "model_id": "fb59ef80d2064141b95876176d6be712",
       "version_major": 2,
       "version_minor": 0
      },
      "text/plain": [
       "Image(value=b'\\x89PNG\\r\\n\\x1a\\n\\x00\\x00\\x00\\rIHDR\\x00\\x00\\x01 \\x00\\x00\\x01 \\x08\\x06\\x00\\x00\\x00\\x14\\x83\\xae\\x8…"
      ]
     },
     "metadata": {},
     "output_type": "display_data"
    }
   ],
   "source": [
    "# このセルのコードを実行してウィジェットを表示します。\n",
    "from qiskit_textbook.widgets import gate_demo\n",
    "gate_demo()"
   ]
  },
  {
   "cell_type": "markdown",
   "metadata": {},
   "source": [
    "## 7. 一般的なU<sub>3</sub>ゲート  <a id=\"generalU3\"></a>\n",
    "\n",
    "前に見たように、I、Z、S、Tゲートはすべて、より一般的なPゲートの特殊なケースです。 同様に、U<sub>3</sub>ゲートは、すべての単一量子ビット量子ゲートの中で最も一般的です。 これは、次の形式でパラメータ化されたゲートです。\n",
    "\n",
    "$$\n",
    "U_3(\\theta, \\phi, \\lambda) = \\begin{bmatrix} \\cos(\\theta/2) & -e^{i\\lambda}\\sin(\\theta/2) \\\\\n",
    "            e^{i\\phi}\\sin(\\theta/2) & e^{i\\lambda+i\\phi}\\cos(\\theta/2)\n",
    "     \\end{bmatrix}\n",
    "$$\n",
    "\n",
    "この章のすべてのゲートは$U_3(\\theta,\\phi,\\lambda)$として指定できますが、あまりみかけません。\n",
    "\n",
    "Qiskitは、U<sub>2</sub>およびU<sub>1</sub>ゲートも提供します。これらは、$\\theta=0$および$\\theta=\\phi=0$であるU<sub>3</sub>ゲートの特定のケースです。U<sub>1</sub>ゲートはPゲートと同等であることがわかります。\n",
    "\n",
    "$$\n",
    "\\begin{aligned}\n",
    "U_3(\\tfrac{\\pi}{2}, \\phi, \\lambda) = U_2 = \\tfrac{1}{\\sqrt{2}}\\begin{bmatrix} 1 & -e^{i\\lambda} \\\\\n",
    "            e^{i\\phi} & e^{i\\lambda+i\\phi}\n",
    "     \\end{bmatrix}\n",
    "& \\quad &\n",
    "U_3(0, 0, \\lambda) = U_1 = \\begin{bmatrix} 1 & 0 \\\\\n",
    "            0 & e^{i\\lambda}\\\\\n",
    "     \\end{bmatrix}\n",
    "\\end{aligned}\n",
    "$$\n",
    "\n",
    "実際のIBM量子ハードウェアで実行する前に、すべての単一量子ビット操作は$U_1$、$U_2$、および$U_3$にコンパイルされます。 このため、 _物理ゲート_ と呼ばれることもあります。\n",
    "\n",
    "ここでは言及していませんが、可能なゲートの数は無限であり、これにはR<sub>x</sub>およびR<sub>y</sub>ゲートも含まれることは明らかです。 また、Z基底は、特別なことは何もないですが、標準の計算基底として選択されていることに注意してください。 そのため、SゲートとTゲートには名前がありますが、X基底とY基底におけるSやTに対応する名前はありません。（例：$\\sqrt{X}$と$\\sqrt[4]{Y}$）。"
   ]
  },
  {
   "cell_type": "code",
   "execution_count": 14,
   "metadata": {},
   "outputs": [
    {
     "data": {
      "text/html": [
       "<h3>Version Information</h3><table><tr><th>Qiskit Software</th><th>Version</th></tr><tr><td><code>qiskit-terra</code></td><td>0.19.2</td></tr><tr><td><code>qiskit-aer</code></td><td>0.10.3</td></tr><tr><td><code>qiskit-ignis</code></td><td>0.7.0</td></tr><tr><td><code>qiskit-ibmq-provider</code></td><td>0.18.3</td></tr><tr><td><code>qiskit</code></td><td>0.34.2</td></tr><tr><th>System information</th></tr><tr><td>Python version</td><td>3.8.8</td></tr><tr><td>Python compiler</td><td>MSC v.1928 64 bit (AMD64)</td></tr><tr><td>Python build</td><td>tags/v3.8.8:024d805, Feb 19 2021 13:18:16</td></tr><tr><td>OS</td><td>Windows</td></tr><tr><td>CPUs</td><td>4</td></tr><tr><td>Memory (Gb)</td><td>15.877853393554688</td></tr><tr><td colspan='2'>Thu Feb 17 03:10:54 2022 東京 (標準時)</td></tr></table>"
      ],
      "text/plain": [
       "<IPython.core.display.HTML object>"
      ]
     },
     "metadata": {},
     "output_type": "display_data"
    }
   ],
   "source": [
    "import qiskit.tools.jupyter\n",
    "%qiskit_version_table"
   ]
  },
  {
   "cell_type": "code",
   "execution_count": null,
   "metadata": {},
   "outputs": [],
   "source": []
  }
 ],
 "metadata": {
  "kernelspec": {
   "display_name": "Python 3 (ipykernel)",
   "language": "python",
   "name": "python3"
  },
  "language_info": {
   "codemirror_mode": {
    "name": "ipython",
    "version": 3
   },
   "file_extension": ".py",
   "mimetype": "text/x-python",
   "name": "python",
   "nbconvert_exporter": "python",
   "pygments_lexer": "ipython3",
   "version": "3.8.8"
  }
 },
 "nbformat": 4,
 "nbformat_minor": 4
}
