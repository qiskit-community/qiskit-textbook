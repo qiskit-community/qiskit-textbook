{
 "cells": [
  {
   "cell_type": "markdown",
   "metadata": {
    "tags": [
     "remove_cell"
    ]
   },
   "source": [
    "# はじめに"
   ]
  },
  {
   "cell_type": "markdown",
   "metadata": {},
   "source": [
    "量子力学を難しいと感じるのはあなただけではありません。 私たちの直観は日々の経験に基づいているため、原子や電子よりもボールやバナナの動きを理解するのに長けています。 量子は、最初はランダムで混沌としたもののように見えるかもしれませんが、それらはただ違ったルールに従っているだけです。 このルールが何かを理解すると、新しい強力なテクノロジーを作ることができます。 量子コンピューティングは、その最も革命的な例です。"
   ]
  },
  {
   "cell_type": "markdown",
   "metadata": {},
   "source": [
    "![image1](images/atoms10.png)\n"
   ]
  },
  {
   "cell_type": "markdown",
   "metadata": {},
   "source": [
    "量子コンピューティングへの旅を始めるために、いまの知識をテストしましょう。「ビット」について、正しい説明は次のうちどれですか？\n",
    "\n",
    "1. 大工が使用する刃 <br /> \n",
    "2. 情報の最小単位： 0 または 1 <br /> \n",
    "3. 馬術用語の轡（くつわ）の馬銜（はみ） <br /> \n",
    "\n",
    "上記のどれでも正解です。「ビット」というのは非常に多目的な言葉です！ただここでの議論においては、2番を選択した方は、正しい方向に向かっています。情報を一連の0と1として保存および処理できるという考えは、大きな概念上のハードルですが、今日のほとんどの人はそれについて不思議に思うことなく知っています。ここを出発点として、今度は量子力学のルールに従うビットを想像することができます。これらの量子ビットまたはキュービットは、新しいさまざまな方法で情報を処理できるようにしてくれます。\n",
    "\n",
    "量子ビットの世界をより深く探っていくことにしましょう。これには、ゲートを適用するときに何が起きているのかをトラッキングする何らかの方法が必要になります。これを行う最も強力な方法が、ベクトルや行列といった数学を用いることです。"
   ]
  },
  {
   "cell_type": "markdown",
   "metadata": {},
   "source": [
    "![image2](images/bloch.png)\n"
   ]
  },
  {
   "cell_type": "markdown",
   "metadata": {},
   "source": [
    "この章は、線形代数（ベクトルや行列）に精通していることが望ましいです。そうでない方も読み進めていただくことはできますが、わからないことがあれば[量子コンピューティングのための線形代数入門](../ch-prerequisites/linear_algebra.html)を参照することをおすすめします。\n",
    "\n",
    "量子コンピューティング用のPythonベースのフレームワークであるQiskitを使用するため、Pythonの基本を知ることも役立ちます。入門書が必要な場合は、[PythonおよびJupyterノートブックの概要](../ch-prerequisites/python-and-jupyter-notebooks.html)を参照してください。"
   ]
  },
  {
   "cell_type": "code",
   "execution_count": null,
   "metadata": {},
   "outputs": [],
   "source": []
  }
 ],
 "metadata": {
  "kernelspec": {
   "display_name": "Python 3",
   "language": "python",
   "name": "python3"
  },
  "language_info": {
   "codemirror_mode": {
    "name": "ipython",
    "version": 3
   },
   "file_extension": ".py",
   "mimetype": "text/x-python",
   "name": "python",
   "nbconvert_exporter": "python",
   "pygments_lexer": "ipython3",
   "version": "3.7.4"
  }
 },
 "nbformat": 4,
 "nbformat_minor": 2
}
