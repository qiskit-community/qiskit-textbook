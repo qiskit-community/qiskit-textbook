{
 "cells": [
  {
   "cell_type": "markdown",
   "metadata": {
    "tags": [
     "preface-cell",
     "preface-title"
    ]
   },
   "source": [
    "<title>Qiskit を使った量子計算の学習</title>\n",
    "<div class=\"preface-top\">\n",
    "    <div class=\"preface-checker-pattern\"></div>\n",
    "<div class=\"preface-summary\">\n",
    "  <aside class=\"preface-summary-image\"><img src=\"images/preface_illustration_2.svg\"></aside>\n",
    "  <div class=\"preface-summary-text\">\n",
    "     <p>\n",
    "      Qiskit Communityチームからのご挨拶です！ Qiskitをベースとした大学の量子アルゴリズム/計算コースの補足教材となるよう、このテキストブックを作り始めました：</p>\n",
    "      <ol>\n",
    "          <li>量子アルゴリズムの基礎となる数学</li>\n",
    "          <li>今日の非フォールトトレラントな量子デバイスの詳細</li>\n",
    "          <li>IBMのクラウド型量子システムに量子アルゴリズムを実装するためのQiskitでのコーディング</li>\n",
    "      </ol>\n",
    "</div>\n",
    "    <a href=\"./ch-states/introduction.html\"><button class=\"preface-button read-textbook\">テキストブックを読む <span class=\"rangle\"><img src=\"/textbook/assets/images/rightarrow.svg\"></span></button></a>\n",
    "</div>"
   ]
  },
  {
   "cell_type": "markdown",
   "metadata": {
    "tags": [
     "preface-cell"
    ]
   },
   "source": [
    "# このテキストブックについて\n",
    "\n",
    "<p>このテキストブックは、Qiskit SDKの使い方を学びながら、量子コンピューティングの概念を学ぶことができる無料のオンラインテキストです。</p>\n",
    "\n",
    "## Codeをインラインで実行する\n",
    "\n",
    "<p>このテキストブックは、読みやすいJupyter notebookのフレームワークに基づいて作られていますが、読者がテキストブック内でコードを編集して実行することもできます。 各章のページは、インストールなしに、<a href=\"https://quantum-computing.ibm.com/jupyter\">IBM Quantum Experience</a>でJupyter notebookとして開くこともできます。</p>"
   ]
  },
  {
   "cell_type": "code",
   "execution_count": null,
   "metadata": {
    "tags": [
     "preface-code-cell"
    ]
   },
   "outputs": [],
   "source": [
    "# Click 'try', then 'run' to see the output,\n",
    "# you can change the code and run it again.\n",
    "print(\"This code works!\")\n",
    "from qiskit import QuantumCircuit\n",
    "qc = QuantumCircuit(2) # Create circuit with 2 qubits\n",
    "qc.h(0)    # Do H-gate on q0\n",
    "qc.cx(0,1) # Do CNOT on q1 controlled by q0\n",
    "qc.measure_all()\n",
    "qc.draw()"
   ]
  },
  {
   "cell_type": "markdown",
   "metadata": {
    "tags": [
     "preface-cell"
    ]
   },
   "source": [
    "<a href=\"./widgets-index.html\"><button class=\"preface-button\">インタラクティブ・デモ<span class=\"rangle\"><img src=\"/textbook/assets/images/rightarrow.svg\"></span></button></a>\n",
    "\n",
    "## 実量子デバイスでの学習\n",
    "\n",
    "<p>学ぶための最良の方法は、実行することです。 Qiskitを使用すると、ユーザーは居心地の良い環境から最先端の量子デバイスで実験を実行することができます。このテキストブックでは、理論的な量子コンピューティングだけでなく、それを実現する実験的な量子物理学も学ぶことができます。</p>\n",
    "\n",
    "<img src=\"images/preface-hw-example.png\" class=\"preface-image\">\n",
    "\n",
    "<a href=\"./ch-quantum-hardware/accessing_higher_energy_states.html\"><button class=\"preface-button\">例: 高エネルギー状態へのアクセス<span class=\"rangle\"><img src=\"/textbook/assets/images/rightarrow.svg\"></span></button></a>\n",
    "\n",
    "# テキストブックの使い方\n",
    "\n",
    "<p>このテキストブックは、すべてを順番に読む必要はありませんが、最初に第1章から第3章を読むことをお勧めします。</p>\n",
    "\n",
    "## 授業のカリキュラムとして\n",
    "\n",
    "<p>このテキストブックは独立した授業として学ぶことができますが、伝統的な大学の授業の補足教材となるように設計されています。Qiskitを使用して量子アルゴリズムとハードウェアを実験する方法を学生に提示し、理解を深められるように作られています。\n",
    "</p>\n",
    "\n",
    "<img src=\"images/curriculum.svg\" class=\"preface-image\">\n",
    "\n",
    "## 授業でこのテキストブックを使用する場合\n",
    "\n",
    "授業でQiskitテキストブックを使用している場合は、IBM Quantum Educators Programに参加できます。このプログラムでは以下が利用できます：\n",
    "\n",
    "<ul class=\"preface-list\">\n",
    "<li> クラス内でのデモのためにオープンシステムへ優先してアクセスする時間を予約する機能 </li>\n",
    "<li> オープンシステム以外の追加のプレミアムシステムへのアクセス</li>\n",
    "<li> Qiskit Pulseを使用した完全なマイクロ波制御を備えた5量子ビットシステムへのアクセス</li>\n",
    "</ul>\n",
    "    \n",
    "<a href=\"https://quantum-computing.ibm.com/programs/educators\"><button class=\"preface-button\">IBM Quantum EducatorsProgramにサインアップする<span class=\"rangle\"><img src=\"/textbook/assets/images/rightarrow.svg\"></span></button></a>\n",
    "\n",
    "#  連絡先\n",
    "\n",
    "<p> テキストブックについて質問や提案がある場合、またはテキストブックをカリキュラムに組み込みたい場合は、Frank Harkins <a href=\"mailto:Francis.Harkins@ibm.com\">(Francis.Harkins@ibm.com)</a>に連絡してください。 オープンソースのスピリットに基づいて、GitHubリポジトリーに新たな章の投稿を歓迎しています。</p>\n",
    "    \n",
    "# 貢献者リスト\n",
    "\n",
    "<p> 「Qiskit を使った量子計算の学習」は複数のメンバーによって書かれました。ご研究や仕事で利用される場合は、この<a href=\"https://github.com/qiskit-community/qiskit-textbook/blob/master/content/qiskit-textbook.bib\">bib file</a>を引用するか、直接次のように引用してください。</p>\n",
    "<p><i>\n",
    "Abraham Asfaw, Luciano Bello, Yael Ben-Haim, Sergey Bravyi, Lauren Capelluto, Almudena Carrera Vazquez, Jack Ceroni, Richard Chen, Albert Frisch, Jay Gambetta, Shelly Garion, Leron Gil, Salvador De La Puente Gonzalez, Francis Harkins, Takashi Imamichi, David McKay, Antonio Mezzacapo, Zlatko Minev, Ramis Movassagh, Giacomo Nannicni, Paul Nation, Anna Phan, Marco Pistoia, Arthur Rattew, Joachim Schaefer, Javad Shabani, John Smolin, Kristan Temme, Madeleine Tod, Stephen Wood, James Wootton.</i></p>"
   ]
  },
  {
   "cell_type": "markdown",
   "metadata": {},
   "source": [
    "# 日本語翻訳貢献者リスト\n",
    "\n",
    "<p> 「Qiskit を使った量子計算の学習」は以下のメンバーによって日本語翻訳されました。</p>\n",
    "<p><i>\n",
    "Ayumu Shiraishi,\n",
    "Daiki Murata,\n",
    "Emi Adach,\n",
    "Hironobu Takamatsu,\n",
    "Ikko Hamamura,\n",
    "Jiayun Zhu,\n",
    "Kaori Namba,\n",
    "Kazumasa Umezawa,\n",
    "Keisuke Nakajima,\n",
    "Kenji Tanaka,\n",
    "Kifumi Numata,\n",
    "Masao Tokunari,\n",
    "Shun Shirakawa,\n",
    "Takahide Nogayama,\n",
    "Takashi Imamichi,\n",
    "Takehiko Amano,\n",
    "Yuma Nakamura,\n",
    "Yuri Kobayashi</i></p>"
   ]
  }
 ],
 "metadata": {
  "kernelspec": {
   "display_name": "Python 3",
   "language": "python",
   "name": "python3"
  },
  "language_info": {
   "codemirror_mode": {
    "name": "ipython",
    "version": 3
   },
   "file_extension": ".py",
   "mimetype": "text/x-python",
   "name": "python",
   "nbconvert_exporter": "python",
   "pygments_lexer": "ipython3",
   "version": "3.8.5"
  }
 },
 "nbformat": 4,
 "nbformat_minor": 4
}
