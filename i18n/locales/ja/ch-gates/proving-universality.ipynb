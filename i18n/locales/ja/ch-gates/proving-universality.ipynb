{
 "cells": [
  {
   "cell_type": "markdown",
   "metadata": {},
   "source": [
    "# Proving Universality"
   ]
  },
  {
   "cell_type": "markdown",
   "metadata": {},
   "source": [
    "What does it mean for a computer to do everything that it could possibly do? This was a question tackled by Alan Turing before we even had a good idea of what a computer was.\n",
    "\n",
    "To ask this question for our classical computers, and specifically for our standard digital computers, we need to strip away all the screens, speakers and fancy input devices. What we are left with is simply a machine that converts input bit strings into output bit strings. If a device can perform any such conversion, taking any arbitrary set of inputs and coverting them to an arbitrarily chosen set of outputs, we call it *universal*.\n",
    "\n",
    "It turns out that the requirements for universality on these devices are quite reasonable. The gates we needed to perform addition in 'The atoms of computation' are also sufficient to implement any possible computation. In fact, just the classical NAND gate is enough, when combined together in sufficient quantities.\n",
    "\n",
    "Though our current computers can do everything in theory, some tasks are too resource-intensive in practice. In our study of how to add, we saw that the required resources scaled linearly with the problem size. For example, if we double the number of digits in the numbers, we double the number of small scale additions we need to make.\n",
    "\n",
    "For many other problems, the required resources scale exponentially with the input size. Factorization is a prominent example. In a recent study [1], a 320-digit number took CPU years to factorize. For numbers that are not much larger, there aren't enough computing resources in the world to tackle them -- even though those same numbers could be added or multiplied on just a smartphone in a much more reasonable time.\n",
    "\n",
    "Quantum computers will alleviate these problems by achieving universality in a fundamentally different way. As we saw in 'The unique properties of qubits', the variables of quantum computing are not equivalent to those of standard computers. The gates that we use, such as those in the last section, go beyond what is possible for the gates of standard computers. Because of this, we can find ways to achieve results that are otherwise impossible.\n",
    "\n",
    "So how to define what universality is for a quantum computer? We can do this in a way that mirrors the definition discussed above. Just as digital computers convert sets of input bit strings to sets of output bit strings, unitary operations convert sets of orthogonal input states into orthogonal output states.\n",
    "\n",
    "As a special case, these states could describe bit strings expressed in quantum form. If we can achieve any unitary, we can therefore achieve universality in the same way as for digital computers.\n",
    "\n",
    "Another special case is that the input and output states could describe real physical systems. The unitary would then correspond to a time evolution. When expressed in an exponential form using a suitable Hermitian matrix, that matrix would correspond to the Hamiltonian. Achieving any unitary would therefore correspond to simulating any time evolution, and engineering the effects of any Hamiltonian. This is also an important problem that is impractical for classical computers, but is a natural application of quantum computers.\n",
    "\n",
    "Universality for quantum computers is then simply this: the ability to achieve any desired unitary on any arbitrary number of qubits.\n",
    "\n",
    "As for classical computers, we will need to split this big job up into manageable chunks. We'll need to find a basic set of gates that will allow us to achieve this. As we'll see, the single- and two-qubit gates of the last section are sufficient for the task.\n",
    "\n",
    "Suppose we wish to implement the unitary\n",
    "\n",
    "$$\n",
    "U = e^{i(aX + bZ)},\n",
    "$$\n",
    "\n",
    "but the only gates we have are $R_x(\\theta) = e^{i \\frac{\\theta}{2} X}$ and $R_z(\\theta) = e^{i \\frac{\\theta}{2} Z}$. The best way to solve this problem would be to use Euler angles. But let's instead consider a different method.\n",
    "\n",
    "The Hermitian matrix in the exponential for $U$ is simply the sum of those for the $R_x(\\theta)$ and $R_z(\\theta)$ rotations. This suggests a naive approach to solving our problem: we could apply $R_z(a) = e^{i bZ}$ followed by $R_x(b) = e^{i a X}$. Unfortunately, because we are exponentiating matrices that do not commute, this approach will not work.\n",
    "\n",
    "$$\n",
    "e^{i a X} e^{i b X} \\neq e^{i(aX + bZ)}\n",
    "$$\n",
    "\n",
    "However, we could use the following modified version:\n",
    "\n",
    "$$\n",
    "U = \\lim_{n\\rightarrow\\infty} ~ \\left(e^{iaX/n}e^{ibZ/n}\\right)^n.\n",
    "$$\n",
    "\n",
    "Here we split $U$ up into $n$ small slices. For each slice, it is a good approximation to say that\n",
    "\n",
    "$$\n",
    "e^{iaX/n}e^{ibZ/n} = e^{i(aX + bZ)/n}\n",
    "$$\n",
    "\n",
    "The error in this approximation scales as $1/n^2$. When we combine the $n$ slices, we get an approximation of our target unitary whose error scales as $1/n$. So by simply increasing the number of slices, we can get as close to $U$ as we need. Other methods of creating the sequence are also possible to get even more accurate versions of our target unitary.\n",
    "\n",
    "The power of this method is that it can be used in complex cases than just a single qubit. For example, consider the unitary \n",
    "\n",
    "$$\n",
    "U = e^{i(aX\\otimes X\\otimes X + bZ\\otimes Z\\otimes Z)}.\n",
    "$$\n",
    "\n",
    "We know how to create the unitary $e^{i\\frac{\\theta}{2} X\\otimes X\\otimes X}$ from a single qubit $R_x(\\theta)$ and two controlled-NOTs.\n",
    "\n",
    "```python\n",
    "qc.cx(0,2)\n",
    "qc.cx(0,1)\n",
    "qc.rx(theta,0)\n",
    "qc.cx(0,1)\n",
    "qc.cx(0,1)\n",
    "```\n",
    "\n",
    "With a few Hadamards, we can do the same for $e^{i\\frac{\\theta}{2} Z\\otimes Z\\otimes Z}$.\n",
    "\n",
    "```python\n",
    "qc.h(0)\n",
    "qc.h(1)\n",
    "qc.h(2)\n",
    "qc.cx(0,2)\n",
    "qc.cx(0,1)\n",
    "qc.rx(theta,0)\n",
    "qc.cx(0,1)\n",
    "qc.cx(0,1)\n",
    "qc.h(2)\n",
    "qc.h(1)\n",
    "qc.h(0)\n",
    "```\n",
    "\n",
    "This gives us the ability to reproduce a small slice of our new, three-qubit $U$:\n",
    "\n",
    "$$\n",
    "e^{iaX\\otimes X\\otimes X/n}e^{ibZ\\otimes Z\\otimes Z/n} = e^{i(aX\\otimes X\\otimes X + bZ\\otimes Z\\otimes Z)/n}.\n",
    "$$\n",
    "\n",
    "As before, we can then combine the slices together to get an arbitrarily accurate approximation of $U$.\n",
    "\n",
    "This method continues to work as we increase the number of qubits, and also the number of terms that need simulating. Care must be taken to ensure that the approximation remains accurate, but this can be done in ways that require reasonable resources. Adding extra terms to simulate, or increasing the desired accuracy, only require the complexity of the method to increase polynomially.\n",
    "\n",
    "Methods of this form can reproduce any unitary $U = e^{iH}$ for which $H$ can be expressed as a sum of tensor products of Paulis. Since we have shown previously that all matrices can be expressed in this way, this is sufficient to show that we can reproduce all unitaries. Though other methods may be better in practice, the main concept to take away from this chapter is that there is certainly a way to reproduce all multi-qubit unitaries using only the basic operations found in Qiskit. Quantum universality can be achieved."
   ]
  },
  {
   "cell_type": "markdown",
   "metadata": {},
   "source": [
    "### References\n",
    "\n",
    "[1] [\"Factorization of a 1061-bit number by the Special Number Field Sieve\"](https://eprint.iacr.org/2012/444.pdf) by Greg Childers."
   ]
  },
  {
   "cell_type": "code",
   "execution_count": 1,
   "metadata": {},
   "outputs": [
    {
     "data": {
      "text/plain": [
       "{'qiskit-terra': '0.12.0',\n",
       " 'qiskit-aer': '0.4.0',\n",
       " 'qiskit-ignis': '0.2.0',\n",
       " 'qiskit-ibmq-provider': '0.4.6',\n",
       " 'qiskit-aqua': '0.6.4',\n",
       " 'qiskit': '0.15.0'}"
      ]
     },
     "execution_count": 1,
     "metadata": {},
     "output_type": "execute_result"
    }
   ],
   "source": [
    "import qiskit\n",
    "qiskit.__qiskit_version__"
   ]
  },
  {
   "cell_type": "code",
   "execution_count": null,
   "metadata": {},
   "outputs": [],
   "source": []
  }
 ],
 "metadata": {
  "kernelspec": {
   "display_name": "Python 3",
   "language": "python",
   "name": "python3"
  },
  "language_info": {
   "codemirror_mode": {
    "name": "ipython",
    "version": 3
   },
   "file_extension": ".py",
   "mimetype": "text/x-python",
   "name": "python",
   "nbconvert_exporter": "python",
   "pygments_lexer": "ipython3",
   "version": "3.7.4"
  }
 },
 "nbformat": 4,
 "nbformat_minor": 2
}
