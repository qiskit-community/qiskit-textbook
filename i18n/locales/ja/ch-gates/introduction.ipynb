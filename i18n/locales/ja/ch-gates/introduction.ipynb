{
 "cells": [
  {
   "cell_type": "markdown",
   "metadata": {
    "tags": [
     "remove_cell"
    ]
   },
   "source": [
    "# はじめに"
   ]
  },
  {
   "cell_type": "markdown",
   "metadata": {},
   "source": [
    "これまで、単一量子ビットや単一量子ビットゲートによる興味深い効果を見てきましたが、量子コンピュータの真の威力は、量子ビット間の相互作用によって実現されるものです。この章では、複数量子ビットゲートを紹介し、複数量子ビットシステムの興味深い挙動を探ります。\n",
    "\n",
    "一般的には、ハードウェアに直接実装可能なゲートは1量子ビットまたは2量子ビットに対して影響を及ぼすことができます。一方で、我々の回路においては、より多くの量子ビットに対して影響を及ぼすことができる複雑なゲートを使用したくなることがあります。幸運なことに、このことは問題ではありません。ハードウェアにより実現された1量子ビット用のゲートと2量子ビット用のゲートがあれば、その他の全てのゲートを構築することができるからです。\n",
    "\n",
    "この章では、まず最も基本的なゲートと、それらのゲートに関する説明と分析に使用する数学について紹介します。次に、これらのゲートがあらゆる量子アルゴリズムを構築するために使用できることを証明する方法を示します。\n",
    "\n",
    "その後、小規模の量子ゲートに関する用途について見ていくことで章を締めくくります。例として、1量子ビット操作や2量子ビット操作を用いてトフォリゲートのような3量子ビットゲートを組み立てる方法について見ていきます。\n",
    "\n",
    "![A Toffoli made from single- and two-qubit gates](images/basic3.png)\n",
    "*これは3つの量子ビット(q0,q1,q2)をそれぞれ持つトフォリゲートです。この回路例では、q0はq2と接続されていますが、q0はq1と接続されていません。"
   ]
  },
  {
   "cell_type": "code",
   "execution_count": null,
   "metadata": {},
   "outputs": [],
   "source": []
  }
 ],
 "metadata": {
  "kernelspec": {
   "display_name": "Python 3",
   "language": "python",
   "name": "python3"
  },
  "language_info": {
   "codemirror_mode": {
    "name": "ipython",
    "version": 3
   },
   "file_extension": ".py",
   "mimetype": "text/x-python",
   "name": "python",
   "nbconvert_exporter": "python",
   "pygments_lexer": "ipython3",
   "version": "3.7.4"
  }
 },
 "nbformat": 4,
 "nbformat_minor": 2
}
