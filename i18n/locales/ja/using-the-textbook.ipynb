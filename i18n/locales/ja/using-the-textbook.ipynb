{
 "cells": [
  {
   "cell_type": "markdown",
   "metadata": {},
   "source": [
    "# Fitting the Textbook to Your Needs"
   ]
  },
  {
   "cell_type": "markdown",
   "metadata": {},
   "source": [
    "\n",
    "The textbook can be followed as an independent course, however, it has been designed to accompany a traditional university course. The textbook shows students how to use Qiskit to experiment with quantum algorithms and hardware, and uses this to reinforce their understanding:\n",
    "\n",
    "<img\n",
    "  src=\"images/qiskit_textbook_skills.png\"\n",
    "  alt=\"The textbook can be used as an accompaniment to a traditional university course.\"\n",
    "  style=\"max-width: 600px; margin-bottom: 3em; margin-top: 2em; margin-left: 35px;\"\n",
    "  align=\"center\"\n",
    "/>\n",
    "\n",
    "\n",
    "The goal of the textbook is to develop skills in the following areas.\n",
    "\n",
    "1. The mathematics behind quantum algorithms\n",
    "2. Details about today's non-fault-tolerant quantum devices\n",
    "3. Writing code in Qiskit to implement quantum algorithms on IBM's cloud quantum systems\n",
    "\n",
    "While this textbook does not attempt to be an expansive survey of the field, it does attempt to be as self-contained as possible.\n",
    "\n",
    "# Course Map\n",
    "\n",
    "The Qiskit textbook covers a wide range of materials, not all of which can be covered in a single course. You can use the guide below to tailor the textbook materials to fit your goals. Bear in mind that this is only a suggested way to use the textbook."
   ]
  },
  {
   "cell_type": "raw",
   "metadata": {},
   "source": [
    "{% include coursemap_img.html %}"
   ]
  }
 ],
 "metadata": {
  "kernelspec": {
   "display_name": "Python 3",
   "language": "python",
   "name": "python3"
  },
  "language_info": {
   "codemirror_mode": {
    "name": "ipython",
    "version": 3
   },
   "file_extension": ".py",
   "mimetype": "text/x-python",
   "name": "python",
   "nbconvert_exporter": "python",
   "pygments_lexer": "ipython3",
   "version": "3.7.6"
  }
 },
 "nbformat": 4,
 "nbformat_minor": 4
}
