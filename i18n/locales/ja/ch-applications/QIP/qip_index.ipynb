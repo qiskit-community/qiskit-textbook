{
 "cells": [
  {
   "cell_type": "markdown",
   "metadata": {},
   "source": [
    "# Quantum Image Processing\n",
    "## About This Section\n",
    "\n",
    "Digital image processing has been around since the middle of the 20th century originally to enhance the quality of photos. It has since then worked its way into various areas of research such as medical imaging, virtual/augmented reality, satellite sensing, cryptanalysis, and machine learning. In this section we'll begin with a brief overview of existing classical image processing algorithms, followed by various quantum image processing algorithms. Each section will describe the various stages/domains of image processing, their advantages and disadvantages from similar quantum image processing algorithms. \n",
    "\n",
    "The explanations in this section do not go in depth as do the many research papers available. For this reason we have included all the references to each algorithm so you can take it upon yourselves to learn more on these techiques.\n",
    "\n",
    "The goal of this chapter is to provide you with an introduction to the various image processing algorithms and patterns, and execute them on an actual quantum computer. "
   ]
  },
  {
   "cell_type": "code",
   "execution_count": null,
   "metadata": {},
   "outputs": [],
   "source": []
  }
 ],
 "metadata": {
  "kernelspec": {
   "display_name": "Python 3",
   "language": "python",
   "name": "python3"
  },
  "language_info": {
   "codemirror_mode": {
    "name": "ipython",
    "version": 3
   },
   "file_extension": ".py",
   "mimetype": "text/x-python",
   "name": "python",
   "nbconvert_exporter": "python",
   "pygments_lexer": "ipython3",
   "version": "3.7.6"
  }
 },
 "nbformat": 4,
 "nbformat_minor": 4
}
