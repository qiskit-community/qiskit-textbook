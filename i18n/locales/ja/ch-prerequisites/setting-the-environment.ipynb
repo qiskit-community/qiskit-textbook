{
 "cells": [
  {
   "cell_type": "markdown",
   "metadata": {
    "tags": [
     "remove_cell"
    ]
   },
   "source": [
    "## Qiskitテキストブックで作業するための環境設定ガイド"
   ]
  },
  {
   "cell_type": "markdown",
   "metadata": {},
   "source": [
    "Qiskitテキストブックで作業するためのパソコン環境の設定方法をまとめました。webサイト上のテキストブックで見た通りの結果を再現するのに役立ちます。Qiskitテキストブックは[Jupyter notebook](https://jupyter.org/install)で書かれています。notebookと[webサイト](https://qiskit.org/textbook/preface.html) は、テキストブックが完全にサポートされている唯一のメディアです。"
   ]
  },
  {
   "cell_type": "markdown",
   "metadata": {},
   "source": [
    "## qiskit_textbook パッケージのインストール\n",
    "\n",
    "Qiskitテキストブックには、テキストブック専用のツールやウィジェットが用意されています。これはQiskitの一部ではなく、`qiskit_textbook`パッケージから入手できるものです。[Pip](http://pypi.org/project/pip/) と [Git](http://git-scm.com/)を用いて、最も早くインストールする方法は以下のコマンドです：\n",
    "\n",
    "```\n",
    "pip install git+https://github.com/qiskit-community/qiskit-textbook.git#subdirectory=qiskit-textbook-src\n",
    "```\n",
    "もしくは、Githubより[qiskit-textbook-src](https://github.com/qiskit-community/qiskit-textbook)フォルダーをダウンロードし、このフォルダーを含むディレクトリから以下を実行してください：\n",
    "\n",
    "```\n",
    "pip install ./qiskit-textbook-src\n",
    "```"
   ]
  },
  {
   "cell_type": "markdown",
   "metadata": {},
   "source": [
    "## Qiskitテキストブックに記載されている描画出力を正確に再現する為のステップ (オプション)"
   ]
  },
  {
   "cell_type": "markdown",
   "metadata": {},
   "source": [
    "### 1. デフォルトの描画ツールをMatPlotLibに設定する\n",
    "\n",
    "`QuantumCircuit.draw()` や `qiskit.visualization.circuit_drawer()`のデフォルトのバックエンドはテキストです。しかし、ローカル環境に応じ、これらデフォルトをあなたのユースケースに適したものに変更したいと思うでしょう。これはユーザー構成ファイルで実現できます。デフォルトで、ユーザー構成ファイルは、`~/.qiskit/`の中にある`settings.conf`ファイルです。\n",
    "\n",
    "Qiskitテキストブックは、MatPlotLibをデフォルトの回路描画ツールとして使用しています。Qiskitテキストブック中に記載されている描画を再現するためには、以下の内容を含む`settings.conf` ファイル(通常は`~/.qiskit/`にあります)を作成してください。"
   ]
  },
  {
   "cell_type": "markdown",
   "metadata": {},
   "source": [
    "    [default]\n",
    "    circuit_drawer = mpl"
   ]
  },
  {
   "cell_type": "markdown",
   "metadata": {},
   "source": [
    "### 2. デフォルトの画像タイプをSVGに設定する\n",
    "\n",
    "オプションで、以下のコードを`ipython_kernel_config.py`ファイル(通常は`~/.ipython/profile_default/`にあります)に追加して、デフォルトの画像フォーマットをPNGからより拡張性のあるSVGフォーマットに変更することができます："
   ]
  },
  {
   "cell_type": "markdown",
   "metadata": {},
   "source": [
    "    c.InlineBackend.figure_format = 'svg'"
   ]
  },
  {
   "cell_type": "markdown",
   "metadata": {},
   "source": [
    "### 3. テキストブック中で使用しているQiskitのバージョンと同期する\n",
    "\n",
    "ほとんどのチュートリアルの最後に、Qiskitパッケージのバージョン情報を含んだコード・スニペットがあります。構文や出力に矛盾がある場合は、同じバージョンを使用してみてください。\n",
    "\n",
    "あなたのコンピューターにインストールされているバージョンを確認するには、PythonシェルかJupyter notebookにて以下を実行してください："
   ]
  },
  {
   "cell_type": "markdown",
   "metadata": {},
   "source": [
    "    import qiskit\n",
    "    qiskit.__qiskit_version__"
   ]
  }
 ],
 "metadata": {
  "kernelspec": {
   "display_name": "Python 3",
   "language": "python",
   "name": "python3"
  },
  "language_info": {
   "codemirror_mode": {
    "name": "ipython",
    "version": 3
   },
   "file_extension": ".py",
   "mimetype": "text/x-python",
   "name": "python",
   "nbconvert_exporter": "python",
   "pygments_lexer": "ipython3",
   "version": "3.7.6"
  }
 },
 "nbformat": 4,
 "nbformat_minor": 2
}
