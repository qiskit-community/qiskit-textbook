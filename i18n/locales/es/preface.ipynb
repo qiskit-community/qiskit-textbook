{
 "cells": [
  {
   "cell_type": "code",
   "execution_count": null,
   "metadata": {
    "tags": [
     "preface-cell",
     "preface-title"
    ]
   },
   "outputs": [],
   "source": [
    "<title>Aprende Computación Cuántica usando Qiskit</title>\n",
    "<div class=\"preface-top\">\n",
    "    <div class=\"preface-checker-pattern\"></div>\n",
    "<div class=\"preface-summary\">\n",
    "  <aside class=\"preface-summary-image\"><img src=\"images/preface_illustration_2.svg\"></aside>\n",
    "  <div class=\"preface-summary-text\">\n",
    "     <p>\n",
    "      ¡Saludos del equipo de la Comunidad Qiskit! Este libro de texto es un suplemento del curso universitario de algoritmos/computación cuántica basado en Qiskit para ayudar a aprender:</p>\n",
    "      <ol>\n",
    "          <li>Las matemáticas detrás de los algoritmos cuánticos</li>\n",
    "          <li>Detalles sobre los dispositivos cuánticos actuales no tolerantes a fallos</li>\n",
    "          <li>Escribir código en Qiskit para implementar algoritmos cuánticos en los sistemas cuánticos en la nube de IBM</li>\n",
    "      </ol>\n",
    "</div>\n",
    "    <a href=\"https://qiskit.org/textbook/ch-states/introduction.html\"><button class=\"preface-button read-textbook\">Read the textbook <span class=\"rangle\"><img src=\"/textbook/assets/images/rightarrow.svg\"></span></button></a>\n",
    "</div>"
   ]
  },
  {
   "cell_type": "code",
   "execution_count": null,
   "metadata": {
    "tags": [
     "preface-cell"
    ]
   },
   "outputs": [],
   "source": [
    "# Sobre el libro de texto\n",
    "\n",
    "<p>Este es un libro de texto digital gratuito que te enseñará los conceptos de la computación cuántica mientras aprendes a usar el SDK de Qiskit</p>\n",
    "\n",
    "## Ejecutar el código en línea\n",
    "\n",
    "<p>Este libro de texto está construido sobre framework de Jupyter que permite una lectura fácil, pero también permite a los lectores editar y ejecutar el código directamente en el libro de texto. Los capítulos también pueden abrirse como cuadernos Jupyter en <a href=\"https://quantum-computing.ibm.com/jupyter\">IBM Quantum Experience</a>, ¡sin necesidad de instalaciones!</p>"
   ]
  },
  {
   "cell_type": "code",
   "execution_count": null,
   "metadata": {
    "tags": [
     "preface-code-cell"
    ]
   },
   "outputs": [],
   "source": [
    "# Haga clic en \"try\" y luego en \"run\" para ver el resultado,\n",
    "# puedes cambiar el código y ejecutarlo de nuevo.\n",
    "print(\"Este código funciona!\")\n",
    "from qiskit import QuantumCircuit\n",
    "qc = QuantumCircuit(2) # Crear un circuito con 2 qubits\n",
    "qc.h(0)    # Haz la puerta H en q0\n",
    "qc.cx(0,1) # Haz CNOT en q1 controlado por q0\n",
    "qc.measure_all()\n",
    "qc.draw()"
   ]
  },
  {
   "cell_type": "markdown",
   "metadata": {
    "tags": [
     "preface-cell"
    ]
   },
   "source": [
    "<a href=\"https://qiskit.org/textbook/widgets-index.html\"><button class=\"preface-button\">Tour Interactivo<span class=\"rangle\"><img src=\"/textbook/assets/images/rightarrow.svg\"></span></button></a>\n",
    "\n",
    "## Aprende con sistemas cuánticos reales\n",
    "\n",
    "<p>La mejor manera de aprender es programando. Qiskit permite a los usuarios realizar experimentos en dispositivos cuánticos de última generación desde la comodidad de sus hogares. El libro de texto enseña no sólo la informática cuántica teórica, sino la física cuántica experimental que realiza.</p>\n",
    "\n",
    "<img src=\"images/preface-hw-example.png\" class=\"preface-image\">\n",
    "\n",
    "<a href=\"https://qiskit.org/textbook/ch-quantum-hardware/accessing_higher_energy_states.html\"><button class=\"preface-button\">Ver ejemplo: Acceso a los Estados de Nivel Superior<span class=\"rangle\"><img src=\"/textbook/assets/images/rightarrow.svg\"></span></button></a>\n",
    "\n",
    "# Uso del libro de texto\n",
    "\n",
    "<p>Si estás leyendo el libro de texto de forma independiente, no tienes que leerlo todo en orden, pero te recomendamos que leas primero los capítulos 1 al 3.</p>\n",
    "\n",
    "## Integración Curricular\n",
    "\n",
    "<p> El libro de texto puede seguirse como un curso independiente, sin embargo, ha sido diseñado para acompañar un curso universitario tradicional. El libro de texto muestra a los estudiantes cómo utilizar Qiskit para experimentar con algoritmos y hardware cuánticos, y lo utiliza para reforzar su comprensión.\n",
    "</p>\n",
    "\n",
    "<img src=\"images/curriculum.svg\" class=\"preface-image\">\n",
    "\n",
    "## Utiliza el libro de texto en tu curso\n",
    "\n",
    "Si utilizas el libro de texto Qiskit en tu curso, puede unirte al Programa de Educadores de IBM Quantum. El Programa proporciona:\n",
    "\n",
    "<ul class=\"preface-list\">\n",
    "<li> La posibilidad de reservar tiempo para el acceso prioritario a nuestros sistemas abiertos para demostraciones en clase</li>\n",
    "<li> Acceso a sistemas premium adicionales más allá de nuestros sistemas abiertos</li>\n",
    "<li> Acceso a un sistema de 5 qubits con control total de microondas mediante Qiskit Pulse</li>\n",
    "</ul>\n",
    "    \n",
    "<a href=\"https://quantum-computing.ibm.com/programs/educators\"><button class=\"preface-button\">Inscríbete en el Programa de Educadores Quantum de IBM<span class=\"rangle\"><img src=\"/textbook/assets/images/rightarrow.svg\"></span></button></a>\n",
    "\n",
    "# Contacto\n",
    "\n",
    "<p> Si tienes alguna pregunta o sugerencia sobre el libro de texto o quieres incorporarlo a tu plan de estudios, ponte en contacto con Frank Harkins <a href=\"mailto:Francis.Harkins@ibm.com\">(Francis.Harkins@ibm.com)</a>. En la verdadera voluntad del código abierto, cualquier contribución al capítulo es bienvenida en este repositorio de GitHub.</p>\n",
    "    \n",
    "# Colaboradores\n",
    "\n",
    "<p> Aprender Computación Cuántica con Qiskit es el trabajo de varias personas. Si lo utilizas en tu trabajo, cítalo utilizando <a href=\"https://github.com/qiskit-community/qiskit-textbook/blob/master/content/qiskit-textbook.bib\">este archivo bib</a> o directamente como:</p>\n",
    "<p><i>\n",
    "Abraham Asfaw, Luciano Bello, Yael Ben-Haim, Mehdi Bozzo-Rey, Sergey Bravyi, Nicholas Bronn, Lauren Capelluto, Almudena Carrera Vazquez, Jack Ceroni, Richard Chen, Albert Frisch, Jay Gambetta, Shelly Garion, Leron Gil, Salvador De La Puente Gonzalez, Francis Harkins, Takashi Imamichi, Hwajung Kang, Amir h. Karamlou, Robert Loredo, David McKay, Antonio Mezzacapo, Zlatko Minev, Ramis Movassagh, Giacomo Nannicni, Paul Nation, Anna Phan, Marco Pistoia, Arthur Rattew, Joachim Schaefer, Javad Shabani, John Smolin, John Stenger, Kristan Temme, Madeleine Tod, Stephen Wood, James Wootton.</i></p>\n",
    "\n",
    "# Lista de colaboradores de la traducción al Español\n",
    "\n",
    "<p>\"Aprender Computación Cuántica con Qiskit\" ha sido traducido al español por los siguientes miembros.</p>\n",
    "<p><i>\n",
    "Manuel S. Lemos\n",
    "</i></p>"
   ]
  },
  {
   "cell_type": "code",
   "execution_count": null,
   "metadata": {},
   "outputs": [],
   "source": []
  }
 ],
 "metadata": {
  "kernelspec": {
   "display_name": "Python 3",
   "language": "python",
   "name": "python3"
  },
  "language_info": {
   "codemirror_mode": {
    "name": "ipython",
    "version": 3
   },
   "file_extension": ".py",
   "mimetype": "text/x-python",
   "name": "python",
   "nbconvert_exporter": "python",
   "pygments_lexer": "ipython3",
   "version": "3.7.7"
  }
 },
 "nbformat": 4,
 "nbformat_minor": 4
}